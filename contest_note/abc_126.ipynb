{
 "cells": [
  {
   "cell_type": "markdown",
   "metadata": {},
   "source": [
    "# A\n",
    "\n",
    "https://atcoder.jp/contests/abc126/tasks/abc126_a"
   ]
  },
  {
   "cell_type": "code",
   "execution_count": 1,
   "metadata": {},
   "outputs": [],
   "source": [
    "N, K = 3, 1\n",
    "S = 'ABC'"
   ]
  },
  {
   "cell_type": "code",
   "execution_count": 3,
   "metadata": {},
   "outputs": [
    {
     "name": "stdout",
     "output_type": "stream",
     "text": [
      "aBC\n"
     ]
    }
   ],
   "source": [
    "print(S[:K - 1] + S[K - 1].lower() + S[K:])"
   ]
  },
  {
   "cell_type": "markdown",
   "metadata": {},
   "source": [
    "# B"
   ]
  },
  {
   "cell_type": "code",
   "execution_count": 4,
   "metadata": {},
   "outputs": [],
   "source": [
    "S = '1905'"
   ]
  },
  {
   "cell_type": "code",
   "execution_count": 5,
   "metadata": {},
   "outputs": [],
   "source": [
    "flg1 = 1 <= int(S[:2]) <= 12\n",
    "flg2 = 1 <= int(S[2:]) <= 12\n",
    "\n",
    "if flg1 and flg2:\n",
    "    print('AMBIGUOUS')\n",
    "elif flg1 and not flg2:\n",
    "    print('MMYY')\n",
    "elif not flg1 and flg2:\n",
    "    print('YYMM')\n",
    "else:\n",
    "    print('NA')"
   ]
  },
  {
   "cell_type": "markdown",
   "metadata": {},
   "source": [
    "# C"
   ]
  },
  {
   "cell_type": "code",
   "execution_count": 7,
   "metadata": {},
   "outputs": [],
   "source": [
    "N, K = 3, 10"
   ]
  },
  {
   "cell_type": "code",
   "execution_count": 15,
   "metadata": {},
   "outputs": [
    {
     "name": "stdout",
     "output_type": "stream",
     "text": [
      "0.14583333333333334\n"
     ]
    }
   ],
   "source": [
    "coin = [0] * N\n",
    "for i in range(len(coin)):\n",
    "    cnt = 0\n",
    "    v = i + 1\n",
    "    while v < K:\n",
    "        cnt += 1\n",
    "        v *= 2\n",
    "    coin[i] = cnt\n",
    "    \n",
    "ans = 0\n",
    "for v in coin:\n",
    "    ans += 0.5 ** v\n",
    "print(ans / N)"
   ]
  },
  {
   "cell_type": "code",
   "execution_count": 16,
   "metadata": {},
   "outputs": [
    {
     "data": {
      "text/plain": [
       "[4, 3, 2]"
      ]
     },
     "execution_count": 16,
     "metadata": {},
     "output_type": "execute_result"
    }
   ],
   "source": [
    "coin"
   ]
  },
  {
   "cell_type": "markdown",
   "metadata": {},
   "source": [
    "# D"
   ]
  },
  {
   "cell_type": "code",
   "execution_count": 26,
   "metadata": {},
   "outputs": [
    {
     "name": "stdout",
     "output_type": "stream",
     "text": [
      "0, 0, 1\n"
     ]
    }
   ],
   "source": [
    "N = 3\n",
    "edges = [[1, 2, 2], [2, 3, 1]]\n",
    "\n",
    "print('0, 0, 1')"
   ]
  },
  {
   "cell_type": "code",
   "execution_count": 27,
   "metadata": {},
   "outputs": [],
   "source": [
    "graph = [[] for _ in range(N + 1)]\n",
    "for u, v, w in edges:\n",
    "    graph[u].append((v, w))\n",
    "    graph[v].append((u, w))"
   ]
  },
  {
   "cell_type": "code",
   "execution_count": 29,
   "metadata": {},
   "outputs": [
    {
     "data": {
      "text/plain": [
       "[[], [(2, 2)], [(1, 2), (3, 1)], [(2, 1)]]"
      ]
     },
     "execution_count": 29,
     "metadata": {},
     "output_type": "execute_result"
    }
   ],
   "source": [
    "graph"
   ]
  },
  {
   "cell_type": "code",
   "execution_count": 30,
   "metadata": {},
   "outputs": [
    {
     "name": "stdout",
     "output_type": "stream",
     "text": [
      "0\n",
      "0\n",
      "1\n"
     ]
    }
   ],
   "source": [
    "edges.sort()\n",
    "color = [-1] * (N + 1)\n",
    "color[1] = 0\n",
    "que = [1]\n",
    "\n",
    "while que:\n",
    "    u = que.pop()\n",
    "    \n",
    "    for v, w in graph[u]:\n",
    "        if color[v] != -1:\n",
    "            continue\n",
    "\n",
    "        if w % 2 == 0:\n",
    "            color[v] = color[u]\n",
    "        else:\n",
    "            color[v] = color[u] ^ 1\n",
    "            \n",
    "        que.append(v)\n",
    "        \n",
    "print(*color[1:], sep='\\n')"
   ]
  },
  {
   "cell_type": "markdown",
   "metadata": {},
   "source": [
    "# E"
   ]
  },
  {
   "cell_type": "code",
   "execution_count": 1,
   "metadata": {},
   "outputs": [
    {
     "name": "stdout",
     "output_type": "stream",
     "text": [
      "2\n"
     ]
    }
   ],
   "source": [
    "N, M = 3, 1\n",
    "edges = [[1, 2, 1]]\n",
    "\n",
    "print('2')"
   ]
  },
  {
   "cell_type": "code",
   "execution_count": 33,
   "metadata": {},
   "outputs": [
    {
     "name": "stdout",
     "output_type": "stream",
     "text": [
      "2\n"
     ]
    }
   ],
   "source": [
    "N, M = 6, 5\n",
    "edges = [[1, 2, 1], [2, 3, 2], [1, 3, 3], [4, 5, 4], [5, 6, 5]]\n",
    "\n",
    "print('2')"
   ]
  },
  {
   "cell_type": "code",
   "execution_count": 38,
   "metadata": {},
   "outputs": [],
   "source": [
    "class UnionFind:\n",
    "    def __init__(self, n):\n",
    "        self.par = list(range(n))\n",
    "        \n",
    "    def find(self, x):\n",
    "        if self.par[x] == x:\n",
    "            return x\n",
    "        else:\n",
    "            self.par[x] = self.find(self.par[x])\n",
    "            return self.par[x]\n",
    "        \n",
    "    def unite(self, x, y):\n",
    "        x = self.find(x)\n",
    "        y = self.find(y)\n",
    "        if x == y:\n",
    "            return\n",
    "\n",
    "        self.par[y] = x"
   ]
  },
  {
   "cell_type": "code",
   "execution_count": 39,
   "metadata": {},
   "outputs": [
    {
     "name": "stdout",
     "output_type": "stream",
     "text": [
      "2\n"
     ]
    }
   ],
   "source": [
    "t = UnionFind(N)\n",
    "for u, v, _ in edges:\n",
    "    t.unite(u - 1, v - 1)\n",
    "        \n",
    "print(len(set(t.find(x) for x in range(N))))"
   ]
  },
  {
   "cell_type": "code",
   "execution_count": 36,
   "metadata": {},
   "outputs": [
    {
     "data": {
      "text/plain": [
       "[0, 0, 0, 3, 3, 3]"
      ]
     },
     "execution_count": 36,
     "metadata": {},
     "output_type": "execute_result"
    }
   ],
   "source": [
    "t.get_par()"
   ]
  },
  {
   "cell_type": "markdown",
   "metadata": {},
   "source": [
    "# F"
   ]
  },
  {
   "cell_type": "code",
   "execution_count": 59,
   "metadata": {},
   "outputs": [
    {
     "name": "stdout",
     "output_type": "stream",
     "text": [
      "0 0 1 1\n"
     ]
    }
   ],
   "source": [
    "M, K = 3, 4\n",
    "\n",
    "print(0, 0, 1, 1)"
   ]
  },
  {
   "cell_type": "code",
   "execution_count": 63,
   "metadata": {},
   "outputs": [
    {
     "name": "stdout",
     "output_type": "stream",
     "text": [
      "0 1 2 3 5 6 7 4 7 6 5 3 2 1 0 4\n"
     ]
    }
   ],
   "source": [
    "if K == 0:\n",
    "    ans = []\n",
    "    for i in range(2 ** M):\n",
    "        ans += [i, i]\n",
    "    print(*ans)\n",
    "elif M >= 2 and K < 2 ** M:\n",
    "    b = list(range(2 ** M))\n",
    "    b.remove(K)\n",
    "    print(*(b + [K] + b[::-1] + [K]))\n",
    "else:\n",
    "    print(-1)"
   ]
  },
  {
   "cell_type": "markdown",
   "metadata": {},
   "source": [
    "排他的論理和の確認\n",
    "\n",
    "0 ~ 2^x-1までの排他的論理和は0になる．"
   ]
  },
  {
   "cell_type": "code",
   "execution_count": 69,
   "metadata": {},
   "outputs": [
    {
     "name": "stdout",
     "output_type": "stream",
     "text": [
      "0000\n",
      "0001\n",
      "0010\n",
      "0011\n",
      "0100\n",
      "0101\n",
      "0110\n",
      "0111\n",
      "1000\n",
      "1001\n",
      "1010\n",
      "1011\n",
      "1100\n",
      "1101\n",
      "1110\n",
      "1111\n",
      "0\n"
     ]
    }
   ],
   "source": [
    "v = 0\n",
    "for i in range(2 ** 4):\n",
    "    print('{:0>4b}'.format(i))\n",
    "    v ^= i\n",
    "print(v)"
   ]
  },
  {
   "cell_type": "code",
   "execution_count": null,
   "metadata": {},
   "outputs": [],
   "source": []
  }
 ],
 "metadata": {
  "kernelspec": {
   "display_name": "Python 3",
   "language": "python",
   "name": "python3"
  },
  "language_info": {
   "codemirror_mode": {
    "name": "ipython",
    "version": 3
   },
   "file_extension": ".py",
   "mimetype": "text/x-python",
   "name": "python",
   "nbconvert_exporter": "python",
   "pygments_lexer": "ipython3",
   "version": "3.7.3"
  }
 },
 "nbformat": 4,
 "nbformat_minor": 2
}
