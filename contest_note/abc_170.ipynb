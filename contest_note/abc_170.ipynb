{
 "cells": [
  {
   "cell_type": "markdown",
   "metadata": {},
   "source": [
    "# C"
   ]
  },
  {
   "cell_type": "code",
   "execution_count": 1,
   "metadata": {},
   "outputs": [
    {
     "name": "stdout",
     "output_type": "stream",
     "text": [
      "8\n"
     ]
    }
   ],
   "source": [
    "X, N = 6, 5\n",
    "P = [4, 7, 10, 6, 5]\n",
    "\n",
    "print(8)"
   ]
  },
  {
   "cell_type": "code",
   "execution_count": 3,
   "metadata": {},
   "outputs": [
    {
     "name": "stdout",
     "output_type": "stream",
     "text": [
      "8\n"
     ]
    }
   ],
   "source": [
    "p = set(P)\n",
    "diff = 100\n",
    "ans = 0\n",
    "for i in reversed(range(-1, 105)):\n",
    "    if i not in p and abs(i - X) <= diff:\n",
    "        ans = i\n",
    "        diff = abs(i - X)\n",
    "        \n",
    "print(ans)"
   ]
  },
  {
   "cell_type": "markdown",
   "metadata": {},
   "source": [
    "# D"
   ]
  },
  {
   "cell_type": "code",
   "execution_count": 1,
   "metadata": {},
   "outputs": [
    {
     "name": "stdout",
     "output_type": "stream",
     "text": [
      "3\n"
     ]
    }
   ],
   "source": [
    "N = 5\n",
    "A = [24, 11, 8, 3, 16]\n",
    "\n",
    "print(3)"
   ]
  },
  {
   "cell_type": "markdown",
   "metadata": {},
   "source": [
    "#### 綺麗だがTLE, $O(N \\sqrt N)$"
   ]
  },
  {
   "cell_type": "code",
   "execution_count": 25,
   "metadata": {},
   "outputs": [
    {
     "name": "stdout",
     "output_type": "stream",
     "text": [
      "3\n"
     ]
    }
   ],
   "source": [
    "ctr = Counter(A)\n",
    "memo = set()\n",
    "ans = 0\n",
    "\n",
    "for a in sorted(A):\n",
    "    if a == 1:\n",
    "        if ctr[a] == 1:\n",
    "            ans = 1\n",
    "        break\n",
    "\n",
    "    if ctr[a] == 1:\n",
    "        for i in range(1, int(a ** 0.5) + 1):\n",
    "            if a % i == 0 and ((i in memo) or (a // i in memo)):\n",
    "                break\n",
    "        else:\n",
    "            ans += 1\n",
    "\n",
    "    memo.add(a)\n",
    "\n",
    "print(ans)"
   ]
  },
  {
   "cell_type": "markdown",
   "metadata": {},
   "source": [
    "#### 正解 $O(N \\log N)$"
   ]
  },
  {
   "cell_type": "code",
   "execution_count": 2,
   "metadata": {},
   "outputs": [],
   "source": [
    "from collections import Counter"
   ]
  },
  {
   "cell_type": "code",
   "execution_count": 3,
   "metadata": {},
   "outputs": [
    {
     "name": "stdout",
     "output_type": "stream",
     "text": [
      "3\n"
     ]
    }
   ],
   "source": [
    "m = max(A) + 1\n",
    "ok = [True] * m\n",
    "ctr = Counter(A)\n",
    "ans = 0\n",
    "for a in sorted(A):\n",
    "    if ok[a] and ctr[a] == 1:\n",
    "        ans += 1\n",
    "        \n",
    "    for j in range(2 * a, m, a):\n",
    "        ok[j] = False\n",
    "            \n",
    "print(ans)"
   ]
  },
  {
   "cell_type": "markdown",
   "metadata": {},
   "source": [
    "# E"
   ]
  },
  {
   "cell_type": "code",
   "execution_count": 66,
   "metadata": {},
   "outputs": [
    {
     "name": "stdout",
     "output_type": "stream",
     "text": [
      "6 2 6\n"
     ]
    }
   ],
   "source": [
    "N, Q = 6, 3\n",
    "X = [[8, 1], [6, 2], [9, 3], [1, 1], [2, 2], [1, 3]]\n",
    "Y = [[4, 3], [2, 1], [1, 2]]\n",
    "\n",
    "print(6,2,6)"
   ]
  },
  {
   "cell_type": "code",
   "execution_count": null,
   "metadata": {},
   "outputs": [],
   "source": [
    "from collections import "
   ]
  },
  {
   "cell_type": "code",
   "execution_count": null,
   "metadata": {},
   "outputs": [],
   "source": []
  }
 ],
 "metadata": {
  "kernelspec": {
   "display_name": "Python 3",
   "language": "python",
   "name": "python3"
  },
  "language_info": {
   "codemirror_mode": {
    "name": "ipython",
    "version": 3
   },
   "file_extension": ".py",
   "mimetype": "text/x-python",
   "name": "python",
   "nbconvert_exporter": "python",
   "pygments_lexer": "ipython3",
   "version": "3.7.7"
  }
 },
 "nbformat": 4,
 "nbformat_minor": 4
}
