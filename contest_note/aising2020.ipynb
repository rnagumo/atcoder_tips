{
 "cells": [
  {
   "cell_type": "markdown",
   "metadata": {},
   "source": [
    "# C"
   ]
  },
  {
   "cell_type": "code",
   "execution_count": 14,
   "metadata": {},
   "outputs": [],
   "source": [
    "N = 20"
   ]
  },
  {
   "cell_type": "code",
   "execution_count": 5,
   "metadata": {},
   "outputs": [],
   "source": [
    "from collections import defaultdict"
   ]
  },
  {
   "cell_type": "code",
   "execution_count": 21,
   "metadata": {},
   "outputs": [],
   "source": [
    "ctr = defaultdict(int)\n",
    "for x in range(1, 100):\n",
    "    for y in range(1, 100):\n",
    "        for z in range(1, 100):\n",
    "            res = x**2 + y**2 + z**2 + x*y + y*z + z*x\n",
    "            ctr[res] += 1"
   ]
  },
  {
   "cell_type": "code",
   "execution_count": 24,
   "metadata": {},
   "outputs": [
    {
     "data": {
      "text/plain": [
       "10203"
      ]
     },
     "execution_count": 24,
     "metadata": {},
     "output_type": "execute_result"
    }
   ],
   "source": [
    "1+1+100**2+1+2*100"
   ]
  },
  {
   "cell_type": "markdown",
   "metadata": {},
   "source": [
    "# D"
   ]
  },
  {
   "cell_type": "code",
   "execution_count": 1,
   "metadata": {},
   "outputs": [
    {
     "name": "stdout",
     "output_type": "stream",
     "text": [
      "2 1 1\n"
     ]
    }
   ],
   "source": [
    "N = 3\n",
    "X = \"011\"\n",
    "\n",
    "print(2,1,1)"
   ]
  },
  {
   "cell_type": "code",
   "execution_count": 4,
   "metadata": {},
   "outputs": [],
   "source": [
    "N = 3\n",
    "X = \"001\""
   ]
  },
  {
   "cell_type": "code",
   "execution_count": 5,
   "metadata": {},
   "outputs": [],
   "source": [
    "cnt = X.count(\"1\")\n",
    "res0 = 0\n",
    "res1 = 0\n",
    "for i in range(N):\n",
    "    if X[i] == \"1\":\n",
    "        res0 = (res0 + pow(2, N - i - 1, cnt + 1)) % (cnt + 1)\n",
    "\n",
    "        if cnt - 1 > 0:\n",
    "            res1 = (res1 + pow(2, N - i - 1, cnt - 1)) % (cnt - 1)"
   ]
  },
  {
   "cell_type": "code",
   "execution_count": 6,
   "metadata": {},
   "outputs": [
    {
     "name": "stdout",
     "output_type": "stream",
     "text": [
      "2\n",
      "2\n",
      "0\n"
     ]
    }
   ],
   "source": [
    "for i in range(N):\n",
    "    ans = 0\n",
    "    if X[i] == \"0\":\n",
    "        div = cnt + 1\n",
    "        tmp = (res0 + pow(2, N - i - 1, div)) % div\n",
    "        ans += 1\n",
    "    else:\n",
    "        if cnt - 1 > 0:\n",
    "            div = cnt - 1\n",
    "            tmp = (res1 + div - pow(2, N - i - 1, div)) % div\n",
    "            ans += 1\n",
    "        else:\n",
    "            tmp = 0\n",
    "\n",
    "    while tmp > 0:\n",
    "        ans += 1\n",
    "        div = bin(tmp).count(\"1\")\n",
    "        tmp %= div\n",
    "\n",
    "    print(ans)"
   ]
  },
  {
   "cell_type": "code",
   "execution_count": null,
   "metadata": {},
   "outputs": [],
   "source": []
  }
 ],
 "metadata": {
  "kernelspec": {
   "display_name": "Python 3",
   "language": "python",
   "name": "python3"
  },
  "language_info": {
   "codemirror_mode": {
    "name": "ipython",
    "version": 3
   },
   "file_extension": ".py",
   "mimetype": "text/x-python",
   "name": "python",
   "nbconvert_exporter": "python",
   "pygments_lexer": "ipython3",
   "version": "3.7.7"
  }
 },
 "nbformat": 4,
 "nbformat_minor": 4
}
