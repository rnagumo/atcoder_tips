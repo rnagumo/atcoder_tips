{
 "cells": [
  {
   "cell_type": "markdown",
   "metadata": {},
   "source": [
    "# A"
   ]
  },
  {
   "cell_type": "code",
   "execution_count": 1,
   "metadata": {},
   "outputs": [],
   "source": [
    "A, B = 2, 5"
   ]
  },
  {
   "cell_type": "code",
   "execution_count": 2,
   "metadata": {},
   "outputs": [
    {
     "name": "stdout",
     "output_type": "stream",
     "text": [
      "10\n"
     ]
    }
   ],
   "source": [
    "if A < 10 and B < 10:\n",
    "    print(A * B)\n",
    "else:\n",
    "    print(-1)"
   ]
  },
  {
   "cell_type": "markdown",
   "metadata": {},
   "source": [
    "# B"
   ]
  },
  {
   "cell_type": "code",
   "execution_count": 20,
   "metadata": {},
   "outputs": [],
   "source": [
    "N = 10"
   ]
  },
  {
   "cell_type": "code",
   "execution_count": 21,
   "metadata": {},
   "outputs": [
    {
     "name": "stdout",
     "output_type": "stream",
     "text": [
      "Yes\n"
     ]
    }
   ],
   "source": [
    "for i in range(1, N + 1):\n",
    "    if N % i == 0 and i <= 9 and N // i <= 9:\n",
    "        print(\"Yes\")\n",
    "        break\n",
    "else:\n",
    "    print(\"No\")"
   ]
  },
  {
   "cell_type": "markdown",
   "metadata": {},
   "source": [
    "# C"
   ]
  },
  {
   "cell_type": "code",
   "execution_count": 10,
   "metadata": {},
   "outputs": [],
   "source": [
    "N = 10"
   ]
  },
  {
   "cell_type": "code",
   "execution_count": 13,
   "metadata": {},
   "outputs": [
    {
     "name": "stdout",
     "output_type": "stream",
     "text": [
      "5\n"
     ]
    }
   ],
   "source": [
    "ans = []\n",
    "for i in range(1, int(N ** 0.5) + 1):\n",
    "    if N % i == 0:\n",
    "        ans.append((i - 1) + (N // i - 1))\n",
    "\n",
    "print(min(ans))"
   ]
  },
  {
   "cell_type": "code",
   "execution_count": 14,
   "metadata": {},
   "outputs": [
    {
     "data": {
      "text/plain": [
       "[9, 5]"
      ]
     },
     "execution_count": 14,
     "metadata": {},
     "output_type": "execute_result"
    }
   ],
   "source": [
    "ans"
   ]
  },
  {
   "cell_type": "markdown",
   "metadata": {},
   "source": [
    "# D"
   ]
  },
  {
   "cell_type": "code",
   "execution_count": 50,
   "metadata": {},
   "outputs": [
    {
     "name": "stdout",
     "output_type": "stream",
     "text": [
      "45.0\n"
     ]
    }
   ],
   "source": [
    "a, b, x = 2, 2, 4\n",
    "\n",
    "print(45.0)"
   ]
  },
  {
   "cell_type": "code",
   "execution_count": 54,
   "metadata": {},
   "outputs": [],
   "source": [
    "a, b, x = 12, 21, 10"
   ]
  },
  {
   "cell_type": "code",
   "execution_count": 52,
   "metadata": {},
   "outputs": [],
   "source": [
    "a, b, x = 3, 1, 8"
   ]
  },
  {
   "cell_type": "code",
   "execution_count": 57,
   "metadata": {},
   "outputs": [
    {
     "name": "stdout",
     "output_type": "stream",
     "text": [
      "89.78346369338755\n"
     ]
    }
   ],
   "source": [
    "from math import atan, pi\n",
    "\n",
    "if x > (a ** 2 * b / 2):\n",
    "    print(atan(2 * (a ** 2 * b - x) / a ** 3) * 180 / pi)\n",
    "else:\n",
    "    print(atan((a * b ** 2) / (2 * x)) * 180 / pi)"
   ]
  },
  {
   "cell_type": "markdown",
   "metadata": {},
   "source": [
    "# E"
   ]
  },
  {
   "cell_type": "code",
   "execution_count": 167,
   "metadata": {},
   "outputs": [
    {
     "name": "stdout",
     "output_type": "stream",
     "text": [
      "2\n"
     ]
    }
   ],
   "source": [
    "N, K = 3, 5\n",
    "A = [4, 2, 1]\n",
    "F = [2, 3, 1]\n",
    "\n",
    "print(2)"
   ]
  },
  {
   "cell_type": "code",
   "execution_count": 178,
   "metadata": {},
   "outputs": [
    {
     "name": "stdout",
     "output_type": "stream",
     "text": [
      "0\n"
     ]
    }
   ],
   "source": [
    "N, K = 3, 8\n",
    "A = [4, 2, 1]\n",
    "F = [2, 3, 1]\n",
    "\n",
    "print(0)"
   ]
  },
  {
   "cell_type": "code",
   "execution_count": 174,
   "metadata": {},
   "outputs": [
    {
     "name": "stdout",
     "output_type": "stream",
     "text": [
      "12\n"
     ]
    }
   ],
   "source": [
    "N, K = 11, 14\n",
    "A = [3, 1, 4, 1, 5, 9, 2, 6, 5, 3, 5]\n",
    "F = [8, 9, 7, 9, 3, 2, 3, 8, 4, 6, 2]\n",
    "\n",
    "print(12)"
   ]
  },
  {
   "cell_type": "markdown",
   "metadata": {},
   "source": [
    "#### 計算量が大き過ぎる．"
   ]
  },
  {
   "cell_type": "code",
   "execution_count": 134,
   "metadata": {},
   "outputs": [
    {
     "name": "stdout",
     "output_type": "stream",
     "text": [
      "12\n"
     ]
    }
   ],
   "source": [
    "from heapq import heappop, heappush\n",
    "\n",
    "A.sort()\n",
    "F.sort(reverse=True)\n",
    "\n",
    "pq = []\n",
    "for i in range(N):\n",
    "    heappush(pq, (-A[i] * F[i], F[i]))\n",
    "    \n",
    "for _ in range(K):\n",
    "    c, u = heappop(pq)\n",
    "    heappush(pq, (c + u, u))\n",
    "\n",
    "print(max(0, -min(v for v, _ in pq)))"
   ]
  },
  {
   "cell_type": "markdown",
   "metadata": {},
   "source": [
    "#### 模範解答"
   ]
  },
  {
   "cell_type": "code",
   "execution_count": 179,
   "metadata": {},
   "outputs": [],
   "source": [
    "def ok(x):\n",
    "    cnt = 0\n",
    "    for i in range(N):\n",
    "        current = A[i] * F[i]\n",
    "        if current > x:\n",
    "            cnt += -(-(current - x) // F[i])\n",
    "            \n",
    "    return cnt <= K"
   ]
  },
  {
   "cell_type": "code",
   "execution_count": 182,
   "metadata": {},
   "outputs": [
    {
     "name": "stdout",
     "output_type": "stream",
     "text": [
      "0\n"
     ]
    }
   ],
   "source": [
    "A.sort()\n",
    "F.sort(reverse=True)\n",
    "lb = 0\n",
    "ub = 10 ** 12 + 1\n",
    "\n",
    "while ub - lb > 1:\n",
    "    mid = (lb + ub) // 2\n",
    "    if ok(mid):\n",
    "        ub = mid\n",
    "    else:\n",
    "        lb = mid\n",
    "\n",
    "if sum(A) <= K:\n",
    "    print(0)\n",
    "else:\n",
    "    print(ub)"
   ]
  },
  {
   "cell_type": "code",
   "execution_count": null,
   "metadata": {},
   "outputs": [],
   "source": []
  },
  {
   "cell_type": "code",
   "execution_count": null,
   "metadata": {},
   "outputs": [],
   "source": []
  },
  {
   "cell_type": "code",
   "execution_count": null,
   "metadata": {},
   "outputs": [],
   "source": []
  }
 ],
 "metadata": {
  "kernelspec": {
   "display_name": "Python 3",
   "language": "python",
   "name": "python3"
  },
  "language_info": {
   "codemirror_mode": {
    "name": "ipython",
    "version": 3
   },
   "file_extension": ".py",
   "mimetype": "text/x-python",
   "name": "python",
   "nbconvert_exporter": "python",
   "pygments_lexer": "ipython3",
   "version": "3.7.3"
  }
 },
 "nbformat": 4,
 "nbformat_minor": 4
}
