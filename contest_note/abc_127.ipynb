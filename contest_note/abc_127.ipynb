{
 "cells": [
  {
   "cell_type": "markdown",
   "metadata": {},
   "source": [
    "# D"
   ]
  },
  {
   "cell_type": "code",
   "execution_count": 1,
   "metadata": {},
   "outputs": [
    {
     "name": "stdout",
     "output_type": "stream",
     "text": [
      "14\n"
     ]
    }
   ],
   "source": [
    "N, M = 3, 2\n",
    "A = [5, 1, 4]\n",
    "X = [[2, 3], [1, 5]]\n",
    "\n",
    "print('14')"
   ]
  },
  {
   "cell_type": "code",
   "execution_count": 19,
   "metadata": {},
   "outputs": [
    {
     "name": "stdout",
     "output_type": "stream",
     "text": [
      "14\n"
     ]
    }
   ],
   "source": [
    "A.sort()\n",
    "idx = 0\n",
    "\n",
    "for b, c in sorted(X, key=lambda x: -x[1]):\n",
    "    for j in range(idx, min(N, idx + b)):\n",
    "        if A[j] < c:\n",
    "            A[j] = c\n",
    "    idx += b\n",
    "print(sum(A))"
   ]
  },
  {
   "cell_type": "markdown",
   "metadata": {},
   "source": [
    "# E"
   ]
  },
  {
   "cell_type": "code",
   "execution_count": 20,
   "metadata": {},
   "outputs": [
    {
     "name": "stdout",
     "output_type": "stream",
     "text": [
      "8\n"
     ]
    }
   ],
   "source": [
    "N, M, K = 2, 2, 2\n",
    "MOD = 10 ** 9 + 7\n",
    "\n",
    "print(8)"
   ]
  },
  {
   "cell_type": "code",
   "execution_count": 21,
   "metadata": {},
   "outputs": [],
   "source": [
    "def comb(n, k):\n",
    "    ret = 1\n",
    "    for i in range(1, k + 1):\n",
    "        ret = ret * (n - i + 1) % MOD        \n",
    "        ret = ret * pow(i, MOD - 2, MOD) % MOD\n",
    "        \n",
    "    return ret"
   ]
  },
  {
   "cell_type": "code",
   "execution_count": 24,
   "metadata": {},
   "outputs": [
    {
     "name": "stdout",
     "output_type": "stream",
     "text": [
      "8\n"
     ]
    }
   ],
   "source": [
    "ans = 0\n",
    "for d in range(N):\n",
    "    ans += d * (N - d) * M ** 2\n",
    "    ans %= MOD\n",
    "    \n",
    "for d in range(M):\n",
    "    ans += d * (M - d) * N ** 2\n",
    "    ans %= MOD\n",
    "    \n",
    "print(ans * comb(N * M - 2, K - 2) % MOD)"
   ]
  },
  {
   "cell_type": "markdown",
   "metadata": {},
   "source": [
    "# F"
   ]
  },
  {
   "cell_type": "code",
   "execution_count": 27,
   "metadata": {},
   "outputs": [
    {
     "name": "stdout",
     "output_type": "stream",
     "text": [
      "ans: 4 2, 1 -3\n"
     ]
    }
   ],
   "source": [
    "Q = 4\n",
    "X = [[1, 4, 2], [2], [1, 1, -8], [2]]\n",
    "\n",
    "print('ans: 4 2, 1 -3')"
   ]
  },
  {
   "cell_type": "code",
   "execution_count": 32,
   "metadata": {},
   "outputs": [
    {
     "name": "stdout",
     "output_type": "stream",
     "text": [
      "4 2\n",
      "1 -3\n"
     ]
    }
   ],
   "source": [
    "from heapq import heappush, heappop\n",
    "\n",
    "left_q = []\n",
    "right_q = []\n",
    "q_sum = 0\n",
    "const = 0\n",
    "\n",
    "for q, *w in X:\n",
    "    if q == 1:\n",
    "        x, y = w\n",
    "        const += y\n",
    "        \n",
    "        if len(left_q) == 0 or x <= -left_q[0]:\n",
    "            heappush(left_q, -x)\n",
    "            q_sum += -left_q[0] - x\n",
    "        else:\n",
    "            heappush(right_q, x)\n",
    "            q_sum += left_q[0] + x\n",
    "            \n",
    "        if len(right_q) > len(left_q):\n",
    "            q_sum += -right_q[0] - left_q[0]\n",
    "            heappush(left_q, -heappop(right_q))\n",
    "        \n",
    "        if len(left_q) - len(right_q) == 2:\n",
    "            heappush(right_q, -heappop(left_q))\n",
    "    else:\n",
    "        print(-left_q[0], q_sum + const)"
   ]
  },
  {
   "cell_type": "code",
   "execution_count": null,
   "metadata": {},
   "outputs": [],
   "source": []
  },
  {
   "cell_type": "code",
   "execution_count": null,
   "metadata": {},
   "outputs": [],
   "source": []
  },
  {
   "cell_type": "code",
   "execution_count": null,
   "metadata": {},
   "outputs": [],
   "source": []
  },
  {
   "cell_type": "code",
   "execution_count": null,
   "metadata": {},
   "outputs": [],
   "source": []
  },
  {
   "cell_type": "code",
   "execution_count": null,
   "metadata": {},
   "outputs": [],
   "source": []
  },
  {
   "cell_type": "code",
   "execution_count": null,
   "metadata": {},
   "outputs": [],
   "source": []
  }
 ],
 "metadata": {
  "kernelspec": {
   "display_name": "Python 3",
   "language": "python",
   "name": "python3"
  },
  "language_info": {
   "codemirror_mode": {
    "name": "ipython",
    "version": 3
   },
   "file_extension": ".py",
   "mimetype": "text/x-python",
   "name": "python",
   "nbconvert_exporter": "python",
   "pygments_lexer": "ipython3",
   "version": "3.7.3"
  }
 },
 "nbformat": 4,
 "nbformat_minor": 2
}
