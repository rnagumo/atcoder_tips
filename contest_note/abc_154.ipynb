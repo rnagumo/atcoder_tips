{
 "cells": [
  {
   "cell_type": "markdown",
   "metadata": {},
   "source": [
    "# D"
   ]
  },
  {
   "cell_type": "code",
   "execution_count": 12,
   "metadata": {},
   "outputs": [
    {
     "name": "stdout",
     "output_type": "stream",
     "text": [
      "7.0\n"
     ]
    }
   ],
   "source": [
    "N, K = 5, 3\n",
    "P = [1, 2, 2, 4, 5]\n",
    "\n",
    "print(7.0)"
   ]
  },
  {
   "cell_type": "code",
   "execution_count": 21,
   "metadata": {},
   "outputs": [
    {
     "name": "stdout",
     "output_type": "stream",
     "text": [
      "7.0\n"
     ]
    }
   ],
   "source": [
    "N, K = 4, 1\n",
    "P = [6, 6, 6, 6]\n",
    "\n",
    "print(7.0)"
   ]
  },
  {
   "cell_type": "code",
   "execution_count": 22,
   "metadata": {},
   "outputs": [],
   "source": [
    "A = [0]\n",
    "for i in range(1, 1001):\n",
    "    A.append(A[-1] + i)\n",
    "    \n",
    "B = [0] + [A[i] / i for i in range(1, 1001)]"
   ]
  },
  {
   "cell_type": "code",
   "execution_count": 23,
   "metadata": {},
   "outputs": [
    {
     "data": {
      "text/plain": [
       "[3.5, 3.5, 3.5, 3.5]"
      ]
     },
     "execution_count": 23,
     "metadata": {},
     "output_type": "execute_result"
    }
   ],
   "source": [
    "Q = [B[p] for p in P]\n",
    "\n",
    "Q"
   ]
  },
  {
   "cell_type": "code",
   "execution_count": 24,
   "metadata": {},
   "outputs": [
    {
     "name": "stdout",
     "output_type": "stream",
     "text": [
      "3.5\n"
     ]
    }
   ],
   "source": [
    "ans = [sum(Q[:K])]\n",
    "for i in range(N - K):\n",
    "    ans.append(ans[-1] - Q[i] + Q[i + K])\n",
    "    \n",
    "print(max(ans))"
   ]
  },
  {
   "cell_type": "markdown",
   "metadata": {},
   "source": [
    "# E"
   ]
  },
  {
   "cell_type": "code",
   "execution_count": 42,
   "metadata": {},
   "outputs": [
    {
     "name": "stdout",
     "output_type": "stream",
     "text": [
      "19\n"
     ]
    }
   ],
   "source": [
    "N = 100\n",
    "K = 1\n",
    "\n",
    "print(19)"
   ]
  },
  {
   "cell_type": "code",
   "execution_count": 45,
   "metadata": {},
   "outputs": [
    {
     "name": "stdout",
     "output_type": "stream",
     "text": [
      "14\n"
     ]
    }
   ],
   "source": [
    "N = 25\n",
    "K = 2\n",
    "\n",
    "print(14)"
   ]
  },
  {
   "cell_type": "code",
   "execution_count": 47,
   "metadata": {},
   "outputs": [
    {
     "name": "stdout",
     "output_type": "stream",
     "text": [
      "937\n"
     ]
    }
   ],
   "source": [
    "N = 314159\n",
    "K = 2\n",
    "\n",
    "print(937)"
   ]
  },
  {
   "cell_type": "code",
   "execution_count": 48,
   "metadata": {},
   "outputs": [
    {
     "name": "stdout",
     "output_type": "stream",
     "text": [
      "[[0, 1, 0], [1, 2, 0]]\n",
      "[[0, 0, 1], [1, 12, 18]]\n",
      "[[0, 0, 0], [1, 21, 127]]\n",
      "[[0, 0, 0], [1, 30, 316]]\n",
      "[[0, 0, 0], [1, 39, 586]]\n",
      "[[0, 0, 0], [1, 48, 937]]\n",
      "937\n"
     ]
    }
   ],
   "source": [
    "X = str(N + 1)\n",
    "dp = [[[0] * (K + 1) for _ in range(2)] for _ in range(len(X) + 1)]\n",
    "dp[0][0][0] = 1\n",
    "\n",
    "for i in range(len(X)):\n",
    "    D = int(X[i])\n",
    "    for j in range(2):\n",
    "        for k in range(K + 1):\n",
    "            for d in range((9 if j == 1 else D) + 1):\n",
    "                if k + int(d != 0) <= K:\n",
    "                    dp[i + 1][j | (d < D)][k + int(d != 0)] += dp[i][j][k]\n",
    "\n",
    "print(dp[-1][-1][-1])"
   ]
  },
  {
   "cell_type": "markdown",
   "metadata": {},
   "source": [
    "# F\n",
    "\n",
    "回答例 https://atcoder.jp/contests/abc154/submissions/10003894"
   ]
  },
  {
   "cell_type": "code",
   "execution_count": 7,
   "metadata": {},
   "outputs": [
    {
     "name": "stdout",
     "output_type": "stream",
     "text": [
      "14\n"
     ]
    }
   ],
   "source": [
    "r1, c1, r2, c2 = 1, 1, 2, 2\n",
    "\n",
    "print(14)"
   ]
  },
  {
   "cell_type": "code",
   "execution_count": 15,
   "metadata": {},
   "outputs": [],
   "source": [
    "MAX = 2 * 10 ** 6 + 2\n",
    "MOD = 10 ** 9 + 7\n",
    "\n",
    "# Factorial\n",
    "fac = [0] * (MAX + 1)\n",
    "fac[0] = 1\n",
    "fac[1] = 1\n",
    "for i in range(2, MAX + 1):\n",
    "    fac[i] = fac[i - 1] * i % MOD\n",
    "    \n",
    "# Inverse factorial\n",
    "finv = [0] * (MAX + 1)\n",
    "finv[MAX] = pow(fac[MAX], MOD - 2, MOD)\n",
    "for i in reversed(range(1, MAX + 1)):\n",
    "    finv[i - 1] = finv[i] * i % MOD"
   ]
  },
  {
   "cell_type": "code",
   "execution_count": 17,
   "metadata": {},
   "outputs": [
    {
     "name": "stdout",
     "output_type": "stream",
     "text": [
      "14\n"
     ]
    }
   ],
   "source": [
    "def f(r, c):\n",
    "    return fac[r + c] * finv[r] * finv[c] % MOD\n",
    "\n",
    "ans = 0\n",
    "for i in range(c1, c2 + 1):\n",
    "    ans += f(r2, i + 1) - f(r1 - 1, i + 1)\n",
    "    ans %= MOD\n",
    "print(ans)"
   ]
  },
  {
   "cell_type": "code",
   "execution_count": 12,
   "metadata": {},
   "outputs": [
    {
     "name": "stdout",
     "output_type": "stream",
     "text": [
      "9\n"
     ]
    }
   ],
   "source": [
    "print((g(r2, c2) - g(r1 - 1, c1 - 1)) % MOD)"
   ]
  },
  {
   "cell_type": "code",
   "execution_count": null,
   "metadata": {},
   "outputs": [],
   "source": []
  },
  {
   "cell_type": "code",
   "execution_count": null,
   "metadata": {},
   "outputs": [],
   "source": []
  }
 ],
 "metadata": {
  "kernelspec": {
   "display_name": "Python 3",
   "language": "python",
   "name": "python3"
  },
  "language_info": {
   "codemirror_mode": {
    "name": "ipython",
    "version": 3
   },
   "file_extension": ".py",
   "mimetype": "text/x-python",
   "name": "python",
   "nbconvert_exporter": "python",
   "pygments_lexer": "ipython3",
   "version": "3.7.3"
  }
 },
 "nbformat": 4,
 "nbformat_minor": 4
}
