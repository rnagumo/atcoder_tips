{
 "cells": [
  {
   "cell_type": "markdown",
   "metadata": {},
   "source": [
    "# A"
   ]
  },
  {
   "cell_type": "code",
   "execution_count": 38,
   "metadata": {},
   "outputs": [
    {
     "name": "stdout",
     "output_type": "stream",
     "text": [
      "1000000\n"
     ]
    }
   ],
   "source": [
    "X, Y = 1, 1\n",
    "\n",
    "print(1000000)"
   ]
  },
  {
   "cell_type": "code",
   "execution_count": 8,
   "metadata": {},
   "outputs": [],
   "source": [
    "def ctr(n):\n",
    "    if n == 1:\n",
    "        return 300000\n",
    "    elif n == 2:\n",
    "        return 200000\n",
    "    elif n == 3:\n",
    "        return 100000\n",
    "    else:\n",
    "        return 0"
   ]
  },
  {
   "cell_type": "code",
   "execution_count": 9,
   "metadata": {},
   "outputs": [
    {
     "name": "stdout",
     "output_type": "stream",
     "text": [
      "1000000\n"
     ]
    }
   ],
   "source": [
    "ans = ctr(X) + ctr(Y)\n",
    "ans += 400000 if X == Y == 1 else 0\n",
    "print(ans)"
   ]
  },
  {
   "cell_type": "markdown",
   "metadata": {},
   "source": [
    "# B"
   ]
  },
  {
   "cell_type": "code",
   "execution_count": 55,
   "metadata": {},
   "outputs": [
    {
     "name": "stdout",
     "output_type": "stream",
     "text": [
      "3\n"
     ]
    }
   ],
   "source": [
    "N = 3\n",
    "A = [2, 4, 3]\n",
    "\n",
    "print(3)"
   ]
  },
  {
   "cell_type": "code",
   "execution_count": 58,
   "metadata": {},
   "outputs": [
    {
     "name": "stdout",
     "output_type": "stream",
     "text": [
      "1\n"
     ]
    }
   ],
   "source": [
    "N = 4\n",
    "A = [2, 4, 3, 4]\n",
    "\n",
    "print(1)"
   ]
  },
  {
   "cell_type": "code",
   "execution_count": 60,
   "metadata": {},
   "outputs": [
    {
     "name": "stdout",
     "output_type": "stream",
     "text": [
      "0\n"
     ]
    }
   ],
   "source": [
    "N = 5\n",
    "A = [1, 1, 1, 1, 4]\n",
    "\n",
    "print(0)"
   ]
  },
  {
   "cell_type": "code",
   "execution_count": 77,
   "metadata": {},
   "outputs": [
    {
     "name": "stdout",
     "output_type": "stream",
     "text": [
      "2\n"
     ]
    }
   ],
   "source": [
    "N = 5\n",
    "A = [1, 5, 5, 1, 2]\n",
    "\n",
    "print(2)"
   ]
  },
  {
   "cell_type": "code",
   "execution_count": 78,
   "metadata": {},
   "outputs": [
    {
     "name": "stdout",
     "output_type": "stream",
     "text": [
      "2\n"
     ]
    }
   ],
   "source": [
    "cnt = 0\n",
    "tgt = sum(A) // 2\n",
    "for i in range(N):\n",
    "    cnt += A[i]\n",
    "    if cnt >= tgt:\n",
    "        break\n",
    "        \n",
    "a1 = abs(cnt - sum(A[i + 1:]))\n",
    "a2 = abs((cnt - A[i]) - sum(A[i:]))\n",
    "print(min(a1, a2))"
   ]
  },
  {
   "cell_type": "markdown",
   "metadata": {},
   "source": [
    "# C"
   ]
  },
  {
   "cell_type": "code",
   "execution_count": 110,
   "metadata": {},
   "outputs": [
    {
     "name": "stdout",
     "output_type": "stream",
     "text": [
      "[[1, 2, 2], [1, 3, 4], [5, 5, 4]]\n"
     ]
    }
   ],
   "source": [
    "H, W, K = 3, 3, 5\n",
    "S = ['#.#', '.#.', '#.#']\n",
    "\n",
    "print([[1,2,2], [1,3,4], [5,5,4]])"
   ]
  },
  {
   "cell_type": "code",
   "execution_count": 113,
   "metadata": {},
   "outputs": [
    {
     "name": "stdout",
     "output_type": "stream",
     "text": [
      "[[1, 1, 1], [1, 1, 1], [2, 2, 3]]\n"
     ]
    }
   ],
   "source": [
    "H, W, K = 3, 3, 3\n",
    "S = ['...', '.#.', '#.#']\n",
    "\n",
    "print([[1,1,1], [1,1,1], [2,2,3]])"
   ]
  },
  {
   "cell_type": "code",
   "execution_count": 118,
   "metadata": {},
   "outputs": [
    {
     "name": "stdout",
     "output_type": "stream",
     "text": [
      "[[1, 1, 1], [1, 1, 1], [1, 1, 1], [2, 2, 3]]\n"
     ]
    }
   ],
   "source": [
    "H, W, K = 4, 3, 3\n",
    "S = ['...', '...', '.#.', '#.#']\n",
    "\n",
    "print([[1,1,1], [1,1,1], [1,1,1], [2,2,3]])"
   ]
  },
  {
   "cell_type": "code",
   "execution_count": 120,
   "metadata": {},
   "outputs": [
    {
     "name": "stdout",
     "output_type": "stream",
     "text": [
      "[[1, 1, 2], [1, 1, 2], [1, 1, 2], [3, 3, 3]]\n"
     ]
    }
   ],
   "source": [
    "H, W, K = 4, 3, 3\n",
    "S = ['...', '...', '.##', '..#']\n",
    "\n",
    "print([[1,1,2], [1,1,2], [1,1,2], [3,3,3]])"
   ]
  },
  {
   "cell_type": "code",
   "execution_count": 103,
   "metadata": {},
   "outputs": [],
   "source": [
    "H, W, K = 3, 7, 7\n",
    "S = ['#...#.#', '..#...#', '.#..#..']"
   ]
  },
  {
   "cell_type": "markdown",
   "metadata": {},
   "source": [
    "#### 解法2\n",
    "\n",
    "https://atcoder.jp/contests/ddcc2020-qual/submissions/8320839"
   ]
  },
  {
   "cell_type": "code",
   "execution_count": 1,
   "metadata": {},
   "outputs": [],
   "source": [
    "H, W, K = 3, 7, 7\n",
    "S = ['#...#.#', '..#...#', '.#..#..']"
   ]
  },
  {
   "cell_type": "code",
   "execution_count": 2,
   "metadata": {},
   "outputs": [],
   "source": [
    "def vertical_split(cl, cr, num):\n",
    "    # List of column index which include '#'\n",
    "    p = []\n",
    "    for i in range(cl, cr + 1):\n",
    "        for j in range(W):\n",
    "            if S[i - 1][j] == \"#\":\n",
    "                p.append(j + 1)\n",
    "                \n",
    "    p.sort()\n",
    "    col_split = len(p)\n",
    "    for i in range(col_split):\n",
    "        v1 = p[i - 1] + 1 if i >= 1 else 1\n",
    "        v2 = p[i] if i < col_split - 1 else W\n",
    "            \n",
    "        num += 1\n",
    "        for j in range(cl, cr + 1):\n",
    "            for k in range(v1, v2 + 1):\n",
    "                ans[j - 1][k - 1] = num\n",
    "                \n",
    "    return num"
   ]
  },
  {
   "cell_type": "code",
   "execution_count": 3,
   "metadata": {},
   "outputs": [
    {
     "name": "stdout",
     "output_type": "stream",
     "text": [
      "1 2 2 2 2 3 3\n",
      "4 4 4 5 5 5 5\n",
      "6 6 7 7 7 7 7\n"
     ]
    }
   ],
   "source": [
    "# List of row-index which include '#'\n",
    "vec = []\n",
    "for i in range(H):\n",
    "    if S[i].count(\"#\") > 0:\n",
    "        vec.append(i + 1)\n",
    "row_split = len(vec)\n",
    "\n",
    "# Solve\n",
    "num = 0\n",
    "ans = [[0] * W for _ in range(H)]\n",
    "for i in range(row_split):\n",
    "    # Step-1. Split horizontally\n",
    "    v1 = vec[i - 1] + 1 if i >= 1 else 1\n",
    "    v2 = vec[i] if i < row_split - 1 else H\n",
    "        \n",
    "    # Step-2. Split vertically\n",
    "    num = vertical_split(v1, v2, num)\n",
    "    \n",
    "# Show answer\n",
    "for v in ans:\n",
    "    print(*v)"
   ]
  },
  {
   "cell_type": "markdown",
   "metadata": {},
   "source": [
    "# D"
   ]
  },
  {
   "cell_type": "code",
   "execution_count": 5,
   "metadata": {},
   "outputs": [
    {
     "name": "stdout",
     "output_type": "stream",
     "text": [
      "3\n"
     ]
    }
   ],
   "source": [
    "M = 2\n",
    "d = [2, 9]\n",
    "c = [2, 1]\n",
    "\n",
    "print(3)"
   ]
  },
  {
   "cell_type": "code",
   "execution_count": 8,
   "metadata": {},
   "outputs": [
    {
     "name": "stdout",
     "output_type": "stream",
     "text": [
      "3\n"
     ]
    }
   ],
   "source": [
    "D = sum(c)\n",
    "S = 0\n",
    "for i in range(M):\n",
    "    S += d[i] * c[i]\n",
    "\n",
    "print(D - 1 + (S - 1) // 9)"
   ]
  }
 ],
 "metadata": {
  "kernelspec": {
   "display_name": "Python 3",
   "language": "python",
   "name": "python3"
  },
  "language_info": {
   "codemirror_mode": {
    "name": "ipython",
    "version": 3
   },
   "file_extension": ".py",
   "mimetype": "text/x-python",
   "name": "python",
   "nbconvert_exporter": "python",
   "pygments_lexer": "ipython3",
   "version": "3.7.3"
  }
 },
 "nbformat": 4,
 "nbformat_minor": 4
}
