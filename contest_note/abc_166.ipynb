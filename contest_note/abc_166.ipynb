{
 "cells": [
  {
   "cell_type": "markdown",
   "metadata": {},
   "source": [
    "# C"
   ]
  },
  {
   "cell_type": "code",
   "execution_count": 1,
   "metadata": {},
   "outputs": [
    {
     "name": "stdout",
     "output_type": "stream",
     "text": [
      "2\n"
     ]
    }
   ],
   "source": [
    "N, M = 4, 3\n",
    "H = [1, 2, 3, 4]\n",
    "X = [[1, 3], [2, 3], [2, 4]]\n",
    "\n",
    "print(2)"
   ]
  },
  {
   "cell_type": "code",
   "execution_count": 8,
   "metadata": {},
   "outputs": [],
   "source": [
    "graph = [[] for _ in range(N)]\n",
    "for a, b in X:\n",
    "    graph[a - 1].append(b - 1)\n",
    "    graph[b - 1].append(a - 1)"
   ]
  },
  {
   "cell_type": "code",
   "execution_count": 10,
   "metadata": {},
   "outputs": [
    {
     "name": "stdout",
     "output_type": "stream",
     "text": [
      "2\n"
     ]
    }
   ],
   "source": [
    "ans = [True] * N\n",
    "for u in range(N):\n",
    "    for v in graph[u]:\n",
    "        ans[u] &= H[u] > H[v]\n",
    "\n",
    "print(sum(ans))"
   ]
  },
  {
   "cell_type": "markdown",
   "metadata": {},
   "source": [
    "# D"
   ]
  },
  {
   "cell_type": "code",
   "execution_count": 86,
   "metadata": {},
   "outputs": [
    {
     "name": "stdout",
     "output_type": "stream",
     "text": [
      "2 -1\n"
     ]
    }
   ],
   "source": [
    "X = 33\n",
    "\n",
    "print(2, -1)"
   ]
  },
  {
   "cell_type": "code",
   "execution_count": 40,
   "metadata": {},
   "outputs": [],
   "source": [
    "divisor = []\n",
    "for i in range(1, int(X ** 0.5) + 1):\n",
    "    if X % i == 0:\n",
    "        divisor.append(i)\n",
    "        if i != X // i:\n",
    "            divisor.append(X // i)"
   ]
  },
  {
   "cell_type": "code",
   "execution_count": 66,
   "metadata": {},
   "outputs": [
    {
     "name": "stdout",
     "output_type": "stream",
     "text": [
      "1 -2\n"
     ]
    }
   ],
   "source": [
    "ok = False\n",
    "for d in divisor:\n",
    "    if ok:\n",
    "        break\n",
    "\n",
    "    for x in range(-1000, 1000):\n",
    "        v = x ** 5 - (x - d) ** 5\n",
    "        if v == X:\n",
    "            print(x, x - d)\n",
    "            ok = True\n",
    "            break"
   ]
  },
  {
   "cell_type": "markdown",
   "metadata": {},
   "source": [
    "普通に全探索"
   ]
  },
  {
   "cell_type": "code",
   "execution_count": 87,
   "metadata": {},
   "outputs": [
    {
     "name": "stdout",
     "output_type": "stream",
     "text": [
      "1 -2\n",
      "2 -1\n"
     ]
    }
   ],
   "source": [
    "for a in range(-200, 200):\n",
    "    for b in range(-200, 200):\n",
    "        if a ** 5 - b ** 5 == X:\n",
    "            print(a, b)"
   ]
  },
  {
   "cell_type": "markdown",
   "metadata": {},
   "source": [
    "# E"
   ]
  },
  {
   "cell_type": "code",
   "execution_count": 67,
   "metadata": {},
   "outputs": [
    {
     "name": "stdout",
     "output_type": "stream",
     "text": [
      "3\n"
     ]
    }
   ],
   "source": [
    "N = 6\n",
    "X = [2, 3, 3, 1, 3, 1]\n",
    "\n",
    "print(3)"
   ]
  },
  {
   "cell_type": "code",
   "execution_count": 77,
   "metadata": {},
   "outputs": [],
   "source": [
    "from collections import Counter"
   ]
  },
  {
   "cell_type": "code",
   "execution_count": 84,
   "metadata": {},
   "outputs": [
    {
     "name": "stdout",
     "output_type": "stream",
     "text": [
      "3\n"
     ]
    }
   ],
   "source": [
    "x = Counter([i + 1 + X[i] for i in range(N)])\n",
    "y = Counter([i + 1 - X[i] for i in range(N)])\n",
    "\n",
    "ans = 0\n",
    "for k, v in x.items():\n",
    "    ans += v * y[k]\n",
    "    \n",
    "print(ans)"
   ]
  },
  {
   "cell_type": "markdown",
   "metadata": {},
   "source": [
    "# F"
   ]
  },
  {
   "cell_type": "code",
   "execution_count": 1,
   "metadata": {},
   "outputs": [
    {
     "name": "stdout",
     "output_type": "stream",
     "text": [
      "Yes ['A', 'C']\n"
     ]
    }
   ],
   "source": [
    "N, A, B, C = 2, 1, 3, 0\n",
    "X = [\"AB\", \"AC\"]\n",
    "\n",
    "print(\"Yes\", [\"A\", \"C\"])"
   ]
  },
  {
   "cell_type": "code",
   "execution_count": 9,
   "metadata": {},
   "outputs": [],
   "source": [
    "def solve(x):\n",
    "    d = {\"A\": 0, \"B\": 1, \"C\": 2}\n",
    "    ans = []\n",
    "    for i in range(N):\n",
    "        u, v = X[i]\n",
    "        if x[d[u]] == x[d[v]] == 0:\n",
    "            return\n",
    "\n",
    "        if x[d[u]] < x[d[v]]:\n",
    "            x[d[u]] += 1\n",
    "            x[d[v]] -= 1\n",
    "            ans.append(u)\n",
    "        elif x[d[u]] > x[d[v]]:\n",
    "            x[d[u]] -= 1\n",
    "            x[d[v]] += 1\n",
    "            ans.append(v)\n",
    "        elif i < N - 1 and X[i] != X[i + 1]:\n",
    "            # x[d[u]] == x[d[v]] >= 1\n",
    "            if u in X[i + 1]:\n",
    "                x[d[u]] += 1\n",
    "                x[d[v]] -= 1\n",
    "                ans.append(u)\n",
    "            else:\n",
    "                x[d[u]] -= 1\n",
    "                x[d[v]] += 1\n",
    "                ans.append(v)\n",
    "        else:\n",
    "            x[d[u]] += 1\n",
    "            x[d[v]] -= 1\n",
    "            ans.append(u)\n",
    "\n",
    "        if x[d[u]] < 0 or x[d[v]] < 0:\n",
    "            return\n",
    "\n",
    "    return ans"
   ]
  },
  {
   "cell_type": "code",
   "execution_count": 10,
   "metadata": {},
   "outputs": [
    {
     "name": "stdout",
     "output_type": "stream",
     "text": [
      "Yes\n",
      "A\n",
      "C\n"
     ]
    }
   ],
   "source": [
    "ans = solve([A, B, C])\n",
    "if ans:\n",
    "    print(\"Yes\")\n",
    "    print(*ans, sep=\"\\n\")\n",
    "else:\n",
    "    print(\"No\")"
   ]
  },
  {
   "cell_type": "code",
   "execution_count": null,
   "metadata": {},
   "outputs": [],
   "source": []
  }
 ],
 "metadata": {
  "kernelspec": {
   "display_name": "Python 3",
   "language": "python",
   "name": "python3"
  },
  "language_info": {
   "codemirror_mode": {
    "name": "ipython",
    "version": 3
   },
   "file_extension": ".py",
   "mimetype": "text/x-python",
   "name": "python",
   "nbconvert_exporter": "python",
   "pygments_lexer": "ipython3",
   "version": "3.7.3"
  }
 },
 "nbformat": 4,
 "nbformat_minor": 4
}
