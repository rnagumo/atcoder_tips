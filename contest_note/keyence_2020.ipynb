{
 "cells": [
  {
   "cell_type": "markdown",
   "metadata": {},
   "source": [
    "# A"
   ]
  },
  {
   "cell_type": "code",
   "execution_count": 1,
   "metadata": {},
   "outputs": [],
   "source": [
    "H = 3\n",
    "W = 7\n",
    "N = 10"
   ]
  },
  {
   "cell_type": "code",
   "execution_count": 5,
   "metadata": {},
   "outputs": [
    {
     "name": "stdout",
     "output_type": "stream",
     "text": [
      "2\n"
     ]
    }
   ],
   "source": [
    "print(min(-(-N // H), -(-N // W)))"
   ]
  },
  {
   "cell_type": "markdown",
   "metadata": {},
   "source": [
    "# B"
   ]
  },
  {
   "cell_type": "code",
   "execution_count": 6,
   "metadata": {},
   "outputs": [
    {
     "name": "stdout",
     "output_type": "stream",
     "text": [
      "3\n"
     ]
    }
   ],
   "source": [
    "N = 4\n",
    "X = [[2, 4], [4, 3], [9, 3], [100, 5]]\n",
    "\n",
    "print(3)"
   ]
  },
  {
   "cell_type": "code",
   "execution_count": 10,
   "metadata": {},
   "outputs": [],
   "source": [
    "S = [[x - l, x + l] for x, l in X]\n",
    "S.sort(key=lambda x: x[1])"
   ]
  },
  {
   "cell_type": "code",
   "execution_count": 11,
   "metadata": {},
   "outputs": [
    {
     "data": {
      "text/plain": [
       "[[-2, 6], [1, 7], [6, 12], [95, 105]]"
      ]
     },
     "execution_count": 11,
     "metadata": {},
     "output_type": "execute_result"
    }
   ],
   "source": [
    "S"
   ]
  },
  {
   "cell_type": "code",
   "execution_count": 12,
   "metadata": {},
   "outputs": [
    {
     "name": "stdout",
     "output_type": "stream",
     "text": [
      "3\n"
     ]
    }
   ],
   "source": [
    "ans = 0\n",
    "tmp = -10 ** 12\n",
    "for x, y in S:\n",
    "    if tmp <= x:\n",
    "        ans += 1\n",
    "        tmp = y\n",
    "        \n",
    "print(ans)"
   ]
  },
  {
   "cell_type": "markdown",
   "metadata": {},
   "source": [
    "# C"
   ]
  },
  {
   "cell_type": "code",
   "execution_count": 19,
   "metadata": {},
   "outputs": [
    {
     "name": "stdout",
     "output_type": "stream",
     "text": [
      "1 2 3 4\n"
     ]
    }
   ],
   "source": [
    "N, K, S = 4, 2, 3\n",
    "\n",
    "print(1, 2, 3, 4)"
   ]
  },
  {
   "cell_type": "code",
   "execution_count": 21,
   "metadata": {},
   "outputs": [
    {
     "name": "stdout",
     "output_type": "stream",
     "text": [
      "3 3 1000000000 1000000000\n"
     ]
    }
   ],
   "source": [
    "fill = 10 ** 9 - 1 if S == 10 ** 9 else 10 ** 9\n",
    "ans = [S] * K + [fill] * (N - K)\n",
    "print(*ans)"
   ]
  },
  {
   "cell_type": "markdown",
   "metadata": {},
   "source": [
    "# D"
   ]
  },
  {
   "cell_type": "code",
   "execution_count": 1,
   "metadata": {},
   "outputs": [
    {
     "name": "stdout",
     "output_type": "stream",
     "text": [
      "1\n"
     ]
    }
   ],
   "source": [
    "N = 3\n",
    "A = [3, 4, 3]\n",
    "B = [3, 2, 3]\n",
    "\n",
    "print(1)"
   ]
  },
  {
   "cell_type": "code",
   "execution_count": 146,
   "metadata": {},
   "outputs": [
    {
     "data": {
      "text/plain": [
       "-1"
      ]
     },
     "execution_count": 146,
     "metadata": {},
     "output_type": "execute_result"
    }
   ],
   "source": [
    "N = 2\n",
    "A = [2, 1]\n",
    "B = [1, 2]\n",
    "-1"
   ]
  },
  {
   "cell_type": "code",
   "execution_count": 141,
   "metadata": {},
   "outputs": [
    {
     "name": "stdout",
     "output_type": "stream",
     "text": [
      "3\n"
     ]
    }
   ],
   "source": [
    "N = 5\n",
    "A = [4, 46, 6, 38, 43]\n",
    "B = [33, 15, 18, 27, 37]\n",
    "print(3)"
   ]
  },
  {
   "cell_type": "markdown",
   "metadata": {},
   "source": [
    "#### 部分的に正解な解答"
   ]
  },
  {
   "cell_type": "code",
   "execution_count": 2,
   "metadata": {},
   "outputs": [
    {
     "name": "stdout",
     "output_type": "stream",
     "text": [
      "[0, 0] [3, 3] [4, 2]\n",
      "[3, 3] [4, 2] [3, 3]\n",
      "prev, current\n",
      "- [2, 4] [3, 3] [3, 3]\n",
      "1\n"
     ]
    }
   ],
   "source": [
    "ans = 0\n",
    "prev_num = [0, 0]\n",
    "curr_num = [A[0], B[0]]\n",
    "for i in range(1, N):\n",
    "    next_num = [A[i], B[i]]\n",
    "    print(prev_num, curr_num, next_num)\n",
    "    \n",
    "    if prev_num[0] <= curr_num[0] <= next_num[0]:\n",
    "        prev_num = curr_num[:]\n",
    "        curr_num = next_num[:]\n",
    "        continue\n",
    "       \n",
    "    # Flip prev and current\n",
    "    if curr_num[1] <= prev_num[1]:\n",
    "        print(\"prev, current\")\n",
    "        prev_num, curr_num = curr_num[::-1], prev_num[::-1]\n",
    "        ans += 1\n",
    "\n",
    "    print(\"-\", prev_num, curr_num, next_num)\n",
    "    if prev_num[0] <= curr_num[0] <= next_num[0]:\n",
    "        prev_num = curr_num[:]\n",
    "        curr_num = next_num[:]\n",
    "        continue\n",
    "\n",
    "    # Flip current and next\n",
    "    if prev_num[0] <= next_num[1]:\n",
    "        print(\"current, next\")\n",
    "        curr_num, next_num = next_num[::-1], curr_num[::-1]\n",
    "        ans += 1\n",
    "\n",
    "    print(\"--\", prev_num, curr_num, next_num)\n",
    "    if prev_num[0] <= curr_num[0]:\n",
    "        if i == N - 1 and curr_num[0] > next_num[0]:\n",
    "            ans = -1\n",
    "            break\n",
    "        else:\n",
    "            prev_num = curr_num[:]\n",
    "            curr_num = next_num[:]\n",
    "        \n",
    "print(ans)"
   ]
  },
  {
   "cell_type": "markdown",
   "metadata": {},
   "source": [
    "#### 満点解答\n",
    "\n",
    "http://drken1215.hatenablog.com/entry/2020/01/19/025500"
   ]
  },
  {
   "cell_type": "code",
   "execution_count": 11,
   "metadata": {},
   "outputs": [
    {
     "name": "stdout",
     "output_type": "stream",
     "text": [
      "1\n"
     ]
    }
   ],
   "source": [
    "N = 3\n",
    "A = [3, 4, 3]\n",
    "B = [3, 2, 3]\n",
    "\n",
    "print(1)"
   ]
  },
  {
   "cell_type": "code",
   "execution_count": 32,
   "metadata": {},
   "outputs": [
    {
     "name": "stdout",
     "output_type": "stream",
     "text": [
      "1\n"
     ]
    }
   ],
   "source": [
    "INF = 1 << 20\n",
    "dp = [[INF] * 51 for _ in range(1 << N)]\n",
    "dp[0][0] = 0\n",
    "\n",
    "for bit in range(1 << N):\n",
    "    # 左詰めソートされている数\n",
    "    con = bin(bit).count(\"1\")\n",
    "\n",
    "    # bitに含まれないカード\n",
    "    ords = []\n",
    "    iters = con\n",
    "    for i in range(N):\n",
    "        if not (bit & (1 << i)):\n",
    "            ords.append([i, iters])\n",
    "            iters += 1\n",
    "\n",
    "    for s in range(51):\n",
    "        if dp[bit][s] >= INF:\n",
    "            continue\n",
    "\n",
    "        for p in ords:\n",
    "            # p[0]: 元々のindex, p[1]: dp[bit][s]の状態でのindex\n",
    "            # con: bitの中身の数（既に詰まっているindexの最後尾）\n",
    "            # |i-j|が偶数ならばA[i], 奇数ならばB[i]\n",
    "            ns = A[p[0]] if abs(p[0] - con) % 2 == 0 else B[p[0]]\n",
    "\n",
    "            # bitの中身がcon枚なので，bitに含まれないものはcon+1から順に詰める\n",
    "            # 新しく詰める値nsが，既に詰まっている値の最大値sよりも大きい場合，\n",
    "            # その値を後ろに詰める．\n",
    "            if ns >= s:\n",
    "                # 詰める時の最小の操作回数をdpで調べる．\n",
    "                dp[bit|(1 << p[0])][ns] = min(dp[bit|(1 << p[0])][ns],\n",
    "                                              dp[bit][s] + abs(con - p[1]))\n",
    "\n",
    "ans = min(dp[-1][s] for s in range(51))\n",
    "print(ans if ans < INF else -1)"
   ]
  },
  {
   "cell_type": "code",
   "execution_count": null,
   "metadata": {},
   "outputs": [],
   "source": []
  }
 ],
 "metadata": {
  "kernelspec": {
   "display_name": "Python 3",
   "language": "python",
   "name": "python3"
  },
  "language_info": {
   "codemirror_mode": {
    "name": "ipython",
    "version": 3
   },
   "file_extension": ".py",
   "mimetype": "text/x-python",
   "name": "python",
   "nbconvert_exporter": "python",
   "pygments_lexer": "ipython3",
   "version": "3.7.3"
  }
 },
 "nbformat": 4,
 "nbformat_minor": 4
}
