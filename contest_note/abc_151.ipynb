{
 "cells": [
  {
   "cell_type": "markdown",
   "metadata": {},
   "source": [
    "# A"
   ]
  },
  {
   "cell_type": "code",
   "execution_count": 1,
   "metadata": {},
   "outputs": [],
   "source": [
    "C = \"a\""
   ]
  },
  {
   "cell_type": "code",
   "execution_count": 3,
   "metadata": {},
   "outputs": [
    {
     "name": "stdout",
     "output_type": "stream",
     "text": [
      "b\n"
     ]
    }
   ],
   "source": [
    "print(chr(ord(C) + 1))"
   ]
  },
  {
   "cell_type": "markdown",
   "metadata": {},
   "source": [
    "# B"
   ]
  },
  {
   "cell_type": "code",
   "execution_count": 4,
   "metadata": {},
   "outputs": [
    {
     "name": "stdout",
     "output_type": "stream",
     "text": [
      "8\n"
     ]
    }
   ],
   "source": [
    "N, K, M = 5, 10, 7\n",
    "A = [8, 10, 3, 6]\n",
    "\n",
    "print(8)"
   ]
  },
  {
   "cell_type": "code",
   "execution_count": 6,
   "metadata": {},
   "outputs": [
    {
     "name": "stdout",
     "output_type": "stream",
     "text": [
      "8\n"
     ]
    }
   ],
   "source": [
    "ans = N * M - sum(A)\n",
    "if ans <= K:\n",
    "    print(max(0, ans))\n",
    "else:\n",
    "    print(-1)"
   ]
  },
  {
   "cell_type": "markdown",
   "metadata": {},
   "source": [
    "# C"
   ]
  },
  {
   "cell_type": "code",
   "execution_count": 28,
   "metadata": {},
   "outputs": [
    {
     "name": "stdout",
     "output_type": "stream",
     "text": [
      "2 2\n"
     ]
    }
   ],
   "source": [
    "N, M = 2, 5\n",
    "X = [['1', 'WA'], ['1', 'AC'], ['2', 'WA'], ['2', 'AC'], ['2', 'WA'], ['2', 'WA']]\n",
    "\n",
    "print(2, 2)"
   ]
  },
  {
   "cell_type": "code",
   "execution_count": 24,
   "metadata": {},
   "outputs": [
    {
     "name": "stdout",
     "output_type": "stream",
     "text": [
      "2 2\n"
     ]
    }
   ],
   "source": [
    "N, M = 2, 5\n",
    "X = [['1', 'WA'], ['1', 'AC'], ['2', 'WA'], ['2', 'WA'], ['2', 'WA'], ['2', 'WA']]\n",
    "\n",
    "print(2, 2)"
   ]
  },
  {
   "cell_type": "code",
   "execution_count": 29,
   "metadata": {},
   "outputs": [
    {
     "name": "stdout",
     "output_type": "stream",
     "text": [
      "2 2\n"
     ]
    }
   ],
   "source": [
    "acs = [False] * (N + 1)\n",
    "was = [0] * (N + 1)\n",
    "\n",
    "for p, s in X:\n",
    "    if s == \"AC\":\n",
    "        acs[int(p)] = True\n",
    "    elif not acs[int(p)]:\n",
    "        was[int(p)] += 1\n",
    "        \n",
    "was_cnt = 0\n",
    "for a, w in zip(acs, was):\n",
    "    if a:\n",
    "        was_cnt += w\n",
    "\n",
    "print(sum(acs), was_cnt)"
   ]
  },
  {
   "cell_type": "markdown",
   "metadata": {},
   "source": [
    "# D"
   ]
  },
  {
   "cell_type": "code",
   "execution_count": 1,
   "metadata": {},
   "outputs": [
    {
     "name": "stdout",
     "output_type": "stream",
     "text": [
      "4\n"
     ]
    }
   ],
   "source": [
    "H, W = 3, 3\n",
    "S = ['...', '...', '...']\n",
    "\n",
    "print(4)"
   ]
  },
  {
   "cell_type": "code",
   "execution_count": 9,
   "metadata": {},
   "outputs": [
    {
     "name": "stdout",
     "output_type": "stream",
     "text": [
      "10\n"
     ]
    }
   ],
   "source": [
    "H, W = 3, 5\n",
    "S = ['...#.', '.#.#.', '.#...']\n",
    "\n",
    "print(10)"
   ]
  },
  {
   "cell_type": "code",
   "execution_count": 10,
   "metadata": {},
   "outputs": [],
   "source": [
    "from collections import deque\n",
    "\n",
    "def solve(x, y):\n",
    "    offset = [(1, 0), (-1, 0), (0, 1), (0, -1)]\n",
    "    visited = [[-1] * W for _ in range(H)]\n",
    "    visited[y][x] = 0\n",
    "    \n",
    "    q = deque()\n",
    "    q.append((x, y))\n",
    "\n",
    "    while q:\n",
    "        x, y = q.popleft()\n",
    "\n",
    "        for u, v in offset:\n",
    "            if not (0 <= x + u < W) or not (0 <= y + v < H):\n",
    "                continue\n",
    "\n",
    "            if visited[y + v][x + u] > -1 or S[y + v][x + u] == \"#\":\n",
    "                continue\n",
    "\n",
    "            visited[y + v][x + u] = visited[y][x] + 1\n",
    "            q.append((x + u, y + v))\n",
    "            \n",
    "    return visited"
   ]
  },
  {
   "cell_type": "code",
   "execution_count": 11,
   "metadata": {},
   "outputs": [
    {
     "name": "stdout",
     "output_type": "stream",
     "text": [
      "10\n"
     ]
    }
   ],
   "source": [
    "ans = 0\n",
    "for y, ss in enumerate(S):\n",
    "    for x, s in enumerate(ss):\n",
    "        if s == \".\":\n",
    "            ans = max(ans, max(max(v) for v in solve(x, y)))\n",
    "\n",
    "print(ans)"
   ]
  },
  {
   "cell_type": "markdown",
   "metadata": {},
   "source": [
    "# E"
   ]
  },
  {
   "cell_type": "code",
   "execution_count": 31,
   "metadata": {},
   "outputs": [
    {
     "name": "stdout",
     "output_type": "stream",
     "text": [
      "11\n"
     ]
    }
   ],
   "source": [
    "N, K = 4, 2\n",
    "A = [1, 1, 3, 4]\n",
    "\n",
    "print(11)"
   ]
  },
  {
   "cell_type": "markdown",
   "metadata": {},
   "source": [
    "階乗，及び階乗の逆元"
   ]
  },
  {
   "cell_type": "code",
   "execution_count": 32,
   "metadata": {},
   "outputs": [],
   "source": [
    "MOD = 10 ** 9 + 7\n",
    "\n",
    "fac = [0] * (N + 1)\n",
    "fac[0] = 1\n",
    "fac[1] = 1\n",
    "for i in range(2, N + 1):\n",
    "    fac[i] = fac[i - 1] * i % MOD\n",
    "\n",
    "finv = [0] * (N + 1)\n",
    "finv[N] = pow(fac[N], MOD - 2, MOD)\n",
    "for i in reversed(range(1, N + 1)):\n",
    "    finv[i - 1] = finv[i] * i % MOD"
   ]
  },
  {
   "cell_type": "markdown",
   "metadata": {},
   "source": [
    "Combination"
   ]
  },
  {
   "cell_type": "code",
   "execution_count": 33,
   "metadata": {},
   "outputs": [],
   "source": [
    "def comb(n, k):\n",
    "    if n < k:\n",
    "        return 0\n",
    "    return fac[n] * finv[k] * finv[n - k] % MOD"
   ]
  },
  {
   "cell_type": "markdown",
   "metadata": {},
   "source": [
    "自分がmax, minそれぞれになる場合の数をかけて，足していく．"
   ]
  },
  {
   "cell_type": "code",
   "execution_count": 37,
   "metadata": {},
   "outputs": [
    {
     "name": "stdout",
     "output_type": "stream",
     "text": [
      "11\n"
     ]
    }
   ],
   "source": [
    "ans = 0\n",
    "for i, a in enumerate(sorted(A, reverse=True)):\n",
    "    ans += a * comb(N - i - 1, K - 1)\n",
    "    ans -= a * comb(i, K - 1)\n",
    "    ans %= MOD\n",
    "    \n",
    "print(ans)"
   ]
  },
  {
   "cell_type": "markdown",
   "metadata": {},
   "source": [
    "# F\n",
    "\n",
    "解答例) http://drken1215.hatenablog.com/entry/2020/01/12/224200"
   ]
  },
  {
   "cell_type": "markdown",
   "metadata": {},
   "source": [
    "#### 2次元ベクトル"
   ]
  },
  {
   "cell_type": "code",
   "execution_count": 2,
   "metadata": {},
   "outputs": [],
   "source": [
    "import math\n",
    "\n",
    "class Point:\n",
    "    def __init__(self, x, y):\n",
    "        self.x = x\n",
    "        self.y = y\n",
    "\n",
    "    def __repr__(self):\n",
    "        return f\"({self.x}, {self.y})\"\n",
    "    \n",
    "    def __add__(self, q):\n",
    "        if isinstance(q, Point):\n",
    "            return Point(self.x + q.x, self.y + q.y)\n",
    "        else:\n",
    "            return Point(self.x + q, self.y + q)\n",
    "    \n",
    "    def __sub__(self, q):\n",
    "        if isinstance(q, Point):\n",
    "            return Point(self.x - q.x, self.y - q.y)\n",
    "        else:\n",
    "            return Point(self.x - q, self.y - q)\n",
    "    \n",
    "    def __mul__(self, q):\n",
    "        if isinstance(q, Point):\n",
    "            return Point(self.x * q.x - self.y * q.y,\n",
    "                         self.x * q.y + self.y * q.x)\n",
    "        else:\n",
    "            return Point(self.x * q, self.y * q)\n",
    "        \n",
    "    def __truediv__(self, q):\n",
    "        if isinstance(q, Point):\n",
    "            return self * q.conj / q.norm\n",
    "        else:\n",
    "            return Point(self.x / q, self.y / q)\n",
    "    \n",
    "    @property\n",
    "    def conj(self):\n",
    "        return Point(self.x, -self.y)\n",
    "    \n",
    "    def rot(self, ang):\n",
    "        return Point(math.cos(ang) * self.x - math.sin(ang) * self.y,\n",
    "                     math.sin(ang) * self.x + math.cos(ang) * self.y)\n",
    "    \n",
    "    def rot90(self):\n",
    "        return Point(-self.y, self.x)\n",
    "    \n",
    "    def cross(self, q):\n",
    "        return self.x * q.y - self.y * q.x\n",
    "    \n",
    "    def dot(self, q):\n",
    "        return self.x * q.x + self.y * q.y\n",
    "    \n",
    "    @property\n",
    "    def norm(self):\n",
    "        return self.dot(self)\n",
    "\n",
    "    def __abs__(self):\n",
    "        return self.dot(self) ** 0.5"
   ]
  },
  {
   "cell_type": "markdown",
   "metadata": {},
   "source": [
    "#### 直線"
   ]
  },
  {
   "cell_type": "code",
   "execution_count": 29,
   "metadata": {},
   "outputs": [],
   "source": [
    "class Line:\n",
    "    def __init__(self, a, b):\n",
    "        if not isinstance(a, Point) or not isinstance(b, Point):\n",
    "            raise AttributeError(\"points should be instance of Point\")\n",
    "            \n",
    "        self.a = a\n",
    "        self.b = b\n",
    "        \n",
    "    def __repr__(self):\n",
    "        return f\"[{self.a}, {self.b}]\"\n",
    "    \n",
    "    def cross_point(self, l, eps=1e-12):\n",
    "        d = (self.b - self.a).cross(l.b - l.a)\n",
    "        if abs(d) < eps:\n",
    "            return Point(0, 0)\n",
    "        \n",
    "        return self.a + (self.b - self.a) * (l.b - l.a).cross(l.b - self.a) / d"
   ]
  },
  {
   "cell_type": "markdown",
   "metadata": {},
   "source": [
    "#### 3 点 a,b,c が同一直線上にあるかどうかを判定する"
   ]
  },
  {
   "cell_type": "code",
   "execution_count": 22,
   "metadata": {},
   "outputs": [],
   "source": [
    "def simple_ccw(a, b, c, eps=1e-12):\n",
    "    if (b - a).cross(c - a) > eps:\n",
    "        return 1\n",
    "    if (b - a).cross(c - a) < -eps:\n",
    "        return -1\n",
    "    return 0"
   ]
  },
  {
   "cell_type": "code",
   "execution_count": 9,
   "metadata": {},
   "outputs": [
    {
     "data": {
      "text/plain": [
       "0"
      ]
     },
     "execution_count": 9,
     "metadata": {},
     "output_type": "execute_result"
    }
   ],
   "source": [
    "a = Point(1, 1)\n",
    "b = Point(3, 3)\n",
    "c = Point(2, 2)\n",
    "\n",
    "simple_ccw(a, b, c)"
   ]
  },
  {
   "cell_type": "markdown",
   "metadata": {},
   "source": [
    "#### 外心を求める．"
   ]
  },
  {
   "cell_type": "code",
   "execution_count": 25,
   "metadata": {},
   "outputs": [],
   "source": [
    "def circum_center(a, b, c):\n",
    "    ab = Line((a + b) / 2, (a + b) / 2 + (a - b).rot90())\n",
    "    bc = Line((b + c) / 2, (b + c) / 2 + (b - c).rot90())\n",
    "    return ab.cross_point(bc)"
   ]
  },
  {
   "cell_type": "code",
   "execution_count": 26,
   "metadata": {},
   "outputs": [
    {
     "data": {
      "text/plain": [
       "(0, 0)"
      ]
     },
     "execution_count": 26,
     "metadata": {},
     "output_type": "execute_result"
    }
   ],
   "source": [
    "circum_center(a, b, c)"
   ]
  },
  {
   "cell_type": "markdown",
   "metadata": {},
   "source": [
    "## 解法"
   ]
  },
  {
   "cell_type": "code",
   "execution_count": 12,
   "metadata": {},
   "outputs": [
    {
     "name": "stdout",
     "output_type": "stream",
     "text": [
      "0.5\n"
     ]
    }
   ],
   "source": [
    "N = 2\n",
    "vecs = [Point(0, 0), Point(1, 0)]\n",
    "\n",
    "print(0.50)"
   ]
  },
  {
   "cell_type": "markdown",
   "metadata": {},
   "source": [
    "#### 円の中心の候補を求める．"
   ]
  },
  {
   "cell_type": "code",
   "execution_count": 14,
   "metadata": {},
   "outputs": [
    {
     "data": {
      "text/plain": [
       "[(0.5, 0.0)]"
      ]
     },
     "execution_count": 14,
     "metadata": {},
     "output_type": "execute_result"
    }
   ],
   "source": [
    "cand = []\n",
    "for i in range(N):\n",
    "    for j in range(i + 1, N):\n",
    "        cand.append((vecs[i] + vecs[j]) / 2)\n",
    "        \n",
    "        for k in range(j + 1, N):\n",
    "            if simple_ccw(vecs[i], vecs[j], vecs[k]) == 0:\n",
    "                continue\n",
    "                \n",
    "            cand.append(circum_center(vecs[i], vecs[j], vecs[k]))\n",
    "            \n",
    "cand"
   ]
  },
  {
   "cell_type": "markdown",
   "metadata": {},
   "source": [
    "#### 各候補について，$N$個の点への距離の最大値を求める．\n",
    "\n",
    "解答は，最大値リストの中の最小値．"
   ]
  },
  {
   "cell_type": "code",
   "execution_count": 27,
   "metadata": {},
   "outputs": [
    {
     "name": "stdout",
     "output_type": "stream",
     "text": [
      "0.5\n"
     ]
    }
   ],
   "source": [
    "ans = 1e12\n",
    "for p in cand:\n",
    "    tmp = 0\n",
    "    for v in vecs:\n",
    "        tmp = max(tmp, abs(p - v))\n",
    "    ans = min(ans, tmp)\n",
    "print(ans)"
   ]
  },
  {
   "cell_type": "markdown",
   "metadata": {},
   "source": [
    "## 解法2: 三分探索"
   ]
  },
  {
   "cell_type": "code",
   "execution_count": 34,
   "metadata": {},
   "outputs": [],
   "source": [
    "def f(x, y):\n",
    "    res = 0\n",
    "    for i in range(N):\n",
    "        res = max(res, abs(vecs[i] - Point(x, y)))\n",
    "    return res"
   ]
  },
  {
   "cell_type": "code",
   "execution_count": 31,
   "metadata": {},
   "outputs": [],
   "source": [
    "def g(x, max_iter=100):\n",
    "    left = -1000\n",
    "    right = 1000\n",
    "    for _ in range(max_iter):\n",
    "        m1 = (left * 2 + right) / 3\n",
    "        m2 = (left + right * 2) / 3\n",
    "        if f(x, m1) > f(x, m2):\n",
    "            left = m1\n",
    "        else:\n",
    "            right = m2\n",
    "            \n",
    "    return f(x, left)"
   ]
  },
  {
   "cell_type": "code",
   "execution_count": 32,
   "metadata": {},
   "outputs": [],
   "source": [
    "def solve(max_iter=100):\n",
    "    left = -1000\n",
    "    right = 1000\n",
    "    for _ in range(max_iter):\n",
    "        m1 = (left * 2 + right) / 3\n",
    "        m2 = (left + right * 2) / 3\n",
    "        if g(m1) > g(m2):\n",
    "            left = m1\n",
    "        else:\n",
    "            right = m2\n",
    "            \n",
    "    return g(left)"
   ]
  },
  {
   "cell_type": "code",
   "execution_count": 35,
   "metadata": {},
   "outputs": [
    {
     "data": {
      "text/plain": [
       "0.5000000000000021"
      ]
     },
     "execution_count": 35,
     "metadata": {},
     "output_type": "execute_result"
    }
   ],
   "source": [
    "solve()"
   ]
  }
 ],
 "metadata": {
  "kernelspec": {
   "display_name": "Python 3",
   "language": "python",
   "name": "python3"
  },
  "language_info": {
   "codemirror_mode": {
    "name": "ipython",
    "version": 3
   },
   "file_extension": ".py",
   "mimetype": "text/x-python",
   "name": "python",
   "nbconvert_exporter": "python",
   "pygments_lexer": "ipython3",
   "version": "3.7.3"
  }
 },
 "nbformat": 4,
 "nbformat_minor": 4
}
