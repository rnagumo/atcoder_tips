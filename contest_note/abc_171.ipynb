{
 "cells": [
  {
   "cell_type": "markdown",
   "metadata": {},
   "source": [
    "# C"
   ]
  },
  {
   "cell_type": "code",
   "execution_count": 183,
   "metadata": {},
   "outputs": [
    {
     "name": "stdout",
     "output_type": "stream",
     "text": [
      "b\n"
     ]
    }
   ],
   "source": [
    "N = 2\n",
    "\n",
    "print(\"b\")"
   ]
  },
  {
   "cell_type": "code",
   "execution_count": 11,
   "metadata": {},
   "outputs": [],
   "source": [
    "N = 123456789"
   ]
  },
  {
   "cell_type": "code",
   "execution_count": 264,
   "metadata": {},
   "outputs": [],
   "source": [
    "cnt = [0] + [26 ** i for i in range(1, 11)]\n",
    "for i in range(10):\n",
    "    cnt[i + 1] += cnt[i]"
   ]
  },
  {
   "cell_type": "code",
   "execution_count": 265,
   "metadata": {},
   "outputs": [
    {
     "name": "stdout",
     "output_type": "stream",
     "text": [
      "jjddja\n"
     ]
    }
   ],
   "source": [
    "ans = \"\"\n",
    "x = N - 1\n",
    "for i in reversed(range(1, 11)):\n",
    "    if x >= cnt[i]:\n",
    "        v = (x - cnt[i]) // 26 ** i\n",
    "        ans += chr(ord(\"a\") + v)\n",
    "        x -= (v + 1) * (26 ** i)\n",
    "\n",
    "ans += chr(ord(\"a\") + x % 26)\n",
    "print(ans)"
   ]
  },
  {
   "cell_type": "markdown",
   "metadata": {},
   "source": [
    "#### 別解\n",
    "\n",
    "右端の桁から，$26, 26^2, ...$の余りである．"
   ]
  },
  {
   "cell_type": "code",
   "execution_count": 12,
   "metadata": {},
   "outputs": [
    {
     "name": "stdout",
     "output_type": "stream",
     "text": [
      "jjddja\n"
     ]
    }
   ],
   "source": [
    "x = N\n",
    "ans = \"\"\n",
    "while x > 0:\n",
    "    x -= 1\n",
    "    ans += chr(ord(\"a\") + x % 26)\n",
    "    x //= 26\n",
    "print(ans[::-1])"
   ]
  },
  {
   "cell_type": "markdown",
   "metadata": {},
   "source": [
    "# D"
   ]
  },
  {
   "cell_type": "code",
   "execution_count": 48,
   "metadata": {},
   "outputs": [
    {
     "name": "stdout",
     "output_type": "stream",
     "text": [
      "11 12 16\n"
     ]
    }
   ],
   "source": [
    "N = 4\n",
    "A = [1, 2, 3, 4]\n",
    "Q = 3\n",
    "X = [[1, 2], [3, 4], [2, 4]]\n",
    "\n",
    "print(11, 12, 16)"
   ]
  },
  {
   "cell_type": "code",
   "execution_count": 49,
   "metadata": {},
   "outputs": [],
   "source": [
    "from collections import Counter"
   ]
  },
  {
   "cell_type": "code",
   "execution_count": 50,
   "metadata": {},
   "outputs": [
    {
     "name": "stdout",
     "output_type": "stream",
     "text": [
      "11\n",
      "12\n",
      "16\n"
     ]
    }
   ],
   "source": [
    "ctr = Counter(A)\n",
    "ans = sum(A)\n",
    "for b, c in X:\n",
    "    v = ctr[b]\n",
    "    ans = ans - b * v + c * v\n",
    "    ctr[b] -= v\n",
    "    ctr[c] += v\n",
    "    print(ans)"
   ]
  },
  {
   "cell_type": "markdown",
   "metadata": {},
   "source": [
    "# E"
   ]
  },
  {
   "cell_type": "code",
   "execution_count": 1,
   "metadata": {},
   "outputs": [
    {
     "name": "stdout",
     "output_type": "stream",
     "text": [
      "26 5 7 22\n"
     ]
    }
   ],
   "source": [
    "N = 4\n",
    "A = [20, 11, 9, 24]\n",
    "\n",
    "print(26, 5, 7, 22)"
   ]
  },
  {
   "cell_type": "code",
   "execution_count": 5,
   "metadata": {},
   "outputs": [
    {
     "name": "stdout",
     "output_type": "stream",
     "text": [
      "26 5 7 22\n"
     ]
    }
   ],
   "source": [
    "target = 0\n",
    "for i in range(N):\n",
    "    target ^= A[i]\n",
    "    \n",
    "ans = [0] * N\n",
    "for i in range(N):\n",
    "    ans[i] = A[i] ^ target\n",
    "\n",
    "print(*ans)"
   ]
  },
  {
   "cell_type": "markdown",
   "metadata": {},
   "source": [
    "# F\n",
    "\n",
    "* ある文字`S[i]`より前に，それ以外の文字が現れる：`25`通り\n",
    "* 一番最後の文字`S[N]`より後に，何でも良いから現れる：`26`通り"
   ]
  },
  {
   "cell_type": "code",
   "execution_count": 3,
   "metadata": {},
   "outputs": [
    {
     "name": "stdout",
     "output_type": "stream",
     "text": [
      "575111451\n"
     ]
    }
   ],
   "source": [
    "K = 5\n",
    "S = \"oof\"\n",
    "\n",
    "print(575111451)"
   ]
  },
  {
   "cell_type": "code",
   "execution_count": 4,
   "metadata": {},
   "outputs": [],
   "source": [
    "MAX = 2 * 10 ** 6 + 10\n",
    "MOD = 10 ** 9 + 7\n",
    "\n",
    "# Factorial\n",
    "fac = [0] * (MAX + 1)\n",
    "fac[0] = 1\n",
    "fac[1] = 1\n",
    "for i in range(2, MAX + 1):\n",
    "    fac[i] = fac[i - 1] * i % MOD\n",
    "    \n",
    "# Inverse factorial\n",
    "finv = [0] * (MAX + 1)\n",
    "finv[MAX] = pow(fac[MAX], MOD - 2, MOD)\n",
    "for i in reversed(range(1, MAX + 1)):\n",
    "    finv[i - 1] = finv[i] * i % MOD"
   ]
  },
  {
   "cell_type": "code",
   "execution_count": 8,
   "metadata": {},
   "outputs": [],
   "source": [
    "def comb(n, k):\n",
    "    if n < k or k < 0:\n",
    "        return 0\n",
    "    return (fac[n] * finv[k] * finv[n - k]) % MOD"
   ]
  },
  {
   "cell_type": "code",
   "execution_count": 9,
   "metadata": {},
   "outputs": [
    {
     "name": "stdout",
     "output_type": "stream",
     "text": [
      "575111451\n"
     ]
    }
   ],
   "source": [
    "N = len(S)\n",
    "ans = 0\n",
    "for i in range(K + 1):\n",
    "    tmp = (pow(25, K - i, MOD) * pow(26, i, MOD)) % MOD\n",
    "    ans += comb(N + K - i - 1, N - 1) * tmp\n",
    "    ans %= MOD\n",
    "print(ans)"
   ]
  },
  {
   "cell_type": "code",
   "execution_count": null,
   "metadata": {},
   "outputs": [],
   "source": []
  }
 ],
 "metadata": {
  "kernelspec": {
   "display_name": "Python 3",
   "language": "python",
   "name": "python3"
  },
  "language_info": {
   "codemirror_mode": {
    "name": "ipython",
    "version": 3
   },
   "file_extension": ".py",
   "mimetype": "text/x-python",
   "name": "python",
   "nbconvert_exporter": "python",
   "pygments_lexer": "ipython3",
   "version": "3.7.7"
  }
 },
 "nbformat": 4,
 "nbformat_minor": 4
}
