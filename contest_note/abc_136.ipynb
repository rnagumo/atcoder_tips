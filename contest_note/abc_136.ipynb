{
 "cells": [
  {
   "cell_type": "markdown",
   "metadata": {},
   "source": [
    "# A"
   ]
  },
  {
   "cell_type": "code",
   "execution_count": 1,
   "metadata": {},
   "outputs": [
    {
     "name": "stdout",
     "output_type": "stream",
     "text": [
      "1\n"
     ]
    }
   ],
   "source": [
    "A, B, C = 6, 4, 3\n",
    "\n",
    "print(1)"
   ]
  },
  {
   "cell_type": "code",
   "execution_count": 2,
   "metadata": {},
   "outputs": [
    {
     "name": "stdout",
     "output_type": "stream",
     "text": [
      "1\n"
     ]
    }
   ],
   "source": [
    "print(max(0, C - (A - B)))"
   ]
  },
  {
   "cell_type": "markdown",
   "metadata": {},
   "source": [
    "# B\n"
   ]
  },
  {
   "cell_type": "code",
   "execution_count": 4,
   "metadata": {},
   "outputs": [
    {
     "name": "stdout",
     "output_type": "stream",
     "text": [
      "9\n"
     ]
    }
   ],
   "source": [
    "N = 11\n",
    "\n",
    "print(9)"
   ]
  },
  {
   "cell_type": "code",
   "execution_count": 5,
   "metadata": {},
   "outputs": [
    {
     "name": "stdout",
     "output_type": "stream",
     "text": [
      "9\n"
     ]
    }
   ],
   "source": [
    "ans = 0\n",
    "for i in range(1, N + 1):\n",
    "    if len(str(i)) % 2 == 1:\n",
    "        ans += 1\n",
    "        \n",
    "print(ans)"
   ]
  },
  {
   "cell_type": "markdown",
   "metadata": {},
   "source": [
    "# C"
   ]
  },
  {
   "cell_type": "code",
   "execution_count": 31,
   "metadata": {},
   "outputs": [
    {
     "name": "stdout",
     "output_type": "stream",
     "text": [
      "Yes\n"
     ]
    }
   ],
   "source": [
    "N = 5\n",
    "H = [1, 2, 1, 1, 3]\n",
    "\n",
    "print('Yes')"
   ]
  },
  {
   "cell_type": "code",
   "execution_count": 33,
   "metadata": {},
   "outputs": [
    {
     "name": "stdout",
     "output_type": "stream",
     "text": [
      "No\n"
     ]
    }
   ],
   "source": [
    "N = 6\n",
    "H = [1, 3, 2, 2, 2, 1]\n",
    "print('No')"
   ]
  },
  {
   "cell_type": "code",
   "execution_count": 35,
   "metadata": {},
   "outputs": [
    {
     "name": "stdout",
     "output_type": "stream",
     "text": [
      "Yes\n"
     ]
    }
   ],
   "source": [
    "N = 6\n",
    "H = [1, 3, 2, 3, 2, 3]\n",
    "print('Yes')"
   ]
  },
  {
   "cell_type": "code",
   "execution_count": 37,
   "metadata": {},
   "outputs": [
    {
     "name": "stdout",
     "output_type": "stream",
     "text": [
      "No\n"
     ]
    }
   ],
   "source": [
    "N = 4\n",
    "H = [1, 4, 2, 5]\n",
    "print('No')"
   ]
  },
  {
   "cell_type": "code",
   "execution_count": 38,
   "metadata": {},
   "outputs": [
    {
     "name": "stdout",
     "output_type": "stream",
     "text": [
      "No\n"
     ]
    }
   ],
   "source": [
    "cnt = 0\n",
    "for i in range(N - 1):\n",
    "    if H[i + 1] - H[i] < -1:\n",
    "        print('No')\n",
    "        break\n",
    "    elif H[i + 1] - H[i] == -1:\n",
    "        cnt += 1\n",
    "    elif H[i + 1] - H[i] == 0:\n",
    "        pass\n",
    "    else:\n",
    "        cnt = 0\n",
    "        \n",
    "    if cnt > 1:\n",
    "        print('No')\n",
    "        break\n",
    "else:\n",
    "    print('Yes')"
   ]
  },
  {
   "cell_type": "markdown",
   "metadata": {},
   "source": [
    "# D"
   ]
  },
  {
   "cell_type": "code",
   "execution_count": 39,
   "metadata": {},
   "outputs": [
    {
     "name": "stdout",
     "output_type": "stream",
     "text": [
      "0 1 2 1 1\n"
     ]
    }
   ],
   "source": [
    "S = 'RRLRL'\n",
    "\n",
    "print(0, 1, 2, 1, 1)"
   ]
  },
  {
   "cell_type": "code",
   "execution_count": 70,
   "metadata": {},
   "outputs": [],
   "source": [
    "S = 'RRLLLLRLRRLL'"
   ]
  },
  {
   "cell_type": "code",
   "execution_count": 71,
   "metadata": {},
   "outputs": [],
   "source": [
    "S = 'RRRLLRLLRRRLLLLL'"
   ]
  },
  {
   "cell_type": "code",
   "execution_count": 72,
   "metadata": {},
   "outputs": [
    {
     "name": "stdout",
     "output_type": "stream",
     "text": [
      "0 0 3 2 0 2 1 0 0 0 4 4 0 0 0 0\n"
     ]
    }
   ],
   "source": [
    "from bisect import bisect\n",
    "\n",
    "N = len(S)\n",
    "r_idx = [i for i in range(N) if S[i] == 'R']\n",
    "l_idx = [i for i in range(N) if S[i] == 'L']\n",
    "\n",
    "ans = [0] * N\n",
    "for i in range(N):\n",
    "    if S[i] == 'R':\n",
    "        j = l_idx[bisect(l_idx, i)]\n",
    "        if (j - i) % 2 == 0:\n",
    "            ans[j] += 1\n",
    "        else:\n",
    "            ans[j - 1] += 1\n",
    "    else:\n",
    "        j = r_idx[max(0, bisect(r_idx, i) - 1)]\n",
    "        if (i - j) % 2 == 0:\n",
    "            ans[j] += 1\n",
    "        else:\n",
    "            ans[j + 1] += 1\n",
    "            \n",
    "print(*ans)"
   ]
  },
  {
   "cell_type": "markdown",
   "metadata": {},
   "source": [
    "# E"
   ]
  },
  {
   "cell_type": "code",
   "execution_count": 203,
   "metadata": {},
   "outputs": [
    {
     "name": "stdout",
     "output_type": "stream",
     "text": [
      "7\n"
     ]
    }
   ],
   "source": [
    "N, K = 2, 3\n",
    "A = [8, 20]\n",
    "\n",
    "print(7)"
   ]
  },
  {
   "cell_type": "code",
   "execution_count": 211,
   "metadata": {},
   "outputs": [
    {
     "name": "stdout",
     "output_type": "stream",
     "text": [
      "8\n"
     ]
    }
   ],
   "source": [
    "N, K = 2, 10\n",
    "A = [3, 5]\n",
    "\n",
    "print(8)"
   ]
  },
  {
   "cell_type": "code",
   "execution_count": 213,
   "metadata": {},
   "outputs": [
    {
     "name": "stdout",
     "output_type": "stream",
     "text": [
      "7\n"
     ]
    }
   ],
   "source": [
    "N, K = 4, 5\n",
    "A = [10, 1, 2, 22]\n",
    "\n",
    "print(7)"
   ]
  },
  {
   "cell_type": "code",
   "execution_count": 233,
   "metadata": {},
   "outputs": [
    {
     "name": "stdout",
     "output_type": "stream",
     "text": [
      "5\n"
     ]
    }
   ],
   "source": [
    "N, K = 8, 7\n",
    "A = [1, 7, 5, 6, 8, 2, 6, 5]\n",
    "\n",
    "print(5)"
   ]
  },
  {
   "cell_type": "markdown",
   "metadata": {},
   "source": [
    "計算量は，\n",
    "\n",
    "* 約数を探す部分が$O(\\sqrt{\\sum A})$\n",
    "* 条件チェックはソートがボトルネックなので$O(N \\log N)$"
   ]
  },
  {
   "cell_type": "code",
   "execution_count": 236,
   "metadata": {},
   "outputs": [
    {
     "name": "stdout",
     "output_type": "stream",
     "text": [
      "5\n"
     ]
    }
   ],
   "source": [
    "from itertools import accumulate\n",
    "\n",
    "def check(d):\n",
    "    r = sorted([v % d for v in A])\n",
    "    r_inv = [d - v for v in r]    \n",
    "    r_cs = [0] + list(accumulate(r))\n",
    "    r_inv_cs = list(accumulate(r_inv[::-1]))[::-1] + [0]\n",
    "\n",
    "    ret = False\n",
    "    for i in range(N + 1):\n",
    "        flg1 = r_cs[i] <= K\n",
    "        flg2 = r_cs[i] == r_inv_cs[i]\n",
    "        ret = (flg1 and flg2) or ret\n",
    "    \n",
    "    return ret\n",
    "\n",
    "M = sum(A)\n",
    "ans = 0\n",
    "for i in reversed(range(1, int(M ** 0.5) + 1)):\n",
    "    if M % i == 0 and check(i):\n",
    "        ans = max(ans, i)\n",
    "    if M % (M // i) == 0 and check(M // i):\n",
    "        ans = max(ans, M // i)\n",
    "        \n",
    "print(ans)"
   ]
  },
  {
   "cell_type": "code",
   "execution_count": null,
   "metadata": {},
   "outputs": [],
   "source": []
  },
  {
   "cell_type": "code",
   "execution_count": null,
   "metadata": {},
   "outputs": [],
   "source": []
  },
  {
   "cell_type": "code",
   "execution_count": null,
   "metadata": {},
   "outputs": [],
   "source": []
  }
 ],
 "metadata": {
  "kernelspec": {
   "display_name": "Python 3",
   "language": "python",
   "name": "python3"
  },
  "language_info": {
   "codemirror_mode": {
    "name": "ipython",
    "version": 3
   },
   "file_extension": ".py",
   "mimetype": "text/x-python",
   "name": "python",
   "nbconvert_exporter": "python",
   "pygments_lexer": "ipython3",
   "version": "3.7.3"
  }
 },
 "nbformat": 4,
 "nbformat_minor": 2
}
