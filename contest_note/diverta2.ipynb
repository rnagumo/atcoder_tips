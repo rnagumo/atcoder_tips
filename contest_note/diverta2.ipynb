{
 "cells": [
  {
   "cell_type": "markdown",
   "metadata": {},
   "source": [
    "# diverta 2019 Programming Contest 2"
   ]
  },
  {
   "cell_type": "markdown",
   "metadata": {},
   "source": [
    "# B"
   ]
  },
  {
   "cell_type": "code",
   "execution_count": 12,
   "metadata": {},
   "outputs": [
    {
     "name": "stdout",
     "output_type": "stream",
     "text": [
      "1\n"
     ]
    }
   ],
   "source": [
    "N = 2\n",
    "X = [[1, 1], [2, 2]]\n",
    "\n",
    "print(1)"
   ]
  },
  {
   "cell_type": "code",
   "execution_count": 40,
   "metadata": {},
   "outputs": [
    {
     "name": "stdout",
     "output_type": "stream",
     "text": [
      "1\n"
     ]
    }
   ],
   "source": [
    "N = 3\n",
    "X = [[1, 4], [4, 6], [7, 8]]\n",
    "\n",
    "print(1)"
   ]
  },
  {
   "cell_type": "code",
   "execution_count": 41,
   "metadata": {},
   "outputs": [
    {
     "data": {
      "text/plain": [
       "[(-3, -2), (-6, -4), (-3, -2)]"
      ]
     },
     "execution_count": 41,
     "metadata": {},
     "output_type": "execute_result"
    }
   ],
   "source": [
    "from itertools import combinations\n",
    "from collections import Counter\n",
    "\n",
    "X.sort()\n",
    "diff = []\n",
    "for i, j in combinations(range(N), 2):\n",
    "    diff.append((X[i][0] - X[j][0], X[i][1] - X[j][1]))\n",
    "    \n",
    "diff"
   ]
  },
  {
   "cell_type": "code",
   "execution_count": 42,
   "metadata": {},
   "outputs": [],
   "source": [
    "c = Counter(diff)"
   ]
  },
  {
   "cell_type": "code",
   "execution_count": 43,
   "metadata": {},
   "outputs": [
    {
     "data": {
      "text/plain": [
       "Counter({(-3, -2): 2, (-6, -4): 1})"
      ]
     },
     "execution_count": 43,
     "metadata": {},
     "output_type": "execute_result"
    }
   ],
   "source": [
    "c"
   ]
  },
  {
   "cell_type": "code",
   "execution_count": 44,
   "metadata": {},
   "outputs": [
    {
     "name": "stdout",
     "output_type": "stream",
     "text": [
      "1\n"
     ]
    }
   ],
   "source": [
    "print(N - Counter(diff).most_common()[0][1])"
   ]
  },
  {
   "cell_type": "markdown",
   "metadata": {},
   "source": [
    "# C"
   ]
  },
  {
   "cell_type": "code",
   "execution_count": 1,
   "metadata": {},
   "outputs": [
    {
     "name": "stdout",
     "output_type": "stream",
     "text": [
      "ans: 4, -1 1, 2, -2\n"
     ]
    }
   ],
   "source": [
    "N = 3\n",
    "A = [1, -1, 2]\n",
    "\n",
    "print('ans: 4, -1 1, 2, -2')"
   ]
  },
  {
   "cell_type": "code",
   "execution_count": 7,
   "metadata": {},
   "outputs": [
    {
     "name": "stdout",
     "output_type": "stream",
     "text": [
      "ans: 1\n"
     ]
    }
   ],
   "source": [
    "N = 3\n",
    "A = [1, 1, 1]\n",
    "\n",
    "print('ans: 1')"
   ]
  },
  {
   "cell_type": "code",
   "execution_count": 6,
   "metadata": {},
   "outputs": [
    {
     "name": "stdout",
     "output_type": "stream",
     "text": [
      "ans: 5\n"
     ]
    }
   ],
   "source": [
    "N = 5\n",
    "A = [5, 4, 3, 2, 1]\n",
    "\n",
    "print('ans: 5')"
   ]
  },
  {
   "cell_type": "code",
   "execution_count": 18,
   "metadata": {},
   "outputs": [
    {
     "name": "stdout",
     "output_type": "stream",
     "text": [
      "ans: 5\n"
     ]
    }
   ],
   "source": [
    "N = 4\n",
    "A = [5, 3, 2, 1]\n",
    "\n",
    "print('ans: 5')"
   ]
  },
  {
   "cell_type": "code",
   "execution_count": 10,
   "metadata": {},
   "outputs": [
    {
     "name": "stdout",
     "output_type": "stream",
     "text": [
      "ans: 13\n"
     ]
    }
   ],
   "source": [
    "N = 5\n",
    "A = [15, 10, 5, 2, 1]\n",
    "\n",
    "print('ans: 13')"
   ]
  },
  {
   "cell_type": "markdown",
   "metadata": {},
   "source": [
    "#### TLE"
   ]
  },
  {
   "cell_type": "code",
   "execution_count": 9,
   "metadata": {},
   "outputs": [
    {
     "name": "stdout",
     "output_type": "stream",
     "text": [
      "5\n",
      "3 2\n",
      "1 1\n",
      "5 0\n"
     ]
    }
   ],
   "source": [
    "B = A[:]\n",
    "A_MAX = max(B)\n",
    "B.remove(A_MAX)\n",
    "\n",
    "ans = []\n",
    "while len(B) > 1:\n",
    "    B.sort()\n",
    "    x = B.pop()\n",
    "    y = B.pop()\n",
    "    if y >= 0:\n",
    "        B.append(x - y)\n",
    "        ans.append([x, y])\n",
    "    else:\n",
    "        B.append(y - x)\n",
    "        ans.append([y, x])\n",
    "    \n",
    "if B[0] <= 0:\n",
    "    print(A_MAX - B[0])\n",
    "    ans.append([A_MAX, B[0]])\n",
    "else:\n",
    "    print(B[0] - A_MAX)\n",
    "    ans.append([B[0], A_MAX])\n",
    "for i in range(N - 1):\n",
    "    print(*ans[i])"
   ]
  },
  {
   "cell_type": "markdown",
   "metadata": {},
   "source": [
    "#### 別の方法を模索する"
   ]
  },
  {
   "cell_type": "code",
   "execution_count": 34,
   "metadata": {},
   "outputs": [
    {
     "name": "stdout",
     "output_type": "stream",
     "text": [
      "ans: 4, -1 1, 2, -2\n"
     ]
    }
   ],
   "source": [
    "N = 3\n",
    "A = [1, -1, 2]\n",
    "\n",
    "print('ans: 4, -1 1, 2, -2')"
   ]
  },
  {
   "cell_type": "code",
   "execution_count": 36,
   "metadata": {},
   "outputs": [
    {
     "name": "stdout",
     "output_type": "stream",
     "text": [
      "ans: 4\n"
     ]
    }
   ],
   "source": [
    "N = 3\n",
    "A = [-1, -2, -3]\n",
    "\n",
    "print('ans: 4')"
   ]
  },
  {
   "cell_type": "code",
   "execution_count": 60,
   "metadata": {},
   "outputs": [
    {
     "name": "stdout",
     "output_type": "stream",
     "text": [
      "ans: 19\n"
     ]
    }
   ],
   "source": [
    "N = 5\n",
    "A = [15, 10, 5, 2, 1]\n",
    "\n",
    "print('ans: 19')"
   ]
  },
  {
   "cell_type": "code",
   "execution_count": 1,
   "metadata": {},
   "outputs": [
    {
     "name": "stdout",
     "output_type": "stream",
     "text": [
      "ans: 39\n"
     ]
    }
   ],
   "source": [
    "N = 7\n",
    "A = [15, 10, 9, 2, 1, -1, -3]\n",
    "\n",
    "print('ans: 39')"
   ]
  },
  {
   "cell_type": "code",
   "execution_count": 8,
   "metadata": {},
   "outputs": [
    {
     "name": "stdout",
     "output_type": "stream",
     "text": [
      "ans: 39\n"
     ]
    }
   ],
   "source": [
    "N = 7\n",
    "A = [15, 10, 9, 2, 1, -1, -18]\n",
    "\n",
    "print('ans: 39')"
   ]
  },
  {
   "cell_type": "code",
   "execution_count": 10,
   "metadata": {},
   "outputs": [
    {
     "name": "stdout",
     "output_type": "stream",
     "text": [
      "54\n",
      "-18 -1\n",
      "-17 1\n",
      "-18 2\n",
      "-20 9\n",
      "-29 10\n",
      "15 -39\n"
     ]
    }
   ],
   "source": [
    "A.sort()\n",
    "A_MAX = A[-1]\n",
    "X = A[:-1]\n",
    "x = X[0]\n",
    "ans = []\n",
    "for v in X[1:]:\n",
    "    ans.append((x, v))\n",
    "    x -= v\n",
    "\n",
    "if x <= 0:\n",
    "    print(A_MAX - x)\n",
    "    ans.append((A_MAX, x))\n",
    "else:\n",
    "    print(x - A_MAX)\n",
    "    ans.append((x, A_MAX))\n",
    "for i in range(N - 1):\n",
    "    print(*ans[i])"
   ]
  },
  {
   "cell_type": "markdown",
   "metadata": {},
   "source": [
    "#### 正解"
   ]
  },
  {
   "cell_type": "code",
   "execution_count": 21,
   "metadata": {},
   "outputs": [
    {
     "name": "stdout",
     "output_type": "stream",
     "text": [
      "ans: 39\n"
     ]
    }
   ],
   "source": [
    "N = 7\n",
    "A = [15, 10, 9, 2, 1, -1, -18]\n",
    "\n",
    "print('ans: 39')"
   ]
  },
  {
   "cell_type": "code",
   "execution_count": 13,
   "metadata": {},
   "outputs": [
    {
     "name": "stdout",
     "output_type": "stream",
     "text": [
      "ans: \n"
     ]
    }
   ],
   "source": [
    "N = 3\n",
    "A = [1, 2, 3]\n",
    "\n",
    "print('ans: ')"
   ]
  },
  {
   "cell_type": "code",
   "execution_count": 17,
   "metadata": {},
   "outputs": [
    {
     "name": "stdout",
     "output_type": "stream",
     "text": [
      "ans: 4\n"
     ]
    }
   ],
   "source": [
    "N = 3\n",
    "A = [-1, -2, -3]\n",
    "\n",
    "print('ans: 4')"
   ]
  },
  {
   "cell_type": "code",
   "execution_count": 22,
   "metadata": {},
   "outputs": [
    {
     "name": "stdout",
     "output_type": "stream",
     "text": [
      "56\n",
      "-1 1\n",
      "-2 2\n",
      "-4 9\n",
      "-13 10\n",
      "15 -23\n",
      "38 -18\n"
     ]
    }
   ],
   "source": [
    "x = sorted([v for v in A if v >= 0])\n",
    "y = sorted([v for v in A if v < 0], reverse=True)\n",
    "\n",
    "ans = []\n",
    "if len(y) == 0:\n",
    "    cnt = x[0]\n",
    "    for v in x[1:-1]:\n",
    "        ans.append((cnt, v))\n",
    "        cnt -= v\n",
    "    ans.append((x[-1], cnt))\n",
    "    print(x[-1] - cnt)\n",
    "elif len(x) == 0:\n",
    "    cnt = y[0]\n",
    "    for v in y[1:]:\n",
    "        ans.append((cnt, v))\n",
    "        cnt -= v\n",
    "    print(cnt)\n",
    "else:\n",
    "    for v in x[:-1]:\n",
    "        ans.append((y[0], v))\n",
    "        y[0] -= v\n",
    "        \n",
    "    cnt = x[-1]\n",
    "    for v in y:\n",
    "        ans.append((cnt, v))\n",
    "        cnt -= v\n",
    "    print(cnt)\n",
    "    \n",
    "for v in ans:\n",
    "    print(*v)"
   ]
  },
  {
   "cell_type": "code",
   "execution_count": null,
   "metadata": {},
   "outputs": [],
   "source": []
  },
  {
   "cell_type": "code",
   "execution_count": null,
   "metadata": {},
   "outputs": [],
   "source": []
  }
 ],
 "metadata": {
  "kernelspec": {
   "display_name": "Python 3",
   "language": "python",
   "name": "python3"
  },
  "language_info": {
   "codemirror_mode": {
    "name": "ipython",
    "version": 3
   },
   "file_extension": ".py",
   "mimetype": "text/x-python",
   "name": "python",
   "nbconvert_exporter": "python",
   "pygments_lexer": "ipython3",
   "version": "3.7.3"
  }
 },
 "nbformat": 4,
 "nbformat_minor": 2
}
