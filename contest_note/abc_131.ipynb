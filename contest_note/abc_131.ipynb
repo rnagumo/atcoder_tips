{
 "cells": [
  {
   "cell_type": "markdown",
   "metadata": {},
   "source": [
    "# B"
   ]
  },
  {
   "cell_type": "code",
   "execution_count": 14,
   "metadata": {},
   "outputs": [],
   "source": [
    "N, L = 5, 2"
   ]
  },
  {
   "cell_type": "code",
   "execution_count": 7,
   "metadata": {},
   "outputs": [],
   "source": [
    "N, L = 3, -1"
   ]
  },
  {
   "cell_type": "code",
   "execution_count": 23,
   "metadata": {},
   "outputs": [],
   "source": [
    "N, L = 30, -50"
   ]
  },
  {
   "cell_type": "code",
   "execution_count": 28,
   "metadata": {},
   "outputs": [
    {
     "name": "stdout",
     "output_type": "stream",
     "text": [
      "-1044\n"
     ]
    }
   ],
   "source": [
    "x = [L + i for i in range(N)]\n",
    "total = sum(x)\n",
    "d = 1000\n",
    "for v in x:\n",
    "    if abs(d) > abs(v):\n",
    "        d = v\n",
    "print(total - d)"
   ]
  },
  {
   "cell_type": "code",
   "execution_count": 10,
   "metadata": {},
   "outputs": [
    {
     "data": {
      "text/plain": [
       "[1, 0, 1]"
      ]
     },
     "execution_count": 10,
     "metadata": {},
     "output_type": "execute_result"
    }
   ],
   "source": [
    "d"
   ]
  },
  {
   "cell_type": "markdown",
   "metadata": {},
   "source": [
    "# C"
   ]
  },
  {
   "cell_type": "code",
   "execution_count": 30,
   "metadata": {},
   "outputs": [
    {
     "name": "stdout",
     "output_type": "stream",
     "text": [
      "ans: 2\n"
     ]
    }
   ],
   "source": [
    "A, B, C, D = 4, 9, 2, 3\n",
    "\n",
    "print('ans: 2')"
   ]
  },
  {
   "cell_type": "code",
   "execution_count": 45,
   "metadata": {},
   "outputs": [
    {
     "name": "stdout",
     "output_type": "stream",
     "text": [
      "ans: 23\n"
     ]
    }
   ],
   "source": [
    "A, B, C, D = 10, 40, 6, 8\n",
    "\n",
    "print('ans: 23')"
   ]
  },
  {
   "cell_type": "code",
   "execution_count": 49,
   "metadata": {},
   "outputs": [
    {
     "name": "stdout",
     "output_type": "stream",
     "text": [
      "23\n"
     ]
    }
   ],
   "source": [
    "from math import gcd\n",
    "\n",
    "def lcm(x, y):\n",
    "    return x * y // gcd(x, y)\n",
    "\n",
    "x = B // C - (A - 1) // C\n",
    "y = B // D - (A - 1) // D\n",
    "\n",
    "E = lcm(C, D)\n",
    "z = B // E - (A - 1) // E\n",
    "print(B - A + 1 - (x + y - z))"
   ]
  },
  {
   "cell_type": "code",
   "execution_count": 47,
   "metadata": {},
   "outputs": [
    {
     "data": {
      "text/plain": [
       "(5, 4, 0)"
      ]
     },
     "execution_count": 47,
     "metadata": {},
     "output_type": "execute_result"
    }
   ],
   "source": [
    "x, y, z"
   ]
  },
  {
   "cell_type": "markdown",
   "metadata": {},
   "source": [
    "# D"
   ]
  },
  {
   "cell_type": "code",
   "execution_count": 50,
   "metadata": {},
   "outputs": [
    {
     "name": "stdout",
     "output_type": "stream",
     "text": [
      "ans: Yes\n"
     ]
    }
   ],
   "source": [
    "N = 5\n",
    "X = [[2, 4], [1, 9], [1, 8], [4, 9], [3, 12]]\n",
    "\n",
    "print('ans: Yes')"
   ]
  },
  {
   "cell_type": "code",
   "execution_count": 66,
   "metadata": {},
   "outputs": [
    {
     "name": "stdout",
     "output_type": "stream",
     "text": [
      "[[2, 4], [1, 8], [1, 9], [4, 9], [3, 12]]\n",
      "2 4 0\n",
      "1 8 2\n",
      "1 9 3\n",
      "4 9 4\n",
      "3 12 8\n",
      "Yes\n"
     ]
    }
   ],
   "source": [
    "X.sort(key=lambda x: (x[1], x[0]))\n",
    "print(X)\n",
    "\n",
    "cnt = 0\n",
    "for a, b in X:\n",
    "    print(a, b, cnt)\n",
    "    if cnt + a <= b:\n",
    "        cnt += a\n",
    "    else:\n",
    "        print('No')\n",
    "        break\n",
    "else:\n",
    "    print('Yes')"
   ]
  },
  {
   "cell_type": "code",
   "execution_count": 64,
   "metadata": {},
   "outputs": [
    {
     "data": {
      "text/plain": [
       "2"
      ]
     },
     "execution_count": 64,
     "metadata": {},
     "output_type": "execute_result"
    }
   ],
   "source": [
    "cnt"
   ]
  },
  {
   "cell_type": "markdown",
   "metadata": {},
   "source": [
    "# E"
   ]
  },
  {
   "cell_type": "code",
   "execution_count": 96,
   "metadata": {},
   "outputs": [
    {
     "name": "stdout",
     "output_type": "stream",
     "text": [
      "ans: 5\n",
      "[4, 3] [1, 2] [3, 1] [4, 5] [2, 3]\n"
     ]
    }
   ],
   "source": [
    "N, K = 5, 3\n",
    "\n",
    "print('ans: 5')\n",
    "print(*[[4, 3], [1, 2], [3, 1], [4, 5], [2, 3]])"
   ]
  },
  {
   "cell_type": "code",
   "execution_count": 80,
   "metadata": {},
   "outputs": [
    {
     "name": "stdout",
     "output_type": "stream",
     "text": [
      "ans: 5\n",
      "[4, 3] [1, 2] [3, 1] [4, 5] [2, 3]\n"
     ]
    }
   ],
   "source": [
    "N, K = 5, 0\n",
    "\n",
    "print('ans: 5')\n",
    "print(*[[4, 3], [1, 2], [3, 1], [4, 5], [2, 3]])"
   ]
  },
  {
   "cell_type": "markdown",
   "metadata": {},
   "source": [
    "#### 解答例\n",
    "\n",
    "スターグラフを考える"
   ]
  },
  {
   "cell_type": "code",
   "execution_count": 100,
   "metadata": {},
   "outputs": [
    {
     "name": "stdout",
     "output_type": "stream",
     "text": [
      "7\n",
      "1 2\n",
      "1 3\n",
      "1 4\n",
      "1 5\n",
      "2 3\n",
      "2 4\n",
      "2 5\n"
     ]
    }
   ],
   "source": [
    "total = (N - 1) * (N - 2) // 2\n",
    "if K > total:\n",
    "    print(-1)\n",
    "else:\n",
    "    M = N - 1 + total - K\n",
    "    cnt = 0\n",
    "    fin = False\n",
    "    \n",
    "    print(M)\n",
    "    for i in range(1, N + 1):\n",
    "        if fin:\n",
    "            break\n",
    "        for j in range(i + 1, N + 1):\n",
    "            if cnt == M:\n",
    "                fin = True\n",
    "                break\n",
    "            print(i, j)\n",
    "            cnt += 1"
   ]
  },
  {
   "cell_type": "code",
   "execution_count": null,
   "metadata": {},
   "outputs": [],
   "source": []
  },
  {
   "cell_type": "code",
   "execution_count": null,
   "metadata": {},
   "outputs": [],
   "source": []
  }
 ],
 "metadata": {
  "kernelspec": {
   "display_name": "Python 3",
   "language": "python",
   "name": "python3"
  },
  "language_info": {
   "codemirror_mode": {
    "name": "ipython",
    "version": 3
   },
   "file_extension": ".py",
   "mimetype": "text/x-python",
   "name": "python",
   "nbconvert_exporter": "python",
   "pygments_lexer": "ipython3",
   "version": "3.7.3"
  }
 },
 "nbformat": 4,
 "nbformat_minor": 2
}
