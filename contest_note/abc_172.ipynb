{
 "cells": [
  {
   "cell_type": "markdown",
   "metadata": {},
   "source": [
    "# C"
   ]
  },
  {
   "cell_type": "code",
   "execution_count": 1,
   "metadata": {},
   "outputs": [
    {
     "name": "stdout",
     "output_type": "stream",
     "text": [
      "3\n"
     ]
    }
   ],
   "source": [
    "N, M, K = 3, 4, 240\n",
    "A = [60, 90, 120]\n",
    "B = [80, 150, 80, 150]\n",
    "\n",
    "print(3)"
   ]
  },
  {
   "cell_type": "code",
   "execution_count": 2,
   "metadata": {},
   "outputs": [],
   "source": [
    "x = [0] * (N + 1)\n",
    "for i in range(N):\n",
    "    x[i + 1] = x[i] + A[i]\n",
    "    \n",
    "y = [0] * (M + 1)\n",
    "for i in range(M):\n",
    "    y[i + 1] = y[i] + B[i]"
   ]
  },
  {
   "cell_type": "code",
   "execution_count": 3,
   "metadata": {},
   "outputs": [],
   "source": [
    "from bisect import bisect_right"
   ]
  },
  {
   "cell_type": "code",
   "execution_count": 6,
   "metadata": {},
   "outputs": [
    {
     "name": "stdout",
     "output_type": "stream",
     "text": [
      "3\n"
     ]
    }
   ],
   "source": [
    "ans = 0\n",
    "for i in range(N + 1):\n",
    "    res = K - x[i]\n",
    "    if res > 0:\n",
    "        j = bisect_right(y, res)\n",
    "        j -= 1\n",
    "    elif res == 0:\n",
    "        j = 0\n",
    "    else:\n",
    "        continue\n",
    "    \n",
    "    ans = max(ans, i + j)\n",
    "print(ans)"
   ]
  },
  {
   "cell_type": "markdown",
   "metadata": {},
   "source": [
    "# D"
   ]
  },
  {
   "cell_type": "code",
   "execution_count": 16,
   "metadata": {},
   "outputs": [
    {
     "name": "stdout",
     "output_type": "stream",
     "text": [
      "23\n"
     ]
    }
   ],
   "source": [
    "N = 4\n",
    "\n",
    "print(23)"
   ]
  },
  {
   "cell_type": "code",
   "execution_count": 18,
   "metadata": {},
   "outputs": [
    {
     "name": "stdout",
     "output_type": "stream",
     "text": [
      "23\n"
     ]
    }
   ],
   "source": [
    "ctr = [1] * (N + 1)\n",
    "for i in range(2, N + 1):\n",
    "    for j in range(i, N + 1, i):\n",
    "        ctr[j] += 1\n",
    "        \n",
    "ans = 0\n",
    "for i in range(1, N + 1):\n",
    "    ans += i * ctr[i]\n",
    "print(ans)"
   ]
  },
  {
   "cell_type": "markdown",
   "metadata": {},
   "source": [
    "#### より速く解ける\n",
    "\n",
    "`「自身 × 約数の個数」の和` = `「自身 × 倍数の個数」の和`"
   ]
  },
  {
   "cell_type": "code",
   "execution_count": 21,
   "metadata": {},
   "outputs": [
    {
     "name": "stdout",
     "output_type": "stream",
     "text": [
      "23\n"
     ]
    }
   ],
   "source": [
    "ans = 0\n",
    "for i in range(1, N + 1):\n",
    "    ans += (N // i) * (N // i + 1) // 2 * i\n",
    "print(ans)"
   ]
  },
  {
   "cell_type": "markdown",
   "metadata": {},
   "source": [
    "# E"
   ]
  },
  {
   "cell_type": "code",
   "execution_count": 30,
   "metadata": {},
   "outputs": [
    {
     "name": "stdout",
     "output_type": "stream",
     "text": [
      "2\n"
     ]
    }
   ],
   "source": [
    "N, M = 2, 2\n",
    "\n",
    "print(2)"
   ]
  },
  {
   "cell_type": "code",
   "execution_count": 37,
   "metadata": {},
   "outputs": [
    {
     "name": "stdout",
     "output_type": "stream",
     "text": [
      "18\n"
     ]
    }
   ],
   "source": [
    "N, M = 2, 3\n",
    "\n",
    "print(18)"
   ]
  },
  {
   "cell_type": "code",
   "execution_count": 38,
   "metadata": {},
   "outputs": [],
   "source": [
    "MAX = 5 * 10 ** 5 + 1\n",
    "MOD = 10 ** 9 + 7\n",
    "\n",
    "# Factorial\n",
    "fac = [0] * (MAX + 1)\n",
    "fac[0] = 1\n",
    "fac[1] = 1\n",
    "for i in range(2, MAX + 1):\n",
    "    fac[i] = fac[i - 1] * i % MOD\n",
    "\n",
    "# Inverse factorial\n",
    "finv = [0] * (MAX + 1)\n",
    "finv[MAX] = pow(fac[MAX], MOD - 2, MOD)\n",
    "for i in reversed(range(1, MAX + 1)):\n",
    "    finv[i - 1] = finv[i] * i % MOD"
   ]
  },
  {
   "cell_type": "code",
   "execution_count": 39,
   "metadata": {},
   "outputs": [],
   "source": [
    "def comb(n, k):\n",
    "    if n < k or k < 0:\n",
    "        return 0\n",
    "    return (fac[n] * finv[k] * finv[n - k]) % MOD"
   ]
  },
  {
   "cell_type": "code",
   "execution_count": 40,
   "metadata": {},
   "outputs": [],
   "source": [
    "def permute(n, k):\n",
    "    return comb(n, k) * fac[k]"
   ]
  },
  {
   "cell_type": "markdown",
   "metadata": {},
   "source": [
    "#### 模範解答\n",
    "\n",
    "* `comb(N, k)`: `N`個の位置の中から，`A[i] = B[i]`となる場所を`k`個だけ選ぶ\n",
    "* `(-1)**k`: 包除原理\n",
    "* `permute(M, k)`: `M`個の数の中から`k`個を選び，並び替える\n",
    "* `premute(M-k, N-k)**2`: `M-k`個の数の中から`N-k`個を選び，並び替える（A, Bそれぞれ）"
   ]
  },
  {
   "cell_type": "code",
   "execution_count": 42,
   "metadata": {},
   "outputs": [
    {
     "name": "stdout",
     "output_type": "stream",
     "text": [
      "18\n"
     ]
    }
   ],
   "source": [
    "ans = 0\n",
    "for k in range(N + 1):\n",
    "    ans += comb(N, k) * (-1) ** k * permute(M, k) * permute(M - k, N - k) ** 2\n",
    "    ans %= MOD\n",
    "\n",
    "print(ans)"
   ]
  },
  {
   "cell_type": "code",
   "execution_count": null,
   "metadata": {},
   "outputs": [],
   "source": []
  }
 ],
 "metadata": {
  "kernelspec": {
   "display_name": "Python 3",
   "language": "python",
   "name": "python3"
  },
  "language_info": {
   "codemirror_mode": {
    "name": "ipython",
    "version": 3
   },
   "file_extension": ".py",
   "mimetype": "text/x-python",
   "name": "python",
   "nbconvert_exporter": "python",
   "pygments_lexer": "ipython3",
   "version": "3.7.7"
  }
 },
 "nbformat": 4,
 "nbformat_minor": 4
}
