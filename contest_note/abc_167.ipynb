{
 "cells": [
  {
   "cell_type": "markdown",
   "metadata": {},
   "source": [
    "# C"
   ]
  },
  {
   "cell_type": "code",
   "execution_count": 1,
   "metadata": {},
   "outputs": [
    {
     "name": "stdout",
     "output_type": "stream",
     "text": [
      "120\n"
     ]
    }
   ],
   "source": [
    "N, M, X = 3, 3, 10\n",
    "C = [60, 70, 50]\n",
    "A = [[2, 2, 4], [8, 7, 9], [2, 3, 9]]\n",
    "\n",
    "print(120)"
   ]
  },
  {
   "cell_type": "code",
   "execution_count": 2,
   "metadata": {},
   "outputs": [
    {
     "name": "stdout",
     "output_type": "stream",
     "text": [
      "120\n"
     ]
    }
   ],
   "source": [
    "ans = 10 ** 9 + 7\n",
    "for bit in range(1 << N):\n",
    "    tmp = [0] * M\n",
    "    val = 0\n",
    "    for i in range(N):\n",
    "        if not (bit >> i & 1):\n",
    "            continue\n",
    "\n",
    "        val += C[i]\n",
    "        for j in range(M):\n",
    "            tmp[j] += A[i][j]\n",
    "            \n",
    "    # Check\n",
    "    if all(v >= X for v in tmp):\n",
    "        ans = min(ans, val)\n",
    "        \n",
    "print(ans)"
   ]
  },
  {
   "cell_type": "markdown",
   "metadata": {},
   "source": [
    "# D"
   ]
  },
  {
   "cell_type": "code",
   "execution_count": 3,
   "metadata": {},
   "outputs": [
    {
     "name": "stdout",
     "output_type": "stream",
     "text": [
      "4\n"
     ]
    }
   ],
   "source": [
    "N, K = 4, 5\n",
    "A = [3, 2, 4, 1]\n",
    "\n",
    "print(4)"
   ]
  },
  {
   "cell_type": "code",
   "execution_count": 4,
   "metadata": {},
   "outputs": [],
   "source": [
    "# Destination\n",
    "t = [[-1] * N for _ in range(61)]\n",
    "t[0] = [v - 1 for v in A]\n",
    "for k in range(60):\n",
    "    for i in range(N):\n",
    "        t[k + 1][i] = t[k][t[k][i]]"
   ]
  },
  {
   "cell_type": "code",
   "execution_count": 6,
   "metadata": {},
   "outputs": [
    {
     "name": "stdout",
     "output_type": "stream",
     "text": [
      "4\n"
     ]
    }
   ],
   "source": [
    "u = 0\n",
    "for k in range(61):\n",
    "    if K >> k & 1:\n",
    "        u = t[k][u]\n",
    "\n",
    "print(u + 1)"
   ]
  },
  {
   "cell_type": "markdown",
   "metadata": {},
   "source": [
    "# E"
   ]
  },
  {
   "cell_type": "code",
   "execution_count": 6,
   "metadata": {},
   "outputs": [
    {
     "name": "stdout",
     "output_type": "stream",
     "text": [
      "6\n"
     ]
    }
   ],
   "source": [
    "N, M, K = 3, 2, 1\n",
    "\n",
    "print(6)"
   ]
  },
  {
   "cell_type": "code",
   "execution_count": 7,
   "metadata": {},
   "outputs": [],
   "source": [
    "MAX = 2 * 10 ** 5 + 1\n",
    "MOD = 998244353\n",
    "\n",
    "# Factorial\n",
    "fac = [0] * (MAX + 1)\n",
    "fac[0] = 1\n",
    "fac[1] = 1\n",
    "for i in range(2, MAX + 1):\n",
    "    fac[i] = fac[i - 1] * i % MOD\n",
    "    \n",
    "# Inverse factorial\n",
    "finv = [0] * (MAX + 1)\n",
    "finv[MAX] = pow(fac[MAX], MOD - 2, MOD)\n",
    "for i in reversed(range(1, MAX + 1)):\n",
    "    finv[i - 1] = finv[i] * i % MOD"
   ]
  },
  {
   "cell_type": "code",
   "execution_count": 9,
   "metadata": {},
   "outputs": [
    {
     "name": "stdout",
     "output_type": "stream",
     "text": [
      "6\n"
     ]
    }
   ],
   "source": [
    "def comb(n, k):\n",
    "    if n < k:\n",
    "        return 0\n",
    "    return fac[n] * finv[n - k] * finv[k]\n",
    "\n",
    "ans = 0\n",
    "for x in range(K + 1):\n",
    "    tmp = M * pow(M - 1, N - x - 1, MOD) * comb(N - 1, x) % MOD\n",
    "    ans = (ans + tmp) % MOD\n",
    "print(ans)"
   ]
  },
  {
   "cell_type": "markdown",
   "metadata": {},
   "source": [
    "# F"
   ]
  },
  {
   "cell_type": "code",
   "execution_count": 26,
   "metadata": {},
   "outputs": [
    {
     "name": "stdout",
     "output_type": "stream",
     "text": [
      "Yes\n"
     ]
    }
   ],
   "source": [
    "N = 2\n",
    "X = [')', '(()']\n",
    "\n",
    "print(\"Yes\")"
   ]
  },
  {
   "cell_type": "code",
   "execution_count": 22,
   "metadata": {},
   "outputs": [
    {
     "name": "stdout",
     "output_type": "stream",
     "text": [
      "No\n"
     ]
    }
   ],
   "source": [
    "N = 2\n",
    "X = ['()', ')(']\n",
    "\n",
    "print(\"No\")"
   ]
  },
  {
   "cell_type": "code",
   "execution_count": 27,
   "metadata": {},
   "outputs": [],
   "source": [
    "ctr = [[], []]\n",
    "for s in X:\n",
    "    t = [0] * (len(s) + 1)\n",
    "    for j in range(len(s)):\n",
    "        t[j + 1] = t[j] + int(s[j] == \"(\") - int(s[j] == \")\")\n",
    "    if t[-1] > 0:\n",
    "        ctr[0].append((min(t), t[-1]))\n",
    "    else:\n",
    "        ctr[1].append((min(t) - t[-1], -t[-1]))"
   ]
  },
  {
   "cell_type": "code",
   "execution_count": 31,
   "metadata": {},
   "outputs": [
    {
     "name": "stdout",
     "output_type": "stream",
     "text": [
      "Yes\n"
     ]
    }
   ],
   "source": [
    "flag = True\n",
    "tmp = 0\n",
    "for i in range(2):\n",
    "    cur = 0\n",
    "    for m, c in sorted(ctr[i], reverse=True):\n",
    "        flag &= cur + m >= 0\n",
    "        cur += c\n",
    "    if i == 0:\n",
    "        tmp = cur\n",
    "    else:\n",
    "        flag &= tmp == cur\n",
    "        \n",
    "if flag:\n",
    "    print(\"Yes\")\n",
    "else:\n",
    "    print(\"No\")"
   ]
  },
  {
   "cell_type": "code",
   "execution_count": null,
   "metadata": {},
   "outputs": [],
   "source": []
  }
 ],
 "metadata": {
  "kernelspec": {
   "display_name": "Python 3",
   "language": "python",
   "name": "python3"
  },
  "language_info": {
   "codemirror_mode": {
    "name": "ipython",
    "version": 3
   },
   "file_extension": ".py",
   "mimetype": "text/x-python",
   "name": "python",
   "nbconvert_exporter": "python",
   "pygments_lexer": "ipython3",
   "version": "3.7.3"
  }
 },
 "nbformat": 4,
 "nbformat_minor": 4
}
