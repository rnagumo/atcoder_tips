{
 "cells": [
  {
   "cell_type": "markdown",
   "metadata": {},
   "source": [
    "# C"
   ]
  },
  {
   "cell_type": "code",
   "execution_count": 2,
   "metadata": {},
   "outputs": [],
   "source": [
    "N = 5\n",
    "A = [1, 1, 2, 2]"
   ]
  },
  {
   "cell_type": "code",
   "execution_count": 3,
   "metadata": {},
   "outputs": [
    {
     "name": "stdout",
     "output_type": "stream",
     "text": [
      "2\n",
      "2\n",
      "0\n",
      "0\n",
      "0\n"
     ]
    }
   ],
   "source": [
    "from collections import Counter\n",
    "\n",
    "ctr = Counter(A)\n",
    "for i in range(1, N + 1):\n",
    "    print(ctr[i])"
   ]
  },
  {
   "cell_type": "markdown",
   "metadata": {},
   "source": [
    "# D"
   ]
  },
  {
   "cell_type": "code",
   "execution_count": 1,
   "metadata": {},
   "outputs": [
    {
     "name": "stdout",
     "output_type": "stream",
     "text": [
      "10\n"
     ]
    }
   ],
   "source": [
    "N, K = 3, 2\n",
    "print(10)"
   ]
  },
  {
   "cell_type": "code",
   "execution_count": 2,
   "metadata": {},
   "outputs": [],
   "source": [
    "s = list(range(N + 1))\n",
    "cumsum = [0] * (N + 1)\n",
    "for i in range(1, N + 1):\n",
    "    cumsum[i] = cumsum[i - 1] + s[i]"
   ]
  },
  {
   "cell_type": "code",
   "execution_count": 10,
   "metadata": {},
   "outputs": [
    {
     "name": "stdout",
     "output_type": "stream",
     "text": [
      "2 6 1 1\n",
      "3 6 0 3\n",
      "9\n"
     ]
    }
   ],
   "source": [
    "MOD = 10 ** 9 + 7\n",
    "ans = 1\n",
    "for k in range(K, N + 1):\n",
    "    ans += (cumsum[-1] - cumsum[-k - 1]) - cumsum[k - 1] + 1\n",
    "print(ans % MOD)"
   ]
  },
  {
   "cell_type": "markdown",
   "metadata": {},
   "source": [
    "# E"
   ]
  },
  {
   "cell_type": "code",
   "execution_count": 7,
   "metadata": {},
   "outputs": [
    {
     "name": "stdout",
     "output_type": "stream",
     "text": [
      "20\n"
     ]
    }
   ],
   "source": [
    "N = 4\n",
    "A = [1, 3, 4, 2]\n",
    "\n",
    "print(20)"
   ]
  },
  {
   "cell_type": "code",
   "execution_count": 13,
   "metadata": {},
   "outputs": [
    {
     "name": "stdout",
     "output_type": "stream",
     "text": [
      "58\n"
     ]
    }
   ],
   "source": [
    "N = 6\n",
    "A = [5,5,6,1,1,1]\n",
    "\n",
    "print(58)"
   ]
  },
  {
   "cell_type": "markdown",
   "metadata": {},
   "source": [
    "#### TLE & WA"
   ]
  },
  {
   "cell_type": "code",
   "execution_count": 16,
   "metadata": {},
   "outputs": [],
   "source": [
    "from heapq import heappop, heappush"
   ]
  },
  {
   "cell_type": "code",
   "execution_count": 20,
   "metadata": {},
   "outputs": [
    {
     "name": "stdout",
     "output_type": "stream",
     "text": [
      "58\n"
     ]
    }
   ],
   "source": [
    "pq = []\n",
    "for i in range(N):\n",
    "    for j in range(N):\n",
    "        heappush(pq, (-A[i] * abs(i - j), i, j))\n",
    "\n",
    "used = [False] * N\n",
    "filled = [False] * N\n",
    "ans = 0\n",
    "while pq:\n",
    "    v, i, j = heappop(pq)\n",
    "    if used[i] or filled[j]:\n",
    "        continue\n",
    "\n",
    "    ans += v\n",
    "    used[i] = True\n",
    "    filled[j] = True\n",
    "    \n",
    "print(-ans)"
   ]
  },
  {
   "cell_type": "markdown",
   "metadata": {},
   "source": [
    "#### 解答"
   ]
  },
  {
   "cell_type": "code",
   "execution_count": 34,
   "metadata": {},
   "outputs": [
    {
     "name": "stdout",
     "output_type": "stream",
     "text": [
      "58\n"
     ]
    }
   ],
   "source": [
    "N = 6\n",
    "A = [5,5,6,1,1,1]\n",
    "\n",
    "print(58)"
   ]
  },
  {
   "cell_type": "code",
   "execution_count": 25,
   "metadata": {},
   "outputs": [
    {
     "name": "stdout",
     "output_type": "stream",
     "text": [
      "20\n"
     ]
    }
   ],
   "source": [
    "N = 4\n",
    "A = [1, 3, 4, 2]\n",
    "\n",
    "print(20)"
   ]
  },
  {
   "cell_type": "code",
   "execution_count": 39,
   "metadata": {},
   "outputs": [
    {
     "name": "stdout",
     "output_type": "stream",
     "text": [
      "58\n"
     ]
    }
   ],
   "source": [
    "x = sorted([(a, p) for p, a in enumerate(A)], reverse=True)\n",
    "dp = [[0] * (N + 1) for _ in range(N + 1)]\n",
    "for i, (a, p) in enumerate(x):\n",
    "    for j in range(i + 1):\n",
    "        # x: p[i]=N-1,...,N-i-1\n",
    "        dp[i + 1][j] = max(dp[i + 1][j], dp[i][j] + a * (N - 1 - (i - j) - p))\n",
    "        \n",
    "        # y: p[i]=0,...,i\n",
    "        dp[i + 1][j + 1] = max(dp[i + 1][j + 1], dp[i][j] + a * (p - j))\n",
    "        \n",
    "\n",
    "print(max(dp[-1]))"
   ]
  },
  {
   "cell_type": "code",
   "execution_count": 40,
   "metadata": {},
   "outputs": [
    {
     "data": {
      "text/plain": [
       "[[0, 0, 0, 0, 0, 0, 0],\n",
       " [18, 12, 0, 0, 0, 0, 0],\n",
       " [33, 32, 12, 0, 0, 0, 0],\n",
       " [48, 52, 37, 2, 0, 0, 0],\n",
       " [45, 53, 56, 40, 4, 0, 0],\n",
       " [42, 51, 56, 58, 41, 4, 0],\n",
       " [39, 49, 55, 58, 58, 40, 2]]"
      ]
     },
     "execution_count": 40,
     "metadata": {},
     "output_type": "execute_result"
    }
   ],
   "source": [
    "dp"
   ]
  },
  {
   "cell_type": "code",
   "execution_count": null,
   "metadata": {},
   "outputs": [],
   "source": []
  }
 ],
 "metadata": {
  "kernelspec": {
   "display_name": "Python 3",
   "language": "python",
   "name": "python3"
  },
  "language_info": {
   "codemirror_mode": {
    "name": "ipython",
    "version": 3
   },
   "file_extension": ".py",
   "mimetype": "text/x-python",
   "name": "python",
   "nbconvert_exporter": "python",
   "pygments_lexer": "ipython3",
   "version": "3.7.3"
  }
 },
 "nbformat": 4,
 "nbformat_minor": 4
}
