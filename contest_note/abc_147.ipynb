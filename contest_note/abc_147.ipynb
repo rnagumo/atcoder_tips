{
 "cells": [
  {
   "cell_type": "markdown",
   "metadata": {},
   "source": [
    "# A"
   ]
  },
  {
   "cell_type": "code",
   "execution_count": 1,
   "metadata": {},
   "outputs": [
    {
     "name": "stdout",
     "output_type": "stream",
     "text": [
      "win\n"
     ]
    }
   ],
   "source": [
    "X = [5,7,9]\n",
    "if sum(X) >= 22:\n",
    "    print(\"bust\")\n",
    "else:\n",
    "    print(\"win\")"
   ]
  },
  {
   "cell_type": "markdown",
   "metadata": {},
   "source": [
    "# B"
   ]
  },
  {
   "cell_type": "code",
   "execution_count": 2,
   "metadata": {},
   "outputs": [],
   "source": [
    "S = \"redcoder\""
   ]
  },
  {
   "cell_type": "code",
   "execution_count": 3,
   "metadata": {},
   "outputs": [
    {
     "name": "stdout",
     "output_type": "stream",
     "text": [
      "1\n"
     ]
    }
   ],
   "source": [
    "ans = 0\n",
    "for i in range(len(S) // 2):\n",
    "    ans += int(S[i] != S[-i - 1])\n",
    "    \n",
    "print(ans)"
   ]
  },
  {
   "cell_type": "markdown",
   "metadata": {},
   "source": [
    "# C"
   ]
  },
  {
   "cell_type": "code",
   "execution_count": 5,
   "metadata": {},
   "outputs": [
    {
     "name": "stdout",
     "output_type": "stream",
     "text": [
      "2\n"
     ]
    }
   ],
   "source": [
    "N = 3\n",
    "\n",
    "A = [1, 1, 1]\n",
    "XY = [[[2, 1]], [[1, 1]], [[2, 0]]]\n",
    "\n",
    "print(2)"
   ]
  },
  {
   "cell_type": "code",
   "execution_count": 7,
   "metadata": {},
   "outputs": [
    {
     "name": "stdout",
     "output_type": "stream",
     "text": [
      "0\n"
     ]
    }
   ],
   "source": [
    "N = 3\n",
    "\n",
    "A = [2, 2, 2]\n",
    "XY = [[[2, 1], [3, 0]], [[3, 1], [1, 0]], [[1, 1], [2, 0]]]\n",
    "\n",
    "print(0)"
   ]
  },
  {
   "cell_type": "code",
   "execution_count": 3,
   "metadata": {},
   "outputs": [
    {
     "name": "stdout",
     "output_type": "stream",
     "text": [
      "1\n"
     ]
    }
   ],
   "source": [
    "N = 2\n",
    "A = [1, 1]\n",
    "XY = [[[2, 0]], [[1, 0]]]\n",
    "\n",
    "print(1)"
   ]
  },
  {
   "cell_type": "markdown",
   "metadata": {},
   "source": [
    "#### bit探索\n",
    "\n",
    "全状態はたかだか$2^N$通り．\n",
    "\n",
    "https://atcoder.jp/contests/abc147/submissions/8830089"
   ]
  },
  {
   "cell_type": "code",
   "execution_count": 8,
   "metadata": {},
   "outputs": [
    {
     "name": "stdout",
     "output_type": "stream",
     "text": [
      "0\n"
     ]
    }
   ],
   "source": [
    "def counter(x):\n",
    "    if x == 0:\n",
    "        return 0\n",
    "    else:\n",
    "        return counter(x >> 1) + (x & 1)\n",
    "\n",
    "ans = 0\n",
    "for bits in range(1, 1 << N):\n",
    "    ok = True\n",
    "    for i in range(N):\n",
    "        if not (bits & (1 << i)):\n",
    "            continue\n",
    "            \n",
    "        for x, y in XY[i]:\n",
    "            if ((bits >> (x - 1)) & 1) ^ y:\n",
    "                ok = False\n",
    "                \n",
    "    if ok:\n",
    "        ans = max(ans, counter(bits))\n",
    "            \n",
    "print(ans)"
   ]
  },
  {
   "cell_type": "markdown",
   "metadata": {},
   "source": [
    "# D"
   ]
  },
  {
   "cell_type": "code",
   "execution_count": 28,
   "metadata": {},
   "outputs": [
    {
     "name": "stdout",
     "output_type": "stream",
     "text": [
      "6\n"
     ]
    }
   ],
   "source": [
    "N = 3\n",
    "A = [1, 2, 3]\n",
    "\n",
    "print(6)"
   ]
  },
  {
   "cell_type": "code",
   "execution_count": 37,
   "metadata": {},
   "outputs": [
    {
     "name": "stdout",
     "output_type": "stream",
     "text": [
      "103715602\n"
     ]
    }
   ],
   "source": [
    "N = 10\n",
    "A = [3, 14, 159, 2653, 58979, 323846, 2643383, 27950288, 419716939, 9375105820]\n",
    "\n",
    "print(103715602)"
   ]
  },
  {
   "cell_type": "code",
   "execution_count": 39,
   "metadata": {},
   "outputs": [
    {
     "name": "stdout",
     "output_type": "stream",
     "text": [
      "103715602\n"
     ]
    }
   ],
   "source": [
    "MOD = 10 ** 9 + 7\n",
    "ans = 0\n",
    "for bit in range(60):\n",
    "    ctr = [0, 0]\n",
    "    for i in range(N):\n",
    "        ctr[A[i] >> bit & 1] += 1\n",
    "    ans += (1 << bit) * (ctr[0] * ctr[1])\n",
    "    ans %= MOD\n",
    "\n",
    "print(ans)"
   ]
  },
  {
   "cell_type": "markdown",
   "metadata": {},
   "source": [
    "# E\n",
    "\n",
    "回答例  \n",
    "https://atcoder.jp/contests/abc147/submissions/8872855"
   ]
  },
  {
   "cell_type": "code",
   "execution_count": 46,
   "metadata": {},
   "outputs": [
    {
     "name": "stdout",
     "output_type": "stream",
     "text": [
      "0\n"
     ]
    }
   ],
   "source": [
    "H, W = 2, 2\n",
    "A = [[1, 2], [3, 4]]\n",
    "B = [[3, 4], [2, 1]]\n",
    "\n",
    "print(0)"
   ]
  },
  {
   "cell_type": "markdown",
   "metadata": {},
   "source": [
    "#### bitDPと呼ばれるものである．\n",
    "\n",
    "$DP[i][j][k]$＝マス$(i, j)$までの経路の偏りが$k$になることがあるか？"
   ]
  },
  {
   "cell_type": "code",
   "execution_count": 57,
   "metadata": {},
   "outputs": [
    {
     "name": "stdout",
     "output_type": "stream",
     "text": [
      "0\n"
     ]
    }
   ],
   "source": [
    "AB = [list(map(lambda x, y: abs(x - y), a, b)) for a, b in zip(A, B)]\n",
    "dp = [[[0] * 10001 for _ in range(W + 1)] for _ in range(H + 1)]\n",
    "dp[0][0][0] = 1\n",
    "\n",
    "for h in range(H):\n",
    "    for w in range(W):\n",
    "        ab = AB[h][w]\n",
    "        for i in range(10000):\n",
    "            if dp[h][w][i] == 1:\n",
    "                dp[h+1][w][i+ab] = 1\n",
    "                dp[h+1][w][abs(i-ab)] = 1\n",
    "                dp[h][w+1][i+ab] = 1\n",
    "                dp[h][w+1][abs(i-ab)] = 1\n",
    "\n",
    "for i in range(1000):\n",
    "    if dp[H][W-1][i] == 1:\n",
    "        print(i)\n",
    "        break"
   ]
  },
  {
   "cell_type": "code",
   "execution_count": null,
   "metadata": {},
   "outputs": [],
   "source": []
  }
 ],
 "metadata": {
  "kernelspec": {
   "display_name": "Python 3",
   "language": "python",
   "name": "python3"
  },
  "language_info": {
   "codemirror_mode": {
    "name": "ipython",
    "version": 3
   },
   "file_extension": ".py",
   "mimetype": "text/x-python",
   "name": "python",
   "nbconvert_exporter": "python",
   "pygments_lexer": "ipython3",
   "version": "3.7.5"
  }
 },
 "nbformat": 4,
 "nbformat_minor": 4
}
