{
 "cells": [
  {
   "cell_type": "markdown",
   "metadata": {},
   "source": [
    "# C"
   ]
  },
  {
   "cell_type": "code",
   "execution_count": 17,
   "metadata": {},
   "outputs": [
    {
     "name": "stdout",
     "output_type": "stream",
     "text": [
      "5.0\n"
     ]
    }
   ],
   "source": [
    "A, B, H, M = 3, 4, 9, 0\n",
    "\n",
    "print(5.0)"
   ]
  },
  {
   "cell_type": "code",
   "execution_count": 1,
   "metadata": {},
   "outputs": [],
   "source": [
    "A, B, H, M = 3, 4, 10, 40"
   ]
  },
  {
   "cell_type": "code",
   "execution_count": 2,
   "metadata": {},
   "outputs": [],
   "source": [
    "from math import pi, cos"
   ]
  },
  {
   "cell_type": "code",
   "execution_count": 6,
   "metadata": {},
   "outputs": [
    {
     "name": "stdout",
     "output_type": "stream",
     "text": [
      "4.564257194330057\n"
     ]
    }
   ],
   "source": [
    "theta = (H / 12 + M / 720 - M / 60) * 2 * pi\n",
    "c2 = A ** 2 + B ** 2 - 2 * A * B * cos(theta)\n",
    "print(c2 ** 0.5)"
   ]
  },
  {
   "cell_type": "markdown",
   "metadata": {},
   "source": [
    "# D"
   ]
  },
  {
   "cell_type": "code",
   "execution_count": 1,
   "metadata": {},
   "outputs": [
    {
     "name": "stdout",
     "output_type": "stream",
     "text": [
      "Yes 1 2 2\n"
     ]
    }
   ],
   "source": [
    "N, M = 4, 4\n",
    "X = [[1, 2], [2, 3], [3, 4], [4, 2]]\n",
    "\n",
    "print(\"Yes\", 1, 2, 2)"
   ]
  },
  {
   "cell_type": "code",
   "execution_count": 2,
   "metadata": {},
   "outputs": [],
   "source": [
    "graph = [[] for _ in range(N + 1)]\n",
    "for a, b in X:\n",
    "    graph[a].append(b)\n",
    "    graph[b].append(a)"
   ]
  },
  {
   "cell_type": "code",
   "execution_count": 3,
   "metadata": {},
   "outputs": [],
   "source": [
    "from collections import deque"
   ]
  },
  {
   "cell_type": "code",
   "execution_count": 6,
   "metadata": {},
   "outputs": [],
   "source": [
    "# BFS\n",
    "dist = [-1] * (N + 1)\n",
    "dist[1] = 0\n",
    "ans = [-1] * (N + 1)\n",
    "q = deque([1])\n",
    "while q:\n",
    "    u = q.popleft()\n",
    "    for v in graph[u]:\n",
    "        if dist[v] >= 0:\n",
    "            continue\n",
    "\n",
    "        dist[v] = dist[u] + 1\n",
    "        ans[v] = u\n",
    "        q.append(v)"
   ]
  },
  {
   "cell_type": "code",
   "execution_count": 7,
   "metadata": {},
   "outputs": [
    {
     "name": "stdout",
     "output_type": "stream",
     "text": [
      "Yes\n",
      "1\n",
      "2\n",
      "2\n"
     ]
    }
   ],
   "source": [
    "print(\"Yes\")\n",
    "print(*ans[2:], sep=\"\\n\")"
   ]
  },
  {
   "cell_type": "markdown",
   "metadata": {},
   "source": [
    "# E"
   ]
  },
  {
   "cell_type": "code",
   "execution_count": 7,
   "metadata": {},
   "outputs": [
    {
     "name": "stdout",
     "output_type": "stream",
     "text": [
      "5\n"
     ]
    }
   ],
   "source": [
    "N = 3\n",
    "X = [[1, 2], [-1, 1], [2, -1]]\n",
    "\n",
    "print(5)"
   ]
  },
  {
   "cell_type": "code",
   "execution_count": 1,
   "metadata": {},
   "outputs": [
    {
     "name": "stdout",
     "output_type": "stream",
     "text": [
      "479\n"
     ]
    }
   ],
   "source": [
    "N = 10\n",
    "X = [[3, 2], [3, 2], [-1, 1], [2, -1], [-3, -9],\n",
    "     [-8, 12], [7, 7], [8, 1], [8, 2], [8, 4]]\n",
    "\n",
    "print(479)"
   ]
  },
  {
   "cell_type": "markdown",
   "metadata": {},
   "source": [
    "#### 解答\n",
    "\n",
    "「数値が逆になっている」かつ「符号が異なる」ペアの数を調べたい．\n",
    "\n",
    "https://atcoder.jp/contests/abc168/submissions/13339215"
   ]
  },
  {
   "cell_type": "code",
   "execution_count": 8,
   "metadata": {},
   "outputs": [],
   "source": [
    "from collections import defaultdict\n",
    "from math import gcd"
   ]
  },
  {
   "cell_type": "code",
   "execution_count": 9,
   "metadata": {},
   "outputs": [],
   "source": [
    "d = {}\n",
    "for a, b in X:\n",
    "    if a == b == 0:\n",
    "        pass\n",
    "    elif a == 0:\n",
    "        if b > 0:\n",
    "            b = 1\n",
    "        else:\n",
    "            b = -1\n",
    "    elif b == 0:\n",
    "        if a > 0:\n",
    "            a = 1\n",
    "        else:\n",
    "            a = -1\n",
    "    else:\n",
    "        v = gcd(a, b)\n",
    "        a //= v\n",
    "        b //= v\n",
    "\n",
    "    if a != 0 and a * b >= 0:\n",
    "        pair = (abs(a), abs(b))\n",
    "        i = 0\n",
    "    else:\n",
    "        pair = (abs(b), abs(a))\n",
    "        i = 1\n",
    "\n",
    "    if pair not in d:\n",
    "        d[pair] = [0, 0]\n",
    "    d[pair][i] += 1"
   ]
  },
  {
   "cell_type": "code",
   "execution_count": 10,
   "metadata": {},
   "outputs": [
    {
     "name": "stdout",
     "output_type": "stream",
     "text": [
      "5\n"
     ]
    }
   ],
   "source": [
    "mod = 10 ** 9 + 7\n",
    "zero = 0\n",
    "ans = 1\n",
    "for p in d:\n",
    "    if p == (0, 0):\n",
    "        zero = d[p][1]\n",
    "    else:\n",
    "        a, b = d[p]\n",
    "        ans *= pow(2, a, mod) + pow(2, b, mod) - 1\n",
    "        ans %= mod\n",
    "        \n",
    "print((ans + zero - 1) % mod)"
   ]
  },
  {
   "cell_type": "code",
   "execution_count": null,
   "metadata": {},
   "outputs": [],
   "source": []
  },
  {
   "cell_type": "code",
   "execution_count": null,
   "metadata": {},
   "outputs": [],
   "source": []
  },
  {
   "cell_type": "code",
   "execution_count": null,
   "metadata": {},
   "outputs": [],
   "source": []
  },
  {
   "cell_type": "code",
   "execution_count": null,
   "metadata": {},
   "outputs": [],
   "source": []
  }
 ],
 "metadata": {
  "kernelspec": {
   "display_name": "Python 3",
   "language": "python",
   "name": "python3"
  },
  "language_info": {
   "codemirror_mode": {
    "name": "ipython",
    "version": 3
   },
   "file_extension": ".py",
   "mimetype": "text/x-python",
   "name": "python",
   "nbconvert_exporter": "python",
   "pygments_lexer": "ipython3",
   "version": "3.7.3"
  }
 },
 "nbformat": 4,
 "nbformat_minor": 4
}
