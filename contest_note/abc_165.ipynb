{
 "cells": [
  {
   "cell_type": "markdown",
   "metadata": {},
   "source": [
    "# C"
   ]
  },
  {
   "cell_type": "code",
   "execution_count": 1,
   "metadata": {},
   "outputs": [
    {
     "name": "stdout",
     "output_type": "stream",
     "text": [
      "110\n"
     ]
    }
   ],
   "source": [
    "N, M, Q = 3, 4, 3\n",
    "X = [[1, 3, 3, 100], [1, 2, 2, 10], [2, 3, 2, 10]]\n",
    "\n",
    "print(110)"
   ]
  },
  {
   "cell_type": "markdown",
   "metadata": {},
   "source": [
    "#### 広義単調増加列の全探索\n",
    "\n",
    "$19 choose 9 = 92,378$通りなので，計算が間に合う"
   ]
  },
  {
   "cell_type": "code",
   "execution_count": 16,
   "metadata": {},
   "outputs": [],
   "source": [
    "def dfs(x):\n",
    "    if len(x) == N + 1:\n",
    "        tmp = 0\n",
    "        for i in range(Q):\n",
    "            if x[X[i][1]] - x[X[i][0]] == X[i][2]:\n",
    "                tmp += X[i][3]\n",
    "        return tmp\n",
    "\n",
    "    x.append(x[-1])\n",
    "    res = 0\n",
    "    while x[-1] <= M:\n",
    "        res = max(res, dfs(x))\n",
    "        x[-1] += 1\n",
    "    x.pop()\n",
    "\n",
    "    return res"
   ]
  },
  {
   "cell_type": "code",
   "execution_count": 17,
   "metadata": {},
   "outputs": [
    {
     "name": "stdout",
     "output_type": "stream",
     "text": [
      "110\n"
     ]
    }
   ],
   "source": [
    "print(dfs([1]))"
   ]
  },
  {
   "cell_type": "markdown",
   "metadata": {},
   "source": [
    "#### 別解"
   ]
  },
  {
   "cell_type": "code",
   "execution_count": 18,
   "metadata": {},
   "outputs": [],
   "source": [
    "from itertools import combinations_with_replacement"
   ]
  },
  {
   "cell_type": "code",
   "execution_count": 21,
   "metadata": {},
   "outputs": [
    {
     "name": "stdout",
     "output_type": "stream",
     "text": [
      "110\n"
     ]
    }
   ],
   "source": [
    "ans = 0\n",
    "for x in combinations_with_replacement(range(1, M + 1), N):\n",
    "    tmp = 0\n",
    "    for i in range(Q):\n",
    "        if x[X[i][1] - 1] - x[X[i][0] - 1] == X[i][2]:\n",
    "            tmp += X[i][3]\n",
    "    ans = max(ans, tmp)\n",
    "print(ans)"
   ]
  },
  {
   "cell_type": "markdown",
   "metadata": {},
   "source": [
    "# D"
   ]
  },
  {
   "cell_type": "code",
   "execution_count": 74,
   "metadata": {},
   "outputs": [
    {
     "name": "stdout",
     "output_type": "stream",
     "text": [
      "2\n"
     ]
    }
   ],
   "source": [
    "A, B, N = 5, 7, 4\n",
    "\n",
    "print(2)"
   ]
  },
  {
   "cell_type": "code",
   "execution_count": 75,
   "metadata": {},
   "outputs": [
    {
     "name": "stdout",
     "output_type": "stream",
     "text": [
      "2\n"
     ]
    }
   ],
   "source": [
    "print(A * (min(N, B - 1)) // B)"
   ]
  },
  {
   "cell_type": "markdown",
   "metadata": {},
   "source": [
    "# E"
   ]
  },
  {
   "cell_type": "code",
   "execution_count": 16,
   "metadata": {},
   "outputs": [
    {
     "name": "stdout",
     "output_type": "stream",
     "text": [
      "[[2, 3]]\n"
     ]
    }
   ],
   "source": [
    "N, M = 4, 1\n",
    "\n",
    "print([[2, 3]])"
   ]
  },
  {
   "cell_type": "code",
   "execution_count": 25,
   "metadata": {},
   "outputs": [
    {
     "name": "stdout",
     "output_type": "stream",
     "text": [
      "2 3\n"
     ]
    }
   ],
   "source": [
    "ans = []\n",
    "n = M // 2\n",
    "m = 2 * n + 1\n",
    "l = 2 * M + 1\n",
    "for i in range(n):\n",
    "    ans.append([i + 1, m - i])\n",
    "\n",
    "for i in range(M - n):\n",
    "    ans.append([m + i + 1, l - i])\n",
    "\n",
    "for v in ans:\n",
    "    print(*v)"
   ]
  },
  {
   "cell_type": "markdown",
   "metadata": {},
   "source": [
    "# F"
   ]
  },
  {
   "cell_type": "code",
   "execution_count": 1,
   "metadata": {},
   "outputs": [
    {
     "name": "stdout",
     "output_type": "stream",
     "text": [
      "1 2 3 3 4 4 5 2 2 3\n"
     ]
    }
   ],
   "source": [
    "N = 10\n",
    "A = [1, 2, 5, 3, 4, 6, 7, 3, 2, 4]\n",
    "X = [[1, 2], [2, 3], [3, 4], [4, 5], [3, 6], [6, 7], [1, 8], [8, 9], [9, 10]]\n",
    "\n",
    "print(\"1 2 3 3 4 4 5 2 2 3\")"
   ]
  },
  {
   "cell_type": "code",
   "execution_count": 2,
   "metadata": {},
   "outputs": [],
   "source": [
    "graph = [[] for _ in range(N)]\n",
    "for u, v in X:\n",
    "    graph[u - 1].append(v - 1)\n",
    "    graph[v - 1].append(u - 1)"
   ]
  },
  {
   "cell_type": "code",
   "execution_count": 3,
   "metadata": {},
   "outputs": [],
   "source": [
    "from bisect import bisect_left\n",
    "from collections import deque"
   ]
  },
  {
   "cell_type": "code",
   "execution_count": 4,
   "metadata": {},
   "outputs": [
    {
     "name": "stdout",
     "output_type": "stream",
     "text": [
      "1 2 3 3 4 4 5 2 2 3\n"
     ]
    }
   ],
   "source": [
    "INF = 10 ** 9 + 7\n",
    "dp = [INF] * (N + 1)\n",
    "dp[0] = -INF\n",
    "rb = [[] for _ in range(N)]\n",
    "ans = [0] * N\n",
    "\n",
    "# DFS\n",
    "q = deque([(0, 0)])  # (current, parent)\n",
    "while q:\n",
    "    u, p = q.pop()\n",
    "\n",
    "    # Roll back\n",
    "    if p is None:\n",
    "        i, x = rb[u].pop()\n",
    "        dp[i] = x\n",
    "        continue\n",
    "\n",
    "    # Update dp\n",
    "    i = bisect_left(dp, A[u])\n",
    "    rb[u].append((i, dp[i]))\n",
    "    dp[i] = A[u]\n",
    "\n",
    "    # Calc ans\n",
    "    ans[u] = max(i, ans[p])\n",
    "\n",
    "    # Go to next\n",
    "    q.append((u, None))\n",
    "    for v in graph[u]:\n",
    "        if v == p:\n",
    "            continue\n",
    "        q.append((v, u))\n",
    "\n",
    "print(*ans)"
   ]
  },
  {
   "cell_type": "code",
   "execution_count": null,
   "metadata": {},
   "outputs": [],
   "source": []
  }
 ],
 "metadata": {
  "kernelspec": {
   "display_name": "Python 3",
   "language": "python",
   "name": "python3"
  },
  "language_info": {
   "codemirror_mode": {
    "name": "ipython",
    "version": 3
   },
   "file_extension": ".py",
   "mimetype": "text/x-python",
   "name": "python",
   "nbconvert_exporter": "python",
   "pygments_lexer": "ipython3",
   "version": "3.7.3"
  }
 },
 "nbformat": 4,
 "nbformat_minor": 4
}
