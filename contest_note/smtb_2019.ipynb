{
 "cells": [
  {
   "cell_type": "markdown",
   "metadata": {},
   "source": [
    "# A"
   ]
  },
  {
   "cell_type": "code",
   "execution_count": 1,
   "metadata": {},
   "outputs": [],
   "source": [
    "M1, D1 = 11, 16\n",
    "M2, D2 = 11, 17"
   ]
  },
  {
   "cell_type": "code",
   "execution_count": 3,
   "metadata": {},
   "outputs": [
    {
     "name": "stdout",
     "output_type": "stream",
     "text": [
      "0\n"
     ]
    }
   ],
   "source": [
    "print(int(M1 != M2))"
   ]
  },
  {
   "cell_type": "markdown",
   "metadata": {},
   "source": [
    "# B"
   ]
  },
  {
   "cell_type": "code",
   "execution_count": 25,
   "metadata": {},
   "outputs": [],
   "source": [
    "N = 432"
   ]
  },
  {
   "cell_type": "code",
   "execution_count": 20,
   "metadata": {},
   "outputs": [],
   "source": [
    "N = 1001"
   ]
  },
  {
   "cell_type": "code",
   "execution_count": 26,
   "metadata": {},
   "outputs": [
    {
     "name": "stdout",
     "output_type": "stream",
     "text": [
      "400\n"
     ]
    }
   ],
   "source": [
    "x = int((N + 1) / 1.08)\n",
    "y = int(x * 1.08)\n",
    "\n",
    "if N == y:\n",
    "    print(x)\n",
    "else:\n",
    "    print(\":(\")"
   ]
  },
  {
   "cell_type": "markdown",
   "metadata": {},
   "source": [
    "# C"
   ]
  },
  {
   "cell_type": "code",
   "execution_count": 1,
   "metadata": {},
   "outputs": [
    {
     "name": "stdout",
     "output_type": "stream",
     "text": [
      "1\n"
     ]
    }
   ],
   "source": [
    "X = 615\n",
    "\n",
    "print(1)"
   ]
  },
  {
   "cell_type": "code",
   "execution_count": 2,
   "metadata": {},
   "outputs": [
    {
     "name": "stdout",
     "output_type": "stream",
     "text": [
      "1\n"
     ]
    }
   ],
   "source": [
    "dp = [-1] * (X + 1)\n",
    "a = [100, 101, 102, 103, 104, 105]\n",
    "m = [1000000] * 6\n",
    "dp[0] = 0\n",
    "for i in range(6):\n",
    "    for j in range(X + 1):\n",
    "        if dp[j] >= 0:\n",
    "            dp[j] = m[i]\n",
    "        elif j < a[i] or dp[j - a[i]] <= 0:\n",
    "            dp[j] = -1\n",
    "        else:\n",
    "            dp[j] = dp[j - a[i]] - 1\n",
    "            \n",
    "print(int(dp[-1] >= 0))"
   ]
  },
  {
   "cell_type": "markdown",
   "metadata": {},
   "source": [
    "# D"
   ]
  },
  {
   "cell_type": "code",
   "execution_count": 11,
   "metadata": {},
   "outputs": [
    {
     "name": "stdout",
     "output_type": "stream",
     "text": [
      "3\n"
     ]
    }
   ],
   "source": [
    "N = 4\n",
    "S = \"0224\"\n",
    "\n",
    "print(3)"
   ]
  },
  {
   "cell_type": "code",
   "execution_count": 105,
   "metadata": {},
   "outputs": [
    {
     "name": "stdout",
     "output_type": "stream",
     "text": [
      "17\n"
     ]
    }
   ],
   "source": [
    "N = 6\n",
    "S = \"123123\"\n",
    "\n",
    "print(17)"
   ]
  },
  {
   "cell_type": "code",
   "execution_count": 14,
   "metadata": {},
   "outputs": [
    {
     "name": "stdout",
     "output_type": "stream",
     "text": [
      "329\n"
     ]
    }
   ],
   "source": [
    "N = 19\n",
    "S = \"3141592653589793238\"\n",
    "\n",
    "print(329)"
   ]
  },
  {
   "cell_type": "code",
   "execution_count": 108,
   "metadata": {},
   "outputs": [
    {
     "name": "stdout",
     "output_type": "stream",
     "text": [
      "329\n"
     ]
    }
   ],
   "source": [
    "ans = 0\n",
    "for i in range(1000):\n",
    "    v1 = i // 100\n",
    "    v2 = i // 10 - v1 * 10\n",
    "    v3 = i - v1 * 100 - v2 * 10\n",
    "    \n",
    "    p1 = S.find(str(v1))\n",
    "    if p1 < 0:\n",
    "        continue\n",
    "        \n",
    "    p2 = S[p1+1:].find(str(v2))\n",
    "    if p2 < 0:\n",
    "        continue\n",
    "        \n",
    "    p3 = S[p1+p2+2:].find(str(v3))\n",
    "    ans += int(p3 >= 0)\n",
    "    \n",
    "print(ans)"
   ]
  },
  {
   "cell_type": "markdown",
   "metadata": {},
   "source": [
    "#### DPを使った別解\n",
    "\n",
    "ただしPythonの場合にはTLE\n",
    "\n",
    "https://atcoder.jp/contests/sumitrust2019/submissions/8717655"
   ]
  },
  {
   "cell_type": "code",
   "execution_count": 15,
   "metadata": {},
   "outputs": [
    {
     "name": "stdout",
     "output_type": "stream",
     "text": [
      "329\n"
     ]
    }
   ],
   "source": [
    "dp = [[[False] * 1000 for _ in range(4)] for _ in range(N + 1)]\n",
    "dp[0][0][0] = True\n",
    "\n",
    "for i in range(N):\n",
    "    for j in range(4):\n",
    "        for k in range(1000):\n",
    "            if not dp[i][j][k]:\n",
    "                continue\n",
    "                \n",
    "            # Not choose S[i]\n",
    "            dp[i + 1][j][k] = True\n",
    "            \n",
    "            # Choose S[i]\n",
    "            if j < 3:\n",
    "                dp[i + 1][j + 1][k * 10 + int(S[i])] = True\n",
    "            \n",
    "print(sum(dp[-1][-1]))"
   ]
  },
  {
   "cell_type": "markdown",
   "metadata": {},
   "source": [
    "#### 別解\n",
    "\n",
    "https://atcoder.jp/contests/sumitrust2019/submissions/8730652"
   ]
  },
  {
   "cell_type": "code",
   "execution_count": 17,
   "metadata": {},
   "outputs": [
    {
     "name": "stdout",
     "output_type": "stream",
     "text": [
      "329\n"
     ]
    }
   ],
   "source": [
    "X = [0] * 10  # 1~10\n",
    "Y = [0] * 100  # 1~100\n",
    "Z = [0] * 1000  # 1~1000\n",
    "\n",
    "for i in range(N):\n",
    "    k = int(S[i])\n",
    "    for j in range(100):\n",
    "        if Y[j]:\n",
    "            Z[j * 10 + k] = 1\n",
    "    for j in range(10):\n",
    "        if X[j]:\n",
    "            Y[j * 10 + k] = 1\n",
    "    X[k] = 1\n",
    "    \n",
    "print(sum(Z))"
   ]
  },
  {
   "cell_type": "markdown",
   "metadata": {},
   "source": [
    "# E"
   ]
  },
  {
   "cell_type": "code",
   "execution_count": 110,
   "metadata": {},
   "outputs": [
    {
     "name": "stdout",
     "output_type": "stream",
     "text": [
      "3\n"
     ]
    }
   ],
   "source": [
    "N = 6\n",
    "A = [0, 1, 2, 3, 4, 5]\n",
    "\n",
    "print(3)"
   ]
  },
  {
   "cell_type": "markdown",
   "metadata": {},
   "source": [
    "#### 模範解答\n",
    "\n",
    "https://atcoder.jp/contests/sumitrust2019/submissions/8697277"
   ]
  },
  {
   "cell_type": "code",
   "execution_count": 112,
   "metadata": {},
   "outputs": [
    {
     "name": "stdout",
     "output_type": "stream",
     "text": [
      "3\n"
     ]
    }
   ],
   "source": [
    "MOD = 10 ** 9 + 7\n",
    "cnt = [0] * (N + 1)\n",
    "cnt[0] = 3\n",
    "\n",
    "ans = 1\n",
    "for a in A:\n",
    "    ans = ans * cnt[a] % MOD\n",
    "    if ans == 0:\n",
    "        break\n",
    "        \n",
    "    cnt[a] -= 1\n",
    "    cnt[a+1] += 1\n",
    "    \n",
    "print(ans)"
   ]
  },
  {
   "cell_type": "markdown",
   "metadata": {},
   "source": [
    "#### 解法\n",
    "\n",
    "https://atcoder.jp/contests/sumitrust2019/submissions/8731837"
   ]
  },
  {
   "cell_type": "code",
   "execution_count": 111,
   "metadata": {},
   "outputs": [
    {
     "name": "stdout",
     "output_type": "stream",
     "text": [
      "3\n"
     ]
    }
   ],
   "source": [
    "MOD = 10 ** 9 + 7\n",
    "\n",
    "ans = 1\n",
    "X = [0, 0, 0]\n",
    "for a in A:\n",
    "    c = X.count(a)\n",
    "    ans = ans * c % MOD\n",
    "    \n",
    "    if X[0] == a:\n",
    "        X[0] += 1\n",
    "    elif X[1] == a:\n",
    "        X[1] += 1\n",
    "    else:\n",
    "        X[2] += 1\n",
    "        \n",
    "print(ans)"
   ]
  },
  {
   "cell_type": "markdown",
   "metadata": {},
   "source": [
    "# F"
   ]
  },
  {
   "cell_type": "code",
   "execution_count": 1,
   "metadata": {},
   "outputs": [
    {
     "name": "stdout",
     "output_type": "stream",
     "text": [
      "1\n"
     ]
    }
   ],
   "source": [
    "T1, T2 = [1, 2]\n",
    "A1, A2 = [10, 10]\n",
    "B1, B2 = [12, 4]\n",
    "\n",
    "print(1)"
   ]
  },
  {
   "cell_type": "code",
   "execution_count": 2,
   "metadata": {},
   "outputs": [
    {
     "name": "stdout",
     "output_type": "stream",
     "text": [
      "infinity\n"
     ]
    }
   ],
   "source": [
    "T1, T2 = [100, 1]\n",
    "A1, A2 = [101, 101]\n",
    "B1, B2 = [102, 1]\n",
    "\n",
    "print(\"infinity\")"
   ]
  },
  {
   "cell_type": "code",
   "execution_count": 3,
   "metadata": {},
   "outputs": [
    {
     "name": "stdout",
     "output_type": "stream",
     "text": [
      "113\n"
     ]
    }
   ],
   "source": [
    "T1, T2 = [12000, 15700]\n",
    "A1, A2 = [3390000000, 3810000000]\n",
    "B1, B2 = [5550000000, 2130000000]\n",
    "\n",
    "print(\"113\")"
   ]
  },
  {
   "cell_type": "code",
   "execution_count": 4,
   "metadata": {},
   "outputs": [
    {
     "name": "stdout",
     "output_type": "stream",
     "text": [
      "113\n"
     ]
    }
   ],
   "source": [
    "P = (A1 - B1) * T1\n",
    "Q = (A2 - B2) * T2\n",
    "\n",
    "if P > 0:\n",
    "    P *= -1\n",
    "    Q *= -1\n",
    "    \n",
    "if P + Q < 0:\n",
    "    print(0)\n",
    "elif P + Q == 0:\n",
    "    print(\"infinity\")\n",
    "else:\n",
    "    S = -P // (P + Q)\n",
    "    T = -P % (P + Q)\n",
    "    if T != 0:\n",
    "        print(S * 2 + 1)\n",
    "    else:\n",
    "        print(S * 2)"
   ]
  },
  {
   "cell_type": "code",
   "execution_count": null,
   "metadata": {},
   "outputs": [],
   "source": []
  }
 ],
 "metadata": {
  "kernelspec": {
   "display_name": "Python 3",
   "language": "python",
   "name": "python3"
  },
  "language_info": {
   "codemirror_mode": {
    "name": "ipython",
    "version": 3
   },
   "file_extension": ".py",
   "mimetype": "text/x-python",
   "name": "python",
   "nbconvert_exporter": "python",
   "pygments_lexer": "ipython3",
   "version": "3.7.3"
  }
 },
 "nbformat": 4,
 "nbformat_minor": 4
}
