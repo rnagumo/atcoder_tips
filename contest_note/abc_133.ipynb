{
 "cells": [
  {
   "cell_type": "markdown",
   "metadata": {},
   "source": [
    "# A"
   ]
  },
  {
   "cell_type": "code",
   "execution_count": null,
   "metadata": {},
   "outputs": [],
   "source": [
    "\n"
   ]
  },
  {
   "cell_type": "code",
   "execution_count": null,
   "metadata": {},
   "outputs": [],
   "source": []
  },
  {
   "cell_type": "code",
   "execution_count": null,
   "metadata": {},
   "outputs": [],
   "source": []
  },
  {
   "cell_type": "markdown",
   "metadata": {},
   "source": [
    "# B"
   ]
  },
  {
   "cell_type": "code",
   "execution_count": 6,
   "metadata": {},
   "outputs": [],
   "source": [
    "def calc(x, y):\n",
    "    cnt = sum((x[i] - y[i]) ** 2 for i in range(D))\n",
    "    return cnt ** 0.5 == int(cnt ** 0.5)"
   ]
  },
  {
   "cell_type": "code",
   "execution_count": 7,
   "metadata": {},
   "outputs": [
    {
     "name": "stdout",
     "output_type": "stream",
     "text": [
      "1\n"
     ]
    }
   ],
   "source": [
    "N, D = 3, 2\n",
    "X = [[1, 2], [5, 5], [-2, 8]]\n",
    "\n",
    "ans = 0\n",
    "for i in range(N):\n",
    "    for j in range(i + 1, N):\n",
    "        ans += 1 if calc(X[i], X[j]) else 0\n",
    "print(ans)"
   ]
  },
  {
   "cell_type": "markdown",
   "metadata": {},
   "source": [
    "# C"
   ]
  },
  {
   "cell_type": "code",
   "execution_count": 47,
   "metadata": {},
   "outputs": [
    {
     "name": "stdout",
     "output_type": "stream",
     "text": [
      "ans: 2\n"
     ]
    }
   ],
   "source": [
    "L, R = 2020, 2040\n",
    "\n",
    "print('ans: 2')"
   ]
  },
  {
   "cell_type": "code",
   "execution_count": 51,
   "metadata": {},
   "outputs": [
    {
     "name": "stdout",
     "output_type": "stream",
     "text": [
      "ans: 2\n"
     ]
    }
   ],
   "source": [
    "L, R = 2018, 2040\n",
    "\n",
    "print('ans: 2')"
   ]
  },
  {
   "cell_type": "code",
   "execution_count": 44,
   "metadata": {},
   "outputs": [
    {
     "name": "stdout",
     "output_type": "stream",
     "text": [
      "ans: 20\n"
     ]
    }
   ],
   "source": [
    "L, R = 4, 5\n",
    "\n",
    "print('ans: 20')"
   ]
  },
  {
   "cell_type": "code",
   "execution_count": 20,
   "metadata": {},
   "outputs": [
    {
     "data": {
      "text/plain": [
       "(21, 2018)"
      ]
     },
     "execution_count": 20,
     "metadata": {},
     "output_type": "execute_result"
    }
   ],
   "source": [
    "ub, lb"
   ]
  },
  {
   "cell_type": "code",
   "execution_count": 45,
   "metadata": {},
   "outputs": [
    {
     "name": "stdout",
     "output_type": "stream",
     "text": [
      "20\n"
     ]
    }
   ],
   "source": [
    "MOD = 2019\n",
    "ub = max(R % MOD, L % MOD)\n",
    "lb = min(R % MOD, L % MOD)\n",
    "\n",
    "ans = float('inf')\n",
    "while ub - lb > 0:\n",
    "    mid = (ub + lb) // 2\n",
    "    cnt = ub * lb % MOD\n",
    "    \n",
    "    if ub - lb == 1:\n",
    "        ans = min(ans, cnt)\n",
    "        break\n",
    "    \n",
    "    if ans > cnt:\n",
    "        ub = mid\n",
    "        ans = cnt\n",
    "    else:\n",
    "        lb = mid\n",
    "        \n",
    "print(ans)"
   ]
  },
  {
   "cell_type": "code",
   "execution_count": 55,
   "metadata": {},
   "outputs": [
    {
     "name": "stdout",
     "output_type": "stream",
     "text": [
      "0\n"
     ]
    }
   ],
   "source": [
    "MOD = 2019\n",
    "ub = max(R % MOD, L % MOD)\n",
    "lb = min(R % MOD, L % MOD)\n",
    "\n",
    "if ub == lb or R // MOD != L // MOD:\n",
    "    print(0)\n",
    "\n",
    "ans = float('inf')\n",
    "for i in range(lb, ub + 1):\n",
    "    for j in range(i + 1, ub + 1):\n",
    "        ans = min(ans, i * j % MOD)\n",
    "print(ans)"
   ]
  },
  {
   "cell_type": "code",
   "execution_count": 53,
   "metadata": {},
   "outputs": [
    {
     "data": {
      "text/plain": [
       "(2018, 21)"
      ]
     },
     "execution_count": 53,
     "metadata": {},
     "output_type": "execute_result"
    }
   ],
   "source": [
    "ub, lb"
   ]
  },
  {
   "cell_type": "markdown",
   "metadata": {},
   "source": [
    "# D"
   ]
  },
  {
   "cell_type": "code",
   "execution_count": 82,
   "metadata": {},
   "outputs": [
    {
     "name": "stdout",
     "output_type": "stream",
     "text": [
      "ans: 4 0 4\n"
     ]
    }
   ],
   "source": [
    "N = 3\n",
    "A = [2, 2, 4]\n",
    "\n",
    "print('ans: 4 0 4')"
   ]
  },
  {
   "cell_type": "code",
   "execution_count": 78,
   "metadata": {},
   "outputs": [
    {
     "name": "stdout",
     "output_type": "stream",
     "text": [
      "ans: 2, 4, 12, 2, 8\n"
     ]
    }
   ],
   "source": [
    "N = 5\n",
    "A = [3, 8, 7, 5, 5]\n",
    "\n",
    "print('ans: 2, 4, 12, 2, 8')"
   ]
  },
  {
   "cell_type": "code",
   "execution_count": 84,
   "metadata": {},
   "outputs": [
    {
     "name": "stdout",
     "output_type": "stream",
     "text": [
      "4 0 4\n"
     ]
    }
   ],
   "source": [
    "ans = [0] * N\n",
    "\n",
    "for i in range(N):\n",
    "    ans[0] += A[i] * (-1) ** int(i % 2 != 0)\n",
    "\n",
    "for i in reversed(range(1, N)):\n",
    "    ans[i] = 2 * A[i] - ans[(i + 1) % N]\n",
    "    \n",
    "print(*ans)"
   ]
  },
  {
   "cell_type": "markdown",
   "metadata": {},
   "source": [
    "# E"
   ]
  },
  {
   "cell_type": "code",
   "execution_count": 151,
   "metadata": {},
   "outputs": [
    {
     "name": "stdout",
     "output_type": "stream",
     "text": [
      "ans: 6\n"
     ]
    }
   ],
   "source": [
    "N, K = 4, 3\n",
    "edges = [[1, 2], [2, 3], [3, 4]]\n",
    "MOD = 10 ** 9 + 7\n",
    "\n",
    "print('ans: 6')"
   ]
  },
  {
   "cell_type": "code",
   "execution_count": 141,
   "metadata": {},
   "outputs": [
    {
     "name": "stdout",
     "output_type": "stream",
     "text": [
      "ans: 48\n"
     ]
    }
   ],
   "source": [
    "N, K = 5, 4\n",
    "edges = [[1, 2], [1, 3], [1, 4], [4, 5]]\n",
    "MOD = 10 ** 9 + 7\n",
    "\n",
    "print('ans: 48')"
   ]
  },
  {
   "cell_type": "markdown",
   "metadata": {},
   "source": [
    "#### 模範解答（しかしTLE）"
   ]
  },
  {
   "cell_type": "code",
   "execution_count": 155,
   "metadata": {},
   "outputs": [],
   "source": [
    "def dfs(u, par):\n",
    "    color_num = K - 1 if par == -1 else K - 2\n",
    "\n",
    "    if len(graph[u]) > K:\n",
    "        return 0\n",
    "    \n",
    "    cnt = 1\n",
    "    for v in graph[u]:\n",
    "        if v == par:\n",
    "            continue\n",
    "\n",
    "        cnt *= color_num\n",
    "        cnt %= MOD\n",
    "        color_num -= 1\n",
    "\n",
    "    for v in graph[u]:\n",
    "        if v == par:\n",
    "            continue\n",
    "\n",
    "        cnt *= dfs(v, u)\n",
    "        cnt %= MOD\n",
    "        \n",
    "    return cnt"
   ]
  },
  {
   "cell_type": "code",
   "execution_count": 156,
   "metadata": {},
   "outputs": [
    {
     "name": "stdout",
     "output_type": "stream",
     "text": [
      "6\n"
     ]
    }
   ],
   "source": [
    "import sys\n",
    "sys.setrecursionlimit(100000)\n",
    "\n",
    "graph = [[] for _ in range(N)]\n",
    "for u, v in edges:\n",
    "    graph[u - 1].append(v - 1)\n",
    "    graph[v - 1].append(u - 1)\n",
    "\n",
    "print(dfs(0, -1) * K % MOD)"
   ]
  },
  {
   "cell_type": "markdown",
   "metadata": {},
   "source": [
    "#### dequeを使う"
   ]
  },
  {
   "cell_type": "code",
   "execution_count": 158,
   "metadata": {},
   "outputs": [],
   "source": [
    "from collections import deque\n",
    "\n",
    "def dfs(u, par):\n",
    "    q = deque()\n",
    "    q.append((u, par))\n",
    "    ret = 1\n",
    "\n",
    "    while q:\n",
    "        u, par = q.pop()\n",
    "        color_num = K - 1 if par == -1 else K - 2\n",
    "        \n",
    "        if len(graph[u]) > K:\n",
    "            return 0\n",
    "            \n",
    "        for v in graph[u]:\n",
    "            if v == par:\n",
    "                continue\n",
    "                \n",
    "            ret *= color_num\n",
    "            ret %= MOD\n",
    "            color_num -= 1\n",
    "            \n",
    "            q.append((v, u))\n",
    "\n",
    "    return ret"
   ]
  },
  {
   "cell_type": "code",
   "execution_count": 159,
   "metadata": {},
   "outputs": [
    {
     "name": "stdout",
     "output_type": "stream",
     "text": [
      "6\n"
     ]
    }
   ],
   "source": [
    "graph = [[] for _ in range(N)]\n",
    "for u, v in edges:\n",
    "    graph[u - 1].append(v - 1)\n",
    "    graph[v - 1].append(u - 1)\n",
    "\n",
    "print(dfs(0, -1) * K % MOD)"
   ]
  },
  {
   "cell_type": "code",
   "execution_count": null,
   "metadata": {},
   "outputs": [],
   "source": []
  },
  {
   "cell_type": "code",
   "execution_count": null,
   "metadata": {},
   "outputs": [],
   "source": []
  }
 ],
 "metadata": {
  "kernelspec": {
   "display_name": "Python 3",
   "language": "python",
   "name": "python3"
  },
  "language_info": {
   "codemirror_mode": {
    "name": "ipython",
    "version": 3
   },
   "file_extension": ".py",
   "mimetype": "text/x-python",
   "name": "python",
   "nbconvert_exporter": "python",
   "pygments_lexer": "ipython3",
   "version": "3.7.3"
  }
 },
 "nbformat": 4,
 "nbformat_minor": 2
}
