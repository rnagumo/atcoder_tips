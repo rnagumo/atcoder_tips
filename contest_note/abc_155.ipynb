{
 "cells": [
  {
   "cell_type": "markdown",
   "metadata": {},
   "source": [
    "# C"
   ]
  },
  {
   "cell_type": "code",
   "execution_count": 1,
   "metadata": {},
   "outputs": [],
   "source": [
    "N = 7\n",
    "S = ['beat', 'vet', 'beet', 'bed', 'vet', 'bet', 'beet']"
   ]
  },
  {
   "cell_type": "code",
   "execution_count": 2,
   "metadata": {},
   "outputs": [
    {
     "name": "stdout",
     "output_type": "stream",
     "text": [
      "beet\n",
      "vet\n"
     ]
    }
   ],
   "source": [
    "from collections import Counter\n",
    "\n",
    "ctr = Counter(S)\n",
    "cnt_max =  max(ctr.values())\n",
    "\n",
    "for s, c in sorted(ctr.items(), key=lambda x: (-x[1], x[0])):\n",
    "    if c == cnt_max:\n",
    "        print(s)"
   ]
  },
  {
   "cell_type": "markdown",
   "metadata": {},
   "source": [
    "# D"
   ]
  },
  {
   "cell_type": "code",
   "execution_count": 1,
   "metadata": {},
   "outputs": [
    {
     "name": "stdout",
     "output_type": "stream",
     "text": [
      "-6\n"
     ]
    }
   ],
   "source": [
    "N, K = 4, 3\n",
    "A = [3, 3, -4, -2]\n",
    "\n",
    "print(-6)"
   ]
  },
  {
   "cell_type": "code",
   "execution_count": 2,
   "metadata": {},
   "outputs": [],
   "source": [
    "neg = sorted([-a for a in A if a < 0])\n",
    "pos = sorted([a for a in A if a >= 0])"
   ]
  },
  {
   "cell_type": "markdown",
   "metadata": {},
   "source": [
    "### x<0のとき，-xより小さいペアの数を数える．"
   ]
  },
  {
   "cell_type": "code",
   "execution_count": 7,
   "metadata": {},
   "outputs": [],
   "source": [
    "def _count_pair_neg(x):\n",
    "    x = -x\n",
    "    res = 0\n",
    "\n",
    "    MAX = len(pos)\n",
    "    i = 0\n",
    "    for n in reversed(neg):\n",
    "        while i < MAX and n * pos[i] < x:\n",
    "            i += 1\n",
    "\n",
    "        res += MAX - i\n",
    "    return res"
   ]
  },
  {
   "cell_type": "markdown",
   "metadata": {},
   "source": [
    "### x>0のとき，x以下のペアの数を数える．"
   ]
  },
  {
   "cell_type": "code",
   "execution_count": 8,
   "metadata": {},
   "outputs": [],
   "source": [
    "def _count_pair_pos(x):\n",
    "    res = 0\n",
    "\n",
    "    # Negative list\n",
    "    i = 0\n",
    "    MAX = len(neg)\n",
    "    for n in reversed(neg):\n",
    "        if n * n <= x:\n",
    "            res -= 1\n",
    "            \n",
    "        while i < MAX and neg[i] * n <= x:\n",
    "            i += 1\n",
    "        res += i\n",
    "        \n",
    "    # Positive list\n",
    "    i = 0\n",
    "    MAX = len(pos)\n",
    "    for n in reversed(pos):\n",
    "        if n * n <= x:\n",
    "            res -= 1\n",
    "            \n",
    "        while i < MAX and pos[i] * n <= x:\n",
    "            i += 1\n",
    "        res += i\n",
    "        \n",
    "    # Devide by 2 for counting the same pair twice\n",
    "    res //= 2\n",
    "    res += len(neg) * len(pos)\n",
    "    return res"
   ]
  },
  {
   "cell_type": "code",
   "execution_count": 9,
   "metadata": {},
   "outputs": [],
   "source": [
    "def count_pair(x):\n",
    "    if x < 0:\n",
    "        return _count_pair_neg(x)\n",
    "    \n",
    "    return _count_pair_pos(x)"
   ]
  },
  {
   "cell_type": "code",
   "execution_count": 10,
   "metadata": {},
   "outputs": [
    {
     "name": "stdout",
     "output_type": "stream",
     "text": [
      "-6\n"
     ]
    }
   ],
   "source": [
    "# Bounds\n",
    "lb = 0\n",
    "ub = 2 * 10 ** 18 + 2\n",
    "\n",
    "while ub - lb > 1:\n",
    "    mid = (ub + lb) // 2\n",
    "    if count_pair(mid - 10 ** 18 - 1) < K:\n",
    "        lb = mid\n",
    "    else:\n",
    "        ub = mid\n",
    "\n",
    "print(ub - 10 ** 18 - 1)"
   ]
  },
  {
   "cell_type": "markdown",
   "metadata": {},
   "source": [
    "# E"
   ]
  },
  {
   "cell_type": "code",
   "execution_count": 12,
   "metadata": {},
   "outputs": [
    {
     "name": "stdout",
     "output_type": "stream",
     "text": [
      "8\n"
     ]
    }
   ],
   "source": [
    "N = [3, 6]\n",
    "\n",
    "print(8)"
   ]
  },
  {
   "cell_type": "code",
   "execution_count": 13,
   "metadata": {},
   "outputs": [
    {
     "name": "stdout",
     "output_type": "stream",
     "text": [
      "8\n"
     ]
    }
   ],
   "source": [
    "dp = [[0] * 2 for _ in range(len(N) + 1)]\n",
    "dp[0][1] = 1\n",
    "\n",
    "for i, n in enumerate(N):\n",
    "    dp[i + 1][0] = min(dp[i][0] + n, dp[i][1] + (10 - n))\n",
    "    dp[i + 1][1] = min(dp[i][0] + (n + 1), dp[i][1] + (10 - (n + 1)))\n",
    "    \n",
    "print(dp[-1][0])"
   ]
  },
  {
   "cell_type": "code",
   "execution_count": 14,
   "metadata": {},
   "outputs": [
    {
     "data": {
      "text/plain": [
       "[[0, 1], [3, 4], [8, 7]]"
      ]
     },
     "execution_count": 14,
     "metadata": {},
     "output_type": "execute_result"
    }
   ],
   "source": [
    "dp"
   ]
  },
  {
   "cell_type": "code",
   "execution_count": null,
   "metadata": {},
   "outputs": [],
   "source": []
  }
 ],
 "metadata": {
  "kernelspec": {
   "display_name": "Python 3",
   "language": "python",
   "name": "python3"
  },
  "language_info": {
   "codemirror_mode": {
    "name": "ipython",
    "version": 3
   },
   "file_extension": ".py",
   "mimetype": "text/x-python",
   "name": "python",
   "nbconvert_exporter": "python",
   "pygments_lexer": "ipython3",
   "version": "3.7.3"
  }
 },
 "nbformat": 4,
 "nbformat_minor": 4
}
