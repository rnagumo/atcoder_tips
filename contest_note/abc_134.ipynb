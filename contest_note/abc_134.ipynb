{
 "cells": [
  {
   "cell_type": "markdown",
   "metadata": {},
   "source": [
    "# A"
   ]
  },
  {
   "cell_type": "code",
   "execution_count": 2,
   "metadata": {},
   "outputs": [
    {
     "name": "stdout",
     "output_type": "stream",
     "text": [
      "27\n"
     ]
    }
   ],
   "source": [
    "r = 3\n",
    "print(3 * r ** 2)"
   ]
  },
  {
   "cell_type": "markdown",
   "metadata": {},
   "source": [
    "# B"
   ]
  },
  {
   "cell_type": "code",
   "execution_count": 4,
   "metadata": {},
   "outputs": [],
   "source": [
    "N, D = 6, 2"
   ]
  },
  {
   "cell_type": "code",
   "execution_count": 5,
   "metadata": {},
   "outputs": [
    {
     "name": "stdout",
     "output_type": "stream",
     "text": [
      "2\n"
     ]
    }
   ],
   "source": [
    "from math import ceil\n",
    "print(ceil(N / (2 * D + 1)))"
   ]
  },
  {
   "cell_type": "markdown",
   "metadata": {},
   "source": [
    "# C"
   ]
  },
  {
   "cell_type": "code",
   "execution_count": 6,
   "metadata": {},
   "outputs": [
    {
     "name": "stdout",
     "output_type": "stream",
     "text": [
      "4, 3, 4\n"
     ]
    }
   ],
   "source": [
    "N = 3\n",
    "A = [1, 4, 3]\n",
    "\n",
    "print('4, 3, 4')"
   ]
  },
  {
   "cell_type": "code",
   "execution_count": 18,
   "metadata": {},
   "outputs": [],
   "source": [
    "N = 2\n",
    "A = [5, 5]"
   ]
  },
  {
   "cell_type": "code",
   "execution_count": 17,
   "metadata": {},
   "outputs": [
    {
     "name": "stdout",
     "output_type": "stream",
     "text": [
      "5\n",
      "5\n"
     ]
    }
   ],
   "source": [
    "a, b = sorted(A, reverse=True)[:2]\n",
    "for x in A:\n",
    "    if x != a:\n",
    "        print(a)\n",
    "    else:\n",
    "        print(b)"
   ]
  },
  {
   "cell_type": "markdown",
   "metadata": {},
   "source": [
    "# D"
   ]
  },
  {
   "cell_type": "code",
   "execution_count": 52,
   "metadata": {},
   "outputs": [
    {
     "name": "stdout",
     "output_type": "stream",
     "text": [
      "1\n",
      "1\n"
     ]
    }
   ],
   "source": [
    "N = 3\n",
    "a = [1, 0, 0]\n",
    "\n",
    "print(1)\n",
    "print(1)"
   ]
  },
  {
   "cell_type": "code",
   "execution_count": 57,
   "metadata": {},
   "outputs": [],
   "source": [
    "N = 4\n",
    "a = [1, 0, 0, 1]"
   ]
  },
  {
   "cell_type": "code",
   "execution_count": 70,
   "metadata": {},
   "outputs": [],
   "source": [
    "N = 4\n",
    "a = [1, 1, 1, 1]"
   ]
  },
  {
   "cell_type": "code",
   "execution_count": 78,
   "metadata": {},
   "outputs": [],
   "source": [
    "N = 8\n",
    "a = [1, 0, 0, 1, 1, 0, 0, 1]"
   ]
  },
  {
   "cell_type": "markdown",
   "metadata": {},
   "source": [
    "ボールを入れるリスト"
   ]
  },
  {
   "cell_type": "code",
   "execution_count": 81,
   "metadata": {},
   "outputs": [
    {
     "name": "stdout",
     "output_type": "stream",
     "text": [
      "3\n",
      "2 5 8\n"
     ]
    }
   ],
   "source": [
    "dp = [0] * N\n",
    "for i in reversed(range(N)):\n",
    "    cnt = sum(dp[i::i + 1])\n",
    "    if cnt % 2 == a[i]:\n",
    "        dp[i] = 0\n",
    "    else:\n",
    "        dp[i] = 1\n",
    "            \n",
    "b_bin = [i + 1 for i in range(N) if dp[i] > 0]\n",
    "print(len(b_bin))\n",
    "print(*b_bin)"
   ]
  },
  {
   "cell_type": "code",
   "execution_count": 82,
   "metadata": {},
   "outputs": [
    {
     "data": {
      "text/plain": [
       "[0, 1, 0, 0, 1, 0, 0, 1]"
      ]
     },
     "execution_count": 82,
     "metadata": {},
     "output_type": "execute_result"
    }
   ],
   "source": [
    "dp"
   ]
  },
  {
   "cell_type": "markdown",
   "metadata": {},
   "source": [
    "# E"
   ]
  },
  {
   "cell_type": "code",
   "execution_count": 140,
   "metadata": {},
   "outputs": [
    {
     "name": "stdout",
     "output_type": "stream",
     "text": [
      "2\n"
     ]
    }
   ],
   "source": [
    "N = 5\n",
    "A = [2, 1, 4, 5, 3]\n",
    "\n",
    "print(2)"
   ]
  },
  {
   "cell_type": "code",
   "execution_count": 142,
   "metadata": {},
   "outputs": [
    {
     "name": "stdout",
     "output_type": "stream",
     "text": [
      "2\n"
     ]
    }
   ],
   "source": [
    "N = 5\n",
    "A = [1, 2, 1, 5, 3]\n",
    "\n",
    "print(2)"
   ]
  },
  {
   "cell_type": "code",
   "execution_count": 146,
   "metadata": {},
   "outputs": [
    {
     "name": "stdout",
     "output_type": "stream",
     "text": [
      "2\n"
     ]
    }
   ],
   "source": [
    "N = 5\n",
    "A = [2, 1, 4, 5, 3, 6, 8, 7, 9]\n",
    "\n",
    "print(2)"
   ]
  },
  {
   "cell_type": "code",
   "execution_count": 137,
   "metadata": {},
   "outputs": [
    {
     "name": "stdout",
     "output_type": "stream",
     "text": [
      "4\n"
     ]
    }
   ],
   "source": [
    "N = 4\n",
    "A = [0, 0, 0, 0]\n",
    "\n",
    "print(4)"
   ]
  },
  {
   "cell_type": "code",
   "execution_count": 149,
   "metadata": {},
   "outputs": [
    {
     "name": "stdout",
     "output_type": "stream",
     "text": [
      "2\n"
     ]
    }
   ],
   "source": [
    "from bisect import bisect\n",
    "\n",
    "INF = 10 ** 9 + 7\n",
    "dp = [INF] * (N + 1)\n",
    "for i in range(N):\n",
    "    dp[bisect(dp, -A[i])] = -A[i]\n",
    "\n",
    "print(sum(dp[i] < INF for i in range(N)))"
   ]
  },
  {
   "cell_type": "markdown",
   "metadata": {},
   "source": [
    "# F"
   ]
  },
  {
   "cell_type": "code",
   "execution_count": 172,
   "metadata": {},
   "outputs": [
    {
     "name": "stdout",
     "output_type": "stream",
     "text": [
      "2\n"
     ]
    }
   ],
   "source": [
    "N, K = 3, 2\n",
    "\n",
    "print(2)"
   ]
  },
  {
   "cell_type": "code",
   "execution_count": 189,
   "metadata": {},
   "outputs": [
    {
     "name": "stdout",
     "output_type": "stream",
     "text": [
      "74764168\n"
     ]
    }
   ],
   "source": [
    "N, K = 39, 14\n",
    "\n",
    "print(74764168)"
   ]
  },
  {
   "cell_type": "code",
   "execution_count": 190,
   "metadata": {},
   "outputs": [
    {
     "name": "stdout",
     "output_type": "stream",
     "text": [
      "74764168\n"
     ]
    }
   ],
   "source": [
    "MOD = 10 ** 9 + 7\n",
    "dp = [[[0] * (K + 1) for _ in range(N + 1)] for _ in range(N + 1)]\n",
    "dp[0][0][0] = 1\n",
    "\n",
    "for i in range(1, N + 1):\n",
    "    for j in range(N + 1):\n",
    "        for k in range(K + 1):\n",
    "            if k - 2 * j >= 0:\n",
    "                dp[i][j][k] = (2 * j + 1) * dp[i - 1][j][k - 2 * j]\n",
    "                if j < N:\n",
    "                    dp[i][j][k] += (j + 1) ** 2 * dp[i - 1][j + 1][k - 2 * j]\n",
    "                if j > 0:\n",
    "                    dp[i][j][k] += dp[i - 1][j - 1][k - 2 * j]\n",
    "            dp[i][j][k] %= MOD\n",
    "                    \n",
    "print(dp[N][0][K])"
   ]
  },
  {
   "cell_type": "code",
   "execution_count": 188,
   "metadata": {},
   "outputs": [
    {
     "data": {
      "text/plain": [
       "[[[1, 0, 0], [0, 0, 0], [0, 0, 0], [0, 0, 0]],\n",
       " [[1, 0, 0], [0, 0, 1], [0, 0, 0], [0, 0, 0]],\n",
       " [[1, 0, 1], [0, 0, 1], [0, 0, 0], [0, 0, 0]],\n",
       " [[1, 0, 2], [0, 0, 1], [0, 0, 0], [0, 0, 0]]]"
      ]
     },
     "execution_count": 188,
     "metadata": {},
     "output_type": "execute_result"
    }
   ],
   "source": [
    "dp"
   ]
  },
  {
   "cell_type": "code",
   "execution_count": null,
   "metadata": {},
   "outputs": [],
   "source": []
  }
 ],
 "metadata": {
  "kernelspec": {
   "display_name": "Python 3",
   "language": "python",
   "name": "python3"
  },
  "language_info": {
   "codemirror_mode": {
    "name": "ipython",
    "version": 3
   },
   "file_extension": ".py",
   "mimetype": "text/x-python",
   "name": "python",
   "nbconvert_exporter": "python",
   "pygments_lexer": "ipython3",
   "version": "3.7.3"
  }
 },
 "nbformat": 4,
 "nbformat_minor": 2
}
