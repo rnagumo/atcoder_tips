{
 "cells": [
  {
   "cell_type": "markdown",
   "metadata": {},
   "source": [
    "# A"
   ]
  },
  {
   "cell_type": "code",
   "execution_count": 90,
   "metadata": {},
   "outputs": [
    {
     "name": "stdout",
     "output_type": "stream",
     "text": [
      "Yes\n"
     ]
    }
   ],
   "source": [
    "N = 3\n",
    "a = [1, 2, 3]\n",
    "\n",
    "print('Yes')"
   ]
  },
  {
   "cell_type": "code",
   "execution_count": 95,
   "metadata": {},
   "outputs": [
    {
     "name": "stdout",
     "output_type": "stream",
     "text": [
      "Yes\n"
     ]
    }
   ],
   "source": [
    "N = 6\n",
    "a = [4, 0, 4, 4, 0, 4]\n",
    "\n",
    "print('Yes')"
   ]
  },
  {
   "cell_type": "code",
   "execution_count": 49,
   "metadata": {},
   "outputs": [
    {
     "name": "stdout",
     "output_type": "stream",
     "text": [
      "No\n"
     ]
    }
   ],
   "source": [
    "N = 4\n",
    "a = [1, 2, 4, 8]\n",
    "\n",
    "print('No')"
   ]
  },
  {
   "cell_type": "code",
   "execution_count": 97,
   "metadata": {},
   "outputs": [
    {
     "name": "stdout",
     "output_type": "stream",
     "text": [
      "Yes\n"
     ]
    }
   ],
   "source": [
    "from collections import Counter\n",
    "\n",
    "cnt = 0\n",
    "for v in set(a):\n",
    "    cnt ^= v\n",
    "\n",
    "ctr = Counter(a)\n",
    "flg1 = sum(a) == 0\n",
    "flg2 = len(ctr) == 2 and ctr[0] == N // 3\n",
    "flg3 = cnt == 0 and len(ctr) == 3 and all(v == N // 3 for v in ctr.values())\n",
    "print('Yes' if flg1 or flg2 or flg3 else 'No')"
   ]
  },
  {
   "cell_type": "markdown",
   "metadata": {},
   "source": [
    "# B"
   ]
  },
  {
   "cell_type": "code",
   "execution_count": 112,
   "metadata": {},
   "outputs": [],
   "source": [
    "N, M = 4, 4\n",
    "edges = [[1, 2], [2, 3], [3, 4], [4, 1]]"
   ]
  },
  {
   "cell_type": "code",
   "execution_count": 113,
   "metadata": {},
   "outputs": [],
   "source": [
    "graph = [[] for _ in range(N)]\n",
    "\n",
    "for u, v in edges:\n",
    "    graph[u - 1].append(v - 1)\n",
    "    graph[v - 1].append(u - 1)"
   ]
  },
  {
   "cell_type": "markdown",
   "metadata": {},
   "source": [
    "#### 解答\n",
    "\n",
    "https://atcoder.jp/contests/agc035/submissions/6376850"
   ]
  },
  {
   "cell_type": "code",
   "execution_count": 114,
   "metadata": {},
   "outputs": [
    {
     "name": "stdout",
     "output_type": "stream",
     "text": [
      "2 1\n",
      "2 3\n",
      "4 3\n",
      "4 1\n"
     ]
    }
   ],
   "source": [
    "ans = []\n",
    "record = []\n",
    "parent = [-1] * N\n",
    "visited = [False] * N\n",
    "ctr = [0] * N\n",
    "que = [(-1, 0)]\n",
    "\n",
    "while que:\n",
    "    pre, u = que.pop()\n",
    "    if visited[u]:\n",
    "        ctr[u] += 1\n",
    "        if pre >= 0:\n",
    "            ans.append((u, pre))\n",
    "        continue\n",
    "        \n",
    "    visited[u] = True\n",
    "    record.append(u)\n",
    "    for v in graph[u]:\n",
    "        if v != parent[u]:\n",
    "            parent[v] = u\n",
    "            graph[v].remove(u)\n",
    "            que.append((u, v))\n",
    "            \n",
    "for u in record[1:][::-1]:\n",
    "    if ctr[u] % 2 == 1:\n",
    "        ans.append((u, parent[u]))\n",
    "    else:\n",
    "        ans.append((parent[u], u))\n",
    "        ctr[parent[u]] += 1\n",
    "        \n",
    "for x, y in ans:\n",
    "    print(x + 1, y + 1)"
   ]
  },
  {
   "cell_type": "markdown",
   "metadata": {},
   "source": [
    "# C\n",
    "\n",
    "https://atcoder.jp/contests/agc035/tasks/agc035_c"
   ]
  },
  {
   "cell_type": "code",
   "execution_count": 115,
   "metadata": {},
   "outputs": [
    {
     "name": "stdout",
     "output_type": "stream",
     "text": [
      "1 5 4\n",
      "2 6 4\n",
      "3 7 4\n",
      "4 8 12\n"
     ]
    }
   ],
   "source": [
    "N = 4\n",
    "\n",
    "for i in range(1, N + 1):\n",
    "    print(i, N + i, i^(N + i))"
   ]
  },
  {
   "cell_type": "code",
   "execution_count": 118,
   "metadata": {},
   "outputs": [
    {
     "data": {
      "text/plain": [
       "(1, 2, 3)"
      ]
     },
     "execution_count": 118,
     "metadata": {},
     "output_type": "execute_result"
    }
   ],
   "source": [
    "1^2^3^1, 2^3^1^2, 3^1^2^3"
   ]
  },
  {
   "cell_type": "code",
   "execution_count": null,
   "metadata": {},
   "outputs": [],
   "source": []
  },
  {
   "cell_type": "code",
   "execution_count": null,
   "metadata": {},
   "outputs": [],
   "source": []
  },
  {
   "cell_type": "code",
   "execution_count": null,
   "metadata": {},
   "outputs": [],
   "source": []
  }
 ],
 "metadata": {
  "kernelspec": {
   "display_name": "Python 3",
   "language": "python",
   "name": "python3"
  },
  "language_info": {
   "codemirror_mode": {
    "name": "ipython",
    "version": 3
   },
   "file_extension": ".py",
   "mimetype": "text/x-python",
   "name": "python",
   "nbconvert_exporter": "python",
   "pygments_lexer": "ipython3",
   "version": "3.7.3"
  }
 },
 "nbformat": 4,
 "nbformat_minor": 2
}
