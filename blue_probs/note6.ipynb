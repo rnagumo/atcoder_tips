{
 "cells": [
  {
   "cell_type": "markdown",
   "metadata": {},
   "source": [
    "# C"
   ]
  },
  {
   "cell_type": "code",
   "execution_count": 1,
   "metadata": {},
   "outputs": [
    {
     "name": "stdout",
     "output_type": "stream",
     "text": [
      "2.27\n"
     ]
    }
   ],
   "source": [
    "N = 3\n",
    "X = [[0, 0], [1, 0], [0, 1]]\n",
    "\n",
    "print(2.27)"
   ]
  },
  {
   "cell_type": "code",
   "execution_count": 3,
   "metadata": {},
   "outputs": [],
   "source": [
    "from math import factorial"
   ]
  },
  {
   "cell_type": "code",
   "execution_count": 9,
   "metadata": {},
   "outputs": [
    {
     "name": "stdout",
     "output_type": "stream",
     "text": [
      "2.2761423749153966\n"
     ]
    }
   ],
   "source": [
    "cnt = 0\n",
    "for i in range(N):\n",
    "    for j in range(i + 1, N):\n",
    "        cnt += ((X[i][0] - X[j][0]) ** 2 + (X[i][1] - X[j][1]) ** 2) ** 0.5\n",
    "\n",
    "print(cnt * 2 * factorial(N - 1) / factorial(N))"
   ]
  },
  {
   "cell_type": "markdown",
   "metadata": {},
   "source": [
    "# D"
   ]
  },
  {
   "cell_type": "code",
   "execution_count": 10,
   "metadata": {},
   "outputs": [
    {
     "name": "stdout",
     "output_type": "stream",
     "text": [
      "2\n"
     ]
    }
   ],
   "source": [
    "X, Y = 3, 3\n",
    "\n",
    "print(2)"
   ]
  },
  {
   "cell_type": "code",
   "execution_count": 12,
   "metadata": {},
   "outputs": [],
   "source": [
    "def comb(n, k):\n",
    "    ret = 1\n",
    "    for i in range(1, k + 1):\n",
    "        ret = ret * (n - i + 1) % MOD        \n",
    "        ret = ret * pow(i, MOD - 2, MOD) % MOD\n",
    "\n",
    "    return ret"
   ]
  },
  {
   "cell_type": "code",
   "execution_count": 13,
   "metadata": {},
   "outputs": [
    {
     "name": "stdout",
     "output_type": "stream",
     "text": [
      "2\n"
     ]
    }
   ],
   "source": [
    "MOD = 10 ** 9 + 7\n",
    "\n",
    "if (2 * Y - X < 0 or 2 * X - Y < 0\n",
    "        or (2 * Y - X) % 3 != 0\n",
    "        or (2 * X - Y) % 3 != 0):\n",
    "    print(0)\n",
    "\n",
    "a = (2 * Y - X) // 3\n",
    "b = (2 * X - Y) // 3\n",
    "\n",
    "print(comb(a + b, a))"
   ]
  },
  {
   "cell_type": "markdown",
   "metadata": {},
   "source": [
    "# E"
   ]
  },
  {
   "cell_type": "code",
   "execution_count": 14,
   "metadata": {},
   "outputs": [
    {
     "name": "stdout",
     "output_type": "stream",
     "text": [
      "110\n"
     ]
    }
   ],
   "source": [
    "N, T = 2, 60\n",
    "X = [[10, 10], [100, 100]]\n",
    "\n",
    "print(110)"
   ]
  },
  {
   "cell_type": "code",
   "execution_count": 32,
   "metadata": {},
   "outputs": [
    {
     "name": "stdout",
     "output_type": "stream",
     "text": [
      "110\n"
     ]
    }
   ],
   "source": [
    "dp = [[-1] * (T + 1) for i in range(N + 1)]\n",
    "dp[0][0] = 0\n",
    "X.sort()\n",
    "\n",
    "for i in range(N):\n",
    "    for j in range(T + 1):\n",
    "        dp[i + 1][j] = max(dp[i + 1][j], dp[i][j])\n",
    "\n",
    "        if dp[i][j] >= 0 and j < T:\n",
    "            dp[i + 1][min(T, j + X[i][0])] = max(dp[i + 1][min(T, j + X[i][0])],\n",
    "                                                 dp[i][j] + X[i][1])\n",
    "\n",
    "print(max(dp[-1]))"
   ]
  },
  {
   "cell_type": "markdown",
   "metadata": {},
   "source": [
    "# ABC 166 - D\n",
    "\n",
    "https://atcoder.jp/contests/abc166/tasks/abc166_d"
   ]
  },
  {
   "cell_type": "code",
   "execution_count": 34,
   "metadata": {},
   "outputs": [
    {
     "name": "stdout",
     "output_type": "stream",
     "text": [
      "2 -1\n"
     ]
    }
   ],
   "source": [
    "X = 33\n",
    "\n",
    "print(2, -1)"
   ]
  },
  {
   "cell_type": "code",
   "execution_count": 38,
   "metadata": {},
   "outputs": [
    {
     "name": "stdout",
     "output_type": "stream",
     "text": [
      "1 -2\n"
     ]
    }
   ],
   "source": [
    "found = False\n",
    "for a in range(-200, 200):\n",
    "    if found: break;\n",
    "    for b in range(-200, 200):\n",
    "        if a ** 5 - b ** 5 == X:\n",
    "            print(a, b)\n",
    "            found = True\n",
    "            break"
   ]
  },
  {
   "cell_type": "markdown",
   "metadata": {},
   "source": [
    "# ABC 166 - E\n",
    "\n",
    "https://atcoder.jp/contests/abc166/tasks/abc166_e"
   ]
  },
  {
   "cell_type": "code",
   "execution_count": 39,
   "metadata": {},
   "outputs": [
    {
     "name": "stdout",
     "output_type": "stream",
     "text": [
      "3\n"
     ]
    }
   ],
   "source": [
    "N = 6\n",
    "A = [2, 3, 3, 1, 3, 1]\n",
    "\n",
    "print(3)"
   ]
  },
  {
   "cell_type": "code",
   "execution_count": 40,
   "metadata": {},
   "outputs": [],
   "source": [
    "from collections import defaultdict"
   ]
  },
  {
   "cell_type": "code",
   "execution_count": 47,
   "metadata": {},
   "outputs": [
    {
     "name": "stdout",
     "output_type": "stream",
     "text": [
      "3\n"
     ]
    }
   ],
   "source": [
    "ctr1 = defaultdict(int)\n",
    "ctr2 = defaultdict(int)\n",
    "for i in range(N):\n",
    "    ctr2[i + A[i]] += 1\n",
    "    if i - A[i] > 0:\n",
    "        ctr1[i - A[i]] += 1\n",
    "\n",
    "ans = 0\n",
    "for v in ctr1:\n",
    "    ans += ctr1[v] * ctr2[v]\n",
    "print(ans)"
   ]
  },
  {
   "cell_type": "markdown",
   "metadata": {},
   "source": [
    "# ABC 167 - D\n",
    "\n",
    "https://atcoder.jp/contests/abc167/tasks/abc167_d"
   ]
  },
  {
   "cell_type": "code",
   "execution_count": 52,
   "metadata": {},
   "outputs": [
    {
     "name": "stdout",
     "output_type": "stream",
     "text": [
      "4\n"
     ]
    }
   ],
   "source": [
    "N, K = 4, 5\n",
    "A = [3, 2, 4, 1]\n",
    "\n",
    "print(4)"
   ]
  },
  {
   "cell_type": "code",
   "execution_count": 60,
   "metadata": {},
   "outputs": [],
   "source": [
    "t = [[-1] * N for _ in range(61)]\n",
    "t[0] = [A[i] - 1 for i in range(N)]\n",
    "for k in range(1, 61):\n",
    "    for i in range(N):\n",
    "        t[k][i] = t[k - 1][t[k - 1][i]]"
   ]
  },
  {
   "cell_type": "code",
   "execution_count": 61,
   "metadata": {},
   "outputs": [
    {
     "name": "stdout",
     "output_type": "stream",
     "text": [
      "4\n"
     ]
    }
   ],
   "source": [
    "u = 0\n",
    "for k in range(61):\n",
    "    if K >> k & 1:\n",
    "        u = t[k][u]\n",
    "\n",
    "print(u + 1)"
   ]
  },
  {
   "cell_type": "markdown",
   "metadata": {},
   "source": [
    "# ABC 168 - D\n",
    "\n",
    "https://atcoder.jp/contests/abc168/tasks/abc168_d"
   ]
  },
  {
   "cell_type": "code",
   "execution_count": 1,
   "metadata": {},
   "outputs": [
    {
     "name": "stdout",
     "output_type": "stream",
     "text": [
      "Yes 1 2 2\n"
     ]
    }
   ],
   "source": [
    "N, M = 4, 4\n",
    "X = [[1, 2], [2, 3], [3, 4], [4, 2]]\n",
    "\n",
    "print(\"Yes\", 1, 2, 2)"
   ]
  },
  {
   "cell_type": "code",
   "execution_count": 2,
   "metadata": {},
   "outputs": [],
   "source": [
    "graph = [[] for _ in range(N + 1)]\n",
    "for a, b in X:\n",
    "    graph[a].append(b)\n",
    "    graph[b].append(a)"
   ]
  },
  {
   "cell_type": "code",
   "execution_count": 3,
   "metadata": {},
   "outputs": [],
   "source": [
    "from collections import deque"
   ]
  },
  {
   "cell_type": "code",
   "execution_count": 5,
   "metadata": {},
   "outputs": [
    {
     "name": "stdout",
     "output_type": "stream",
     "text": [
      "Yes\n",
      "1\n",
      "2\n",
      "2\n"
     ]
    }
   ],
   "source": [
    "prevs = [-1] * (N + 1)\n",
    "prevs[1] = 0\n",
    "q = deque([1])\n",
    "\n",
    "while q:\n",
    "    u = q.popleft()\n",
    "    for v in graph[u]:\n",
    "        if prevs[v] < 0:\n",
    "            prevs[v] = u\n",
    "            q.append(v)\n",
    "            \n",
    "print(\"Yes\")\n",
    "print(*prevs[2:], sep=\"\\n\")"
   ]
  },
  {
   "cell_type": "code",
   "execution_count": null,
   "metadata": {},
   "outputs": [],
   "source": []
  }
 ],
 "metadata": {
  "kernelspec": {
   "display_name": "Python 3",
   "language": "python",
   "name": "python3"
  },
  "language_info": {
   "codemirror_mode": {
    "name": "ipython",
    "version": 3
   },
   "file_extension": ".py",
   "mimetype": "text/x-python",
   "name": "python",
   "nbconvert_exporter": "python",
   "pygments_lexer": "ipython3",
   "version": "3.7.7"
  }
 },
 "nbformat": 4,
 "nbformat_minor": 4
}
