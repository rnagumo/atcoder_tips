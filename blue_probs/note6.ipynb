{
 "cells": [
  {
   "cell_type": "markdown",
   "metadata": {},
   "source": [
    "# C"
   ]
  },
  {
   "cell_type": "code",
   "execution_count": 1,
   "metadata": {},
   "outputs": [
    {
     "name": "stdout",
     "output_type": "stream",
     "text": [
      "2.27\n"
     ]
    }
   ],
   "source": [
    "N = 3\n",
    "X = [[0, 0], [1, 0], [0, 1]]\n",
    "\n",
    "print(2.27)"
   ]
  },
  {
   "cell_type": "code",
   "execution_count": 3,
   "metadata": {},
   "outputs": [],
   "source": [
    "from math import factorial"
   ]
  },
  {
   "cell_type": "code",
   "execution_count": 9,
   "metadata": {},
   "outputs": [
    {
     "name": "stdout",
     "output_type": "stream",
     "text": [
      "2.2761423749153966\n"
     ]
    }
   ],
   "source": [
    "cnt = 0\n",
    "for i in range(N):\n",
    "    for j in range(i + 1, N):\n",
    "        cnt += ((X[i][0] - X[j][0]) ** 2 + (X[i][1] - X[j][1]) ** 2) ** 0.5\n",
    "\n",
    "print(cnt * 2 * factorial(N - 1) / factorial(N))"
   ]
  },
  {
   "cell_type": "markdown",
   "metadata": {},
   "source": [
    "# D"
   ]
  },
  {
   "cell_type": "code",
   "execution_count": 10,
   "metadata": {},
   "outputs": [
    {
     "name": "stdout",
     "output_type": "stream",
     "text": [
      "2\n"
     ]
    }
   ],
   "source": [
    "X, Y = 3, 3\n",
    "\n",
    "print(2)"
   ]
  },
  {
   "cell_type": "code",
   "execution_count": 12,
   "metadata": {},
   "outputs": [],
   "source": [
    "def comb(n, k):\n",
    "    ret = 1\n",
    "    for i in range(1, k + 1):\n",
    "        ret = ret * (n - i + 1) % MOD        \n",
    "        ret = ret * pow(i, MOD - 2, MOD) % MOD\n",
    "\n",
    "    return ret"
   ]
  },
  {
   "cell_type": "code",
   "execution_count": 13,
   "metadata": {},
   "outputs": [
    {
     "name": "stdout",
     "output_type": "stream",
     "text": [
      "2\n"
     ]
    }
   ],
   "source": [
    "MOD = 10 ** 9 + 7\n",
    "\n",
    "if (2 * Y - X < 0 or 2 * X - Y < 0\n",
    "        or (2 * Y - X) % 3 != 0\n",
    "        or (2 * X - Y) % 3 != 0):\n",
    "    print(0)\n",
    "\n",
    "a = (2 * Y - X) // 3\n",
    "b = (2 * X - Y) // 3\n",
    "\n",
    "print(comb(a + b, a))"
   ]
  },
  {
   "cell_type": "markdown",
   "metadata": {},
   "source": [
    "# E"
   ]
  },
  {
   "cell_type": "code",
   "execution_count": 14,
   "metadata": {},
   "outputs": [
    {
     "name": "stdout",
     "output_type": "stream",
     "text": [
      "110\n"
     ]
    }
   ],
   "source": [
    "N, T = 2, 60\n",
    "X = [[10, 10], [100, 100]]\n",
    "\n",
    "print(110)"
   ]
  },
  {
   "cell_type": "code",
   "execution_count": 32,
   "metadata": {},
   "outputs": [
    {
     "name": "stdout",
     "output_type": "stream",
     "text": [
      "110\n"
     ]
    }
   ],
   "source": [
    "dp = [[-1] * (T + 1) for i in range(N + 1)]\n",
    "dp[0][0] = 0\n",
    "X.sort()\n",
    "\n",
    "for i in range(N):\n",
    "    for j in range(T + 1):\n",
    "        dp[i + 1][j] = max(dp[i + 1][j], dp[i][j])\n",
    "\n",
    "        if dp[i][j] >= 0 and j < T:\n",
    "            dp[i + 1][min(T, j + X[i][0])] = max(dp[i + 1][min(T, j + X[i][0])],\n",
    "                                                 dp[i][j] + X[i][1])\n",
    "\n",
    "print(max(dp[-1]))"
   ]
  },
  {
   "cell_type": "markdown",
   "metadata": {},
   "source": [
    "# ABC 166 - D\n",
    "\n",
    "https://atcoder.jp/contests/abc166/tasks/abc166_d"
   ]
  },
  {
   "cell_type": "code",
   "execution_count": 34,
   "metadata": {},
   "outputs": [
    {
     "name": "stdout",
     "output_type": "stream",
     "text": [
      "2 -1\n"
     ]
    }
   ],
   "source": [
    "X = 33\n",
    "\n",
    "print(2, -1)"
   ]
  },
  {
   "cell_type": "code",
   "execution_count": 38,
   "metadata": {},
   "outputs": [
    {
     "name": "stdout",
     "output_type": "stream",
     "text": [
      "1 -2\n"
     ]
    }
   ],
   "source": [
    "found = False\n",
    "for a in range(-200, 200):\n",
    "    if found: break;\n",
    "    for b in range(-200, 200):\n",
    "        if a ** 5 - b ** 5 == X:\n",
    "            print(a, b)\n",
    "            found = True\n",
    "            break"
   ]
  },
  {
   "cell_type": "markdown",
   "metadata": {},
   "source": [
    "# ABC 166 - E\n",
    "\n",
    "https://atcoder.jp/contests/abc166/tasks/abc166_e"
   ]
  },
  {
   "cell_type": "code",
   "execution_count": 39,
   "metadata": {},
   "outputs": [
    {
     "name": "stdout",
     "output_type": "stream",
     "text": [
      "3\n"
     ]
    }
   ],
   "source": [
    "N = 6\n",
    "A = [2, 3, 3, 1, 3, 1]\n",
    "\n",
    "print(3)"
   ]
  },
  {
   "cell_type": "code",
   "execution_count": 40,
   "metadata": {},
   "outputs": [],
   "source": [
    "from collections import defaultdict"
   ]
  },
  {
   "cell_type": "code",
   "execution_count": 47,
   "metadata": {},
   "outputs": [
    {
     "name": "stdout",
     "output_type": "stream",
     "text": [
      "3\n"
     ]
    }
   ],
   "source": [
    "ctr1 = defaultdict(int)\n",
    "ctr2 = defaultdict(int)\n",
    "for i in range(N):\n",
    "    ctr2[i + A[i]] += 1\n",
    "    if i - A[i] > 0:\n",
    "        ctr1[i - A[i]] += 1\n",
    "\n",
    "ans = 0\n",
    "for v in ctr1:\n",
    "    ans += ctr1[v] * ctr2[v]\n",
    "print(ans)"
   ]
  },
  {
   "cell_type": "markdown",
   "metadata": {},
   "source": [
    "# ABC 167 - D\n",
    "\n",
    "https://atcoder.jp/contests/abc167/tasks/abc167_d"
   ]
  },
  {
   "cell_type": "code",
   "execution_count": 52,
   "metadata": {},
   "outputs": [
    {
     "name": "stdout",
     "output_type": "stream",
     "text": [
      "4\n"
     ]
    }
   ],
   "source": [
    "N, K = 4, 5\n",
    "A = [3, 2, 4, 1]\n",
    "\n",
    "print(4)"
   ]
  },
  {
   "cell_type": "code",
   "execution_count": 60,
   "metadata": {},
   "outputs": [],
   "source": [
    "t = [[-1] * N for _ in range(61)]\n",
    "t[0] = [A[i] - 1 for i in range(N)]\n",
    "for k in range(1, 61):\n",
    "    for i in range(N):\n",
    "        t[k][i] = t[k - 1][t[k - 1][i]]"
   ]
  },
  {
   "cell_type": "code",
   "execution_count": 61,
   "metadata": {},
   "outputs": [
    {
     "name": "stdout",
     "output_type": "stream",
     "text": [
      "4\n"
     ]
    }
   ],
   "source": [
    "u = 0\n",
    "for k in range(61):\n",
    "    if K >> k & 1:\n",
    "        u = t[k][u]\n",
    "\n",
    "print(u + 1)"
   ]
  },
  {
   "cell_type": "markdown",
   "metadata": {},
   "source": [
    "# ABC 168 - D\n",
    "\n",
    "https://atcoder.jp/contests/abc168/tasks/abc168_d"
   ]
  },
  {
   "cell_type": "code",
   "execution_count": 1,
   "metadata": {},
   "outputs": [
    {
     "name": "stdout",
     "output_type": "stream",
     "text": [
      "Yes 1 2 2\n"
     ]
    }
   ],
   "source": [
    "N, M = 4, 4\n",
    "X = [[1, 2], [2, 3], [3, 4], [4, 2]]\n",
    "\n",
    "print(\"Yes\", 1, 2, 2)"
   ]
  },
  {
   "cell_type": "code",
   "execution_count": 2,
   "metadata": {},
   "outputs": [],
   "source": [
    "graph = [[] for _ in range(N + 1)]\n",
    "for a, b in X:\n",
    "    graph[a].append(b)\n",
    "    graph[b].append(a)"
   ]
  },
  {
   "cell_type": "code",
   "execution_count": 3,
   "metadata": {},
   "outputs": [],
   "source": [
    "from collections import deque"
   ]
  },
  {
   "cell_type": "code",
   "execution_count": 5,
   "metadata": {},
   "outputs": [
    {
     "name": "stdout",
     "output_type": "stream",
     "text": [
      "Yes\n",
      "1\n",
      "2\n",
      "2\n"
     ]
    }
   ],
   "source": [
    "prevs = [-1] * (N + 1)\n",
    "prevs[1] = 0\n",
    "q = deque([1])\n",
    "\n",
    "while q:\n",
    "    u = q.popleft()\n",
    "    for v in graph[u]:\n",
    "        if prevs[v] < 0:\n",
    "            prevs[v] = u\n",
    "            q.append(v)\n",
    "            \n",
    "print(\"Yes\")\n",
    "print(*prevs[2:], sep=\"\\n\")"
   ]
  },
  {
   "cell_type": "markdown",
   "metadata": {},
   "source": [
    "# ABC 129 - E\n",
    "\n",
    "https://atcoder.jp/contests/abc129/tasks/abc129_e"
   ]
  },
  {
   "cell_type": "code",
   "execution_count": 4,
   "metadata": {},
   "outputs": [
    {
     "name": "stdout",
     "output_type": "stream",
     "text": [
      "5\n"
     ]
    }
   ],
   "source": [
    "L = \"10\"\n",
    "\n",
    "print(5)"
   ]
  },
  {
   "cell_type": "code",
   "execution_count": 2,
   "metadata": {},
   "outputs": [
    {
     "name": "stdout",
     "output_type": "stream",
     "text": [
      "5\n"
     ]
    }
   ],
   "source": [
    "mod = 10 ** 9 + 7\n",
    "n = len(L)\n",
    "dp1 = 0\n",
    "dp2 = 0\n",
    "\n",
    "for i in range(n):\n",
    "    if L[i] == \"1\":\n",
    "        dp1 = (dp1 + pow(2, dp2, mod) * pow(3, n-i-1, mod)) % mod\n",
    "        dp2 = dp2 + 1\n",
    "\n",
    "dp1 = (dp1 + pow(2, dp2, mod)) % mod\n",
    "print(dp1)"
   ]
  },
  {
   "cell_type": "markdown",
   "metadata": {},
   "source": [
    "#### こちらの方が解説通り"
   ]
  },
  {
   "cell_type": "code",
   "execution_count": 13,
   "metadata": {},
   "outputs": [
    {
     "name": "stdout",
     "output_type": "stream",
     "text": [
      "5\n"
     ]
    }
   ],
   "source": [
    "mod = 10 ** 9 + 7\n",
    "n = len(L)\n",
    "dp1 = 1\n",
    "dp2 = 0\n",
    "\n",
    "for i in range(n):\n",
    "    if L[i] == \"0\":\n",
    "        dp2 = (dp2 * 3) % mod\n",
    "    else:\n",
    "        dp2 = (dp1 + dp2 * 3) % mod\n",
    "        dp1 = (dp1 * 2) % mod\n",
    "\n",
    "print((dp1 + dp2) % mod)"
   ]
  },
  {
   "cell_type": "markdown",
   "metadata": {},
   "source": [
    "# ABC 130 - E\n",
    "\n",
    "https://atcoder.jp/contests/abc130/tasks/abc130_e"
   ]
  },
  {
   "cell_type": "code",
   "execution_count": 1,
   "metadata": {},
   "outputs": [
    {
     "name": "stdout",
     "output_type": "stream",
     "text": [
      "3\n"
     ]
    }
   ],
   "source": [
    "N, M = 2, 2\n",
    "S = [1, 3]\n",
    "T = [3, 1]\n",
    "\n",
    "print(3)"
   ]
  },
  {
   "cell_type": "code",
   "execution_count": 51,
   "metadata": {},
   "outputs": [
    {
     "name": "stdout",
     "output_type": "stream",
     "text": [
      "6\n"
     ]
    }
   ],
   "source": [
    "N, M = 2, 2\n",
    "S = [1, 1]\n",
    "T = [1, 1]\n",
    "\n",
    "print(6)"
   ]
  },
  {
   "cell_type": "code",
   "execution_count": 2,
   "metadata": {},
   "outputs": [
    {
     "name": "stdout",
     "output_type": "stream",
     "text": [
      "1\n"
     ]
    }
   ],
   "source": [
    "dp = [[0] * (M + 1) for _ in range(N + 1)]\n",
    "MOD = 10 ** 9 + 7\n",
    "dp[0][0] = 1\n",
    "for i in range(N):\n",
    "    for j in range(M):\n",
    "        if S[i] == T[j]:\n",
    "            dp[i + 1][j + 1] = 1\n",
    "\n",
    "for i in range(N):\n",
    "    for j in range(M):\n",
    "        dp[i + 1][j + 1] += dp[i][j + 1] + dp[i + 1][j] - dp[i][j]\n",
    "        dp[i + 1][j + 1] %= MOD\n",
    "\n",
    "print(dp[-1][-1])"
   ]
  },
  {
   "cell_type": "code",
   "execution_count": 3,
   "metadata": {},
   "outputs": [
    {
     "data": {
      "text/plain": [
       "[[1, 0, 0], [0, 1000000006, 0], [0, 0, 1]]"
      ]
     },
     "execution_count": 3,
     "metadata": {},
     "output_type": "execute_result"
    }
   ],
   "source": [
    "dp"
   ]
  },
  {
   "cell_type": "markdown",
   "metadata": {},
   "source": [
    "# ABC 129 - D\n",
    "\n",
    "https://atcoder.jp/contests/abc129/tasks/abc129_d"
   ]
  },
  {
   "cell_type": "code",
   "execution_count": 1,
   "metadata": {},
   "outputs": [
    {
     "name": "stdout",
     "output_type": "stream",
     "text": [
      "8\n"
     ]
    }
   ],
   "source": [
    "H, W = 4, 6\n",
    "X = ['#..#..', '.....#', '....#.', '#.#...']\n",
    "\n",
    "print(8)"
   ]
  },
  {
   "cell_type": "code",
   "execution_count": 7,
   "metadata": {},
   "outputs": [],
   "source": [
    "grid0 = [[0] * (W + 1) for _ in range(H + 1)]\n",
    "\n",
    "# L -> R\n",
    "for i in range(H):\n",
    "    for j in range(W):\n",
    "        if X[i][j] == \".\":\n",
    "            grid0[i + 1][j + 1] = grid0[i + 1][j] + 1\n",
    "        \n",
    "# L <- R\n",
    "for i in range(H):\n",
    "    for j in reversed(range(W)):\n",
    "        if grid0[i + 1][j] > 0:\n",
    "            grid0[i + 1][j] = max(grid0[i + 1][j], grid0[i + 1][j + 1])\n",
    "\n",
    "grid1 = [[0] * (W + 1) for _ in range(H + 1)]\n",
    "for i in range(H):\n",
    "    for j in range(W):\n",
    "        if X[i][j] == \".\":\n",
    "            grid1[i + 1][j + 1] = grid1[i][j + 1] + 1\n",
    "\n",
    "for i in reversed(range(H)):\n",
    "    for j in range(W):\n",
    "        if grid1[i][j + 1] > 0:\n",
    "            grid1[i][j + 1] = max(grid1[i][j + 1], grid1[i + 1][j + 1])"
   ]
  },
  {
   "cell_type": "code",
   "execution_count": 9,
   "metadata": {},
   "outputs": [
    {
     "name": "stdout",
     "output_type": "stream",
     "text": [
      "8\n"
     ]
    }
   ],
   "source": [
    "ans = 0\n",
    "for i in range(H):\n",
    "    for j in range(W):\n",
    "        ans = max(ans, grid0[i + 1][j + 1] + grid1[i + 1][j + 1] - 1)\n",
    "print(ans)"
   ]
  },
  {
   "cell_type": "code",
   "execution_count": 8,
   "metadata": {},
   "outputs": [
    {
     "data": {
      "text/plain": [
       "[[0, 0, 0, 0, 0, 0, 0],\n",
       " [0, 0, 4, 3, 0, 2, 1],\n",
       " [0, 2, 4, 3, 3, 2, 0],\n",
       " [0, 2, 4, 3, 3, 0, 2],\n",
       " [0, 0, 4, 0, 3, 1, 2]]"
      ]
     },
     "execution_count": 8,
     "metadata": {},
     "output_type": "execute_result"
    }
   ],
   "source": [
    "grid1"
   ]
  },
  {
   "cell_type": "markdown",
   "metadata": {},
   "source": [
    "# ABC 130 - D\n",
    "\n",
    "https://atcoder.jp/contests/abc130/tasks/abc130_d"
   ]
  },
  {
   "cell_type": "code",
   "execution_count": 11,
   "metadata": {},
   "outputs": [
    {
     "name": "stdout",
     "output_type": "stream",
     "text": [
      "2\n"
     ]
    }
   ],
   "source": [
    "N, K = 4, 10\n",
    "A = [6, 1, 2, 7]\n",
    "\n",
    "print(2)"
   ]
  },
  {
   "cell_type": "code",
   "execution_count": 18,
   "metadata": {},
   "outputs": [],
   "source": [
    "from bisect import bisect_left"
   ]
  },
  {
   "cell_type": "code",
   "execution_count": 13,
   "metadata": {},
   "outputs": [],
   "source": [
    "x = [0] * (N + 1)\n",
    "for i in range(N):\n",
    "    x[i + 1] = x[i] + A[i]"
   ]
  },
  {
   "cell_type": "code",
   "execution_count": 15,
   "metadata": {},
   "outputs": [
    {
     "data": {
      "text/plain": [
       "[0, 6, 7, 9, 16]"
      ]
     },
     "execution_count": 15,
     "metadata": {},
     "output_type": "execute_result"
    }
   ],
   "source": [
    "x"
   ]
  },
  {
   "cell_type": "code",
   "execution_count": 19,
   "metadata": {},
   "outputs": [
    {
     "name": "stdout",
     "output_type": "stream",
     "text": [
      "0 4\n",
      "1 4\n",
      "2 5\n",
      "3 5\n",
      "2\n"
     ]
    }
   ],
   "source": [
    "ans = 0\n",
    "for i in range(N):\n",
    "    j = bisect_left(x, x[i] + K)\n",
    "    ans += N - j + 1\n",
    "print(ans)"
   ]
  },
  {
   "cell_type": "markdown",
   "metadata": {},
   "source": [
    "# ABC 130 - C\n",
    "\n",
    "https://atcoder.jp/contests/abc130/tasks/abc130_c"
   ]
  },
  {
   "cell_type": "code",
   "execution_count": 20,
   "metadata": {},
   "outputs": [
    {
     "name": "stdout",
     "output_type": "stream",
     "text": [
      "3.0 0\n"
     ]
    }
   ],
   "source": [
    "W, H, x, y = 2, 3, 1, 2\n",
    "\n",
    "print(3.0, 0)"
   ]
  },
  {
   "cell_type": "code",
   "execution_count": 21,
   "metadata": {},
   "outputs": [
    {
     "name": "stdout",
     "output_type": "stream",
     "text": [
      "3.0 0\n"
     ]
    }
   ],
   "source": [
    "ans0 = float(W * H) / 2\n",
    "\n",
    "ans1 = 0\n",
    "if W%2 == 0 and H%2 == 0 and W//2 == x and H//2 == y:\n",
    "    ans1 = 1\n",
    "    \n",
    "print(ans0, ans1)"
   ]
  },
  {
   "cell_type": "markdown",
   "metadata": {},
   "source": [
    "# ABC 131 - D\n",
    "\n",
    "https://atcoder.jp/contests/abc131/tasks/abc131_d"
   ]
  },
  {
   "cell_type": "code",
   "execution_count": 22,
   "metadata": {},
   "outputs": [
    {
     "name": "stdout",
     "output_type": "stream",
     "text": [
      "Yes\n"
     ]
    }
   ],
   "source": [
    "N = 5\n",
    "X = [[2, 4], [1, 9], [1, 8], [4, 9], [3, 12]]\n",
    "\n",
    "print(\"Yes\")"
   ]
  },
  {
   "cell_type": "code",
   "execution_count": 23,
   "metadata": {},
   "outputs": [
    {
     "name": "stdout",
     "output_type": "stream",
     "text": [
      "Yes\n"
     ]
    }
   ],
   "source": [
    "X.sort(key=lambda x: x[1])\n",
    "t = 0\n",
    "ans = \"No\"\n",
    "for a, b in X:\n",
    "    if t + a > b:\n",
    "        break\n",
    "    t += a\n",
    "else:\n",
    "    ans = \"Yes\"\n",
    "print(ans)"
   ]
  },
  {
   "cell_type": "markdown",
   "metadata": {},
   "source": [
    "# ABC 131 - E\n",
    "\n",
    "https://atcoder.jp/contests/abc131/tasks/abc131_e"
   ]
  },
  {
   "cell_type": "code",
   "execution_count": 25,
   "metadata": {},
   "outputs": [
    {
     "name": "stdout",
     "output_type": "stream",
     "text": [
      "5\n",
      "[[4, 3], [1, 2], [3, 1], [4, 5], [2, 3]]\n"
     ]
    }
   ],
   "source": [
    "N, K = 5, 3\n",
    "\n",
    "print(5)\n",
    "print([[4,3], [1,2], [3,1], [4,5], [2,3]])"
   ]
  },
  {
   "cell_type": "code",
   "execution_count": 36,
   "metadata": {},
   "outputs": [
    {
     "name": "stdout",
     "output_type": "stream",
     "text": [
      "7\n",
      "1 2\n",
      "1 3\n",
      "1 4\n",
      "1 5\n",
      "2 3\n",
      "2 4\n",
      "2 5\n"
     ]
    }
   ],
   "source": [
    "total = (N - 1) * (N - 2) // 2\n",
    "if K > total:\n",
    "    print(-1)\n",
    "else:\n",
    "    edges = []\n",
    "    for k in range(2, N + 1):\n",
    "        edges.append([1, k])\n",
    "\n",
    "    res = total - K\n",
    "    cnt = 0\n",
    "    for u in range(2, N + 1):\n",
    "        if cnt == res:\n",
    "            break\n",
    "    \n",
    "        for v in range(u + 1, N + 1):\n",
    "            edges.append([u, v])\n",
    "            cnt += 1\n",
    "\n",
    "            if cnt == res:\n",
    "                break\n",
    "\n",
    "    print(len(edges))\n",
    "    for v in edges:\n",
    "        print(*v)"
   ]
  },
  {
   "cell_type": "markdown",
   "metadata": {},
   "source": [
    "# ABC 132 - D\n",
    "\n",
    "https://atcoder.jp/contests/abc132/tasks/abc132_d"
   ]
  },
  {
   "cell_type": "code",
   "execution_count": 37,
   "metadata": {},
   "outputs": [
    {
     "name": "stdout",
     "output_type": "stream",
     "text": [
      "3 6 1\n"
     ]
    }
   ],
   "source": [
    "N, K = 5, 3\n",
    "\n",
    "print(3,6,1)"
   ]
  },
  {
   "cell_type": "code",
   "execution_count": 38,
   "metadata": {},
   "outputs": [],
   "source": [
    "MAX = 10 ** 5 + 1\n",
    "MOD = 10 ** 9 + 7\n",
    "\n",
    "# Factorial\n",
    "fac = [0] * (MAX + 1)\n",
    "fac[0] = 1\n",
    "fac[1] = 1\n",
    "for i in range(2, MAX + 1):\n",
    "    fac[i] = fac[i - 1] * i % MOD\n",
    "    \n",
    "# Inverse factorial\n",
    "finv = [0] * (MAX + 1)\n",
    "finv[MAX] = pow(fac[MAX], MOD - 2, MOD)\n",
    "for i in reversed(range(1, MAX + 1)):\n",
    "    finv[i - 1] = finv[i] * i % MOD"
   ]
  },
  {
   "cell_type": "code",
   "execution_count": 39,
   "metadata": {},
   "outputs": [],
   "source": [
    "def comb(n, k):\n",
    "    if n < k or k < 0:\n",
    "        return 0\n",
    "    return (fac[n] * finv[k] * finv[n - k]) % MOD"
   ]
  },
  {
   "cell_type": "code",
   "execution_count": 45,
   "metadata": {},
   "outputs": [
    {
     "name": "stdout",
     "output_type": "stream",
     "text": [
      "3\n",
      "6\n",
      "1\n"
     ]
    }
   ],
   "source": [
    "for i in range(1, K + 1):\n",
    "    print((comb(N - K + 1, i) * comb(K - 1, i - 1)) % MOD)"
   ]
  },
  {
   "cell_type": "markdown",
   "metadata": {},
   "source": [
    "# ABC 132 - E\n",
    "\n",
    "https://atcoder.jp/contests/abc132/tasks/abc132_e"
   ]
  },
  {
   "cell_type": "code",
   "execution_count": 1,
   "metadata": {},
   "outputs": [
    {
     "name": "stdout",
     "output_type": "stream",
     "text": [
      "2\n"
     ]
    }
   ],
   "source": [
    "N, M = 4, 4\n",
    "X = [[1, 2], [2, 3], [3, 4], [4, 1]]\n",
    "S, T = 1, 3\n",
    "\n",
    "print(2)"
   ]
  },
  {
   "cell_type": "code",
   "execution_count": 2,
   "metadata": {},
   "outputs": [],
   "source": [
    "graph = [[] for _ in range(N + 1)]\n",
    "for u, v in X:\n",
    "    graph[u].append(v)"
   ]
  },
  {
   "cell_type": "code",
   "execution_count": 3,
   "metadata": {},
   "outputs": [],
   "source": [
    "from collections import deque"
   ]
  },
  {
   "cell_type": "code",
   "execution_count": 8,
   "metadata": {},
   "outputs": [
    {
     "name": "stdout",
     "output_type": "stream",
     "text": [
      "2\n"
     ]
    }
   ],
   "source": [
    "INF = 10 ** 9 + 7\n",
    "ctr = [[INF] * (N + 1) for _ in range(3)]\n",
    "ctr[0][S] = 0\n",
    "stack = deque()\n",
    "stack.append((0, S))\n",
    "while stack:\n",
    "    i, u = stack.popleft()\n",
    "    j = (i + 1) % 3\n",
    "    for v in graph[u]:\n",
    "        if ctr[j][v] > ctr[i][u] + 1:\n",
    "            ctr[j][v] = ctr[i][u] + 1\n",
    "            stack.append((j, v))\n",
    "\n",
    "if ctr[0][T] < INF:\n",
    "    print(ctr[0][T] // 3)\n",
    "else:\n",
    "    print(-1)"
   ]
  },
  {
   "cell_type": "markdown",
   "metadata": {},
   "source": [
    "# ABC 133 - D\n",
    "\n",
    "https://atcoder.jp/contests/abc133/tasks/abc133_d"
   ]
  },
  {
   "cell_type": "code",
   "execution_count": 9,
   "metadata": {},
   "outputs": [
    {
     "name": "stdout",
     "output_type": "stream",
     "text": [
      "4 0 4\n"
     ]
    }
   ],
   "source": [
    "N = 3\n",
    "A = [2, 2, 4]\n",
    "\n",
    "print(4, 0, 4)"
   ]
  },
  {
   "cell_type": "code",
   "execution_count": 15,
   "metadata": {},
   "outputs": [
    {
     "name": "stdout",
     "output_type": "stream",
     "text": [
      "4 0 4\n"
     ]
    }
   ],
   "source": [
    "ans = [0] * N\n",
    "for i in range(N):\n",
    "    ans[0] += (-1) ** i * A[i]\n",
    "    \n",
    "for i in range(1, N):\n",
    "    ans[i] = (A[i - 1] - ans[i - 1] // 2) * 2\n",
    "    \n",
    "print(*ans)"
   ]
  },
  {
   "cell_type": "markdown",
   "metadata": {},
   "source": [
    "# ABC 133 - E\n",
    "\n",
    "https://atcoder.jp/contests/abc133/tasks/abc133_e"
   ]
  },
  {
   "cell_type": "code",
   "execution_count": 29,
   "metadata": {},
   "outputs": [
    {
     "name": "stdout",
     "output_type": "stream",
     "text": [
      "6\n"
     ]
    }
   ],
   "source": [
    "N, K = 4, 3\n",
    "X = [[1, 2], [2, 3], [3, 4]]\n",
    "\n",
    "print(6)"
   ]
  },
  {
   "cell_type": "code",
   "execution_count": 30,
   "metadata": {},
   "outputs": [],
   "source": [
    "tree = [[] for _ in range(N + 1)]\n",
    "for a, b in X:\n",
    "    tree[a].append(b)\n",
    "    tree[b].append(a)"
   ]
  },
  {
   "cell_type": "code",
   "execution_count": 31,
   "metadata": {},
   "outputs": [],
   "source": [
    "from collections import deque"
   ]
  },
  {
   "cell_type": "code",
   "execution_count": 32,
   "metadata": {},
   "outputs": [],
   "source": [
    "MAX = 10 ** 5 + 1\n",
    "MOD = 10 ** 9 + 7\n",
    "\n",
    "# Factorial\n",
    "fac = [0] * (MAX + 1)\n",
    "fac[0] = 1\n",
    "fac[1] = 1\n",
    "for i in range(2, MAX + 1):\n",
    "    fac[i] = fac[i - 1] * i % MOD\n",
    "    \n",
    "# Inverse factorial\n",
    "finv = [0] * (MAX + 1)\n",
    "finv[MAX] = pow(fac[MAX], MOD - 2, MOD)\n",
    "for i in reversed(range(1, MAX + 1)):\n",
    "    finv[i - 1] = finv[i] * i % MOD"
   ]
  },
  {
   "cell_type": "code",
   "execution_count": 33,
   "metadata": {},
   "outputs": [],
   "source": [
    "def comb(n, k):\n",
    "    if n < k or k < 0:\n",
    "        return 0\n",
    "    return (fac[n] * finv[k] * finv[n - k]) % MOD"
   ]
  },
  {
   "cell_type": "code",
   "execution_count": 37,
   "metadata": {},
   "outputs": [
    {
     "name": "stdout",
     "output_type": "stream",
     "text": [
      "6\n"
     ]
    }
   ],
   "source": [
    "visited = [False] * (N + 1)\n",
    "visited[0] = True\n",
    "visited[1] = True\n",
    "stack = deque([1])\n",
    "ans = K\n",
    "while stack:\n",
    "    u = stack.popleft()\n",
    "    child_num = sum(not visited[v] for v in tree[u])\n",
    "    ans *= comb(K - 1 - int(u != 1), child_num) * fac[child_num]\n",
    "    ans %= MOD\n",
    "    for v in tree[u]:\n",
    "        if not visited[v]:\n",
    "            visited[u] = True\n",
    "            stack.append(v)\n",
    "\n",
    "print(ans)"
   ]
  },
  {
   "cell_type": "markdown",
   "metadata": {},
   "source": [
    "# ABC 134 - D\n",
    "\n",
    "https://atcoder.jp/contests/abc134/tasks/abc134_d"
   ]
  },
  {
   "cell_type": "code",
   "execution_count": 50,
   "metadata": {},
   "outputs": [
    {
     "name": "stdout",
     "output_type": "stream",
     "text": [
      "1 [1]\n"
     ]
    }
   ],
   "source": [
    "N = 3\n",
    "A = [1, 0, 0]\n",
    "\n",
    "print(1, [1])"
   ]
  },
  {
   "cell_type": "code",
   "execution_count": 52,
   "metadata": {},
   "outputs": [
    {
     "name": "stdout",
     "output_type": "stream",
     "text": [
      "1\n",
      "1\n"
     ]
    }
   ],
   "source": [
    "x = [0] * (N + 1)\n",
    "ans = []\n",
    "for i in reversed(range(1, N + 1)):\n",
    "    if sum(x[i::i]) % 2 != A[i - 1]:\n",
    "        x[i] += 1\n",
    "        ans.append(i)\n",
    "\n",
    "print(len(ans))\n",
    "if ans:\n",
    "    print(*ans)"
   ]
  },
  {
   "cell_type": "markdown",
   "metadata": {},
   "source": [
    "# ABC 134 - E\n",
    "\n",
    "https://atcoder.jp/contests/abc134/tasks/abc134_e"
   ]
  },
  {
   "cell_type": "code",
   "execution_count": 53,
   "metadata": {},
   "outputs": [
    {
     "name": "stdout",
     "output_type": "stream",
     "text": [
      "2\n"
     ]
    }
   ],
   "source": [
    "N = 5\n",
    "A = [2, 1, 4, 5, 3]\n",
    "\n",
    "print(2)"
   ]
  },
  {
   "cell_type": "code",
   "execution_count": 59,
   "metadata": {},
   "outputs": [],
   "source": [
    "N=4\n",
    "A=[0,0,0,0]"
   ]
  },
  {
   "cell_type": "code",
   "execution_count": 64,
   "metadata": {},
   "outputs": [],
   "source": [
    "from bisect import bisect_right"
   ]
  },
  {
   "cell_type": "code",
   "execution_count": 65,
   "metadata": {},
   "outputs": [
    {
     "name": "stdout",
     "output_type": "stream",
     "text": [
      "4\n"
     ]
    }
   ],
   "source": [
    "x = [1] * (N + 1)\n",
    "for i in range(N):\n",
    "    j = bisect_right(x, -A[i])\n",
    "    x[j] = -A[i]\n",
    "print(sum(v != 1 for v in x))"
   ]
  },
  {
   "cell_type": "code",
   "execution_count": 66,
   "metadata": {},
   "outputs": [
    {
     "data": {
      "text/plain": [
       "[0, 0, 0, 0, 1]"
      ]
     },
     "execution_count": 66,
     "metadata": {},
     "output_type": "execute_result"
    }
   ],
   "source": [
    "x"
   ]
  },
  {
   "cell_type": "code",
   "execution_count": null,
   "metadata": {},
   "outputs": [],
   "source": []
  }
 ],
 "metadata": {
  "kernelspec": {
   "display_name": "Python 3",
   "language": "python",
   "name": "python3"
  },
  "language_info": {
   "codemirror_mode": {
    "name": "ipython",
    "version": 3
   },
   "file_extension": ".py",
   "mimetype": "text/x-python",
   "name": "python",
   "nbconvert_exporter": "python",
   "pygments_lexer": "ipython3",
   "version": "3.7.7"
  }
 },
 "nbformat": 4,
 "nbformat_minor": 4
}
