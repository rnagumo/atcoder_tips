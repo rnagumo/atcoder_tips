{
 "cells": [
  {
   "cell_type": "markdown",
   "metadata": {},
   "source": [
    "# ABC 81 - D\n",
    "\n",
    "https://atcoder.jp/contests/abc081/tasks/arc086_b"
   ]
  },
  {
   "cell_type": "code",
   "execution_count": 1,
   "metadata": {},
   "outputs": [
    {
     "name": "stdout",
     "output_type": "stream",
     "text": [
      "2, 2 3, 3 3\n"
     ]
    }
   ],
   "source": [
    "N = 3\n",
    "A = [-2, 5, -1]\n",
    "\n",
    "print(\"2, 2 3, 3 3\")"
   ]
  },
  {
   "cell_type": "code",
   "execution_count": 4,
   "metadata": {},
   "outputs": [
    {
     "name": "stdout",
     "output_type": "stream",
     "text": [
      "5\n",
      "2 1\n",
      "2 2\n",
      "2 3\n",
      "1 2\n",
      "2 3\n"
     ]
    }
   ],
   "source": [
    "v_max = max(A)\n",
    "v_min = min(A)\n",
    "\n",
    "flg1 = v_max > 0 and v_min >= 0\n",
    "flg2 = v_max <= 0 and v_min <= 0\n",
    "flg3 = v_max * v_min < 0 and abs(v_max) >= abs(v_min)\n",
    "flg4 = v_max * v_min < 0 and abs(v_max) < abs(v_min)\n",
    "\n",
    "s = sorted([(i + 1, v) for i, v in enumerate(A)], key=lambda x: x[1])\n",
    "ans = []\n",
    "if flg1 or flg3:\n",
    "    if flg3:\n",
    "        i_max = s[-1][0]\n",
    "        for j in range(1, N + 1):\n",
    "            ans.append((i_max, j))\n",
    "            \n",
    "    for j in range(1, N):\n",
    "        ans.append((j, j + 1))\n",
    "else:\n",
    "    if flg4:\n",
    "        i_min = s[0][0]\n",
    "        for j in range(1, N + 1):\n",
    "            ans.append((i_min, j))\n",
    "            \n",
    "    for j in reversed(range(1, N)):\n",
    "        ans.append((j + 1, j))\n",
    "        \n",
    "print(len(ans))\n",
    "for v in ans:\n",
    "    print(*v)"
   ]
  },
  {
   "cell_type": "markdown",
   "metadata": {},
   "source": [
    "# ABC 80 - D\n",
    "\n",
    "https://atcoder.jp/contests/abc080/tasks/abc080_d"
   ]
  },
  {
   "cell_type": "code",
   "execution_count": 10,
   "metadata": {},
   "outputs": [
    {
     "name": "stdout",
     "output_type": "stream",
     "text": [
      "2\n"
     ]
    }
   ],
   "source": [
    "N, C = 3, 2\n",
    "X = [[1, 7, 2], [7, 8, 1], [8, 12, 1]]\n",
    "\n",
    "print(2)"
   ]
  },
  {
   "cell_type": "code",
   "execution_count": 31,
   "metadata": {},
   "outputs": [
    {
     "name": "stdout",
     "output_type": "stream",
     "text": [
      "2\n"
     ]
    }
   ],
   "source": [
    "LEN = 10 ** 5 + 7\n",
    "d = [[0] * LEN for _ in range(C + 1)]\n",
    "for s, t, c in X:\n",
    "    d[c][s] += 1\n",
    "    d[c][t + 1] -= 1\n",
    "\n",
    "for i in range(C + 1):\n",
    "    for j in range(LEN - 1):\n",
    "        d[i][j + 1] += d[i][j]\n",
    "\n",
    "x = [0] * LEN\n",
    "for i in range(C + 1):\n",
    "    for j in range(LEN):\n",
    "        x[j] += int(d[i][j] > 0)\n",
    "        \n",
    "print(max(x))"
   ]
  },
  {
   "cell_type": "markdown",
   "metadata": {},
   "source": [
    "# ABC 78 - D\n",
    "\n",
    "https://atcoder.jp/contests/abc078/tasks/arc085_b"
   ]
  },
  {
   "cell_type": "code",
   "execution_count": 32,
   "metadata": {},
   "outputs": [
    {
     "name": "stdout",
     "output_type": "stream",
     "text": [
      "900\n"
     ]
    }
   ],
   "source": [
    "N, Z, W = 3, 100, 100\n",
    "A = [10, 1000, 100]\n",
    "\n",
    "print(900)"
   ]
  },
  {
   "cell_type": "code",
   "execution_count": 35,
   "metadata": {},
   "outputs": [
    {
     "name": "stdout",
     "output_type": "stream",
     "text": [
      "900\n"
     ]
    }
   ],
   "source": [
    "if N == 1:\n",
    "    print(abs(A[0] - W))\n",
    "else:\n",
    "    print(max(abs(A[-1] - W), abs(A[-1] - A[-2])))"
   ]
  },
  {
   "cell_type": "markdown",
   "metadata": {},
   "source": [
    "# ABC 76 - D\n",
    "\n",
    "https://atcoder.jp/contests/abc076/tasks/abc076_d"
   ]
  },
  {
   "cell_type": "code",
   "execution_count": 1,
   "metadata": {},
   "outputs": [
    {
     "name": "stdout",
     "output_type": "stream",
     "text": [
      "2100.0\n"
     ]
    }
   ],
   "source": [
    "N = 1\n",
    "T = [100]\n",
    "V = [30]\n",
    "\n",
    "print(2100.)"
   ]
  },
  {
   "cell_type": "code",
   "execution_count": 7,
   "metadata": {},
   "outputs": [],
   "source": [
    "l = sum(T) * 2 + 1\n",
    "t_cond = [0] + T + [0]\n",
    "v_cond = [0] + V + [0]\n",
    "memo = [[0.] * l for _ in range(N + 2)]\n",
    "left = 0\n",
    "for i in range(N + 2):\n",
    "    for j in range(l):\n",
    "        if j < left:\n",
    "            memo[i][j] = v_cond[i] + (left - j) * 0.5\n",
    "        elif left <= j <= left + t_cond[i] * 2:\n",
    "            memo[i][j] = v_cond[i]\n",
    "        else:\n",
    "            memo[i][j] = v_cond[i] + (j - left - t_cond[i] * 2) * 0.5\n",
    "            \n",
    "    # Shift lower bound\n",
    "    left += t_cond[i] * 2\n",
    "\n",
    "f = [min(memo[i][j] for i in range(N + 2)) for j in range(l)]"
   ]
  },
  {
   "cell_type": "code",
   "execution_count": 8,
   "metadata": {},
   "outputs": [
    {
     "name": "stdout",
     "output_type": "stream",
     "text": [
      "2100.0\n"
     ]
    }
   ],
   "source": [
    "ans = 0\n",
    "for i in range(l - 1):\n",
    "    ans += 0.25 * (f[i] + f[i + 1])\n",
    "print(ans)"
   ]
  },
  {
   "cell_type": "code",
   "execution_count": null,
   "metadata": {},
   "outputs": [],
   "source": []
  },
  {
   "cell_type": "code",
   "execution_count": null,
   "metadata": {},
   "outputs": [],
   "source": []
  },
  {
   "cell_type": "code",
   "execution_count": null,
   "metadata": {},
   "outputs": [],
   "source": []
  },
  {
   "cell_type": "code",
   "execution_count": null,
   "metadata": {},
   "outputs": [],
   "source": []
  }
 ],
 "metadata": {
  "kernelspec": {
   "display_name": "Python 3",
   "language": "python",
   "name": "python3"
  },
  "language_info": {
   "codemirror_mode": {
    "name": "ipython",
    "version": 3
   },
   "file_extension": ".py",
   "mimetype": "text/x-python",
   "name": "python",
   "nbconvert_exporter": "python",
   "pygments_lexer": "ipython3",
   "version": "3.7.3"
  }
 },
 "nbformat": 4,
 "nbformat_minor": 4
}
