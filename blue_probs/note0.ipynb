{
 "cells": [
  {
   "cell_type": "markdown",
   "metadata": {},
   "source": [
    "# ABC 156 - C\n",
    "\n",
    "https://atcoder.jp/contests/abc156/tasks/abc156_c"
   ]
  },
  {
   "cell_type": "code",
   "execution_count": 1,
   "metadata": {},
   "outputs": [
    {
     "name": "stdout",
     "output_type": "stream",
     "text": [
      "5\n"
     ]
    }
   ],
   "source": [
    "N = 2\n",
    "X = [1, 4]\n",
    "\n",
    "print(5)"
   ]
  },
  {
   "cell_type": "code",
   "execution_count": 5,
   "metadata": {},
   "outputs": [
    {
     "name": "stdout",
     "output_type": "stream",
     "text": [
      "5\n"
     ]
    }
   ],
   "source": [
    "m = sum(X) // N\n",
    "v1 = sum((v - m) ** 2 for v in X)\n",
    "v2 = sum((v - m - 1) ** 2 for v in X)\n",
    "print(min(v1, v2))"
   ]
  },
  {
   "cell_type": "markdown",
   "metadata": {},
   "source": [
    "# ABC 156 - D\n",
    "\n",
    "https://atcoder.jp/contests/abc156/tasks/abc156_d"
   ]
  },
  {
   "cell_type": "code",
   "execution_count": 6,
   "metadata": {},
   "outputs": [
    {
     "name": "stdout",
     "output_type": "stream",
     "text": [
      "7\n"
     ]
    }
   ],
   "source": [
    "N, A, B = 4, 1, 3\n",
    "\n",
    "print(7)"
   ]
  },
  {
   "cell_type": "code",
   "execution_count": 8,
   "metadata": {},
   "outputs": [
    {
     "name": "stdout",
     "output_type": "stream",
     "text": [
      "7\n"
     ]
    }
   ],
   "source": [
    "MOD = 10 ** 9 + 7\n",
    "\n",
    "def comb(n, k):\n",
    "    ret = 1\n",
    "    for i in range(1, k + 1):\n",
    "        ret = ret * (n - i + 1) % MOD        \n",
    "        ret = ret * pow(i, MOD - 2, MOD) % MOD\n",
    "\n",
    "    return ret\n",
    "\n",
    "print((pow(2, N, MOD) - 1 - comb(N, A) - comb(N, B)) % MOD)"
   ]
  },
  {
   "cell_type": "markdown",
   "metadata": {},
   "source": [
    "# ABC 156 - E"
   ]
  },
  {
   "cell_type": "code",
   "execution_count": 35,
   "metadata": {},
   "outputs": [
    {
     "name": "stdout",
     "output_type": "stream",
     "text": [
      "10\n"
     ]
    }
   ],
   "source": [
    "N, K = 3, 2\n",
    "\n",
    "print(10)"
   ]
  },
  {
   "cell_type": "code",
   "execution_count": 30,
   "metadata": {},
   "outputs": [
    {
     "name": "stdout",
     "output_type": "stream",
     "text": [
      "22583772\n"
     ]
    }
   ],
   "source": [
    "N, K = 15, 6\n",
    "print(22583772)"
   ]
  },
  {
   "cell_type": "code",
   "execution_count": 32,
   "metadata": {},
   "outputs": [],
   "source": [
    "MAX = 5 * 10 ** 5\n",
    "MOD = 10 ** 9 + 7\n",
    "\n",
    "# Factorial\n",
    "fac = [0] * (MAX + 1)\n",
    "fac[0] = 1\n",
    "fac[1] = 1\n",
    "for i in range(2, MAX + 1):\n",
    "    fac[i] = fac[i - 1] * i % MOD\n",
    "    \n",
    "# Inverse factorial\n",
    "finv = [0] * (MAX + 1)\n",
    "finv[MAX] = pow(fac[MAX], MOD - 2, MOD)\n",
    "for i in reversed(range(1, MAX + 1)):\n",
    "    finv[i - 1] = finv[i] * i % MOD"
   ]
  },
  {
   "cell_type": "code",
   "execution_count": 41,
   "metadata": {},
   "outputs": [
    {
     "name": "stdout",
     "output_type": "stream",
     "text": [
      "10\n"
     ]
    }
   ],
   "source": [
    "def comb(n, k):\n",
    "    return fac[n] * finv[n - k] * finv[k]\n",
    "\n",
    "def rep_perm(n, k):\n",
    "    return comb(n + k - 1, k)\n",
    "\n",
    "ans = 0\n",
    "for k in range(0, min(N, K + 1)):\n",
    "    ans += comb(N, k) * rep_perm(N - k, k)\n",
    "    ans %= MOD\n",
    "print(ans)"
   ]
  },
  {
   "cell_type": "markdown",
   "metadata": {},
   "source": [
    "# ABC 162 - F\n",
    "\n",
    "https://atcoder.jp/contests/abc162/tasks/abc162_f"
   ]
  },
  {
   "cell_type": "code",
   "execution_count": 108,
   "metadata": {},
   "outputs": [
    {
     "name": "stdout",
     "output_type": "stream",
     "text": [
      "12\n"
     ]
    }
   ],
   "source": [
    "N = 6\n",
    "A = [1, 2, 3, 4, 5, 6]\n",
    "\n",
    "print(12)"
   ]
  },
  {
   "cell_type": "code",
   "execution_count": 106,
   "metadata": {},
   "outputs": [
    {
     "name": "stdout",
     "output_type": "stream",
     "text": [
      "295\n"
     ]
    }
   ],
   "source": [
    "N = 27\n",
    "A = [18, -28, 18, 28, -45, 90, -45, 23, -53, 60, 28,\n",
    "     -74, -71, 35, -26, -62, 49, -77, 57, 24, -70, -93,\n",
    "     69, -99, 59, 57, -49]\n",
    "print(295)"
   ]
  },
  {
   "cell_type": "code",
   "execution_count": 113,
   "metadata": {},
   "outputs": [
    {
     "name": "stdout",
     "output_type": "stream",
     "text": [
      "12\n"
     ]
    }
   ],
   "source": [
    "dp = [[-10 ** 10] * 3 for _ in range(N + 1)]\n",
    "dp[0] = [0] * 3\n",
    "dp[1][0] = A[0]\n",
    "dp[2][1] = A[1]\n",
    "for i in range(2, N):\n",
    "    dp[i + 1][0] = dp[i - 1][0] + A[i]\n",
    "    dp[i + 1][1] = max(dp[i - 1][1], dp[i - 2][0]) + A[i]\n",
    "    dp[i + 1][2] = max(dp[i - 1][2], dp[i - 2][1], dp[i - 3][0]) + A[i]\n",
    "\n",
    "if N % 2 == 1:\n",
    "    print(max(dp[-3][0], dp[-2][1], dp[-1][2]))\n",
    "else:\n",
    "    print(max(dp[-2][0], dp[-1][1]))"
   ]
  },
  {
   "cell_type": "markdown",
   "metadata": {},
   "source": [
    "# ABC 150 - E\n",
    "\n",
    "https://atcoder.jp/contests/abc150/tasks/abc150_e"
   ]
  },
  {
   "cell_type": "code",
   "execution_count": 20,
   "metadata": {},
   "outputs": [
    {
     "name": "stdout",
     "output_type": "stream",
     "text": [
      "124\n"
     ]
    }
   ],
   "source": [
    "N = 2\n",
    "C = [5, 8]\n",
    "\n",
    "print(124)"
   ]
  },
  {
   "cell_type": "code",
   "execution_count": 25,
   "metadata": {},
   "outputs": [
    {
     "name": "stdout",
     "output_type": "stream",
     "text": [
      "124\n"
     ]
    }
   ],
   "source": [
    "MOD = 10 ** 9 + 7\n",
    "C.sort()\n",
    "ans = 0\n",
    "for i in range(N):\n",
    "    l = i\n",
    "    r = N - i - 1\n",
    "    now = pow(2, r, MOD)\n",
    "    if r > 0:\n",
    "        now += pow(2, r - 1 , MOD) * r\n",
    "    now *= pow(2, l, MOD)\n",
    "    now *= C[i]\n",
    "    ans += now\n",
    "print(ans * pow(2, N, MOD) % MOD)"
   ]
  },
  {
   "cell_type": "code",
   "execution_count": 26,
   "metadata": {},
   "outputs": [
    {
     "name": "stdout",
     "output_type": "stream",
     "text": [
      "124\n"
     ]
    }
   ],
   "source": [
    "MOD = 10 ** 9 + 7\n",
    "C.sort()\n",
    "ans = 0\n",
    "for i in range(N):\n",
    "    r = N - i - 1\n",
    "    ans += C[i] * pow(2, N - 2, MOD) * (2 + r) % MOD\n",
    "    ans %= MOD\n",
    "print(ans * pow(2, N, MOD) % MOD)"
   ]
  },
  {
   "cell_type": "markdown",
   "metadata": {},
   "source": [
    "# ABC 142 - D\n",
    "\n",
    "https://atcoder.jp/contests/abc142/tasks/abc142_d"
   ]
  },
  {
   "cell_type": "code",
   "execution_count": 1,
   "metadata": {},
   "outputs": [
    {
     "name": "stdout",
     "output_type": "stream",
     "text": [
      "3\n"
     ]
    }
   ],
   "source": [
    "A, B = 12, 18\n",
    "\n",
    "print(3)"
   ]
  },
  {
   "cell_type": "code",
   "execution_count": 9,
   "metadata": {},
   "outputs": [],
   "source": [
    "def prime_factor(n):\n",
    "    d = set()\n",
    "    for i in range(2, n + 1):\n",
    "        if i * i > n:\n",
    "            break\n",
    "        while n % i == 0:\n",
    "            d.add(i)\n",
    "            n //= i\n",
    "            \n",
    "    if n != 1:\n",
    "        d.add(n)\n",
    "    return d"
   ]
  },
  {
   "cell_type": "code",
   "execution_count": 11,
   "metadata": {},
   "outputs": [
    {
     "name": "stdout",
     "output_type": "stream",
     "text": [
      "3\n"
     ]
    }
   ],
   "source": [
    "a = prime_factor(A)\n",
    "b = prime_factor(B)\n",
    "print(len(set(a) & set(b)) + 1)"
   ]
  },
  {
   "cell_type": "markdown",
   "metadata": {},
   "source": [
    "# ABC 141 - D\n",
    "\n",
    "https://atcoder.jp/contests/abc141/tasks/abc141_d"
   ]
  },
  {
   "cell_type": "code",
   "execution_count": 12,
   "metadata": {},
   "outputs": [
    {
     "name": "stdout",
     "output_type": "stream",
     "text": [
      "9\n"
     ]
    }
   ],
   "source": [
    "N, M = 3, 3\n",
    "A = [2, 13, 8]\n",
    "\n",
    "print(9)"
   ]
  },
  {
   "cell_type": "code",
   "execution_count": 13,
   "metadata": {},
   "outputs": [],
   "source": [
    "from heapq import heappush, heappop"
   ]
  },
  {
   "cell_type": "code",
   "execution_count": 16,
   "metadata": {},
   "outputs": [
    {
     "name": "stdout",
     "output_type": "stream",
     "text": [
      "9\n"
     ]
    }
   ],
   "source": [
    "q = []\n",
    "for v in A:\n",
    "    heappush(q, -v)\n",
    "    \n",
    "for _ in range(M):\n",
    "    v = heappop(q)\n",
    "    heappush(q, -(-v // 2))\n",
    "    \n",
    "print(-sum(q))"
   ]
  },
  {
   "cell_type": "markdown",
   "metadata": {},
   "source": [
    "# ABC 138 - D\n",
    "\n",
    "https://atcoder.jp/contests/abc138/tasks/abc138_d"
   ]
  },
  {
   "cell_type": "code",
   "execution_count": 1,
   "metadata": {},
   "outputs": [
    {
     "name": "stdout",
     "output_type": "stream",
     "text": [
      "100 110 111 110\n"
     ]
    }
   ],
   "source": [
    "N, Q = 4, 3\n",
    "X = [[1, 2], [2, 3], [2, 4]]\n",
    "Y = [[2, 10], [1, 100], [3, 1]]\n",
    "\n",
    "print(\"100 110 111 110\")"
   ]
  },
  {
   "cell_type": "code",
   "execution_count": 2,
   "metadata": {},
   "outputs": [],
   "source": [
    "graph = [[] for _ in range(N + 1)]\n",
    "for a, b in X:\n",
    "    graph[a].append(b)\n",
    "    graph[b].append(a)"
   ]
  },
  {
   "cell_type": "code",
   "execution_count": 4,
   "metadata": {},
   "outputs": [],
   "source": [
    "from collections import deque"
   ]
  },
  {
   "cell_type": "code",
   "execution_count": 5,
   "metadata": {},
   "outputs": [
    {
     "name": "stdout",
     "output_type": "stream",
     "text": [
      "100 110 111 110\n"
     ]
    }
   ],
   "source": [
    "ctr = [0] * (N + 1)\n",
    "for p, x in Y:\n",
    "    ctr[p] += x\n",
    "\n",
    "# BFS\n",
    "visited = [False] * (N + 1)\n",
    "visited[1] = True\n",
    "q = deque([1])\n",
    "while q:\n",
    "    u = q.popleft()\n",
    "    for v in graph[u]:\n",
    "        if visited[v]:\n",
    "            continue\n",
    "            \n",
    "        ctr[v] += ctr[u]\n",
    "        visited[v] = True\n",
    "        q.append(v)\n",
    "        \n",
    "print(*ctr[1:])"
   ]
  },
  {
   "cell_type": "markdown",
   "metadata": {},
   "source": [
    "# ABC 113 - D\n",
    "\n",
    "https://atcoder.jp/contests/abc113/tasks/abc113_d"
   ]
  },
  {
   "cell_type": "code",
   "execution_count": 25,
   "metadata": {},
   "outputs": [
    {
     "name": "stdout",
     "output_type": "stream",
     "text": [
      "2\n"
     ]
    }
   ],
   "source": [
    "H, W, K = 1, 3, 1\n",
    "\n",
    "print(2)"
   ]
  },
  {
   "cell_type": "code",
   "execution_count": 26,
   "metadata": {},
   "outputs": [
    {
     "name": "stdout",
     "output_type": "stream",
     "text": [
      "2\n"
     ]
    }
   ],
   "source": [
    "MOD = 10 ** 9 + 7\n",
    "dp = [[0] * W for _ in range(H + 1)]\n",
    "dp[0][0] = 1\n",
    "for i in range(H):\n",
    "    for j in range(W):\n",
    "        for k in range(1 << (W - 1)):\n",
    "            # 横同士の繋がり\n",
    "            ok = True\n",
    "            for l in range(W - 2):\n",
    "                if (k >> l & 1) and (k >> (l + 1) & 1):\n",
    "                    ok = False\n",
    "\n",
    "            if not ok:\n",
    "                continue\n",
    "\n",
    "            if j > 0 and k >> (j - 1) & 1:\n",
    "                dp[i + 1][j - 1] += dp[i][j]\n",
    "                dp[i + 1][j - 1] %= MOD\n",
    "            elif j < W - 1 and k >> j & 1:\n",
    "                dp[i + 1][j + 1] += dp[i][j]\n",
    "                dp[i + 1][j + 1] %= MOD\n",
    "            else:\n",
    "                dp[i + 1][j] += dp[i][j]\n",
    "                dp[i + 1][j] %= MOD\n",
    "\n",
    "print(dp[-1][K - 1])"
   ]
  },
  {
   "cell_type": "markdown",
   "metadata": {},
   "source": [
    "# ABC 102 - D\n",
    "\n",
    "https://atcoder.jp/contests/abc102/tasks/arc100_b"
   ]
  },
  {
   "cell_type": "code",
   "execution_count": 9,
   "metadata": {},
   "outputs": [
    {
     "name": "stdout",
     "output_type": "stream",
     "text": [
      "2\n"
     ]
    }
   ],
   "source": [
    "N = 5\n",
    "A = [3, 2, 4, 1, 2]\n",
    "\n",
    "print(2)"
   ]
  },
  {
   "cell_type": "code",
   "execution_count": 1,
   "metadata": {},
   "outputs": [
    {
     "name": "stdout",
     "output_type": "stream",
     "text": [
      "36\n"
     ]
    }
   ],
   "source": [
    "N = 10\n",
    "A = [10, 71, 84, 33, 6, 47, 23, 25, 52, 64]\n",
    "\n",
    "print(36)"
   ]
  },
  {
   "cell_type": "code",
   "execution_count": 2,
   "metadata": {},
   "outputs": [],
   "source": [
    "# Cumsum\n",
    "d = [0] * (N + 1)\n",
    "for i in range(N):\n",
    "    d[i + 1] = d[i] + A[i]"
   ]
  },
  {
   "cell_type": "code",
   "execution_count": 9,
   "metadata": {},
   "outputs": [
    {
     "name": "stdout",
     "output_type": "stream",
     "text": [
      "0 1 5 --- 0 10 194 211\n",
      "1 2 6 --- 10 71 170 164\n",
      "2 3 8 --- 81 84 134 116\n",
      "2 4 8 --- 81 117 101 116\n",
      "2 5 8 --- 81 123 95 116\n",
      "3 6 9 --- 165 86 100 64\n",
      "3 7 9 --- 165 109 77 64\n",
      "3 8 9 --- 165 134 52 64\n",
      "3 9 10 --- 165 186 64 0\n",
      "36\n"
     ]
    }
   ],
   "source": [
    "ans = 10 ** 9 + 7\n",
    "l = 0\n",
    "r = 2\n",
    "for m in range(1, N):\n",
    "    # Left\n",
    "    while l < m:\n",
    "        s1 = abs((d[m] - d[l]) - d[l])\n",
    "        s2 = abs((d[m] - d[l + 1]) - d[l + 1])\n",
    "        if s1 > s2:\n",
    "            l += 1\n",
    "        else:\n",
    "            break\n",
    "\n",
    "    # Right\n",
    "    while m <= r < N:\n",
    "        s1 = abs((d[N] - d[r]) - (d[r] - d[m]))\n",
    "        s2 = abs((d[N] - d[r + 1]) - (d[r + 1] - d[m]))\n",
    "        if s1 > s2 or m == r:\n",
    "            r += 1\n",
    "        else:\n",
    "            break\n",
    "\n",
    "    print(l, m, r, \"---\", d[l], d[m] - d[l], d[r] - d[m], d[N] - d[r])\n",
    "    m1 = min(d[l], d[m] - d[l], d[r] - d[m], d[N] - d[r])\n",
    "    m2 = max(d[l], d[m] - d[l], d[r] - d[m], d[N] - d[r])\n",
    "    ans = min(ans, m2 - m1)\n",
    "\n",
    "print(ans)"
   ]
  },
  {
   "cell_type": "markdown",
   "metadata": {},
   "source": [
    "# ABC 100 - D\n",
    "\n",
    "https://atcoder.jp/contests/abc100/tasks/abc100_d"
   ]
  },
  {
   "cell_type": "code",
   "execution_count": 1,
   "metadata": {},
   "outputs": [
    {
     "name": "stdout",
     "output_type": "stream",
     "text": [
      "56\n"
     ]
    }
   ],
   "source": [
    "N, M = 5, 3\n",
    "X = [[3, 1, 4], [1, 5, 9], [2, 6, 5], [3, 5, 8], [9, 7, 9]]\n",
    "\n",
    "print(56)"
   ]
  },
  {
   "cell_type": "code",
   "execution_count": 3,
   "metadata": {},
   "outputs": [
    {
     "name": "stdout",
     "output_type": "stream",
     "text": [
      "54\n"
     ]
    }
   ],
   "source": [
    "N, M = 5, 3\n",
    "X = [[1, -2, 3], [-4, 5, -6], [7, -8, -9], [-10, 11, -12], [13, -14, 15]]\n",
    "\n",
    "print(54)"
   ]
  },
  {
   "cell_type": "code",
   "execution_count": 4,
   "metadata": {},
   "outputs": [
    {
     "name": "stdout",
     "output_type": "stream",
     "text": [
      "54\n"
     ]
    }
   ],
   "source": [
    "ans = [0] * 8\n",
    "for bit in range(2 ** 3):\n",
    "    cand = [0] * N\n",
    "    for i in range(N):\n",
    "        for j in range(3):\n",
    "            cand[i] += [1, -1][bit >> j & 1] * X[i][j]\n",
    "\n",
    "    cand = sorted(enumerate(cand), key=lambda x: -x[1])\n",
    "    res = [0] * 3\n",
    "    for i, _ in cand[:M]:\n",
    "        for j in range(3):\n",
    "            res[j] += X[i][j]\n",
    "    ans[bit] = sum(map(abs, res))\n",
    "\n",
    "print(max(ans))"
   ]
  },
  {
   "cell_type": "markdown",
   "metadata": {},
   "source": [
    "# ABC 99 - D\n",
    "\n",
    "https://atcoder.jp/contests/abc099/tasks/abc099_d"
   ]
  },
  {
   "cell_type": "code",
   "execution_count": 6,
   "metadata": {},
   "outputs": [
    {
     "name": "stdout",
     "output_type": "stream",
     "text": [
      "3\n"
     ]
    }
   ],
   "source": [
    "N, C = 2, 3\n",
    "D = [[0, 1, 1], [1, 0, 1], [1, 4, 0]]\n",
    "X = [[1, 2], [3, 3]]\n",
    "\n",
    "print(3)"
   ]
  },
  {
   "cell_type": "code",
   "execution_count": 16,
   "metadata": {},
   "outputs": [],
   "source": [
    "from itertools import permutations"
   ]
  },
  {
   "cell_type": "code",
   "execution_count": 20,
   "metadata": {},
   "outputs": [
    {
     "name": "stdout",
     "output_type": "stream",
     "text": [
      "3\n"
     ]
    }
   ],
   "source": [
    "memo = [[0] * C for _ in range(3)]\n",
    "for i in range(N):\n",
    "    for j in range(N):\n",
    "        k = (i + j + 2) % 3\n",
    "        memo[k][X[i][j] - 1] += 1\n",
    "\n",
    "ans = 10 ** 9 + 7\n",
    "for c in permutations(range(C), 3):\n",
    "    cost = 0\n",
    "    for n in range(3):\n",
    "        for j in range(C):\n",
    "            cost += D[j][c[n]] * memo[n][j]\n",
    "\n",
    "    ans = min(ans, cost)\n",
    "\n",
    "print(ans)"
   ]
  },
  {
   "cell_type": "code",
   "execution_count": null,
   "metadata": {},
   "outputs": [],
   "source": []
  }
 ],
 "metadata": {
  "kernelspec": {
   "display_name": "Python 3",
   "language": "python",
   "name": "python3"
  },
  "language_info": {
   "codemirror_mode": {
    "name": "ipython",
    "version": 3
   },
   "file_extension": ".py",
   "mimetype": "text/x-python",
   "name": "python",
   "nbconvert_exporter": "python",
   "pygments_lexer": "ipython3",
   "version": "3.7.3"
  }
 },
 "nbformat": 4,
 "nbformat_minor": 4
}
