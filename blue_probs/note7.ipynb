{
 "cells": [
  {
   "cell_type": "markdown",
   "metadata": {},
   "source": [
    "# ABC 135 - D\n",
    "\n",
    "https://atcoder.jp/contests/abc135/tasks/abc135_d"
   ]
  },
  {
   "cell_type": "code",
   "execution_count": 1,
   "metadata": {},
   "outputs": [
    {
     "name": "stdout",
     "output_type": "stream",
     "text": [
      "768\n"
     ]
    }
   ],
   "source": [
    "S = \"??2??5\"\n",
    "\n",
    "print(768)"
   ]
  },
  {
   "cell_type": "code",
   "execution_count": 3,
   "metadata": {},
   "outputs": [
    {
     "name": "stdout",
     "output_type": "stream",
     "text": [
      "768\n"
     ]
    }
   ],
   "source": [
    "dp = [[0] * 13 for _ in range(len(S) + 1)]\n",
    "dp[0][0] = 1\n",
    "mod = 10 ** 9 + 7\n",
    "for i in range(len(S)):\n",
    "    for j in range(13):\n",
    "        if S[i] == \"?\":\n",
    "            for k in range(10):\n",
    "                x = (j * 10 + k) % 13\n",
    "                dp[i + 1][x] += dp[i][j]\n",
    "                dp[i + 1][x] %= mod\n",
    "        else:\n",
    "            x = (j * 10 + int(S[i])) % 13\n",
    "            dp[i + 1][x] += dp[i][j]\n",
    "            dp[i + 1][x] %= mod\n",
    "            \n",
    "print(dp[-1][5])"
   ]
  },
  {
   "cell_type": "markdown",
   "metadata": {},
   "source": [
    "# ABC 136 - D\n",
    "\n",
    "https://atcoder.jp/contests/abc136/tasks/abc136_d"
   ]
  },
  {
   "cell_type": "code",
   "execution_count": 11,
   "metadata": {},
   "outputs": [
    {
     "name": "stdout",
     "output_type": "stream",
     "text": [
      "0 1 2 1 1\n"
     ]
    }
   ],
   "source": [
    "S = \"RRLRL\"\n",
    "\n",
    "print(0,1,2,1,1)"
   ]
  },
  {
   "cell_type": "code",
   "execution_count": 15,
   "metadata": {},
   "outputs": [
    {
     "name": "stdout",
     "output_type": "stream",
     "text": [
      "0 1 2 1 1\n"
     ]
    }
   ],
   "source": [
    "n = len(S)\n",
    "x = [1] * n\n",
    "for i in range(n):\n",
    "    if S[i] == \"R\" and S[i + 1] == \"R\":\n",
    "        x[i + 2] += x[i]\n",
    "        x[i] = 0\n",
    "\n",
    "for i in reversed(range(n)):\n",
    "    if S[i] == \"L\" and S[i - 1] == \"L\":\n",
    "        x[i - 2] += x[i]\n",
    "        x[i] = 0\n",
    "            \n",
    "print(*x)"
   ]
  },
  {
   "cell_type": "markdown",
   "metadata": {},
   "source": [
    "# ABC 136 - E\n",
    "\n",
    "https://atcoder.jp/contests/abc136/tasks/abc136_e"
   ]
  },
  {
   "cell_type": "code",
   "execution_count": 39,
   "metadata": {},
   "outputs": [
    {
     "name": "stdout",
     "output_type": "stream",
     "text": [
      "7\n"
     ]
    }
   ],
   "source": [
    "N, K = 2, 3\n",
    "A = [8, 20]\n",
    "\n",
    "print(7)"
   ]
  },
  {
   "cell_type": "code",
   "execution_count": 40,
   "metadata": {},
   "outputs": [],
   "source": [
    "s = sum(A)\n",
    "divisor = []\n",
    "for i in range(1, int(s ** 0.5) + 1):\n",
    "    if s % i == 0:\n",
    "        divisor.append(i)\n",
    "        if i != s // i:\n",
    "            divisor.append(s // i)"
   ]
  },
  {
   "cell_type": "code",
   "execution_count": 41,
   "metadata": {},
   "outputs": [],
   "source": [
    "from itertools import accumulate"
   ]
  },
  {
   "cell_type": "code",
   "execution_count": 46,
   "metadata": {},
   "outputs": [
    {
     "name": "stdout",
     "output_type": "stream",
     "text": [
      "7\n"
     ]
    }
   ],
   "source": [
    "ans = 0\n",
    "for d in divisor:\n",
    "    x = sorted(v % d for v in A)\n",
    "    y = [d - r for r in x]\n",
    "    x_s = [0] + list(accumulate(x))\n",
    "    y_s = list(accumulate(y[::-1]))[::-1] + [0]\n",
    "\n",
    "    for i in range(N + 1):\n",
    "        if x_s[i] <= K and x_s[i] == y_s[i]:\n",
    "            ans = max(ans, d)\n",
    "            break\n",
    "\n",
    "print(ans)"
   ]
  },
  {
   "cell_type": "markdown",
   "metadata": {},
   "source": [
    "# ABC 137 - C"
   ]
  },
  {
   "cell_type": "code",
   "execution_count": 47,
   "metadata": {},
   "outputs": [
    {
     "name": "stdout",
     "output_type": "stream",
     "text": [
      "1\n"
     ]
    }
   ],
   "source": [
    "N = 3\n",
    "S = [\"acornistnt\", \"peanutbomb\", \"constraint\"]\n",
    "\n",
    "print(1)"
   ]
  },
  {
   "cell_type": "code",
   "execution_count": 52,
   "metadata": {},
   "outputs": [],
   "source": [
    "from collections import defaultdict"
   ]
  },
  {
   "cell_type": "code",
   "execution_count": 54,
   "metadata": {},
   "outputs": [],
   "source": [
    "ctr = defaultdict(int)\n",
    "\n",
    "for i in range(N):\n",
    "    tmp = [0] * 26\n",
    "    for j in range(10):\n",
    "        tmp[ord(S[i][j]) - ord(\"a\")] += 1\n",
    "    ctr[tuple(tmp)] += 1"
   ]
  },
  {
   "cell_type": "code",
   "execution_count": 56,
   "metadata": {},
   "outputs": [
    {
     "name": "stdout",
     "output_type": "stream",
     "text": [
      "1\n"
     ]
    }
   ],
   "source": [
    "ans = 0\n",
    "for v in ctr.values():\n",
    "    ans += v * (v - 1) // 2\n",
    "print(ans)"
   ]
  },
  {
   "cell_type": "markdown",
   "metadata": {},
   "source": [
    "# ABC 137 - D"
   ]
  },
  {
   "cell_type": "code",
   "execution_count": 1,
   "metadata": {},
   "outputs": [
    {
     "name": "stdout",
     "output_type": "stream",
     "text": [
      "5\n"
     ]
    }
   ],
   "source": [
    "N, M = 3, 4\n",
    "X = [[4, 3], [4, 1], [2, 2]]\n",
    "\n",
    "print(5)"
   ]
  },
  {
   "cell_type": "code",
   "execution_count": 2,
   "metadata": {},
   "outputs": [],
   "source": [
    "from heapq import heappush, heappop"
   ]
  },
  {
   "cell_type": "code",
   "execution_count": 6,
   "metadata": {},
   "outputs": [
    {
     "name": "stdout",
     "output_type": "stream",
     "text": [
      "5\n"
     ]
    }
   ],
   "source": [
    "pq = []\n",
    "for a, b in X:\n",
    "    heappush(pq, (a, b))\n",
    "    \n",
    "cand = []\n",
    "ans = 0\n",
    "for t in range(1, M + 1):\n",
    "    while pq:\n",
    "        a, b = heappop(pq)\n",
    "        if a <= t:\n",
    "            heappush(cand, -b)\n",
    "        else:\n",
    "            heappush(pq, (a, b))\n",
    "            break\n",
    "\n",
    "    if cand:\n",
    "        v = heappop(cand)\n",
    "        ans += -v\n",
    "\n",
    "print(ans)"
   ]
  },
  {
   "cell_type": "markdown",
   "metadata": {},
   "source": [
    "# ABC 137 - E"
   ]
  },
  {
   "cell_type": "code",
   "execution_count": 1,
   "metadata": {},
   "outputs": [
    {
     "name": "stdout",
     "output_type": "stream",
     "text": [
      "35\n"
     ]
    }
   ],
   "source": [
    "N, M, P = 3, 3, 10\n",
    "X = [[1, 2, 20], [2, 3, 30], [1, 3, 45]]\n",
    "\n",
    "print(35)"
   ]
  },
  {
   "cell_type": "code",
   "execution_count": 2,
   "metadata": {},
   "outputs": [],
   "source": [
    "from collections import deque"
   ]
  },
  {
   "cell_type": "code",
   "execution_count": 4,
   "metadata": {},
   "outputs": [],
   "source": [
    "to = [[] for _ in range(N + 1)]\n",
    "ot = [[] for _ in range(N + 1)]\n",
    "edges = [[] for _ in range(N + 1)]\n",
    "\n",
    "for a, b, c in X:\n",
    "    edges[a].append((b, c - P))\n",
    "    to[a].append(b)\n",
    "    ot[b].append(a)"
   ]
  },
  {
   "cell_type": "markdown",
   "metadata": {},
   "source": [
    "#### DFSもしくはBFSを使って，始点と終点それぞれから到達可能な点を探す"
   ]
  },
  {
   "cell_type": "code",
   "execution_count": 11,
   "metadata": {},
   "outputs": [],
   "source": [
    "ok_1 = [False] * (N + 1)\n",
    "ok_n = [False] * (N + 1)\n",
    "\n",
    "def dfs_1(u):\n",
    "    if ok_1[u]:\n",
    "        return\n",
    "    \n",
    "    ok_1[u] = True\n",
    "    for v in to[u]:\n",
    "        dfs_1(v)\n",
    "        \n",
    "def dfs_n(u):\n",
    "    if ok_n[u]:\n",
    "        return\n",
    "\n",
    "    ok_n[u] = True\n",
    "    for v in ot[u]:\n",
    "        dfs_n(v)\n",
    "\n",
    "dfs_1(1)\n",
    "dfs_n(N)"
   ]
  },
  {
   "cell_type": "markdown",
   "metadata": {},
   "source": [
    "#### Bellman-Fordによる最短経路探索\n",
    "\n",
    "計算量は$O(NM)$\n",
    "\n",
    "* `cnt <= N`が$O(N)$\n",
    "* `for u in range(1, N+1); for v, c in edges[u]`が$O(M)$\n",
    "* 負の経路（無限に回り続ける経路）がある場合には，ループが`N`回まわる．"
   ]
  },
  {
   "cell_type": "code",
   "execution_count": 12,
   "metadata": {},
   "outputs": [
    {
     "name": "stdout",
     "output_type": "stream",
     "text": [
      "35\n"
     ]
    }
   ],
   "source": [
    "INF = 10 ** 9 + 7\n",
    "d = [INF] * (N + 1)\n",
    "d[1] = 0\n",
    "updated = True\n",
    "cnt = 0\n",
    "while updated and cnt <= N:\n",
    "    updated = False\n",
    "    cnt += 1\n",
    "    for u in range(1, N + 1):\n",
    "        if not ok_1[u] or not ok_n[u]:\n",
    "            continue\n",
    "\n",
    "        for v, c in edges[u]:\n",
    "            if not ok_1[v] or not ok_n[v]:\n",
    "                continue\n",
    "                \n",
    "            if d[v] > d[u] - c:\n",
    "                d[v] = d[u] - c\n",
    "                updated = True\n",
    "\n",
    "if cnt > N:\n",
    "    print(-1)\n",
    "else:\n",
    "    print(max(0, -d[-1]))"
   ]
  },
  {
   "cell_type": "markdown",
   "metadata": {},
   "source": [
    "# ABC 138 - D"
   ]
  },
  {
   "cell_type": "code",
   "execution_count": 14,
   "metadata": {},
   "outputs": [
    {
     "name": "stdout",
     "output_type": "stream",
     "text": [
      "100 110 111 110\n"
     ]
    }
   ],
   "source": [
    "N, Q = 4, 3\n",
    "X = [[1, 2], [2, 3], [2, 4]]\n",
    "Y = [[2, 10], [1, 100], [3, 1]]\n",
    "\n",
    "print(\"100 110 111 110\")"
   ]
  },
  {
   "cell_type": "code",
   "execution_count": 17,
   "metadata": {},
   "outputs": [],
   "source": [
    "from collections import deque"
   ]
  },
  {
   "cell_type": "code",
   "execution_count": 23,
   "metadata": {},
   "outputs": [],
   "source": [
    "tree = [0] * (N + 1)\n",
    "for p, x in Y:\n",
    "    tree[p] += x\n",
    "\n",
    "graph = [[] for _ in range(N + 1)]\n",
    "for a, b in X:\n",
    "    graph[a].append(b)\n",
    "    graph[b].append(a)"
   ]
  },
  {
   "cell_type": "code",
   "execution_count": 24,
   "metadata": {},
   "outputs": [
    {
     "name": "stdout",
     "output_type": "stream",
     "text": [
      "100 110 111 110\n"
     ]
    }
   ],
   "source": [
    "visited = [False] * (N + 1)\n",
    "visited[1] = True\n",
    "stack = deque()\n",
    "stack.append(1)\n",
    "while stack:\n",
    "    u = stack.popleft()\n",
    "    for v in graph[u]:\n",
    "        if not visited[v]:\n",
    "            visited[v] = True\n",
    "            tree[v] += tree[u]\n",
    "            stack.append(v)\n",
    "            \n",
    "print(*tree[1:])"
   ]
  },
  {
   "cell_type": "markdown",
   "metadata": {},
   "source": [
    "# ABC 138 - E"
   ]
  },
  {
   "cell_type": "code",
   "execution_count": 1,
   "metadata": {},
   "outputs": [
    {
     "name": "stdout",
     "output_type": "stream",
     "text": [
      "10\n"
     ]
    }
   ],
   "source": [
    "s = \"contest\"\n",
    "t = \"son\"\n",
    "\n",
    "print(10)"
   ]
  },
  {
   "cell_type": "code",
   "execution_count": 2,
   "metadata": {},
   "outputs": [],
   "source": [
    "from collections import defaultdict\n",
    "from bisect import bisect_right"
   ]
  },
  {
   "cell_type": "code",
   "execution_count": 3,
   "metadata": {},
   "outputs": [],
   "source": [
    "indices = defaultdict(list)\n",
    "for i, v in enumerate(s):\n",
    "    indices[v].append(i)"
   ]
  },
  {
   "cell_type": "code",
   "execution_count": 4,
   "metadata": {},
   "outputs": [
    {
     "name": "stdout",
     "output_type": "stream",
     "text": [
      "10\n"
     ]
    }
   ],
   "source": [
    "cnt = 0\n",
    "cur = -1\n",
    "mod = len(s)\n",
    "flag = False\n",
    "for v in t:\n",
    "    if v not in indices:\n",
    "        flag = True\n",
    "        break\n",
    "\n",
    "    i = bisect_right(indices[v], cur)\n",
    "    if i == len(indices[v]):\n",
    "        j = indices[v][0]\n",
    "    else:\n",
    "        j = indices[v][i]\n",
    "\n",
    "    if cur >= j:\n",
    "        cnt += 1\n",
    "    cur = j\n",
    "\n",
    "if flag:\n",
    "    print(-1)\n",
    "else:\n",
    "    print(cnt * mod + cur + 1)"
   ]
  },
  {
   "cell_type": "markdown",
   "metadata": {},
   "source": [
    "# ABC 139 - E"
   ]
  },
  {
   "cell_type": "code",
   "execution_count": 1,
   "metadata": {},
   "outputs": [
    {
     "name": "stdout",
     "output_type": "stream",
     "text": [
      "3\n"
     ]
    }
   ],
   "source": [
    "N = 3\n",
    "X = [[2, 3], [1, 3], [1, 2]]\n",
    "\n",
    "print(3)"
   ]
  },
  {
   "cell_type": "code",
   "execution_count": 2,
   "metadata": {},
   "outputs": [],
   "source": [
    "from collections import deque"
   ]
  },
  {
   "cell_type": "markdown",
   "metadata": {},
   "source": [
    "* `visited`: 始点としてその頂点に訪れたか．\n",
    "* `ins`: 終点となる場合の数．`ins[i]==0`のとき`i`は始点となり得るので，`q`に追加される．"
   ]
  },
  {
   "cell_type": "code",
   "execution_count": 3,
   "metadata": {},
   "outputs": [],
   "source": [
    "graph = [[] for _ in range(N * N)]\n",
    "ins = [0] * (N * N)\n",
    "\n",
    "for i, nodes in enumerate(X):\n",
    "    for j1, j2 in zip(nodes[:-1], nodes[1:]):\n",
    "        n1 = max(i, j1 - 1) * N + min(i, j1 - 1)\n",
    "        n2 = max(i, j2 - 1) * N + min(i, j2 - 1)\n",
    "        graph[n1].append(n2)\n",
    "        ins[n2] += 1"
   ]
  },
  {
   "cell_type": "code",
   "execution_count": 4,
   "metadata": {},
   "outputs": [
    {
     "name": "stdout",
     "output_type": "stream",
     "text": [
      "3\n"
     ]
    }
   ],
   "source": [
    "dist = [0] * (N * N)\n",
    "visited = [False] * (N * N)\n",
    "q = deque()\n",
    "for i in range(N):\n",
    "    visited[N * i + i] = True\n",
    "\n",
    "for i, v in enumerate(ins):\n",
    "    if v == 0:\n",
    "        q.append(i)\n",
    "        visited[i] = True\n",
    "        dist[i] = 1\n",
    "\n",
    "while q:\n",
    "    u = q.popleft()\n",
    "    for v in graph[u]:\n",
    "        if visited[v]:\n",
    "            continue\n",
    "\n",
    "        ins[v] -= 1\n",
    "        if ins[v] == 0:\n",
    "            visited[v] = True\n",
    "            dist[v] = dist[u] + 1\n",
    "            q.append(v)\n",
    "            \n",
    "print(max(dist) if all(visited) else -1)"
   ]
  },
  {
   "cell_type": "markdown",
   "metadata": {},
   "source": [
    "# ABC 140 - D"
   ]
  },
  {
   "cell_type": "code",
   "execution_count": 5,
   "metadata": {},
   "outputs": [
    {
     "name": "stdout",
     "output_type": "stream",
     "text": [
      "3\n"
     ]
    }
   ],
   "source": [
    "N, K = 6, 1\n",
    "S = \"LRLRRL\"\n",
    "\n",
    "print(3)"
   ]
  },
  {
   "cell_type": "code",
   "execution_count": 12,
   "metadata": {},
   "outputs": [
    {
     "name": "stdout",
     "output_type": "stream",
     "text": [
      "3\n"
     ]
    }
   ],
   "source": [
    "x = S.count(\"RL\")\n",
    "y = int(S[0] == \"L\") + int(S[-1] == \"R\")\n",
    "print(min(N - 1, N - 2 * x - y + 2 * K))"
   ]
  },
  {
   "cell_type": "markdown",
   "metadata": {},
   "source": [
    "# ABC 141 - D"
   ]
  },
  {
   "cell_type": "code",
   "execution_count": 17,
   "metadata": {},
   "outputs": [
    {
     "name": "stdout",
     "output_type": "stream",
     "text": [
      "9\n"
     ]
    }
   ],
   "source": [
    "N, M = 3, 3\n",
    "A = [2, 13, 8]\n",
    "\n",
    "print(9)"
   ]
  },
  {
   "cell_type": "code",
   "execution_count": 18,
   "metadata": {},
   "outputs": [],
   "source": [
    "from heapq import heappush, heappop"
   ]
  },
  {
   "cell_type": "code",
   "execution_count": 21,
   "metadata": {},
   "outputs": [
    {
     "name": "stdout",
     "output_type": "stream",
     "text": [
      "9\n"
     ]
    }
   ],
   "source": [
    "q = []\n",
    "for v in A:\n",
    "    heappush(q, -v)\n",
    "    \n",
    "for _ in range(M):\n",
    "    v = heappop(q)\n",
    "    heappush(q, -((-v) // 2))\n",
    "    \n",
    "print(-sum(q))"
   ]
  },
  {
   "cell_type": "markdown",
   "metadata": {},
   "source": [
    "# ABC 141 - E"
   ]
  },
  {
   "cell_type": "code",
   "execution_count": 22,
   "metadata": {},
   "outputs": [
    {
     "name": "stdout",
     "output_type": "stream",
     "text": [
      "2\n"
     ]
    }
   ],
   "source": [
    "N = 5\n",
    "S = \"ababa\"\n",
    "\n",
    "print(2)"
   ]
  },
  {
   "cell_type": "code",
   "execution_count": 25,
   "metadata": {},
   "outputs": [],
   "source": [
    "def z_algorithm(s):\n",
    "    n = len(s)\n",
    "    res = [0] * n\n",
    "    i = 1\n",
    "    j = 0\n",
    "    while i < n:\n",
    "        while i + j < n and s[j] == s[i + j]:\n",
    "            j += 1\n",
    "        res[i] = j\n",
    "        \n",
    "        if j == 0:\n",
    "            i += 1\n",
    "            continue\n",
    "            \n",
    "        k = 1\n",
    "        while i + k < n and k + res[k] < j:\n",
    "            res[i + k] = res[k]\n",
    "            k += 1\n",
    "            \n",
    "        i += k\n",
    "        j -= k\n",
    "        \n",
    "    return res"
   ]
  },
  {
   "cell_type": "code",
   "execution_count": 29,
   "metadata": {},
   "outputs": [
    {
     "name": "stdout",
     "output_type": "stream",
     "text": [
      "2\n"
     ]
    }
   ],
   "source": [
    "ans = 0\n",
    "for i in range(N):\n",
    "    lcp = z_algorithm(S[i:])\n",
    "    tmp = max(min(lcp[j], j) for j in range(N - i))\n",
    "    ans = max(ans, tmp)\n",
    "print(ans)"
   ]
  },
  {
   "cell_type": "markdown",
   "metadata": {},
   "source": [
    "# ABC 142 - D"
   ]
  },
  {
   "cell_type": "code",
   "execution_count": 30,
   "metadata": {},
   "outputs": [
    {
     "name": "stdout",
     "output_type": "stream",
     "text": [
      "3\n"
     ]
    }
   ],
   "source": [
    "A, B = 12, 18\n",
    "\n",
    "print(3)"
   ]
  },
  {
   "cell_type": "code",
   "execution_count": 33,
   "metadata": {},
   "outputs": [],
   "source": [
    "def prime_factor(n):\n",
    "    res = set([1])\n",
    "    for i in range(2, n + 1):\n",
    "        if i * i > n:\n",
    "            break\n",
    "            \n",
    "        while n % i == 0:\n",
    "            res.add(i)\n",
    "            n //= i\n",
    "            \n",
    "    if n != 1:\n",
    "        res.add(n)\n",
    "        \n",
    "    return res"
   ]
  },
  {
   "cell_type": "code",
   "execution_count": 34,
   "metadata": {},
   "outputs": [
    {
     "name": "stdout",
     "output_type": "stream",
     "text": [
      "3\n"
     ]
    }
   ],
   "source": [
    "print(len(prime_factor(A) & prime_factor(B)))"
   ]
  },
  {
   "cell_type": "markdown",
   "metadata": {},
   "source": [
    "# ABC 142 - E"
   ]
  },
  {
   "cell_type": "code",
   "execution_count": 36,
   "metadata": {},
   "outputs": [
    {
     "name": "stdout",
     "output_type": "stream",
     "text": [
      "25\n"
     ]
    }
   ],
   "source": [
    "N, M = 2, 3\n",
    "X = [[10, 1], [15, 1], [30, 2]]\n",
    "Y = [1, 2, 3]\n",
    "\n",
    "print(25)"
   ]
  },
  {
   "cell_type": "code",
   "execution_count": 47,
   "metadata": {},
   "outputs": [],
   "source": [
    "N, M = 4, 6\n",
    "X = [[67786, 3], [3497, 1], [44908, 3], [2156, 3], [26230, 1], [86918, 1]]\n",
    "Y = [13, 2, 14, 14, 2, 4]"
   ]
  },
  {
   "cell_type": "code",
   "execution_count": 51,
   "metadata": {},
   "outputs": [
    {
     "name": "stdout",
     "output_type": "stream",
     "text": [
      "69942\n"
     ]
    }
   ],
   "source": [
    "inf = 10 ** 9 + 7\n",
    "dp = [[inf] * (2 ** N) for _ in range(M + 1)]\n",
    "dp[0][0] = 0\n",
    "for i in range(M):\n",
    "    for j in range(2 ** N):\n",
    "        dp[i + 1][j] = min(dp[i + 1][j], dp[i][j])\n",
    "        dp[i + 1][j | Y[i]] = min(dp[i + 1][j | Y[i]],\n",
    "                                  dp[i][j] + X[i][0])\n",
    "\n",
    "ans = min(dp[i][-1] for i in range(M + 1))\n",
    "print(ans if ans < inf else -1)"
   ]
  },
  {
   "cell_type": "markdown",
   "metadata": {},
   "source": [
    "# ABC 143 - D"
   ]
  },
  {
   "cell_type": "code",
   "execution_count": 1,
   "metadata": {},
   "outputs": [
    {
     "name": "stdout",
     "output_type": "stream",
     "text": [
      "1\n"
     ]
    }
   ],
   "source": [
    "N = 4\n",
    "X = [3, 4, 2, 1]\n",
    "\n",
    "print(1)"
   ]
  },
  {
   "cell_type": "code",
   "execution_count": 7,
   "metadata": {},
   "outputs": [],
   "source": [
    "from bisect import bisect_left, bisect_right"
   ]
  },
  {
   "cell_type": "code",
   "execution_count": 21,
   "metadata": {},
   "outputs": [
    {
     "name": "stdout",
     "output_type": "stream",
     "text": [
      "1\n"
     ]
    }
   ],
   "source": [
    "X.sort()\n",
    "ans = 0\n",
    "for i in range(N - 2):\n",
    "    for j in range(i + 1, N - 1):\n",
    "        k1 = bisect_right(X, X[j] - X[i])\n",
    "        k2 = bisect_left(X, X[i] + X[j])\n",
    "        k1 = max(k1, j + 1)\n",
    "        ans += max(0, k2 - k1)\n",
    "\n",
    "print(ans)"
   ]
  },
  {
   "cell_type": "markdown",
   "metadata": {},
   "source": [
    "# ABC 143 - E"
   ]
  },
  {
   "cell_type": "code",
   "execution_count": 1,
   "metadata": {},
   "outputs": [
    {
     "name": "stdout",
     "output_type": "stream",
     "text": [
      "0 1\n"
     ]
    }
   ],
   "source": [
    "N, M, L = 3, 2, 5\n",
    "X = [[1, 2, 3], [2, 3, 3]]\n",
    "Q = 2\n",
    "Y = [[3, 2], [1, 3]]\n",
    "\n",
    "print(0, 1)"
   ]
  },
  {
   "cell_type": "code",
   "execution_count": 2,
   "metadata": {},
   "outputs": [],
   "source": [
    "inf = 10 ** 9 + 7\n",
    "graph = [[inf] * N for _ in range(N)]\n",
    "count = [[inf] * N for _ in range(N)]\n",
    "\n",
    "for i in range(N):\n",
    "    graph[i][i] = 0\n",
    "    count[i][i] = 0\n",
    "    \n",
    "for a, b, c in X:\n",
    "    graph[a - 1][b - 1] = c\n",
    "    graph[b - 1][a - 1] = c"
   ]
  },
  {
   "cell_type": "code",
   "execution_count": 3,
   "metadata": {},
   "outputs": [],
   "source": [
    "for k in range(N):\n",
    "    for i in range(N):\n",
    "        for j in range(N):\n",
    "            graph[i][j] = min(graph[i][j], graph[i][k] + graph[k][j])"
   ]
  },
  {
   "cell_type": "code",
   "execution_count": 12,
   "metadata": {},
   "outputs": [],
   "source": [
    "for i in range(N):\n",
    "    for j in range(N):\n",
    "        if i != j and graph[i][j] <= L:\n",
    "            count[i][j] = 1\n",
    "\n",
    "for k in range(N):\n",
    "    for i in range(N):\n",
    "        for j in range(N):\n",
    "            count[i][j] = min(count[i][j], count[i][k] + count[k][j])"
   ]
  },
  {
   "cell_type": "code",
   "execution_count": 13,
   "metadata": {},
   "outputs": [
    {
     "name": "stdout",
     "output_type": "stream",
     "text": [
      "0\n",
      "1\n"
     ]
    }
   ],
   "source": [
    "for s, t in Y:\n",
    "    if count[s - 1][t - 1] == inf:\n",
    "        print(-1)\n",
    "    else:\n",
    "        print(count[s - 1][t - 1] - 1)"
   ]
  },
  {
   "cell_type": "markdown",
   "metadata": {},
   "source": [
    "# ABC 144 - E"
   ]
  },
  {
   "cell_type": "code",
   "execution_count": 1,
   "metadata": {},
   "outputs": [
    {
     "name": "stdout",
     "output_type": "stream",
     "text": [
      "2\n"
     ]
    }
   ],
   "source": [
    "N, K = 3, 5\n",
    "A = [4, 2, 1]\n",
    "F = [2, 3, 1]\n",
    "\n",
    "print(2)"
   ]
  },
  {
   "cell_type": "code",
   "execution_count": 10,
   "metadata": {},
   "outputs": [
    {
     "name": "stdout",
     "output_type": "stream",
     "text": [
      "2\n"
     ]
    }
   ],
   "source": [
    "F.sort()\n",
    "x = [a * b for a, b in zip(F, sorted(A, reverse=True))]\n",
    "\n",
    "ub = max(x)\n",
    "lb = 0\n",
    "while ub - lb > 1:\n",
    "    mid = (ub + lb) // 2\n",
    "    res = 0\n",
    "    for i in range(N):\n",
    "        tmp = max(0, x[i] - mid)\n",
    "        res += -(-tmp // F[i])\n",
    "\n",
    "    if res <= K:\n",
    "        ub = mid\n",
    "    else:\n",
    "        lb = mid\n",
    "\n",
    "if sum(A) <= K:\n",
    "    print(0)\n",
    "else:\n",
    "    print(ub)"
   ]
  },
  {
   "cell_type": "markdown",
   "metadata": {},
   "source": [
    "# ABC 145 - D"
   ]
  },
  {
   "cell_type": "code",
   "execution_count": 12,
   "metadata": {},
   "outputs": [
    {
     "name": "stdout",
     "output_type": "stream",
     "text": [
      "2\n"
     ]
    }
   ],
   "source": [
    "X, Y = 3, 3\n",
    "\n",
    "print(2)"
   ]
  },
  {
   "cell_type": "code",
   "execution_count": 15,
   "metadata": {},
   "outputs": [],
   "source": [
    "MAX = 2 * 10 ** 6 + 1\n",
    "MOD = 10 ** 9 + 7\n",
    "\n",
    "# Factorial\n",
    "fac = [0] * (MAX + 1)\n",
    "fac[0] = 1\n",
    "fac[1] = 1\n",
    "for i in range(2, MAX + 1):\n",
    "    fac[i] = fac[i - 1] * i % MOD\n",
    "    \n",
    "# Inverse factorial\n",
    "finv = [0] * (MAX + 1)\n",
    "finv[MAX] = pow(fac[MAX], MOD - 2, MOD)\n",
    "for i in reversed(range(1, MAX + 1)):\n",
    "    finv[i - 1] = finv[i] * i % MOD"
   ]
  },
  {
   "cell_type": "code",
   "execution_count": 16,
   "metadata": {},
   "outputs": [],
   "source": [
    "def comb(n, k):\n",
    "    if n < k or k < 0:\n",
    "        return 0\n",
    "    return (fac[n] * finv[k] * finv[n - k]) % MOD"
   ]
  },
  {
   "cell_type": "code",
   "execution_count": 17,
   "metadata": {},
   "outputs": [
    {
     "name": "stdout",
     "output_type": "stream",
     "text": [
      "2\n"
     ]
    }
   ],
   "source": [
    "mod = 10 ** 9 + 7\n",
    "v1 = 2 * Y - X\n",
    "v2 = 2 * X - Y\n",
    "if (v1 >= 0 and v1 % 3 == 0 and v2 >= 0 and v2 % 3 == 0):\n",
    "    a = v1 // 3\n",
    "    b = v2 // 3\n",
    "    print(comb(a + b, a))\n",
    "else:\n",
    "    print(0)"
   ]
  },
  {
   "cell_type": "markdown",
   "metadata": {},
   "source": [
    "# ABC 146 - C"
   ]
  },
  {
   "cell_type": "code",
   "execution_count": 46,
   "metadata": {},
   "outputs": [
    {
     "name": "stdout",
     "output_type": "stream",
     "text": [
      "9\n"
     ]
    }
   ],
   "source": [
    "A, B, X = 10, 7, 100\n",
    "\n",
    "print(9)"
   ]
  },
  {
   "cell_type": "code",
   "execution_count": 47,
   "metadata": {},
   "outputs": [
    {
     "name": "stdout",
     "output_type": "stream",
     "text": [
      "9\n"
     ]
    }
   ],
   "source": [
    "ans = 0\n",
    "for i in range(1, 20):\n",
    "    tmp = (X - B) // A\n",
    "    if 10 ** (i - 1) <= tmp:\n",
    "        ans = max(ans, min(tmp, 10 ** i - 1))\n",
    "    X -= B\n",
    "print(min(ans, 10**9))"
   ]
  },
  {
   "cell_type": "markdown",
   "metadata": {},
   "source": [
    "# ABC 146 - D"
   ]
  },
  {
   "cell_type": "code",
   "execution_count": 52,
   "metadata": {},
   "outputs": [
    {
     "name": "stdout",
     "output_type": "stream",
     "text": [
      "2 [1, 2]\n"
     ]
    }
   ],
   "source": [
    "N = 3\n",
    "X = [[1, 2], [2, 3]]\n",
    "\n",
    "print(2, [1, 2])"
   ]
  },
  {
   "cell_type": "code",
   "execution_count": 50,
   "metadata": {},
   "outputs": [],
   "source": [
    "tree = [[] for _ in range(N + 1)]\n",
    "for i, (a, b) in enumerate(X):\n",
    "    tree[a].append((b, i))\n",
    "    tree[b].append((a, i))"
   ]
  },
  {
   "cell_type": "code",
   "execution_count": 51,
   "metadata": {},
   "outputs": [],
   "source": [
    "from collections import deque"
   ]
  },
  {
   "cell_type": "code",
   "execution_count": 63,
   "metadata": {},
   "outputs": [
    {
     "name": "stdout",
     "output_type": "stream",
     "text": [
      "2\n",
      "1\n",
      "2\n"
     ]
    }
   ],
   "source": [
    "visited = [False] * (N + 1)\n",
    "visited[1] = True\n",
    "color = [0] * (N - 1)\n",
    "stack = deque()\n",
    "stack.append((1, 0))\n",
    "while stack:\n",
    "    u, c = stack.popleft()\n",
    "    tmp = 0\n",
    "    for v, i in tree[u]:\n",
    "        if visited[v]:\n",
    "            continue\n",
    "\n",
    "        tmp += 1\n",
    "        if tmp == c:\n",
    "            tmp += 1\n",
    "\n",
    "        visited[v] = True\n",
    "        color[i] = tmp\n",
    "        stack.append((v, tmp))\n",
    "\n",
    "print(max(color))\n",
    "print(*color, sep=\"\\n\")"
   ]
  },
  {
   "cell_type": "markdown",
   "metadata": {},
   "source": [
    "# ABC 146 - E"
   ]
  },
  {
   "cell_type": "code",
   "execution_count": 18,
   "metadata": {},
   "outputs": [
    {
     "name": "stdout",
     "output_type": "stream",
     "text": [
      "4\n"
     ]
    }
   ],
   "source": [
    "N, K = 5, 4\n",
    "A = [1, 4, 2, 3, 5]\n",
    "\n",
    "print(4)"
   ]
  },
  {
   "cell_type": "code",
   "execution_count": 19,
   "metadata": {},
   "outputs": [],
   "source": [
    "x = [0] * (N + 1)\n",
    "for i in range(N):\n",
    "    x[i + 1] = x[i] + A[i]\n",
    "\n",
    "y = [(x[i] - i) % K for i in range(N + 1)]"
   ]
  },
  {
   "cell_type": "code",
   "execution_count": 20,
   "metadata": {},
   "outputs": [],
   "source": [
    "from collections import defaultdict"
   ]
  },
  {
   "cell_type": "code",
   "execution_count": 25,
   "metadata": {},
   "outputs": [
    {
     "name": "stdout",
     "output_type": "stream",
     "text": [
      "4\n"
     ]
    }
   ],
   "source": [
    "ctr = defaultdict(int)\n",
    "ans = 0\n",
    "for j in range(N + 1):\n",
    "    ans += ctr[y[j]]\n",
    "    ctr[y[j]] += 1\n",
    "    if j - K + 1 >= 0:\n",
    "        ctr[y[j - K + 1]] -= 1\n",
    "print(ans)"
   ]
  },
  {
   "cell_type": "markdown",
   "metadata": {},
   "source": [
    "# ABC 146 - F"
   ]
  },
  {
   "cell_type": "code",
   "execution_count": 26,
   "metadata": {},
   "outputs": [
    {
     "name": "stdout",
     "output_type": "stream",
     "text": [
      "1 3 2 3\n"
     ]
    }
   ],
   "source": [
    "N, M = 9, 3\n",
    "S = \"0001000100\"\n",
    "\n",
    "print(1,3,2,3)"
   ]
  },
  {
   "cell_type": "code",
   "execution_count": 31,
   "metadata": {},
   "outputs": [
    {
     "name": "stdout",
     "output_type": "stream",
     "text": [
      "1 3 2 3\n"
     ]
    }
   ],
   "source": [
    "steps = []\n",
    "c = N\n",
    "flg = True\n",
    "while flg:\n",
    "    if c <= M:\n",
    "        steps.append(c)\n",
    "        break\n",
    "\n",
    "    for i in reversed(range(1, M + 1)):\n",
    "        if S[c - i] == \"0\":\n",
    "            steps.append(i)\n",
    "            c -= i\n",
    "            break\n",
    "        if i == 1:\n",
    "            steps = [-1]\n",
    "            flg = False\n",
    "\n",
    "print(*steps[::-1])"
   ]
  },
  {
   "cell_type": "code",
   "execution_count": null,
   "metadata": {},
   "outputs": [],
   "source": []
  }
 ],
 "metadata": {
  "kernelspec": {
   "display_name": "Python 3",
   "language": "python",
   "name": "python3"
  },
  "language_info": {
   "codemirror_mode": {
    "name": "ipython",
    "version": 3
   },
   "file_extension": ".py",
   "mimetype": "text/x-python",
   "name": "python",
   "nbconvert_exporter": "python",
   "pygments_lexer": "ipython3",
   "version": "3.7.7"
  }
 },
 "nbformat": 4,
 "nbformat_minor": 4
}
