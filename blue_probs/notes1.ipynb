{
 "cells": [
  {
   "cell_type": "markdown",
   "metadata": {},
   "source": [
    "# ABC 96 - D\n",
    "\n",
    "https://atcoder.jp/contests/abc096/tasks/abc096_d"
   ]
  },
  {
   "cell_type": "code",
   "execution_count": 6,
   "metadata": {},
   "outputs": [
    {
     "name": "stdout",
     "output_type": "stream",
     "text": [
      "3 5 7 11 31\n"
     ]
    }
   ],
   "source": [
    "N = 5\n",
    "\n",
    "print(\"3 5 7 11 31\")"
   ]
  },
  {
   "cell_type": "code",
   "execution_count": 23,
   "metadata": {},
   "outputs": [
    {
     "name": "stdout",
     "output_type": "stream",
     "text": [
      "11 31 41 61 71\n"
     ]
    }
   ],
   "source": [
    "n = 55555\n",
    "\n",
    "prime = []\n",
    "is_prime = [True] * (n + 1)\n",
    "is_prime[0] = False\n",
    "is_prime[1] = False\n",
    "for i in range(2, n + 1):\n",
    "    if is_prime[i]:\n",
    "        if i % 5 == 1:\n",
    "            prime.append(i)\n",
    "\n",
    "        for j in range(2 * i, n + 1, i):\n",
    "            is_prime[j] = False\n",
    "\n",
    "print(*prime[:N])"
   ]
  },
  {
   "cell_type": "markdown",
   "metadata": {},
   "source": [
    "# ABC 95 - D\n",
    "\n",
    "https://atcoder.jp/contests/abc095/tasks/arc096_b"
   ]
  },
  {
   "cell_type": "code",
   "execution_count": 39,
   "metadata": {},
   "outputs": [
    {
     "name": "stdout",
     "output_type": "stream",
     "text": [
      "191\n"
     ]
    }
   ],
   "source": [
    "N, C = 3, 20\n",
    "X = [[2, 80], [9, 120], [16, 1]]\n",
    "\n",
    "print(191)"
   ]
  },
  {
   "cell_type": "code",
   "execution_count": 43,
   "metadata": {},
   "outputs": [
    {
     "name": "stdout",
     "output_type": "stream",
     "text": [
      "192\n"
     ]
    }
   ],
   "source": [
    "N, C = 3, 20\n",
    "X = [[2, 80], [9, 1], [16, 120]]\n",
    "\n",
    "print(192)"
   ]
  },
  {
   "cell_type": "code",
   "execution_count": 2,
   "metadata": {},
   "outputs": [],
   "source": [
    "Y = [[C - i, v] for i, v in X[::-1]]\n",
    "\n",
    "# Cumsum\n",
    "x_cs = [[0, 0] for _ in range(N + 1)]\n",
    "y_cs = [[0, 0] for _ in range(N + 1)]\n",
    "for i in range(N):\n",
    "    x_cs[i + 1][0] = X[i][0]\n",
    "    x_cs[i + 1][1] = x_cs[i][1] + X[i][1]\n",
    "\n",
    "    y_cs[i + 1][0] = Y[i][0]\n",
    "    y_cs[i + 1][1] = y_cs[i][1] + Y[i][1]"
   ]
  },
  {
   "cell_type": "code",
   "execution_count": 3,
   "metadata": {},
   "outputs": [],
   "source": [
    "fx = [v - x for x, v in x_cs]\n",
    "fy = [v - x for x, v in y_cs]\n",
    "\n",
    "gx = [0] * (N + 1)\n",
    "gy = [0] * (N + 1)\n",
    "for i in range(N):\n",
    "    gx[i + 1] = max(gx[i], fx[i + 1])\n",
    "    gy[i + 1] = max(gy[i], fy[i + 1])"
   ]
  },
  {
   "cell_type": "code",
   "execution_count": 4,
   "metadata": {},
   "outputs": [
    {
     "name": "stdout",
     "output_type": "stream",
     "text": [
      "10\n"
     ]
    }
   ],
   "source": [
    "X = [[0, 0]] + X\n",
    "Y = [[0, 0]] + Y\n",
    "\n",
    "ans = max(gx + gy)\n",
    "for i in range(N + 1):\n",
    "    ans = max(ans, gx[i] + gy[N - i] - X[i][0],\n",
    "              gx[N - i] + gy[i] - Y[i][0])\n",
    "\n",
    "print(ans)"
   ]
  },
  {
   "cell_type": "markdown",
   "metadata": {},
   "source": [
    "# ABC 94 - D\n",
    "\n",
    "https://atcoder.jp/contests/abc094/tasks/arc095_b"
   ]
  },
  {
   "cell_type": "code",
   "execution_count": 5,
   "metadata": {},
   "outputs": [
    {
     "name": "stdout",
     "output_type": "stream",
     "text": [
      "11 6\n"
     ]
    }
   ],
   "source": [
    "N = 5\n",
    "A = [6, 9, 4, 2, 11]\n",
    "\n",
    "print(11, 6)"
   ]
  },
  {
   "cell_type": "code",
   "execution_count": 15,
   "metadata": {},
   "outputs": [
    {
     "name": "stdout",
     "output_type": "stream",
     "text": [
      "11 6\n"
     ]
    }
   ],
   "source": [
    "A.sort()\n",
    "x = [abs(A[-1] - 2 * A[i]) for i in range(N - 1)]\n",
    "y = sorted((v, i) for i, v in enumerate(x))\n",
    "print(A[-1], A[y[0][1]])"
   ]
  },
  {
   "cell_type": "markdown",
   "metadata": {},
   "source": [
    "# ABC 92 - D\n",
    "\n",
    "https://atcoder.jp/contests/abc092/tasks/arc093_b"
   ]
  },
  {
   "cell_type": "code",
   "execution_count": 12,
   "metadata": {},
   "outputs": [
    {
     "name": "stdout",
     "output_type": "stream",
     "text": [
      "3 3, ##. ..# #.#\n"
     ]
    }
   ],
   "source": [
    "A, B = 2, 3\n",
    "\n",
    "print(\"3 3, ##. ..# #.#\")"
   ]
  },
  {
   "cell_type": "code",
   "execution_count": 20,
   "metadata": {},
   "outputs": [],
   "source": [
    "A, B = 500, 500"
   ]
  },
  {
   "cell_type": "code",
   "execution_count": 36,
   "metadata": {},
   "outputs": [],
   "source": [
    "grid = [[\"#\"] * 100 for _ in range(50)] + [[\".\"] * 100 for _ in range(50)]\n",
    "\n",
    "for i in range(A - 1):\n",
    "    grid[i // 50 * 2][i % 50 * 2] = \".\"\n",
    "\n",
    "for i in range(B - 1):\n",
    "    grid[i // 50 * 2 + 51][i % 50 * 2] = \"#\""
   ]
  },
  {
   "cell_type": "markdown",
   "metadata": {},
   "source": [
    "# ABC 90 - D\n",
    "\n",
    "https://atcoder.jp/contests/abc090/tasks/arc091_b"
   ]
  },
  {
   "cell_type": "code",
   "execution_count": 29,
   "metadata": {},
   "outputs": [
    {
     "name": "stdout",
     "output_type": "stream",
     "text": [
      "7\n"
     ]
    }
   ],
   "source": [
    "N, K = 5, 2\n",
    "\n",
    "print(7)"
   ]
  },
  {
   "cell_type": "code",
   "execution_count": 24,
   "metadata": {},
   "outputs": [
    {
     "name": "stdout",
     "output_type": "stream",
     "text": [
      "100\n"
     ]
    }
   ],
   "source": [
    "N, K = 10, 0\n",
    "print(100)"
   ]
  },
  {
   "cell_type": "code",
   "execution_count": 30,
   "metadata": {},
   "outputs": [
    {
     "name": "stdout",
     "output_type": "stream",
     "text": [
      "7\n"
     ]
    }
   ],
   "source": [
    "ans = 0\n",
    "for i in range(1, N + 1):\n",
    "    ans += N // i * max(0, i - K) + max(0, N % i - K + 1)\n",
    "\n",
    "print(ans if K > 0 else ans - N)"
   ]
  },
  {
   "cell_type": "markdown",
   "metadata": {},
   "source": [
    "# ABC 89 - D\n",
    "\n",
    "https://atcoder.jp/contests/abc089/tasks/abc089_d"
   ]
  },
  {
   "cell_type": "code",
   "execution_count": 36,
   "metadata": {},
   "outputs": [
    {
     "name": "stdout",
     "output_type": "stream",
     "text": [
      "5\n"
     ]
    }
   ],
   "source": [
    "H, W, D = 3, 3, 2\n",
    "A = [[1, 4, 3], [2, 5, 7], [8, 9, 6]]\n",
    "Q = 1\n",
    "X = [[4, 8]]\n",
    "\n",
    "print(5)"
   ]
  },
  {
   "cell_type": "code",
   "execution_count": 37,
   "metadata": {},
   "outputs": [],
   "source": [
    "ctr = {}\n",
    "for i in range(H):\n",
    "    for j in range(W):\n",
    "        ctr[A[i][j]] = (i, j)"
   ]
  },
  {
   "cell_type": "code",
   "execution_count": 55,
   "metadata": {},
   "outputs": [],
   "source": [
    "memo = [0] * (H * W + 1)\n",
    "for n in range(D + 1, H * W + 1):\n",
    "    i, j = ctr[n - D]\n",
    "    x, y = ctr[n]\n",
    "    memo[n] = abs(x - i) + abs(y - j) + memo[n - D]"
   ]
  },
  {
   "cell_type": "code",
   "execution_count": 57,
   "metadata": {},
   "outputs": [
    {
     "name": "stdout",
     "output_type": "stream",
     "text": [
      "5\n"
     ]
    }
   ],
   "source": [
    "for l, r in X:\n",
    "    print(memo[r] - memo[l])"
   ]
  },
  {
   "cell_type": "markdown",
   "metadata": {},
   "source": [
    "# ABC 86 - D\n",
    "\n",
    "https://atcoder.jp/contests/abc086/tasks/arc089_b"
   ]
  },
  {
   "cell_type": "code",
   "execution_count": 1,
   "metadata": {},
   "outputs": [
    {
     "name": "stdout",
     "output_type": "stream",
     "text": [
      "4\n"
     ]
    }
   ],
   "source": [
    "N, K = 4, 3\n",
    "X = [['0', '1', 'W'], ['1', '2', 'W'], ['5', '3', 'B'], ['5', '4', 'B']]\n",
    "\n",
    "print(4)"
   ]
  },
  {
   "cell_type": "code",
   "execution_count": 8,
   "metadata": {},
   "outputs": [
    {
     "name": "stdout",
     "output_type": "stream",
     "text": [
      "2\n"
     ]
    }
   ],
   "source": [
    "N, K = 2, 1000\n",
    "X = [['0', '0', 'B'], ['0', '1', 'W']]\n",
    "\n",
    "print(2)"
   ]
  },
  {
   "cell_type": "code",
   "execution_count": 10,
   "metadata": {},
   "outputs": [],
   "source": [
    "grid = [[0] * (2 * K + 1) for _ in range(2 * K + 1)]\n",
    "for x, y, c in X:\n",
    "    x, y = map(int, [x, y])\n",
    "    if c == \"W\":\n",
    "        y += K\n",
    "    grid[x % (2 * K) + 1][y % (2 * K) + 1] += 1\n",
    "\n",
    "for i in range(2 * K):\n",
    "    for j in range(2 * K):\n",
    "        grid[i + 1][j + 1] += grid[i][j + 1]\n",
    "\n",
    "for i in range(2 * K):\n",
    "    for j in range(2 * K):\n",
    "        grid[i + 1][j + 1] += grid[i + 1][j]"
   ]
  },
  {
   "cell_type": "code",
   "execution_count": 12,
   "metadata": {},
   "outputs": [
    {
     "name": "stdout",
     "output_type": "stream",
     "text": [
      "2\n"
     ]
    }
   ],
   "source": [
    "def count(x, y, i, j):\n",
    "    return grid[x][y] + grid[i][j] - grid[x][j] - grid[i][y]\n",
    "\n",
    "ans = 0\n",
    "for i in range(K + 1):\n",
    "    for j in range(K + 1):\n",
    "        tmp = 0\n",
    "        tmp += count(i + K, j + K, i, j)\n",
    "        tmp += count(i, j, 0, 0)\n",
    "        tmp += count(i, 2 * K, 0, j + K)\n",
    "        tmp += count(2 * K, j, i + K, 0)\n",
    "        tmp += count(2 * K, 2 * K, i + K, j + K)\n",
    "        ans = max(ans, tmp, N - tmp)\n",
    "\n",
    "print(ans)"
   ]
  },
  {
   "cell_type": "markdown",
   "metadata": {},
   "source": [
    "# ABC 85 - D\n",
    "\n",
    "https://atcoder.jp/contests/abc085/tasks/abc085_d"
   ]
  },
  {
   "cell_type": "code",
   "execution_count": 13,
   "metadata": {},
   "outputs": [
    {
     "name": "stdout",
     "output_type": "stream",
     "text": [
      "3\n"
     ]
    }
   ],
   "source": [
    "N, H = 1, 10\n",
    "X = [[3, 5]]\n",
    "\n",
    "print(3)"
   ]
  },
  {
   "cell_type": "code",
   "execution_count": 27,
   "metadata": {},
   "outputs": [
    {
     "name": "stdout",
     "output_type": "stream",
     "text": [
      "3\n"
     ]
    }
   ],
   "source": [
    "a, b = zip(*((a, b) for a, b in X))\n",
    "am = max(a)\n",
    "b = sorted(b, reverse=True)\n",
    "\n",
    "ans = 0\n",
    "h = H\n",
    "for v in b:\n",
    "    if v > am:\n",
    "        h -= v\n",
    "        ans += 1\n",
    "\n",
    "    if h <= 0:\n",
    "        break\n",
    "        \n",
    "if h > 0:\n",
    "    ans += -(-h // am)\n",
    "print(ans)"
   ]
  },
  {
   "cell_type": "markdown",
   "metadata": {},
   "source": [
    "# ABC 82 - D\n",
    "\n",
    "https://atcoder.jp/contests/abc082/tasks/arc087_b"
   ]
  },
  {
   "cell_type": "code",
   "execution_count": 1,
   "metadata": {},
   "outputs": [
    {
     "name": "stdout",
     "output_type": "stream",
     "text": [
      "Yes\n"
     ]
    }
   ],
   "source": [
    "S = \"FTFFTFFF\"\n",
    "X, Y = 4, 2\n",
    "\n",
    "print(\"Yes\")"
   ]
  },
  {
   "cell_type": "code",
   "execution_count": 2,
   "metadata": {},
   "outputs": [],
   "source": [
    "sx = list(map(len, S.split(\"T\")))\n",
    "xs = sx[::2]\n",
    "ys = sx[1::2]"
   ]
  },
  {
   "cell_type": "code",
   "execution_count": 6,
   "metadata": {},
   "outputs": [],
   "source": [
    "dpx = [set() for _ in range(len(xs))]\n",
    "for i in range(len(xs)):\n",
    "    if i == 0:\n",
    "        d = (-1) ** S.find(\"F\")\n",
    "        dpx[i].add(d * xs[i])\n",
    "        continue\n",
    "    \n",
    "    for j in dpx[i - 1]:\n",
    "        dpx[i].add(j + xs[i])\n",
    "        dpx[i].add(j - xs[i])"
   ]
  },
  {
   "cell_type": "code",
   "execution_count": 7,
   "metadata": {},
   "outputs": [],
   "source": [
    "dpy = [set() for _ in range(len(ys) + 1)]\n",
    "dpy[0].add(0)\n",
    "for i in range(len(ys)):\n",
    "    for j in dpy[i]:\n",
    "        dpy[i + 1].add(j + ys[i])\n",
    "        dpy[i + 1].add(j - ys[i])"
   ]
  },
  {
   "cell_type": "code",
   "execution_count": 8,
   "metadata": {},
   "outputs": [
    {
     "name": "stdout",
     "output_type": "stream",
     "text": [
      "Yes\n"
     ]
    }
   ],
   "source": [
    "ans = (X in dpx[-1]) & (Y in dpy[-1])\n",
    "print(\"Yes\" if ans else \"No\")"
   ]
  },
  {
   "cell_type": "markdown",
   "metadata": {},
   "source": [
    "# ABC 137 - E\n",
    "\n",
    "https://atcoder.jp/contests/abc137/tasks/abc137_e"
   ]
  },
  {
   "cell_type": "code",
   "execution_count": null,
   "metadata": {},
   "outputs": [],
   "source": []
  },
  {
   "cell_type": "code",
   "execution_count": null,
   "metadata": {},
   "outputs": [],
   "source": []
  },
  {
   "cell_type": "code",
   "execution_count": null,
   "metadata": {},
   "outputs": [],
   "source": []
  },
  {
   "cell_type": "code",
   "execution_count": null,
   "metadata": {},
   "outputs": [],
   "source": []
  },
  {
   "cell_type": "code",
   "execution_count": null,
   "metadata": {},
   "outputs": [],
   "source": []
  }
 ],
 "metadata": {
  "kernelspec": {
   "display_name": "Python 3",
   "language": "python",
   "name": "python3"
  },
  "language_info": {
   "codemirror_mode": {
    "name": "ipython",
    "version": 3
   },
   "file_extension": ".py",
   "mimetype": "text/x-python",
   "name": "python",
   "nbconvert_exporter": "python",
   "pygments_lexer": "ipython3",
   "version": "3.7.3"
  }
 },
 "nbformat": 4,
 "nbformat_minor": 4
}
