{
 "cells": [
  {
   "cell_type": "markdown",
   "metadata": {},
   "source": [
    "# ABC 96 - D\n",
    "\n",
    "https://atcoder.jp/contests/abc096/tasks/abc096_d"
   ]
  },
  {
   "cell_type": "code",
   "execution_count": 6,
   "metadata": {},
   "outputs": [
    {
     "name": "stdout",
     "output_type": "stream",
     "text": [
      "3 5 7 11 31\n"
     ]
    }
   ],
   "source": [
    "N = 5\n",
    "\n",
    "print(\"3 5 7 11 31\")"
   ]
  },
  {
   "cell_type": "code",
   "execution_count": 23,
   "metadata": {},
   "outputs": [
    {
     "name": "stdout",
     "output_type": "stream",
     "text": [
      "11 31 41 61 71\n"
     ]
    }
   ],
   "source": [
    "n = 55555\n",
    "\n",
    "prime = []\n",
    "is_prime = [True] * (n + 1)\n",
    "is_prime[0] = False\n",
    "is_prime[1] = False\n",
    "for i in range(2, n + 1):\n",
    "    if is_prime[i]:\n",
    "        if i % 5 == 1:\n",
    "            prime.append(i)\n",
    "\n",
    "        for j in range(2 * i, n + 1, i):\n",
    "            is_prime[j] = False\n",
    "\n",
    "print(*prime[:N])"
   ]
  },
  {
   "cell_type": "markdown",
   "metadata": {},
   "source": [
    "# ABC 95 - D\n",
    "\n",
    "https://atcoder.jp/contests/abc095/tasks/arc096_b"
   ]
  },
  {
   "cell_type": "code",
   "execution_count": 39,
   "metadata": {},
   "outputs": [
    {
     "name": "stdout",
     "output_type": "stream",
     "text": [
      "191\n"
     ]
    }
   ],
   "source": [
    "N, C = 3, 20\n",
    "X = [[2, 80], [9, 120], [16, 1]]\n",
    "\n",
    "print(191)"
   ]
  },
  {
   "cell_type": "code",
   "execution_count": 43,
   "metadata": {},
   "outputs": [
    {
     "name": "stdout",
     "output_type": "stream",
     "text": [
      "192\n"
     ]
    }
   ],
   "source": [
    "N, C = 3, 20\n",
    "X = [[2, 80], [9, 1], [16, 120]]\n",
    "\n",
    "print(192)"
   ]
  },
  {
   "cell_type": "code",
   "execution_count": 2,
   "metadata": {},
   "outputs": [],
   "source": [
    "Y = [[C - i, v] for i, v in X[::-1]]\n",
    "\n",
    "# Cumsum\n",
    "x_cs = [[0, 0] for _ in range(N + 1)]\n",
    "y_cs = [[0, 0] for _ in range(N + 1)]\n",
    "for i in range(N):\n",
    "    x_cs[i + 1][0] = X[i][0]\n",
    "    x_cs[i + 1][1] = x_cs[i][1] + X[i][1]\n",
    "\n",
    "    y_cs[i + 1][0] = Y[i][0]\n",
    "    y_cs[i + 1][1] = y_cs[i][1] + Y[i][1]"
   ]
  },
  {
   "cell_type": "code",
   "execution_count": 3,
   "metadata": {},
   "outputs": [],
   "source": [
    "fx = [v - x for x, v in x_cs]\n",
    "fy = [v - x for x, v in y_cs]\n",
    "\n",
    "gx = [0] * (N + 1)\n",
    "gy = [0] * (N + 1)\n",
    "for i in range(N):\n",
    "    gx[i + 1] = max(gx[i], fx[i + 1])\n",
    "    gy[i + 1] = max(gy[i], fy[i + 1])"
   ]
  },
  {
   "cell_type": "code",
   "execution_count": 4,
   "metadata": {},
   "outputs": [
    {
     "name": "stdout",
     "output_type": "stream",
     "text": [
      "10\n"
     ]
    }
   ],
   "source": [
    "X = [[0, 0]] + X\n",
    "Y = [[0, 0]] + Y\n",
    "\n",
    "ans = max(gx + gy)\n",
    "for i in range(N + 1):\n",
    "    ans = max(ans, gx[i] + gy[N - i] - X[i][0],\n",
    "              gx[N - i] + gy[i] - Y[i][0])\n",
    "\n",
    "print(ans)"
   ]
  },
  {
   "cell_type": "markdown",
   "metadata": {},
   "source": [
    "# ABC 94 - D\n",
    "\n",
    "https://atcoder.jp/contests/abc094/tasks/arc095_b"
   ]
  },
  {
   "cell_type": "code",
   "execution_count": 5,
   "metadata": {},
   "outputs": [
    {
     "name": "stdout",
     "output_type": "stream",
     "text": [
      "11 6\n"
     ]
    }
   ],
   "source": [
    "N = 5\n",
    "A = [6, 9, 4, 2, 11]\n",
    "\n",
    "print(11, 6)"
   ]
  },
  {
   "cell_type": "code",
   "execution_count": 15,
   "metadata": {},
   "outputs": [
    {
     "name": "stdout",
     "output_type": "stream",
     "text": [
      "11 6\n"
     ]
    }
   ],
   "source": [
    "A.sort()\n",
    "x = [abs(A[-1] - 2 * A[i]) for i in range(N - 1)]\n",
    "y = sorted((v, i) for i, v in enumerate(x))\n",
    "print(A[-1], A[y[0][1]])"
   ]
  },
  {
   "cell_type": "markdown",
   "metadata": {},
   "source": [
    "# ABC 92 - D\n",
    "\n",
    "https://atcoder.jp/contests/abc092/tasks/arc093_b"
   ]
  },
  {
   "cell_type": "code",
   "execution_count": null,
   "metadata": {},
   "outputs": [],
   "source": []
  },
  {
   "cell_type": "code",
   "execution_count": null,
   "metadata": {},
   "outputs": [],
   "source": []
  },
  {
   "cell_type": "code",
   "execution_count": null,
   "metadata": {},
   "outputs": [],
   "source": []
  }
 ],
 "metadata": {
  "kernelspec": {
   "display_name": "Python 3",
   "language": "python",
   "name": "python3"
  },
  "language_info": {
   "codemirror_mode": {
    "name": "ipython",
    "version": 3
   },
   "file_extension": ".py",
   "mimetype": "text/x-python",
   "name": "python",
   "nbconvert_exporter": "python",
   "pygments_lexer": "ipython3",
   "version": "3.7.3"
  }
 },
 "nbformat": 4,
 "nbformat_minor": 4
}
