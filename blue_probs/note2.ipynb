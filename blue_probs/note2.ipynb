{
 "cells": [
  {
   "cell_type": "markdown",
   "metadata": {},
   "source": [
    "# ABC 81 - D\n",
    "\n",
    "https://atcoder.jp/contests/abc081/tasks/arc086_b"
   ]
  },
  {
   "cell_type": "code",
   "execution_count": 1,
   "metadata": {},
   "outputs": [
    {
     "name": "stdout",
     "output_type": "stream",
     "text": [
      "2, 2 3, 3 3\n"
     ]
    }
   ],
   "source": [
    "N = 3\n",
    "A = [-2, 5, -1]\n",
    "\n",
    "print(\"2, 2 3, 3 3\")"
   ]
  },
  {
   "cell_type": "code",
   "execution_count": 4,
   "metadata": {},
   "outputs": [
    {
     "name": "stdout",
     "output_type": "stream",
     "text": [
      "5\n",
      "2 1\n",
      "2 2\n",
      "2 3\n",
      "1 2\n",
      "2 3\n"
     ]
    }
   ],
   "source": [
    "v_max = max(A)\n",
    "v_min = min(A)\n",
    "\n",
    "flg1 = v_max > 0 and v_min >= 0\n",
    "flg2 = v_max <= 0 and v_min <= 0\n",
    "flg3 = v_max * v_min < 0 and abs(v_max) >= abs(v_min)\n",
    "flg4 = v_max * v_min < 0 and abs(v_max) < abs(v_min)\n",
    "\n",
    "s = sorted([(i + 1, v) for i, v in enumerate(A)], key=lambda x: x[1])\n",
    "ans = []\n",
    "if flg1 or flg3:\n",
    "    if flg3:\n",
    "        i_max = s[-1][0]\n",
    "        for j in range(1, N + 1):\n",
    "            ans.append((i_max, j))\n",
    "            \n",
    "    for j in range(1, N):\n",
    "        ans.append((j, j + 1))\n",
    "else:\n",
    "    if flg4:\n",
    "        i_min = s[0][0]\n",
    "        for j in range(1, N + 1):\n",
    "            ans.append((i_min, j))\n",
    "            \n",
    "    for j in reversed(range(1, N)):\n",
    "        ans.append((j + 1, j))\n",
    "        \n",
    "print(len(ans))\n",
    "for v in ans:\n",
    "    print(*v)"
   ]
  },
  {
   "cell_type": "markdown",
   "metadata": {},
   "source": [
    "# ABC 80 - D\n",
    "\n",
    "https://atcoder.jp/contests/abc080/tasks/abc080_d"
   ]
  },
  {
   "cell_type": "code",
   "execution_count": 10,
   "metadata": {},
   "outputs": [
    {
     "name": "stdout",
     "output_type": "stream",
     "text": [
      "2\n"
     ]
    }
   ],
   "source": [
    "N, C = 3, 2\n",
    "X = [[1, 7, 2], [7, 8, 1], [8, 12, 1]]\n",
    "\n",
    "print(2)"
   ]
  },
  {
   "cell_type": "code",
   "execution_count": 31,
   "metadata": {},
   "outputs": [
    {
     "name": "stdout",
     "output_type": "stream",
     "text": [
      "2\n"
     ]
    }
   ],
   "source": [
    "LEN = 10 ** 5 + 7\n",
    "d = [[0] * LEN for _ in range(C + 1)]\n",
    "for s, t, c in X:\n",
    "    d[c][s] += 1\n",
    "    d[c][t + 1] -= 1\n",
    "\n",
    "for i in range(C + 1):\n",
    "    for j in range(LEN - 1):\n",
    "        d[i][j + 1] += d[i][j]\n",
    "\n",
    "x = [0] * LEN\n",
    "for i in range(C + 1):\n",
    "    for j in range(LEN):\n",
    "        x[j] += int(d[i][j] > 0)\n",
    "        \n",
    "print(max(x))"
   ]
  },
  {
   "cell_type": "markdown",
   "metadata": {},
   "source": [
    "# ABC 78 - D\n",
    "\n",
    "https://atcoder.jp/contests/abc078/tasks/arc085_b"
   ]
  },
  {
   "cell_type": "code",
   "execution_count": 32,
   "metadata": {},
   "outputs": [
    {
     "name": "stdout",
     "output_type": "stream",
     "text": [
      "900\n"
     ]
    }
   ],
   "source": [
    "N, Z, W = 3, 100, 100\n",
    "A = [10, 1000, 100]\n",
    "\n",
    "print(900)"
   ]
  },
  {
   "cell_type": "code",
   "execution_count": 35,
   "metadata": {},
   "outputs": [
    {
     "name": "stdout",
     "output_type": "stream",
     "text": [
      "900\n"
     ]
    }
   ],
   "source": [
    "if N == 1:\n",
    "    print(abs(A[0] - W))\n",
    "else:\n",
    "    print(max(abs(A[-1] - W), abs(A[-1] - A[-2])))"
   ]
  },
  {
   "cell_type": "markdown",
   "metadata": {},
   "source": [
    "# ABC 76 - D\n",
    "\n",
    "https://atcoder.jp/contests/abc076/tasks/abc076_d"
   ]
  },
  {
   "cell_type": "code",
   "execution_count": 1,
   "metadata": {},
   "outputs": [
    {
     "name": "stdout",
     "output_type": "stream",
     "text": [
      "2100.0\n"
     ]
    }
   ],
   "source": [
    "N = 1\n",
    "T = [100]\n",
    "V = [30]\n",
    "\n",
    "print(2100.)"
   ]
  },
  {
   "cell_type": "code",
   "execution_count": 7,
   "metadata": {},
   "outputs": [],
   "source": [
    "l = sum(T) * 2 + 1\n",
    "t_cond = [0] + T + [0]\n",
    "v_cond = [0] + V + [0]\n",
    "memo = [[0.] * l for _ in range(N + 2)]\n",
    "left = 0\n",
    "for i in range(N + 2):\n",
    "    for j in range(l):\n",
    "        if j < left:\n",
    "            memo[i][j] = v_cond[i] + (left - j) * 0.5\n",
    "        elif left <= j <= left + t_cond[i] * 2:\n",
    "            memo[i][j] = v_cond[i]\n",
    "        else:\n",
    "            memo[i][j] = v_cond[i] + (j - left - t_cond[i] * 2) * 0.5\n",
    "            \n",
    "    # Shift lower bound\n",
    "    left += t_cond[i] * 2\n",
    "\n",
    "f = [min(memo[i][j] for i in range(N + 2)) for j in range(l)]"
   ]
  },
  {
   "cell_type": "code",
   "execution_count": 8,
   "metadata": {},
   "outputs": [
    {
     "name": "stdout",
     "output_type": "stream",
     "text": [
      "2100.0\n"
     ]
    }
   ],
   "source": [
    "ans = 0\n",
    "for i in range(l - 1):\n",
    "    ans += 0.25 * (f[i] + f[i + 1])\n",
    "print(ans)"
   ]
  },
  {
   "cell_type": "markdown",
   "metadata": {},
   "source": [
    "# ABC 75 - D\n",
    "\n",
    "https://atcoder.jp/contests/abc075/tasks/abc075_d"
   ]
  },
  {
   "cell_type": "code",
   "execution_count": 1,
   "metadata": {},
   "outputs": [
    {
     "name": "stdout",
     "output_type": "stream",
     "text": [
      "21\n"
     ]
    }
   ],
   "source": [
    "N, K = 4, 4\n",
    "X = [[1, 4], [3, 3], [6, 2], [8, 1]]\n",
    "\n",
    "print(21)"
   ]
  },
  {
   "cell_type": "markdown",
   "metadata": {},
   "source": [
    "#### TLE"
   ]
  },
  {
   "cell_type": "code",
   "execution_count": 16,
   "metadata": {},
   "outputs": [],
   "source": [
    "from itertools import combinations"
   ]
  },
  {
   "cell_type": "code",
   "execution_count": 24,
   "metadata": {},
   "outputs": [
    {
     "name": "stdout",
     "output_type": "stream",
     "text": [
      "21\n"
     ]
    }
   ],
   "source": [
    "ans = 10 ** 20\n",
    "for t in combinations(range(N), K):\n",
    "    x = []\n",
    "    y = []\n",
    "    for i in t:\n",
    "        x.append(X[i][0])\n",
    "        y.append(X[i][1])\n",
    "    ans = min(ans, (max(x) - min(x)) * (max(y) - min(y)))\n",
    "print(ans)"
   ]
  },
  {
   "cell_type": "markdown",
   "metadata": {},
   "source": [
    "#### 別解\n",
    "\n",
    "`list`をiterationするよりも，`range`をiterationして要素にアクセスした方が速い．"
   ]
  },
  {
   "cell_type": "code",
   "execution_count": 12,
   "metadata": {},
   "outputs": [
    {
     "name": "stdout",
     "output_type": "stream",
     "text": [
      "21\n"
     ]
    }
   ],
   "source": [
    "x = sorted(v for v, _ in X)\n",
    "y = sorted(v for _, v in X)\n",
    "ans = 10 ** 20\n",
    "for i in range(N - 1):\n",
    "    for j in range(i + 1, N):\n",
    "        for k in range(N - 1):\n",
    "            for l in range(k + 1, N):\n",
    "                x1 = x[i]\n",
    "                x2 = x[j]\n",
    "                y1 = y[k]\n",
    "                y2 = y[l]\n",
    "                num = 0\n",
    "                for n in range(N):\n",
    "                    if x1 <= X[n][0] <= x2 and y1 <= X[n][1] <= y2:\n",
    "                        num += 1\n",
    "                if num >= K:\n",
    "                    ans = min(ans, (x2 - x1) * (y2 - y1))\n",
    "\n",
    "print(ans)"
   ]
  },
  {
   "cell_type": "markdown",
   "metadata": {},
   "source": [
    "# ABC 72 - D\n",
    "\n",
    "https://atcoder.jp/contests/abc072/tasks/arc082_b"
   ]
  },
  {
   "cell_type": "code",
   "execution_count": 5,
   "metadata": {},
   "outputs": [
    {
     "name": "stdout",
     "output_type": "stream",
     "text": [
      "2\n"
     ]
    }
   ],
   "source": [
    "N = 5\n",
    "X = [1, 4, 3, 5, 2]\n",
    "\n",
    "print(2)"
   ]
  },
  {
   "cell_type": "code",
   "execution_count": 6,
   "metadata": {},
   "outputs": [
    {
     "name": "stdout",
     "output_type": "stream",
     "text": [
      "2\n"
     ]
    }
   ],
   "source": [
    "ans = 0\n",
    "for i in range(N):\n",
    "    if X[i] == i + 1:\n",
    "        if i < N - 1:\n",
    "            X[i], X[i + 1] = X[i + 1], X[i]\n",
    "        else:\n",
    "            X[i - 1], X[i] = X[i], X[i - 1]\n",
    "        ans += 1\n",
    "\n",
    "print(ans)"
   ]
  },
  {
   "cell_type": "markdown",
   "metadata": {},
   "source": [
    "# ABC 71 - D\n",
    "\n",
    "https://atcoder.jp/contests/abc071/tasks/arc081_b"
   ]
  },
  {
   "cell_type": "code",
   "execution_count": 4,
   "metadata": {},
   "outputs": [
    {
     "name": "stdout",
     "output_type": "stream",
     "text": [
      "958681902\n"
     ]
    }
   ],
   "source": [
    "N = 52\n",
    "S = ['RvvttdWIyyPPQFFZZssffEEkkaSSDKqcibbeYrhAljCCGGJppHHn',\n",
    "     'RLLwwdWIxxNNQUUXXVVMMooBBaggDKqcimmeYrhAljOOTTJuuzzn']\n",
    "\n",
    "print(958681902)"
   ]
  },
  {
   "cell_type": "code",
   "execution_count": 6,
   "metadata": {},
   "outputs": [
    {
     "name": "stdout",
     "output_type": "stream",
     "text": [
      "958681902\n"
     ]
    }
   ],
   "source": [
    "ans = 0\n",
    "mod = 10 ** 9 + 7\n",
    "prev = False\n",
    "cur = False\n",
    "for i in range(N):\n",
    "    if cur:\n",
    "        cur = False\n",
    "        continue\n",
    "\n",
    "    if S[0][i] == S[1][i]:\n",
    "        if i == 0:\n",
    "            ans = 3\n",
    "        elif not prev:\n",
    "            ans = ans * 2 % mod\n",
    "        cur = False\n",
    "        prev = False\n",
    "    else:\n",
    "        if i == 0:\n",
    "            ans = 6\n",
    "        elif prev:\n",
    "            ans = ans * 3 % mod\n",
    "        else:\n",
    "            ans = ans * 2 % mod\n",
    "        cur = True\n",
    "        prev = True\n",
    "\n",
    "print(ans)"
   ]
  },
  {
   "cell_type": "markdown",
   "metadata": {},
   "source": [
    "# ABC 69 - D\n",
    "\n",
    "https://atcoder.jp/contests/abc069/tasks/arc080_b"
   ]
  },
  {
   "cell_type": "code",
   "execution_count": 7,
   "metadata": {},
   "outputs": [
    {
     "name": "stdout",
     "output_type": "stream",
     "text": [
      "1 1, 2 3\n"
     ]
    }
   ],
   "source": [
    "H, W = 2, 2\n",
    "N = 3\n",
    "A = [2, 1, 1]\n",
    "\n",
    "print(\"1 1, 2 3\")"
   ]
  },
  {
   "cell_type": "code",
   "execution_count": 12,
   "metadata": {},
   "outputs": [
    {
     "name": "stdout",
     "output_type": "stream",
     "text": [
      "1 1\n",
      "3 2\n"
     ]
    }
   ],
   "source": [
    "ans = [[0] * W for _ in range(H)]\n",
    "ctr = [0] * N\n",
    "n = 0\n",
    "for i in range(H):\n",
    "    for j in range(W):\n",
    "        if i % 2 == 1:\n",
    "            j = W - 1 - j\n",
    "        ans[i][j] = n + 1\n",
    "        ctr[n] += 1\n",
    "        if A[n] == ctr[n]:\n",
    "            n += 1\n",
    "\n",
    "for v in ans:\n",
    "    print(*v)"
   ]
  },
  {
   "cell_type": "markdown",
   "metadata": {},
   "source": [
    "# ABC 68 - D\n",
    "\n",
    "https://atcoder.jp/contests/abc068/tasks/arc079_b"
   ]
  },
  {
   "cell_type": "code",
   "execution_count": 26,
   "metadata": {},
   "outputs": [
    {
     "name": "stdout",
     "output_type": "stream",
     "text": [
      "2 [2, 2]\n"
     ]
    }
   ],
   "source": [
    "K = 2\n",
    "\n",
    "print(2, [2,2])"
   ]
  },
  {
   "cell_type": "code",
   "execution_count": 27,
   "metadata": {},
   "outputs": [
    {
     "name": "stdout",
     "output_type": "stream",
     "text": [
      "50\n",
      "49 50 0 1 2 3 4 5 6 7 8 9 10 11 12 13 14 15 16 17 18 19 20 21 22 23 24 25 26 27 28 29 30 31 32 33 34 35 36 37 38 39 40 41 42 43 44 45 46 47\n"
     ]
    }
   ],
   "source": [
    "N = 50\n",
    "x = [v + K // N for v in range(N)]\n",
    "for i in range(K % N):\n",
    "    for j in range(N):\n",
    "        if j == i:\n",
    "            x[j] += N\n",
    "        else:\n",
    "            x[j] -= 1\n",
    "            \n",
    "print(N)\n",
    "print(*x)"
   ]
  },
  {
   "cell_type": "markdown",
   "metadata": {},
   "source": [
    "# ABC 67 - D\n",
    "\n",
    "https://atcoder.jp/contests/abc067/tasks/arc078_b"
   ]
  },
  {
   "cell_type": "code",
   "execution_count": 1,
   "metadata": {},
   "outputs": [
    {
     "name": "stdout",
     "output_type": "stream",
     "text": [
      "Fennec\n"
     ]
    }
   ],
   "source": [
    "N = 7\n",
    "X = [[3, 6], [1, 2], [3, 1], [7, 4], [5, 7], [1, 4]]\n",
    "\n",
    "print(\"Fennec\")"
   ]
  },
  {
   "cell_type": "code",
   "execution_count": 2,
   "metadata": {},
   "outputs": [],
   "source": [
    "from collections import deque"
   ]
  },
  {
   "cell_type": "code",
   "execution_count": 3,
   "metadata": {},
   "outputs": [],
   "source": [
    "edges = [[] for _ in range(N + 1)]\n",
    "for u, v in X:\n",
    "    edges[u].append(v)\n",
    "    edges[v].append(u)"
   ]
  },
  {
   "cell_type": "code",
   "execution_count": 26,
   "metadata": {},
   "outputs": [],
   "source": [
    "def bfs(s, x):\n",
    "    inf = 10 ** 9 + 7\n",
    "    d = [inf] * (N + 1)\n",
    "    d[s] = 0\n",
    "    q = deque([s])\n",
    "    while q:\n",
    "        u = q.popleft()\n",
    "        for v in edges[u]:\n",
    "            if d[v] != inf:\n",
    "                continue\n",
    "\n",
    "            d[v] = d[u] + 1\n",
    "            if v != x:\n",
    "                q.append(v)\n",
    "\n",
    "    return d"
   ]
  },
  {
   "cell_type": "code",
   "execution_count": 27,
   "metadata": {},
   "outputs": [],
   "source": [
    "d1 = bfs(1, N)\n",
    "d2 = bfs(N, 1)"
   ]
  },
  {
   "cell_type": "code",
   "execution_count": 28,
   "metadata": {},
   "outputs": [
    {
     "data": {
      "text/plain": [
       "5"
      ]
     },
     "execution_count": 28,
     "metadata": {},
     "output_type": "execute_result"
    }
   ],
   "source": [
    "cnt = 0\n",
    "for i in range(1, N + 1):\n",
    "    cnt += d1[i] <= d2[i]\n",
    "\n",
    "if cnt > N // 2:\n",
    "    print(\"Fennec\")\n",
    "else:\n",
    "    print(\"Snuke\")"
   ]
  },
  {
   "cell_type": "markdown",
   "metadata": {},
   "source": [
    "# ABC 66 - D\n",
    "\n",
    "https://atcoder.jp/contests/abc066/tasks/arc077_b"
   ]
  },
  {
   "cell_type": "code",
   "execution_count": 1,
   "metadata": {},
   "outputs": [
    {
     "name": "stdout",
     "output_type": "stream",
     "text": [
      "3 5 4 1\n"
     ]
    }
   ],
   "source": [
    "N = 3\n",
    "X = [1, 2, 1, 3]\n",
    "\n",
    "print(3,5,4,1)"
   ]
  },
  {
   "cell_type": "code",
   "execution_count": 2,
   "metadata": {},
   "outputs": [],
   "source": [
    "MAX = 10 ** 5\n",
    "MOD = 10 ** 9 + 7\n",
    "\n",
    "# Factorial\n",
    "fac = [0] * (MAX + 1)\n",
    "fac[0] = 1\n",
    "fac[1] = 1\n",
    "for i in range(2, MAX + 1):\n",
    "    fac[i] = fac[i - 1] * i % MOD\n",
    "    \n",
    "# Inverse factorial\n",
    "finv = [0] * (MAX + 1)\n",
    "finv[MAX] = pow(fac[MAX], MOD - 2, MOD)\n",
    "for i in reversed(range(1, MAX + 1)):\n",
    "    finv[i - 1] = finv[i] * i % MOD"
   ]
  },
  {
   "cell_type": "code",
   "execution_count": 9,
   "metadata": {},
   "outputs": [],
   "source": [
    "def comb(n, k):\n",
    "    if n < k:\n",
    "        return 0\n",
    "    return fac[n] * finv[n - k] * finv[k]"
   ]
  },
  {
   "cell_type": "code",
   "execution_count": 4,
   "metadata": {},
   "outputs": [],
   "source": [
    "# Find indices of duplicated values\n",
    "indices = [-1] * (N + 1)\n",
    "for i in range(N + 1):\n",
    "    if indices[X[i]] < 0:\n",
    "        indices[X[i]] = i\n",
    "    else:\n",
    "        l = indices[X[i]]\n",
    "        r = i\n",
    "        break"
   ]
  },
  {
   "cell_type": "code",
   "execution_count": 10,
   "metadata": {},
   "outputs": [
    {
     "name": "stdout",
     "output_type": "stream",
     "text": [
      "3\n",
      "5\n",
      "4\n",
      "1\n"
     ]
    }
   ],
   "source": [
    "for k in range(1, N + 2):\n",
    "    print((comb(N + 1, k) - comb(l + N - r, k - 1)) % MOD)"
   ]
  },
  {
   "cell_type": "markdown",
   "metadata": {},
   "source": [
    "# ABC 64 - D\n",
    "\n",
    "https://atcoder.jp/contests/abc064/tasks/abc064_d"
   ]
  },
  {
   "cell_type": "code",
   "execution_count": 11,
   "metadata": {},
   "outputs": [
    {
     "name": "stdout",
     "output_type": "stream",
     "text": [
      "(())\n"
     ]
    }
   ],
   "source": [
    "N = 3\n",
    "S = \"())\"\n",
    "\n",
    "print(\"(())\")"
   ]
  },
  {
   "cell_type": "code",
   "execution_count": 23,
   "metadata": {},
   "outputs": [],
   "source": [
    "N = 8\n",
    "S = \"))))((((\""
   ]
  },
  {
   "cell_type": "code",
   "execution_count": 24,
   "metadata": {},
   "outputs": [],
   "source": [
    "d = [0] * (N + 1)\n",
    "for i in range(N):\n",
    "    d[i + 1] = d[i] + int(S[i] == \"(\") - int(S[i] == \")\")"
   ]
  },
  {
   "cell_type": "code",
   "execution_count": 29,
   "metadata": {},
   "outputs": [
    {
     "name": "stdout",
     "output_type": "stream",
     "text": [
      "(((())))(((())))\n"
     ]
    }
   ],
   "source": [
    "a = d[-1]\n",
    "b = min(d)\n",
    "\n",
    "print(\"(\" * -b + S + \")\" * (a - b))"
   ]
  },
  {
   "cell_type": "code",
   "execution_count": null,
   "metadata": {},
   "outputs": [],
   "source": []
  }
 ],
 "metadata": {
  "kernelspec": {
   "display_name": "Python 3",
   "language": "python",
   "name": "python3"
  },
  "language_info": {
   "codemirror_mode": {
    "name": "ipython",
    "version": 3
   },
   "file_extension": ".py",
   "mimetype": "text/x-python",
   "name": "python",
   "nbconvert_exporter": "python",
   "pygments_lexer": "ipython3",
   "version": "3.7.3"
  }
 },
 "nbformat": 4,
 "nbformat_minor": 4
}
