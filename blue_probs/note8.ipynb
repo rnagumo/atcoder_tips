{
 "cells": [
  {
   "cell_type": "markdown",
   "metadata": {},
   "source": [
    "# ABC 147 - C"
   ]
  },
  {
   "cell_type": "code",
   "execution_count": 3,
   "metadata": {},
   "outputs": [
    {
     "name": "stdout",
     "output_type": "stream",
     "text": [
      "2\n"
     ]
    }
   ],
   "source": [
    "N = 3\n",
    "X = {0: [[2, 1]], 1: [[1, 1]], 2: [[2, 0]]}\n",
    "\n",
    "print(2)"
   ]
  },
  {
   "cell_type": "code",
   "execution_count": 8,
   "metadata": {},
   "outputs": [
    {
     "name": "stdout",
     "output_type": "stream",
     "text": [
      "0 True\n",
      "1 False\n",
      "2 False\n",
      "3 True\n",
      "4 True\n",
      "5 False\n",
      "6 False\n",
      "7 False\n",
      "2\n"
     ]
    }
   ],
   "source": [
    "ans = 0\n",
    "for bit in range(2 ** N):\n",
    "    tmp = bit\n",
    "    flag = True\n",
    "    for i in range(N):\n",
    "        if not (bit >> i & 1):\n",
    "            continue\n",
    "\n",
    "        for x, y in X[i]:\n",
    "            if (bit >> (x - 1) & 1) != y:\n",
    "                flag = False\n",
    "                break\n",
    "                \n",
    "    if flag:\n",
    "        ans = max(ans, bin(bit).count(\"1\"))\n",
    "\n",
    "print(ans)"
   ]
  },
  {
   "cell_type": "markdown",
   "metadata": {},
   "source": [
    "# ABC 147 - D"
   ]
  },
  {
   "cell_type": "code",
   "execution_count": 9,
   "metadata": {},
   "outputs": [
    {
     "name": "stdout",
     "output_type": "stream",
     "text": [
      "6\n"
     ]
    }
   ],
   "source": [
    "N = 3\n",
    "A = [1, 2, 3]\n",
    "\n",
    "print(6)"
   ]
  },
  {
   "cell_type": "code",
   "execution_count": 13,
   "metadata": {},
   "outputs": [
    {
     "name": "stdout",
     "output_type": "stream",
     "text": [
      "6\n"
     ]
    }
   ],
   "source": [
    "mod = 10 ** 9 + 7\n",
    "ans = 0\n",
    "for bit in range(60):\n",
    "    ctr = [0, 0]\n",
    "    for i in range(N):\n",
    "        ctr[A[i] >> bit & 1] += 1\n",
    "    ans += (1 << bit) * (ctr[0] * ctr[1])\n",
    "    ans %=mod\n",
    "print(ans)"
   ]
  },
  {
   "cell_type": "markdown",
   "metadata": {},
   "source": [
    "# ABC 148 - D"
   ]
  },
  {
   "cell_type": "code",
   "execution_count": 1,
   "metadata": {},
   "outputs": [
    {
     "name": "stdout",
     "output_type": "stream",
     "text": [
      "1\n"
     ]
    }
   ],
   "source": [
    "N = 3\n",
    "A = [2, 1, 2]\n",
    "\n",
    "print(1)"
   ]
  },
  {
   "cell_type": "code",
   "execution_count": 3,
   "metadata": {},
   "outputs": [
    {
     "name": "stdout",
     "output_type": "stream",
     "text": [
      "1\n"
     ]
    }
   ],
   "source": [
    "cur = 0\n",
    "for i in range(N):\n",
    "    if A[i] == cur + 1:\n",
    "        cur += 1\n",
    "\n",
    "print(N - cur)"
   ]
  },
  {
   "cell_type": "markdown",
   "metadata": {},
   "source": [
    "# ABC 148 - E"
   ]
  },
  {
   "cell_type": "code",
   "execution_count": 29,
   "metadata": {},
   "outputs": [
    {
     "name": "stdout",
     "output_type": "stream",
     "text": [
      "1\n"
     ]
    }
   ],
   "source": [
    "N = 12\n",
    "\n",
    "print(1)"
   ]
  },
  {
   "cell_type": "code",
   "execution_count": 76,
   "metadata": {},
   "outputs": [],
   "source": [
    "N=1000000000000000000"
   ]
  },
  {
   "cell_type": "code",
   "execution_count": 80,
   "metadata": {},
   "outputs": [
    {
     "name": "stdout",
     "output_type": "stream",
     "text": [
      "124999999999999995\n"
     ]
    }
   ],
   "source": [
    "if N % 2 == 1:\n",
    "    print(0)\n",
    "else:\n",
    "    cnt = 0\n",
    "    div = 10\n",
    "    for _ in range(100):\n",
    "        cnt += N // div\n",
    "        div *= 5\n",
    "    print(cnt)"
   ]
  },
  {
   "cell_type": "markdown",
   "metadata": {},
   "source": [
    "# ABC 148 - F"
   ]
  },
  {
   "cell_type": "code",
   "execution_count": 81,
   "metadata": {},
   "outputs": [
    {
     "name": "stdout",
     "output_type": "stream",
     "text": [
      "2\n"
     ]
    }
   ],
   "source": [
    "N, U, V = 5, 4, 1\n",
    "X = [[1, 2], [2, 3], [3, 4], [3, 5]]\n",
    "\n",
    "print(2)"
   ]
  },
  {
   "cell_type": "code",
   "execution_count": 82,
   "metadata": {},
   "outputs": [],
   "source": [
    "tree = [[] for _ in range(N + 1)]\n",
    "for a, b in X:\n",
    "    tree[a].append(b)\n",
    "    tree[b].append(a)"
   ]
  },
  {
   "cell_type": "code",
   "execution_count": 84,
   "metadata": {},
   "outputs": [],
   "source": [
    "from collections import deque"
   ]
  },
  {
   "cell_type": "code",
   "execution_count": 88,
   "metadata": {},
   "outputs": [],
   "source": [
    "def find_dist(s):\n",
    "    dist = [-1] * (N + 1)\n",
    "    dist[s] = 0\n",
    "    q = deque()\n",
    "    q.append(s)\n",
    "    while q:\n",
    "        u = q.popleft()\n",
    "        for v in tree[u]:\n",
    "            if dist[v] >= 0:\n",
    "                continue\n",
    "                \n",
    "            dist[v] = dist[u] + 1\n",
    "            q.append(v)\n",
    "            \n",
    "    return dist"
   ]
  },
  {
   "cell_type": "code",
   "execution_count": 89,
   "metadata": {},
   "outputs": [],
   "source": [
    "dist_u = find_dist(U)\n",
    "dist_v = find_dist(V)"
   ]
  },
  {
   "cell_type": "code",
   "execution_count": 100,
   "metadata": {},
   "outputs": [
    {
     "name": "stdout",
     "output_type": "stream",
     "text": [
      "2\n"
     ]
    }
   ],
   "source": [
    "ans = 0\n",
    "for i in range(1, N + 1):\n",
    "    if dist_u[i] <= dist_v[i]:\n",
    "        ans = max(ans, dist_v[i] - 1)\n",
    "        \n",
    "print(ans)"
   ]
  },
  {
   "cell_type": "markdown",
   "metadata": {},
   "source": [
    "# ABC 149 - C"
   ]
  },
  {
   "cell_type": "code",
   "execution_count": 101,
   "metadata": {},
   "outputs": [
    {
     "name": "stdout",
     "output_type": "stream",
     "text": [
      "100003\n"
     ]
    }
   ],
   "source": [
    "N = 99992\n",
    "\n",
    "print(100003)"
   ]
  },
  {
   "cell_type": "code",
   "execution_count": 103,
   "metadata": {},
   "outputs": [
    {
     "name": "stdout",
     "output_type": "stream",
     "text": [
      "100003\n"
     ]
    }
   ],
   "source": [
    "n = 100010\n",
    "prime = []\n",
    "is_prime = [True] * (n + 1)\n",
    "is_prime[0] = False\n",
    "is_prime[1] = False\n",
    "\n",
    "for i in range(2, n + 1):\n",
    "    if is_prime[i]:\n",
    "        prime.append(i)\n",
    "        for j in range(2 * i, n + 1, i):\n",
    "            is_prime[j] = False\n",
    "\n",
    "for v in prime:\n",
    "    if v >= N:\n",
    "        print(v)\n",
    "        break"
   ]
  },
  {
   "cell_type": "markdown",
   "metadata": {},
   "source": [
    "# ABC 149 - D"
   ]
  },
  {
   "cell_type": "code",
   "execution_count": 104,
   "metadata": {},
   "outputs": [
    {
     "name": "stdout",
     "output_type": "stream",
     "text": [
      "27\n"
     ]
    }
   ],
   "source": [
    "N, K = 5, 2\n",
    "R, S, P = 8, 7, 6\n",
    "T = \"rsrpr\"\n",
    "\n",
    "print(27)"
   ]
  },
  {
   "cell_type": "code",
   "execution_count": 109,
   "metadata": {},
   "outputs": [
    {
     "name": "stdout",
     "output_type": "stream",
     "text": [
      "27\n"
     ]
    }
   ],
   "source": [
    "ok = [True] * N\n",
    "d = {\"r\": P, \"s\": R, \"p\": S}\n",
    "ans = 0\n",
    "for i in range(N):\n",
    "    if i >= K and T[i - K] == T[i] and ok[i - K]:\n",
    "        ok[i] = False\n",
    "    if ok[i]:\n",
    "        ans += d[T[i]]\n",
    "    \n",
    "print(ans)"
   ]
  },
  {
   "cell_type": "markdown",
   "metadata": {},
   "source": [
    "# ABC 150 - C"
   ]
  },
  {
   "cell_type": "code",
   "execution_count": 110,
   "metadata": {},
   "outputs": [
    {
     "name": "stdout",
     "output_type": "stream",
     "text": [
      "3\n"
     ]
    }
   ],
   "source": [
    "N = 3\n",
    "P = [1, 3, 2]\n",
    "Q = [3, 1, 2]\n",
    "\n",
    "print(3)"
   ]
  },
  {
   "cell_type": "code",
   "execution_count": 151,
   "metadata": {},
   "outputs": [],
   "source": [
    "def dfs(x, d, res):\n",
    "    if len(x) == N + 1:\n",
    "        d[0] += 1\n",
    "        if x[1:] == P:\n",
    "            res[\"P\"] = d[0]\n",
    "        elif x[1:] == Q:\n",
    "            res[\"Q\"] = d[0]\n",
    "        return\n",
    "\n",
    "    for v in range(1, N + 1):\n",
    "        if v not in x:\n",
    "            x.append(v)\n",
    "            dfs(x, d, res)\n",
    "            x.pop()"
   ]
  },
  {
   "cell_type": "code",
   "execution_count": 152,
   "metadata": {},
   "outputs": [
    {
     "name": "stdout",
     "output_type": "stream",
     "text": [
      "3\n"
     ]
    }
   ],
   "source": [
    "res = {\"P\": 0, \"Q\": 0}\n",
    "dfs([0], [0], res)\n",
    "print(abs(res[\"P\"] - res[\"Q\"]))"
   ]
  },
  {
   "cell_type": "markdown",
   "metadata": {},
   "source": [
    "# ABC 150 - D"
   ]
  },
  {
   "cell_type": "code",
   "execution_count": 1,
   "metadata": {},
   "outputs": [
    {
     "name": "stdout",
     "output_type": "stream",
     "text": [
      "2\n"
     ]
    }
   ],
   "source": [
    "N, M = 2, 50\n",
    "A = [6, 10]\n",
    "\n",
    "print(2)"
   ]
  },
  {
   "cell_type": "code",
   "execution_count": 13,
   "metadata": {},
   "outputs": [],
   "source": [
    "N, M = 5, 1000000000\n",
    "A = [6, 6, 2, 6, 2]"
   ]
  },
  {
   "cell_type": "code",
   "execution_count": 14,
   "metadata": {},
   "outputs": [],
   "source": [
    "from math import gcd\n",
    "from functools import reduce"
   ]
  },
  {
   "cell_type": "code",
   "execution_count": 15,
   "metadata": {},
   "outputs": [],
   "source": [
    "def lcm(x, y):\n",
    "    return x * y // gcd(x, y)\n",
    "\n",
    "def lcm_list(numbers):\n",
    "    return reduce(lcm, numbers, 1)"
   ]
  },
  {
   "cell_type": "code",
   "execution_count": 16,
   "metadata": {},
   "outputs": [],
   "source": [
    "def even_count(n):\n",
    "    res = 0\n",
    "    while n % 2 == 0:\n",
    "        res += 1\n",
    "        n //= 2\n",
    "    return res"
   ]
  },
  {
   "cell_type": "code",
   "execution_count": 25,
   "metadata": {},
   "outputs": [
    {
     "name": "stdout",
     "output_type": "stream",
     "text": [
      "166666667\n"
     ]
    }
   ],
   "source": [
    "x = [v // 2 for v in A]\n",
    "if all(even_count(v) == even_count(x[0]) for v in x):\n",
    "    num = lcm_list([v // 2 for v in A])\n",
    "    print(-(-(M // num) // 2))\n",
    "else:\n",
    "    print(0)"
   ]
  },
  {
   "cell_type": "markdown",
   "metadata": {},
   "source": [
    "# ABC 151 - C"
   ]
  },
  {
   "cell_type": "code",
   "execution_count": 26,
   "metadata": {},
   "outputs": [
    {
     "name": "stdout",
     "output_type": "stream",
     "text": [
      "2 2\n"
     ]
    }
   ],
   "source": [
    "N, M = 2, 5\n",
    "X = [(1, 'WA'), (1, 'AC'), (2, 'WA'), (2, 'AC'), (2, 'WA')]\n",
    "\n",
    "print(2, 2)"
   ]
  },
  {
   "cell_type": "code",
   "execution_count": 29,
   "metadata": {},
   "outputs": [
    {
     "name": "stdout",
     "output_type": "stream",
     "text": [
      "2 2\n"
     ]
    }
   ],
   "source": [
    "cnt = [[0, 0] for _ in range(N + 1)]\n",
    "for p, s in X:\n",
    "    if s == \"AC\":\n",
    "        cnt[p][0] = 1\n",
    "    elif cnt[p][0] == 0:\n",
    "        cnt[p][1] += 1\n",
    "\n",
    "ac = sum(v for v, _ in cnt)\n",
    "wa = 0\n",
    "for i in range(N + 1):\n",
    "    if cnt[i][0] == 1:\n",
    "        wa += cnt[i][1]\n",
    "print(ac, wa)"
   ]
  },
  {
   "cell_type": "markdown",
   "metadata": {},
   "source": [
    "# ABC 151 - D"
   ]
  },
  {
   "cell_type": "code",
   "execution_count": 30,
   "metadata": {},
   "outputs": [
    {
     "name": "stdout",
     "output_type": "stream",
     "text": [
      "4\n"
     ]
    }
   ],
   "source": [
    "H, W = 3, 3\n",
    "X = ['...', '...', '...']\n",
    "\n",
    "print(4)"
   ]
  },
  {
   "cell_type": "code",
   "execution_count": 31,
   "metadata": {},
   "outputs": [],
   "source": [
    "from collections import deque"
   ]
  },
  {
   "cell_type": "code",
   "execution_count": 42,
   "metadata": {},
   "outputs": [],
   "source": [
    "def solve_maze(s):\n",
    "    bias = [(0, 1), (0, -1), (1, 0), (-1, 0)]\n",
    "    inf = 10 ** 9\n",
    "\n",
    "    d = [[inf] * W for _ in range(H)]\n",
    "    d[s[0]][s[1]] = 0\n",
    "\n",
    "    q = deque()\n",
    "    q.append(s)\n",
    "    while q:\n",
    "        u, v = q.popleft()\n",
    "        for i, j in bias:\n",
    "            if (0 <= u + i < H and 0 <= v + j < W\n",
    "                    and X[u + i][v + j] == \".\"\n",
    "                    and d[u + i][v + j] > d[u][v] + 1):\n",
    "                d[u + i][v + j] = d[u][v] + 1\n",
    "                q.append((u + i, v + j))\n",
    "\n",
    "    res = 0\n",
    "    for i in range(H):\n",
    "        for j in range(W):\n",
    "            if d[i][j] < inf:\n",
    "                res = max(res, d[i][j])\n",
    "                \n",
    "    return res"
   ]
  },
  {
   "cell_type": "code",
   "execution_count": 44,
   "metadata": {},
   "outputs": [
    {
     "name": "stdout",
     "output_type": "stream",
     "text": [
      "4\n"
     ]
    }
   ],
   "source": [
    "ans = 0\n",
    "for i in range(H):\n",
    "    for j in range(W):\n",
    "        if X[i][j] == \".\":\n",
    "            ans = max(ans, solve_maze((i, j)))\n",
    "\n",
    "print(ans)"
   ]
  },
  {
   "cell_type": "markdown",
   "metadata": {},
   "source": [
    "# ABC 151 - E"
   ]
  },
  {
   "cell_type": "code",
   "execution_count": 47,
   "metadata": {},
   "outputs": [
    {
     "name": "stdout",
     "output_type": "stream",
     "text": [
      "11\n"
     ]
    }
   ],
   "source": [
    "N, K = 4, 2\n",
    "A = [1, 1, 3, 4]\n",
    "\n",
    "print(11)"
   ]
  },
  {
   "cell_type": "code",
   "execution_count": 45,
   "metadata": {},
   "outputs": [],
   "source": [
    "MAX = 10 ** 5 + 1\n",
    "MOD = 10 ** 9 + 7\n",
    "\n",
    "# Factorial\n",
    "fac = [0] * (MAX + 1)\n",
    "fac[0] = 1\n",
    "fac[1] = 1\n",
    "for i in range(2, MAX + 1):\n",
    "    fac[i] = fac[i - 1] * i % MOD\n",
    "    \n",
    "# Inverse factorial\n",
    "finv = [0] * (MAX + 1)\n",
    "finv[MAX] = pow(fac[MAX], MOD - 2, MOD)\n",
    "for i in reversed(range(1, MAX + 1)):\n",
    "    finv[i - 1] = finv[i] * i % MOD"
   ]
  },
  {
   "cell_type": "code",
   "execution_count": 46,
   "metadata": {},
   "outputs": [],
   "source": [
    "def comb(n, k):\n",
    "    if n < k or k < 0:\n",
    "        return 0\n",
    "    return (fac[n] * finv[k] * finv[n - k]) % MOD"
   ]
  },
  {
   "cell_type": "code",
   "execution_count": 54,
   "metadata": {},
   "outputs": [
    {
     "name": "stdout",
     "output_type": "stream",
     "text": [
      "11\n"
     ]
    }
   ],
   "source": [
    "A.sort()\n",
    "ans = 0\n",
    "for i in range(N):\n",
    "    if i >= K - 1:\n",
    "        ans += comb(i, K - 1) * A[i]\n",
    "    if i + K - 1 < N:\n",
    "        ans -= comb(N - i - 1, K - 1) * A[i]\n",
    "    ans %= MOD\n",
    "print(ans)"
   ]
  },
  {
   "cell_type": "markdown",
   "metadata": {},
   "source": [
    "# ABC 152 - D"
   ]
  },
  {
   "cell_type": "code",
   "execution_count": 56,
   "metadata": {},
   "outputs": [
    {
     "name": "stdout",
     "output_type": "stream",
     "text": [
      "17\n"
     ]
    }
   ],
   "source": [
    "N = 25\n",
    "\n",
    "print(17)"
   ]
  },
  {
   "cell_type": "code",
   "execution_count": 64,
   "metadata": {},
   "outputs": [],
   "source": [
    "N=2020"
   ]
  },
  {
   "cell_type": "code",
   "execution_count": 71,
   "metadata": {},
   "outputs": [
    {
     "name": "stdout",
     "output_type": "stream",
     "text": [
      "40812\n"
     ]
    }
   ],
   "source": [
    "dp = [[0] * 10 for _ in range(10)]\n",
    "for x in range(1, N + 1):\n",
    "    org = x\n",
    "    j = x % 10\n",
    "    while x >= 10:\n",
    "        x //= 10\n",
    "    i = x\n",
    "    dp[i][j] += 1\n",
    "\n",
    "ans = 0\n",
    "for i in range(1, 10):\n",
    "    for j in range(1, 10):\n",
    "        ans += dp[i][j] * dp[j][i]\n",
    "        \n",
    "print(ans)"
   ]
  },
  {
   "cell_type": "markdown",
   "metadata": {},
   "source": [
    "# ABC 152 - E"
   ]
  },
  {
   "cell_type": "code",
   "execution_count": 72,
   "metadata": {},
   "outputs": [
    {
     "name": "stdout",
     "output_type": "stream",
     "text": [
      "13\n"
     ]
    }
   ],
   "source": [
    "N = 3\n",
    "A = [2, 3, 4]\n",
    "\n",
    "print(13)"
   ]
  },
  {
   "cell_type": "code",
   "execution_count": 78,
   "metadata": {},
   "outputs": [],
   "source": [
    "from math import gcd\n",
    "from functools import reduce\n",
    "\n",
    "MOD = 10 ** 9 + 7\n",
    "\n",
    "def calc_lcm(x, y):\n",
    "    return x * y // gcd(x, y) % MOD\n",
    "\n",
    "def calc_lcm_list(numbers):\n",
    "    return reduce(calc_lcm, numbers, 1)"
   ]
  },
  {
   "cell_type": "code",
   "execution_count": 79,
   "metadata": {},
   "outputs": [
    {
     "name": "stdout",
     "output_type": "stream",
     "text": [
      "13\n"
     ]
    }
   ],
   "source": [
    "lcm = calc_lcm_list(A)\n",
    "print(sum(lcm * pow(v, MOD - 2, MOD) for v in A) % MOD)"
   ]
  },
  {
   "cell_type": "markdown",
   "metadata": {},
   "source": [
    "# ABC 153 - E"
   ]
  },
  {
   "cell_type": "code",
   "execution_count": 92,
   "metadata": {},
   "outputs": [
    {
     "name": "stdout",
     "output_type": "stream",
     "text": [
      "4\n"
     ]
    }
   ],
   "source": [
    "H, N = 9, 3\n",
    "X = [[8, 3], [4, 2], [2, 1]]\n",
    "\n",
    "print(4)"
   ]
  },
  {
   "cell_type": "code",
   "execution_count": 93,
   "metadata": {},
   "outputs": [
    {
     "name": "stdout",
     "output_type": "stream",
     "text": [
      "4\n"
     ]
    }
   ],
   "source": [
    "inf = 10 ** 9 + 7\n",
    "dp = [[inf] * (H + 1) for _ in range(N + 1)]\n",
    "dp[0][0] = 0\n",
    "\n",
    "for i in range(N):\n",
    "    for j in range(H + 1):\n",
    "        dp[i + 1][j] = min(dp[i + 1][j], dp[i][j])\n",
    "        dp[i + 1][min(j + X[i][0], H)] = min(dp[i + 1][min(j + X[i][0], H)],\n",
    "                                             dp[i][j] + X[i][1],\n",
    "                                             dp[i + 1][j] + X[i][1])\n",
    "        \n",
    "print(dp[-1][-1])"
   ]
  },
  {
   "cell_type": "markdown",
   "metadata": {},
   "source": [
    "# ABC 153 - F"
   ]
  },
  {
   "cell_type": "code",
   "execution_count": 1,
   "metadata": {},
   "outputs": [
    {
     "name": "stdout",
     "output_type": "stream",
     "text": [
      "2\n"
     ]
    }
   ],
   "source": [
    "N, D, A = 3, 3, 2\n",
    "X = [[1, 2], [5, 4], [9, 2]]\n",
    "\n",
    "print(2)"
   ]
  },
  {
   "cell_type": "code",
   "execution_count": 20,
   "metadata": {},
   "outputs": [
    {
     "name": "stdout",
     "output_type": "stream",
     "text": [
      "5\n"
     ]
    }
   ],
   "source": [
    "N, D, A = 9, 4, 1\n",
    "X = [[1, 5], [2, 4], [3, 3], [4, 2], [5, 1], [6, 2], [7, 3], [8, 4], [9, 5]]\n",
    "\n",
    "print(5)"
   ]
  },
  {
   "cell_type": "code",
   "execution_count": 21,
   "metadata": {},
   "outputs": [],
   "source": [
    "from bisect import bisect_right"
   ]
  },
  {
   "cell_type": "code",
   "execution_count": 22,
   "metadata": {},
   "outputs": [],
   "source": [
    "x = []\n",
    "h = []\n",
    "for d, i in sorted(X):\n",
    "    x.append(d)\n",
    "    h.append(i)"
   ]
  },
  {
   "cell_type": "code",
   "execution_count": 24,
   "metadata": {},
   "outputs": [
    {
     "name": "stdout",
     "output_type": "stream",
     "text": [
      "5\n"
     ]
    }
   ],
   "source": [
    "ans = 0\n",
    "k = [-(-v // A) for v in h]\n",
    "y = [0] * (N + 2)\n",
    "for i in range(N):\n",
    "    y[i + 1] += y[i]\n",
    "    s = max(0, k[i] - y[i + 1])\n",
    "    ans += s\n",
    "    y[i + 1] += s\n",
    "    y[bisect_right(x, x[i] + 2 * D) + 1] -= s\n",
    "    \n",
    "print(ans)"
   ]
  },
  {
   "cell_type": "markdown",
   "metadata": {},
   "source": [
    "# ABC 154 - D"
   ]
  },
  {
   "cell_type": "code",
   "execution_count": 27,
   "metadata": {},
   "outputs": [
    {
     "name": "stdout",
     "output_type": "stream",
     "text": [
      "7.0\n"
     ]
    }
   ],
   "source": [
    "N, K = 5, 3\n",
    "X = [1, 2, 2, 4, 5]\n",
    "\n",
    "print(7.0)"
   ]
  },
  {
   "cell_type": "code",
   "execution_count": 42,
   "metadata": {},
   "outputs": [
    {
     "name": "stdout",
     "output_type": "stream",
     "text": [
      "32.0\n"
     ]
    }
   ],
   "source": [
    "N, K = 10, 4\n",
    "X = [17, 13, 13, 12, 15, 20, 10, 13, 17, 11]\n",
    "\n",
    "print(32.0)"
   ]
  },
  {
   "cell_type": "code",
   "execution_count": 47,
   "metadata": {},
   "outputs": [
    {
     "name": "stdout",
     "output_type": "stream",
     "text": [
      "32.0\n"
     ]
    }
   ],
   "source": [
    "y = [float(x * (x + 1) / 2 / x) for x in X]\n",
    "ans = sum(y[:K])\n",
    "res = ans\n",
    "for i in range(K, N):\n",
    "    res = res - y[i - K] + y[i]\n",
    "    ans = max(ans, res)\n",
    "print(ans)"
   ]
  },
  {
   "cell_type": "markdown",
   "metadata": {},
   "source": [
    "# ABC 154 - E"
   ]
  },
  {
   "cell_type": "code",
   "execution_count": 27,
   "metadata": {},
   "outputs": [
    {
     "name": "stdout",
     "output_type": "stream",
     "text": [
      "19\n"
     ]
    }
   ],
   "source": [
    "N = \"100\"\n",
    "K = 1\n",
    "\n",
    "print(19)"
   ]
  },
  {
   "cell_type": "code",
   "execution_count": 29,
   "metadata": {},
   "outputs": [
    {
     "name": "stdout",
     "output_type": "stream",
     "text": [
      "19\n"
     ]
    }
   ],
   "source": [
    "dp = [[[0] * (K + 1) for _ in range(2)] for _ in range(len(N) + 1)]\n",
    "dp[0][0][0] = 1\n",
    "\n",
    "for i in range(len(N)):\n",
    "    n = int(N[i])\n",
    "    for j in range(2):\n",
    "        for k in range(K + 1):\n",
    "            for d in range((9 if j == 1 else n) + 1):\n",
    "                if k + int(d != 0) <= K:\n",
    "                    dp[i + 1][j | (d < n)][k + int(d != 0)] += dp[i][j][k]\n",
    "\n",
    "# Check N itself\n",
    "cnt = len(N) - N.count(\"0\")\n",
    "print(dp[-1][-1][-1] + int(cnt == K))"
   ]
  },
  {
   "cell_type": "markdown",
   "metadata": {},
   "source": [
    "# ABC 155 - D"
   ]
  },
  {
   "cell_type": "code",
   "execution_count": 1,
   "metadata": {},
   "outputs": [
    {
     "name": "stdout",
     "output_type": "stream",
     "text": [
      "-6\n"
     ]
    }
   ],
   "source": [
    "N, K = 4, 3\n",
    "A = [3, 3, -4, -2]\n",
    "\n",
    "print(-6)"
   ]
  },
  {
   "cell_type": "code",
   "execution_count": 12,
   "metadata": {},
   "outputs": [
    {
     "name": "stdout",
     "output_type": "stream",
     "text": [
      "6\n"
     ]
    }
   ],
   "source": [
    "N, K = 10, 40\n",
    "A = [5, 4, 3, 2, -1, 0, 0, 0, 0, 0]\n",
    "\n",
    "print(6)"
   ]
  },
  {
   "cell_type": "code",
   "execution_count": 13,
   "metadata": {},
   "outputs": [],
   "source": [
    "l_pos = sorted(v for v in A if v > 0)\n",
    "l_neg = sorted(-v for v in A if v < 0)\n",
    "\n",
    "cnt_pos = len(l_pos)\n",
    "cnt_neg = len(l_neg)\n",
    "\n",
    "pair_pos = cnt_pos * (cnt_pos - 1) // 2 + cnt_neg * (cnt_neg - 1) // 2\n",
    "pair_neg = cnt_pos * cnt_neg\n",
    "pair_zro = N * (N - 1) // 2 - pair_pos - pair_neg"
   ]
  },
  {
   "cell_type": "code",
   "execution_count": 15,
   "metadata": {},
   "outputs": [],
   "source": [
    "def solve_neg(n):\n",
    "    ub = 10 ** 18 + 1\n",
    "    lb = 0\n",
    "    while ub - lb > 1:\n",
    "        mid = (ub + lb) // 2\n",
    "        \n",
    "        # Count\n",
    "        n_pos = len(l_pos)\n",
    "        cnt = 0\n",
    "        j = 0\n",
    "        for v in reversed(l_neg):\n",
    "            while j < n_pos and v * l_pos[j] < mid:\n",
    "                j += 1\n",
    "            cnt += n_pos - j\n",
    "\n",
    "        if cnt < n:\n",
    "            ub = mid\n",
    "        else:\n",
    "            lb = mid\n",
    "\n",
    "    return -lb"
   ]
  },
  {
   "cell_type": "code",
   "execution_count": 35,
   "metadata": {},
   "outputs": [],
   "source": [
    "def solve_pos(n):\n",
    "    lb = 0\n",
    "    ub = 10 ** 18 + 1\n",
    "    while ub - lb > 1:\n",
    "        cnt = 0\n",
    "        mid = (ub + lb) // 2\n",
    "\n",
    "        # Negative count\n",
    "        n_neg = len(l_neg)\n",
    "        j = 0\n",
    "        for v in reversed(l_neg):\n",
    "            if v ** 2 <= mid:\n",
    "                cnt -= 1  # 自身同士のペアも数えてしまうので，その分を引く\n",
    "            while j < n_neg and v * l_neg[j] < mid:\n",
    "                j += 1\n",
    "            cnt += j\n",
    "\n",
    "        # Positive count\n",
    "        n_pos = len(l_pos)\n",
    "        j = 0\n",
    "        for v in reversed(l_pos):\n",
    "            if v ** 2 <= mid:\n",
    "                cnt -= 1\n",
    "            while j < n_pos and v * l_pos[j] < mid:\n",
    "                j += 1\n",
    "            cnt += j\n",
    "\n",
    "        # Remove duplicated counts: (i, j) == (j, i)\n",
    "        cnt //= 2\n",
    "\n",
    "        if cnt < n:\n",
    "            lb = mid\n",
    "        else:\n",
    "            ub = mid\n",
    "            \n",
    "    return lb"
   ]
  },
  {
   "cell_type": "code",
   "execution_count": 36,
   "metadata": {},
   "outputs": [
    {
     "name": "stdout",
     "output_type": "stream",
     "text": [
      "6\n"
     ]
    }
   ],
   "source": [
    "if K <= pair_neg:\n",
    "    ans = solve_neg(K)\n",
    "elif K <= pair_neg + pair_zro:\n",
    "    ans = 0\n",
    "else:\n",
    "    ans = solve_pos(K - pair_neg - pair_zro)\n",
    "print(ans)"
   ]
  },
  {
   "cell_type": "code",
   "execution_count": null,
   "metadata": {},
   "outputs": [],
   "source": []
  }
 ],
 "metadata": {
  "kernelspec": {
   "display_name": "Python 3",
   "language": "python",
   "name": "python3"
  },
  "language_info": {
   "codemirror_mode": {
    "name": "ipython",
    "version": 3
   },
   "file_extension": ".py",
   "mimetype": "text/x-python",
   "name": "python",
   "nbconvert_exporter": "python",
   "pygments_lexer": "ipython3",
   "version": "3.7.7"
  }
 },
 "nbformat": 4,
 "nbformat_minor": 4
}