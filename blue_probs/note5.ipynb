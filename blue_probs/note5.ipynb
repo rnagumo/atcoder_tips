{
 "cells": [
  {
   "cell_type": "markdown",
   "metadata": {},
   "source": [
    "# tenka1 2015 - B\n",
    "\n",
    "https://atcoder.jp/contests/tenka1-2015-qualb/tasks/tenka1_2015_qualB_b"
   ]
  },
  {
   "cell_type": "code",
   "execution_count": 6,
   "metadata": {},
   "outputs": [
    {
     "name": "stdout",
     "output_type": "stream",
     "text": [
      "dict\n"
     ]
    }
   ],
   "source": [
    "S = \"{1:2}\"\n",
    "\n",
    "print(\"dict\")"
   ]
  },
  {
   "cell_type": "code",
   "execution_count": 8,
   "metadata": {},
   "outputs": [
    {
     "name": "stdout",
     "output_type": "stream",
     "text": [
      "set\n"
     ]
    }
   ],
   "source": [
    "S = \"{{1:2},{2:3}}\"\n",
    "print(\"set\")"
   ]
  },
  {
   "cell_type": "code",
   "execution_count": 3,
   "metadata": {},
   "outputs": [
    {
     "name": "stdout",
     "output_type": "stream",
     "text": [
      "dict\n"
     ]
    }
   ],
   "source": [
    "S = \"{{2}:{4}}\"\n",
    "print(\"dict\")"
   ]
  },
  {
   "cell_type": "code",
   "execution_count": 9,
   "metadata": {},
   "outputs": [
    {
     "name": "stdout",
     "output_type": "stream",
     "text": [
      "set\n"
     ]
    }
   ],
   "source": [
    "cnt = 0\n",
    "for i in range(1, len(S) - 1):\n",
    "    if S[i] == \"{\":\n",
    "        cnt += 1\n",
    "    elif S[i] == \"}\":\n",
    "        cnt -= 1\n",
    "\n",
    "    if S[i] == \":\" and cnt == 0:\n",
    "        print(\"dict\")\n",
    "        break\n",
    "else:\n",
    "    if len(S) == 2:\n",
    "        print(\"dict\")\n",
    "    else:\n",
    "        print(\"set\")"
   ]
  },
  {
   "cell_type": "markdown",
   "metadata": {},
   "source": [
    "# ARC 26 - B\n",
    "\n",
    "https://atcoder.jp/contests/arc026/tasks/arc026_2"
   ]
  },
  {
   "cell_type": "code",
   "execution_count": 12,
   "metadata": {},
   "outputs": [
    {
     "name": "stdout",
     "output_type": "stream",
     "text": [
      "Perfect\n"
     ]
    }
   ],
   "source": [
    "N = 6\n",
    "\n",
    "print(\"Perfect\")"
   ]
  },
  {
   "cell_type": "code",
   "execution_count": 19,
   "metadata": {},
   "outputs": [
    {
     "name": "stdout",
     "output_type": "stream",
     "text": [
      "Perfect\n"
     ]
    }
   ],
   "source": [
    "cnt = 0\n",
    "for i in range(1, int(N ** 0.5) + 1):\n",
    "    if N % i == 0:\n",
    "        cnt += i\n",
    "        if i != N // i:\n",
    "            cnt += N // i\n",
    "            \n",
    "if cnt < 2 * N:\n",
    "    print(\"Deficient\")\n",
    "elif cnt == 2 * N:\n",
    "    print(\"Perfect\")\n",
    "else:\n",
    "    print(\"Abundant\")"
   ]
  },
  {
   "cell_type": "markdown",
   "metadata": {},
   "source": [
    "# indeed 2015 quala - C\n",
    "\n",
    "https://atcoder.jp/contests/indeednow-quala/tasks/indeednow_2015_quala_3"
   ]
  },
  {
   "cell_type": "code",
   "execution_count": 20,
   "metadata": {},
   "outputs": [
    {
     "name": "stdout",
     "output_type": "stream",
     "text": [
      "11 7 0\n"
     ]
    }
   ],
   "source": [
    "N = 15\n",
    "S = [0, 0, 0, 1, 1, 2, 3, 4, 5, 6, 6, 6, 8, 9, 10]\n",
    "Q = 3\n",
    "K = [0, 4, 12]\n",
    "\n",
    "print(11, 7, 0)"
   ]
  },
  {
   "cell_type": "code",
   "execution_count": 39,
   "metadata": {},
   "outputs": [
    {
     "name": "stdout",
     "output_type": "stream",
     "text": [
      "11\n",
      "7\n",
      "0\n"
     ]
    }
   ],
   "source": [
    "x = sorted([v for v in S if v > 0], reverse=True)\n",
    "n = len(x)\n",
    "for k in K:\n",
    "    if k < n:\n",
    "        print(x[k] + 1)\n",
    "    else:\n",
    "        print(0)"
   ]
  },
  {
   "cell_type": "markdown",
   "metadata": {},
   "source": [
    "# Code fes 2017 qual a - C\n",
    "\n",
    "https://atcoder.jp/contests/code-festival-2017-quala/tasks/code_festival_2017_quala_c"
   ]
  },
  {
   "cell_type": "code",
   "execution_count": 1,
   "metadata": {},
   "outputs": [
    {
     "name": "stdout",
     "output_type": "stream",
     "text": [
      "Yes\n"
     ]
    }
   ],
   "source": [
    "H, W = 3, 4\n",
    "X = ['aabb', 'aabb', 'aacc']\n",
    "\n",
    "print(\"Yes\")"
   ]
  },
  {
   "cell_type": "code",
   "execution_count": 2,
   "metadata": {},
   "outputs": [],
   "source": [
    "from collections import Counter"
   ]
  },
  {
   "cell_type": "code",
   "execution_count": 8,
   "metadata": {},
   "outputs": [],
   "source": [
    "ctr = Counter()\n",
    "for s in X:\n",
    "    for c in s:\n",
    "        ctr[c] += 1"
   ]
  },
  {
   "cell_type": "code",
   "execution_count": 12,
   "metadata": {},
   "outputs": [
    {
     "name": "stdout",
     "output_type": "stream",
     "text": [
      "Yes\n"
     ]
    }
   ],
   "source": [
    "if H % 2 == 0 and W % 2 == 0:\n",
    "    flg1 = all(v % 4 == 0 for v in ctr.values())\n",
    "    flg2 = True\n",
    "elif H % 2 == 1 and W % 2 == 1:\n",
    "    flg1 = sum(v % 2 == 1 for v in ctr.values()) == 1\n",
    "    flg2 = sum(v % 4 == 2 for v in ctr.values()) <= H // 2 + W // 2\n",
    "else:\n",
    "    flg1 = all(v % 2 == 0 for v in ctr.values())\n",
    "    flg2 = sum(v % 4 == 2 for v in ctr.values()) <= (W // 2 if W % 2 == 0 else H // 2)\n",
    "\n",
    "if flg1 and flg2:\n",
    "    print(\"Yes\")\n",
    "else:\n",
    "    print(\"No\")"
   ]
  },
  {
   "cell_type": "markdown",
   "metadata": {},
   "source": [
    "# AGC 14 - B\n",
    "\n",
    "https://atcoder.jp/contests/agc014/tasks/agc014_b"
   ]
  },
  {
   "cell_type": "code",
   "execution_count": 13,
   "metadata": {},
   "outputs": [
    {
     "name": "stdout",
     "output_type": "stream",
     "text": [
      "YES\n"
     ]
    }
   ],
   "source": [
    "N, M = 4, 4\n",
    "X = [[1, 2], [2, 4], [1, 3], [3, 4]]\n",
    "\n",
    "print(\"YES\")"
   ]
  },
  {
   "cell_type": "code",
   "execution_count": 14,
   "metadata": {},
   "outputs": [],
   "source": [
    "from collections import Counter"
   ]
  },
  {
   "cell_type": "code",
   "execution_count": 16,
   "metadata": {},
   "outputs": [
    {
     "name": "stdout",
     "output_type": "stream",
     "text": [
      "YES\n"
     ]
    }
   ],
   "source": [
    "ctr = Counter()\n",
    "for a, b in X:\n",
    "    ctr[a] += 1\n",
    "    ctr[b] += 1\n",
    "\n",
    "if all(v % 2 == 0 for v in ctr.values()):\n",
    "    print(\"YES\")\n",
    "else:\n",
    "    print(\"NO\")"
   ]
  },
  {
   "cell_type": "markdown",
   "metadata": {},
   "source": [
    "# AGC 18 - A\n",
    "\n",
    "https://atcoder.jp/contests/agc018/tasks/agc018_a"
   ]
  },
  {
   "cell_type": "code",
   "execution_count": 1,
   "metadata": {},
   "outputs": [
    {
     "name": "stdout",
     "output_type": "stream",
     "text": [
      "POSSIBLE\n"
     ]
    }
   ],
   "source": [
    "N, K = 3, 7\n",
    "X = [9, 3, 4]\n",
    "\n",
    "print(\"POSSIBLE\")"
   ]
  },
  {
   "cell_type": "code",
   "execution_count": 2,
   "metadata": {},
   "outputs": [],
   "source": [
    "from functools import reduce\n",
    "from math import gcd"
   ]
  },
  {
   "cell_type": "code",
   "execution_count": 5,
   "metadata": {},
   "outputs": [
    {
     "name": "stdout",
     "output_type": "stream",
     "text": [
      "POSSIBLE\n"
     ]
    }
   ],
   "source": [
    "d = reduce(gcd, X)\n",
    "for i in range(N):\n",
    "    if X[i] < K:\n",
    "        continue\n",
    "        \n",
    "    if (X[i] - K) % d == 0:\n",
    "        print(\"POSSIBLE\")\n",
    "        break\n",
    "else:\n",
    "    print(\"IMPOSSIBLE\")"
   ]
  },
  {
   "cell_type": "markdown",
   "metadata": {},
   "source": [
    "#### 模範解答\n",
    "\n",
    "`X[i] % d == 0`はわかっているので，`K % d == 0, K <= X[i]`だけ調べれば良い"
   ]
  },
  {
   "cell_type": "code",
   "execution_count": 6,
   "metadata": {},
   "outputs": [
    {
     "name": "stdout",
     "output_type": "stream",
     "text": [
      "POSSIBLE\n"
     ]
    }
   ],
   "source": [
    "d = reduce(gcd, X)\n",
    "if K % d == 0 and K <= max(X):\n",
    "    print(\"POSSIBLE\")\n",
    "else:\n",
    "    print(\"IMPOSSIBLE\")"
   ]
  },
  {
   "cell_type": "markdown",
   "metadata": {},
   "source": [
    "# ARC 32 - B\n",
    "\n",
    "https://atcoder.jp/contests/arc032/tasks/arc032_2"
   ]
  },
  {
   "cell_type": "code",
   "execution_count": 1,
   "metadata": {},
   "outputs": [
    {
     "name": "stdout",
     "output_type": "stream",
     "text": [
      "1\n"
     ]
    }
   ],
   "source": [
    "N, M = 4, 2\n",
    "X = [[1, 2], [1, 3]]\n",
    "\n",
    "print(1)"
   ]
  },
  {
   "cell_type": "code",
   "execution_count": 2,
   "metadata": {},
   "outputs": [],
   "source": [
    "class UnionFind:\n",
    "    def __init__(self, n):\n",
    "        self.par = list(range(n))\n",
    "        self.rank = [0] * n\n",
    "        self.size = [1] * n\n",
    "        \n",
    "    def find(self, x):\n",
    "        if self.par[x] == x:\n",
    "            return x\n",
    "        else:\n",
    "            self.par[x] = self.find(self.par[x])\n",
    "            return self.par[x]\n",
    "        \n",
    "    def unite(self, x, y):\n",
    "        x = self.find(x)\n",
    "        y = self.find(y)\n",
    "        \n",
    "        if x == y:\n",
    "            return\n",
    "        \n",
    "        if self.rank[x] == self.rank[y]:\n",
    "            self.rank[x] += 1\n",
    "        elif self.rank[x] < self.rank[y]:\n",
    "            x, y = y, x\n",
    "        \n",
    "        self.par[y] = x\n",
    "        self.size[x] += self.size[y]\n",
    "                \n",
    "    def is_same(self, x, y):\n",
    "        return self.find(x) == self.find(y)\n",
    "    \n",
    "    def get_size(self, x):\n",
    "        return self.size[self.find(x)]\n",
    "    \n",
    "    def __repr__(self):\n",
    "        return ', '.join(str(x) for x in self.par)"
   ]
  },
  {
   "cell_type": "code",
   "execution_count": 6,
   "metadata": {},
   "outputs": [
    {
     "name": "stdout",
     "output_type": "stream",
     "text": [
      "1\n"
     ]
    }
   ],
   "source": [
    "t = UnionFind(N)\n",
    "for a, b in X:\n",
    "    t.unite(a - 1, b - 1)\n",
    "\n",
    "cnt = 0\n",
    "for i in range(N):\n",
    "    cnt += int(i == t.find(i))\n",
    "    \n",
    "print(cnt - 1)"
   ]
  },
  {
   "cell_type": "markdown",
   "metadata": {},
   "source": [
    "# AGC 3 - B\n",
    "\n",
    "https://atcoder.jp/contests/agc003/tasks/agc003_b"
   ]
  },
  {
   "cell_type": "code",
   "execution_count": 14,
   "metadata": {},
   "outputs": [
    {
     "name": "stdout",
     "output_type": "stream",
     "text": [
      "4\n"
     ]
    }
   ],
   "source": [
    "N = 4\n",
    "A = [4, 0, 3, 2]\n",
    "\n",
    "\n",
    "print(4)"
   ]
  },
  {
   "cell_type": "code",
   "execution_count": 16,
   "metadata": {},
   "outputs": [
    {
     "name": "stdout",
     "output_type": "stream",
     "text": [
      "4\n"
     ]
    }
   ],
   "source": [
    "ans = 0\n",
    "cnt = 0\n",
    "for i in range(N):\n",
    "    if A[i] > 0:\n",
    "        cnt += A[i]\n",
    "    else:\n",
    "        ans += cnt // 2\n",
    "        cnt = 0\n",
    "else:\n",
    "    ans += cnt // 2\n",
    "\n",
    "print(ans)"
   ]
  },
  {
   "cell_type": "markdown",
   "metadata": {},
   "source": [
    "# AGC 36 - A\n",
    "\n",
    "https://atcoder.jp/contests/agc036/tasks/agc036_a"
   ]
  },
  {
   "cell_type": "code",
   "execution_count": 1,
   "metadata": {},
   "outputs": [
    {
     "name": "stdout",
     "output_type": "stream",
     "text": [
      "0 0 6 0 0 1\n"
     ]
    }
   ],
   "source": [
    "S = 3\n",
    "\n",
    "print(\"0 0 6 0 0 1\")"
   ]
  },
  {
   "cell_type": "code",
   "execution_count": 9,
   "metadata": {},
   "outputs": [],
   "source": [
    "v = 10 ** 9\n",
    "x = (v - S % v) % v\n",
    "y = (S + x) // v"
   ]
  },
  {
   "cell_type": "code",
   "execution_count": 10,
   "metadata": {},
   "outputs": [
    {
     "name": "stdout",
     "output_type": "stream",
     "text": [
      "0 0 1000000000 1 999999997 1\n"
     ]
    }
   ],
   "source": [
    "print(\"0 0 1000000000 1 {} {}\".format(x, y))"
   ]
  },
  {
   "cell_type": "markdown",
   "metadata": {},
   "source": [
    "# tenka1 2017 - C\n",
    "\n",
    "https://atcoder.jp/contests/tenka1-2017/tasks/tenka1_2017_c"
   ]
  },
  {
   "cell_type": "code",
   "execution_count": 12,
   "metadata": {},
   "outputs": [
    {
     "name": "stdout",
     "output_type": "stream",
     "text": [
      "1 2 2\n"
     ]
    }
   ],
   "source": [
    "N = 2\n",
    "\n",
    "print(1, 2, 2)"
   ]
  },
  {
   "cell_type": "code",
   "execution_count": 15,
   "metadata": {},
   "outputs": [
    {
     "name": "stdout",
     "output_type": "stream",
     "text": [
      "1 2 2\n"
     ]
    }
   ],
   "source": [
    "flag = False\n",
    "for h in range(1, 3501):\n",
    "    if flag:\n",
    "        break\n",
    "    for n in range(1, 3501):\n",
    "        x = N * h * n\n",
    "        y = 4 * h * n - N * (h + n)\n",
    "        if y > 0 and x % y == 0:\n",
    "            w = x // y\n",
    "            print(h, n, w)\n",
    "            flag = True\n",
    "            break"
   ]
  },
  {
   "cell_type": "code",
   "execution_count": null,
   "metadata": {},
   "outputs": [],
   "source": []
  },
  {
   "cell_type": "code",
   "execution_count": null,
   "metadata": {},
   "outputs": [],
   "source": []
  }
 ],
 "metadata": {
  "kernelspec": {
   "display_name": "Python 3",
   "language": "python",
   "name": "python3"
  },
  "language_info": {
   "codemirror_mode": {
    "name": "ipython",
    "version": 3
   },
   "file_extension": ".py",
   "mimetype": "text/x-python",
   "name": "python",
   "nbconvert_exporter": "python",
   "pygments_lexer": "ipython3",
   "version": "3.7.3"
  }
 },
 "nbformat": 4,
 "nbformat_minor": 4
}
