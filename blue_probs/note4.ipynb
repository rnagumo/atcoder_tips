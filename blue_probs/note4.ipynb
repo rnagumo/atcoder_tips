{
 "cells": [
  {
   "cell_type": "markdown",
   "metadata": {},
   "source": [
    "# ABC 39 - D\n",
    "\n",
    "https://atcoder.jp/contests/abc039/tasks/abc039_d"
   ]
  },
  {
   "cell_type": "code",
   "execution_count": 1,
   "metadata": {},
   "outputs": [
    {
     "name": "stdout",
     "output_type": "stream",
     "text": [
      "possible, #... .... .... ...#\n"
     ]
    }
   ],
   "source": [
    "H, W = 4, 4\n",
    "X = ['##..', '##..', '..##', '..##']\n",
    "\n",
    "print(\"possible, #... .... .... ...#\")"
   ]
  },
  {
   "cell_type": "code",
   "execution_count": 2,
   "metadata": {},
   "outputs": [],
   "source": [
    "ans = [[\"#\"] * W for _ in range(H)]\n",
    "for i in range(H):\n",
    "    for j in range(W):\n",
    "        if X[i][j] == \"#\":\n",
    "            continue\n",
    "        for u in range(-1, 2):\n",
    "            for v in range(-1, 2):\n",
    "                if not (0 <= i + u < H and 0 <= j + v < W):\n",
    "                    continue\n",
    "                \n",
    "                ans[i + u][j + v] = \".\""
   ]
  },
  {
   "cell_type": "code",
   "execution_count": 4,
   "metadata": {},
   "outputs": [],
   "source": [
    "recon = [[\".\"] * W for _ in range(H)]\n",
    "for i in range(H):\n",
    "    for j in range(W):\n",
    "        if ans[i][j] == \".\":\n",
    "            continue\n",
    "        for u in range(-1, 2):\n",
    "            for v in range(-1, 2):\n",
    "                if not (0 <= i + u < H and 0 <= j + v < W):\n",
    "                    continue\n",
    "                \n",
    "                recon[i + u][j + v] = \"#\""
   ]
  },
  {
   "cell_type": "code",
   "execution_count": 7,
   "metadata": {},
   "outputs": [
    {
     "name": "stdout",
     "output_type": "stream",
     "text": [
      "possible\n",
      "#...\n",
      "....\n",
      "....\n",
      "...#\n"
     ]
    }
   ],
   "source": [
    "flag = all(all(x == y for x, y in zip(a, b)) for a, b in zip(X, recon))\n",
    "if flag:\n",
    "    print(\"possible\")\n",
    "    for v in ans:\n",
    "        print(\"\".join(v))\n",
    "else:\n",
    "    print(\"impossible\")"
   ]
  },
  {
   "cell_type": "markdown",
   "metadata": {},
   "source": [
    "# ABC 31 - D\n",
    "\n",
    "https://atcoder.jp/contests/abc031/tasks/abc031_d"
   ]
  },
  {
   "cell_type": "code",
   "execution_count": 9,
   "metadata": {},
   "outputs": [
    {
     "name": "stdout",
     "output_type": "stream",
     "text": [
      "a aa aaa\n"
     ]
    }
   ],
   "source": [
    "K, N = 3, 4\n",
    "X = [['21', 'aaa'], ['12', 'aaa'], ['123', 'aaaaaa'], ['13', 'aaaa']]\n",
    "\n",
    "print(\"a aa aaa\")"
   ]
  },
  {
   "cell_type": "markdown",
   "metadata": {},
   "source": [
    "$O(3^K \\times N \\times \\sum |w|) \\sim 10^9$"
   ]
  },
  {
   "cell_type": "code",
   "execution_count": 69,
   "metadata": {},
   "outputs": [],
   "source": [
    "def dfs(x):\n",
    "    if len(x) == K:\n",
    "        d = {str(k + 1): v for k, v in enumerate(x)}\n",
    "        cand = {}\n",
    "        for k, s in X:\n",
    "            idx = 0\n",
    "            for n in k:\n",
    "                if n in cand:\n",
    "                    if cand[n] != s[idx:idx + d[n]]:\n",
    "                        return\n",
    "                else:\n",
    "                    cand[n] = s[idx:idx + d[n]]\n",
    "                idx += d[n]\n",
    "\n",
    "            if idx != len(s):\n",
    "                return\n",
    "\n",
    "        return cand\n",
    "\n",
    "    for i in range(1, 4):\n",
    "        x.append(i)\n",
    "        res = dfs(x)\n",
    "        x.pop()\n",
    "        if res:\n",
    "            return res"
   ]
  },
  {
   "cell_type": "code",
   "execution_count": 70,
   "metadata": {},
   "outputs": [
    {
     "name": "stdout",
     "output_type": "stream",
     "text": [
      "a\n",
      "aa\n",
      "aaa\n"
     ]
    }
   ],
   "source": [
    "ans = dfs([])\n",
    "for i in range(K):\n",
    "    print(ans[str(i + 1)])"
   ]
  },
  {
   "cell_type": "markdown",
   "metadata": {},
   "source": [
    "# ABC 30 - D\n",
    "\n",
    "https://atcoder.jp/contests/abc030/tasks/abc030_d"
   ]
  },
  {
   "cell_type": "code",
   "execution_count": 80,
   "metadata": {},
   "outputs": [
    {
     "name": "stdout",
     "output_type": "stream",
     "text": [
      "3\n"
     ]
    }
   ],
   "source": [
    "N, a = 6, 4\n",
    "k = 5\n",
    "X = [2, 3, 1, 2, 6, 5]\n",
    "\n",
    "print(3)"
   ]
  },
  {
   "cell_type": "code",
   "execution_count": 87,
   "metadata": {},
   "outputs": [
    {
     "name": "stdout",
     "output_type": "stream",
     "text": [
      "3\n"
     ]
    }
   ],
   "source": [
    "d = [0] * (N + 1)\n",
    "u = a\n",
    "for _ in range(N):\n",
    "    v = X[u - 1]\n",
    "    d[v] = d[u] + 1\n",
    "    if d[v] == k:\n",
    "        print(v)\n",
    "        break\n",
    "    u = v"
   ]
  },
  {
   "cell_type": "code",
   "execution_count": 88,
   "metadata": {},
   "outputs": [],
   "source": [
    "if k > N:\n",
    "    s_u = u\n",
    "    s_d = d[u]\n",
    "    for _ in range(N):\n",
    "        v = X[u - 1]\n",
    "        d[v] = d[u] + 1\n",
    "        u = v\n",
    "        if u == s_u:\n",
    "            break\n",
    "\n",
    "    rep = d[u] - s_d\n",
    "    res_k = (k - N) % rep\n",
    "    for _ in range(res_k):\n",
    "        u = X[u - 1]\n",
    "    print(u)"
   ]
  },
  {
   "cell_type": "markdown",
   "metadata": {},
   "source": [
    "# ABC 29 - D\n",
    "\n",
    "https://atcoder.jp/contests/abc029/tasks/abc029_d"
   ]
  },
  {
   "cell_type": "code",
   "execution_count": 119,
   "metadata": {},
   "outputs": [
    {
     "name": "stdout",
     "output_type": "stream",
     "text": [
      "5\n"
     ]
    }
   ],
   "source": [
    "N = 12\n",
    "\n",
    "print(5)"
   ]
  },
  {
   "cell_type": "markdown",
   "metadata": {},
   "source": [
    "#### 部分点解法"
   ]
  },
  {
   "cell_type": "code",
   "execution_count": 120,
   "metadata": {},
   "outputs": [],
   "source": [
    "def dfs(x, v):\n",
    "    if x > N:\n",
    "        return 0\n",
    "\n",
    "    res = v\n",
    "    for i in range(10):\n",
    "        res += dfs(x * 10 + i, v + int(i == 1))\n",
    "    return res"
   ]
  },
  {
   "cell_type": "code",
   "execution_count": 123,
   "metadata": {},
   "outputs": [
    {
     "name": "stdout",
     "output_type": "stream",
     "text": [
      "0\n"
     ]
    }
   ],
   "source": [
    "ans = 0\n",
    "for i in range(1, min(10, N)):\n",
    "    ans += dfs(i, int(i == 1))\n",
    "print(ans)"
   ]
  },
  {
   "cell_type": "markdown",
   "metadata": {},
   "source": [
    "#### 満点解法"
   ]
  },
  {
   "cell_type": "code",
   "execution_count": 1,
   "metadata": {},
   "outputs": [
    {
     "name": "stdout",
     "output_type": "stream",
     "text": [
      "5\n"
     ]
    }
   ],
   "source": [
    "N = \"12\"\n",
    "\n",
    "print(5)"
   ]
  },
  {
   "cell_type": "code",
   "execution_count": 4,
   "metadata": {},
   "outputs": [
    {
     "name": "stdout",
     "output_type": "stream",
     "text": [
      "5\n"
     ]
    }
   ],
   "source": [
    "v = int(N)\n",
    "ans = 0\n",
    "for i in range(len(N)):\n",
    "    p = 10 ** (i + 1)\n",
    "    x = v // p\n",
    "    y = v % p + 1\n",
    "    ans += x * (p // 10)\n",
    "    ans += max(0, min(p // 10, y - p // 10))\n",
    "\n",
    "print(ans)"
   ]
  },
  {
   "cell_type": "markdown",
   "metadata": {},
   "source": [
    "# ABC 28 - D\n",
    "\n",
    "https://atcoder.jp/contests/abc028/tasks/abc028_d"
   ]
  },
  {
   "cell_type": "code",
   "execution_count": 8,
   "metadata": {},
   "outputs": [
    {
     "name": "stdout",
     "output_type": "stream",
     "text": [
      "0.48148148148148145\n"
     ]
    }
   ],
   "source": [
    "N, K = 3, 2\n",
    "\n",
    "print(0.48148148148148148148)"
   ]
  },
  {
   "cell_type": "code",
   "execution_count": 7,
   "metadata": {},
   "outputs": [
    {
     "name": "stdout",
     "output_type": "stream",
     "text": [
      "0.48148148148148134\n"
     ]
    }
   ],
   "source": [
    "p = 1 + 3 * (N - 1) + 6 * (N - K) * (K - 1)\n",
    "print(p * pow(N, -1) ** 3)"
   ]
  },
  {
   "cell_type": "markdown",
   "metadata": {},
   "source": [
    "# ABC 24 - D\n",
    "\n",
    "https://atcoder.jp/contests/abc024/tasks/abc024_d"
   ]
  },
  {
   "cell_type": "code",
   "execution_count": 9,
   "metadata": {},
   "outputs": [
    {
     "name": "stdout",
     "output_type": "stream",
     "text": [
      "4 2\n"
     ]
    }
   ],
   "source": [
    "A, B, C = 15, 35, 21\n",
    "\n",
    "print(4, 2)"
   ]
  },
  {
   "cell_type": "code",
   "execution_count": 18,
   "metadata": {},
   "outputs": [
    {
     "name": "stdout",
     "output_type": "stream",
     "text": [
      "4 2\n"
     ]
    }
   ],
   "source": [
    "mod = 10 ** 9 + 7\n",
    "x0 = (B * C - A * C) % mod\n",
    "x1 = (B * C - A * B) % mod\n",
    "y = (A * C + A * B - B * C) % mod\n",
    "\n",
    "r = x0 * pow(y, mod - 2, mod) % mod\n",
    "c = x1 * pow(y, mod - 2, mod) % mod\n",
    "print(r, c)"
   ]
  },
  {
   "cell_type": "markdown",
   "metadata": {},
   "source": [
    "# ABC 13 - D\n",
    "\n",
    "https://atcoder.jp/contests/abc013/tasks/abc013_4"
   ]
  },
  {
   "cell_type": "code",
   "execution_count": 10,
   "metadata": {},
   "outputs": [
    {
     "name": "stdout",
     "output_type": "stream",
     "text": [
      "4 2 5 3 1\n"
     ]
    }
   ],
   "source": [
    "N, M, D = 5, 7, 1\n",
    "X = [1, 4, 3, 4, 2, 3, 1]\n",
    "\n",
    "print(4,2,5,3,1)"
   ]
  },
  {
   "cell_type": "code",
   "execution_count": 17,
   "metadata": {},
   "outputs": [],
   "source": [
    "# Destination\n",
    "dist = list(range(N + 1))\n",
    "for u in X:\n",
    "    dist[u], dist[u + 1] = dist[u + 1], dist[u]\n",
    "d = {v: k for k, v in enumerate(dist)}"
   ]
  },
  {
   "cell_type": "code",
   "execution_count": 41,
   "metadata": {},
   "outputs": [],
   "source": [
    "# Destination after D-step\n",
    "t = [[-1] * (N + 1) for _ in range(31)]\n",
    "t[0] = [d[i] for i in range(N + 1)]\n",
    "for k in range(1, 31):\n",
    "    for i in range(N + 1):\n",
    "        t[k][i] = t[k - 1][t[k - 1][i]]"
   ]
  },
  {
   "cell_type": "code",
   "execution_count": 44,
   "metadata": {},
   "outputs": [
    {
     "name": "stdout",
     "output_type": "stream",
     "text": [
      "4\n",
      "2\n",
      "5\n",
      "3\n",
      "1\n"
     ]
    }
   ],
   "source": [
    "# Simulate\n",
    "for i in range(1, N + 1):\n",
    "    u = i\n",
    "    for k in range(31):\n",
    "        if D >> k & 1:\n",
    "            u = t[k][u]\n",
    "    print(u)"
   ]
  },
  {
   "cell_type": "markdown",
   "metadata": {},
   "source": [
    "# ABC 11 - D\n",
    "\n",
    "https://atcoder.jp/contests/abc011/tasks/abc011_4"
   ]
  },
  {
   "cell_type": "code",
   "execution_count": 1,
   "metadata": {},
   "outputs": [
    {
     "name": "stdout",
     "output_type": "stream",
     "text": [
      "0.125\n"
     ]
    }
   ],
   "source": [
    "N, D, X, Y = 2, 10000000, 10000000, 10000000\n",
    "\n",
    "print(0.125)"
   ]
  },
  {
   "cell_type": "markdown",
   "metadata": {},
   "source": [
    "#### $N \\leq 8$ 深さ優先探索"
   ]
  },
  {
   "cell_type": "code",
   "execution_count": 11,
   "metadata": {},
   "outputs": [],
   "source": [
    "X = abs(X)\n",
    "Y = abs(Y)\n",
    "\n",
    "nx = X // D\n",
    "ny = Y // D\n",
    "res = N - nx - ny\n",
    "if X % D != 0 or Y % D != 0 or res % 2 != 0:\n",
    "    print(0.0)"
   ]
  },
  {
   "cell_type": "code",
   "execution_count": 56,
   "metadata": {},
   "outputs": [],
   "source": [
    "def dfs(x, cnt):\n",
    "    if cnt == N:\n",
    "        return x[0] == X and x[1] == Y\n",
    "    \n",
    "    res = 0\n",
    "    for y in [[0, D], [0, -D], [D, 0], [-D, 0]]:\n",
    "        x[0] += y[0]\n",
    "        x[1] += y[1]\n",
    "        res += dfs(x, cnt + 1)\n",
    "        x[0] -= y[0]\n",
    "        x[1] -= y[1]\n",
    "\n",
    "    return res"
   ]
  },
  {
   "cell_type": "code",
   "execution_count": 57,
   "metadata": {},
   "outputs": [
    {
     "name": "stdout",
     "output_type": "stream",
     "text": [
      "0.125\n"
     ]
    }
   ],
   "source": [
    "res = dfs([0, 0], 0)\n",
    "print(res * 0.25 ** N)"
   ]
  },
  {
   "cell_type": "markdown",
   "metadata": {},
   "source": [
    "#### $N \\leq 30$ メモ化再帰"
   ]
  },
  {
   "cell_type": "code",
   "execution_count": 84,
   "metadata": {},
   "outputs": [],
   "source": [
    "def dfs(cnt, x, y):\n",
    "    if memo[cnt][x][y] != -1:\n",
    "        return memo[cnt][x][y]\n",
    "    \n",
    "    if cnt == N:\n",
    "        memo[cnt][x][y] = int((x - N) * D == X and (y - N) * D == Y)\n",
    "        return memo[cnt][x][y]\n",
    "    \n",
    "    res = 0\n",
    "    for i, j in [(0, 1), (0, -1), (1, 0), (-1, 0)]:\n",
    "        res += dfs(cnt + 1, x + i, y + j)\n",
    "\n",
    "    memo[cnt][x][y] = res\n",
    "    return res"
   ]
  },
  {
   "cell_type": "code",
   "execution_count": 83,
   "metadata": {},
   "outputs": [
    {
     "name": "stdout",
     "output_type": "stream",
     "text": [
      "0.125\n"
     ]
    }
   ],
   "source": [
    "memo = [[[-1] * (2 * N + 1) for _ in range(2 * N + 1)] for _ in range(N + 1)]\n",
    "res = dfs(0, N, N)\n",
    "print(res * 0.25 ** N)"
   ]
  },
  {
   "cell_type": "markdown",
   "metadata": {},
   "source": [
    "#### $N \\leq 1000$: combで解析的に求める\n",
    "\n",
    "パスカルの三角形を応用して，予め確率を計算する．"
   ]
  },
  {
   "cell_type": "code",
   "execution_count": 22,
   "metadata": {},
   "outputs": [
    {
     "name": "stdout",
     "output_type": "stream",
     "text": [
      "0.018174648284912\n"
     ]
    }
   ],
   "source": [
    "N, D, X, Y = 11, 8562174, 25686522, 17124348\n",
    "\n",
    "print(0.018174648284912)"
   ]
  },
  {
   "cell_type": "code",
   "execution_count": 38,
   "metadata": {},
   "outputs": [],
   "source": [
    "# Pascal's triangle\n",
    "n = 1000\n",
    "comb = [[0.0] * (n + 1) for _ in range(n + 1)]\n",
    "for i in range(n + 1):\n",
    "    for j in range(n + 1):\n",
    "        if i == 0 and j == 0:\n",
    "            comb[i][j] = 1.0\n",
    "        elif j == 0:\n",
    "            comb[i][j] = comb[i - 1][j] / 2\n",
    "        else:\n",
    "            comb[i][j] = (comb[i - 1][j - 1] + comb[i - 1][j]) / 2"
   ]
  },
  {
   "cell_type": "code",
   "execution_count": 45,
   "metadata": {},
   "outputs": [
    {
     "name": "stdout",
     "output_type": "stream",
     "text": [
      "0.01817464828491211\n"
     ]
    }
   ],
   "source": [
    "if X % D != 0 or Y % D != 0:\n",
    "    print(0.0)\n",
    "\n",
    "nx = X // D\n",
    "ny = Y // D\n",
    "ans = 0\n",
    "for k in range(N + 1):\n",
    "    nr = (k + nx) // 2\n",
    "    nu = (N - k + ny) // 2\n",
    "    if nx + (nr - nx) * 2 == k and ny + (nu - ny) * 2 == N - k:\n",
    "        ans += comb[k][nr] * comb[N - k][nu] * comb[N][k]\n",
    "\n",
    "print(ans)"
   ]
  },
  {
   "cell_type": "code",
   "execution_count": null,
   "metadata": {},
   "outputs": [],
   "source": []
  }
 ],
 "metadata": {
  "kernelspec": {
   "display_name": "Python 3",
   "language": "python",
   "name": "python3"
  },
  "language_info": {
   "codemirror_mode": {
    "name": "ipython",
    "version": 3
   },
   "file_extension": ".py",
   "mimetype": "text/x-python",
   "name": "python",
   "nbconvert_exporter": "python",
   "pygments_lexer": "ipython3",
   "version": "3.7.3"
  }
 },
 "nbformat": 4,
 "nbformat_minor": 4
}
