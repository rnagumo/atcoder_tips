{
 "cells": [
  {
   "cell_type": "markdown",
   "metadata": {},
   "source": [
    "# ABC 39 - D\n",
    "\n",
    "https://atcoder.jp/contests/abc039/tasks/abc039_d"
   ]
  },
  {
   "cell_type": "code",
   "execution_count": 1,
   "metadata": {},
   "outputs": [
    {
     "name": "stdout",
     "output_type": "stream",
     "text": [
      "possible, #... .... .... ...#\n"
     ]
    }
   ],
   "source": [
    "H, W = 4, 4\n",
    "X = ['##..', '##..', '..##', '..##']\n",
    "\n",
    "print(\"possible, #... .... .... ...#\")"
   ]
  },
  {
   "cell_type": "code",
   "execution_count": 2,
   "metadata": {},
   "outputs": [],
   "source": [
    "ans = [[\"#\"] * W for _ in range(H)]\n",
    "for i in range(H):\n",
    "    for j in range(W):\n",
    "        if X[i][j] == \"#\":\n",
    "            continue\n",
    "        for u in range(-1, 2):\n",
    "            for v in range(-1, 2):\n",
    "                if not (0 <= i + u < H and 0 <= j + v < W):\n",
    "                    continue\n",
    "                \n",
    "                ans[i + u][j + v] = \".\""
   ]
  },
  {
   "cell_type": "code",
   "execution_count": 4,
   "metadata": {},
   "outputs": [],
   "source": [
    "recon = [[\".\"] * W for _ in range(H)]\n",
    "for i in range(H):\n",
    "    for j in range(W):\n",
    "        if ans[i][j] == \".\":\n",
    "            continue\n",
    "        for u in range(-1, 2):\n",
    "            for v in range(-1, 2):\n",
    "                if not (0 <= i + u < H and 0 <= j + v < W):\n",
    "                    continue\n",
    "                \n",
    "                recon[i + u][j + v] = \"#\""
   ]
  },
  {
   "cell_type": "code",
   "execution_count": 7,
   "metadata": {},
   "outputs": [
    {
     "name": "stdout",
     "output_type": "stream",
     "text": [
      "possible\n",
      "#...\n",
      "....\n",
      "....\n",
      "...#\n"
     ]
    }
   ],
   "source": [
    "flag = all(all(x == y for x, y in zip(a, b)) for a, b in zip(X, recon))\n",
    "if flag:\n",
    "    print(\"possible\")\n",
    "    for v in ans:\n",
    "        print(\"\".join(v))\n",
    "else:\n",
    "    print(\"impossible\")"
   ]
  },
  {
   "cell_type": "markdown",
   "metadata": {},
   "source": [
    "# ABC 31 - D\n",
    "\n",
    "https://atcoder.jp/contests/abc031/tasks/abc031_d"
   ]
  },
  {
   "cell_type": "code",
   "execution_count": 9,
   "metadata": {},
   "outputs": [
    {
     "name": "stdout",
     "output_type": "stream",
     "text": [
      "a aa aaa\n"
     ]
    }
   ],
   "source": [
    "K, N = 3, 4\n",
    "X = [['21', 'aaa'], ['12', 'aaa'], ['123', 'aaaaaa'], ['13', 'aaaa']]\n",
    "\n",
    "print(\"a aa aaa\")"
   ]
  },
  {
   "cell_type": "markdown",
   "metadata": {},
   "source": [
    "$O(3^K \\times N \\times \\sum |w|) \\sim 10^9$"
   ]
  },
  {
   "cell_type": "code",
   "execution_count": 69,
   "metadata": {},
   "outputs": [],
   "source": [
    "def dfs(x):\n",
    "    if len(x) == K:\n",
    "        d = {str(k + 1): v for k, v in enumerate(x)}\n",
    "        cand = {}\n",
    "        for k, s in X:\n",
    "            idx = 0\n",
    "            for n in k:\n",
    "                if n in cand:\n",
    "                    if cand[n] != s[idx:idx + d[n]]:\n",
    "                        return\n",
    "                else:\n",
    "                    cand[n] = s[idx:idx + d[n]]\n",
    "                idx += d[n]\n",
    "\n",
    "            if idx != len(s):\n",
    "                return\n",
    "\n",
    "        return cand\n",
    "\n",
    "    for i in range(1, 4):\n",
    "        x.append(i)\n",
    "        res = dfs(x)\n",
    "        x.pop()\n",
    "        if res:\n",
    "            return res"
   ]
  },
  {
   "cell_type": "code",
   "execution_count": 70,
   "metadata": {},
   "outputs": [
    {
     "name": "stdout",
     "output_type": "stream",
     "text": [
      "a\n",
      "aa\n",
      "aaa\n"
     ]
    }
   ],
   "source": [
    "ans = dfs([])\n",
    "for i in range(K):\n",
    "    print(ans[str(i + 1)])"
   ]
  },
  {
   "cell_type": "markdown",
   "metadata": {},
   "source": [
    "# ABC 30 - D\n",
    "\n",
    "https://atcoder.jp/contests/abc030/tasks/abc030_d"
   ]
  },
  {
   "cell_type": "code",
   "execution_count": 80,
   "metadata": {},
   "outputs": [
    {
     "name": "stdout",
     "output_type": "stream",
     "text": [
      "3\n"
     ]
    }
   ],
   "source": [
    "N, a = 6, 4\n",
    "k = 5\n",
    "X = [2, 3, 1, 2, 6, 5]\n",
    "\n",
    "print(3)"
   ]
  },
  {
   "cell_type": "code",
   "execution_count": 87,
   "metadata": {},
   "outputs": [
    {
     "name": "stdout",
     "output_type": "stream",
     "text": [
      "3\n"
     ]
    }
   ],
   "source": [
    "d = [0] * (N + 1)\n",
    "u = a\n",
    "for _ in range(N):\n",
    "    v = X[u - 1]\n",
    "    d[v] = d[u] + 1\n",
    "    if d[v] == k:\n",
    "        print(v)\n",
    "        break\n",
    "    u = v"
   ]
  },
  {
   "cell_type": "code",
   "execution_count": 88,
   "metadata": {},
   "outputs": [],
   "source": [
    "if k > N:\n",
    "    s_u = u\n",
    "    s_d = d[u]\n",
    "    for _ in range(N):\n",
    "        v = X[u - 1]\n",
    "        d[v] = d[u] + 1\n",
    "        u = v\n",
    "        if u == s_u:\n",
    "            break\n",
    "\n",
    "    rep = d[u] - s_d\n",
    "    res_k = (k - N) % rep\n",
    "    for _ in range(res_k):\n",
    "        u = X[u - 1]\n",
    "    print(u)"
   ]
  },
  {
   "cell_type": "markdown",
   "metadata": {},
   "source": [
    "# ABC 29 - D\n",
    "\n",
    "https://atcoder.jp/contests/abc029/tasks/abc029_d"
   ]
  },
  {
   "cell_type": "code",
   "execution_count": 89,
   "metadata": {},
   "outputs": [
    {
     "name": "stdout",
     "output_type": "stream",
     "text": [
      "5\n"
     ]
    }
   ],
   "source": [
    "N = 12\n",
    "\n",
    "print(5)"
   ]
  },
  {
   "cell_type": "code",
   "execution_count": null,
   "metadata": {},
   "outputs": [],
   "source": [
    "def dfs(x):\n",
    "    "
   ]
  },
  {
   "cell_type": "code",
   "execution_count": null,
   "metadata": {},
   "outputs": [],
   "source": []
  },
  {
   "cell_type": "code",
   "execution_count": null,
   "metadata": {},
   "outputs": [],
   "source": []
  }
 ],
 "metadata": {
  "kernelspec": {
   "display_name": "Python 3",
   "language": "python",
   "name": "python3"
  },
  "language_info": {
   "codemirror_mode": {
    "name": "ipython",
    "version": 3
   },
   "file_extension": ".py",
   "mimetype": "text/x-python",
   "name": "python",
   "nbconvert_exporter": "python",
   "pygments_lexer": "ipython3",
   "version": "3.7.3"
  }
 },
 "nbformat": 4,
 "nbformat_minor": 4
}
