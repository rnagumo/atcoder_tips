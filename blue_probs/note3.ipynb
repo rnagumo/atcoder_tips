{
 "cells": [
  {
   "cell_type": "markdown",
   "metadata": {},
   "source": [
    "# ABC 63 - D\n",
    "\n",
    "https://atcoder.jp/contests/abc063/tasks/arc075_b"
   ]
  },
  {
   "cell_type": "code",
   "execution_count": 1,
   "metadata": {},
   "outputs": [
    {
     "name": "stdout",
     "output_type": "stream",
     "text": [
      "2\n"
     ]
    }
   ],
   "source": [
    "N, A, B = 4, 5, 3\n",
    "X = [8, 7, 4, 2]\n",
    "\n",
    "print(2)"
   ]
  },
  {
   "cell_type": "code",
   "execution_count": 5,
   "metadata": {},
   "outputs": [
    {
     "name": "stdout",
     "output_type": "stream",
     "text": [
      "2\n"
     ]
    }
   ],
   "source": [
    "ub = 10 ** 15\n",
    "lb = 0\n",
    "while ub - lb > 1:\n",
    "    mid = (ub + lb) // 2\n",
    "    cnt = 0\n",
    "    for i in range(N):\n",
    "        if X[i] - B * mid > 0:\n",
    "            cnt += -(-(X[i] - B * mid) // (A - B))\n",
    "\n",
    "    if cnt > mid:\n",
    "        lb = mid\n",
    "    else:\n",
    "        ub = mid\n",
    "\n",
    "print(ub)"
   ]
  },
  {
   "cell_type": "markdown",
   "metadata": {},
   "source": [
    "# ABC 60 - D\n",
    "\n",
    "https://atcoder.jp/contests/abc060/tasks/arc073_b"
   ]
  },
  {
   "cell_type": "code",
   "execution_count": 1,
   "metadata": {},
   "outputs": [
    {
     "name": "stdout",
     "output_type": "stream",
     "text": [
      "11\n"
     ]
    }
   ],
   "source": [
    "N, W = 4, 6\n",
    "X = [[2, 1], [3, 4], [4, 10], [3, 4]]\n",
    "\n",
    "print(11)"
   ]
  },
  {
   "cell_type": "code",
   "execution_count": 17,
   "metadata": {},
   "outputs": [],
   "source": [
    "w0 = X[0][0]\n",
    "ctr = [[] for _ in range(4)]\n",
    "for w, v in X:\n",
    "    ctr[w - w0].append(v)\n",
    "\n",
    "for n in range(4):\n",
    "    values = sorted(ctr[n], reverse=True)\n",
    "    s = [0] * (len(values) + 1)\n",
    "    for i in range(len(values)):\n",
    "        s[i + 1] = s[i] + values[i]\n",
    "    ctr[n] = s"
   ]
  },
  {
   "cell_type": "code",
   "execution_count": 18,
   "metadata": {},
   "outputs": [
    {
     "name": "stdout",
     "output_type": "stream",
     "text": [
      "11\n"
     ]
    }
   ],
   "source": [
    "ans = 0\n",
    "for i in range(len(ctr[0])):\n",
    "    for j in range(len(ctr[1])):\n",
    "        for k in range(len(ctr[2])):\n",
    "            for l in range(len(ctr[3])):\n",
    "                tmp = ctr[0][i] + ctr[1][j] + ctr[2][k] + ctr[3][l]\n",
    "                w = w0 * i + (w0 + 1) * j + (w0 + 2) * k + (w0 + 3) * l\n",
    "                if w <= W:\n",
    "                    ans = max(ans, tmp)\n",
    "\n",
    "print(ans)"
   ]
  },
  {
   "cell_type": "markdown",
   "metadata": {},
   "source": [
    "# ABC 58 - D\n",
    "\n",
    "https://atcoder.jp/contests/abc058/tasks/arc071_b"
   ]
  },
  {
   "cell_type": "code",
   "execution_count": 1,
   "metadata": {},
   "outputs": [
    {
     "name": "stdout",
     "output_type": "stream",
     "text": [
      "60\n"
     ]
    }
   ],
   "source": [
    "N, M = 3, 3\n",
    "X = [1, 3, 4]\n",
    "Y = [1, 3, 6]\n",
    "\n",
    "print(60)"
   ]
  },
  {
   "cell_type": "code",
   "execution_count": 4,
   "metadata": {},
   "outputs": [
    {
     "name": "stdout",
     "output_type": "stream",
     "text": [
      "60\n"
     ]
    }
   ],
   "source": [
    "mod = 10 ** 9 + 7\n",
    "vx = sum((2 * (k + 1) - N - 1) * X[k] % mod for k in range(N)) % mod\n",
    "vy = sum((2 * (k + 1) - M - 1) * Y[k] % mod for k in range(M)) % mod\n",
    "print(vx * vy % mod)"
   ]
  },
  {
   "cell_type": "markdown",
   "metadata": {},
   "source": [
    "# ABC 57 - D\n",
    "\n",
    "https://atcoder.jp/contests/abc057/tasks/abc057_d"
   ]
  },
  {
   "cell_type": "code",
   "execution_count": 22,
   "metadata": {},
   "outputs": [
    {
     "name": "stdout",
     "output_type": "stream",
     "text": [
      "15.0 3\n"
     ]
    }
   ],
   "source": [
    "N, A, B = 4, 2, 3\n",
    "X = [10, 20, 10, 10]\n",
    "\n",
    "print(15.0, 3)"
   ]
  },
  {
   "cell_type": "code",
   "execution_count": 23,
   "metadata": {},
   "outputs": [],
   "source": [
    "from collections import Counter"
   ]
  },
  {
   "cell_type": "code",
   "execution_count": 33,
   "metadata": {},
   "outputs": [],
   "source": [
    "ctr = Counter(X)\n",
    "value = 0\n",
    "cnt = 0\n",
    "cand = []\n",
    "for i, (k, v) in enumerate(sorted(ctr.items(), reverse=True)):\n",
    "    if i == 0 and A <= v:\n",
    "        value = k * v\n",
    "        cnt = v\n",
    "        cand.append((k, v))\n",
    "        break\n",
    "\n",
    "    # Add\n",
    "    c = min(v, A - cnt)\n",
    "    value += k * c\n",
    "    cnt += c\n",
    "    cand.append((k, c))\n",
    "    if cnt == A:\n",
    "        break"
   ]
  },
  {
   "cell_type": "code",
   "execution_count": 39,
   "metadata": {},
   "outputs": [],
   "source": [
    "n = 50\n",
    "comb = [[0] * (n + 1) for _ in range(n + 1)]\n",
    "for i in range(n + 1):\n",
    "    for j in range(n + 1):\n",
    "        if j == 0 or j == i:\n",
    "            comb[i][j] = 1\n",
    "        else:\n",
    "            comb[i][j] = comb[i - 1][j - 1] + comb[i - 1][j]"
   ]
  },
  {
   "cell_type": "code",
   "execution_count": 41,
   "metadata": {},
   "outputs": [
    {
     "name": "stdout",
     "output_type": "stream",
     "text": [
      "15.0\n",
      "3\n"
     ]
    }
   ],
   "source": [
    "# Count combinations\n",
    "ans = 1\n",
    "if len(cand) == 1:\n",
    "    _, n = cand[0]\n",
    "    ans = 0\n",
    "    for k in range(A, min(v, B) + 1):\n",
    "        ans += comb[n][k]\n",
    "else:\n",
    "    ans = 1\n",
    "    for k, c in cand:\n",
    "        ans *= comb[ctr[k]][c]\n",
    "\n",
    "print(value / cnt)\n",
    "print(ans)"
   ]
  },
  {
   "cell_type": "markdown",
   "metadata": {},
   "source": [
    "# ABC 55 - D\n",
    "\n",
    "https://atcoder.jp/contests/abc055/tasks/arc069_b"
   ]
  },
  {
   "cell_type": "code",
   "execution_count": null,
   "metadata": {},
   "outputs": [],
   "source": []
  },
  {
   "cell_type": "code",
   "execution_count": null,
   "metadata": {},
   "outputs": [],
   "source": []
  },
  {
   "cell_type": "code",
   "execution_count": null,
   "metadata": {},
   "outputs": [],
   "source": []
  }
 ],
 "metadata": {
  "kernelspec": {
   "display_name": "Python 3",
   "language": "python",
   "name": "python3"
  },
  "language_info": {
   "codemirror_mode": {
    "name": "ipython",
    "version": 3
   },
   "file_extension": ".py",
   "mimetype": "text/x-python",
   "name": "python",
   "nbconvert_exporter": "python",
   "pygments_lexer": "ipython3",
   "version": "3.7.3"
  }
 },
 "nbformat": 4,
 "nbformat_minor": 4
}
