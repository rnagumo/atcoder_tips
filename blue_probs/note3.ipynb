{
 "cells": [
  {
   "cell_type": "markdown",
   "metadata": {},
   "source": [
    "# ABC 63 - D\n",
    "\n",
    "https://atcoder.jp/contests/abc063/tasks/arc075_b"
   ]
  },
  {
   "cell_type": "code",
   "execution_count": 1,
   "metadata": {},
   "outputs": [
    {
     "name": "stdout",
     "output_type": "stream",
     "text": [
      "2\n"
     ]
    }
   ],
   "source": [
    "N, A, B = 4, 5, 3\n",
    "X = [8, 7, 4, 2]\n",
    "\n",
    "print(2)"
   ]
  },
  {
   "cell_type": "code",
   "execution_count": 5,
   "metadata": {},
   "outputs": [
    {
     "name": "stdout",
     "output_type": "stream",
     "text": [
      "2\n"
     ]
    }
   ],
   "source": [
    "ub = 10 ** 15\n",
    "lb = 0\n",
    "while ub - lb > 1:\n",
    "    mid = (ub + lb) // 2\n",
    "    cnt = 0\n",
    "    for i in range(N):\n",
    "        if X[i] - B * mid > 0:\n",
    "            cnt += -(-(X[i] - B * mid) // (A - B))\n",
    "\n",
    "    if cnt > mid:\n",
    "        lb = mid\n",
    "    else:\n",
    "        ub = mid\n",
    "\n",
    "print(ub)"
   ]
  },
  {
   "cell_type": "markdown",
   "metadata": {},
   "source": [
    "# ABC 60 - D\n",
    "\n",
    "https://atcoder.jp/contests/abc060/tasks/arc073_b"
   ]
  },
  {
   "cell_type": "code",
   "execution_count": 1,
   "metadata": {},
   "outputs": [
    {
     "name": "stdout",
     "output_type": "stream",
     "text": [
      "11\n"
     ]
    }
   ],
   "source": [
    "N, W = 4, 6\n",
    "X = [[2, 1], [3, 4], [4, 10], [3, 4]]\n",
    "\n",
    "print(11)"
   ]
  },
  {
   "cell_type": "code",
   "execution_count": 17,
   "metadata": {},
   "outputs": [],
   "source": [
    "w0 = X[0][0]\n",
    "ctr = [[] for _ in range(4)]\n",
    "for w, v in X:\n",
    "    ctr[w - w0].append(v)\n",
    "\n",
    "for n in range(4):\n",
    "    values = sorted(ctr[n], reverse=True)\n",
    "    s = [0] * (len(values) + 1)\n",
    "    for i in range(len(values)):\n",
    "        s[i + 1] = s[i] + values[i]\n",
    "    ctr[n] = s"
   ]
  },
  {
   "cell_type": "code",
   "execution_count": 18,
   "metadata": {},
   "outputs": [
    {
     "name": "stdout",
     "output_type": "stream",
     "text": [
      "11\n"
     ]
    }
   ],
   "source": [
    "ans = 0\n",
    "for i in range(len(ctr[0])):\n",
    "    for j in range(len(ctr[1])):\n",
    "        for k in range(len(ctr[2])):\n",
    "            for l in range(len(ctr[3])):\n",
    "                tmp = ctr[0][i] + ctr[1][j] + ctr[2][k] + ctr[3][l]\n",
    "                w = w0 * i + (w0 + 1) * j + (w0 + 2) * k + (w0 + 3) * l\n",
    "                if w <= W:\n",
    "                    ans = max(ans, tmp)\n",
    "\n",
    "print(ans)"
   ]
  },
  {
   "cell_type": "markdown",
   "metadata": {},
   "source": [
    "# ABC 58 - D\n",
    "\n",
    "https://atcoder.jp/contests/abc058/tasks/arc071_b"
   ]
  },
  {
   "cell_type": "code",
   "execution_count": 1,
   "metadata": {},
   "outputs": [
    {
     "name": "stdout",
     "output_type": "stream",
     "text": [
      "60\n"
     ]
    }
   ],
   "source": [
    "N, M = 3, 3\n",
    "X = [1, 3, 4]\n",
    "Y = [1, 3, 6]\n",
    "\n",
    "print(60)"
   ]
  },
  {
   "cell_type": "code",
   "execution_count": 4,
   "metadata": {},
   "outputs": [
    {
     "name": "stdout",
     "output_type": "stream",
     "text": [
      "60\n"
     ]
    }
   ],
   "source": [
    "mod = 10 ** 9 + 7\n",
    "vx = sum((2 * (k + 1) - N - 1) * X[k] % mod for k in range(N)) % mod\n",
    "vy = sum((2 * (k + 1) - M - 1) * Y[k] % mod for k in range(M)) % mod\n",
    "print(vx * vy % mod)"
   ]
  },
  {
   "cell_type": "markdown",
   "metadata": {},
   "source": [
    "# ABC 57 - D\n",
    "\n",
    "https://atcoder.jp/contests/abc057/tasks/abc057_d"
   ]
  },
  {
   "cell_type": "code",
   "execution_count": 22,
   "metadata": {},
   "outputs": [
    {
     "name": "stdout",
     "output_type": "stream",
     "text": [
      "15.0 3\n"
     ]
    }
   ],
   "source": [
    "N, A, B = 4, 2, 3\n",
    "X = [10, 20, 10, 10]\n",
    "\n",
    "print(15.0, 3)"
   ]
  },
  {
   "cell_type": "code",
   "execution_count": 23,
   "metadata": {},
   "outputs": [],
   "source": [
    "from collections import Counter"
   ]
  },
  {
   "cell_type": "code",
   "execution_count": 33,
   "metadata": {},
   "outputs": [],
   "source": [
    "ctr = Counter(X)\n",
    "value = 0\n",
    "cnt = 0\n",
    "cand = []\n",
    "for i, (k, v) in enumerate(sorted(ctr.items(), reverse=True)):\n",
    "    if i == 0 and A <= v:\n",
    "        value = k * v\n",
    "        cnt = v\n",
    "        cand.append((k, v))\n",
    "        break\n",
    "\n",
    "    # Add\n",
    "    c = min(v, A - cnt)\n",
    "    value += k * c\n",
    "    cnt += c\n",
    "    cand.append((k, c))\n",
    "    if cnt == A:\n",
    "        break"
   ]
  },
  {
   "cell_type": "code",
   "execution_count": 39,
   "metadata": {},
   "outputs": [],
   "source": [
    "n = 50\n",
    "comb = [[0] * (n + 1) for _ in range(n + 1)]\n",
    "for i in range(n + 1):\n",
    "    for j in range(n + 1):\n",
    "        if j == 0 or j == i:\n",
    "            comb[i][j] = 1\n",
    "        else:\n",
    "            comb[i][j] = comb[i - 1][j - 1] + comb[i - 1][j]"
   ]
  },
  {
   "cell_type": "code",
   "execution_count": 41,
   "metadata": {},
   "outputs": [
    {
     "name": "stdout",
     "output_type": "stream",
     "text": [
      "15.0\n",
      "3\n"
     ]
    }
   ],
   "source": [
    "# Count combinations\n",
    "ans = 1\n",
    "if len(cand) == 1:\n",
    "    _, n = cand[0]\n",
    "    ans = 0\n",
    "    for k in range(A, min(v, B) + 1):\n",
    "        ans += comb[n][k]\n",
    "else:\n",
    "    ans = 1\n",
    "    for k, c in cand:\n",
    "        ans *= comb[ctr[k]][c]\n",
    "\n",
    "print(value / cnt)\n",
    "print(ans)"
   ]
  },
  {
   "cell_type": "markdown",
   "metadata": {},
   "source": [
    "# ABC 55 - D\n",
    "\n",
    "https://atcoder.jp/contests/abc055/tasks/arc069_b"
   ]
  },
  {
   "cell_type": "code",
   "execution_count": 1,
   "metadata": {},
   "outputs": [
    {
     "name": "stdout",
     "output_type": "stream",
     "text": [
      "SSSWWS\n"
     ]
    }
   ],
   "source": [
    "N = 6\n",
    "S = \"ooxoox\"\n",
    "\n",
    "print(\"SSSWWS\")"
   ]
  },
  {
   "cell_type": "code",
   "execution_count": 2,
   "metadata": {},
   "outputs": [
    {
     "name": "stdout",
     "output_type": "stream",
     "text": [
      "SSSWWS\n"
     ]
    }
   ],
   "source": [
    "for a in [\"SS\", \"SW\", \"WS\", \"WW\"]:\n",
    "    x = list(a)\n",
    "    for i in range(N - 2):\n",
    "        if S[i + 1] == \"o\":\n",
    "            if x[i + 1] == \"S\":\n",
    "                x.append(x[i])\n",
    "            else:\n",
    "                # x[i + 1] == \"W\"\n",
    "                if x[i] == \"S\":\n",
    "                    x.append(\"W\")\n",
    "                else:\n",
    "                    x.append(\"S\")\n",
    "        else:\n",
    "            # S[i + 1] == \"x\"\n",
    "            if x[i + 1] == \"S\":\n",
    "                if x[i] == \"S\":\n",
    "                    x.append(\"W\")\n",
    "                else:\n",
    "                    x.append(\"S\")\n",
    "            else:\n",
    "                x.append(x[i])\n",
    "\n",
    "    # Check\n",
    "    mask_n = (x[-1] == \"S\") and ((S[-1] == \"o\" and x[-2] == x[0]) \\\n",
    "                                 or (S[-1] == \"x\" and x[-2] != x[0]))\n",
    "    mask_n |= (x[-1] == \"W\") and ((S[-1] == \"o\" and x[-2] != x[0]) \\\n",
    "                                  or (S[-1] == \"x\" and x[-2] == x[0]))\n",
    "    \n",
    "    mask_1 = (x[0] == \"S\") and ((S[0] == \"o\" and x[-1] == x[1]) \\\n",
    "                                or (S[0] == \"x\" and x[-1] != x[1]))\n",
    "    mask_1 |= (x[0] == \"W\") and ((S[0] == \"o\" and x[-1] != x[1]) \\\n",
    "                                 or (S[0] == \"x\" and x[-1] == x[1]))\n",
    "\n",
    "    if mask_n and mask_1:\n",
    "        print(\"\".join(x))\n",
    "        break\n",
    "else:\n",
    "    print(-1)"
   ]
  },
  {
   "cell_type": "markdown",
   "metadata": {},
   "source": [
    "# ABC 54 - D\n",
    "\n",
    "https://atcoder.jp/contests/abc054/tasks/abc054_d"
   ]
  },
  {
   "cell_type": "code",
   "execution_count": 1,
   "metadata": {},
   "outputs": [
    {
     "name": "stdout",
     "output_type": "stream",
     "text": [
      "3\n"
     ]
    }
   ],
   "source": [
    "N, A, B = 3, 1, 1\n",
    "X = [[1, 2, 1], [2, 1, 2], [3, 3, 10]]\n",
    "\n",
    "print(3)"
   ]
  },
  {
   "cell_type": "code",
   "execution_count": 6,
   "metadata": {},
   "outputs": [
    {
     "name": "stdout",
     "output_type": "stream",
     "text": [
      "3\n"
     ]
    }
   ],
   "source": [
    "inf = 10 ** 9 + 7\n",
    "dp = [[[inf] * 401 for _ in range(401)] for _ in range(N + 1)]\n",
    "dp[0][0][0] = 0\n",
    "\n",
    "# DP\n",
    "for i in range(N):\n",
    "    for j in range(401):\n",
    "        for k in range(401):\n",
    "            if j >= X[i][0] and k >= X[i][1]:\n",
    "                dp[i + 1][j][k] = min(dp[i + 1][j][k], dp[i][j][k],\n",
    "                                      dp[i][j - X[i][0]][k - X[i][1]] + X[i][2])\n",
    "            else:\n",
    "                dp[i + 1][j][k] = min(dp[i + 1][j][k], dp[i][j][k])\n",
    "\n",
    "# Extract\n",
    "ans = inf\n",
    "for j in range(1, 401):\n",
    "    for k in range(1, 401):\n",
    "        if j * B == k * A:\n",
    "            ans = min(ans, dp[-1][j][k])\n",
    "\n",
    "if ans < inf:\n",
    "    print(ans)\n",
    "else:\n",
    "    print(-1)"
   ]
  },
  {
   "cell_type": "markdown",
   "metadata": {},
   "source": [
    "# ABC 53 - D\n",
    "\n",
    "https://atcoder.jp/contests/abc053/tasks/arc068_b"
   ]
  },
  {
   "cell_type": "code",
   "execution_count": 7,
   "metadata": {},
   "outputs": [
    {
     "name": "stdout",
     "output_type": "stream",
     "text": [
      "3\n"
     ]
    }
   ],
   "source": [
    "N = 5\n",
    "A = [1, 2, 1, 3, 7]\n",
    "\n",
    "print(3)"
   ]
  },
  {
   "cell_type": "code",
   "execution_count": 12,
   "metadata": {},
   "outputs": [],
   "source": [
    "from collections import Counter"
   ]
  },
  {
   "cell_type": "code",
   "execution_count": 17,
   "metadata": {},
   "outputs": [
    {
     "name": "stdout",
     "output_type": "stream",
     "text": [
      "3\n"
     ]
    }
   ],
   "source": [
    "ctr = Counter(A)\n",
    "\n",
    "c0 = 0\n",
    "c1 = 0\n",
    "for v in ctr.values():\n",
    "    if v % 2 == 0:\n",
    "        c0 += 1\n",
    "    else:\n",
    "        c1 += 1\n",
    "\n",
    "print(c1 + c0 - c0 % 2)"
   ]
  },
  {
   "cell_type": "markdown",
   "metadata": {},
   "source": [
    "# ABC 51 - D\n",
    "\n",
    "https://atcoder.jp/contests/abc051/tasks/abc051_d"
   ]
  },
  {
   "cell_type": "code",
   "execution_count": 1,
   "metadata": {},
   "outputs": [
    {
     "name": "stdout",
     "output_type": "stream",
     "text": [
      "1\n"
     ]
    }
   ],
   "source": [
    "N, M = 3, 3\n",
    "X = [[1, 2, 1], [1, 3, 1], [2, 3, 3]]\n",
    "\n",
    "print(1)"
   ]
  },
  {
   "cell_type": "code",
   "execution_count": 2,
   "metadata": {},
   "outputs": [],
   "source": [
    "graph = [[] for _ in range(N)]\n",
    "for a, b, c in X:\n",
    "    graph[a - 1].append((b - 1, c))\n",
    "    graph[b - 1].append((a - 1, c))"
   ]
  },
  {
   "cell_type": "code",
   "execution_count": 3,
   "metadata": {},
   "outputs": [],
   "source": [
    "from heapq import heappop, heappush"
   ]
  },
  {
   "cell_type": "code",
   "execution_count": 11,
   "metadata": {},
   "outputs": [],
   "source": [
    "def dijkstra(s):\n",
    "    inf = 10 ** 9 + 7\n",
    "    d = [inf] * N\n",
    "    d[s] = 0\n",
    "    pq = []\n",
    "    heappush(pq, (0, s))\n",
    "    while pq:\n",
    "        _, u = heappop(pq)\n",
    "        for v, c in graph[u]:\n",
    "            if d[v] > d[u] + c:\n",
    "                d[v] = d[u] + c\n",
    "                heappush(pq, (d[v], v))\n",
    "\n",
    "    return d"
   ]
  },
  {
   "cell_type": "code",
   "execution_count": 17,
   "metadata": {},
   "outputs": [
    {
     "name": "stdout",
     "output_type": "stream",
     "text": [
      "1\n"
     ]
    }
   ],
   "source": [
    "dist = [dijkstra(s) for s in range(N)]\n",
    "ans = [False] * M\n",
    "for n, (a, b, c) in enumerate(X):\n",
    "    for i in range(N):\n",
    "        for j in range(N):\n",
    "            ans[n] |= dist[i][j] == dist[i][a - 1] + c + dist[j][b - 1]\n",
    "\n",
    "print(M - sum(ans))"
   ]
  },
  {
   "cell_type": "markdown",
   "metadata": {},
   "source": [
    "# ABC 48 - D\n",
    "\n",
    "https://atcoder.jp/contests/abc048/tasks/arc064_b"
   ]
  },
  {
   "cell_type": "code",
   "execution_count": 23,
   "metadata": {},
   "outputs": [
    {
     "name": "stdout",
     "output_type": "stream",
     "text": [
      "Second\n"
     ]
    }
   ],
   "source": [
    "s = \"aba\"\n",
    "\n",
    "print(\"Second\")"
   ]
  },
  {
   "cell_type": "code",
   "execution_count": 30,
   "metadata": {},
   "outputs": [
    {
     "name": "stdout",
     "output_type": "stream",
     "text": [
      "Second\n"
     ]
    }
   ],
   "source": [
    "if (len(s) % 2 == 0) ^ (s[0] == s[-1]):\n",
    "    print(\"Second\")\n",
    "else:\n",
    "    print(\"First\")"
   ]
  },
  {
   "cell_type": "markdown",
   "metadata": {},
   "source": [
    "# ABC 47 - D\n",
    "\n",
    "https://atcoder.jp/contests/abc047/tasks/arc063_b"
   ]
  },
  {
   "cell_type": "code",
   "execution_count": 31,
   "metadata": {},
   "outputs": [
    {
     "name": "stdout",
     "output_type": "stream",
     "text": [
      "1\n"
     ]
    }
   ],
   "source": [
    "N, T = 3, 2\n",
    "A = [100, 50, 200]\n",
    "\n",
    "print(1)"
   ]
  },
  {
   "cell_type": "code",
   "execution_count": 33,
   "metadata": {},
   "outputs": [],
   "source": [
    "from collections import defaultdict"
   ]
  },
  {
   "cell_type": "code",
   "execution_count": 46,
   "metadata": {},
   "outputs": [
    {
     "name": "stdout",
     "output_type": "stream",
     "text": [
      "2\n"
     ]
    }
   ],
   "source": [
    "ctr = defaultdict(int)\n",
    "m = 10 ** 9 + 7\n",
    "for i in range(N):\n",
    "    m = min(m, A[i])\n",
    "    ctr[A[i] - m] += 1\n",
    "\n",
    "print(ctr[max(ctr)])"
   ]
  },
  {
   "cell_type": "markdown",
   "metadata": {},
   "source": [
    "# ABC 46 - D\n",
    "\n",
    "https://atcoder.jp/contests/abc046/tasks/arc062_b"
   ]
  },
  {
   "cell_type": "code",
   "execution_count": 47,
   "metadata": {},
   "outputs": [
    {
     "name": "stdout",
     "output_type": "stream",
     "text": [
      "0\n"
     ]
    }
   ],
   "source": [
    "s = \"gpg\"\n",
    "\n",
    "print(0)"
   ]
  },
  {
   "cell_type": "code",
   "execution_count": 48,
   "metadata": {},
   "outputs": [
    {
     "name": "stdout",
     "output_type": "stream",
     "text": [
      "0\n"
     ]
    }
   ],
   "source": [
    "ctr = {\"g\": 0, \"p\": 0}\n",
    "ans = 0\n",
    "for i in range(len(s)):\n",
    "    if s[i] == \"g\":\n",
    "        if ctr[\"p\"] < ctr[\"g\"]:\n",
    "            ctr[\"p\"] += 1\n",
    "            ans += 1\n",
    "        else:\n",
    "            ctr[\"g\"] += 1\n",
    "    else:\n",
    "        # s[i] == \"p\"\n",
    "        if ctr[\"p\"] < ctr[\"g\"]:\n",
    "            ctr[\"p\"] += 1\n",
    "        else:\n",
    "            ctr[\"g\"] += 1\n",
    "            ans -= 1\n",
    "            \n",
    "print(ans)"
   ]
  },
  {
   "cell_type": "markdown",
   "metadata": {},
   "source": [
    "# ABC 45 - D\n",
    "\n",
    "https://atcoder.jp/contests/abc045/tasks/arc061_b"
   ]
  },
  {
   "cell_type": "code",
   "execution_count": 49,
   "metadata": {},
   "outputs": [
    {
     "name": "stdout",
     "output_type": "stream",
     "text": [
      "0 0 0 2 4 0 0 0 0 0\n"
     ]
    }
   ],
   "source": [
    "H, W, N = 4, 5, 8\n",
    "X = [[1, 1], [1, 4], [1, 5], [2, 3], [3, 1], [3, 2], [3, 4], [4, 4]]\n",
    "\n",
    "print(0,0,0,2,4,0,0,0,0,0)"
   ]
  },
  {
   "cell_type": "code",
   "execution_count": 54,
   "metadata": {},
   "outputs": [],
   "source": [
    "from collections import defaultdict, Counter"
   ]
  },
  {
   "cell_type": "code",
   "execution_count": 60,
   "metadata": {},
   "outputs": [
    {
     "name": "stdout",
     "output_type": "stream",
     "text": [
      "0\n",
      "0\n",
      "0\n",
      "2\n",
      "4\n",
      "0\n",
      "0\n",
      "0\n",
      "0\n",
      "0\n"
     ]
    }
   ],
   "source": [
    "ctr = defaultdict(int)\n",
    "for a, b in X:\n",
    "    for k in range(3):\n",
    "        for l in range(3):\n",
    "            if 1 <= a - k <= H - 2 and 1 <= b - l <= W - 2:\n",
    "                ctr[(a - k, b - l)] += 1\n",
    "\n",
    "d = Counter(ctr.values())\n",
    "for i in range(10):\n",
    "    if i == 0:\n",
    "        print((H - 2) * (W - 2) - sum(d.values()))\n",
    "    else:\n",
    "        print(d[i])"
   ]
  },
  {
   "cell_type": "markdown",
   "metadata": {},
   "source": [
    "# ABC 43 - D\n",
    "\n",
    "https://atcoder.jp/contests/abc043/tasks/arc059_b"
   ]
  },
  {
   "cell_type": "code",
   "execution_count": 61,
   "metadata": {},
   "outputs": [
    {
     "name": "stdout",
     "output_type": "stream",
     "text": [
      "2 5\n"
     ]
    }
   ],
   "source": [
    "s = \"needed\"\n",
    "\n",
    "print(2, 5)"
   ]
  },
  {
   "cell_type": "code",
   "execution_count": 76,
   "metadata": {},
   "outputs": [
    {
     "name": "stdout",
     "output_type": "stream",
     "text": [
      "2 3\n"
     ]
    }
   ],
   "source": [
    "for i in range(len(s) - 1):\n",
    "    if s[i] == s[i + 1]:\n",
    "        print(i + 1, i + 2)\n",
    "        break\n",
    " \n",
    "    if i < len(s) - 2 and s[i] == s[i + 2]:\n",
    "        print(i + 1, i + 3)\n",
    "        break\n",
    "else:\n",
    "    print(-1, -1)"
   ]
  },
  {
   "cell_type": "markdown",
   "metadata": {},
   "source": [
    "# ABC 42 - D\n",
    "\n",
    "https://atcoder.jp/contests/abc042/tasks/arc058_b"
   ]
  },
  {
   "cell_type": "code",
   "execution_count": 52,
   "metadata": {},
   "outputs": [
    {
     "name": "stdout",
     "output_type": "stream",
     "text": [
      "2\n"
     ]
    }
   ],
   "source": [
    "H, W, A, B = 2, 3, 1, 1\n",
    "\n",
    "print(2)"
   ]
  },
  {
   "cell_type": "code",
   "execution_count": 56,
   "metadata": {},
   "outputs": [],
   "source": [
    "H, W, A, B = 4, 4, 2, 2"
   ]
  },
  {
   "cell_type": "code",
   "execution_count": 45,
   "metadata": {},
   "outputs": [],
   "source": [
    "MAX = 2 * 10 ** 5 + 1\n",
    "MOD = 10 ** 9 + 7\n",
    "\n",
    "# Factorial\n",
    "fac = [0] * (MAX + 1)\n",
    "fac[0] = 1\n",
    "fac[1] = 1\n",
    "for i in range(2, MAX + 1):\n",
    "    fac[i] = fac[i - 1] * i % MOD\n",
    "    \n",
    "# Inverse factorial\n",
    "finv = [0] * (MAX + 1)\n",
    "finv[MAX] = pow(fac[MAX], MOD - 2, MOD)\n",
    "for i in reversed(range(1, MAX + 1)):\n",
    "    finv[i - 1] = finv[i] * i % MOD"
   ]
  },
  {
   "cell_type": "code",
   "execution_count": 46,
   "metadata": {},
   "outputs": [],
   "source": [
    "def comb(a, b):\n",
    "    return fac[a + b] * finv[a] * finv[b]"
   ]
  },
  {
   "cell_type": "code",
   "execution_count": 57,
   "metadata": {},
   "outputs": [
    {
     "name": "stdout",
     "output_type": "stream",
     "text": [
      "10\n"
     ]
    }
   ],
   "source": [
    "ans = 0\n",
    "for i in range(B, W):\n",
    "    ans += comb(i, H - A - 1) * comb(W - i - 1, A - 1) % MOD\n",
    "    ans %= MOD\n",
    "\n",
    "print(ans)"
   ]
  },
  {
   "cell_type": "markdown",
   "metadata": {},
   "source": [
    "# ABC 40 - D\n",
    "\n",
    "https://atcoder.jp/contests/abc040/tasks/abc040_d"
   ]
  },
  {
   "cell_type": "code",
   "execution_count": 3,
   "metadata": {},
   "outputs": [
    {
     "name": "stdout",
     "output_type": "stream",
     "text": [
      "1 3 5\n"
     ]
    }
   ],
   "source": [
    "N, M = 5, 4\n",
    "X = [[1, 2, 2000], [2, 3, 2004], [3, 4, 1999], [4, 5, 2001]]\n",
    "Q = 3\n",
    "Y = [[1, 2000], [1, 1999], [3, 1995]]\n",
    "\n",
    "print(1,3,5)"
   ]
  },
  {
   "cell_type": "code",
   "execution_count": 20,
   "metadata": {},
   "outputs": [],
   "source": [
    "class WeightedUnionFind:\n",
    "    def __init__(self, n):\n",
    "        self.par = list(range(n))\n",
    "        self.rank = [1] * n\n",
    "\n",
    "    def find(self, x):\n",
    "        if self.par[x] == x:\n",
    "            return x\n",
    "        else:\n",
    "            y = self.find(self.par[x])\n",
    "            self.par[x] = y\n",
    "            return y\n",
    "\n",
    "    def unite(self, x, y):\n",
    "        px = self.find(x)\n",
    "        py = self.find(y)\n",
    "        \n",
    "        if px == py:\n",
    "            return True\n",
    "        \n",
    "        if self.rank[px] < self.rank[py]:\n",
    "            self.par[px] = py\n",
    "            self.rank[py] += self.rank[px]\n",
    "        else:\n",
    "            self.par[py] = px\n",
    "            self.rank[px] += self.rank[py]\n",
    "\n",
    "    def __getitem__(self, i):\n",
    "        return self.rank[self.find(i)]"
   ]
  },
  {
   "cell_type": "code",
   "execution_count": 17,
   "metadata": {},
   "outputs": [],
   "source": [
    "q = []\n",
    "for a, b, y in X:\n",
    "    q.append((y, 0, a - 1, b - 1))\n",
    "\n",
    "for i, (v, w) in enumerate(Y):\n",
    "    q.append((w, 1, i, v - 1))\n",
    "\n",
    "q.sort(reverse=True)"
   ]
  },
  {
   "cell_type": "code",
   "execution_count": 21,
   "metadata": {},
   "outputs": [
    {
     "name": "stdout",
     "output_type": "stream",
     "text": [
      "1\n",
      "3\n",
      "5\n"
     ]
    }
   ],
   "source": [
    "ans = [0] * Q\n",
    "t = WeightedUnionFind(N)\n",
    "for _, c, i, j in q:\n",
    "    if c:\n",
    "        ans[i] = t[j]\n",
    "    else:\n",
    "        t.unite(i, j)\n",
    "\n",
    "print(*ans, sep=\"\\n\")"
   ]
  },
  {
   "cell_type": "code",
   "execution_count": null,
   "metadata": {},
   "outputs": [],
   "source": []
  },
  {
   "cell_type": "code",
   "execution_count": null,
   "metadata": {},
   "outputs": [],
   "source": []
  },
  {
   "cell_type": "code",
   "execution_count": null,
   "metadata": {},
   "outputs": [],
   "source": []
  }
 ],
 "metadata": {
  "kernelspec": {
   "display_name": "Python 3",
   "language": "python",
   "name": "python3"
  },
  "language_info": {
   "codemirror_mode": {
    "name": "ipython",
    "version": 3
   },
   "file_extension": ".py",
   "mimetype": "text/x-python",
   "name": "python",
   "nbconvert_exporter": "python",
   "pygments_lexer": "ipython3",
   "version": "3.7.3"
  }
 },
 "nbformat": 4,
 "nbformat_minor": 4
}
