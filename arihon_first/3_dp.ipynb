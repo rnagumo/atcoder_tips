{
 "cells": [
  {
   "cell_type": "markdown",
   "metadata": {},
   "source": [
    "# AOJ DPL_1_B\n",
    "\n",
    "http://judge.u-aizu.ac.jp/onlinejudge/description.jsp?id=DPL_1_B&lang=jp"
   ]
  },
  {
   "cell_type": "code",
   "execution_count": 8,
   "metadata": {},
   "outputs": [
    {
     "name": "stdout",
     "output_type": "stream",
     "text": [
      "ans: 13\n"
     ]
    }
   ],
   "source": [
    "N, W = 4, 5\n",
    "v = [4, 5, 2, 8]\n",
    "w = [2, 2, 1, 3]\n",
    "\n",
    "print('ans: 13')"
   ]
  },
  {
   "cell_type": "code",
   "execution_count": 13,
   "metadata": {},
   "outputs": [
    {
     "name": "stdout",
     "output_type": "stream",
     "text": [
      "13\n"
     ]
    }
   ],
   "source": [
    "dp =[[0] * (W + 1) for _ in range(N + 1)]\n",
    "\n",
    "for i in range(N):\n",
    "    for j in range(W + 1):\n",
    "        if j < w[i]:\n",
    "            dp[i + 1][j] = dp[i][j]\n",
    "        elif j >= w[i]:\n",
    "            dp[i + 1][j] = max(dp[i][j], dp[i][j - w[i]] + v[i])\n",
    "            \n",
    "print(dp[-1][-1])"
   ]
  },
  {
   "cell_type": "code",
   "execution_count": 14,
   "metadata": {},
   "outputs": [
    {
     "data": {
      "text/plain": [
       "[[0, 0, 0, 0, 0, 0],\n",
       " [0, 0, 4, 4, 4, 4],\n",
       " [0, 0, 5, 5, 9, 9],\n",
       " [0, 2, 5, 7, 9, 11],\n",
       " [0, 2, 5, 8, 10, 13]]"
      ]
     },
     "execution_count": 14,
     "metadata": {},
     "output_type": "execute_result"
    }
   ],
   "source": [
    "dp"
   ]
  },
  {
   "cell_type": "markdown",
   "metadata": {},
   "source": [
    "# ABC 15 - D\n",
    "\n",
    "https://atcoder.jp/contests/abc015/tasks/abc015_4"
   ]
  },
  {
   "cell_type": "code",
   "execution_count": 26,
   "metadata": {},
   "outputs": [
    {
     "name": "stdout",
     "output_type": "stream",
     "text": [
      "ans: 140\n"
     ]
    }
   ],
   "source": [
    "W = 10\n",
    "N, K = 3, 2\n",
    "A = [4, 3, 6]\n",
    "B = [20, 40, 100]\n",
    "\n",
    "print('ans: 140')"
   ]
  },
  {
   "cell_type": "code",
   "execution_count": 36,
   "metadata": {},
   "outputs": [
    {
     "name": "stdout",
     "output_type": "stream",
     "text": [
      "ans: 210\n"
     ]
    }
   ],
   "source": [
    "W = 22\n",
    "N, K = 5, 3\n",
    "A = [5, 8, 3, 4, 6]\n",
    "B = [40, 50, 60, 70, 80]\n",
    "\n",
    "print('ans: 210')"
   ]
  },
  {
   "cell_type": "markdown",
   "metadata": {},
   "source": [
    "#### これでは，一部TLE, MLE"
   ]
  },
  {
   "cell_type": "code",
   "execution_count": 59,
   "metadata": {},
   "outputs": [
    {
     "name": "stdout",
     "output_type": "stream",
     "text": [
      "210\n"
     ]
    }
   ],
   "source": [
    "dp = [[[0] * (N + 1) for _ in range(K + 1)] for _ in range(W)]\n",
    "for i in range(W):\n",
    "    for j in range(K):\n",
    "        for k in range(N):\n",
    "            if i < A[k]:\n",
    "                dp[i][j + 1][k + 1] = dp[i][j][k]\n",
    "            else:\n",
    "                dp[i][j + 1][k + 1] = max(dp[i][j][k], \n",
    "                                          dp[i - A[k]][j][k] + B[k])\n",
    "            \n",
    "print(dp[-1][-1][-1])"
   ]
  },
  {
   "cell_type": "code",
   "execution_count": 60,
   "metadata": {},
   "outputs": [
    {
     "data": {
      "text/plain": [
       "[[[0, 0, 0, 0, 0, 0],\n",
       "  [0, 0, 0, 0, 0, 0],\n",
       "  [0, 0, 0, 0, 0, 0],\n",
       "  [0, 0, 0, 0, 0, 0]],\n",
       " [[0, 0, 0, 0, 0, 0],\n",
       "  [0, 0, 0, 0, 0, 0],\n",
       "  [0, 0, 0, 0, 0, 0],\n",
       "  [0, 0, 0, 0, 0, 0]],\n",
       " [[0, 0, 0, 0, 0, 0],\n",
       "  [0, 0, 0, 0, 0, 0],\n",
       "  [0, 0, 0, 0, 0, 0],\n",
       "  [0, 0, 0, 0, 0, 0]],\n",
       " [[0, 0, 0, 0, 0, 0],\n",
       "  [0, 0, 0, 60, 0, 0],\n",
       "  [0, 0, 0, 60, 60, 0],\n",
       "  [0, 0, 0, 60, 60, 60]],\n",
       " [[0, 0, 0, 0, 0, 0],\n",
       "  [0, 0, 0, 60, 70, 0],\n",
       "  [0, 0, 0, 60, 70, 70],\n",
       "  [0, 0, 0, 60, 70, 70]],\n",
       " [[0, 0, 0, 0, 0, 0],\n",
       "  [0, 40, 0, 60, 70, 0],\n",
       "  [0, 40, 40, 60, 70, 70],\n",
       "  [0, 40, 40, 60, 70, 70]],\n",
       " [[0, 0, 0, 0, 0, 0],\n",
       "  [0, 40, 0, 60, 70, 80],\n",
       "  [0, 40, 40, 60, 70, 80],\n",
       "  [0, 40, 40, 60, 70, 80]],\n",
       " [[0, 0, 0, 0, 0, 0],\n",
       "  [0, 40, 0, 60, 70, 80],\n",
       "  [0, 40, 40, 60, 130, 80],\n",
       "  [0, 40, 40, 60, 130, 130]],\n",
       " [[0, 0, 0, 0, 0, 0],\n",
       "  [0, 40, 50, 60, 70, 80],\n",
       "  [0, 40, 50, 60, 130, 80],\n",
       "  [0, 40, 50, 100, 130, 130]],\n",
       " [[0, 0, 0, 0, 0, 0],\n",
       "  [0, 40, 50, 60, 70, 80],\n",
       "  [0, 40, 50, 60, 130, 80],\n",
       "  [0, 40, 50, 100, 130, 140]],\n",
       " [[0, 0, 0, 0, 0, 0],\n",
       "  [0, 40, 50, 60, 70, 80],\n",
       "  [0, 40, 50, 60, 130, 150],\n",
       "  [0, 40, 50, 100, 130, 150]],\n",
       " [[0, 0, 0, 0, 0, 0],\n",
       "  [0, 40, 50, 60, 70, 80],\n",
       "  [0, 40, 50, 110, 130, 150],\n",
       "  [0, 40, 50, 110, 130, 150]],\n",
       " [[0, 0, 0, 0, 0, 0],\n",
       "  [0, 40, 50, 60, 70, 80],\n",
       "  [0, 40, 50, 110, 130, 150],\n",
       "  [0, 40, 50, 110, 130, 150]],\n",
       " [[0, 0, 0, 0, 0, 0],\n",
       "  [0, 40, 50, 60, 70, 80],\n",
       "  [0, 40, 90, 110, 130, 150],\n",
       "  [0, 40, 90, 110, 130, 210]],\n",
       " [[0, 0, 0, 0, 0, 0],\n",
       "  [0, 40, 50, 60, 70, 80],\n",
       "  [0, 40, 90, 110, 130, 150],\n",
       "  [0, 40, 90, 110, 130, 210]],\n",
       " [[0, 0, 0, 0, 0, 0],\n",
       "  [0, 40, 50, 60, 70, 80],\n",
       "  [0, 40, 90, 110, 130, 150],\n",
       "  [0, 40, 90, 110, 180, 210]],\n",
       " [[0, 0, 0, 0, 0, 0],\n",
       "  [0, 40, 50, 60, 70, 80],\n",
       "  [0, 40, 90, 110, 130, 150],\n",
       "  [0, 40, 90, 150, 180, 210]],\n",
       " [[0, 0, 0, 0, 0, 0],\n",
       "  [0, 40, 50, 60, 70, 80],\n",
       "  [0, 40, 90, 110, 130, 150],\n",
       "  [0, 40, 90, 150, 180, 210]],\n",
       " [[0, 0, 0, 0, 0, 0],\n",
       "  [0, 40, 50, 60, 70, 80],\n",
       "  [0, 40, 90, 110, 130, 150],\n",
       "  [0, 40, 90, 150, 180, 210]],\n",
       " [[0, 0, 0, 0, 0, 0],\n",
       "  [0, 40, 50, 60, 70, 80],\n",
       "  [0, 40, 90, 110, 130, 150],\n",
       "  [0, 40, 90, 150, 180, 210]],\n",
       " [[0, 0, 0, 0, 0, 0],\n",
       "  [0, 40, 50, 60, 70, 80],\n",
       "  [0, 40, 90, 110, 130, 150],\n",
       "  [0, 40, 90, 150, 180, 210]],\n",
       " [[0, 0, 0, 0, 0, 0],\n",
       "  [0, 40, 50, 60, 70, 80],\n",
       "  [0, 40, 90, 110, 130, 150],\n",
       "  [0, 40, 90, 150, 180, 210]]]"
      ]
     },
     "execution_count": 60,
     "metadata": {},
     "output_type": "execute_result"
    }
   ],
   "source": [
    "dp"
   ]
  },
  {
   "cell_type": "markdown",
   "metadata": {},
   "source": [
    "#### もっと工夫する"
   ]
  },
  {
   "cell_type": "code",
   "execution_count": 85,
   "metadata": {},
   "outputs": [
    {
     "name": "stdout",
     "output_type": "stream",
     "text": [
      "210\n"
     ]
    }
   ],
   "source": [
    "dp = [[0] * (W + 1) for _ in range(K + 1)]\n",
    "for a, b in zip(A, B):\n",
    "    for i in reversed(range(1, K + 1)):\n",
    "        for j in reversed(range(a, W + 1)):\n",
    "            dp[i][j] = max(dp[i][j], dp[i - 1][j - a] + b)\n",
    "            \n",
    "print(dp[-1][-1])"
   ]
  },
  {
   "cell_type": "code",
   "execution_count": 82,
   "metadata": {},
   "outputs": [
    {
     "data": {
      "text/plain": [
       "[[0, 0, 0, 0, 0, 0, 0, 0, 0, 0, 0, 0, 0, 0, 0, 0, 0, 0, 0, 0, 0, 0, 0],\n",
       " [0,\n",
       "  0,\n",
       "  0,\n",
       "  60,\n",
       "  70,\n",
       "  70,\n",
       "  80,\n",
       "  80,\n",
       "  80,\n",
       "  80,\n",
       "  80,\n",
       "  80,\n",
       "  80,\n",
       "  80,\n",
       "  80,\n",
       "  80,\n",
       "  80,\n",
       "  80,\n",
       "  80,\n",
       "  80,\n",
       "  80,\n",
       "  80,\n",
       "  80],\n",
       " [0,\n",
       "  0,\n",
       "  0,\n",
       "  60,\n",
       "  70,\n",
       "  70,\n",
       "  80,\n",
       "  130,\n",
       "  130,\n",
       "  140,\n",
       "  150,\n",
       "  150,\n",
       "  150,\n",
       "  150,\n",
       "  150,\n",
       "  150,\n",
       "  150,\n",
       "  150,\n",
       "  150,\n",
       "  150,\n",
       "  150,\n",
       "  150,\n",
       "  150],\n",
       " [0,\n",
       "  0,\n",
       "  0,\n",
       "  60,\n",
       "  70,\n",
       "  70,\n",
       "  80,\n",
       "  130,\n",
       "  130,\n",
       "  140,\n",
       "  150,\n",
       "  150,\n",
       "  170,\n",
       "  210,\n",
       "  210,\n",
       "  210,\n",
       "  210,\n",
       "  210,\n",
       "  210,\n",
       "  210,\n",
       "  210,\n",
       "  210,\n",
       "  210]]"
      ]
     },
     "execution_count": 82,
     "metadata": {},
     "output_type": "execute_result"
    }
   ],
   "source": [
    "dp"
   ]
  },
  {
   "cell_type": "markdown",
   "metadata": {},
   "source": [
    "#### 下から登ってくるタイプのDP"
   ]
  },
  {
   "cell_type": "code",
   "execution_count": 86,
   "metadata": {},
   "outputs": [
    {
     "name": "stdout",
     "output_type": "stream",
     "text": [
      "210\n"
     ]
    }
   ],
   "source": [
    "dp = [[0] * (W + 1) for _ in range(K + 1)]\n",
    "for a, b in zip(A, B):\n",
    "    for i in range(K):\n",
    "        for j in range(W - a + 1):\n",
    "            dp[i][j] = max(dp[i][j], dp[i + 1][j + a] + b)\n",
    "            \n",
    "print(dp[0][0])"
   ]
  },
  {
   "cell_type": "code",
   "execution_count": 87,
   "metadata": {},
   "outputs": [
    {
     "data": {
      "text/plain": [
       "[[210,\n",
       "  210,\n",
       "  210,\n",
       "  210,\n",
       "  210,\n",
       "  210,\n",
       "  210,\n",
       "  210,\n",
       "  210,\n",
       "  210,\n",
       "  170,\n",
       "  150,\n",
       "  150,\n",
       "  140,\n",
       "  130,\n",
       "  130,\n",
       "  80,\n",
       "  70,\n",
       "  70,\n",
       "  60,\n",
       "  0,\n",
       "  0,\n",
       "  0],\n",
       " [150,\n",
       "  150,\n",
       "  150,\n",
       "  150,\n",
       "  150,\n",
       "  150,\n",
       "  150,\n",
       "  150,\n",
       "  150,\n",
       "  150,\n",
       "  150,\n",
       "  150,\n",
       "  150,\n",
       "  140,\n",
       "  130,\n",
       "  130,\n",
       "  80,\n",
       "  70,\n",
       "  70,\n",
       "  60,\n",
       "  0,\n",
       "  0,\n",
       "  0],\n",
       " [80,\n",
       "  80,\n",
       "  80,\n",
       "  80,\n",
       "  80,\n",
       "  80,\n",
       "  80,\n",
       "  80,\n",
       "  80,\n",
       "  80,\n",
       "  80,\n",
       "  80,\n",
       "  80,\n",
       "  80,\n",
       "  80,\n",
       "  80,\n",
       "  80,\n",
       "  70,\n",
       "  70,\n",
       "  60,\n",
       "  0,\n",
       "  0,\n",
       "  0],\n",
       " [0, 0, 0, 0, 0, 0, 0, 0, 0, 0, 0, 0, 0, 0, 0, 0, 0, 0, 0, 0, 0, 0, 0]]"
      ]
     },
     "execution_count": 87,
     "metadata": {},
     "output_type": "execute_result"
    }
   ],
   "source": [
    "dp"
   ]
  },
  {
   "cell_type": "markdown",
   "metadata": {},
   "source": [
    "# ABC 7 - D\n",
    "\n",
    "いわゆる「桁DP」\n",
    "\n",
    "https://abc007.contest.atcoder.jp/tasks/abc007_4"
   ]
  },
  {
   "cell_type": "markdown",
   "metadata": {},
   "source": [
    "#### 桁DPの練習\n",
    "\n",
    "dp = [桁数] * [未満フラグ]"
   ]
  },
  {
   "cell_type": "code",
   "execution_count": 102,
   "metadata": {},
   "outputs": [
    {
     "data": {
      "text/plain": [
       "[[1, 0], [1, 1], [1, 12], [1, 123], [1, 1234], [1, 12345]]"
      ]
     },
     "execution_count": 102,
     "metadata": {},
     "output_type": "execute_result"
    }
   ],
   "source": [
    "S = '12345'\n",
    "\n",
    "dp = [[0] * 2 for _ in range(len(S) + 1)]\n",
    "dp[0][0] = 1\n",
    "for i in range(len(S)):\n",
    "    D = int(S[i]) - 0\n",
    "    for j in range(2):\n",
    "        for d in range((9 if j == 1 else D) + 1):\n",
    "            dp[i + 1][j | (d < D)] += dp[i][j]\n",
    "        \n",
    "dp"
   ]
  },
  {
   "cell_type": "markdown",
   "metadata": {},
   "source": [
    "#### それでは本題"
   ]
  },
  {
   "cell_type": "code",
   "execution_count": 91,
   "metadata": {},
   "outputs": [
    {
     "name": "stdout",
     "output_type": "stream",
     "text": [
      "ans: 2\n"
     ]
    }
   ],
   "source": [
    "A, B = 1, 9\n",
    "\n",
    "print('ans: 2')"
   ]
  },
  {
   "cell_type": "code",
   "execution_count": null,
   "metadata": {},
   "outputs": [],
   "source": []
  },
  {
   "cell_type": "code",
   "execution_count": null,
   "metadata": {},
   "outputs": [],
   "source": []
  },
  {
   "cell_type": "markdown",
   "metadata": {},
   "source": [
    "# TDPC E\n",
    "\n",
    "https://tdpc.contest.atcoder.jp/tasks/tdpc_number"
   ]
  },
  {
   "cell_type": "code",
   "execution_count": 89,
   "metadata": {},
   "outputs": [
    {
     "name": "stdout",
     "output_type": "stream",
     "text": [
      "ans: 33\n"
     ]
    }
   ],
   "source": [
    "D = 3\n",
    "N = 100\n",
    "\n",
    "print('ans: 33')"
   ]
  },
  {
   "cell_type": "code",
   "execution_count": null,
   "metadata": {},
   "outputs": [],
   "source": []
  },
  {
   "cell_type": "code",
   "execution_count": null,
   "metadata": {},
   "outputs": [],
   "source": []
  },
  {
   "cell_type": "code",
   "execution_count": null,
   "metadata": {},
   "outputs": [],
   "source": []
  },
  {
   "cell_type": "code",
   "execution_count": null,
   "metadata": {},
   "outputs": [],
   "source": []
  },
  {
   "cell_type": "code",
   "execution_count": null,
   "metadata": {},
   "outputs": [],
   "source": []
  },
  {
   "cell_type": "code",
   "execution_count": null,
   "metadata": {},
   "outputs": [],
   "source": []
  }
 ],
 "metadata": {
  "kernelspec": {
   "display_name": "Python 3",
   "language": "python",
   "name": "python3"
  },
  "language_info": {
   "codemirror_mode": {
    "name": "ipython",
    "version": 3
   },
   "file_extension": ".py",
   "mimetype": "text/x-python",
   "name": "python",
   "nbconvert_exporter": "python",
   "pygments_lexer": "ipython3",
   "version": "3.7.3"
  }
 },
 "nbformat": 4,
 "nbformat_minor": 2
}
