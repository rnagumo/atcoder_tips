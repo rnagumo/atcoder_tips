{
 "cells": [
  {
   "cell_type": "markdown",
   "metadata": {},
   "source": [
    "# AOJ DPL_1_B\n",
    "\n",
    "http://judge.u-aizu.ac.jp/onlinejudge/description.jsp?id=DPL_1_B&lang=jp"
   ]
  },
  {
   "cell_type": "code",
   "execution_count": 8,
   "metadata": {},
   "outputs": [
    {
     "name": "stdout",
     "output_type": "stream",
     "text": [
      "ans: 13\n"
     ]
    }
   ],
   "source": [
    "N, W = 4, 5\n",
    "v = [4, 5, 2, 8]\n",
    "w = [2, 2, 1, 3]\n",
    "\n",
    "print('ans: 13')"
   ]
  },
  {
   "cell_type": "code",
   "execution_count": 13,
   "metadata": {},
   "outputs": [
    {
     "name": "stdout",
     "output_type": "stream",
     "text": [
      "13\n"
     ]
    }
   ],
   "source": [
    "dp =[[0] * (W + 1) for _ in range(N + 1)]\n",
    "\n",
    "for i in range(N):\n",
    "    for j in range(W + 1):\n",
    "        if j < w[i]:\n",
    "            dp[i + 1][j] = dp[i][j]\n",
    "        elif j >= w[i]:\n",
    "            dp[i + 1][j] = max(dp[i][j], dp[i][j - w[i]] + v[i])\n",
    "            \n",
    "print(dp[-1][-1])"
   ]
  },
  {
   "cell_type": "code",
   "execution_count": 14,
   "metadata": {},
   "outputs": [
    {
     "data": {
      "text/plain": [
       "[[0, 0, 0, 0, 0, 0],\n",
       " [0, 0, 4, 4, 4, 4],\n",
       " [0, 0, 5, 5, 9, 9],\n",
       " [0, 2, 5, 7, 9, 11],\n",
       " [0, 2, 5, 8, 10, 13]]"
      ]
     },
     "execution_count": 14,
     "metadata": {},
     "output_type": "execute_result"
    }
   ],
   "source": [
    "dp"
   ]
  },
  {
   "cell_type": "markdown",
   "metadata": {},
   "source": [
    "# ABC 15 - D\n",
    "\n",
    "https://atcoder.jp/contests/abc015/tasks/abc015_4"
   ]
  },
  {
   "cell_type": "code",
   "execution_count": 26,
   "metadata": {},
   "outputs": [
    {
     "name": "stdout",
     "output_type": "stream",
     "text": [
      "ans: 140\n"
     ]
    }
   ],
   "source": [
    "W = 10\n",
    "N, K = 3, 2\n",
    "A = [4, 3, 6]\n",
    "B = [20, 40, 100]\n",
    "\n",
    "print('ans: 140')"
   ]
  },
  {
   "cell_type": "code",
   "execution_count": 36,
   "metadata": {},
   "outputs": [
    {
     "name": "stdout",
     "output_type": "stream",
     "text": [
      "ans: 210\n"
     ]
    }
   ],
   "source": [
    "W = 22\n",
    "N, K = 5, 3\n",
    "A = [5, 8, 3, 4, 6]\n",
    "B = [40, 50, 60, 70, 80]\n",
    "\n",
    "print('ans: 210')"
   ]
  },
  {
   "cell_type": "markdown",
   "metadata": {},
   "source": [
    "#### これでは，一部TLE, MLE"
   ]
  },
  {
   "cell_type": "code",
   "execution_count": 59,
   "metadata": {},
   "outputs": [
    {
     "name": "stdout",
     "output_type": "stream",
     "text": [
      "210\n"
     ]
    }
   ],
   "source": [
    "dp = [[[0] * (N + 1) for _ in range(K + 1)] for _ in range(W)]\n",
    "for i in range(W):\n",
    "    for j in range(K):\n",
    "        for k in range(N):\n",
    "            if i < A[k]:\n",
    "                dp[i][j + 1][k + 1] = dp[i][j][k]\n",
    "            else:\n",
    "                dp[i][j + 1][k + 1] = max(dp[i][j][k], \n",
    "                                          dp[i - A[k]][j][k] + B[k])\n",
    "            \n",
    "print(dp[-1][-1][-1])"
   ]
  },
  {
   "cell_type": "code",
   "execution_count": 60,
   "metadata": {},
   "outputs": [
    {
     "data": {
      "text/plain": [
       "[[[0, 0, 0, 0, 0, 0],\n",
       "  [0, 0, 0, 0, 0, 0],\n",
       "  [0, 0, 0, 0, 0, 0],\n",
       "  [0, 0, 0, 0, 0, 0]],\n",
       " [[0, 0, 0, 0, 0, 0],\n",
       "  [0, 0, 0, 0, 0, 0],\n",
       "  [0, 0, 0, 0, 0, 0],\n",
       "  [0, 0, 0, 0, 0, 0]],\n",
       " [[0, 0, 0, 0, 0, 0],\n",
       "  [0, 0, 0, 0, 0, 0],\n",
       "  [0, 0, 0, 0, 0, 0],\n",
       "  [0, 0, 0, 0, 0, 0]],\n",
       " [[0, 0, 0, 0, 0, 0],\n",
       "  [0, 0, 0, 60, 0, 0],\n",
       "  [0, 0, 0, 60, 60, 0],\n",
       "  [0, 0, 0, 60, 60, 60]],\n",
       " [[0, 0, 0, 0, 0, 0],\n",
       "  [0, 0, 0, 60, 70, 0],\n",
       "  [0, 0, 0, 60, 70, 70],\n",
       "  [0, 0, 0, 60, 70, 70]],\n",
       " [[0, 0, 0, 0, 0, 0],\n",
       "  [0, 40, 0, 60, 70, 0],\n",
       "  [0, 40, 40, 60, 70, 70],\n",
       "  [0, 40, 40, 60, 70, 70]],\n",
       " [[0, 0, 0, 0, 0, 0],\n",
       "  [0, 40, 0, 60, 70, 80],\n",
       "  [0, 40, 40, 60, 70, 80],\n",
       "  [0, 40, 40, 60, 70, 80]],\n",
       " [[0, 0, 0, 0, 0, 0],\n",
       "  [0, 40, 0, 60, 70, 80],\n",
       "  [0, 40, 40, 60, 130, 80],\n",
       "  [0, 40, 40, 60, 130, 130]],\n",
       " [[0, 0, 0, 0, 0, 0],\n",
       "  [0, 40, 50, 60, 70, 80],\n",
       "  [0, 40, 50, 60, 130, 80],\n",
       "  [0, 40, 50, 100, 130, 130]],\n",
       " [[0, 0, 0, 0, 0, 0],\n",
       "  [0, 40, 50, 60, 70, 80],\n",
       "  [0, 40, 50, 60, 130, 80],\n",
       "  [0, 40, 50, 100, 130, 140]],\n",
       " [[0, 0, 0, 0, 0, 0],\n",
       "  [0, 40, 50, 60, 70, 80],\n",
       "  [0, 40, 50, 60, 130, 150],\n",
       "  [0, 40, 50, 100, 130, 150]],\n",
       " [[0, 0, 0, 0, 0, 0],\n",
       "  [0, 40, 50, 60, 70, 80],\n",
       "  [0, 40, 50, 110, 130, 150],\n",
       "  [0, 40, 50, 110, 130, 150]],\n",
       " [[0, 0, 0, 0, 0, 0],\n",
       "  [0, 40, 50, 60, 70, 80],\n",
       "  [0, 40, 50, 110, 130, 150],\n",
       "  [0, 40, 50, 110, 130, 150]],\n",
       " [[0, 0, 0, 0, 0, 0],\n",
       "  [0, 40, 50, 60, 70, 80],\n",
       "  [0, 40, 90, 110, 130, 150],\n",
       "  [0, 40, 90, 110, 130, 210]],\n",
       " [[0, 0, 0, 0, 0, 0],\n",
       "  [0, 40, 50, 60, 70, 80],\n",
       "  [0, 40, 90, 110, 130, 150],\n",
       "  [0, 40, 90, 110, 130, 210]],\n",
       " [[0, 0, 0, 0, 0, 0],\n",
       "  [0, 40, 50, 60, 70, 80],\n",
       "  [0, 40, 90, 110, 130, 150],\n",
       "  [0, 40, 90, 110, 180, 210]],\n",
       " [[0, 0, 0, 0, 0, 0],\n",
       "  [0, 40, 50, 60, 70, 80],\n",
       "  [0, 40, 90, 110, 130, 150],\n",
       "  [0, 40, 90, 150, 180, 210]],\n",
       " [[0, 0, 0, 0, 0, 0],\n",
       "  [0, 40, 50, 60, 70, 80],\n",
       "  [0, 40, 90, 110, 130, 150],\n",
       "  [0, 40, 90, 150, 180, 210]],\n",
       " [[0, 0, 0, 0, 0, 0],\n",
       "  [0, 40, 50, 60, 70, 80],\n",
       "  [0, 40, 90, 110, 130, 150],\n",
       "  [0, 40, 90, 150, 180, 210]],\n",
       " [[0, 0, 0, 0, 0, 0],\n",
       "  [0, 40, 50, 60, 70, 80],\n",
       "  [0, 40, 90, 110, 130, 150],\n",
       "  [0, 40, 90, 150, 180, 210]],\n",
       " [[0, 0, 0, 0, 0, 0],\n",
       "  [0, 40, 50, 60, 70, 80],\n",
       "  [0, 40, 90, 110, 130, 150],\n",
       "  [0, 40, 90, 150, 180, 210]],\n",
       " [[0, 0, 0, 0, 0, 0],\n",
       "  [0, 40, 50, 60, 70, 80],\n",
       "  [0, 40, 90, 110, 130, 150],\n",
       "  [0, 40, 90, 150, 180, 210]]]"
      ]
     },
     "execution_count": 60,
     "metadata": {},
     "output_type": "execute_result"
    }
   ],
   "source": [
    "dp"
   ]
  },
  {
   "cell_type": "markdown",
   "metadata": {},
   "source": [
    "#### もっと工夫する"
   ]
  },
  {
   "cell_type": "code",
   "execution_count": 85,
   "metadata": {},
   "outputs": [
    {
     "name": "stdout",
     "output_type": "stream",
     "text": [
      "210\n"
     ]
    }
   ],
   "source": [
    "dp = [[0] * (W + 1) for _ in range(K + 1)]\n",
    "for a, b in zip(A, B):\n",
    "    for i in reversed(range(1, K + 1)):\n",
    "        for j in reversed(range(a, W + 1)):\n",
    "            dp[i][j] = max(dp[i][j], dp[i - 1][j - a] + b)\n",
    "            \n",
    "print(dp[-1][-1])"
   ]
  },
  {
   "cell_type": "code",
   "execution_count": 82,
   "metadata": {},
   "outputs": [
    {
     "data": {
      "text/plain": [
       "[[0, 0, 0, 0, 0, 0, 0, 0, 0, 0, 0, 0, 0, 0, 0, 0, 0, 0, 0, 0, 0, 0, 0],\n",
       " [0,\n",
       "  0,\n",
       "  0,\n",
       "  60,\n",
       "  70,\n",
       "  70,\n",
       "  80,\n",
       "  80,\n",
       "  80,\n",
       "  80,\n",
       "  80,\n",
       "  80,\n",
       "  80,\n",
       "  80,\n",
       "  80,\n",
       "  80,\n",
       "  80,\n",
       "  80,\n",
       "  80,\n",
       "  80,\n",
       "  80,\n",
       "  80,\n",
       "  80],\n",
       " [0,\n",
       "  0,\n",
       "  0,\n",
       "  60,\n",
       "  70,\n",
       "  70,\n",
       "  80,\n",
       "  130,\n",
       "  130,\n",
       "  140,\n",
       "  150,\n",
       "  150,\n",
       "  150,\n",
       "  150,\n",
       "  150,\n",
       "  150,\n",
       "  150,\n",
       "  150,\n",
       "  150,\n",
       "  150,\n",
       "  150,\n",
       "  150,\n",
       "  150],\n",
       " [0,\n",
       "  0,\n",
       "  0,\n",
       "  60,\n",
       "  70,\n",
       "  70,\n",
       "  80,\n",
       "  130,\n",
       "  130,\n",
       "  140,\n",
       "  150,\n",
       "  150,\n",
       "  170,\n",
       "  210,\n",
       "  210,\n",
       "  210,\n",
       "  210,\n",
       "  210,\n",
       "  210,\n",
       "  210,\n",
       "  210,\n",
       "  210,\n",
       "  210]]"
      ]
     },
     "execution_count": 82,
     "metadata": {},
     "output_type": "execute_result"
    }
   ],
   "source": [
    "dp"
   ]
  },
  {
   "cell_type": "markdown",
   "metadata": {},
   "source": [
    "#### 下から登ってくるタイプのDP"
   ]
  },
  {
   "cell_type": "code",
   "execution_count": 86,
   "metadata": {},
   "outputs": [
    {
     "name": "stdout",
     "output_type": "stream",
     "text": [
      "210\n"
     ]
    }
   ],
   "source": [
    "dp = [[0] * (W + 1) for _ in range(K + 1)]\n",
    "for a, b in zip(A, B):\n",
    "    for i in range(K):\n",
    "        for j in range(W - a + 1):\n",
    "            dp[i][j] = max(dp[i][j], dp[i + 1][j + a] + b)\n",
    "            \n",
    "print(dp[0][0])"
   ]
  },
  {
   "cell_type": "code",
   "execution_count": 87,
   "metadata": {},
   "outputs": [
    {
     "data": {
      "text/plain": [
       "[[210,\n",
       "  210,\n",
       "  210,\n",
       "  210,\n",
       "  210,\n",
       "  210,\n",
       "  210,\n",
       "  210,\n",
       "  210,\n",
       "  210,\n",
       "  170,\n",
       "  150,\n",
       "  150,\n",
       "  140,\n",
       "  130,\n",
       "  130,\n",
       "  80,\n",
       "  70,\n",
       "  70,\n",
       "  60,\n",
       "  0,\n",
       "  0,\n",
       "  0],\n",
       " [150,\n",
       "  150,\n",
       "  150,\n",
       "  150,\n",
       "  150,\n",
       "  150,\n",
       "  150,\n",
       "  150,\n",
       "  150,\n",
       "  150,\n",
       "  150,\n",
       "  150,\n",
       "  150,\n",
       "  140,\n",
       "  130,\n",
       "  130,\n",
       "  80,\n",
       "  70,\n",
       "  70,\n",
       "  60,\n",
       "  0,\n",
       "  0,\n",
       "  0],\n",
       " [80,\n",
       "  80,\n",
       "  80,\n",
       "  80,\n",
       "  80,\n",
       "  80,\n",
       "  80,\n",
       "  80,\n",
       "  80,\n",
       "  80,\n",
       "  80,\n",
       "  80,\n",
       "  80,\n",
       "  80,\n",
       "  80,\n",
       "  80,\n",
       "  80,\n",
       "  70,\n",
       "  70,\n",
       "  60,\n",
       "  0,\n",
       "  0,\n",
       "  0],\n",
       " [0, 0, 0, 0, 0, 0, 0, 0, 0, 0, 0, 0, 0, 0, 0, 0, 0, 0, 0, 0, 0, 0, 0]]"
      ]
     },
     "execution_count": 87,
     "metadata": {},
     "output_type": "execute_result"
    }
   ],
   "source": [
    "dp"
   ]
  },
  {
   "cell_type": "markdown",
   "metadata": {},
   "source": [
    "# ABC 7 - D\n",
    "\n",
    "いわゆる「桁DP」\n",
    "\n",
    "https://atcoder.jp/contests/abc007/tasks/abc007_4"
   ]
  },
  {
   "cell_type": "markdown",
   "metadata": {},
   "source": [
    "#### 桁DPの練習\n",
    "\n",
    "dp = [桁数] * [未満フラグ]"
   ]
  },
  {
   "cell_type": "code",
   "execution_count": 102,
   "metadata": {},
   "outputs": [
    {
     "data": {
      "text/plain": [
       "[[1, 0], [1, 1], [1, 12], [1, 123], [1, 1234], [1, 12345]]"
      ]
     },
     "execution_count": 102,
     "metadata": {},
     "output_type": "execute_result"
    }
   ],
   "source": [
    "S = '12345'\n",
    "\n",
    "dp = [[0] * 2 for _ in range(len(S) + 1)]\n",
    "dp[0][0] = 1\n",
    "for i in range(len(S)):\n",
    "    D = int(S[i]) - 0\n",
    "    for j in range(2):\n",
    "        for d in range((9 if j == 1 else D) + 1):\n",
    "            dp[i + 1][j | (d < D)] += dp[i][j]\n",
    "        \n",
    "dp"
   ]
  },
  {
   "cell_type": "markdown",
   "metadata": {},
   "source": [
    "#### それでは本題"
   ]
  },
  {
   "cell_type": "code",
   "execution_count": 129,
   "metadata": {},
   "outputs": [
    {
     "name": "stdout",
     "output_type": "stream",
     "text": [
      "ans: 2\n"
     ]
    }
   ],
   "source": [
    "A, B = 1, 9\n",
    "\n",
    "print('ans: 2')"
   ]
  },
  {
   "cell_type": "code",
   "execution_count": 130,
   "metadata": {},
   "outputs": [
    {
     "name": "stdout",
     "output_type": "stream",
     "text": [
      "ans: 10\n"
     ]
    }
   ],
   "source": [
    "A, B = 40, 49\n",
    "\n",
    "print('ans: 10')"
   ]
  },
  {
   "cell_type": "code",
   "execution_count": 126,
   "metadata": {},
   "outputs": [
    {
     "name": "stdout",
     "output_type": "stream",
     "text": [
      "ans: 488\n"
     ]
    }
   ],
   "source": [
    "A, B = 1, 1000\n",
    "\n",
    "print('ans: 488')"
   ]
  },
  {
   "cell_type": "markdown",
   "metadata": {},
   "source": [
    "#### dp[桁数] [確定しているか] [条件を満たすか]"
   ]
  },
  {
   "cell_type": "code",
   "execution_count": 131,
   "metadata": {},
   "outputs": [],
   "source": [
    "def solve(x):\n",
    "    dp = [[[0] * 2 for _ in range(2)] for _ in range(len(x) + 1)]\n",
    "    dp[0][0][0] = 1\n",
    "\n",
    "    for i in range(len(x)):\n",
    "        D = int(x[i]) - 0\n",
    "        for j in range(2):\n",
    "            for k in range(2):\n",
    "                for d in range((9 if j == 1 else D) + 1):\n",
    "                    dp[i + 1][j | (d < D)][k | (d == 4) | (d == 9)] += dp[i][j][k]\n",
    "\n",
    "    return dp[-1][0][1] + dp[-1][1][1]"
   ]
  },
  {
   "cell_type": "code",
   "execution_count": 132,
   "metadata": {},
   "outputs": [
    {
     "data": {
      "text/plain": [
       "10"
      ]
     },
     "execution_count": 132,
     "metadata": {},
     "output_type": "execute_result"
    }
   ],
   "source": [
    "solve(str(B)) - solve(str(A - 1))"
   ]
  },
  {
   "cell_type": "code",
   "execution_count": 133,
   "metadata": {},
   "outputs": [
    {
     "data": {
      "text/plain": [
       "[[[1, 0], [0, 0]],\n",
       " [[1, 0], [1, 0]],\n",
       " [[1, 0], [8, 2]],\n",
       " [[1, 0], [64, 36]],\n",
       " [[1, 0], [512, 488]]]"
      ]
     },
     "execution_count": 133,
     "metadata": {},
     "output_type": "execute_result"
    }
   ],
   "source": [
    "dp"
   ]
  },
  {
   "cell_type": "markdown",
   "metadata": {},
   "source": [
    "# TDPC E\n",
    "\n",
    "https://tdpc.contest.atcoder.jp/tasks/tdpc_number"
   ]
  },
  {
   "cell_type": "code",
   "execution_count": 138,
   "metadata": {},
   "outputs": [
    {
     "name": "stdout",
     "output_type": "stream",
     "text": [
      "ans: 33\n"
     ]
    }
   ],
   "source": [
    "D = 3\n",
    "N = '100'\n",
    "MOD = 10 ** 9 + 7\n",
    "\n",
    "print('ans: 33')"
   ]
  },
  {
   "cell_type": "markdown",
   "metadata": {},
   "source": [
    "#### オーソドックスな解法\n",
    "\n",
    "https://tdpc.contest.atcoder.jp/submissions/5879108\n",
    "\n",
    "\n",
    "dp[i][j][k] := 上から i 桁目まで見て, 各位の和が j mod d となる組み合わせの数 with 未満フラグ k;"
   ]
  },
  {
   "cell_type": "code",
   "execution_count": 154,
   "metadata": {},
   "outputs": [
    {
     "name": "stdout",
     "output_type": "stream",
     "text": [
      "33\n"
     ]
    }
   ],
   "source": [
    "dp = [[[0] * 2 for _ in range(D)] for _ in range(len(N) + 1)]\n",
    "dp[0][0][0] = 1\n",
    "\n",
    "for i in range(len(N)):\n",
    "    n = int(N[i]) - 0\n",
    "    for j in range(D):\n",
    "        # k == 1\n",
    "        for p in range(10):\n",
    "            dp[i + 1][(p + j) % D][1] += dp[i][j][1]\n",
    "            \n",
    "        # k == 0\n",
    "        for p in range(n):\n",
    "            dp[i + 1][(p + j) % D][1] += dp[i][j][0]\n",
    "        dp[i + 1][(n + j) % D][0] += dp[i][j][0]\n",
    "        \n",
    "    for j in range(D):\n",
    "        for k in range(2):\n",
    "            dp[i + 1][j][k] %= MOD\n",
    "\n",
    "print(dp[-1][0][1] - 1)"
   ]
  },
  {
   "cell_type": "code",
   "execution_count": 155,
   "metadata": {},
   "outputs": [
    {
     "data": {
      "text/plain": [
       "[[[1, 0], [0, 0], [0, 0]],\n",
       " [[0, 1], [1, 0], [0, 0]],\n",
       " [[0, 4], [1, 3], [0, 3]],\n",
       " [[0, 34], [1, 33], [0, 33]]]"
      ]
     },
     "execution_count": 155,
     "metadata": {},
     "output_type": "execute_result"
    }
   ],
   "source": [
    "dp"
   ]
  },
  {
   "cell_type": "markdown",
   "metadata": {},
   "source": [
    "#### 他の解答\n",
    "\n",
    "https://tdpc.contest.atcoder.jp/submissions/4793451"
   ]
  },
  {
   "cell_type": "code",
   "execution_count": 156,
   "metadata": {},
   "outputs": [
    {
     "name": "stdout",
     "output_type": "stream",
     "text": [
      "ans: 33\n"
     ]
    }
   ],
   "source": [
    "D = 3\n",
    "N = '100'\n",
    "MOD = 10 ** 9 + 7\n",
    "\n",
    "print('ans: 33')"
   ]
  },
  {
   "cell_type": "code",
   "execution_count": 157,
   "metadata": {},
   "outputs": [
    {
     "name": "stdout",
     "output_type": "stream",
     "text": [
      "33\n"
     ]
    }
   ],
   "source": [
    "dp = [[0] * D for _ in range(len(N))]\n",
    "dp[0][0] = 1\n",
    "\n",
    "for k in range(1, len(N)):\n",
    "    dp[k][0] += sum(dp[k - 1][(-i) % D] for i in range(10)) % MOD\n",
    "    for d in range(1, D):\n",
    "        dp[k][d] = (dp[k][d - 1] + dp[k - 1][d] - dp[k - 1][(d - 10) % D]) % MOD\n",
    "        \n",
    "ans = 0\n",
    "now = 0\n",
    "for k in range(len(N)):\n",
    "    if int(N[k]) < 1:\n",
    "        continue\n",
    "    \n",
    "    ans = (ans + sum(dp[len(N) - k - 1][(now - i) % D] for i in range(int(N[k])))) % MOD\n",
    "    now = (now - int(N[k])) % D\n",
    "    \n",
    "print(ans - 1)"
   ]
  },
  {
   "cell_type": "code",
   "execution_count": 158,
   "metadata": {},
   "outputs": [
    {
     "data": {
      "text/plain": [
       "[[1, 0, 0], [4, 3, 3], [34, 33, 33]]"
      ]
     },
     "execution_count": 158,
     "metadata": {},
     "output_type": "execute_result"
    }
   ],
   "source": [
    "dp"
   ]
  },
  {
   "cell_type": "markdown",
   "metadata": {},
   "source": [
    "# Code Festival 2014A - D\n",
    "\n",
    "https://atcoder.jp/contests/code-festival-2014-quala/tasks/code_festival_qualA_d"
   ]
  },
  {
   "cell_type": "code",
   "execution_count": 160,
   "metadata": {},
   "outputs": [
    {
     "name": "stdout",
     "output_type": "stream",
     "text": [
      "ans: 12\n"
     ]
    }
   ],
   "source": [
    "A, K = 1234, 2\n",
    "\n",
    "print('ans: 12')"
   ]
  },
  {
   "cell_type": "markdown",
   "metadata": {},
   "source": [
    "# AOJ ALDS1_10_C\n",
    "\n",
    "http://judge.u-aizu.ac.jp/onlinejudge/description.jsp?id=ALDS1_10_C&lang=jp"
   ]
  },
  {
   "cell_type": "code",
   "execution_count": 161,
   "metadata": {},
   "outputs": [
    {
     "name": "stdout",
     "output_type": "stream",
     "text": [
      "ans: 4\n"
     ]
    }
   ],
   "source": [
    "X = 'abcbdab'\n",
    "Y = 'bdcaba'\n",
    "\n",
    "print('ans: 4')"
   ]
  },
  {
   "cell_type": "code",
   "execution_count": null,
   "metadata": {},
   "outputs": [],
   "source": []
  },
  {
   "cell_type": "code",
   "execution_count": null,
   "metadata": {},
   "outputs": [],
   "source": []
  },
  {
   "cell_type": "code",
   "execution_count": null,
   "metadata": {},
   "outputs": [],
   "source": []
  },
  {
   "cell_type": "code",
   "execution_count": null,
   "metadata": {},
   "outputs": [],
   "source": []
  }
 ],
 "metadata": {
  "kernelspec": {
   "display_name": "Python 3",
   "language": "python",
   "name": "python3"
  },
  "language_info": {
   "codemirror_mode": {
    "name": "ipython",
    "version": 3
   },
   "file_extension": ".py",
   "mimetype": "text/x-python",
   "name": "python",
   "nbconvert_exporter": "python",
   "pygments_lexer": "ipython3",
   "version": "3.7.3"
  }
 },
 "nbformat": 4,
 "nbformat_minor": 2
}
