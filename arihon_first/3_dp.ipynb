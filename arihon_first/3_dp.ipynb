{
 "cells": [
  {
   "cell_type": "markdown",
   "metadata": {},
   "source": [
    "# AOJ DPL_1_B\n",
    "\n",
    "http://judge.u-aizu.ac.jp/onlinejudge/description.jsp?id=DPL_1_B&lang=jp"
   ]
  },
  {
   "cell_type": "code",
   "execution_count": 8,
   "metadata": {},
   "outputs": [
    {
     "name": "stdout",
     "output_type": "stream",
     "text": [
      "ans: 13\n"
     ]
    }
   ],
   "source": [
    "N, W = 4, 5\n",
    "v = [4, 5, 2, 8]\n",
    "w = [2, 2, 1, 3]\n",
    "\n",
    "print('ans: 13')"
   ]
  },
  {
   "cell_type": "code",
   "execution_count": 13,
   "metadata": {},
   "outputs": [
    {
     "name": "stdout",
     "output_type": "stream",
     "text": [
      "13\n"
     ]
    }
   ],
   "source": [
    "dp =[[0] * (W + 1) for _ in range(N + 1)]\n",
    "\n",
    "for i in range(N):\n",
    "    for j in range(W + 1):\n",
    "        if j < w[i]:\n",
    "            dp[i + 1][j] = dp[i][j]\n",
    "        elif j >= w[i]:\n",
    "            dp[i + 1][j] = max(dp[i][j], dp[i][j - w[i]] + v[i])\n",
    "            \n",
    "print(dp[-1][-1])"
   ]
  },
  {
   "cell_type": "code",
   "execution_count": 14,
   "metadata": {},
   "outputs": [
    {
     "data": {
      "text/plain": [
       "[[0, 0, 0, 0, 0, 0],\n",
       " [0, 0, 4, 4, 4, 4],\n",
       " [0, 0, 5, 5, 9, 9],\n",
       " [0, 2, 5, 7, 9, 11],\n",
       " [0, 2, 5, 8, 10, 13]]"
      ]
     },
     "execution_count": 14,
     "metadata": {},
     "output_type": "execute_result"
    }
   ],
   "source": [
    "dp"
   ]
  },
  {
   "cell_type": "markdown",
   "metadata": {},
   "source": [
    "# ABC 15 - D\n",
    "\n",
    "https://atcoder.jp/contests/abc015/tasks/abc015_4"
   ]
  },
  {
   "cell_type": "code",
   "execution_count": 26,
   "metadata": {},
   "outputs": [
    {
     "name": "stdout",
     "output_type": "stream",
     "text": [
      "ans: 140\n"
     ]
    }
   ],
   "source": [
    "W = 10\n",
    "N, K = 3, 2\n",
    "A = [4, 3, 6]\n",
    "B = [20, 40, 100]\n",
    "\n",
    "print('ans: 140')"
   ]
  },
  {
   "cell_type": "code",
   "execution_count": 36,
   "metadata": {},
   "outputs": [
    {
     "name": "stdout",
     "output_type": "stream",
     "text": [
      "ans: 210\n"
     ]
    }
   ],
   "source": [
    "W = 22\n",
    "N, K = 5, 3\n",
    "A = [5, 8, 3, 4, 6]\n",
    "B = [40, 50, 60, 70, 80]\n",
    "\n",
    "print('ans: 210')"
   ]
  },
  {
   "cell_type": "markdown",
   "metadata": {},
   "source": [
    "#### これでは，一部TLE, MLE"
   ]
  },
  {
   "cell_type": "code",
   "execution_count": 59,
   "metadata": {},
   "outputs": [
    {
     "name": "stdout",
     "output_type": "stream",
     "text": [
      "210\n"
     ]
    }
   ],
   "source": [
    "dp = [[[0] * (N + 1) for _ in range(K + 1)] for _ in range(W)]\n",
    "for i in range(W):\n",
    "    for j in range(K):\n",
    "        for k in range(N):\n",
    "            if i < A[k]:\n",
    "                dp[i][j + 1][k + 1] = dp[i][j][k]\n",
    "            else:\n",
    "                dp[i][j + 1][k + 1] = max(dp[i][j][k], \n",
    "                                          dp[i - A[k]][j][k] + B[k])\n",
    "            \n",
    "print(dp[-1][-1][-1])"
   ]
  },
  {
   "cell_type": "markdown",
   "metadata": {},
   "source": [
    "#### もっと工夫する"
   ]
  },
  {
   "cell_type": "code",
   "execution_count": 85,
   "metadata": {},
   "outputs": [
    {
     "name": "stdout",
     "output_type": "stream",
     "text": [
      "210\n"
     ]
    }
   ],
   "source": [
    "dp = [[0] * (W + 1) for _ in range(K + 1)]\n",
    "for a, b in zip(A, B):\n",
    "    for i in reversed(range(1, K + 1)):\n",
    "        for j in reversed(range(a, W + 1)):\n",
    "            dp[i][j] = max(dp[i][j], dp[i - 1][j - a] + b)\n",
    "            \n",
    "print(dp[-1][-1])"
   ]
  },
  {
   "cell_type": "markdown",
   "metadata": {},
   "source": [
    "#### 下から登ってくるタイプのDP"
   ]
  },
  {
   "cell_type": "code",
   "execution_count": 86,
   "metadata": {},
   "outputs": [
    {
     "name": "stdout",
     "output_type": "stream",
     "text": [
      "210\n"
     ]
    }
   ],
   "source": [
    "dp = [[0] * (W + 1) for _ in range(K + 1)]\n",
    "for a, b in zip(A, B):\n",
    "    for i in range(K):\n",
    "        for j in range(W - a + 1):\n",
    "            dp[i][j] = max(dp[i][j], dp[i + 1][j + a] + b)\n",
    "            \n",
    "print(dp[0][0])"
   ]
  },
  {
   "cell_type": "markdown",
   "metadata": {},
   "source": [
    "# ABC 7 - D\n",
    "\n",
    "いわゆる「桁DP」\n",
    "\n",
    "https://atcoder.jp/contests/abc007/tasks/abc007_4"
   ]
  },
  {
   "cell_type": "markdown",
   "metadata": {},
   "source": [
    "#### 桁DPの練習\n",
    "\n",
    "dp = [桁数] * [未満フラグ]"
   ]
  },
  {
   "cell_type": "code",
   "execution_count": 102,
   "metadata": {},
   "outputs": [
    {
     "data": {
      "text/plain": [
       "[[1, 0], [1, 1], [1, 12], [1, 123], [1, 1234], [1, 12345]]"
      ]
     },
     "execution_count": 102,
     "metadata": {},
     "output_type": "execute_result"
    }
   ],
   "source": [
    "S = '12345'\n",
    "\n",
    "dp = [[0] * 2 for _ in range(len(S) + 1)]\n",
    "dp[0][0] = 1\n",
    "for i in range(len(S)):\n",
    "    D = int(S[i])\n",
    "    for j in range(2):\n",
    "        for d in range((9 if j == 1 else D) + 1):\n",
    "            dp[i + 1][j | (d < D)] += dp[i][j]\n",
    "        \n",
    "dp"
   ]
  },
  {
   "cell_type": "markdown",
   "metadata": {},
   "source": [
    "#### それでは本題"
   ]
  },
  {
   "cell_type": "code",
   "execution_count": 129,
   "metadata": {},
   "outputs": [
    {
     "name": "stdout",
     "output_type": "stream",
     "text": [
      "ans: 2\n"
     ]
    }
   ],
   "source": [
    "A, B = 1, 9\n",
    "\n",
    "print('ans: 2')"
   ]
  },
  {
   "cell_type": "code",
   "execution_count": 130,
   "metadata": {},
   "outputs": [
    {
     "name": "stdout",
     "output_type": "stream",
     "text": [
      "ans: 10\n"
     ]
    }
   ],
   "source": [
    "A, B = 40, 49\n",
    "\n",
    "print('ans: 10')"
   ]
  },
  {
   "cell_type": "code",
   "execution_count": 126,
   "metadata": {},
   "outputs": [
    {
     "name": "stdout",
     "output_type": "stream",
     "text": [
      "ans: 488\n"
     ]
    }
   ],
   "source": [
    "A, B = 1, 1000\n",
    "\n",
    "print('ans: 488')"
   ]
  },
  {
   "cell_type": "markdown",
   "metadata": {},
   "source": [
    "#### dp[桁数] [確定しているか] [条件を満たすか]"
   ]
  },
  {
   "cell_type": "code",
   "execution_count": 131,
   "metadata": {},
   "outputs": [],
   "source": [
    "def solve(x):\n",
    "    dp = [[[0] * 2 for _ in range(2)] for _ in range(len(x) + 1)]\n",
    "    dp[0][0][0] = 1\n",
    "\n",
    "    for i in range(len(x)):\n",
    "        D = int(x[i])\n",
    "        for j in range(2):\n",
    "            for k in range(2):\n",
    "                for d in range((9 if j == 1 else D) + 1):\n",
    "                    dp[i + 1][j | (d < D)][k | (d == 4) | (d == 9)] += dp[i][j][k]\n",
    "\n",
    "    return dp[-1][0][1] + dp[-1][1][1]"
   ]
  },
  {
   "cell_type": "code",
   "execution_count": 132,
   "metadata": {},
   "outputs": [
    {
     "data": {
      "text/plain": [
       "10"
      ]
     },
     "execution_count": 132,
     "metadata": {},
     "output_type": "execute_result"
    }
   ],
   "source": [
    "solve(str(B)) - solve(str(A - 1))"
   ]
  },
  {
   "cell_type": "code",
   "execution_count": 133,
   "metadata": {},
   "outputs": [
    {
     "data": {
      "text/plain": [
       "[[[1, 0], [0, 0]],\n",
       " [[1, 0], [1, 0]],\n",
       " [[1, 0], [8, 2]],\n",
       " [[1, 0], [64, 36]],\n",
       " [[1, 0], [512, 488]]]"
      ]
     },
     "execution_count": 133,
     "metadata": {},
     "output_type": "execute_result"
    }
   ],
   "source": [
    "dp"
   ]
  },
  {
   "cell_type": "markdown",
   "metadata": {},
   "source": [
    "# TDPC E\n",
    "\n",
    "https://tdpc.contest.atcoder.jp/tasks/tdpc_number"
   ]
  },
  {
   "cell_type": "code",
   "execution_count": 138,
   "metadata": {},
   "outputs": [
    {
     "name": "stdout",
     "output_type": "stream",
     "text": [
      "ans: 33\n"
     ]
    }
   ],
   "source": [
    "D = 3\n",
    "N = '100'\n",
    "MOD = 10 ** 9 + 7\n",
    "\n",
    "print('ans: 33')"
   ]
  },
  {
   "cell_type": "markdown",
   "metadata": {},
   "source": [
    "#### オーソドックスな解法\n",
    "\n",
    "https://tdpc.contest.atcoder.jp/submissions/5879108\n",
    "\n",
    "\n",
    "dp[i][j][k] := 上から i 桁目まで見て, 各位の和が j mod d となる組み合わせの数 with 未満フラグ k;"
   ]
  },
  {
   "cell_type": "code",
   "execution_count": 154,
   "metadata": {},
   "outputs": [
    {
     "name": "stdout",
     "output_type": "stream",
     "text": [
      "33\n"
     ]
    }
   ],
   "source": [
    "dp = [[[0] * 2 for _ in range(D)] for _ in range(len(N) + 1)]\n",
    "dp[0][0][0] = 1\n",
    "\n",
    "for i in range(len(N)):\n",
    "    n = int(N[i]) - 0\n",
    "    for j in range(D):\n",
    "        # k == 1\n",
    "        for p in range(10):\n",
    "            dp[i + 1][(p + j) % D][1] += dp[i][j][1]\n",
    "            \n",
    "        # k == 0\n",
    "        for p in range(n):\n",
    "            dp[i + 1][(p + j) % D][1] += dp[i][j][0]\n",
    "        dp[i + 1][(n + j) % D][0] += dp[i][j][0]\n",
    "        \n",
    "    for j in range(D):\n",
    "        for k in range(2):\n",
    "            dp[i + 1][j][k] %= MOD\n",
    "\n",
    "print(dp[-1][0][1] - 1)"
   ]
  },
  {
   "cell_type": "code",
   "execution_count": 155,
   "metadata": {},
   "outputs": [
    {
     "data": {
      "text/plain": [
       "[[[1, 0], [0, 0], [0, 0]],\n",
       " [[0, 1], [1, 0], [0, 0]],\n",
       " [[0, 4], [1, 3], [0, 3]],\n",
       " [[0, 34], [1, 33], [0, 33]]]"
      ]
     },
     "execution_count": 155,
     "metadata": {},
     "output_type": "execute_result"
    }
   ],
   "source": [
    "dp"
   ]
  },
  {
   "cell_type": "markdown",
   "metadata": {},
   "source": [
    "#### 他の解答\n",
    "\n",
    "https://tdpc.contest.atcoder.jp/submissions/4793451"
   ]
  },
  {
   "cell_type": "code",
   "execution_count": 156,
   "metadata": {},
   "outputs": [
    {
     "name": "stdout",
     "output_type": "stream",
     "text": [
      "ans: 33\n"
     ]
    }
   ],
   "source": [
    "D = 3\n",
    "N = '100'\n",
    "MOD = 10 ** 9 + 7\n",
    "\n",
    "print('ans: 33')"
   ]
  },
  {
   "cell_type": "code",
   "execution_count": 157,
   "metadata": {},
   "outputs": [
    {
     "name": "stdout",
     "output_type": "stream",
     "text": [
      "33\n"
     ]
    }
   ],
   "source": [
    "dp = [[0] * D for _ in range(len(N))]\n",
    "dp[0][0] = 1\n",
    "\n",
    "for k in range(1, len(N)):\n",
    "    dp[k][0] += sum(dp[k - 1][(-i) % D] for i in range(10)) % MOD\n",
    "    for d in range(1, D):\n",
    "        dp[k][d] = (dp[k][d - 1] + dp[k - 1][d] - dp[k - 1][(d - 10) % D]) % MOD\n",
    "        \n",
    "ans = 0\n",
    "now = 0\n",
    "for k in range(len(N)):\n",
    "    if int(N[k]) < 1:\n",
    "        continue\n",
    "    \n",
    "    ans = (ans + sum(dp[len(N) - k - 1][(now - i) % D] for i in range(int(N[k])))) % MOD\n",
    "    now = (now - int(N[k])) % D\n",
    "    \n",
    "print(ans - 1)"
   ]
  },
  {
   "cell_type": "code",
   "execution_count": 158,
   "metadata": {},
   "outputs": [
    {
     "data": {
      "text/plain": [
       "[[1, 0, 0], [4, 3, 3], [34, 33, 33]]"
      ]
     },
     "execution_count": 158,
     "metadata": {},
     "output_type": "execute_result"
    }
   ],
   "source": [
    "dp"
   ]
  },
  {
   "cell_type": "markdown",
   "metadata": {},
   "source": [
    "# Code Festival 2014A - D\n",
    "\n",
    "https://atcoder.jp/contests/code-festival-2014-quala/tasks/code_festival_qualA_d"
   ]
  },
  {
   "cell_type": "code",
   "execution_count": 160,
   "metadata": {},
   "outputs": [
    {
     "name": "stdout",
     "output_type": "stream",
     "text": [
      "ans: 12\n"
     ]
    }
   ],
   "source": [
    "A, K = 1234, 2\n",
    "\n",
    "print('ans: 12')"
   ]
  },
  {
   "cell_type": "markdown",
   "metadata": {},
   "source": [
    "# AOJ ALDS1_10_C\n",
    "\n",
    "最長共通部分列問題\n",
    "\n",
    "http://judge.u-aizu.ac.jp/onlinejudge/description.jsp?id=ALDS1_10_C&lang=jp"
   ]
  },
  {
   "cell_type": "code",
   "execution_count": 169,
   "metadata": {},
   "outputs": [
    {
     "name": "stdout",
     "output_type": "stream",
     "text": [
      "ans: 4\n"
     ]
    }
   ],
   "source": [
    "X = 'abcbdab'\n",
    "Y = 'bdcaba'\n",
    "\n",
    "print('ans: 4')"
   ]
  },
  {
   "cell_type": "code",
   "execution_count": 172,
   "metadata": {},
   "outputs": [
    {
     "name": "stdout",
     "output_type": "stream",
     "text": [
      "4\n"
     ]
    }
   ],
   "source": [
    "dp = [[0] * (len(Y) + 1) for _ in range(len(X) + 1)]\n",
    "\n",
    "for i in range(len(X)):\n",
    "    for j in range(len(Y)):\n",
    "        if X[i] == Y[j]:\n",
    "            dp[i + 1][j + 1] = max(dp[i][j + 1], dp[i + 1][j], dp[i][j] + 1)\n",
    "        else:\n",
    "            dp[i + 1][j + 1] = max(dp[i][j + 1], dp[i + 1][j])\n",
    "            \n",
    "print(dp[-1][-1])"
   ]
  },
  {
   "cell_type": "markdown",
   "metadata": {},
   "source": [
    "# Indeed - C\n",
    "\n",
    "最長共通部分列問題\n",
    "\n",
    "https://atcoder.jp/contests/indeednow-finala-open/tasks/indeednow_2015_finala_c"
   ]
  },
  {
   "cell_type": "code",
   "execution_count": 204,
   "metadata": {},
   "outputs": [],
   "source": [
    "N, M = 3, 6\n",
    "X = [[1, 2, 3, 3], [3, 3, 3, 6], [4, 4, 4, 8]]\n",
    "Y = [[3, 4, 3], [4, 4, 4], [100, 100, 1],\n",
    "     [2, 3, 4], [0, 0, 0], [100, 100, 100]]"
   ]
  },
  {
   "cell_type": "code",
   "execution_count": 207,
   "metadata": {},
   "outputs": [],
   "source": [
    "dp = [[[0] * 102 for _ in range(102)] for _ in range(102)]\n",
    "\n",
    "for a, b, c, w in X:\n",
    "    dp[a + 1][b + 1][c + 1] = max(dp[a + 1][b + 1][c + 1], w)\n",
    "    \n",
    "for i in range(1, 102):\n",
    "    for j in range(1, 102):\n",
    "        for k in range(1, 102):\n",
    "            dp[i][j][k] = max(dp[i][j][k], dp[i - 1][j][k],\n",
    "                              dp[i][j - 1][k], dp[i][j][k - 1])\n"
   ]
  },
  {
   "cell_type": "code",
   "execution_count": 208,
   "metadata": {},
   "outputs": [
    {
     "name": "stdout",
     "output_type": "stream",
     "text": [
      "6\n",
      "8\n",
      "0\n",
      "3\n",
      "0\n",
      "8\n"
     ]
    }
   ],
   "source": [
    "for x, y, z in Y:\n",
    "    print(dp[x + 1][y + 1][z + 1])"
   ]
  },
  {
   "cell_type": "markdown",
   "metadata": {},
   "source": [
    "# AOJ DPL_1_C\n",
    "\n",
    "個数制限なしナップサック問題\n",
    "\n",
    "http://judge.u-aizu.ac.jp/onlinejudge/description.jsp?id=DPL_1_C&lang=jp"
   ]
  },
  {
   "cell_type": "code",
   "execution_count": 1,
   "metadata": {},
   "outputs": [],
   "source": [
    "N, W = 4, 8\n",
    "v = [4, 5, 2, 8]\n",
    "w = [2, 2, 1, 3]"
   ]
  },
  {
   "cell_type": "code",
   "execution_count": 215,
   "metadata": {},
   "outputs": [
    {
     "name": "stdout",
     "output_type": "stream",
     "text": [
      "21\n"
     ]
    }
   ],
   "source": [
    "dp = [[0] * (W + 1) for _ in range(N + 1)]\n",
    "\n",
    "for i in range(N):\n",
    "    for j in range(W + 1):\n",
    "        if j < w[i]:\n",
    "            dp[i + 1][j] = dp[i][j]\n",
    "        else:\n",
    "            dp[i + 1][j] = max(dp[i][j], dp[i + 1][j - w[i]] + v[i])\n",
    "            \n",
    "print(dp[-1][-1])"
   ]
  },
  {
   "cell_type": "code",
   "execution_count": 216,
   "metadata": {},
   "outputs": [
    {
     "data": {
      "text/plain": [
       "[[0, 0, 0, 0, 0, 0, 0, 0, 0],\n",
       " [0, 0, 4, 4, 8, 8, 12, 12, 16],\n",
       " [0, 0, 5, 5, 10, 10, 15, 15, 20],\n",
       " [0, 2, 5, 7, 10, 12, 15, 17, 20],\n",
       " [0, 2, 5, 8, 10, 13, 16, 18, 21]]"
      ]
     },
     "execution_count": 216,
     "metadata": {},
     "output_type": "execute_result"
    }
   ],
   "source": [
    "dp"
   ]
  },
  {
   "cell_type": "markdown",
   "metadata": {},
   "source": [
    "# ABC 32 - D\n",
    "\n",
    "0/1ナップサック問題\n",
    "\n",
    "https://atcoder.jp/contests/abc032/tasks/abc032_d"
   ]
  },
  {
   "cell_type": "code",
   "execution_count": 2,
   "metadata": {},
   "outputs": [],
   "source": [
    "N, W = 3, 10\n",
    "v = [15, 10, 6]\n",
    "w = [9, 6, 4]"
   ]
  },
  {
   "cell_type": "markdown",
   "metadata": {},
   "source": [
    "### データセット1"
   ]
  },
  {
   "cell_type": "code",
   "execution_count": 6,
   "metadata": {},
   "outputs": [
    {
     "name": "stdout",
     "output_type": "stream",
     "text": [
      "16\n"
     ]
    }
   ],
   "source": [
    "from bisect import bisect\n",
    "\n",
    "M = N // 2\n",
    "res1 = []\n",
    "for i in range(2 ** M):\n",
    "    x = 0\n",
    "    y = 0\n",
    "    for j in range(M):\n",
    "        if i & (1 << j):\n",
    "            continue\n",
    "        x += w[j]\n",
    "        y += v[j]\n",
    "    res1.append((x, y))\n",
    "\n",
    "res2 = []\n",
    "for i in range(2 ** (N - M)):\n",
    "    x = 0\n",
    "    y = 0\n",
    "    for j in range(N - M):\n",
    "        if i & (1 << j):\n",
    "            continue\n",
    "        x += w[j + M]\n",
    "        y += v[j + M]\n",
    "    res2.append((x, y))\n",
    "res2.sort()\n",
    "    \n",
    "opt = [0]\n",
    "for _, y in res2:\n",
    "    opt.append(max(opt[-1], y))\n",
    "\n",
    "ans = 0\n",
    "for x, y in res1:\n",
    "    if x > W:\n",
    "        continue\n",
    "    i = bisect(res2, (W - x, float('inf')))\n",
    "    ans = max(ans, y + opt[i])\n",
    "print(ans)"
   ]
  },
  {
   "cell_type": "code",
   "execution_count": 7,
   "metadata": {},
   "outputs": [
    {
     "data": {
      "text/plain": [
       "[(9, 15), (0, 0)]"
      ]
     },
     "execution_count": 7,
     "metadata": {},
     "output_type": "execute_result"
    }
   ],
   "source": [
    "res1"
   ]
  },
  {
   "cell_type": "code",
   "execution_count": 8,
   "metadata": {},
   "outputs": [
    {
     "data": {
      "text/plain": [
       "[(0, 0), (4, 6), (6, 10), (10, 16)]"
      ]
     },
     "execution_count": 8,
     "metadata": {},
     "output_type": "execute_result"
    }
   ],
   "source": [
    "res2"
   ]
  },
  {
   "cell_type": "markdown",
   "metadata": {},
   "source": [
    "### データセット2\n",
    "\n",
    "重さの上限が決まった状態で，価値を最大化する．"
   ]
  },
  {
   "cell_type": "code",
   "execution_count": 31,
   "metadata": {},
   "outputs": [
    {
     "name": "stdout",
     "output_type": "stream",
     "text": [
      "16\n"
     ]
    }
   ],
   "source": [
    "W_MAX = max(w)\n",
    "INF = 10 ** 9 + 1\n",
    "dp = [[-INF] * (N * W_MAX + 1) for _ in range(N + 1)]\n",
    "dp[0][0] = 0\n",
    "\n",
    "for i in range(N):\n",
    "    for j in range(N * W_MAX + 1):\n",
    "        if j < w[i]:\n",
    "            dp[i + 1][j] = dp[i][j]\n",
    "        else:\n",
    "            dp[i + 1][j] = max(dp[i][j], dp[i][j - w[i]] + v[i])\n",
    "            \n",
    "print(dp[-1][W])"
   ]
  },
  {
   "cell_type": "markdown",
   "metadata": {},
   "source": [
    "単純に上から降りてくる分は，計算しなくて良い"
   ]
  },
  {
   "cell_type": "code",
   "execution_count": 41,
   "metadata": {},
   "outputs": [
    {
     "name": "stdout",
     "output_type": "stream",
     "text": [
      "16\n"
     ]
    }
   ],
   "source": [
    "W_MAX = max(w)\n",
    "INF = 10 ** 9 + 1\n",
    "dp = [0] * (W + 1)\n",
    "\n",
    "for i in range(N):\n",
    "    for j in reversed(range(w[i], W + 1)):\n",
    "        dp[j] = max(dp[j], dp[j - w[i]] + v[i])\n",
    "            \n",
    "print(max(dp))"
   ]
  },
  {
   "cell_type": "code",
   "execution_count": 40,
   "metadata": {},
   "outputs": [
    {
     "name": "stdout",
     "output_type": "stream",
     "text": [
      "[0, 0, 0, 0, 6, 6, 10, 10, 10, 15, 16]\n"
     ]
    }
   ],
   "source": [
    "print(dp)"
   ]
  },
  {
   "cell_type": "markdown",
   "metadata": {},
   "source": [
    "### データセット3\n",
    "\n",
    "価値の上限が決まった状態で，重さを最小化する．  \n",
    "dp[i番目の荷物][価値] = 重さ\n",
    "\n",
    "最後に，重さが wという制限を満たすような価値のindexを探す．"
   ]
  },
  {
   "cell_type": "code",
   "execution_count": 240,
   "metadata": {},
   "outputs": [
    {
     "name": "stdout",
     "output_type": "stream",
     "text": [
      "16\n"
     ]
    }
   ],
   "source": [
    "V_MAX = max(v)\n",
    "INF = 10 ** 9 + 1\n",
    "dp = [[INF] * (N * V_MAX + 1) for _ in range(N + 1)]\n",
    "dp[0][0] = 0\n",
    "\n",
    "for i in range(N):\n",
    "    for j in range(N * V_MAX + 1):\n",
    "        if j < v[i]:\n",
    "            dp[i + 1][j] = dp[i][j]\n",
    "        else:\n",
    "            dp[i + 1][j] = min(dp[i][j], dp[i][j - v[i]] + w[i])\n",
    "\n",
    "\n",
    "print(max(j for i in range(N) for j, v in enumerate(dp[i + 1]) if v <= W))"
   ]
  },
  {
   "cell_type": "code",
   "execution_count": 13,
   "metadata": {},
   "outputs": [
    {
     "name": "stdout",
     "output_type": "stream",
     "text": [
      "16\n"
     ]
    }
   ],
   "source": [
    "V_MAX = max(v)\n",
    "INF = 10 ** 9 + 1\n",
    "dp = [INF] * (N * V_MAX + 1)\n",
    "dp[0] = 0\n",
    "\n",
    "for i in range(N):\n",
    "    for j in reversed(range(N * V_MAX + 1)):\n",
    "        dp[j] = min(dp[j], dp[j - v[i]] + w[i])\n",
    "        \n",
    "print(max(j for j, v in enumerate(dp) if v <= W))"
   ]
  },
  {
   "cell_type": "markdown",
   "metadata": {},
   "source": [
    "# ARC 57 - B\n",
    "\n",
    "https://atcoder.jp/contests/arc057/tasks/arc057_b"
   ]
  },
  {
   "cell_type": "code",
   "execution_count": 60,
   "metadata": {},
   "outputs": [
    {
     "name": "stdout",
     "output_type": "stream",
     "text": [
      "ans: 3\n"
     ]
    }
   ],
   "source": [
    "N, K = 5, 7\n",
    "a = [2, 3, 7, 4, 9]\n",
    "\n",
    "print('ans: 3')"
   ]
  },
  {
   "cell_type": "code",
   "execution_count": 74,
   "metadata": {},
   "outputs": [
    {
     "name": "stdout",
     "output_type": "stream",
     "text": [
      "3\n"
     ]
    }
   ],
   "source": [
    "dp = [[float('inf')] * (N + 1) for _ in range(N + 1)]\n",
    "dp[0][0] = 0\n",
    "\n",
    "cnt = 0\n",
    "for i in range(N):\n",
    "    if i == 0:\n",
    "        dp[i + 1][0] = 0\n",
    "        dp[i + 1][1] = 1\n",
    "        cnt += a[i]\n",
    "        continue\n",
    "    \n",
    "    for j in reversed(range(i + 1)):\n",
    "        # j\n",
    "        dp[i + 1][j] = min(dp[i][j], dp[i + 1][j])\n",
    "        \n",
    "        # j + 1\n",
    "        th = dp[i][j] * a[i] // cnt + 1\n",
    "        if th <= a[i]:\n",
    "            dp[i + 1][j + 1] = min(dp[i][j + 1], dp[i][j] + th)\n",
    "        \n",
    "    cnt += a[i]\n",
    "    \n",
    "print(max(j for j in range(N + 1) if dp[N][j] <= K))"
   ]
  },
  {
   "cell_type": "code",
   "execution_count": 75,
   "metadata": {},
   "outputs": [
    {
     "data": {
      "text/plain": [
       "[[0, inf, inf, inf, inf, inf],\n",
       " [0, 1, inf, inf, inf, inf],\n",
       " [0, 1, 3, inf, inf, inf],\n",
       " [0, 1, 3, 8, inf, inf],\n",
       " [0, 1, 2, 5, 11, inf],\n",
       " [0, 1, 2, 4, 8, 18]]"
      ]
     },
     "execution_count": 75,
     "metadata": {},
     "output_type": "execute_result"
    }
   ],
   "source": [
    "dp"
   ]
  },
  {
   "cell_type": "markdown",
   "metadata": {},
   "source": [
    "# AGC 33 - D\n",
    "\n",
    "https://atcoder.jp/contests/agc033/tasks/agc033_d"
   ]
  },
  {
   "cell_type": "code",
   "execution_count": 76,
   "metadata": {},
   "outputs": [
    {
     "name": "stdout",
     "output_type": "stream",
     "text": [
      "ans: 2\n"
     ]
    }
   ],
   "source": [
    "H, W = 3, 3\n",
    "A = ['...', '.##', '.##']\n",
    "\n",
    "print('ans: 2')"
   ]
  },
  {
   "cell_type": "markdown",
   "metadata": {},
   "source": [
    "# Maximum-Cup 2018 - D\n",
    "\n",
    "https://atcoder.jp/contests/maximum-cup-2018/tasks/maximum_cup_2018_d"
   ]
  },
  {
   "cell_type": "code",
   "execution_count": 29,
   "metadata": {},
   "outputs": [],
   "source": [
    "N, M, L, X = 5, 11, 7, 5\n",
    "a = [1, 4, 5, 8, 9]"
   ]
  },
  {
   "cell_type": "code",
   "execution_count": 19,
   "metadata": {},
   "outputs": [],
   "source": [
    "N, M, L, X = 5, 10, 3, 100\n",
    "a = [1, 4, 7, 10, 14]"
   ]
  },
  {
   "cell_type": "code",
   "execution_count": 32,
   "metadata": {},
   "outputs": [
    {
     "name": "stdout",
     "output_type": "stream",
     "text": [
      "Yes\n"
     ]
    }
   ],
   "source": [
    "dp = [[10001] * M for _ in range(N + 1)]\n",
    "dp[0][0] = 1\n",
    "\n",
    "for i in range(N):\n",
    "    dp[i + 1][0] = 1\n",
    "\n",
    "    for j in range(M):\n",
    "        div, mod = divmod(j + a[i], M)\n",
    "        dp[i + 1][mod] = min(dp[i][j] + div, dp[i][mod])\n",
    "            \n",
    "print('Yes' if dp[-1][L] <= X else 'No')"
   ]
  },
  {
   "cell_type": "code",
   "execution_count": 33,
   "metadata": {},
   "outputs": [
    {
     "data": {
      "text/plain": [
       "[[1, 10001, 10001, 10001, 10001, 10001, 10001, 10001, 10001, 10001, 10001],\n",
       " [1, 1, 10001, 10001, 10001, 10001, 10001, 10001, 10001, 10001, 10001],\n",
       " [1, 1, 10001, 10001, 1, 1, 10001, 10001, 10001, 10001, 10001],\n",
       " [1, 1, 10001, 10001, 1, 1, 1, 10001, 10001, 1, 1],\n",
       " [1, 1, 2, 2, 1, 1, 1, 2, 1, 1, 1],\n",
       " [1, 1, 2, 2, 1, 1, 1, 2, 1, 1, 1]]"
      ]
     },
     "execution_count": 33,
     "metadata": {},
     "output_type": "execute_result"
    }
   ],
   "source": [
    "dp"
   ]
  },
  {
   "cell_type": "markdown",
   "metadata": {},
   "source": [
    "# ARC 73 - F\n",
    "\n",
    "https://atcoder.jp/contests/arc073/tasks/arc073_d\n",
    "\n",
    "インラインDPの解説  \n",
    "http://topcoder.g.hatena.ne.jp/skyaozora/20171212/1513084670"
   ]
  },
  {
   "cell_type": "code",
   "execution_count": 35,
   "metadata": {},
   "outputs": [
    {
     "name": "stdout",
     "output_type": "stream",
     "text": [
      "ans: 7\n"
     ]
    }
   ],
   "source": [
    "N, Q, A, B = 8, 3, 1, 8\n",
    "x = [3 ,5, 1]\n",
    "\n",
    "print('ans: 7')"
   ]
  },
  {
   "cell_type": "markdown",
   "metadata": {},
   "source": [
    "#### segtree (RMQ)を使う"
   ]
  },
  {
   "cell_type": "code",
   "execution_count": 56,
   "metadata": {},
   "outputs": [],
   "source": [
    "def update(idx, k, v):\n",
    "    k += N - 1\n",
    "    dat[idx][k] = v\n",
    "    while k > 0:\n",
    "        k = (k - 1) // 2\n",
    "        dat[idx][k] = min(dat[idx][k * 2] + 1, dat[idx][k * 2 + 2])"
   ]
  },
  {
   "cell_type": "code",
   "execution_count": 57,
   "metadata": {},
   "outputs": [],
   "source": [
    "INF = 10 ** 6 + 7\n",
    "\n",
    "def query(idx, a, b, k=0, l=0, r=N):\n",
    "    if r <= a or b <= l:\n",
    "        return INF\n",
    "    \n",
    "    if a <= l and r <= b:\n",
    "        return dat[idx][k]\n",
    "    \n",
    "    vl = query(idx, a, b, k * 2 + 1, l, (l + r) // 2)\n",
    "    vr = query(idx, a, b, k * 2 + 2, (l + r) // 2, r)\n",
    "    \n",
    "    return min(vl, vr)"
   ]
  },
  {
   "cell_type": "code",
   "execution_count": 58,
   "metadata": {},
   "outputs": [],
   "source": [
    "from math import log2, ceil\n",
    "dat = [[INF] * (N * 2 + 1) for _ in range(2)]\n",
    "\n",
    "update(0, B, N - B)\n",
    "update(1, B, B)\n",
    "\n",
    "q = [A] + x\n",
    "cnt = 0\n",
    "for i in range(Q):\n",
    "    dif = abs(q[i] - q[i + 1])\n",
    "    cnt += dif\n",
    "    ne = min(query(0, 0, q[i + 1] + 1) - (N - q[i + 1]),\n",
    "             query(1, q[i + 1], N + 1) - q[i + 1])\n",
    "    update(0, q[i], ne - dif + N - q[i])\n",
    "    update(1, q[i], ne - dif + q[i])\n",
    "    \n"
   ]
  },
  {
   "cell_type": "code",
   "execution_count": 64,
   "metadata": {},
   "outputs": [
    {
     "name": "stdout",
     "output_type": "stream",
     "text": [
      "0\n",
      "0 0\n"
     ]
    }
   ],
   "source": [
    "out = INF\n",
    "for i in range(N + 1):\n",
    "    out = min(out, dat[0][i + N - 1] - (N - i))\n",
    "    \n",
    "out2 = INF\n",
    "for i in range(N + 1):\n",
    "    out2 = min(out2, dat[1][i + N - 1] - i)\n",
    "\n",
    "print(out)\n",
    "print(out, out2)"
   ]
  },
  {
   "cell_type": "code",
   "execution_count": 60,
   "metadata": {},
   "outputs": [
    {
     "name": "stdout",
     "output_type": "stream",
     "text": [
      "[[1000006, 1000005, 1000006, 1000007, 1000005, 999999, 1000007, 1000007, 1000007, 1000007, 1000005, 1000007, 999999, 1000007, 1000007, 0, 1000007], [1000003, 1000002, 1000003, 1000001, 1000002, 1000001, 1000007, 1000007, 1000001, 1000007, 1000003, 1000007, 1000001, 1000007, 1000007, 8, 1000007]]\n"
     ]
    }
   ],
   "source": [
    "print(dat)"
   ]
  },
  {
   "cell_type": "markdown",
   "metadata": {},
   "source": [
    "# ABC 6 - D\n",
    "\n",
    "#### Longest Increasing Subsequence (LIS) の問題\n",
    "\n",
    "https://atcoder.jp/contests/abc006/tasks/abc006_4"
   ]
  },
  {
   "cell_type": "code",
   "execution_count": 1,
   "metadata": {},
   "outputs": [
    {
     "name": "stdout",
     "output_type": "stream",
     "text": [
      "ans: 2\n"
     ]
    }
   ],
   "source": [
    "N = 6\n",
    "c = [1, 3, 5, 2, 4, 6]\n",
    "\n",
    "print('ans: 2')"
   ]
  },
  {
   "cell_type": "code",
   "execution_count": 2,
   "metadata": {},
   "outputs": [
    {
     "name": "stdout",
     "output_type": "stream",
     "text": [
      "2\n"
     ]
    }
   ],
   "source": [
    "from bisect import bisect\n",
    "\n",
    "INF = 10 ** 6\n",
    "dp = [INF] * (N + 1)\n",
    "\n",
    "for i in range(N):\n",
    "    dp[bisect(dp, c[i])] = c[i]\n",
    "    \n",
    "print(N - max(i for i in range(N) if dp[i] < INF) - 1)"
   ]
  },
  {
   "cell_type": "code",
   "execution_count": 3,
   "metadata": {},
   "outputs": [
    {
     "data": {
      "text/plain": [
       "[1, 2, 4, 6, 1000000, 1000000, 1000000]"
      ]
     },
     "execution_count": 3,
     "metadata": {},
     "output_type": "execute_result"
    }
   ],
   "source": [
    "dp"
   ]
  },
  {
   "cell_type": "markdown",
   "metadata": {},
   "source": [
    "# ABC 38 - D\n",
    "\n",
    "https://atcoder.jp/contests/abc038/tasks/abc038_d"
   ]
  },
  {
   "cell_type": "code",
   "execution_count": 58,
   "metadata": {},
   "outputs": [
    {
     "name": "stdout",
     "output_type": "stream",
     "text": [
      "ans: 3\n"
     ]
    }
   ],
   "source": [
    "N = 3\n",
    "X = [[3, 3], [1, 1], [2, 2]]\n",
    "\n",
    "print('ans: 3')"
   ]
  },
  {
   "cell_type": "markdown",
   "metadata": {},
   "source": [
    "#### segtree (BIT)を使う"
   ]
  },
  {
   "cell_type": "code",
   "execution_count": 59,
   "metadata": {},
   "outputs": [],
   "source": [
    "MAX_N = 10 ** 5 + 1\n",
    "\n",
    "def update(i, v):\n",
    "    while i <= MAX_N:\n",
    "        bit[i] = max(bit[i], v)\n",
    "        i += i & -i\n",
    "        \n",
    "def query(i):\n",
    "    ret = 0\n",
    "    while i > 0:\n",
    "        ret = max(ret, bit[i])\n",
    "        i -= i & -i\n",
    "    return ret"
   ]
  },
  {
   "cell_type": "code",
   "execution_count": 64,
   "metadata": {},
   "outputs": [
    {
     "name": "stdout",
     "output_type": "stream",
     "text": [
      "3\n"
     ]
    }
   ],
   "source": [
    "bit = [0] * MAX_N\n",
    "\n",
    "for _, w in sorted(X, key=lambda x: (x[0], -x[1])):\n",
    "    update(w, query(w - 1) + 1)\n",
    "    \n",
    "print(max(bit))"
   ]
  },
  {
   "cell_type": "markdown",
   "metadata": {},
   "source": [
    "# Typical DP Contest - K\n",
    "\n",
    "https://atcoder.jp/contests/tdpc/tasks/tdpc_target"
   ]
  },
  {
   "cell_type": "code",
   "execution_count": 93,
   "metadata": {},
   "outputs": [
    {
     "name": "stdout",
     "output_type": "stream",
     "text": [
      "ans: 2\n"
     ]
    }
   ],
   "source": [
    "N = 3\n",
    "X = [[1, 1], [0, 3], [3, 2]]\n",
    "\n",
    "print('ans: 2')"
   ]
  },
  {
   "cell_type": "code",
   "execution_count": 98,
   "metadata": {},
   "outputs": [
    {
     "data": {
      "text/plain": [
       "[[1, 5], [-3, 3], [0, 2]]"
      ]
     },
     "execution_count": 98,
     "metadata": {},
     "output_type": "execute_result"
    }
   ],
   "source": [
    "Y = []\n",
    "\n",
    "for i in range(N):\n",
    "    Y.append([X[i][0] - X[i][1], X[i][0] + X[i][1]])\n",
    "    \n",
    "Y.sort(key=lambda x: (-x[1], -x[0]))\n",
    "Y"
   ]
  },
  {
   "cell_type": "markdown",
   "metadata": {},
   "source": [
    "#### 最長増加部分列を二分探索で解く"
   ]
  },
  {
   "cell_type": "code",
   "execution_count": 100,
   "metadata": {},
   "outputs": [
    {
     "name": "stdout",
     "output_type": "stream",
     "text": [
      "2\n"
     ]
    }
   ],
   "source": [
    "from bisect import bisect_left\n",
    "INF = 10 ** 8 + 1\n",
    "dp = [INF] * N\n",
    "\n",
    "for l, _ in Y:\n",
    "    s = bisect_left(dp, l)\n",
    "    dp[s] = min(dp[s], l)\n",
    "    \n",
    "print(bisect_left(dp, INF))"
   ]
  },
  {
   "cell_type": "code",
   "execution_count": 97,
   "metadata": {},
   "outputs": [
    {
     "data": {
      "text/plain": [
       "[-3, 0, 100000001]"
      ]
     },
     "execution_count": 97,
     "metadata": {},
     "output_type": "execute_result"
    }
   ],
   "source": [
    "dp"
   ]
  },
  {
   "cell_type": "markdown",
   "metadata": {},
   "source": [
    "# 第4回ドワンゴ C\n",
    "\n",
    "分割数とDP\n",
    "\n",
    "https://atcoder.jp/contests/dwacon2018-prelims/tasks/dwacon2018_prelims_c"
   ]
  },
  {
   "cell_type": "code",
   "execution_count": 152,
   "metadata": {},
   "outputs": [
    {
     "name": "stdout",
     "output_type": "stream",
     "text": [
      "ans: 6\n"
     ]
    }
   ],
   "source": [
    "N, M = 4, 1\n",
    "A = [0, 0, 0, 0]\n",
    "B = [5]\n",
    "\n",
    "print('ans: 6')"
   ]
  },
  {
   "cell_type": "markdown",
   "metadata": {},
   "source": [
    "#### 前処理"
   ]
  },
  {
   "cell_type": "code",
   "execution_count": 153,
   "metadata": {},
   "outputs": [
    {
     "data": {
      "text/plain": [
       "([4], [1])"
      ]
     },
     "execution_count": 153,
     "metadata": {},
     "output_type": "execute_result"
    }
   ],
   "source": [
    "from collections import Counter\n",
    "\n",
    "MOD = 10 ** 9 + 7\n",
    "\n",
    "SUM_A = sum(A)\n",
    "SUM_B = sum(B)\n",
    "\n",
    "K = [v for _, v in Counter(A).most_common()]\n",
    "L = [v for _, v in Counter(B).most_common()]\n",
    "tmax = max(K + L)\n",
    "\n",
    "K, L"
   ]
  },
  {
   "cell_type": "code",
   "execution_count": 154,
   "metadata": {},
   "outputs": [],
   "source": [
    "dp = [[0] * 1001 for _ in range(tmax + 2)]\n",
    "dp[0][0] = 1\n",
    "\n",
    "for i in range(1, tmax + 2):\n",
    "    for k in range(1001):\n",
    "        dp[i][k] += dp[i - 1][k]\n",
    "        dp[i][k] %= MOD\n",
    "        if k - i >= 0:\n",
    "            dp[i][k] += dp[i][k - i]\n",
    "            dp[i][k] %= MOD"
   ]
  },
  {
   "cell_type": "markdown",
   "metadata": {},
   "source": [
    "#### DP"
   ]
  },
  {
   "cell_type": "code",
   "execution_count": 155,
   "metadata": {},
   "outputs": [],
   "source": [
    "dpa = [[0] * (SUM_B + 1) for _ in range(len(K) + 1)]\n",
    "dpa[0][SUM_B] = 1\n",
    "\n",
    "for i in range(len(K)):\n",
    "    for k in range(SUM_B + 1):\n",
    "        for j in reversed(range(k, SUM_B + 1)):\n",
    "            dpa[i + 1][k] += dpa[i][j] * dp[K[i]][j - k]\n",
    "            dpa[i + 1][k] %= MOD"
   ]
  },
  {
   "cell_type": "code",
   "execution_count": 156,
   "metadata": {},
   "outputs": [],
   "source": [
    "dpb = [[0] * (SUM_A + 1) for _ in range(len(L) + 1)]\n",
    "dpb[0][SUM_A] = 1\n",
    "\n",
    "for i in range(len(L)):\n",
    "    for k in range(SUM_A + 1):\n",
    "        for j in reversed(range(k, SUM_A + 1)):\n",
    "            dpb[i + 1][k] += dpb[i][j] * dp[L[i]][j - k]\n",
    "            dpb[i + 1][k] %= MOD"
   ]
  },
  {
   "cell_type": "code",
   "execution_count": 158,
   "metadata": {},
   "outputs": [
    {
     "name": "stdout",
     "output_type": "stream",
     "text": [
      "6\n"
     ]
    }
   ],
   "source": [
    "print(dpa[-1][0] * dpb[-1][0] % MOD)"
   ]
  },
  {
   "cell_type": "markdown",
   "metadata": {},
   "source": [
    "# ABC 110 - D\n",
    "\n",
    "重複組み合わせ\n",
    "\n",
    "https://atcoder.jp/contests/abc110/tasks/abc110_d"
   ]
  },
  {
   "cell_type": "code",
   "execution_count": 204,
   "metadata": {},
   "outputs": [
    {
     "name": "stdout",
     "output_type": "stream",
     "text": [
      "ans: 4\n"
     ]
    }
   ],
   "source": [
    "N, M = 2, 6\n",
    "\n",
    "print('ans: 4')"
   ]
  },
  {
   "cell_type": "markdown",
   "metadata": {},
   "source": [
    "#### 素因数分解\n",
    "\n",
    "* M <= 10^9なので，その素因数は高々10^5の範囲に収まる\n",
    "* 割り算が進行しなかった場合，10^5よりも大きい素数が含まれている  \n",
    "  実は，そのkeyの値は何でも良い．  \n",
    "  ここで問題なのは，defaultdictのkeyではなくvalue（指数部）であるから．"
   ]
  },
  {
   "cell_type": "code",
   "execution_count": 205,
   "metadata": {},
   "outputs": [],
   "source": [
    "from collections import defaultdict\n",
    "\n",
    "prime = defaultdict(int)\n",
    "m = M\n",
    "for i in range(2, 10 ** 5):\n",
    "    while m % i == 0:\n",
    "        prime[i] += 1\n",
    "        m //= i\n",
    "        \n",
    "if m > 1:\n",
    "    prime[m] += 1"
   ]
  },
  {
   "cell_type": "code",
   "execution_count": 206,
   "metadata": {},
   "outputs": [
    {
     "data": {
      "text/plain": [
       "defaultdict(int, {2: 1, 3: 1})"
      ]
     },
     "execution_count": 206,
     "metadata": {},
     "output_type": "execute_result"
    }
   ],
   "source": [
    "prime"
   ]
  },
  {
   "cell_type": "markdown",
   "metadata": {},
   "source": [
    "#### combinationの計算\n",
    "\n",
    "コンビネーションの計算  \n",
    "${}_n \\mathrm{C}_k = \\prod_{i=1}^k \\frac{n - i + 1}{i} $\n",
    "\n",
    "また，割り算の計算はフェルマーの小定理から\n",
    "$a^{p - 2} \\equiv a^{-1} \\pmod p$"
   ]
  },
  {
   "cell_type": "code",
   "execution_count": 193,
   "metadata": {},
   "outputs": [],
   "source": [
    "MOD = 10 ** 9 + 7\n",
    "\n",
    "def comb(n, k):\n",
    "    a = 1\n",
    "    for i in range(1, k + 1):\n",
    "        a *= n - i + 1\n",
    "        a %= MOD\n",
    "        \n",
    "        a *= pow(i, MOD - 2, MOD)\n",
    "        a %= MOD\n",
    "        \n",
    "    return a"
   ]
  },
  {
   "cell_type": "code",
   "execution_count": 194,
   "metadata": {},
   "outputs": [
    {
     "name": "stdout",
     "output_type": "stream",
     "text": [
      "4\n"
     ]
    }
   ],
   "source": [
    "ans = 1\n",
    "for _, t in prime.items():\n",
    "    ans *= comb(t + N - 1, t)\n",
    "    ans %= MOD\n",
    "    \n",
    "print(ans)"
   ]
  },
  {
   "cell_type": "markdown",
   "metadata": {},
   "source": [
    "# ABC 21 - D\n",
    "\n",
    "https://atcoder.jp/contests/abc021/tasks/abc021_d"
   ]
  },
  {
   "cell_type": "code",
   "execution_count": 210,
   "metadata": {},
   "outputs": [
    {
     "name": "stdout",
     "output_type": "stream",
     "text": [
      "ans: 55\n"
     ]
    }
   ],
   "source": [
    "n = 10\n",
    "k = 2\n",
    "MOD = 10 ** 9 + 7\n",
    "\n",
    "print('ans: 55')"
   ]
  },
  {
   "cell_type": "markdown",
   "metadata": {},
   "source": [
    "#### DPで解く\n",
    "\n",
    "計算量がO(nk)なので，部分点解法となる．\n",
    "\n",
    "これは結局，  \n",
    "${}_n \\mathrm{C}_0 = 1 $  \n",
    "${}_n \\mathrm{C}_r = {}_{n-1} \\mathrm{C}_{r-1} + {}_{n-1} \\mathrm{C}_{r}$  \n",
    "を求めていることに等しい．"
   ]
  },
  {
   "cell_type": "code",
   "execution_count": 229,
   "metadata": {},
   "outputs": [
    {
     "name": "stdout",
     "output_type": "stream",
     "text": [
      "55\n"
     ]
    }
   ],
   "source": [
    "dp = [[0] * (k + 1) for _ in range(n + 1)]\n",
    "dp[0][0] = 1\n",
    "\n",
    "for i in range(n):\n",
    "    for j in range(k + 1):\n",
    "        if j == 0:\n",
    "            dp[i + 1][j] = 1\n",
    "        else:\n",
    "            dp[i + 1][j] = dp[i + 1][j - 1] + dp[i][j]\n",
    "            dp[i + 1][j] %= MOD\n",
    "            \n",
    "print(dp[-1][-1])"
   ]
  },
  {
   "cell_type": "code",
   "execution_count": 230,
   "metadata": {},
   "outputs": [
    {
     "data": {
      "text/plain": [
       "[[1, 0, 0],\n",
       " [1, 1, 1],\n",
       " [1, 2, 3],\n",
       " [1, 3, 6],\n",
       " [1, 4, 10],\n",
       " [1, 5, 15],\n",
       " [1, 6, 21],\n",
       " [1, 7, 28],\n",
       " [1, 8, 36],\n",
       " [1, 9, 45],\n",
       " [1, 10, 55]]"
      ]
     },
     "execution_count": 230,
     "metadata": {},
     "output_type": "execute_result"
    }
   ],
   "source": [
    "dp"
   ]
  },
  {
   "cell_type": "markdown",
   "metadata": {},
   "source": [
    "#### 重複組み合わせで解く\n",
    "\n",
    "${}_n \\mathrm{H}_k = {}_{n+k-1} \\mathrm{C}_{n-1}$"
   ]
  },
  {
   "cell_type": "code",
   "execution_count": 233,
   "metadata": {},
   "outputs": [
    {
     "name": "stdout",
     "output_type": "stream",
     "text": [
      "55\n"
     ]
    }
   ],
   "source": [
    "from math import factorial\n",
    "\n",
    "ans = factorial(n + k - 1) % MOD\n",
    "ans *= pow(factorial(n - 1), MOD - 2, MOD)\n",
    "ans %= MOD\n",
    "ans *= pow(factorial(k), MOD - 2, MOD)\n",
    "ans %= MOD\n",
    "print(ans)"
   ]
  },
  {
   "cell_type": "markdown",
   "metadata": {},
   "source": [
    "#### 階乗の配列を自分で作成する．"
   ]
  },
  {
   "cell_type": "code",
   "execution_count": 236,
   "metadata": {},
   "outputs": [],
   "source": [
    "MAX = 10 ** 5\n",
    "\n",
    "# Factorial\n",
    "fac = [0] * MAX\n",
    "fac[0] = 1\n",
    "fac[1] = 1\n",
    "\n",
    "# Inverse factorial\n",
    "finv = [0] * MAX\n",
    "inv = [0] * MAX\n",
    "finv[0] = 1\n",
    "finv[1] = 1\n",
    "inv[1] = 1\n",
    "\n",
    "for i in range(2, MAX):\n",
    "    fac[i] = fac[i - 1] * i % MOD\n",
    "    inv[i] = MOD - inv[MOD % i] * (MOD / i) % MOD\n",
    "    finv[i] = finv[i - 1] * inv[i] % MOD"
   ]
  },
  {
   "cell_type": "markdown",
   "metadata": {},
   "source": [
    "# ARC 4 - D\n",
    "\n",
    "https://atcoder.jp/contests/arc004/tasks/arc004_4"
   ]
  },
  {
   "cell_type": "code",
   "execution_count": 245,
   "metadata": {},
   "outputs": [
    {
     "name": "stdout",
     "output_type": "stream",
     "text": [
      "ans: 8\n"
     ]
    }
   ],
   "source": [
    "N, M = 10, 2\n",
    "MOD = 10 ** 9 + 7\n",
    "\n",
    "print('ans: 8')"
   ]
  },
  {
   "cell_type": "code",
   "execution_count": 256,
   "metadata": {},
   "outputs": [],
   "source": [
    "from collections import defaultdict\n",
    "\n",
    "prime = defaultdict(int)\n",
    "n = abs(N)\n",
    "for i in range(2, 10 ** 5):\n",
    "    while n % i == 0:\n",
    "        prime[i] += 1\n",
    "        n //= i\n",
    "        \n",
    "if n > 1:\n",
    "    prime[n] += 1"
   ]
  },
  {
   "cell_type": "code",
   "execution_count": 257,
   "metadata": {},
   "outputs": [
    {
     "data": {
      "text/plain": [
       "defaultdict(int, {2: 1, 5: 1})"
      ]
     },
     "execution_count": 257,
     "metadata": {},
     "output_type": "execute_result"
    }
   ],
   "source": [
    "prime"
   ]
  },
  {
   "cell_type": "code",
   "execution_count": 185,
   "metadata": {},
   "outputs": [],
   "source": [
    "MOD = 10 ** 9 + 7\n",
    "\n",
    "def comb(n, k):\n",
    "    ret = 1\n",
    "    for i in range(1, k + 1):\n",
    "        ret = ret * (n - i + 1) % MOD        \n",
    "        ret = ret * pow(i, MOD - 2, MOD) % MOD\n",
    "        \n",
    "    return ret"
   ]
  },
  {
   "cell_type": "markdown",
   "metadata": {},
   "source": [
    "-1のつき方は，項数Mに依存する．"
   ]
  },
  {
   "cell_type": "code",
   "execution_count": 259,
   "metadata": {},
   "outputs": [
    {
     "name": "stdout",
     "output_type": "stream",
     "text": [
      "8\n"
     ]
    }
   ],
   "source": [
    "ans = (2 ** M) // 2 % MOD\n",
    "for k, v in prime.items():\n",
    "    ans *= comb(v + M - 1, v)\n",
    "    ans %= MOD\n",
    "    \n",
    "print(ans)"
   ]
  },
  {
   "cell_type": "code",
   "execution_count": 260,
   "metadata": {},
   "outputs": [
    {
     "data": {
      "text/plain": [
       "2"
      ]
     },
     "execution_count": 260,
     "metadata": {},
     "output_type": "execute_result"
    }
   ],
   "source": [
    "(2 ** M) // 2 % MOD"
   ]
  },
  {
   "cell_type": "markdown",
   "metadata": {},
   "source": [
    "# TDPC - B\n",
    "\n",
    "https://atcoder.jp/contests/tdpc/tasks/tdpc_game"
   ]
  },
  {
   "cell_type": "code",
   "execution_count": 268,
   "metadata": {},
   "outputs": [
    {
     "name": "stdout",
     "output_type": "stream",
     "text": [
      "ans: 11\n"
     ]
    }
   ],
   "source": [
    "A, B = 1, 2\n",
    "a = [1]\n",
    "b = [2, 10]\n",
    "\n",
    "print('ans: 11')"
   ]
  },
  {
   "cell_type": "code",
   "execution_count": 299,
   "metadata": {},
   "outputs": [
    {
     "name": "stdout",
     "output_type": "stream",
     "text": [
      "ans: 21\n"
     ]
    }
   ],
   "source": [
    "A, B = 5, 5\n",
    "a = [2, 4, 5, 4, 2]\n",
    "b = [2, 8, 3, 4, 5]\n",
    "\n",
    "print('ans: 21')"
   ]
  },
  {
   "cell_type": "markdown",
   "metadata": {},
   "source": [
    "#### 後ろから累積和を取る"
   ]
  },
  {
   "cell_type": "code",
   "execution_count": 304,
   "metadata": {},
   "outputs": [],
   "source": [
    "from itertools import accumulate\n",
    "sa = list(accumulate(reversed(a)))[::-1] + [0]\n",
    "sb = list(accumulate(reversed(b)))[::-1] + [0]"
   ]
  },
  {
   "cell_type": "code",
   "execution_count": 301,
   "metadata": {},
   "outputs": [
    {
     "data": {
      "text/plain": [
       "([17, 15, 11, 6, 2, 0], [22, 20, 12, 9, 5, 0])"
      ]
     },
     "execution_count": 301,
     "metadata": {},
     "output_type": "execute_result"
    }
   ],
   "source": [
    "sa, sb"
   ]
  },
  {
   "cell_type": "code",
   "execution_count": 308,
   "metadata": {},
   "outputs": [
    {
     "data": {
      "text/plain": [
       "(4, 5, 2)"
      ]
     },
     "execution_count": 308,
     "metadata": {},
     "output_type": "execute_result"
    }
   ],
   "source": [
    "j = 2\n",
    "i = 1\n",
    "b[-j], sb[-j], sa[-i - 1]"
   ]
  },
  {
   "cell_type": "code",
   "execution_count": 311,
   "metadata": {},
   "outputs": [
    {
     "name": "stdout",
     "output_type": "stream",
     "text": [
      "[2, 8, 3, 4, 5]\n",
      "[22, 20, 12, 9, 5, 0]\n"
     ]
    }
   ],
   "source": [
    "print(b)\n",
    "print(sb)"
   ]
  },
  {
   "cell_type": "code",
   "execution_count": 310,
   "metadata": {},
   "outputs": [
    {
     "name": "stdout",
     "output_type": "stream",
     "text": [
      "5 0 0 5\n",
      "4 5 5 4\n",
      "3 9 4 8\n",
      "8 12 8 12\n",
      "2 20 12 10\n",
      "21\n"
     ]
    }
   ],
   "source": [
    "dp = [[0] * (B + 1) for _ in range(A + 1)]\n",
    "for i in range(A + 1):\n",
    "    for j in range(B + 1):\n",
    "        if i == 0 and j == 0:\n",
    "            continue\n",
    "        if i == 0:\n",
    "            print(b[-j], sb[-j], dp[i][j - 1], b[-j] + sb[-j] - dp[i][j - 1])\n",
    "            dp[i][j] = b[-j] + sb[-j] - dp[i][j - 1]\n",
    "            continue\n",
    "        if j == 0:\n",
    "            dp[i][j] = a[-i] + sa[-i] - dp[i - 1][j]\n",
    "            continue\n",
    "        dp[i][j] = max(b[-j] + sb[-j] + sa[-i - 1] - dp[i - 1][j],\n",
    "                       a[-i] + sa[-i] + sb[-j - 1] - dp[i][j - 1])\n",
    "        \n",
    "print(dp[-1][-1])"
   ]
  },
  {
   "cell_type": "code",
   "execution_count": 303,
   "metadata": {},
   "outputs": [
    {
     "data": {
      "text/plain": [
       "[[0, 5, 4, 8, 12, 10],\n",
       " [2, 5, 7, 7, 15, 14],\n",
       " [4, 7, 8, 11, 15, 14],\n",
       " [7, 9, 12, 12, 19, 19],\n",
       " [8, 12, 12, 15, 20, 18],\n",
       " [9, 13, 14, 15, 22, 21]]"
      ]
     },
     "execution_count": 303,
     "metadata": {},
     "output_type": "execute_result"
    }
   ],
   "source": [
    "dp"
   ]
  },
  {
   "cell_type": "markdown",
   "metadata": {},
   "source": [
    "#### Dijkstra法を使った別解"
   ]
  },
  {
   "cell_type": "code",
   "execution_count": 328,
   "metadata": {},
   "outputs": [
    {
     "name": "stdout",
     "output_type": "stream",
     "text": [
      "ans: 21\n"
     ]
    }
   ],
   "source": [
    "A, B = 5, 5\n",
    "a = [2, 4, 5, 4, 2]\n",
    "b = [2, 8, 3, 4, 5]\n",
    "\n",
    "print('ans: 21')"
   ]
  },
  {
   "cell_type": "code",
   "execution_count": 341,
   "metadata": {},
   "outputs": [],
   "source": [
    "INF = 10 ** 9\n",
    "score = [[0] * (B + 1) for _ in range(A + 1)]\n",
    "searched = [[False] * (B + 1) for _ in range(A + 1)]\n",
    "\n",
    "for i in range(A + 1):\n",
    "    for j in range(B + 1):\n",
    "        if (i + j) % 2:\n",
    "            score[i][j] = INF\n",
    "            \n",
    "score[-1][-1] = 0"
   ]
  },
  {
   "cell_type": "code",
   "execution_count": 342,
   "metadata": {},
   "outputs": [
    {
     "name": "stdout",
     "output_type": "stream",
     "text": [
      "21\n"
     ]
    }
   ],
   "source": [
    "from collections import deque\n",
    "\n",
    "deq = deque()\n",
    "deq.append((A, B))\n",
    "\n",
    "while deq:\n",
    "    x, y = deq.popleft()\n",
    "    if x:\n",
    "        if (x + y) % 2:\n",
    "            score[x - 1][y] = max(score[x][y] + a[x - 1], score[x - 1][y])\n",
    "        else:\n",
    "            score[x - 1][y] = min(score[x][y], score[x - 1][y])\n",
    "            \n",
    "        if not searched[x - 1][y]:\n",
    "            deq.append((x - 1, y))\n",
    "            searched[x - 1][y] = True\n",
    "            \n",
    "    if y:\n",
    "        if (x + y) % 2:\n",
    "            score[x][y - 1] = max(score[x][y] + b[y - 1], score[x][y - 1])\n",
    "        else:\n",
    "            score[x][y - 1] = min(score[x][y], score[x][y - 1])\n",
    "            \n",
    "        if not searched[x][y - 1]:\n",
    "            deq.append((x, y - 1))\n",
    "            searched[x][y - 1] = True\n",
    "            \n",
    "print(score[0][0])"
   ]
  },
  {
   "cell_type": "code",
   "execution_count": 343,
   "metadata": {},
   "outputs": [
    {
     "data": {
      "text/plain": [
       "[[21, 15, 15, 12, 13, 8],\n",
       " [19, 20, 12, 12, 8, 8],\n",
       " [19, 12, 12, 8, 9, 4],\n",
       " [14, 15, 7, 8, 4, 4],\n",
       " [14, 7, 7, 4, 5, 0],\n",
       " [12, 12, 4, 4, 0, 0]]"
      ]
     },
     "execution_count": 343,
     "metadata": {},
     "output_type": "execute_result"
    }
   ],
   "source": [
    "score"
   ]
  },
  {
   "cell_type": "markdown",
   "metadata": {},
   "source": [
    "# ABC 25 - C\n",
    "\n",
    "https://atcoder.jp/contests/abc025/tasks/abc025_c"
   ]
  },
  {
   "cell_type": "code",
   "execution_count": 344,
   "metadata": {},
   "outputs": [
    {
     "name": "stdout",
     "output_type": "stream",
     "text": [
      "ans: 15, 80\n"
     ]
    }
   ],
   "source": [
    "B = [[0, 15, 0], [0, 0, 25]]\n",
    "C = [[20, 10], [0, 0], [25, 0]]\n",
    "\n",
    "print('ans: 15, 80')"
   ]
  },
  {
   "cell_type": "markdown",
   "metadata": {},
   "source": [
    "# TDPC - I\n",
    "\n",
    "区間DP\n",
    "\n",
    "https://atcoder.jp/contests/tdpc/tasks/tdpc_iwi"
   ]
  },
  {
   "cell_type": "code",
   "execution_count": 9,
   "metadata": {},
   "outputs": [
    {
     "name": "stdout",
     "output_type": "stream",
     "text": [
      "ans: 2\n"
     ]
    }
   ],
   "source": [
    "s = 'iwiwii'\n",
    "\n",
    "print('ans: 2')"
   ]
  },
  {
   "cell_type": "code",
   "execution_count": 6,
   "metadata": {},
   "outputs": [
    {
     "name": "stdout",
     "output_type": "stream",
     "text": [
      "ans: 5\n"
     ]
    }
   ],
   "source": [
    "s = 'iwiwwwiiiwiwiwiiwii'\n",
    "\n",
    "print('ans: 5')"
   ]
  },
  {
   "cell_type": "markdown",
   "metadata": {},
   "source": [
    "### Comment 1\n",
    "\n",
    "区間内で最大の操作回数を探す．\n",
    "\n",
    "### Comment 2\n",
    "\n",
    "'iwi'を抜き出せる場合は，抜き出し後の操作回数を求める．  \n",
    "条件は以下の通り．\n",
    "\n",
    "* 両端が'i'\n",
    "* その間に'w'がある\n",
    "* 両端の'i'と中にある'w'との間の文字列が全て消える  \n",
    "  →　間の操作回数の3倍の長さが，残りの文字列の長さと等しい"
   ]
  },
  {
   "cell_type": "code",
   "execution_count": 12,
   "metadata": {},
   "outputs": [
    {
     "name": "stdout",
     "output_type": "stream",
     "text": [
      "0 3 3\n",
      "1 4 3\n",
      "2 5 3\n",
      "3 6 3\n",
      "0 4 4\n",
      "1 5 4\n",
      "2 6 4\n",
      "0 5 5\n",
      "1 6 5\n",
      "0 6 6\n",
      "2\n"
     ]
    }
   ],
   "source": [
    "N = len(s)\n",
    "dp = [[0] * (N + 1) for _ in range(N + 1)]\n",
    "\n",
    "for w in range(3, N + 1):\n",
    "    for l in range(N - w + 1):\n",
    "        r = l + w\n",
    "        print(l, r, w)\n",
    "        \n",
    "        # Comment 1\n",
    "        for mid in range(l + 1, r):\n",
    "            dp[l][r] = max(dp[l][r], dp[l][mid] + dp[mid][r])\n",
    "            \n",
    "        # Comment 2\n",
    "        if s[l] == s[r - 1] == 'i':\n",
    "            for mid in range(l + 1, r - 1):\n",
    "                if s[mid] == 'w' and \\\n",
    "                        (dp[l + 1][mid] + dp[mid + 1][r - 1]) * 3 == r - l - 3:\n",
    "                    dp[l][r] = (r - l) // 3\n",
    "                    break\n",
    "                    \n",
    "print(dp[0][N])"
   ]
  },
  {
   "cell_type": "code",
   "execution_count": 11,
   "metadata": {},
   "outputs": [
    {
     "data": {
      "text/plain": [
       "[[0, 0, 0, 1, 1, 1, 2],\n",
       " [0, 0, 0, 0, 0, 1, 1],\n",
       " [0, 0, 0, 0, 0, 1, 1],\n",
       " [0, 0, 0, 0, 0, 0, 0],\n",
       " [0, 0, 0, 0, 0, 0, 0],\n",
       " [0, 0, 0, 0, 0, 0, 0],\n",
       " [0, 0, 0, 0, 0, 0, 0]]"
      ]
     },
     "execution_count": 11,
     "metadata": {},
     "output_type": "execute_result"
    }
   ],
   "source": [
    "dp"
   ]
  },
  {
   "cell_type": "markdown",
   "metadata": {},
   "source": [
    "# AOJ 1611\n",
    "\n",
    "区間DP ~ $O(N^3)$\n",
    "\n",
    "for width  \n",
    "for left  \n",
    "for mid (between left and right (=left + width))\n",
    "\n",
    "http://judge.u-aizu.ac.jp/onlinejudge/description.jsp?id=1611&lang=jp"
   ]
  },
  {
   "cell_type": "code",
   "execution_count": 2,
   "metadata": {},
   "outputs": [
    {
     "name": "stdout",
     "output_type": "stream",
     "text": [
      "ans: 4\n"
     ]
    }
   ],
   "source": [
    "N = 4\n",
    "W = [1, 2, 3, 4]\n",
    "\n",
    "print('ans: 4')"
   ]
  },
  {
   "cell_type": "code",
   "execution_count": 6,
   "metadata": {},
   "outputs": [
    {
     "name": "stdout",
     "output_type": "stream",
     "text": [
      "ans: 2\n"
     ]
    }
   ],
   "source": [
    "N = 5\n",
    "W = [5, 1, 2, 3, 6]\n",
    "\n",
    "print('ans: 2')"
   ]
  },
  {
   "cell_type": "markdown",
   "metadata": {},
   "source": [
    "#### 解答例\n",
    "\n",
    "http://judge.u-aizu.ac.jp/onlinejudge/review.jsp?rid=2711991#1"
   ]
  },
  {
   "cell_type": "code",
   "execution_count": 11,
   "metadata": {},
   "outputs": [
    {
     "name": "stdout",
     "output_type": "stream",
     "text": [
      "2\n"
     ]
    }
   ],
   "source": [
    "dp = [[0] * (N + 1) for _ in range(N + 1)]\n",
    "\n",
    "for w in range(2, N + 1, 2):\n",
    "    for l in range(N - w + 1):\n",
    "        r = l + w\n",
    "        dp[l][r - 1] = dp[l + 1][r - 2]\n",
    "        \n",
    "        if abs(W[l] - W[r - 1]) <= 1 and dp[l][r - 1] == (w - 2) // 2:\n",
    "            dp[l][r - 1] += 1\n",
    "            \n",
    "        for m in range(l + 1, r - 1, 2):\n",
    "            dp[l][r - 1] = max(dp[l][r - 1], dp[l][m] + dp[m + 1][r - 1])\n",
    "            \n",
    "if N % 2 == 1:\n",
    "    print(max(dp[0][N - 2], dp[1][N - 1]) * 2)\n",
    "else:\n",
    "    print(dp[0][N - 1] * 2)"
   ]
  },
  {
   "cell_type": "code",
   "execution_count": 12,
   "metadata": {},
   "outputs": [
    {
     "data": {
      "text/plain": [
       "[[0, 0, 0, 1, 0, 0],\n",
       " [0, 0, 1, 0, 1, 0],\n",
       " [0, 0, 0, 1, 0, 0],\n",
       " [0, 0, 0, 0, 0, 0],\n",
       " [0, 0, 0, 0, 0, 0],\n",
       " [0, 0, 0, 0, 0, 0]]"
      ]
     },
     "execution_count": 12,
     "metadata": {},
     "output_type": "execute_result"
    }
   ],
   "source": [
    "dp"
   ]
  },
  {
   "cell_type": "markdown",
   "metadata": {},
   "source": [
    "# ABC 36 - D\n",
    "\n",
    "ツリーDP\n",
    "\n",
    "https://atcoder.jp/contests/abc036/tasks/abc036_d"
   ]
  },
  {
   "cell_type": "code",
   "execution_count": 1,
   "metadata": {},
   "outputs": [
    {
     "name": "stdout",
     "output_type": "stream",
     "text": [
      "ans: 14\n"
     ]
    }
   ],
   "source": [
    "N = 5\n",
    "X = [[2, 5], [1, 5], [2, 4], [3, 2]]\n",
    "\n",
    "MOD = 10 ** 9 + 7\n",
    "\n",
    "print('ans: 14')"
   ]
  },
  {
   "cell_type": "code",
   "execution_count": 7,
   "metadata": {},
   "outputs": [],
   "source": [
    "from collections import defaultdict\n",
    "graph = defaultdict(set)\n",
    "for v, w in X:\n",
    "    graph[v].add(w)\n",
    "    graph[w].add(v)"
   ]
  },
  {
   "cell_type": "code",
   "execution_count": 10,
   "metadata": {},
   "outputs": [
    {
     "name": "stdout",
     "output_type": "stream",
     "text": [
      "2 3 1 1 1 2\n",
      "2 4 1 1 1 4\n",
      "5 2 1 4 4 5\n",
      "1 5 4 5 5 9\n",
      "14\n"
     ]
    }
   ],
   "source": [
    "visited = [False] * (N + 1)\n",
    "\n",
    "def dfs(v):\n",
    "    visited[v] = True\n",
    "    pb = 1\n",
    "    pw = 1\n",
    "    for j in graph[v]:\n",
    "        if visited[j]:\n",
    "            continue\n",
    "            \n",
    "        b, w = dfs(j)\n",
    "        pb = pb * w % MOD\n",
    "        pw = pw * (b + w) % MOD\n",
    "        print(v, j, b, w, pb, pw)\n",
    "        \n",
    "    return pb, pw\n",
    "\n",
    "print(sum(dfs(1)) % MOD)"
   ]
  },
  {
   "cell_type": "markdown",
   "metadata": {},
   "source": [
    "# ABC 70 - C\n",
    "\n",
    "ツリーDP\n",
    "\n",
    "\n",
    "Dijkstraと似ているが，こちらは親が一意に決まるので，より簡単に実装できる．\n",
    "\n",
    "https://atcoder.jp/contests/abc070/tasks/abc070_d"
   ]
  },
  {
   "cell_type": "code",
   "execution_count": 1,
   "metadata": {},
   "outputs": [
    {
     "name": "stdout",
     "output_type": "stream",
     "text": [
      "ans: 3, 2, 4\n"
     ]
    }
   ],
   "source": [
    "N = 5\n",
    "edges = [[1, 2, 1], [1, 3, 1], [2, 4, 1], [3, 5, 1]]\n",
    "\n",
    "Q, K = 3, 1\n",
    "Y = [[2, 4], [2, 3], [4, 5]]\n",
    "\n",
    "print('ans: 3, 2, 4')"
   ]
  },
  {
   "cell_type": "code",
   "execution_count": 2,
   "metadata": {},
   "outputs": [],
   "source": [
    "from collections import defaultdict\n",
    "graph = defaultdict(set)\n",
    "for v, w, c in edges:\n",
    "    graph[v].add((w, c))\n",
    "    graph[w].add((v, c))"
   ]
  },
  {
   "cell_type": "markdown",
   "metadata": {},
   "source": [
    "#### 再帰で解く場合は，recursionの上限に注意する．\n",
    "\n",
    "また，以下の回答ではTLEになる．"
   ]
  },
  {
   "cell_type": "code",
   "execution_count": 20,
   "metadata": {},
   "outputs": [],
   "source": [
    "INF = 10 ** 9 + 7\n",
    "dp = [INF] * (N + 1)\n",
    "\n",
    "def dfs(v, p, d):\n",
    "    \"\"\"\n",
    "    v: vertex\n",
    "    p: parent\n",
    "    d: distance\n",
    "    \"\"\"\n",
    "    \n",
    "    dp[v] = d\n",
    "    for j, c in graph[v]:\n",
    "        if j == p:\n",
    "            continue\n",
    "            \n",
    "        dfs(j, v, d + c)\n",
    "\n",
    "dfs(K, 0, 0)"
   ]
  },
  {
   "cell_type": "markdown",
   "metadata": {},
   "source": [
    "#### Priority QueueでDijkstraと同じ計算量で解く\n",
    "\n",
    "木になっているので，一度しか訪れないことが保証されている．  \n",
    "問題は親に戻ってしまうことだが，それはdpが初期値になっていないことを確認すれば良い．"
   ]
  },
  {
   "cell_type": "code",
   "execution_count": 3,
   "metadata": {},
   "outputs": [],
   "source": [
    "from heapq import heappop, heappush\n",
    "\n",
    "dp = [-1] * (N + 1)\n",
    "pq = []\n",
    "\n",
    "# Initialization\n",
    "dp[K] = 0\n",
    "heappush(pq, (0, K))\n",
    "\n",
    "while pq:\n",
    "    cost, u = heappop(pq)\n",
    "    \n",
    "    for w, c in graph[u]:\n",
    "        if dp[w] > -1:\n",
    "            continue\n",
    "\n",
    "        dp[w] = dp[u] + c\n",
    "        heappush(pq, (dp[w], w))"
   ]
  },
  {
   "cell_type": "code",
   "execution_count": 4,
   "metadata": {},
   "outputs": [
    {
     "data": {
      "text/plain": [
       "[-1, 0, 1, 1, 2, 2]"
      ]
     },
     "execution_count": 4,
     "metadata": {},
     "output_type": "execute_result"
    }
   ],
   "source": [
    "dp"
   ]
  },
  {
   "cell_type": "code",
   "execution_count": 19,
   "metadata": {},
   "outputs": [
    {
     "name": "stdout",
     "output_type": "stream",
     "text": [
      "3\n",
      "2\n",
      "4\n"
     ]
    }
   ],
   "source": [
    "for x, y in Y:\n",
    "    print(dp[x] + dp[y])"
   ]
  },
  {
   "cell_type": "markdown",
   "metadata": {},
   "source": [
    "# ABC 37 - D\n",
    "\n",
    "DAG DP\n",
    "\n",
    "https://atcoder.jp/contests/abc037/tasks/abc037_d"
   ]
  },
  {
   "cell_type": "code",
   "execution_count": 1,
   "metadata": {},
   "outputs": [
    {
     "name": "stdout",
     "output_type": "stream",
     "text": [
      "ans: 18\n"
     ]
    }
   ],
   "source": [
    "H, W = 2, 3\n",
    "a = [[1, 4, 5], [2, 4, 9]]\n",
    "\n",
    "print('ans: 18')"
   ]
  },
  {
   "cell_type": "markdown",
   "metadata": {},
   "source": [
    "Comment部分で，不等号の向きを逆転した場合だとTLEにならずに通る（答えは同じ）"
   ]
  },
  {
   "cell_type": "code",
   "execution_count": 12,
   "metadata": {},
   "outputs": [
    {
     "name": "stdout",
     "output_type": "stream",
     "text": [
      "18\n"
     ]
    }
   ],
   "source": [
    "import sys\n",
    "sys.setrecursionlimit(10 ** 8)\n",
    "\n",
    "dp = [[0] * W for _ in range(H)]\n",
    "offsets_x = [0, 0, 1, -1]\n",
    "offsets_y = [1, -1, 0, 0]\n",
    "MOD = 10 ** 9 + 7\n",
    "\n",
    "def dfs(v, w):\n",
    "    if dp[v][w] != 0:\n",
    "        return dp[v][w]\n",
    "    \n",
    "    cnt = 1\n",
    "    for i in range(4):\n",
    "        x = offsets_x[i]\n",
    "        y = offsets_y[i]\n",
    "        \n",
    "        # Comment\n",
    "        if (0 <= v + x < H) and (0 <= w + y < W) \\\n",
    "               and (a[v][w] < a[v + x][w + y]):\n",
    "                cnt += dfs(v + x, w + y)\n",
    "\n",
    "    cnt %= MOD\n",
    "    dp[v][w] = cnt\n",
    "    return cnt\n",
    "\n",
    "ans = 0\n",
    "for i in range(H):\n",
    "    for j in range(W):\n",
    "        ans += dfs(i, j)\n",
    "        ans %= MOD\n",
    "            \n",
    "print(ans)"
   ]
  },
  {
   "cell_type": "code",
   "execution_count": 5,
   "metadata": {},
   "outputs": [
    {
     "data": {
      "text/plain": [
       "[[7, 3, 2], [3, 2, 1]]"
      ]
     },
     "execution_count": 5,
     "metadata": {},
     "output_type": "execute_result"
    }
   ],
   "source": [
    "dp"
   ]
  },
  {
   "cell_type": "markdown",
   "metadata": {},
   "source": [
    "# JOI 2006 - F\n",
    "\n",
    "グリッドDP\n",
    "\n",
    "https://atcoder.jp/contests/joi2007yo/tasks/joi2007yo_f"
   ]
  },
  {
   "cell_type": "code",
   "execution_count": 1,
   "metadata": {},
   "outputs": [
    {
     "name": "stdout",
     "output_type": "stream",
     "text": [
      "ans: 5\n"
     ]
    }
   ],
   "source": [
    "a, b = 5, 4\n",
    "n = 3\n",
    "X = [[2, 2], [2, 3], [4, 2]]\n",
    "\n",
    "print('ans: 5')"
   ]
  },
  {
   "cell_type": "code",
   "execution_count": 3,
   "metadata": {},
   "outputs": [
    {
     "name": "stdout",
     "output_type": "stream",
     "text": [
      "5\n"
     ]
    }
   ],
   "source": [
    "def dfs(v, w):\n",
    "    if v == a and w == b:\n",
    "        return 1\n",
    "    \n",
    "    for x, y in X:\n",
    "        if x == v and y == w:\n",
    "            return 0\n",
    "    \n",
    "    cnt = 0\n",
    "    for i, j in [(0, 1), (1, 0)]:\n",
    "        if (not 1 <= v + i <= a) or (not 1 <= w + j <= b):\n",
    "            continue\n",
    "            \n",
    "        cnt += dfs(v + i, w + j)\n",
    "        \n",
    "    return cnt\n",
    "\n",
    "print(dfs(1, 1))"
   ]
  },
  {
   "cell_type": "markdown",
   "metadata": {},
   "source": [
    "# JOI本選 2007 - D\n",
    "\n",
    "https://atcoder.jp/contests/joi2008ho/tasks/joi2008ho_d"
   ]
  },
  {
   "cell_type": "code",
   "execution_count": 3,
   "metadata": {},
   "outputs": [
    {
     "name": "stdout",
     "output_type": "stream",
     "text": [
      "ans: 17\n"
     ]
    }
   ],
   "source": [
    "n, m = 5, 1\n",
    "X = [2, 1, 1, 1, 1]\n",
    "Y = [[(1, 3), (2, 2)], [(3, 2)], [(1, 7)], [(2, 1)], [(4, 4)]]\n",
    "\n",
    "print('ans: 17')"
   ]
  },
  {
   "cell_type": "code",
   "execution_count": 1,
   "metadata": {},
   "outputs": [
    {
     "name": "stdout",
     "output_type": "stream",
     "text": [
      "ans: 40\n"
     ]
    }
   ],
   "source": [
    "n, m = 5, 0\n",
    "X = [2, 1, 1, 1, 1]\n",
    "Y = [[(1, 3), (2, 2)], [(3, 2)], [(1, 7)], [(2, 1)], [(4, 4)]]\n",
    "\n",
    "print('ans: 40')"
   ]
  },
  {
   "cell_type": "markdown",
   "metadata": {},
   "source": [
    "#### 部分点解法"
   ]
  },
  {
   "cell_type": "code",
   "execution_count": 6,
   "metadata": {},
   "outputs": [
    {
     "name": "stdout",
     "output_type": "stream",
     "text": [
      "17\n"
     ]
    }
   ],
   "source": [
    "INF = 10 ** 9 + 7\n",
    "\n",
    "def dfs(i, j, c, l):\n",
    "    \"\"\"\n",
    "    i: row\n",
    "    j: column\n",
    "    c: cost\n",
    "    l: 2-step jump\n",
    "    \"\"\"\n",
    "    if (i == n - 1) or (i == n - 2 and l < m):\n",
    "        return 0\n",
    "    \n",
    "    if l > m:\n",
    "        return INF\n",
    "    \n",
    "    # Jump to next row\n",
    "    ret = INF\n",
    "    for w in range(X[i + 1]):\n",
    "        u, v = Y[i + 1][w]\n",
    "        cost = (c + v) * abs(j - u) + dfs(i + 1, u, v, l)\n",
    "        ret = min(ret, cost)\n",
    "        \n",
    "    if i == n - 2:\n",
    "        return ret\n",
    "    \n",
    "    # Jump to 2-step row\n",
    "    for w in range(X[i + 2]):\n",
    "        u, v = Y[i + 2][w]\n",
    "        cost = (c + v) * abs(j - u) + dfs(i + 2, u, v, l + 1)\n",
    "        ret = min(ret, cost)\n",
    "        \n",
    "    return ret\n",
    "\n",
    "ans = INF\n",
    "for w in range(X[0]):\n",
    "    u, v = Y[0][w]\n",
    "    ans = min(ans, dfs(0, u, v, 0))\n",
    "    \n",
    "if m > 0:\n",
    "    for w in range(X[1]):\n",
    "        u, v = Y[1][w]\n",
    "        ans = min(ans, dfs(1, u, v, 1))\n",
    "\n",
    "print(ans)"
   ]
  },
  {
   "cell_type": "markdown",
   "metadata": {},
   "source": [
    "#### メモ化再帰"
   ]
  },
  {
   "cell_type": "code",
   "execution_count": 8,
   "metadata": {},
   "outputs": [
    {
     "name": "stdout",
     "output_type": "stream",
     "text": [
      "17\n"
     ]
    }
   ],
   "source": [
    "INF = 10 ** 9 + 7\n",
    "memo = [[[-1] * (m + 1) for _ in range(1001)] for _ in range(n)]\n",
    "\n",
    "def dfs(i, j, c, l):\n",
    "    \"\"\"\n",
    "    i: row\n",
    "    j: column\n",
    "    c: cost\n",
    "    l: 2-step jump\n",
    "    \"\"\"\n",
    "    if (i == n - 1) or (i == n - 2 and l < m):\n",
    "        return 0\n",
    "    \n",
    "    if l > m:\n",
    "        return INF\n",
    "    \n",
    "    if memo[i][j][l] != -1:\n",
    "        return memo[i][j][l]\n",
    "    \n",
    "    # Jump to next row\n",
    "    ret = INF\n",
    "    for w in range(X[i + 1]):\n",
    "        u, v = Y[i + 1][w]\n",
    "        cost = (c + v) * abs(j - u) + dfs(i + 1, u, v, l)\n",
    "        ret = min(ret, cost)\n",
    "        \n",
    "    if i == n - 2:\n",
    "        return ret\n",
    "    \n",
    "    # Jump to 2-step row\n",
    "    for w in range(X[i + 2]):\n",
    "        u, v = Y[i + 2][w]\n",
    "        cost = (c + v) * abs(j - u) + dfs(i + 2, u, v, l + 1)\n",
    "        ret = min(ret, cost)\n",
    "        \n",
    "    return ret\n",
    "\n",
    "ans = INF\n",
    "for w in range(X[0]):\n",
    "    u, v = Y[0][w]\n",
    "    ans = min(ans, dfs(0, u, v, 0))\n",
    "    \n",
    "if m > 0:\n",
    "    for w in range(X[1]):\n",
    "        u, v = Y[1][w]\n",
    "        ans = min(ans, dfs(1, u, v, 1))\n",
    "\n",
    "print(ans)"
   ]
  },
  {
   "cell_type": "markdown",
   "metadata": {},
   "source": [
    "#### DP"
   ]
  },
  {
   "cell_type": "code",
   "execution_count": 39,
   "metadata": {},
   "outputs": [],
   "source": [
    "n, m = 5, 1\n",
    "X = [2, 1, 1, 1, 1]\n",
    "Y = [[(1, 3), (2, 2)], [(3, 2)], [(1, 7)], [(2, 1)], [(4, 4)]]"
   ]
  },
  {
   "cell_type": "code",
   "execution_count": 52,
   "metadata": {},
   "outputs": [
    {
     "name": "stdout",
     "output_type": "stream",
     "text": [
      "17\n"
     ]
    }
   ],
   "source": [
    "INF = 10 ** 9 + 7\n",
    "dp = [[[INF] * (m + 1) for _ in range(10)] for _ in range(n)]\n",
    "\n",
    "# Initialization\n",
    "for j in range(X[-1]):\n",
    "    for k in range(m + 1):\n",
    "        dp[-1][j][k] = 0\n",
    "        \n",
    "for j in range(X[-2]):\n",
    "    for k in range(m):\n",
    "        dp[-2][j][k] = 0\n",
    "\n",
    "for i in reversed(range(n - 1)):\n",
    "    for j in range(X[i]):\n",
    "        for l in range(m + 1):\n",
    "            x, d = Y[i][j]\n",
    "\n",
    "            # Next\n",
    "            ret = dp[i][j][l]\n",
    "            for j_ in range(X[i + 1]):\n",
    "                x_, d_ = Y[i + 1][j_]\n",
    "                cost = (d + d_) * abs(x - x_) + dp[i + 1][j_][l]\n",
    "                ret = min(ret, cost)\n",
    "                \n",
    "            dp[i][j][l] = ret\n",
    "                \n",
    "            if i == n - 2 or l == m:\n",
    "                continue\n",
    "\n",
    "            # 2-step\n",
    "            for j_ in range(X[i + 2]):\n",
    "                x_, d_ = Y[i + 2][j_]\n",
    "                cost = (d + d_) * abs(x - x_) + dp[i + 2][j_][l + 1]\n",
    "                ret = min(ret, cost)\n",
    "                \n",
    "            dp[i][j][l] = ret\n",
    "            \n",
    "ans = INF\n",
    "for j in range(X[0]):\n",
    "    ans = min(ans, dp[0][j][0])\n",
    "    \n",
    "if m > 0:\n",
    "    ans = min(ans, dp[1][j][1])\n",
    "    \n",
    "print(ans)"
   ]
  },
  {
   "cell_type": "markdown",
   "metadata": {},
   "source": [
    "# JOI 2011 予選 - C\n",
    "\n",
    "ソートしてからナップザックDP\n",
    "\n",
    "https://atcoder.jp/contests/joi2012yo/tasks/joi2012yo_c"
   ]
  },
  {
   "cell_type": "code",
   "execution_count": 84,
   "metadata": {},
   "outputs": [
    {
     "name": "stdout",
     "output_type": "stream",
     "text": [
      "ans: 37\n"
     ]
    }
   ],
   "source": [
    "N = 3\n",
    "A, B = 12, 2\n",
    "C = 200\n",
    "D = [50, 300, 100]\n",
    "\n",
    "print('ans: 37')"
   ]
  },
  {
   "cell_type": "code",
   "execution_count": 87,
   "metadata": {},
   "outputs": [
    {
     "name": "stdout",
     "output_type": "stream",
     "text": [
      "ans: 100\n"
     ]
    }
   ],
   "source": [
    "N = 4\n",
    "A, B = 20, 3\n",
    "C = 900\n",
    "D = [300, 100, 400, 1300]\n",
    "\n",
    "print('ans: 100')"
   ]
  },
  {
   "cell_type": "code",
   "execution_count": 89,
   "metadata": {},
   "outputs": [
    {
     "name": "stdout",
     "output_type": "stream",
     "text": [
      "100\n"
     ]
    }
   ],
   "source": [
    "D.sort(reverse=True)\n",
    "\n",
    "ans = C\n",
    "cnt = A\n",
    "for d in D:\n",
    "    if ans / cnt < (ans + d) / (cnt + B):\n",
    "        ans += d\n",
    "        cnt += B\n",
    "    else:\n",
    "        break\n",
    "        \n",
    "print(ans // cnt)"
   ]
  },
  {
   "cell_type": "code",
   "execution_count": 83,
   "metadata": {},
   "outputs": [
    {
     "data": {
      "text/plain": [
       "650"
      ]
     },
     "execution_count": 83,
     "metadata": {},
     "output_type": "execute_result"
    }
   ],
   "source": [
    "ans"
   ]
  },
  {
   "cell_type": "code",
   "execution_count": null,
   "metadata": {},
   "outputs": [],
   "source": []
  },
  {
   "cell_type": "code",
   "execution_count": null,
   "metadata": {},
   "outputs": [],
   "source": []
  },
  {
   "cell_type": "code",
   "execution_count": null,
   "metadata": {},
   "outputs": [],
   "source": []
  },
  {
   "cell_type": "code",
   "execution_count": null,
   "metadata": {},
   "outputs": [],
   "source": []
  },
  {
   "cell_type": "code",
   "execution_count": null,
   "metadata": {},
   "outputs": [],
   "source": []
  },
  {
   "cell_type": "code",
   "execution_count": null,
   "metadata": {},
   "outputs": [],
   "source": []
  },
  {
   "cell_type": "code",
   "execution_count": null,
   "metadata": {},
   "outputs": [],
   "source": []
  }
 ],
 "metadata": {
  "kernelspec": {
   "display_name": "Python 3",
   "language": "python",
   "name": "python3"
  },
  "language_info": {
   "codemirror_mode": {
    "name": "ipython",
    "version": 3
   },
   "file_extension": ".py",
   "mimetype": "text/x-python",
   "name": "python",
   "nbconvert_exporter": "python",
   "pygments_lexer": "ipython3",
   "version": "3.7.3"
  }
 },
 "nbformat": 4,
 "nbformat_minor": 4
}
