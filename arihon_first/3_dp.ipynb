{
 "cells": [
  {
   "cell_type": "markdown",
   "metadata": {},
   "source": [
    "# AOJ DPL_1_B\n",
    "\n",
    "http://judge.u-aizu.ac.jp/onlinejudge/description.jsp?id=DPL_1_B&lang=jp"
   ]
  },
  {
   "cell_type": "code",
   "execution_count": 8,
   "metadata": {},
   "outputs": [
    {
     "name": "stdout",
     "output_type": "stream",
     "text": [
      "ans: 13\n"
     ]
    }
   ],
   "source": [
    "N, W = 4, 5\n",
    "v = [4, 5, 2, 8]\n",
    "w = [2, 2, 1, 3]\n",
    "\n",
    "print('ans: 13')"
   ]
  },
  {
   "cell_type": "code",
   "execution_count": 13,
   "metadata": {},
   "outputs": [
    {
     "name": "stdout",
     "output_type": "stream",
     "text": [
      "13\n"
     ]
    }
   ],
   "source": [
    "dp =[[0] * (W + 1) for _ in range(N + 1)]\n",
    "\n",
    "for i in range(N):\n",
    "    for j in range(W + 1):\n",
    "        if j < w[i]:\n",
    "            dp[i + 1][j] = dp[i][j]\n",
    "        elif j >= w[i]:\n",
    "            dp[i + 1][j] = max(dp[i][j], dp[i][j - w[i]] + v[i])\n",
    "            \n",
    "print(dp[-1][-1])"
   ]
  },
  {
   "cell_type": "code",
   "execution_count": 14,
   "metadata": {},
   "outputs": [
    {
     "data": {
      "text/plain": [
       "[[0, 0, 0, 0, 0, 0],\n",
       " [0, 0, 4, 4, 4, 4],\n",
       " [0, 0, 5, 5, 9, 9],\n",
       " [0, 2, 5, 7, 9, 11],\n",
       " [0, 2, 5, 8, 10, 13]]"
      ]
     },
     "execution_count": 14,
     "metadata": {},
     "output_type": "execute_result"
    }
   ],
   "source": [
    "dp"
   ]
  },
  {
   "cell_type": "markdown",
   "metadata": {},
   "source": [
    "# ABC 15 - D\n",
    "\n",
    "https://atcoder.jp/contests/abc015/tasks/abc015_4"
   ]
  },
  {
   "cell_type": "code",
   "execution_count": 26,
   "metadata": {},
   "outputs": [
    {
     "name": "stdout",
     "output_type": "stream",
     "text": [
      "ans: 140\n"
     ]
    }
   ],
   "source": [
    "W = 10\n",
    "N, K = 3, 2\n",
    "A = [4, 3, 6]\n",
    "B = [20, 40, 100]\n",
    "\n",
    "print('ans: 140')"
   ]
  },
  {
   "cell_type": "code",
   "execution_count": 36,
   "metadata": {},
   "outputs": [
    {
     "name": "stdout",
     "output_type": "stream",
     "text": [
      "ans: 210\n"
     ]
    }
   ],
   "source": [
    "W = 22\n",
    "N, K = 5, 3\n",
    "A = [5, 8, 3, 4, 6]\n",
    "B = [40, 50, 60, 70, 80]\n",
    "\n",
    "print('ans: 210')"
   ]
  },
  {
   "cell_type": "markdown",
   "metadata": {},
   "source": [
    "#### これでは，一部TLE, MLE"
   ]
  },
  {
   "cell_type": "code",
   "execution_count": 59,
   "metadata": {},
   "outputs": [
    {
     "name": "stdout",
     "output_type": "stream",
     "text": [
      "210\n"
     ]
    }
   ],
   "source": [
    "dp = [[[0] * (N + 1) for _ in range(K + 1)] for _ in range(W)]\n",
    "for i in range(W):\n",
    "    for j in range(K):\n",
    "        for k in range(N):\n",
    "            if i < A[k]:\n",
    "                dp[i][j + 1][k + 1] = dp[i][j][k]\n",
    "            else:\n",
    "                dp[i][j + 1][k + 1] = max(dp[i][j][k], \n",
    "                                          dp[i - A[k]][j][k] + B[k])\n",
    "            \n",
    "print(dp[-1][-1][-1])"
   ]
  },
  {
   "cell_type": "code",
   "execution_count": 60,
   "metadata": {},
   "outputs": [
    {
     "data": {
      "text/plain": [
       "[[[0, 0, 0, 0, 0, 0],\n",
       "  [0, 0, 0, 0, 0, 0],\n",
       "  [0, 0, 0, 0, 0, 0],\n",
       "  [0, 0, 0, 0, 0, 0]],\n",
       " [[0, 0, 0, 0, 0, 0],\n",
       "  [0, 0, 0, 0, 0, 0],\n",
       "  [0, 0, 0, 0, 0, 0],\n",
       "  [0, 0, 0, 0, 0, 0]],\n",
       " [[0, 0, 0, 0, 0, 0],\n",
       "  [0, 0, 0, 0, 0, 0],\n",
       "  [0, 0, 0, 0, 0, 0],\n",
       "  [0, 0, 0, 0, 0, 0]],\n",
       " [[0, 0, 0, 0, 0, 0],\n",
       "  [0, 0, 0, 60, 0, 0],\n",
       "  [0, 0, 0, 60, 60, 0],\n",
       "  [0, 0, 0, 60, 60, 60]],\n",
       " [[0, 0, 0, 0, 0, 0],\n",
       "  [0, 0, 0, 60, 70, 0],\n",
       "  [0, 0, 0, 60, 70, 70],\n",
       "  [0, 0, 0, 60, 70, 70]],\n",
       " [[0, 0, 0, 0, 0, 0],\n",
       "  [0, 40, 0, 60, 70, 0],\n",
       "  [0, 40, 40, 60, 70, 70],\n",
       "  [0, 40, 40, 60, 70, 70]],\n",
       " [[0, 0, 0, 0, 0, 0],\n",
       "  [0, 40, 0, 60, 70, 80],\n",
       "  [0, 40, 40, 60, 70, 80],\n",
       "  [0, 40, 40, 60, 70, 80]],\n",
       " [[0, 0, 0, 0, 0, 0],\n",
       "  [0, 40, 0, 60, 70, 80],\n",
       "  [0, 40, 40, 60, 130, 80],\n",
       "  [0, 40, 40, 60, 130, 130]],\n",
       " [[0, 0, 0, 0, 0, 0],\n",
       "  [0, 40, 50, 60, 70, 80],\n",
       "  [0, 40, 50, 60, 130, 80],\n",
       "  [0, 40, 50, 100, 130, 130]],\n",
       " [[0, 0, 0, 0, 0, 0],\n",
       "  [0, 40, 50, 60, 70, 80],\n",
       "  [0, 40, 50, 60, 130, 80],\n",
       "  [0, 40, 50, 100, 130, 140]],\n",
       " [[0, 0, 0, 0, 0, 0],\n",
       "  [0, 40, 50, 60, 70, 80],\n",
       "  [0, 40, 50, 60, 130, 150],\n",
       "  [0, 40, 50, 100, 130, 150]],\n",
       " [[0, 0, 0, 0, 0, 0],\n",
       "  [0, 40, 50, 60, 70, 80],\n",
       "  [0, 40, 50, 110, 130, 150],\n",
       "  [0, 40, 50, 110, 130, 150]],\n",
       " [[0, 0, 0, 0, 0, 0],\n",
       "  [0, 40, 50, 60, 70, 80],\n",
       "  [0, 40, 50, 110, 130, 150],\n",
       "  [0, 40, 50, 110, 130, 150]],\n",
       " [[0, 0, 0, 0, 0, 0],\n",
       "  [0, 40, 50, 60, 70, 80],\n",
       "  [0, 40, 90, 110, 130, 150],\n",
       "  [0, 40, 90, 110, 130, 210]],\n",
       " [[0, 0, 0, 0, 0, 0],\n",
       "  [0, 40, 50, 60, 70, 80],\n",
       "  [0, 40, 90, 110, 130, 150],\n",
       "  [0, 40, 90, 110, 130, 210]],\n",
       " [[0, 0, 0, 0, 0, 0],\n",
       "  [0, 40, 50, 60, 70, 80],\n",
       "  [0, 40, 90, 110, 130, 150],\n",
       "  [0, 40, 90, 110, 180, 210]],\n",
       " [[0, 0, 0, 0, 0, 0],\n",
       "  [0, 40, 50, 60, 70, 80],\n",
       "  [0, 40, 90, 110, 130, 150],\n",
       "  [0, 40, 90, 150, 180, 210]],\n",
       " [[0, 0, 0, 0, 0, 0],\n",
       "  [0, 40, 50, 60, 70, 80],\n",
       "  [0, 40, 90, 110, 130, 150],\n",
       "  [0, 40, 90, 150, 180, 210]],\n",
       " [[0, 0, 0, 0, 0, 0],\n",
       "  [0, 40, 50, 60, 70, 80],\n",
       "  [0, 40, 90, 110, 130, 150],\n",
       "  [0, 40, 90, 150, 180, 210]],\n",
       " [[0, 0, 0, 0, 0, 0],\n",
       "  [0, 40, 50, 60, 70, 80],\n",
       "  [0, 40, 90, 110, 130, 150],\n",
       "  [0, 40, 90, 150, 180, 210]],\n",
       " [[0, 0, 0, 0, 0, 0],\n",
       "  [0, 40, 50, 60, 70, 80],\n",
       "  [0, 40, 90, 110, 130, 150],\n",
       "  [0, 40, 90, 150, 180, 210]],\n",
       " [[0, 0, 0, 0, 0, 0],\n",
       "  [0, 40, 50, 60, 70, 80],\n",
       "  [0, 40, 90, 110, 130, 150],\n",
       "  [0, 40, 90, 150, 180, 210]]]"
      ]
     },
     "execution_count": 60,
     "metadata": {},
     "output_type": "execute_result"
    }
   ],
   "source": [
    "dp"
   ]
  },
  {
   "cell_type": "markdown",
   "metadata": {},
   "source": [
    "#### もっと工夫する"
   ]
  },
  {
   "cell_type": "code",
   "execution_count": 85,
   "metadata": {},
   "outputs": [
    {
     "name": "stdout",
     "output_type": "stream",
     "text": [
      "210\n"
     ]
    }
   ],
   "source": [
    "dp = [[0] * (W + 1) for _ in range(K + 1)]\n",
    "for a, b in zip(A, B):\n",
    "    for i in reversed(range(1, K + 1)):\n",
    "        for j in reversed(range(a, W + 1)):\n",
    "            dp[i][j] = max(dp[i][j], dp[i - 1][j - a] + b)\n",
    "            \n",
    "print(dp[-1][-1])"
   ]
  },
  {
   "cell_type": "code",
   "execution_count": 82,
   "metadata": {},
   "outputs": [
    {
     "data": {
      "text/plain": [
       "[[0, 0, 0, 0, 0, 0, 0, 0, 0, 0, 0, 0, 0, 0, 0, 0, 0, 0, 0, 0, 0, 0, 0],\n",
       " [0,\n",
       "  0,\n",
       "  0,\n",
       "  60,\n",
       "  70,\n",
       "  70,\n",
       "  80,\n",
       "  80,\n",
       "  80,\n",
       "  80,\n",
       "  80,\n",
       "  80,\n",
       "  80,\n",
       "  80,\n",
       "  80,\n",
       "  80,\n",
       "  80,\n",
       "  80,\n",
       "  80,\n",
       "  80,\n",
       "  80,\n",
       "  80,\n",
       "  80],\n",
       " [0,\n",
       "  0,\n",
       "  0,\n",
       "  60,\n",
       "  70,\n",
       "  70,\n",
       "  80,\n",
       "  130,\n",
       "  130,\n",
       "  140,\n",
       "  150,\n",
       "  150,\n",
       "  150,\n",
       "  150,\n",
       "  150,\n",
       "  150,\n",
       "  150,\n",
       "  150,\n",
       "  150,\n",
       "  150,\n",
       "  150,\n",
       "  150,\n",
       "  150],\n",
       " [0,\n",
       "  0,\n",
       "  0,\n",
       "  60,\n",
       "  70,\n",
       "  70,\n",
       "  80,\n",
       "  130,\n",
       "  130,\n",
       "  140,\n",
       "  150,\n",
       "  150,\n",
       "  170,\n",
       "  210,\n",
       "  210,\n",
       "  210,\n",
       "  210,\n",
       "  210,\n",
       "  210,\n",
       "  210,\n",
       "  210,\n",
       "  210,\n",
       "  210]]"
      ]
     },
     "execution_count": 82,
     "metadata": {},
     "output_type": "execute_result"
    }
   ],
   "source": [
    "dp"
   ]
  },
  {
   "cell_type": "markdown",
   "metadata": {},
   "source": [
    "#### 下から登ってくるタイプのDP"
   ]
  },
  {
   "cell_type": "code",
   "execution_count": 86,
   "metadata": {},
   "outputs": [
    {
     "name": "stdout",
     "output_type": "stream",
     "text": [
      "210\n"
     ]
    }
   ],
   "source": [
    "dp = [[0] * (W + 1) for _ in range(K + 1)]\n",
    "for a, b in zip(A, B):\n",
    "    for i in range(K):\n",
    "        for j in range(W - a + 1):\n",
    "            dp[i][j] = max(dp[i][j], dp[i + 1][j + a] + b)\n",
    "            \n",
    "print(dp[0][0])"
   ]
  },
  {
   "cell_type": "code",
   "execution_count": 87,
   "metadata": {},
   "outputs": [
    {
     "data": {
      "text/plain": [
       "[[210,\n",
       "  210,\n",
       "  210,\n",
       "  210,\n",
       "  210,\n",
       "  210,\n",
       "  210,\n",
       "  210,\n",
       "  210,\n",
       "  210,\n",
       "  170,\n",
       "  150,\n",
       "  150,\n",
       "  140,\n",
       "  130,\n",
       "  130,\n",
       "  80,\n",
       "  70,\n",
       "  70,\n",
       "  60,\n",
       "  0,\n",
       "  0,\n",
       "  0],\n",
       " [150,\n",
       "  150,\n",
       "  150,\n",
       "  150,\n",
       "  150,\n",
       "  150,\n",
       "  150,\n",
       "  150,\n",
       "  150,\n",
       "  150,\n",
       "  150,\n",
       "  150,\n",
       "  150,\n",
       "  140,\n",
       "  130,\n",
       "  130,\n",
       "  80,\n",
       "  70,\n",
       "  70,\n",
       "  60,\n",
       "  0,\n",
       "  0,\n",
       "  0],\n",
       " [80,\n",
       "  80,\n",
       "  80,\n",
       "  80,\n",
       "  80,\n",
       "  80,\n",
       "  80,\n",
       "  80,\n",
       "  80,\n",
       "  80,\n",
       "  80,\n",
       "  80,\n",
       "  80,\n",
       "  80,\n",
       "  80,\n",
       "  80,\n",
       "  80,\n",
       "  70,\n",
       "  70,\n",
       "  60,\n",
       "  0,\n",
       "  0,\n",
       "  0],\n",
       " [0, 0, 0, 0, 0, 0, 0, 0, 0, 0, 0, 0, 0, 0, 0, 0, 0, 0, 0, 0, 0, 0, 0]]"
      ]
     },
     "execution_count": 87,
     "metadata": {},
     "output_type": "execute_result"
    }
   ],
   "source": [
    "dp"
   ]
  },
  {
   "cell_type": "markdown",
   "metadata": {},
   "source": [
    "# ABC 7 - D\n",
    "\n",
    "いわゆる「桁DP」\n",
    "\n",
    "https://atcoder.jp/contests/abc007/tasks/abc007_4"
   ]
  },
  {
   "cell_type": "markdown",
   "metadata": {},
   "source": [
    "#### 桁DPの練習\n",
    "\n",
    "dp = [桁数] * [未満フラグ]"
   ]
  },
  {
   "cell_type": "code",
   "execution_count": 102,
   "metadata": {},
   "outputs": [
    {
     "data": {
      "text/plain": [
       "[[1, 0], [1, 1], [1, 12], [1, 123], [1, 1234], [1, 12345]]"
      ]
     },
     "execution_count": 102,
     "metadata": {},
     "output_type": "execute_result"
    }
   ],
   "source": [
    "S = '12345'\n",
    "\n",
    "dp = [[0] * 2 for _ in range(len(S) + 1)]\n",
    "dp[0][0] = 1\n",
    "for i in range(len(S)):\n",
    "    D = int(S[i]) - 0\n",
    "    for j in range(2):\n",
    "        for d in range((9 if j == 1 else D) + 1):\n",
    "            dp[i + 1][j | (d < D)] += dp[i][j]\n",
    "        \n",
    "dp"
   ]
  },
  {
   "cell_type": "markdown",
   "metadata": {},
   "source": [
    "#### それでは本題"
   ]
  },
  {
   "cell_type": "code",
   "execution_count": 129,
   "metadata": {},
   "outputs": [
    {
     "name": "stdout",
     "output_type": "stream",
     "text": [
      "ans: 2\n"
     ]
    }
   ],
   "source": [
    "A, B = 1, 9\n",
    "\n",
    "print('ans: 2')"
   ]
  },
  {
   "cell_type": "code",
   "execution_count": 130,
   "metadata": {},
   "outputs": [
    {
     "name": "stdout",
     "output_type": "stream",
     "text": [
      "ans: 10\n"
     ]
    }
   ],
   "source": [
    "A, B = 40, 49\n",
    "\n",
    "print('ans: 10')"
   ]
  },
  {
   "cell_type": "code",
   "execution_count": 126,
   "metadata": {},
   "outputs": [
    {
     "name": "stdout",
     "output_type": "stream",
     "text": [
      "ans: 488\n"
     ]
    }
   ],
   "source": [
    "A, B = 1, 1000\n",
    "\n",
    "print('ans: 488')"
   ]
  },
  {
   "cell_type": "markdown",
   "metadata": {},
   "source": [
    "#### dp[桁数] [確定しているか] [条件を満たすか]"
   ]
  },
  {
   "cell_type": "code",
   "execution_count": 131,
   "metadata": {},
   "outputs": [],
   "source": [
    "def solve(x):\n",
    "    dp = [[[0] * 2 for _ in range(2)] for _ in range(len(x) + 1)]\n",
    "    dp[0][0][0] = 1\n",
    "\n",
    "    for i in range(len(x)):\n",
    "        D = int(x[i]) - 0\n",
    "        for j in range(2):\n",
    "            for k in range(2):\n",
    "                for d in range((9 if j == 1 else D) + 1):\n",
    "                    dp[i + 1][j | (d < D)][k | (d == 4) | (d == 9)] += dp[i][j][k]\n",
    "\n",
    "    return dp[-1][0][1] + dp[-1][1][1]"
   ]
  },
  {
   "cell_type": "code",
   "execution_count": 132,
   "metadata": {},
   "outputs": [
    {
     "data": {
      "text/plain": [
       "10"
      ]
     },
     "execution_count": 132,
     "metadata": {},
     "output_type": "execute_result"
    }
   ],
   "source": [
    "solve(str(B)) - solve(str(A - 1))"
   ]
  },
  {
   "cell_type": "code",
   "execution_count": 133,
   "metadata": {},
   "outputs": [
    {
     "data": {
      "text/plain": [
       "[[[1, 0], [0, 0]],\n",
       " [[1, 0], [1, 0]],\n",
       " [[1, 0], [8, 2]],\n",
       " [[1, 0], [64, 36]],\n",
       " [[1, 0], [512, 488]]]"
      ]
     },
     "execution_count": 133,
     "metadata": {},
     "output_type": "execute_result"
    }
   ],
   "source": [
    "dp"
   ]
  },
  {
   "cell_type": "markdown",
   "metadata": {},
   "source": [
    "# TDPC E\n",
    "\n",
    "https://tdpc.contest.atcoder.jp/tasks/tdpc_number"
   ]
  },
  {
   "cell_type": "code",
   "execution_count": 138,
   "metadata": {},
   "outputs": [
    {
     "name": "stdout",
     "output_type": "stream",
     "text": [
      "ans: 33\n"
     ]
    }
   ],
   "source": [
    "D = 3\n",
    "N = '100'\n",
    "MOD = 10 ** 9 + 7\n",
    "\n",
    "print('ans: 33')"
   ]
  },
  {
   "cell_type": "markdown",
   "metadata": {},
   "source": [
    "#### オーソドックスな解法\n",
    "\n",
    "https://tdpc.contest.atcoder.jp/submissions/5879108\n",
    "\n",
    "\n",
    "dp[i][j][k] := 上から i 桁目まで見て, 各位の和が j mod d となる組み合わせの数 with 未満フラグ k;"
   ]
  },
  {
   "cell_type": "code",
   "execution_count": 154,
   "metadata": {},
   "outputs": [
    {
     "name": "stdout",
     "output_type": "stream",
     "text": [
      "33\n"
     ]
    }
   ],
   "source": [
    "dp = [[[0] * 2 for _ in range(D)] for _ in range(len(N) + 1)]\n",
    "dp[0][0][0] = 1\n",
    "\n",
    "for i in range(len(N)):\n",
    "    n = int(N[i]) - 0\n",
    "    for j in range(D):\n",
    "        # k == 1\n",
    "        for p in range(10):\n",
    "            dp[i + 1][(p + j) % D][1] += dp[i][j][1]\n",
    "            \n",
    "        # k == 0\n",
    "        for p in range(n):\n",
    "            dp[i + 1][(p + j) % D][1] += dp[i][j][0]\n",
    "        dp[i + 1][(n + j) % D][0] += dp[i][j][0]\n",
    "        \n",
    "    for j in range(D):\n",
    "        for k in range(2):\n",
    "            dp[i + 1][j][k] %= MOD\n",
    "\n",
    "print(dp[-1][0][1] - 1)"
   ]
  },
  {
   "cell_type": "code",
   "execution_count": 155,
   "metadata": {},
   "outputs": [
    {
     "data": {
      "text/plain": [
       "[[[1, 0], [0, 0], [0, 0]],\n",
       " [[0, 1], [1, 0], [0, 0]],\n",
       " [[0, 4], [1, 3], [0, 3]],\n",
       " [[0, 34], [1, 33], [0, 33]]]"
      ]
     },
     "execution_count": 155,
     "metadata": {},
     "output_type": "execute_result"
    }
   ],
   "source": [
    "dp"
   ]
  },
  {
   "cell_type": "markdown",
   "metadata": {},
   "source": [
    "#### 他の解答\n",
    "\n",
    "https://tdpc.contest.atcoder.jp/submissions/4793451"
   ]
  },
  {
   "cell_type": "code",
   "execution_count": 156,
   "metadata": {},
   "outputs": [
    {
     "name": "stdout",
     "output_type": "stream",
     "text": [
      "ans: 33\n"
     ]
    }
   ],
   "source": [
    "D = 3\n",
    "N = '100'\n",
    "MOD = 10 ** 9 + 7\n",
    "\n",
    "print('ans: 33')"
   ]
  },
  {
   "cell_type": "code",
   "execution_count": 157,
   "metadata": {},
   "outputs": [
    {
     "name": "stdout",
     "output_type": "stream",
     "text": [
      "33\n"
     ]
    }
   ],
   "source": [
    "dp = [[0] * D for _ in range(len(N))]\n",
    "dp[0][0] = 1\n",
    "\n",
    "for k in range(1, len(N)):\n",
    "    dp[k][0] += sum(dp[k - 1][(-i) % D] for i in range(10)) % MOD\n",
    "    for d in range(1, D):\n",
    "        dp[k][d] = (dp[k][d - 1] + dp[k - 1][d] - dp[k - 1][(d - 10) % D]) % MOD\n",
    "        \n",
    "ans = 0\n",
    "now = 0\n",
    "for k in range(len(N)):\n",
    "    if int(N[k]) < 1:\n",
    "        continue\n",
    "    \n",
    "    ans = (ans + sum(dp[len(N) - k - 1][(now - i) % D] for i in range(int(N[k])))) % MOD\n",
    "    now = (now - int(N[k])) % D\n",
    "    \n",
    "print(ans - 1)"
   ]
  },
  {
   "cell_type": "code",
   "execution_count": 158,
   "metadata": {},
   "outputs": [
    {
     "data": {
      "text/plain": [
       "[[1, 0, 0], [4, 3, 3], [34, 33, 33]]"
      ]
     },
     "execution_count": 158,
     "metadata": {},
     "output_type": "execute_result"
    }
   ],
   "source": [
    "dp"
   ]
  },
  {
   "cell_type": "markdown",
   "metadata": {},
   "source": [
    "# Code Festival 2014A - D\n",
    "\n",
    "https://atcoder.jp/contests/code-festival-2014-quala/tasks/code_festival_qualA_d"
   ]
  },
  {
   "cell_type": "code",
   "execution_count": 160,
   "metadata": {},
   "outputs": [
    {
     "name": "stdout",
     "output_type": "stream",
     "text": [
      "ans: 12\n"
     ]
    }
   ],
   "source": [
    "A, K = 1234, 2\n",
    "\n",
    "print('ans: 12')"
   ]
  },
  {
   "cell_type": "markdown",
   "metadata": {},
   "source": [
    "# AOJ ALDS1_10_C\n",
    "\n",
    "http://judge.u-aizu.ac.jp/onlinejudge/description.jsp?id=ALDS1_10_C&lang=jp"
   ]
  },
  {
   "cell_type": "code",
   "execution_count": 169,
   "metadata": {},
   "outputs": [
    {
     "name": "stdout",
     "output_type": "stream",
     "text": [
      "ans: 4\n"
     ]
    }
   ],
   "source": [
    "X = 'abcbdab'\n",
    "Y = 'bdcaba'\n",
    "\n",
    "print('ans: 4')"
   ]
  },
  {
   "cell_type": "code",
   "execution_count": 172,
   "metadata": {},
   "outputs": [
    {
     "name": "stdout",
     "output_type": "stream",
     "text": [
      "4\n"
     ]
    }
   ],
   "source": [
    "dp = [[0] * (len(Y) + 1) for _ in range(len(X) + 1)]\n",
    "\n",
    "for i in range(len(X)):\n",
    "    for j in range(len(Y)):\n",
    "        if X[i] == Y[j]:\n",
    "            dp[i + 1][j + 1] = max(dp[i][j + 1], dp[i + 1][j], dp[i][j] + 1)\n",
    "        else:\n",
    "            dp[i + 1][j + 1] = max(dp[i][j + 1], dp[i + 1][j])\n",
    "            \n",
    "print(dp[-1][-1])"
   ]
  },
  {
   "cell_type": "markdown",
   "metadata": {},
   "source": [
    "# Indeed - C\n",
    "\n",
    "https://atcoder.jp/contests/indeednow-finala-open/tasks/indeednow_2015_finala_c"
   ]
  },
  {
   "cell_type": "code",
   "execution_count": 204,
   "metadata": {},
   "outputs": [],
   "source": [
    "N, M = 3, 6\n",
    "X = [[1, 2, 3, 3], [3, 3, 3, 6], [4, 4, 4, 8]]\n",
    "Y = [[3, 4, 3], [4, 4, 4], [100, 100, 1],\n",
    "     [2, 3, 4], [0, 0, 0], [100, 100, 100]]"
   ]
  },
  {
   "cell_type": "code",
   "execution_count": 207,
   "metadata": {},
   "outputs": [],
   "source": [
    "dp = [[[0] * 102 for _ in range(102)] for _ in range(102)]\n",
    "\n",
    "for a, b, c, w in X:\n",
    "    dp[a + 1][b + 1][c + 1] = max(dp[a + 1][b + 1][c + 1], w)\n",
    "    \n",
    "for i in range(1, 102):\n",
    "    for j in range(1, 102):\n",
    "        for k in range(1, 102):\n",
    "            dp[i][j][k] = max(dp[i][j][k], dp[i - 1][j][k],\n",
    "                              dp[i][j - 1][k], dp[i][j][k - 1])\n"
   ]
  },
  {
   "cell_type": "code",
   "execution_count": 208,
   "metadata": {},
   "outputs": [
    {
     "name": "stdout",
     "output_type": "stream",
     "text": [
      "6\n",
      "8\n",
      "0\n",
      "3\n",
      "0\n",
      "8\n"
     ]
    }
   ],
   "source": [
    "for x, y, z in Y:\n",
    "    print(dp[x + 1][y + 1][z + 1])"
   ]
  },
  {
   "cell_type": "markdown",
   "metadata": {},
   "source": [
    "# AOJ DPL_1_C\n",
    "\n",
    "個数制限なしナップサック問題\n",
    "\n",
    "http://judge.u-aizu.ac.jp/onlinejudge/description.jsp?id=DPL_1_C&lang=jp"
   ]
  },
  {
   "cell_type": "code",
   "execution_count": 1,
   "metadata": {},
   "outputs": [],
   "source": [
    "N, W = 4, 8\n",
    "v = [4, 5, 2, 8]\n",
    "w = [2, 2, 1, 3]"
   ]
  },
  {
   "cell_type": "code",
   "execution_count": 215,
   "metadata": {},
   "outputs": [
    {
     "name": "stdout",
     "output_type": "stream",
     "text": [
      "21\n"
     ]
    }
   ],
   "source": [
    "dp = [[0] * (W + 1) for _ in range(N + 1)]\n",
    "\n",
    "for i in range(N):\n",
    "    for j in range(W + 1):\n",
    "        if j < w[i]:\n",
    "            dp[i + 1][j] = dp[i][j]\n",
    "        else:\n",
    "            dp[i + 1][j] = max(dp[i][j], dp[i + 1][j - w[i]] + v[i])\n",
    "            \n",
    "print(dp[-1][-1])"
   ]
  },
  {
   "cell_type": "code",
   "execution_count": 216,
   "metadata": {},
   "outputs": [
    {
     "data": {
      "text/plain": [
       "[[0, 0, 0, 0, 0, 0, 0, 0, 0],\n",
       " [0, 0, 4, 4, 8, 8, 12, 12, 16],\n",
       " [0, 0, 5, 5, 10, 10, 15, 15, 20],\n",
       " [0, 2, 5, 7, 10, 12, 15, 17, 20],\n",
       " [0, 2, 5, 8, 10, 13, 16, 18, 21]]"
      ]
     },
     "execution_count": 216,
     "metadata": {},
     "output_type": "execute_result"
    }
   ],
   "source": [
    "dp"
   ]
  },
  {
   "cell_type": "markdown",
   "metadata": {},
   "source": [
    "# ABC 32 - D\n",
    "\n",
    "0/1ナップサック問題\n",
    "\n",
    "https://atcoder.jp/contests/abc032/tasks/abc032_d"
   ]
  },
  {
   "cell_type": "code",
   "execution_count": 2,
   "metadata": {},
   "outputs": [],
   "source": [
    "N, W = 3, 10\n",
    "v = [15, 10, 6]\n",
    "w = [9, 6, 4]"
   ]
  },
  {
   "cell_type": "markdown",
   "metadata": {},
   "source": [
    "### データセット1"
   ]
  },
  {
   "cell_type": "code",
   "execution_count": 6,
   "metadata": {},
   "outputs": [
    {
     "name": "stdout",
     "output_type": "stream",
     "text": [
      "16\n"
     ]
    }
   ],
   "source": [
    "from bisect import bisect\n",
    "\n",
    "M = N // 2\n",
    "res1 = []\n",
    "for i in range(2 ** M):\n",
    "    x = 0\n",
    "    y = 0\n",
    "    for j in range(M):\n",
    "        if i & (1 << j):\n",
    "            continue\n",
    "        x += w[j]\n",
    "        y += v[j]\n",
    "    res1.append((x, y))\n",
    "\n",
    "res2 = []\n",
    "for i in range(2 ** (N - M)):\n",
    "    x = 0\n",
    "    y = 0\n",
    "    for j in range(N - M):\n",
    "        if i & (1 << j):\n",
    "            continue\n",
    "        x += w[j + M]\n",
    "        y += v[j + M]\n",
    "    res2.append((x, y))\n",
    "res2.sort()\n",
    "    \n",
    "opt = [0]\n",
    "for _, y in res2:\n",
    "    opt.append(max(opt[-1], y))\n",
    "\n",
    "ans = 0\n",
    "for x, y in res1:\n",
    "    if x > W:\n",
    "        continue\n",
    "    i = bisect(res2, (W - x, float('inf')))\n",
    "    ans = max(ans, y + opt[i])\n",
    "print(ans)"
   ]
  },
  {
   "cell_type": "code",
   "execution_count": 7,
   "metadata": {},
   "outputs": [
    {
     "data": {
      "text/plain": [
       "[(9, 15), (0, 0)]"
      ]
     },
     "execution_count": 7,
     "metadata": {},
     "output_type": "execute_result"
    }
   ],
   "source": [
    "res1"
   ]
  },
  {
   "cell_type": "code",
   "execution_count": 8,
   "metadata": {},
   "outputs": [
    {
     "data": {
      "text/plain": [
       "[(0, 0), (4, 6), (6, 10), (10, 16)]"
      ]
     },
     "execution_count": 8,
     "metadata": {},
     "output_type": "execute_result"
    }
   ],
   "source": [
    "res2"
   ]
  },
  {
   "cell_type": "markdown",
   "metadata": {},
   "source": [
    "### データセット2\n",
    "\n",
    "重さの上限が決まった状態で，価値を最大化する．"
   ]
  },
  {
   "cell_type": "code",
   "execution_count": 31,
   "metadata": {},
   "outputs": [
    {
     "name": "stdout",
     "output_type": "stream",
     "text": [
      "16\n"
     ]
    }
   ],
   "source": [
    "W_MAX = max(w)\n",
    "INF = 10 ** 9 + 1\n",
    "dp = [[-INF] * (N * W_MAX + 1) for _ in range(N + 1)]\n",
    "dp[0][0] = 0\n",
    "\n",
    "for i in range(N):\n",
    "    for j in range(N * W_MAX + 1):\n",
    "        if j < w[i]:\n",
    "            dp[i + 1][j] = dp[i][j]\n",
    "        else:\n",
    "            dp[i + 1][j] = max(dp[i][j], dp[i][j - w[i]] + v[i])\n",
    "            \n",
    "print(dp[-1][W])"
   ]
  },
  {
   "cell_type": "markdown",
   "metadata": {},
   "source": [
    "単純に上から降りてくる分は，計算しなくて良い"
   ]
  },
  {
   "cell_type": "code",
   "execution_count": 41,
   "metadata": {},
   "outputs": [
    {
     "name": "stdout",
     "output_type": "stream",
     "text": [
      "16\n"
     ]
    }
   ],
   "source": [
    "W_MAX = max(w)\n",
    "INF = 10 ** 9 + 1\n",
    "dp = [0] * (W + 1)\n",
    "\n",
    "for i in range(N):\n",
    "    for j in reversed(range(w[i], W + 1)):\n",
    "        dp[j] = max(dp[j], dp[j - w[i]] + v[i])\n",
    "            \n",
    "print(max(dp))"
   ]
  },
  {
   "cell_type": "code",
   "execution_count": 40,
   "metadata": {},
   "outputs": [
    {
     "name": "stdout",
     "output_type": "stream",
     "text": [
      "[0, 0, 0, 0, 6, 6, 10, 10, 10, 15, 16]\n"
     ]
    }
   ],
   "source": [
    "print(dp)"
   ]
  },
  {
   "cell_type": "markdown",
   "metadata": {},
   "source": [
    "### データセット3\n",
    "\n",
    "価値の上限が決まった状態で，重さを最小化する．  \n",
    "dp[i番目の荷物][価値] = 重さ\n",
    "\n",
    "最後に，重さが wという制限を満たすような価値のindexを探す．"
   ]
  },
  {
   "cell_type": "code",
   "execution_count": 240,
   "metadata": {},
   "outputs": [
    {
     "name": "stdout",
     "output_type": "stream",
     "text": [
      "16\n"
     ]
    }
   ],
   "source": [
    "V_MAX = max(v)\n",
    "INF = 10 ** 9 + 1\n",
    "dp = [[INF] * (N * V_MAX + 1) for _ in range(N + 1)]\n",
    "dp[0][0] = 0\n",
    "\n",
    "for i in range(N):\n",
    "    for j in range(N * V_MAX + 1):\n",
    "        if j < v[i]:\n",
    "            dp[i + 1][j] = dp[i][j]\n",
    "        else:\n",
    "            dp[i + 1][j] = min(dp[i][j], dp[i][j - v[i]] + w[i])\n",
    "\n",
    "\n",
    "print(max(j for i in range(N) for j, v in enumerate(dp[i + 1]) if v <= W))"
   ]
  },
  {
   "cell_type": "code",
   "execution_count": 13,
   "metadata": {},
   "outputs": [
    {
     "name": "stdout",
     "output_type": "stream",
     "text": [
      "16\n"
     ]
    }
   ],
   "source": [
    "V_MAX = max(v)\n",
    "INF = 10 ** 9 + 1\n",
    "dp = [INF] * (N * V_MAX + 1)\n",
    "dp[0] = 0\n",
    "\n",
    "for i in range(N):\n",
    "    for j in reversed(range(N * V_MAX + 1)):\n",
    "        dp[j] = min(dp[j], dp[j - v[i]] + w[i])\n",
    "        \n",
    "print(max(j for j, v in enumerate(dp) if v <= W))"
   ]
  },
  {
   "cell_type": "markdown",
   "metadata": {},
   "source": [
    "# ARC 57 - B\n",
    "\n",
    "https://atcoder.jp/contests/arc057/tasks/arc057_b"
   ]
  },
  {
   "cell_type": "code",
   "execution_count": 60,
   "metadata": {},
   "outputs": [
    {
     "name": "stdout",
     "output_type": "stream",
     "text": [
      "ans: 3\n"
     ]
    }
   ],
   "source": [
    "N, K = 5, 7\n",
    "a = [2, 3, 7, 4, 9]\n",
    "\n",
    "print('ans: 3')"
   ]
  },
  {
   "cell_type": "code",
   "execution_count": 74,
   "metadata": {},
   "outputs": [
    {
     "name": "stdout",
     "output_type": "stream",
     "text": [
      "3\n"
     ]
    }
   ],
   "source": [
    "dp = [[float('inf')] * (N + 1) for _ in range(N + 1)]\n",
    "dp[0][0] = 0\n",
    "\n",
    "cnt = 0\n",
    "for i in range(N):\n",
    "    if i == 0:\n",
    "        dp[i + 1][0] = 0\n",
    "        dp[i + 1][1] = 1\n",
    "        cnt += a[i]\n",
    "        continue\n",
    "    \n",
    "    for j in reversed(range(i + 1)):\n",
    "        # j\n",
    "        dp[i + 1][j] = min(dp[i][j], dp[i + 1][j])\n",
    "        \n",
    "        # j + 1\n",
    "        th = dp[i][j] * a[i] // cnt + 1\n",
    "        if th <= a[i]:\n",
    "            dp[i + 1][j + 1] = min(dp[i][j + 1], dp[i][j] + th)\n",
    "        \n",
    "    cnt += a[i]\n",
    "    \n",
    "print(max(j for j in range(N + 1) if dp[N][j] <= K))"
   ]
  },
  {
   "cell_type": "code",
   "execution_count": 75,
   "metadata": {},
   "outputs": [
    {
     "data": {
      "text/plain": [
       "[[0, inf, inf, inf, inf, inf],\n",
       " [0, 1, inf, inf, inf, inf],\n",
       " [0, 1, 3, inf, inf, inf],\n",
       " [0, 1, 3, 8, inf, inf],\n",
       " [0, 1, 2, 5, 11, inf],\n",
       " [0, 1, 2, 4, 8, 18]]"
      ]
     },
     "execution_count": 75,
     "metadata": {},
     "output_type": "execute_result"
    }
   ],
   "source": [
    "dp"
   ]
  },
  {
   "cell_type": "markdown",
   "metadata": {},
   "source": [
    "# AGC 33 - D\n",
    "\n",
    "https://atcoder.jp/contests/agc033/tasks/agc033_d"
   ]
  },
  {
   "cell_type": "code",
   "execution_count": 76,
   "metadata": {},
   "outputs": [
    {
     "name": "stdout",
     "output_type": "stream",
     "text": [
      "ans: 2\n"
     ]
    }
   ],
   "source": [
    "H, W = 3, 3\n",
    "A = ['...', '.##', '.##']\n",
    "\n",
    "print('ans: 2')"
   ]
  },
  {
   "cell_type": "markdown",
   "metadata": {},
   "source": [
    "# Maximum-Cup 2018 - D\n",
    "\n",
    "https://atcoder.jp/contests/maximum-cup-2018/tasks/maximum_cup_2018_d"
   ]
  },
  {
   "cell_type": "code",
   "execution_count": 29,
   "metadata": {},
   "outputs": [],
   "source": [
    "N, M, L, X = 5, 11, 7, 5\n",
    "a = [1, 4, 5, 8, 9]"
   ]
  },
  {
   "cell_type": "code",
   "execution_count": 19,
   "metadata": {},
   "outputs": [],
   "source": [
    "N, M, L, X = 5, 10, 3, 100\n",
    "a = [1, 4, 7, 10, 14]"
   ]
  },
  {
   "cell_type": "code",
   "execution_count": 32,
   "metadata": {},
   "outputs": [
    {
     "name": "stdout",
     "output_type": "stream",
     "text": [
      "Yes\n"
     ]
    }
   ],
   "source": [
    "dp = [[10001] * M for _ in range(N + 1)]\n",
    "dp[0][0] = 1\n",
    "\n",
    "for i in range(N):\n",
    "    dp[i + 1][0] = 1\n",
    "\n",
    "    for j in range(M):\n",
    "        div, mod = divmod(j + a[i], M)\n",
    "        dp[i + 1][mod] = min(dp[i][j] + div, dp[i][mod])\n",
    "            \n",
    "print('Yes' if dp[-1][L] <= X else 'No')"
   ]
  },
  {
   "cell_type": "code",
   "execution_count": 33,
   "metadata": {},
   "outputs": [
    {
     "data": {
      "text/plain": [
       "[[1, 10001, 10001, 10001, 10001, 10001, 10001, 10001, 10001, 10001, 10001],\n",
       " [1, 1, 10001, 10001, 10001, 10001, 10001, 10001, 10001, 10001, 10001],\n",
       " [1, 1, 10001, 10001, 1, 1, 10001, 10001, 10001, 10001, 10001],\n",
       " [1, 1, 10001, 10001, 1, 1, 1, 10001, 10001, 1, 1],\n",
       " [1, 1, 2, 2, 1, 1, 1, 2, 1, 1, 1],\n",
       " [1, 1, 2, 2, 1, 1, 1, 2, 1, 1, 1]]"
      ]
     },
     "execution_count": 33,
     "metadata": {},
     "output_type": "execute_result"
    }
   ],
   "source": [
    "dp"
   ]
  },
  {
   "cell_type": "markdown",
   "metadata": {},
   "source": [
    "# ARC 73 - F\n",
    "\n",
    "https://atcoder.jp/contests/arc073/tasks/arc073_d\n",
    "\n",
    "インラインDPの解説  \n",
    "http://topcoder.g.hatena.ne.jp/skyaozora/20171212/1513084670"
   ]
  },
  {
   "cell_type": "code",
   "execution_count": 35,
   "metadata": {},
   "outputs": [
    {
     "name": "stdout",
     "output_type": "stream",
     "text": [
      "ans: 7\n"
     ]
    }
   ],
   "source": [
    "N, Q, A, B = 8, 3, 1, 8\n",
    "x = [3 ,5, 1]\n",
    "\n",
    "print('ans: 7')"
   ]
  },
  {
   "cell_type": "markdown",
   "metadata": {},
   "source": [
    "#### segtree (RMQ)を使う"
   ]
  },
  {
   "cell_type": "code",
   "execution_count": 56,
   "metadata": {},
   "outputs": [],
   "source": [
    "def update(idx, k, v):\n",
    "    k += N - 1\n",
    "    dat[idx][k] = v\n",
    "    while k > 0:\n",
    "        k = (k - 1) // 2\n",
    "        dat[idx][k] = min(dat[idx][k * 2] + 1, dat[idx][k * 2 + 2])"
   ]
  },
  {
   "cell_type": "code",
   "execution_count": 57,
   "metadata": {},
   "outputs": [],
   "source": [
    "INF = 10 ** 6 + 7\n",
    "\n",
    "def query(idx, a, b, k=0, l=0, r=N):\n",
    "    if r <= a or b <= l:\n",
    "        return INF\n",
    "    \n",
    "    if a <= l and r <= b:\n",
    "        return dat[idx][k]\n",
    "    \n",
    "    vl = query(idx, a, b, k * 2 + 1, l, (l + r) // 2)\n",
    "    vr = query(idx, a, b, k * 2 + 2, (l + r) // 2, r)\n",
    "    \n",
    "    return min(vl, vr)"
   ]
  },
  {
   "cell_type": "code",
   "execution_count": 58,
   "metadata": {},
   "outputs": [],
   "source": [
    "from math import log2, ceil\n",
    "dat = [[INF] * (N * 2 + 1) for _ in range(2)]\n",
    "\n",
    "update(0, B, N - B)\n",
    "update(1, B, B)\n",
    "\n",
    "q = [A] + x\n",
    "cnt = 0\n",
    "for i in range(Q):\n",
    "    dif = abs(q[i] - q[i + 1])\n",
    "    cnt += dif\n",
    "    ne = min(query(0, 0, q[i + 1] + 1) - (N - q[i + 1]),\n",
    "             query(1, q[i + 1], N + 1) - q[i + 1])\n",
    "    update(0, q[i], ne - dif + N - q[i])\n",
    "    update(1, q[i], ne - dif + q[i])\n",
    "    \n"
   ]
  },
  {
   "cell_type": "code",
   "execution_count": 64,
   "metadata": {},
   "outputs": [
    {
     "name": "stdout",
     "output_type": "stream",
     "text": [
      "0\n",
      "0 0\n"
     ]
    }
   ],
   "source": [
    "out = INF\n",
    "for i in range(N + 1):\n",
    "    out = min(out, dat[0][i + N - 1] - (N - i))\n",
    "    \n",
    "out2 = INF\n",
    "for i in range(N + 1):\n",
    "    out2 = min(out2, dat[1][i + N - 1] - i)\n",
    "\n",
    "print(out)\n",
    "print(out, out2)"
   ]
  },
  {
   "cell_type": "code",
   "execution_count": 60,
   "metadata": {},
   "outputs": [
    {
     "name": "stdout",
     "output_type": "stream",
     "text": [
      "[[1000006, 1000005, 1000006, 1000007, 1000005, 999999, 1000007, 1000007, 1000007, 1000007, 1000005, 1000007, 999999, 1000007, 1000007, 0, 1000007], [1000003, 1000002, 1000003, 1000001, 1000002, 1000001, 1000007, 1000007, 1000001, 1000007, 1000003, 1000007, 1000001, 1000007, 1000007, 8, 1000007]]\n"
     ]
    }
   ],
   "source": [
    "print(dat)"
   ]
  },
  {
   "cell_type": "markdown",
   "metadata": {},
   "source": [
    "# ABC 6 - D\n",
    "\n",
    "#### Longest Increasing Subsequencr (LIS) の問題\n",
    "\n",
    "https://atcoder.jp/contests/abc006/tasks/abc006_4"
   ]
  },
  {
   "cell_type": "code",
   "execution_count": 1,
   "metadata": {},
   "outputs": [
    {
     "name": "stdout",
     "output_type": "stream",
     "text": [
      "ans: 2\n"
     ]
    }
   ],
   "source": [
    "N = 6\n",
    "c = [1, 3, 5, 2, 4, 6]\n",
    "\n",
    "print('ans: 2')"
   ]
  },
  {
   "cell_type": "code",
   "execution_count": 2,
   "metadata": {},
   "outputs": [
    {
     "name": "stdout",
     "output_type": "stream",
     "text": [
      "2\n"
     ]
    }
   ],
   "source": [
    "from bisect import bisect\n",
    "\n",
    "INF = 10 ** 6\n",
    "dp = [INF] * (N + 1)\n",
    "\n",
    "for i in range(N):\n",
    "    dp[bisect(dp, c[i])] = c[i]\n",
    "    \n",
    "print(N - max(i for i in range(N) if dp[i] < INF) - 1)"
   ]
  },
  {
   "cell_type": "code",
   "execution_count": 3,
   "metadata": {},
   "outputs": [
    {
     "data": {
      "text/plain": [
       "[1, 2, 4, 6, 1000000, 1000000, 1000000]"
      ]
     },
     "execution_count": 3,
     "metadata": {},
     "output_type": "execute_result"
    }
   ],
   "source": [
    "dp"
   ]
  },
  {
   "cell_type": "markdown",
   "metadata": {},
   "source": [
    "# ABC 38 - D\n",
    "\n",
    "https://atcoder.jp/contests/abc038/tasks/abc038_d"
   ]
  },
  {
   "cell_type": "code",
   "execution_count": 58,
   "metadata": {},
   "outputs": [
    {
     "name": "stdout",
     "output_type": "stream",
     "text": [
      "ans: 3\n"
     ]
    }
   ],
   "source": [
    "N = 3\n",
    "X = [[3, 3], [1, 1], [2, 2]]\n",
    "\n",
    "print('ans: 3')"
   ]
  },
  {
   "cell_type": "code",
   "execution_count": 59,
   "metadata": {},
   "outputs": [],
   "source": [
    "MAX_N = 10 ** 5 + 1\n",
    "\n",
    "def update(i, v):\n",
    "    while i <= MAX_N:\n",
    "        bit[i] = max(bit[i], v)\n",
    "        i += i & -i\n",
    "        \n",
    "def query(i):\n",
    "    ret = 0\n",
    "    while i > 0:\n",
    "        ret = max(ret, bit[i])\n",
    "        i -= i & -i\n",
    "    return ret"
   ]
  },
  {
   "cell_type": "code",
   "execution_count": 64,
   "metadata": {},
   "outputs": [
    {
     "name": "stdout",
     "output_type": "stream",
     "text": [
      "3\n"
     ]
    }
   ],
   "source": [
    "bit = [0] * MAX_N\n",
    "\n",
    "for _, w in sorted(X, key=lambda x: (x[0], -x[1])):\n",
    "    update(w, query(w - 1) + 1)\n",
    "    \n",
    "print(max(bit))"
   ]
  },
  {
   "cell_type": "markdown",
   "metadata": {},
   "source": [
    "# Typical DP Contest - K\n",
    "\n",
    "https://atcoder.jp/contests/tdpc/tasks/tdpc_target"
   ]
  },
  {
   "cell_type": "code",
   "execution_count": null,
   "metadata": {},
   "outputs": [],
   "source": []
  },
  {
   "cell_type": "code",
   "execution_count": null,
   "metadata": {},
   "outputs": [],
   "source": []
  },
  {
   "cell_type": "code",
   "execution_count": null,
   "metadata": {},
   "outputs": [],
   "source": []
  },
  {
   "cell_type": "code",
   "execution_count": null,
   "metadata": {},
   "outputs": [],
   "source": []
  },
  {
   "cell_type": "code",
   "execution_count": null,
   "metadata": {},
   "outputs": [],
   "source": []
  },
  {
   "cell_type": "code",
   "execution_count": null,
   "metadata": {},
   "outputs": [],
   "source": []
  }
 ],
 "metadata": {
  "kernelspec": {
   "display_name": "Python 3",
   "language": "python",
   "name": "python3"
  },
  "language_info": {
   "codemirror_mode": {
    "name": "ipython",
    "version": 3
   },
   "file_extension": ".py",
   "mimetype": "text/x-python",
   "name": "python",
   "nbconvert_exporter": "python",
   "pygments_lexer": "ipython3",
   "version": "3.7.3"
  }
 },
 "nbformat": 4,
 "nbformat_minor": 2
}
