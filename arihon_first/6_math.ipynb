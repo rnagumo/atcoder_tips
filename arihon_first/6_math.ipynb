{
 "cells": [
  {
   "cell_type": "markdown",
   "metadata": {},
   "source": [
    "# ABC 70 - C\n",
    "\n",
    "https://atcoder.jp/contests/abc070/tasks/abc070_c"
   ]
  },
  {
   "cell_type": "code",
   "execution_count": 1,
   "metadata": {},
   "outputs": [],
   "source": [
    "N = 2\n",
    "T = [2, 3]"
   ]
  },
  {
   "cell_type": "code",
   "execution_count": 10,
   "metadata": {},
   "outputs": [],
   "source": [
    "from math import gcd\n",
    "from functools import reduce\n",
    "\n",
    "def lcm(x, y):\n",
    "    return x * y // gcd(x, y)"
   ]
  },
  {
   "cell_type": "code",
   "execution_count": 11,
   "metadata": {},
   "outputs": [
    {
     "name": "stdout",
     "output_type": "stream",
     "text": [
      "6\n"
     ]
    }
   ],
   "source": [
    "print(reduce(lcm, T))"
   ]
  },
  {
   "cell_type": "markdown",
   "metadata": {},
   "source": [
    "# AGC 1 - B\n",
    "\n",
    "https://atcoder.jp/contests/agc001/tasks/agc001_b"
   ]
  },
  {
   "cell_type": "code",
   "execution_count": 12,
   "metadata": {},
   "outputs": [
    {
     "name": "stdout",
     "output_type": "stream",
     "text": [
      "ans: 12\n"
     ]
    }
   ],
   "source": [
    "N, X = 5, 2\n",
    "\n",
    "print('ans: 12')"
   ]
  },
  {
   "cell_type": "code",
   "execution_count": 22,
   "metadata": {},
   "outputs": [],
   "source": [
    "from math import gcd\n",
    "\n",
    "def f(a, b):\n",
    "    if a > b:\n",
    "        return f(b, a)\n",
    "    if b % a == 0:\n",
    "        return (2 * (b // a) - 1) * a\n",
    "\n",
    "    return 2 * (b // a) * a + f(b % a, a)"
   ]
  },
  {
   "cell_type": "code",
   "execution_count": 23,
   "metadata": {},
   "outputs": [
    {
     "name": "stdout",
     "output_type": "stream",
     "text": [
      "12\n"
     ]
    }
   ],
   "source": [
    "print(N + f(N - X, X))"
   ]
  },
  {
   "cell_type": "markdown",
   "metadata": {},
   "source": [
    "# ARC 67 - E\n",
    "\n",
    "拡張Euclidの互除法，mod_inverseの例\n",
    "\n",
    "$\n",
    "DP[i][j] = \\sum_{k \\in (0, C, C+1, ..., D)}DP[i-1][j-i*k] \n",
    "* \\dfrac{{}_{n-j+i*k} P_{i*k}}{(i!)^kk!}\n",
    "$\n",
    "\n",
    "https://atcoder.jp/contests/arc067/tasks/arc067_c"
   ]
  },
  {
   "cell_type": "code",
   "execution_count": 25,
   "metadata": {},
   "outputs": [
    {
     "name": "stdout",
     "output_type": "stream",
     "text": [
      "ans: 4\n"
     ]
    }
   ],
   "source": [
    "N, A, B, C, D = 3, 1, 3, 1, 2\n",
    "MOD = 10 ** 9 + 7\n",
    "\n",
    "print('ans: 4')"
   ]
  },
  {
   "cell_type": "code",
   "execution_count": 42,
   "metadata": {},
   "outputs": [
    {
     "name": "stdout",
     "output_type": "stream",
     "text": [
      "ans: 105\n"
     ]
    }
   ],
   "source": [
    "N, A, B, C, D = 7, 2, 3, 1, 3\n",
    "MOD = 10 ** 9 + 7\n",
    "\n",
    "print('ans: 105')"
   ]
  },
  {
   "cell_type": "markdown",
   "metadata": {},
   "source": [
    "#### 階乗のテーブルを用意する"
   ]
  },
  {
   "cell_type": "code",
   "execution_count": 43,
   "metadata": {},
   "outputs": [
    {
     "data": {
      "text/plain": [
       "[1, 1, 2, 6, 24, 120, 720, 5040]"
      ]
     },
     "execution_count": 43,
     "metadata": {},
     "output_type": "execute_result"
    }
   ],
   "source": [
    "fac = [1] * (N + 1)\n",
    "for i in range(2, N + 1):\n",
    "    fac[i] = fac[i - 1] * i % MOD\n",
    "\n",
    "fac"
   ]
  },
  {
   "cell_type": "markdown",
   "metadata": {},
   "source": [
    "#### 階乗の逆元のテーブル"
   ]
  },
  {
   "cell_type": "code",
   "execution_count": 44,
   "metadata": {},
   "outputs": [
    {
     "data": {
      "text/plain": [
       "[1, 1, 500000004, 166666668, 41666667, 808333339, 301388891, 900198419]"
      ]
     },
     "execution_count": 44,
     "metadata": {},
     "output_type": "execute_result"
    }
   ],
   "source": [
    "finv = [1] * (N + 1)\n",
    "finv[-1] = pow(fac[-1], MOD - 2, MOD)\n",
    "for i in reversed(range(1, N + 1)):\n",
    "    finv[i - 1] = finv[i] * i % MOD\n",
    "    \n",
    "finv"
   ]
  },
  {
   "cell_type": "markdown",
   "metadata": {},
   "source": [
    "#### DP"
   ]
  },
  {
   "cell_type": "code",
   "execution_count": 47,
   "metadata": {},
   "outputs": [
    {
     "name": "stdout",
     "output_type": "stream",
     "text": [
      "105\n"
     ]
    }
   ],
   "source": [
    "dp = [[0] * (N + 1) for _ in range(B + 1)]\n",
    "dp[A - 1][0] = 1\n",
    "\n",
    "for i in range(A, B + 1):\n",
    "    for j in range(N + 1):\n",
    "        dp[i][j] = dp[i - 1][j]\n",
    "        for k in range(C, min(D, j // i) + 1):\n",
    "            t = (fac[N - j + i * k] * finv[N - j] \\\n",
    "                      * pow(finv[i], k, MOD) * finv[k]) % MOD\n",
    "            dp[i][j] += dp[i - 1][j - i * k] * t\n",
    "            dp[i][j] %= MOD\n",
    "\n",
    "print(dp[B][N])"
   ]
  },
  {
   "cell_type": "code",
   "execution_count": 48,
   "metadata": {},
   "outputs": [
    {
     "data": {
      "text/plain": [
       "[[0, 0, 0, 0, 0, 0, 0, 0],\n",
       " [1, 0, 0, 0, 0, 0, 0, 0],\n",
       " [1, 0, 21, 0, 105, 0, 105, 0],\n",
       " [1, 0, 21, 35, 105, 210, 175, 105]]"
      ]
     },
     "execution_count": 48,
     "metadata": {},
     "output_type": "execute_result"
    }
   ],
   "source": [
    "dp"
   ]
  },
  {
   "cell_type": "markdown",
   "metadata": {},
   "source": [
    "# ARC 17 - A\n",
    "\n",
    "素数\n",
    "\n",
    "https://atcoder.jp/contests/arc017/tasks/arc017_1"
   ]
  },
  {
   "cell_type": "code",
   "execution_count": 54,
   "metadata": {},
   "outputs": [],
   "source": [
    "N = 999983"
   ]
  },
  {
   "cell_type": "code",
   "execution_count": 61,
   "metadata": {},
   "outputs": [],
   "source": [
    "def is_prime(n):\n",
    "    for i in range(2, n):\n",
    "        if i * i > n:\n",
    "            break\n",
    "            \n",
    "        if n % i == 0:\n",
    "            return False\n",
    "        \n",
    "    return n != 1"
   ]
  },
  {
   "cell_type": "code",
   "execution_count": 62,
   "metadata": {},
   "outputs": [
    {
     "data": {
      "text/plain": [
       "True"
      ]
     },
     "execution_count": 62,
     "metadata": {},
     "output_type": "execute_result"
    }
   ],
   "source": [
    "is_prime(N)"
   ]
  },
  {
   "cell_type": "markdown",
   "metadata": {},
   "source": [
    "# ABC 52 - C\n",
    "\n",
    "素因数分解\n",
    "\n",
    "https://atcoder.jp/contests/abc052/tasks/arc067_a"
   ]
  },
  {
   "cell_type": "code",
   "execution_count": 63,
   "metadata": {},
   "outputs": [
    {
     "name": "stdout",
     "output_type": "stream",
     "text": [
      "ans: 4\n"
     ]
    }
   ],
   "source": [
    "N = 3\n",
    "MOD = 10 ** 9 + 7\n",
    "\n",
    "print('ans: 4')"
   ]
  },
  {
   "cell_type": "code",
   "execution_count": 99,
   "metadata": {},
   "outputs": [
    {
     "name": "stdout",
     "output_type": "stream",
     "text": [
      "ans: 30\n"
     ]
    }
   ],
   "source": [
    "N = 6\n",
    "\n",
    "print('ans: 30')"
   ]
  },
  {
   "cell_type": "code",
   "execution_count": 104,
   "metadata": {},
   "outputs": [],
   "source": [
    "from collections import defaultdict\n",
    "\n",
    "def prime_factor(n):\n",
    "    d = defaultdict(int)\n",
    "    for i in range(2, n + 1):\n",
    "        if i * i > n:\n",
    "            break\n",
    "            \n",
    "        while n % i == 0:\n",
    "            d[i] += 1\n",
    "            n //= i\n",
    "            \n",
    "    if n != 1:\n",
    "        d[n] = 1\n",
    "            \n",
    "    return d"
   ]
  },
  {
   "cell_type": "code",
   "execution_count": 110,
   "metadata": {},
   "outputs": [
    {
     "data": {
      "text/plain": [
       "defaultdict(int, {2: 4, 3: 2, 5: 1})"
      ]
     },
     "execution_count": 110,
     "metadata": {},
     "output_type": "execute_result"
    }
   ],
   "source": [
    "from collections import defaultdict\n",
    "\n",
    "d = defaultdict(int)\n",
    "for i in range(1, N + 1):\n",
    "    for j, v in prime_factor(i).items():\n",
    "        d[j] += v\n",
    "        \n",
    "d"
   ]
  },
  {
   "cell_type": "code",
   "execution_count": 109,
   "metadata": {},
   "outputs": [
    {
     "name": "stdout",
     "output_type": "stream",
     "text": [
      "30\n"
     ]
    }
   ],
   "source": [
    "ans = 1\n",
    "for v in d.values():\n",
    "    ans = ans * (v + 1) % MOD\n",
    "print(ans)"
   ]
  },
  {
   "cell_type": "markdown",
   "metadata": {},
   "source": [
    "# ABC 110 - D\n",
    "\n",
    "素因数分解 + 重複組み合わせ\n",
    "\n",
    "https://atcoder.jp/contests/abc110/tasks/abc110_d"
   ]
  },
  {
   "cell_type": "code",
   "execution_count": null,
   "metadata": {},
   "outputs": [],
   "source": []
  },
  {
   "cell_type": "code",
   "execution_count": null,
   "metadata": {},
   "outputs": [],
   "source": []
  },
  {
   "cell_type": "code",
   "execution_count": null,
   "metadata": {},
   "outputs": [],
   "source": []
  },
  {
   "cell_type": "code",
   "execution_count": null,
   "metadata": {},
   "outputs": [],
   "source": []
  },
  {
   "cell_type": "code",
   "execution_count": null,
   "metadata": {},
   "outputs": [],
   "source": []
  },
  {
   "cell_type": "code",
   "execution_count": null,
   "metadata": {},
   "outputs": [],
   "source": []
  }
 ],
 "metadata": {
  "kernelspec": {
   "display_name": "Python 3",
   "language": "python",
   "name": "python3"
  },
  "language_info": {
   "codemirror_mode": {
    "name": "ipython",
    "version": 3
   },
   "file_extension": ".py",
   "mimetype": "text/x-python",
   "name": "python",
   "nbconvert_exporter": "python",
   "pygments_lexer": "ipython3",
   "version": "3.7.3"
  }
 },
 "nbformat": 4,
 "nbformat_minor": 2
}
