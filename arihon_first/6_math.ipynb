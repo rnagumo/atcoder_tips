{
 "cells": [
  {
   "cell_type": "markdown",
   "metadata": {},
   "source": [
    "# ABC 70 - C\n",
    "\n",
    "https://atcoder.jp/contests/abc070/tasks/abc070_c"
   ]
  },
  {
   "cell_type": "code",
   "execution_count": 1,
   "metadata": {},
   "outputs": [],
   "source": [
    "N = 2\n",
    "T = [2, 3]"
   ]
  },
  {
   "cell_type": "code",
   "execution_count": 10,
   "metadata": {},
   "outputs": [],
   "source": [
    "from math import gcd\n",
    "from functools import reduce\n",
    "\n",
    "def lcm(x, y):\n",
    "    return x * y // gcd(x, y)"
   ]
  },
  {
   "cell_type": "code",
   "execution_count": 11,
   "metadata": {},
   "outputs": [
    {
     "name": "stdout",
     "output_type": "stream",
     "text": [
      "6\n"
     ]
    }
   ],
   "source": [
    "print(reduce(lcm, T))"
   ]
  },
  {
   "cell_type": "markdown",
   "metadata": {},
   "source": [
    "# AGC 1 - B\n",
    "\n",
    "https://atcoder.jp/contests/agc001/tasks/agc001_b"
   ]
  },
  {
   "cell_type": "code",
   "execution_count": 12,
   "metadata": {},
   "outputs": [
    {
     "name": "stdout",
     "output_type": "stream",
     "text": [
      "ans: 12\n"
     ]
    }
   ],
   "source": [
    "N, X = 5, 2\n",
    "\n",
    "print('ans: 12')"
   ]
  },
  {
   "cell_type": "code",
   "execution_count": 22,
   "metadata": {},
   "outputs": [],
   "source": [
    "from math import gcd\n",
    "\n",
    "def f(a, b):\n",
    "    if a > b:\n",
    "        return f(b, a)\n",
    "    if b % a == 0:\n",
    "        return (2 * (b // a) - 1) * a\n",
    "\n",
    "    return 2 * (b // a) * a + f(b % a, a)"
   ]
  },
  {
   "cell_type": "code",
   "execution_count": 23,
   "metadata": {},
   "outputs": [
    {
     "name": "stdout",
     "output_type": "stream",
     "text": [
      "12\n"
     ]
    }
   ],
   "source": [
    "print(N + f(N - X, X))"
   ]
  },
  {
   "cell_type": "markdown",
   "metadata": {},
   "source": [
    "# ARC 67 - E\n",
    "\n",
    "拡張Euclidの互除法，mod_inverseの例\n",
    "\n",
    "$\n",
    "DP[i][j] = \\sum_{k \\in (0, C, C+1, ..., D)}DP[i-1][j-i*k] \n",
    "* \\dfrac{{}_{n-j+i*k} P_{i*k}}{(i!)^kk!}\n",
    "$\n",
    "\n",
    "https://atcoder.jp/contests/arc067/tasks/arc067_c"
   ]
  },
  {
   "cell_type": "code",
   "execution_count": 25,
   "metadata": {},
   "outputs": [
    {
     "name": "stdout",
     "output_type": "stream",
     "text": [
      "ans: 4\n"
     ]
    }
   ],
   "source": [
    "N, A, B, C, D = 3, 1, 3, 1, 2\n",
    "MOD = 10 ** 9 + 7\n",
    "\n",
    "print('ans: 4')"
   ]
  },
  {
   "cell_type": "code",
   "execution_count": 42,
   "metadata": {},
   "outputs": [
    {
     "name": "stdout",
     "output_type": "stream",
     "text": [
      "ans: 105\n"
     ]
    }
   ],
   "source": [
    "N, A, B, C, D = 7, 2, 3, 1, 3\n",
    "MOD = 10 ** 9 + 7\n",
    "\n",
    "print('ans: 105')"
   ]
  },
  {
   "cell_type": "markdown",
   "metadata": {},
   "source": [
    "#### 階乗のテーブルを用意する"
   ]
  },
  {
   "cell_type": "code",
   "execution_count": 43,
   "metadata": {},
   "outputs": [
    {
     "data": {
      "text/plain": [
       "[1, 1, 2, 6, 24, 120, 720, 5040]"
      ]
     },
     "execution_count": 43,
     "metadata": {},
     "output_type": "execute_result"
    }
   ],
   "source": [
    "fac = [1] * (N + 1)\n",
    "for i in range(2, N + 1):\n",
    "    fac[i] = fac[i - 1] * i % MOD\n",
    "\n",
    "fac"
   ]
  },
  {
   "cell_type": "markdown",
   "metadata": {},
   "source": [
    "#### 階乗の逆元のテーブル"
   ]
  },
  {
   "cell_type": "code",
   "execution_count": 44,
   "metadata": {},
   "outputs": [
    {
     "data": {
      "text/plain": [
       "[1, 1, 500000004, 166666668, 41666667, 808333339, 301388891, 900198419]"
      ]
     },
     "execution_count": 44,
     "metadata": {},
     "output_type": "execute_result"
    }
   ],
   "source": [
    "finv = [1] * (N + 1)\n",
    "finv[-1] = pow(fac[-1], MOD - 2, MOD)\n",
    "for i in reversed(range(1, N + 1)):\n",
    "    finv[i - 1] = finv[i] * i % MOD\n",
    "    \n",
    "finv"
   ]
  },
  {
   "cell_type": "markdown",
   "metadata": {},
   "source": [
    "#### DP"
   ]
  },
  {
   "cell_type": "code",
   "execution_count": 47,
   "metadata": {},
   "outputs": [
    {
     "name": "stdout",
     "output_type": "stream",
     "text": [
      "105\n"
     ]
    }
   ],
   "source": [
    "dp = [[0] * (N + 1) for _ in range(B + 1)]\n",
    "dp[A - 1][0] = 1\n",
    "\n",
    "for i in range(A, B + 1):\n",
    "    for j in range(N + 1):\n",
    "        dp[i][j] = dp[i - 1][j]\n",
    "        for k in range(C, min(D, j // i) + 1):\n",
    "            t = (fac[N - j + i * k] * finv[N - j] \\\n",
    "                      * pow(finv[i], k, MOD) * finv[k]) % MOD\n",
    "            dp[i][j] += dp[i - 1][j - i * k] * t\n",
    "            dp[i][j] %= MOD\n",
    "\n",
    "print(dp[B][N])"
   ]
  },
  {
   "cell_type": "code",
   "execution_count": 48,
   "metadata": {},
   "outputs": [
    {
     "data": {
      "text/plain": [
       "[[0, 0, 0, 0, 0, 0, 0, 0],\n",
       " [1, 0, 0, 0, 0, 0, 0, 0],\n",
       " [1, 0, 21, 0, 105, 0, 105, 0],\n",
       " [1, 0, 21, 35, 105, 210, 175, 105]]"
      ]
     },
     "execution_count": 48,
     "metadata": {},
     "output_type": "execute_result"
    }
   ],
   "source": [
    "dp"
   ]
  },
  {
   "cell_type": "markdown",
   "metadata": {},
   "source": [
    "# ARC 17 - A\n",
    "\n",
    "素数\n",
    "\n",
    "https://atcoder.jp/contests/arc017/tasks/arc017_1"
   ]
  },
  {
   "cell_type": "code",
   "execution_count": 54,
   "metadata": {},
   "outputs": [],
   "source": [
    "N = 999983"
   ]
  },
  {
   "cell_type": "code",
   "execution_count": 61,
   "metadata": {},
   "outputs": [],
   "source": [
    "def is_prime(n):\n",
    "    for i in range(2, n):\n",
    "        if i * i > n:\n",
    "            break\n",
    "            \n",
    "        if n % i == 0:\n",
    "            return False\n",
    "        \n",
    "    return n != 1"
   ]
  },
  {
   "cell_type": "code",
   "execution_count": 62,
   "metadata": {},
   "outputs": [
    {
     "data": {
      "text/plain": [
       "True"
      ]
     },
     "execution_count": 62,
     "metadata": {},
     "output_type": "execute_result"
    }
   ],
   "source": [
    "is_prime(N)"
   ]
  },
  {
   "cell_type": "markdown",
   "metadata": {},
   "source": [
    "# ABC 52 - C\n",
    "\n",
    "素因数分解\n",
    "\n",
    "https://atcoder.jp/contests/abc052/tasks/arc067_a"
   ]
  },
  {
   "cell_type": "code",
   "execution_count": 63,
   "metadata": {},
   "outputs": [
    {
     "name": "stdout",
     "output_type": "stream",
     "text": [
      "ans: 4\n"
     ]
    }
   ],
   "source": [
    "N = 3\n",
    "MOD = 10 ** 9 + 7\n",
    "\n",
    "print('ans: 4')"
   ]
  },
  {
   "cell_type": "code",
   "execution_count": 99,
   "metadata": {},
   "outputs": [
    {
     "name": "stdout",
     "output_type": "stream",
     "text": [
      "ans: 30\n"
     ]
    }
   ],
   "source": [
    "N = 6\n",
    "\n",
    "print('ans: 30')"
   ]
  },
  {
   "cell_type": "code",
   "execution_count": 104,
   "metadata": {},
   "outputs": [],
   "source": [
    "from collections import defaultdict\n",
    "\n",
    "def prime_factor(n):\n",
    "    d = defaultdict(int)\n",
    "    for i in range(2, n + 1):\n",
    "        if i * i > n:\n",
    "            break\n",
    "            \n",
    "        while n % i == 0:\n",
    "            d[i] += 1\n",
    "            n //= i\n",
    "            \n",
    "    if n != 1:\n",
    "        d[n] = 1\n",
    "            \n",
    "    return d"
   ]
  },
  {
   "cell_type": "code",
   "execution_count": 110,
   "metadata": {},
   "outputs": [
    {
     "data": {
      "text/plain": [
       "defaultdict(int, {2: 4, 3: 2, 5: 1})"
      ]
     },
     "execution_count": 110,
     "metadata": {},
     "output_type": "execute_result"
    }
   ],
   "source": [
    "from collections import defaultdict\n",
    "\n",
    "d = defaultdict(int)\n",
    "for i in range(1, N + 1):\n",
    "    for j, v in prime_factor(i).items():\n",
    "        d[j] += v\n",
    "        \n",
    "d"
   ]
  },
  {
   "cell_type": "code",
   "execution_count": 109,
   "metadata": {},
   "outputs": [
    {
     "name": "stdout",
     "output_type": "stream",
     "text": [
      "30\n"
     ]
    }
   ],
   "source": [
    "ans = 1\n",
    "for v in d.values():\n",
    "    ans = ans * (v + 1) % MOD\n",
    "print(ans)"
   ]
  },
  {
   "cell_type": "markdown",
   "metadata": {},
   "source": [
    "# ABC 110 - D\n",
    "\n",
    "素因数分解 + 重複組み合わせ\n",
    "\n",
    "https://atcoder.jp/contests/abc110/tasks/abc110_d"
   ]
  },
  {
   "cell_type": "code",
   "execution_count": 116,
   "metadata": {},
   "outputs": [
    {
     "name": "stdout",
     "output_type": "stream",
     "text": [
      "ans: 4\n"
     ]
    }
   ],
   "source": [
    "N, M = 2, 6\n",
    "\n",
    "print('ans: 4')"
   ]
  },
  {
   "cell_type": "code",
   "execution_count": 117,
   "metadata": {},
   "outputs": [
    {
     "data": {
      "text/plain": [
       "defaultdict(int, {2: 1, 3: 1})"
      ]
     },
     "execution_count": 117,
     "metadata": {},
     "output_type": "execute_result"
    }
   ],
   "source": [
    "from collections import defaultdict\n",
    "\n",
    "prime = defaultdict(int)\n",
    "for i in range(2, M + 1):\n",
    "    if i * i > M:\n",
    "        break\n",
    "        \n",
    "    while M % i == 0:\n",
    "        prime[i] += 1\n",
    "        M //= i\n",
    "        \n",
    "if M != 1:\n",
    "    prime[M] = 1\n",
    "    \n",
    "prime"
   ]
  },
  {
   "cell_type": "code",
   "execution_count": 118,
   "metadata": {},
   "outputs": [],
   "source": [
    "MOD = 10 ** 9 + 7\n",
    "\n",
    "def comb(n, k):\n",
    "    ret = 1\n",
    "    for i in range(1, k + 1):\n",
    "        ret = ret * (n - i + 1) % MOD\n",
    "        ret = ret * pow(i, MOD - 2, MOD) % MOD\n",
    "        \n",
    "    return ret"
   ]
  },
  {
   "cell_type": "code",
   "execution_count": 119,
   "metadata": {},
   "outputs": [
    {
     "name": "stdout",
     "output_type": "stream",
     "text": [
      "4\n"
     ]
    }
   ],
   "source": [
    "ans = 1\n",
    "for v in prime.values():\n",
    "    ans = ans * comb(N + v - 1, N - 1) % MOD\n",
    "    \n",
    "print(ans)"
   ]
  },
  {
   "cell_type": "markdown",
   "metadata": {},
   "source": [
    "# 天下一プログラマ 2012 予選C - A\n",
    "\n",
    "Eratosthenes の篩\n",
    "\n",
    "https://atcoder.jp/contests/tenka1-2012-qualc/tasks/tenka1_2012_9"
   ]
  },
  {
   "cell_type": "code",
   "execution_count": 120,
   "metadata": {},
   "outputs": [
    {
     "name": "stdout",
     "output_type": "stream",
     "text": [
      "ans: 4\n"
     ]
    }
   ],
   "source": [
    "N = 11\n",
    "\n",
    "print('ans: 4')"
   ]
  },
  {
   "cell_type": "code",
   "execution_count": 124,
   "metadata": {},
   "outputs": [],
   "source": [
    "def sieve(n):\n",
    "    prime = []\n",
    "\n",
    "    is_prime = [True] * (n + 1)\n",
    "    is_prime[0] = False\n",
    "    is_prime[1] = False\n",
    "    \n",
    "    for i in range(2, n + 1):\n",
    "        if is_prime[i]:\n",
    "            prime.append(i)\n",
    "            \n",
    "            for j in range(2 * i, n + 1, i):\n",
    "                is_prime[j] = False\n",
    "                \n",
    "    return prime, is_prime"
   ]
  },
  {
   "cell_type": "code",
   "execution_count": 129,
   "metadata": {},
   "outputs": [
    {
     "data": {
      "text/plain": [
       "([2, 3, 5, 7],\n",
       " [False, False, True, True, False, True, False, True, False, False, False])"
      ]
     },
     "execution_count": 129,
     "metadata": {},
     "output_type": "execute_result"
    }
   ],
   "source": [
    "prime, is_prime = sieve(N - 1)\n",
    "\n",
    "prime, is_prime"
   ]
  },
  {
   "cell_type": "code",
   "execution_count": 128,
   "metadata": {},
   "outputs": [
    {
     "name": "stdout",
     "output_type": "stream",
     "text": [
      "4\n"
     ]
    }
   ],
   "source": [
    "print(sum(is_prime))"
   ]
  },
  {
   "cell_type": "markdown",
   "metadata": {},
   "source": [
    "# ABC 84 - D\n",
    "\n",
    "https://atcoder.jp/contests/abc084/tasks/abc084_d"
   ]
  },
  {
   "cell_type": "code",
   "execution_count": 11,
   "metadata": {},
   "outputs": [
    {
     "name": "stdout",
     "output_type": "stream",
     "text": [
      "ans: 2\n"
     ]
    }
   ],
   "source": [
    "Q = 1\n",
    "X = [[3, 7]]\n",
    "\n",
    "print('ans: 2')"
   ]
  },
  {
   "cell_type": "code",
   "execution_count": 7,
   "metadata": {},
   "outputs": [],
   "source": [
    "def sieve(n):\n",
    "    if n == 0:\n",
    "        return [False]\n",
    "\n",
    "    is_prime = [True] * (n + 1)\n",
    "    is_prime[0] = False\n",
    "    is_prime[1] = False\n",
    "    \n",
    "    for i in range(2, n + 1):\n",
    "        for j in range(2 * i, n + 1, i):\n",
    "            is_prime[j] = False\n",
    "                \n",
    "    return is_prime"
   ]
  },
  {
   "cell_type": "code",
   "execution_count": 17,
   "metadata": {},
   "outputs": [
    {
     "name": "stdout",
     "output_type": "stream",
     "text": [
      "2\n"
     ]
    }
   ],
   "source": [
    "from itertools import accumulate\n",
    "\n",
    "MAX = 11\n",
    "is_prime = sieve(MAX)\n",
    "cnt = [0] * (MAX + 1)\n",
    "for i in range(MAX + 1):\n",
    "    if is_prime[i] and is_prime[(i + 1) // 2]:\n",
    "        cnt[i] = 1\n",
    "cnt = list(accumulate(cnt))\n",
    "\n",
    "for l, r in X:\n",
    "    print(cnt[r] - cnt[l - 1])"
   ]
  },
  {
   "cell_type": "code",
   "execution_count": 13,
   "metadata": {},
   "outputs": [
    {
     "data": {
      "text/plain": [
       "[0, 0, 0, 1, 1, 2, 2, 2, 2, 2, 2, 2]"
      ]
     },
     "execution_count": 13,
     "metadata": {},
     "output_type": "execute_result"
    }
   ],
   "source": [
    "cnt"
   ]
  },
  {
   "cell_type": "code",
   "execution_count": 10,
   "metadata": {},
   "outputs": [
    {
     "data": {
      "text/plain": [
       "[False, False, True, True, False, True, False, True, False, False, False, True]"
      ]
     },
     "execution_count": 10,
     "metadata": {},
     "output_type": "execute_result"
    }
   ],
   "source": [
    "is_prime"
   ]
  },
  {
   "cell_type": "markdown",
   "metadata": {},
   "source": [
    "# JAG practive 2017 - C\n",
    "\n",
    "https://atcoder.jp/contests/jag2017autumn/tasks/jag2017autumn_c"
   ]
  },
  {
   "cell_type": "code",
   "execution_count": 86,
   "metadata": {},
   "outputs": [
    {
     "name": "stdout",
     "output_type": "stream",
     "text": [
      "ans: 4\n"
     ]
    }
   ],
   "source": [
    "l, r = 1, 9\n",
    "\n",
    "print('ans: 4')"
   ]
  },
  {
   "cell_type": "code",
   "execution_count": 18,
   "metadata": {},
   "outputs": [],
   "source": [
    "def segment_sieve(a, b):\n",
    "    small_len = int(b ** 0.5) + 1\n",
    "    \n",
    "    is_prime = [True] * small_len\n",
    "    is_prime[0] = False\n",
    "    is_prime[1] = False\n",
    "    \n",
    "    cnt = [0] * (b - a + 1)\n",
    "    fac = list(range(a, b + 1))\n",
    "    \n",
    "    for i in range(2, small_len):\n",
    "        if is_prime[i]:\n",
    "            for j in range(i * 2, small_len, i):\n",
    "                is_prime[j] = False\n",
    "                \n",
    "            for j in range(max(2, (a + i - 1) // i * i), b + 1, i):\n",
    "                while fac[j - a] % i == 0:\n",
    "                    cnt[j - a] += 1\n",
    "                    fac[j - a] //= i\n",
    "\n",
    "    ans = 0\n",
    "    for i in range(r - l + 1):\n",
    "        if fac[i] != 1 and is_prime[cnt[i] + 1]:\n",
    "            ans += 1\n",
    "        if fac[i] == 1 and is_prime[cnt[i]]:\n",
    "            ans += 1\n",
    "    \n",
    "    return ans"
   ]
  },
  {
   "cell_type": "code",
   "execution_count": 19,
   "metadata": {},
   "outputs": [
    {
     "name": "stdout",
     "output_type": "stream",
     "text": [
      "ans: 4\n",
      "4\n"
     ]
    }
   ],
   "source": [
    "l, r = 1, 9\n",
    "print('ans: 4')\n",
    "\n",
    "print(segment_sieve(l, r + 1))"
   ]
  },
  {
   "cell_type": "code",
   "execution_count": 21,
   "metadata": {},
   "outputs": [
    {
     "name": "stdout",
     "output_type": "stream",
     "text": [
      "ans: 6\n",
      "6\n"
     ]
    }
   ],
   "source": [
    "l, r = 10, 20\n",
    "print('ans: 6')\n",
    "\n",
    "print(segment_sieve(l, r + 1))"
   ]
  },
  {
   "cell_type": "code",
   "execution_count": 22,
   "metadata": {},
   "outputs": [
    {
     "name": "stdout",
     "output_type": "stream",
     "text": [
      "ans: 36172\n",
      "36172\n"
     ]
    }
   ],
   "source": [
    "l, r = 575, 57577\n",
    "print('ans: 36172')\n",
    "\n",
    "print(segment_sieve(l, r + 1))"
   ]
  },
  {
   "cell_type": "markdown",
   "metadata": {},
   "source": [
    "# 2007 JOI - fermat\n",
    "\n",
    "https://atcoder.jp/contests/joisc2007/tasks/joisc2007_fermat"
   ]
  },
  {
   "cell_type": "code",
   "execution_count": 1,
   "metadata": {},
   "outputs": [
    {
     "name": "stdout",
     "output_type": "stream",
     "text": [
      "ans: 9\n"
     ]
    }
   ],
   "source": [
    "p, n = 3, 5\n",
    "\n",
    "print('ans: 9')"
   ]
  },
  {
   "cell_type": "markdown",
   "metadata": {},
   "source": [
    "### 解答例\n",
    "\n",
    "C++  \n",
    "https://atcoder.jp/contests/joisc2007/submissions/3650854\n",
    "\n",
    "Python  \n",
    "https://atcoder.jp/contests/joisc2007/submissions/3179787"
   ]
  },
  {
   "cell_type": "markdown",
   "metadata": {},
   "source": [
    "$a^n \\pmod{p}$の値の個数を求めている"
   ]
  },
  {
   "cell_type": "code",
   "execution_count": 6,
   "metadata": {},
   "outputs": [
    {
     "data": {
      "text/plain": [
       "[1, 1, 1]"
      ]
     },
     "execution_count": 6,
     "metadata": {},
     "output_type": "execute_result"
    }
   ],
   "source": [
    "fermat = [0] * p\n",
    "for i in range(p):\n",
    "    fermat[pow(i, n, p)] += 1\n",
    "\n",
    "fermat"
   ]
  },
  {
   "cell_type": "markdown",
   "metadata": {},
   "source": [
    "#### 1行目\n",
    "\n",
    "x, y = 1, z = x + 1の場合の数．  \n",
    "xの場合の数 * zの場合の数 * ?\n",
    "\n",
    "#### 2行目\n",
    "\n",
    "x = z, y = 0の場合の数?"
   ]
  },
  {
   "cell_type": "code",
   "execution_count": 9,
   "metadata": {},
   "outputs": [
    {
     "name": "stdout",
     "output_type": "stream",
     "text": [
      "9\n"
     ]
    }
   ],
   "source": [
    "ans = 0\n",
    "for i in range(p):\n",
    "    ans += (fermat[i] * fermat[(i + 1) % p]) * (p - 1)\n",
    "    ans += fermat[i] * fermat[i]\n",
    "    \n",
    "print(ans)"
   ]
  },
  {
   "cell_type": "code",
   "execution_count": null,
   "metadata": {},
   "outputs": [],
   "source": []
  },
  {
   "cell_type": "code",
   "execution_count": null,
   "metadata": {},
   "outputs": [],
   "source": []
  },
  {
   "cell_type": "code",
   "execution_count": null,
   "metadata": {},
   "outputs": [],
   "source": []
  },
  {
   "cell_type": "code",
   "execution_count": null,
   "metadata": {},
   "outputs": [],
   "source": []
  }
 ],
 "metadata": {
  "kernelspec": {
   "display_name": "Python 3",
   "language": "python",
   "name": "python3"
  },
  "language_info": {
   "codemirror_mode": {
    "name": "ipython",
    "version": 3
   },
   "file_extension": ".py",
   "mimetype": "text/x-python",
   "name": "python",
   "nbconvert_exporter": "python",
   "pygments_lexer": "ipython3",
   "version": "3.7.3"
  }
 },
 "nbformat": 4,
 "nbformat_minor": 2
}
