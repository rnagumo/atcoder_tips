{
 "cells": [
  {
   "cell_type": "markdown",
   "metadata": {},
   "source": [
    "# AtCoderで蟻本　ー　初級編\n",
    "\n",
    "https://qiita.com/drken/items/e77685614f3c6bf86f44"
   ]
  },
  {
   "cell_type": "markdown",
   "metadata": {},
   "source": [
    "# ARC4 - 1\n",
    "\n",
    "https://atcoder.jp/contests/arc004/tasks/arc004_1"
   ]
  },
  {
   "cell_type": "code",
   "execution_count": 1,
   "metadata": {},
   "outputs": [],
   "source": [
    "N = 3\n",
    "X = [[1, 1], [2, 4], [4, 3]]"
   ]
  },
  {
   "cell_type": "code",
   "execution_count": 2,
   "metadata": {},
   "outputs": [
    {
     "name": "stdout",
     "output_type": "stream",
     "text": [
      "3.605551275463989\n"
     ]
    }
   ],
   "source": [
    "from itertools import permutations\n",
    "from math import sqrt\n",
    "\n",
    "ans = []\n",
    "for i, j in permutations(range(N), 2):\n",
    "    ans.append(sqrt((X[i][0] - X[j][0]) ** 2 + (X[i][1] - X[j][1]) ** 2))\n",
    "    \n",
    "print(max(ans))"
   ]
  },
  {
   "cell_type": "markdown",
   "metadata": {},
   "source": [
    "# ABC85 - C\n",
    "\n",
    "https://atcoder.jp/contests/abc085/tasks/abc085_c"
   ]
  },
  {
   "cell_type": "code",
   "execution_count": 3,
   "metadata": {},
   "outputs": [],
   "source": [
    "N, Y = 9, 45000"
   ]
  },
  {
   "cell_type": "code",
   "execution_count": 5,
   "metadata": {},
   "outputs": [
    {
     "name": "stdout",
     "output_type": "stream",
     "text": [
      "4 0 5\n"
     ]
    }
   ],
   "source": [
    "ans = [-1, -1, -1]\n",
    "for x in range(N + 1):\n",
    "    for y in range(N + 1):\n",
    "        z = N - x - y\n",
    "        if z < 0:\n",
    "            continue\n",
    "            \n",
    "        if 10000 * x + 5000 * y + 1000 * z == Y:\n",
    "            ans = [x, y, z]\n",
    "            \n",
    "print(*ans)"
   ]
  },
  {
   "cell_type": "code",
   "execution_count": null,
   "metadata": {},
   "outputs": [],
   "source": []
  },
  {
   "cell_type": "code",
   "execution_count": null,
   "metadata": {},
   "outputs": [],
   "source": []
  }
 ],
 "metadata": {
  "kernelspec": {
   "display_name": "Python 3",
   "language": "python",
   "name": "python3"
  },
  "language_info": {
   "codemirror_mode": {
    "name": "ipython",
    "version": 3
   },
   "file_extension": ".py",
   "mimetype": "text/x-python",
   "name": "python",
   "nbconvert_exporter": "python",
   "pygments_lexer": "ipython3",
   "version": "3.7.3"
  }
 },
 "nbformat": 4,
 "nbformat_minor": 2
}
