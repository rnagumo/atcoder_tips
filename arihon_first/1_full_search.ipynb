{
 "cells": [
  {
   "cell_type": "markdown",
   "metadata": {},
   "source": [
    "# 全探索"
   ]
  },
  {
   "cell_type": "markdown",
   "metadata": {},
   "source": [
    "# ARC61 - A\n",
    "\n",
    "https://atcoder.jp/contests/arc061/tasks/arc061_a"
   ]
  },
  {
   "cell_type": "code",
   "execution_count": 35,
   "metadata": {},
   "outputs": [
    {
     "name": "stdout",
     "output_type": "stream",
     "text": [
      "abs: 176\n"
     ]
    }
   ],
   "source": [
    "s = '125'\n",
    "\n",
    "print('abs: 176')"
   ]
  },
  {
   "cell_type": "code",
   "execution_count": 38,
   "metadata": {},
   "outputs": [
    {
     "name": "stdout",
     "output_type": "stream",
     "text": [
      "125 0000000000\n",
      "1+25 0000000001\n",
      "12+5 0000000010\n",
      "1+2+5 0000000011\n",
      "176\n"
     ]
    }
   ],
   "source": [
    "ans = 0\n",
    "for i in range(2 ** (len(s) - 1)):\n",
    "    fml = ''\n",
    "    for j in range(len(s) - 1):\n",
    "        fml += s[j]\n",
    "        fml += '+' if '{:0>10b}'.format(i)[::-1][j] == '1' else ''\n",
    "    fml += s[-1]\n",
    "\n",
    "    print(fml, '{:0>10b}'.format(i))\n",
    "    ans += eval(fml)\n",
    "    \n",
    "print(ans)"
   ]
  },
  {
   "cell_type": "markdown",
   "metadata": {},
   "source": [
    "# ABC79 - C\n",
    "\n",
    "https://atcoder.jp/contests/abc079/tasks/abc079_c"
   ]
  },
  {
   "cell_type": "code",
   "execution_count": 43,
   "metadata": {},
   "outputs": [],
   "source": [
    "s = '1222'"
   ]
  },
  {
   "cell_type": "code",
   "execution_count": 48,
   "metadata": {},
   "outputs": [
    {
     "name": "stdout",
     "output_type": "stream",
     "text": [
      "1+2+2+2\n",
      "1+2+2+2=7\n"
     ]
    }
   ],
   "source": [
    "for i in range(2 ** (len(s) - 1)):\n",
    "    fml = ''\n",
    "    for j in range(len(s) - 1):\n",
    "        fml += s[j]\n",
    "        fml += '+-'[int('{:0>10b}'.format(i)[::-1][j]) & 1]\n",
    "    fml += s[-1]\n",
    "\n",
    "    if eval(fml) == 7:\n",
    "        fml += '=7'\n",
    "        break\n",
    "        \n",
    "print(fml)"
   ]
  },
  {
   "cell_type": "code",
   "execution_count": 50,
   "metadata": {},
   "outputs": [
    {
     "name": "stdout",
     "output_type": "stream",
     "text": [
      "1+2+2+2\n",
      "1-2+2+2\n",
      "1+2-2+2\n",
      "1-2-2+2\n",
      "1+2+2-2\n",
      "1-2+2-2\n",
      "1+2-2-2\n"
     ]
    }
   ],
   "source": [
    "for i in range(7):\n",
    "    y = ''.join([s[k] + '+-'[i >> k & 1] for k in range(3)] + [s[-1]])\n",
    "    print(y)"
   ]
  },
  {
   "cell_type": "markdown",
   "metadata": {},
   "source": [
    "# ARC29 - A\n",
    "\n",
    "https://atcoder.jp/contests/arc029/tasks/arc029_1"
   ]
  },
  {
   "cell_type": "code",
   "execution_count": 61,
   "metadata": {},
   "outputs": [],
   "source": [
    "N = 4\n",
    "X = [4, 6, 7, 10]"
   ]
  },
  {
   "cell_type": "code",
   "execution_count": 62,
   "metadata": {},
   "outputs": [
    {
     "name": "stdout",
     "output_type": "stream",
     "text": [
      "14\n"
     ]
    }
   ],
   "source": [
    "ans = float('inf')\n",
    "total = sum(X)\n",
    "for i in range(2 ** N):\n",
    "    cnt = 0\n",
    "    for j in range(N):\n",
    "        cnt += X[j] * (i >> j & 1)\n",
    "    ans = min(ans, max(cnt, total - cnt))\n",
    "    \n",
    "print(ans)"
   ]
  },
  {
   "cell_type": "markdown",
   "metadata": {},
   "source": [
    "# ABC2 - D\n",
    "\n",
    "https://atcoder.jp/contests/abc002/tasks/abc002_4"
   ]
  },
  {
   "cell_type": "code",
   "execution_count": 92,
   "metadata": {},
   "outputs": [],
   "source": [
    "N, M = 5, 3\n",
    "edges = [[1, 2], [2, 3], [1, 3]]"
   ]
  },
  {
   "cell_type": "markdown",
   "metadata": {},
   "source": [
    "#### bit探索を使った解法"
   ]
  },
  {
   "cell_type": "code",
   "execution_count": 65,
   "metadata": {},
   "outputs": [
    {
     "data": {
      "text/plain": [
       "[[0, 1, 1, inf, inf],\n",
       " [1, 0, 1, inf, inf],\n",
       " [1, 1, 0, inf, inf],\n",
       " [inf, inf, inf, 0, inf],\n",
       " [inf, inf, inf, inf, 0]]"
      ]
     },
     "execution_count": 65,
     "metadata": {},
     "output_type": "execute_result"
    }
   ],
   "source": [
    "graph = [[float('inf')] * N for _ in range(N)]\n",
    "for i in range(N):\n",
    "    graph[i][i] = 0\n",
    "\n",
    "for u, v in edges:\n",
    "    graph[u - 1][v - 1] = 1\n",
    "    graph[v - 1][u - 1] = 1\n",
    "    \n",
    "graph"
   ]
  },
  {
   "cell_type": "code",
   "execution_count": 74,
   "metadata": {},
   "outputs": [
    {
     "name": "stdout",
     "output_type": "stream",
     "text": [
      "3\n"
     ]
    }
   ],
   "source": [
    "ans = []\n",
    "for i in range(2 ** N):\n",
    "    ok = True\n",
    "    for x in range(N):\n",
    "        for y in range(N):\n",
    "            if i >> x & 1 and i >> y & 1 and graph[x][y] == float('inf'):\n",
    "                ok = False\n",
    "                    \n",
    "    if ok:\n",
    "        ans.append(bin(i).count('1'))\n",
    "        \n",
    "print(max(ans))"
   ]
  },
  {
   "cell_type": "markdown",
   "metadata": {},
   "source": [
    "#### 深さ優先探索を使った解法"
   ]
  },
  {
   "cell_type": "code",
   "execution_count": 93,
   "metadata": {},
   "outputs": [
    {
     "data": {
      "text/plain": [
       "[[None, 1, 1, None, None],\n",
       " [1, None, 1, None, None],\n",
       " [1, 1, None, None, None],\n",
       " [None, None, None, None, None],\n",
       " [None, None, None, None, None]]"
      ]
     },
     "execution_count": 93,
     "metadata": {},
     "output_type": "execute_result"
    }
   ],
   "source": [
    "graph = [[None] * N for _ in range(N)]\n",
    "\n",
    "for u, v in edges:\n",
    "    graph[u - 1][v - 1] = 1\n",
    "    graph[v - 1][u - 1] = 1\n",
    "    \n",
    "graph"
   ]
  },
  {
   "cell_type": "code",
   "execution_count": 94,
   "metadata": {},
   "outputs": [
    {
     "name": "stdout",
     "output_type": "stream",
     "text": [
      "3\n"
     ]
    }
   ],
   "source": [
    "stack = []\n",
    "ans = 0\n",
    "\n",
    "def dfs(k):\n",
    "    global ans\n",
    "    if k == N:\n",
    "        for i in range(len(stack)):\n",
    "            for j in range(i + 1, len(stack)):\n",
    "                if graph[stack[i]][stack[j]] is None:\n",
    "                    return\n",
    "\n",
    "        # if OK\n",
    "        ans = max(ans, len(stack))\n",
    "    else:\n",
    "        dfs(k + 1)\n",
    "        stack.append(k)\n",
    "        dfs(k + 1)\n",
    "        stack.pop()\n",
    "        \n",
    "dfs(0)\n",
    "print(ans)"
   ]
  },
  {
   "cell_type": "markdown",
   "metadata": {},
   "source": [
    "# ATC1 - A\n",
    "\n",
    "https://atcoder.jp/contests/atc001/tasks/dfs_a"
   ]
  },
  {
   "cell_type": "code",
   "execution_count": 118,
   "metadata": {},
   "outputs": [],
   "source": [
    "H, W = 4, 4\n",
    "s = \"\"\"...s\n",
    "....\n",
    "....\n",
    ".g..\"\"\"\n",
    "s = s.split('\\n')"
   ]
  },
  {
   "cell_type": "code",
   "execution_count": 119,
   "metadata": {},
   "outputs": [
    {
     "data": {
      "text/plain": [
       "((0, 3), (3, 1))"
      ]
     },
     "execution_count": 119,
     "metadata": {},
     "output_type": "execute_result"
    }
   ],
   "source": [
    "for i in range(H):\n",
    "    for j in range(W):\n",
    "        if s[i][j] == 's':\n",
    "            start = (i, j)\n",
    "        elif s[i][j] == 'g':\n",
    "            goal = (i, j)\n",
    "            \n",
    "start, goal"
   ]
  },
  {
   "cell_type": "markdown",
   "metadata": {},
   "source": [
    "#### 再帰関数による実装\n",
    "\n",
    "* 再帰の制限回数を多めにみる\n",
    "* goalが見つかり次第，早めに切り上げる"
   ]
  },
  {
   "cell_type": "code",
   "execution_count": 116,
   "metadata": {},
   "outputs": [
    {
     "name": "stdout",
     "output_type": "stream",
     "text": [
      "Yes\n"
     ]
    }
   ],
   "source": [
    "import sys\n",
    "sys.setrecursionlimit(20000000)\n",
    "\n",
    "visited = [[False] * W for _ in range(H)]\n",
    "\n",
    "def dfs(x, y):\n",
    "    if (not 0 <= x < H) or (not 0 <= y < W):\n",
    "        return\n",
    "\n",
    "    if visited[x][y]:\n",
    "        return\n",
    "    \n",
    "    if s[x][y] == '#':\n",
    "        return\n",
    "    \n",
    "    visited[x][y] = True\n",
    "    \n",
    "    if s[x][y] == 'g':\n",
    "        return\n",
    "    \n",
    "    dfs(x + 1, y)\n",
    "    dfs(x - 1, y)\n",
    "    dfs(x, y + 1)\n",
    "    dfs(x, y - 1)\n",
    "    \n",
    "dfs(*start)\n",
    "print('Yes' if visited[goal[0]][goal[1]] else 'No')"
   ]
  },
  {
   "cell_type": "markdown",
   "metadata": {},
   "source": [
    "#### スタックを使った実装\n",
    "\n",
    "スタックを使う方が実行時間は長いが，使用メモリ容量は小さい．"
   ]
  },
  {
   "cell_type": "code",
   "execution_count": 121,
   "metadata": {},
   "outputs": [
    {
     "name": "stdout",
     "output_type": "stream",
     "text": [
      "Yes\n"
     ]
    }
   ],
   "source": [
    "visited = [[False] * W for _ in range(H)]\n",
    "offsets = [(1, 0), (-1, 0), (0, 1), (0, -1)]\n",
    "reached = False\n",
    "\n",
    "stack = []\n",
    "stack.append(start)\n",
    "\n",
    "while stack:\n",
    "    x, y = stack.pop()\n",
    "    \n",
    "    if visited[x][y]:\n",
    "        continue\n",
    "        \n",
    "    visited[x][y] = True\n",
    "    \n",
    "    if s[x][y] == '#':\n",
    "        continue\n",
    "        \n",
    "    if s[x][y] == 'g':\n",
    "        reached = True\n",
    "        break\n",
    "    \n",
    "    for i, j in offsets:\n",
    "        if (not 0 <= x + i < H) or (not 0 <= y + j < W):\n",
    "            continue\n",
    "            \n",
    "        stack.append((x + i, y + j))\n",
    "        \n",
    "print('Yes' if reached else 'No')"
   ]
  },
  {
   "cell_type": "markdown",
   "metadata": {},
   "source": [
    "# ARC 31 - B\n",
    "\n",
    "https://atcoder.jp/contests/arc031/tasks/arc031_2"
   ]
  },
  {
   "cell_type": "code",
   "execution_count": 122,
   "metadata": {},
   "outputs": [],
   "source": [
    "A = \"\"\"xxxxxxxxxx\n",
    "xoooooooxx\n",
    "xxoooooxxx\n",
    "xxxoooxxxx\n",
    "xxxxoxxxxx\n",
    "xxxxxxxxxx\n",
    "xxxxoxxxxx\n",
    "xxxoooxxxx\n",
    "xxoooooxxx\n",
    "xxxxxxxxxx\"\"\"\n",
    "A = A.split('\\n')"
   ]
  },
  {
   "cell_type": "code",
   "execution_count": 123,
   "metadata": {},
   "outputs": [
    {
     "data": {
      "text/plain": [
       "25"
      ]
     },
     "execution_count": 123,
     "metadata": {},
     "output_type": "execute_result"
    }
   ],
   "source": [
    "total = sum(A[i][j] == 'o' for i in range(10) for j in range(10))\n",
    "total"
   ]
  },
  {
   "cell_type": "code",
   "execution_count": 128,
   "metadata": {},
   "outputs": [],
   "source": [
    "def dfs(x, y, cnt):\n",
    "    if (not 0 <= x < 10) or (not 0 <= y < 10):\n",
    "        return cnt\n",
    "\n",
    "    if visited[x][y]:\n",
    "        return cnt\n",
    "    \n",
    "    if A[x][y] == 'x':\n",
    "        return cnt\n",
    "    \n",
    "    visited[x][y] = True\n",
    "    cnt += 1\n",
    "   \n",
    "    cnt = dfs(x + 1, y, cnt)\n",
    "    cnt = dfs(x - 1, y, cnt)\n",
    "    cnt = dfs(x, y + 1, cnt)\n",
    "    cnt = dfs(x, y - 1, cnt)\n",
    "    \n",
    "    return cnt"
   ]
  },
  {
   "cell_type": "code",
   "execution_count": 132,
   "metadata": {},
   "outputs": [
    {
     "name": "stdout",
     "output_type": "stream",
     "text": [
      "YES\n"
     ]
    }
   ],
   "source": [
    "ok = False\n",
    "for i in range(10):\n",
    "    for j in range(10):\n",
    "        visited = [[False] * 10 for _ in range(10)]\n",
    "        cnt0 = dfs(i + 1, j, 0) + dfs(i - 1, j, 0)\n",
    "        cnt1 = dfs(i, j + 1, 0) + dfs(i, j - 1, 0)\n",
    "        \n",
    "        if cnt0 + cnt1 == total:\n",
    "            ok = True\n",
    "            break\n",
    "\n",
    "print('YES' if ok else 'NO')"
   ]
  },
  {
   "cell_type": "markdown",
   "metadata": {},
   "source": [
    "# ARC 37 - C\n",
    "\n",
    "https://atcoder.jp/contests/arc037/tasks/arc037_b"
   ]
  },
  {
   "cell_type": "code",
   "execution_count": 177,
   "metadata": {},
   "outputs": [],
   "source": [
    "N, M = 8, 7\n",
    "edges = [[1, 2], [2, 3], [2, 4], [5, 6],\n",
    "         [6, 7], [6, 8], [7, 8]]"
   ]
  },
  {
   "cell_type": "code",
   "execution_count": 178,
   "metadata": {},
   "outputs": [
    {
     "data": {
      "text/plain": [
       "[[0, 1, 0, 0, 0, 0, 0, 0],\n",
       " [1, 0, 1, 1, 0, 0, 0, 0],\n",
       " [0, 1, 0, 0, 0, 0, 0, 0],\n",
       " [0, 1, 0, 0, 0, 0, 0, 0],\n",
       " [0, 0, 0, 0, 0, 1, 0, 0],\n",
       " [0, 0, 0, 0, 1, 0, 1, 1],\n",
       " [0, 0, 0, 0, 0, 1, 0, 1],\n",
       " [0, 0, 0, 0, 0, 1, 1, 0]]"
      ]
     },
     "execution_count": 178,
     "metadata": {},
     "output_type": "execute_result"
    }
   ],
   "source": [
    "graph = [[0] * N for _ in range(N)]\n",
    "\n",
    "for u, v in edges:\n",
    "    graph[u - 1][v - 1] = 1\n",
    "    graph[v - 1][u - 1] = 1\n",
    "    \n",
    "graph"
   ]
  },
  {
   "cell_type": "code",
   "execution_count": 181,
   "metadata": {},
   "outputs": [],
   "source": [
    "def dfs(s, last):\n",
    "    if visited[s]:\n",
    "        return False\n",
    "        \n",
    "    visited[s] = True\n",
    "    \n",
    "    ans = True\n",
    "    for j in range(N):\n",
    "        if graph[s][j] == 1 and j != last:\n",
    "            ans &= dfs(j, s)\n",
    "            \n",
    "    return ans"
   ]
  },
  {
   "cell_type": "code",
   "execution_count": 183,
   "metadata": {},
   "outputs": [
    {
     "name": "stdout",
     "output_type": "stream",
     "text": [
      "1\n"
     ]
    }
   ],
   "source": [
    "visited = [False] * N\n",
    "cnt = 0\n",
    "\n",
    "for i in range(N):\n",
    "    if not visited[i] and dfs(i, -1):\n",
    "        cnt += 1\n",
    "        \n",
    "print(cnt)"
   ]
  },
  {
   "cell_type": "markdown",
   "metadata": {},
   "source": [
    "# ABC 7 - C\n",
    "\n",
    "https://atcoder.jp/contests/abc007/tasks/abc007_3"
   ]
  },
  {
   "cell_type": "code",
   "execution_count": 1,
   "metadata": {},
   "outputs": [],
   "source": [
    "R, C = 7, 8\n",
    "sy, sx = 2, 2\n",
    "gy, gx = 4, 5\n",
    "s = \"\"\"########\n",
    "#......#\n",
    "#.######\n",
    "#..#...#\n",
    "#..##..#\n",
    "##.....#\n",
    "########\"\"\"\n",
    "s = s.split('\\n')"
   ]
  },
  {
   "cell_type": "markdown",
   "metadata": {},
   "source": [
    "この実装では，一回多いループを回している．"
   ]
  },
  {
   "cell_type": "code",
   "execution_count": 211,
   "metadata": {},
   "outputs": [
    {
     "name": "stdout",
     "output_type": "stream",
     "text": [
      "11\n"
     ]
    }
   ],
   "source": [
    "from collections import deque\n",
    "\n",
    "offsets = [(1, 0), (-1, 0), (0, 1), (0, -1)]\n",
    "visited = [[float('inf')] * C for _ in range(R)]\n",
    "\n",
    "q = deque()\n",
    "q.append((sy - 1, sx - 1, 0))\n",
    "\n",
    "while q:\n",
    "    i, j, cnt = q.popleft()\n",
    "    visited[i][j] = cnt\n",
    "    \n",
    "    if i == gy - 1 and j == gx - 1:\n",
    "        break\n",
    "    \n",
    "    for v, w in offsets:\n",
    "        if (not 0 <= i + v < R) or (not 0 <= j + w < C):\n",
    "            continue\n",
    "\n",
    "        if visited[i + v][j + w] < float('inf'):\n",
    "            continue\n",
    "            \n",
    "        if s[i + v][j + w] == '#':\n",
    "            continue\n",
    "        \n",
    "        q.append((i + v, j + w, cnt + 1))\n",
    "        \n",
    "print(visited[gy - 1][gx - 1])"
   ]
  },
  {
   "cell_type": "code",
   "execution_count": 212,
   "metadata": {},
   "outputs": [
    {
     "data": {
      "text/plain": [
       "[[inf, inf, inf, inf, inf, inf, inf, inf],\n",
       " [inf, 0, 1, 2, 3, 4, 5, inf],\n",
       " [inf, 1, inf, inf, inf, inf, inf, inf],\n",
       " [inf, 2, 3, inf, 11, 10, 11, inf],\n",
       " [inf, 3, 4, inf, inf, 9, 10, inf],\n",
       " [inf, inf, 5, 6, 7, 8, 9, inf],\n",
       " [inf, inf, inf, inf, inf, inf, inf, inf]]"
      ]
     },
     "execution_count": 212,
     "metadata": {},
     "output_type": "execute_result"
    }
   ],
   "source": [
    "visited"
   ]
  },
  {
   "cell_type": "markdown",
   "metadata": {},
   "source": [
    "#### こちらの方が圧倒的に速い\n",
    "\n",
    "余計なもの（cnt）をデックに詰めない方が速く動く"
   ]
  },
  {
   "cell_type": "code",
   "execution_count": 4,
   "metadata": {},
   "outputs": [
    {
     "name": "stdout",
     "output_type": "stream",
     "text": [
      "11\n"
     ]
    }
   ],
   "source": [
    "from collections import deque\n",
    "\n",
    "offsets = [(1, 0), (-1, 0), (0, 1), (0, -1)]\n",
    "graph = [[float('inf')] * C for _ in range(R)]\n",
    "graph[sy - 1][sx - 1] = 0\n",
    "\n",
    "q = deque()\n",
    "q.append((sy - 1, sx - 1))\n",
    "\n",
    "while q:\n",
    "    i, j = q.popleft()\n",
    "    \n",
    "    for v, w in offsets:\n",
    "        if graph[i + v][j + w] < float('inf'):\n",
    "            continue\n",
    "            \n",
    "        if s[i + v][j + w] == '#':\n",
    "            continue\n",
    "        \n",
    "        graph[i + v][j + w] = graph[i][j] + 1\n",
    "        q.append((i + v, j + w))\n",
    "        \n",
    "print(graph[gy - 1][gx - 1])"
   ]
  },
  {
   "cell_type": "markdown",
   "metadata": {},
   "source": [
    "# JOI 10 - E\n",
    "\n",
    "https://atcoder.jp/contests/joi2011yo/tasks/joi2011yo_e"
   ]
  },
  {
   "cell_type": "code",
   "execution_count": 1,
   "metadata": {},
   "outputs": [],
   "source": [
    "H, W, N = 3, 3, 1\n",
    "s = \"\"\"S..\n",
    "...\n",
    "..1\"\"\"\n",
    "s = s.split('\\n')"
   ]
  },
  {
   "cell_type": "code",
   "execution_count": 2,
   "metadata": {},
   "outputs": [],
   "source": [
    "for i in range(H):\n",
    "    for j in range(W):\n",
    "        if s[i][j] == 'S':\n",
    "            start = (i, j)"
   ]
  },
  {
   "cell_type": "markdown",
   "metadata": {},
   "source": [
    "#### 実行時間：8754 ms，メモリ：25648 KB"
   ]
  },
  {
   "cell_type": "code",
   "execution_count": 25,
   "metadata": {},
   "outputs": [],
   "source": [
    "from collections import deque\n",
    "\n",
    "offsets = [(1, 0), (-1, 0), (0, 1), (0, -1)]\n",
    "\n",
    "def bfs(start, goal):\n",
    "    graph = [[float('inf')] * W for _ in range(H)]\n",
    "    graph[start[0]][start[1]] = 0\n",
    "    \n",
    "    q = deque()\n",
    "    q.append(start)\n",
    "    \n",
    "    while q:\n",
    "        i, j = q.popleft()\n",
    "        \n",
    "        if s[i][j] == goal:\n",
    "            break\n",
    "        \n",
    "        for v, w in offsets:\n",
    "            if (not 0 <= i + v < H) or (not 0 <= j + w < W):\n",
    "                continue\n",
    "            \n",
    "            if graph[i + v][j + w] < float('inf'):\n",
    "                continue\n",
    "\n",
    "            if s[i + v][j + w] == 'X':\n",
    "                continue\n",
    "\n",
    "            graph[i + v][j + w] = graph[i][j] + 1\n",
    "            q.append((i + v, j + w))\n",
    "            \n",
    "    return i, j, graph[i][j]"
   ]
  },
  {
   "cell_type": "code",
   "execution_count": 26,
   "metadata": {},
   "outputs": [
    {
     "name": "stdout",
     "output_type": "stream",
     "text": [
      "4\n"
     ]
    }
   ],
   "source": [
    "target = {}\n",
    "target['0'] = start\n",
    "ans = 0\n",
    "for i in range(N):\n",
    "    x, y, cnt = bfs(target[str(i)], str(i + 1))\n",
    "    target[str(i + 1)] = (x, y)\n",
    "    ans += cnt\n",
    "    \n",
    "print(ans)"
   ]
  },
  {
   "cell_type": "markdown",
   "metadata": {},
   "source": [
    "#### もう少し速く終わらせる\n",
    "\n",
    "実行時間：6393 ms，メモリ：20588 KB"
   ]
  },
  {
   "cell_type": "code",
   "execution_count": 4,
   "metadata": {},
   "outputs": [
    {
     "name": "stdout",
     "output_type": "stream",
     "text": [
      "4\n"
     ]
    }
   ],
   "source": [
    "from collections import deque\n",
    "\n",
    "def bfs(x, y, c):\n",
    "    if (not 0 <= x < H) or (not 0 <= y < W):\n",
    "        return\n",
    "\n",
    "    if graph[x][y]:\n",
    "        return\n",
    "\n",
    "    if s[x][y] == 'X':\n",
    "        return\n",
    "\n",
    "    graph[x][y] = True\n",
    "    deq.append((x, y, c + 1))\n",
    "    \n",
    "goal = 1\n",
    "graph = [[False] * W for _ in range(H)]\n",
    "graph[start[0]][start[1]] = True\n",
    "\n",
    "deq = deque()\n",
    "deq.append((start[0], start[1], 0))\n",
    "\n",
    "while deq:\n",
    "    x, y, cost = deq.popleft()\n",
    "    if s[x][y] == str(goal):\n",
    "        if s[x][y] == str(N):\n",
    "            print(cost)\n",
    "            break\n",
    "            \n",
    "        # Go to next goal\n",
    "        goal += 1\n",
    "        graph = [[False] * W for _ in range(H)]\n",
    "        graph[x][y] = True\n",
    "        deq.clear()\n",
    "        \n",
    "    bfs(x - 1, y, cost)\n",
    "    bfs(x + 1, y, cost)\n",
    "    bfs(x, y - 1, cost)\n",
    "    bfs(x, y + 1, cost)"
   ]
  },
  {
   "cell_type": "markdown",
   "metadata": {},
   "source": [
    "# ABC 88 - D\n",
    "\n",
    "https://atcoder.jp/contests/abc088/tasks/abc088_d"
   ]
  },
  {
   "cell_type": "code",
   "execution_count": 1,
   "metadata": {},
   "outputs": [
    {
     "name": "stdout",
     "output_type": "stream",
     "text": [
      "ans: 2\n"
     ]
    }
   ],
   "source": [
    "H, W = 3, 3\n",
    "grid = \"\"\"..#\n",
    "#..\n",
    "...\"\"\"\n",
    "grid = grid.split('\\n')\n",
    "\n",
    "print('ans: 2')"
   ]
  },
  {
   "cell_type": "code",
   "execution_count": 4,
   "metadata": {},
   "outputs": [],
   "source": [
    "from collections import deque\n",
    "\n",
    "graph = [[float('inf')] * W for _ in range(H)]\n",
    "offsets = [(1, 0), (-1, 0), (0, 1), (0, -1)]\n",
    "\n",
    "def bfs(x, y):\n",
    "    graph[x][y] = 0\n",
    "\n",
    "    deq = deque()\n",
    "    deq.append((x, y))\n",
    "    \n",
    "    while deq:\n",
    "        x, y = deq.popleft()\n",
    "        \n",
    "        for i, j in offsets:\n",
    "            if (not 0 <= x + i < H) or (not 0 <= y + j < W):\n",
    "                continue\n",
    "                \n",
    "            if graph[x + i][y + j] < float('inf'):\n",
    "                continue\n",
    "                \n",
    "            if grid[x + i][y + j] == '#':\n",
    "                continue\n",
    "                \n",
    "            graph[x + i][y + j] = graph[x][y] + 1\n",
    "            deq.append((x + i, y + j))\n",
    "            \n",
    "bfs(0, 0)"
   ]
  },
  {
   "cell_type": "code",
   "execution_count": 5,
   "metadata": {},
   "outputs": [
    {
     "data": {
      "text/plain": [
       "[[0, 1, inf], [inf, 2, 3], [4, 3, 4]]"
      ]
     },
     "execution_count": 5,
     "metadata": {},
     "output_type": "execute_result"
    }
   ],
   "source": [
    "graph"
   ]
  },
  {
   "cell_type": "code",
   "execution_count": 6,
   "metadata": {},
   "outputs": [
    {
     "name": "stdout",
     "output_type": "stream",
     "text": [
      "2\n"
     ]
    }
   ],
   "source": [
    "if graph[-1][-1] == float('inf'):\n",
    "    print(-1)\n",
    "else:\n",
    "    black = sum(s.count('#') for s in grid)\n",
    "    print(H * W - graph[-1][-1] - black - 1)"
   ]
  },
  {
   "cell_type": "markdown",
   "metadata": {},
   "source": [
    "# AGC 33 - A\n",
    "\n",
    "https://atcoder.jp/contests/agc033/tasks/agc033_a"
   ]
  },
  {
   "cell_type": "code",
   "execution_count": 22,
   "metadata": {},
   "outputs": [
    {
     "name": "stdout",
     "output_type": "stream",
     "text": [
      "ans: 2\n"
     ]
    }
   ],
   "source": [
    "H, W = 3, 3\n",
    "grid = \"\"\"...\n",
    ".#.\n",
    "...\"\"\"\n",
    "grid = grid.split('\\n')\n",
    "\n",
    "print('ans: 2')"
   ]
  },
  {
   "cell_type": "code",
   "execution_count": 23,
   "metadata": {},
   "outputs": [
    {
     "name": "stdout",
     "output_type": "stream",
     "text": [
      "2\n"
     ]
    }
   ],
   "source": [
    "from collections import deque\n",
    "\n",
    "offsets = [(1, 0), (-1, 0), (0, 1), (0, -1)]\n",
    "graph = [[float('inf')] * W for _ in range(H)]\n",
    "deq = deque()\n",
    "\n",
    "for i in range(H):\n",
    "    for j in range(W):\n",
    "        if grid[i][j] == '#':\n",
    "            graph[i][j] = 0\n",
    "            deq.append((i, j))\n",
    "\n",
    "while deq:\n",
    "    x, y = deq.popleft()\n",
    "    \n",
    "    for i, j in offsets:\n",
    "        if (not 0 <= x + i < H) or (not 0 <= y + j < W):\n",
    "            continue\n",
    "\n",
    "        if graph[x + i][y + j] < float('inf'):\n",
    "            continue\n",
    "\n",
    "        if grid[x + i][y + j] == '#':\n",
    "            continue\n",
    "            \n",
    "        graph[x + i][y + j] = graph[x][y] + 1\n",
    "        deq.append((x + i, y + j))\n",
    "        \n",
    "print(max(max(v) for v in graph))"
   ]
  },
  {
   "cell_type": "code",
   "execution_count": 17,
   "metadata": {},
   "outputs": [
    {
     "data": {
      "text/plain": [
       "[[2, 1, 2], [1, 0, 1], [2, 1, 2]]"
      ]
     },
     "execution_count": 17,
     "metadata": {},
     "output_type": "execute_result"
    }
   ],
   "source": [
    "graph"
   ]
  },
  {
   "cell_type": "markdown",
   "metadata": {},
   "source": [
    "# ARC 5 - C\n",
    "\n",
    "0-1 BFSの問題  \n",
    "01BFS: https://betrue12.hateblo.jp/entry/2018/12/08/000020\n",
    "\n",
    "https://arc005.contest.atcoder.jp/tasks/arc005_3"
   ]
  },
  {
   "cell_type": "code",
   "execution_count": 1,
   "metadata": {},
   "outputs": [
    {
     "name": "stdout",
     "output_type": "stream",
     "text": [
      "ans: YES\n"
     ]
    }
   ],
   "source": [
    "H, W = 4, 5\n",
    "grid = \"\"\"s####\n",
    "....#\n",
    "#####\n",
    "#...g\"\"\"\n",
    "\n",
    "grid = grid.split('\\n')\n",
    "\n",
    "print('ans: YES')"
   ]
  },
  {
   "cell_type": "markdown",
   "metadata": {},
   "source": [
    "#### 下の実装では同じ点を何度も訪れるので，間に合わない"
   ]
  },
  {
   "cell_type": "code",
   "execution_count": 48,
   "metadata": {},
   "outputs": [
    {
     "name": "stdout",
     "output_type": "stream",
     "text": [
      "[0, 1, 1, 1, 2]\n",
      "[0, 0, 0, 0, 1]\n",
      "[1, 1, 1, 1, 2]\n",
      "[2, 1, 1, 1, 1]\n",
      "YES\n"
     ]
    }
   ],
   "source": [
    "from collections import deque\n",
    "\n",
    "offsets = [(1, 0), (-1, 0), (0, 1), (0, -1)]\n",
    "graph = [[float('inf')] * W for _ in range(H)]\n",
    "deq = deque()\n",
    "\n",
    "for i in range(H):\n",
    "    for j in range(W):\n",
    "        if grid[i][j] == 's':\n",
    "            start = (i, j)\n",
    "        if grid[i][j] == 'g':\n",
    "            goal = (i, j)\n",
    "\n",
    "graph[start[0]][start[1]] = 0\n",
    "deq.append((start[0], start[1], 0))\n",
    "\n",
    "while deq:\n",
    "    x, y, cost = deq.popleft()\n",
    "    \n",
    "    for i, j in offsets:\n",
    "        if (not 0 <= x + i < H) or (not 0 <= y + j < W):\n",
    "            continue\n",
    "\n",
    "        if graph[x + i][y + j] <= cost:\n",
    "            continue\n",
    "\n",
    "        cur_cost = cost\n",
    "        cur_cost += 1 if grid[x + i][y + j] == '#' else 0\n",
    "        \n",
    "        graph[x + i][y + j] = cur_cost\n",
    "        deq.append((x + i, y + j, cur_cost))\n",
    "        \n",
    "print(*graph, sep='\\n')\n",
    "print('YES' if graph[goal[0]][goal[1]] <= 2 else 'NO')"
   ]
  },
  {
   "cell_type": "markdown",
   "metadata": {},
   "source": [
    "#### 01-BFSでの実装\n",
    "\n",
    "* '.'点は，appendleftで先に持ってくる．\n",
    "* グラフをfloat('inf')で初期化すると，メモリを倍だけ使うのでメモリオーバーする．"
   ]
  },
  {
   "cell_type": "code",
   "execution_count": 9,
   "metadata": {},
   "outputs": [
    {
     "name": "stdout",
     "output_type": "stream",
     "text": [
      "[0, 1, 1, 1, 2]\n",
      "[0, 0, 0, 0, 1]\n",
      "[1, 1, 1, 1, 2]\n",
      "[2, 1, 1, 1, 1]\n",
      "YES\n"
     ]
    }
   ],
   "source": [
    "from collections import deque\n",
    "\n",
    "offsets = [(1, 0), (-1, 0), (0, 1), (0, -1)]\n",
    "graph = [[-1] * W for _ in range(H)]\n",
    "deq = deque()\n",
    "\n",
    "for i in range(H):\n",
    "    for j in range(W):\n",
    "        if grid[i][j] == 's':\n",
    "            start = (i, j)\n",
    "        if grid[i][j] == 'g':\n",
    "            goal = (i, j)\n",
    "\n",
    "graph[start[0]][start[1]] = 0\n",
    "deq.append(start)\n",
    "\n",
    "while deq:\n",
    "    x, y = deq.popleft()\n",
    "    \n",
    "    for i, j in offsets:\n",
    "        if (not 0 <= x + i < H) or (not 0 <= y + j < W):\n",
    "            continue\n",
    "\n",
    "        if graph[x + i][y + j] > -1:\n",
    "            continue\n",
    "        \n",
    "        if grid[x + i][y + j] == '#':\n",
    "            graph[x + i][y + j] = graph[x][y] + 1\n",
    "            deq.append((x + i, y + j))\n",
    "        else:\n",
    "            graph[x + i][y + j] = graph[x][y]\n",
    "            deq.appendleft((x + i, y + j))\n",
    "            \n",
    "    # print(*graph, sep='\\n')\n",
    "    # print()\n",
    "        \n",
    "print(*graph, sep='\\n')\n",
    "print('YES' if graph[goal[0]][goal[1]] <= 2 else 'NO')"
   ]
  },
  {
   "cell_type": "markdown",
   "metadata": {},
   "source": [
    "# ABC 54 - C\n",
    "\n",
    "* この問題はPyPy3よりもPythonの方が速い\n",
    "* 計算量は O(N!)\n",
    "\n",
    "https://atcoder.jp/contests/abc054/tasks/abc054_c"
   ]
  },
  {
   "cell_type": "code",
   "execution_count": 1,
   "metadata": {},
   "outputs": [],
   "source": [
    "N, M = 3, 3\n",
    "edges = [[1, 2], [1, 3], [2, 3]]"
   ]
  },
  {
   "cell_type": "code",
   "execution_count": 2,
   "metadata": {},
   "outputs": [
    {
     "data": {
      "text/plain": [
       "[[0, 1, 1], [1, 0, 1], [1, 1, 0]]"
      ]
     },
     "execution_count": 2,
     "metadata": {},
     "output_type": "execute_result"
    }
   ],
   "source": [
    "graph = [[0] * N for _ in range(N)]\n",
    "for u, v in edges:\n",
    "    graph[u - 1][v - 1] = 1\n",
    "    graph[v - 1][u - 1] = 1\n",
    "    \n",
    "graph"
   ]
  },
  {
   "cell_type": "code",
   "execution_count": 13,
   "metadata": {},
   "outputs": [
    {
     "name": "stdout",
     "output_type": "stream",
     "text": [
      "2\n"
     ]
    }
   ],
   "source": [
    "visited = [False] * N\n",
    "visited[0] = True\n",
    "\n",
    "def dfs(s):    \n",
    "    if all(visited):\n",
    "        return 1\n",
    "\n",
    "    cnt = 0\n",
    "    for i in range(N):\n",
    "        if visited[i] or graph[s][i] != 1:\n",
    "            continue\n",
    "            \n",
    "        visited[i] = True\n",
    "        cnt += dfs(i)\n",
    "        visited[i] = False\n",
    "        \n",
    "    return cnt\n",
    "\n",
    "print(dfs(0))"
   ]
  },
  {
   "cell_type": "markdown",
   "metadata": {},
   "source": [
    "# JOI 9 - D\n",
    "\n",
    "https://atcoder.jp/contests/joi2010yo/tasks/joi2010yo_d"
   ]
  },
  {
   "cell_type": "code",
   "execution_count": 20,
   "metadata": {},
   "outputs": [],
   "source": [
    "n = 4\n",
    "k = 2\n",
    "x = ['1', '2', '12', '1']"
   ]
  },
  {
   "cell_type": "code",
   "execution_count": 23,
   "metadata": {},
   "outputs": [
    {
     "name": "stdout",
     "output_type": "stream",
     "text": [
      "7\n"
     ]
    }
   ],
   "source": [
    "from itertools import permutations\n",
    "\n",
    "ans = set()\n",
    "for v in permutations(x, k):\n",
    "    ans.add(''.join(v))\n",
    "    \n",
    "print(len(ans))"
   ]
  },
  {
   "cell_type": "code",
   "execution_count": null,
   "metadata": {},
   "outputs": [],
   "source": []
  },
  {
   "cell_type": "code",
   "execution_count": null,
   "metadata": {},
   "outputs": [],
   "source": []
  }
 ],
 "metadata": {
  "kernelspec": {
   "display_name": "Python 3",
   "language": "python",
   "name": "python3"
  },
  "language_info": {
   "codemirror_mode": {
    "name": "ipython",
    "version": 3
   },
   "file_extension": ".py",
   "mimetype": "text/x-python",
   "name": "python",
   "nbconvert_exporter": "python",
   "pygments_lexer": "ipython3",
   "version": "3.7.3"
  }
 },
 "nbformat": 4,
 "nbformat_minor": 2
}
