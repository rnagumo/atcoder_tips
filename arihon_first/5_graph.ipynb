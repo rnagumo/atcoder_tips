{
 "cells": [
  {
   "cell_type": "markdown",
   "metadata": {},
   "source": [
    "# Code Festival 2017 qual B - C\n",
    "\n",
    "二部グラフ判定\n",
    "\n",
    "https://atcoder.jp/contests/code-festival-2017-qualb/tasks/code_festival_2017_qualb_c"
   ]
  },
  {
   "cell_type": "code",
   "execution_count": 1,
   "metadata": {},
   "outputs": [
    {
     "name": "stdout",
     "output_type": "stream",
     "text": [
      "ans: 4\n"
     ]
    }
   ],
   "source": [
    "N, M = 6, 5\n",
    "edges = [[1, 2], [2, 3], [3, 4], [4, 5], [5, 6]]\n",
    "\n",
    "print('ans: 4')"
   ]
  },
  {
   "cell_type": "code",
   "execution_count": 15,
   "metadata": {},
   "outputs": [],
   "source": [
    "graph = [[] for _ in range(N)]\n",
    "for x, y in edges:\n",
    "    graph[x - 1].append(y - 1)\n",
    "    graph[y - 1].append(x - 1)"
   ]
  },
  {
   "cell_type": "code",
   "execution_count": 14,
   "metadata": {},
   "outputs": [],
   "source": [
    "def dfs(v, c):\n",
    "    # c: color = 1 or -1\n",
    "    node[v] = c\n",
    "    for i in graph[v]:\n",
    "        if node[i] == c:\n",
    "            return False\n",
    "        \n",
    "        if node[i] == 0 and not dfs(i, -c):\n",
    "            return False\n",
    "        \n",
    "    return True"
   ]
  },
  {
   "cell_type": "code",
   "execution_count": 16,
   "metadata": {},
   "outputs": [
    {
     "name": "stdout",
     "output_type": "stream",
     "text": [
      "4\n"
     ]
    }
   ],
   "source": [
    "import sys\n",
    "sys.setrecursionlimit(100000)\n",
    "\n",
    "node = [0] * N\n",
    "if dfs(0, 1):\n",
    "    x = sum(v + 1 for v in node) // 2\n",
    "    print(x * (N - x) - M)\n",
    "else:\n",
    "    print(N * (N - 1) // 2 - M)"
   ]
  },
  {
   "cell_type": "markdown",
   "metadata": {},
   "source": [
    "#### dequeを使う"
   ]
  },
  {
   "cell_type": "code",
   "execution_count": 35,
   "metadata": {},
   "outputs": [],
   "source": [
    "from collections import deque\n",
    "\n",
    "def dfs(s, c):\n",
    "    q = deque()\n",
    "    q.append(s)\n",
    "    visited[s] = True\n",
    "    color[s] = c\n",
    "    \n",
    "    while len(q) > 0:\n",
    "        v = q.pop()\n",
    "        for i in graph[v]:\n",
    "            if visited[i] and color[i] == color[v]:\n",
    "                return False\n",
    "            \n",
    "            if not visited[i]:\n",
    "                visited[i] = True\n",
    "                color[i] = -color[v]\n",
    "                q.append(i)\n",
    "                \n",
    "    return True"
   ]
  },
  {
   "cell_type": "code",
   "execution_count": 36,
   "metadata": {},
   "outputs": [
    {
     "name": "stdout",
     "output_type": "stream",
     "text": [
      "4\n"
     ]
    }
   ],
   "source": [
    "visited = [False] * N\n",
    "color = [0] * N\n",
    "\n",
    "if dfs(0, 1):\n",
    "    x = sum(v + 1 for v in color) // 2\n",
    "    print(x * (N - x) - M)\n",
    "else:\n",
    "    print(N * (N - 1) // 2 - M)"
   ]
  },
  {
   "cell_type": "markdown",
   "metadata": {},
   "source": [
    "# Maximum-Cup 2018 - C\n",
    "\n",
    "二部グラフ，もしくはUnion-Find\n",
    "\n",
    "https://atcoder.jp/contests/maximum-cup-2018/tasks/maximum_cup_2018_c"
   ]
  },
  {
   "cell_type": "code",
   "execution_count": 1,
   "metadata": {},
   "outputs": [
    {
     "name": "stdout",
     "output_type": "stream",
     "text": [
      "ans: 2\n"
     ]
    }
   ],
   "source": [
    "N = 4\n",
    "A = [2, 3, 4, 1]\n",
    "\n",
    "print('ans: 2')"
   ]
  },
  {
   "cell_type": "markdown",
   "metadata": {},
   "source": [
    "#### 二部グラフ"
   ]
  },
  {
   "cell_type": "code",
   "execution_count": 2,
   "metadata": {},
   "outputs": [],
   "source": [
    "graph = [[] for _ in range(N)]\n",
    "for i, v in enumerate(A):\n",
    "    graph[v - 1].append(i)\n",
    "    graph[i].append(v - 1)"
   ]
  },
  {
   "cell_type": "code",
   "execution_count": 3,
   "metadata": {},
   "outputs": [
    {
     "data": {
      "text/plain": [
       "[[1, 3], [0, 2], [1, 3], [2, 0]]"
      ]
     },
     "execution_count": 3,
     "metadata": {},
     "output_type": "execute_result"
    }
   ],
   "source": [
    "graph"
   ]
  },
  {
   "cell_type": "code",
   "execution_count": 4,
   "metadata": {},
   "outputs": [],
   "source": [
    "from collections import deque\n",
    "\n",
    "def dfs(s, c):\n",
    "    q = deque()\n",
    "    q.append(s)\n",
    "    visited[s] = True\n",
    "    color[s] = c\n",
    "    \n",
    "    while len(q) > 0:\n",
    "        v = q.pop()\n",
    "        for i in graph[v]:\n",
    "            if visited[i] and color[i] == color[v]:\n",
    "                return False\n",
    "            \n",
    "            if not visited[i]:\n",
    "                visited[i] = True\n",
    "                color[i] = -color[v]\n",
    "                q.append(i)\n",
    "                \n",
    "    return True"
   ]
  },
  {
   "cell_type": "code",
   "execution_count": 7,
   "metadata": {},
   "outputs": [
    {
     "name": "stdout",
     "output_type": "stream",
     "text": [
      "2\n"
     ]
    }
   ],
   "source": [
    "visited = [False] * N\n",
    "color = [0] * N\n",
    "\n",
    "flag = True\n",
    "for i in range(N):\n",
    "    if not visited[i]:\n",
    "        flag = flag & dfs(i, 1)\n",
    "\n",
    "if flag:\n",
    "    x = sum(v + 1 for v in color) // 2\n",
    "    print(max(x, N - x))\n",
    "else:\n",
    "    print(-1)"
   ]
  },
  {
   "cell_type": "markdown",
   "metadata": {},
   "source": [
    "#### Union-Find"
   ]
  },
  {
   "cell_type": "code",
   "execution_count": 13,
   "metadata": {},
   "outputs": [],
   "source": [
    "class UnionFind:\n",
    "    def __init__(self, n):\n",
    "        self.par = list(range(n))\n",
    "        self.rank = [0] * n\n",
    "        self.size = [1] * n\n",
    "        \n",
    "    def find(self, x):\n",
    "        if self.par[x] == x:\n",
    "            return x\n",
    "        else:\n",
    "            self.par[x] = self.find(self.par[x])\n",
    "            return self.par[x]\n",
    "        \n",
    "    def unite(self, x, y):\n",
    "        x = self.find(x)\n",
    "        y = self.find(y)\n",
    "        \n",
    "        if x == y:\n",
    "            return\n",
    "        \n",
    "        if self.rank[x] == self.rank[y]:\n",
    "            self.rank[x] += 1\n",
    "        elif self.rank[x] < self.rank[y]:\n",
    "            x, y = y, x\n",
    "        \n",
    "        self.par[y] = x\n",
    "        self.size[x] += self.size[y]\n",
    "                \n",
    "    def is_same(self, x, y):\n",
    "        return self.find(x) == self.find(y)\n",
    "    \n",
    "    def get_size(self, x):\n",
    "        return self.size[self.find(x)]\n",
    "    \n",
    "    def __repr__(self):\n",
    "        return ', '.join(str(x) for x in self.par)"
   ]
  },
  {
   "cell_type": "code",
   "execution_count": 30,
   "metadata": {},
   "outputs": [
    {
     "name": "stdout",
     "output_type": "stream",
     "text": [
      "ans: 2\n"
     ]
    }
   ],
   "source": [
    "N = 4\n",
    "A = [2, 3, 4, 1]\n",
    "\n",
    "print('ans: 2')"
   ]
  },
  {
   "cell_type": "code",
   "execution_count": 25,
   "metadata": {},
   "outputs": [
    {
     "name": "stdout",
     "output_type": "stream",
     "text": [
      "ans: -1\n"
     ]
    }
   ],
   "source": [
    "N = 3\n",
    "A = [2, 3, 1]\n",
    "\n",
    "print('ans: -1')"
   ]
  },
  {
   "cell_type": "code",
   "execution_count": 31,
   "metadata": {},
   "outputs": [],
   "source": [
    "t = UnionFind(N)\n",
    "for i, v in enumerate(A):\n",
    "    t.unite(i, v - 1)"
   ]
  },
  {
   "cell_type": "code",
   "execution_count": 36,
   "metadata": {},
   "outputs": [
    {
     "name": "stdout",
     "output_type": "stream",
     "text": [
      "2\n"
     ]
    }
   ],
   "source": [
    "ans = N // 2\n",
    "for v in t.size:\n",
    "    if v > 1 and v % 2 == 1:\n",
    "        ans = -1\n",
    "\n",
    "print(ans)"
   ]
  },
  {
   "cell_type": "code",
   "execution_count": 33,
   "metadata": {},
   "outputs": [
    {
     "data": {
      "text/plain": [
       "[4, 1, 1, 1]"
      ]
     },
     "execution_count": 33,
     "metadata": {},
     "output_type": "execute_result"
    }
   ],
   "source": [
    "t.size"
   ]
  },
  {
   "cell_type": "code",
   "execution_count": 34,
   "metadata": {},
   "outputs": [
    {
     "data": {
      "text/plain": [
       "0, 0, 0, 0"
      ]
     },
     "execution_count": 34,
     "metadata": {},
     "output_type": "execute_result"
    }
   ],
   "source": [
    "t"
   ]
  },
  {
   "cell_type": "markdown",
   "metadata": {},
   "source": [
    "# SoundHound 2018 - D\n",
    "\n",
    "ダイクストラ\n",
    "\n",
    "https://atcoder.jp/contests/soundhound2018-summer-qual/tasks/soundhound2018_summer_qual_d"
   ]
  },
  {
   "cell_type": "code",
   "execution_count": 19,
   "metadata": {},
   "outputs": [],
   "source": [
    "n, m, s, t = 4, 3, 2, 3\n",
    "edges = [[1, 4, 1, 100], [1, 2, 1, 10], [1, 3, 20, 1]]"
   ]
  },
  {
   "cell_type": "code",
   "execution_count": 20,
   "metadata": {},
   "outputs": [],
   "source": [
    "graph = [[] for _ in range(n + 1)]\n",
    "for u, v, a, b in edges:\n",
    "    graph[u].append((v, a, b))\n",
    "    graph[v].append((u, a, b))"
   ]
  },
  {
   "cell_type": "code",
   "execution_count": 21,
   "metadata": {},
   "outputs": [],
   "source": [
    "from heapq import heappop, heappush\n",
    "INF = float('inf')\n",
    "\n",
    "def dijkstra(s, pay):\n",
    "    \"\"\"\n",
    "    s: start\n",
    "    pay: 0 = yen, 1 = snuuk\n",
    "    \"\"\"\n",
    "    d = [INF] * (n + 1)\n",
    "    visited = [False] * (n + 1)\n",
    "    pq = []\n",
    "\n",
    "    heappush(pq, (0, s))\n",
    "    d[s] = 0\n",
    "    visited[s] = True\n",
    "\n",
    "    while pq:\n",
    "        cost, x = heappop(pq)\n",
    "        visited[x] = True\n",
    "\n",
    "        for v, *c in graph[x]:\n",
    "            if visited[v]:\n",
    "                continue\n",
    "\n",
    "            if d[v] > d[x] + c[pay]:\n",
    "                d[v] = d[x] + c[pay]\n",
    "                heappush(pq, (d[v], v))\n",
    "\n",
    "    return d"
   ]
  },
  {
   "cell_type": "code",
   "execution_count": 22,
   "metadata": {},
   "outputs": [],
   "source": [
    "d1 = dijkstra(s, 0)\n",
    "d2 = dijkstra(t, 1)"
   ]
  },
  {
   "cell_type": "code",
   "execution_count": 23,
   "metadata": {},
   "outputs": [
    {
     "data": {
      "text/plain": [
       "([inf, 1, 0, 21, 2], [inf, 1, 11, 0, 101])"
      ]
     },
     "execution_count": 23,
     "metadata": {},
     "output_type": "execute_result"
    }
   ],
   "source": [
    "d1, d2"
   ]
  },
  {
   "cell_type": "code",
   "execution_count": 30,
   "metadata": {},
   "outputs": [
    {
     "name": "stdout",
     "output_type": "stream",
     "text": [
      "999999999999998\n",
      "999999999999989\n",
      "999999999999979\n",
      "999999999999897\n"
     ]
    }
   ],
   "source": [
    "ans = []\n",
    "tmp = float('inf')\n",
    "for i in reversed(range(1, n + 1)):\n",
    "    tmp = min(tmp, d1[i] + d2[i])\n",
    "    ans.append(10 ** 15 - tmp)\n",
    "    \n",
    "print(*ans[::-1], sep='\\n')"
   ]
  },
  {
   "cell_type": "markdown",
   "metadata": {},
   "source": [
    "# JOI 2007 - F\n",
    "\n",
    "ダイクストラ\n",
    "\n",
    "https://atcoder.jp/contests/joi2008yo/tasks/joi2008yo_f"
   ]
  },
  {
   "cell_type": "code",
   "execution_count": 1,
   "metadata": {},
   "outputs": [
    {
     "name": "stdout",
     "output_type": "stream",
     "text": [
      "ans: -1, 15, 12\n"
     ]
    }
   ],
   "source": [
    "N, K = 3, 8\n",
    "X = [[1, 3, 1, 10], [0, 2, 3], [1, 2, 3, 20], [1, 1, 2, 5],\n",
    "     [0, 3, 2], [1, 1, 3, 7], [1, 2, 1, 9], [0, 2, 3]]\n",
    "\n",
    "print('ans: -1, 15, 12')"
   ]
  },
  {
   "cell_type": "code",
   "execution_count": 2,
   "metadata": {},
   "outputs": [],
   "source": [
    "from heapq import heappop, heappush\n",
    "INF = float('inf')\n",
    "\n",
    "def dijkstra(s, t):\n",
    "    d = [INF] * (N + 1)\n",
    "    visited = [False] * (N + 1)\n",
    "    pq = []\n",
    "\n",
    "    heappush(pq, (0, s))\n",
    "    d[s] = 0\n",
    "    visited[s] = True\n",
    "\n",
    "    while pq:\n",
    "        cost, x = heappop(pq)\n",
    "        visited[x] = True\n",
    "\n",
    "        for v, c in graph[x]:\n",
    "            if visited[v]:\n",
    "                continue\n",
    "\n",
    "            if d[v] > d[x] + c:\n",
    "                d[v] = d[x] + c\n",
    "                heappush(pq, (d[v], v))\n",
    "\n",
    "    return -1 if d[t] == INF else d[t]"
   ]
  },
  {
   "cell_type": "code",
   "execution_count": 3,
   "metadata": {},
   "outputs": [
    {
     "name": "stdout",
     "output_type": "stream",
     "text": [
      "-1\n",
      "15\n",
      "12\n"
     ]
    }
   ],
   "source": [
    "graph = [[] for _ in range(N + 1)]\n",
    "\n",
    "for i, *x in X:\n",
    "    if i == 0:\n",
    "        print(dijkstra(*x))\n",
    "    else:\n",
    "        graph[x[0]].append((x[1], x[2]))\n",
    "        graph[x[1]].append((x[0], x[2]))"
   ]
  },
  {
   "cell_type": "markdown",
   "metadata": {},
   "source": [
    "# ABC - D\n",
    "\n",
    "https://atcoder.jp/contests/abc035/tasks/abc035_d"
   ]
  },
  {
   "cell_type": "code",
   "execution_count": null,
   "metadata": {},
   "outputs": [],
   "source": []
  },
  {
   "cell_type": "code",
   "execution_count": null,
   "metadata": {},
   "outputs": [],
   "source": []
  },
  {
   "cell_type": "code",
   "execution_count": null,
   "metadata": {},
   "outputs": [],
   "source": []
  },
  {
   "cell_type": "code",
   "execution_count": null,
   "metadata": {},
   "outputs": [],
   "source": []
  },
  {
   "cell_type": "code",
   "execution_count": null,
   "metadata": {},
   "outputs": [],
   "source": []
  },
  {
   "cell_type": "code",
   "execution_count": null,
   "metadata": {},
   "outputs": [],
   "source": []
  }
 ],
 "metadata": {
  "kernelspec": {
   "display_name": "Python 3",
   "language": "python",
   "name": "python3"
  },
  "language_info": {
   "codemirror_mode": {
    "name": "ipython",
    "version": 3
   },
   "file_extension": ".py",
   "mimetype": "text/x-python",
   "name": "python",
   "nbconvert_exporter": "python",
   "pygments_lexer": "ipython3",
   "version": "3.7.3"
  }
 },
 "nbformat": 4,
 "nbformat_minor": 2
}
