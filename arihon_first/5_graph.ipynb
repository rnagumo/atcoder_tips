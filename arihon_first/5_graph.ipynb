{
 "cells": [
  {
   "cell_type": "markdown",
   "metadata": {},
   "source": [
    "# Code Festival 2017 qual B - C\n",
    "\n",
    "二部グラフ判定\n",
    "\n",
    "https://atcoder.jp/contests/code-festival-2017-qualb/tasks/code_festival_2017_qualb_c"
   ]
  },
  {
   "cell_type": "code",
   "execution_count": 1,
   "metadata": {},
   "outputs": [
    {
     "name": "stdout",
     "output_type": "stream",
     "text": [
      "ans: 4\n"
     ]
    }
   ],
   "source": [
    "N, M = 6, 5\n",
    "edges = [[1, 2], [2, 3], [3, 4], [4, 5], [5, 6]]\n",
    "\n",
    "print('ans: 4')"
   ]
  },
  {
   "cell_type": "code",
   "execution_count": 15,
   "metadata": {},
   "outputs": [],
   "source": [
    "graph = [[] for _ in range(N)]\n",
    "for x, y in edges:\n",
    "    graph[x - 1].append(y - 1)\n",
    "    graph[y - 1].append(x - 1)"
   ]
  },
  {
   "cell_type": "code",
   "execution_count": 14,
   "metadata": {},
   "outputs": [],
   "source": [
    "def dfs(v, c):\n",
    "    # c: color = 1 or -1\n",
    "    node[v] = c\n",
    "    for i in graph[v]:\n",
    "        if node[i] == c:\n",
    "            return False\n",
    "        \n",
    "        if node[i] == 0 and not dfs(i, -c):\n",
    "            return False\n",
    "        \n",
    "    return True"
   ]
  },
  {
   "cell_type": "code",
   "execution_count": 16,
   "metadata": {},
   "outputs": [
    {
     "name": "stdout",
     "output_type": "stream",
     "text": [
      "4\n"
     ]
    }
   ],
   "source": [
    "import sys\n",
    "sys.setrecursionlimit(100000)\n",
    "\n",
    "node = [0] * N\n",
    "if dfs(0, 1):\n",
    "    x = sum(v + 1 for v in node) // 2\n",
    "    print(x * (N - x) - M)\n",
    "else:\n",
    "    print(N * (N - 1) // 2 - M)"
   ]
  },
  {
   "cell_type": "markdown",
   "metadata": {},
   "source": [
    "#### dequeを使う"
   ]
  },
  {
   "cell_type": "code",
   "execution_count": 35,
   "metadata": {},
   "outputs": [],
   "source": [
    "from collections import deque\n",
    "\n",
    "def dfs(s, c):\n",
    "    q = deque()\n",
    "    q.append(s)\n",
    "    visited[s] = True\n",
    "    color[s] = c\n",
    "    \n",
    "    while len(q) > 0:\n",
    "        v = q.pop()\n",
    "        for i in graph[v]:\n",
    "            if visited[i] and color[i] == color[v]:\n",
    "                return False\n",
    "            \n",
    "            if not visited[i]:\n",
    "                visited[i] = True\n",
    "                color[i] = -color[v]\n",
    "                q.append(i)\n",
    "                \n",
    "    return True"
   ]
  },
  {
   "cell_type": "code",
   "execution_count": 36,
   "metadata": {},
   "outputs": [
    {
     "name": "stdout",
     "output_type": "stream",
     "text": [
      "4\n"
     ]
    }
   ],
   "source": [
    "visited = [False] * N\n",
    "color = [0] * N\n",
    "\n",
    "if dfs(0, 1):\n",
    "    x = sum(v + 1 for v in color) // 2\n",
    "    print(x * (N - x) - M)\n",
    "else:\n",
    "    print(N * (N - 1) // 2 - M)"
   ]
  },
  {
   "cell_type": "markdown",
   "metadata": {},
   "source": [
    "# Maximum-Cup 2018 - C\n",
    "\n",
    "二部グラフ，もしくはUnion-Find\n",
    "\n",
    "https://atcoder.jp/contests/maximum-cup-2018/tasks/maximum_cup_2018_c"
   ]
  },
  {
   "cell_type": "code",
   "execution_count": 1,
   "metadata": {},
   "outputs": [
    {
     "name": "stdout",
     "output_type": "stream",
     "text": [
      "ans: 2\n"
     ]
    }
   ],
   "source": [
    "N = 4\n",
    "A = [2, 3, 4, 1]\n",
    "\n",
    "print('ans: 2')"
   ]
  },
  {
   "cell_type": "markdown",
   "metadata": {},
   "source": [
    "#### 二部グラフ"
   ]
  },
  {
   "cell_type": "code",
   "execution_count": 2,
   "metadata": {},
   "outputs": [],
   "source": [
    "graph = [[] for _ in range(N)]\n",
    "for i, v in enumerate(A):\n",
    "    graph[v - 1].append(i)\n",
    "    graph[i].append(v - 1)"
   ]
  },
  {
   "cell_type": "code",
   "execution_count": 3,
   "metadata": {},
   "outputs": [
    {
     "data": {
      "text/plain": [
       "[[1, 3], [0, 2], [1, 3], [2, 0]]"
      ]
     },
     "execution_count": 3,
     "metadata": {},
     "output_type": "execute_result"
    }
   ],
   "source": [
    "graph"
   ]
  },
  {
   "cell_type": "code",
   "execution_count": 4,
   "metadata": {},
   "outputs": [],
   "source": [
    "from collections import deque\n",
    "\n",
    "def dfs(s, c):\n",
    "    q = deque()\n",
    "    q.append(s)\n",
    "    visited[s] = True\n",
    "    color[s] = c\n",
    "    \n",
    "    while len(q) > 0:\n",
    "        v = q.pop()\n",
    "        for i in graph[v]:\n",
    "            if visited[i] and color[i] == color[v]:\n",
    "                return False\n",
    "            \n",
    "            if not visited[i]:\n",
    "                visited[i] = True\n",
    "                color[i] = -color[v]\n",
    "                q.append(i)\n",
    "                \n",
    "    return True"
   ]
  },
  {
   "cell_type": "code",
   "execution_count": 7,
   "metadata": {},
   "outputs": [
    {
     "name": "stdout",
     "output_type": "stream",
     "text": [
      "2\n"
     ]
    }
   ],
   "source": [
    "visited = [False] * N\n",
    "color = [0] * N\n",
    "\n",
    "flag = True\n",
    "for i in range(N):\n",
    "    if not visited[i]:\n",
    "        flag = flag & dfs(i, 1)\n",
    "\n",
    "if flag:\n",
    "    x = sum(v + 1 for v in color) // 2\n",
    "    print(max(x, N - x))\n",
    "else:\n",
    "    print(-1)"
   ]
  },
  {
   "cell_type": "markdown",
   "metadata": {},
   "source": [
    "#### Union-Find"
   ]
  },
  {
   "cell_type": "code",
   "execution_count": 13,
   "metadata": {},
   "outputs": [],
   "source": [
    "class UnionFind:\n",
    "    def __init__(self, n):\n",
    "        self.par = list(range(n))\n",
    "        self.rank = [0] * n\n",
    "        self.size = [1] * n\n",
    "        \n",
    "    def find(self, x):\n",
    "        if self.par[x] == x:\n",
    "            return x\n",
    "        else:\n",
    "            self.par[x] = self.find(self.par[x])\n",
    "            return self.par[x]\n",
    "        \n",
    "    def unite(self, x, y):\n",
    "        x = self.find(x)\n",
    "        y = self.find(y)\n",
    "        \n",
    "        if x == y:\n",
    "            return\n",
    "        \n",
    "        if self.rank[x] == self.rank[y]:\n",
    "            self.rank[x] += 1\n",
    "        elif self.rank[x] < self.rank[y]:\n",
    "            x, y = y, x\n",
    "        \n",
    "        self.par[y] = x\n",
    "        self.size[x] += self.size[y]\n",
    "                \n",
    "    def is_same(self, x, y):\n",
    "        return self.find(x) == self.find(y)\n",
    "    \n",
    "    def get_size(self, x):\n",
    "        return self.size[self.find(x)]\n",
    "    \n",
    "    def __repr__(self):\n",
    "        return ', '.join(str(x) for x in self.par)"
   ]
  },
  {
   "cell_type": "code",
   "execution_count": 30,
   "metadata": {},
   "outputs": [
    {
     "name": "stdout",
     "output_type": "stream",
     "text": [
      "ans: 2\n"
     ]
    }
   ],
   "source": [
    "N = 4\n",
    "A = [2, 3, 4, 1]\n",
    "\n",
    "print('ans: 2')"
   ]
  },
  {
   "cell_type": "code",
   "execution_count": 25,
   "metadata": {},
   "outputs": [
    {
     "name": "stdout",
     "output_type": "stream",
     "text": [
      "ans: -1\n"
     ]
    }
   ],
   "source": [
    "N = 3\n",
    "A = [2, 3, 1]\n",
    "\n",
    "print('ans: -1')"
   ]
  },
  {
   "cell_type": "code",
   "execution_count": 31,
   "metadata": {},
   "outputs": [],
   "source": [
    "t = UnionFind(N)\n",
    "for i, v in enumerate(A):\n",
    "    t.unite(i, v - 1)"
   ]
  },
  {
   "cell_type": "code",
   "execution_count": 36,
   "metadata": {},
   "outputs": [
    {
     "name": "stdout",
     "output_type": "stream",
     "text": [
      "2\n"
     ]
    }
   ],
   "source": [
    "ans = N // 2\n",
    "for v in t.size:\n",
    "    if v > 1 and v % 2 == 1:\n",
    "        ans = -1\n",
    "\n",
    "print(ans)"
   ]
  },
  {
   "cell_type": "code",
   "execution_count": 33,
   "metadata": {},
   "outputs": [
    {
     "data": {
      "text/plain": [
       "[4, 1, 1, 1]"
      ]
     },
     "execution_count": 33,
     "metadata": {},
     "output_type": "execute_result"
    }
   ],
   "source": [
    "t.size"
   ]
  },
  {
   "cell_type": "code",
   "execution_count": 34,
   "metadata": {},
   "outputs": [
    {
     "data": {
      "text/plain": [
       "0, 0, 0, 0"
      ]
     },
     "execution_count": 34,
     "metadata": {},
     "output_type": "execute_result"
    }
   ],
   "source": [
    "t"
   ]
  },
  {
   "cell_type": "markdown",
   "metadata": {},
   "source": [
    "# SoundHound 2018 - D\n",
    "\n",
    "ダイクストラ\n",
    "\n",
    "https://atcoder.jp/contests/soundhound2018-summer-qual/tasks/soundhound2018_summer_qual_d"
   ]
  },
  {
   "cell_type": "code",
   "execution_count": 19,
   "metadata": {},
   "outputs": [],
   "source": [
    "n, m, s, t = 4, 3, 2, 3\n",
    "edges = [[1, 4, 1, 100], [1, 2, 1, 10], [1, 3, 20, 1]]"
   ]
  },
  {
   "cell_type": "code",
   "execution_count": 20,
   "metadata": {},
   "outputs": [],
   "source": [
    "graph = [[] for _ in range(n + 1)]\n",
    "for u, v, a, b in edges:\n",
    "    graph[u].append((v, a, b))\n",
    "    graph[v].append((u, a, b))"
   ]
  },
  {
   "cell_type": "code",
   "execution_count": 21,
   "metadata": {},
   "outputs": [],
   "source": [
    "from heapq import heappop, heappush\n",
    "INF = float('inf')\n",
    "\n",
    "def dijkstra(s, pay):\n",
    "    \"\"\"\n",
    "    s: start\n",
    "    pay: 0 = yen, 1 = snuuk\n",
    "    \"\"\"\n",
    "    d = [INF] * (n + 1)\n",
    "    visited = [False] * (n + 1)\n",
    "    pq = []\n",
    "\n",
    "    heappush(pq, (0, s))\n",
    "    d[s] = 0\n",
    "    visited[s] = True\n",
    "\n",
    "    while pq:\n",
    "        cost, x = heappop(pq)\n",
    "        visited[x] = True\n",
    "\n",
    "        for v, *c in graph[x]:\n",
    "            if visited[v]:\n",
    "                continue\n",
    "\n",
    "            if d[v] > d[x] + c[pay]:\n",
    "                d[v] = d[x] + c[pay]\n",
    "                heappush(pq, (d[v], v))\n",
    "\n",
    "    return d"
   ]
  },
  {
   "cell_type": "code",
   "execution_count": 22,
   "metadata": {},
   "outputs": [],
   "source": [
    "d1 = dijkstra(s, 0)\n",
    "d2 = dijkstra(t, 1)"
   ]
  },
  {
   "cell_type": "code",
   "execution_count": 23,
   "metadata": {},
   "outputs": [
    {
     "data": {
      "text/plain": [
       "([inf, 1, 0, 21, 2], [inf, 1, 11, 0, 101])"
      ]
     },
     "execution_count": 23,
     "metadata": {},
     "output_type": "execute_result"
    }
   ],
   "source": [
    "d1, d2"
   ]
  },
  {
   "cell_type": "code",
   "execution_count": 30,
   "metadata": {},
   "outputs": [
    {
     "name": "stdout",
     "output_type": "stream",
     "text": [
      "999999999999998\n",
      "999999999999989\n",
      "999999999999979\n",
      "999999999999897\n"
     ]
    }
   ],
   "source": [
    "ans = []\n",
    "tmp = float('inf')\n",
    "for i in reversed(range(1, n + 1)):\n",
    "    tmp = min(tmp, d1[i] + d2[i])\n",
    "    ans.append(10 ** 15 - tmp)\n",
    "    \n",
    "print(*ans[::-1], sep='\\n')"
   ]
  },
  {
   "cell_type": "markdown",
   "metadata": {},
   "source": [
    "# JOI 2007 - F\n",
    "\n",
    "ダイクストラ\n",
    "\n",
    "https://atcoder.jp/contests/joi2008yo/tasks/joi2008yo_f"
   ]
  },
  {
   "cell_type": "code",
   "execution_count": 1,
   "metadata": {},
   "outputs": [
    {
     "name": "stdout",
     "output_type": "stream",
     "text": [
      "ans: -1, 15, 12\n"
     ]
    }
   ],
   "source": [
    "N, K = 3, 8\n",
    "X = [[1, 3, 1, 10], [0, 2, 3], [1, 2, 3, 20], [1, 1, 2, 5],\n",
    "     [0, 3, 2], [1, 1, 3, 7], [1, 2, 1, 9], [0, 2, 3]]\n",
    "\n",
    "print('ans: -1, 15, 12')"
   ]
  },
  {
   "cell_type": "code",
   "execution_count": 2,
   "metadata": {},
   "outputs": [],
   "source": [
    "from heapq import heappop, heappush\n",
    "INF = float('inf')\n",
    "\n",
    "def dijkstra(s, t):\n",
    "    d = [INF] * (N + 1)\n",
    "    visited = [False] * (N + 1)\n",
    "    pq = []\n",
    "\n",
    "    heappush(pq, (0, s))\n",
    "    d[s] = 0\n",
    "    visited[s] = True\n",
    "\n",
    "    while pq:\n",
    "        cost, x = heappop(pq)\n",
    "        visited[x] = True\n",
    "\n",
    "        for v, c in graph[x]:\n",
    "            if visited[v]:\n",
    "                continue\n",
    "\n",
    "            if d[v] > d[x] + c:\n",
    "                d[v] = d[x] + c\n",
    "                heappush(pq, (d[v], v))\n",
    "\n",
    "    return -1 if d[t] == INF else d[t]"
   ]
  },
  {
   "cell_type": "code",
   "execution_count": 3,
   "metadata": {},
   "outputs": [
    {
     "name": "stdout",
     "output_type": "stream",
     "text": [
      "-1\n",
      "15\n",
      "12\n"
     ]
    }
   ],
   "source": [
    "graph = [[] for _ in range(N + 1)]\n",
    "\n",
    "for i, *x in X:\n",
    "    if i == 0:\n",
    "        print(dijkstra(*x))\n",
    "    else:\n",
    "        graph[x[0]].append((x[1], x[2]))\n",
    "        graph[x[1]].append((x[0], x[2]))"
   ]
  },
  {
   "cell_type": "markdown",
   "metadata": {},
   "source": [
    "# ABC - D\n",
    "\n",
    "https://atcoder.jp/contests/abc035/tasks/abc035_d"
   ]
  },
  {
   "cell_type": "code",
   "execution_count": 8,
   "metadata": {},
   "outputs": [
    {
     "name": "stdout",
     "output_type": "stream",
     "text": [
      "ans: 6\n"
     ]
    }
   ],
   "source": [
    "N, M, T = 2, 2, 5\n",
    "A = [1, 3]\n",
    "edges = [[1, 2, 2], [2, 1, 1]]\n",
    "\n",
    "print('ans: 6')"
   ]
  },
  {
   "cell_type": "code",
   "execution_count": 9,
   "metadata": {},
   "outputs": [],
   "source": [
    "graph = [[] for _ in range(N + 1)]\n",
    "graph_inv = [[] for _ in range(N + 1)]\n",
    "for u, v, c in edges:\n",
    "    graph[u].append((v, c))\n",
    "    graph_inv[v].append((u, c))"
   ]
  },
  {
   "cell_type": "code",
   "execution_count": 17,
   "metadata": {},
   "outputs": [],
   "source": [
    "from heapq import heappop, heappush\n",
    "INF = float('inf')\n",
    "\n",
    "def dijkstra(s, graph):\n",
    "    d = [INF] * (N + 1)\n",
    "    visited = [False] * (N + 1)\n",
    "    pq = []\n",
    "    \n",
    "    heappush(pq, (0, s))\n",
    "    d[s] = 0\n",
    "    \n",
    "    while pq:\n",
    "        cost, u = heappop(pq)\n",
    "        visited[u] = True\n",
    "        \n",
    "        for v, c in graph[u]:\n",
    "            if visited[v]:\n",
    "                continue\n",
    "                \n",
    "            if d[v] > d[u] + c:\n",
    "                d[v] = d[u] + c\n",
    "                heappush(pq, (d[v], v))\n",
    "                \n",
    "    return d[1:]"
   ]
  },
  {
   "cell_type": "code",
   "execution_count": 18,
   "metadata": {},
   "outputs": [],
   "source": [
    "d1 = dijkstra(1, graph)\n",
    "d2 = dijkstra(1, graph_inv)"
   ]
  },
  {
   "cell_type": "code",
   "execution_count": 19,
   "metadata": {},
   "outputs": [
    {
     "data": {
      "text/plain": [
       "([0, 2], [0, 1])"
      ]
     },
     "execution_count": 19,
     "metadata": {},
     "output_type": "execute_result"
    }
   ],
   "source": [
    "d1, d2"
   ]
  },
  {
   "cell_type": "code",
   "execution_count": 22,
   "metadata": {},
   "outputs": [
    {
     "name": "stdout",
     "output_type": "stream",
     "text": [
      "6\n"
     ]
    }
   ],
   "source": [
    "ans = max(A[i] * (T - d1[i] - d2[i]) for i in range(N))\n",
    "print(ans)"
   ]
  },
  {
   "cell_type": "markdown",
   "metadata": {},
   "source": [
    "# WUPC - E\n",
    "\n",
    "拡張Dijkstra\n",
    "\n",
    "https://atcoder.jp/contests/wupc2012-closed/tasks/wupc2012_5"
   ]
  },
  {
   "cell_type": "code",
   "execution_count": 23,
   "metadata": {},
   "outputs": [
    {
     "name": "stdout",
     "output_type": "stream",
     "text": [
      "ans: 4\n"
     ]
    }
   ],
   "source": [
    "N, M = 2, 1\n",
    "edges = [[0, 1, 4]]\n",
    "\n",
    "print('ans: 4')"
   ]
  },
  {
   "cell_type": "code",
   "execution_count": 31,
   "metadata": {},
   "outputs": [
    {
     "name": "stdout",
     "output_type": "stream",
     "text": [
      "ans: 20\n"
     ]
    }
   ],
   "source": [
    "N, M = 3, 2\n",
    "edges = [[0, 1, 15], [1, 2, 5]]\n",
    "\n",
    "print('ans: 20')"
   ]
  },
  {
   "cell_type": "code",
   "execution_count": 32,
   "metadata": {},
   "outputs": [],
   "source": [
    "graph = [[] for _ in range(N)]\n",
    "for u, v, c in edges:\n",
    "    graph[u].append((v, c))\n",
    "    graph[v].append((u, c))"
   ]
  },
  {
   "cell_type": "code",
   "execution_count": 33,
   "metadata": {},
   "outputs": [],
   "source": [
    "from heapq import heappop, heappush\n",
    "INF = float('inf')\n",
    "\n",
    "d = [[[INF] * N for _ in range(7)] for _ in range(4)]\n",
    "\n",
    "def dijkstra(s):\n",
    "    pq = []\n",
    "    heappush(pq, (0, s))\n",
    "    d[0][0][s] = 0\n",
    "    \n",
    "    while pq:\n",
    "        c, u = heappop(pq)\n",
    "        \n",
    "        if (d[c % 4][c % 7][u] < c) or (u == N - 1):\n",
    "            continue\n",
    "        \n",
    "        for v, cost in graph[u]:\n",
    "            cost += d[c % 4][c % 7][u]\n",
    "            if d[cost % 4][cost % 7][v] > cost:\n",
    "                d[cost % 4][cost % 7][v] = cost\n",
    "                heappush(pq, (cost, v))"
   ]
  },
  {
   "cell_type": "code",
   "execution_count": 34,
   "metadata": {},
   "outputs": [
    {
     "name": "stdout",
     "output_type": "stream",
     "text": [
      "20\n"
     ]
    }
   ],
   "source": [
    "dijkstra(0)\n",
    "ans = INF\n",
    "for i in range(4):\n",
    "    ans = min(ans, d[i][0][-1])\n",
    "for i in range(7):\n",
    "    ans = min(ans, d[0][i][-1])\n",
    "print(ans)"
   ]
  },
  {
   "cell_type": "code",
   "execution_count": 35,
   "metadata": {},
   "outputs": [
    {
     "data": {
      "text/plain": [
       "[[[0, inf, 140],\n",
       "  [120, inf, 260],\n",
       "  [240, inf, 380],\n",
       "  [360, inf, 80],\n",
       "  [60, inf, 200],\n",
       "  [180, inf, 320],\n",
       "  [300, inf, 20]],\n",
       " [[inf, 105, inf],\n",
       "  [inf, 225, inf],\n",
       "  [inf, 345, inf],\n",
       "  [inf, 45, inf],\n",
       "  [inf, 165, inf],\n",
       "  [inf, 285, inf],\n",
       "  [inf, 405, inf]],\n",
       " [[210, inf, 350],\n",
       "  [330, inf, 50],\n",
       "  [30, inf, 170],\n",
       "  [150, inf, 290],\n",
       "  [270, inf, 410],\n",
       "  [390, inf, 110],\n",
       "  [90, inf, 230]],\n",
       " [[inf, 315, inf],\n",
       "  [inf, 15, inf],\n",
       "  [inf, 135, inf],\n",
       "  [inf, 255, inf],\n",
       "  [inf, 375, inf],\n",
       "  [inf, 75, inf],\n",
       "  [inf, 195, inf]]]"
      ]
     },
     "execution_count": 35,
     "metadata": {},
     "output_type": "execute_result"
    }
   ],
   "source": [
    "d"
   ]
  },
  {
   "cell_type": "markdown",
   "metadata": {},
   "source": [
    "# GRL_2_A\n",
    "\n",
    "最小全域木\n",
    "\n",
    "http://judge.u-aizu.ac.jp/onlinejudge/description.jsp?id=GRL_2_A&lang=jp"
   ]
  },
  {
   "cell_type": "code",
   "execution_count": 1,
   "metadata": {},
   "outputs": [
    {
     "name": "stdout",
     "output_type": "stream",
     "text": [
      "ans: 5\n"
     ]
    }
   ],
   "source": [
    "V, E = 6, 9\n",
    "edges = [[0, 1, 1], [0, 2, 3], [1, 2, 1], [1, 3, 7], [2, 4, 1],\n",
    "         [1, 4, 3], [3, 4, 1], [3, 5, 1], [4, 5, 6]]\n",
    "\n",
    "print('ans: 5')"
   ]
  },
  {
   "cell_type": "markdown",
   "metadata": {},
   "source": [
    "### Prim法"
   ]
  },
  {
   "cell_type": "code",
   "execution_count": 8,
   "metadata": {},
   "outputs": [],
   "source": [
    "graph = [[] for _ in range(V)]\n",
    "for u, v, c in edges:\n",
    "    graph[u].append((v, c))\n",
    "    graph[v].append((u, c))"
   ]
  },
  {
   "cell_type": "code",
   "execution_count": 13,
   "metadata": {},
   "outputs": [],
   "source": [
    "from heapq import heappop, heappush\n",
    "INF = 10 ** 9 + 7\n",
    "\n",
    "def prim():\n",
    "    min_cost = [INF] * V\n",
    "    visited = [False] * V\n",
    "\n",
    "    pq = []\n",
    "    heappush(pq, (0, 0))\n",
    "    ret = 0\n",
    "\n",
    "    while pq:\n",
    "        cost, u = heappop(pq)\n",
    "        \n",
    "        if visited[u]:\n",
    "            continue\n",
    "\n",
    "        visited[u] = True\n",
    "        min_cost[u] = cost\n",
    "        ret += cost\n",
    "\n",
    "        for v, c in graph[u]:\n",
    "            if min_cost[v] > c:\n",
    "                heappush(pq, (c, v))\n",
    "            \n",
    "    print(min_cost, visited)\n",
    "    return ret"
   ]
  },
  {
   "cell_type": "code",
   "execution_count": 14,
   "metadata": {},
   "outputs": [
    {
     "name": "stdout",
     "output_type": "stream",
     "text": [
      "[0, 1, 1, 1, 1, 1] [True, True, True, True, True, True]\n"
     ]
    },
    {
     "data": {
      "text/plain": [
       "5"
      ]
     },
     "execution_count": 14,
     "metadata": {},
     "output_type": "execute_result"
    }
   ],
   "source": [
    "prim()"
   ]
  },
  {
   "cell_type": "markdown",
   "metadata": {},
   "source": [
    "## Kruskal"
   ]
  },
  {
   "cell_type": "code",
   "execution_count": 1,
   "metadata": {},
   "outputs": [],
   "source": [
    "class UnionFind:\n",
    "    def __init__(self, n):\n",
    "        self.par = list(range(n))\n",
    "        self.rank = [0] * n\n",
    "        \n",
    "    def find(self, x):\n",
    "        if self.par[x] == x:\n",
    "            return x\n",
    "        else:\n",
    "            self.par[x] = self.find(self.par[x])\n",
    "            return self.par[x]\n",
    "        \n",
    "    def unite(self, x, y):\n",
    "        x = self.find(x)\n",
    "        y = self.find(y)\n",
    "        \n",
    "        if x == y:\n",
    "            return\n",
    "        \n",
    "        if self.rank[x] == self.rank[y]:\n",
    "            self.rank[x] += 1\n",
    "        elif self.rank[x] < self.rank[y]:\n",
    "            x, y = y, x\n",
    "        \n",
    "        self.par[y] = x\n",
    "                \n",
    "    def is_same(self, x, y):\n",
    "        return self.find(x) == self.find(y)"
   ]
  },
  {
   "cell_type": "code",
   "execution_count": 2,
   "metadata": {},
   "outputs": [
    {
     "name": "stdout",
     "output_type": "stream",
     "text": [
      "ans: 5\n"
     ]
    }
   ],
   "source": [
    "V, E = 6, 9\n",
    "edges = [[0, 1, 1], [0, 2, 3], [1, 2, 1], [1, 3, 7], [2, 4, 1],\n",
    "         [1, 4, 3], [3, 4, 1], [3, 5, 1], [4, 5, 6]]\n",
    "\n",
    "print('ans: 5')"
   ]
  },
  {
   "cell_type": "code",
   "execution_count": 3,
   "metadata": {},
   "outputs": [],
   "source": [
    "def kruskal():\n",
    "    edges.sort(key=lambda x: x[2])\n",
    "    t = UnionFind(V)\n",
    "    ret = 0\n",
    "    \n",
    "    for u, v, c in edges:\n",
    "        if not t.is_same(u, v):\n",
    "            t.unite(u, v)\n",
    "            ret += c\n",
    "            \n",
    "    return ret"
   ]
  },
  {
   "cell_type": "code",
   "execution_count": 4,
   "metadata": {},
   "outputs": [
    {
     "data": {
      "text/plain": [
       "5"
      ]
     },
     "execution_count": 4,
     "metadata": {},
     "output_type": "execute_result"
    }
   ],
   "source": [
    "kruskal()"
   ]
  },
  {
   "cell_type": "markdown",
   "metadata": {},
   "source": [
    "# ABC 65 - D\n",
    "\n",
    "https://atcoder.jp/contests/abc065/tasks/arc076_b"
   ]
  },
  {
   "cell_type": "code",
   "execution_count": 1,
   "metadata": {},
   "outputs": [
    {
     "name": "stdout",
     "output_type": "stream",
     "text": [
      "ans: 3\n"
     ]
    }
   ],
   "source": [
    "N = 3\n",
    "X = [[0, 1, 5], [1, 3, 9], [2, 7, 8]]\n",
    "\n",
    "print('ans: 3')"
   ]
  },
  {
   "cell_type": "code",
   "execution_count": 8,
   "metadata": {},
   "outputs": [
    {
     "name": "stdout",
     "output_type": "stream",
     "text": [
      "ans: 8\n"
     ]
    }
   ],
   "source": [
    "N = 6\n",
    "X = [[0, 8, 3], [1, 4, 9], [2, 12, 19], [3, 18, 1], [4, 13, 5], [5, 7, 6]]\n",
    "\n",
    "print('ans: 8')"
   ]
  },
  {
   "cell_type": "code",
   "execution_count": 2,
   "metadata": {},
   "outputs": [],
   "source": [
    "class UnionFind:\n",
    "    def __init__(self, n):\n",
    "        self.par = list(range(n))\n",
    "        self.rank = [0] * n\n",
    "        \n",
    "    def find(self, x):\n",
    "        if self.par[x] == x:\n",
    "            return x\n",
    "        else:\n",
    "            self.par[x] = self.find(self.par[x])\n",
    "            return self.par[x]\n",
    "        \n",
    "    def unite(self, x, y):\n",
    "        x = self.find(x)\n",
    "        y = self.find(y)\n",
    "        \n",
    "        if x == y:\n",
    "            return\n",
    "        \n",
    "        if self.rank[x] == self.rank[y]:\n",
    "            self.rank[x] += 1\n",
    "        elif self.rank[x] < self.rank[y]:\n",
    "            x, y = y, x\n",
    "        \n",
    "        self.par[y] = x\n",
    "                \n",
    "    def is_same(self, x, y):\n",
    "        return self.find(x) == self.find(y)"
   ]
  },
  {
   "cell_type": "code",
   "execution_count": 3,
   "metadata": {},
   "outputs": [],
   "source": [
    "def kruskal():\n",
    "    edges.sort(key=lambda x: x[2])\n",
    "    t = UnionFind(N)\n",
    "    ret = 0\n",
    "    \n",
    "    for u, v, c in edges:\n",
    "        if not t.is_same(u, v):\n",
    "            t.unite(u, v)\n",
    "            ret += c\n",
    "            \n",
    "    return ret"
   ]
  },
  {
   "cell_type": "markdown",
   "metadata": {},
   "source": [
    "先に連結グラフを作る"
   ]
  },
  {
   "cell_type": "code",
   "execution_count": 11,
   "metadata": {},
   "outputs": [],
   "source": [
    "edges = []\n",
    "\n",
    "for k in range(1, 3):\n",
    "    X.sort(key=lambda x: x[k])\n",
    "    for i in range(N - 1):\n",
    "        edges.append((X[i][0], X[i + 1][0], abs(X[i][k] - X[i + 1][k])))"
   ]
  },
  {
   "cell_type": "code",
   "execution_count": 12,
   "metadata": {},
   "outputs": [
    {
     "data": {
      "text/plain": [
       "8"
      ]
     },
     "execution_count": 12,
     "metadata": {},
     "output_type": "execute_result"
    }
   ],
   "source": [
    "kruskal()"
   ]
  },
  {
   "cell_type": "code",
   "execution_count": 13,
   "metadata": {},
   "outputs": [
    {
     "data": {
      "text/plain": [
       "[(5, 0, 1),\n",
       " (2, 4, 1),\n",
       " (4, 5, 1),\n",
       " (3, 0, 2),\n",
       " (0, 4, 2),\n",
       " (1, 5, 3),\n",
       " (5, 1, 3),\n",
       " (0, 2, 4),\n",
       " (4, 3, 5),\n",
       " (1, 2, 10)]"
      ]
     },
     "execution_count": 13,
     "metadata": {},
     "output_type": "execute_result"
    }
   ],
   "source": [
    "edges"
   ]
  },
  {
   "cell_type": "markdown",
   "metadata": {},
   "source": [
    "# Indeed - D\n",
    "\n",
    "https://atcoder.jp/contests/indeednow-finalb-open/tasks/indeednow_2015_finalb_d"
   ]
  },
  {
   "cell_type": "code",
   "execution_count": 5,
   "metadata": {},
   "outputs": [
    {
     "name": "stdout",
     "output_type": "stream",
     "text": [
      "ans: 30\n"
     ]
    }
   ],
   "source": [
    "H, W = 1, 6\n",
    "S = [2, 1]\n",
    "G = [2, 1]\n",
    "P = [[0, 1, 2, 3, 4, 0]]\n",
    "\n",
    "print('ans: 30')"
   ]
  },
  {
   "cell_type": "code",
   "execution_count": 6,
   "metadata": {},
   "outputs": [],
   "source": [
    "edges = []\n",
    "for i in range(H):\n",
    "    for j in range(W):\n",
    "        if j + 1 < W:\n",
    "            edges.append(((i, j), (i, j + 1), P[i][j] * P[i][j + 1]))\n",
    "        if i + 1 < H:\n",
    "            edges.append(((i, j), (i + 1, j), P[i][j] * P[i + 1][j]))"
   ]
  },
  {
   "cell_type": "code",
   "execution_count": 7,
   "metadata": {},
   "outputs": [
    {
     "data": {
      "text/plain": [
       "[((0, 0), (0, 1), 0),\n",
       " ((0, 1), (0, 2), 2),\n",
       " ((0, 2), (0, 3), 6),\n",
       " ((0, 3), (0, 4), 12),\n",
       " ((0, 4), (0, 5), 0)]"
      ]
     },
     "execution_count": 7,
     "metadata": {},
     "output_type": "execute_result"
    }
   ],
   "source": [
    "edges"
   ]
  },
  {
   "cell_type": "code",
   "execution_count": 54,
   "metadata": {},
   "outputs": [],
   "source": [
    "from collections import defaultdict\n",
    "\n",
    "class UnionFind:\n",
    "    def __init__(self, h, w):\n",
    "        self.par = defaultdict(int)\n",
    "        self.rank = defaultdict(int)\n",
    "        for i in range(h):\n",
    "            for j in range(w):\n",
    "                self.par[(i, j)] = (i, j)\n",
    "                self.rank[(i, j)] = 0\n",
    "        \n",
    "    def find(self, x):\n",
    "        if self.par[x][0] == x[0] and self.par[x][1] == x[1]:\n",
    "            return x\n",
    "        else:\n",
    "            self.par[x] = self.find(self.par[x])\n",
    "            return self.par[x]\n",
    "        \n",
    "    def unite(self, x, y):\n",
    "        x = self.find(x)\n",
    "        y = self.find(y)\n",
    "        \n",
    "        if x == y:\n",
    "            return\n",
    "        \n",
    "        if self.rank[x] == self.rank[y]:\n",
    "            self.rank[x] += 1\n",
    "        elif self.rank[x] < self.rank[y]:\n",
    "            x, y = y, x\n",
    "        \n",
    "        self.par[y] = x\n",
    "                \n",
    "    def is_same(self, x, y):\n",
    "        return self.find(x) == self.find(y)"
   ]
  },
  {
   "cell_type": "code",
   "execution_count": 72,
   "metadata": {},
   "outputs": [
    {
     "name": "stdout",
     "output_type": "stream",
     "text": [
      "30\n"
     ]
    }
   ],
   "source": [
    "t = UnionFind(H, W)\n",
    "ret = sum(sum(v) for v in P)\n",
    "\n",
    "for u, v, c in sorted(edges, key=lambda x: -x[2]):\n",
    "    if not t.is_same(u, v):\n",
    "        t.unite(u, v)\n",
    "        ret += c\n",
    "        \n",
    "print(ret)"
   ]
  },
  {
   "cell_type": "code",
   "execution_count": 70,
   "metadata": {},
   "outputs": [
    {
     "data": {
      "text/plain": [
       "20"
      ]
     },
     "execution_count": 70,
     "metadata": {},
     "output_type": "execute_result"
    }
   ],
   "source": [
    "ret"
   ]
  },
  {
   "cell_type": "markdown",
   "metadata": {},
   "source": [
    "# Bellman-Ford\n",
    "\n",
    "http://judge.u-aizu.ac.jp/onlinejudge/description.jsp?id=GRL_1_B&lang=jp"
   ]
  },
  {
   "cell_type": "code",
   "execution_count": 73,
   "metadata": {},
   "outputs": [
    {
     "name": "stdout",
     "output_type": "stream",
     "text": [
      "ans: 0, 2, -3, -1\n"
     ]
    }
   ],
   "source": [
    "V, E, r = 4, 5, 0\n",
    "edges = [[0, 1, 2], [0, 2, 3], [1, 2, -5], [1, 3, 1], [2, 3, 2]]\n",
    "\n",
    "print('ans: 0, 2, -3, -1')"
   ]
  },
  {
   "cell_type": "code",
   "execution_count": 83,
   "metadata": {},
   "outputs": [
    {
     "name": "stdout",
     "output_type": "stream",
     "text": [
      "ans: 0\n"
     ]
    }
   ],
   "source": [
    "V, E, r = 1, 0, 0\n",
    "edges = []\n",
    "\n",
    "print('ans: 0')"
   ]
  },
  {
   "cell_type": "code",
   "execution_count": 80,
   "metadata": {},
   "outputs": [],
   "source": [
    "INF = 10 ** 9 + 7\n",
    "\n",
    "def bellman_ford(s):\n",
    "    d = [INF] * V\n",
    "    d[s] = 0\n",
    "    updated = True\n",
    "    cnt = 0\n",
    "    \n",
    "    while updated and (cnt < V):\n",
    "        updated = False\n",
    "        cnt += 1\n",
    "        for u, v, c in edges:\n",
    "            if (d[u] != INF) and (d[v] > d[u] + c):\n",
    "                d[v] = d[u] + c\n",
    "                updated = True\n",
    "                \n",
    "    return d, cnt"
   ]
  },
  {
   "cell_type": "code",
   "execution_count": 81,
   "metadata": {},
   "outputs": [
    {
     "name": "stdout",
     "output_type": "stream",
     "text": [
      "NEGATIVE CYCLE\n"
     ]
    }
   ],
   "source": [
    "d, cnt = bellman_ford(r)\n",
    "if cnt < V:\n",
    "    for v in d:\n",
    "        print(v if v < INF else 'INF')\n",
    "elif E == 0:\n",
    "    print(0)\n",
    "else:\n",
    "    print('NEGATIVE CYCLE')"
   ]
  },
  {
   "cell_type": "markdown",
   "metadata": {},
   "source": [
    "# ABC 61 - D\n",
    "\n",
    "https://atcoder.jp/contests/abc061/tasks/abc061_d"
   ]
  },
  {
   "cell_type": "code",
   "execution_count": 122,
   "metadata": {},
   "outputs": [
    {
     "name": "stdout",
     "output_type": "stream",
     "text": [
      "ans: 7\n"
     ]
    }
   ],
   "source": [
    "N, M = 3, 3\n",
    "edges = [[1, 2, 4], [2, 3, 3], [1, 3, 5]]\n",
    "\n",
    "print('ans: 7')"
   ]
  },
  {
   "cell_type": "code",
   "execution_count": 127,
   "metadata": {},
   "outputs": [
    {
     "name": "stdout",
     "output_type": "stream",
     "text": [
      "ans: -5000000000\n"
     ]
    }
   ],
   "source": [
    "N, M = 6, 5\n",
    "edges = [[1, 2, -1000000000], [2, 3, -1000000000], [3, 4, -1000000000],\n",
    "         [4, 5, -1000000000], [5, 6, -1000000000]]\n",
    "\n",
    "print('ans: -5000000000')"
   ]
  },
  {
   "cell_type": "code",
   "execution_count": 135,
   "metadata": {},
   "outputs": [],
   "source": [
    "for i in range(M):\n",
    "    edges[i][2] *= -1"
   ]
  },
  {
   "cell_type": "code",
   "execution_count": 138,
   "metadata": {},
   "outputs": [],
   "source": [
    "INF = 10 ** 20\n",
    "d = [INF] * (N + 1)\n",
    "\n",
    "def bellman_ford():    \n",
    "    d[1] = 0\n",
    "    for _ in range(N - 1):\n",
    "        for u, v, c in edges:\n",
    "            if (d[u] != INF) and (d[v] > d[u] + c):\n",
    "                d[v] = d[u] + c"
   ]
  },
  {
   "cell_type": "code",
   "execution_count": 139,
   "metadata": {},
   "outputs": [],
   "source": [
    "negative = [False] * (N + 1)\n",
    "\n",
    "def bellman_ford_neg():\n",
    "    for _ in range(N):\n",
    "        for u, v, c in edges:\n",
    "            if (d[u] != INF) and (d[v] > d[u] + c):\n",
    "                d[v] = d[u] + c\n",
    "                negative[v] = True\n",
    "                \n",
    "            if negative[u]:\n",
    "                negative[v] = True"
   ]
  },
  {
   "cell_type": "code",
   "execution_count": 141,
   "metadata": {},
   "outputs": [
    {
     "name": "stdout",
     "output_type": "stream",
     "text": [
      "-5000000000\n"
     ]
    }
   ],
   "source": [
    "bellman_ford()\n",
    "bellman_ford_neg()\n",
    "\n",
    "if negative[-1]:\n",
    "    print('inf')\n",
    "else:\n",
    "    print(-d[-1])"
   ]
  },
  {
   "cell_type": "markdown",
   "metadata": {},
   "source": [
    "# UTPC 2013 - H\n",
    "\n",
    "https://atcoder.jp/contests/utpc2013/tasks/utpc2013_08"
   ]
  },
  {
   "cell_type": "code",
   "execution_count": null,
   "metadata": {},
   "outputs": [],
   "source": []
  },
  {
   "cell_type": "code",
   "execution_count": null,
   "metadata": {},
   "outputs": [],
   "source": []
  },
  {
   "cell_type": "code",
   "execution_count": null,
   "metadata": {},
   "outputs": [],
   "source": []
  },
  {
   "cell_type": "code",
   "execution_count": null,
   "metadata": {},
   "outputs": [],
   "source": []
  },
  {
   "cell_type": "code",
   "execution_count": null,
   "metadata": {},
   "outputs": [],
   "source": []
  },
  {
   "cell_type": "code",
   "execution_count": null,
   "metadata": {},
   "outputs": [],
   "source": []
  },
  {
   "cell_type": "code",
   "execution_count": null,
   "metadata": {},
   "outputs": [],
   "source": []
  },
  {
   "cell_type": "code",
   "execution_count": null,
   "metadata": {},
   "outputs": [],
   "source": []
  },
  {
   "cell_type": "code",
   "execution_count": null,
   "metadata": {},
   "outputs": [],
   "source": []
  },
  {
   "cell_type": "code",
   "execution_count": null,
   "metadata": {},
   "outputs": [],
   "source": []
  },
  {
   "cell_type": "code",
   "execution_count": null,
   "metadata": {},
   "outputs": [],
   "source": []
  },
  {
   "cell_type": "code",
   "execution_count": null,
   "metadata": {},
   "outputs": [],
   "source": []
  }
 ],
 "metadata": {
  "kernelspec": {
   "display_name": "Python 3",
   "language": "python",
   "name": "python3"
  },
  "language_info": {
   "codemirror_mode": {
    "name": "ipython",
    "version": 3
   },
   "file_extension": ".py",
   "mimetype": "text/x-python",
   "name": "python",
   "nbconvert_exporter": "python",
   "pygments_lexer": "ipython3",
   "version": "3.7.3"
  }
 },
 "nbformat": 4,
 "nbformat_minor": 2
}
