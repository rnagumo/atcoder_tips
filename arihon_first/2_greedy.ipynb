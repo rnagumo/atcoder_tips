{
 "cells": [
  {
   "cell_type": "markdown",
   "metadata": {},
   "source": [
    "# JOI 7 - A\n",
    "\n",
    "https://atcoder.jp/contests/joi2008yo/tasks/joi2008yo_a"
   ]
  },
  {
   "cell_type": "code",
   "execution_count": 2,
   "metadata": {},
   "outputs": [
    {
     "name": "stdout",
     "output_type": "stream",
     "text": [
      "ans: 4\n"
     ]
    }
   ],
   "source": [
    "x = 380\n",
    "\n",
    "print('ans: 4')"
   ]
  },
  {
   "cell_type": "code",
   "execution_count": 3,
   "metadata": {},
   "outputs": [
    {
     "name": "stdout",
     "output_type": "stream",
     "text": [
      "4\n"
     ]
    }
   ],
   "source": [
    "change = 1000 - x\n",
    "ans = 0\n",
    "\n",
    "for v in [500, 100, 50, 10, 5, 1]:\n",
    "    ans += change // v\n",
    "    change %= v\n",
    "    \n",
    "print(ans)"
   ]
  },
  {
   "cell_type": "markdown",
   "metadata": {},
   "source": [
    "# AOJ DPL_1_A\n",
    "\n",
    "http://judge.u-aizu.ac.jp/onlinejudge/description.jsp?id=DPL_1_A&lang=jp"
   ]
  },
  {
   "cell_type": "code",
   "execution_count": 4,
   "metadata": {},
   "outputs": [
    {
     "name": "stdout",
     "output_type": "stream",
     "text": [
      "ans: 2\n"
     ]
    }
   ],
   "source": [
    "n, m = 16, 6\n",
    "c = [1, 2, 7, 9, 12, 50]\n",
    "\n",
    "print('ans: 2')"
   ]
  },
  {
   "cell_type": "code",
   "execution_count": 15,
   "metadata": {},
   "outputs": [
    {
     "name": "stdout",
     "output_type": "stream",
     "text": [
      "2\n"
     ]
    }
   ],
   "source": [
    "INF = 10 ** 4\n",
    "dp = [[INF] * (n + 1) for _ in range(m + 1)]\n",
    "dp[0][0] = 0\n",
    "\n",
    "for i in range(m):\n",
    "    for j in range(n + 1):\n",
    "        if j < c[i]:\n",
    "            dp[i + 1][j] = dp[i][j]\n",
    "        else:\n",
    "            dp[i + 1][j] = min(dp[i][j], dp[i + 1][j - c[i]] + 1)\n",
    "            \n",
    "print(dp[-1][-1])"
   ]
  },
  {
   "cell_type": "code",
   "execution_count": 14,
   "metadata": {},
   "outputs": [
    {
     "name": "stdout",
     "output_type": "stream",
     "text": [
      "[0, 10000, 10000, 10000, 10000, 10000, 10000, 10000, 10000, 10000, 10000, 10000, 10000, 10000, 10000, 10000, 10000]\n",
      "[0, 1, 2, 3, 4, 5, 6, 7, 8, 9, 10, 11, 12, 13, 14, 15, 16]\n",
      "[0, 1, 1, 2, 2, 3, 3, 4, 4, 5, 5, 6, 6, 7, 7, 8, 8]\n",
      "[0, 1, 1, 2, 2, 3, 3, 1, 2, 2, 3, 3, 4, 4, 2, 3, 3]\n",
      "[0, 1, 1, 2, 2, 3, 3, 1, 2, 1, 2, 2, 3, 3, 2, 3, 2]\n",
      "[0, 1, 1, 2, 2, 3, 3, 1, 2, 1, 2, 2, 1, 2, 2, 3, 2]\n",
      "[0, 1, 1, 2, 2, 3, 3, 1, 2, 1, 2, 2, 1, 2, 2, 3, 2]\n"
     ]
    }
   ],
   "source": [
    "print(*dp, sep='\\n')"
   ]
  },
  {
   "cell_type": "markdown",
   "metadata": {},
   "source": [
    "# KUPC 2015 - A\n",
    "\n",
    "https://atcoder.jp/contests/kupc2015/tasks/kupc2015_a"
   ]
  },
  {
   "cell_type": "code",
   "execution_count": 16,
   "metadata": {},
   "outputs": [],
   "source": [
    "T = 3\n",
    "S = ['higashikyoto',\n",
    "     'kupconsitetokyotokyoto',\n",
    "     'goodluckandhavefun']"
   ]
  },
  {
   "cell_type": "code",
   "execution_count": 27,
   "metadata": {},
   "outputs": [
    {
     "name": "stdout",
     "output_type": "stream",
     "text": [
      "1\n",
      "2\n",
      "0\n"
     ]
    }
   ],
   "source": [
    "for x in S:\n",
    "    ans = [-5]\n",
    "    for i in range(len(x) - 4):\n",
    "        if x[i:i + 5] == 'tokyo' or x[i:i + 5] == 'kyoto':\n",
    "            if ans[-1] + 4 < i:\n",
    "                ans.append(i)\n",
    "\n",
    "    print(len(ans) - 1)"
   ]
  },
  {
   "cell_type": "markdown",
   "metadata": {},
   "source": [
    "# ABC 103 - D\n",
    "\n",
    "https://atcoder.jp/contests/abc103/tasks/abc103_d"
   ]
  },
  {
   "cell_type": "code",
   "execution_count": 29,
   "metadata": {},
   "outputs": [
    {
     "name": "stdout",
     "output_type": "stream",
     "text": [
      "ans: 1\n"
     ]
    }
   ],
   "source": [
    "N, M = 5, 2\n",
    "X = [[1, 4], [2, 5]]\n",
    "\n",
    "print('ans: 1')"
   ]
  },
  {
   "cell_type": "code",
   "execution_count": 34,
   "metadata": {},
   "outputs": [
    {
     "name": "stdout",
     "output_type": "stream",
     "text": [
      "1\n"
     ]
    }
   ],
   "source": [
    "X.sort(key=lambda x: x[1])\n",
    "bdg = -1\n",
    "cnt = 0\n",
    "for a, b in X:\n",
    "    if a > bdg:\n",
    "        bdg = b - 1\n",
    "        cnt += 1\n",
    "        \n",
    "print(cnt)"
   ]
  },
  {
   "cell_type": "markdown",
   "metadata": {},
   "source": [
    "# ABC 38 - D\n",
    "\n",
    "https://abc038.contest.atcoder.jp/tasks/abc038_d"
   ]
  },
  {
   "cell_type": "code",
   "execution_count": 141,
   "metadata": {},
   "outputs": [
    {
     "name": "stdout",
     "output_type": "stream",
     "text": [
      "ans: 3\n"
     ]
    }
   ],
   "source": [
    "N = 3\n",
    "X = [[3, 3], [1, 1], [2, 2]]\n",
    "\n",
    "print('ans: 3')"
   ]
  },
  {
   "cell_type": "code",
   "execution_count": 237,
   "metadata": {},
   "outputs": [
    {
     "name": "stdout",
     "output_type": "stream",
     "text": [
      "ans: 3\n"
     ]
    }
   ],
   "source": [
    "N = 4\n",
    "X = [[2, 5], [3, 3], [4, 5], [6, 6]]\n",
    "\n",
    "print('ans: 3')"
   ]
  },
  {
   "cell_type": "markdown",
   "metadata": {},
   "source": [
    "#### BITを使って解く"
   ]
  },
  {
   "cell_type": "code",
   "execution_count": 244,
   "metadata": {},
   "outputs": [],
   "source": [
    "class BIT:\n",
    "    def __init__(self, n=None):\n",
    "        if n is None:\n",
    "            n = 10 ** 5 + 1\n",
    "\n",
    "        self.n = n\n",
    "        self.bit = [0] * n\n",
    "        \n",
    "    def update(self, i, v):\n",
    "        while i <= self.n:\n",
    "            if self.bit[i] < v:\n",
    "                self.bit[i] = v\n",
    "            i += i & -i\n",
    "            \n",
    "    def query(self, i):\n",
    "        ret = 0\n",
    "        while i > 0:\n",
    "            if ret < self.bit[i]:\n",
    "                ret = self.bit[i]\n",
    "            i -= i & -i\n",
    "            \n",
    "        return ret\n",
    "            \n",
    "    def __repr__(self, max_len=100):\n",
    "        return ', '.join([str(v) for v in self.bit[:max_len]])"
   ]
  },
  {
   "cell_type": "code",
   "execution_count": 245,
   "metadata": {},
   "outputs": [
    {
     "name": "stdout",
     "output_type": "stream",
     "text": [
      "3\n"
     ]
    }
   ],
   "source": [
    "bit = BIT()\n",
    "ans = 0\n",
    "for h, w in sorted(X, key=lambda x: (x[0], -x[1])):\n",
    "    a = bit.query(w - 1) + 1\n",
    "    ans = max(ans, a)\n",
    "    bit.update(w, a)\n",
    "print(ans)"
   ]
  },
  {
   "cell_type": "markdown",
   "metadata": {},
   "source": [
    "# ABC 76 - C\n",
    "\n",
    "https://abc076.contest.atcoder.jp/tasks/abc076_c"
   ]
  },
  {
   "cell_type": "code",
   "execution_count": 44,
   "metadata": {},
   "outputs": [],
   "source": [
    "S = '?tc????'\n",
    "T = 'coder'"
   ]
  },
  {
   "cell_type": "code",
   "execution_count": 53,
   "metadata": {},
   "outputs": [
    {
     "name": "stdout",
     "output_type": "stream",
     "text": [
      "atcoder\n"
     ]
    }
   ],
   "source": [
    "import re\n",
    "\n",
    "S = S.replace('?', '.')\n",
    "t_len = len(T)\n",
    "for i in reversed(range(len(S) - t_len + 1)):\n",
    "    if re.match(S[i:i + t_len], T) is not None:\n",
    "        S = S[:i] + T + S[i + t_len:]\n",
    "        print(S.replace('.', 'a'))\n",
    "        break\n",
    "else:\n",
    "    print('UNRESTORABLE')"
   ]
  },
  {
   "cell_type": "markdown",
   "metadata": {},
   "source": [
    "# ABC 9 - C\n",
    "\n",
    "https://atcoder.jp/contests/abc009/tasks/abc009_3"
   ]
  },
  {
   "cell_type": "code",
   "execution_count": 111,
   "metadata": {},
   "outputs": [
    {
     "name": "stdout",
     "output_type": "stream",
     "text": [
      "ans: actoder\n"
     ]
    }
   ],
   "source": [
    "N, K = 7, 2\n",
    "s = 'atcoder'\n",
    "\n",
    "print('ans: actoder')"
   ]
  },
  {
   "cell_type": "code",
   "execution_count": 116,
   "metadata": {},
   "outputs": [
    {
     "name": "stdout",
     "output_type": "stream",
     "text": [
      "ans: dehloworll\n"
     ]
    }
   ],
   "source": [
    "N, K = 10, 3\n",
    "s = 'helloworld'\n",
    "\n",
    "print('ans: dehloworll')"
   ]
  },
  {
   "cell_type": "code",
   "execution_count": 125,
   "metadata": {},
   "outputs": [
    {
     "name": "stdout",
     "output_type": "stream",
     "text": [
      "0  d\n",
      "1 d e\n",
      "2 de h\n",
      "3 deh l\n",
      "4 dehl l\n",
      "4 dehl l\n",
      "4 dehl o\n",
      "5 dehlo l\n",
      "5 dehlo l\n",
      "5 dehlo o\n",
      "5 dehlo r\n",
      "5 dehlo w\n",
      "6 dehlow l\n",
      "6 dehlow l\n",
      "6 dehlow o\n",
      "7 dehlowo l\n",
      "7 dehlowo l\n",
      "7 dehlowo r\n",
      "8 dehlowor l\n",
      "9 dehloworl l\n",
      "dehloworll\n"
     ]
    }
   ],
   "source": [
    "from collections import Counter\n",
    "\n",
    "t = ''\n",
    "mismatch = 0\n",
    "cand = sorted(s)\n",
    "\n",
    "for i in range(N):\n",
    "    \n",
    "    ctr = Counter(s[:i + 1]) - Counter(t)\n",
    "    cnt = sum(ctr.values())\n",
    "    \n",
    "    for c in cand:\n",
    "        miss = mismatch + (c != s[i])\n",
    "        diff = cnt - (ctr[c] > 0)\n",
    "        \n",
    "        if miss + diff <= K:\n",
    "            t += c\n",
    "            cand.remove(c)\n",
    "            mismatch = miss\n",
    "            break\n",
    "\n",
    "print(t)"
   ]
  },
  {
   "cell_type": "markdown",
   "metadata": {},
   "source": [
    "# ABC 83 - C\n",
    "\n",
    "https://atcoder.jp/contests/abc083/tasks/arc088_a"
   ]
  },
  {
   "cell_type": "code",
   "execution_count": 252,
   "metadata": {},
   "outputs": [],
   "source": [
    "X, Y = 3, 20"
   ]
  },
  {
   "cell_type": "code",
   "execution_count": 254,
   "metadata": {},
   "outputs": [
    {
     "name": "stdout",
     "output_type": "stream",
     "text": [
      "3\n"
     ]
    }
   ],
   "source": [
    "ans = 0\n",
    "tgt = X\n",
    "\n",
    "while tgt <= Y:\n",
    "    tgt *= 2\n",
    "    ans += 1\n",
    "\n",
    "print(ans)"
   ]
  },
  {
   "cell_type": "markdown",
   "metadata": {},
   "source": [
    "# ARC 6 - C\n",
    "\n",
    "https://atcoder.jp/contests/arc006/tasks/arc006_3"
   ]
  },
  {
   "cell_type": "code",
   "execution_count": 255,
   "metadata": {},
   "outputs": [
    {
     "name": "stdout",
     "output_type": "stream",
     "text": [
      "ans: 2\n"
     ]
    }
   ],
   "source": [
    "N = 5\n",
    "W = [4, 3, 1, 2, 1]\n",
    "\n",
    "print('ans: 2')"
   ]
  },
  {
   "cell_type": "code",
   "execution_count": 257,
   "metadata": {},
   "outputs": [
    {
     "name": "stdout",
     "output_type": "stream",
     "text": [
      "ans: 6\n"
     ]
    }
   ],
   "source": [
    "N = 15\n",
    "W = [3, 1, 4, 1, 5, 9, 2, 6, 5, 3, 5, 8, 9, 7, 9]\n",
    "\n",
    "print('ans: 6')"
   ]
  },
  {
   "cell_type": "code",
   "execution_count": 262,
   "metadata": {},
   "outputs": [
    {
     "name": "stdout",
     "output_type": "stream",
     "text": [
      "6\n"
     ]
    }
   ],
   "source": [
    "ans = [W[0]]\n",
    "for w in W[1:]:\n",
    "    for i in range(len(ans)):\n",
    "        if w <= ans[i]:\n",
    "            ans[i] = w\n",
    "            break\n",
    "    else:\n",
    "        ans.append(w)\n",
    "            \n",
    "print(len(ans))"
   ]
  },
  {
   "cell_type": "markdown",
   "metadata": {},
   "source": [
    "# ABC 5 - C\n",
    "\n",
    "https://atcoder.jp/contests/abc005/tasks/abc005_3"
   ]
  },
  {
   "cell_type": "code",
   "execution_count": 263,
   "metadata": {},
   "outputs": [],
   "source": [
    "T = 1\n",
    "N = 3\n",
    "A = [1, 2, 3]\n",
    "M = 3\n",
    "B = [2, 3, 4]"
   ]
  },
  {
   "cell_type": "code",
   "execution_count": 266,
   "metadata": {},
   "outputs": [
    {
     "name": "stdout",
     "output_type": "stream",
     "text": [
      "yes\n"
     ]
    }
   ],
   "source": [
    "idx = 0\n",
    "for a in A:\n",
    "    if a <= B[idx] <= a + T:\n",
    "        idx += 1\n",
    "    if idx == M:\n",
    "        break\n",
    "        \n",
    "print('yes' if idx == M else 'no')"
   ]
  },
  {
   "cell_type": "markdown",
   "metadata": {},
   "source": [
    "# ABC 91 - C\n",
    "\n",
    "https://atcoder.jp/contests/abc091/tasks/arc092_a"
   ]
  },
  {
   "cell_type": "code",
   "execution_count": 37,
   "metadata": {},
   "outputs": [
    {
     "name": "stdout",
     "output_type": "stream",
     "text": [
      "ans: 2\n"
     ]
    }
   ],
   "source": [
    "N = 3\n",
    "R = [[2, 0], [3, 1], [1, 3]]\n",
    "B = [[4, 2], [0, 4], [5, 5]]\n",
    "\n",
    "print('ans: 2')"
   ]
  },
  {
   "cell_type": "code",
   "execution_count": 50,
   "metadata": {},
   "outputs": [
    {
     "name": "stdout",
     "output_type": "stream",
     "text": [
      "ans: 5\n"
     ]
    }
   ],
   "source": [
    "N = 5\n",
    "R = [[0, 0], [7, 3], [2, 2], [4, 8], [1, 6]]\n",
    "B = [[8, 5], [6, 9], [5, 4], [9, 1], [3, 7]]\n",
    "\n",
    "print('ans: 5')"
   ]
  },
  {
   "cell_type": "code",
   "execution_count": 51,
   "metadata": {},
   "outputs": [
    {
     "name": "stdout",
     "output_type": "stream",
     "text": [
      "4 8 6 9\n",
      "1 6 3 7\n",
      "7 3 8 5\n",
      "2 2 5 4\n",
      "0 0 9 1\n",
      "5\n"
     ]
    }
   ],
   "source": [
    "R.sort(key=lambda x: -x[1])\n",
    "B.sort(key=lambda x: x[0])\n",
    "\n",
    "idx = 0\n",
    "ans = 0\n",
    "for xr, yr in R:\n",
    "    for xb, yb in B:\n",
    "        if xr < xb and yr < yb:\n",
    "            print(xr, yr, xb, yb)\n",
    "            ans += 1\n",
    "            B.remove([xb, yb])\n",
    "            break\n",
    "            \n",
    "print(ans)"
   ]
  },
  {
   "cell_type": "code",
   "execution_count": null,
   "metadata": {},
   "outputs": [],
   "source": []
  },
  {
   "cell_type": "code",
   "execution_count": null,
   "metadata": {},
   "outputs": [],
   "source": []
  },
  {
   "cell_type": "code",
   "execution_count": 57,
   "metadata": {},
   "outputs": [],
   "source": [
    "N = 3\n",
    "W = [1, 2, 3]"
   ]
  },
  {
   "cell_type": "code",
   "execution_count": 67,
   "metadata": {},
   "outputs": [],
   "source": [
    "N = 4\n",
    "W = [1, 3, 1, 1]"
   ]
  },
  {
   "cell_type": "code",
   "execution_count": 68,
   "metadata": {},
   "outputs": [
    {
     "name": "stdout",
     "output_type": "stream",
     "text": [
      "[1] [3, 1, 1]\n",
      "[1, 3] [1, 1]\n",
      "[1, 3, 1] [1]\n"
     ]
    },
    {
     "data": {
      "text/plain": [
       "2"
      ]
     },
     "execution_count": 68,
     "metadata": {},
     "output_type": "execute_result"
    }
   ],
   "source": [
    "ans = 10 ** 6\n",
    "for i in range(1, N):\n",
    "    print(W[:i], W[i:])\n",
    "    ans = min(ans, abs(sum(W[:i]) - sum(W[i:])))\n",
    "    \n",
    "ans"
   ]
  },
  {
   "cell_type": "markdown",
   "metadata": {},
   "source": [
    "# "
   ]
  },
  {
   "cell_type": "code",
   "execution_count": null,
   "metadata": {},
   "outputs": [],
   "source": []
  },
  {
   "cell_type": "code",
   "execution_count": null,
   "metadata": {},
   "outputs": [],
   "source": []
  },
  {
   "cell_type": "code",
   "execution_count": null,
   "metadata": {},
   "outputs": [],
   "source": []
  },
  {
   "cell_type": "code",
   "execution_count": null,
   "metadata": {},
   "outputs": [],
   "source": []
  },
  {
   "cell_type": "code",
   "execution_count": 137,
   "metadata": {},
   "outputs": [
    {
     "name": "stdout",
     "output_type": "stream",
     "text": [
      "ans: 4\n"
     ]
    }
   ],
   "source": [
    "N, M = 6, 1\n",
    "A = [3]\n",
    "\n",
    "print('ans: 4')"
   ]
  },
  {
   "cell_type": "code",
   "execution_count": 88,
   "metadata": {},
   "outputs": [
    {
     "name": "stdout",
     "output_type": "stream",
     "text": [
      "ans: 0\n"
     ]
    }
   ],
   "source": [
    "N, M = 10, 2\n",
    "A = [4, 5]\n",
    "\n",
    "print('ans: 0')"
   ]
  },
  {
   "cell_type": "code",
   "execution_count": null,
   "metadata": {},
   "outputs": [],
   "source": []
  },
  {
   "cell_type": "code",
   "execution_count": null,
   "metadata": {},
   "outputs": [],
   "source": []
  },
  {
   "cell_type": "code",
   "execution_count": 107,
   "metadata": {},
   "outputs": [
    {
     "name": "stdout",
     "output_type": "stream",
     "text": [
      "ans: 608200469\n"
     ]
    }
   ],
   "source": [
    "N, M = 100, 5\n",
    "A = [1, 23, 45, 67, 89]\n",
    "\n",
    "print('ans: 608200469')"
   ]
  },
  {
   "cell_type": "markdown",
   "metadata": {},
   "source": [
    "#### これはTLE"
   ]
  },
  {
   "cell_type": "code",
   "execution_count": 105,
   "metadata": {},
   "outputs": [
    {
     "name": "stdout",
     "output_type": "stream",
     "text": [
      "4\n"
     ]
    }
   ],
   "source": [
    "dp = [0] * (N + 1)\n",
    "dp[0] = 1\n",
    "\n",
    "for i in range(-1, N - 1):\n",
    "    if i + 2 in A:\n",
    "        dp[i + 2] = 0\n",
    "    elif i + 2 == 1:\n",
    "        dp[i + 2] = dp[i + 1]\n",
    "    else:\n",
    "        dp[i + 2] = (dp[i + 1] + dp[i]) % (10 ** 9 + 7)\n",
    "        \n",
    "print(dp[-1])"
   ]
  },
  {
   "cell_type": "markdown",
   "metadata": {},
   "source": [
    "#### より速い方法"
   ]
  },
  {
   "cell_type": "code",
   "execution_count": 195,
   "metadata": {},
   "outputs": [
    {
     "name": "stdout",
     "output_type": "stream",
     "text": [
      "ans: 608200469\n"
     ]
    }
   ],
   "source": [
    "N, M = 100, 5\n",
    "A = [1, 23, 45, 67, 89]\n",
    "\n",
    "print('ans: 608200469')"
   ]
  },
  {
   "cell_type": "code",
   "execution_count": 214,
   "metadata": {},
   "outputs": [
    {
     "name": "stdout",
     "output_type": "stream",
     "text": [
      "ans: 0\n"
     ]
    }
   ],
   "source": [
    "N, M = 10, 2\n",
    "A = [4, 5]\n",
    "\n",
    "print('ans: 0')"
   ]
  },
  {
   "cell_type": "code",
   "execution_count": 216,
   "metadata": {},
   "outputs": [
    {
     "name": "stdout",
     "output_type": "stream",
     "text": [
      "ans: 4\n"
     ]
    }
   ],
   "source": [
    "N, M = 6, 1\n",
    "A = [3]\n",
    "\n",
    "print('ans: 4')"
   ]
  },
  {
   "cell_type": "code",
   "execution_count": 220,
   "metadata": {},
   "outputs": [
    {
     "name": "stdout",
     "output_type": "stream",
     "text": [
      "ans: ?\n"
     ]
    }
   ],
   "source": [
    "N, M = 6, 5\n",
    "A = [1, 2, 3, 4, 5]\n",
    "\n",
    "print('ans: ?')"
   ]
  },
  {
   "cell_type": "code",
   "execution_count": 225,
   "metadata": {},
   "outputs": [
    {
     "name": "stdout",
     "output_type": "stream",
     "text": [
      "[-1, 1, 2, 3, 4, 5, 7]\n",
      "[0, -1, -1, -1, -1, 0]\n",
      "[1, 1]\n",
      "0\n"
     ]
    }
   ],
   "source": [
    "B = [-1] + A + [N + 1]\n",
    "print(B)\n",
    "B = [B[i + 1] - B[i] - 2 for i in range(M + 1)]\n",
    "print(B)\n",
    "\n",
    "total = max(B)\n",
    "dp = [1, 1] + [0] * (total - 1)\n",
    "for i in range(total - 1):\n",
    "    dp[i + 2] = (dp[i + 1] + dp[i]) #% (10 ** 9 + 7)\n",
    "\n",
    "print(dp)\n",
    "        \n",
    "ans = 1\n",
    "for i in range(M + 1):\n",
    "    ans *= dp[B[i]]\n",
    "    ans %= 10 ** 9 + 7\n",
    "print(ans if -1 not in B[1:] else 0)"
   ]
  },
  {
   "cell_type": "code",
   "execution_count": 183,
   "metadata": {},
   "outputs": [
    {
     "data": {
      "text/plain": [
       "([1, 1, 2], [2, 2])"
      ]
     },
     "execution_count": 183,
     "metadata": {},
     "output_type": "execute_result"
    }
   ],
   "source": [
    "dp, B"
   ]
  },
  {
   "cell_type": "code",
   "execution_count": null,
   "metadata": {},
   "outputs": [],
   "source": []
  },
  {
   "cell_type": "markdown",
   "metadata": {},
   "source": [
    "# C"
   ]
  },
  {
   "cell_type": "code",
   "execution_count": 226,
   "metadata": {},
   "outputs": [],
   "source": [
    "H, W = 4, 6\n",
    "grid = \"\"\"#..#..\n",
    ".....#\n",
    "....#.\n",
    "#.#...\"\"\"\n",
    "grid = grid.split('\\n')"
   ]
  },
  {
   "cell_type": "markdown",
   "metadata": {},
   "source": [
    "#### PyPyならばいける"
   ]
  },
  {
   "cell_type": "code",
   "execution_count": 236,
   "metadata": {},
   "outputs": [
    {
     "data": {
      "text/plain": [
       "[[0, 2, 2, 0, 2, 2],\n",
       " [5, 5, 5, 5, 5, 0],\n",
       " [4, 4, 4, 4, 0, 1],\n",
       " [0, 1, 0, 3, 3, 3]]"
      ]
     },
     "execution_count": 236,
     "metadata": {},
     "output_type": "execute_result"
    }
   ],
   "source": [
    "graph_1 = [[0] * W for _ in range(H)]\n",
    "for i in range(H):\n",
    "    for j in range(W):\n",
    "        if grid[i][j] == '.':\n",
    "            if j != 0 and grid[i][j - 1] == '.':\n",
    "                graph_1[i][j] = graph_1[i][j - 1] + 1\n",
    "            else:\n",
    "                graph_1[i][j] = 1\n",
    "\n",
    "\n",
    "for i in range(H):\n",
    "    for j in reversed(range(W - 1)):\n",
    "        if grid[i][j + 1] == '.' and grid[i][j] == '.':\n",
    "            graph_1[i][j] = graph_1[i][j + 1]\n",
    "                \n",
    "graph_1"
   ]
  },
  {
   "cell_type": "code",
   "execution_count": 240,
   "metadata": {},
   "outputs": [
    {
     "data": {
      "text/plain": [
       "[[0, 4, 3, 0, 2, 1],\n",
       " [2, 4, 3, 3, 2, 0],\n",
       " [2, 4, 3, 3, 0, 2],\n",
       " [0, 4, 0, 3, 1, 2]]"
      ]
     },
     "execution_count": 240,
     "metadata": {},
     "output_type": "execute_result"
    }
   ],
   "source": [
    "graph_2 = [[0] * W for _ in range(H)]\n",
    "for j in range(W):\n",
    "    for i in range(H):\n",
    "        if grid[i][j] == '.':\n",
    "            if i != 0 and grid[i - 1][j] == '.':\n",
    "                graph_2[i][j] = graph_2[i - 1][j] + 1\n",
    "            else:\n",
    "                graph_2[i][j] = 1\n",
    "\n",
    "for j in range(W):\n",
    "    for i in reversed(range(H - 1)):\n",
    "        if grid[i + 1][j] == '.' and grid[i][j] == '.':\n",
    "            graph_2[i][j] = graph_2[i + 1][j]\n",
    "                \n",
    "graph_2"
   ]
  },
  {
   "cell_type": "code",
   "execution_count": 243,
   "metadata": {},
   "outputs": [
    {
     "name": "stdout",
     "output_type": "stream",
     "text": [
      "8\n"
     ]
    }
   ],
   "source": [
    "ans = 0\n",
    "for i in range(H):\n",
    "    for j in range(W):\n",
    "        ans = max(ans, graph_1[i][j] + graph_2[i][j] - 1)\n",
    "        \n",
    "print(ans)"
   ]
  },
  {
   "cell_type": "code",
   "execution_count": null,
   "metadata": {},
   "outputs": [],
   "source": []
  },
  {
   "cell_type": "code",
   "execution_count": null,
   "metadata": {},
   "outputs": [],
   "source": []
  },
  {
   "cell_type": "code",
   "execution_count": null,
   "metadata": {},
   "outputs": [],
   "source": []
  },
  {
   "cell_type": "code",
   "execution_count": null,
   "metadata": {},
   "outputs": [],
   "source": []
  },
  {
   "cell_type": "code",
   "execution_count": null,
   "metadata": {},
   "outputs": [],
   "source": []
  },
  {
   "cell_type": "code",
   "execution_count": null,
   "metadata": {},
   "outputs": [],
   "source": []
  }
 ],
 "metadata": {
  "kernelspec": {
   "display_name": "Python 3",
   "language": "python",
   "name": "python3"
  },
  "language_info": {
   "codemirror_mode": {
    "name": "ipython",
    "version": 3
   },
   "file_extension": ".py",
   "mimetype": "text/x-python",
   "name": "python",
   "nbconvert_exporter": "python",
   "pygments_lexer": "ipython3",
   "version": "3.7.3"
  }
 },
 "nbformat": 4,
 "nbformat_minor": 2
}
