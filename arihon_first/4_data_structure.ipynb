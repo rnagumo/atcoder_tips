{
 "cells": [
  {
   "cell_type": "markdown",
   "metadata": {},
   "source": [
    "# データ構造"
   ]
  },
  {
   "cell_type": "markdown",
   "metadata": {},
   "source": [
    "# 2017 Code Festival - C\n",
    "\n",
    "priority queue\n",
    "\n",
    "https://atcoder.jp/contests/code-thanks-festival-2017-open/tasks/code_thanks_festival_2017_c"
   ]
  },
  {
   "cell_type": "code",
   "execution_count": 2,
   "metadata": {},
   "outputs": [
    {
     "name": "stdout",
     "output_type": "stream",
     "text": [
      "ans: 5\n"
     ]
    }
   ],
   "source": [
    "N, K = 3, 3\n",
    "X = [[1, 3], [2, 0], [3, 4]]\n",
    "\n",
    "print('ans: 5')"
   ]
  },
  {
   "cell_type": "code",
   "execution_count": 5,
   "metadata": {},
   "outputs": [
    {
     "name": "stdout",
     "output_type": "stream",
     "text": [
      "5\n"
     ]
    }
   ],
   "source": [
    "from heapq import heappop, heappush\n",
    "\n",
    "pq = []\n",
    "\n",
    "for a, b in X:\n",
    "    heappush(pq, (a, b))\n",
    "    \n",
    "ans = 0\n",
    "for _ in range(K):\n",
    "    a, b = heappop(pq)\n",
    "    ans += a\n",
    "    heappush(pq, (a + b, b))\n",
    "    \n",
    "print(ans)"
   ]
  },
  {
   "cell_type": "markdown",
   "metadata": {},
   "source": [
    "# ARC 74 - D\n",
    "\n",
    "priority queue\n",
    "\n",
    "https://atcoder.jp/contests/arc074/tasks/arc074_b"
   ]
  },
  {
   "cell_type": "code",
   "execution_count": 34,
   "metadata": {},
   "outputs": [
    {
     "name": "stdout",
     "output_type": "stream",
     "text": [
      "ans: 1\n"
     ]
    }
   ],
   "source": [
    "N = 2\n",
    "a = [3, 1, 4, 1, 5, 9]\n",
    "\n",
    "print('ans: 1')"
   ]
  },
  {
   "cell_type": "code",
   "execution_count": 69,
   "metadata": {},
   "outputs": [
    {
     "name": "stdout",
     "output_type": "stream",
     "text": [
      "ans: 500000000\n"
     ]
    }
   ],
   "source": [
    "N = 1\n",
    "a = [1, 1000000000, 500000000]\n",
    "\n",
    "print('ans: 500000000')"
   ]
  },
  {
   "cell_type": "code",
   "execution_count": 74,
   "metadata": {},
   "outputs": [
    {
     "name": "stdout",
     "output_type": "stream",
     "text": [
      "500000000\n"
     ]
    }
   ],
   "source": [
    "from heapq import heappop, heappush, heapify\n",
    "\n",
    "pq1 = a[:N]\n",
    "pq2 = [-x for x in a[2 * N:]]\n",
    "\n",
    "heapify(pq1)\n",
    "heapify(pq2)\n",
    "\n",
    "s1 = sum(pq1)\n",
    "s2 = sum(pq2)\n",
    "\n",
    "ans1 = [s1]\n",
    "ans2 = [s2]\n",
    "\n",
    "for k in range(N, 2 * N):\n",
    "    heappush(pq1, a[k])\n",
    "    x = heappop(pq1)\n",
    "    s1 += a[k] - x\n",
    "    ans1.append(s1)\n",
    "    \n",
    "    heappush(pq2, -a[3 * N - k - 1])\n",
    "    x = heappop(pq2)\n",
    "    s2 += -a[3 * N - k - 1] - x\n",
    "    ans2.append(s2)\n",
    "    \n",
    "print(max(ans1[i] + ans2[-i - 1] for i in range(len(ans1))))"
   ]
  },
  {
   "cell_type": "markdown",
   "metadata": {},
   "source": [
    "# ABC 91 - B\n",
    "\n",
    "https://atcoder.jp/contests/abc091/tasks/abc091_b"
   ]
  },
  {
   "cell_type": "code",
   "execution_count": 76,
   "metadata": {},
   "outputs": [
    {
     "name": "stdout",
     "output_type": "stream",
     "text": [
      "ans: 2\n"
     ]
    }
   ],
   "source": [
    "N = 3\n",
    "s = ['apple', 'orange', 'apple']\n",
    "M = 1\n",
    "t = ['grape']\n",
    "\n",
    "print('ans: 2')"
   ]
  },
  {
   "cell_type": "code",
   "execution_count": 79,
   "metadata": {},
   "outputs": [
    {
     "name": "stdout",
     "output_type": "stream",
     "text": [
      "2\n"
     ]
    }
   ],
   "source": [
    "from collections import Counter\n",
    "\n",
    "c1 = Counter(s)\n",
    "c2 = Counter(t)\n",
    "ans = max(v - c2[i] for i, v in c1.most_common())\n",
    "print(max(0, ans))"
   ]
  },
  {
   "cell_type": "markdown",
   "metadata": {},
   "source": [
    "# ATC 1 - B\n",
    "\n",
    "Union Find\n",
    "\n",
    "https://atcoder.jp/contests/atc001/tasks/unionfind_a"
   ]
  },
  {
   "cell_type": "code",
   "execution_count": 89,
   "metadata": {},
   "outputs": [],
   "source": [
    "N, Q = 8, 9\n",
    "X = [[0, 1, 2], [0, 3, 2], [1, 1, 3], [1, 1, 4], [0, 2, 4], \n",
    "     [1, 4, 1], [0, 4, 2], [0, 0, 0], [1, 0, 0]]"
   ]
  },
  {
   "cell_type": "code",
   "execution_count": 90,
   "metadata": {},
   "outputs": [
    {
     "data": {
      "text/plain": [
       "([0, 1, 2, 3, 4, 5, 6, 7], [0, 0, 0, 0, 0, 0, 0, 0])"
      ]
     },
     "execution_count": 90,
     "metadata": {},
     "output_type": "execute_result"
    }
   ],
   "source": [
    "# Parent\n",
    "par = list(range(N))\n",
    "\n",
    "# Rank of tree\n",
    "rank = [0] * N\n",
    "\n",
    "par, rank"
   ]
  },
  {
   "cell_type": "code",
   "execution_count": 91,
   "metadata": {},
   "outputs": [],
   "source": [
    "def find(x):\n",
    "    # Find root\n",
    "    if par[x] == x:\n",
    "        return x\n",
    "    else:\n",
    "        return find(par[x])"
   ]
  },
  {
   "cell_type": "code",
   "execution_count": 92,
   "metadata": {},
   "outputs": [],
   "source": [
    "def unite(x, y):\n",
    "    # Unite tree\n",
    "    x = find(x)\n",
    "    y = find(y)\n",
    "    \n",
    "    if x == y:\n",
    "        return\n",
    "    \n",
    "    if rank[x] < rank[y]:\n",
    "        par[x] = y\n",
    "    else:\n",
    "        par[y] = x\n",
    "        if rank[x] == rank[y]:\n",
    "            rank[x] += 1"
   ]
  },
  {
   "cell_type": "code",
   "execution_count": 93,
   "metadata": {},
   "outputs": [],
   "source": [
    "def same(x, y):\n",
    "    # Check whether x & y belong to the same tree\n",
    "    return find(x) == find(y)"
   ]
  },
  {
   "cell_type": "code",
   "execution_count": 94,
   "metadata": {},
   "outputs": [
    {
     "name": "stdout",
     "output_type": "stream",
     "text": [
      "Yes\n",
      "No\n",
      "Yes\n",
      "Yes\n"
     ]
    }
   ],
   "source": [
    "for p, a, b in X:\n",
    "    if p == 0:\n",
    "        unite(a, b)\n",
    "    else:\n",
    "        print('Yes' if same(a, b) else 'No')"
   ]
  },
  {
   "cell_type": "markdown",
   "metadata": {},
   "source": [
    "# ABC 49 - D\n",
    "\n",
    "https://atcoder.jp/contests/abc049/tasks/arc065_b"
   ]
  },
  {
   "cell_type": "code",
   "execution_count": 36,
   "metadata": {},
   "outputs": [
    {
     "name": "stdout",
     "output_type": "stream",
     "text": [
      "ans: 1, 2, 2, 1\n"
     ]
    }
   ],
   "source": [
    "N, K, L = 4, 3, 1\n",
    "X = [[1, 2], [2, 3], [3, 4]]\n",
    "Y = [[2, 3]]\n",
    "\n",
    "print('ans: 1, 2, 2, 1')"
   ]
  },
  {
   "cell_type": "code",
   "execution_count": 37,
   "metadata": {},
   "outputs": [],
   "source": [
    "class UnionFind:\n",
    "    def __init__(self, n):\n",
    "        self.par = list(range(n))\n",
    "        self.rank = [0] * n\n",
    "        \n",
    "    def find(self, x):\n",
    "        if self.par[x] == x:\n",
    "            return x\n",
    "        else:\n",
    "            self.par[x] = self.find(self.par[x])\n",
    "            return self.par[x]\n",
    "        \n",
    "    def unite(self, x, y):\n",
    "        x = self.find(x)\n",
    "        y = self.find(y)\n",
    "        \n",
    "        if x == y:\n",
    "            return\n",
    "        \n",
    "        if self.rank[x] == self.rank[y]:\n",
    "            self.rank[x] += 1\n",
    "        elif self.rank[x] < self.rank[y]:\n",
    "            x, y = y, x\n",
    "        \n",
    "        self.par[y] = x\n",
    "                \n",
    "    def same(self, x, y):\n",
    "        return self.find(x) == self.find(y)\n",
    "    \n",
    "    def __repr__(self):\n",
    "        return ', '.join(str(x) for x in self.par)"
   ]
  },
  {
   "cell_type": "code",
   "execution_count": 38,
   "metadata": {},
   "outputs": [],
   "source": [
    "t1 = UnionFind(N)\n",
    "t2 = UnionFind(N)\n",
    "\n",
    "for p, q in X:\n",
    "    t1.unite(p - 1, q - 1)\n",
    "    \n",
    "for r, s in Y:\n",
    "    t2.unite(r - 1, s - 1)"
   ]
  },
  {
   "cell_type": "code",
   "execution_count": 39,
   "metadata": {},
   "outputs": [
    {
     "data": {
      "text/plain": [
       "0, 0, 0, 0"
      ]
     },
     "execution_count": 39,
     "metadata": {},
     "output_type": "execute_result"
    }
   ],
   "source": [
    "t1"
   ]
  },
  {
   "cell_type": "code",
   "execution_count": 40,
   "metadata": {},
   "outputs": [
    {
     "data": {
      "text/plain": [
       "0, 1, 1, 3"
      ]
     },
     "execution_count": 40,
     "metadata": {},
     "output_type": "execute_result"
    }
   ],
   "source": [
    "t2"
   ]
  },
  {
   "cell_type": "code",
   "execution_count": 42,
   "metadata": {},
   "outputs": [
    {
     "data": {
      "text/plain": [
       "[(0, 0), (0, 1), (0, 1), (0, 3)]"
      ]
     },
     "execution_count": 42,
     "metadata": {},
     "output_type": "execute_result"
    }
   ],
   "source": [
    "connect = [(t1.find(i), t2.find(i)) for i in range(N)]\n",
    "connect"
   ]
  },
  {
   "cell_type": "code",
   "execution_count": 43,
   "metadata": {},
   "outputs": [
    {
     "name": "stdout",
     "output_type": "stream",
     "text": [
      "1 2 2 1\n"
     ]
    }
   ],
   "source": [
    "from collections import Counter\n",
    "\n",
    "ctr = Counter(connect)\n",
    "print(*[ctr[key] for key in connect])"
   ]
  },
  {
   "cell_type": "markdown",
   "metadata": {},
   "source": [
    "# ARC 97 - D\n",
    "\n",
    "https://atcoder.jp/contests/arc097/tasks/arc097_b"
   ]
  },
  {
   "cell_type": "code",
   "execution_count": 44,
   "metadata": {},
   "outputs": [
    {
     "name": "stdout",
     "output_type": "stream",
     "text": [
      "ans: 2\n"
     ]
    }
   ],
   "source": [
    "N, M = 5, 2\n",
    "p = [5, 3, 1, 4, 2]\n",
    "X = [[1, 3], [5, 4]]\n",
    "\n",
    "print('ans: 2')"
   ]
  },
  {
   "cell_type": "code",
   "execution_count": 45,
   "metadata": {},
   "outputs": [],
   "source": [
    "class UnionFind:\n",
    "    def __init__(self, n):\n",
    "        self.par = list(range(n))\n",
    "        self.rank = [0] * n\n",
    "        \n",
    "    def find(self, x):\n",
    "        if self.par[x] == x:\n",
    "            return x\n",
    "        else:\n",
    "            self.par[x] = self.find(self.par[x])\n",
    "            return self.par[x]\n",
    "        \n",
    "    def unite(self, x, y):\n",
    "        x = self.find(x)\n",
    "        y = self.find(y)\n",
    "        \n",
    "        if x == y:\n",
    "            return\n",
    "        \n",
    "        if self.rank[x] == self.rank[y]:\n",
    "            self.rank[x] += 1\n",
    "        elif self.rank[x] < self.rank[y]:\n",
    "            x, y = y, x\n",
    "        \n",
    "        self.par[y] = x\n",
    "                \n",
    "    def same(self, x, y):\n",
    "        return self.find(x) == self.find(y)\n",
    "    \n",
    "    def __repr__(self):\n",
    "        return ', '.join(str(x) for x in self.par)"
   ]
  },
  {
   "cell_type": "code",
   "execution_count": 47,
   "metadata": {},
   "outputs": [
    {
     "name": "stdout",
     "output_type": "stream",
     "text": [
      "2\n"
     ]
    }
   ],
   "source": [
    "t = UnionFind(N)\n",
    "for x, y in X:\n",
    "    t.unite(x - 1, y - 1)\n",
    "    \n",
    "cnt = 0\n",
    "for i in range(N):\n",
    "    cnt += int(t.same(i, p[i] - 1))\n",
    "print(cnt)"
   ]
  },
  {
   "cell_type": "markdown",
   "metadata": {},
   "source": [
    "# ARC 90 - D\n",
    "\n",
    "重み付きUnion-Find木\n",
    "\n",
    "https://atcoder.jp/contests/arc090/tasks/arc090_b"
   ]
  },
  {
   "cell_type": "code",
   "execution_count": null,
   "metadata": {},
   "outputs": [],
   "source": []
  },
  {
   "cell_type": "code",
   "execution_count": null,
   "metadata": {},
   "outputs": [],
   "source": []
  },
  {
   "cell_type": "code",
   "execution_count": null,
   "metadata": {},
   "outputs": [],
   "source": []
  },
  {
   "cell_type": "code",
   "execution_count": null,
   "metadata": {},
   "outputs": [],
   "source": []
  },
  {
   "cell_type": "code",
   "execution_count": null,
   "metadata": {},
   "outputs": [],
   "source": []
  }
 ],
 "metadata": {
  "kernelspec": {
   "display_name": "Python 3",
   "language": "python",
   "name": "python3"
  },
  "language_info": {
   "codemirror_mode": {
    "name": "ipython",
    "version": 3
   },
   "file_extension": ".py",
   "mimetype": "text/x-python",
   "name": "python",
   "nbconvert_exporter": "python",
   "pygments_lexer": "ipython3",
   "version": "3.7.3"
  }
 },
 "nbformat": 4,
 "nbformat_minor": 2
}
