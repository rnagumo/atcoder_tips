{
 "cells": [
  {
   "cell_type": "markdown",
   "metadata": {},
   "source": [
    "# 19 - C\n",
    "\n",
    "https://atcoder.jp/contests/abc019/tasks/abc019_3"
   ]
  },
  {
   "cell_type": "code",
   "execution_count": 18,
   "metadata": {},
   "outputs": [],
   "source": [
    "N = 3\n",
    "a = [1, 2, 3]"
   ]
  },
  {
   "cell_type": "code",
   "execution_count": 23,
   "metadata": {},
   "outputs": [
    {
     "data": {
      "text/plain": [
       "[1, 1, 3]"
      ]
     },
     "execution_count": 23,
     "metadata": {},
     "output_type": "execute_result"
    }
   ],
   "source": [
    "x = []\n",
    "for v in a:\n",
    "    while v % 2 == 0:\n",
    "        v //= 2\n",
    "    x.append(v)\n",
    "    \n",
    "x"
   ]
  },
  {
   "cell_type": "code",
   "execution_count": 24,
   "metadata": {},
   "outputs": [
    {
     "name": "stdout",
     "output_type": "stream",
     "text": [
      "2\n"
     ]
    }
   ],
   "source": [
    "print(len(set(x)))"
   ]
  },
  {
   "cell_type": "markdown",
   "metadata": {},
   "source": [
    "# 18 - C\n",
    "\n",
    "https://atcoder.jp/contests/abc018/tasks/abc018_3"
   ]
  },
  {
   "cell_type": "code",
   "execution_count": 14,
   "metadata": {},
   "outputs": [
    {
     "data": {
      "text/plain": [
       "['xoooo', 'oooox', 'ooooo', 'oxxoo']"
      ]
     },
     "execution_count": 14,
     "metadata": {},
     "output_type": "execute_result"
    }
   ],
   "source": [
    "R, C, K = 4, 5, 2\n",
    "s = \"\"\"xoooo\n",
    "oooox\n",
    "ooooo\n",
    "oxxoo\"\"\"\n",
    "s = s.split('\\n')\n",
    "s"
   ]
  },
  {
   "cell_type": "code",
   "execution_count": 18,
   "metadata": {},
   "outputs": [
    {
     "name": "stdout",
     "output_type": "stream",
     "text": [
      "3\n"
     ]
    }
   ],
   "source": [
    "ans = 0\n",
    "for i in range(K - 1, R - K + 1):\n",
    "    for j in range(K - 1, C - K + 1):\n",
    "        ok = True\n",
    "        for k in range(-K + 1, K):\n",
    "            for l in range(-K + 1, K):\n",
    "                if abs(k) + abs(l) < K:\n",
    "                    if 0 <= i + k < R and 0 <= j + l < C:\n",
    "                        if s[i + k][j + l] == 'x':\n",
    "                            ok = False                    \n",
    "\n",
    "        ans += int(ok)\n",
    "                \n",
    "print(ans)"
   ]
  },
  {
   "cell_type": "markdown",
   "metadata": {},
   "source": [
    "#### O(RCK)の解法"
   ]
  },
  {
   "cell_type": "code",
   "execution_count": 49,
   "metadata": {},
   "outputs": [
    {
     "data": {
      "text/plain": [
       "['xoooo', 'oooox', 'ooooo', 'oxxoo']"
      ]
     },
     "execution_count": 49,
     "metadata": {},
     "output_type": "execute_result"
    }
   ],
   "source": [
    "R, C, K = 4, 5, 2\n",
    "s = \"\"\"xoooo\n",
    "oooox\n",
    "ooooo\n",
    "oxxoo\"\"\"\n",
    "s = s.split('\\n')\n",
    "s"
   ]
  },
  {
   "cell_type": "code",
   "execution_count": 70,
   "metadata": {},
   "outputs": [
    {
     "name": "stdout",
     "output_type": "stream",
     "text": [
      "[0, 1, 1, 1, 1]\n",
      "[1, 2, 2, 2, 0]\n",
      "[2, 3, 3, 3, 1]\n",
      "[3, 0, 0, 4, 2]\n",
      "\n",
      "[0, 3, 3, 4, 1]\n",
      "[3, 2, 2, 3, 0]\n",
      "[2, 1, 1, 2, 2]\n",
      "[1, 0, 0, 1, 1]\n"
     ]
    }
   ],
   "source": [
    "x = [[0] * C for _ in range(R)]\n",
    "y = [[0] * C for _ in range(R)]\n",
    "for j in range(C):\n",
    "    cnt_x = 0\n",
    "    cnt_y = 0\n",
    "    for i in range(R):\n",
    "        if s[i][j] == 'o':\n",
    "            cnt_x += 1\n",
    "            x[i][j] = cnt_x\n",
    "        else:\n",
    "            cnt_x = 0\n",
    "            \n",
    "        if s[R - i - 1][j] == 'o':\n",
    "            cnt_y += 1\n",
    "            y[R - i - 1][j] = cnt_y\n",
    "        else:\n",
    "            cnt_y = 0\n",
    "        \n",
    "\n",
    "print(*x, sep='\\n')\n",
    "print()\n",
    "print(*y, sep='\\n')"
   ]
  },
  {
   "cell_type": "code",
   "execution_count": 71,
   "metadata": {},
   "outputs": [
    {
     "name": "stdout",
     "output_type": "stream",
     "text": [
      "3\n"
     ]
    }
   ],
   "source": [
    "ans = 0\n",
    "for i in range(R):\n",
    "    if i < K - 1 or i > R - K:\n",
    "        continue\n",
    "    for j in range(C):\n",
    "        if j < K - 1 or j > C - K:\n",
    "            continue\n",
    "\n",
    "        flag = True\n",
    "        for l in range(-K + 1, K):\n",
    "            if (x[i][j + l] < K - abs(l)) or (y[i][j + l] < K - abs(l)):\n",
    "                flag = False\n",
    "                \n",
    "        ans += int(flag)\n",
    "            \n",
    "print(ans)"
   ]
  },
  {
   "cell_type": "markdown",
   "metadata": {},
   "source": [
    "#### 別解　いもす法を使う\n",
    "\n",
    "こちらは逆に，'x'を含む部分を求めている"
   ]
  },
  {
   "cell_type": "code",
   "execution_count": 72,
   "metadata": {},
   "outputs": [
    {
     "data": {
      "text/plain": [
       "['xoooo', 'oooox', 'ooooo', 'oxxoo']"
      ]
     },
     "execution_count": 72,
     "metadata": {},
     "output_type": "execute_result"
    }
   ],
   "source": [
    "R, C, K = 4, 5, 2\n",
    "s = \"\"\"xoooo\n",
    "oooox\n",
    "ooooo\n",
    "oxxoo\"\"\"\n",
    "s = s.split('\\n')\n",
    "s"
   ]
  },
  {
   "cell_type": "markdown",
   "metadata": {},
   "source": [
    "各行について，右側には+，左側には-を付ける"
   ]
  },
  {
   "cell_type": "code",
   "execution_count": 74,
   "metadata": {},
   "outputs": [
    {
     "data": {
      "text/plain": [
       "[[2, 0, -2, 0, 1, -1],\n",
       " [1, -1, 0, 2, 0, -2],\n",
       " [0, 1, 0, -1, 1, -1],\n",
       " [2, 2, 0, -2, -2, 0],\n",
       " [0, 0, 0, 0, 0, 0]]"
      ]
     },
     "execution_count": 74,
     "metadata": {},
     "output_type": "execute_result"
    }
   ],
   "source": [
    "q = [[0] * (C + 1) for _ in range(R + 1)]\n",
    "\n",
    "for i in range(R):\n",
    "    for j in range(C):\n",
    "        if s[i][j] == 'x':\n",
    "            for k in range(K):\n",
    "                if i - k >= 0:\n",
    "                    q[i - k][max(0, j - K + k + 1)] += 1\n",
    "                    q[i - k][min(C, j + K - k)] -= 1\n",
    "                if i + k < R:\n",
    "                    q[i + k][max(0, j - K + k + 1)] += 1\n",
    "                    q[i + k][min(C, j + K - k)] -= 1\n",
    "                    \n",
    "q"
   ]
  },
  {
   "cell_type": "markdown",
   "metadata": {},
   "source": [
    "各列について，右に足していく"
   ]
  },
  {
   "cell_type": "code",
   "execution_count": 75,
   "metadata": {},
   "outputs": [
    {
     "data": {
      "text/plain": [
       "[[2, 2, 0, 0, 1, 0],\n",
       " [1, 0, 0, 2, 2, 0],\n",
       " [0, 1, 1, 0, 1, 0],\n",
       " [2, 4, 4, 2, 0, 0],\n",
       " [0, 0, 0, 0, 0, 0]]"
      ]
     },
     "execution_count": 75,
     "metadata": {},
     "output_type": "execute_result"
    }
   ],
   "source": [
    "for i in range(R):\n",
    "    for j in range(1, C + 1):\n",
    "        q[i][j] += q[i][j - 1]\n",
    "        \n",
    "q"
   ]
  },
  {
   "cell_type": "code",
   "execution_count": 79,
   "metadata": {},
   "outputs": [
    {
     "name": "stdout",
     "output_type": "stream",
     "text": [
      "3\n"
     ]
    }
   ],
   "source": [
    "ans = 0\n",
    "for x in range(K - 1, R - K + 1):\n",
    "    for y in range(K - 1, C - K + 1):\n",
    "        if q[x][y] == 0:\n",
    "            ans += 1\n",
    "            \n",
    "print(ans)"
   ]
  },
  {
   "cell_type": "markdown",
   "metadata": {},
   "source": [
    "# 17 - C\n",
    "\n",
    "https://atcoder.jp/contests/abc017/tasks/abc017_3"
   ]
  },
  {
   "cell_type": "code",
   "execution_count": 84,
   "metadata": {},
   "outputs": [
    {
     "name": "stdout",
     "output_type": "stream",
     "text": [
      "ans: 80\n"
     ]
    }
   ],
   "source": [
    "N, M = 4, 6\n",
    "X = [[1, 3, 30], [2, 3, 40], [3, 6, 25], [6, 6, 10]]\n",
    "\n",
    "print('ans: 80')"
   ]
  },
  {
   "cell_type": "code",
   "execution_count": 95,
   "metadata": {},
   "outputs": [
    {
     "name": "stdout",
     "output_type": "stream",
     "text": [
      "[30, 70, 95, 25, 25, 35, 0] 105\n"
     ]
    }
   ],
   "source": [
    "q = [0] * (M + 1)\n",
    "total = 0\n",
    "for l, r, s in X:\n",
    "    q[l - 1] += s\n",
    "    q[r] -= s\n",
    "    total += s\n",
    "    \n",
    "for i in range(M):\n",
    "    q[i + 1] += q[i]\n",
    "    \n",
    "print(q, total)"
   ]
  },
  {
   "cell_type": "code",
   "execution_count": 97,
   "metadata": {},
   "outputs": [
    {
     "name": "stdout",
     "output_type": "stream",
     "text": [
      "80\n"
     ]
    }
   ],
   "source": [
    "print(total - min(q[:-1]))"
   ]
  },
  {
   "cell_type": "markdown",
   "metadata": {},
   "source": [
    "#### 部分点解法"
   ]
  },
  {
   "cell_type": "code",
   "execution_count": 91,
   "metadata": {},
   "outputs": [
    {
     "name": "stdout",
     "output_type": "stream",
     "text": [
      "80\n"
     ]
    }
   ],
   "source": [
    "ans = []\n",
    "for i in range(1, M + 1):\n",
    "    cnt = 0\n",
    "    for l, r, s in X:\n",
    "        if i < l or r < i:\n",
    "            cnt += s\n",
    "            \n",
    "    ans.append(cnt)\n",
    "    \n",
    "print(max(ans))"
   ]
  },
  {
   "cell_type": "markdown",
   "metadata": {},
   "source": [
    "# 16 - C\n",
    "\n",
    "https://atcoder.jp/contests/abc016/tasks/abc016_3"
   ]
  },
  {
   "cell_type": "code",
   "execution_count": 99,
   "metadata": {},
   "outputs": [],
   "source": [
    "N, M = 3, 2\n",
    "edges = [[1, 2], [2, 3]]"
   ]
  },
  {
   "cell_type": "markdown",
   "metadata": {},
   "source": [
    "#### Warshall-Floyd's algorithmで解く"
   ]
  },
  {
   "cell_type": "code",
   "execution_count": 102,
   "metadata": {},
   "outputs": [
    {
     "data": {
      "text/plain": [
       "[[0, 1, inf], [1, 0, 1], [inf, 1, 0]]"
      ]
     },
     "execution_count": 102,
     "metadata": {},
     "output_type": "execute_result"
    }
   ],
   "source": [
    "graph = [[float('inf')] * N for _ in range(N)]\n",
    "for i in range(N):\n",
    "    graph[i][i] = 0\n",
    "\n",
    "for u, v in edges:\n",
    "    graph[u - 1][v - 1] = 1\n",
    "    graph[v - 1][u - 1] = 1\n",
    "    \n",
    "graph"
   ]
  },
  {
   "cell_type": "code",
   "execution_count": 103,
   "metadata": {},
   "outputs": [
    {
     "data": {
      "text/plain": [
       "[[0, 1, 2], [1, 0, 1], [2, 1, 0]]"
      ]
     },
     "execution_count": 103,
     "metadata": {},
     "output_type": "execute_result"
    }
   ],
   "source": [
    "for k in range(N):\n",
    "    for i in range(N):\n",
    "        if graph[i][k] == float('inf'):\n",
    "            continue\n",
    "        for j in range(N):\n",
    "            if graph[k][j] == float('inf'):\n",
    "                continue\n",
    "            graph[i][j] = min(graph[i][j], graph[i][k] + graph[k][j])\n",
    "            \n",
    "graph"
   ]
  },
  {
   "cell_type": "code",
   "execution_count": 106,
   "metadata": {},
   "outputs": [
    {
     "name": "stdout",
     "output_type": "stream",
     "text": [
      "1\n",
      "0\n",
      "1\n"
     ]
    }
   ],
   "source": [
    "print(*[v.count(2) for v in graph], sep='\\n')"
   ]
  },
  {
   "cell_type": "markdown",
   "metadata": {},
   "source": [
    "# 15 - C\n",
    "\n",
    "https://atcoder.jp/contests/abc015/tasks/abc015_3"
   ]
  },
  {
   "cell_type": "code",
   "execution_count": 127,
   "metadata": {},
   "outputs": [
    {
     "name": "stdout",
     "output_type": "stream",
     "text": [
      "ans: Found\n"
     ]
    }
   ],
   "source": [
    "N, K = 3, 4\n",
    "T = [[1, 3, 5, 17], [2, 4, 2, 3], [1, 3, 2, 9]]\n",
    "\n",
    "print('ans: Found')"
   ]
  },
  {
   "cell_type": "code",
   "execution_count": 129,
   "metadata": {},
   "outputs": [],
   "source": [
    "def dfs(n, v):\n",
    "    if n == N:\n",
    "        return v == 0\n",
    "    for j in range(K):\n",
    "        if dfs(n + 1, v ^ T[n][j]):\n",
    "            return True\n",
    "        \n",
    "    return False"
   ]
  },
  {
   "cell_type": "code",
   "execution_count": 131,
   "metadata": {},
   "outputs": [
    {
     "name": "stdout",
     "output_type": "stream",
     "text": [
      "Found\n"
     ]
    }
   ],
   "source": [
    "print('Found' if dfs(0, 0) else 'Nothing')"
   ]
  },
  {
   "cell_type": "markdown",
   "metadata": {},
   "source": [
    "# 14 - C\n",
    "\n",
    "https://atcoder.jp/contests/abc014/tasks/abc014_3"
   ]
  },
  {
   "cell_type": "code",
   "execution_count": 132,
   "metadata": {},
   "outputs": [],
   "source": [
    "N = 4\n",
    "X = [[0, 2], [2, 3], [2, 4], [5, 6]]"
   ]
  },
  {
   "cell_type": "code",
   "execution_count": 133,
   "metadata": {},
   "outputs": [
    {
     "name": "stdout",
     "output_type": "stream",
     "text": [
      "3\n"
     ]
    }
   ],
   "source": [
    "MAX = 10 ** 6 + 1\n",
    "q = [0] * (MAX + 1)\n",
    "for a, b in X:\n",
    "    q[a] += 1\n",
    "    q[b + 1] -= 1\n",
    "    \n",
    "for i in range(MAX):\n",
    "    q[i + 1] += q[i]\n",
    "    \n",
    "print(max(q))"
   ]
  },
  {
   "cell_type": "code",
   "execution_count": 134,
   "metadata": {},
   "outputs": [
    {
     "name": "stdout",
     "output_type": "stream",
     "text": [
      "3\n"
     ]
    }
   ],
   "source": [
    "from itertools import accumulate\n",
    "MAX = 10 ** 6 + 1\n",
    "q = [0] * (MAX + 1)\n",
    "for a, b in X:\n",
    "    q[a] += 1\n",
    "    q[b + 1] -= 1\n",
    "    \n",
    "print(max(accumulate(q)))"
   ]
  },
  {
   "cell_type": "markdown",
   "metadata": {},
   "source": [
    "# 13 - C\n",
    "\n",
    "https://atcoder.jp/contests/abc013/tasks/abc013_3"
   ]
  },
  {
   "cell_type": "code",
   "execution_count": 192,
   "metadata": {},
   "outputs": [],
   "source": [
    "N, H = 4, 5\n",
    "A, B, C, D, E = 100, 4, 60, 1, 4"
   ]
  },
  {
   "cell_type": "code",
   "execution_count": 181,
   "metadata": {},
   "outputs": [
    {
     "name": "stdout",
     "output_type": "stream",
     "text": [
      "160\n"
     ]
    }
   ],
   "source": [
    "ans = float('inf')\n",
    "for x in range(N + 1):\n",
    "    for y in range(N + 1):            \n",
    "        if H + B * x + D * y - E * (N - x - y) > 0:\n",
    "            ans = min(ans, A * x + C * y)\n",
    "            \n",
    "print(ans)"
   ]
  },
  {
   "cell_type": "markdown",
   "metadata": {},
   "source": [
    "#### 満点解答\n",
    "\n",
    "よくあるものとして，いくつかの項の和が決まっている場合は，一つの項は逆算すれば求まる"
   ]
  },
  {
   "cell_type": "code",
   "execution_count": 194,
   "metadata": {},
   "outputs": [
    {
     "name": "stdout",
     "output_type": "stream",
     "text": [
      "160\n"
     ]
    }
   ],
   "source": [
    "ans = float('inf')\n",
    "for x in range(N + 1):\n",
    "    y = int(((N - x) * E - H - B * x) / (D + E) + 1)\n",
    "    ans = min(ans, A * x + C * max(0, y))\n",
    "\n",
    "print(ans)"
   ]
  },
  {
   "cell_type": "markdown",
   "metadata": {},
   "source": [
    "# 12 - C\n",
    "\n",
    "https://atcoder.jp/contests/abc012/tasks/abc012_3"
   ]
  },
  {
   "cell_type": "code",
   "execution_count": 200,
   "metadata": {},
   "outputs": [],
   "source": [
    "N = 2013"
   ]
  },
  {
   "cell_type": "code",
   "execution_count": 213,
   "metadata": {},
   "outputs": [
    {
     "name": "stdout",
     "output_type": "stream",
     "text": [
      "2 x 6\n",
      "3 x 4\n",
      "4 x 3\n",
      "6 x 2\n"
     ]
    }
   ],
   "source": [
    "cnt = 2025 - N\n",
    "\n",
    "for i in range(1, 10):\n",
    "    if cnt % i == 0 and 1 <= cnt // i <= 9:\n",
    "        print('{} x {}'.format(i, cnt // i))"
   ]
  },
  {
   "cell_type": "markdown",
   "metadata": {},
   "source": [
    "# 11 - C\n",
    "\n",
    "https://atcoder.jp/contests/abc011/tasks/abc011_3"
   ]
  },
  {
   "cell_type": "code",
   "execution_count": 214,
   "metadata": {},
   "outputs": [],
   "source": [
    "N = 2\n",
    "NG = [1, 7, 15]"
   ]
  },
  {
   "cell_type": "markdown",
   "metadata": {},
   "source": [
    "#### 動的計画法を使う場合\n",
    "\n",
    "上から下がった行った場合に，その数字に到達可能な最小回数をdpで求める．"
   ]
  },
  {
   "cell_type": "code",
   "execution_count": 222,
   "metadata": {},
   "outputs": [
    {
     "data": {
      "text/plain": [
       "[1, 1, 0]"
      ]
     },
     "execution_count": 222,
     "metadata": {},
     "output_type": "execute_result"
    }
   ],
   "source": [
    "dp = [float('inf')] * (N + 1)\n",
    "dp[N] = 0\n",
    "\n",
    "for i in reversed(range(N +  1)):\n",
    "    if i in NG:\n",
    "        continue\n",
    "        \n",
    "    for j in range(1, 4):\n",
    "        if i - j >= 0:\n",
    "            dp[i - j]  = min(dp[i] + 1, dp[i - j])\n",
    "        \n",
    "dp"
   ]
  },
  {
   "cell_type": "code",
   "execution_count": 220,
   "metadata": {},
   "outputs": [
    {
     "name": "stdout",
     "output_type": "stream",
     "text": [
      "YES\n"
     ]
    }
   ],
   "source": [
    "print('YES' if dp[0] <= 100 else 'NO')"
   ]
  },
  {
   "cell_type": "markdown",
   "metadata": {},
   "source": [
    "#### 貪欲法を使う場合\n",
    "\n",
    "出来るだけ3で引いていき，100回で0以下に到達可能かを調べる．"
   ]
  },
  {
   "cell_type": "code",
   "execution_count": 221,
   "metadata": {},
   "outputs": [
    {
     "name": "stdout",
     "output_type": "stream",
     "text": [
      "YES\n"
     ]
    }
   ],
   "source": [
    "x = N\n",
    "for _ in range(100):\n",
    "    if x in NG:\n",
    "        break\n",
    "    elif x - 3 not in NG:\n",
    "        x -= 3\n",
    "    elif x - 2 not in NG:\n",
    "        x -= 2\n",
    "    elif x - 1 not in NG:\n",
    "        x -= 1\n",
    "        \n",
    "print('YES' if x <= 0 else 'NO')"
   ]
  },
  {
   "cell_type": "markdown",
   "metadata": {},
   "source": [
    "# 10 - C\n",
    "\n",
    "https://atcoder.jp/contests/abc010/tasks/abc010_3"
   ]
  },
  {
   "cell_type": "code",
   "execution_count": 235,
   "metadata": {},
   "outputs": [],
   "source": [
    "xa, ya, xb, yb, T, V = 1, 1, 8, 2, 2, 4\n",
    "n = 1\n",
    "X = [[4, 5]]"
   ]
  },
  {
   "cell_type": "code",
   "execution_count": 236,
   "metadata": {},
   "outputs": [
    {
     "name": "stdout",
     "output_type": "stream",
     "text": [
      "NO\n"
     ]
    }
   ],
   "source": [
    "from math import sqrt\n",
    "for x, y in X:\n",
    "    q = sqrt((x - xa) ** 2 + (y - ya) ** 2)\n",
    "    w = sqrt((x - xb) ** 2 + (y - yb) ** 2)\n",
    "    if q + w <= T * V:\n",
    "        print('YES')\n",
    "        break\n",
    "else:\n",
    "    print('NO')"
   ]
  },
  {
   "cell_type": "code",
   "execution_count": null,
   "metadata": {},
   "outputs": [],
   "source": []
  },
  {
   "cell_type": "code",
   "execution_count": null,
   "metadata": {},
   "outputs": [],
   "source": []
  },
  {
   "cell_type": "code",
   "execution_count": null,
   "metadata": {},
   "outputs": [],
   "source": []
  },
  {
   "cell_type": "code",
   "execution_count": null,
   "metadata": {},
   "outputs": [],
   "source": []
  },
  {
   "cell_type": "code",
   "execution_count": null,
   "metadata": {},
   "outputs": [],
   "source": []
  },
  {
   "cell_type": "code",
   "execution_count": null,
   "metadata": {},
   "outputs": [],
   "source": []
  },
  {
   "cell_type": "code",
   "execution_count": null,
   "metadata": {},
   "outputs": [],
   "source": []
  },
  {
   "cell_type": "code",
   "execution_count": null,
   "metadata": {},
   "outputs": [],
   "source": []
  },
  {
   "cell_type": "code",
   "execution_count": null,
   "metadata": {},
   "outputs": [],
   "source": []
  }
 ],
 "metadata": {
  "kernelspec": {
   "display_name": "Python 3",
   "language": "python",
   "name": "python3"
  },
  "language_info": {
   "codemirror_mode": {
    "name": "ipython",
    "version": 3
   },
   "file_extension": ".py",
   "mimetype": "text/x-python",
   "name": "python",
   "nbconvert_exporter": "python",
   "pygments_lexer": "ipython3",
   "version": "3.7.3"
  }
 },
 "nbformat": 4,
 "nbformat_minor": 2
}
