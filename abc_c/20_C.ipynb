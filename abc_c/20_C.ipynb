{
 "cells": [
  {
   "cell_type": "markdown",
   "metadata": {},
   "source": [
    "# 29 - C\n",
    "\n",
    "https://atcoder.jp/contests/abc029/tasks/abc029_c"
   ]
  },
  {
   "cell_type": "code",
   "execution_count": 201,
   "metadata": {},
   "outputs": [],
   "source": [
    "N = 2"
   ]
  },
  {
   "cell_type": "code",
   "execution_count": 202,
   "metadata": {},
   "outputs": [
    {
     "name": "stdout",
     "output_type": "stream",
     "text": [
      "aa\n",
      "ab\n",
      "ac\n",
      "ba\n",
      "bb\n",
      "bc\n",
      "ca\n",
      "cb\n",
      "cc\n"
     ]
    }
   ],
   "source": [
    "from itertools import product\n",
    "\n",
    "for v in product('abc', repeat=N):\n",
    "    print(''.join(v))"
   ]
  },
  {
   "cell_type": "markdown",
   "metadata": {},
   "source": [
    "#### スクラッチで実装する場合：再帰関数"
   ]
  },
  {
   "cell_type": "code",
   "execution_count": 203,
   "metadata": {},
   "outputs": [
    {
     "name": "stdout",
     "output_type": "stream",
     "text": [
      "aa\n",
      "ab\n",
      "ac\n",
      "ba\n",
      "bb\n",
      "bc\n",
      "ca\n",
      "cb\n",
      "cc\n"
     ]
    }
   ],
   "source": [
    "def func(res, s):\n",
    "    if res == 0:\n",
    "        print(s)\n",
    "    else:\n",
    "        for c in 'abc':\n",
    "            func(res - 1, s + c)\n",
    "            \n",
    "func(N, '')"
   ]
  },
  {
   "cell_type": "markdown",
   "metadata": {},
   "source": [
    "# 28 - C\n",
    "\n",
    "https://atcoder.jp/contests/abc028/tasks/abc028_c"
   ]
  },
  {
   "cell_type": "code",
   "execution_count": 204,
   "metadata": {},
   "outputs": [],
   "source": [
    "a, b, c, d, e = [1, 2, 3, 4, 5]"
   ]
  },
  {
   "cell_type": "code",
   "execution_count": 205,
   "metadata": {},
   "outputs": [
    {
     "name": "stdout",
     "output_type": "stream",
     "text": [
      "10\n"
     ]
    }
   ],
   "source": [
    "print(e + max(a + d, b + c))"
   ]
  },
  {
   "cell_type": "markdown",
   "metadata": {},
   "source": [
    "# 27 - C\n",
    "\n",
    "https://atcoder.jp/contests/abc027/tasks/abc027_c"
   ]
  },
  {
   "cell_type": "code",
   "execution_count": 206,
   "metadata": {},
   "outputs": [],
   "source": [
    "N = 7"
   ]
  },
  {
   "cell_type": "code",
   "execution_count": 207,
   "metadata": {},
   "outputs": [
    {
     "name": "stdout",
     "output_type": "stream",
     "text": [
      "Aoki\n"
     ]
    }
   ],
   "source": [
    "from math import log2\n",
    "\n",
    "depth = int(log2(N)) + 1\n",
    "\n",
    "x = 1\n",
    "while True:\n",
    "    x = 2 * x + depth % 2\n",
    "    if x > N:\n",
    "        print('Aoki')\n",
    "        break\n",
    "\n",
    "    x = 2 * x + (1 - depth % 2)\n",
    "    if x > N:\n",
    "        print('Takahashi')\n",
    "        break"
   ]
  },
  {
   "cell_type": "code",
   "execution_count": 208,
   "metadata": {},
   "outputs": [
    {
     "name": "stdout",
     "output_type": "stream",
     "text": [
      "Aoki\n"
     ]
    }
   ],
   "source": [
    "from math import log2\n",
    "depth = int(log2(N)) + 1\n",
    "\n",
    "x = 1\n",
    "p = 0\n",
    "while True:\n",
    "    x = 2 * x + int((depth % 2) != p)\n",
    "    if x > N:\n",
    "        print(['Aoki', 'Takahashi'][p])\n",
    "        break\n",
    "    p ^= 1"
   ]
  },
  {
   "cell_type": "markdown",
   "metadata": {},
   "source": [
    "# 26 - C\n",
    "\n",
    "https://atcoder.jp/contests/abc026/tasks/abc026_c"
   ]
  },
  {
   "cell_type": "code",
   "execution_count": 209,
   "metadata": {},
   "outputs": [],
   "source": [
    "N = 7\n",
    "b = [1, 1, 2, 2, 3, 3]"
   ]
  },
  {
   "cell_type": "markdown",
   "metadata": {},
   "source": [
    "#### 手順1. 部下リストの作成"
   ]
  },
  {
   "cell_type": "code",
   "execution_count": 210,
   "metadata": {},
   "outputs": [
    {
     "data": {
      "text/plain": [
       "[[1, 2], [3, 4], [5, 6], [], [], [], []]"
      ]
     },
     "execution_count": 210,
     "metadata": {},
     "output_type": "execute_result"
    }
   ],
   "source": [
    "sub = [[] for _ in range(N)]\n",
    "for i in range(N - 1):\n",
    "    sub[b[i] - 1].append(i + 1)\n",
    "    \n",
    "sub"
   ]
  },
  {
   "cell_type": "markdown",
   "metadata": {},
   "source": [
    "#### 手順2. 給料の計算"
   ]
  },
  {
   "cell_type": "code",
   "execution_count": 211,
   "metadata": {},
   "outputs": [
    {
     "name": "stdout",
     "output_type": "stream",
     "text": [
      "7\n"
     ]
    }
   ],
   "source": [
    "p = [None] * N\n",
    "for i in reversed(range(N)):\n",
    "    if len(sub[i]) == 0:\n",
    "        p[i] = 1\n",
    "        continue\n",
    "        \n",
    "    max_p = 0\n",
    "    min_p = 10 ** 6\n",
    "    for j in sub[i]:\n",
    "        max_p = max(max_p, p[j])\n",
    "        min_p = min(min_p, p[j])\n",
    "    \n",
    "    p[i] = max_p + min_p + 1\n",
    "    \n",
    "print(p[0])"
   ]
  },
  {
   "cell_type": "markdown",
   "metadata": {},
   "source": [
    "#### 別解：再帰"
   ]
  },
  {
   "cell_type": "code",
   "execution_count": 212,
   "metadata": {},
   "outputs": [
    {
     "data": {
      "text/plain": [
       "7"
      ]
     },
     "execution_count": 212,
     "metadata": {},
     "output_type": "execute_result"
    }
   ],
   "source": [
    "def dfs(idx):\n",
    "    if len(sub[idx]) == 0:\n",
    "        return 1\n",
    "    \n",
    "    max_p = 0\n",
    "    min_p = 10 ** 6\n",
    "    for j in sub[idx]:\n",
    "        p = dfs(j)\n",
    "        max_p = max(max_p, p)\n",
    "        min_p = min(min_p, p)\n",
    "        \n",
    "    return max_p + min_p + 1\n",
    "        \n",
    "dfs(0)"
   ]
  },
  {
   "cell_type": "markdown",
   "metadata": {},
   "source": [
    "# 25 - C\n",
    "\n",
    "https://atcoder.jp/contests/abc025/tasks/abc025_c"
   ]
  },
  {
   "cell_type": "code",
   "execution_count": 213,
   "metadata": {},
   "outputs": [],
   "source": [
    "b1 = [0, 15, 0]\n",
    "b2 = [0, 0, 25]\n",
    "c1 = [20, 10]\n",
    "c2 = [0, 0]\n",
    "c3 = [25, 0]\n",
    "\n",
    "total = sum(b1 + b2 + c1 + c2 + c3)\n",
    "memo = {}"
   ]
  },
  {
   "cell_type": "code",
   "execution_count": 214,
   "metadata": {},
   "outputs": [],
   "source": [
    "def score(s):\n",
    "    cnt = 0\n",
    "    cnt += sum(b1[j] for j in range(3) if s[j] == s[j + 3])\n",
    "    cnt += sum(b2[j] for j in range(3) if s[j + 3] == s[j + 6])\n",
    "    cnt += sum(c1[j] for j in range(2) if s[j] == s[j + 1])\n",
    "    cnt += sum(c2[j] for j in range(2) if s[j + 3] == s[j + 4])\n",
    "    cnt += sum(c3[j] for j in range(2) if s[j + 6] == s[j + 7])\n",
    "    \n",
    "    return cnt"
   ]
  },
  {
   "cell_type": "code",
   "execution_count": 215,
   "metadata": {},
   "outputs": [
    {
     "name": "stdout",
     "output_type": "stream",
     "text": [
      "15\n",
      "80\n"
     ]
    }
   ],
   "source": [
    "def solve(x, turn):\n",
    "    if str(x) in memo:\n",
    "        return memo[str(x)]\n",
    "    \n",
    "    if turn == 10:\n",
    "        return score(x)\n",
    "    \n",
    "    scr_max = 0\n",
    "    scr_min = 10 ** 9\n",
    "    \n",
    "    for i in range(9):\n",
    "        if x[i] is not None:\n",
    "            continue\n",
    "            \n",
    "        x[i] = turn % 2\n",
    "        scr = solve(x, turn + 1)\n",
    "        x[i] = None\n",
    "        \n",
    "        scr_max = max(scr_max, scr)\n",
    "        scr_min = min(scr_min, scr)\n",
    "        \n",
    "    ret = scr_max if turn % 2 == 1 else scr_min\n",
    "    memo[str(x)] = ret\n",
    "    return ret\n",
    "\n",
    "ans = solve([None] * 9, 1)\n",
    "print(*[ans, total - ans], sep='\\n')"
   ]
  },
  {
   "cell_type": "markdown",
   "metadata": {},
   "source": [
    "# 24 - C\n",
    "\n",
    "https://atcoder.jp/contests/abc024/tasks/abc024_c"
   ]
  },
  {
   "cell_type": "code",
   "execution_count": 216,
   "metadata": {},
   "outputs": [],
   "source": [
    "N, D, K = 10, 10, 3\n",
    "LR = [[1, 5], [3, 6], [7, 10], [5, 8], [4, 4], \n",
    "      [1, 4], [2, 9], [1, 3], [1, 1], [4, 5]]\n",
    "ST = [[1, 6], [2, 7], [10, 1]]"
   ]
  },
  {
   "cell_type": "code",
   "execution_count": 217,
   "metadata": {},
   "outputs": [
    {
     "name": "stdout",
     "output_type": "stream",
     "text": [
      "2\n",
      "4\n",
      "8\n"
     ]
    }
   ],
   "source": [
    "ans = []\n",
    "for s, t in ST:\n",
    "    x = s\n",
    "    for d, (l, r) in enumerate(LR):\n",
    "        if l <= x <= r:\n",
    "            x = r if s < t else l\n",
    "        if (s < t <= x) or (x <= t < s):\n",
    "            ans.append(d + 1)\n",
    "            break\n",
    "    \n",
    "print(*ans, sep='\\n')"
   ]
  },
  {
   "cell_type": "markdown",
   "metadata": {},
   "source": [
    "# 23 - C\n",
    "\n",
    "https://atcoder.jp/contests/abc023/tasks/abc023_c"
   ]
  },
  {
   "cell_type": "code",
   "execution_count": 218,
   "metadata": {},
   "outputs": [],
   "source": [
    "R, C, K = 3, 5, 3\n",
    "N = 5\n",
    "r = [1, 2, 2, 3, 3]\n",
    "c = [2, 1, 5, 2, 5]"
   ]
  },
  {
   "cell_type": "markdown",
   "metadata": {},
   "source": [
    "#### O(RC(R + C) + N)"
   ]
  },
  {
   "cell_type": "code",
   "execution_count": 219,
   "metadata": {},
   "outputs": [
    {
     "name": "stdout",
     "output_type": "stream",
     "text": [
      "5\n"
     ]
    }
   ],
   "source": [
    "ans = 0\n",
    "for i in range(1, R + 1):\n",
    "    x = set(n for n, q in enumerate(r) if q == i)\n",
    "    for j in range(1, C + 1):\n",
    "        y = set(m for m, w in enumerate(c) if w == j)\n",
    "        if len(x | y) == K:\n",
    "            ans += 1\n",
    "            \n",
    "print(ans)"
   ]
  },
  {
   "cell_type": "markdown",
   "metadata": {},
   "source": [
    "#### O(R + C + N)"
   ]
  },
  {
   "cell_type": "code",
   "execution_count": 220,
   "metadata": {},
   "outputs": [
    {
     "name": "stdout",
     "output_type": "stream",
     "text": [
      "[1, 2, 2] [1, 2, 0, 0, 2]\n"
     ]
    }
   ],
   "source": [
    "a = [0] * R\n",
    "b = [0] * C\n",
    "\n",
    "for i, j in zip(r, c):\n",
    "    a[i - 1] += 1\n",
    "    b[j - 1] += 1\n",
    "\n",
    "print(a, b)"
   ]
  },
  {
   "cell_type": "markdown",
   "metadata": {},
   "source": [
    "飴がn個ある行（列）がm個ある"
   ]
  },
  {
   "cell_type": "code",
   "execution_count": 221,
   "metadata": {},
   "outputs": [
    {
     "name": "stdout",
     "output_type": "stream",
     "text": [
      "Counter({2: 2, 1: 1}) Counter({2: 2, 0: 2, 1: 1})\n"
     ]
    }
   ],
   "source": [
    "from collections import Counter\n",
    "x = Counter(a)\n",
    "y = Counter(b)\n",
    "print(x, y)"
   ]
  },
  {
   "cell_type": "code",
   "execution_count": 222,
   "metadata": {},
   "outputs": [
    {
     "data": {
      "text/plain": [
       "4"
      ]
     },
     "execution_count": 222,
     "metadata": {},
     "output_type": "execute_result"
    }
   ],
   "source": [
    "ans = sum(x[i] * y[K - i] for i in range(K + 1))\n",
    "ans"
   ]
  },
  {
   "cell_type": "markdown",
   "metadata": {},
   "source": [
    "始点に飴がある場合を取り出して，別個処理する．"
   ]
  },
  {
   "cell_type": "code",
   "execution_count": 223,
   "metadata": {},
   "outputs": [
    {
     "name": "stdout",
     "output_type": "stream",
     "text": [
      "5\n"
     ]
    }
   ],
   "source": [
    "for i, j in zip(r, c):\n",
    "    t = a[i - 1] + b[j - 1]\n",
    "    if t == K:\n",
    "        ans -= 1\n",
    "    elif t == K + 1:\n",
    "        ans += 1\n",
    "        \n",
    "print(ans)"
   ]
  },
  {
   "cell_type": "markdown",
   "metadata": {},
   "source": [
    "# 22 - C\n",
    "\n",
    "https://atcoder.jp/contests/abc022/tasks/abc022_c"
   ]
  },
  {
   "cell_type": "code",
   "execution_count": 224,
   "metadata": {},
   "outputs": [],
   "source": [
    "N, M = 5, 7\n",
    "edges = [[1, 2, 2], [1, 4, 1], [2, 3, 7], [1, 5, 12],\n",
    "         [3, 5, 2], [2, 5, 3], [3, 4, 5]]"
   ]
  },
  {
   "cell_type": "code",
   "execution_count": 225,
   "metadata": {},
   "outputs": [
    {
     "data": {
      "text/plain": [
       "[[0, 2, inf, 1, 12],\n",
       " [2, 0, 7, inf, 3],\n",
       " [inf, 7, 0, 5, 2],\n",
       " [1, inf, 5, 0, inf],\n",
       " [12, 3, 2, inf, 0]]"
      ]
     },
     "execution_count": 225,
     "metadata": {},
     "output_type": "execute_result"
    }
   ],
   "source": [
    "graph = [[float('inf')] * N for _ in range(N)]\n",
    "for i in range(N):\n",
    "    graph[i][i] = 0\n",
    "\n",
    "for u, v, l in edges:\n",
    "    graph[u - 1][v - 1] = l\n",
    "    graph[v - 1][u - 1] = l\n",
    "    \n",
    "graph"
   ]
  },
  {
   "cell_type": "markdown",
   "metadata": {},
   "source": [
    "#### Warshall-Floyd's algorithm\n",
    "\n",
    "全点対間　最短経路問題　(All Pairs Shortest Path)"
   ]
  },
  {
   "cell_type": "code",
   "execution_count": 226,
   "metadata": {},
   "outputs": [
    {
     "data": {
      "text/plain": [
       "[[0, 2, inf, 1, 12],\n",
       " [2, 0, 5, 10, 3],\n",
       " [inf, 5, 0, 5, 2],\n",
       " [1, 10, 5, 0, 7],\n",
       " [12, 3, 2, 7, 0]]"
      ]
     },
     "execution_count": 226,
     "metadata": {},
     "output_type": "execute_result"
    }
   ],
   "source": [
    "for k in range(1, N):\n",
    "    for i in range(1, N):\n",
    "        if graph[i][k] == float('inf'):\n",
    "            continue\n",
    "        for j in range(1, N):\n",
    "            if graph[k][j] == float('inf'):\n",
    "                continue\n",
    "            graph[i][j] = min(graph[i][j], graph[i][k] + graph[k][j])\n",
    "            \n",
    "graph"
   ]
  },
  {
   "cell_type": "code",
   "execution_count": 227,
   "metadata": {},
   "outputs": [
    {
     "data": {
      "text/plain": [
       "[inf, 13, 17, inf, inf, 20]"
      ]
     },
     "execution_count": 227,
     "metadata": {},
     "output_type": "execute_result"
    }
   ],
   "source": [
    "from itertools import combinations\n",
    "\n",
    "ans = []\n",
    "for i, j in combinations(range(1, N), 2):\n",
    "    ans.append(graph[0][i] + graph[i][j] + graph[j][0])\n",
    "ans"
   ]
  },
  {
   "cell_type": "code",
   "execution_count": 228,
   "metadata": {},
   "outputs": [
    {
     "name": "stdout",
     "output_type": "stream",
     "text": [
      "13\n"
     ]
    }
   ],
   "source": [
    "print(min(ans) if min(ans) < float('inf') else -1)"
   ]
  },
  {
   "cell_type": "markdown",
   "metadata": {},
   "source": [
    "#### 自前のものは遅すぎて通らないので，scipyを使う\n",
    "\n",
    "#### そのために，グラフの持ち方を変える"
   ]
  },
  {
   "cell_type": "code",
   "execution_count": 238,
   "metadata": {},
   "outputs": [],
   "source": [
    "N, M = 5, 7\n",
    "edges = [[1, 2, 2], [1, 4, 1], [2, 3, 7], [1, 5, 12],\n",
    "         [3, 5, 2], [2, 5, 3], [3, 4, 5]]"
   ]
  },
  {
   "cell_type": "code",
   "execution_count": 239,
   "metadata": {},
   "outputs": [
    {
     "name": "stdout",
     "output_type": "stream",
     "text": [
      "[0, inf, inf, inf, inf]\n",
      "[inf, 0, 7, inf, 3]\n",
      "[inf, 7, 0, 5, 2]\n",
      "[inf, inf, 5, 0, inf]\n",
      "[inf, 3, 2, inf, inf]\n",
      "\n",
      "[inf, 2, inf, 1, 12]\n"
     ]
    }
   ],
   "source": [
    "graph = [[float('inf')] * N for _ in range(N)]\n",
    "path = [float('inf')] * N\n",
    "\n",
    "for i in range(N - 1):\n",
    "    graph[i][i] = 0\n",
    "\n",
    "for u, v, l in edges:\n",
    "    if u == 1 or v == 1:\n",
    "        path[max(u, v) - 1] = l\n",
    "    else:\n",
    "        graph[u - 1][v - 1] = l\n",
    "        graph[v - 1][u - 1] = l\n",
    "        \n",
    "print(*graph, sep='\\n')\n",
    "print()\n",
    "print(path)"
   ]
  },
  {
   "cell_type": "code",
   "execution_count": 240,
   "metadata": {},
   "outputs": [
    {
     "data": {
      "text/plain": [
       "array([[ 0., inf, inf, inf, inf],\n",
       "       [inf,  0.,  5., 10.,  3.],\n",
       "       [inf,  5.,  0.,  5.,  2.],\n",
       "       [inf, 10.,  5.,  0.,  7.],\n",
       "       [inf,  3.,  2.,  7.,  0.]])"
      ]
     },
     "execution_count": 240,
     "metadata": {},
     "output_type": "execute_result"
    }
   ],
   "source": [
    "from scipy.sparse.csgraph import floyd_warshall\n",
    "\n",
    "graph = floyd_warshall(graph, directed=False)\n",
    "graph"
   ]
  },
  {
   "cell_type": "code",
   "execution_count": 242,
   "metadata": {},
   "outputs": [
    {
     "name": "stdout",
     "output_type": "stream",
     "text": [
      "13\n"
     ]
    },
    {
     "data": {
      "text/plain": [
       "[inf, 13.0, 17.0, inf, inf, 20.0]"
      ]
     },
     "execution_count": 242,
     "metadata": {},
     "output_type": "execute_result"
    }
   ],
   "source": [
    "from itertools import combinations\n",
    "\n",
    "ans = []\n",
    "for i, j in combinations(range(1, N), 2):\n",
    "    ans.append(path[i] + graph[i][j] + path[j])\n",
    "print(int(min(ans)) if min(ans) < float('inf') else -1)\n",
    "ans"
   ]
  },
  {
   "cell_type": "markdown",
   "metadata": {},
   "source": [
    "# 21 - C\n",
    "\n",
    "https://atcoder.jp/contests/abc021/tasks/abc021_c"
   ]
  },
  {
   "cell_type": "code",
   "execution_count": 9,
   "metadata": {},
   "outputs": [
    {
     "data": {
      "text/plain": [
       "[[0, 1], [0, 2], [3, 1], [3, 2], [3, 4], [3, 5], [6, 4], [6, 5]]"
      ]
     },
     "execution_count": 9,
     "metadata": {},
     "output_type": "execute_result"
    }
   ],
   "source": [
    "N = 7\n",
    "a, b = 1, 7\n",
    "M = 8\n",
    "edges = [[1, 2], [1, 3], [4, 2], [4, 3], [4, 5],\n",
    "         [4, 6], [7, 5], [7, 6]]\n",
    "\n",
    "a -= 1\n",
    "b -= 1\n",
    "edges = [[i - 1, j - 1] for i, j in edges]\n",
    "edges"
   ]
  },
  {
   "cell_type": "markdown",
   "metadata": {},
   "source": [
    "#### 全ての頂点への最短経路DAGを構築"
   ]
  },
  {
   "cell_type": "code",
   "execution_count": 10,
   "metadata": {},
   "outputs": [
    {
     "data": {
      "text/plain": [
       "[0, 1, 1, 2, 3, 3, 4]"
      ]
     },
     "execution_count": 10,
     "metadata": {},
     "output_type": "execute_result"
    }
   ],
   "source": [
    "from heapq import heappop, heappush\n",
    "INF = float('inf')\n",
    "\n",
    "d = [INF] * N\n",
    "d[a] = 0\n",
    "\n",
    "visited = [False] * N\n",
    "visited[a] = True\n",
    "\n",
    "# Priority queue (cost, node)\n",
    "pq = []\n",
    "heappush(pq, (0, a))\n",
    "\n",
    "while len(pq) > 0:\n",
    "    cost, u = heappop(pq)\n",
    "    visited[u] = True\n",
    "    \n",
    "    if d[u] < cost:\n",
    "        continue\n",
    "    \n",
    "    # Search nodes connected with target node 'u'\n",
    "    for v, w in edges:\n",
    "        if v != u and w != u:\n",
    "            continue\n",
    "            \n",
    "        node = w if v == u else v\n",
    "        if visited[node]:\n",
    "            continue\n",
    "            \n",
    "        # Edge cost == 1\n",
    "        if d[node] > d[u] + 1:\n",
    "            d[node] = d[u] + 1\n",
    "            heappush(pq, (d[node], node))\n",
    "            \n",
    "d"
   ]
  },
  {
   "cell_type": "markdown",
   "metadata": {},
   "source": [
    "#### 最短経路のDAGを作る"
   ]
  },
  {
   "cell_type": "code",
   "execution_count": 11,
   "metadata": {},
   "outputs": [
    {
     "data": {
      "text/plain": [
       "[[0, 1], [0, 2], [1, 3], [2, 3], [3, 4], [3, 5], [4, 6], [5, 6]]"
      ]
     },
     "execution_count": 11,
     "metadata": {},
     "output_type": "execute_result"
    }
   ],
   "source": [
    "dag_edges = []\n",
    "for i, j in edges:\n",
    "    if d[i] + 1 == d[j]:\n",
    "        dag_edges.append([i, j])\n",
    "    elif d[i] == d[j] + 1:\n",
    "        dag_edges.append([j, i])\n",
    "        \n",
    "dag_edges"
   ]
  },
  {
   "cell_type": "markdown",
   "metadata": {},
   "source": [
    "#### トポロジカルソート"
   ]
  },
  {
   "cell_type": "code",
   "execution_count": 12,
   "metadata": {},
   "outputs": [
    {
     "data": {
      "text/plain": [
       "[0, 1, 1, 2, 1, 1, 2]"
      ]
     },
     "execution_count": 12,
     "metadata": {},
     "output_type": "execute_result"
    }
   ],
   "source": [
    "visited = [False] * N\n",
    "\n",
    "indeg = [0] * N\n",
    "for _, j in dag_edges:\n",
    "    indeg[j] += 1\n",
    "    \n",
    "indeg"
   ]
  },
  {
   "cell_type": "code",
   "execution_count": 13,
   "metadata": {},
   "outputs": [],
   "source": [
    "from collections import deque\n",
    "\n",
    "def bfs(s):\n",
    "    q = deque()\n",
    "    q.append(s)\n",
    "    visited[s] = True\n",
    "    \n",
    "    while len(q) > 0:\n",
    "        u = q.popleft()\n",
    "        dag.append(u)\n",
    "        \n",
    "        for c, v in dag_edges:\n",
    "            if c != u:\n",
    "                continue\n",
    "            \n",
    "            indeg[v] -= 1\n",
    "            if indeg[v] == 0 and not visited[v]:\n",
    "                visited[v] = True\n",
    "                q.append(v)"
   ]
  },
  {
   "cell_type": "code",
   "execution_count": 6,
   "metadata": {},
   "outputs": [
    {
     "data": {
      "text/plain": [
       "[0, 1, 2, 3, 4, 5, 6]"
      ]
     },
     "execution_count": 6,
     "metadata": {},
     "output_type": "execute_result"
    }
   ],
   "source": [
    "dag = []\n",
    "for i in range(N):\n",
    "    if indeg[i] == 0 and not visited[i]:\n",
    "        bfs(i)\n",
    "        \n",
    "dag"
   ]
  },
  {
   "cell_type": "markdown",
   "metadata": {},
   "source": [
    "#### 最後に，DPで求める"
   ]
  },
  {
   "cell_type": "code",
   "execution_count": 7,
   "metadata": {},
   "outputs": [
    {
     "data": {
      "text/plain": [
       "[1, 1, 1, 2, 2, 2, 4]"
      ]
     },
     "execution_count": 7,
     "metadata": {},
     "output_type": "execute_result"
    }
   ],
   "source": [
    "MOD = 10 ** 9 + 7\n",
    "ans = [0] * N\n",
    "ans[a] = 1\n",
    "\n",
    "for d in range(N):\n",
    "    for i, j in dag_edges:\n",
    "        if d == i:\n",
    "            ans[j] += ans[d]\n",
    "            ans[j] %= MOD\n",
    "            \n",
    "ans"
   ]
  },
  {
   "cell_type": "code",
   "execution_count": 14,
   "metadata": {},
   "outputs": [
    {
     "name": "stdout",
     "output_type": "stream",
     "text": [
      "4\n"
     ]
    }
   ],
   "source": [
    "print(ans[b])"
   ]
  },
  {
   "cell_type": "markdown",
   "metadata": {},
   "source": [
    "# 20 - C\n",
    "\n",
    "https://atcoder.jp/contests/abc020/tasks/abc020_c"
   ]
  },
  {
   "cell_type": "code",
   "execution_count": 108,
   "metadata": {},
   "outputs": [
    {
     "name": "stdout",
     "output_type": "stream",
     "text": [
      "ans: 8\n"
     ]
    }
   ],
   "source": [
    "H, W, T = 2, 3, 10\n",
    "s = \"\"\"S## .#G\"\"\".split()\n",
    "\n",
    "print('ans: 8')"
   ]
  },
  {
   "cell_type": "code",
   "execution_count": 152,
   "metadata": {},
   "outputs": [
    {
     "name": "stdout",
     "output_type": "stream",
     "text": [
      "ans: 3\n"
     ]
    }
   ],
   "source": [
    "H, W, T = 3, 4, 7\n",
    "s = \"\"\"S##G .##. ..#.\"\"\".split()\n",
    "\n",
    "print('ans: 3')"
   ]
  },
  {
   "cell_type": "markdown",
   "metadata": {},
   "source": [
    "#### 以下，ダメな解答"
   ]
  },
  {
   "cell_type": "code",
   "execution_count": 153,
   "metadata": {},
   "outputs": [],
   "source": [
    "for i in range(H):\n",
    "    for j in range(W):\n",
    "        if s[i][j] == 'S':\n",
    "            start = (i + 1, j + 1)\n",
    "        elif s[i][j] == 'G':\n",
    "            goal = (i + 1, j + 1)"
   ]
  },
  {
   "cell_type": "code",
   "execution_count": 154,
   "metadata": {},
   "outputs": [],
   "source": [
    "def point(i, j):\n",
    "    x = s[i][j]\n",
    "    if x in '.G':\n",
    "        return 1\n",
    "    elif x in 'S':\n",
    "        return 0\n",
    "    else:\n",
    "        return 100"
   ]
  },
  {
   "cell_type": "code",
   "execution_count": 155,
   "metadata": {},
   "outputs": [],
   "source": [
    "INF = 10 ** 9 + 1\n",
    "dp = [[0] * (W + 1)] + [[INF] * (W + 1) for _ in range(H)]\n",
    "dp[start[0]][start[1]] = 0\n",
    "\n",
    "for i in range(H):\n",
    "    for j in range(W):\n",
    "        if j == 0:\n",
    "            dp[i + 1][j + 1] = dp[i][j + 1] + point(i, j)\n",
    "        elif i == 0:\n",
    "            dp[i + 1][j + 1] = dp[i + 1][j] + point(i, j)\n",
    "        else:\n",
    "            dp[i + 1][j + 1] = min(dp[i][j + 1], dp[i + 1][j]) + point(i, j)"
   ]
  },
  {
   "cell_type": "code",
   "execution_count": 157,
   "metadata": {},
   "outputs": [
    {
     "data": {
      "text/plain": [
       "(2, 1)"
      ]
     },
     "execution_count": 157,
     "metadata": {},
     "output_type": "execute_result"
    }
   ],
   "source": [
    "b_num = dp[goal[0]][goal[1]] // 100\n",
    "w_num = dp[goal[0]][goal[1]] - b_num * 100\n",
    "\n",
    "b_num, w_num"
   ]
  },
  {
   "cell_type": "code",
   "execution_count": 158,
   "metadata": {},
   "outputs": [
    {
     "data": {
      "text/plain": [
       "3"
      ]
     },
     "execution_count": 158,
     "metadata": {},
     "output_type": "execute_result"
    }
   ],
   "source": [
    "x = (T - w_num) // b_num\n",
    "x"
   ]
  },
  {
   "cell_type": "markdown",
   "metadata": {},
   "source": [
    "## ここからが模範解答"
   ]
  },
  {
   "cell_type": "markdown",
   "metadata": {},
   "source": [
    "#### まずはグラフを作る"
   ]
  },
  {
   "cell_type": "code",
   "execution_count": 1,
   "metadata": {},
   "outputs": [
    {
     "name": "stdout",
     "output_type": "stream",
     "text": [
      "ans: 8\n"
     ]
    }
   ],
   "source": [
    "H, W, T = 2, 3, 10\n",
    "s = \"\"\"S## .#G\"\"\".split()\n",
    "\n",
    "print('ans: 8')"
   ]
  },
  {
   "cell_type": "code",
   "execution_count": 2,
   "metadata": {},
   "outputs": [
    {
     "data": {
      "text/plain": [
       "((0, 0), (1, 2), [[1, -1, -1], [1, -1, 1]])"
      ]
     },
     "execution_count": 2,
     "metadata": {},
     "output_type": "execute_result"
    }
   ],
   "source": [
    "graph = [[float('inf')] * W for _ in range(H)]\n",
    "for i in range(H):\n",
    "    for j in range(W):\n",
    "        if s[i][j] == 'S':\n",
    "            start = (i, j)\n",
    "        if s[i][j] == 'G':\n",
    "            goal = (i, j)\n",
    "        if s[i][j] != '#':\n",
    "            # S, G, .\n",
    "            graph[i][j] = 1\n",
    "        else:\n",
    "            graph[i][j] = -1\n",
    "            \n",
    "start, goal, graph"
   ]
  },
  {
   "cell_type": "markdown",
   "metadata": {},
   "source": [
    "## Dijkstra"
   ]
  },
  {
   "cell_type": "code",
   "execution_count": 3,
   "metadata": {},
   "outputs": [],
   "source": [
    "from heapq import heappop, heappush\n",
    "\n",
    "def dijkstra(x):\n",
    "    visited = [[False] * W for _ in range(H)]\n",
    "    offset = [(1, 0), (-1, 0), (0, 1), (0, -1)]\n",
    "\n",
    "    pq = []\n",
    "    heappush(pq, (0, start))\n",
    "\n",
    "    while pq:\n",
    "        cost, (i, j) = heappop(pq)\n",
    "\n",
    "        if visited[i][j]:\n",
    "            continue\n",
    "\n",
    "        visited[i][j] = True\n",
    "\n",
    "        if (i, j) == goal:\n",
    "            return cost <= T\n",
    "\n",
    "        for dx, dy in offset:\n",
    "            nx = i + dx\n",
    "            ny = j + dy\n",
    "            if 0 <= nx < H and 0 <= ny < W:\n",
    "                nc = cost + (x if graph[nx][ny] == -1 else 1)\n",
    "                heappush(pq, (nc, (nx, ny)))\n",
    "\n",
    "    return False"
   ]
  },
  {
   "cell_type": "markdown",
   "metadata": {},
   "source": [
    "## 二分探索"
   ]
  },
  {
   "cell_type": "code",
   "execution_count": 4,
   "metadata": {},
   "outputs": [
    {
     "name": "stdout",
     "output_type": "stream",
     "text": [
      "8\n"
     ]
    }
   ],
   "source": [
    "low = 1\n",
    "high = 10 ** 9 + 7\n",
    "\n",
    "\n",
    "while high - low > 1:\n",
    "    mid = (low + high) // 2\n",
    "    if dijkstra(mid):\n",
    "        low = mid\n",
    "    else:\n",
    "        high = mid\n",
    "        \n",
    "print(low)"
   ]
  },
  {
   "cell_type": "code",
   "execution_count": null,
   "metadata": {},
   "outputs": [],
   "source": []
  }
 ],
 "metadata": {
  "kernelspec": {
   "display_name": "Python 3",
   "language": "python",
   "name": "python3"
  },
  "language_info": {
   "codemirror_mode": {
    "name": "ipython",
    "version": 3
   },
   "file_extension": ".py",
   "mimetype": "text/x-python",
   "name": "python",
   "nbconvert_exporter": "python",
   "pygments_lexer": "ipython3",
   "version": "3.7.3"
  }
 },
 "nbformat": 4,
 "nbformat_minor": 2
}
