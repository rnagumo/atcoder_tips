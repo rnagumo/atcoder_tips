{
 "cells": [
  {
   "cell_type": "markdown",
   "metadata": {},
   "source": [
    "# 59 - C\n",
    "\n",
    "https://atcoder.jp/contests/abc059/tasks/arc072_a\n",
    "\n",
    "解けなかった．難しく考えすぎ"
   ]
  },
  {
   "cell_type": "code",
   "execution_count": 68,
   "metadata": {},
   "outputs": [
    {
     "name": "stdout",
     "output_type": "stream",
     "text": [
      "ans: 4\n"
     ]
    }
   ],
   "source": [
    "n = 4\n",
    "a = [1, -3, 1, 0]\n",
    "\n",
    "print('ans: 4')"
   ]
  },
  {
   "cell_type": "code",
   "execution_count": 72,
   "metadata": {},
   "outputs": [
    {
     "name": "stdout",
     "output_type": "stream",
     "text": [
      "ans: 0\n"
     ]
    }
   ],
   "source": [
    "n = 5\n",
    "a = [3, -6, 4, -5, 7]\n",
    "\n",
    "print('ans: 0')"
   ]
  },
  {
   "cell_type": "code",
   "execution_count": 80,
   "metadata": {},
   "outputs": [
    {
     "name": "stdout",
     "output_type": "stream",
     "text": [
      "[-1, 3, 6, 8, 3, 7]\n",
      "ans: 8\n"
     ]
    }
   ],
   "source": [
    "n = 6\n",
    "a = [-1, 4, 3, 2, -5, 4]\n",
    "\n",
    "print(list(accumulate(a)))\n",
    "print('ans: 8')"
   ]
  },
  {
   "cell_type": "code",
   "execution_count": 81,
   "metadata": {},
   "outputs": [
    {
     "name": "stdout",
     "output_type": "stream",
     "text": [
      "8\n"
     ]
    }
   ],
   "source": [
    "results = []\n",
    "for sign in [1, -1]:\n",
    "    ans = 0\n",
    "    acc = 0\n",
    "    for v in a:\n",
    "        acc += v\n",
    "        if acc * sign <= 0:\n",
    "            ans += abs(acc - sign)\n",
    "            acc = sign\n",
    "        sign *= -1\n",
    "    results.append(ans)\n",
    "\n",
    "print(min(results))"
   ]
  },
  {
   "cell_type": "markdown",
   "metadata": {},
   "source": [
    "# 58 - C\n",
    "\n",
    "https://atcoder.jp/contests/abc058/tasks/arc071_a"
   ]
  },
  {
   "cell_type": "code",
   "execution_count": 82,
   "metadata": {},
   "outputs": [],
   "source": [
    "n = 3\n",
    "s = ['cbaa', 'daacc', 'acacac']"
   ]
  },
  {
   "cell_type": "code",
   "execution_count": 89,
   "metadata": {},
   "outputs": [],
   "source": [
    "cnt = []\n",
    "for i in range(ord('a'), ord('z') + 1):\n",
    "     cnt.append(min(v.count(chr(i)) for v in s))"
   ]
  },
  {
   "cell_type": "code",
   "execution_count": 93,
   "metadata": {},
   "outputs": [
    {
     "name": "stdout",
     "output_type": "stream",
     "text": [
      "aac\n"
     ]
    }
   ],
   "source": [
    "ans = ''\n",
    "for i, v in enumerate(cnt):\n",
    "    ans += chr(97 + i) * v\n",
    "    \n",
    "print(ans)"
   ]
  },
  {
   "cell_type": "markdown",
   "metadata": {},
   "source": [
    "#### Counterを使った解答"
   ]
  },
  {
   "cell_type": "code",
   "execution_count": 94,
   "metadata": {},
   "outputs": [
    {
     "name": "stdout",
     "output_type": "stream",
     "text": [
      "aac\n"
     ]
    }
   ],
   "source": [
    "from collections import Counter\n",
    "\n",
    "c = Counter(s[0])\n",
    "for v in s[1:]:\n",
    "    c &= Counter(v)\n",
    "print(''.join(sorted(c.elements())))"
   ]
  },
  {
   "cell_type": "markdown",
   "metadata": {},
   "source": [
    "# 57 - C\n",
    "\n",
    "https://atcoder.jp/contests/abc057/tasks/abc057_c"
   ]
  },
  {
   "cell_type": "code",
   "execution_count": 140,
   "metadata": {},
   "outputs": [
    {
     "name": "stdout",
     "output_type": "stream",
     "text": [
      "ans: 6\n"
     ]
    }
   ],
   "source": [
    "N = 9876543210\n",
    "print('ans: 6')"
   ]
  },
  {
   "cell_type": "code",
   "execution_count": 119,
   "metadata": {},
   "outputs": [
    {
     "name": "stdout",
     "output_type": "stream",
     "text": [
      "ans: 2\n"
     ]
    }
   ],
   "source": [
    "N = 121\n",
    "print('ans: 2')"
   ]
  },
  {
   "cell_type": "code",
   "execution_count": 128,
   "metadata": {},
   "outputs": [
    {
     "name": "stdout",
     "output_type": "stream",
     "text": [
      "ans: 1\n"
     ]
    }
   ],
   "source": [
    "N = 1\n",
    "print('ans: 1')"
   ]
  },
  {
   "cell_type": "code",
   "execution_count": 133,
   "metadata": {},
   "outputs": [
    {
     "name": "stdout",
     "output_type": "stream",
     "text": [
      "1\n"
     ]
    }
   ],
   "source": [
    "ans = []\n",
    "for i in range(1, int(N ** 0.5) + 1):\n",
    "    if i * (N // i) == N:\n",
    "        ans.append(max(len(str(i)), len(str(N // i))))\n",
    "print(min(ans))"
   ]
  },
  {
   "cell_type": "markdown",
   "metadata": {},
   "source": [
    "掛け算の両者の桁数が小さくなれば良い．  \n",
    "両者の桁数の最も小さいものは，sqrt同士の掛け算である．  \n",
    "従って，sqrtの値に近いもの同士の掛け算を求めれば良い．"
   ]
  },
  {
   "cell_type": "code",
   "execution_count": 142,
   "metadata": {},
   "outputs": [
    {
     "name": "stdout",
     "output_type": "stream",
     "text": [
      "6\n"
     ]
    }
   ],
   "source": [
    "v = round(N ** 0.5)\n",
    "while N % v != 0:\n",
    "    v -= 1\n",
    "print(len(str(N // v)))"
   ]
  },
  {
   "cell_type": "markdown",
   "metadata": {},
   "source": [
    "足していく方式でも同様の結果は得られるが，計算量が O(N) ~ 10^10 に近づくので間に合わない．"
   ]
  },
  {
   "cell_type": "code",
   "execution_count": 143,
   "metadata": {},
   "outputs": [
    {
     "name": "stdout",
     "output_type": "stream",
     "text": [
      "6\n"
     ]
    }
   ],
   "source": [
    "v = round(N ** 0.5)\n",
    "while N % v != 0:\n",
    "    v += 1\n",
    "print(len(str(v)))"
   ]
  },
  {
   "cell_type": "markdown",
   "metadata": {},
   "source": [
    "# 56 - C\n",
    "\n",
    "https://atcoder.jp/contests/abc056/tasks/arc070_a"
   ]
  },
  {
   "cell_type": "code",
   "execution_count": 152,
   "metadata": {},
   "outputs": [
    {
     "name": "stdout",
     "output_type": "stream",
     "text": [
      "2\n"
     ]
    }
   ],
   "source": [
    "X = 2\n",
    "\n",
    "ans = 0\n",
    "cnt = 0\n",
    "while ans < X:\n",
    "    cnt += 1\n",
    "    ans += cnt\n",
    "    \n",
    "print(cnt)"
   ]
  },
  {
   "cell_type": "code",
   "execution_count": 154,
   "metadata": {},
   "outputs": [
    {
     "name": "stdout",
     "output_type": "stream",
     "text": [
      "2\n"
     ]
    }
   ],
   "source": [
    "print(round((2 * X) ** 0.5))"
   ]
  },
  {
   "cell_type": "markdown",
   "metadata": {},
   "source": [
    "# 55 - C\n",
    "\n",
    "https://atcoder.jp/contests/abc055/tasks/arc069_a"
   ]
  },
  {
   "cell_type": "code",
   "execution_count": 160,
   "metadata": {},
   "outputs": [
    {
     "name": "stdout",
     "output_type": "stream",
     "text": [
      "ans: 175897\n"
     ]
    }
   ],
   "source": [
    "N, M = 12345, 678901\n",
    "\n",
    "print('ans: 175897')"
   ]
  },
  {
   "cell_type": "code",
   "execution_count": 159,
   "metadata": {},
   "outputs": [
    {
     "name": "stdout",
     "output_type": "stream",
     "text": [
      "175897\n"
     ]
    }
   ],
   "source": [
    "ans = min(N, M // 2)\n",
    "if M - (2 * N) > 0:\n",
    "    ans += (M - (2 * N)) // 4\n",
    "    \n",
    "print(ans)"
   ]
  },
  {
   "cell_type": "code",
   "execution_count": 164,
   "metadata": {},
   "outputs": [
    {
     "data": {
      "text/plain": [
       "175897"
      ]
     },
     "execution_count": 164,
     "metadata": {},
     "output_type": "execute_result"
    }
   ],
   "source": [
    "min((M + 2 * N) // 4, M // 2)"
   ]
  },
  {
   "cell_type": "markdown",
   "metadata": {},
   "source": [
    "# 54 - C\n",
    "\n",
    "https://atcoder.jp/contests/abc054/tasks/abc054_c"
   ]
  },
  {
   "cell_type": "code",
   "execution_count": 202,
   "metadata": {},
   "outputs": [],
   "source": [
    "N, M = 7, 7\n",
    "edges = [[1, 3], [2, 7], [3, 4], [4, 5], [4, 6], [5, 6], [6, 7]]"
   ]
  },
  {
   "cell_type": "code",
   "execution_count": 228,
   "metadata": {},
   "outputs": [],
   "source": [
    "N, M = 3, 4\n",
    "edges = [[1, 2], [1, 3], [2, 3]]"
   ]
  },
  {
   "cell_type": "code",
   "execution_count": 229,
   "metadata": {},
   "outputs": [
    {
     "data": {
      "text/plain": [
       "[[None, None, None], [None, None, None], [None, None, None]]"
      ]
     },
     "execution_count": 229,
     "metadata": {},
     "output_type": "execute_result"
    }
   ],
   "source": [
    "graph = [[None] * N for _ in range(N)]\n",
    "graph"
   ]
  },
  {
   "cell_type": "code",
   "execution_count": 230,
   "metadata": {},
   "outputs": [],
   "source": [
    "for x, y in edges:\n",
    "    graph[x - 1][y - 1] = True\n",
    "    graph[y - 1][x - 1] = True"
   ]
  },
  {
   "cell_type": "code",
   "execution_count": 254,
   "metadata": {},
   "outputs": [],
   "source": [
    "def dfs(v):    \n",
    "    if all(visited):\n",
    "        return 1\n",
    "    \n",
    "    ret = 0\n",
    "    for i in range(N):\n",
    "        if not graph[v][i]:\n",
    "            continue\n",
    "        if visited[i]:\n",
    "            continue\n",
    "            \n",
    "        visited[i] = True\n",
    "        ret += dfs(i)\n",
    "        visited[i] = False\n",
    "        \n",
    "    return ret"
   ]
  },
  {
   "cell_type": "code",
   "execution_count": 255,
   "metadata": {},
   "outputs": [
    {
     "name": "stdout",
     "output_type": "stream",
     "text": [
      "2\n"
     ]
    }
   ],
   "source": [
    "visited = [True] + [False] * (N - 1)\n",
    "print(dfs(0))"
   ]
  },
  {
   "cell_type": "markdown",
   "metadata": {},
   "source": [
    "# 53 - C\n",
    "\n",
    "https://atcoder.jp/contests/abc053/tasks/arc068_a"
   ]
  },
  {
   "cell_type": "code",
   "execution_count": 260,
   "metadata": {},
   "outputs": [],
   "source": [
    "x = 7"
   ]
  },
  {
   "cell_type": "code",
   "execution_count": 261,
   "metadata": {},
   "outputs": [
    {
     "name": "stdout",
     "output_type": "stream",
     "text": [
      "2\n"
     ]
    }
   ],
   "source": [
    "from math import ceil\n",
    "print(x // 11 + ceil((x % 11) / 6))"
   ]
  },
  {
   "cell_type": "markdown",
   "metadata": {},
   "source": [
    "# 52 - C\n",
    "\n",
    "https://atcoder.jp/contests/abc052/tasks/arc067_a"
   ]
  },
  {
   "cell_type": "code",
   "execution_count": 262,
   "metadata": {},
   "outputs": [],
   "source": [
    "N = 3"
   ]
  },
  {
   "cell_type": "code",
   "execution_count": 273,
   "metadata": {},
   "outputs": [
    {
     "name": "stdout",
     "output_type": "stream",
     "text": [
      "4\n"
     ]
    }
   ],
   "source": [
    "t = [0] * (N + 1)\n",
    "\n",
    "for i in range(2, N + 1):\n",
    "    x = i\n",
    "    p = 2\n",
    "    \n",
    "    # Calculate divisor\n",
    "    while x > 1:\n",
    "        while x % p == 0:\n",
    "            t[p] += 1\n",
    "            x //= p\n",
    "        p += 1\n",
    "        \n",
    "ans = 1\n",
    "for c in t:\n",
    "    ans = (ans * (c + 1)) % (10 ** 9 + 7)\n",
    "print(ans)"
   ]
  },
  {
   "cell_type": "markdown",
   "metadata": {},
   "source": [
    "# 51 - C\n",
    "\n",
    "https://atcoder.jp/contests/abc051/tasks/abc051_c"
   ]
  },
  {
   "cell_type": "code",
   "execution_count": 278,
   "metadata": {},
   "outputs": [],
   "source": [
    "sx, sy, tx, ty = 0, 0, 1, 2"
   ]
  },
  {
   "cell_type": "code",
   "execution_count": 286,
   "metadata": {},
   "outputs": [
    {
     "name": "stdout",
     "output_type": "stream",
     "text": [
      "UURDDLLUUURRDRDDDLLU\n"
     ]
    }
   ],
   "source": [
    "print('U' * (ty - sy) + 'R' * (tx - sx) \\\n",
    "          + 'D' * (ty - sy) + 'L' * (tx - sx) \\\n",
    "          + 'L' + 'U' * (ty - sy + 1) + 'R' * (tx - sx + 1) + 'D' \\\n",
    "          + 'R' + 'D' * (ty - sy + 1) + 'L' * (tx - sx + 1) + 'U' )"
   ]
  },
  {
   "cell_type": "markdown",
   "metadata": {},
   "source": [
    "# 50 - C\n",
    "\n",
    "https://atcoder.jp/contests/abc050/tasks/arc066_a"
   ]
  },
  {
   "cell_type": "code",
   "execution_count": 351,
   "metadata": {},
   "outputs": [
    {
     "name": "stdout",
     "output_type": "stream",
     "text": [
      "ans: 4\n"
     ]
    }
   ],
   "source": [
    "N = 5\n",
    "A = [2, 4, 4, 0, 2]\n",
    "print('ans: 4')"
   ]
  },
  {
   "cell_type": "code",
   "execution_count": 353,
   "metadata": {},
   "outputs": [
    {
     "name": "stdout",
     "output_type": "stream",
     "text": [
      "ans: 0\n"
     ]
    }
   ],
   "source": [
    "N = 7\n",
    "A = [6, 4, 0, 2, 4, 0, 2]\n",
    "print('ans: 0')"
   ]
  },
  {
   "cell_type": "code",
   "execution_count": 355,
   "metadata": {},
   "outputs": [
    {
     "name": "stdout",
     "output_type": "stream",
     "text": [
      "ans: 4\n"
     ]
    }
   ],
   "source": [
    "N = 4\n",
    "A = [1, 3, 3, 1]\n",
    "print('ans: 4')"
   ]
  },
  {
   "cell_type": "code",
   "execution_count": 356,
   "metadata": {},
   "outputs": [
    {
     "name": "stdout",
     "output_type": "stream",
     "text": [
      "4\n"
     ]
    }
   ],
   "source": [
    "from collections import Counter\n",
    "\n",
    "l = [v for _, v in sorted(Counter(A).items())]\n",
    "\n",
    "if all(v == 2 for v in l[N % 2:]) and (N % 2 == 0 or l[0] == 1):\n",
    "    print(2 ** (N // 2) % (10 ** 9 + 7))\n",
    "else:\n",
    "    print(0)"
   ]
  },
  {
   "cell_type": "code",
   "execution_count": null,
   "metadata": {},
   "outputs": [],
   "source": []
  }
 ],
 "metadata": {
  "kernelspec": {
   "display_name": "Python 3",
   "language": "python",
   "name": "python3"
  },
  "language_info": {
   "codemirror_mode": {
    "name": "ipython",
    "version": 3
   },
   "file_extension": ".py",
   "mimetype": "text/x-python",
   "name": "python",
   "nbconvert_exporter": "python",
   "pygments_lexer": "ipython3",
   "version": "3.7.3"
  }
 },
 "nbformat": 4,
 "nbformat_minor": 2
}
