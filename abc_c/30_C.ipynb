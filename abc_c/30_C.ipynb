{
 "cells": [
  {
   "cell_type": "markdown",
   "metadata": {},
   "source": [
    "# 39 - C\n",
    "\n",
    "https://atcoder.jp/contests/abc039/tasks/abc039_c"
   ]
  },
  {
   "cell_type": "code",
   "execution_count": 66,
   "metadata": {},
   "outputs": [
    {
     "name": "stdout",
     "output_type": "stream",
     "text": [
      "ans: Do\n"
     ]
    }
   ],
   "source": [
    "s = 'WBWBWWBWBWBWWBWBWWBW'\n",
    "\n",
    "print('ans: Do')"
   ]
  },
  {
   "cell_type": "code",
   "execution_count": 67,
   "metadata": {},
   "outputs": [
    {
     "name": "stdout",
     "output_type": "stream",
     "text": [
      "Do\n"
     ]
    }
   ],
   "source": [
    "import re\n",
    "\n",
    "pos = re.search('WBWBWBW', s).start()\n",
    "ans = ['', 'So', '', 'La', '', 'Si', 'Do', '', 'Re', '', 'Mi', 'Fa'][::-1]\n",
    "print(ans[pos])"
   ]
  },
  {
   "cell_type": "code",
   "execution_count": 68,
   "metadata": {},
   "outputs": [
    {
     "name": "stdout",
     "output_type": "stream",
     "text": [
      "Do\n"
     ]
    }
   ],
   "source": [
    "s = 'WBWBWWBWBWBWWBWBWWBW'\n",
    "d = {5: 'Do', 3: 'Re', 1: 'Mi', 0: 'Fa', 10: 'So', 8: 'La', 7: 'Si'}\n",
    "print(d[s.find('WBWBWBW')])"
   ]
  },
  {
   "cell_type": "markdown",
   "metadata": {},
   "source": [
    "# 38 - C\n",
    "\n",
    "https://atcoder.jp/contests/abc038/tasks/abc038_c"
   ]
  },
  {
   "cell_type": "code",
   "execution_count": 116,
   "metadata": {},
   "outputs": [
    {
     "name": "stdout",
     "output_type": "stream",
     "text": [
      "ans: 8\n"
     ]
    }
   ],
   "source": [
    "N = 5\n",
    "a = [1, 2, 3, 2, 1]\n",
    "\n",
    "print('ans: 8')"
   ]
  },
  {
   "cell_type": "code",
   "execution_count": 110,
   "metadata": {},
   "outputs": [
    {
     "data": {
      "text/plain": [
       "[1, 1, 0, 0]"
      ]
     },
     "execution_count": 110,
     "metadata": {},
     "output_type": "execute_result"
    }
   ],
   "source": [
    "d = [int(a[i + 1] - a[i] > 0) for i in range(N - 1)]\n",
    "d"
   ]
  },
  {
   "cell_type": "code",
   "execution_count": 112,
   "metadata": {},
   "outputs": [
    {
     "name": "stdout",
     "output_type": "stream",
     "text": [
      "8\n"
     ]
    }
   ],
   "source": [
    "from itertools import groupby\n",
    "from math import factorial\n",
    "\n",
    "ans = N\n",
    "for _, v in groupby(d):\n",
    "    n = sum(v)\n",
    "    ans += n * (n + 1) / 2\n",
    "    \n",
    "print(int(ans))"
   ]
  },
  {
   "cell_type": "markdown",
   "metadata": {},
   "source": [
    "#### より普遍的な方法を使う　→　しゃくとり法"
   ]
  },
  {
   "cell_type": "code",
   "execution_count": 128,
   "metadata": {},
   "outputs": [
    {
     "name": "stdout",
     "output_type": "stream",
     "text": [
      "8\n"
     ]
    }
   ],
   "source": [
    "N = 5\n",
    "a = [1, 2, 3, 2, 1]\n",
    "\n",
    "l = 0\n",
    "r = 0\n",
    "ans = 0\n",
    "while l < N:\n",
    "    # Forward right\n",
    "    while (l == r) or (r < N and a[r - 1] < a[r]):\n",
    "        r += 1\n",
    "        \n",
    "    # Calculation\n",
    "    ans += r - l\n",
    "    \n",
    "    # Forward left +1 step\n",
    "    l += 1\n",
    "    \n",
    "print(ans)"
   ]
  },
  {
   "cell_type": "markdown",
   "metadata": {},
   "source": [
    "# 37 - C\n",
    "\n",
    "https://atcoder.jp/contests/abc037/tasks/abc037_c"
   ]
  },
  {
   "cell_type": "code",
   "execution_count": 194,
   "metadata": {},
   "outputs": [
    {
     "name": "stdout",
     "output_type": "stream",
     "text": [
      "ans: 49\n"
     ]
    }
   ],
   "source": [
    "N, K = 5, 3\n",
    "a = [1, 2, 4, 8, 16]\n",
    "\n",
    "print('ans: 49')"
   ]
  },
  {
   "cell_type": "code",
   "execution_count": 195,
   "metadata": {},
   "outputs": [
    {
     "name": "stdout",
     "output_type": "stream",
     "text": [
      "49\n"
     ]
    }
   ],
   "source": [
    "s = sum(a[:K])\n",
    "ans = s\n",
    "\n",
    "for i in range(N - K):\n",
    "    s = s - a[i] + a[i + K]\n",
    "    ans += s\n",
    "    \n",
    "print(ans)"
   ]
  },
  {
   "cell_type": "code",
   "execution_count": 196,
   "metadata": {},
   "outputs": [
    {
     "name": "stdout",
     "output_type": "stream",
     "text": [
      "ans: 69\n"
     ]
    }
   ],
   "source": [
    "N = 6\n",
    "K = 5\n",
    "a = [1, 2, 4, 8, 12, 16]\n",
    "\n",
    "print('ans: 69')"
   ]
  },
  {
   "cell_type": "code",
   "execution_count": 197,
   "metadata": {},
   "outputs": [
    {
     "name": "stdout",
     "output_type": "stream",
     "text": [
      "69\n"
     ]
    }
   ],
   "source": [
    "s = sum(a[:K])\n",
    "ans = s\n",
    "\n",
    "for i in range(N - K):\n",
    "    s = s - a[i] + a[i + K]\n",
    "    ans += s\n",
    "    \n",
    "print(ans)"
   ]
  },
  {
   "cell_type": "markdown",
   "metadata": {},
   "source": [
    "# 36 - C\n",
    "\n",
    "https://atcoder.jp/contests/abc036/tasks/abc036_c"
   ]
  },
  {
   "cell_type": "code",
   "execution_count": 199,
   "metadata": {},
   "outputs": [
    {
     "name": "stdout",
     "output_type": "stream",
     "text": [
      "ans: 1, 1, 0, 2, 0\n"
     ]
    }
   ],
   "source": [
    "N = 5\n",
    "a = [3, 3, 1, 6, 1]\n",
    "\n",
    "print('ans: 1, 1, 0, 2, 0')"
   ]
  },
  {
   "cell_type": "code",
   "execution_count": 206,
   "metadata": {},
   "outputs": [
    {
     "name": "stdout",
     "output_type": "stream",
     "text": [
      "1\n",
      "1\n",
      "0\n",
      "2\n",
      "0\n"
     ]
    }
   ],
   "source": [
    "d = {v: i for i, v in enumerate(sorted(list(set(a))))}\n",
    "print(*[d[v] for v in a], sep='\\n')"
   ]
  },
  {
   "cell_type": "markdown",
   "metadata": {},
   "source": [
    "# 35 - C\n",
    "\n",
    "https://atcoder.jp/contests/abc035/tasks/abc035_c"
   ]
  },
  {
   "cell_type": "code",
   "execution_count": 207,
   "metadata": {},
   "outputs": [],
   "source": [
    "N, Q = 5, 4\n",
    "X = [[1, 4], [2, 5], [3, 3], [1, 5]]"
   ]
  },
  {
   "cell_type": "code",
   "execution_count": 219,
   "metadata": {},
   "outputs": [
    {
     "name": "stdout",
     "output_type": "stream",
     "text": [
      "[2, 1, 1, -1, -1, -2]\n",
      "[2, 3, 4, 3, 2, 0]\n",
      "01010\n"
     ]
    }
   ],
   "source": [
    "from itertools import accumulate\n",
    "\n",
    "t = [0] * (N + 1)\n",
    "for l, r in X:\n",
    "    t[l - 1] += 1\n",
    "    t[r] -= 1\n",
    "\n",
    "ans = ''.join(['01'[i % 2] for i in list(accumulate(t))])\n",
    "print(ans[:-1])"
   ]
  },
  {
   "cell_type": "markdown",
   "metadata": {},
   "source": [
    "# 34 - C\n",
    "\n",
    "https://atcoder.jp/contests/abc034/tasks/abc034_c"
   ]
  },
  {
   "cell_type": "code",
   "execution_count": 235,
   "metadata": {},
   "outputs": [],
   "source": [
    "W, H = 4, 3"
   ]
  },
  {
   "cell_type": "code",
   "execution_count": 239,
   "metadata": {},
   "outputs": [
    {
     "name": "stdout",
     "output_type": "stream",
     "text": [
      "10\n"
     ]
    }
   ],
   "source": [
    "from itertools import accumulate\n",
    "a = [1]\n",
    "m = min(W, H) - 1\n",
    "for v in range(max(W, H) - 1):\n",
    "    a = list(accumulate(a))\n",
    "    if v < m:\n",
    "        a.append(a[-1] * 2)\n",
    "\n",
    "print(a[-1] % (10 ** 9 + 7))"
   ]
  },
  {
   "cell_type": "markdown",
   "metadata": {},
   "source": [
    "#### 上はO(WH)かかるので，数理的に解く\n",
    "\n",
    "https://www.slideshare.net/chokudai/abc034\n",
    "\n",
    "上に(H-1)，下に(W-1)回の中から，H-1回移動する経路を求めれば良い．  \n",
    "つまり，\n",
    "\n",
    "$$ {}_{H+W-2} \\mathrm{C} _{H-1} = \\frac{(H+W-2)!}{(H-1)!} $$\n",
    "\n",
    "pow(i, mod-2, mod)は，i^(mod-2) % pを求めている．  \n",
    "これは，フェルマーの小定理によりa^(-1)をかけていることに等しい．  "
   ]
  },
  {
   "cell_type": "code",
   "execution_count": 244,
   "metadata": {},
   "outputs": [
    {
     "name": "stdout",
     "output_type": "stream",
     "text": [
      "10\n"
     ]
    }
   ],
   "source": [
    "W, H = 4, 3\n",
    "mod = 10 ** 9 + 7\n",
    "\n",
    "ans = 1\n",
    "for i in range(1, H):\n",
    "    ans = ans * (W + H - 2 - (i - 1)) * pow(i, mod - 2, mod) % mod\n",
    "    \n",
    "print(ans)"
   ]
  },
  {
   "cell_type": "markdown",
   "metadata": {},
   "source": [
    "# 33 - C\n",
    "\n",
    "https://atcoder.jp/contests/abc033/tasks/abc033_c"
   ]
  },
  {
   "cell_type": "code",
   "execution_count": 265,
   "metadata": {},
   "outputs": [
    {
     "name": "stdout",
     "output_type": "stream",
     "text": [
      "ans: 2\n"
     ]
    }
   ],
   "source": [
    "s = '3*1+1*2'\n",
    "\n",
    "print('ans: 2')"
   ]
  },
  {
   "cell_type": "code",
   "execution_count": 256,
   "metadata": {},
   "outputs": [
    {
     "name": "stdout",
     "output_type": "stream",
     "text": [
      "ans: 1\n"
     ]
    }
   ],
   "source": [
    "s = '1+3*4*0'\n",
    "\n",
    "print('ans: 1')"
   ]
  },
  {
   "cell_type": "code",
   "execution_count": 269,
   "metadata": {},
   "outputs": [
    {
     "name": "stdout",
     "output_type": "stream",
     "text": [
      "2\n"
     ]
    }
   ],
   "source": [
    "print(sum(v.count('0') == 0 for v in s.split('+')))"
   ]
  },
  {
   "cell_type": "markdown",
   "metadata": {},
   "source": [
    "# 32 - C\n",
    "\n",
    "https://atcoder.jp/contests/abc032/tasks/abc032_c"
   ]
  },
  {
   "cell_type": "code",
   "execution_count": 333,
   "metadata": {},
   "outputs": [
    {
     "name": "stdout",
     "output_type": "stream",
     "text": [
      "ans: 4\n"
     ]
    }
   ],
   "source": [
    "N, K = 7, 6\n",
    "s = [4, 3, 1, 1, 2, 10, 2]\n",
    "\n",
    "print('ans: 4')"
   ]
  },
  {
   "cell_type": "code",
   "execution_count": 288,
   "metadata": {},
   "outputs": [
    {
     "name": "stdout",
     "output_type": "stream",
     "text": [
      "ans: 6\n"
     ]
    }
   ],
   "source": [
    "N, K = 6, 10\n",
    "s = [10, 10, 10, 10, 0, 10]\n",
    "\n",
    "print('ans: 6')"
   ]
  },
  {
   "cell_type": "code",
   "execution_count": 343,
   "metadata": {},
   "outputs": [
    {
     "name": "stdout",
     "output_type": "stream",
     "text": [
      "ans: 0\n"
     ]
    }
   ],
   "source": [
    "N, K = 6, 9\n",
    "s = [10, 10, 10, 10, 10, 10]\n",
    "\n",
    "print('ans: 0')"
   ]
  },
  {
   "cell_type": "code",
   "execution_count": 346,
   "metadata": {},
   "outputs": [
    {
     "name": "stdout",
     "output_type": "stream",
     "text": [
      "0\n"
     ]
    }
   ],
   "source": [
    "if 0 in s:\n",
    "    print(N)\n",
    "else:\n",
    "    r = 0\n",
    "    ans = 0\n",
    "    c = 1\n",
    "\n",
    "    for l in range(N):\n",
    "        while r < N and c * s[r] <= K:\n",
    "            c *= s[r]\n",
    "            r += 1\n",
    "\n",
    "        ans = max(ans, r - l)\n",
    "        if l == r:\n",
    "            r += 1\n",
    "        else:\n",
    "            c //= s[l]\n",
    "\n",
    "    print(ans)"
   ]
  },
  {
   "cell_type": "markdown",
   "metadata": {},
   "source": [
    "# 31 - C\n",
    "\n",
    "https://atcoder.jp/contests/abc031/tasks/abc031_c"
   ]
  },
  {
   "cell_type": "code",
   "execution_count": 347,
   "metadata": {},
   "outputs": [],
   "source": [
    "N = 6\n",
    "a = [1, -3, 3, 9, 1, 6]"
   ]
  },
  {
   "cell_type": "code",
   "execution_count": 367,
   "metadata": {},
   "outputs": [
    {
     "name": "stdout",
     "output_type": "stream",
     "text": [
      "6\n"
     ]
    }
   ],
   "source": [
    "ans = []\n",
    "for i in range(N):\n",
    "    tmp = []\n",
    "    for j in range(N):\n",
    "        if i == j:\n",
    "            continue\n",
    "        elif i < j:\n",
    "            b = a[i:j + 1]\n",
    "        elif i > j:\n",
    "            b = a[j:i + 1]\n",
    "        tmp.append([sum(b[::2]), sum(b[1::2])])\n",
    "    ans.append(max(tmp, key=lambda x: x[1]))\n",
    "    \n",
    "print(max(ans)[0])"
   ]
  },
  {
   "cell_type": "markdown",
   "metadata": {},
   "source": [
    "# 30 - C\n",
    "\n",
    "https://atcoder.jp/contests/abc030/tasks/abc030_c"
   ]
  },
  {
   "cell_type": "code",
   "execution_count": 391,
   "metadata": {},
   "outputs": [],
   "source": [
    "N, M = 3, 4\n",
    "X, Y = 2, 3\n",
    "a = [1, 5, 7]\n",
    "b = [3, 8, 12, 13]"
   ]
  },
  {
   "cell_type": "code",
   "execution_count": 392,
   "metadata": {},
   "outputs": [],
   "source": [
    "N, M = 6, 7\n",
    "X, Y = 5, 3\n",
    "a = [1, 7, 12, 19, 20, 26]\n",
    "b = [4, 9, 15, 23, 24, 31, 33]"
   ]
  },
  {
   "cell_type": "markdown",
   "metadata": {},
   "source": [
    "#### しゃくとり法ベース"
   ]
  },
  {
   "cell_type": "code",
   "execution_count": 393,
   "metadata": {},
   "outputs": [
    {
     "name": "stdout",
     "output_type": "stream",
     "text": [
      "3\n"
     ]
    }
   ],
   "source": [
    "l = 0\n",
    "r = 0\n",
    "ans = 0\n",
    "while True:\n",
    "    while r < M and b[r] < a[l] + X:\n",
    "        r += 1\n",
    "        \n",
    "    if r == M:\n",
    "        break\n",
    "\n",
    "    ans += 1\n",
    "    while l < N and a[l] < b[r] + Y:\n",
    "        l += 1\n",
    "\n",
    "    if l == N:\n",
    "        break\n",
    "    \n",
    "print(ans)"
   ]
  },
  {
   "cell_type": "markdown",
   "metadata": {},
   "source": [
    "#### 別解：二分探索\n",
    "\n",
    "与えられるのがソート済みの配列なので，二分探索が使える．"
   ]
  },
  {
   "cell_type": "code",
   "execution_count": 397,
   "metadata": {},
   "outputs": [
    {
     "name": "stdout",
     "output_type": "stream",
     "text": [
      "3\n"
     ]
    }
   ],
   "source": [
    "from bisect import bisect_left\n",
    "\n",
    "t = 0\n",
    "ans = 0\n",
    "while True:\n",
    "    l = bisect_left(a, t)\n",
    "    if l < N:\n",
    "        t = a[l] + X\n",
    "    else:\n",
    "        break\n",
    "\n",
    "    r = bisect_left(b, t)\n",
    "    if r < M:\n",
    "        t = b[r] + Y\n",
    "    else:\n",
    "        break\n",
    "    ans += 1\n",
    "    \n",
    "print(ans)"
   ]
  },
  {
   "cell_type": "code",
   "execution_count": null,
   "metadata": {},
   "outputs": [],
   "source": []
  },
  {
   "cell_type": "code",
   "execution_count": null,
   "metadata": {},
   "outputs": [],
   "source": []
  },
  {
   "cell_type": "code",
   "execution_count": null,
   "metadata": {},
   "outputs": [],
   "source": []
  },
  {
   "cell_type": "code",
   "execution_count": null,
   "metadata": {},
   "outputs": [],
   "source": []
  },
  {
   "cell_type": "code",
   "execution_count": null,
   "metadata": {},
   "outputs": [],
   "source": []
  }
 ],
 "metadata": {
  "kernelspec": {
   "display_name": "Python 3",
   "language": "python",
   "name": "python3"
  },
  "language_info": {
   "codemirror_mode": {
    "name": "ipython",
    "version": 3
   },
   "file_extension": ".py",
   "mimetype": "text/x-python",
   "name": "python",
   "nbconvert_exporter": "python",
   "pygments_lexer": "ipython3",
   "version": "3.7.3"
  }
 },
 "nbformat": 4,
 "nbformat_minor": 2
}
