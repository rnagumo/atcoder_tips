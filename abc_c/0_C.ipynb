{
 "cells": [
  {
   "cell_type": "markdown",
   "metadata": {},
   "source": [
    "# 9 - C\n",
    "\n",
    "https://atcoder.jp/contests/abc009/tasks/abc009_3\n",
    "\n",
    "全くわからない"
   ]
  },
  {
   "cell_type": "code",
   "execution_count": 64,
   "metadata": {},
   "outputs": [
    {
     "name": "stdout",
     "output_type": "stream",
     "text": [
      "ans: actoder\n"
     ]
    }
   ],
   "source": [
    "N, K = 7, 3\n",
    "s = 'program'\n",
    "\n",
    "print('ans: actoder')"
   ]
  },
  {
   "cell_type": "code",
   "execution_count": 67,
   "metadata": {},
   "outputs": [
    {
     "name": "stdout",
     "output_type": "stream",
     "text": [
      "0 Counter({'p': 1}) \n",
      "a 1 1\n",
      "1 Counter({'p': 1, 'r': 1}) a\n",
      "g 2 2\n",
      "m 2 2\n",
      "o 2 2\n",
      "p 2 1\n",
      "2 Counter({'r': 1, 'o': 1}) ap\n",
      "g 3 2\n",
      "m 3 2\n",
      "o 2 1\n",
      "3 Counter({'r': 1, 'g': 1}) apo\n",
      "g 2 1\n",
      "4 Counter({'r': 2}) apog\n",
      "m 3 2\n",
      "r 2 1\n",
      "5 Counter({'r': 1}) apogr\n",
      "m 3 1\n",
      "r 3 0\n",
      "6 Counter({'m': 1}) apogrr\n",
      "m 3 0\n",
      "apogrrm\n"
     ]
    }
   ],
   "source": [
    "from collections import Counter\n",
    "\n",
    "cand = sorted(s)\n",
    "mismatch = 0\n",
    "t = ''\n",
    "\n",
    "for i in range(N):\n",
    "    # Counter for undefined char\n",
    "    counter = Counter(s[:i + 1]) - Counter(t)\n",
    "    \n",
    "    # # of undefined char\n",
    "    cnt = sum(counter.values())\n",
    "    print(i, counter, t)\n",
    "    \n",
    "    for c in cand:\n",
    "        # Add miss if the candidate is not the targeted char.\n",
    "        miss = mismatch + (c != s[i])\n",
    "        \n",
    "        # If the candidate is in counter, minus 1 from counter\n",
    "        diff = cnt - (counter[c] > 0)\n",
    "        print(c, miss, diff)\n",
    "        \n",
    "        # If mismatch and undefined does not exceed K.\n",
    "        if miss + diff <= K:\n",
    "            t += c\n",
    "            cand.remove(c)\n",
    "            mismatch = miss\n",
    "            break\n",
    "    \n",
    "print(t)"
   ]
  },
  {
   "cell_type": "markdown",
   "metadata": {},
   "source": [
    "# 8 - C\n",
    "\n",
    "https://atcoder.jp/contests/abc008/tasks/abc008_3"
   ]
  },
  {
   "cell_type": "code",
   "execution_count": 130,
   "metadata": {},
   "outputs": [
    {
     "name": "stdout",
     "output_type": "stream",
     "text": [
      "ans: 2.166...\n"
     ]
    }
   ],
   "source": [
    "N = 3\n",
    "C = [2, 4, 8]\n",
    "\n",
    "print('ans: 2.166...')"
   ]
  },
  {
   "cell_type": "code",
   "execution_count": 124,
   "metadata": {},
   "outputs": [
    {
     "name": "stdout",
     "output_type": "stream",
     "text": [
      "ans: 3.1\n"
     ]
    }
   ],
   "source": [
    "N = 5\n",
    "C = [2, 3, 2, 6, 12]\n",
    "\n",
    "print('ans: 3.1')"
   ]
  },
  {
   "cell_type": "markdown",
   "metadata": {},
   "source": [
    "#### 計算量が最悪 $O(N!*N^2)$ でかかる"
   ]
  },
  {
   "cell_type": "code",
   "execution_count": 112,
   "metadata": {},
   "outputs": [
    {
     "name": "stdout",
     "output_type": "stream",
     "text": [
      "3.1\n"
     ]
    }
   ],
   "source": [
    "from itertools import permutations\n",
    "from math import factorial\n",
    "\n",
    "ans = 0\n",
    "for x in permutations(C, N):\n",
    "    for i in range(N):\n",
    "        ans += int(sum(x[i] % x[j] == 0 for j in range(i)) % 2 == 0)\n",
    "    \n",
    "print(ans / factorial(N))"
   ]
  },
  {
   "cell_type": "markdown",
   "metadata": {},
   "source": [
    "#### $O(N^2)$の解"
   ]
  },
  {
   "cell_type": "code",
   "execution_count": 133,
   "metadata": {},
   "outputs": [
    {
     "name": "stdout",
     "output_type": "stream",
     "text": [
      "2.1666666666666665\n"
     ]
    }
   ],
   "source": [
    "ans = 0\n",
    "for v in C:\n",
    "    s = sum(v % k == 0 for k in C) - 1\n",
    "    if s % 2 == 0:\n",
    "        ans += (s + 2) / (2 * s + 2)\n",
    "    else:\n",
    "        ans += 1 / 2\n",
    "        \n",
    "print(ans)"
   ]
  },
  {
   "cell_type": "markdown",
   "metadata": {},
   "source": [
    "# 7 - C\n",
    "\n",
    "https://atcoder.jp/contests/abc007/tasks/abc007_3"
   ]
  },
  {
   "cell_type": "code",
   "execution_count": 1,
   "metadata": {},
   "outputs": [
    {
     "name": "stdout",
     "output_type": "stream",
     "text": [
      "ans: 11\n"
     ]
    }
   ],
   "source": [
    "R, C = 7, 8\n",
    "sy, sx = 2, 2\n",
    "gy, gx = 4, 5\n",
    "c = \"\"\"########\n",
    "#......#\n",
    "#.######\n",
    "#..#...#\n",
    "#..##..#\n",
    "##.....#\n",
    "########\"\"\"\n",
    "c = c.split('\\n')\n",
    "\n",
    "print('ans: 11')"
   ]
  },
  {
   "cell_type": "code",
   "execution_count": 2,
   "metadata": {},
   "outputs": [
    {
     "name": "stdout",
     "output_type": "stream",
     "text": [
      "11\n"
     ]
    }
   ],
   "source": [
    "from collections import deque\n",
    "\n",
    "offsets = [[0, 1], [0, -1], [1, 0], [-1, 0]]\n",
    "\n",
    "graph = [[float('inf')] * C for _ in range(R)]\n",
    "graph[sy - 1][sx - 1] = 0\n",
    "\n",
    "def bfs(s):\n",
    "    q = deque()\n",
    "    q.append(s)\n",
    "    \n",
    "    while q:\n",
    "        u, v = q.popleft()\n",
    "        \n",
    "        for x, y in offsets:\n",
    "            if c[u + x][v + y] == '#':\n",
    "                continue\n",
    "                \n",
    "            if graph[u + x][v + y] == float('inf'):\n",
    "                graph[u + x][v + y] = graph[u][v] + 1            \n",
    "                q.append((u + x, v + y))\n",
    "                \n",
    "bfs((sy - 1, sx - 1))\n",
    "print(graph[gy - 1][gx - 1])"
   ]
  },
  {
   "cell_type": "code",
   "execution_count": 3,
   "metadata": {},
   "outputs": [
    {
     "data": {
      "text/plain": [
       "[[inf, inf, inf, inf, inf, inf, inf, inf],\n",
       " [inf, 0, 1, 2, 3, 4, 5, inf],\n",
       " [inf, 1, inf, inf, inf, inf, inf, inf],\n",
       " [inf, 2, 3, inf, 11, 10, 11, inf],\n",
       " [inf, 3, 4, inf, inf, 9, 10, inf],\n",
       " [inf, inf, 5, 6, 7, 8, 9, inf],\n",
       " [inf, inf, inf, inf, inf, inf, inf, inf]]"
      ]
     },
     "execution_count": 3,
     "metadata": {},
     "output_type": "execute_result"
    }
   ],
   "source": [
    "graph"
   ]
  },
  {
   "cell_type": "markdown",
   "metadata": {},
   "source": [
    "# 6 - C\n",
    "\n",
    "https://atcoder.jp/contests/abc006/tasks/abc006_3"
   ]
  },
  {
   "cell_type": "code",
   "execution_count": 18,
   "metadata": {},
   "outputs": [
    {
     "name": "stdout",
     "output_type": "stream",
     "text": [
      "ans: 1, 1, 1\n"
     ]
    }
   ],
   "source": [
    "N, M = 3, 9\n",
    "\n",
    "print('ans: 1, 1, 1')"
   ]
  },
  {
   "cell_type": "code",
   "execution_count": 22,
   "metadata": {},
   "outputs": [
    {
     "name": "stdout",
     "output_type": "stream",
     "text": [
      "1 1 1\n"
     ]
    }
   ],
   "source": [
    "ans = [-1, -1, -1]\n",
    "for b in range(2):\n",
    "    for a in range(N - b + 1):\n",
    "        c = N - a - b\n",
    "        if a * 2 + b * 3 + c * 4 == M:\n",
    "            ans = [a, b, c]\n",
    "            break\n",
    "            \n",
    "print(*ans)"
   ]
  },
  {
   "cell_type": "markdown",
   "metadata": {},
   "source": [
    "# 5 - C\n",
    "\n",
    "https://atcoder.jp/contests/abc005/tasks/abc005_3"
   ]
  },
  {
   "cell_type": "code",
   "execution_count": 87,
   "metadata": {},
   "outputs": [
    {
     "name": "stdout",
     "output_type": "stream",
     "text": [
      "ans: yes\n"
     ]
    }
   ],
   "source": [
    "T = 1\n",
    "N = 3\n",
    "A = [1, 2, 3]\n",
    "M = 3\n",
    "B = [2, 3, 4]\n",
    "\n",
    "print('ans: yes')"
   ]
  },
  {
   "cell_type": "code",
   "execution_count": 89,
   "metadata": {},
   "outputs": [
    {
     "name": "stdout",
     "output_type": "stream",
     "text": [
      "ans: no\n"
     ]
    }
   ],
   "source": [
    "T = 1\n",
    "N = 3\n",
    "A = [1, 2, 3]\n",
    "M = 3\n",
    "B = [1, 2, 2]\n",
    "\n",
    "print('ans: no')"
   ]
  },
  {
   "cell_type": "markdown",
   "metadata": {},
   "source": [
    "#### O(NM)"
   ]
  },
  {
   "cell_type": "code",
   "execution_count": 82,
   "metadata": {},
   "outputs": [
    {
     "name": "stdout",
     "output_type": "stream",
     "text": [
      "no\n"
     ]
    }
   ],
   "source": [
    "ans = [False] * M\n",
    "for i, b in enumerate(B):\n",
    "    for a in A:\n",
    "        if a <= b <= a + T:\n",
    "            A.remove(a)\n",
    "            ans[i] = True\n",
    "            break\n",
    "    \n",
    "print('yes' if all(ans) else 'no')"
   ]
  },
  {
   "cell_type": "markdown",
   "metadata": {},
   "source": [
    "#### O(M)"
   ]
  },
  {
   "cell_type": "code",
   "execution_count": 92,
   "metadata": {},
   "outputs": [
    {
     "name": "stdout",
     "output_type": "stream",
     "text": [
      "no\n"
     ]
    }
   ],
   "source": [
    "ans = [False] * M\n",
    "idx = 0\n",
    "for i, b in enumerate(B):\n",
    "    while idx < N:\n",
    "        if A[idx] <= b <= A[idx] + T:\n",
    "            ans[i] = True\n",
    "            idx += 1\n",
    "            break\n",
    "        else:\n",
    "            idx += 1\n",
    "    \n",
    "print('yes' if all(ans) else 'no')"
   ]
  },
  {
   "cell_type": "markdown",
   "metadata": {},
   "source": [
    "# 4 - C\n",
    "\n",
    "https://atcoder.jp/contests/abc004/tasks/abc004_3"
   ]
  },
  {
   "cell_type": "code",
   "execution_count": 110,
   "metadata": {},
   "outputs": [
    {
     "name": "stdout",
     "output_type": "stream",
     "text": [
      "ans: 234561\n"
     ]
    }
   ],
   "source": [
    "N = 5\n",
    "\n",
    "print('ans: 234561')"
   ]
  },
  {
   "cell_type": "code",
   "execution_count": 104,
   "metadata": {},
   "outputs": [
    {
     "name": "stdout",
     "output_type": "stream",
     "text": [
      "ans: 615234\n"
     ]
    }
   ],
   "source": [
    "N = 22\n",
    "\n",
    "print('ans: 615234')"
   ]
  },
  {
   "cell_type": "code",
   "execution_count": 116,
   "metadata": {},
   "outputs": [
    {
     "name": "stdout",
     "output_type": "stream",
     "text": [
      "ans: 345612\n"
     ]
    }
   ],
   "source": [
    "N = 100000000\n",
    "\n",
    "print('ans: 345612')"
   ]
  },
  {
   "cell_type": "code",
   "execution_count": 122,
   "metadata": {},
   "outputs": [
    {
     "name": "stdout",
     "output_type": "stream",
     "text": [
      "345612\n"
     ]
    }
   ],
   "source": [
    "s = '123456123456'\n",
    "a = (N // 5) % 6\n",
    "b = N % 5\n",
    "ans = s[a:a + 6]\n",
    "print(ans[1:b + 1] + ans[0] + ans[b + 1:])"
   ]
  },
  {
   "cell_type": "markdown",
   "metadata": {},
   "source": [
    "# 3 - C\n",
    "\n",
    "https://atcoder.jp/contests/abc003/tasks/abc003_3"
   ]
  },
  {
   "cell_type": "code",
   "execution_count": 126,
   "metadata": {},
   "outputs": [],
   "source": [
    "N, K = 2, 2\n",
    "R = [1000, 1500]"
   ]
  },
  {
   "cell_type": "code",
   "execution_count": 130,
   "metadata": {},
   "outputs": [
    {
     "name": "stdout",
     "output_type": "stream",
     "text": [
      "1000.0\n"
     ]
    }
   ],
   "source": [
    "R.sort()\n",
    "ans = 0\n",
    "for i, v in zip(range(K), R[-K:]):\n",
    "    ans += v * 2 ** i\n",
    "    \n",
    "print(ans / 2 ** K)"
   ]
  },
  {
   "cell_type": "markdown",
   "metadata": {},
   "source": [
    "# 2 - C\n",
    "\n",
    "https://atcoder.jp/contests/abc002/tasks/abc002_3"
   ]
  },
  {
   "cell_type": "code",
   "execution_count": 133,
   "metadata": {},
   "outputs": [
    {
     "name": "stdout",
     "output_type": "stream",
     "text": [
      "5\n"
     ]
    }
   ],
   "source": [
    "x = [1, 0, 3, 0, 2, 5]\n",
    "print(abs((x[2] - x[0]) * (x[5] - x[1]) - (x[4] - x[0]) * (x[3] - x[1])) / 2)"
   ]
  },
  {
   "cell_type": "markdown",
   "metadata": {},
   "source": [
    "# 1 - C\n",
    "\n",
    "https://atcoder.jp/contests/abc001/tasks/abc001_3"
   ]
  },
  {
   "cell_type": "code",
   "execution_count": 211,
   "metadata": {},
   "outputs": [
    {
     "name": "stdout",
     "output_type": "stream",
     "text": [
      "ans: W 5\n"
     ]
    }
   ],
   "source": [
    "deg, dis = 2750, 628\n",
    "\n",
    "print('ans: W 5')"
   ]
  },
  {
   "cell_type": "code",
   "execution_count": 238,
   "metadata": {},
   "outputs": [
    {
     "name": "stdout",
     "output_type": "stream",
     "text": [
      "ans: NNW, 1\n"
     ]
    }
   ],
   "source": [
    "deg, dis = 3263, 15\n",
    "\n",
    "print('ans: NNW, 1')"
   ]
  },
  {
   "cell_type": "code",
   "execution_count": 232,
   "metadata": {},
   "outputs": [
    {
     "data": {
      "text/plain": [
       "1"
      ]
     },
     "execution_count": 232,
     "metadata": {},
     "output_type": "execute_result"
    }
   ],
   "source": [
    "dis_cand = [0., 0.3, 1.6, 3.4, 5.5, 8.0, 10.8, 13.9, 17.2,\n",
    "            20.8, 24.5, 28.5, 32.7]\n",
    "\n",
    "c = round(dis / 60 + 10 ** -4, 1)\n",
    "ans1 = max(i for i, v in enumerate(dis_cand) if v <= c)\n",
    "ans1"
   ]
  },
  {
   "cell_type": "code",
   "execution_count": 240,
   "metadata": {},
   "outputs": [
    {
     "name": "stdout",
     "output_type": "stream",
     "text": [
      "NNW\n"
     ]
    }
   ],
   "source": [
    "w_cand = ['N', 'NNE', 'NE', 'ENE', 'E', 'ESE', 'SE', 'SSE',\n",
    "          'S', 'SSW', 'SW', 'WSW', 'W', 'WNW', 'NW', 'NNW']\n",
    "\n",
    "deg += 225 / 2\n",
    "deg -= 3600 if deg > 3600 else 0\n",
    "ans0 = w_cand[int(deg / 225)] if ans1 != 0 else 'C'\n",
    "print(w_cand[int(deg / 225)])"
   ]
  },
  {
   "cell_type": "code",
   "execution_count": null,
   "metadata": {},
   "outputs": [],
   "source": []
  }
 ],
 "metadata": {
  "kernelspec": {
   "display_name": "Python 3",
   "language": "python",
   "name": "python3"
  },
  "language_info": {
   "codemirror_mode": {
    "name": "ipython",
    "version": 3
   },
   "file_extension": ".py",
   "mimetype": "text/x-python",
   "name": "python",
   "nbconvert_exporter": "python",
   "pygments_lexer": "ipython3",
   "version": "3.7.3"
  }
 },
 "nbformat": 4,
 "nbformat_minor": 2
}
