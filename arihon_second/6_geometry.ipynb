{
 "cells": [
  {
   "cell_type": "markdown",
   "metadata": {},
   "source": [
    "# ABC 2 - C\n",
    "\n",
    "https://atcoder.jp/contests/abc002/tasks/abc002_3"
   ]
  },
  {
   "cell_type": "code",
   "execution_count": 48,
   "metadata": {},
   "outputs": [
    {
     "name": "stdout",
     "output_type": "stream",
     "text": [
      "ans: 5.0\n"
     ]
    }
   ],
   "source": [
    "xa, ya, xb, yb, xc, yc = 1, 0, 3, 0, 2, 5\n",
    "\n",
    "print('ans: 5.0')"
   ]
  },
  {
   "cell_type": "code",
   "execution_count": 49,
   "metadata": {},
   "outputs": [],
   "source": [
    "def square(x0, y0, x1, y1):\n",
    "    return (x0 * y1 - y0 * x1) / 2"
   ]
  },
  {
   "cell_type": "code",
   "execution_count": 51,
   "metadata": {},
   "outputs": [
    {
     "name": "stdout",
     "output_type": "stream",
     "text": [
      "5.0\n"
     ]
    }
   ],
   "source": [
    "print(abs(square(xa - xc, ya - yc, xb - xc, yb - yc)))"
   ]
  },
  {
   "cell_type": "markdown",
   "metadata": {},
   "source": [
    "# ARC 42 - B\n",
    "\n",
    "https://atcoder.jp/contests/arc042/tasks/arc042_b"
   ]
  },
  {
   "cell_type": "code",
   "execution_count": 1,
   "metadata": {},
   "outputs": [
    {
     "name": "stdout",
     "output_type": "stream",
     "text": [
      "ans: 100\n"
     ]
    }
   ],
   "source": [
    "x, y = 0, 0\n",
    "N = 4\n",
    "X = [[100, 100], [-100, 100], [-100, -100], [100, -100]]\n",
    "\n",
    "print('ans: 100')"
   ]
  },
  {
   "cell_type": "markdown",
   "metadata": {},
   "source": [
    "#### 線分と点の距離"
   ]
  },
  {
   "cell_type": "code",
   "execution_count": 12,
   "metadata": {},
   "outputs": [],
   "source": [
    "def dist(x0, y0, x1, y1, x2, y2):\n",
    "    # Point: (x0, y0)\n",
    "    # Line: (x1, y1), (x2, y2)\n",
    "    a = x2 - x1\n",
    "    b = y2 - y1   \n",
    "    t_ = -(a * (x1 - x0) + b * (y1 - y0))\n",
    "    th = a ** 2 + b ** 2\n",
    "\n",
    "    if t_ < 0:\n",
    "        ret = (x1 - x0) ** 2 + (y1 - y0) ** 2\n",
    "    elif 0 <= t_ <= th:\n",
    "        ret = (a * (y1 - y0) - b * (x1 - x0)) ** 2 / th\n",
    "    else:\n",
    "        ret = (x2 - x0) ** 2 + (y2 - y0) ** 2\n",
    "        \n",
    "    return ret ** 0.5"
   ]
  },
  {
   "cell_type": "code",
   "execution_count": 13,
   "metadata": {},
   "outputs": [
    {
     "name": "stdout",
     "output_type": "stream",
     "text": [
      "100.0\n"
     ]
    }
   ],
   "source": [
    "ans = float('inf')\n",
    "for i in range(N):\n",
    "    d = dist(x, y, X[i][0], X[i][1], X[(i + 1) % N][0], X[(i + 1) % N][1])\n",
    "    ans = min(ans, d)\n",
    "print(ans)"
   ]
  },
  {
   "cell_type": "markdown",
   "metadata": {},
   "source": [
    "# ABC 16 - D\n",
    "\n",
    "線分同士の交差判定\n",
    "\n",
    "https://atcoder.jp/contests/abc016/tasks/abc016_4"
   ]
  },
  {
   "cell_type": "code",
   "execution_count": 14,
   "metadata": {},
   "outputs": [
    {
     "name": "stdout",
     "output_type": "stream",
     "text": [
      "ans: 2\n"
     ]
    }
   ],
   "source": [
    "A_x, A_y, B_x, B_y = -2, 0, 2, 0\n",
    "N = 4\n",
    "X = [[1, 1], [-1, 1], [-1, -1], [1, -1]]\n",
    "\n",
    "print('ans: 2')"
   ]
  },
  {
   "cell_type": "code",
   "execution_count": 40,
   "metadata": {},
   "outputs": [],
   "source": [
    "class Vector:\n",
    "    def __init__(self, x, y):\n",
    "        self.x = x\n",
    "        self.y = y\n",
    "        \n",
    "    def dot(self, vec):\n",
    "        return self.x * vec.x + self.y * vec.y\n",
    "    \n",
    "    def det(self, vec):\n",
    "        return self.x * vec.y - self.y * vec.x\n",
    "        \n",
    "    def __add__(self, val):\n",
    "        if isinstance(val, Vector):\n",
    "            return Vector(self.x + val.x, self.y + val.y)\n",
    "        else:\n",
    "            return Vector(self.x + val, self.y + val)\n",
    "    \n",
    "    def __sub__(self, val):\n",
    "        if isinstance(val, Vector):\n",
    "            return Vector(self.x - val.x, self.y - val.y)\n",
    "        else:\n",
    "            return Vector(self.x - val, self.y - val)\n",
    "    \n",
    "    def __mul__(self, val):\n",
    "        if isinstance(val, Vector):\n",
    "            return Vector(self.x * val.x, self.y * val.y)\n",
    "        else:\n",
    "            return Vector(self.x * val, self.y * val)\n",
    "    \n",
    "    def __truediv__(self, val):\n",
    "        if isinstance(val, Vector):\n",
    "            return Vector(self.x / val.x, self.y / val.y)\n",
    "        else:\n",
    "            return Vector(self.x / val, self.y / val)\n",
    "    \n",
    "    def __repr__(self):\n",
    "        return '[{}, {}]'.format(self.x, self.y)"
   ]
  },
  {
   "cell_type": "markdown",
   "metadata": {},
   "source": [
    "#### ここまで面倒なことをしなくても"
   ]
  },
  {
   "cell_type": "code",
   "execution_count": 49,
   "metadata": {},
   "outputs": [],
   "source": [
    "def square(x0, y0, x1, y1):\n",
    "    return (x0 * y1 - y0 * x1) / 2"
   ]
  },
  {
   "cell_type": "code",
   "execution_count": 52,
   "metadata": {},
   "outputs": [
    {
     "name": "stdout",
     "output_type": "stream",
     "text": [
      "2\n"
     ]
    }
   ],
   "source": [
    "cnt = 0\n",
    "for i in range(N):\n",
    "    x0, y0 = X[i]\n",
    "    x1, y1 = X[(i + 1) % N]\n",
    "    \n",
    "    t1 = square(x0 - A_x, y0 - A_y, x1 - A_x, y1 - A_y)\n",
    "    t2 = square(x0 - B_x, y0 - B_y, x1 - B_x, y1 - B_y)\n",
    "    s1 = square(A_x - x0, A_y - y0, B_x - x0, B_y - y0)\n",
    "    s2 = square(A_x - x1, A_y - y1, B_x - x1, B_y - y1)\n",
    "    \n",
    "    cnt += int(t1 * t2 < 0 and s1 * s2 < 0)\n",
    "    \n",
    "print(cnt // 2 + 1)"
   ]
  },
  {
   "cell_type": "code",
   "execution_count": null,
   "metadata": {},
   "outputs": [],
   "source": []
  },
  {
   "cell_type": "code",
   "execution_count": null,
   "metadata": {},
   "outputs": [],
   "source": []
  },
  {
   "cell_type": "code",
   "execution_count": null,
   "metadata": {},
   "outputs": [],
   "source": []
  },
  {
   "cell_type": "code",
   "execution_count": null,
   "metadata": {},
   "outputs": [],
   "source": []
  },
  {
   "cell_type": "code",
   "execution_count": null,
   "metadata": {},
   "outputs": [],
   "source": []
  },
  {
   "cell_type": "code",
   "execution_count": null,
   "metadata": {},
   "outputs": [],
   "source": []
  },
  {
   "cell_type": "code",
   "execution_count": null,
   "metadata": {},
   "outputs": [],
   "source": []
  },
  {
   "cell_type": "code",
   "execution_count": null,
   "metadata": {},
   "outputs": [],
   "source": []
  },
  {
   "cell_type": "code",
   "execution_count": null,
   "metadata": {},
   "outputs": [],
   "source": []
  },
  {
   "cell_type": "code",
   "execution_count": null,
   "metadata": {},
   "outputs": [],
   "source": []
  }
 ],
 "metadata": {
  "kernelspec": {
   "display_name": "Python 3",
   "language": "python",
   "name": "python3"
  },
  "language_info": {
   "codemirror_mode": {
    "name": "ipython",
    "version": 3
   },
   "file_extension": ".py",
   "mimetype": "text/x-python",
   "name": "python",
   "nbconvert_exporter": "python",
   "pygments_lexer": "ipython3",
   "version": "3.7.3"
  }
 },
 "nbformat": 4,
 "nbformat_minor": 2
}
