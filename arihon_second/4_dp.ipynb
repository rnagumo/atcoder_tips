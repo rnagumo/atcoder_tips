{
 "cells": [
  {
   "cell_type": "markdown",
   "metadata": {},
   "source": [
    "# JOI 2017 予選 - D\n",
    "\n",
    "bit DP\n",
    "\n",
    "https://atcoder.jp/contests/joi2017yo/tasks/joi2017yo_d\n",
    "\n",
    "参考）  \n",
    "https://atcoder.jp/contests/joi2017yo/submissions/5582409"
   ]
  },
  {
   "cell_type": "code",
   "execution_count": 7,
   "metadata": {},
   "outputs": [
    {
     "name": "stdout",
     "output_type": "stream",
     "text": [
      "ans: 2\n"
     ]
    }
   ],
   "source": [
    "N, M = 7, 2\n",
    "X = [1, 2, 2, 2, 1, 2, 1]\n",
    "\n",
    "print('ans: 2')"
   ]
  },
  {
   "cell_type": "markdown",
   "metadata": {},
   "source": [
    "#### 累積和"
   ]
  },
  {
   "cell_type": "code",
   "execution_count": 8,
   "metadata": {},
   "outputs": [
    {
     "data": {
      "text/plain": [
       "[[0, 1, 1, 1, 1, 2, 2, 3], [0, 0, 1, 2, 3, 3, 4, 4]]"
      ]
     },
     "execution_count": 8,
     "metadata": {},
     "output_type": "execute_result"
    }
   ],
   "source": [
    "cumsum = [[0] * (N + 1) for _ in range(M)]\n",
    "for j in range(N):\n",
    "    for i in range(M):\n",
    "        cumsum[i][j + 1] = cumsum[i][j] + int(i + 1 == X[j])\n",
    "        \n",
    "cumsum"
   ]
  },
  {
   "cell_type": "code",
   "execution_count": 13,
   "metadata": {},
   "outputs": [
    {
     "name": "stdout",
     "output_type": "stream",
     "text": [
      "2\n"
     ]
    }
   ],
   "source": [
    "from collections import Counter\n",
    "\n",
    "ctr = Counter(X)\n",
    "INF = 10 ** 9 + 7\n",
    "dp = [INF] * (1 << M)\n",
    "dp[0] = 0\n",
    "\n",
    "for i in range(1 << M):\n",
    "    l = sum(ctr[j + 1] for j in range(M) if i >> j & 1)\n",
    "\n",
    "    for j in range(M):\n",
    "        if not i >> j & 1:\n",
    "            cnt = ctr[j + 1] - (cumsum[j][l + ctr[j + 1]] - cumsum[j][l])\n",
    "            dp[i | 1 << j] = min(dp[i | 1 << j], dp[i] + cnt)\n",
    "        \n",
    "print(dp[-1])"
   ]
  },
  {
   "cell_type": "code",
   "execution_count": 14,
   "metadata": {},
   "outputs": [
    {
     "data": {
      "text/plain": [
       "[0, 2, 1, 2]"
      ]
     },
     "execution_count": 14,
     "metadata": {},
     "output_type": "execute_result"
    }
   ],
   "source": [
    "dp"
   ]
  },
  {
   "cell_type": "markdown",
   "metadata": {},
   "source": [
    "# AOJ DPL_2_A\n",
    "\n",
    "巡回セールスマン問題\n",
    "\n",
    "http://judge.u-aizu.ac.jp/onlinejudge/description.jsp?id=DPL_2_A&lang=jp"
   ]
  },
  {
   "cell_type": "code",
   "execution_count": 23,
   "metadata": {},
   "outputs": [
    {
     "name": "stdout",
     "output_type": "stream",
     "text": [
      "ans: 16\n"
     ]
    }
   ],
   "source": [
    "V, E = 4, 6\n",
    "edges = [[0, 1, 2], [1, 2, 3], [1, 3, 9], [2, 0, 1], [2, 3, 6], [3, 2, 4]]\n",
    "\n",
    "print('ans: 16')"
   ]
  },
  {
   "cell_type": "code",
   "execution_count": 24,
   "metadata": {},
   "outputs": [],
   "source": [
    "graph = [[None] * V for _ in range(V)]\n",
    "for x, y, d in edges:\n",
    "    graph[x][y] = d"
   ]
  },
  {
   "cell_type": "code",
   "execution_count": 25,
   "metadata": {},
   "outputs": [
    {
     "data": {
      "text/plain": [
       "[[None, 2, None, None],\n",
       " [None, None, 3, 9],\n",
       " [1, None, None, 6],\n",
       " [None, None, 4, None]]"
      ]
     },
     "execution_count": 25,
     "metadata": {},
     "output_type": "execute_result"
    }
   ],
   "source": [
    "graph"
   ]
  },
  {
   "cell_type": "code",
   "execution_count": 26,
   "metadata": {},
   "outputs": [
    {
     "name": "stdout",
     "output_type": "stream",
     "text": [
      "16\n"
     ]
    }
   ],
   "source": [
    "INF = 10 ** 9 + 7\n",
    "dp = [[INF] * V for _ in range(1 << V)]\n",
    "dp[-1][0] = 0\n",
    "\n",
    "for s in reversed(range(1 << V)):\n",
    "    for u in range(V):\n",
    "        for v in range(V):\n",
    "            if (not s >> v & 1) and (graph[u][v] is not None):\n",
    "                dp[s][u] = min(dp[s][u], dp[s | 1 << v][v] + graph[u][v])\n",
    "                \n",
    "print(dp[0][0] if dp[0][0] != INF else -1)"
   ]
  },
  {
   "cell_type": "code",
   "execution_count": 27,
   "metadata": {},
   "outputs": [
    {
     "data": {
      "text/plain": [
       "[[16, 1000000007, 1000000007, 1000000007],\n",
       " [1000000007, 1000000007, 1000000007, 1000000007],\n",
       " [1000000007, 14, 11, 1000000007],\n",
       " [1000000007, 1000000007, 1000000007, 1000000007],\n",
       " [1000000007, 1000000007, 1000000007, 1000000007],\n",
       " [1000000007, 1000000007, 1000000007, 1000000007],\n",
       " [1000000007, 1000000007, 1000000007, 1000000007],\n",
       " [1000000007, 1000000007, 1000000007, 1000000007],\n",
       " [6, 1000000007, 1000000007, 1000000007],\n",
       " [1000000007, 1000000007, 1000000007, 1000000007],\n",
       " [1000000007, 4, 1000000007, 5],\n",
       " [1000000007, 1000000007, 1000000007, 1000000007],\n",
       " [1000000007, 1000000007, 1000000007, 1000000007],\n",
       " [1000000007, 1000000007, 1000000007, 1000000007],\n",
       " [1000000007, 1000000007, 1, 1000000007],\n",
       " [0, 1000000007, 1000000007, 1000000007]]"
      ]
     },
     "execution_count": 27,
     "metadata": {},
     "output_type": "execute_result"
    }
   ],
   "source": [
    "dp"
   ]
  },
  {
   "cell_type": "markdown",
   "metadata": {},
   "source": [
    "# ABC - 41\n",
    "\n",
    "トポロジカルソートの数え上げ\n",
    "\n",
    "https://atcoder.jp/contests/abc041/tasks/abc041_d"
   ]
  },
  {
   "cell_type": "code",
   "execution_count": 47,
   "metadata": {},
   "outputs": [
    {
     "name": "stdout",
     "output_type": "stream",
     "text": [
      "ans: 2\n"
     ]
    }
   ],
   "source": [
    "N, M = 3, 2\n",
    "edges = [[2, 1], [2, 3]]\n",
    "\n",
    "print('ans: 2')"
   ]
  },
  {
   "cell_type": "code",
   "execution_count": 48,
   "metadata": {},
   "outputs": [
    {
     "data": {
      "text/plain": [
       "[[], [0, 2], []]"
      ]
     },
     "execution_count": 48,
     "metadata": {},
     "output_type": "execute_result"
    }
   ],
   "source": [
    "graph = [[] for _ in range(N)]\n",
    "for u, v in edges:\n",
    "    graph[u - 1].append(v - 1)\n",
    "    \n",
    "graph"
   ]
  },
  {
   "cell_type": "code",
   "execution_count": 61,
   "metadata": {},
   "outputs": [
    {
     "name": "stdout",
     "output_type": "stream",
     "text": [
      "2\n"
     ]
    }
   ],
   "source": [
    "dp = [0] * (1 << N)\n",
    "dp[0] = 1\n",
    "\n",
    "for s in range(1 << N):\n",
    "    for u in range(N):\n",
    "        if (s >> u & 1 == 0) and all(s >> v & 1 == 0 for v in graph[u]):\n",
    "            dp[s | 1 << u] += dp[s]\n",
    "                \n",
    "print(dp[-1])"
   ]
  },
  {
   "cell_type": "code",
   "execution_count": null,
   "metadata": {},
   "outputs": [],
   "source": []
  }
 ],
 "metadata": {
  "kernelspec": {
   "display_name": "Python 3",
   "language": "python",
   "name": "python3"
  },
  "language_info": {
   "codemirror_mode": {
    "name": "ipython",
    "version": 3
   },
   "file_extension": ".py",
   "mimetype": "text/x-python",
   "name": "python",
   "nbconvert_exporter": "python",
   "pygments_lexer": "ipython3",
   "version": "3.7.3"
  }
 },
 "nbformat": 4,
 "nbformat_minor": 2
}
