{
 "cells": [
  {
   "cell_type": "markdown",
   "metadata": {},
   "source": [
    "# ABC 32 - C\n",
    "\n",
    "しゃくとり法\n",
    "\n",
    "https://atcoder.jp/contests/abc032/tasks/abc032_c"
   ]
  },
  {
   "cell_type": "code",
   "execution_count": 20,
   "metadata": {},
   "outputs": [
    {
     "name": "stdout",
     "output_type": "stream",
     "text": [
      "ans: 4\n"
     ]
    }
   ],
   "source": [
    "N, K = 7, 6\n",
    "s = [4, 3, 1, 1, 2, 10, 2]\n",
    "\n",
    "print('ans: 4')"
   ]
  },
  {
   "cell_type": "code",
   "execution_count": 23,
   "metadata": {},
   "outputs": [
    {
     "name": "stdout",
     "output_type": "stream",
     "text": [
      "ans: 0\n"
     ]
    }
   ],
   "source": [
    "N, K = 4, 0\n",
    "s = [3, 2, 3, 4]\n",
    "\n",
    "print('ans: 0')"
   ]
  },
  {
   "cell_type": "code",
   "execution_count": 24,
   "metadata": {},
   "outputs": [
    {
     "name": "stdout",
     "output_type": "stream",
     "text": [
      "0 0 0 1\n",
      "1 0 0 1\n",
      "2 0 0 1\n",
      "3 0 0 1\n",
      "0\n"
     ]
    }
   ],
   "source": [
    "r = 0\n",
    "x = 1\n",
    "ans = 0\n",
    "\n",
    "for l in range(N):\n",
    "    while r < N and x * s[r] <= K:\n",
    "        x *= s[r]\n",
    "        r += 1\n",
    "\n",
    "    ans = max(ans, r - l)\n",
    "    if r > l:\n",
    "        x //= s[l]\n",
    "    \n",
    "print(ans)"
   ]
  },
  {
   "cell_type": "markdown",
   "metadata": {},
   "source": [
    "# ABC 38 - C\n",
    "\n",
    "https://atcoder.jp/contests/abc038/tasks/abc038_c"
   ]
  },
  {
   "cell_type": "code",
   "execution_count": 38,
   "metadata": {},
   "outputs": [
    {
     "name": "stdout",
     "output_type": "stream",
     "text": [
      "ans: 8\n"
     ]
    }
   ],
   "source": [
    "N = 5\n",
    "a = [1, 2, 3, 2, 1]\n",
    "\n",
    "print('ans: 8')"
   ]
  },
  {
   "cell_type": "code",
   "execution_count": 46,
   "metadata": {},
   "outputs": [
    {
     "name": "stdout",
     "output_type": "stream",
     "text": [
      "ans: 10\n"
     ]
    }
   ],
   "source": [
    "N = 4\n",
    "a = [1, 2, 3, 4]\n",
    "\n",
    "print('ans: 10')"
   ]
  },
  {
   "cell_type": "code",
   "execution_count": 49,
   "metadata": {},
   "outputs": [
    {
     "name": "stdout",
     "output_type": "stream",
     "text": [
      "0 0\n",
      "0 4\n",
      "10\n"
     ]
    }
   ],
   "source": [
    "ans = 0\n",
    "l = 0\n",
    "r = 0\n",
    "\n",
    "while l < N:\n",
    "    while r < N and a[r - 1] < a[r]:\n",
    "        r += 1\n",
    "    \n",
    "    ans += (r - l) * (r - l + 1) // 2\n",
    "    l = r\n",
    "    r += 1\n",
    "        \n",
    "print(ans)"
   ]
  },
  {
   "cell_type": "markdown",
   "metadata": {},
   "source": [
    "そこまで手の込んだ事をしなくても通る"
   ]
  },
  {
   "cell_type": "code",
   "execution_count": 49,
   "metadata": {},
   "outputs": [
    {
     "name": "stdout",
     "output_type": "stream",
     "text": [
      "0 0\n",
      "0 4\n",
      "10\n"
     ]
    }
   ],
   "source": [
    "ans = 0\n",
    "r = 0\n",
    "\n",
    "for l in range(N):\n",
    "    while (r == l) or (r < N and a[r - 1] < a[r]):\n",
    "        r += 1\n",
    "    ans += r - l\n",
    "        \n",
    "print(ans)"
   ]
  },
  {
   "cell_type": "markdown",
   "metadata": {},
   "source": [
    "# ABC 98 - D\n",
    "\n",
    "https://atcoder.jp/contests/abc098/tasks/arc098_b"
   ]
  },
  {
   "cell_type": "code",
   "execution_count": 51,
   "metadata": {},
   "outputs": [
    {
     "name": "stdout",
     "output_type": "stream",
     "text": [
      "ans: 5\n"
     ]
    }
   ],
   "source": [
    "N = 4\n",
    "a = [2, 5, 4, 6]\n",
    "\n",
    "print('ans: 5')"
   ]
  },
  {
   "cell_type": "code",
   "execution_count": 65,
   "metadata": {},
   "outputs": [
    {
     "name": "stdout",
     "output_type": "stream",
     "text": [
      "5\n"
     ]
    }
   ],
   "source": [
    "ans = 0\n",
    "r = 0\n",
    "x_xor = 0\n",
    "x_sum = 0\n",
    "\n",
    "for l in range(N):\n",
    "    while (r == l) or (r < N and x_xor ^ a[r] == x_sum + a[r]):\n",
    "        x_xor ^= a[r]\n",
    "        x_sum += a[r]\n",
    "        r += 1\n",
    "\n",
    "    ans += r - l\n",
    "    x_xor ^= a[l]\n",
    "    x_sum -= a[l]\n",
    "    \n",
    "print(ans)"
   ]
  },
  {
   "cell_type": "markdown",
   "metadata": {},
   "source": [
    "# ARC 22 - B\n",
    "\n",
    "https://atcoder.jp/contests/arc022/tasks/arc022_2"
   ]
  },
  {
   "cell_type": "code",
   "execution_count": 1,
   "metadata": {},
   "outputs": [
    {
     "name": "stdout",
     "output_type": "stream",
     "text": [
      "ans: 3\n"
     ]
    }
   ],
   "source": [
    "N = 7\n",
    "A = [1, 2, 1, 3, 1, 4, 4]\n",
    "\n",
    "print('ans: 3')"
   ]
  },
  {
   "cell_type": "code",
   "execution_count": 8,
   "metadata": {},
   "outputs": [
    {
     "name": "stdout",
     "output_type": "stream",
     "text": [
      "3\n"
     ]
    }
   ],
   "source": [
    "from collections import Counter\n",
    "\n",
    "ctr = Counter()\n",
    "r = 0\n",
    "ans = 0\n",
    "\n",
    "for l in range(N):\n",
    "    while (r == l) or (r < N and ctr[A[r]] < 1):\n",
    "        ctr[A[r]] += 1\n",
    "        r += 1\n",
    "\n",
    "    ans = max(ans, r - l)\n",
    "    ctr[A[l]] -= 1\n",
    "    \n",
    "print(ans)"
   ]
  },
  {
   "cell_type": "markdown",
   "metadata": {},
   "source": [
    "# ABC 17 - D\n",
    "\n",
    "DP + しゃくとり法\n",
    "\n",
    "https://atcoder.jp/contests/abc017/tasks/abc017_4"
   ]
  },
  {
   "cell_type": "code",
   "execution_count": 44,
   "metadata": {},
   "outputs": [
    {
     "name": "stdout",
     "output_type": "stream",
     "text": [
      "ans: 5\n"
     ]
    }
   ],
   "source": [
    "N, M = 5, 2\n",
    "f = [1, 2, 1, 2, 2]\n",
    "\n",
    "print('ans: 5')"
   ]
  },
  {
   "cell_type": "code",
   "execution_count": 60,
   "metadata": {},
   "outputs": [
    {
     "name": "stdout",
     "output_type": "stream",
     "text": [
      "5\n"
     ]
    }
   ],
   "source": [
    "MOD = 10 ** 9 + 7\n",
    "dp = [0] * (N + 1)\n",
    "ctr = [0] * M\n",
    "\n",
    "dp[0] = 1\n",
    "l = 0\n",
    "cnt = 0\n",
    "\n",
    "for r in range(N):\n",
    "    ctr[f[r] - 1] += 1\n",
    "    cnt += dp[r]\n",
    "    while l < r and ctr[f[r] - 1] > 1:\n",
    "        ctr[f[l] - 1] -= 1\n",
    "        cnt -= dp[l]\n",
    "        cnt %= MOD\n",
    "        l += 1\n",
    "    \n",
    "    dp[r + 1] = cnt % MOD\n",
    "    \n",
    "print(dp[-1] % MOD)"
   ]
  },
  {
   "cell_type": "markdown",
   "metadata": {},
   "source": [
    "# ARC 44 - C\n",
    "\n",
    "反転（ライツアウト）\n",
    "\n",
    "https://atcoder.jp/contests/arc064/tasks/arc064_a"
   ]
  },
  {
   "cell_type": "code",
   "execution_count": 62,
   "metadata": {},
   "outputs": [
    {
     "name": "stdout",
     "output_type": "stream",
     "text": [
      "ans: 1\n"
     ]
    }
   ],
   "source": [
    "N, x = 3, 3\n",
    "a = [2, 2, 2]\n",
    "\n",
    "print('ans: 1')"
   ]
  },
  {
   "cell_type": "code",
   "execution_count": 70,
   "metadata": {},
   "outputs": [
    {
     "name": "stdout",
     "output_type": "stream",
     "text": [
      "ans: 11\n"
     ]
    }
   ],
   "source": [
    "N, x = 6, 1\n",
    "a = [1, 6, 1, 2, 0, 4]\n",
    "\n",
    "print('ans: 11')"
   ]
  },
  {
   "cell_type": "code",
   "execution_count": 74,
   "metadata": {},
   "outputs": [
    {
     "name": "stdout",
     "output_type": "stream",
     "text": [
      "0\n"
     ]
    }
   ],
   "source": [
    "cnt = 0\n",
    "ans = 0\n",
    "\n",
    "for i in range(N):\n",
    "    cnt += a[i]\n",
    "    if cnt > x:\n",
    "        ans += cnt - x\n",
    "        a[i] -= cnt - x\n",
    "        cnt = x\n",
    "        \n",
    "    cnt -= a[i - 1] if i > 0 else 0\n",
    "        \n",
    "print(ans)"
   ]
  },
  {
   "cell_type": "markdown",
   "metadata": {},
   "source": [
    "# ABC 83 - D\n",
    "\n",
    "https://atcoder.jp/contests/abc083/tasks/arc088_b"
   ]
  },
  {
   "cell_type": "code",
   "execution_count": 1,
   "metadata": {},
   "outputs": [
    {
     "name": "stdout",
     "output_type": "stream",
     "text": [
      "ans: 2\n"
     ]
    }
   ],
   "source": [
    "S = [0, 1, 0]\n",
    "\n",
    "print('ans: 2')"
   ]
  },
  {
   "cell_type": "code",
   "execution_count": 22,
   "metadata": {},
   "outputs": [
    {
     "name": "stdout",
     "output_type": "stream",
     "text": [
      "ans: 8\n"
     ]
    }
   ],
   "source": [
    "S = [1, 0, 0, 0, 0, 0, 0, 0, 0]\n",
    "\n",
    "print('ans: 8')"
   ]
  },
  {
   "cell_type": "markdown",
   "metadata": {},
   "source": [
    "#### 長さKの連続する区間を反転させる問題ならば，これで解ける"
   ]
  },
  {
   "cell_type": "code",
   "execution_count": 23,
   "metadata": {},
   "outputs": [],
   "source": [
    "def solve(K):\n",
    "    MAX_LEN = len(S)\n",
    "    f = [0] * MAX_LEN\n",
    "    acm = 0\n",
    "    ret = 0\n",
    "    for i in range(MAX_LEN - K + 1):\n",
    "        if (S[i] + acm) % 2 != 0:\n",
    "            f[i] += 1\n",
    "            ret += 1\n",
    "        \n",
    "        acm += f[i]\n",
    "        if i - K + 1 >= 0:\n",
    "            acm -= f[i - K + 1]\n",
    "            \n",
    "    for i in range(MAX_LEN - K + 1, MAX_LEN):\n",
    "        if (S[i] + acm) % 2 != 0:\n",
    "            return -1\n",
    "        \n",
    "        if i - K + 1 >= 0:\n",
    "            acm -= f[i - K + 1]\n",
    "            \n",
    "    \n",
    "    return ret"
   ]
  },
  {
   "cell_type": "code",
   "execution_count": 24,
   "metadata": {},
   "outputs": [
    {
     "name": "stdout",
     "output_type": "stream",
     "text": [
      "2\n"
     ]
    }
   ],
   "source": [
    "ub = len(S)\n",
    "lb = 0\n",
    "while ub - lb > 1:\n",
    "    mid = (lb + ub) // 2\n",
    "    ans = solve(mid)\n",
    "    if 0 <= ans < len(S):\n",
    "        lb = mid\n",
    "    else:\n",
    "        ub = mid\n",
    "    \n",
    "print(ub)"
   ]
  },
  {
   "cell_type": "markdown",
   "metadata": {},
   "source": [
    "#### 今回は，長さK以上の区間の反転"
   ]
  },
  {
   "cell_type": "code",
   "execution_count": 25,
   "metadata": {},
   "outputs": [
    {
     "name": "stdout",
     "output_type": "stream",
     "text": [
      "ans: 2\n"
     ]
    }
   ],
   "source": [
    "S = '010'\n",
    "\n",
    "print('ans: 2')"
   ]
  },
  {
   "cell_type": "code",
   "execution_count": 32,
   "metadata": {},
   "outputs": [
    {
     "name": "stdout",
     "output_type": "stream",
     "text": [
      "2\n"
     ]
    }
   ],
   "source": [
    "N = len(S)\n",
    "ans = 10 ** 6\n",
    "for k in range(N - 1):\n",
    "    if S[k] != S[k + 1]:\n",
    "        ans = min(ans, max(k + 1, N - k - 1))\n",
    "        \n",
    "if ans != 10 ** 6:\n",
    "    print(ans)\n",
    "else:\n",
    "    print(N)"
   ]
  },
  {
   "cell_type": "markdown",
   "metadata": {},
   "source": [
    "# JOI 2008 予選 - E\n",
    "\n",
    "https://atcoder.jp/contests/joi2008yo/tasks/joi2008yo_e"
   ]
  },
  {
   "cell_type": "code",
   "execution_count": 33,
   "metadata": {},
   "outputs": [
    {
     "name": "stdout",
     "output_type": "stream",
     "text": [
      "ans: 9\n"
     ]
    }
   ],
   "source": [
    "R, C = 2, 5\n",
    "X = [[0, 1, 0, 1, 0], [1, 0, 0, 0, 1]]\n",
    "\n",
    "print('ans: 9')"
   ]
  },
  {
   "cell_type": "code",
   "execution_count": 43,
   "metadata": {},
   "outputs": [
    {
     "name": "stdout",
     "output_type": "stream",
     "text": [
      "9\n"
     ]
    }
   ],
   "source": [
    "ans = 0\n",
    "for k in range(2 ** R):\n",
    "    y = []\n",
    "    for i in range(R):\n",
    "        if k >> i & 1:\n",
    "            y.append([v ^ 1 for v in X[i]])\n",
    "        else:\n",
    "            y.append(X[i])\n",
    "    \n",
    "    cnt = 0\n",
    "    for j in range(C):\n",
    "        v = sum(y[i][j] for i in range(R))\n",
    "        cnt += max(v, R - v)\n",
    "    ans = max(ans, cnt)\n",
    "    \n",
    "print(ans)"
   ]
  },
  {
   "cell_type": "markdown",
   "metadata": {},
   "source": [
    "# ABC 18 - D\n",
    "\n",
    "https://atcoder.jp/contests/abc018/tasks/abc018_4"
   ]
  },
  {
   "cell_type": "code",
   "execution_count": 44,
   "metadata": {},
   "outputs": [
    {
     "name": "stdout",
     "output_type": "stream",
     "text": [
      "ans: 37\n"
     ]
    }
   ],
   "source": [
    "N, M, P, Q, R = 3, 4, 2, 3, 7\n",
    "X = [[1, 1, 9], [1, 2, 7], [1, 3, 15], [1, 4, 6], \n",
    "     [2, 2, 3], [2, 4, 6], [3, 3, 6]]\n",
    "\n",
    "print('ans: 37')"
   ]
  },
  {
   "cell_type": "code",
   "execution_count": 58,
   "metadata": {},
   "outputs": [],
   "source": [
    "from collections import defaultdict\n",
    "\n",
    "edges = defaultdict(list)\n",
    "for i, j, c in X:\n",
    "    edges[i].append([j, c])"
   ]
  },
  {
   "cell_type": "code",
   "execution_count": 56,
   "metadata": {},
   "outputs": [
    {
     "data": {
      "text/plain": [
       "defaultdict(list,\n",
       "            {1: [[1, 9], [2, 7], [3, 15], [4, 6]],\n",
       "             2: [[2, 3], [4, 6]],\n",
       "             3: [[3, 6]]})"
      ]
     },
     "execution_count": 56,
     "metadata": {},
     "output_type": "execute_result"
    }
   ],
   "source": [
    "edges"
   ]
  },
  {
   "cell_type": "code",
   "execution_count": 59,
   "metadata": {},
   "outputs": [
    {
     "name": "stdout",
     "output_type": "stream",
     "text": [
      "37\n"
     ]
    }
   ],
   "source": [
    "from itertools import combinations\n",
    "\n",
    "ans = 0\n",
    "for k in combinations(range(N), P):\n",
    "    ctr = [0] * M\n",
    "    for i in k:\n",
    "        for j, c in edges[i + 1]:\n",
    "            ctr[j - 1] += c\n",
    "\n",
    "    ans = max(ans, sum(sorted(ctr)[-Q:]))\n",
    "    \n",
    "print(ans)"
   ]
  },
  {
   "cell_type": "markdown",
   "metadata": {},
   "source": [
    "# AGC 13 - C\n",
    "\n",
    "https://atcoder.jp/contests/agc013/tasks/agc013_c"
   ]
  },
  {
   "cell_type": "code",
   "execution_count": 60,
   "metadata": {},
   "outputs": [
    {
     "name": "stdout",
     "output_type": "stream",
     "text": [
      "ans: 1 3 0\n"
     ]
    }
   ],
   "source": [
    "N, L, T = 3, 8, 3\n",
    "X = [[0, 1], [3, 2], [6, 1]]\n",
    "\n",
    "print('ans: 1 3 0')"
   ]
  },
  {
   "cell_type": "code",
   "execution_count": 73,
   "metadata": {},
   "outputs": [
    {
     "name": "stdout",
     "output_type": "stream",
     "text": [
      "0\n",
      "0\n",
      "1\n",
      "\n",
      "1\n",
      "3\n",
      "0\n"
     ]
    }
   ],
   "source": [
    "y = [0] * N\n",
    "cnt = 0\n",
    "for i, (x, w) in enumerate(X):\n",
    "    if w == 1:\n",
    "        y[i] = (x + T) % L\n",
    "        cnt += (x + T) // L\n",
    "    else:\n",
    "        y[i] = (x - T) % L\n",
    "        cnt += (x - T) // L\n",
    "    print(cnt)\n",
    "\n",
    "print()\n",
    "y.sort()\n",
    "for i in range(N):\n",
    "    print(y[(i + cnt) % N])"
   ]
  },
  {
   "cell_type": "markdown",
   "metadata": {},
   "source": [
    "# ABC 32 - D\n",
    "\n",
    "https://atcoder.jp/contests/abc032/tasks/abc032_d"
   ]
  },
  {
   "cell_type": "code",
   "execution_count": 31,
   "metadata": {},
   "outputs": [
    {
     "name": "stdout",
     "output_type": "stream",
     "text": [
      "ans: 16\n"
     ]
    }
   ],
   "source": [
    "N, W = 3, 10\n",
    "X = [[15, 9], [10, 6], [6, 4]]\n",
    "\n",
    "print('ans: 16')"
   ]
  },
  {
   "cell_type": "code",
   "execution_count": null,
   "metadata": {},
   "outputs": [],
   "source": []
  },
  {
   "cell_type": "code",
   "execution_count": null,
   "metadata": {},
   "outputs": [],
   "source": []
  },
  {
   "cell_type": "code",
   "execution_count": null,
   "metadata": {},
   "outputs": [],
   "source": []
  },
  {
   "cell_type": "code",
   "execution_count": null,
   "metadata": {},
   "outputs": [],
   "source": []
  },
  {
   "cell_type": "code",
   "execution_count": null,
   "metadata": {},
   "outputs": [],
   "source": []
  },
  {
   "cell_type": "code",
   "execution_count": null,
   "metadata": {},
   "outputs": [],
   "source": []
  },
  {
   "cell_type": "code",
   "execution_count": null,
   "metadata": {},
   "outputs": [],
   "source": []
  },
  {
   "cell_type": "code",
   "execution_count": null,
   "metadata": {},
   "outputs": [],
   "source": []
  },
  {
   "cell_type": "code",
   "execution_count": null,
   "metadata": {},
   "outputs": [],
   "source": []
  },
  {
   "cell_type": "code",
   "execution_count": null,
   "metadata": {},
   "outputs": [],
   "source": []
  },
  {
   "cell_type": "code",
   "execution_count": null,
   "metadata": {},
   "outputs": [],
   "source": []
  }
 ],
 "metadata": {
  "kernelspec": {
   "display_name": "Python 3",
   "language": "python",
   "name": "python3"
  },
  "language_info": {
   "codemirror_mode": {
    "name": "ipython",
    "version": 3
   },
   "file_extension": ".py",
   "mimetype": "text/x-python",
   "name": "python",
   "nbconvert_exporter": "python",
   "pygments_lexer": "ipython3",
   "version": "3.7.3"
  }
 },
 "nbformat": 4,
 "nbformat_minor": 2
}
