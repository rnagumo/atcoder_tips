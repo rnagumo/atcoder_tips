{
 "cells": [
  {
   "cell_type": "markdown",
   "metadata": {},
   "source": [
    "# ABC 77 - C\n",
    "\n",
    "https://atcoder.jp/contests/abc077/tasks/arc084_a"
   ]
  },
  {
   "cell_type": "code",
   "execution_count": 1,
   "metadata": {},
   "outputs": [
    {
     "name": "stdout",
     "output_type": "stream",
     "text": [
      "ans: 3\n"
     ]
    }
   ],
   "source": [
    "N = 2\n",
    "A = [1, 5]\n",
    "B = [2, 4]\n",
    "C = [3, 6]\n",
    "\n",
    "print('ans: 3')"
   ]
  },
  {
   "cell_type": "code",
   "execution_count": 9,
   "metadata": {},
   "outputs": [
    {
     "name": "stdout",
     "output_type": "stream",
     "text": [
      "3\n"
     ]
    }
   ],
   "source": [
    "from bisect import bisect_left, bisect_right\n",
    "\n",
    "A.sort()\n",
    "B.sort()\n",
    "C.sort()\n",
    "\n",
    "cnt_a = [0] * N\n",
    "for i in range(N):\n",
    "    cnt_a[i] = bisect_left(A, B[i])\n",
    "    \n",
    "cnt_b = [0] * N\n",
    "for i in range(N):\n",
    "    cnt_b[i] = bisect_right(C, B[i])\n",
    "    \n",
    "ans = sum(v * (N - w) for v, w in zip(cnt_a, cnt_b))\n",
    "print(ans)"
   ]
  },
  {
   "cell_type": "markdown",
   "metadata": {},
   "source": [
    "# ARC 37 - C\n",
    "\n",
    "https://atcoder.jp/contests/arc037/tasks/arc037_c"
   ]
  },
  {
   "cell_type": "code",
   "execution_count": 1,
   "metadata": {},
   "outputs": [
    {
     "name": "stdout",
     "output_type": "stream",
     "text": [
      "ans: 10\n"
     ]
    }
   ],
   "source": [
    "N, K = 2, 3\n",
    "a = [2, 3]\n",
    "b = [3, 5]\n",
    "\n",
    "print('ans: 10')"
   ]
  },
  {
   "cell_type": "markdown",
   "metadata": {},
   "source": [
    "#### TLE"
   ]
  },
  {
   "cell_type": "code",
   "execution_count": 12,
   "metadata": {},
   "outputs": [
    {
     "name": "stdout",
     "output_type": "stream",
     "text": [
      "10\n"
     ]
    }
   ],
   "source": [
    "ans = [0] * (N * N)\n",
    "for i in range(N):\n",
    "    for j in range(N):\n",
    "        ans[i * N + j] = a[i] * b[j]\n",
    "        \n",
    "print(sorted(ans)[K - 1])"
   ]
  },
  {
   "cell_type": "markdown",
   "metadata": {},
   "source": [
    "#### 満点解法"
   ]
  },
  {
   "cell_type": "code",
   "execution_count": 2,
   "metadata": {},
   "outputs": [
    {
     "name": "stdout",
     "output_type": "stream",
     "text": [
      "10\n"
     ]
    }
   ],
   "source": [
    "from bisect import bisect_right\n",
    "\n",
    "# Lower bound, upper bound\n",
    "lb = 0\n",
    "ub = max(a) * max(b)\n",
    "b.sort()\n",
    "\n",
    "while ub - lb > 1:\n",
    "    mid = (lb + ub) // 2\n",
    "    cnt = 0\n",
    "    for i in range(N):\n",
    "        cnt += bisect_right(b, mid // a[i])\n",
    "\n",
    "    if cnt < K:\n",
    "        lb = mid\n",
    "    else:\n",
    "        ub = mid\n",
    "\n",
    "print(ub)"
   ]
  },
  {
   "cell_type": "markdown",
   "metadata": {},
   "source": [
    "# ABC 23 - D\n",
    "\n",
    "https://atcoder.jp/contests/abc023/tasks/abc023_d"
   ]
  },
  {
   "cell_type": "code",
   "execution_count": 17,
   "metadata": {},
   "outputs": [
    {
     "name": "stdout",
     "output_type": "stream",
     "text": [
      "ans: 23\n"
     ]
    }
   ],
   "source": [
    "N = 4\n",
    "X = [[5, 6], [12, 4], [14, 7], [21, 2]]\n",
    "H = [5, 12, 14, 21]\n",
    "S = [6, 4, 7, 2]\n",
    "\n",
    "print('ans: 23')"
   ]
  },
  {
   "cell_type": "markdown",
   "metadata": {},
   "source": [
    "#### 部分点解法"
   ]
  },
  {
   "cell_type": "code",
   "execution_count": 34,
   "metadata": {},
   "outputs": [
    {
     "name": "stdout",
     "output_type": "stream",
     "text": [
      "23\n"
     ]
    }
   ],
   "source": [
    "MAX = max(h + s * N for h, s in X)\n",
    "for i in range(1, MAX + 1):\n",
    "    q = sorted([(i - h) // s for h, s in X])\n",
    "    \n",
    "    t = -1\n",
    "    for v in q:\n",
    "        if v > t:\n",
    "            t += 1\n",
    "        else:\n",
    "            break\n",
    "    else:\n",
    "        ans = i\n",
    "        break\n",
    "\n",
    "print(ans)"
   ]
  },
  {
   "cell_type": "markdown",
   "metadata": {},
   "source": [
    "#### 二分探索\n",
    "\n",
    "* 計算量は$O(N \\log N * \\log(max(h + Ns)))$\n",
    "* 二分探索の中で，Greedyに条件判定をしている．"
   ]
  },
  {
   "cell_type": "code",
   "execution_count": 40,
   "metadata": {},
   "outputs": [
    {
     "name": "stdout",
     "output_type": "stream",
     "text": [
      "23\n"
     ]
    }
   ],
   "source": [
    "lb = 0\n",
    "ub = max(h + s * N for h, s in X)\n",
    "\n",
    "while ub - lb > 1:\n",
    "    mid = (lb + ub) // 2\n",
    "    q = sorted([(mid - h) // s for h, s in X])\n",
    "    \n",
    "    t = -1\n",
    "    flg = True\n",
    "    for v in q:\n",
    "        if v > t:\n",
    "            t += 1\n",
    "        else:\n",
    "            flg = False\n",
    "            break\n",
    "\n",
    "    if flg:\n",
    "        ub = mid\n",
    "    else:\n",
    "        lb = mid\n",
    "\n",
    "print(ub)"
   ]
  },
  {
   "cell_type": "markdown",
   "metadata": {},
   "source": [
    "# ABC 26 - D\n",
    "\n",
    "https://atcoder.jp/contests/abc026/tasks/abc026_d"
   ]
  },
  {
   "cell_type": "code",
   "execution_count": 44,
   "metadata": {},
   "outputs": [
    {
     "name": "stdout",
     "output_type": "stream",
     "text": [
      "ans: 100\n"
     ]
    }
   ],
   "source": [
    "A, B, C = 1, 1, 1\n",
    "\n",
    "print('ans: 100')"
   ]
  },
  {
   "cell_type": "markdown",
   "metadata": {},
   "source": [
    "#### iterationの回数を予め設定する方法もある．\n",
    "\n",
    "例えば100回だと，$2^{-100} \\sim 10^{-30}$程度なので，十分許容範囲である．"
   ]
  },
  {
   "cell_type": "code",
   "execution_count": 47,
   "metadata": {},
   "outputs": [],
   "source": [
    "from math import sin, pi\n",
    "\n",
    "def func(t):\n",
    "    return A * t + B * sin(C * t * pi)"
   ]
  },
  {
   "cell_type": "code",
   "execution_count": 51,
   "metadata": {},
   "outputs": [
    {
     "name": "stdout",
     "output_type": "stream",
     "text": [
      "100.00000000000001\n"
     ]
    }
   ],
   "source": [
    "lb = 0\n",
    "ub = 10 ** 9 + 7\n",
    "cnt = 0\n",
    "\n",
    "for _ in range(100):\n",
    "    mid = (lb + ub) / 2\n",
    "    cnt = func(mid)\n",
    "    \n",
    "    if cnt > 100:\n",
    "        ub = mid\n",
    "    else:\n",
    "        lb = mid\n",
    "        \n",
    "print(ub)"
   ]
  },
  {
   "cell_type": "markdown",
   "metadata": {},
   "source": [
    "# Code Festival 2015 A - D\n",
    "\n",
    "最小値の最大化 (最大値の最小化)\n",
    "\n",
    "https://atcoder.jp/contests/code-festival-2015-quala/tasks/codefestival_2015_qualA_d"
   ]
  },
  {
   "cell_type": "code",
   "execution_count": 1,
   "metadata": {},
   "outputs": [
    {
     "name": "stdout",
     "output_type": "stream",
     "text": [
      "ans: 3\n"
     ]
    }
   ],
   "source": [
    "N, M = 17, 5\n",
    "X = [1, 5, 10, 15, 16]\n",
    "\n",
    "print('ans: 3')"
   ]
  },
  {
   "cell_type": "code",
   "execution_count": 4,
   "metadata": {},
   "outputs": [
    {
     "name": "stdout",
     "output_type": "stream",
     "text": [
      "ans: 8\n"
     ]
    }
   ],
   "source": [
    "N, M = 66, 10\n",
    "X = [8, 9, 16, 23, 37, 47, 51, 52, 53, 64]\n",
    "\n",
    "print('ans: 8')"
   ]
  },
  {
   "cell_type": "markdown",
   "metadata": {},
   "source": [
    "cond\n",
    "\n",
    "1. 範囲の左側が制限より大きければ，どうやっても無理\n",
    "2. 解説にある通り  \n",
    "   （「先に左に行った後に右に行く」か「後で左に行く代わりに右を往復するか」）．\n",
    "3. 左端がarrayの左に飛び出した場合（i=0用）"
   ]
  },
  {
   "cell_type": "code",
   "execution_count": 9,
   "metadata": {},
   "outputs": [],
   "source": [
    "def cond(t):\n",
    "    d = 0\n",
    "    for x in X:\n",
    "        l = x - d - 1\n",
    "        if l > t:\n",
    "            return False\n",
    "        elif l >= 0: \n",
    "            d = x + max(t - l * 2, (t - l) // 2)\n",
    "        elif l < 0:\n",
    "            d = max(d, x + t)\n",
    "\n",
    "    return d >= N"
   ]
  },
  {
   "cell_type": "code",
   "execution_count": 8,
   "metadata": {},
   "outputs": [
    {
     "name": "stdout",
     "output_type": "stream",
     "text": [
      "130\n",
      "97\n",
      "80\n",
      "68\n",
      "8\n"
     ]
    }
   ],
   "source": [
    "if N == M:\n",
    "    print(0)\n",
    "else:\n",
    "    lb = 0\n",
    "    ub = N * 2\n",
    "    while ub - lb > 1:\n",
    "        mid = (lb + ub) // 2\n",
    "\n",
    "        if cond(mid):\n",
    "            ub = mid\n",
    "        else:\n",
    "            lb = mid\n",
    "    \n",
    "    print(ub)"
   ]
  },
  {
   "cell_type": "markdown",
   "metadata": {},
   "source": [
    "# ABC 34 - D\n",
    "\n",
    "平均値の最大化\n",
    "\n",
    "https://atcoder.jp/contests/abc034/tasks/abc034_d"
   ]
  },
  {
   "cell_type": "code",
   "execution_count": null,
   "metadata": {},
   "outputs": [],
   "source": []
  },
  {
   "cell_type": "code",
   "execution_count": null,
   "metadata": {},
   "outputs": [],
   "source": []
  },
  {
   "cell_type": "code",
   "execution_count": null,
   "metadata": {},
   "outputs": [],
   "source": []
  },
  {
   "cell_type": "code",
   "execution_count": null,
   "metadata": {},
   "outputs": [],
   "source": []
  },
  {
   "cell_type": "code",
   "execution_count": null,
   "metadata": {},
   "outputs": [],
   "source": []
  },
  {
   "cell_type": "code",
   "execution_count": null,
   "metadata": {},
   "outputs": [],
   "source": []
  }
 ],
 "metadata": {
  "kernelspec": {
   "display_name": "Python 3",
   "language": "python",
   "name": "python3"
  },
  "language_info": {
   "codemirror_mode": {
    "name": "ipython",
    "version": 3
   },
   "file_extension": ".py",
   "mimetype": "text/x-python",
   "name": "python",
   "nbconvert_exporter": "python",
   "pygments_lexer": "ipython3",
   "version": "3.7.3"
  }
 },
 "nbformat": 4,
 "nbformat_minor": 2
}
