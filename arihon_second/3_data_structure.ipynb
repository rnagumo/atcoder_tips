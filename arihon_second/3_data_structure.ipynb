{
 "cells": [
  {
   "cell_type": "markdown",
   "metadata": {},
   "source": [
    "# AOJ DSL_2_A\n",
    "\n",
    "RMQ\n",
    "\n",
    "http://judge.u-aizu.ac.jp/onlinejudge/description.jsp?id=DSL_2_A&lang=jp"
   ]
  },
  {
   "cell_type": "code",
   "execution_count": 23,
   "metadata": {},
   "outputs": [],
   "source": [
    "from math import log2, ceil\n",
    "\n",
    "INF = 2 ** 31 - 1\n",
    "\n",
    "class RMQ:\n",
    "    def __init__(self, n):\n",
    "        self.n = 2 ** ceil(log2(n))\n",
    "        self.dat = [INF] * (2 * self.n - 1)\n",
    "        \n",
    "    def update(self, k, v):\n",
    "        k += self.n - 1\n",
    "        self.dat[k] = v\n",
    "        while k > 0:\n",
    "            k = (k - 1) // 2\n",
    "            self.dat[k] = min(self.dat[k * 2 + 1], self.dat[k * 2 + 2])\n",
    "            \n",
    "    def query(self, a, b, k=0, l=0, r=None):\n",
    "        if r is None:\n",
    "            r = self.n\n",
    "        \n",
    "        if r <= a or b <= l:\n",
    "            return INF\n",
    "        \n",
    "        if a <= l and r <= b:\n",
    "            return self.dat[k]\n",
    "        \n",
    "        vl = self.query(a, b, k * 2 + 1, l, (l + r) // 2)\n",
    "        vr = self.query(a, b, k * 2 + 2, (l + r) // 2, r)\n",
    "        \n",
    "        return min(vl, vr)\n",
    "            \n",
    "    def __repr__(self):\n",
    "        return ', '.join([str(v) for v in self.dat])"
   ]
  },
  {
   "cell_type": "code",
   "execution_count": 2,
   "metadata": {},
   "outputs": [],
   "source": [
    "n, q = 3, 5\n",
    "X = [[0, 0, 1], [0, 1, 2], [0, 2, 3], [1, 0, 2], [1, 1, 2]]"
   ]
  },
  {
   "cell_type": "code",
   "execution_count": 22,
   "metadata": {},
   "outputs": [],
   "source": [
    "n, q = 1, 5\n",
    "X = [[1, 0, 0], [0, 0, 5], [1, 0, 0], [0, 0, 8], [1, 0, 0]]"
   ]
  },
  {
   "cell_type": "code",
   "execution_count": 25,
   "metadata": {},
   "outputs": [],
   "source": [
    "n = 2\n",
    "X = [[0, 0, 2], [0, 1, 1], [1, 0, 1], [1, 0, 0]]"
   ]
  },
  {
   "cell_type": "code",
   "execution_count": 28,
   "metadata": {},
   "outputs": [
    {
     "name": "stdout",
     "output_type": "stream",
     "text": [
      "-- 2, 2, 2147483647\n",
      "-- 1, 2, 1\n",
      "1\n",
      "2\n"
     ]
    }
   ],
   "source": [
    "t = RMQ(n)\n",
    "\n",
    "for com, x, y in X:\n",
    "    if com == 0:\n",
    "        t.update(x, y)\n",
    "        print('--', t)\n",
    "    else:\n",
    "        print(t.query(x, y + 1))"
   ]
  },
  {
   "cell_type": "markdown",
   "metadata": {},
   "source": [
    "# ARC 8 - D\n",
    "\n",
    "セグメントツリー\n",
    "\n",
    "https://atcoder.jp/contests/arc008/tasks/arc008_4"
   ]
  },
  {
   "cell_type": "code",
   "execution_count": 1,
   "metadata": {},
   "outputs": [
    {
     "name": "stdout",
     "output_type": "stream",
     "text": [
      "ans: 0, 1.5\n"
     ]
    }
   ],
   "source": [
    "N, M = 3, 4\n",
    "X = [[2, -1, 1], [2, 1, 0.5]]\n",
    "\n",
    "print('ans: 0, 1.5')"
   ]
  },
  {
   "cell_type": "code",
   "execution_count": 10,
   "metadata": {},
   "outputs": [],
   "source": [
    "class SegmentTree:\n",
    "    def __init__(self, n, state):\n",
    "        self.n = 2 ** n.bit_length()\n",
    "        self.tree = [state] * (2 * self.n - 1)\n",
    "        \n",
    "    def update(self, k, v):\n",
    "        k += self.n - 1\n",
    "        self.tree[k] = v\n",
    "        while k > 0:\n",
    "            k = (k - 1) // 2\n",
    "            self.tree[k] = self.merge(k * 2 + 1, k * 2 + 2)\n",
    "                \n",
    "    def merge(self, k, l):\n",
    "        return (self.tree[k][0] * self.tree[l][0], \n",
    "                self.tree[l][0] * self.tree[k][1] + self.tree[l][1])\n",
    "    \n",
    "    def top(self):\n",
    "        return self.tree[0]"
   ]
  },
  {
   "cell_type": "code",
   "execution_count": 12,
   "metadata": {},
   "outputs": [
    {
     "data": {
      "text/plain": [
       "{2: 0}"
      ]
     },
     "execution_count": 12,
     "metadata": {},
     "output_type": "execute_result"
    }
   ],
   "source": [
    "d = set(p for p, _, _ in X)\n",
    "d = {v: i for i, v in enumerate(sorted(list(d)))}\n",
    "d"
   ]
  },
  {
   "cell_type": "code",
   "execution_count": 13,
   "metadata": {},
   "outputs": [
    {
     "name": "stdout",
     "output_type": "stream",
     "text": [
      "0\n",
      "1.5\n"
     ]
    }
   ],
   "source": [
    "tree = SegmentTree(M, (1, 0))\n",
    "ans_min = 1\n",
    "ans_max = 1\n",
    "for p, a, b in X:\n",
    "    tree.update(d[p], (a, b))\n",
    "    val = sum(tree.top())\n",
    "    ans_min = min(ans_min, val)\n",
    "    ans_max = max(ans_max, val)\n",
    "    \n",
    "print(ans_min, ans_max, sep='\\n')"
   ]
  },
  {
   "cell_type": "code",
   "execution_count": 53,
   "metadata": {},
   "outputs": [
    {
     "name": "stdout",
     "output_type": "stream",
     "text": [
      "1 1 0\n",
      "2 2 1\n",
      "2 2 2\n",
      "2 3 2\n",
      "3 3 3\n",
      "3 3 3\n",
      "3 3 3\n",
      "3 4 3\n",
      "3 4 4\n"
     ]
    }
   ],
   "source": [
    "for n in range(1, 10):\n",
    "    i = 1\n",
    "    while i ** 2 < n:\n",
    "        i += 1\n",
    "    print(i, n.bit_length(), ceil(log2(n)))"
   ]
  },
  {
   "cell_type": "markdown",
   "metadata": {},
   "source": [
    "# AOJ ALDS1_5_D\n",
    "\n",
    "反転数\n",
    "\n",
    "http://judge.u-aizu.ac.jp/onlinejudge/description.jsp?id=ALDS1_5_D&lang=jp"
   ]
  },
  {
   "cell_type": "code",
   "execution_count": 12,
   "metadata": {},
   "outputs": [
    {
     "name": "stdout",
     "output_type": "stream",
     "text": [
      "ans: 6\n"
     ]
    }
   ],
   "source": [
    "N = 5\n",
    "a = [3, 5, 2, 1, 4]\n",
    "\n",
    "print('ans: 6')"
   ]
  },
  {
   "cell_type": "code",
   "execution_count": 13,
   "metadata": {},
   "outputs": [],
   "source": [
    "class BIT:\n",
    "    def __init__(self, n):\n",
    "        self.n = n\n",
    "        self.bit = [0] * (n + 1)\n",
    "\n",
    "    def update(self, i, v):\n",
    "        while i <= self.n:\n",
    "            self.bit[i] += v\n",
    "            i += i & -i\n",
    "            \n",
    "    def query(self, i):\n",
    "        ret = 0\n",
    "        while i > 0:\n",
    "            ret += self.bit[i]\n",
    "            i -= i & -i\n",
    "            \n",
    "        return ret"
   ]
  },
  {
   "cell_type": "code",
   "execution_count": 15,
   "metadata": {},
   "outputs": [
    {
     "name": "stdout",
     "output_type": "stream",
     "text": [
      "6\n"
     ]
    }
   ],
   "source": [
    "tree = BIT(N)\n",
    "d = {v: i + 1 for i, v in enumerate(sorted(a))}\n",
    "ans = 0\n",
    "for i in range(N):\n",
    "    ans += i - tree.query(d[a[i]])\n",
    "    tree.update(d[a[i]], 1)\n",
    "print(ans)"
   ]
  },
  {
   "cell_type": "markdown",
   "metadata": {},
   "source": [
    "# Indeed E\n",
    "\n",
    "重み付き転倒数\n",
    "\n",
    "https://atcoder.jp/contests/indeednow-finalb-open/tasks/indeednow_2015_finalb_e"
   ]
  },
  {
   "cell_type": "code",
   "execution_count": 20,
   "metadata": {},
   "outputs": [
    {
     "name": "stdout",
     "output_type": "stream",
     "text": [
      "ans: 8\n"
     ]
    }
   ],
   "source": [
    "N = 4\n",
    "H = [4, 1, 3, 2]\n",
    "\n",
    "print('ans: 8')"
   ]
  },
  {
   "cell_type": "code",
   "execution_count": 25,
   "metadata": {},
   "outputs": [],
   "source": [
    "class BIT:\n",
    "    def __init__(self, n):\n",
    "        self.n = n\n",
    "        self.bit = [0] * (n + 1)\n",
    "\n",
    "    def update(self, i, v):\n",
    "        while i <= self.n:\n",
    "            self.bit[i] += v\n",
    "            i += i & -i\n",
    "            \n",
    "    def query(self, i):\n",
    "        ret = 0\n",
    "        while i > 0:\n",
    "            ret += self.bit[i]\n",
    "            i -= i & -i\n",
    "            \n",
    "        return ret\n",
    "    \n",
    "    def search(self, i, j=None):\n",
    "        if j is None:\n",
    "            j = self.n\n",
    "            \n",
    "        return self.query(j) - self.query(i)"
   ]
  },
  {
   "cell_type": "code",
   "execution_count": 27,
   "metadata": {},
   "outputs": [
    {
     "name": "stdout",
     "output_type": "stream",
     "text": [
      "8\n"
     ]
    }
   ],
   "source": [
    "if len(H) != len(set(H)):\n",
    "    print(-1)\n",
    "\n",
    "tree = BIT(N)\n",
    "d = {v: i + 1 for i, v in enumerate(sorted(H))}\n",
    "ans = 0\n",
    "for i in range(N):\n",
    "    ans += tree.search(d[H[i]]) * H[i]\n",
    "    tree.update(d[H[i]], 1)\n",
    "print(ans)"
   ]
  },
  {
   "cell_type": "markdown",
   "metadata": {},
   "source": [
    "# ARC 88 - E\n",
    "\n",
    "転倒数\n",
    "\n",
    "https://atcoder.jp/contests/arc088/tasks/arc088_c"
   ]
  },
  {
   "cell_type": "code",
   "execution_count": 7,
   "metadata": {},
   "outputs": [
    {
     "name": "stdout",
     "output_type": "stream",
     "text": [
      "ans: 1\n"
     ]
    }
   ],
   "source": [
    "S = 'eel'\n",
    "\n",
    "print('ans: 1')"
   ]
  },
  {
   "cell_type": "code",
   "execution_count": 13,
   "metadata": {},
   "outputs": [
    {
     "name": "stdout",
     "output_type": "stream",
     "text": [
      "ans: 4\n"
     ]
    }
   ],
   "source": [
    "S = 'ataatmma'\n",
    "\n",
    "print('ans: 4')"
   ]
  },
  {
   "cell_type": "code",
   "execution_count": 14,
   "metadata": {},
   "outputs": [],
   "source": [
    "class BIT:\n",
    "    def __init__(self, n):\n",
    "        self.n = n\n",
    "        self.bit = [0] * (n + 1)\n",
    "\n",
    "    def update(self, i, v):\n",
    "        while i <= self.n:\n",
    "            self.bit[i] += v\n",
    "            i += i & -i\n",
    "            \n",
    "    def query(self, i):\n",
    "        ret = 0\n",
    "        while i > 0:\n",
    "            ret += self.bit[i]\n",
    "            i -= i & -i\n",
    "            \n",
    "        return ret"
   ]
  },
  {
   "cell_type": "code",
   "execution_count": 15,
   "metadata": {},
   "outputs": [
    {
     "data": {
      "text/plain": [
       "defaultdict(list, {'a': [1, 3, 4, 8], 't': [2, 5], 'm': [6, 7]})"
      ]
     },
     "execution_count": 15,
     "metadata": {},
     "output_type": "execute_result"
    }
   ],
   "source": [
    "from collections import defaultdict\n",
    "\n",
    "d = defaultdict(list)\n",
    "for i, v in enumerate(S):\n",
    "    d[v].append(i + 1)\n",
    "\n",
    "if sum(len(l) % 2 != 0 for l in d.values()) > 1:\n",
    "    print(-1)\n",
    "\n",
    "d"
   ]
  },
  {
   "cell_type": "code",
   "execution_count": 16,
   "metadata": {},
   "outputs": [
    {
     "data": {
      "text/plain": [
       "([(1, 8), (2, 5), (3, 4), (6, 7)], [-1, 1, 2, 3, 6, 7, 4, 5, 8])"
      ]
     },
     "execution_count": 16,
     "metadata": {},
     "output_type": "execute_result"
    }
   ],
   "source": [
    "N = len(S)\n",
    "ctr = []\n",
    "key_map = [-1] * (N + 1)\n",
    "\n",
    "for k, v in d.items():\n",
    "    t = len(v)\n",
    "    if t % 2  == 1:\n",
    "        key_map[v[t // 2]] = N // 2 + 1\n",
    "\n",
    "    for j in range(t // 2):\n",
    "        ctr.append((v[j], v[-j - 1]))\n",
    "        \n",
    "ctr.sort()\n",
    "\n",
    "for i, (l, r) in enumerate(ctr):\n",
    "    key_map[l] = i + 1\n",
    "    key_map[r] = N - i\n",
    "    \n",
    "ctr, key_map"
   ]
  },
  {
   "cell_type": "code",
   "execution_count": 17,
   "metadata": {},
   "outputs": [
    {
     "name": "stdout",
     "output_type": "stream",
     "text": [
      "4\n"
     ]
    }
   ],
   "source": [
    "tree = BIT(N)\n",
    "ans = 0\n",
    "for i, v in enumerate(key_map[1:]):\n",
    "    ans += i - tree.query(v)\n",
    "    tree.update(v, 1)\n",
    "print(ans)"
   ]
  },
  {
   "cell_type": "markdown",
   "metadata": {},
   "source": [
    "# ARC 33 - C\n",
    "\n",
    "BIT + 二分探索\n",
    "\n",
    "https://atcoder.jp/contests/arc033/tasks/arc033_3"
   ]
  },
  {
   "cell_type": "code",
   "execution_count": 18,
   "metadata": {},
   "outputs": [
    {
     "name": "stdout",
     "output_type": "stream",
     "text": [
      "ans: 29, 89\n"
     ]
    }
   ],
   "source": [
    "Q = 5\n",
    "X = [[1, 11], [1, 29], [1, 89], [2, 2], [2, 2]]\n",
    "\n",
    "print('ans: 29, 89')"
   ]
  },
  {
   "cell_type": "code",
   "execution_count": 19,
   "metadata": {},
   "outputs": [],
   "source": [
    "class BIT:\n",
    "    def __init__(self, n):\n",
    "        self.n = n\n",
    "        self.bit = [0] * (n + 1)\n",
    "\n",
    "    def update(self, i, v):\n",
    "        while i <= self.n:\n",
    "            self.bit[i] += v\n",
    "            i += i & -i\n",
    "            \n",
    "    def query(self, i):\n",
    "        ret = 0\n",
    "        while i > 0:\n",
    "            ret += self.bit[i]\n",
    "            i -= i & -i\n",
    "            \n",
    "        return ret\n",
    "    \n",
    "    def search(self, v):\n",
    "        ub = self.n\n",
    "        lb = 0\n",
    "        while ub - lb > 1:\n",
    "            mid = (ub + lb) // 2\n",
    "            if self.query(mid) >= v:\n",
    "                ub = mid\n",
    "            else:\n",
    "                lb = mid\n",
    "                \n",
    "        return ub"
   ]
  },
  {
   "cell_type": "code",
   "execution_count": 20,
   "metadata": {},
   "outputs": [
    {
     "name": "stdout",
     "output_type": "stream",
     "text": [
      "29\n",
      "89\n"
     ]
    }
   ],
   "source": [
    "MAX_LEN = 2 * 10 ** 5 + 1\n",
    "bit = BIT(MAX_LEN)\n",
    "\n",
    "for t, x in X:\n",
    "    if t == 1:\n",
    "        bit.update(x, 1)\n",
    "    else:\n",
    "        ret = bit.search(x)\n",
    "        print(ret)\n",
    "        bit.update(ret, -1)"
   ]
  },
  {
   "cell_type": "markdown",
   "metadata": {},
   "source": [
    "# AOJ DSL_2_G\n",
    "\n",
    "区間の更新を行う．  \n",
    "→　遅延評価付きSegment Tree\n",
    "\n",
    "RSQ: Range Sum Query  \n",
    "RAQ: Range Add Query\n",
    "\n",
    "http://judge.u-aizu.ac.jp/onlinejudge/description.jsp?id=DSL_2_G&lang=jp"
   ]
  },
  {
   "cell_type": "code",
   "execution_count": 96,
   "metadata": {},
   "outputs": [
    {
     "name": "stdout",
     "output_type": "stream",
     "text": [
      "ans: 4, 8\n"
     ]
    }
   ],
   "source": [
    "n, q = 3, 5\n",
    "X = [[0, 1, 2, 1], [0, 2, 3, 2], [0, 3, 3, 3],\n",
    "     [1, 1, 2], [1, 2, 3]]\n",
    "\n",
    "print('ans: 4, 8')"
   ]
  },
  {
   "cell_type": "markdown",
   "metadata": {},
   "source": [
    "## SegTreeベース．これはTLE"
   ]
  },
  {
   "cell_type": "code",
   "execution_count": 97,
   "metadata": {},
   "outputs": [],
   "source": [
    "class LazySegmentTree:\n",
    "    # Segment Tree with Lazy Evaluation\n",
    "    def __init__(self, n):\n",
    "        self.n = 2 ** n.bit_length()\n",
    "        self.node = [0] * (2 * self.n - 1)\n",
    "        self.lazy = [0] * (2 * self.n - 1)\n",
    "        \n",
    "    def add(self, a, b, x, k=0, l=0, r=None):\n",
    "        # Add x in [a, b)\n",
    "        if r is None:\n",
    "            r = self.n\n",
    "            \n",
    "        if a <= l and r <= b:\n",
    "            self.node[k] += x\n",
    "        elif l < b and a < r:\n",
    "            self.lazy[k] += (min(b, r) - max(a, l)) * x\n",
    "            self.add(a, b, x, k * 2 + 1, l, (l + r) // 2)\n",
    "            self.add(a, b, x, k * 2 + 2, (l + r) // 2, r)\n",
    "            \n",
    "    def get_sum(self, a, b, k=0, l=0, r=None):\n",
    "        # Return sum in [a, b)\n",
    "        if r is None:\n",
    "            r = self.n\n",
    "            \n",
    "        if b <= l or r <= a:\n",
    "            return 0\n",
    "        elif a <= l and r <= b:\n",
    "            return self.node[k] * (r - l) + self.lazy[k]\n",
    "        else:\n",
    "            ret = (min(b, r) - max(a, l)) * self.node[k]\n",
    "            ret += self.get_sum(a, b, k * 2 + 1, l, (l + r) // 2)\n",
    "            ret += self.get_sum(a, b, k * 2 + 2, (l + r) // 2, r)\n",
    "            return ret"
   ]
  },
  {
   "cell_type": "code",
   "execution_count": 98,
   "metadata": {},
   "outputs": [
    {
     "name": "stdout",
     "output_type": "stream",
     "text": [
      "4\n",
      "8\n"
     ]
    }
   ],
   "source": [
    "tree = LazySegmentTree(n)\n",
    "ans = []\n",
    "for o, *x in X:\n",
    "    if o == 0:\n",
    "        tree.add(x[0], x[1] + 1, x[2])\n",
    "    else:\n",
    "        ans.append(tree.get_sum(x[0], x[1] + 1))\n",
    "print(*ans, sep='\\n')"
   ]
  },
  {
   "cell_type": "markdown",
   "metadata": {},
   "source": [
    "## BITベース\n",
    "\n",
    "こちらは間に合う"
   ]
  },
  {
   "cell_type": "code",
   "execution_count": 84,
   "metadata": {},
   "outputs": [],
   "source": [
    "class BIT:\n",
    "    def __init__(self, n):\n",
    "        self.n = n\n",
    "        self.bit = [0] * (n + 1)\n",
    "        \n",
    "    def add(self, i, v):\n",
    "        while i <= self.n:\n",
    "            self.bit[i] += v\n",
    "            i += i & -i\n",
    "            \n",
    "    def get_sum(self, i):\n",
    "        s = 0\n",
    "        while i > 0:\n",
    "            s += self.bit[i]\n",
    "            i -= i & -i\n",
    "        return s"
   ]
  },
  {
   "cell_type": "code",
   "execution_count": 91,
   "metadata": {},
   "outputs": [],
   "source": [
    "class Solver:\n",
    "    def __init__(self, n):\n",
    "        self.bit_0 = BIT(n + 1)\n",
    "        self.bit_1 = BIT(n + 1)\n",
    "        \n",
    "    def add(self, l, r, x):\n",
    "        # Add x in [l, r]\n",
    "        self.bit_0.add(l, -x * l)\n",
    "        self.bit_0.add(r + 1, x * (r + 1))\n",
    "        self.bit_1.add(l, x)\n",
    "        self.bit_1.add(r + 1, -x)\n",
    "        \n",
    "    def get_sum(self, l, r):\n",
    "        # Get sum in [l, r]\n",
    "        res = 0\n",
    "        res += self.bit_0.get_sum(r + 1) + self.bit_1.get_sum(r + 1) * (r + 1)\n",
    "        res -= self.bit_0.get_sum(l) + self.bit_1.get_sum(l) * l\n",
    "        return res"
   ]
  },
  {
   "cell_type": "code",
   "execution_count": 90,
   "metadata": {},
   "outputs": [
    {
     "name": "stdout",
     "output_type": "stream",
     "text": [
      "4\n",
      "8\n"
     ]
    }
   ],
   "source": [
    "solver = Solver(n)\n",
    "ans = []\n",
    "for o, *x in X:\n",
    "    if o == 0:\n",
    "        solver.add(*x)\n",
    "    else:\n",
    "        ans.append(solver.get_sum(*x))\n",
    "print(*ans, sep='\\n')"
   ]
  },
  {
   "cell_type": "markdown",
   "metadata": {},
   "source": [
    "# AOJ DSL_2_H\n",
    "\n",
    "Starry Sky Tree\n",
    "\n",
    "* RMQ: Range Min Query\n",
    "* RAQ: Range Add Query\n",
    "\n",
    "http://judge.u-aizu.ac.jp/onlinejudge/description.jsp?id=DSL_2_H&lang=jp\n",
    "\n",
    "参考）  \n",
    "http://kagamiz.hatenablog.com/entry/2012/12/18/220849"
   ]
  },
  {
   "cell_type": "code",
   "execution_count": 7,
   "metadata": {},
   "outputs": [
    {
     "name": "stdout",
     "output_type": "stream",
     "text": [
      "ans: -2 0 1 -1\n"
     ]
    }
   ],
   "source": [
    "n, q = 6, 7\n",
    "X = [[0, 1, 3, 1], [0, 2, 4, -2], [1, 0, 5], [1, 0, 1],\n",
    "     [0, 3, 5, 3], [1, 3, 4], [1, 0, 5]]\n",
    "\n",
    "print('ans: -2 0 1 -1')"
   ]
  },
  {
   "cell_type": "code",
   "execution_count": 31,
   "metadata": {},
   "outputs": [],
   "source": [
    "class StarrySkyTree:\n",
    "    def __init__(self, n):\n",
    "        self.n = 2 ** n.bit_length()\n",
    "        self.data = [0] * (2 * self.n - 1)  # Segment min\n",
    "        self.lazy = [0] * (2 * self.n - 1)  # Segment add\n",
    "        \n",
    "    def add(self, a, b, x, k=0, l=0, r=None):\n",
    "        # Add x into [a, b)\n",
    "        if r is None:\n",
    "            r = self.n\n",
    "        \n",
    "        if b <= l or r <= a:\n",
    "            return\n",
    "        \n",
    "        if a <= l and r <= b:\n",
    "            self.lazy[k] += x\n",
    "            return\n",
    "        \n",
    "        self.add(a, b, x, k * 2 + 1, l, (l + r) // 2)\n",
    "        self.add(a, b, x, k * 2 + 2, (l + r) // 2, r)\n",
    "\n",
    "        self.data[k] = min(self.data[k * 2 + 1] + self.lazy[k * 2 + 1],\n",
    "                           self.data[k * 2 + 2] + self.lazy[k * 2 + 2])\n",
    "\n",
    "    def get_min(self, a, b, k=0, l=0, r=None):\n",
    "        # Get min in [a, b)\n",
    "        if r is None:\n",
    "            r = self.n\n",
    "            \n",
    "        if b <= l or r <= a:\n",
    "            return float('inf')\n",
    "        \n",
    "        if a <= l and r <= b:\n",
    "            return self.data[k] + self.lazy[k]\n",
    "        \n",
    "        vl = self.get_min(a, b, k * 2 + 1, l, (l + r) // 2)\n",
    "        vr = self.get_min(a, b, k * 2 + 2, (l + r) // 2, r)\n",
    "        return min(vl, vr) + self.lazy[k]"
   ]
  },
  {
   "cell_type": "code",
   "execution_count": 32,
   "metadata": {},
   "outputs": [
    {
     "name": "stdout",
     "output_type": "stream",
     "text": [
      "-2\n",
      "0\n",
      "1\n",
      "-1\n"
     ]
    }
   ],
   "source": [
    "n, q = 6, 7\n",
    "X = [[0, 1, 3, 1], [0, 2, 4, -2], [1, 0, 5], [1, 0, 1],\n",
    "     [0, 3, 5, 3], [1, 3, 4], [1, 0, 5]]\n",
    "\n",
    "sst = StarrySkyTree(n)\n",
    "ans = []\n",
    "for o, *x in X:\n",
    "    x[1] += 1\n",
    "    if o == 0:\n",
    "        sst.add(*x)\n",
    "    else:\n",
    "        ans.append(sst.get_min(*x))\n",
    "print(*ans, sep='\\n')"
   ]
  },
  {
   "cell_type": "markdown",
   "metadata": {},
   "source": [
    "# ARC 33 - C\n",
    "\n",
    "平方分割（他の解法もあり，一般にはそちらの方が速い）\n",
    "\n",
    "https://atcoder.jp/contests/arc033/tasks/arc033_3"
   ]
  },
  {
   "cell_type": "code",
   "execution_count": 69,
   "metadata": {},
   "outputs": [
    {
     "name": "stdout",
     "output_type": "stream",
     "text": [
      "ans: 29, 89\n"
     ]
    }
   ],
   "source": [
    "Q = 5\n",
    "X = [[1, 11], [1, 29], [1, 89], [2, 2], [2, 2]]\n",
    "\n",
    "print('ans: 29, 89')"
   ]
  },
  {
   "cell_type": "code",
   "execution_count": 70,
   "metadata": {},
   "outputs": [],
   "source": [
    "class SqrtDecompsition:\n",
    "    def __init__(self, n):\n",
    "        self.n = n\n",
    "        self.b = int(n ** 0.5)\n",
    "        self.bucket = [[] for _ in range(self.n // self.b + 1)]\n",
    "        \n",
    "    def add(self, v):\n",
    "        k = v // self.b\n",
    "        self.bucket[k].append(v)\n",
    "        \n",
    "    def search(self, x):\n",
    "        k = 0\n",
    "        cnt = 0\n",
    "        while cnt + len(self.bucket[k]) < x:\n",
    "            cnt += len(self.bucket[k])\n",
    "            k += 1\n",
    "\n",
    "        ret = sorted(self.bucket[k])[x - cnt - 1]\n",
    "        self.bucket[k].remove(ret)\n",
    "        return ret"
   ]
  },
  {
   "cell_type": "code",
   "execution_count": 71,
   "metadata": {},
   "outputs": [
    {
     "name": "stdout",
     "output_type": "stream",
     "text": [
      "29\n",
      "89\n"
     ]
    }
   ],
   "source": [
    "MAX_LEN = 2 * 10 ** 5 + 1\n",
    "sd = SqrtDecompsition(MAX_LEN)\n",
    "\n",
    "for t, x in X:\n",
    "    if t == 1:\n",
    "        sd.add(x)\n",
    "    else:\n",
    "        ret = sd.search(x)\n",
    "        print(ret)"
   ]
  },
  {
   "cell_type": "markdown",
   "metadata": {},
   "source": [
    "# ARC 42 - D\n",
    "\n",
    "離散対数を求める Baby-Step Giant-Step\n",
    "\n",
    "https://atcoder.jp/contests/arc042/tasks/arc042_d"
   ]
  },
  {
   "cell_type": "markdown",
   "metadata": {},
   "source": [
    "$\\min X^i \\pmod{P}, (A \\le i \\le B)$"
   ]
  },
  {
   "cell_type": "code",
   "execution_count": 5,
   "metadata": {},
   "outputs": [
    {
     "name": "stdout",
     "output_type": "stream",
     "text": [
      "ans: 3\n"
     ]
    }
   ],
   "source": [
    "X, P, A, B = 2, 11, 3, 9\n",
    "\n",
    "print('ans: 3')"
   ]
  },
  {
   "cell_type": "markdown",
   "metadata": {},
   "source": [
    "#### Baby-step Giant-step\n",
    "\n",
    "* http://sugarknri.hatenablog.com/entry/2019/01/06/173830\n",
    "* http://sonickun.hatenablog.com/entry/2016/11/20/192743"
   ]
  },
  {
   "cell_type": "code",
   "execution_count": 18,
   "metadata": {},
   "outputs": [],
   "source": [
    "def bsgs(g, y, p):\n",
    "    \"\"\"\n",
    "    Baby-step Giant-step algorithm\n",
    "    \n",
    "    solve x = argmin g^x = y (mod p)\n",
    "    \"\"\"\n",
    "\n",
    "    # Baby step\n",
    "    m = int((p - 1) ** 0.5) + 1\n",
    "    table = {pow(g, i, p): i for i in range(m)}\n",
    "    \n",
    "    # Giant step\n",
    "    g_inv = pow(g, p - 2, p)\n",
    "    g_invm = pow(g_inv, m, p)\n",
    "    ret = y\n",
    "    for i in range(m):\n",
    "        if ret in table.keys():\n",
    "            return i * m + table[ret]\n",
    "        else:\n",
    "            ret = ret * g_invm % p\n",
    "        \n",
    "    return -1"
   ]
  },
  {
   "cell_type": "code",
   "execution_count": 20,
   "metadata": {},
   "outputs": [
    {
     "data": {
      "text/plain": [
       "9"
      ]
     },
     "execution_count": 20,
     "metadata": {},
     "output_type": "execute_result"
    }
   ],
   "source": [
    "bsgs(5, 12, 17)"
   ]
  },
  {
   "cell_type": "markdown",
   "metadata": {},
   "source": [
    "#### 解法"
   ]
  },
  {
   "cell_type": "code",
   "execution_count": 21,
   "metadata": {},
   "outputs": [
    {
     "name": "stdout",
     "output_type": "stream",
     "text": [
      "3\n"
     ]
    }
   ],
   "source": [
    "ans = P\n",
    "if A // (P - 1) != B // (P - 1):\n",
    "    ans = 1\n",
    "elif B - A < 16 * 10 ** 7:\n",
    "    val = pow(X, A, P)\n",
    "    ans = val\n",
    "    for _ in range(B - A):\n",
    "        val = val * X % P\n",
    "        ans = min(ans, val)\n",
    "else:\n",
    "    A %= P - 1\n",
    "    B %= P - 1\n",
    "    for i in range(P):\n",
    "        if A <= bsgs(A, i, P) <= B:\n",
    "            ans = i\n",
    "            break\n",
    "            \n",
    "print(ans)"
   ]
  },
  {
   "cell_type": "code",
   "execution_count": null,
   "metadata": {},
   "outputs": [],
   "source": []
  },
  {
   "cell_type": "code",
   "execution_count": null,
   "metadata": {},
   "outputs": [],
   "source": []
  }
 ],
 "metadata": {
  "kernelspec": {
   "display_name": "Python 3",
   "language": "python",
   "name": "python3"
  },
  "language_info": {
   "codemirror_mode": {
    "name": "ipython",
    "version": 3
   },
   "file_extension": ".py",
   "mimetype": "text/x-python",
   "name": "python",
   "nbconvert_exporter": "python",
   "pygments_lexer": "ipython3",
   "version": "3.7.3"
  }
 },
 "nbformat": 4,
 "nbformat_minor": 2
}
