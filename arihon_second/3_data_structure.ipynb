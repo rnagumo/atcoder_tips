{
 "cells": [
  {
   "cell_type": "markdown",
   "metadata": {},
   "source": [
    "# AOJ DSL_2_A\n",
    "\n",
    "RMQ\n",
    "\n",
    "http://judge.u-aizu.ac.jp/onlinejudge/description.jsp?id=DSL_2_A&lang=jp"
   ]
  },
  {
   "cell_type": "code",
   "execution_count": 23,
   "metadata": {},
   "outputs": [],
   "source": [
    "from math import log2, ceil\n",
    "\n",
    "INF = 2 ** 31 - 1\n",
    "\n",
    "class RMQ:\n",
    "    def __init__(self, n):\n",
    "        self.n = 2 ** ceil(log2(n))\n",
    "        self.dat = [INF] * (2 * self.n - 1)\n",
    "        \n",
    "    def update(self, k, v):\n",
    "        k += self.n - 1\n",
    "        self.dat[k] = v\n",
    "        while k > 0:\n",
    "            k = (k - 1) // 2\n",
    "            self.dat[k] = min(self.dat[k * 2 + 1], self.dat[k * 2 + 2])\n",
    "            \n",
    "    def query(self, a, b, k=0, l=0, r=None):\n",
    "        if r is None:\n",
    "            r = self.n\n",
    "        \n",
    "        if r <= a or b <= l:\n",
    "            return INF\n",
    "        \n",
    "        if a <= l and r <= b:\n",
    "            return self.dat[k]\n",
    "        \n",
    "        vl = self.query(a, b, k * 2 + 1, l, (l + r) // 2)\n",
    "        vr = self.query(a, b, k * 2 + 2, (l + r) // 2, r)\n",
    "        \n",
    "        return min(vl, vr)\n",
    "            \n",
    "    def __repr__(self):\n",
    "        return ', '.join([str(v) for v in self.dat])"
   ]
  },
  {
   "cell_type": "code",
   "execution_count": 2,
   "metadata": {},
   "outputs": [],
   "source": [
    "n, q = 3, 5\n",
    "X = [[0, 0, 1], [0, 1, 2], [0, 2, 3], [1, 0, 2], [1, 1, 2]]"
   ]
  },
  {
   "cell_type": "code",
   "execution_count": 22,
   "metadata": {},
   "outputs": [],
   "source": [
    "n, q = 1, 5\n",
    "X = [[1, 0, 0], [0, 0, 5], [1, 0, 0], [0, 0, 8], [1, 0, 0]]"
   ]
  },
  {
   "cell_type": "code",
   "execution_count": 25,
   "metadata": {},
   "outputs": [],
   "source": [
    "n = 2\n",
    "X = [[0, 0, 2], [0, 1, 1], [1, 0, 1], [1, 0, 0]]"
   ]
  },
  {
   "cell_type": "code",
   "execution_count": 28,
   "metadata": {},
   "outputs": [
    {
     "name": "stdout",
     "output_type": "stream",
     "text": [
      "-- 2, 2, 2147483647\n",
      "-- 1, 2, 1\n",
      "1\n",
      "2\n"
     ]
    }
   ],
   "source": [
    "t = RMQ(n)\n",
    "\n",
    "for com, x, y in X:\n",
    "    if com == 0:\n",
    "        t.update(x, y)\n",
    "        print('--', t)\n",
    "    else:\n",
    "        print(t.query(x, y + 1))"
   ]
  },
  {
   "cell_type": "markdown",
   "metadata": {},
   "source": [
    "# ARC 8 - D\n",
    "\n",
    "https://atcoder.jp/contests/arc008/tasks/arc008_4"
   ]
  },
  {
   "cell_type": "code",
   "execution_count": 1,
   "metadata": {},
   "outputs": [
    {
     "name": "stdout",
     "output_type": "stream",
     "text": [
      "ans: 0, 1.5\n"
     ]
    }
   ],
   "source": [
    "N, M = 3, 4\n",
    "X = [[2, -1, 1], [2, 1, 0.5]]\n",
    "\n",
    "print('ans: 0, 1.5')"
   ]
  },
  {
   "cell_type": "code",
   "execution_count": 10,
   "metadata": {},
   "outputs": [],
   "source": [
    "class SegmentTree:\n",
    "    def __init__(self, n, state):\n",
    "        self.n = 2 ** n.bit_length()\n",
    "        self.tree = [state] * (2 * self.n - 1)\n",
    "        \n",
    "    def update(self, k, v):\n",
    "        k += self.n - 1\n",
    "        self.tree[k] = v\n",
    "        while k > 0:\n",
    "            k = (k - 1) // 2\n",
    "            self.tree[k] = self.merge(k * 2 + 1, k * 2 + 2)\n",
    "                \n",
    "    def merge(self, k, l):\n",
    "        return (self.tree[k][0] * self.tree[l][0], \n",
    "                self.tree[l][0] * self.tree[k][1] + self.tree[l][1])\n",
    "    \n",
    "    def top(self):\n",
    "        return self.tree[0]"
   ]
  },
  {
   "cell_type": "code",
   "execution_count": 12,
   "metadata": {},
   "outputs": [
    {
     "data": {
      "text/plain": [
       "{2: 0}"
      ]
     },
     "execution_count": 12,
     "metadata": {},
     "output_type": "execute_result"
    }
   ],
   "source": [
    "d = set(p for p, _, _ in X)\n",
    "d = {v: i for i, v in enumerate(sorted(list(d)))}\n",
    "d"
   ]
  },
  {
   "cell_type": "code",
   "execution_count": 13,
   "metadata": {},
   "outputs": [
    {
     "name": "stdout",
     "output_type": "stream",
     "text": [
      "0\n",
      "1.5\n"
     ]
    }
   ],
   "source": [
    "tree = SegmentTree(M, (1, 0))\n",
    "ans_min = 1\n",
    "ans_max = 1\n",
    "for p, a, b in X:\n",
    "    tree.update(d[p], (a, b))\n",
    "    val = sum(tree.top())\n",
    "    ans_min = min(ans_min, val)\n",
    "    ans_max = max(ans_max, val)\n",
    "    \n",
    "print(ans_min, ans_max, sep='\\n')"
   ]
  },
  {
   "cell_type": "code",
   "execution_count": 53,
   "metadata": {},
   "outputs": [
    {
     "name": "stdout",
     "output_type": "stream",
     "text": [
      "1 1 0\n",
      "2 2 1\n",
      "2 2 2\n",
      "2 3 2\n",
      "3 3 3\n",
      "3 3 3\n",
      "3 3 3\n",
      "3 4 3\n",
      "3 4 4\n"
     ]
    }
   ],
   "source": [
    "for n in range(1, 10):\n",
    "    i = 1\n",
    "    while i ** 2 < n:\n",
    "        i += 1\n",
    "    print(i, n.bit_length(), ceil(log2(n)))"
   ]
  },
  {
   "cell_type": "markdown",
   "metadata": {},
   "source": [
    "# AOJ ALDS1_5_D\n",
    "\n",
    "反転数\n",
    "\n",
    "http://judge.u-aizu.ac.jp/onlinejudge/description.jsp?id=ALDS1_5_D&lang=jp"
   ]
  },
  {
   "cell_type": "code",
   "execution_count": 12,
   "metadata": {},
   "outputs": [
    {
     "name": "stdout",
     "output_type": "stream",
     "text": [
      "ans: 6\n"
     ]
    }
   ],
   "source": [
    "N = 5\n",
    "a = [3, 5, 2, 1, 4]\n",
    "\n",
    "print('ans: 6')"
   ]
  },
  {
   "cell_type": "code",
   "execution_count": 13,
   "metadata": {},
   "outputs": [],
   "source": [
    "class BIT:\n",
    "    def __init__(self, n):\n",
    "        self.n = n\n",
    "        self.bit = [0] * (n + 1)\n",
    "\n",
    "    def update(self, i, v):\n",
    "        while i <= self.n:\n",
    "            self.bit[i] += v\n",
    "            i += i & -i\n",
    "            \n",
    "    def query(self, i):\n",
    "        ret = 0\n",
    "        while i > 0:\n",
    "            ret += self.bit[i]\n",
    "            i -= i & -i\n",
    "            \n",
    "        return ret"
   ]
  },
  {
   "cell_type": "code",
   "execution_count": 15,
   "metadata": {},
   "outputs": [
    {
     "name": "stdout",
     "output_type": "stream",
     "text": [
      "6\n"
     ]
    }
   ],
   "source": [
    "tree = BIT(N)\n",
    "d = {v: i + 1 for i, v in enumerate(sorted(a))}\n",
    "ans = 0\n",
    "for i in range(N):\n",
    "    ans += i - tree.query(d[a[i]])\n",
    "    tree.update(d[a[i]], 1)\n",
    "print(ans)"
   ]
  },
  {
   "cell_type": "markdown",
   "metadata": {},
   "source": [
    "# ARC 33 - C\n",
    "\n",
    "BIT + 二分探索\n",
    "\n",
    "https://atcoder.jp/contests/arc033/tasks/arc033_3"
   ]
  },
  {
   "cell_type": "code",
   "execution_count": 27,
   "metadata": {},
   "outputs": [
    {
     "name": "stdout",
     "output_type": "stream",
     "text": [
      "ans: 29, 89\n"
     ]
    }
   ],
   "source": [
    "Q = 5\n",
    "X = [[1, 11], [1, 29], [1, 89], [2, 2], [2, 2]]\n",
    "\n",
    "print('ans: 29, 89')"
   ]
  },
  {
   "cell_type": "code",
   "execution_count": 43,
   "metadata": {},
   "outputs": [],
   "source": [
    "class BIT:\n",
    "    def __init__(self, n):\n",
    "        self.n = n\n",
    "        self.bit = [0] * (n + 1)\n",
    "\n",
    "    def update(self, i, v):\n",
    "        while i <= self.n:\n",
    "            self.bit[i] += v\n",
    "            i += i & -i\n",
    "            \n",
    "    def query(self, i):\n",
    "        ret = 0\n",
    "        while i > 0:\n",
    "            ret += self.bit[i]\n",
    "            i -= i & -i\n",
    "            \n",
    "        return ret\n",
    "    \n",
    "    def search(self, v):\n",
    "        ub = self.n\n",
    "        lb = 0\n",
    "        while ub - lb > 1:\n",
    "            mid = (ub + lb) // 2\n",
    "            if self.query(mid) >= v:\n",
    "                ub = mid\n",
    "            else:\n",
    "                lb = mid\n",
    "                \n",
    "        return ub"
   ]
  },
  {
   "cell_type": "code",
   "execution_count": 44,
   "metadata": {},
   "outputs": [
    {
     "name": "stdout",
     "output_type": "stream",
     "text": [
      "29\n",
      "89\n"
     ]
    }
   ],
   "source": [
    "MAX_LEN = 2 * 10 ** 5 + 1\n",
    "bit = BIT(MAX_LEN)\n",
    "\n",
    "for t, x in X:\n",
    "    if t == 1:\n",
    "        bit.update(x, 1)\n",
    "    else:\n",
    "        ret = bit.search(x)\n",
    "        print(ret)\n",
    "        bit.update(ret, -1)"
   ]
  },
  {
   "cell_type": "markdown",
   "metadata": {},
   "source": [
    "# Indeed E\n",
    "\n",
    "重み付き転倒数\n",
    "\n",
    "https://atcoder.jp/contests/indeednow-finalb-open/tasks/indeednow_2015_finalb_e"
   ]
  },
  {
   "cell_type": "code",
   "execution_count": 20,
   "metadata": {},
   "outputs": [
    {
     "name": "stdout",
     "output_type": "stream",
     "text": [
      "ans: 8\n"
     ]
    }
   ],
   "source": [
    "N = 4\n",
    "H = [4, 1, 3, 2]\n",
    "\n",
    "print('ans: 8')"
   ]
  },
  {
   "cell_type": "code",
   "execution_count": 25,
   "metadata": {},
   "outputs": [],
   "source": [
    "class BIT:\n",
    "    def __init__(self, n):\n",
    "        self.n = n\n",
    "        self.bit = [0] * (n + 1)\n",
    "\n",
    "    def update(self, i, v):\n",
    "        while i <= self.n:\n",
    "            self.bit[i] += v\n",
    "            i += i & -i\n",
    "            \n",
    "    def query(self, i):\n",
    "        ret = 0\n",
    "        while i > 0:\n",
    "            ret += self.bit[i]\n",
    "            i -= i & -i\n",
    "            \n",
    "        return ret\n",
    "    \n",
    "    def search(self, i, j=None):\n",
    "        if j is None:\n",
    "            j = self.n\n",
    "            \n",
    "        return self.query(j) - self.query(i)"
   ]
  },
  {
   "cell_type": "code",
   "execution_count": 27,
   "metadata": {},
   "outputs": [
    {
     "name": "stdout",
     "output_type": "stream",
     "text": [
      "8\n"
     ]
    }
   ],
   "source": [
    "if len(H) != len(set(H)):\n",
    "    print(-1)\n",
    "\n",
    "tree = BIT(N)\n",
    "d = {v: i + 1 for i, v in enumerate(sorted(H))}\n",
    "ans = 0\n",
    "for i in range(N):\n",
    "    ans += tree.search(d[H[i]]) * H[i]\n",
    "    tree.update(d[H[i]], 1)\n",
    "print(ans)"
   ]
  },
  {
   "cell_type": "markdown",
   "metadata": {},
   "source": [
    "# ARC 88 - E\n",
    "\n",
    "転倒数\n",
    "\n",
    "https://atcoder.jp/contests/arc088/tasks/arc088_c"
   ]
  },
  {
   "cell_type": "code",
   "execution_count": 28,
   "metadata": {},
   "outputs": [
    {
     "name": "stdout",
     "output_type": "stream",
     "text": [
      "ans: 1\n"
     ]
    }
   ],
   "source": [
    "S = 'eel'\n",
    "\n",
    "print('ans: 1')"
   ]
  },
  {
   "cell_type": "code",
   "execution_count": null,
   "metadata": {},
   "outputs": [],
   "source": []
  },
  {
   "cell_type": "code",
   "execution_count": null,
   "metadata": {},
   "outputs": [],
   "source": []
  },
  {
   "cell_type": "code",
   "execution_count": null,
   "metadata": {},
   "outputs": [],
   "source": []
  },
  {
   "cell_type": "code",
   "execution_count": null,
   "metadata": {},
   "outputs": [],
   "source": []
  },
  {
   "cell_type": "code",
   "execution_count": null,
   "metadata": {},
   "outputs": [],
   "source": []
  }
 ],
 "metadata": {
  "kernelspec": {
   "display_name": "Python 3",
   "language": "python",
   "name": "python3"
  },
  "language_info": {
   "codemirror_mode": {
    "name": "ipython",
    "version": 3
   },
   "file_extension": ".py",
   "mimetype": "text/x-python",
   "name": "python",
   "nbconvert_exporter": "python",
   "pygments_lexer": "ipython3",
   "version": "3.7.3"
  }
 },
 "nbformat": 4,
 "nbformat_minor": 2
}
