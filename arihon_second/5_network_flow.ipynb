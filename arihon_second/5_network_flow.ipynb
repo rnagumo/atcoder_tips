{
 "cells": [
  {
   "cell_type": "markdown",
   "metadata": {},
   "source": [
    "# AOJ GRL_6_A\n",
    "\n",
    "最大流問題\n",
    "\n",
    "http://judge.u-aizu.ac.jp/onlinejudge/description.jsp?id=GRL_6_A&lang=jp"
   ]
  },
  {
   "cell_type": "code",
   "execution_count": 24,
   "metadata": {},
   "outputs": [
    {
     "name": "stdout",
     "output_type": "stream",
     "text": [
      "ans: 3\n"
     ]
    }
   ],
   "source": [
    "V, E = 4, 5\n",
    "edges = [[0, 1, 2], [0, 2, 1], [1, 2, 1], [1, 3, 1], [2, 3, 2]]\n",
    "\n",
    "print('ans: 3')"
   ]
  },
  {
   "cell_type": "code",
   "execution_count": 28,
   "metadata": {},
   "outputs": [
    {
     "data": {
      "text/plain": [
       "[[[1, 2, 0], [2, 1, 0]],\n",
       " [[0, 0, 0], [2, 1, 1], [3, 1, 0]],\n",
       " [[0, 0, 1], [1, 0, 1], [3, 2, 1]],\n",
       " [[1, 0, 2], [2, 0, 2]]]"
      ]
     },
     "execution_count": 28,
     "metadata": {},
     "output_type": "execute_result"
    }
   ],
   "source": [
    "graph = [[] for _ in range(V)]\n",
    "for u, v, c in edges:\n",
    "    graph[u].append([v, c, len(graph[v])])\n",
    "    graph[v].append([u, 0, len(graph[u]) - 1])\n",
    "    \n",
    "graph"
   ]
  },
  {
   "cell_type": "markdown",
   "metadata": {},
   "source": [
    "### Ford-Fulkerson algorithm\n",
    "\n",
    "計算量は，最大流量をFとすると$O(F|E|)$"
   ]
  },
  {
   "cell_type": "code",
   "execution_count": 25,
   "metadata": {},
   "outputs": [],
   "source": [
    "def dfs(u, t, f):\n",
    "    if u == t:\n",
    "        return f\n",
    "    \n",
    "    used[u] = True\n",
    "    for i in range(len(graph[u])):\n",
    "        v, c, r = graph[u][i]\n",
    "        if (not used[v]) and c > 0:\n",
    "            d = dfs(v, t, min(f, c))\n",
    "            if d > 0:\n",
    "                graph[u][i][1] -= d\n",
    "                graph[v][r][1] += d\n",
    "                return d\n",
    "\n",
    "    return 0"
   ]
  },
  {
   "cell_type": "code",
   "execution_count": 26,
   "metadata": {},
   "outputs": [
    {
     "name": "stdout",
     "output_type": "stream",
     "text": [
      "3\n"
     ]
    }
   ],
   "source": [
    "graph = [[] for _ in range(V)]\n",
    "for u, v, c in edges:\n",
    "    graph[u].append([v, c, len(graph[v])])\n",
    "    graph[v].append([u, 0, len(graph[u]) - 1])\n",
    "\n",
    "s = 0\n",
    "t = V - 1\n",
    "flow = 0\n",
    "\n",
    "while True:\n",
    "    used = [False] * V\n",
    "    f = dfs(s, t, float('inf'))\n",
    "    if f == 0:\n",
    "        break\n",
    "    flow += f\n",
    "    \n",
    "print(flow)"
   ]
  },
  {
   "cell_type": "markdown",
   "metadata": {},
   "source": [
    "### Dinic algorithm"
   ]
  },
  {
   "cell_type": "code",
   "execution_count": 31,
   "metadata": {},
   "outputs": [],
   "source": [
    "from collections import deque\n",
    "\n",
    "def bfs(s):\n",
    "    level[s] = 0\n",
    "    q = deque()\n",
    "    q.append(s)\n",
    "    \n",
    "    while q:\n",
    "        u = q.popleft()\n",
    "        for v, c, _ in graph[u]:\n",
    "            if c > 0 and level[v] < 0:\n",
    "                level[v] = level[u] + 1\n",
    "                q.append(v)"
   ]
  },
  {
   "cell_type": "code",
   "execution_count": 32,
   "metadata": {},
   "outputs": [],
   "source": [
    "def dfs(u, t, f):\n",
    "    if u == t:\n",
    "        return f\n",
    "            \n",
    "    for i in range(len(graph[u])):\n",
    "        v, c, r = graph[u][i]\n",
    "        if c > 0 and level[u] < level[v]:\n",
    "            d = dfs(v, t, min(f, c))\n",
    "            if d > 0:\n",
    "                graph[u][i][1] -= d\n",
    "                graph[v][r][1] += d\n",
    "                return d\n",
    "                \n",
    "    return 0"
   ]
  },
  {
   "cell_type": "code",
   "execution_count": 33,
   "metadata": {},
   "outputs": [
    {
     "name": "stdout",
     "output_type": "stream",
     "text": [
      "3\n"
     ]
    }
   ],
   "source": [
    "graph = [[] for _ in range(V)]\n",
    "for u, v, c in edges:\n",
    "    graph[u].append([v, c, len(graph[v])])\n",
    "    graph[v].append([u, 0, len(graph[u]) - 1])\n",
    "\n",
    "s = 0\n",
    "t = V - 1\n",
    "flow = 0\n",
    "\n",
    "while True:\n",
    "    level = [-1] * V\n",
    "    bfs(s)\n",
    "    if level[t] < 0:\n",
    "        break\n",
    "        \n",
    "    visited = [False] * V\n",
    "    while True:\n",
    "        f = dfs(s, t, float('inf'))\n",
    "        if f > 0:\n",
    "            flow += f\n",
    "        else:\n",
    "            break\n",
    "            \n",
    "print(flow)"
   ]
  },
  {
   "cell_type": "markdown",
   "metadata": {},
   "source": [
    "# ABC 10 - D\n",
    "\n",
    "最小カット問題\n",
    "\n",
    "https://atcoder.jp/contests/abc010/tasks/abc010_4"
   ]
  },
  {
   "cell_type": "code",
   "execution_count": 1,
   "metadata": {},
   "outputs": [
    {
     "name": "stdout",
     "output_type": "stream",
     "text": [
      "ans: 1\n"
     ]
    }
   ],
   "source": [
    "N, G, E = 4, 2, 3\n",
    "p = [2, 3]\n",
    "edges = [[0, 1], [1, 2], [1, 3]]\n",
    "\n",
    "print('ans: 1')"
   ]
  },
  {
   "cell_type": "markdown",
   "metadata": {},
   "source": [
    "#### 無向グラフの最大流問題"
   ]
  },
  {
   "cell_type": "code",
   "execution_count": 5,
   "metadata": {},
   "outputs": [
    {
     "data": {
      "text/plain": [
       "[[[1, 1, 0], [1, 0, 1]],\n",
       " [[0, 0, 0], [0, 1, 1], [2, 1, 0], [2, 0, 1], [3, 1, 0], [3, 0, 1]],\n",
       " [[1, 0, 2], [1, 1, 3], [4, 1, 0]],\n",
       " [[1, 0, 4], [1, 1, 5], [4, 1, 1]],\n",
       " [[2, 0, 2], [3, 0, 2]]]"
      ]
     },
     "execution_count": 5,
     "metadata": {},
     "output_type": "execute_result"
    }
   ],
   "source": [
    "def gen_graph():\n",
    "    graph = [[] for _ in range(N + 1)]\n",
    "    for u, v in edges:\n",
    "        graph[u].append([v, 1, len(graph[v])])\n",
    "        graph[v].append([u, 0, len(graph[u]) - 1])\n",
    "        \n",
    "        graph[v].append([u, 1, len(graph[u])])\n",
    "        graph[u].append([v, 0, len(graph[v]) - 1])\n",
    "\n",
    "    for u in p:\n",
    "        graph[u].append([N, 1, len(graph[N])])\n",
    "        graph[N].append([u, 0, len(graph[u]) - 1])\n",
    "\n",
    "    return graph\n",
    "        \n",
    "gen_graph()"
   ]
  },
  {
   "cell_type": "code",
   "execution_count": 6,
   "metadata": {},
   "outputs": [],
   "source": [
    "def dfs(u, t, f):\n",
    "    if u == t:\n",
    "        return f\n",
    "    \n",
    "    used[u] = True\n",
    "    for i in range(len(graph[u])):\n",
    "        v, c, r = graph[u][i]\n",
    "        if (not used[v]) and c > 0:\n",
    "            d = dfs(v, t, min(f, c))\n",
    "            if d > 0:\n",
    "                graph[u][i][1] -= d\n",
    "                graph[v][r][1] += d\n",
    "                return d\n",
    "\n",
    "    return 0"
   ]
  },
  {
   "cell_type": "code",
   "execution_count": 7,
   "metadata": {},
   "outputs": [
    {
     "name": "stdout",
     "output_type": "stream",
     "text": [
      "1\n"
     ]
    }
   ],
   "source": [
    "graph = gen_graph()\n",
    "s = 0\n",
    "t = N\n",
    "flow = 0\n",
    "\n",
    "while True:\n",
    "    used = [False] * (N + 1)\n",
    "    f = dfs(s, t, float('inf'))\n",
    "    if f == 0:\n",
    "        break\n",
    "    flow += f\n",
    "    \n",
    "print(flow)"
   ]
  },
  {
   "cell_type": "markdown",
   "metadata": {},
   "source": [
    "# GRL_7_A\n",
    "\n",
    "二部グラフマッチング\n",
    "\n",
    "http://judge.u-aizu.ac.jp/onlinejudge/description.jsp?id=GRL_7_A&lang=jp"
   ]
  },
  {
   "cell_type": "code",
   "execution_count": 8,
   "metadata": {},
   "outputs": [
    {
     "name": "stdout",
     "output_type": "stream",
     "text": [
      "ans: 3\n"
     ]
    }
   ],
   "source": [
    "X, Y, E = 3, 4, 6\n",
    "edges = [[0, 0], [0, 2], [0, 3], [1, 1], [2, 1], [2, 3]]\n",
    "\n",
    "print('ans: 3')"
   ]
  },
  {
   "cell_type": "code",
   "execution_count": 12,
   "metadata": {},
   "outputs": [],
   "source": [
    "def gen_graph(s, t):\n",
    "    graph = [[] for _ in range(X + Y + 2)]\n",
    "    \n",
    "    def add_edges(u, v, c):\n",
    "        graph[u].append([v, c, len(graph[v])])\n",
    "        graph[v].append([u, 0, len(graph[u]) - 1])\n",
    "    \n",
    "    for i in range(X):\n",
    "        add_edges(s, i, 1)\n",
    "        \n",
    "    for i in range(Y):\n",
    "        add_edges(i + X, t, 1)\n",
    "    \n",
    "    for u, v in edges:\n",
    "        add_edges(u, v + X, 1)\n",
    "\n",
    "    return graph"
   ]
  },
  {
   "cell_type": "code",
   "execution_count": 10,
   "metadata": {},
   "outputs": [],
   "source": [
    "def dfs(u, t, f):\n",
    "    if u == t:\n",
    "        return f\n",
    "    \n",
    "    used[u] = True\n",
    "    for i in range(len(graph[u])):\n",
    "        v, c, r = graph[u][i]\n",
    "        if (not used[v]) and (c > 0):\n",
    "            d = dfs(v, t, min(f, c))\n",
    "            if d > 0:\n",
    "                graph[u][i][1] -= d\n",
    "                graph[v][r][1] += d\n",
    "                return d\n",
    "\n",
    "    return 0"
   ]
  },
  {
   "cell_type": "code",
   "execution_count": 11,
   "metadata": {},
   "outputs": [
    {
     "name": "stdout",
     "output_type": "stream",
     "text": [
      "3\n"
     ]
    }
   ],
   "source": [
    "s = X + Y\n",
    "t = s + 1\n",
    "graph = gen_graph(s, t)\n",
    "flow = 0\n",
    "\n",
    "while True:\n",
    "    used = [False] * (X + Y + 2)\n",
    "    f = dfs(s, t, float('inf'))\n",
    "    flow += f\n",
    "    if f == 0:\n",
    "        break\n",
    "\n",
    "print(flow)"
   ]
  },
  {
   "cell_type": "markdown",
   "metadata": {},
   "source": [
    "### よりシンプルな解法"
   ]
  },
  {
   "cell_type": "code",
   "execution_count": 20,
   "metadata": {},
   "outputs": [],
   "source": [
    "def gen_graph():\n",
    "    graph = [[] for _ in range(X + Y)]\n",
    "    \n",
    "    for u, v in edges:\n",
    "        graph[u].append(v + X)\n",
    "        graph[v + X].append(u)\n",
    "\n",
    "    return graph"
   ]
  },
  {
   "cell_type": "code",
   "execution_count": 21,
   "metadata": {},
   "outputs": [],
   "source": [
    "def dfs(u):\n",
    "    used[u] = True\n",
    "    for v in graph[u]:\n",
    "        w = match[v]\n",
    "        if (w < 0) or (not visited[w]) and dfs(w):\n",
    "            match[u] = v\n",
    "            match[v] = u\n",
    "            return True\n",
    "        \n",
    "    return False"
   ]
  },
  {
   "cell_type": "code",
   "execution_count": 22,
   "metadata": {},
   "outputs": [
    {
     "ename": "RecursionError",
     "evalue": "maximum recursion depth exceeded in comparison",
     "output_type": "error",
     "traceback": [
      "\u001b[0;31m---------------------------------------------------------------------------\u001b[0m",
      "\u001b[0;31mRecursionError\u001b[0m                            Traceback (most recent call last)",
      "\u001b[0;32m<ipython-input-22-f83adaa4be19>\u001b[0m in \u001b[0;36m<module>\u001b[0;34m\u001b[0m\n\u001b[1;32m      6\u001b[0m     \u001b[0;32mif\u001b[0m \u001b[0mmatch\u001b[0m\u001b[0;34m[\u001b[0m\u001b[0mv\u001b[0m\u001b[0;34m]\u001b[0m \u001b[0;34m<\u001b[0m \u001b[0;36m0\u001b[0m\u001b[0;34m:\u001b[0m\u001b[0;34m\u001b[0m\u001b[0;34m\u001b[0m\u001b[0m\n\u001b[1;32m      7\u001b[0m         \u001b[0mvisited\u001b[0m \u001b[0;34m=\u001b[0m \u001b[0;34m[\u001b[0m\u001b[0;32mFalse\u001b[0m\u001b[0;34m]\u001b[0m \u001b[0;34m*\u001b[0m \u001b[0;34m(\u001b[0m\u001b[0mX\u001b[0m \u001b[0;34m+\u001b[0m \u001b[0mY\u001b[0m\u001b[0;34m)\u001b[0m\u001b[0;34m\u001b[0m\u001b[0;34m\u001b[0m\u001b[0m\n\u001b[0;32m----> 8\u001b[0;31m         \u001b[0;32mif\u001b[0m \u001b[0mdfs\u001b[0m\u001b[0;34m(\u001b[0m\u001b[0mv\u001b[0m\u001b[0;34m)\u001b[0m\u001b[0;34m:\u001b[0m\u001b[0;34m\u001b[0m\u001b[0;34m\u001b[0m\u001b[0m\n\u001b[0m\u001b[1;32m      9\u001b[0m             \u001b[0mans\u001b[0m \u001b[0;34m+=\u001b[0m \u001b[0;36m1\u001b[0m\u001b[0;34m\u001b[0m\u001b[0;34m\u001b[0m\u001b[0m\n\u001b[1;32m     10\u001b[0m \u001b[0;34m\u001b[0m\u001b[0m\n",
      "\u001b[0;32m<ipython-input-21-d43da9fb518f>\u001b[0m in \u001b[0;36mdfs\u001b[0;34m(u)\u001b[0m\n\u001b[1;32m      3\u001b[0m     \u001b[0;32mfor\u001b[0m \u001b[0mv\u001b[0m \u001b[0;32min\u001b[0m \u001b[0mgraph\u001b[0m\u001b[0;34m[\u001b[0m\u001b[0mu\u001b[0m\u001b[0;34m]\u001b[0m\u001b[0;34m:\u001b[0m\u001b[0;34m\u001b[0m\u001b[0;34m\u001b[0m\u001b[0m\n\u001b[1;32m      4\u001b[0m         \u001b[0mw\u001b[0m \u001b[0;34m=\u001b[0m \u001b[0mmatch\u001b[0m\u001b[0;34m[\u001b[0m\u001b[0mv\u001b[0m\u001b[0;34m]\u001b[0m\u001b[0;34m\u001b[0m\u001b[0;34m\u001b[0m\u001b[0m\n\u001b[0;32m----> 5\u001b[0;31m         \u001b[0;32mif\u001b[0m \u001b[0;34m(\u001b[0m\u001b[0mw\u001b[0m \u001b[0;34m<\u001b[0m \u001b[0;36m0\u001b[0m\u001b[0;34m)\u001b[0m \u001b[0;32mor\u001b[0m \u001b[0;34m(\u001b[0m\u001b[0;32mnot\u001b[0m \u001b[0mvisited\u001b[0m\u001b[0;34m[\u001b[0m\u001b[0mw\u001b[0m\u001b[0;34m]\u001b[0m\u001b[0;34m)\u001b[0m \u001b[0;32mand\u001b[0m \u001b[0mdfs\u001b[0m\u001b[0;34m(\u001b[0m\u001b[0mw\u001b[0m\u001b[0;34m)\u001b[0m\u001b[0;34m:\u001b[0m\u001b[0;34m\u001b[0m\u001b[0;34m\u001b[0m\u001b[0m\n\u001b[0m\u001b[1;32m      6\u001b[0m             \u001b[0mmatch\u001b[0m\u001b[0;34m[\u001b[0m\u001b[0mu\u001b[0m\u001b[0;34m]\u001b[0m \u001b[0;34m=\u001b[0m \u001b[0mv\u001b[0m\u001b[0;34m\u001b[0m\u001b[0;34m\u001b[0m\u001b[0m\n\u001b[1;32m      7\u001b[0m             \u001b[0mmatch\u001b[0m\u001b[0;34m[\u001b[0m\u001b[0mv\u001b[0m\u001b[0;34m]\u001b[0m \u001b[0;34m=\u001b[0m \u001b[0mu\u001b[0m\u001b[0;34m\u001b[0m\u001b[0;34m\u001b[0m\u001b[0m\n",
      "... last 1 frames repeated, from the frame below ...\n",
      "\u001b[0;32m<ipython-input-21-d43da9fb518f>\u001b[0m in \u001b[0;36mdfs\u001b[0;34m(u)\u001b[0m\n\u001b[1;32m      3\u001b[0m     \u001b[0;32mfor\u001b[0m \u001b[0mv\u001b[0m \u001b[0;32min\u001b[0m \u001b[0mgraph\u001b[0m\u001b[0;34m[\u001b[0m\u001b[0mu\u001b[0m\u001b[0;34m]\u001b[0m\u001b[0;34m:\u001b[0m\u001b[0;34m\u001b[0m\u001b[0;34m\u001b[0m\u001b[0m\n\u001b[1;32m      4\u001b[0m         \u001b[0mw\u001b[0m \u001b[0;34m=\u001b[0m \u001b[0mmatch\u001b[0m\u001b[0;34m[\u001b[0m\u001b[0mv\u001b[0m\u001b[0;34m]\u001b[0m\u001b[0;34m\u001b[0m\u001b[0;34m\u001b[0m\u001b[0m\n\u001b[0;32m----> 5\u001b[0;31m         \u001b[0;32mif\u001b[0m \u001b[0;34m(\u001b[0m\u001b[0mw\u001b[0m \u001b[0;34m<\u001b[0m \u001b[0;36m0\u001b[0m\u001b[0;34m)\u001b[0m \u001b[0;32mor\u001b[0m \u001b[0;34m(\u001b[0m\u001b[0;32mnot\u001b[0m \u001b[0mvisited\u001b[0m\u001b[0;34m[\u001b[0m\u001b[0mw\u001b[0m\u001b[0;34m]\u001b[0m\u001b[0;34m)\u001b[0m \u001b[0;32mand\u001b[0m \u001b[0mdfs\u001b[0m\u001b[0;34m(\u001b[0m\u001b[0mw\u001b[0m\u001b[0;34m)\u001b[0m\u001b[0;34m:\u001b[0m\u001b[0;34m\u001b[0m\u001b[0;34m\u001b[0m\u001b[0m\n\u001b[0m\u001b[1;32m      6\u001b[0m             \u001b[0mmatch\u001b[0m\u001b[0;34m[\u001b[0m\u001b[0mu\u001b[0m\u001b[0;34m]\u001b[0m \u001b[0;34m=\u001b[0m \u001b[0mv\u001b[0m\u001b[0;34m\u001b[0m\u001b[0;34m\u001b[0m\u001b[0m\n\u001b[1;32m      7\u001b[0m             \u001b[0mmatch\u001b[0m\u001b[0;34m[\u001b[0m\u001b[0mv\u001b[0m\u001b[0;34m]\u001b[0m \u001b[0;34m=\u001b[0m \u001b[0mu\u001b[0m\u001b[0;34m\u001b[0m\u001b[0;34m\u001b[0m\u001b[0m\n",
      "\u001b[0;31mRecursionError\u001b[0m: maximum recursion depth exceeded in comparison"
     ]
    }
   ],
   "source": [
    "ans = 0\n",
    "graph = gen_graph()\n",
    "match = [-1] * (X + Y)\n",
    "\n",
    "for v in range(X + Y):\n",
    "    if match[v] < 0:\n",
    "        visited = [False] * (X + Y)\n",
    "        if dfs(v):\n",
    "            ans += 1\n",
    "            \n",
    "print(ans)"
   ]
  },
  {
   "cell_type": "code",
   "execution_count": null,
   "metadata": {},
   "outputs": [],
   "source": []
  },
  {
   "cell_type": "code",
   "execution_count": null,
   "metadata": {},
   "outputs": [],
   "source": []
  },
  {
   "cell_type": "code",
   "execution_count": null,
   "metadata": {},
   "outputs": [],
   "source": []
  },
  {
   "cell_type": "code",
   "execution_count": null,
   "metadata": {},
   "outputs": [],
   "source": []
  },
  {
   "cell_type": "code",
   "execution_count": null,
   "metadata": {},
   "outputs": [],
   "source": []
  },
  {
   "cell_type": "code",
   "execution_count": null,
   "metadata": {},
   "outputs": [],
   "source": []
  },
  {
   "cell_type": "code",
   "execution_count": null,
   "metadata": {},
   "outputs": [],
   "source": []
  },
  {
   "cell_type": "code",
   "execution_count": null,
   "metadata": {},
   "outputs": [],
   "source": []
  },
  {
   "cell_type": "code",
   "execution_count": null,
   "metadata": {},
   "outputs": [],
   "source": []
  },
  {
   "cell_type": "code",
   "execution_count": null,
   "metadata": {},
   "outputs": [],
   "source": []
  }
 ],
 "metadata": {
  "kernelspec": {
   "display_name": "Python 3",
   "language": "python",
   "name": "python3"
  },
  "language_info": {
   "codemirror_mode": {
    "name": "ipython",
    "version": 3
   },
   "file_extension": ".py",
   "mimetype": "text/x-python",
   "name": "python",
   "nbconvert_exporter": "python",
   "pygments_lexer": "ipython3",
   "version": "3.7.3"
  }
 },
 "nbformat": 4,
 "nbformat_minor": 2
}
