{
 "cells": [
  {
   "cell_type": "markdown",
   "metadata": {},
   "source": [
    "# B"
   ]
  },
  {
   "cell_type": "code",
   "execution_count": 1,
   "metadata": {},
   "outputs": [],
   "source": [
    "H, W = 4, 5"
   ]
  },
  {
   "cell_type": "code",
   "execution_count": 17,
   "metadata": {},
   "outputs": [],
   "source": [
    "H, W = 1, 10"
   ]
  },
  {
   "cell_type": "code",
   "execution_count": 18,
   "metadata": {},
   "outputs": [
    {
     "name": "stdout",
     "output_type": "stream",
     "text": [
      "1\n"
     ]
    }
   ],
   "source": [
    "ans = H * W\n",
    "if H == 1 or W == 1:\n",
    "    print(1)\n",
    "elif ans % 2 == 1:\n",
    "    print(ans // 2 + 1)\n",
    "else:\n",
    "    print(ans // 2)"
   ]
  },
  {
   "cell_type": "markdown",
   "metadata": {},
   "source": [
    "# C"
   ]
  },
  {
   "cell_type": "code",
   "execution_count": 44,
   "metadata": {},
   "outputs": [
    {
     "name": "stdout",
     "output_type": "stream",
     "text": [
      "No\n"
     ]
    }
   ],
   "source": [
    "a, b, c = 2, 3, 9\n",
    "\n",
    "print(\"No\")"
   ]
  },
  {
   "cell_type": "code",
   "execution_count": 42,
   "metadata": {},
   "outputs": [],
   "source": [
    "a, b, c = 1000, 1000, 10"
   ]
  },
  {
   "cell_type": "code",
   "execution_count": 45,
   "metadata": {},
   "outputs": [
    {
     "name": "stdout",
     "output_type": "stream",
     "text": [
      "No\n"
     ]
    }
   ],
   "source": [
    "l = a * b * 4\n",
    "r = c - a - b\n",
    "if r < 0 or l >= r ** 2:\n",
    "    print(\"No\")\n",
    "else:\n",
    "    print(\"Yes\")"
   ]
  },
  {
   "cell_type": "markdown",
   "metadata": {},
   "source": [
    "# D"
   ]
  },
  {
   "cell_type": "code",
   "execution_count": 98,
   "metadata": {},
   "outputs": [],
   "source": [
    "N = 4"
   ]
  },
  {
   "cell_type": "code",
   "execution_count": 97,
   "metadata": {},
   "outputs": [
    {
     "name": "stdout",
     "output_type": "stream",
     "text": [
      "aaaa\n",
      "aaab\n",
      "aaba\n",
      "aabb\n",
      "aabc\n",
      "abaa\n",
      "abab\n",
      "abac\n",
      "abba\n",
      "abbb\n",
      "abbc\n",
      "abca\n",
      "abcb\n",
      "abcc\n",
      "abcd\n"
     ]
    }
   ],
   "source": [
    "ans = [\"a\"]\n",
    "for n in range(N - 1):\n",
    "    nex = []\n",
    "    for v in ans:\n",
    "        for i in range(ord(\"a\"), max(ord(s) for s in v) + 2):\n",
    "            nex.append(v + chr(i))\n",
    "    ans = nex[:]\n",
    "        \n",
    "print(*sorted(ans), sep=\"\\n\")"
   ]
  },
  {
   "cell_type": "markdown",
   "metadata": {},
   "source": [
    "# E"
   ]
  },
  {
   "cell_type": "code",
   "execution_count": 13,
   "metadata": {},
   "outputs": [
    {
     "name": "stdout",
     "output_type": "stream",
     "text": [
      "7\n"
     ]
    }
   ],
   "source": [
    "a = \"a?c\"\n",
    "b = \"der\"\n",
    "c = \"cod\"\n",
    "\n",
    "print(7)"
   ]
  },
  {
   "cell_type": "code",
   "execution_count": 247,
   "metadata": {},
   "outputs": [
    {
     "name": "stdout",
     "output_type": "stream",
     "text": [
      "7\n"
     ]
    }
   ],
   "source": [
    "a = \"atcoder\"\n",
    "b = \"atcoder\"\n",
    "c = \"???????\"\n",
    "\n",
    "print(7)"
   ]
  },
  {
   "cell_type": "markdown",
   "metadata": {},
   "source": [
    "#### aの位置を固定して，他の文字列の位置を全探索する．\n",
    "\n",
    "各文字列の長さの最大値が2000なので，一つの文字列の先頭は$-2000 * 2 <= idx <= 2000 * 2$まで動く．  \n",
    "よって，配列の長さは$2000 * 4 * 2$だけ必要．"
   ]
  },
  {
   "cell_type": "code",
   "execution_count": 14,
   "metadata": {},
   "outputs": [],
   "source": [
    "def match(c1, c2):\n",
    "    return c1 == c2 or c1 == \"?\" or c2 == \"?\""
   ]
  },
  {
   "cell_type": "code",
   "execution_count": 15,
   "metadata": {},
   "outputs": [],
   "source": [
    "def check(x, y, l_m=2000):\n",
    "    xy = [1] * (l_m * 8 + 1)\n",
    "    mid = l_m * 4\n",
    "    for i in range(len(x)):\n",
    "        for j in range(len(y)):\n",
    "            if not match(x[i], y[j]):\n",
    "                xy[i - j + mid] = 0\n",
    "    return xy"
   ]
  },
  {
   "cell_type": "code",
   "execution_count": 18,
   "metadata": {},
   "outputs": [
    {
     "name": "stdout",
     "output_type": "stream",
     "text": [
      "7\n"
     ]
    }
   ],
   "source": [
    "l_a = len(a)\n",
    "l_b = len(b)\n",
    "l_c = len(c)\n",
    "\n",
    "ab = check(a, b)\n",
    "ac = check(a, c)\n",
    "bc = check(b, c)\n",
    "\n",
    "l_m = 2000\n",
    "mid = l_m * 4\n",
    "\n",
    "ans = 3 * l_m\n",
    "for i in range(-2 * l_m, 2 * l_m + 1):\n",
    "    if not ab[i + mid]:\n",
    "        continue\n",
    "    for j in range(-2 * l_m, 2 * l_m + 1):\n",
    "        if not ac[j + mid] or not bc[j - i + mid]:\n",
    "            continue\n",
    "\n",
    "        lb = min(0, i, j)\n",
    "        ub = max(l_a, l_b + i, l_c + j)\n",
    "        ans = min(ans, ub - lb)\n",
    "\n",
    "print(ans)"
   ]
  },
  {
   "cell_type": "code",
   "execution_count": null,
   "metadata": {},
   "outputs": [],
   "source": []
  },
  {
   "cell_type": "code",
   "execution_count": null,
   "metadata": {},
   "outputs": [],
   "source": []
  },
  {
   "cell_type": "code",
   "execution_count": null,
   "metadata": {},
   "outputs": [],
   "source": []
  }
 ],
 "metadata": {
  "kernelspec": {
   "display_name": "Python 3",
   "language": "python",
   "name": "python3"
  },
  "language_info": {
   "codemirror_mode": {
    "name": "ipython",
    "version": 3
   },
   "file_extension": ".py",
   "mimetype": "text/x-python",
   "name": "python",
   "nbconvert_exporter": "python",
   "pygments_lexer": "ipython3",
   "version": "3.7.3"
  }
 },
 "nbformat": 4,
 "nbformat_minor": 4
}
