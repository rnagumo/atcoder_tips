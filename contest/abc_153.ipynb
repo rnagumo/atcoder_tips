{
 "cells": [
  {
   "cell_type": "markdown",
   "metadata": {},
   "source": [
    "# A"
   ]
  },
  {
   "cell_type": "code",
   "execution_count": 1,
   "metadata": {},
   "outputs": [],
   "source": [
    "H, A = 10, 4"
   ]
  },
  {
   "cell_type": "code",
   "execution_count": 2,
   "metadata": {},
   "outputs": [
    {
     "name": "stdout",
     "output_type": "stream",
     "text": [
      "3\n"
     ]
    }
   ],
   "source": [
    "print(-(-H // A))"
   ]
  },
  {
   "cell_type": "markdown",
   "metadata": {},
   "source": [
    "# B"
   ]
  },
  {
   "cell_type": "code",
   "execution_count": 4,
   "metadata": {},
   "outputs": [],
   "source": [
    "H, N = 10, 3\n",
    "A = [4, 5, 6]"
   ]
  },
  {
   "cell_type": "code",
   "execution_count": 5,
   "metadata": {},
   "outputs": [
    {
     "name": "stdout",
     "output_type": "stream",
     "text": [
      "Yes\n"
     ]
    }
   ],
   "source": [
    "print(\"Yes\" if H <= sum(A) else \"No\")"
   ]
  },
  {
   "cell_type": "markdown",
   "metadata": {},
   "source": [
    "# C"
   ]
  },
  {
   "cell_type": "code",
   "execution_count": 13,
   "metadata": {},
   "outputs": [
    {
     "name": "stdout",
     "output_type": "stream",
     "text": [
      "5\n"
     ]
    }
   ],
   "source": [
    "N, K = 3, 1\n",
    "H = [4, 1, 5]\n",
    "\n",
    "print(5)"
   ]
  },
  {
   "cell_type": "code",
   "execution_count": 15,
   "metadata": {},
   "outputs": [
    {
     "name": "stdout",
     "output_type": "stream",
     "text": [
      "5\n"
     ]
    }
   ],
   "source": [
    "N, K = 8, 9\n",
    "H = [7, 9, 3, 2, 3, 8, 4, 6]\n"
   ]
  },
  {
   "cell_type": "code",
   "execution_count": 16,
   "metadata": {},
   "outputs": [
    {
     "name": "stdout",
     "output_type": "stream",
     "text": [
      "0\n"
     ]
    }
   ],
   "source": [
    "H.sort(reverse=True)\n",
    "print(sum(H[K:]))"
   ]
  },
  {
   "cell_type": "markdown",
   "metadata": {},
   "source": [
    "# D"
   ]
  },
  {
   "cell_type": "code",
   "execution_count": 36,
   "metadata": {},
   "outputs": [
    {
     "name": "stdout",
     "output_type": "stream",
     "text": [
      "3\n"
     ]
    }
   ],
   "source": [
    "H = 2\n",
    "\n",
    "print(3)"
   ]
  },
  {
   "cell_type": "code",
   "execution_count": 41,
   "metadata": {},
   "outputs": [
    {
     "name": "stdout",
     "output_type": "stream",
     "text": [
      "7\n"
     ]
    }
   ],
   "source": [
    "H = 4\n",
    "\n",
    "print(7)"
   ]
  },
  {
   "cell_type": "code",
   "execution_count": 43,
   "metadata": {},
   "outputs": [
    {
     "name": "stdout",
     "output_type": "stream",
     "text": [
      "1099511627775\n"
     ]
    }
   ],
   "source": [
    "H = 1000000000000\n",
    "\n",
    "print(1099511627775)"
   ]
  },
  {
   "cell_type": "code",
   "execution_count": 45,
   "metadata": {},
   "outputs": [
    {
     "name": "stdout",
     "output_type": "stream",
     "text": [
      "1099511627775\n"
     ]
    }
   ],
   "source": [
    "x = H\n",
    "cnt = 1\n",
    "ans = 0\n",
    "while x > 1:\n",
    "    x //= 2\n",
    "    ans += cnt\n",
    "    cnt *= 2\n",
    "print(ans + cnt)"
   ]
  },
  {
   "cell_type": "markdown",
   "metadata": {},
   "source": [
    "# E"
   ]
  },
  {
   "cell_type": "code",
   "execution_count": 73,
   "metadata": {},
   "outputs": [
    {
     "name": "stdout",
     "output_type": "stream",
     "text": [
      "4\n"
     ]
    }
   ],
   "source": [
    "H, N = 9, 3\n",
    "X = [[8, 3], [4, 2], [2, 1]]\n",
    "\n",
    "print(4)"
   ]
  },
  {
   "cell_type": "code",
   "execution_count": 83,
   "metadata": {},
   "outputs": [
    {
     "name": "stdout",
     "output_type": "stream",
     "text": [
      "3\n"
     ]
    }
   ],
   "source": [
    "H, N = 9, 3\n",
    "X = [[9, 12], [8, 2], [2, 1]]\n",
    "\n",
    "print(3)"
   ]
  },
  {
   "cell_type": "code",
   "execution_count": 85,
   "metadata": {},
   "outputs": [
    {
     "name": "stdout",
     "output_type": "stream",
     "text": [
      "139815\n"
     ]
    }
   ],
   "source": [
    "H, N = 9999, 10\n",
    "X = [[540, 7550], [691, 9680], [700, 9790], [510, 7150], [415, 5818],\n",
    "     [551, 7712], [587, 8227], [619, 8671], [588, 8228], [176, 2461]]\n",
    "\n",
    "print(139815)"
   ]
  },
  {
   "cell_type": "code",
   "execution_count": 87,
   "metadata": {},
   "outputs": [
    {
     "name": "stdout",
     "output_type": "stream",
     "text": [
      "139815\n"
     ]
    }
   ],
   "source": [
    "dp = [[10 ** 9] * (H + 1) for _ in range(N + 1)]\n",
    "dp[0][0] = 0\n",
    "X.sort(key=lambda x: -x[-1])\n",
    "\n",
    "for i, (a, b) in enumerate(X):\n",
    "    for j in range(H + 1):\n",
    "        if j == 0:\n",
    "            dp[i + 1][j] = 0\n",
    "        if j + a < H:\n",
    "            dp[i + 1][j + a] = min(dp[i][j + a], dp[i][j] + b, dp[i + 1][j] + b)\n",
    "        else:\n",
    "            dp[i + 1][-1] = min(dp[i][-1], dp[i + 1][-1], dp[i][j] + b, dp[i + 1][j] + b)            \n",
    "            \n",
    "print(dp[-1][-1])"
   ]
  },
  {
   "cell_type": "markdown",
   "metadata": {},
   "source": [
    "# F"
   ]
  },
  {
   "cell_type": "code",
   "execution_count": 1,
   "metadata": {},
   "outputs": [
    {
     "name": "stdout",
     "output_type": "stream",
     "text": [
      "2\n"
     ]
    }
   ],
   "source": [
    "N, D, A = 3, 3, 2\n",
    "XH = [[1, 2], [5, 4], [9, 2]]\n",
    "\n",
    "print(2)"
   ]
  },
  {
   "cell_type": "code",
   "execution_count": 42,
   "metadata": {},
   "outputs": [
    {
     "name": "stdout",
     "output_type": "stream",
     "text": [
      "5\n"
     ]
    }
   ],
   "source": [
    "N, D, A = 9, 4, 1\n",
    "XH = [[6, 2], [7, 3], [8, 4], [9, 5],\n",
    "      [1, 5], [2, 4], [3, 3], [4, 2], [5, 1]]\n",
    "\n",
    "print(5)"
   ]
  },
  {
   "cell_type": "markdown",
   "metadata": {},
   "source": [
    "#### 自分の解法"
   ]
  },
  {
   "cell_type": "code",
   "execution_count": 39,
   "metadata": {},
   "outputs": [],
   "source": [
    "class BIT:\n",
    "    def __init__(self, n=None):\n",
    "        # 1-index\n",
    "        if n is None:\n",
    "            n = (1 << 20) - 1\n",
    "        self.n = n\n",
    "        self.dat_a = [0] * (2 * self.n - 1)\n",
    "        self.dat_b = [0] * (2 * self.n - 1)\n",
    "\n",
    "    def add(self, a, b, x, k=0, l=0, r=None):\n",
    "        # Add x to [a, b)\n",
    "        if r is None:\n",
    "            r = self.n\n",
    "\n",
    "        if a <= l and r <= b:\n",
    "            self.dat_a[k] += x\n",
    "        elif l < b and a < r:\n",
    "            self.dat_b[k] += (min(b, r) - max(a, l)) * x\n",
    "            self.add(a, b, x, k * 2 + 1, l, (l + r) // 2)\n",
    "            self.add(a, b, x, k * 2 + 2, (l + r) // 2, r)\n",
    "            \n",
    "    def query(self, a, b, k=0, l=0, r=None):\n",
    "        # Retrun sum of [a, b)\n",
    "        if r is None:\n",
    "            r = self.n\n",
    "        \n",
    "        if b <= l or r <= a:\n",
    "            return 0\n",
    "        \n",
    "        if a <= l and r <= b:\n",
    "            return self.dat_a[k] * (r - l) + self.dat_b[k]\n",
    "        \n",
    "        res = (min(b, r) - max(a, l)) * self.dat_a[k]\n",
    "        res += self.query(a, b, k * 2 + 1, l, (l + r) // 2)\n",
    "        res += self.query(a, b, k * 2 + 2, (l + r) // 2, r)\n",
    "        \n",
    "        return res"
   ]
  },
  {
   "cell_type": "code",
   "execution_count": 43,
   "metadata": {},
   "outputs": [
    {
     "name": "stdout",
     "output_type": "stream",
     "text": [
      "5\n"
     ]
    }
   ],
   "source": [
    "ans = 0\n",
    "bit = BIT()\n",
    "X.sort(key=lambda x: x[0])\n",
    "for x, h in X:\n",
    "    res = h - bit.query(x, x + 1)\n",
    "    if res <= 0:\n",
    "        continue\n",
    "        \n",
    "    cnt = -(-res // A)\n",
    "    bit.add(x, x + 2 * D + 1, cnt * A)\n",
    "    ans += cnt\n",
    "    \n",
    "print(ans)"
   ]
  },
  {
   "cell_type": "markdown",
   "metadata": {},
   "source": [
    "#### 模範解答"
   ]
  },
  {
   "cell_type": "code",
   "execution_count": 1,
   "metadata": {},
   "outputs": [
    {
     "name": "stdout",
     "output_type": "stream",
     "text": [
      "2\n"
     ]
    }
   ],
   "source": [
    "N, D, A = 3, 3, 2\n",
    "XH = [[1, 2], [5, 4], [9, 2]]\n",
    "\n",
    "print(2)"
   ]
  },
  {
   "cell_type": "code",
   "execution_count": 2,
   "metadata": {},
   "outputs": [
    {
     "name": "stdout",
     "output_type": "stream",
     "text": [
      "2\n"
     ]
    }
   ],
   "source": [
    "import bisect\n",
    "\n",
    "XH.sort()\n",
    "X, H = zip(*XH)\n",
    "\n",
    "K = [-(-h // A) for h in H]\n",
    "L = [0] * (N + 2)\n",
    "\n",
    "ans = 0\n",
    "for i in range(N):\n",
    "    L[i + 1] += L[i]\n",
    "    s = max(K[i] - L[i + 1], 0)\n",
    "    ans += s\n",
    "    L[i + 1] += s\n",
    "    L[bisect.bisect_right(X, X[i] + 2 * D) + 1] -= s\n",
    "\n",
    "print(ans)"
   ]
  },
  {
   "cell_type": "markdown",
   "metadata": {},
   "source": [
    "#### BITの解法\n",
    "\n",
    "解答：http://drken1215.hatenablog.com/entry/2020/01/26/234000"
   ]
  },
  {
   "cell_type": "code",
   "execution_count": 13,
   "metadata": {},
   "outputs": [],
   "source": [
    "class BIT:\n",
    "    def __init__(self, n):\n",
    "        # 1-index\n",
    "        self.n = n\n",
    "        self.dat = [[0] * self.n for _ in range(2)]\n",
    "        \n",
    "    def _add_body(self, p, i, x):\n",
    "        while i < self.n:\n",
    "            self.dat[p][i] += x\n",
    "            i += i & -i\n",
    "\n",
    "    def add(self, a, b, x):\n",
    "        # Add x to [a, b)\n",
    "        self._add_body(0, a, x * -(a - 1))\n",
    "        self._add_body(1, a, x)\n",
    "        self._add_body(0, b, x * (b - 1))\n",
    "        self._add_body(1, b, x * -1)\n",
    "\n",
    "    def _query_body(self, p, i):\n",
    "        res = 0\n",
    "        while i > 0:\n",
    "            res += self.dat[p][i]\n",
    "            i -= i & -i\n",
    "        return res\n",
    "        \n",
    "    def query(self, a, b):\n",
    "        # Return sum of [a, b)\n",
    "        res = (self._query_body(0, b - 1)\n",
    "               + self._query_body(1, b - 1) * (b - 1)\n",
    "               - self._query_body(0, a - 1)\n",
    "               - self._query_body(1, a - 1) * (a - 1))\n",
    "        return res\n",
    "\n",
    "    def __repr__(self):\n",
    "        return \", \".join([str(self.query(i, i + 1)) for i in range(self.n)])"
   ]
  },
  {
   "cell_type": "code",
   "execution_count": 14,
   "metadata": {},
   "outputs": [
    {
     "name": "stdout",
     "output_type": "stream",
     "text": [
      "2\n"
     ]
    }
   ],
   "source": [
    "N, D, A = 3, 3, 2\n",
    "XH = [[1, 2], [5, 4], [9, 2]]\n",
    "\n",
    "print(2)"
   ]
  },
  {
   "cell_type": "code",
   "execution_count": 17,
   "metadata": {},
   "outputs": [
    {
     "name": "stdout",
     "output_type": "stream",
     "text": [
      "2\n"
     ]
    }
   ],
   "source": [
    "import bisect\n",
    "\n",
    "X, H = zip(*sorted(XH))\n",
    "bit = BIT(N + 10)\n",
    "\n",
    "# 初期化\n",
    "for i, h in enumerate(H):\n",
    "    bit.add(i + 1, i + 2, h)\n",
    "    \n",
    "# 処理\n",
    "res = 0\n",
    "for i in range(N):\n",
    "    cur = bit.query(i + 1, i + 2)\n",
    "    if cur <= 0:\n",
    "        continue\n",
    "\n",
    "    need = -(-cur // A)\n",
    "    idx = bisect.bisect_right(X, X[i] + 2 * D) + 1\n",
    "    bit.add(i + 1, idx + 1, -need * A)\n",
    "    res += need\n",
    "    \n",
    "print(res)"
   ]
  },
  {
   "cell_type": "code",
   "execution_count": null,
   "metadata": {},
   "outputs": [],
   "source": []
  }
 ],
 "metadata": {
  "kernelspec": {
   "display_name": "Python 3",
   "language": "python",
   "name": "python3"
  },
  "language_info": {
   "codemirror_mode": {
    "name": "ipython",
    "version": 3
   },
   "file_extension": ".py",
   "mimetype": "text/x-python",
   "name": "python",
   "nbconvert_exporter": "python",
   "pygments_lexer": "ipython3",
   "version": "3.7.3"
  }
 },
 "nbformat": 4,
 "nbformat_minor": 4
}
