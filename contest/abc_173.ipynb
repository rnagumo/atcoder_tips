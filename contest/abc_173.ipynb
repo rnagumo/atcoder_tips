{
 "cells": [
  {
   "cell_type": "markdown",
   "metadata": {},
   "source": [
    "# C"
   ]
  },
  {
   "cell_type": "code",
   "execution_count": 1,
   "metadata": {},
   "outputs": [
    {
     "name": "stdout",
     "output_type": "stream",
     "text": [
      "5\n"
     ]
    }
   ],
   "source": [
    "H, W, K = 2, 3, 2\n",
    "X = [\"..#\", \"###\"]\n",
    "\n",
    "print(5)"
   ]
  },
  {
   "cell_type": "code",
   "execution_count": 2,
   "metadata": {},
   "outputs": [
    {
     "name": "stdout",
     "output_type": "stream",
     "text": [
      "5\n"
     ]
    }
   ],
   "source": [
    "ans = 0\n",
    "for bit_h in range(2 ** H):\n",
    "    for bit_w in range(2 ** W):\n",
    "        cnt = 0\n",
    "        for i in range(H):\n",
    "            for j in range(W):\n",
    "                if (bit_h >> i & 1) and (bit_w >> j & 1) and X[i][j] == \"#\":\n",
    "                    cnt += 1\n",
    "                    \n",
    "        ans += int(cnt == K)\n",
    "        \n",
    "print(ans)"
   ]
  },
  {
   "cell_type": "markdown",
   "metadata": {},
   "source": [
    "# D"
   ]
  },
  {
   "cell_type": "code",
   "execution_count": 11,
   "metadata": {},
   "outputs": [
    {
     "name": "stdout",
     "output_type": "stream",
     "text": [
      "7\n"
     ]
    }
   ],
   "source": [
    "N = 4\n",
    "A = [2, 2, 1, 3]\n",
    "\n",
    "print(7)"
   ]
  },
  {
   "cell_type": "code",
   "execution_count": 12,
   "metadata": {},
   "outputs": [
    {
     "name": "stdout",
     "output_type": "stream",
     "text": [
      "7\n"
     ]
    }
   ],
   "source": [
    "A.sort(reverse=True)\n",
    "ans = 0\n",
    "for i in range(N - 1):\n",
    "    if i == 0:\n",
    "        ans += A[i]\n",
    "    else:\n",
    "        ans += A[-(-i // 2)]            \n",
    "print(ans)"
   ]
  },
  {
   "cell_type": "markdown",
   "metadata": {},
   "source": [
    "# E"
   ]
  },
  {
   "cell_type": "code",
   "execution_count": 1,
   "metadata": {},
   "outputs": [
    {
     "name": "stdout",
     "output_type": "stream",
     "text": [
      "12\n"
     ]
    }
   ],
   "source": [
    "N, K = 4, 2\n",
    "A = [1, 2, -3, -4]\n",
    "\n",
    "print(12)"
   ]
  },
  {
   "cell_type": "code",
   "execution_count": 8,
   "metadata": {},
   "outputs": [],
   "source": [
    "N, K = 4, 3\n",
    "A = [3, 2, -1, 0]"
   ]
  },
  {
   "cell_type": "code",
   "execution_count": 9,
   "metadata": {},
   "outputs": [],
   "source": [
    "MOD = 10 ** 9 + 7"
   ]
  },
  {
   "cell_type": "code",
   "execution_count": 10,
   "metadata": {},
   "outputs": [],
   "source": [
    "z_num = sum(v == 0 for v in A)\n",
    "p_num = sum(v > 0 for v in A)\n",
    "m_num = sum(v < 0 for v in A)"
   ]
  },
  {
   "cell_type": "code",
   "execution_count": 11,
   "metadata": {},
   "outputs": [],
   "source": [
    "if p_num + m_num < K:\n",
    "    print(0)\n",
    "\n",
    "if p_num == 0 and m_num >= K and K % 2 == 1:\n",
    "    if z_num > 0:\n",
    "        print(0)\n",
    "    else:\n",
    "        x = sorted([v for v in A if v < 0], reverse=True)\n",
    "        ans = 1\n",
    "        n = len(x)\n",
    "        for i in range(K):\n",
    "            ans = ans * x[i] % MOD\n",
    "        print(ans)"
   ]
  },
  {
   "cell_type": "code",
   "execution_count": 15,
   "metadata": {},
   "outputs": [],
   "source": [
    "x = []\n",
    "for v in A:\n",
    "    if v != 0:\n",
    "        x.append((abs(v), v // abs(v)))\n",
    "    else:\n",
    "        x.append((0, 0))\n",
    "x.sort()\n",
    "\n",
    "plus = []\n",
    "minus = []\n",
    "for i in range(K):\n",
    "    v, s = x.pop()\n",
    "    if s >= 0:\n",
    "        plus.append(v)\n",
    "    else:\n",
    "        minus.append(v)"
   ]
  },
  {
   "cell_type": "code",
   "execution_count": 19,
   "metadata": {},
   "outputs": [
    {
     "name": "stdout",
     "output_type": "stream",
     "text": [
      "0\n"
     ]
    }
   ],
   "source": [
    "if len(minus) % 2 != 0:\n",
    "    p_cand = MOD\n",
    "    m_cand = MOD\n",
    "    while x:\n",
    "        v, s = x.pop()\n",
    "        if s >= 0 and p_cand == MOD:\n",
    "            p_cand = v\n",
    "        elif s == -1 and m_cand == MOD:\n",
    "            m_cand = v\n",
    "\n",
    "    if p_cand == MOD and m_cand != MOD and plus:\n",
    "        plus.pop()\n",
    "        minus.append(m_cand)\n",
    "    elif m_cand == MOD and p_cand != MOD and minus:\n",
    "        minus.pop()\n",
    "        plus.append(p_cand)\n",
    "    elif p_cand != MOD and m_cand != MOD and plus and minus:\n",
    "        p_org = plus.pop()\n",
    "        m_org = minus.pop()\n",
    "        if p_org * p_cand > m_org * m_cand:\n",
    "            plus.append(p_org)\n",
    "            plus.append(p_cand)\n",
    "        else:\n",
    "            minus.append(m_org)\n",
    "            minus.append(m_cand)\n",
    "\n",
    "\n",
    "ans = 1\n",
    "for v in plus:\n",
    "    ans = ans * v % MOD\n",
    "for v in minus:\n",
    "    ans = ans * (-v) % MOD\n",
    "print(ans)"
   ]
  },
  {
   "cell_type": "markdown",
   "metadata": {},
   "source": [
    "#### 模範解答"
   ]
  },
  {
   "cell_type": "code",
   "execution_count": 11,
   "metadata": {},
   "outputs": [
    {
     "name": "stdout",
     "output_type": "stream",
     "text": [
      "12\n"
     ]
    }
   ],
   "source": [
    "N, K = 4, 2\n",
    "A = [1, 2, -3, -4]\n",
    "\n",
    "print(12)"
   ]
  },
  {
   "cell_type": "code",
   "execution_count": 12,
   "metadata": {},
   "outputs": [],
   "source": [
    "MOD = 10 ** 9 + 7\n",
    "s = []  # v >= 0\n",
    "t = []  # v < 0\n",
    "for i in range(N):\n",
    "    if A[i] < 0:\n",
    "        t.append(A[i])\n",
    "    else:\n",
    "        s.append(A[i])\n",
    "        \n",
    "ok = False  # ans > 0\n",
    "if len(s) > 0:\n",
    "    if N == K:\n",
    "        ok = len(t) % 2 == 0\n",
    "    else:\n",
    "        ok = True\n",
    "else:\n",
    "    ok = K % 2 == 0"
   ]
  },
  {
   "cell_type": "code",
   "execution_count": 13,
   "metadata": {},
   "outputs": [
    {
     "name": "stdout",
     "output_type": "stream",
     "text": [
      "12\n"
     ]
    }
   ],
   "source": [
    "ans = 1\n",
    "if not ok:\n",
    "    x = sorted(A, key=lambda x: abs(x))\n",
    "    for i in range(K):\n",
    "        ans = ans * x[i] % MOD\n",
    "else:\n",
    "    s.sort()\n",
    "    t.sort(key=lambda x: abs(x))\n",
    "    if K % 2 == 1:\n",
    "        ans = ans * s.pop() % MOD\n",
    "\n",
    "    p = []\n",
    "    while len(s) >= 2:\n",
    "        x = s.pop() * s.pop() % MOD\n",
    "        p.append(x)\n",
    "    \n",
    "    while len(t) >= 2:\n",
    "        x = t.pop() * t.pop() % MOD\n",
    "        p.append(x)\n",
    "\n",
    "    p.sort(reverse=True)\n",
    "    for i in range(K // 2):\n",
    "        ans = ans * p[i] % MOD\n",
    "    \n",
    "print(ans)"
   ]
  },
  {
   "cell_type": "markdown",
   "metadata": {},
   "source": [
    "# F"
   ]
  },
  {
   "cell_type": "code",
   "execution_count": 20,
   "metadata": {},
   "outputs": [
    {
     "name": "stdout",
     "output_type": "stream",
     "text": [
      "7\n"
     ]
    }
   ],
   "source": [
    "N = 3\n",
    "X = [[1, 3], [2, 3]]\n",
    "\n",
    "print(7)"
   ]
  },
  {
   "cell_type": "code",
   "execution_count": null,
   "metadata": {},
   "outputs": [],
   "source": []
  },
  {
   "cell_type": "code",
   "execution_count": null,
   "metadata": {},
   "outputs": [],
   "source": []
  },
  {
   "cell_type": "code",
   "execution_count": null,
   "metadata": {},
   "outputs": [],
   "source": []
  }
 ],
 "metadata": {
  "kernelspec": {
   "display_name": "Python 3",
   "language": "python",
   "name": "python3"
  },
  "language_info": {
   "codemirror_mode": {
    "name": "ipython",
    "version": 3
   },
   "file_extension": ".py",
   "mimetype": "text/x-python",
   "name": "python",
   "nbconvert_exporter": "python",
   "pygments_lexer": "ipython3",
   "version": "3.7.7"
  }
 },
 "nbformat": 4,
 "nbformat_minor": 4
}
