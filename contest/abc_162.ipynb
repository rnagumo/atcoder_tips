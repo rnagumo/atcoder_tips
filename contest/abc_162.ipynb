{
 "cells": [
  {
   "cell_type": "markdown",
   "metadata": {},
   "source": [
    "# B"
   ]
  },
  {
   "cell_type": "code",
   "execution_count": 4,
   "metadata": {},
   "outputs": [
    {
     "name": "stdout",
     "output_type": "stream",
     "text": [
      "60\n"
     ]
    }
   ],
   "source": [
    "N = 1000000\n",
    "\n",
    "print(60)"
   ]
  },
  {
   "cell_type": "code",
   "execution_count": 5,
   "metadata": {},
   "outputs": [
    {
     "name": "stdout",
     "output_type": "stream",
     "text": [
      "266666333332\n"
     ]
    }
   ],
   "source": [
    "ans = sum(i for i in range(N + 1) if i % 3 != 0 and i % 5 != 0)\n",
    "print(ans)"
   ]
  },
  {
   "cell_type": "markdown",
   "metadata": {},
   "source": [
    "# C"
   ]
  },
  {
   "cell_type": "code",
   "execution_count": 9,
   "metadata": {},
   "outputs": [],
   "source": [
    "K = 200"
   ]
  },
  {
   "cell_type": "code",
   "execution_count": 10,
   "metadata": {},
   "outputs": [],
   "source": [
    "from math import gcd"
   ]
  },
  {
   "cell_type": "code",
   "execution_count": 11,
   "metadata": {},
   "outputs": [
    {
     "name": "stdout",
     "output_type": "stream",
     "text": [
      "10813692\n"
     ]
    }
   ],
   "source": [
    "ans = 0\n",
    "for i in range(1, K + 1):\n",
    "    for j in range(1, K + 1):\n",
    "        for k in range(1, K + 1):\n",
    "            ans += gcd(i, gcd(k, j))\n",
    "print(ans)"
   ]
  },
  {
   "cell_type": "markdown",
   "metadata": {},
   "source": [
    "# D"
   ]
  },
  {
   "cell_type": "code",
   "execution_count": 33,
   "metadata": {},
   "outputs": [
    {
     "name": "stdout",
     "output_type": "stream",
     "text": [
      "1\n"
     ]
    }
   ],
   "source": [
    "N = 4\n",
    "S = \"RRGB\"\n",
    "\n",
    "print(1)"
   ]
  },
  {
   "cell_type": "code",
   "execution_count": 2,
   "metadata": {},
   "outputs": [],
   "source": [
    "d = [[0] * N for _ in range(3)]\n",
    "for i in range(3):\n",
    "    for j in range(N):\n",
    "        d[i][j] = int(S[j] == \"RGB\"[i])\n",
    "        \n",
    "cumsum = [[0] * (N + 1) for _ in range(3)]\n",
    "for i in range(3):\n",
    "    for j in range(N):\n",
    "        cumsum[i][j + 1] = cumsum[i][j] + d[i][j]"
   ]
  },
  {
   "cell_type": "code",
   "execution_count": 3,
   "metadata": {},
   "outputs": [
    {
     "data": {
      "text/plain": [
       "[[0, 1, 2, 2, 2], [0, 0, 0, 1, 1], [0, 0, 0, 0, 1]]"
      ]
     },
     "execution_count": 3,
     "metadata": {},
     "output_type": "execute_result"
    }
   ],
   "source": [
    "cumsum"
   ]
  },
  {
   "cell_type": "code",
   "execution_count": 4,
   "metadata": {},
   "outputs": [
    {
     "name": "stdout",
     "output_type": "stream",
     "text": [
      "1\n"
     ]
    }
   ],
   "source": [
    "ans = 0\n",
    "for i in range(1, N - 1):\n",
    "    for j in range(i + 1, N):        \n",
    "        if S[i - 1] == S[j - 1]:\n",
    "            continue\n",
    "\n",
    "        # Find `k` string and index\n",
    "        s = (set(\"RGB\") - set([S[i - 1], S[j - 1]])).pop()\n",
    "        idx = \"RGB\".find(s)\n",
    "        ans += cumsum[idx][-1] - cumsum[idx][j]\n",
    "        \n",
    "        k = 2 * j - i\n",
    "        if k <= N and d[idx][k - 1]:\n",
    "            ans -= 1\n",
    "        \n",
    "print(ans)"
   ]
  },
  {
   "cell_type": "markdown",
   "metadata": {},
   "source": [
    "#### 模範解答\n",
    "\n",
    "全パターンの中から，除外すべき個数を探す．"
   ]
  },
  {
   "cell_type": "code",
   "execution_count": 41,
   "metadata": {},
   "outputs": [],
   "source": [
    "d = {\"R\": 0, \"G\": 0, \"B\": 0}\n",
    "for i in range(N):\n",
    "    d[S[i]] += 1\n",
    "    \n",
    "ans = d[\"R\"] * d[\"G\"] * d[\"B\"]"
   ]
  },
  {
   "cell_type": "code",
   "execution_count": 45,
   "metadata": {},
   "outputs": [
    {
     "name": "stdout",
     "output_type": "stream",
     "text": [
      "1\n"
     ]
    }
   ],
   "source": [
    "cnt = 0\n",
    "for i in range(1, N - 1):\n",
    "    for j in range(i + 1, N):\n",
    "        k = 2 * j - i\n",
    "        if k > N or S[i - 1] == S[j - 1]:\n",
    "            continue\n",
    "            \n",
    "        if S[i - 1] != S[k - 1] and S[j - 1] != S[k - 1]:\n",
    "            cnt += 1\n",
    "            \n",
    "print(ans - cnt)"
   ]
  },
  {
   "cell_type": "markdown",
   "metadata": {},
   "source": [
    "# E"
   ]
  },
  {
   "cell_type": "code",
   "execution_count": 1,
   "metadata": {},
   "outputs": [
    {
     "name": "stdout",
     "output_type": "stream",
     "text": [
      "9\n"
     ]
    }
   ],
   "source": [
    "N, K = 3, 2\n",
    "\n",
    "print(9)"
   ]
  },
  {
   "cell_type": "code",
   "execution_count": 19,
   "metadata": {},
   "outputs": [
    {
     "name": "stdout",
     "output_type": "stream",
     "text": [
      "10813692\n"
     ]
    }
   ],
   "source": [
    "N, K = 3, 200\n",
    "\n",
    "print(10813692)"
   ]
  },
  {
   "cell_type": "markdown",
   "metadata": {},
   "source": [
    "#### 解答"
   ]
  },
  {
   "cell_type": "code",
   "execution_count": 20,
   "metadata": {},
   "outputs": [
    {
     "name": "stdout",
     "output_type": "stream",
     "text": [
      "10813692\n"
     ]
    }
   ],
   "source": [
    "MOD = 10 ** 9 + 7\n",
    "cnt = [0] * (K + 1)\n",
    "ans = 0\n",
    "for x in reversed(range(1, K + 1)):\n",
    "    cnt[x] += pow(K // x, N, MOD)\n",
    "    for n in range(2, K + 1):\n",
    "        if x * n > K:\n",
    "            break\n",
    "        cnt[x] -= cnt[x * n]\n",
    "    cnt[x] %= MOD\n",
    "    ans += x * cnt[x] % MOD\n",
    "\n",
    "print(ans % MOD)"
   ]
  },
  {
   "cell_type": "code",
   "execution_count": null,
   "metadata": {},
   "outputs": [],
   "source": []
  }
 ],
 "metadata": {
  "kernelspec": {
   "display_name": "Python 3",
   "language": "python",
   "name": "python3"
  },
  "language_info": {
   "codemirror_mode": {
    "name": "ipython",
    "version": 3
   },
   "file_extension": ".py",
   "mimetype": "text/x-python",
   "name": "python",
   "nbconvert_exporter": "python",
   "pygments_lexer": "ipython3",
   "version": "3.7.3"
  }
 },
 "nbformat": 4,
 "nbformat_minor": 4
}
