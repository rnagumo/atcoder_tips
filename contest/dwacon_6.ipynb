{
 "cells": [
  {
   "cell_type": "markdown",
   "metadata": {},
   "source": [
    "# A"
   ]
  },
  {
   "cell_type": "code",
   "execution_count": 1,
   "metadata": {},
   "outputs": [],
   "source": [
    "N = 3\n",
    "L = [['dwango', 2], ['sixth', 5], ['prelims', 25]]\n",
    "X = \"dwango\""
   ]
  },
  {
   "cell_type": "code",
   "execution_count": 2,
   "metadata": {},
   "outputs": [
    {
     "name": "stdout",
     "output_type": "stream",
     "text": [
      "30\n"
     ]
    }
   ],
   "source": [
    "ans = 0\n",
    "flag = False\n",
    "for s, t in L:\n",
    "    if flag:\n",
    "        ans += t\n",
    "    if s == X:\n",
    "        flag = True\n",
    "        \n",
    "print(ans)"
   ]
  },
  {
   "cell_type": "markdown",
   "metadata": {},
   "source": [
    "# B"
   ]
  },
  {
   "cell_type": "code",
   "execution_count": 61,
   "metadata": {},
   "outputs": [
    {
     "name": "stdout",
     "output_type": "stream",
     "text": [
      "5\n"
     ]
    }
   ],
   "source": [
    "N = 3\n",
    "X = [1, 2, 3]\n",
    "\n",
    "print(5)"
   ]
  },
  {
   "cell_type": "code",
   "execution_count": 64,
   "metadata": {},
   "outputs": [
    {
     "name": "stdout",
     "output_type": "stream",
     "text": [
      "750927044\n"
     ]
    }
   ],
   "source": [
    "N = 12\n",
    "X = [161735902, 211047202, 430302156, 450968417, 628894325, 707723857,\n",
    "     731963982, 822804784, 880895728, 923078537, 971407775, 982631932]\n",
    "\n",
    "print(750927044)"
   ]
  },
  {
   "cell_type": "code",
   "execution_count": 54,
   "metadata": {},
   "outputs": [],
   "source": [
    "N = 4\n",
    "X = [1, 2, 4, 8]"
   ]
  },
  {
   "cell_type": "markdown",
   "metadata": {},
   "source": [
    "## 模範解答"
   ]
  },
  {
   "cell_type": "code",
   "execution_count": 67,
   "metadata": {},
   "outputs": [],
   "source": [
    "P = [1 / i for i in range(1, N + 1)]\n",
    "Q = [0] * (N + 1)\n",
    "for i in range(N):\n",
    "    Q[i + 1] = Q[i] + P[i]"
   ]
  },
  {
   "cell_type": "code",
   "execution_count": 68,
   "metadata": {},
   "outputs": [
    {
     "name": "stdout",
     "output_type": "stream",
     "text": [
      "750927048\n"
     ]
    }
   ],
   "source": [
    "D = [X[i + 1] - X[i] for i in range(N - 1)]\n",
    "\n",
    "ans = 0\n",
    "for i in range(N - 1):\n",
    "    ans += D[i] * Q[i + 1]\n",
    "    \n",
    "for i in range(1, N):\n",
    "    ans = ans * i % MOD\n",
    "    \n",
    "print(int(ans))"
   ]
  },
  {
   "cell_type": "code",
   "execution_count": null,
   "metadata": {},
   "outputs": [],
   "source": []
  }
 ],
 "metadata": {
  "kernelspec": {
   "display_name": "Python 3",
   "language": "python",
   "name": "python3"
  },
  "language_info": {
   "codemirror_mode": {
    "name": "ipython",
    "version": 3
   },
   "file_extension": ".py",
   "mimetype": "text/x-python",
   "name": "python",
   "nbconvert_exporter": "python",
   "pygments_lexer": "ipython3",
   "version": "3.7.3"
  }
 },
 "nbformat": 4,
 "nbformat_minor": 4
}
