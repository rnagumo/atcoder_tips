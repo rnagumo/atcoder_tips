{
 "cells": [
  {
   "cell_type": "markdown",
   "metadata": {},
   "source": [
    "# B"
   ]
  },
  {
   "cell_type": "code",
   "execution_count": 15,
   "metadata": {},
   "outputs": [
    {
     "name": "stdout",
     "output_type": "stream",
     "text": [
      "Yes\n"
     ]
    }
   ],
   "source": [
    "A = [[84, 97, 66], [79, 89, 11], [61, 59, 7]]\n",
    "N = 7\n",
    "B = [89, 7, 87, 79, 24, 84, 30]\n",
    "\n",
    "print(\"Yes\")"
   ]
  },
  {
   "cell_type": "code",
   "execution_count": 17,
   "metadata": {},
   "outputs": [
    {
     "name": "stdout",
     "output_type": "stream",
     "text": [
      "Yes\n"
     ]
    }
   ],
   "source": [
    "ans = False\n",
    "for a in A:\n",
    "    ans |= set(a) <= set(B)\n",
    "    \n",
    "for i in range(3):\n",
    "    ans |= set([A[0][i], A[1][i], A[2][i]]) <= set(B)\n",
    "    \n",
    "ans |= set([A[0][0], A[1][1], A[2][2]]) <= set(B)\n",
    "ans |= set([A[0][2], A[1][1], A[2][0]]) <= set(B)\n",
    "    \n",
    "print(\"Yes\" if ans else \"No\")"
   ]
  },
  {
   "cell_type": "code",
   "execution_count": 14,
   "metadata": {},
   "outputs": [
    {
     "data": {
      "text/plain": [
       "False"
      ]
     },
     "execution_count": 14,
     "metadata": {},
     "output_type": "execute_result"
    }
   ],
   "source": [
    "ans"
   ]
  },
  {
   "cell_type": "code",
   "execution_count": 10,
   "metadata": {},
   "outputs": [
    {
     "data": {
      "text/plain": [
       "True"
      ]
     },
     "execution_count": 10,
     "metadata": {},
     "output_type": "execute_result"
    }
   ],
   "source": [
    "set([89, 7]) <= set(B)"
   ]
  },
  {
   "cell_type": "markdown",
   "metadata": {},
   "source": [
    "# C"
   ]
  },
  {
   "cell_type": "code",
   "execution_count": 86,
   "metadata": {},
   "outputs": [
    {
     "name": "stdout",
     "output_type": "stream",
     "text": [
      "702\n"
     ]
    }
   ],
   "source": [
    "N, M = 3, 3\n",
    "SC = [[1, 7], [3, 2], [1, 7]]\n",
    "\n",
    "print(702)"
   ]
  },
  {
   "cell_type": "code",
   "execution_count": 72,
   "metadata": {},
   "outputs": [
    {
     "name": "stdout",
     "output_type": "stream",
     "text": [
      "100\n"
     ]
    }
   ],
   "source": [
    "N, M = 3, 1\n",
    "SC = [[2, 0]]\n",
    "\n",
    "print(100)"
   ]
  },
  {
   "cell_type": "code",
   "execution_count": 79,
   "metadata": {},
   "outputs": [
    {
     "name": "stdout",
     "output_type": "stream",
     "text": [
      "-1\n"
     ]
    }
   ],
   "source": [
    "N, M = 3, 1\n",
    "SC = [[1, 0]]\n",
    "\n",
    "print(-1)"
   ]
  },
  {
   "cell_type": "code",
   "execution_count": 83,
   "metadata": {},
   "outputs": [
    {
     "name": "stdout",
     "output_type": "stream",
     "text": [
      "-1\n"
     ]
    }
   ],
   "source": [
    "N, M = 3, 2\n",
    "SC = [[2, 1], [2, 3]]\n",
    "\n",
    "print(-1)"
   ]
  },
  {
   "cell_type": "code",
   "execution_count": 103,
   "metadata": {},
   "outputs": [
    {
     "name": "stdout",
     "output_type": "stream",
     "text": [
      "0\n"
     ]
    }
   ],
   "source": [
    "N, M = 1, 1\n",
    "SC = [[1, 0]]\n",
    "\n",
    "print(0)"
   ]
  },
  {
   "cell_type": "code",
   "execution_count": 99,
   "metadata": {},
   "outputs": [
    {
     "name": "stdout",
     "output_type": "stream",
     "text": [
      "0\n"
     ]
    }
   ],
   "source": [
    "N, M = 1, 0\n",
    "SC = []\n",
    "\n",
    "print(0)"
   ]
  },
  {
   "cell_type": "code",
   "execution_count": 104,
   "metadata": {},
   "outputs": [
    {
     "data": {
      "text/plain": [
       "defaultdict(list, {1: [0]})"
      ]
     },
     "execution_count": 104,
     "metadata": {},
     "output_type": "execute_result"
    }
   ],
   "source": [
    "from collections import defaultdict\n",
    "\n",
    "d = defaultdict(list)\n",
    "for s, c in SC:\n",
    "    d[s].append(c)\n",
    "    \n",
    "d"
   ]
  },
  {
   "cell_type": "code",
   "execution_count": 105,
   "metadata": {},
   "outputs": [
    {
     "name": "stdout",
     "output_type": "stream",
     "text": [
      "0\n"
     ]
    }
   ],
   "source": [
    "if any(len(set(v)) > 1 for v in d.values()):\n",
    "    print(-1)\n",
    "elif d[1] == [0] and N > 1:\n",
    "    print(-1)\n",
    "elif N == 1 and M == 0:\n",
    "    print(0)\n",
    "else:\n",
    "    ans = [0] * N\n",
    "    ans[0] = 1\n",
    "    for i in range(N):\n",
    "        if d[i + 1]:\n",
    "            ans[i] = d[i + 1].pop()\n",
    "            \n",
    "    print(\"\".join(list(map(str, ans))))"
   ]
  },
  {
   "cell_type": "markdown",
   "metadata": {},
   "source": [
    "# D"
   ]
  },
  {
   "cell_type": "code",
   "execution_count": 106,
   "metadata": {},
   "outputs": [
    {
     "name": "stdout",
     "output_type": "stream",
     "text": [
      "0 1 0 1\n"
     ]
    }
   ],
   "source": [
    "N, M, K = 4, 4, 1\n",
    "AB = [[2, 1], [1, 3], [3, 2], [3, 4]]\n",
    "CD = [[4, 1]]\n",
    "\n",
    "print(0, 1, 0, 1)"
   ]
  },
  {
   "cell_type": "code",
   "execution_count": 134,
   "metadata": {},
   "outputs": [
    {
     "name": "stdout",
     "output_type": "stream",
     "text": [
      "1 3 5 4 3 3 3 3 1 0\n"
     ]
    }
   ],
   "source": [
    "N, M, K = 10, 9, 3\n",
    "AB = [[10, 1], [6, 7], [8, 2], [2, 5], [8, 4],\n",
    "      [7, 3], [10, 9], [6, 4], [5, 8]]\n",
    "CD = [[2, 6], [7, 5], [3, 1]]\n",
    "\n",
    "print(\"1 3 5 4 3 3 3 3 1 0\")"
   ]
  },
  {
   "cell_type": "code",
   "execution_count": 135,
   "metadata": {},
   "outputs": [],
   "source": [
    "from collections import deque, Counter"
   ]
  },
  {
   "cell_type": "code",
   "execution_count": 136,
   "metadata": {},
   "outputs": [],
   "source": [
    "def bfs(s, c):\n",
    "    \"\"\"\n",
    "    s: node\n",
    "    c: number\n",
    "    \"\"\"\n",
    "\n",
    "    q = deque()\n",
    "    q.append(s)\n",
    "    visited[s] = True\n",
    "    color[s] = c\n",
    "    \n",
    "    while q:\n",
    "        u = q.pop()\n",
    "        for v in graph[u]:\n",
    "            if visited[v]:\n",
    "                continue\n",
    "                \n",
    "            visited[v] = True\n",
    "            color[v] = c\n",
    "            q.append(v)"
   ]
  },
  {
   "cell_type": "code",
   "execution_count": 137,
   "metadata": {},
   "outputs": [],
   "source": [
    "graph = [[] for _ in range(N)]\n",
    "for a, b in AB:\n",
    "    graph[a - 1].append(b - 1)\n",
    "    graph[b - 1].append(a - 1)"
   ]
  },
  {
   "cell_type": "code",
   "execution_count": 138,
   "metadata": {},
   "outputs": [
    {
     "data": {
      "text/plain": [
       "[[9], [7, 4], [6], [7, 5], [1, 7], [6, 3], [5, 2], [1, 3, 4], [9], [0, 8]]"
      ]
     },
     "execution_count": 138,
     "metadata": {},
     "output_type": "execute_result"
    }
   ],
   "source": [
    "graph"
   ]
  },
  {
   "cell_type": "code",
   "execution_count": 139,
   "metadata": {},
   "outputs": [],
   "source": [
    "visited = [False] * N\n",
    "color = [-1] * N\n",
    "c = 0\n",
    "\n",
    "for i in range(N):\n",
    "    if not visited[i]:\n",
    "        bfs(i, c)\n",
    "        c += 1\n",
    "        \n",
    "ctr = Counter(color)"
   ]
  },
  {
   "cell_type": "code",
   "execution_count": 140,
   "metadata": {},
   "outputs": [
    {
     "data": {
      "text/plain": [
       "Counter({0: 3, 1: 7})"
      ]
     },
     "execution_count": 140,
     "metadata": {},
     "output_type": "execute_result"
    }
   ],
   "source": [
    "ctr"
   ]
  },
  {
   "cell_type": "code",
   "execution_count": 158,
   "metadata": {},
   "outputs": [],
   "source": [
    "block = [[] for _ in range(N)]\n",
    "for c, d in CD:\n",
    "    if color[c - 1] == color[d - 1]:\n",
    "        block[c - 1].append(d - 1)\n",
    "        block[d - 1].append(c - 1)"
   ]
  },
  {
   "cell_type": "code",
   "execution_count": 159,
   "metadata": {},
   "outputs": [
    {
     "data": {
      "text/plain": [
       "[[], [5], [], [], [6], [1], [4], [], [], []]"
      ]
     },
     "execution_count": 159,
     "metadata": {},
     "output_type": "execute_result"
    }
   ],
   "source": [
    "block"
   ]
  },
  {
   "cell_type": "code",
   "execution_count": 160,
   "metadata": {},
   "outputs": [
    {
     "data": {
      "text/plain": [
       "[0, 1, 1, 1, 1, 1, 1, 1, 0, 0]"
      ]
     },
     "execution_count": 160,
     "metadata": {},
     "output_type": "execute_result"
    }
   ],
   "source": [
    "color"
   ]
  },
  {
   "cell_type": "code",
   "execution_count": 161,
   "metadata": {},
   "outputs": [
    {
     "name": "stdout",
     "output_type": "stream",
     "text": [
      "[9] []\n",
      "[7, 4] [5]\n",
      "[6] []\n",
      "[7, 5] []\n",
      "[1, 7] [6]\n",
      "[6, 3] [1]\n",
      "[5, 2] [4]\n",
      "[1, 3, 4] []\n",
      "[9] []\n",
      "[0, 8] []\n",
      "1 3 5 4 3 3 3 3 1 0\n"
     ]
    }
   ],
   "source": [
    "ans = [0] * N\n",
    "for i in range(N):\n",
    "    print(graph[i], block[i])\n",
    "    ans[i] = ctr[color[i]] - 1 - len(set(graph[i]) | set(block[i]))\n",
    "    \n",
    "print(*ans)"
   ]
  },
  {
   "cell_type": "markdown",
   "metadata": {},
   "source": [
    "# E"
   ]
  },
  {
   "cell_type": "code",
   "execution_count": 1,
   "metadata": {},
   "outputs": [
    {
     "name": "stdout",
     "output_type": "stream",
     "text": [
      "3 1 5\n"
     ]
    }
   ],
   "source": [
    "N = 7\n",
    "S = list(\"abcdbbd\")\n",
    "Q = 6\n",
    "X = [['2', '3', '6'], ['1', '5', 'z'], ['2', '1', '1'],\n",
    "     ['1', '4', 'a'], ['1', '7', 'd'], ['2', '1', '7']]\n",
    "\n",
    "print(3, 1, 5)"
   ]
  },
  {
   "cell_type": "markdown",
   "metadata": {},
   "source": [
    "#### 模範解答\n",
    "\n",
    "https://atcoder.jp/contests/abc157/submissions/10460892"
   ]
  },
  {
   "cell_type": "code",
   "execution_count": 2,
   "metadata": {},
   "outputs": [],
   "source": [
    "class BIT:\n",
    "    def __init__(self, n):\n",
    "        self.size = n\n",
    "        self.tree = [0] * (n + 1)\n",
    "        \n",
    "    def sum(self, i):\n",
    "        if i == 0:\n",
    "            return 0\n",
    "        \n",
    "        s = 0\n",
    "        while i > 0:\n",
    "            s += self.tree[i]\n",
    "            i -= i & -i\n",
    "        return s\n",
    "    \n",
    "    def add(self, i, x):\n",
    "        while i <= self.size:\n",
    "            self.tree[i] += x\n",
    "            i += i & -i"
   ]
  },
  {
   "cell_type": "code",
   "execution_count": 3,
   "metadata": {},
   "outputs": [],
   "source": [
    "MAX = 5 * 10 ** 5 + 2\n",
    "d = dict()\n",
    "\n",
    "for c in range(ord(\"a\"), ord(\"z\") + 1):\n",
    "    s = chr(c)\n",
    "    d[s] = BIT(MAX)\n",
    "    for i, v in enumerate(S):\n",
    "        if v == s:\n",
    "            d[s].add(i + 1, 1)"
   ]
  },
  {
   "cell_type": "code",
   "execution_count": 4,
   "metadata": {},
   "outputs": [
    {
     "name": "stdout",
     "output_type": "stream",
     "text": [
      "3\n",
      "1\n",
      "5\n"
     ]
    }
   ],
   "source": [
    "for t, i, c in X:\n",
    "    if t == \"1\":\n",
    "        i = int(i)\n",
    "        \n",
    "        if S[i - 1] != c:\n",
    "            # Delete index\n",
    "            d[S[i - 1]].add(i, -1)\n",
    "            \n",
    "            # Insert index\n",
    "            d[c].add(i, 1)\n",
    "            S[i - 1] = c\n",
    "    else:\n",
    "        l = int(i)\n",
    "        r = int(c)\n",
    "        \n",
    "        res = 0\n",
    "        for c in range(ord(\"a\"), ord(\"z\") + 1):\n",
    "            s = chr(c)\n",
    "            res += int(d[s].sum(r) - d[s].sum(l - 1) > 0)\n",
    "\n",
    "        print(res)"
   ]
  },
  {
   "cell_type": "code",
   "execution_count": null,
   "metadata": {},
   "outputs": [],
   "source": []
  },
  {
   "cell_type": "code",
   "execution_count": null,
   "metadata": {},
   "outputs": [],
   "source": []
  },
  {
   "cell_type": "code",
   "execution_count": null,
   "metadata": {},
   "outputs": [],
   "source": []
  },
  {
   "cell_type": "code",
   "execution_count": null,
   "metadata": {},
   "outputs": [],
   "source": []
  },
  {
   "cell_type": "code",
   "execution_count": null,
   "metadata": {},
   "outputs": [],
   "source": []
  }
 ],
 "metadata": {
  "kernelspec": {
   "display_name": "Python 3",
   "language": "python",
   "name": "python3"
  },
  "language_info": {
   "codemirror_mode": {
    "name": "ipython",
    "version": 3
   },
   "file_extension": ".py",
   "mimetype": "text/x-python",
   "name": "python",
   "nbconvert_exporter": "python",
   "pygments_lexer": "ipython3",
   "version": "3.7.3"
  }
 },
 "nbformat": 4,
 "nbformat_minor": 4
}
