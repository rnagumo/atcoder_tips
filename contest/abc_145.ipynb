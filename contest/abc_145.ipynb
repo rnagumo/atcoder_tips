{
 "cells": [
  {
   "cell_type": "markdown",
   "metadata": {},
   "source": [
    "# A"
   ]
  },
  {
   "cell_type": "code",
   "execution_count": 1,
   "metadata": {},
   "outputs": [
    {
     "name": "stdout",
     "output_type": "stream",
     "text": [
      "4\n"
     ]
    }
   ],
   "source": [
    "r = 2\n",
    "print(r ** 2)"
   ]
  },
  {
   "cell_type": "markdown",
   "metadata": {},
   "source": [
    "# B"
   ]
  },
  {
   "cell_type": "code",
   "execution_count": 2,
   "metadata": {},
   "outputs": [],
   "source": [
    "N = 6\n",
    "S = \"abcabc\""
   ]
  },
  {
   "cell_type": "code",
   "execution_count": 5,
   "metadata": {},
   "outputs": [],
   "source": [
    "N = 1\n",
    "S = \"z\""
   ]
  },
  {
   "cell_type": "code",
   "execution_count": 6,
   "metadata": {},
   "outputs": [
    {
     "name": "stdout",
     "output_type": "stream",
     "text": [
      "No\n"
     ]
    }
   ],
   "source": [
    "if N % 2 == 0 and S[: N // 2] == S[N // 2 :]:\n",
    "    print(\"Yes\")\n",
    "else:\n",
    "    print(\"No\")"
   ]
  },
  {
   "cell_type": "markdown",
   "metadata": {},
   "source": [
    "# C"
   ]
  },
  {
   "cell_type": "code",
   "execution_count": 57,
   "metadata": {},
   "outputs": [
    {
     "name": "stdout",
     "output_type": "stream",
     "text": [
      "2.27\n"
     ]
    }
   ],
   "source": [
    "N = 3\n",
    "X = [[0, 0], [1, 0], [0, 1]]\n",
    "\n",
    "print(2.27)"
   ]
  },
  {
   "cell_type": "code",
   "execution_count": 59,
   "metadata": {},
   "outputs": [
    {
     "name": "stdout",
     "output_type": "stream",
     "text": [
      "91.92\n"
     ]
    }
   ],
   "source": [
    "N = 2\n",
    "X = [[-879, 981], [-866, 890]]\n",
    "\n",
    "print(91.92)"
   ]
  },
  {
   "cell_type": "code",
   "execution_count": 61,
   "metadata": {},
   "outputs": [
    {
     "name": "stdout",
     "output_type": "stream",
     "text": [
      "7641.98\n"
     ]
    }
   ],
   "source": [
    "N = 8\n",
    "X = [[-406, 10], [512, 859], [494, 362], [-955, -475],\n",
    "     [128, 553], [-986, -885], [763, 77], [449, 310]]\n",
    "\n",
    "print(7641.98)"
   ]
  },
  {
   "cell_type": "code",
   "execution_count": 62,
   "metadata": {},
   "outputs": [
    {
     "name": "stdout",
     "output_type": "stream",
     "text": [
      "7641.981782438674\n"
     ]
    }
   ],
   "source": [
    "from itertools import combinations\n",
    "from math import factorial\n",
    "\n",
    "cnt = 0\n",
    "for i, j in combinations(range(N), 2):\n",
    "    cnt += ((X[i][0] - X[j][0]) ** 2 + (X[i][1] - X[j][1]) ** 2) ** 0.5\n",
    "\n",
    "print(factorial(N - 1) * 2 * cnt / factorial(N))"
   ]
  },
  {
   "cell_type": "markdown",
   "metadata": {},
   "source": [
    "# D"
   ]
  },
  {
   "cell_type": "code",
   "execution_count": 70,
   "metadata": {},
   "outputs": [
    {
     "name": "stdout",
     "output_type": "stream",
     "text": [
      "2\n"
     ]
    }
   ],
   "source": [
    "X, Y = 3, 3\n",
    "\n",
    "print(2)"
   ]
  },
  {
   "cell_type": "code",
   "execution_count": 66,
   "metadata": {},
   "outputs": [
    {
     "name": "stdout",
     "output_type": "stream",
     "text": [
      "0\n"
     ]
    }
   ],
   "source": [
    "X, Y = 2, 2\n",
    "\n",
    "print(0)"
   ]
  },
  {
   "cell_type": "code",
   "execution_count": 72,
   "metadata": {},
   "outputs": [
    {
     "name": "stdout",
     "output_type": "stream",
     "text": [
      "0\n"
     ]
    }
   ],
   "source": [
    "X, Y = 999999, 999999\n",
    "\n",
    "print(151840682)"
   ]
  },
  {
   "cell_type": "code",
   "execution_count": 76,
   "metadata": {},
   "outputs": [],
   "source": [
    "MOD = 10 ** 9 + 7\n",
    "\n",
    "def comb(n, k):\n",
    "    ret = 1\n",
    "    for i in range(1, k + 1):\n",
    "        ret = ret * (n - i + 1) % MOD        \n",
    "        ret = ret * pow(i, MOD - 2, MOD) % MOD\n",
    "        \n",
    "    return ret"
   ]
  },
  {
   "cell_type": "code",
   "execution_count": 101,
   "metadata": {},
   "outputs": [
    {
     "name": "stdout",
     "output_type": "stream",
     "text": [
      "6\n"
     ]
    }
   ],
   "source": [
    "n = (2 * Y - X) / 3\n",
    "m = (2 * X - Y) / 3\n",
    "\n",
    "if n >= 0 and m >= 0 and n == int(n) and m == int(m):\n",
    "    print(comb(int(n + m), int(n)))\n",
    "else:\n",
    "    print(0)"
   ]
  },
  {
   "cell_type": "markdown",
   "metadata": {},
   "source": [
    "# E"
   ]
  },
  {
   "cell_type": "code",
   "execution_count": 171,
   "metadata": {},
   "outputs": [
    {
     "name": "stdout",
     "output_type": "stream",
     "text": [
      "110\n"
     ]
    }
   ],
   "source": [
    "N, T = 2, 60\n",
    "X = [[10, 10], [100, 100]]\n",
    "\n",
    "print(110)"
   ]
  },
  {
   "cell_type": "code",
   "execution_count": 181,
   "metadata": {},
   "outputs": [
    {
     "name": "stdout",
     "output_type": "stream",
     "text": [
      "50\n"
     ]
    }
   ],
   "source": [
    "N, T = 3, 60\n",
    "X = [[30, 10], [30, 20], [30, 30]]\n",
    "\n",
    "print(50)"
   ]
  },
  {
   "cell_type": "code",
   "execution_count": 184,
   "metadata": {},
   "outputs": [
    {
     "name": "stdout",
     "output_type": "stream",
     "text": [
      "145\n"
     ]
    }
   ],
   "source": [
    "N, T = 10, 100\n",
    "X = [[15, 23], [20, 18], [13, 17], [24, 12], [18, 29],\n",
    "     [19, 27], [23, 21], [18, 20], [27, 15], [22, 25]]\n",
    "\n",
    "print(145)"
   ]
  },
  {
   "cell_type": "code",
   "execution_count": 182,
   "metadata": {},
   "outputs": [
    {
     "name": "stdout",
     "output_type": "stream",
     "text": [
      "50\n"
     ]
    }
   ],
   "source": [
    "dp = [[0] * (T + 1) for _ in range(N + 1)]\n",
    "for i, (a, b) in enumerate(sorted(X)):\n",
    "    for j in range(T + 1):\n",
    "        if j == T:\n",
    "            dp[i + 1][j] = max(dp[i][j], dp[i][j - 1] + b)\n",
    "        elif j < a:\n",
    "            dp[i + 1][j] = dp[i][j]\n",
    "        else:\n",
    "            dp[i + 1][j] = max(dp[i][j], dp[i][j - a] + b)\n",
    "            \n",
    "print(dp[-1][-1])"
   ]
  },
  {
   "cell_type": "markdown",
   "metadata": {},
   "source": [
    "#### 省メモリな別解"
   ]
  },
  {
   "cell_type": "code",
   "execution_count": 186,
   "metadata": {},
   "outputs": [
    {
     "name": "stdout",
     "output_type": "stream",
     "text": [
      "145\n"
     ]
    }
   ],
   "source": [
    "dp = [-1] * 6001\n",
    "dp[0] = 0\n",
    "for a, b in sorted(X):\n",
    "    for j in reversed(range(T)):\n",
    "        if dp[j] == -1:\n",
    "            continue\n",
    "\n",
    "        dp[j + a] = max(dp[j + a], dp[j] + b)\n",
    "            \n",
    "print(max(dp))"
   ]
  },
  {
   "cell_type": "code",
   "execution_count": null,
   "metadata": {},
   "outputs": [],
   "source": []
  }
 ],
 "metadata": {
  "kernelspec": {
   "display_name": "Python 3",
   "language": "python",
   "name": "python3"
  },
  "language_info": {
   "codemirror_mode": {
    "name": "ipython",
    "version": 3
   },
   "file_extension": ".py",
   "mimetype": "text/x-python",
   "name": "python",
   "nbconvert_exporter": "python",
   "pygments_lexer": "ipython3",
   "version": "3.7.3"
  }
 },
 "nbformat": 4,
 "nbformat_minor": 4
}
