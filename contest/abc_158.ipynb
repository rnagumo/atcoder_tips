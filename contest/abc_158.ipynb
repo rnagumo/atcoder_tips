{
 "cells": [
  {
   "cell_type": "markdown",
   "metadata": {},
   "source": [
    "# B"
   ]
  },
  {
   "cell_type": "code",
   "execution_count": 17,
   "metadata": {},
   "outputs": [],
   "source": [
    "N, A, B = 6, 2, 4"
   ]
  },
  {
   "cell_type": "code",
   "execution_count": 18,
   "metadata": {},
   "outputs": [
    {
     "data": {
      "text/plain": [
       "0"
      ]
     },
     "execution_count": 18,
     "metadata": {},
     "output_type": "execute_result"
    }
   ],
   "source": [
    " N % (A + B)"
   ]
  },
  {
   "cell_type": "code",
   "execution_count": 19,
   "metadata": {},
   "outputs": [
    {
     "name": "stdout",
     "output_type": "stream",
     "text": [
      "2\n"
     ]
    }
   ],
   "source": [
    "print(A * (N // (A + B)) + min(A, N % (A + B)))"
   ]
  },
  {
   "cell_type": "markdown",
   "metadata": {},
   "source": [
    "# C"
   ]
  },
  {
   "cell_type": "code",
   "execution_count": 21,
   "metadata": {},
   "outputs": [
    {
     "name": "stdout",
     "output_type": "stream",
     "text": [
      "25\n"
     ]
    }
   ],
   "source": [
    "A, B = 2, 2\n",
    "\n",
    "print(25)"
   ]
  },
  {
   "cell_type": "code",
   "execution_count": 68,
   "metadata": {},
   "outputs": [],
   "source": [
    "def floor(x, f):\n",
    "    res = int(x / f)\n",
    "    if int(res * f) < x:\n",
    "        res += 1\n",
    "    return res"
   ]
  },
  {
   "cell_type": "code",
   "execution_count": 71,
   "metadata": {},
   "outputs": [
    {
     "data": {
      "text/plain": [
       "([25, 37], [20, 30])"
      ]
     },
     "execution_count": 71,
     "metadata": {},
     "output_type": "execute_result"
    }
   ],
   "source": [
    "ra = [floor(A, 0.08), int((A + 1) / 0.08)]\n",
    "rb = [floor(B, 0.1), int((B + 1) / 0.1)]\n",
    "\n",
    "ra, rb"
   ]
  },
  {
   "cell_type": "code",
   "execution_count": 75,
   "metadata": {},
   "outputs": [
    {
     "data": {
      "text/plain": [
       "([25, 38], [20, 30])"
      ]
     },
     "execution_count": 75,
     "metadata": {},
     "output_type": "execute_result"
    }
   ],
   "source": [
    "ra = [floor(A, 0.08), floor(A + 1, 0.08)]\n",
    "rb = [floor(B, 0.1), floor(B + 1, 0.1)]\n",
    "\n",
    "ra, rb"
   ]
  },
  {
   "cell_type": "code",
   "execution_count": 76,
   "metadata": {},
   "outputs": [
    {
     "name": "stdout",
     "output_type": "stream",
     "text": [
      "25\n"
     ]
    }
   ],
   "source": [
    "if ra[1] <= rb[0] or rb[1] <= ra[0]:\n",
    "    print(-1)\n",
    "else:\n",
    "    print(max(ra[0], rb[0]))"
   ]
  },
  {
   "cell_type": "markdown",
   "metadata": {},
   "source": [
    "# D"
   ]
  },
  {
   "cell_type": "code",
   "execution_count": 82,
   "metadata": {},
   "outputs": [
    {
     "name": "stdout",
     "output_type": "stream",
     "text": [
      "cpa\n"
     ]
    }
   ],
   "source": [
    "S = \"a\"\n",
    "Q = 4\n",
    "X = ['2 1 p', '1', '2 2 c', '1']\n",
    "\n",
    "print(\"cpa\")"
   ]
  },
  {
   "cell_type": "code",
   "execution_count": 91,
   "metadata": {},
   "outputs": [],
   "source": [
    "from collections import deque"
   ]
  },
  {
   "cell_type": "code",
   "execution_count": 98,
   "metadata": {},
   "outputs": [
    {
     "name": "stdout",
     "output_type": "stream",
     "text": [
      "cpa\n"
     ]
    }
   ],
   "source": [
    "ans = deque(S)\n",
    "r = 0  # r=0: order, r=1: reverse\n",
    "for i in range(Q):\n",
    "    q, *x = X[i].split()\n",
    "    if q == \"1\":\n",
    "        r = abs(r - 1)\n",
    "    else:\n",
    "        f, c = x\n",
    "        if (r == 0 and f == \"1\") or (r == 1 and f == \"2\"):\n",
    "            ans.appendleft(c)\n",
    "        else:\n",
    "            ans.append(c)\n",
    "            \n",
    "print(\"\".join(ans) if r == 0 else \"\".join(ans)[::-1])"
   ]
  },
  {
   "cell_type": "markdown",
   "metadata": {},
   "source": [
    "# E"
   ]
  },
  {
   "cell_type": "code",
   "execution_count": 2,
   "metadata": {},
   "outputs": [
    {
     "name": "stdout",
     "output_type": "stream",
     "text": [
      "6\n"
     ]
    }
   ],
   "source": [
    "N, P = 4, 3\n",
    "S = \"3543\"\n",
    "\n",
    "print(6)"
   ]
  },
  {
   "cell_type": "code",
   "execution_count": 4,
   "metadata": {},
   "outputs": [
    {
     "name": "stdout",
     "output_type": "stream",
     "text": [
      "10\n"
     ]
    }
   ],
   "source": [
    "N, P = 4, 2\n",
    "S = \"2020\"\n",
    "\n",
    "print(10)"
   ]
  },
  {
   "cell_type": "code",
   "execution_count": 6,
   "metadata": {},
   "outputs": [
    {
     "name": "stdout",
     "output_type": "stream",
     "text": [
      "10\n"
     ]
    }
   ],
   "source": [
    "res = 0\n",
    "\n",
    "if P == 2 or P == 5:\n",
    "    # Corner case\n",
    "    for i in range(N):\n",
    "        if int(S[N - i - 1]) % P == 0:\n",
    "            res += N - i\n",
    "else:\n",
    "    val = [0] * P\n",
    "    tenfactor = 1\n",
    "    cur = 0\n",
    "    val[cur] += 1\n",
    "    for i in range(N):\n",
    "        cur = (cur + int(S[N - i - 1]) * tenfactor) % P\n",
    "        tenfactor = (tenfactor * 10) % P\n",
    "        val[cur] += 1\n",
    "        \n",
    "    # Combination\n",
    "    for p in range(P):\n",
    "        res += val[p] * (val[p] - 1) // 2\n",
    "    \n",
    "print(res)"
   ]
  },
  {
   "cell_type": "code",
   "execution_count": null,
   "metadata": {},
   "outputs": [],
   "source": []
  },
  {
   "cell_type": "code",
   "execution_count": null,
   "metadata": {},
   "outputs": [],
   "source": []
  }
 ],
 "metadata": {
  "kernelspec": {
   "display_name": "Python 3",
   "language": "python",
   "name": "python3"
  },
  "language_info": {
   "codemirror_mode": {
    "name": "ipython",
    "version": 3
   },
   "file_extension": ".py",
   "mimetype": "text/x-python",
   "name": "python",
   "nbconvert_exporter": "python",
   "pygments_lexer": "ipython3",
   "version": "3.7.3"
  }
 },
 "nbformat": 4,
 "nbformat_minor": 4
}
