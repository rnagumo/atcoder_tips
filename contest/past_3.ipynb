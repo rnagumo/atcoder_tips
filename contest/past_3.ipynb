{
 "cells": [
  {
   "cell_type": "markdown",
   "metadata": {},
   "source": [
    "# A"
   ]
  },
  {
   "cell_type": "code",
   "execution_count": 1,
   "metadata": {},
   "outputs": [],
   "source": [
    "s = \"AbC\"\n",
    "t = \"ABc\""
   ]
  },
  {
   "cell_type": "code",
   "execution_count": 2,
   "metadata": {},
   "outputs": [
    {
     "name": "stdout",
     "output_type": "stream",
     "text": [
      "case-insensitive\n"
     ]
    }
   ],
   "source": [
    "if s == t:\n",
    "    print(\"same\")\n",
    "elif s.lower() == t.lower():\n",
    "    print(\"case-insensitive\")\n",
    "else:\n",
    "    print(\"different\")"
   ]
  },
  {
   "cell_type": "markdown",
   "metadata": {},
   "source": [
    "# B"
   ]
  },
  {
   "cell_type": "code",
   "execution_count": 8,
   "metadata": {},
   "outputs": [
    {
     "name": "stdout",
     "output_type": "stream",
     "text": [
      "1 0 0 0\n"
     ]
    }
   ],
   "source": [
    "N, M, Q = 2, 1, 6\n",
    "X = [[2, 1, 1], [1, 1], [1, 2], [2, 2, 1], [1, 1], [1, 2]]\n",
    "\n",
    "print(1,0,0,0)"
   ]
  },
  {
   "cell_type": "code",
   "execution_count": 17,
   "metadata": {},
   "outputs": [
    {
     "name": "stdout",
     "output_type": "stream",
     "text": [
      "1\n",
      "0\n",
      "0\n",
      "0\n"
     ]
    }
   ],
   "source": [
    "x = [[] for _ in range(N + 1)]\n",
    "y = [N] * (M + 1)\n",
    "\n",
    "for c, *v in X:\n",
    "    if c == 1:\n",
    "        score = sum(y[i] for i in x[v[0]])\n",
    "        print(score)\n",
    "    else:\n",
    "        n, m = v\n",
    "        y[m] -= 1\n",
    "        x[n].append(m)"
   ]
  },
  {
   "cell_type": "markdown",
   "metadata": {},
   "source": [
    "# C"
   ]
  },
  {
   "cell_type": "code",
   "execution_count": 18,
   "metadata": {},
   "outputs": [
    {
     "name": "stdout",
     "output_type": "stream",
     "text": [
      "54\n"
     ]
    }
   ],
   "source": [
    "A, R, N = 2, 3, 4\n",
    "\n",
    "print(54)"
   ]
  },
  {
   "cell_type": "code",
   "execution_count": 20,
   "metadata": {},
   "outputs": [],
   "source": [
    "def repeat_square(n, p):\n",
    "    if p == 0:\n",
    "        return 1\n",
    "    elif p % 2 == 0:\n",
    "        t = repeat_square(n, p // 2)\n",
    "        if t is None or t * t > 10 ** 9:\n",
    "            return None\n",
    "        return t * t\n",
    "    else:\n",
    "        t = repeat_square(n, p - 1)\n",
    "        if t is None or t * n > 10 ** 9:\n",
    "            return None\n",
    "        return t * n"
   ]
  },
  {
   "cell_type": "code",
   "execution_count": 21,
   "metadata": {},
   "outputs": [
    {
     "name": "stdout",
     "output_type": "stream",
     "text": [
      "54\n"
     ]
    }
   ],
   "source": [
    "v = repeat_square(R, N - 1)\n",
    "if v is None or A * v > 10 ** 9:\n",
    "    print(\"large\")\n",
    "else:\n",
    "    print(A * v)"
   ]
  },
  {
   "cell_type": "markdown",
   "metadata": {},
   "source": [
    "# D"
   ]
  },
  {
   "cell_type": "code",
   "execution_count": 22,
   "metadata": {},
   "outputs": [
    {
     "name": "stdout",
     "output_type": "stream",
     "text": [
      "0123456789\n"
     ]
    }
   ],
   "source": [
    "N = 10\n",
    "X = ['.###..#..###.###.#.#.###.###.###.###.###.',\n",
    "     '.#.#.##....#...#.#.#.#...#.....#.#.#.#.#.',\n",
    "     '.#.#..#..###.###.###.###.###...#.###.###.',\n",
    "     '.#.#..#..#.....#...#...#.#.#...#.#.#...#.',\n",
    "     '.###.###.###.###...#.###.###...#.###.###.']\n",
    "\n",
    "print(\"0123456789\")"
   ]
  },
  {
   "cell_type": "code",
   "execution_count": 32,
   "metadata": {},
   "outputs": [
    {
     "name": "stdout",
     "output_type": "stream",
     "text": [
      "0123456789\n"
     ]
    }
   ],
   "source": [
    "d = {0: [\"###\", \"#.#\", \"#.#\", \"#.#\", \"###\"],\n",
    "     1: [\".#.\", \"##.\", \".#.\", \".#.\", \"###\"],\n",
    "     2: [\"###\", \"..#\", \"###\", \"#..\", \"###\"],\n",
    "     3: [\"###\", \"..#\", \"###\", \"..#\", \"###\"],\n",
    "     4: [\"#.#\", \"#.#\", \"###\", \"..#\", \"..#\"],\n",
    "     5: [\"###\", \"#..\", \"###\", \"..#\", \"###\"],\n",
    "     6: [\"###\", \"#..\", \"###\", \"#.#\", \"###\"],\n",
    "     7: [\"###\", \"..#\", \"..#\", \"..#\", \"..#\"],\n",
    "     8: [\"###\", \"#.#\", \"###\", \"#.#\", \"###\"],\n",
    "     9: [\"###\", \"#.#\", \"###\", \"..#\", \"###\"],}\n",
    "\n",
    "ans = []\n",
    "for j in range(N + 1):\n",
    "    for k in range(10):\n",
    "        flag = True\n",
    "        for i in range(5):\n",
    "            flag &= X[i][4 * j - 3:4 * j] == d[k][i]\n",
    "        if flag:\n",
    "            ans.append(str(k))\n",
    "            break\n",
    "            \n",
    "print(\"\".join(ans))"
   ]
  },
  {
   "cell_type": "markdown",
   "metadata": {},
   "source": [
    "# E"
   ]
  },
  {
   "cell_type": "code",
   "execution_count": 37,
   "metadata": {},
   "outputs": [
    {
     "name": "stdout",
     "output_type": "stream",
     "text": [
      "10 10 20\n"
     ]
    }
   ],
   "source": [
    "N, M, Q = 3, 2, 3\n",
    "X = [[1, 2], [2, 3]]\n",
    "Y = [5, 10, 15]\n",
    "S = [[1, 2], [2, 1, 20], [1, 1]]\n",
    "\n",
    "print(10, 10, 20)"
   ]
  },
  {
   "cell_type": "code",
   "execution_count": 38,
   "metadata": {},
   "outputs": [],
   "source": [
    "graph = [[] for _ in range(N + 1)]\n",
    "for u, v in X:\n",
    "    graph[u].append(v)\n",
    "    graph[v].append(u)"
   ]
  },
  {
   "cell_type": "code",
   "execution_count": 39,
   "metadata": {},
   "outputs": [],
   "source": [
    "color = [0] * (N + 1)\n",
    "for i in range(N):\n",
    "    color[i + 1] = Y[i]"
   ]
  },
  {
   "cell_type": "code",
   "execution_count": 40,
   "metadata": {},
   "outputs": [
    {
     "name": "stdout",
     "output_type": "stream",
     "text": [
      "10\n",
      "10\n",
      "20\n"
     ]
    }
   ],
   "source": [
    "for c, *n in S:\n",
    "    if c == 1:\n",
    "        x = n[0]\n",
    "        print(color[x])\n",
    "        for v in graph[x]:\n",
    "            color[v] = color[x]\n",
    "    else:\n",
    "        x, y = n\n",
    "        print(color[x])\n",
    "        color[x] = y"
   ]
  },
  {
   "cell_type": "markdown",
   "metadata": {},
   "source": [
    "# F"
   ]
  },
  {
   "cell_type": "code",
   "execution_count": 41,
   "metadata": {},
   "outputs": [
    {
     "name": "stdout",
     "output_type": "stream",
     "text": [
      "yy\n"
     ]
    }
   ],
   "source": [
    "N = 2\n",
    "X = ['yc', 'ys']\n",
    "\n",
    "print(\"yy\")"
   ]
  },
  {
   "cell_type": "code",
   "execution_count": 6,
   "metadata": {},
   "outputs": [
    {
     "name": "stdout",
     "output_type": "stream",
     "text": [
      "x\n"
     ]
    }
   ],
   "source": [
    "ans = [\"\"] * N\n",
    "flag = True\n",
    "n = N // 2\n",
    "for i in range(n):\n",
    "    x = set(X[i]) & set(X[N - i - 1])\n",
    "    if x:\n",
    "        v = x.pop()\n",
    "        ans[i] = v\n",
    "        ans[N - i - 1] = v\n",
    "    else:\n",
    "        flag = False\n",
    "        break\n",
    "        \n",
    "if N % 2 != 0:\n",
    "    ans[n] = X[n][0]\n",
    "    \n",
    "if flag:\n",
    "    print(\"\".join(ans))\n",
    "else:\n",
    "    print(-1)"
   ]
  },
  {
   "cell_type": "markdown",
   "metadata": {},
   "source": [
    "# G"
   ]
  },
  {
   "cell_type": "code",
   "execution_count": 7,
   "metadata": {},
   "outputs": [
    {
     "name": "stdout",
     "output_type": "stream",
     "text": [
      "3\n"
     ]
    }
   ],
   "source": [
    "N, X, Y = 1, 2, 2\n",
    "Z = [[1, 1]]\n",
    "\n",
    "print(3)"
   ]
  },
  {
   "cell_type": "code",
   "execution_count": 8,
   "metadata": {},
   "outputs": [],
   "source": [
    "from collections import deque"
   ]
  },
  {
   "cell_type": "code",
   "execution_count": 18,
   "metadata": {},
   "outputs": [
    {
     "name": "stdout",
     "output_type": "stream",
     "text": [
      "3\n"
     ]
    }
   ],
   "source": [
    "offset = [(1, 1), (-1, 1), (0, 1), (1, 0), (-1, 0), (0, -1)]\n",
    "\n",
    "c0 = 205\n",
    "inf = 10 ** 5\n",
    "grid = [[inf] * 410 for _ in range(410)]\n",
    "\n",
    "for u, v in Z:\n",
    "    grid[u + c0][v + c0] = -1\n",
    "\n",
    "grid[c0][c0] = 0\n",
    "q = deque([(c0, c0)])\n",
    "while q:\n",
    "    x, y = q.popleft()\n",
    "    for i, j in offset:\n",
    "        if not (0 <= x + i < 410 and 0 <= y + j < 410):\n",
    "            continue\n",
    "            \n",
    "        if grid[x + i][y + j] == -1:\n",
    "            continue\n",
    "\n",
    "        if grid[x + i][y + j] > grid[x][y] + 1:\n",
    "            grid[x + i][y + j] = grid[x][y] + 1\n",
    "            q.append((x + i, y + j))\n",
    "            \n",
    "ans = grid[X + c0][Y + c0]\n",
    "print(ans if ans != inf else -1)"
   ]
  },
  {
   "cell_type": "markdown",
   "metadata": {},
   "source": [
    "# H"
   ]
  },
  {
   "cell_type": "code",
   "execution_count": 6,
   "metadata": {},
   "outputs": [
    {
     "name": "stdout",
     "output_type": "stream",
     "text": [
      "10\n"
     ]
    }
   ],
   "source": [
    "N, L = 2, 5\n",
    "X = set([1, 4])\n",
    "T1, T2, T3 = 2, 2, 20\n",
    "\n",
    "print(10)"
   ]
  },
  {
   "cell_type": "code",
   "execution_count": 11,
   "metadata": {},
   "outputs": [
    {
     "name": "stdout",
     "output_type": "stream",
     "text": [
      "10\n"
     ]
    }
   ],
   "source": [
    "dp = [10 ** 9 + 7] * (L + 4)\n",
    "dp[0] = 0\n",
    "for i in range(L):\n",
    "    diff = L - i\n",
    "\n",
    "    # Act 1\n",
    "    t3 = T3 if i + 1 in X else 0\n",
    "    dp[i + 1] = min(dp[i + 1], dp[i] + T1 + t3)\n",
    "    \n",
    "    # Act 2\n",
    "    t3 = T3 if i + 2 in X else 0\n",
    "    dp[i + 2] = min(dp[i + 2], dp[i] + T1 + T2 + t3)\n",
    "    if i + 2 > L:\n",
    "        dp[L] = min(dp[L], dp[i] + (T1 + T2) // 2)\n",
    "    \n",
    "    # Act 3\n",
    "    t3 = T3 if i + 4 in X else 0\n",
    "    dp[i + 4] = min(dp[i + 4], dp[i] + T1 + 3 * T2 + t3)\n",
    "    if i + 4 > L:\n",
    "        dp[L] = min(dp[L], dp[i] + T1 // 2 + T2 // 2 + T2 * (diff - 1))\n",
    "    \n",
    "print(dp[L])"
   ]
  },
  {
   "cell_type": "markdown",
   "metadata": {},
   "source": [
    "# I"
   ]
  },
  {
   "cell_type": "code",
   "execution_count": 20,
   "metadata": {},
   "outputs": [
    {
     "name": "stdout",
     "output_type": "stream",
     "text": [
      "0 1 2 3 0 2 1 3 1 3 0 2 3 1 2 0\n"
     ]
    }
   ],
   "source": [
    "N = 2\n",
    "Q = 19\n",
    "X = [[4, 1, 1], [4, 1, 2], [4, 2, 1], [4, 2, 2], [3],\n",
    "     [4, 1, 1], [4, 1, 2], [4, 2, 1], [4, 2, 2], [1, 1, 2],\n",
    "     [4, 1, 1], [4, 1, 2], [4, 2, 1], [4, 2, 2], [2, 2, 1],\n",
    "     [4, 1, 1], [4, 1, 2], [4, 2, 1], [4, 2, 2]]\n",
    "\n",
    "print(\"0 1 2 3 0 2 1 3 1 3 0 2 3 1 2 0\")"
   ]
  },
  {
   "cell_type": "code",
   "execution_count": 68,
   "metadata": {},
   "outputs": [
    {
     "name": "stdout",
     "output_type": "stream",
     "text": [
      "1 6 8\n"
     ]
    }
   ],
   "source": [
    "N = 3\n",
    "Q = 9\n",
    "X = [[2, 2, 3], [3], [1, 2, 1], [2, 3, 2], [1, 1, 3],\n",
    "     [3], [4, 1, 1], [4, 2, 2], [4, 2, 3]]\n",
    "\n",
    "print(\"1 6 8\")"
   ]
  },
  {
   "cell_type": "code",
   "execution_count": 70,
   "metadata": {},
   "outputs": [
    {
     "name": "stdout",
     "output_type": "stream",
     "text": [
      "1\n",
      "6\n",
      "8\n"
     ]
    }
   ],
   "source": [
    "indices = list(range(N + 1))\n",
    "columns = list(range(N + 1))\n",
    "t = True\n",
    "for c, *v in X:\n",
    "    if c == 1:\n",
    "        a, b = v\n",
    "        indices[a], indices[b] = indices[b], indices[a]\n",
    "    elif c == 2:\n",
    "        a, b = v\n",
    "        columns[a], columns[b] = columns[b], columns[a]\n",
    "    elif c == 3:\n",
    "        indices, columns = columns, indices\n",
    "        t = not t\n",
    "    else:\n",
    "        a, b = v\n",
    "        if t:\n",
    "            print(N * (indices[a] - 1) + columns[b] - 1)\n",
    "        else:\n",
    "            print(N * (columns[b] - 1) + indices[a] - 1)"
   ]
  },
  {
   "cell_type": "markdown",
   "metadata": {},
   "source": [
    "# J"
   ]
  },
  {
   "cell_type": "code",
   "execution_count": 12,
   "metadata": {},
   "outputs": [
    {
     "name": "stdout",
     "output_type": "stream",
     "text": [
      "1 2 -1 2 1\n"
     ]
    }
   ],
   "source": [
    "N, M = 2, 5\n",
    "X = [5, 3, 2, 4, 8]\n",
    "\n",
    "print(1, 2, -1, 2, 1)"
   ]
  },
  {
   "cell_type": "code",
   "execution_count": 22,
   "metadata": {},
   "outputs": [],
   "source": [
    "from bisect import bisect_right"
   ]
  },
  {
   "cell_type": "code",
   "execution_count": 30,
   "metadata": {},
   "outputs": [
    {
     "name": "stdout",
     "output_type": "stream",
     "text": [
      "1\n",
      "-1\n",
      "-1\n",
      "-1\n",
      "1\n"
     ]
    }
   ],
   "source": [
    "INF = 10 ** 9 + 7\n",
    "dp = [INF] * (N + 1)\n",
    "dp[0] = 0\n",
    "ans = [0] * M\n",
    "for i in range(M):\n",
    "    idx = bisect_right(dp, -X[i])\n",
    "    if idx >= N:\n",
    "        ans[i] = -1\n",
    "    else:\n",
    "        ans[i] = idx + 1\n",
    "        \n",
    "    if idx < N + 1:\n",
    "        dp[idx] = -X[i]        \n",
    "    \n",
    "print(*ans, sep=\"\\n\")"
   ]
  },
  {
   "cell_type": "markdown",
   "metadata": {},
   "source": [
    "# J"
   ]
  },
  {
   "cell_type": "code",
   "execution_count": 27,
   "metadata": {},
   "outputs": [
    {
     "name": "stdout",
     "output_type": "stream",
     "text": [
      "3 3 1\n"
     ]
    }
   ],
   "source": [
    "N, Q = 3, 4\n",
    "X = [[1, 2, 1], [2, 3, 2], [3, 1, 3], [1, 3, 2]]\n",
    "\n",
    "print(3,3,1)"
   ]
  },
  {
   "cell_type": "code",
   "execution_count": 39,
   "metadata": {},
   "outputs": [],
   "source": [
    "# (parent, child)\n",
    "d = {k: [-k, None] for k in range(1, N + 1)}\n",
    "d.update({-k: [None, k] for k in range(1, N + 1)})\n",
    "\n",
    "# Last node of each table\n",
    "last = list(range(N + 1))"
   ]
  },
  {
   "cell_type": "code",
   "execution_count": 40,
   "metadata": {},
   "outputs": [],
   "source": [
    "for f, t, x in X:\n",
    "    # Current parent \n",
    "    a = d[x][0]\n",
    "    u = last[t]\n",
    "\n",
    "    # Connect\n",
    "    d[u][1] = x\n",
    "    d[x][0] = u\n",
    "\n",
    "    # Disconnect\n",
    "    d[a][1] = None\n",
    "\n",
    "    # Update last node of table\n",
    "    last[f], last[t] = a, last[f]"
   ]
  },
  {
   "cell_type": "code",
   "execution_count": 46,
   "metadata": {},
   "outputs": [
    {
     "name": "stdout",
     "output_type": "stream",
     "text": [
      "3\n",
      "3\n",
      "1\n"
     ]
    }
   ],
   "source": [
    "ans = [0] * (N + 1)\n",
    "for k in range(1, N + 1):\n",
    "    cand = []\n",
    "    # Go to ancestors\n",
    "    u = last[k]\n",
    "    while True:\n",
    "        v = d[u][0]\n",
    "        if v is not None:\n",
    "            cand.append(u)\n",
    "            u = v\n",
    "        else:\n",
    "            break\n",
    "            \n",
    "    for i in cand:\n",
    "        ans[i] = -u\n",
    "\n",
    "print(*ans[1:], sep=\"\\n\")"
   ]
  },
  {
   "cell_type": "markdown",
   "metadata": {},
   "source": [
    "# L"
   ]
  },
  {
   "cell_type": "code",
   "execution_count": 2,
   "metadata": {},
   "outputs": [
    {
     "name": "stdout",
     "output_type": "stream",
     "text": [
      "20 30 40 200 1000\n"
     ]
    }
   ],
   "source": [
    "N = 2\n",
    "K = [3, 5]\n",
    "T = [[1, 200, 1000], [20, 30, 40, 50, 2]]\n",
    "M = 5\n",
    "A = [1, 1, 1, 2, 2]\n",
    "\n",
    "print(20,30,40,200,1000)"
   ]
  },
  {
   "cell_type": "code",
   "execution_count": 15,
   "metadata": {},
   "outputs": [],
   "source": [
    "N = 10\n",
    "K = [6, 1, 5, 5, 6, 2, 10, 5, 8, 2]\n",
    "T = [[8, 24, 47, 29, 73, 13], [4], [72, 15, 68, 49, 16], [65, 20, 93, 64, 91],\n",
    "     [100, 88, 63, 50, 90, 44], [6, 1], [14, 2, 76, 28, 21, 78, 43, 11, 97, 70],\n",
    "     [31, 9, 62, 84, 40], [10, 46, 96, 23, 98, 19, 38, 51], [37, 77]]\n",
    "M = 20\n",
    "A = [1, 1, 1, 1, 2, 2, 2, 1, 1, 2, 2, 2, 2, 2, 1, 2, 1, 2, 2, 1]"
   ]
  },
  {
   "cell_type": "code",
   "execution_count": 16,
   "metadata": {},
   "outputs": [],
   "source": [
    "from collections import deque\n",
    "from heapq import heappop, heappush"
   ]
  },
  {
   "cell_type": "code",
   "execution_count": 31,
   "metadata": {},
   "outputs": [
    {
     "name": "stdout",
     "output_type": "stream",
     "text": [
      "100\n",
      "88\n",
      "72\n",
      "65\n",
      "93\n",
      "77\n",
      "68\n",
      "63\n",
      "50\n",
      "90\n",
      "64\n",
      "91\n",
      "49\n",
      "46\n",
      "44\n",
      "96\n",
      "37\n",
      "31\n",
      "62\n",
      "20\n"
     ]
    }
   ],
   "source": [
    "memo = [deque(v) for v in T]\n",
    "\n",
    "pq1 = []\n",
    "for i in range(N):\n",
    "    heappush(pq1, (-memo[i].popleft(), i))\n",
    "\n",
    "pq2 = []\n",
    "for i in range(N):\n",
    "    if K[i] > 1:\n",
    "        heappush(pq2, (-memo[i][0], i))\n",
    "\n",
    "used = set()\n",
    "for a in A:\n",
    "    # Pop 1st\n",
    "    while True:\n",
    "        u, i = heappop(pq1)\n",
    "        u *= -1\n",
    "        if u not in used:\n",
    "            break\n",
    "\n",
    "    # Pop 2nd\n",
    "    if a == 2 and pq2:\n",
    "        while True and pq2:\n",
    "            v, j = heappop(pq2)\n",
    "            v *= -1\n",
    "            if v not in used:\n",
    "                break\n",
    "    else:\n",
    "        v = -1\n",
    "        j = -1\n",
    "\n",
    "    if u >= v:\n",
    "        print(u)\n",
    "        used.add(u)\n",
    "\n",
    "        # Push back v to pq2\n",
    "        if v > 0:\n",
    "            heappush(pq2, (-v, j))\n",
    "\n",
    "        # Move 2nd from memo to pq1\n",
    "        if memo[i]:\n",
    "            heappush(pq1, (-memo[i].popleft(), i))\n",
    "        \n",
    "        # Move 3rd from memo to pq2\n",
    "        if memo[i]:\n",
    "            heappush(pq2, (-memo[i][0], i))\n",
    "    else:\n",
    "        print(v)\n",
    "        used.add(v)\n",
    "\n",
    "        # Push back u to pq1\n",
    "        heappush(pq1, (-u, i))\n",
    "\n",
    "        # Move 3rd from memo to pq2\n",
    "        if memo[j]:\n",
    "            memo[j].popleft()\n",
    "\n",
    "        if memo[j]:\n",
    "            heappush(pq2, (-memo[j][0], j))"
   ]
  },
  {
   "cell_type": "markdown",
   "metadata": {},
   "source": [
    "# M"
   ]
  },
  {
   "cell_type": "code",
   "execution_count": 1,
   "metadata": {},
   "outputs": [
    {
     "name": "stdout",
     "output_type": "stream",
     "text": [
      "3\n"
     ]
    }
   ],
   "source": [
    "N, M = 3, 2\n",
    "X = [[1, 2], [2, 3]]\n",
    "S = 2\n",
    "K = 2\n",
    "T = [1, 3]\n",
    "\n",
    "print(3)"
   ]
  },
  {
   "cell_type": "code",
   "execution_count": 2,
   "metadata": {},
   "outputs": [],
   "source": [
    "edges = [[] for _ in range(N + 1)]\n",
    "for u, v in X:\n",
    "    edges[u].append(v)\n",
    "    edges[v].append(u)"
   ]
  },
  {
   "cell_type": "code",
   "execution_count": null,
   "metadata": {},
   "outputs": [],
   "source": []
  }
 ],
 "metadata": {
  "kernelspec": {
   "display_name": "Python 3",
   "language": "python",
   "name": "python3"
  },
  "language_info": {
   "codemirror_mode": {
    "name": "ipython",
    "version": 3
   },
   "file_extension": ".py",
   "mimetype": "text/x-python",
   "name": "python",
   "nbconvert_exporter": "python",
   "pygments_lexer": "ipython3",
   "version": "3.7.3"
  }
 },
 "nbformat": 4,
 "nbformat_minor": 4
}
