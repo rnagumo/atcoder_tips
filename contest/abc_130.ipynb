{
 "cells": [
  {
   "cell_type": "markdown",
   "metadata": {},
   "source": [
    "# B"
   ]
  },
  {
   "cell_type": "code",
   "execution_count": 4,
   "metadata": {},
   "outputs": [],
   "source": [
    "X = 6\n",
    "L = [3, 4, 5]"
   ]
  },
  {
   "cell_type": "code",
   "execution_count": 6,
   "metadata": {},
   "outputs": [
    {
     "name": "stdout",
     "output_type": "stream",
     "text": [
      "2\n"
     ]
    }
   ],
   "source": [
    "from itertools import accumulate\n",
    "\n",
    "q = [0] + list(accumulate(L))\n",
    "print(sum(1 for v in q if v <= X))"
   ]
  },
  {
   "cell_type": "markdown",
   "metadata": {},
   "source": [
    "# C"
   ]
  },
  {
   "cell_type": "code",
   "execution_count": 73,
   "metadata": {},
   "outputs": [
    {
     "name": "stdout",
     "output_type": "stream",
     "text": [
      "ans: 3.0 0\n"
     ]
    }
   ],
   "source": [
    "W, H, x, y = 2, 3, 1, 2\n",
    "\n",
    "print('ans: 3.0 0')"
   ]
  },
  {
   "cell_type": "code",
   "execution_count": 75,
   "metadata": {},
   "outputs": [
    {
     "name": "stdout",
     "output_type": "stream",
     "text": [
      "3.0 0\n"
     ]
    }
   ],
   "source": [
    "ans1 = W * H / 2\n",
    "ans2 = int(W / 2 == x and H / 2 == y)\n",
    "print(ans1, ans2)"
   ]
  },
  {
   "cell_type": "markdown",
   "metadata": {},
   "source": [
    "# D"
   ]
  },
  {
   "cell_type": "code",
   "execution_count": 1,
   "metadata": {},
   "outputs": [
    {
     "name": "stdout",
     "output_type": "stream",
     "text": [
      "ans: 2\n"
     ]
    }
   ],
   "source": [
    "N, K = 4, 10\n",
    "a = [6, 1, 2, 7]\n",
    "\n",
    "print('ans: 2')"
   ]
  },
  {
   "cell_type": "code",
   "execution_count": 7,
   "metadata": {},
   "outputs": [
    {
     "name": "stdout",
     "output_type": "stream",
     "text": [
      "ans: 3\n"
     ]
    }
   ],
   "source": [
    "N, K = 3, 5\n",
    "a = [3, 3, 3]\n",
    "\n",
    "print('ans: 3')"
   ]
  },
  {
   "cell_type": "code",
   "execution_count": 12,
   "metadata": {},
   "outputs": [
    {
     "name": "stdout",
     "output_type": "stream",
     "text": [
      "6 2\n",
      "1\n",
      "6 3\n",
      "0\n",
      "3 3\n",
      "3\n"
     ]
    }
   ],
   "source": [
    "l = 0\n",
    "r = 0\n",
    "cnt = 0\n",
    "ans = 0\n",
    "while l < N:\n",
    "    while cnt < K and r < N:\n",
    "        cnt += a[r]\n",
    "        r += 1\n",
    "\n",
    "    if cnt >= K:\n",
    "        ans += N - r + 1\n",
    "    cnt -= a[l]\n",
    "    l += 1\n",
    "    \n",
    "print(ans)"
   ]
  },
  {
   "cell_type": "markdown",
   "metadata": {},
   "source": [
    "# E"
   ]
  },
  {
   "cell_type": "code",
   "execution_count": 27,
   "metadata": {},
   "outputs": [
    {
     "name": "stdout",
     "output_type": "stream",
     "text": [
      "ans: 3\n"
     ]
    }
   ],
   "source": [
    "N, M = 2, 2\n",
    "S = [1, 3]\n",
    "T = [3, 1]\n",
    "\n",
    "print('ans: 3')"
   ]
  },
  {
   "cell_type": "code",
   "execution_count": 24,
   "metadata": {},
   "outputs": [
    {
     "name": "stdout",
     "output_type": "stream",
     "text": [
      "ans: 5?\n"
     ]
    }
   ],
   "source": [
    "N, M = 3, 2\n",
    "S = [1, 3, 1]\n",
    "T = [3, 1]\n",
    "\n",
    "print('ans: 5?')"
   ]
  },
  {
   "cell_type": "code",
   "execution_count": 81,
   "metadata": {},
   "outputs": [
    {
     "name": "stdout",
     "output_type": "stream",
     "text": [
      "ans: 16\n"
     ]
    }
   ],
   "source": [
    "N, M = 4, 4\n",
    "S = [3, 4, 5, 6]\n",
    "T = [3, 4, 5, 6]\n",
    "\n",
    "print('ans: 16')"
   ]
  },
  {
   "cell_type": "code",
   "execution_count": 82,
   "metadata": {},
   "outputs": [
    {
     "name": "stdout",
     "output_type": "stream",
     "text": [
      "16\n"
     ]
    }
   ],
   "source": [
    "dp = [[0] * (M + 1) for _ in range(N + 1)]\n",
    "MOD = 10 ** 9 + 7\n",
    "\n",
    "for i in range(N + 1):\n",
    "    dp[i][0] = 1\n",
    "\n",
    "for j in range(M + 1):\n",
    "    dp[0][j] = 1\n",
    "\n",
    "for i in range(N):\n",
    "    for j in range(M):\n",
    "        if S[i] == T[j]:\n",
    "            dp[i + 1][j + 1] = dp[i][j + 1] + dp[i + 1][j]\n",
    "        else:\n",
    "            dp[i + 1][j + 1] = dp[i][j + 1] + dp[i + 1][j] - dp[i][j]\n",
    "        dp[i + 1][j + 1] %= MOD\n",
    "            \n",
    "print(dp[-1][-1])"
   ]
  },
  {
   "cell_type": "code",
   "execution_count": 83,
   "metadata": {},
   "outputs": [
    {
     "data": {
      "text/plain": [
       "[[1, 1, 1, 1, 1],\n",
       " [1, 2, 2, 2, 2],\n",
       " [1, 2, 4, 4, 4],\n",
       " [1, 2, 4, 8, 8],\n",
       " [1, 2, 4, 8, 16]]"
      ]
     },
     "execution_count": 83,
     "metadata": {},
     "output_type": "execute_result"
    }
   ],
   "source": [
    "dp"
   ]
  },
  {
   "cell_type": "code",
   "execution_count": 84,
   "metadata": {},
   "outputs": [
    {
     "name": "stdout",
     "output_type": "stream",
     "text": [
      "ans: 5?\n"
     ]
    }
   ],
   "source": [
    "N, M = 3, 2\n",
    "S = [1, 3, 1]\n",
    "T = [3, 1]\n",
    "\n",
    "print('ans: 5?')"
   ]
  },
  {
   "cell_type": "code",
   "execution_count": 85,
   "metadata": {},
   "outputs": [
    {
     "name": "stdout",
     "output_type": "stream",
     "text": [
      "5\n"
     ]
    }
   ],
   "source": [
    "dp = [[0] * (M + 1) for _ in range(N + 1)]\n",
    "MOD = 10 ** 9 + 7\n",
    "\n",
    "for i in range(N + 1):\n",
    "    dp[i][0] = 1\n",
    "\n",
    "for j in range(M + 1):\n",
    "    dp[0][j] = 1\n",
    "\n",
    "for i in range(N):\n",
    "    for j in range(M):\n",
    "        if S[i] == T[j]:\n",
    "            dp[i + 1][j + 1] = dp[i][j + 1] + dp[i + 1][j]\n",
    "        else:\n",
    "            dp[i + 1][j + 1] = dp[i][j + 1] + dp[i + 1][j] - dp[i][j]\n",
    "        dp[i + 1][j + 1] %= MOD\n",
    "            \n",
    "print(dp[-1][-1])"
   ]
  },
  {
   "cell_type": "code",
   "execution_count": 86,
   "metadata": {},
   "outputs": [
    {
     "data": {
      "text/plain": [
       "[[1, 1, 1], [1, 1, 2], [1, 2, 3], [1, 2, 5]]"
      ]
     },
     "execution_count": 86,
     "metadata": {},
     "output_type": "execute_result"
    }
   ],
   "source": [
    "dp"
   ]
  },
  {
   "cell_type": "code",
   "execution_count": null,
   "metadata": {},
   "outputs": [],
   "source": []
  },
  {
   "cell_type": "code",
   "execution_count": null,
   "metadata": {},
   "outputs": [],
   "source": []
  }
 ],
 "metadata": {
  "kernelspec": {
   "display_name": "Python 3",
   "language": "python",
   "name": "python3"
  },
  "language_info": {
   "codemirror_mode": {
    "name": "ipython",
    "version": 3
   },
   "file_extension": ".py",
   "mimetype": "text/x-python",
   "name": "python",
   "nbconvert_exporter": "python",
   "pygments_lexer": "ipython3",
   "version": "3.7.3"
  }
 },
 "nbformat": 4,
 "nbformat_minor": 2
}
