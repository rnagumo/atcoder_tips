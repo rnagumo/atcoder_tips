{
 "cells": [
  {
   "cell_type": "markdown",
   "metadata": {},
   "source": [
    "# B"
   ]
  },
  {
   "cell_type": "code",
   "execution_count": 57,
   "metadata": {},
   "outputs": [],
   "source": [
    "N = 3\n",
    "W = [1, 2, 3]"
   ]
  },
  {
   "cell_type": "code",
   "execution_count": 67,
   "metadata": {},
   "outputs": [],
   "source": [
    "N = 4\n",
    "W = [1, 3, 1, 1]"
   ]
  },
  {
   "cell_type": "code",
   "execution_count": 68,
   "metadata": {},
   "outputs": [
    {
     "name": "stdout",
     "output_type": "stream",
     "text": [
      "[1] [3, 1, 1]\n",
      "[1, 3] [1, 1]\n",
      "[1, 3, 1] [1]\n"
     ]
    },
    {
     "data": {
      "text/plain": [
       "2"
      ]
     },
     "execution_count": 68,
     "metadata": {},
     "output_type": "execute_result"
    }
   ],
   "source": [
    "ans = 10 ** 6\n",
    "for i in range(1, N):\n",
    "    print(W[:i], W[i:])\n",
    "    ans = min(ans, abs(sum(W[:i]) - sum(W[i:])))\n",
    "    \n",
    "ans"
   ]
  },
  {
   "cell_type": "markdown",
   "metadata": {},
   "source": [
    "# C"
   ]
  },
  {
   "cell_type": "code",
   "execution_count": 137,
   "metadata": {},
   "outputs": [
    {
     "name": "stdout",
     "output_type": "stream",
     "text": [
      "ans: 4\n"
     ]
    }
   ],
   "source": [
    "N, M = 6, 1\n",
    "A = [3]\n",
    "\n",
    "print('ans: 4')"
   ]
  },
  {
   "cell_type": "code",
   "execution_count": 88,
   "metadata": {},
   "outputs": [
    {
     "name": "stdout",
     "output_type": "stream",
     "text": [
      "ans: 0\n"
     ]
    }
   ],
   "source": [
    "N, M = 10, 2\n",
    "A = [4, 5]\n",
    "\n",
    "print('ans: 0')"
   ]
  },
  {
   "cell_type": "code",
   "execution_count": 107,
   "metadata": {},
   "outputs": [
    {
     "name": "stdout",
     "output_type": "stream",
     "text": [
      "ans: 608200469\n"
     ]
    }
   ],
   "source": [
    "N, M = 100, 5\n",
    "A = [1, 23, 45, 67, 89]\n",
    "\n",
    "print('ans: 608200469')"
   ]
  },
  {
   "cell_type": "markdown",
   "metadata": {},
   "source": [
    "#### これはTLE"
   ]
  },
  {
   "cell_type": "code",
   "execution_count": 105,
   "metadata": {},
   "outputs": [
    {
     "name": "stdout",
     "output_type": "stream",
     "text": [
      "4\n"
     ]
    }
   ],
   "source": [
    "dp = [0] * (N + 1)\n",
    "dp[0] = 1\n",
    "\n",
    "for i in range(-1, N - 1):\n",
    "    if i + 2 in A:\n",
    "        dp[i + 2] = 0\n",
    "    elif i + 2 == 1:\n",
    "        dp[i + 2] = dp[i + 1]\n",
    "    else:\n",
    "        dp[i + 2] = (dp[i + 1] + dp[i]) % (10 ** 9 + 7)\n",
    "        \n",
    "print(dp[-1])"
   ]
  },
  {
   "cell_type": "markdown",
   "metadata": {},
   "source": [
    "#### より速い方法"
   ]
  },
  {
   "cell_type": "code",
   "execution_count": 225,
   "metadata": {},
   "outputs": [
    {
     "name": "stdout",
     "output_type": "stream",
     "text": [
      "[-1, 1, 2, 3, 4, 5, 7]\n",
      "[0, -1, -1, -1, -1, 0]\n",
      "[1, 1]\n",
      "0\n"
     ]
    }
   ],
   "source": [
    "B = [-1] + A + [N + 1]\n",
    "print(B)\n",
    "B = [B[i + 1] - B[i] - 2 for i in range(M + 1)]\n",
    "print(B)\n",
    "\n",
    "total = max(B)\n",
    "dp = [1, 1] + [0] * (total - 1)\n",
    "for i in range(total - 1):\n",
    "    dp[i + 2] = (dp[i + 1] + dp[i]) #% (10 ** 9 + 7)\n",
    "\n",
    "print(dp)\n",
    "        \n",
    "ans = 1\n",
    "for i in range(M + 1):\n",
    "    ans *= dp[B[i]]\n",
    "    ans %= 10 ** 9 + 7\n",
    "print(ans if -1 not in B[1:] else 0)"
   ]
  },
  {
   "cell_type": "code",
   "execution_count": 183,
   "metadata": {},
   "outputs": [
    {
     "data": {
      "text/plain": [
       "([1, 1, 2], [2, 2])"
      ]
     },
     "execution_count": 183,
     "metadata": {},
     "output_type": "execute_result"
    }
   ],
   "source": [
    "dp, B"
   ]
  },
  {
   "cell_type": "markdown",
   "metadata": {},
   "source": [
    "# D"
   ]
  },
  {
   "cell_type": "code",
   "execution_count": 226,
   "metadata": {},
   "outputs": [],
   "source": [
    "H, W = 4, 6\n",
    "grid = \"\"\"#..#..\n",
    ".....#\n",
    "....#.\n",
    "#.#...\"\"\"\n",
    "grid = grid.split('\\n')"
   ]
  },
  {
   "cell_type": "markdown",
   "metadata": {},
   "source": [
    "#### PyPyならばいける"
   ]
  },
  {
   "cell_type": "code",
   "execution_count": 236,
   "metadata": {},
   "outputs": [
    {
     "data": {
      "text/plain": [
       "[[0, 2, 2, 0, 2, 2],\n",
       " [5, 5, 5, 5, 5, 0],\n",
       " [4, 4, 4, 4, 0, 1],\n",
       " [0, 1, 0, 3, 3, 3]]"
      ]
     },
     "execution_count": 236,
     "metadata": {},
     "output_type": "execute_result"
    }
   ],
   "source": [
    "graph_1 = [[0] * W for _ in range(H)]\n",
    "for i in range(H):\n",
    "    for j in range(W):\n",
    "        if grid[i][j] == '.':\n",
    "            if j != 0 and grid[i][j - 1] == '.':\n",
    "                graph_1[i][j] = graph_1[i][j - 1] + 1\n",
    "            else:\n",
    "                graph_1[i][j] = 1\n",
    "\n",
    "\n",
    "for i in range(H):\n",
    "    for j in reversed(range(W - 1)):\n",
    "        if grid[i][j + 1] == '.' and grid[i][j] == '.':\n",
    "            graph_1[i][j] = graph_1[i][j + 1]\n",
    "                \n",
    "graph_1"
   ]
  },
  {
   "cell_type": "code",
   "execution_count": 240,
   "metadata": {},
   "outputs": [
    {
     "data": {
      "text/plain": [
       "[[0, 4, 3, 0, 2, 1],\n",
       " [2, 4, 3, 3, 2, 0],\n",
       " [2, 4, 3, 3, 0, 2],\n",
       " [0, 4, 0, 3, 1, 2]]"
      ]
     },
     "execution_count": 240,
     "metadata": {},
     "output_type": "execute_result"
    }
   ],
   "source": [
    "graph_2 = [[0] * W for _ in range(H)]\n",
    "for j in range(W):\n",
    "    for i in range(H):\n",
    "        if grid[i][j] == '.':\n",
    "            if i != 0 and grid[i - 1][j] == '.':\n",
    "                graph_2[i][j] = graph_2[i - 1][j] + 1\n",
    "            else:\n",
    "                graph_2[i][j] = 1\n",
    "\n",
    "for j in range(W):\n",
    "    for i in reversed(range(H - 1)):\n",
    "        if grid[i + 1][j] == '.' and grid[i][j] == '.':\n",
    "            graph_2[i][j] = graph_2[i + 1][j]\n",
    "                \n",
    "graph_2"
   ]
  },
  {
   "cell_type": "code",
   "execution_count": 243,
   "metadata": {},
   "outputs": [
    {
     "name": "stdout",
     "output_type": "stream",
     "text": [
      "8\n"
     ]
    }
   ],
   "source": [
    "ans = 0\n",
    "for i in range(H):\n",
    "    for j in range(W):\n",
    "        ans = max(ans, graph_1[i][j] + graph_2[i][j] - 1)\n",
    "        \n",
    "print(ans)"
   ]
  },
  {
   "cell_type": "markdown",
   "metadata": {},
   "source": [
    "# E"
   ]
  },
  {
   "cell_type": "code",
   "execution_count": null,
   "metadata": {},
   "outputs": [],
   "source": []
  },
  {
   "cell_type": "code",
   "execution_count": null,
   "metadata": {},
   "outputs": [],
   "source": []
  },
  {
   "cell_type": "code",
   "execution_count": null,
   "metadata": {},
   "outputs": [],
   "source": []
  },
  {
   "cell_type": "code",
   "execution_count": null,
   "metadata": {},
   "outputs": [],
   "source": []
  }
 ],
 "metadata": {
  "kernelspec": {
   "display_name": "Python 3",
   "language": "python",
   "name": "python3"
  },
  "language_info": {
   "codemirror_mode": {
    "name": "ipython",
    "version": 3
   },
   "file_extension": ".py",
   "mimetype": "text/x-python",
   "name": "python",
   "nbconvert_exporter": "python",
   "pygments_lexer": "ipython3",
   "version": "3.7.3"
  }
 },
 "nbformat": 4,
 "nbformat_minor": 2
}
