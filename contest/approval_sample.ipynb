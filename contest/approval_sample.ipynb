{
 "cells": [
  {
   "cell_type": "markdown",
   "metadata": {},
   "source": [
    "# E"
   ]
  },
  {
   "cell_type": "code",
   "execution_count": 1,
   "metadata": {},
   "outputs": [],
   "source": [
    "N, M = 2, 3\n",
    "X = [[1, 32], [2, 63], [1, 12]]"
   ]
  },
  {
   "cell_type": "code",
   "execution_count": 4,
   "metadata": {},
   "outputs": [
    {
     "name": "stdout",
     "output_type": "stream",
     "text": [
      "000001000002\n",
      "000002000001\n",
      "000001000001\n"
     ]
    }
   ],
   "source": [
    "ans = {}\n",
    "cur_p = 0\n",
    "cur_x = 0\n",
    "for i, (p, y) in sorted(enumerate(X), key=lambda x: (x[1][0], x[1][1])):\n",
    "    if cur_p != p:\n",
    "        cur_p = p\n",
    "        cur_x = 0\n",
    "    cur_x += 1\n",
    "    ans[i] = \"{:0>6}{:0>6}\".format(cur_p, cur_x)\n",
    "    \n",
    "for i in range(M):\n",
    "    print(ans[i])"
   ]
  },
  {
   "cell_type": "code",
   "execution_count": 3,
   "metadata": {},
   "outputs": [
    {
     "data": {
      "text/plain": [
       "{2: '000001000001', 0: '000001000002', 1: '000002000001'}"
      ]
     },
     "execution_count": 3,
     "metadata": {},
     "output_type": "execute_result"
    }
   ],
   "source": [
    "ans"
   ]
  },
  {
   "cell_type": "markdown",
   "metadata": {},
   "source": [
    "# F"
   ]
  },
  {
   "cell_type": "code",
   "execution_count": 5,
   "metadata": {},
   "outputs": [
    {
     "name": "stdout",
     "output_type": "stream",
     "text": [
      "1\n"
     ]
    }
   ],
   "source": [
    "N = 3\n",
    "S = [\"acornistnt\", \"peanutbomb\", \"constraint\"]\n",
    "\n",
    "print(1)"
   ]
  },
  {
   "cell_type": "code",
   "execution_count": 18,
   "metadata": {},
   "outputs": [
    {
     "name": "stdout",
     "output_type": "stream",
     "text": [
      "1\n"
     ]
    }
   ],
   "source": [
    "from collections import defaultdict\n",
    "\n",
    "ctr = defaultdict(int)\n",
    "for s in S:\n",
    "    ctr[\"\".join(sorted(s))] += 1\n",
    "    \n",
    "print(sum(v * (v - 1) // 2 for v in ctr.values()))"
   ]
  },
  {
   "cell_type": "markdown",
   "metadata": {},
   "source": [
    "# G"
   ]
  },
  {
   "cell_type": "code",
   "execution_count": 43,
   "metadata": {},
   "outputs": [
    {
     "name": "stdout",
     "output_type": "stream",
     "text": [
      "2\n"
     ]
    }
   ],
   "source": [
    "N, K = 4, 10\n",
    "A = [6, 1, 2, 7]\n",
    "\n",
    "print(2)"
   ]
  },
  {
   "cell_type": "code",
   "execution_count": 46,
   "metadata": {},
   "outputs": [
    {
     "name": "stdout",
     "output_type": "stream",
     "text": [
      "2\n"
     ]
    }
   ],
   "source": [
    "ub = 0\n",
    "cnt = 0\n",
    "ans = 0\n",
    "for lb in range(N):\n",
    "    while ub < N and cnt < K:\n",
    "        cnt += A[ub]\n",
    "        ub += 1\n",
    "\n",
    "    if cnt >= K:\n",
    "        ans += N - ub + 1\n",
    "    cnt -= A[lb]\n",
    "    \n",
    "print(ans)"
   ]
  },
  {
   "cell_type": "markdown",
   "metadata": {},
   "source": [
    "# H"
   ]
  },
  {
   "cell_type": "code",
   "execution_count": 54,
   "metadata": {},
   "outputs": [
    {
     "name": "stdout",
     "output_type": "stream",
     "text": [
      "9\n"
     ]
    }
   ],
   "source": [
    "N, M = 3, 3\n",
    "A = [2, 13, 8]\n",
    "\n",
    "print(9)"
   ]
  },
  {
   "cell_type": "code",
   "execution_count": 63,
   "metadata": {},
   "outputs": [
    {
     "name": "stdout",
     "output_type": "stream",
     "text": [
      "9\n"
     ]
    }
   ],
   "source": [
    "from heapq import heappop, heappush\n",
    "\n",
    "pq = []\n",
    "for a in A:\n",
    "    heappush(pq, -a)\n",
    "    \n",
    "for _ in range(M):\n",
    "    v = heappop(pq)\n",
    "    heappush(pq, -(-v // 2))\n",
    "    \n",
    "print(-sum(pq))"
   ]
  },
  {
   "cell_type": "markdown",
   "metadata": {},
   "source": [
    "# I"
   ]
  },
  {
   "cell_type": "code",
   "execution_count": 64,
   "metadata": {},
   "outputs": [
    {
     "name": "stdout",
     "output_type": "stream",
     "text": [
      "8\n"
     ]
    }
   ],
   "source": [
    "H, W = 4, 6\n",
    "S = [\"#..#..\", \".....#\", \"....#.\", \"#.#...\"]\n",
    "\n",
    "print(8)"
   ]
  },
  {
   "cell_type": "code",
   "execution_count": 71,
   "metadata": {},
   "outputs": [],
   "source": [
    "hor = [[0] * W for _ in range(H)]\n",
    "for i in range(H):\n",
    "    # Accumulate from left to right\n",
    "    for j in range(W):\n",
    "        if S[i][j] == \"#\":\n",
    "            continue\n",
    "            \n",
    "        if j == 0:\n",
    "            hor[i][j] = 1\n",
    "        else:\n",
    "            hor[i][j] = hor[i][j - 1] + 1\n",
    "            \n",
    "    # Propagate from right to left\n",
    "    cur = hor[i][-1]\n",
    "    for j in reversed(range(W)):\n",
    "        if cur != 0 and hor[i][j] != 0:\n",
    "            hor[i][j] = cur\n",
    "        else:\n",
    "            cur = hor[i][j]"
   ]
  },
  {
   "cell_type": "code",
   "execution_count": 75,
   "metadata": {},
   "outputs": [],
   "source": [
    "ver = [[0] * W for _ in range(H)]\n",
    "for j in range(W):\n",
    "    # Accumulate from top to down\n",
    "    for i in range(H):\n",
    "        if S[i][j] == \"#\":\n",
    "            continue\n",
    "            \n",
    "        if i == 0:\n",
    "            ver[i][j] = 1\n",
    "        else:\n",
    "            ver[i][j] = ver[i - 1][j] + 1\n",
    "            \n",
    "    # Propagate from down to top\n",
    "    cur = ver[-1][j]\n",
    "    for i in reversed(range(H)):\n",
    "        if cur != 0 and ver[i][j] != 0:\n",
    "            ver[i][j] = cur\n",
    "        else:\n",
    "            cur = ver[i][j]"
   ]
  },
  {
   "cell_type": "code",
   "execution_count": 76,
   "metadata": {},
   "outputs": [
    {
     "data": {
      "text/plain": [
       "[[0, 4, 3, 0, 2, 1],\n",
       " [2, 4, 3, 3, 2, 0],\n",
       " [2, 4, 3, 3, 0, 2],\n",
       " [0, 4, 0, 3, 1, 2]]"
      ]
     },
     "execution_count": 76,
     "metadata": {},
     "output_type": "execute_result"
    }
   ],
   "source": [
    "ver"
   ]
  },
  {
   "cell_type": "code",
   "execution_count": 77,
   "metadata": {},
   "outputs": [
    {
     "name": "stdout",
     "output_type": "stream",
     "text": [
      "8\n"
     ]
    }
   ],
   "source": [
    "print(max(max(hor[i][j] + ver[i][j] - 1 for j in range(W)) for i in range(H)))"
   ]
  },
  {
   "cell_type": "markdown",
   "metadata": {},
   "source": [
    "# J\n",
    "\n",
    "https://atcoder.jp/contests/abc142/tasks/abc142_e"
   ]
  },
  {
   "cell_type": "code",
   "execution_count": 57,
   "metadata": {},
   "outputs": [
    {
     "name": "stdout",
     "output_type": "stream",
     "text": [
      "25\n"
     ]
    }
   ],
   "source": [
    "N, M = 2, 3\n",
    "AB = [[10, 1], [15, 1], [30, 2]]\n",
    "C = [[1], [2], [1, 2]]\n",
    "\n",
    "print(25)"
   ]
  },
  {
   "cell_type": "code",
   "execution_count": 59,
   "metadata": {},
   "outputs": [
    {
     "name": "stdout",
     "output_type": "stream",
     "text": [
      "30\n"
     ]
    }
   ],
   "source": [
    "N, M = 2, 3\n",
    "AB = [[10, 1], [25, 1], [30, 2]]\n",
    "C = [[1], [2], [1, 2]]\n",
    "\n",
    "print(30)"
   ]
  },
  {
   "cell_type": "markdown",
   "metadata": {},
   "source": [
    "#### 解答"
   ]
  },
  {
   "cell_type": "code",
   "execution_count": 62,
   "metadata": {},
   "outputs": [
    {
     "name": "stdout",
     "output_type": "stream",
     "text": [
      "-- 0 2\n",
      "-- 1 1\n",
      "-- 2 3\n",
      "30\n"
     ]
    }
   ],
   "source": [
    "INF = 10 ** 9 + 7\n",
    "dp = [INF] * (2 ** N)\n",
    "dp[0] = 0\n",
    "\n",
    "for i, ((a, b), c) in enumerate(zip(AB, C)):\n",
    "    num = int(\"\".join([\"01\"[int(i + 1 in c)] for i in range(N)]), 2)\n",
    "    for j in range(2 ** N):\n",
    "        dp[j | num] = min(dp[j | num], dp[j] + a)\n",
    "\n",
    "print(dp[-1] if dp[-1] < INF else -1)"
   ]
  },
  {
   "cell_type": "markdown",
   "metadata": {},
   "source": [
    "# K\n",
    "\n",
    "https://atcoder.jp/contests/abc138/tasks/abc138_e"
   ]
  },
  {
   "cell_type": "code",
   "execution_count": 145,
   "metadata": {},
   "outputs": [
    {
     "name": "stdout",
     "output_type": "stream",
     "text": [
      "10\n"
     ]
    }
   ],
   "source": [
    "s = \"contest\"\n",
    "t = \"son\"\n",
    "\n",
    "print(10)"
   ]
  },
  {
   "cell_type": "code",
   "execution_count": 136,
   "metadata": {},
   "outputs": [
    {
     "name": "stdout",
     "output_type": "stream",
     "text": [
      "-1\n"
     ]
    }
   ],
   "source": [
    "s = \"contest\"\n",
    "t = \"programming\"\n",
    "\n",
    "print(-1)"
   ]
  },
  {
   "cell_type": "code",
   "execution_count": 140,
   "metadata": {},
   "outputs": [
    {
     "data": {
      "text/plain": [
       "True"
      ]
     },
     "execution_count": 140,
     "metadata": {},
     "output_type": "execute_result"
    }
   ],
   "source": [
    "set(s) >= set(t)"
   ]
  },
  {
   "cell_type": "code",
   "execution_count": 124,
   "metadata": {},
   "outputs": [
    {
     "data": {
      "text/plain": [
       "[5, 1, 2]"
      ]
     },
     "execution_count": 124,
     "metadata": {},
     "output_type": "execute_result"
    }
   ],
   "source": [
    "d = [s.find(x) for x in t]\n",
    "\n",
    "d"
   ]
  },
  {
   "cell_type": "code",
   "execution_count": 127,
   "metadata": {},
   "outputs": [
    {
     "name": "stdout",
     "output_type": "stream",
     "text": [
      "10\n"
     ]
    }
   ],
   "source": [
    "cnt = 0\n",
    "tmp = -1\n",
    "for x in d:\n",
    "    if tmp >= x:\n",
    "        cnt += 1\n",
    "    tmp = x\n",
    "    \n",
    "print(len(s) * cnt + tmp + 1)"
   ]
  },
  {
   "cell_type": "markdown",
   "metadata": {},
   "source": [
    "#### 模範解答"
   ]
  },
  {
   "cell_type": "code",
   "execution_count": 1,
   "metadata": {},
   "outputs": [
    {
     "name": "stdout",
     "output_type": "stream",
     "text": [
      "10\n"
     ]
    }
   ],
   "source": [
    "s = \"contest\"\n",
    "t = \"son\"\n",
    "\n",
    "print(10)"
   ]
  },
  {
   "cell_type": "code",
   "execution_count": 2,
   "metadata": {},
   "outputs": [],
   "source": [
    "from collections import defaultdict\n",
    "\n",
    "d = defaultdict(list)\n",
    "for i, x in enumerate(s * 2):\n",
    "    d[x].append(i)"
   ]
  },
  {
   "cell_type": "code",
   "execution_count": 3,
   "metadata": {},
   "outputs": [
    {
     "data": {
      "text/plain": [
       "defaultdict(list,\n",
       "            {'c': [0, 7],\n",
       "             'o': [1, 8],\n",
       "             'n': [2, 9],\n",
       "             't': [3, 6, 10, 13],\n",
       "             'e': [4, 11],\n",
       "             's': [5, 12]})"
      ]
     },
     "execution_count": 3,
     "metadata": {},
     "output_type": "execute_result"
    }
   ],
   "source": [
    "d"
   ]
  },
  {
   "cell_type": "code",
   "execution_count": 6,
   "metadata": {},
   "outputs": [
    {
     "name": "stdout",
     "output_type": "stream",
     "text": [
      "10\n"
     ]
    }
   ],
   "source": [
    "from bisect import bisect_left\n",
    "\n",
    "ans = 0\n",
    "cur = 0\n",
    "N = len(s)\n",
    "for x in t:\n",
    "    cur_new = d[x][bisect_left(d[x], cur)]\n",
    "    ans += cur_new - cur + 1\n",
    "    cur = (cur_new + 1) % N\n",
    "    \n",
    "print(ans)"
   ]
  },
  {
   "cell_type": "code",
   "execution_count": null,
   "metadata": {},
   "outputs": [],
   "source": []
  },
  {
   "cell_type": "code",
   "execution_count": null,
   "metadata": {},
   "outputs": [],
   "source": []
  }
 ],
 "metadata": {
  "kernelspec": {
   "display_name": "Python 3",
   "language": "python",
   "name": "python3"
  },
  "language_info": {
   "codemirror_mode": {
    "name": "ipython",
    "version": 3
   },
   "file_extension": ".py",
   "mimetype": "text/x-python",
   "name": "python",
   "nbconvert_exporter": "python",
   "pygments_lexer": "ipython3",
   "version": "3.7.3"
  }
 },
 "nbformat": 4,
 "nbformat_minor": 4
}
