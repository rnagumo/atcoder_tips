{
 "cells": [
  {
   "cell_type": "markdown",
   "metadata": {},
   "source": [
    "# A"
   ]
  },
  {
   "cell_type": "code",
   "execution_count": 1,
   "metadata": {},
   "outputs": [
    {
     "name": "stdout",
     "output_type": "stream",
     "text": [
      "('A', 2)\n",
      "('S', 2)\n"
     ]
    }
   ],
   "source": [
    "from collections import Counter\n",
    "\n",
    "s = 'ASSA'\n",
    "\n",
    "ctr = Counter(s)\n",
    "if all(v == 2 for k, v in ctr.most_common()):\n",
    "    print('Yes')\n",
    "else:\n",
    "    print('No')"
   ]
  },
  {
   "cell_type": "markdown",
   "metadata": {},
   "source": [
    "# B"
   ]
  },
  {
   "cell_type": "code",
   "execution_count": 2,
   "metadata": {},
   "outputs": [
    {
     "name": "stdout",
     "output_type": "stream",
     "text": [
      "ans: 2\n"
     ]
    }
   ],
   "source": [
    "n = 5\n",
    "p = [1, 3, 5, 4, 2]\n",
    "\n",
    "print('ans: 2')"
   ]
  },
  {
   "cell_type": "code",
   "execution_count": 5,
   "metadata": {},
   "outputs": [
    {
     "name": "stdout",
     "output_type": "stream",
     "text": [
      "1\n",
      "2\n",
      "3\n",
      "2\n"
     ]
    }
   ],
   "source": [
    "cnt = 0\n",
    "for i in range(1, n - 1):\n",
    "    cnt += int(p[i - 1] < p[i] < p[i + 1] or p[i - 1] > p[i] > p[i + 1])\n",
    "print(cnt)"
   ]
  },
  {
   "cell_type": "markdown",
   "metadata": {},
   "source": [
    "# C"
   ]
  },
  {
   "cell_type": "code",
   "execution_count": 6,
   "metadata": {},
   "outputs": [
    {
     "name": "stdout",
     "output_type": "stream",
     "text": [
      "ans: 2\n"
     ]
    }
   ],
   "source": [
    "N = 6\n",
    "d = [9, 1, 4, 4, 6, 7]\n",
    "\n",
    "print('ans: 2')"
   ]
  },
  {
   "cell_type": "code",
   "execution_count": 10,
   "metadata": {},
   "outputs": [
    {
     "name": "stdout",
     "output_type": "stream",
     "text": [
      "2\n"
     ]
    }
   ],
   "source": [
    "d.sort()\n",
    "print(max(0, d[N // 2] - d[N // 2 - 1]))"
   ]
  },
  {
   "cell_type": "code",
   "execution_count": 8,
   "metadata": {},
   "outputs": [
    {
     "data": {
      "text/plain": [
       "(7, 6)"
      ]
     },
     "execution_count": 8,
     "metadata": {},
     "output_type": "execute_result"
    }
   ],
   "source": [
    "d[N // 2 + 1], d[N // 2]"
   ]
  },
  {
   "cell_type": "markdown",
   "metadata": {},
   "source": [
    "# D"
   ]
  },
  {
   "cell_type": "code",
   "execution_count": 11,
   "metadata": {},
   "outputs": [
    {
     "name": "stdout",
     "output_type": "stream",
     "text": [
      "ans: 3, 6, 1\n"
     ]
    }
   ],
   "source": [
    "N, K = 5, 3\n",
    "\n",
    "print('ans: 3, 6, 1')"
   ]
  },
  {
   "cell_type": "code",
   "execution_count": 44,
   "metadata": {},
   "outputs": [],
   "source": [
    "MOD = 10 ** 9 + 7\n",
    "\n",
    "def comb(n, k):\n",
    "    ret = 1\n",
    "    for i in range(1, k + 1):\n",
    "        ret = ret * (n - i + 1) % MOD        \n",
    "        ret = ret * pow(i, MOD - 2, MOD) % MOD\n",
    "    return ret"
   ]
  },
  {
   "cell_type": "markdown",
   "metadata": {},
   "source": [
    "n: 隙間の数  \n",
    "k: 敷居＝赤ボールの数"
   ]
  },
  {
   "cell_type": "code",
   "execution_count": 85,
   "metadata": {},
   "outputs": [
    {
     "name": "stdout",
     "output_type": "stream",
     "text": [
      "2\n",
      "3\n",
      "0\n",
      "0\n"
     ]
    }
   ],
   "source": [
    "for i in range(1, K + 1):\n",
    "    n = i - 1 + 2\n",
    "    k = N - K - (i - 1)\n",
    "    if k < 0:\n",
    "        print(0)\n",
    "    else:\n",
    "        ans = comb(n + k - 1, k) * comb(K - 1, i - 1) % MOD\n",
    "        print(ans)"
   ]
  },
  {
   "cell_type": "markdown",
   "metadata": {},
   "source": [
    "# E"
   ]
  },
  {
   "cell_type": "code",
   "execution_count": 34,
   "metadata": {},
   "outputs": [
    {
     "name": "stdout",
     "output_type": "stream",
     "text": [
      "ans: 2\n"
     ]
    }
   ],
   "source": [
    "N, M = 4, 4\n",
    "edges = [[1, 2], [2, 3], [3, 4], [4, 1]]\n",
    "S, T = 1, 3\n",
    "\n",
    "print('ans: 2')"
   ]
  },
  {
   "cell_type": "code",
   "execution_count": 43,
   "metadata": {},
   "outputs": [
    {
     "name": "stdout",
     "output_type": "stream",
     "text": [
      "ans: 2\n"
     ]
    }
   ],
   "source": [
    "N, M = 6, 8\n",
    "edges = [[1, 2], [2, 3], [3, 4], [4, 5], [5, 1], [1, 4], [1, 5], [4, 6]]\n",
    "S, T = 1, 6\n",
    "\n",
    "print('ans: 2')"
   ]
  },
  {
   "cell_type": "markdown",
   "metadata": {},
   "source": [
    "#### メモ化のBFS"
   ]
  },
  {
   "cell_type": "code",
   "execution_count": 44,
   "metadata": {},
   "outputs": [
    {
     "name": "stdout",
     "output_type": "stream",
     "text": [
      "2\n"
     ]
    }
   ],
   "source": [
    "from collections import deque\n",
    "\n",
    "graph = [[] for _ in range(N + 1)]\n",
    "for u, v in edges:\n",
    "    graph[u].append(v)\n",
    "\n",
    "INF = 10 ** 9 + 7\n",
    "dp = [[INF] * (N + 1) for _ in range(3)]\n",
    "dp[0][S] = 0\n",
    "q = deque()\n",
    "q.append((S, 0))\n",
    "\n",
    "while q:\n",
    "    v, t = q.popleft()\n",
    "    u = (t + 1) % 3\n",
    "    d = dp[t][v]\n",
    "    if t == 2:\n",
    "        d += 1\n",
    "    for w in graph[v]:\n",
    "        if dp[u][w] != INF:\n",
    "            continue\n",
    "        dp[u][w] = d\n",
    "        q.append((w, u))\n",
    "        \n",
    "print(dp[0][T] if dp[0][T] < INF else -1)"
   ]
  },
  {
   "cell_type": "code",
   "execution_count": 45,
   "metadata": {},
   "outputs": [
    {
     "data": {
      "text/plain": [
       "[[1000000007, 0, 1, 2, 1, 1, 2],\n",
       " [1000000007, 1, 0, 1, 0, 0, 1],\n",
       " [1000000007, 0, 1, 0, 1, 0, 0]]"
      ]
     },
     "execution_count": 45,
     "metadata": {},
     "output_type": "execute_result"
    }
   ],
   "source": [
    "dp"
   ]
  },
  {
   "cell_type": "markdown",
   "metadata": {},
   "source": [
    "# F\n",
    "\n",
    "snukeさんの解説コード  \n",
    "https://atcoder.jp/contests/abc132/submissions/6188850\n",
    "\n",
    "参考  \n",
    "https://atcoder.jp/contests/abc132/submissions/6191204\n",
    "https://atcoder.jp/contests/abc132/submissions/6177969"
   ]
  },
  {
   "cell_type": "code",
   "execution_count": 95,
   "metadata": {},
   "outputs": [
    {
     "name": "stdout",
     "output_type": "stream",
     "text": [
      "ans: 5\n"
     ]
    }
   ],
   "source": [
    "N, K = 3, 2\n",
    "\n",
    "print('ans: 5')"
   ]
  },
  {
   "cell_type": "code",
   "execution_count": 96,
   "metadata": {},
   "outputs": [],
   "source": [
    "MOD = 10 ** 9 + 7\n",
    "\n",
    "spl = int(N ** 0.5) + 1\n",
    "l = list(range(spl)) + [N // i for i in reversed(range(1, spl))]\n",
    "m = 2 * spl - 1\n",
    "\n",
    "for i in reversed(range(m - 1)):\n",
    "    l[i + 1] -= l[i]"
   ]
  },
  {
   "cell_type": "markdown",
   "metadata": {},
   "source": [
    "lは，a * b <= Nの組(a, b)の個数\n",
    "\n",
    "* a <= $\\sqrt{N}$: 1個\n",
    "* a > $\\sqrt{N}$: N // (i + 1) - N // i"
   ]
  },
  {
   "cell_type": "code",
   "execution_count": 97,
   "metadata": {},
   "outputs": [
    {
     "data": {
      "text/plain": [
       "([0, 1, 2], 3)"
      ]
     },
     "execution_count": 97,
     "metadata": {},
     "output_type": "execute_result"
    }
   ],
   "source": [
    "l, m"
   ]
  },
  {
   "cell_type": "markdown",
   "metadata": {},
   "source": [
    "$O(\\sqrt{N}K)$のdp"
   ]
  },
  {
   "cell_type": "code",
   "execution_count": 98,
   "metadata": {},
   "outputs": [
    {
     "data": {
      "text/plain": [
       "[[0, 1, 3], [0, 3, 2]]"
      ]
     },
     "execution_count": 98,
     "metadata": {},
     "output_type": "execute_result"
    }
   ],
   "source": [
    "dp = [l[:]] + [[0] * m for _ in range(K - 1)]\n",
    "for i in range(K - 1):\n",
    "    for j in range(m - 1):\n",
    "        dp[i][j + 1] += dp[i][j]\n",
    "        dp[i][j + 1] %= MOD\n",
    "\n",
    "    for j in range(1, m):\n",
    "        dp[i + 1][-j] = dp[i][j] * l[-j] % MOD\n",
    "        \n",
    "dp"
   ]
  },
  {
   "cell_type": "code",
   "execution_count": 99,
   "metadata": {},
   "outputs": [
    {
     "name": "stdout",
     "output_type": "stream",
     "text": [
      "5\n"
     ]
    }
   ],
   "source": [
    "ans = 0\n",
    "for v in dp[-1][1:]:\n",
    "    ans += v\n",
    "    ans %= MOD\n",
    "print(ans)"
   ]
  },
  {
   "cell_type": "code",
   "execution_count": null,
   "metadata": {},
   "outputs": [],
   "source": []
  },
  {
   "cell_type": "code",
   "execution_count": null,
   "metadata": {},
   "outputs": [],
   "source": []
  }
 ],
 "metadata": {
  "kernelspec": {
   "display_name": "Python 3",
   "language": "python",
   "name": "python3"
  },
  "language_info": {
   "codemirror_mode": {
    "name": "ipython",
    "version": 3
   },
   "file_extension": ".py",
   "mimetype": "text/x-python",
   "name": "python",
   "nbconvert_exporter": "python",
   "pygments_lexer": "ipython3",
   "version": "3.7.3"
  }
 },
 "nbformat": 4,
 "nbformat_minor": 2
}
