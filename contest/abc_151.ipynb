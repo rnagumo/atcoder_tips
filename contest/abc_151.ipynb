{
 "cells": [
  {
   "cell_type": "markdown",
   "metadata": {},
   "source": [
    "# A"
   ]
  },
  {
   "cell_type": "code",
   "execution_count": 1,
   "metadata": {},
   "outputs": [],
   "source": [
    "C = \"a\""
   ]
  },
  {
   "cell_type": "code",
   "execution_count": 3,
   "metadata": {},
   "outputs": [
    {
     "name": "stdout",
     "output_type": "stream",
     "text": [
      "b\n"
     ]
    }
   ],
   "source": [
    "print(chr(ord(C) + 1))"
   ]
  },
  {
   "cell_type": "markdown",
   "metadata": {},
   "source": [
    "# B"
   ]
  },
  {
   "cell_type": "code",
   "execution_count": 4,
   "metadata": {},
   "outputs": [
    {
     "name": "stdout",
     "output_type": "stream",
     "text": [
      "8\n"
     ]
    }
   ],
   "source": [
    "N, K, M = 5, 10, 7\n",
    "A = [8, 10, 3, 6]\n",
    "\n",
    "print(8)"
   ]
  },
  {
   "cell_type": "code",
   "execution_count": 6,
   "metadata": {},
   "outputs": [
    {
     "name": "stdout",
     "output_type": "stream",
     "text": [
      "8\n"
     ]
    }
   ],
   "source": [
    "ans = N * M - sum(A)\n",
    "if ans <= K:\n",
    "    print(max(0, ans))\n",
    "else:\n",
    "    print(-1)"
   ]
  },
  {
   "cell_type": "markdown",
   "metadata": {},
   "source": [
    "# C"
   ]
  },
  {
   "cell_type": "code",
   "execution_count": 28,
   "metadata": {},
   "outputs": [
    {
     "name": "stdout",
     "output_type": "stream",
     "text": [
      "2 2\n"
     ]
    }
   ],
   "source": [
    "N, M = 2, 5\n",
    "X = [['1', 'WA'], ['1', 'AC'], ['2', 'WA'], ['2', 'AC'], ['2', 'WA'], ['2', 'WA']]\n",
    "\n",
    "print(2, 2)"
   ]
  },
  {
   "cell_type": "code",
   "execution_count": 24,
   "metadata": {},
   "outputs": [
    {
     "name": "stdout",
     "output_type": "stream",
     "text": [
      "2 2\n"
     ]
    }
   ],
   "source": [
    "N, M = 2, 5\n",
    "X = [['1', 'WA'], ['1', 'AC'], ['2', 'WA'], ['2', 'WA'], ['2', 'WA'], ['2', 'WA']]\n",
    "\n",
    "print(2, 2)"
   ]
  },
  {
   "cell_type": "code",
   "execution_count": 29,
   "metadata": {},
   "outputs": [
    {
     "name": "stdout",
     "output_type": "stream",
     "text": [
      "2 2\n"
     ]
    }
   ],
   "source": [
    "acs = [False] * (N + 1)\n",
    "was = [0] * (N + 1)\n",
    "\n",
    "for p, s in X:\n",
    "    if s == \"AC\":\n",
    "        acs[int(p)] = True\n",
    "    elif not acs[int(p)]:\n",
    "        was[int(p)] += 1\n",
    "        \n",
    "was_cnt = 0\n",
    "for a, w in zip(acs, was):\n",
    "    if a:\n",
    "        was_cnt += w\n",
    "\n",
    "print(sum(acs), was_cnt)"
   ]
  },
  {
   "cell_type": "markdown",
   "metadata": {},
   "source": [
    "# D"
   ]
  },
  {
   "cell_type": "code",
   "execution_count": 1,
   "metadata": {},
   "outputs": [
    {
     "name": "stdout",
     "output_type": "stream",
     "text": [
      "4\n"
     ]
    }
   ],
   "source": [
    "H, W = 3, 3\n",
    "S = ['...', '...', '...']\n",
    "\n",
    "print(4)"
   ]
  },
  {
   "cell_type": "code",
   "execution_count": 9,
   "metadata": {},
   "outputs": [
    {
     "name": "stdout",
     "output_type": "stream",
     "text": [
      "10\n"
     ]
    }
   ],
   "source": [
    "H, W = 3, 5\n",
    "S = ['...#.', '.#.#.', '.#...']\n",
    "\n",
    "print(10)"
   ]
  },
  {
   "cell_type": "code",
   "execution_count": 10,
   "metadata": {},
   "outputs": [],
   "source": [
    "from collections import deque\n",
    "\n",
    "def solve(x, y):\n",
    "    offset = [(1, 0), (-1, 0), (0, 1), (0, -1)]\n",
    "    visited = [[-1] * W for _ in range(H)]\n",
    "    visited[y][x] = 0\n",
    "    \n",
    "    q = deque()\n",
    "    q.append((x, y))\n",
    "\n",
    "    while q:\n",
    "        x, y = q.popleft()\n",
    "\n",
    "        for u, v in offset:\n",
    "            if not (0 <= x + u < W) or not (0 <= y + v < H):\n",
    "                continue\n",
    "\n",
    "            if visited[y + v][x + u] > -1 or S[y + v][x + u] == \"#\":\n",
    "                continue\n",
    "\n",
    "            visited[y + v][x + u] = visited[y][x] + 1\n",
    "            q.append((x + u, y + v))\n",
    "            \n",
    "    return visited"
   ]
  },
  {
   "cell_type": "code",
   "execution_count": 11,
   "metadata": {},
   "outputs": [
    {
     "name": "stdout",
     "output_type": "stream",
     "text": [
      "10\n"
     ]
    }
   ],
   "source": [
    "ans = 0\n",
    "for y, ss in enumerate(S):\n",
    "    for x, s in enumerate(ss):\n",
    "        if s == \".\":\n",
    "            ans = max(ans, max(max(v) for v in solve(x, y)))\n",
    "\n",
    "print(ans)"
   ]
  },
  {
   "cell_type": "markdown",
   "metadata": {},
   "source": [
    "# E"
   ]
  },
  {
   "cell_type": "code",
   "execution_count": 31,
   "metadata": {},
   "outputs": [
    {
     "name": "stdout",
     "output_type": "stream",
     "text": [
      "11\n"
     ]
    }
   ],
   "source": [
    "N, K = 4, 2\n",
    "A = [1, 1, 3, 4]\n",
    "\n",
    "print(11)"
   ]
  },
  {
   "cell_type": "markdown",
   "metadata": {},
   "source": [
    "階乗，及び階乗の逆元"
   ]
  },
  {
   "cell_type": "code",
   "execution_count": 32,
   "metadata": {},
   "outputs": [],
   "source": [
    "MOD = 10 ** 9 + 7\n",
    "\n",
    "fac = [0] * (N + 1)\n",
    "fac[0] = 1\n",
    "fac[1] = 1\n",
    "for i in range(2, N + 1):\n",
    "    fac[i] = fac[i - 1] * i % MOD\n",
    "\n",
    "finv = [0] * (N + 1)\n",
    "finv[N] = pow(fac[N], MOD - 2, MOD)\n",
    "for i in reversed(range(1, N + 1)):\n",
    "    finv[i - 1] = finv[i] * i % MOD"
   ]
  },
  {
   "cell_type": "markdown",
   "metadata": {},
   "source": [
    "Combination"
   ]
  },
  {
   "cell_type": "code",
   "execution_count": 33,
   "metadata": {},
   "outputs": [],
   "source": [
    "def comb(n, k):\n",
    "    if n < k:\n",
    "        return 0\n",
    "    return fac[n] * finv[k] * finv[n - k] % MOD"
   ]
  },
  {
   "cell_type": "markdown",
   "metadata": {},
   "source": [
    "自分がmax, minそれぞれになる場合の数をかけて，足していく．"
   ]
  },
  {
   "cell_type": "code",
   "execution_count": 37,
   "metadata": {},
   "outputs": [
    {
     "name": "stdout",
     "output_type": "stream",
     "text": [
      "11\n"
     ]
    }
   ],
   "source": [
    "ans = 0\n",
    "for i, a in enumerate(sorted(A, reverse=True)):\n",
    "    ans += a * comb(N - i - 1, K - 1)\n",
    "    ans -= a * comb(i, K - 1)\n",
    "    ans %= MOD\n",
    "    \n",
    "print(ans)"
   ]
  },
  {
   "cell_type": "code",
   "execution_count": null,
   "metadata": {},
   "outputs": [],
   "source": []
  },
  {
   "cell_type": "code",
   "execution_count": null,
   "metadata": {},
   "outputs": [],
   "source": []
  }
 ],
 "metadata": {
  "kernelspec": {
   "display_name": "Python 3",
   "language": "python",
   "name": "python3"
  },
  "language_info": {
   "codemirror_mode": {
    "name": "ipython",
    "version": 3
   },
   "file_extension": ".py",
   "mimetype": "text/x-python",
   "name": "python",
   "nbconvert_exporter": "python",
   "pygments_lexer": "ipython3",
   "version": "3.7.3"
  }
 },
 "nbformat": 4,
 "nbformat_minor": 4
}
