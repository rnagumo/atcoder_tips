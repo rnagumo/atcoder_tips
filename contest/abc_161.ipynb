{
 "cells": [
  {
   "cell_type": "markdown",
   "metadata": {},
   "source": [
    "# B"
   ]
  },
  {
   "cell_type": "code",
   "execution_count": 1,
   "metadata": {},
   "outputs": [],
   "source": [
    "N, M = 4, 1\n",
    "A = [5, 4, 2, 1]"
   ]
  },
  {
   "cell_type": "code",
   "execution_count": 3,
   "metadata": {},
   "outputs": [
    {
     "name": "stdout",
     "output_type": "stream",
     "text": [
      "Yes\n"
     ]
    }
   ],
   "source": [
    "A.sort()\n",
    "if all(a >= sum(A) / (4 * M) for a in A[-M:]):\n",
    "    print(\"Yes\")\n",
    "else:\n",
    "    print(\"No\")"
   ]
  },
  {
   "cell_type": "markdown",
   "metadata": {},
   "source": [
    "# C"
   ]
  },
  {
   "cell_type": "code",
   "execution_count": 4,
   "metadata": {},
   "outputs": [
    {
     "name": "stdout",
     "output_type": "stream",
     "text": [
      "1\n"
     ]
    }
   ],
   "source": [
    "N, K = 7, 4\n",
    "\n",
    "print(1)"
   ]
  },
  {
   "cell_type": "code",
   "execution_count": 7,
   "metadata": {},
   "outputs": [
    {
     "data": {
      "text/plain": [
       "1"
      ]
     },
     "execution_count": 7,
     "metadata": {},
     "output_type": "execute_result"
    }
   ],
   "source": [
    "print(min(N % K, K - N % K))"
   ]
  },
  {
   "cell_type": "markdown",
   "metadata": {},
   "source": [
    "# D"
   ]
  },
  {
   "cell_type": "code",
   "execution_count": 34,
   "metadata": {},
   "outputs": [
    {
     "name": "stdout",
     "output_type": "stream",
     "text": [
      "23\n"
     ]
    }
   ],
   "source": [
    "K = 15\n",
    "\n",
    "print(23)"
   ]
  },
  {
   "cell_type": "code",
   "execution_count": 25,
   "metadata": {},
   "outputs": [],
   "source": [
    "from collections import deque"
   ]
  },
  {
   "cell_type": "code",
   "execution_count": 40,
   "metadata": {},
   "outputs": [
    {
     "name": "stdout",
     "output_type": "stream",
     "text": [
      "3234566667\n"
     ]
    }
   ],
   "source": [
    "q = deque(tuple(range(1, 10)))\n",
    "cnt = 0\n",
    "while cnt < K:\n",
    "    v = q.popleft()\n",
    "    cnt += 1\n",
    "    for i in [-1, 0, 1]:\n",
    "        c = int(str(v)[-1]) + i\n",
    "        if 0 <= c <= 9:\n",
    "            q.append(v * 10 + c)\n",
    "\n",
    "print(v)"
   ]
  },
  {
   "cell_type": "markdown",
   "metadata": {},
   "source": [
    "# E"
   ]
  },
  {
   "cell_type": "code",
   "execution_count": 53,
   "metadata": {},
   "outputs": [
    {
     "name": "stdout",
     "output_type": "stream",
     "text": [
      "6\n"
     ]
    }
   ],
   "source": [
    "N, K, C = 11, 3, 2\n",
    "S = \"ooxxxoxxxoo\"\n",
    "\n",
    "print(6)"
   ]
  },
  {
   "cell_type": "code",
   "execution_count": 57,
   "metadata": {},
   "outputs": [
    {
     "name": "stdout",
     "output_type": "stream",
     "text": [
      "1 5\n"
     ]
    }
   ],
   "source": [
    "N, K, C = 5, 2, 3\n",
    "S = \"ooxoo\"\n",
    "\n",
    "print(1, 5)"
   ]
  },
  {
   "cell_type": "code",
   "execution_count": 58,
   "metadata": {},
   "outputs": [
    {
     "name": "stdout",
     "output_type": "stream",
     "text": [
      "1\n",
      "5\n"
     ]
    }
   ],
   "source": [
    "ls = []\n",
    "nex = -1\n",
    "for i in range(N):\n",
    "    if S[i] == \"o\" and i > nex:\n",
    "        ls.append(i + 1)\n",
    "        nex = i + C\n",
    "        \n",
    "    if len(ls) == K:\n",
    "        break\n",
    "\n",
    "rs = []\n",
    "nex = N\n",
    "for i in reversed(range(N)):\n",
    "    if S[i] == \"o\" and i < nex:\n",
    "        rs.append(i + 1)\n",
    "        nex = i - C\n",
    "        \n",
    "    if len(rs) == K:\n",
    "        break\n",
    "\n",
    "for l, r in zip(ls, rs[::-1]):\n",
    "    if l == r:\n",
    "        print(l)"
   ]
  },
  {
   "cell_type": "markdown",
   "metadata": {},
   "source": [
    "# F"
   ]
  },
  {
   "cell_type": "code",
   "execution_count": 38,
   "metadata": {},
   "outputs": [
    {
     "name": "stdout",
     "output_type": "stream",
     "text": [
      "3\n"
     ]
    }
   ],
   "source": [
    "N = 6\n",
    "\n",
    "print(3)"
   ]
  },
  {
   "cell_type": "code",
   "execution_count": 51,
   "metadata": {},
   "outputs": [
    {
     "name": "stdout",
     "output_type": "stream",
     "text": [
      "1\n"
     ]
    }
   ],
   "source": [
    "divisor = set([N, N - 1])\n",
    "x = N\n",
    "for i in range(2, int(x ** 0.5) + 1):\n",
    "    z = x\n",
    "    while z % i == 0:\n",
    "        z //= i\n",
    "    if z % i == 1:\n",
    "        divisor.add(i)\n",
    "\n",
    "x = N - 1\n",
    "for i in range(2, int(x ** 0.5) + 1):\n",
    "    if x % i == 0:\n",
    "        divisor.add(i)\n",
    "        divisor.add(x // i)\n",
    "\n",
    "print(len(divisor) if N > 2 else 1)"
   ]
  },
  {
   "cell_type": "code",
   "execution_count": null,
   "metadata": {},
   "outputs": [],
   "source": []
  }
 ],
 "metadata": {
  "kernelspec": {
   "display_name": "Python 3",
   "language": "python",
   "name": "python3"
  },
  "language_info": {
   "codemirror_mode": {
    "name": "ipython",
    "version": 3
   },
   "file_extension": ".py",
   "mimetype": "text/x-python",
   "name": "python",
   "nbconvert_exporter": "python",
   "pygments_lexer": "ipython3",
   "version": "3.7.3"
  }
 },
 "nbformat": 4,
 "nbformat_minor": 4
}
