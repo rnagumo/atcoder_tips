{
 "cells": [
  {
   "cell_type": "markdown",
   "metadata": {},
   "source": [
    "# A"
   ]
  },
  {
   "cell_type": "code",
   "execution_count": 1,
   "metadata": {},
   "outputs": [
    {
     "name": "stdout",
     "output_type": "stream",
     "text": [
      "1\n"
     ]
    }
   ],
   "source": [
    "S = \"SAT\"\n",
    "\n",
    "print(1)"
   ]
  },
  {
   "cell_type": "code",
   "execution_count": 2,
   "metadata": {},
   "outputs": [
    {
     "name": "stdout",
     "output_type": "stream",
     "text": [
      "1\n"
     ]
    }
   ],
   "source": [
    "x = {\"SUN\": 7, \"MON\": 6, \"TUE\": 5, \"WED\": 4, \"THU\": 3, \"FRI\": 2, \"SAT\": 1}\n",
    "print(x[S])"
   ]
  },
  {
   "cell_type": "markdown",
   "metadata": {},
   "source": [
    "# B"
   ]
  },
  {
   "cell_type": "code",
   "execution_count": 13,
   "metadata": {},
   "outputs": [
    {
     "name": "stdout",
     "output_type": "stream",
     "text": [
      "CDEZAB\n"
     ]
    }
   ],
   "source": [
    "N = 2\n",
    "S = \"ABCXYZ\"\n",
    "\n",
    "print(\"CDEZAB\")"
   ]
  },
  {
   "cell_type": "code",
   "execution_count": 17,
   "metadata": {},
   "outputs": [
    {
     "name": "stdout",
     "output_type": "stream",
     "text": [
      "CDEZAB\n"
     ]
    }
   ],
   "source": [
    "ans = \"\"\n",
    "for v in S:\n",
    "    c = ord(v) + N\n",
    "    if c <= ord(\"Z\"):\n",
    "        ans += chr(c)\n",
    "    else:\n",
    "        ans += chr(c - ord(\"Z\") + ord(\"A\") - 1)\n",
    "print(ans)"
   ]
  },
  {
   "cell_type": "markdown",
   "metadata": {},
   "source": [
    "# C"
   ]
  },
  {
   "cell_type": "code",
   "execution_count": 55,
   "metadata": {},
   "outputs": [
    {
     "name": "stdout",
     "output_type": "stream",
     "text": [
      "9\n"
     ]
    }
   ],
   "source": [
    "A, B, X = 10, 7, 100\n",
    "\n",
    "print(9)"
   ]
  },
  {
   "cell_type": "code",
   "execution_count": 57,
   "metadata": {},
   "outputs": [
    {
     "name": "stdout",
     "output_type": "stream",
     "text": [
      "1000000000\n"
     ]
    }
   ],
   "source": [
    "A, B, X = 2, 1, 100000000000\n",
    "\n",
    "print(1000000000)"
   ]
  },
  {
   "cell_type": "code",
   "execution_count": 59,
   "metadata": {},
   "outputs": [
    {
     "name": "stdout",
     "output_type": "stream",
     "text": [
      "0\n"
     ]
    }
   ],
   "source": [
    "A, B, X = 1000000000, 1000000000, 100\n",
    "\n",
    "print(0)"
   ]
  },
  {
   "cell_type": "code",
   "execution_count": 61,
   "metadata": {},
   "outputs": [],
   "source": [
    "A, B, X = 2, 1, 3"
   ]
  },
  {
   "cell_type": "code",
   "execution_count": 62,
   "metadata": {},
   "outputs": [
    {
     "name": "stdout",
     "output_type": "stream",
     "text": [
      "1\n"
     ]
    }
   ],
   "source": [
    "lb = 0\n",
    "ub = 10 ** 9 + 1\n",
    "for _ in range(10 ** 5):\n",
    "    mid = (lb + ub) // 2\n",
    "    if A * mid + B * len(str(mid)) <= X:\n",
    "        lb = mid\n",
    "    else:\n",
    "        ub = mid\n",
    "\n",
    "print(lb)"
   ]
  },
  {
   "cell_type": "markdown",
   "metadata": {},
   "source": [
    "# D"
   ]
  },
  {
   "cell_type": "code",
   "execution_count": 25,
   "metadata": {},
   "outputs": [
    {
     "name": "stdout",
     "output_type": "stream",
     "text": [
      "2 1 2\n"
     ]
    }
   ],
   "source": [
    "N = 3\n",
    "X = [[1, 2], [2, 3]]\n",
    "\n",
    "print(2, 1, 2)"
   ]
  },
  {
   "cell_type": "code",
   "execution_count": 30,
   "metadata": {},
   "outputs": [],
   "source": [
    "N = 8\n",
    "X = [[1, 2], [2, 3], [2, 4], [2, 5], [4, 7], [5, 6], [6, 8]]"
   ]
  },
  {
   "cell_type": "code",
   "execution_count": 65,
   "metadata": {},
   "outputs": [],
   "source": [
    "N = 6\n",
    "X = [[1, 2], [1, 3], [1, 4], [1, 5], [1, 6]]"
   ]
  },
  {
   "cell_type": "code",
   "execution_count": 66,
   "metadata": {},
   "outputs": [],
   "source": [
    "tree = [[] for _ in range(N)]\n",
    "for n, (i, j) in enumerate(X):\n",
    "    tree[i - 1].append((n, j - 1))"
   ]
  },
  {
   "cell_type": "code",
   "execution_count": 67,
   "metadata": {},
   "outputs": [
    {
     "name": "stdout",
     "output_type": "stream",
     "text": [
      "5\n",
      "1\n",
      "2\n",
      "3\n",
      "4\n",
      "5\n"
     ]
    }
   ],
   "source": [
    "from collections import deque\n",
    "q = deque()\n",
    "q.append((0, 0))\n",
    "ans = [0] * (N - 1)\n",
    "\n",
    "while len(q) > 0:\n",
    "    # u: node number, c: color\n",
    "    u, c = q.popleft()\n",
    "    \n",
    "    cnt = 1\n",
    "    for i, (n, v) in enumerate(tree[u]):\n",
    "        if cnt == c:\n",
    "            cnt += 1\n",
    "\n",
    "        ans[n] = cnt\n",
    "        q.append((v, cnt))\n",
    "        cnt += 1\n",
    "        \n",
    "print(max(ans))\n",
    "print(*ans, sep=\"\\n\")"
   ]
  },
  {
   "cell_type": "markdown",
   "metadata": {},
   "source": [
    "# E"
   ]
  },
  {
   "cell_type": "code",
   "execution_count": 69,
   "metadata": {},
   "outputs": [
    {
     "name": "stdout",
     "output_type": "stream",
     "text": [
      "4\n"
     ]
    }
   ],
   "source": [
    "N, K = 5, 4\n",
    "A = [1, 4, 2, 3, 5]\n",
    "\n",
    "print(4)"
   ]
  },
  {
   "cell_type": "code",
   "execution_count": 71,
   "metadata": {},
   "outputs": [
    {
     "name": "stdout",
     "output_type": "stream",
     "text": [
      "7\n"
     ]
    }
   ],
   "source": [
    "N, K = 8, 4\n",
    "A = [4, 2, 4, 2, 4, 2, 4, 2]\n",
    "\n",
    "print(7)"
   ]
  },
  {
   "cell_type": "code",
   "execution_count": 73,
   "metadata": {},
   "outputs": [
    {
     "name": "stdout",
     "output_type": "stream",
     "text": [
      "7\n"
     ]
    }
   ],
   "source": [
    "from collections import defaultdict\n",
    "\n",
    "S = [0] * (N + 1)\n",
    "for i in range(N):\n",
    "    S[i + 1] = S[i] + A[i]\n",
    "\n",
    "d = defaultdict(int)\n",
    "ans = 0\n",
    "for j in range(N + 1):\n",
    "    v = (S[j] - j) % K\n",
    "    ans += d[v]\n",
    "    d[v] += 1\n",
    "    if j >= K - 1:\n",
    "        d[(S[j - K + 1] - (j - K + 1)) % K] -= 1\n",
    "        \n",
    "print(ans)"
   ]
  },
  {
   "cell_type": "markdown",
   "metadata": {},
   "source": [
    "# F"
   ]
  },
  {
   "cell_type": "code",
   "execution_count": 80,
   "metadata": {},
   "outputs": [
    {
     "name": "stdout",
     "output_type": "stream",
     "text": [
      "1 3 2 3\n"
     ]
    }
   ],
   "source": [
    "N, M = 9, 3\n",
    "S = \"0001000100\"\n",
    "\n",
    "print(1, 3, 2, 3)"
   ]
  },
  {
   "cell_type": "code",
   "execution_count": 82,
   "metadata": {},
   "outputs": [
    {
     "name": "stdout",
     "output_type": "stream",
     "text": [
      "-1\n"
     ]
    }
   ],
   "source": [
    "N, M = 5, 4\n",
    "S = \"011110\"\n",
    "print(-1)"
   ]
  },
  {
   "cell_type": "code",
   "execution_count": 83,
   "metadata": {},
   "outputs": [
    {
     "name": "stdout",
     "output_type": "stream",
     "text": [
      "-1\n"
     ]
    }
   ],
   "source": [
    "steps = []\n",
    "c = N\n",
    "flg = True\n",
    "while flg:\n",
    "    if c <= M:\n",
    "        steps.append(c)\n",
    "        break\n",
    "    for i in reversed(range(1, M + 1)):\n",
    "        if S[c - i] == \"0\":\n",
    "            steps.append(i)\n",
    "            c -= i\n",
    "            break\n",
    "        if i == 1:\n",
    "            steps = [-1]\n",
    "            flg = False\n",
    "\n",
    "print(*steps[::-1])"
   ]
  }
 ],
 "metadata": {
  "kernelspec": {
   "display_name": "Python 3",
   "language": "python",
   "name": "python3"
  },
  "language_info": {
   "codemirror_mode": {
    "name": "ipython",
    "version": 3
   },
   "file_extension": ".py",
   "mimetype": "text/x-python",
   "name": "python",
   "nbconvert_exporter": "python",
   "pygments_lexer": "ipython3",
   "version": "3.7.3"
  }
 },
 "nbformat": 4,
 "nbformat_minor": 4
}
