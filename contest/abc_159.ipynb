{
 "cells": [
  {
   "cell_type": "markdown",
   "metadata": {},
   "source": [
    "# B"
   ]
  },
  {
   "cell_type": "code",
   "execution_count": 5,
   "metadata": {},
   "outputs": [],
   "source": [
    "S = \"akasaka\""
   ]
  },
  {
   "cell_type": "code",
   "execution_count": 8,
   "metadata": {},
   "outputs": [
    {
     "name": "stdout",
     "output_type": "stream",
     "text": [
      "Yes\n"
     ]
    }
   ],
   "source": [
    "flg1 = S == S[::-1]\n",
    "\n",
    "s1 = S[:(len(S) - 1) // 2]\n",
    "flg2 = s1 == s1[::-1]\n",
    "\n",
    "s2 = S[(len(S) + 3) // 2 - 1:]\n",
    "flg3 = s2 == s2[::-1]\n",
    "\n",
    "if flg1 and flg2 and flg3:\n",
    "    print(\"Yes\")\n",
    "else:\n",
    "    print(\"No\")"
   ]
  },
  {
   "cell_type": "code",
   "execution_count": 9,
   "metadata": {},
   "outputs": [
    {
     "data": {
      "text/plain": [
       "(True, True, True)"
      ]
     },
     "execution_count": 9,
     "metadata": {},
     "output_type": "execute_result"
    }
   ],
   "source": [
    "flg1, flg2, flg3"
   ]
  },
  {
   "cell_type": "markdown",
   "metadata": {},
   "source": [
    "# C"
   ]
  },
  {
   "cell_type": "code",
   "execution_count": 12,
   "metadata": {},
   "outputs": [],
   "source": [
    "L = 999"
   ]
  },
  {
   "cell_type": "code",
   "execution_count": 13,
   "metadata": {},
   "outputs": [
    {
     "name": "stdout",
     "output_type": "stream",
     "text": [
      "36926037.0\n"
     ]
    }
   ],
   "source": [
    "print((L / 3) ** 3)"
   ]
  },
  {
   "cell_type": "markdown",
   "metadata": {},
   "source": [
    "# D"
   ]
  },
  {
   "cell_type": "code",
   "execution_count": 14,
   "metadata": {},
   "outputs": [],
   "source": [
    "N = 5\n",
    "A = [1, 1, 2, 1, 2]"
   ]
  },
  {
   "cell_type": "code",
   "execution_count": 26,
   "metadata": {},
   "outputs": [],
   "source": [
    "N = 4\n",
    "A = [1, 2, 3, 4]"
   ]
  },
  {
   "cell_type": "code",
   "execution_count": null,
   "metadata": {},
   "outputs": [],
   "source": [
    "from collections import Counter"
   ]
  },
  {
   "cell_type": "code",
   "execution_count": 30,
   "metadata": {},
   "outputs": [
    {
     "name": "stdout",
     "output_type": "stream",
     "text": [
      "0\n",
      "0\n",
      "0\n",
      "0\n"
     ]
    }
   ],
   "source": [
    "ctr = Counter(A)\n",
    "total = sum(v * (v - 1) // 2 for v in ctr.values())\n",
    "for v in A:\n",
    "    c = ctr[v]\n",
    "    print(total - (c * (c - 1) // 2) + (c - 1) * (c - 2) // 2)"
   ]
  },
  {
   "cell_type": "markdown",
   "metadata": {},
   "source": [
    "# E"
   ]
  },
  {
   "cell_type": "code",
   "execution_count": 1,
   "metadata": {},
   "outputs": [
    {
     "name": "stdout",
     "output_type": "stream",
     "text": [
      "2\n"
     ]
    }
   ],
   "source": [
    "H, W, K = 3, 5, 4\n",
    "S = ['11100', '10001', '00111']\n",
    "print(2)"
   ]
  },
  {
   "cell_type": "code",
   "execution_count": 1,
   "metadata": {},
   "outputs": [
    {
     "name": "stdout",
     "output_type": "stream",
     "text": [
      "0\n"
     ]
    }
   ],
   "source": [
    "H, W, K = 3, 5, 8\n",
    "S = ['11100', '10001', '00111']\n",
    "print(0)"
   ]
  },
  {
   "cell_type": "code",
   "execution_count": 7,
   "metadata": {},
   "outputs": [
    {
     "name": "stdout",
     "output_type": "stream",
     "text": [
      "3\n"
     ]
    }
   ],
   "source": [
    "H, W, K = 4, 10, 4\n",
    "S = ['1110010010', '1000101110', '0011101001', '1101000111']\n",
    "print(3)"
   ]
  },
  {
   "cell_type": "markdown",
   "metadata": {},
   "source": [
    "#### 計算量$O(2^H HW)$"
   ]
  },
  {
   "cell_type": "code",
   "execution_count": 9,
   "metadata": {},
   "outputs": [
    {
     "name": "stdout",
     "output_type": "stream",
     "text": [
      "3\n"
     ]
    }
   ],
   "source": [
    "ans = 10 ** 5\n",
    "for bit in range(2 ** (H - 1)):    \n",
    "    group = [0] * H\n",
    "    gnum = 0\n",
    "\n",
    "    # Group each row\n",
    "    for i in range(H - 1):\n",
    "        if not bit >> i & 1:\n",
    "            group[i + 1] = group[i]\n",
    "        else:\n",
    "            group[i + 1] = group[i] + 1\n",
    "            gnum += 1\n",
    "\n",
    "    gok = True\n",
    "    add = 0  # Vertical split num\n",
    "    nums = [0] * (gnum + 1)  # Number of '1' in previous blocks\n",
    "    # For each column\n",
    "    for j in range(W):\n",
    "        ones = [0] * (gnum + 1)  # Number of '1' in current column\n",
    "        ok = True\n",
    "        # For each row\n",
    "        for i in range(H):\n",
    "            ones[group[i]] += int(S[i][j])\n",
    "            nums[group[i]] += int(S[i][j])\n",
    "            if ones[group[i]] > K: gok = False;\n",
    "            if nums[group[i]] > K: ok = False;\n",
    "\n",
    "        if not ok:\n",
    "            add += 1\n",
    "            nums = ones[:]\n",
    "            \n",
    "    if gok:\n",
    "        ans = min(ans, gnum + add)\n",
    "                \n",
    "    \n",
    "print(ans)"
   ]
  },
  {
   "cell_type": "code",
   "execution_count": null,
   "metadata": {},
   "outputs": [],
   "source": []
  }
 ],
 "metadata": {
  "kernelspec": {
   "display_name": "Python 3",
   "language": "python",
   "name": "python3"
  },
  "language_info": {
   "codemirror_mode": {
    "name": "ipython",
    "version": 3
   },
   "file_extension": ".py",
   "mimetype": "text/x-python",
   "name": "python",
   "nbconvert_exporter": "python",
   "pygments_lexer": "ipython3",
   "version": "3.7.3"
  }
 },
 "nbformat": 4,
 "nbformat_minor": 4
}
