{
 "cells": [
  {
   "cell_type": "markdown",
   "metadata": {},
   "source": [
    "# A"
   ]
  },
  {
   "cell_type": "code",
   "execution_count": 1,
   "metadata": {},
   "outputs": [],
   "source": [
    "N = 4"
   ]
  },
  {
   "cell_type": "code",
   "execution_count": 3,
   "metadata": {},
   "outputs": [],
   "source": [
    "N = 999999"
   ]
  },
  {
   "cell_type": "code",
   "execution_count": 4,
   "metadata": {},
   "outputs": [
    {
     "name": "stdout",
     "output_type": "stream",
     "text": [
      "499999\n"
     ]
    }
   ],
   "source": [
    "print((N - 1) // 2)"
   ]
  },
  {
   "cell_type": "markdown",
   "metadata": {},
   "source": [
    "# B"
   ]
  },
  {
   "cell_type": "code",
   "execution_count": 19,
   "metadata": {},
   "outputs": [
    {
     "name": "stdout",
     "output_type": "stream",
     "text": [
      "2\n"
     ]
    }
   ],
   "source": [
    "N = 4\n",
    "D = [0, 1, 1, 2]\n",
    "\n",
    "MOD = 998244353\n",
    "\n",
    "print(2)"
   ]
  },
  {
   "cell_type": "code",
   "execution_count": 38,
   "metadata": {},
   "outputs": [
    {
     "name": "stdout",
     "output_type": "stream",
     "text": [
      "24\n"
     ]
    }
   ],
   "source": [
    "N = 7\n",
    "D = [0, 3, 2, 1, 2, 2, 1]\n",
    "\n",
    "print(24)"
   ]
  },
  {
   "cell_type": "code",
   "execution_count": 56,
   "metadata": {},
   "outputs": [
    {
     "name": "stdout",
     "output_type": "stream",
     "text": [
      "24\n"
     ]
    }
   ],
   "source": [
    "N = 7\n",
    "D = [0, 3, 2, 1, 2, 2, 1]\n",
    "\n",
    "print(24)"
   ]
  },
  {
   "cell_type": "code",
   "execution_count": 58,
   "metadata": {},
   "outputs": [],
   "source": [
    "D = [0, 1, 1, 1, 0]"
   ]
  },
  {
   "cell_type": "code",
   "execution_count": 59,
   "metadata": {},
   "outputs": [
    {
     "name": "stdout",
     "output_type": "stream",
     "text": [
      "0\n"
     ]
    }
   ],
   "source": [
    "from collections import Counter\n",
    "\n",
    "ctr = Counter(D)\n",
    "ans = 1\n",
    "for i in range(1, max(ctr) + 1):\n",
    "    ans = ans * ctr[i - 1] ** ctr[i] % MOD\n",
    "    \n",
    "if ctr[0] == 1 and D[0] == 0:\n",
    "    print(ans)\n",
    "else:\n",
    "    print(0)"
   ]
  },
  {
   "cell_type": "markdown",
   "metadata": {},
   "source": [
    "# C"
   ]
  },
  {
   "cell_type": "code",
   "execution_count": 139,
   "metadata": {},
   "outputs": [
    {
     "name": "stdout",
     "output_type": "stream",
     "text": [
      "Yes\n"
     ]
    }
   ],
   "source": [
    "N = 3\n",
    "A = [1, 3, 2]\n",
    "B = [1, 2, 3]\n",
    "\n",
    "print(\"Yes\")"
   ]
  },
  {
   "cell_type": "code",
   "execution_count": 169,
   "metadata": {},
   "outputs": [
    {
     "name": "stdout",
     "output_type": "stream",
     "text": [
      "Yes\n"
     ]
    }
   ],
   "source": [
    "N = 6\n",
    "A = [3, 1, 2, 6, 3, 4]\n",
    "B = [2, 2, 8, 3, 4, 3]\n",
    "\n",
    "print(\"Yes\")"
   ]
  },
  {
   "cell_type": "code",
   "execution_count": 168,
   "metadata": {},
   "outputs": [],
   "source": [
    "def count_loop(start, idx_map):\n",
    "    count = 0\n",
    "    idx = start\n",
    "    while True:\n",
    "        idx = idx_map[idx]\n",
    "        count += 1\n",
    "        if idx == 0:\n",
    "            break\n",
    "    return count"
   ]
  },
  {
   "cell_type": "code",
   "execution_count": 170,
   "metadata": {},
   "outputs": [
    {
     "name": "stdout",
     "output_type": "stream",
     "text": [
      "Yes\n"
     ]
    }
   ],
   "source": [
    "A, B = zip(*sorted(zip(A, B), key=lambda x: x[1]))\n",
    "idx_map = sorted(range(N), key=lambda i: A[i])\n",
    "A = sorted(A)\n",
    "\n",
    "check_1 = all(A[i] <= B[i] for i in range(N))\n",
    "check_2 = any(A[i + 1] <= B[i] for i in range(N - 1))\n",
    "check_3 = count_loop(0, idx_map) <= N - 2\n",
    "print(\"Yes\" if check_1 and (check_2 or check_3) else \"No\")"
   ]
  },
  {
   "cell_type": "code",
   "execution_count": 159,
   "metadata": {},
   "outputs": [
    {
     "data": {
      "text/plain": [
       "[1, 5, 0, 4, 3, 2]"
      ]
     },
     "execution_count": 159,
     "metadata": {},
     "output_type": "execute_result"
    }
   ],
   "source": [
    "idx_map"
   ]
  },
  {
   "cell_type": "code",
   "execution_count": 146,
   "metadata": {},
   "outputs": [
    {
     "data": {
      "text/plain": [
       "(True, False, True)"
      ]
     },
     "execution_count": 146,
     "metadata": {},
     "output_type": "execute_result"
    }
   ],
   "source": [
    "check_1, check_2, check_3"
   ]
  },
  {
   "cell_type": "markdown",
   "metadata": {},
   "source": [
    "# D"
   ]
  },
  {
   "cell_type": "code",
   "execution_count": 1,
   "metadata": {},
   "outputs": [
    {
     "name": "stdout",
     "output_type": "stream",
     "text": [
      "5\n"
     ]
    }
   ],
   "source": [
    "N, M = 4, 3\n",
    "X = [[1, 3, 2], [2, 4, 3], [1, 4, 6]]\n",
    "\n",
    "print(5)"
   ]
  },
  {
   "cell_type": "code",
   "execution_count": 145,
   "metadata": {},
   "outputs": [
    {
     "name": "stdout",
     "output_type": "stream",
     "text": [
      "-1\n"
     ]
    }
   ],
   "source": [
    "N, M = 4, 2\n",
    "X = [[1, 2, 1], [3, 4, 2]]\n",
    "\n",
    "print(-1)"
   ]
  },
  {
   "cell_type": "code",
   "execution_count": 95,
   "metadata": {},
   "outputs": [
    {
     "name": "stdout",
     "output_type": "stream",
     "text": [
      "28\n"
     ]
    }
   ],
   "source": [
    "N, M = 10, 7\n",
    "X = [[1, 5, 18], [3, 4, 8], [1, 3, 5], [4, 7, 10],\n",
    "     [5, 9, 8], [6, 10, 5], [8, 10, 3]]\n",
    "\n",
    "print(28)"
   ]
  },
  {
   "cell_type": "markdown",
   "metadata": {},
   "source": [
    "#### 解法1\n",
    "\n",
    "ポイント\n",
    "1. 与えられたエッジはL→Rへの有向エッジ\n",
    "2. 距離0の追加エッジはi+1→iへの有向エッジ"
   ]
  },
  {
   "cell_type": "code",
   "execution_count": 156,
   "metadata": {},
   "outputs": [],
   "source": [
    "edges = [[] for _ in range(N)]\n",
    "for u, v, c in X:\n",
    "    edges[u - 1].append((v - 1, c))\n",
    "    \n",
    "for i in range(N - 1):\n",
    "    edges[i + 1].append((i, 0))"
   ]
  },
  {
   "cell_type": "code",
   "execution_count": 157,
   "metadata": {},
   "outputs": [
    {
     "data": {
      "text/plain": [
       "[[(2, 2), (3, 6)], [(3, 3), (0, 0)], [(1, 0)], [(2, 0)]]"
      ]
     },
     "execution_count": 157,
     "metadata": {},
     "output_type": "execute_result"
    }
   ],
   "source": [
    "edges"
   ]
  },
  {
   "cell_type": "code",
   "execution_count": 160,
   "metadata": {},
   "outputs": [
    {
     "name": "stdout",
     "output_type": "stream",
     "text": [
      "5\n"
     ]
    }
   ],
   "source": [
    "from heapq import heappop, heappush\n",
    "\n",
    "INF = float(\"inf\")\n",
    "d = [INF] * N\n",
    "d[0] = 0\n",
    "\n",
    "pq = []\n",
    "heappush(pq, (0, 0))\n",
    "\n",
    "while len(pq) > 0:\n",
    "    cost, u = heappop(pq)\n",
    "    for v, c in edges[u]:            \n",
    "        if d[v] > d[u] + c:\n",
    "            d[v] = d[u] + c\n",
    "            heappush(pq, (d[v], v))\n",
    "            \n",
    "print(d[-1] if d[-1] != INF else -1)"
   ]
  },
  {
   "cell_type": "markdown",
   "metadata": {},
   "source": [
    "#### 解法2\n",
    "\n",
    "Segment Treeを使って求める．\n",
    "\n",
    "https://atcoder.jp/contests/nikkei2019-2-qual/submissions/8372515"
   ]
  },
  {
   "cell_type": "code",
   "execution_count": 9,
   "metadata": {},
   "outputs": [],
   "source": [
    "class SegTreeMin:\n",
    "    def __init__(self, n, inf=10 ** 15):\n",
    "        self.n = n\n",
    "        n2 = 1\n",
    "        while n2 < n:\n",
    "            n2 <<= 1\n",
    "        self.n2 = n2\n",
    "        self.tree = [inf] * (n2 << 1)\n",
    "        self.inf = inf\n",
    "        \n",
    "    def update(self, i, x):\n",
    "        i += self.n2\n",
    "        self.tree[i] = x\n",
    "        while i > 1:\n",
    "            x = min(x, self.tree[i ^ 1])\n",
    "            self.tree[i >> 1] = x\n",
    "            i >>= 1\n",
    "            \n",
    "    def get_min(self, a, b):\n",
    "        result = self.inf\n",
    "        q = [(1, 0, self.n2)]\n",
    "        while q:\n",
    "            k, l, r = q.pop()\n",
    "            if a <= l and r <= b:\n",
    "                result = min(result, self.tree[k])\n",
    "                continue\n",
    "                \n",
    "            m = (l + r) // 2\n",
    "            k <<= 1\n",
    "            if a < m and l < b:\n",
    "                q.append((k, l, m))\n",
    "            if a < r and l < m:\n",
    "                q.append((k + 1, m, r))\n",
    "                \n",
    "        return result"
   ]
  },
  {
   "cell_type": "code",
   "execution_count": 11,
   "metadata": {},
   "outputs": [
    {
     "name": "stdout",
     "output_type": "stream",
     "text": [
      "5\n"
     ]
    }
   ],
   "source": [
    "INF = 10 ** 15\n",
    "seg_tree = SegTreeMin(N, INF)\n",
    "seg_tree.update(0, 0)\n",
    "X.sort()\n",
    "for l, r, c in X:\n",
    "    l -= 1\n",
    "    r -= 1\n",
    "    tmp = seg_tree.get_min(l, r)\n",
    "    seg_tree.update(r, min(tmp + c, seg_tree.get_min(r, r + 1)))\n",
    "ans = seg_tree.get_min(N - 1, N)\n",
    "print(ans if ans != INF else -1)"
   ]
  },
  {
   "cell_type": "markdown",
   "metadata": {},
   "source": [
    "#### 解法3\n",
    "\n",
    "DPを使って求める．\n",
    "\n",
    "https://atcoder.jp/contests/nikkei2019-2-qual/submissions/8377301"
   ]
  },
  {
   "cell_type": "code",
   "execution_count": 12,
   "metadata": {},
   "outputs": [
    {
     "name": "stdout",
     "output_type": "stream",
     "text": [
      "5\n"
     ]
    }
   ],
   "source": [
    "INF = float(\"inf\")\n",
    "dp = [INF] * (N + 1)\n",
    "dp[1] = 0\n",
    "for l, r, c in sorted(X):\n",
    "    for i in range(r, l, -1):\n",
    "        if dp[i] > dp[l] + c:\n",
    "            dp[i] = dp[l] + c\n",
    "        else:\n",
    "            break\n",
    "            \n",
    "print(dp[-1] if dp[-1] < INF else -1)"
   ]
  },
  {
   "cell_type": "code",
   "execution_count": null,
   "metadata": {},
   "outputs": [],
   "source": []
  },
  {
   "cell_type": "code",
   "execution_count": null,
   "metadata": {},
   "outputs": [],
   "source": []
  }
 ],
 "metadata": {
  "kernelspec": {
   "display_name": "Python 3",
   "language": "python",
   "name": "python3"
  },
  "language_info": {
   "codemirror_mode": {
    "name": "ipython",
    "version": 3
   },
   "file_extension": ".py",
   "mimetype": "text/x-python",
   "name": "python",
   "nbconvert_exporter": "python",
   "pygments_lexer": "ipython3",
   "version": "3.7.3"
  }
 },
 "nbformat": 4,
 "nbformat_minor": 4
}
