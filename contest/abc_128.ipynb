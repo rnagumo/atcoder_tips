{
 "cells": [
  {
   "cell_type": "markdown",
   "metadata": {},
   "source": [
    "# E\n",
    "\n",
    "https://atcoder.jp/contests/abc128/tasks/abc128_e\n",
    "\n",
    "解答例  \n",
    "http://drken1215.hatenablog.com/entry/2019/06/15/174200"
   ]
  },
  {
   "cell_type": "code",
   "execution_count": 54,
   "metadata": {},
   "outputs": [
    {
     "name": "stdout",
     "output_type": "stream",
     "text": [
      "2 2 10 -1 13 -1\n"
     ]
    }
   ],
   "source": [
    "N, Q = 4, 6\n",
    "X = [[1, 3, 2], [7, 13, 10], [18, 20, 13], [3, 4, 2]]\n",
    "D = [0, 1, 2, 3, 5, 8]\n",
    "\n",
    "print(2, 2, 10, -1, 13, -1)"
   ]
  },
  {
   "cell_type": "code",
   "execution_count": 66,
   "metadata": {},
   "outputs": [
    {
     "data": {
      "text/plain": [
       "[(0, 1, 2), (0, 3, 10), (4, 5, 13), (1, 2, 2)]"
      ]
     },
     "execution_count": 66,
     "metadata": {},
     "output_type": "execute_result"
    }
   ],
   "source": [
    "from heapq import heappush, heappop\n",
    "from bisect import bisect, bisect_left\n",
    "\n",
    "event = []\n",
    "for s, t, x in X:\n",
    "    if t - x - 1 < 0:\n",
    "        continue\n",
    "    heappush(event, (bisect_left(D, s - x), bisect(D, t - x - 1), x))\n",
    "\n",
    "event"
   ]
  },
  {
   "cell_type": "code",
   "execution_count": 67,
   "metadata": {},
   "outputs": [
    {
     "name": "stdout",
     "output_type": "stream",
     "text": [
      "[(1, 2, 2), (4, 5, 13)]\n",
      "[(2, 0, 1), (10, 0, 3)]\n",
      "[(4, 5, 13)]\n",
      "[(2, 0, 1), (10, 0, 3), (2, 1, 2)]\n",
      "[(4, 5, 13)]\n",
      "[(2, 1, 2), (10, 0, 3)]\n",
      "[(4, 5, 13)]\n",
      "[(10, 0, 3)]\n",
      "[]\n",
      "[(13, 4, 5)]\n",
      "[]\n",
      "[(13, 4, 5)]\n",
      "2\n",
      "2\n",
      "10\n",
      "-1\n",
      "13\n",
      "-1\n"
     ]
    }
   ],
   "source": [
    "passesd_event = []\n",
    "ans = [0] * Q\n",
    "for i in range(Q):\n",
    "    while len(event) > 0 and event[0][0] <= i:\n",
    "        a, b, x = heappop(event)\n",
    "        heappush(passesd_event, (x, a, b))\n",
    "        \n",
    "    while len(passesd_event) > 0 and passesd_event[0][2] <= i:\n",
    "        heappop(passesd_event)\n",
    "        \n",
    "    ans[i] = -1 if len(passesd_event) == 0 else passesd_event[0][0]\n",
    "    \n",
    "print(*ans, sep='\\n')"
   ]
  },
  {
   "cell_type": "code",
   "execution_count": 52,
   "metadata": {},
   "outputs": [
    {
     "name": "stdout",
     "output_type": "stream",
     "text": [
      "2\n",
      "2\n",
      "10\n",
      "-1\n",
      "13\n",
      "-1\n"
     ]
    }
   ],
   "source": [
    "from bisect import bisect\n",
    "buffer = []\n",
    "ans = [0] * Q\n",
    "for _, q, x in event:\n",
    "    if q == -1:\n",
    "        idx = bisect(buffer, x)\n",
    "        if idx < len(buffer):\n",
    "            buffer = buffer[:idx] + [x] + buffer[idx:]\n",
    "        else:\n",
    "            buffer.append(x)\n",
    "    elif q == 0:\n",
    "        #print(buffer, x, bisect(buffer, x))\n",
    "        buffer.pop(bisect(buffer, x) - 1)\n",
    "    else:\n",
    "        #print(buffer)\n",
    "        ans[x] = -1 if len(buffer) == 0 else buffer[0]\n",
    "        \n",
    "print(*ans, sep='\\n')"
   ]
  },
  {
   "cell_type": "code",
   "execution_count": null,
   "metadata": {},
   "outputs": [],
   "source": []
  },
  {
   "cell_type": "code",
   "execution_count": null,
   "metadata": {},
   "outputs": [],
   "source": []
  },
  {
   "cell_type": "code",
   "execution_count": null,
   "metadata": {},
   "outputs": [],
   "source": []
  },
  {
   "cell_type": "code",
   "execution_count": null,
   "metadata": {},
   "outputs": [],
   "source": []
  },
  {
   "cell_type": "code",
   "execution_count": null,
   "metadata": {},
   "outputs": [],
   "source": []
  },
  {
   "cell_type": "code",
   "execution_count": null,
   "metadata": {},
   "outputs": [],
   "source": []
  }
 ],
 "metadata": {
  "kernelspec": {
   "display_name": "Python 3",
   "language": "python",
   "name": "python3"
  },
  "language_info": {
   "codemirror_mode": {
    "name": "ipython",
    "version": 3
   },
   "file_extension": ".py",
   "mimetype": "text/x-python",
   "name": "python",
   "nbconvert_exporter": "python",
   "pygments_lexer": "ipython3",
   "version": "3.7.3"
  }
 },
 "nbformat": 4,
 "nbformat_minor": 2
}
