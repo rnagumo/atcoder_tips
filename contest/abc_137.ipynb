{
 "cells": [
  {
   "cell_type": "markdown",
   "metadata": {},
   "source": [
    "# C"
   ]
  },
  {
   "cell_type": "code",
   "execution_count": 2,
   "metadata": {},
   "outputs": [
    {
     "name": "stdout",
     "output_type": "stream",
     "text": [
      "1\n"
     ]
    }
   ],
   "source": [
    "N = 3\n",
    "S = ['acornistnt', 'peanutbomb', 'constraint']\n",
    "\n",
    "print(1)"
   ]
  },
  {
   "cell_type": "code",
   "execution_count": 12,
   "metadata": {},
   "outputs": [
    {
     "name": "stdout",
     "output_type": "stream",
     "text": [
      "1\n"
     ]
    }
   ],
   "source": [
    "from collections import defaultdict\n",
    "\n",
    "d = defaultdict(int)\n",
    "for s in S:\n",
    "    d[''.join(sorted(s))] += 1\n",
    "    \n",
    "ans = 0\n",
    "for v in d.values():\n",
    "    if v > 1:\n",
    "        ans += v * (v - 1) // 2\n",
    "print(ans)"
   ]
  },
  {
   "cell_type": "markdown",
   "metadata": {},
   "source": [
    "# D"
   ]
  },
  {
   "cell_type": "code",
   "execution_count": 27,
   "metadata": {},
   "outputs": [
    {
     "name": "stdout",
     "output_type": "stream",
     "text": [
      "5\n"
     ]
    }
   ],
   "source": [
    "N, M = 3, 4\n",
    "X = [[4, 3], [4, 1], [2, 2]]\n",
    "\n",
    "print(5)"
   ]
  },
  {
   "cell_type": "code",
   "execution_count": 32,
   "metadata": {},
   "outputs": [
    {
     "name": "stdout",
     "output_type": "stream",
     "text": [
      "5\n"
     ]
    }
   ],
   "source": [
    "from heapq import heappush, heappop\n",
    "from collections import defaultdict\n",
    "\n",
    "cand = defaultdict(list)\n",
    "for a, b in X:\n",
    "    cand[a].append(b)\n",
    "\n",
    "pq = []\n",
    "ans = 0\n",
    "for i in range(1, M + 1):\n",
    "    for c in cand[i]:\n",
    "        heappush(pq, -c)\n",
    "    if pq:\n",
    "        ans -= heappop(pq)\n",
    "    \n",
    "print(ans)"
   ]
  },
  {
   "cell_type": "markdown",
   "metadata": {},
   "source": [
    "# E"
   ]
  },
  {
   "cell_type": "code",
   "execution_count": 91,
   "metadata": {},
   "outputs": [
    {
     "name": "stdout",
     "output_type": "stream",
     "text": [
      "35\n"
     ]
    }
   ],
   "source": [
    "N, M, P = 3, 3, 10\n",
    "edges = [[1, 2, 20], [2, 3, 30], [1, 3, 45]]\n",
    "\n",
    "print(35)"
   ]
  },
  {
   "cell_type": "code",
   "execution_count": 95,
   "metadata": {},
   "outputs": [
    {
     "name": "stdout",
     "output_type": "stream",
     "text": [
      "-1\n"
     ]
    }
   ],
   "source": [
    "N, M, P = 2, 2, 10\n",
    "edges = [[1, 2, 100], [2, 2, 100]]\n",
    "\n",
    "print(-1)"
   ]
  },
  {
   "cell_type": "code",
   "execution_count": 99,
   "metadata": {},
   "outputs": [
    {
     "name": "stdout",
     "output_type": "stream",
     "text": [
      "0\n"
     ]
    }
   ],
   "source": [
    "N, M, P = 4, 5, 10\n",
    "edges = [[1, 2, 1], [1, 4, 1], [3, 4, 1], [2, 2, 100], [3, 3, 100]]\n",
    "\n",
    "print(0)"
   ]
  },
  {
   "cell_type": "code",
   "execution_count": 100,
   "metadata": {},
   "outputs": [],
   "source": [
    "def bellman_ford(s):\n",
    "    INF = 10 ** 9 + 7\n",
    "    dist = [0] * (N + 1)\n",
    "    ret = [INF] * (N + 1)\n",
    "    ret[s] = 0\n",
    "    updated = True\n",
    "    \n",
    "    is_negative = True\n",
    "    is_target_loop = False\n",
    "    \n",
    "    for _ in range(N):\n",
    "        updated = False\n",
    "        for u, v, c in edges:\n",
    "            cost = max(0, c - P)\n",
    "            if (ret[u] != INF) and (ret[v] > ret[u] - cost):\n",
    "                ret[v] = ret[u] - cost\n",
    "                dist[v] = dist[u] + 1\n",
    "                updated = True\n",
    "                if v == N:\n",
    "                    is_target_loop = True\n",
    "                \n",
    "\n",
    "        if not updated:\n",
    "            is_negative = False\n",
    "                \n",
    "    return ret, is_negative"
   ]
  },
  {
   "cell_type": "code",
   "execution_count": 101,
   "metadata": {},
   "outputs": [
    {
     "name": "stdout",
     "output_type": "stream",
     "text": [
      "-1\n"
     ]
    }
   ],
   "source": [
    "ans, flg = bellman_ford(1)\n",
    "print(-1 if flg else -ans[N])"
   ]
  },
  {
   "cell_type": "code",
   "execution_count": 102,
   "metadata": {},
   "outputs": [
    {
     "data": {
      "text/plain": [
       "[1000000007, 0, -360, 1000000007, 0]"
      ]
     },
     "execution_count": 102,
     "metadata": {},
     "output_type": "execute_result"
    }
   ],
   "source": [
    "ans"
   ]
  },
  {
   "cell_type": "code",
   "execution_count": null,
   "metadata": {},
   "outputs": [],
   "source": []
  },
  {
   "cell_type": "code",
   "execution_count": 84,
   "metadata": {},
   "outputs": [
    {
     "data": {
      "text/plain": [
       "[1000000007, 0, -360, 1000000007, 0]"
      ]
     },
     "execution_count": 84,
     "metadata": {},
     "output_type": "execute_result"
    }
   ],
   "source": [
    "ans"
   ]
  },
  {
   "cell_type": "code",
   "execution_count": null,
   "metadata": {},
   "outputs": [],
   "source": []
  }
 ],
 "metadata": {
  "kernelspec": {
   "display_name": "Python 3",
   "language": "python",
   "name": "python3"
  },
  "language_info": {
   "codemirror_mode": {
    "name": "ipython",
    "version": 3
   },
   "file_extension": ".py",
   "mimetype": "text/x-python",
   "name": "python",
   "nbconvert_exporter": "python",
   "pygments_lexer": "ipython3",
   "version": "3.7.3"
  }
 },
 "nbformat": 4,
 "nbformat_minor": 2
}
