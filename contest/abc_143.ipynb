{
 "cells": [
  {
   "cell_type": "markdown",
   "metadata": {},
   "source": [
    "# A"
   ]
  },
  {
   "cell_type": "code",
   "execution_count": 3,
   "metadata": {},
   "outputs": [],
   "source": [
    "A, B = 12, 4"
   ]
  },
  {
   "cell_type": "code",
   "execution_count": 1,
   "metadata": {},
   "outputs": [],
   "source": [
    "A, B = 20, 15"
   ]
  },
  {
   "cell_type": "code",
   "execution_count": 4,
   "metadata": {},
   "outputs": [
    {
     "name": "stdout",
     "output_type": "stream",
     "text": [
      "4\n"
     ]
    }
   ],
   "source": [
    "print(max(0, A - B * 2))"
   ]
  },
  {
   "cell_type": "markdown",
   "metadata": {},
   "source": [
    "# B"
   ]
  },
  {
   "cell_type": "code",
   "execution_count": 5,
   "metadata": {},
   "outputs": [],
   "source": [
    "N = 3\n",
    "d = [3, 1, 2]"
   ]
  },
  {
   "cell_type": "code",
   "execution_count": 8,
   "metadata": {},
   "outputs": [
    {
     "name": "stdout",
     "output_type": "stream",
     "text": [
      "11\n"
     ]
    }
   ],
   "source": [
    "from itertools import combinations\n",
    "\n",
    "ans = 0\n",
    "for i, j in combinations(range(N), 2):\n",
    "    ans += d[i] * d[j]\n",
    "    \n",
    "print(ans)"
   ]
  },
  {
   "cell_type": "markdown",
   "metadata": {},
   "source": [
    "# C"
   ]
  },
  {
   "cell_type": "code",
   "execution_count": 9,
   "metadata": {},
   "outputs": [
    {
     "name": "stdout",
     "output_type": "stream",
     "text": [
      "5\n"
     ]
    }
   ],
   "source": [
    "N = 10\n",
    "S = \"aabbbbaaca\"\n",
    "\n",
    "print(5)"
   ]
  },
  {
   "cell_type": "code",
   "execution_count": 10,
   "metadata": {},
   "outputs": [
    {
     "name": "stdout",
     "output_type": "stream",
     "text": [
      "5\n"
     ]
    }
   ],
   "source": [
    "cur = S[0]\n",
    "ans = 1\n",
    "for s in S:\n",
    "    if cur == s:\n",
    "        pass\n",
    "    else:\n",
    "        ans += 1\n",
    "        cur = s\n",
    "        \n",
    "print(ans)"
   ]
  },
  {
   "cell_type": "markdown",
   "metadata": {},
   "source": [
    "# D"
   ]
  },
  {
   "cell_type": "code",
   "execution_count": 9,
   "metadata": {},
   "outputs": [
    {
     "name": "stdout",
     "output_type": "stream",
     "text": [
      "ans 1\n"
     ]
    }
   ],
   "source": [
    "N = 4\n",
    "L = [3, 4, 2, 1]\n",
    "\n",
    "print(\"ans\", 1)"
   ]
  },
  {
   "cell_type": "markdown",
   "metadata": {},
   "source": [
    "スライスが$O(k)$掛かるので，スライスしなければ$O(N^2 \\log N)$"
   ]
  },
  {
   "cell_type": "code",
   "execution_count": 12,
   "metadata": {},
   "outputs": [
    {
     "name": "stdout",
     "output_type": "stream",
     "text": [
      "1\n"
     ]
    }
   ],
   "source": [
    "from bisect import bisect_left\n",
    "X = sorted(L)\n",
    "ans = 0\n",
    "for i in range(N):\n",
    "    for j in range(i + 1, N):\n",
    "        ub = bisect_left(X, X[i] + X[j])\n",
    "        ans += ub - (j + 1)\n",
    "        \n",
    "print(ans)"
   ]
  },
  {
   "cell_type": "markdown",
   "metadata": {},
   "source": [
    "# E"
   ]
  },
  {
   "cell_type": "code",
   "execution_count": 38,
   "metadata": {},
   "outputs": [
    {
     "name": "stdout",
     "output_type": "stream",
     "text": [
      "0 1\n"
     ]
    }
   ],
   "source": [
    "N, M, L = 3, 2, 5\n",
    "edges = [[1, 2, 3], [2, 3, 3]]\n",
    "Q = 2\n",
    "X = [[3, 2], [1, 3]]\n",
    "\n",
    "print(0, 1)"
   ]
  },
  {
   "cell_type": "code",
   "execution_count": 20,
   "metadata": {},
   "outputs": [
    {
     "name": "stdout",
     "output_type": "stream",
     "text": [
      "-1\n"
     ]
    }
   ],
   "source": [
    "N, M, L = 4, 0, 1\n",
    "edges = []\n",
    "Q = 1\n",
    "X = [[2, 1]]\n",
    "\n",
    "print(-1)"
   ]
  },
  {
   "cell_type": "code",
   "execution_count": 26,
   "metadata": {},
   "outputs": [],
   "source": [
    "N, M, L = 5, 4, 4\n",
    "edges = [[1, 2, 2], [2, 3, 2], [3, 4, 3], [4, 5, 2]]\n",
    "Q = 20\n",
    "X = [[2, 1], [3, 1], [4, 1], [5, 1], [1, 2], \n",
    "     [3, 2], [4, 2], [5, 2], [1, 3], [2, 3],\n",
    "     [4, 3], [5, 3], [1, 4], [2, 4], [3, 4],\n",
    "     [5, 4], [1, 5], [2, 5], [3, 5], [4, 5]]"
   ]
  },
  {
   "cell_type": "code",
   "execution_count": 27,
   "metadata": {},
   "outputs": [],
   "source": [
    "INF = 10 ** 9 + 6\n",
    "graph = [[INF] * N for _ in range(N)]\n",
    "\n",
    "for i in range(N):\n",
    "    graph[i][i] = 0\n",
    "\n",
    "for u, v, l in edges:\n",
    "    graph[u - 1][v - 1] = l\n",
    "    graph[v - 1][u - 1] = l\n",
    "\n",
    "for k in range(N):\n",
    "    for i in range(N):\n",
    "        if graph[i][k] == INF:\n",
    "            continue\n",
    "        for j in range(N):\n",
    "            if graph[k][j] == INF:\n",
    "                continue\n",
    "            graph[i][j] = min(graph[i][j], graph[i][k] + graph[k][j])"
   ]
  },
  {
   "cell_type": "code",
   "execution_count": 22,
   "metadata": {},
   "outputs": [
    {
     "data": {
      "text/plain": [
       "[[0, inf, inf, inf],\n",
       " [inf, 0, inf, inf],\n",
       " [inf, inf, 0, inf],\n",
       " [inf, inf, inf, 0]]"
      ]
     },
     "execution_count": 22,
     "metadata": {},
     "output_type": "execute_result"
    }
   ],
   "source": [
    "graph"
   ]
  },
  {
   "cell_type": "code",
   "execution_count": 28,
   "metadata": {},
   "outputs": [],
   "source": [
    "cnt = [[INF] * N for _ in range(N)]\n",
    "\n",
    "for i in range(N):\n",
    "    cnt[i][i] = 0\n",
    "\n",
    "for i in range(N):\n",
    "    for j in range(N):\n",
    "        if i == j:\n",
    "            continue\n",
    "        if graph[i][j] <= L:\n",
    "            cnt[i][j] = 1\n",
    "            cnt[j][i] = 1\n",
    "\n",
    "for k in range(N):\n",
    "    for i in range(N):\n",
    "        if cnt[i][k] == INF:\n",
    "            continue\n",
    "        for j in range(N):\n",
    "            if cnt[k][j] == INF:\n",
    "                continue\n",
    "            cnt[i][j] = min(cnt[i][j], cnt[i][k] + cnt[k][j])"
   ]
  },
  {
   "cell_type": "code",
   "execution_count": 24,
   "metadata": {},
   "outputs": [
    {
     "data": {
      "text/plain": [
       "[[0, inf, inf, inf],\n",
       " [inf, 0, inf, inf],\n",
       " [inf, inf, 0, inf],\n",
       " [inf, inf, inf, 0]]"
      ]
     },
     "execution_count": 24,
     "metadata": {},
     "output_type": "execute_result"
    }
   ],
   "source": [
    "cnt"
   ]
  },
  {
   "cell_type": "code",
   "execution_count": 34,
   "metadata": {},
   "outputs": [
    {
     "name": "stdout",
     "output_type": "stream",
     "text": [
      "0\n",
      "0\n",
      "1\n",
      "2\n",
      "0\n",
      "0\n",
      "1\n",
      "2\n",
      "0\n",
      "0\n",
      "0\n",
      "1\n",
      "1\n",
      "1\n",
      "0\n",
      "0\n",
      "2\n",
      "2\n",
      "1\n",
      "0\n"
     ]
    }
   ],
   "source": [
    "for s, t in X:\n",
    "    if cnt[s - 1][t - 1] == INF:\n",
    "        print(-1)\n",
    "    else:\n",
    "        print(cnt[s - 1][t - 1] - 1)"
   ]
  },
  {
   "cell_type": "code",
   "execution_count": null,
   "metadata": {},
   "outputs": [],
   "source": []
  }
 ],
 "metadata": {
  "kernelspec": {
   "display_name": "Python 3",
   "language": "python",
   "name": "python3"
  },
  "language_info": {
   "codemirror_mode": {
    "name": "ipython",
    "version": 3
   },
   "file_extension": ".py",
   "mimetype": "text/x-python",
   "name": "python",
   "nbconvert_exporter": "python",
   "pygments_lexer": "ipython3",
   "version": "3.7.3"
  }
 },
 "nbformat": 4,
 "nbformat_minor": 4
}
