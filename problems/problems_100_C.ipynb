{
 "cells": [
  {
   "cell_type": "markdown",
   "metadata": {},
   "source": [
    "# 109 - C\n",
    "\n",
    "https://atcoder.jp/contests/abc109/tasks/abc109_c\n",
    "\n",
    "N, *X = map(int, open(0).read().split())"
   ]
  },
  {
   "cell_type": "code",
   "execution_count": 20,
   "metadata": {},
   "outputs": [],
   "source": [
    "from math import gcd\n",
    "from functools import reduce\n",
    "\n",
    "def solve():\n",
    "    y = [abs(x[i] - X) for i in range(N)]\n",
    "    print(reduce(gcd, y))"
   ]
  },
  {
   "cell_type": "code",
   "execution_count": 21,
   "metadata": {},
   "outputs": [
    {
     "name": "stdout",
     "output_type": "stream",
     "text": [
      "2\n"
     ]
    }
   ],
   "source": [
    "N = 3\n",
    "X = 3\n",
    "x = [1, 7, 11]\n",
    "solve()"
   ]
  },
  {
   "cell_type": "code",
   "execution_count": 22,
   "metadata": {},
   "outputs": [
    {
     "name": "stdout",
     "output_type": "stream",
     "text": [
      "24\n"
     ]
    }
   ],
   "source": [
    "N = 3\n",
    "X = 81\n",
    "x = [33, 105, 57]\n",
    "solve()"
   ]
  },
  {
   "cell_type": "code",
   "execution_count": 19,
   "metadata": {},
   "outputs": [
    {
     "data": {
      "text/plain": [
       "24"
      ]
     },
     "execution_count": 19,
     "metadata": {},
     "output_type": "execute_result"
    }
   ],
   "source": [
    "X.sort()\n",
    "y = [X[i + 1] - X[i] for i in range(N)]\n",
    "reduce(gcd, y)"
   ]
  },
  {
   "cell_type": "markdown",
   "metadata": {},
   "source": [
    "# 108 - C\n",
    "\n",
    "https://atcoder.jp/contests/abc108/tasks/arc102_a\n",
    "\n",
    "N, K = map(int, input().split())"
   ]
  },
  {
   "cell_type": "code",
   "execution_count": 41,
   "metadata": {},
   "outputs": [],
   "source": [
    "N, K = 3, 2"
   ]
  },
  {
   "cell_type": "markdown",
   "metadata": {},
   "source": [
    "この計算量は O(N * 3)"
   ]
  },
  {
   "cell_type": "code",
   "execution_count": 45,
   "metadata": {},
   "outputs": [
    {
     "name": "stdout",
     "output_type": "stream",
     "text": [
      "27\n"
     ]
    }
   ],
   "source": [
    "from itertools import product\n",
    "x = list(product(range(1, N + 1), repeat=3))\n",
    "\n",
    "ans = 0\n",
    "for q in x:\n",
    "    q.append(q[0])\n",
    "    if sum(q) * 2 % K == 0:\n",
    "        ans += 1\n",
    "    \n",
    "print(ans)"
   ]
  },
  {
   "cell_type": "markdown",
   "metadata": {},
   "source": [
    "#### 式変形から，数えるべきものが分かる"
   ]
  },
  {
   "cell_type": "code",
   "execution_count": 58,
   "metadata": {},
   "outputs": [
    {
     "name": "stdout",
     "output_type": "stream",
     "text": [
      "ans: 27\n",
      "27\n"
     ]
    }
   ],
   "source": [
    "N, K = 31415, 9265\n",
    "print('ans: 27')\n",
    "\n",
    "if K % 2 == 1:\n",
    "    print(sum(1 for n in range(1, N + 1) if n % K == 0) ** 3)\n",
    "else:\n",
    "    print(sum(1 for n in range(1, N + 1) if (n % K == 0) or (n % K == K // 2)) ** 3)"
   ]
  },
  {
   "cell_type": "code",
   "execution_count": 71,
   "metadata": {},
   "outputs": [
    {
     "name": "stdout",
     "output_type": "stream",
     "text": [
      "ans: 114191\n",
      "114191\n"
     ]
    }
   ],
   "source": [
    "N, K = 35897, 932\n",
    "print('ans: 114191')\n",
    "\n",
    "if K % 2 == 1:\n",
    "    print(sum(1 for n in range(1, N + 1) if n % K == 0) ** 3)\n",
    "else:\n",
    "    print(sum(1 for n in range(1, N + 1) if n % K == 0) ** 3 \\\n",
    "              + sum(1 for n in range(1, N + 1) if n % K == K // 2) ** 3)"
   ]
  },
  {
   "cell_type": "markdown",
   "metadata": {},
   "source": [
    "#### Kで割ったあまりが0ということは，Kの倍数ということ"
   ]
  },
  {
   "cell_type": "code",
   "execution_count": 73,
   "metadata": {},
   "outputs": [
    {
     "name": "stdout",
     "output_type": "stream",
     "text": [
      "ans: 27\n",
      "27\n"
     ]
    }
   ],
   "source": [
    "N, K = 31415, 9265\n",
    "print('ans: 27')\n",
    "\n",
    "ans = (N // K) ** 3\n",
    "ans += ((N + K // 2) // K) ** 3 if K % 2 == 0 else 0\n",
    "print(ans)"
   ]
  },
  {
   "cell_type": "code",
   "execution_count": 76,
   "metadata": {},
   "outputs": [
    {
     "name": "stdout",
     "output_type": "stream",
     "text": [
      "ans: 114191\n",
      "114191\n"
     ]
    }
   ],
   "source": [
    "N, K = 35897, 932\n",
    "print('ans: 114191')\n",
    "\n",
    "ans = (N // K) ** 3\n",
    "ans += ((N + K // 2) // K) ** 3 if K % 2 == 0 else 0\n",
    "print(ans)"
   ]
  },
  {
   "cell_type": "code",
   "execution_count": null,
   "metadata": {},
   "outputs": [],
   "source": []
  },
  {
   "cell_type": "code",
   "execution_count": null,
   "metadata": {},
   "outputs": [],
   "source": []
  },
  {
   "cell_type": "code",
   "execution_count": null,
   "metadata": {},
   "outputs": [],
   "source": []
  },
  {
   "cell_type": "code",
   "execution_count": null,
   "metadata": {},
   "outputs": [],
   "source": []
  },
  {
   "cell_type": "code",
   "execution_count": null,
   "metadata": {},
   "outputs": [],
   "source": []
  }
 ],
 "metadata": {
  "kernelspec": {
   "display_name": "Python 3",
   "language": "python",
   "name": "python3"
  },
  "language_info": {
   "codemirror_mode": {
    "name": "ipython",
    "version": 3
   },
   "file_extension": ".py",
   "mimetype": "text/x-python",
   "name": "python",
   "nbconvert_exporter": "python",
   "pygments_lexer": "ipython3",
   "version": "3.7.3"
  }
 },
 "nbformat": 4,
 "nbformat_minor": 2
}
