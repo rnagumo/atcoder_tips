{
 "cells": [
  {
   "cell_type": "markdown",
   "metadata": {},
   "source": [
    "# XOR"
   ]
  },
  {
   "cell_type": "markdown",
   "metadata": {},
   "source": [
    "### 任意の偶数nについて $n \\oplus (n+1) = 1$"
   ]
  },
  {
   "cell_type": "code",
   "execution_count": 7,
   "metadata": {},
   "outputs": [
    {
     "data": {
      "text/plain": [
       "('0b110', '0b111', 1)"
      ]
     },
     "execution_count": 7,
     "metadata": {},
     "output_type": "execute_result"
    }
   ],
   "source": [
    "bin(6), bin(7), 6^7"
   ]
  },
  {
   "cell_type": "markdown",
   "metadata": {},
   "source": [
    "### 任意の非負整数について $n \\oplus n = 0$\n",
    "\n",
    "https://atcoder.jp/contests/abc121/tasks/abc121_d"
   ]
  },
  {
   "cell_type": "code",
   "execution_count": 8,
   "metadata": {},
   "outputs": [],
   "source": [
    "def func(n):\n",
    "    # return 1^2^ ... ^n\n",
    "    ret = (n + 1) // 2 % 2\n",
    "    if n % 2 == 0:\n",
    "        ret ^= n\n",
    "    return ret"
   ]
  },
  {
   "cell_type": "markdown",
   "metadata": {},
   "source": [
    "A ^...^ B = (0 ^...^ A-1) ^ (0 ^...^ B)"
   ]
  },
  {
   "cell_type": "code",
   "execution_count": 11,
   "metadata": {},
   "outputs": [
    {
     "name": "stdout",
     "output_type": "stream",
     "text": [
      "435\n"
     ]
    }
   ],
   "source": [
    "A, B = 123, 456\n",
    "print(func(A - 1) ^ func(B))"
   ]
  },
  {
   "cell_type": "markdown",
   "metadata": {},
   "source": [
    "また，その事実を用いると，$a \\oplus b = c \\Rightarrow a \\oplus b \\oplus c = 0$\n",
    "\n",
    "https://atcoder.jp/contests/agc035/tasks/agc035_a"
   ]
  },
  {
   "cell_type": "code",
   "execution_count": 24,
   "metadata": {},
   "outputs": [
    {
     "data": {
      "text/plain": [
       "(2, 0)"
      ]
     },
     "execution_count": 24,
     "metadata": {},
     "output_type": "execute_result"
    }
   ],
   "source": [
    "1^3, 1^3^2"
   ]
  },
  {
   "cell_type": "markdown",
   "metadata": {},
   "source": [
    "### $0 \\sim 2^x - 1$までの排他的論理和は0"
   ]
  },
  {
   "cell_type": "code",
   "execution_count": 13,
   "metadata": {},
   "outputs": [
    {
     "name": "stdout",
     "output_type": "stream",
     "text": [
      "0000\n",
      "0001\n",
      "0010\n",
      "0011\n",
      "0100\n",
      "0101\n",
      "0110\n",
      "0111\n",
      "1000\n",
      "1001\n",
      "1010\n",
      "1011\n",
      "1100\n",
      "1101\n",
      "1110\n",
      "1111\n",
      "ans 0\n"
     ]
    }
   ],
   "source": [
    "v = 0\n",
    "for i in range(2 ** 4):\n",
    "    print('{:0>4b}'.format(i))\n",
    "    v ^= i\n",
    "print('ans', v)"
   ]
  },
  {
   "cell_type": "markdown",
   "metadata": {},
   "source": [
    "# ビット反転"
   ]
  },
  {
   "cell_type": "code",
   "execution_count": 1,
   "metadata": {},
   "outputs": [
    {
     "name": "stdout",
     "output_type": "stream",
     "text": [
      "-10\n",
      "0b1001 -0b1010\n"
     ]
    }
   ],
   "source": [
    "x = 9\n",
    "print(~x)  # = -(x + 1)\n",
    "print(bin(x), bin(~x))"
   ]
  },
  {
   "cell_type": "markdown",
   "metadata": {},
   "source": [
    "# ビットシフト"
   ]
  },
  {
   "cell_type": "code",
   "execution_count": 26,
   "metadata": {},
   "outputs": [
    {
     "name": "stdout",
     "output_type": "stream",
     "text": [
      "0b1001\n",
      "18\n",
      "0b10010\n"
     ]
    }
   ],
   "source": [
    "x = 9\n",
    "print(bin(x))\n",
    "print(bin(x << 1))\n",
    "print(x << 1)"
   ]
  },
  {
   "cell_type": "code",
   "execution_count": 27,
   "metadata": {},
   "outputs": [
    {
     "name": "stdout",
     "output_type": "stream",
     "text": [
      "0b1001\n",
      "0b100\n",
      "4\n"
     ]
    }
   ],
   "source": [
    "print(bin(x))\n",
    "print(bin(x >> 1))\n",
    "print(x >> 1)"
   ]
  },
  {
   "cell_type": "markdown",
   "metadata": {},
   "source": [
    "#### 2の冪乗を求めるビットシフト"
   ]
  },
  {
   "cell_type": "code",
   "execution_count": 4,
   "metadata": {},
   "outputs": [
    {
     "name": "stdout",
     "output_type": "stream",
     "text": [
      "2 2\n",
      "4 4\n",
      "8 8\n",
      "16 16\n",
      "32 32\n",
      "64 64\n",
      "128 128\n",
      "256 256\n",
      "512 512\n"
     ]
    }
   ],
   "source": [
    "for i in range(1, 10):\n",
    "    print(1 << i, 2 ** i)"
   ]
  },
  {
   "cell_type": "markdown",
   "metadata": {},
   "source": [
    "# ビット探索\n",
    "\n",
    "ビット演算をした後に，1との論理積をとる．  \n",
    "これでfor-loopを回すと，各位の0, 1を取り出せる．"
   ]
  },
  {
   "cell_type": "code",
   "execution_count": 5,
   "metadata": {},
   "outputs": [
    {
     "name": "stdout",
     "output_type": "stream",
     "text": [
      "1+2+2+2\n",
      "1-2+2+2\n",
      "1+2-2+2\n",
      "1-2-2+2\n",
      "1+2+2-2\n",
      "1-2+2-2\n",
      "1+2-2-2\n"
     ]
    }
   ],
   "source": [
    "s = '1222'\n",
    "for i in range(7):\n",
    "    y = ''.join([s[k] + '+-'[i >> k & 1] for k in range(3)] + [s[-1]])\n",
    "    print(y)"
   ]
  },
  {
   "cell_type": "markdown",
   "metadata": {},
   "source": [
    "ビットの立っている桁数のみを抜き出す．"
   ]
  },
  {
   "cell_type": "code",
   "execution_count": 36,
   "metadata": {},
   "outputs": [
    {
     "name": "stdout",
     "output_type": "stream",
     "text": [
      "0b10010\n",
      "0 1 0\n",
      "1 2 2\n",
      "2 4 0\n",
      "3 8 0\n",
      "4 16 16\n",
      "5 32 0\n",
      "6 64 0\n",
      "7 128 0\n",
      "8 256 0\n",
      "9 512 0\n"
     ]
    }
   ],
   "source": [
    "K = 18\n",
    "print(bin(K))\n",
    "for i in range(10):\n",
    "    print(i, 1 << i, K & (1 << i))"
   ]
  },
  {
   "cell_type": "markdown",
   "metadata": {},
   "source": [
    "こちらも同様だが，ビットシフトを加えることで0/1に変換している．"
   ]
  },
  {
   "cell_type": "code",
   "execution_count": 35,
   "metadata": {},
   "outputs": [
    {
     "name": "stdout",
     "output_type": "stream",
     "text": [
      "0b10010\n",
      "0 0\n",
      "1 1\n",
      "2 0\n",
      "3 0\n",
      "4 1\n",
      "5 0\n",
      "6 0\n",
      "7 0\n",
      "8 0\n",
      "9 0\n"
     ]
    }
   ],
   "source": [
    "K = 18\n",
    "print(bin(K))\n",
    "for i in range(10):\n",
    "    print(i, (K & (1 << i)) >> i)"
   ]
  },
  {
   "cell_type": "code",
   "execution_count": null,
   "metadata": {},
   "outputs": [],
   "source": []
  },
  {
   "cell_type": "code",
   "execution_count": null,
   "metadata": {},
   "outputs": [],
   "source": []
  },
  {
   "cell_type": "code",
   "execution_count": null,
   "metadata": {},
   "outputs": [],
   "source": []
  },
  {
   "cell_type": "code",
   "execution_count": null,
   "metadata": {},
   "outputs": [],
   "source": []
  }
 ],
 "metadata": {
  "kernelspec": {
   "display_name": "Python 3",
   "language": "python",
   "name": "python3"
  },
  "language_info": {
   "codemirror_mode": {
    "name": "ipython",
    "version": 3
   },
   "file_extension": ".py",
   "mimetype": "text/x-python",
   "name": "python",
   "nbconvert_exporter": "python",
   "pygments_lexer": "ipython3",
   "version": "3.7.3"
  }
 },
 "nbformat": 4,
 "nbformat_minor": 2
}
