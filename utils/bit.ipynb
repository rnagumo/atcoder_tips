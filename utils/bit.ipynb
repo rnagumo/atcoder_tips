{
 "cells": [
  {
   "cell_type": "markdown",
   "metadata": {},
   "source": [
    "# XOR"
   ]
  },
  {
   "cell_type": "markdown",
   "metadata": {},
   "source": [
    "### 任意の偶数nについて $n \\oplus (n+1) = 1$"
   ]
  },
  {
   "cell_type": "code",
   "execution_count": 7,
   "metadata": {},
   "outputs": [
    {
     "data": {
      "text/plain": [
       "('0b110', '0b111', 1)"
      ]
     },
     "execution_count": 7,
     "metadata": {},
     "output_type": "execute_result"
    }
   ],
   "source": [
    "bin(6), bin(7), 6^7"
   ]
  },
  {
   "cell_type": "markdown",
   "metadata": {},
   "source": [
    "### 任意の非負整数について $n \\oplus n = 0$\n",
    "\n",
    "この事実を用いると，累積XORの差分が計算できる．\n",
    "\n",
    "`A ^...^ B = (0 ^...^ A-1) ^ (0 ^...^ B)`\n",
    "\n",
    "https://atcoder.jp/contests/abc121/tasks/abc121_d"
   ]
  },
  {
   "cell_type": "code",
   "execution_count": 8,
   "metadata": {},
   "outputs": [],
   "source": [
    "def func(n):\n",
    "    # return 1^2^ ... ^n\n",
    "    ret = (n + 1) // 2 % 2\n",
    "    if n % 2 == 0:\n",
    "        ret ^= n\n",
    "    return ret"
   ]
  },
  {
   "cell_type": "code",
   "execution_count": 11,
   "metadata": {},
   "outputs": [
    {
     "name": "stdout",
     "output_type": "stream",
     "text": [
      "435\n"
     ]
    }
   ],
   "source": [
    "A, B = 123, 456\n",
    "print(func(A - 1) ^ func(B))"
   ]
  },
  {
   "cell_type": "markdown",
   "metadata": {},
   "source": [
    "また，その事実を用いると，$a \\oplus b = c \\Rightarrow a \\oplus b \\oplus c = 0$\n",
    "\n",
    "https://atcoder.jp/contests/agc035/tasks/agc035_a"
   ]
  },
  {
   "cell_type": "code",
   "execution_count": 24,
   "metadata": {},
   "outputs": [
    {
     "data": {
      "text/plain": [
       "(2, 0)"
      ]
     },
     "execution_count": 24,
     "metadata": {},
     "output_type": "execute_result"
    }
   ],
   "source": [
    "1^3, 1^3^2"
   ]
  },
  {
   "cell_type": "markdown",
   "metadata": {},
   "source": [
    "### $0 \\sim 2^x - 1$までの排他的論理和は0"
   ]
  },
  {
   "cell_type": "code",
   "execution_count": 1,
   "metadata": {},
   "outputs": [
    {
     "name": "stdout",
     "output_type": "stream",
     "text": [
      "0000\n",
      "0001\n",
      "0010\n",
      "0011\n",
      "0100\n",
      "0101\n",
      "0110\n",
      "0111\n",
      "ans 0\n"
     ]
    }
   ],
   "source": [
    "v = 0\n",
    "for i in range(2 ** 3):\n",
    "    print('{:0>4b}'.format(i))\n",
    "    v ^= i\n",
    "print('ans', v)"
   ]
  },
  {
   "cell_type": "markdown",
   "metadata": {},
   "source": [
    "# Xor Sum 1\n",
    "\n",
    "https://atcoder.jp/contests/abc050/tasks/arc066_b"
   ]
  },
  {
   "cell_type": "code",
   "execution_count": null,
   "metadata": {},
   "outputs": [],
   "source": []
  },
  {
   "cell_type": "markdown",
   "metadata": {},
   "source": [
    "# Xor Sum 2\n",
    "\n",
    "https://atcoder.jp/contests/abc098/tasks/arc098_b"
   ]
  },
  {
   "cell_type": "code",
   "execution_count": null,
   "metadata": {},
   "outputs": [],
   "source": []
  },
  {
   "cell_type": "markdown",
   "metadata": {},
   "source": [
    "# Xor Sum 3\n",
    "\n",
    "https://atcoder.jp/contests/abc141/tasks/abc141_f\n",
    "\n",
    "解法  \n",
    "http://drken1215.hatenablog.com/entry/2019/09/16/213700"
   ]
  },
  {
   "cell_type": "code",
   "execution_count": null,
   "metadata": {},
   "outputs": [],
   "source": []
  },
  {
   "cell_type": "markdown",
   "metadata": {},
   "source": [
    "# Xor Sum 4\n",
    "\n",
    "各桁はお互いに干渉しない．  \n",
    "各位で$A_i \\oplus A_j = 0/1$の個数を求めて，もう一度十進数に直して和を取る．\n",
    "\n",
    "https://atcoder.jp/contests/abc147/tasks/abc147_d"
   ]
  },
  {
   "cell_type": "code",
   "execution_count": 10,
   "metadata": {},
   "outputs": [
    {
     "name": "stdout",
     "output_type": "stream",
     "text": [
      "6\n"
     ]
    }
   ],
   "source": [
    "N = 3\n",
    "A = [1, 2, 3]\n",
    "\n",
    "print(6)"
   ]
  },
  {
   "cell_type": "code",
   "execution_count": 11,
   "metadata": {},
   "outputs": [
    {
     "name": "stdout",
     "output_type": "stream",
     "text": [
      "6\n"
     ]
    }
   ],
   "source": [
    "MOD = 10 ** 9 + 7\n",
    "ans = 0\n",
    "for bit in range(60):\n",
    "    ctr = [0, 0]\n",
    "    for i in range(N):\n",
    "        ctr[A[i] >> bit & 1] += 1\n",
    "    ans += (1 << bit) * (ctr[0] * ctr[1])\n",
    "    ans %= MOD\n",
    "\n",
    "print(ans)"
   ]
  },
  {
   "cell_type": "markdown",
   "metadata": {},
   "source": [
    "# ビット反転"
   ]
  },
  {
   "cell_type": "code",
   "execution_count": 1,
   "metadata": {},
   "outputs": [
    {
     "name": "stdout",
     "output_type": "stream",
     "text": [
      "-10\n",
      "0b1001 -0b1010\n"
     ]
    }
   ],
   "source": [
    "x = 9\n",
    "print(~x)  # = -(x + 1)\n",
    "print(bin(x), bin(~x))"
   ]
  },
  {
   "cell_type": "markdown",
   "metadata": {},
   "source": [
    "# ビットシフト"
   ]
  },
  {
   "cell_type": "markdown",
   "metadata": {},
   "source": [
    "#### 左シフト\n",
    "\n",
    "2倍，4倍となる"
   ]
  },
  {
   "cell_type": "code",
   "execution_count": 26,
   "metadata": {},
   "outputs": [
    {
     "name": "stdout",
     "output_type": "stream",
     "text": [
      "0b1001\n",
      "18\n",
      "0b10010\n"
     ]
    }
   ],
   "source": [
    "x = 9\n",
    "print(bin(x))\n",
    "print(bin(x << 1))\n",
    "print(x << 1)"
   ]
  },
  {
   "cell_type": "code",
   "execution_count": 4,
   "metadata": {},
   "outputs": [
    {
     "data": {
      "text/plain": [
       "(4, 8, 16)"
      ]
     },
     "execution_count": 4,
     "metadata": {},
     "output_type": "execute_result"
    }
   ],
   "source": [
    "2 << 1, 2 << 2, 2 << 3"
   ]
  },
  {
   "cell_type": "markdown",
   "metadata": {},
   "source": [
    "#### 右シフト\n",
    "\n",
    "1/2倍，1/4倍となる"
   ]
  },
  {
   "cell_type": "code",
   "execution_count": 27,
   "metadata": {},
   "outputs": [
    {
     "name": "stdout",
     "output_type": "stream",
     "text": [
      "0b1001\n",
      "0b100\n",
      "4\n"
     ]
    }
   ],
   "source": [
    "print(bin(x))\n",
    "print(bin(x >> 1))\n",
    "print(x >> 1)"
   ]
  },
  {
   "cell_type": "code",
   "execution_count": 5,
   "metadata": {},
   "outputs": [
    {
     "data": {
      "text/plain": [
       "(4, 2, 1)"
      ]
     },
     "execution_count": 5,
     "metadata": {},
     "output_type": "execute_result"
    }
   ],
   "source": [
    "8 >> 1, 8 >> 2, 8 >> 3"
   ]
  },
  {
   "cell_type": "markdown",
   "metadata": {},
   "source": [
    "#### 2の冪乗を求めるビットシフト"
   ]
  },
  {
   "cell_type": "code",
   "execution_count": 9,
   "metadata": {},
   "outputs": [
    {
     "data": {
      "text/plain": [
       "[1, 2, 4, 8, 16, 32, 64, 128, 256, 512, 1024]"
      ]
     },
     "execution_count": 9,
     "metadata": {},
     "output_type": "execute_result"
    }
   ],
   "source": [
    "list(1 << i for i in range(11))"
   ]
  },
  {
   "cell_type": "markdown",
   "metadata": {},
   "source": [
    "# ビット探索\n",
    "\n",
    "ビット演算をした後に，1との論理積をとる．  \n",
    "これでfor-loopを回すと，各位の0, 1を取り出せる．"
   ]
  },
  {
   "cell_type": "code",
   "execution_count": 5,
   "metadata": {},
   "outputs": [
    {
     "name": "stdout",
     "output_type": "stream",
     "text": [
      "1+2+2+2\n",
      "1-2+2+2\n",
      "1+2-2+2\n",
      "1-2-2+2\n",
      "1+2+2-2\n",
      "1-2+2-2\n",
      "1+2-2-2\n"
     ]
    }
   ],
   "source": [
    "s = '1222'\n",
    "for i in range(7):\n",
    "    y = ''.join([s[k] + '+-'[i >> k & 1] for k in range(3)] + [s[-1]])\n",
    "    print(y)"
   ]
  },
  {
   "cell_type": "markdown",
   "metadata": {},
   "source": [
    "ビットの立っている桁数のみを抜き出す．"
   ]
  },
  {
   "cell_type": "code",
   "execution_count": 36,
   "metadata": {},
   "outputs": [
    {
     "name": "stdout",
     "output_type": "stream",
     "text": [
      "0b10010\n",
      "0 1 0\n",
      "1 2 2\n",
      "2 4 0\n",
      "3 8 0\n",
      "4 16 16\n",
      "5 32 0\n",
      "6 64 0\n",
      "7 128 0\n",
      "8 256 0\n",
      "9 512 0\n"
     ]
    }
   ],
   "source": [
    "K = 18\n",
    "print(bin(K))\n",
    "for i in range(10):\n",
    "    print(i, 1 << i, K & (1 << i))"
   ]
  },
  {
   "cell_type": "markdown",
   "metadata": {},
   "source": [
    "こちらも同様だが，ビットシフトを加えることで0/1に変換している．"
   ]
  },
  {
   "cell_type": "code",
   "execution_count": 35,
   "metadata": {},
   "outputs": [
    {
     "name": "stdout",
     "output_type": "stream",
     "text": [
      "0b10010\n",
      "0 0\n",
      "1 1\n",
      "2 0\n",
      "3 0\n",
      "4 1\n",
      "5 0\n",
      "6 0\n",
      "7 0\n",
      "8 0\n",
      "9 0\n"
     ]
    }
   ],
   "source": [
    "K = 18\n",
    "print(bin(K))\n",
    "for i in range(10):\n",
    "    print(i, (K & (1 << i)) >> i)"
   ]
  },
  {
   "cell_type": "markdown",
   "metadata": {},
   "source": [
    "## ビット探索の別の問題\n",
    "\n",
    "制限$N \\leqq 15$において，全状態はたかだか$2^N$通り．\n",
    "\n",
    "https://atcoder.jp/contests/abc147/tasks/abc147_c"
   ]
  },
  {
   "cell_type": "code",
   "execution_count": 5,
   "metadata": {},
   "outputs": [
    {
     "name": "stdout",
     "output_type": "stream",
     "text": [
      "2\n"
     ]
    }
   ],
   "source": [
    "N = 3\n",
    "\n",
    "A = [1, 1, 1]\n",
    "XY = [[[2, 1]], [[1, 1]], [[2, 0]]]\n",
    "\n",
    "print(2)"
   ]
  },
  {
   "cell_type": "code",
   "execution_count": 8,
   "metadata": {},
   "outputs": [
    {
     "name": "stdout",
     "output_type": "stream",
     "text": [
      "0\n"
     ]
    }
   ],
   "source": [
    "def counter(x):\n",
    "    if x == 0:\n",
    "        return 0\n",
    "    else:\n",
    "        return counter(x >> 1) + (x & 1)\n",
    "\n",
    "ans = 0\n",
    "for bits in range(1, 1 << N):\n",
    "    ok = True\n",
    "    for i in range(N):\n",
    "        if not (bits & (1 << i)):\n",
    "            continue\n",
    "            \n",
    "        for x, y in XY[i]:\n",
    "            if ((bits >> (x - 1)) & 1) ^ y:\n",
    "                ok = False\n",
    "                \n",
    "    if ok:\n",
    "        ans = max(ans, counter(bits))\n",
    "            \n",
    "print(ans)"
   ]
  },
  {
   "cell_type": "markdown",
   "metadata": {},
   "source": [
    "# bitDP\n",
    "\n",
    "https://atcoder.jp/contests/abc147/tasks/abc147_e\n",
    "\n",
    "$DP[i][j][k]$＝マス$(i, j)$までの経路の偏りが$k$になることがあるか？"
   ]
  },
  {
   "cell_type": "code",
   "execution_count": 46,
   "metadata": {},
   "outputs": [
    {
     "name": "stdout",
     "output_type": "stream",
     "text": [
      "0\n"
     ]
    }
   ],
   "source": [
    "H, W = 2, 2\n",
    "A = [[1, 2], [3, 4]]\n",
    "B = [[3, 4], [2, 1]]\n",
    "\n",
    "print(0)"
   ]
  },
  {
   "cell_type": "code",
   "execution_count": null,
   "metadata": {},
   "outputs": [],
   "source": []
  },
  {
   "cell_type": "code",
   "execution_count": null,
   "metadata": {},
   "outputs": [],
   "source": []
  },
  {
   "cell_type": "code",
   "execution_count": null,
   "metadata": {},
   "outputs": [],
   "source": []
  }
 ],
 "metadata": {
  "kernelspec": {
   "display_name": "Python 3",
   "language": "python",
   "name": "python3"
  },
  "language_info": {
   "codemirror_mode": {
    "name": "ipython",
    "version": 3
   },
   "file_extension": ".py",
   "mimetype": "text/x-python",
   "name": "python",
   "nbconvert_exporter": "python",
   "pygments_lexer": "ipython3",
   "version": "3.7.7"
  }
 },
 "nbformat": 4,
 "nbformat_minor": 4
}
