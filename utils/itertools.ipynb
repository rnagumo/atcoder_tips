{
 "cells": [
  {
   "cell_type": "markdown",
   "metadata": {},
   "source": [
    "# Library\n",
    "\n",
    "https://qiita.com/Kentaro_okumura/items/5b95b767a2e691cd5482"
   ]
  },
  {
   "cell_type": "markdown",
   "metadata": {},
   "source": [
    "# 1. itertools"
   ]
  },
  {
   "cell_type": "code",
   "execution_count": 3,
   "metadata": {},
   "outputs": [
    {
     "name": "stdout",
     "output_type": "stream",
     "text": [
      "\n",
      "--- product ---\n",
      "('a', 'a')\n",
      "('a', 'b')\n",
      "('a', 'c')\n",
      "('b', 'a')\n",
      "('b', 'b')\n",
      "('b', 'c')\n",
      "('c', 'a')\n",
      "('c', 'b')\n",
      "('c', 'c')\n",
      "\n",
      "--- permutations ---\n",
      "('a', 'b')\n",
      "('a', 'c')\n",
      "('b', 'a')\n",
      "('b', 'c')\n",
      "('c', 'a')\n",
      "('c', 'b')\n",
      "\n",
      "--- combinations ---\n",
      "('a', 'b')\n",
      "('a', 'c')\n",
      "('b', 'c')\n",
      "\n",
      "--- combinations_with_replacement ---\n",
      "('a', 'a')\n",
      "('a', 'b')\n",
      "('a', 'c')\n",
      "('b', 'b')\n",
      "('b', 'c')\n",
      "('c', 'c')\n"
     ]
    }
   ],
   "source": [
    "from itertools import (product, permutations, combinations, \n",
    "                       combinations_with_replacement)\n",
    "\n",
    "print('\\n--- product ---')\n",
    "for v in product('abc', repeat=2):\n",
    "    print(v)\n",
    "\n",
    "print('\\n--- permutations ---')\n",
    "for v in permutations('abc', 2):\n",
    "    print(v)\n",
    "    \n",
    "print('\\n--- combinations ---')\n",
    "for v in combinations('abc', 2):\n",
    "    print(v)\n",
    "\n",
    "print('\\n--- combinations_with_replacement ---')\n",
    "for v in combinations_with_replacement('abc', 2):\n",
    "    print(v)\n"
   ]
  },
  {
   "cell_type": "code",
   "execution_count": 4,
   "metadata": {},
   "outputs": [
    {
     "name": "stdout",
     "output_type": "stream",
     "text": [
      "\n",
      "--- product ---\n",
      "('a', 'a', 'a')\n",
      "('a', 'a', 'b')\n",
      "('a', 'a', 'c')\n",
      "('a', 'b', 'a')\n",
      "('a', 'b', 'b')\n",
      "('a', 'b', 'c')\n",
      "('a', 'c', 'a')\n",
      "('a', 'c', 'b')\n",
      "('a', 'c', 'c')\n",
      "('b', 'a', 'a')\n",
      "('b', 'a', 'b')\n",
      "('b', 'a', 'c')\n",
      "('b', 'b', 'a')\n",
      "('b', 'b', 'b')\n",
      "('b', 'b', 'c')\n",
      "('b', 'c', 'a')\n",
      "('b', 'c', 'b')\n",
      "('b', 'c', 'c')\n",
      "('c', 'a', 'a')\n",
      "('c', 'a', 'b')\n",
      "('c', 'a', 'c')\n",
      "('c', 'b', 'a')\n",
      "('c', 'b', 'b')\n",
      "('c', 'b', 'c')\n",
      "('c', 'c', 'a')\n",
      "('c', 'c', 'b')\n",
      "('c', 'c', 'c')\n",
      "\n",
      "--- permutations ---\n",
      "('a', 'b', 'c')\n",
      "('a', 'c', 'b')\n",
      "('b', 'a', 'c')\n",
      "('b', 'c', 'a')\n",
      "('c', 'a', 'b')\n",
      "('c', 'b', 'a')\n",
      "\n",
      "--- combinations ---\n",
      "('a', 'b', 'c')\n",
      "\n",
      "--- combinations_with_replacement ---\n",
      "('a', 'a', 'a')\n",
      "('a', 'a', 'b')\n",
      "('a', 'a', 'c')\n",
      "('a', 'b', 'b')\n",
      "('a', 'b', 'c')\n",
      "('a', 'c', 'c')\n",
      "('b', 'b', 'b')\n",
      "('b', 'b', 'c')\n",
      "('b', 'c', 'c')\n",
      "('c', 'c', 'c')\n"
     ]
    }
   ],
   "source": [
    "print('\\n--- product ---')\n",
    "for v in product('abc', repeat=3):\n",
    "    print(v)\n",
    "\n",
    "print('\\n--- permutations ---')\n",
    "for v in permutations('abc', 3):\n",
    "    print(v)\n",
    "    \n",
    "print('\\n--- combinations ---')\n",
    "for v in combinations('abc', 3):\n",
    "    print(v)\n",
    "\n",
    "print('\\n--- combinations_with_replacement ---')\n",
    "for v in combinations_with_replacement('abc', 3):\n",
    "    print(v)\n"
   ]
  }
 ],
 "metadata": {
  "kernelspec": {
   "display_name": "Python 3",
   "language": "python",
   "name": "python3"
  },
  "language_info": {
   "codemirror_mode": {
    "name": "ipython",
    "version": 3
   },
   "file_extension": ".py",
   "mimetype": "text/x-python",
   "name": "python",
   "nbconvert_exporter": "python",
   "pygments_lexer": "ipython3",
   "version": "3.7.3"
  }
 },
 "nbformat": 4,
 "nbformat_minor": 2
}
