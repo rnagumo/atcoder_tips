{
 "cells": [
  {
   "cell_type": "markdown",
   "metadata": {},
   "source": [
    "# 再帰関数\n",
    "\n",
    "https://drken1215.hatenablog.com/entry/2020/05/04/190252"
   ]
  },
  {
   "cell_type": "markdown",
   "metadata": {},
   "source": [
    "コード\n",
    "\n",
    "```python\n",
    "def dfs(x):\n",
    "    if len(x) == 3:\n",
    "        print(x)\n",
    "        return\n",
    "    \n",
    "    for v in range(2):\n",
    "        x.append(v)\n",
    "        dfs(x)\n",
    "        x.pop()\n",
    "\n",
    "dfs([])\n",
    "```\n",
    "\n",
    "出力\n",
    "\n",
    "```python\n",
    "[0, 0, 0]\n",
    "[0, 0, 1]\n",
    "[0, 1, 0]\n",
    "[0, 1, 1]\n",
    "[1, 0, 0]\n",
    "[1, 0, 1]\n",
    "[1, 1, 0]\n",
    "[1, 1, 1]\n",
    "```"
   ]
  },
  {
   "cell_type": "markdown",
   "metadata": {},
   "source": [
    "# ABC 165 - C\n",
    "\n",
    "https://atcoder.jp/contests/abc165/tasks/abc165_c"
   ]
  },
  {
   "cell_type": "code",
   "execution_count": 1,
   "metadata": {},
   "outputs": [
    {
     "name": "stdout",
     "output_type": "stream",
     "text": [
      "110\n"
     ]
    }
   ],
   "source": [
    "N, M, Q = 3, 4, 3\n",
    "X = [[1, 3, 3, 100], [1, 2, 2, 10], [2, 3, 2, 10]]\n",
    "\n",
    "print(110)"
   ]
  },
  {
   "cell_type": "code",
   "execution_count": 12,
   "metadata": {},
   "outputs": [],
   "source": [
    "def dfs(x):\n",
    "    if len(x) == N + 1:\n",
    "        res = 0\n",
    "        for a, b, c, d in X:\n",
    "            if x[b] - x[a] == c:\n",
    "                res += d\n",
    "        return res\n",
    "\n",
    "    res = 0\n",
    "    last = x[-1]\n",
    "    for v in range(last, M + 1):\n",
    "        x.append(v)\n",
    "        res = max(res, dfs(x))\n",
    "        x.pop()\n",
    "\n",
    "    return res"
   ]
  },
  {
   "cell_type": "code",
   "execution_count": 13,
   "metadata": {},
   "outputs": [
    {
     "name": "stdout",
     "output_type": "stream",
     "text": [
      "110\n"
     ]
    }
   ],
   "source": [
    "print(dfs([1]))"
   ]
  },
  {
   "cell_type": "markdown",
   "metadata": {},
   "source": [
    "# ABC 114 - C\n",
    "\n",
    "https://atcoder.jp/contests/abc114/tasks/abc114_c"
   ]
  },
  {
   "cell_type": "code",
   "execution_count": 1,
   "metadata": {},
   "outputs": [
    {
     "name": "stdout",
     "output_type": "stream",
     "text": [
      "4\n"
     ]
    }
   ],
   "source": [
    "N = 575\n",
    "\n",
    "print(4)"
   ]
  },
  {
   "cell_type": "code",
   "execution_count": 9,
   "metadata": {},
   "outputs": [],
   "source": [
    "def dfs(value, use):\n",
    "    if value > N:\n",
    "        return 0\n",
    "\n",
    "    res = int(use == 0b111)\n",
    "    res += dfs(value * 10 + 7, use | 0b001)\n",
    "    res += dfs(value * 10 + 5, use | 0b010)\n",
    "    res += dfs(value * 10 + 3, use | 0b100)\n",
    "\n",
    "    return res"
   ]
  },
  {
   "cell_type": "code",
   "execution_count": 10,
   "metadata": {},
   "outputs": [
    {
     "data": {
      "text/plain": [
       "4"
      ]
     },
     "execution_count": 10,
     "metadata": {},
     "output_type": "execute_result"
    }
   ],
   "source": [
    "dfs(0, 0)"
   ]
  },
  {
   "cell_type": "markdown",
   "metadata": {},
   "source": [
    "# ABC 119 - C\n",
    "\n",
    "https://atcoder.jp/contests/abc119/tasks/abc119_c\n",
    "\n",
    "https://drken1215.hatenablog.com/entry/2019/02/24/224100"
   ]
  },
  {
   "cell_type": "code",
   "execution_count": 16,
   "metadata": {},
   "outputs": [
    {
     "name": "stdout",
     "output_type": "stream",
     "text": [
      "23\n"
     ]
    }
   ],
   "source": [
    "N, A, B, C = 5, 100, 90, 80\n",
    "X = [98, 40, 30, 21, 80]\n",
    "\n",
    "print(23)"
   ]
  },
  {
   "cell_type": "code",
   "execution_count": 17,
   "metadata": {},
   "outputs": [],
   "source": [
    "def dfs(i, a, b, c):\n",
    "    if i == N:\n",
    "        if a * b * c == 0:\n",
    "            return 10 ** 9 + 7\n",
    "        return abs(A - a) + abs(B - b) + abs(C - c)\n",
    "\n",
    "    v0 = dfs(i + 1, a, b, c)\n",
    "    v1 = dfs(i + 1, a + X[i], b, c) + int(a > 0) * 10\n",
    "    v2 = dfs(i + 1, a, b + X[i], c) + int(b > 0) * 10\n",
    "    v3 = dfs(i + 1, a, b, c + X[i]) + int(c > 0) * 10\n",
    "\n",
    "    return min(v0, v1, v2, v3)"
   ]
  },
  {
   "cell_type": "code",
   "execution_count": 18,
   "metadata": {},
   "outputs": [
    {
     "data": {
      "text/plain": [
       "23"
      ]
     },
     "execution_count": 18,
     "metadata": {},
     "output_type": "execute_result"
    }
   ],
   "source": [
    "print(dfs(0, 0, 0, 0))"
   ]
  },
  {
   "cell_type": "markdown",
   "metadata": {},
   "source": [
    "# ABC 161 - D\n",
    "\n",
    "https://atcoder.jp/contests/abc161/tasks/abc161_d\n",
    "\n",
    "https://drken1215.hatenablog.com/entry/2020/04/05/150900"
   ]
  },
  {
   "cell_type": "code",
   "execution_count": 22,
   "metadata": {},
   "outputs": [
    {
     "name": "stdout",
     "output_type": "stream",
     "text": [
      "23\n"
     ]
    }
   ],
   "source": [
    "K = 15\n",
    "\n",
    "print(23)"
   ]
  },
  {
   "cell_type": "markdown",
   "metadata": {},
   "source": [
    "`K = 100000`で10桁に収まることが出力例からわかる"
   ]
  },
  {
   "cell_type": "code",
   "execution_count": 23,
   "metadata": {},
   "outputs": [],
   "source": [
    "def dfs(d, val, x):\n",
    "    x.append(val)\n",
    "    \n",
    "    if d == 10:\n",
    "        return\n",
    "    \n",
    "    for i in range(-1, 2):\n",
    "        add = (val % 10) + i\n",
    "        if 0 <= add <= 9:\n",
    "            dfs(d + 1, val * 10 + add, x)"
   ]
  },
  {
   "cell_type": "code",
   "execution_count": 28,
   "metadata": {},
   "outputs": [
    {
     "name": "stdout",
     "output_type": "stream",
     "text": [
      "23\n"
     ]
    }
   ],
   "source": [
    "x = []\n",
    "for i in range(1, 10):\n",
    "    dfs(0, i, x)\n",
    "print(sorted(x)[K - 1])"
   ]
  },
  {
   "cell_type": "markdown",
   "metadata": {},
   "source": [
    "#### 別解: bfs"
   ]
  },
  {
   "cell_type": "code",
   "execution_count": 30,
   "metadata": {},
   "outputs": [],
   "source": [
    "from collections import deque"
   ]
  },
  {
   "cell_type": "code",
   "execution_count": 35,
   "metadata": {},
   "outputs": [
    {
     "name": "stdout",
     "output_type": "stream",
     "text": [
      "23\n"
     ]
    }
   ],
   "source": [
    "q = deque(list(range(1, 10)))\n",
    "ctr = 0\n",
    "while ctr < K:\n",
    "    val = q.popleft()\n",
    "    ctr += 1\n",
    "    for i in range(-1, 2):\n",
    "        add = (val % 10) + i\n",
    "        if 0 <= add <= 9:\n",
    "            q.append(val * 10 + add)\n",
    "            \n",
    "print(val)"
   ]
  },
  {
   "cell_type": "markdown",
   "metadata": {},
   "source": [
    "# Pana 2020 - D\n",
    "\n",
    "https://atcoder.jp/contests/panasonic2020/tasks/panasonic2020_d"
   ]
  },
  {
   "cell_type": "code",
   "execution_count": 59,
   "metadata": {},
   "outputs": [
    {
     "name": "stdout",
     "output_type": "stream",
     "text": [
      "aa, ab\n"
     ]
    }
   ],
   "source": [
    "N = 2\n",
    "\n",
    "print(\"aa, ab\")"
   ]
  },
  {
   "cell_type": "code",
   "execution_count": 60,
   "metadata": {},
   "outputs": [],
   "source": [
    "def dfs(x):\n",
    "    if len(x) == N:\n",
    "        s = \"\".join(chr(v + ord(\"a\")) for v in x)\n",
    "        print(s)\n",
    "        return\n",
    "\n",
    "    val = max(x)\n",
    "    for i in range(val + 2):\n",
    "        x.append(i)\n",
    "        dfs(x)\n",
    "        x.pop()"
   ]
  },
  {
   "cell_type": "code",
   "execution_count": 61,
   "metadata": {},
   "outputs": [
    {
     "name": "stdout",
     "output_type": "stream",
     "text": [
      "aa\n",
      "ab\n"
     ]
    }
   ],
   "source": [
    "dfs([0])"
   ]
  },
  {
   "cell_type": "markdown",
   "metadata": {},
   "source": [
    "# Permutation\n",
    "\n",
    "```\n",
    "[0, 1, 2]\n",
    "[0, 2, 1]\n",
    "...\n",
    "```"
   ]
  },
  {
   "cell_type": "code",
   "execution_count": 8,
   "metadata": {},
   "outputs": [],
   "source": [
    "def dfs(x, d):\n",
    "    if len(x) == N:\n",
    "        d[0] += 1\n",
    "        print(d, x)\n",
    "        \n",
    "    for v in range(N):\n",
    "        if v not in x:\n",
    "            x.append(v)\n",
    "            dfs(x, d)\n",
    "            x.pop()"
   ]
  },
  {
   "cell_type": "code",
   "execution_count": 9,
   "metadata": {},
   "outputs": [
    {
     "name": "stdout",
     "output_type": "stream",
     "text": [
      "[1] [0, 1, 2]\n",
      "[2] [0, 2, 1]\n",
      "[3] [1, 0, 2]\n",
      "[4] [1, 2, 0]\n",
      "[5] [2, 0, 1]\n",
      "[6] [2, 1, 0]\n"
     ]
    }
   ],
   "source": [
    "N = 3\n",
    "dfs([], [0])"
   ]
  },
  {
   "cell_type": "code",
   "execution_count": null,
   "metadata": {},
   "outputs": [],
   "source": []
  },
  {
   "cell_type": "code",
   "execution_count": null,
   "metadata": {},
   "outputs": [],
   "source": []
  },
  {
   "cell_type": "code",
   "execution_count": null,
   "metadata": {},
   "outputs": [],
   "source": []
  }
 ],
 "metadata": {
  "kernelspec": {
   "display_name": "Python 3",
   "language": "python",
   "name": "python3"
  },
  "language_info": {
   "codemirror_mode": {
    "name": "ipython",
    "version": 3
   },
   "file_extension": ".py",
   "mimetype": "text/x-python",
   "name": "python",
   "nbconvert_exporter": "python",
   "pygments_lexer": "ipython3",
   "version": "3.7.7"
  }
 },
 "nbformat": 4,
 "nbformat_minor": 4
}
