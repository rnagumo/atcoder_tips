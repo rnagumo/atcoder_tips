{
 "cells": [
  {
   "cell_type": "markdown",
   "metadata": {},
   "source": [
    "# 幾何ライブラリ"
   ]
  },
  {
   "cell_type": "markdown",
   "metadata": {},
   "source": [
    "# 1. 二次元ベクトル"
   ]
  },
  {
   "cell_type": "code",
   "execution_count": 8,
   "metadata": {},
   "outputs": [],
   "source": [
    "import math\n",
    "\n",
    "class Point:\n",
    "    def __init__(self, x, y, eps=1e-12):\n",
    "        self.x = x\n",
    "        self.y = y\n",
    "        self.eps = eps\n",
    "\n",
    "    def __repr__(self):\n",
    "        return f\"({self.x}, {self.y})\"\n",
    "    \n",
    "    def __add__(self, q):\n",
    "        if isinstance(q, Point):\n",
    "            return Point(self.x + q.x, self.y + q.y)\n",
    "        else:\n",
    "            return Point(self.x + q, self.y + q)\n",
    "    \n",
    "    def __sub__(self, q):\n",
    "        if isinstance(q, Point):\n",
    "            return Point(self.x - q.x, self.y - q.y)\n",
    "        else:\n",
    "            return Point(self.x - q, self.y - q)\n",
    "    \n",
    "    def __mul__(self, q):\n",
    "        if isinstance(q, Point):\n",
    "            return Point(self.x * q.x - self.y * q.y,\n",
    "                         self.x * q.y + self.y * q.x)\n",
    "        else:\n",
    "            return Point(self.x * q, self.y * q)\n",
    "        \n",
    "    def __truediv__(self, q):\n",
    "        if isinstance(q, Point):\n",
    "            return self * q.conj / q.norm\n",
    "        else:\n",
    "            return Point(self.x / q, self.y / q)\n",
    "\n",
    "    def __abs__(self):\n",
    "        return self.dot(self) ** 0.5\n",
    "\n",
    "    def __lt__(self, q):\n",
    "        if abs(self.x - q.x) > self.eps:\n",
    "            return self.x < q.x\n",
    "        else:\n",
    "            return self.y < q.y\n",
    "\n",
    "    def __gt__(self, q):\n",
    "        if abs(self.x - q.x) > self.eps:\n",
    "            return self.x > q.x\n",
    "        else:\n",
    "            return self.y > q.y\n",
    "\n",
    "    @property\n",
    "    def conj(self):\n",
    "        return Point(self.x, -self.y)\n",
    "\n",
    "    def rot(self, ang):\n",
    "        return Point(math.cos(ang) * self.x - math.sin(ang) * self.y,\n",
    "                     math.sin(ang) * self.x + math.cos(ang) * self.y)\n",
    "\n",
    "    def rot90(self):\n",
    "        return Point(-self.y, self.x)\n",
    "\n",
    "    def cross(self, q):\n",
    "        return self.x * q.y - self.y * q.x\n",
    "\n",
    "    def dot(self, q):\n",
    "        return self.x * q.x + self.y * q.y\n",
    "\n",
    "    @property\n",
    "    def norm(self):\n",
    "        return self.dot(self)"
   ]
  },
  {
   "cell_type": "markdown",
   "metadata": {},
   "source": [
    "## 例"
   ]
  },
  {
   "cell_type": "code",
   "execution_count": 9,
   "metadata": {},
   "outputs": [],
   "source": [
    "p = Point(2, 3)\n",
    "q = Point(1, 4)"
   ]
  },
  {
   "cell_type": "code",
   "execution_count": 10,
   "metadata": {},
   "outputs": [
    {
     "name": "stdout",
     "output_type": "stream",
     "text": [
      "(3, 4)\n",
      "(1, 2)\n",
      "(4, 6)\n",
      "(0.5, 0.75)\n",
      "(3, 7)\n",
      "(1, -1)\n",
      "(-10, 11)\n",
      "(0.8235294117647058, -0.29411764705882354)\n"
     ]
    }
   ],
   "source": [
    "print(p + 1)\n",
    "print(p - 1)\n",
    "print(p * 2)\n",
    "print(p / 4)\n",
    "\n",
    "print(p + q)\n",
    "print(p - q)\n",
    "print(p * q)\n",
    "print(p / q)"
   ]
  },
  {
   "cell_type": "code",
   "execution_count": 11,
   "metadata": {},
   "outputs": [
    {
     "data": {
      "text/plain": [
       "5"
      ]
     },
     "execution_count": 11,
     "metadata": {},
     "output_type": "execute_result"
    }
   ],
   "source": [
    "p.cross(q)"
   ]
  },
  {
   "cell_type": "markdown",
   "metadata": {},
   "source": [
    "### 3 点 a,b,c が同一直線上にあるかどうかを判定する"
   ]
  },
  {
   "cell_type": "code",
   "execution_count": 11,
   "metadata": {},
   "outputs": [],
   "source": [
    "def simple_ccw(a, b, c, eps=1e-10):\n",
    "    if (b - a).cross(c - a) > eps:\n",
    "        return 1\n",
    "    if (b - a).cross(c - a) < -eps:\n",
    "        return -1\n",
    "    return 0"
   ]
  },
  {
   "cell_type": "code",
   "execution_count": 12,
   "metadata": {},
   "outputs": [],
   "source": [
    "a = Point(1, 1)\n",
    "b = Point(3, 3)\n",
    "c = Point(2, 2)"
   ]
  },
  {
   "cell_type": "code",
   "execution_count": 13,
   "metadata": {},
   "outputs": [
    {
     "data": {
      "text/plain": [
       "0"
      ]
     },
     "execution_count": 13,
     "metadata": {},
     "output_type": "execute_result"
    }
   ],
   "source": [
    "simple_ccw(a, b, c)"
   ]
  },
  {
   "cell_type": "markdown",
   "metadata": {},
   "source": [
    "# 2. 直線"
   ]
  },
  {
   "cell_type": "code",
   "execution_count": 6,
   "metadata": {},
   "outputs": [],
   "source": [
    "class Line:\n",
    "    def __init__(self, a, b):\n",
    "        if not isinstance(a, Point) or not isinstance(b, Point):\n",
    "            raise AttributeError(\"parameters should be instance of Point\")\n",
    "            \n",
    "        self.a = a\n",
    "        self.b = b\n",
    "        \n",
    "    def __repr__(self):\n",
    "        return f\"[{self.a}, {self.b}]\"\n",
    "    \n",
    "    def cross_point(self, l, eps=1e-10):\n",
    "        deg = (l.b - l.a).cross(self.b - self.a)\n",
    "        if abs(deg) < eps:\n",
    "            return Point(0, 0)\n",
    "        \n",
    "        return self.a + (self.b - self.a) * (l.b - l.a).cross(l.b - l.a) / deg"
   ]
  },
  {
   "cell_type": "code",
   "execution_count": 7,
   "metadata": {},
   "outputs": [
    {
     "data": {
      "text/plain": [
       "(1.0, 1.0)"
      ]
     },
     "execution_count": 7,
     "metadata": {},
     "output_type": "execute_result"
    }
   ],
   "source": [
    "a = Point(1, 1)\n",
    "b = Point(2, 4)\n",
    "c = Point(2, 2)\n",
    "\n",
    "l = Line(a, b)\n",
    "m = Line(b, c)\n",
    "\n",
    "l.cross_point(m)"
   ]
  },
  {
   "cell_type": "markdown",
   "metadata": {},
   "source": [
    "#### 一直線上にある場合．"
   ]
  },
  {
   "cell_type": "code",
   "execution_count": 19,
   "metadata": {},
   "outputs": [
    {
     "data": {
      "text/plain": [
       "(0, 0)"
      ]
     },
     "execution_count": 19,
     "metadata": {},
     "output_type": "execute_result"
    }
   ],
   "source": [
    "a = Point(1, 1)\n",
    "b = Point(3, 3)\n",
    "c = Point(2, 2)\n",
    "\n",
    "l = Line(a, b)\n",
    "m = Line(b, c)\n",
    "\n",
    "l.cross_point(m)"
   ]
  },
  {
   "cell_type": "markdown",
   "metadata": {},
   "source": [
    "# 3. 外心の計算"
   ]
  },
  {
   "cell_type": "code",
   "execution_count": 21,
   "metadata": {},
   "outputs": [],
   "source": [
    "def circum_center(a, b, c):\n",
    "    ab = Line((a + b) / 2, (a + b) / 2 + (a - b).rot90())\n",
    "    bc = Line((b + c) / 2, (b + c) / 2 + (b - c).rot90())\n",
    "    return ab.cross_point(bc)"
   ]
  },
  {
   "cell_type": "code",
   "execution_count": 23,
   "metadata": {},
   "outputs": [
    {
     "data": {
      "text/plain": [
       "(1.5, 2.5)"
      ]
     },
     "execution_count": 23,
     "metadata": {},
     "output_type": "execute_result"
    }
   ],
   "source": [
    "circum_center(a, b, c)"
   ]
  },
  {
   "cell_type": "code",
   "execution_count": null,
   "metadata": {},
   "outputs": [],
   "source": []
  }
 ],
 "metadata": {
  "kernelspec": {
   "display_name": "Python 3",
   "language": "python",
   "name": "python3"
  },
  "language_info": {
   "codemirror_mode": {
    "name": "ipython",
    "version": 3
   },
   "file_extension": ".py",
   "mimetype": "text/x-python",
   "name": "python",
   "nbconvert_exporter": "python",
   "pygments_lexer": "ipython3",
   "version": "3.7.3"
  }
 },
 "nbformat": 4,
 "nbformat_minor": 4
}
