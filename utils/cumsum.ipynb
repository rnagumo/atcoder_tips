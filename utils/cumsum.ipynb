{
 "cells": [
  {
   "cell_type": "markdown",
   "metadata": {},
   "source": [
    "# 累積和\n",
    "\n",
    "https://qiita.com/drken/items/56a6b68edef8fc605821\n",
    "\n",
    "* 配列：$a_0, a_1, ..., a_{N-1}$\n",
    "* 累積和：$s_0, s_1, ..., s_{N-1}, s_N$\n",
    "\n",
    "区間のクエリ$[l, r)$\n",
    "\n",
    "$\\sum_{i=l}^{r-1} = s_r - s_l$"
   ]
  },
  {
   "cell_type": "markdown",
   "metadata": {},
   "source": [
    "# 素数の累積\n",
    "\n",
    "Eratosthenesの篩の応用\n",
    "\n",
    "https://atcoder.jp/contests/abc084/tasks/abc084_d"
   ]
  },
  {
   "cell_type": "code",
   "execution_count": 2,
   "metadata": {},
   "outputs": [
    {
     "name": "stdout",
     "output_type": "stream",
     "text": [
      "2\n"
     ]
    }
   ],
   "source": [
    "Q = 1\n",
    "X = [[3, 7]]\n",
    "\n",
    "print(2)"
   ]
  },
  {
   "cell_type": "code",
   "execution_count": 17,
   "metadata": {},
   "outputs": [
    {
     "name": "stdout",
     "output_type": "stream",
     "text": [
      "1 0 0 1\n"
     ]
    }
   ],
   "source": [
    "Q = 4\n",
    "X = [[13, 13], [7, 11], [7, 11], [2017, 2017]]\n",
    "\n",
    "print(1, 0, 0, 1)"
   ]
  },
  {
   "cell_type": "code",
   "execution_count": 18,
   "metadata": {},
   "outputs": [],
   "source": [
    "n = 10 ** 5 + 2\n",
    "is_prime = [True] * (n + 1)\n",
    "is_prime[0] = False\n",
    "is_prime[1] = False\n",
    "\n",
    "for i in range(2, n + 1):\n",
    "    if not is_prime[i]:\n",
    "        continue\n",
    "\n",
    "    for j in range(2 * i, n + 1, i):\n",
    "        is_prime[j] = False"
   ]
  },
  {
   "cell_type": "code",
   "execution_count": 19,
   "metadata": {},
   "outputs": [],
   "source": [
    "like = [False] * (n + 1)\n",
    "for i in range(n):\n",
    "    like[i] = is_prime[i] and is_prime[(i + 1) // 2]"
   ]
  },
  {
   "cell_type": "code",
   "execution_count": 20,
   "metadata": {},
   "outputs": [],
   "source": [
    "cumsum = [0] * (n + 1)\n",
    "for i in range(n):\n",
    "    cumsum[i + 1] = cumsum[i] + like[i]"
   ]
  },
  {
   "cell_type": "markdown",
   "metadata": {},
   "source": [
    "右側も閉区間にするので，1をたす"
   ]
  },
  {
   "cell_type": "code",
   "execution_count": 25,
   "metadata": {},
   "outputs": [
    {
     "name": "stdout",
     "output_type": "stream",
     "text": [
      "1\n",
      "0\n",
      "0\n",
      "1\n"
     ]
    }
   ],
   "source": [
    "for l, r in X:\n",
    "    print(cumsum[r + 1] - cumsum[l])"
   ]
  },
  {
   "cell_type": "markdown",
   "metadata": {},
   "source": [
    "# 部分文字列における出現回数\n",
    "\n",
    "https://atcoder.jp/contests/abc122/tasks/abc122_c"
   ]
  },
  {
   "cell_type": "code",
   "execution_count": 26,
   "metadata": {},
   "outputs": [
    {
     "name": "stdout",
     "output_type": "stream",
     "text": [
      "2 0 3\n"
     ]
    }
   ],
   "source": [
    "N, Q = 8, 3\n",
    "S = \"ACACTACG\"\n",
    "X = [[3, 7], [2, 3], [1, 8]]\n",
    "\n",
    "print(2, 0, 3)"
   ]
  },
  {
   "cell_type": "markdown",
   "metadata": {},
   "source": [
    "出現回数の累積"
   ]
  },
  {
   "cell_type": "code",
   "execution_count": 31,
   "metadata": {},
   "outputs": [],
   "source": [
    "cnt = [0] * (N + 1)\n",
    "for i in range(N - 1):\n",
    "    cnt[i + 1] = int(S[i] == \"A\" and S[i + 1] == \"C\") + cnt[i]"
   ]
  },
  {
   "cell_type": "code",
   "execution_count": 36,
   "metadata": {},
   "outputs": [
    {
     "name": "stdout",
     "output_type": "stream",
     "text": [
      "2\n",
      "0\n",
      "3\n"
     ]
    }
   ],
   "source": [
    "for l, r in X:\n",
    "    print(cnt[r - 1] - cnt[l - 1])"
   ]
  },
  {
   "cell_type": "code",
   "execution_count": 35,
   "metadata": {},
   "outputs": [
    {
     "data": {
      "text/plain": [
       "[0, 1, 1, 2, 2, 2, 3, 3, 0]"
      ]
     },
     "execution_count": 35,
     "metadata": {},
     "output_type": "execute_result"
    }
   ],
   "source": [
    "cnt"
   ]
  },
  {
   "cell_type": "markdown",
   "metadata": {},
   "source": [
    "# Zero-Sum Ranges\n",
    "\n",
    "https://atcoder.jp/contests/agc023/tasks/agc023_a"
   ]
  },
  {
   "cell_type": "code",
   "execution_count": 37,
   "metadata": {},
   "outputs": [
    {
     "name": "stdout",
     "output_type": "stream",
     "text": [
      "3\n"
     ]
    }
   ],
   "source": [
    "N = 6\n",
    "A = [1, 3, -4, 2, 2, -2]\n",
    "\n",
    "print(3)"
   ]
  },
  {
   "cell_type": "code",
   "execution_count": 38,
   "metadata": {},
   "outputs": [],
   "source": [
    "s = [0] * (N + 1)\n",
    "for i in range(N):\n",
    "    s[i + 1] = s[i] + A[i]"
   ]
  },
  {
   "cell_type": "code",
   "execution_count": 40,
   "metadata": {},
   "outputs": [],
   "source": [
    "from collections import Counter"
   ]
  },
  {
   "cell_type": "code",
   "execution_count": 44,
   "metadata": {},
   "outputs": [
    {
     "name": "stdout",
     "output_type": "stream",
     "text": [
      "3\n"
     ]
    }
   ],
   "source": [
    "ctr = Counter(s)\n",
    "ans = 0\n",
    "for v in ctr.values():\n",
    "    if v == 1:\n",
    "        continue\n",
    "    ans += v * (v - 1) // 2\n",
    "    \n",
    "print(ans)"
   ]
  },
  {
   "cell_type": "markdown",
   "metadata": {},
   "source": [
    "# 2次元累積和\n",
    "\n",
    "https://atcoder.jp/contests/abc005/tasks/abc005_4"
   ]
  },
  {
   "cell_type": "code",
   "execution_count": 45,
   "metadata": {},
   "outputs": [
    {
     "name": "stdout",
     "output_type": "stream",
     "text": [
      "3 9 14\n"
     ]
    }
   ],
   "source": [
    "N = 3\n",
    "D = [[3, 2, 1], [2, 2, 1], [1, 1, 1]]\n",
    "Q = 3\n",
    "P = [1, 4, 9]\n",
    "\n",
    "print(3, 9, 14)"
   ]
  },
  {
   "cell_type": "markdown",
   "metadata": {},
   "source": [
    "累積和"
   ]
  },
  {
   "cell_type": "code",
   "execution_count": 46,
   "metadata": {},
   "outputs": [],
   "source": [
    "S = [[0] * (N + 1) for _ in range(N + 1)]\n",
    "\n",
    "for i in range(N):\n",
    "    for j in range(N):\n",
    "        S[i + 1][j + 1] = S[i][j + 1] + S[i + 1][j] - S[i][j] + D[i][j]"
   ]
  },
  {
   "cell_type": "markdown",
   "metadata": {},
   "source": [
    "全ての長方形区域の面積を求め，その面積における値の最大値を求める．"
   ]
  },
  {
   "cell_type": "code",
   "execution_count": 53,
   "metadata": {},
   "outputs": [],
   "source": [
    "val = [0] * (N ** 2 + 1)\n",
    "\n",
    "for x1 in range(N):\n",
    "    for x2 in range(x1 + 1, N + 1):\n",
    "        for y1 in range(N):\n",
    "            for y2 in range(y1 + 1, N + 1):\n",
    "                a = (x2 - x1) * (y2 - y1)\n",
    "                s = S[x2][y2] - S[x1][y2] - S[x2][y1] + S[x1][y1]\n",
    "                val[a] = max(val[a], s)"
   ]
  },
  {
   "cell_type": "code",
   "execution_count": 54,
   "metadata": {},
   "outputs": [],
   "source": [
    "for i in range(N ** 2):\n",
    "    val[i + 1] = max(val[i + 1], val[i])"
   ]
  },
  {
   "cell_type": "code",
   "execution_count": 55,
   "metadata": {},
   "outputs": [
    {
     "data": {
      "text/plain": [
       "[0, 3, 5, 6, 9, 9, 11, 11, 11, 14]"
      ]
     },
     "execution_count": 55,
     "metadata": {},
     "output_type": "execute_result"
    }
   ],
   "source": [
    "val"
   ]
  },
  {
   "cell_type": "code",
   "execution_count": 56,
   "metadata": {},
   "outputs": [
    {
     "name": "stdout",
     "output_type": "stream",
     "text": [
      "3\n",
      "9\n",
      "14\n"
     ]
    }
   ],
   "source": [
    "for p in P:\n",
    "    print(val[p])"
   ]
  },
  {
   "cell_type": "code",
   "execution_count": null,
   "metadata": {},
   "outputs": [],
   "source": []
  }
 ],
 "metadata": {
  "kernelspec": {
   "display_name": "Python 3",
   "language": "python",
   "name": "python3"
  },
  "language_info": {
   "codemirror_mode": {
    "name": "ipython",
    "version": 3
   },
   "file_extension": ".py",
   "mimetype": "text/x-python",
   "name": "python",
   "nbconvert_exporter": "python",
   "pygments_lexer": "ipython3",
   "version": "3.7.3"
  }
 },
 "nbformat": 4,
 "nbformat_minor": 4
}
