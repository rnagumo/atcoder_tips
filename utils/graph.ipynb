{
 "cells": [
  {
   "cell_type": "markdown",
   "metadata": {},
   "source": [
    "# Depth First Search\n",
    "\n",
    "54 - C  \n",
    "https://atcoder.jp/contests/abc054/tasks/abc054_c"
   ]
  },
  {
   "cell_type": "code",
   "execution_count": 1,
   "metadata": {},
   "outputs": [],
   "source": [
    "N, M = 3, 4\n",
    "edges = [[1, 2], [1, 3], [2, 3]]"
   ]
  },
  {
   "cell_type": "code",
   "execution_count": 2,
   "metadata": {},
   "outputs": [
    {
     "data": {
      "text/plain": [
       "[[None, None, None], [None, None, None], [None, None, None]]"
      ]
     },
     "execution_count": 2,
     "metadata": {},
     "output_type": "execute_result"
    }
   ],
   "source": [
    "graph = [[None] * N for _ in range(N)]\n",
    "graph"
   ]
  },
  {
   "cell_type": "code",
   "execution_count": 3,
   "metadata": {},
   "outputs": [],
   "source": [
    "for x, y in edges:\n",
    "    graph[x - 1][y - 1] = True\n",
    "    graph[y - 1][x - 1] = True"
   ]
  },
  {
   "cell_type": "code",
   "execution_count": 4,
   "metadata": {},
   "outputs": [],
   "source": [
    "def dfs(v):    \n",
    "    if all(visited):\n",
    "        return 1\n",
    "    \n",
    "    ret = 0\n",
    "    for i in range(N):\n",
    "        if not graph[v][i]:\n",
    "            continue\n",
    "        if visited[i]:\n",
    "            continue\n",
    "            \n",
    "        visited[i] = True\n",
    "        ret += dfs(i)\n",
    "        visited[i] = False\n",
    "        \n",
    "    return ret"
   ]
  },
  {
   "cell_type": "code",
   "execution_count": 5,
   "metadata": {},
   "outputs": [
    {
     "name": "stdout",
     "output_type": "stream",
     "text": [
      "2\n"
     ]
    }
   ],
   "source": [
    "visited = [True] + [False] * (N - 1)\n",
    "print(dfs(0))"
   ]
  },
  {
   "cell_type": "markdown",
   "metadata": {},
   "source": [
    "# Warshall-Floyd's algorithm\n",
    "\n",
    "全点対間　最短経路問題　(All Pairs Shortest Path)\n",
    "\n",
    "計算量は$O(N^3)$\n",
    "\n",
    "例） 22 - C  \n",
    "https://atcoder.jp/contests/abc022/tasks/abc022_c\n",
    "\n",
    "例） 16 - C  \n",
    "https://atcoder.jp/contests/abc016/tasks/abc016_3"
   ]
  },
  {
   "cell_type": "code",
   "execution_count": 22,
   "metadata": {},
   "outputs": [],
   "source": [
    "N, M = 5, 7\n",
    "edges = [[1, 2, 2], [1, 4, 1], [2, 3, 7], [1, 5, 12],\n",
    "         [3, 5, 2], [2, 5, 3], [3, 4, 5]]"
   ]
  },
  {
   "cell_type": "code",
   "execution_count": 34,
   "metadata": {},
   "outputs": [
    {
     "data": {
      "text/plain": [
       "[[0, 2, inf, 1, 12],\n",
       " [2, 0, 7, inf, 3],\n",
       " [inf, 7, 0, 5, 2],\n",
       " [1, inf, 5, 0, inf],\n",
       " [12, 3, 2, inf, 0]]"
      ]
     },
     "execution_count": 34,
     "metadata": {},
     "output_type": "execute_result"
    }
   ],
   "source": [
    "graph = [[float('inf')] * N for _ in range(N)]\n",
    "for i in range(N):\n",
    "    graph[i][i] = 0\n",
    "\n",
    "for u, v, l in edges:\n",
    "    graph[u - 1][v - 1] = l\n",
    "    graph[v - 1][u - 1] = l\n",
    "    \n",
    "graph"
   ]
  },
  {
   "cell_type": "code",
   "execution_count": 35,
   "metadata": {},
   "outputs": [
    {
     "data": {
      "text/plain": [
       "[[0, 2, 6, 1, 5],\n",
       " [2, 0, 5, 3, 3],\n",
       " [6, 5, 0, 5, 2],\n",
       " [1, 3, 5, 0, 6],\n",
       " [5, 3, 2, 6, 0]]"
      ]
     },
     "execution_count": 35,
     "metadata": {},
     "output_type": "execute_result"
    }
   ],
   "source": [
    "for k in range(N):\n",
    "    for i in range(N):\n",
    "        if graph[i][k] == float('inf'):\n",
    "            continue\n",
    "        for j in range(N):\n",
    "            if graph[k][j] == float('inf'):\n",
    "                continue\n",
    "            graph[i][j] = min(graph[i][j], graph[i][k] + graph[k][j])\n",
    "            \n",
    "graph"
   ]
  },
  {
   "cell_type": "markdown",
   "metadata": {},
   "source": [
    "#### もしくは，scipyを使う\n",
    "\n",
    "https://docs.scipy.org/doc/scipy/reference/generated/scipy.sparse.csgraph.floyd_warshall.html"
   ]
  },
  {
   "cell_type": "code",
   "execution_count": 34,
   "metadata": {},
   "outputs": [
    {
     "data": {
      "text/plain": [
       "[[0, 2, inf, 1, 12],\n",
       " [2, 0, 7, inf, 3],\n",
       " [inf, 7, 0, 5, 2],\n",
       " [1, inf, 5, 0, inf],\n",
       " [12, 3, 2, inf, 0]]"
      ]
     },
     "execution_count": 34,
     "metadata": {},
     "output_type": "execute_result"
    }
   ],
   "source": [
    "graph = [[float('inf')] * N for _ in range(N)]\n",
    "for i in range(N):\n",
    "    graph[i][i] = 0\n",
    "\n",
    "for u, v, l in edges:\n",
    "    graph[u - 1][v - 1] = l\n",
    "    graph[v - 1][u - 1] = l\n",
    "    \n",
    "graph"
   ]
  },
  {
   "cell_type": "code",
   "execution_count": 33,
   "metadata": {},
   "outputs": [
    {
     "data": {
      "text/plain": [
       "array([[0., 2., 6., 1., 5.],\n",
       "       [2., 0., 5., 3., 3.],\n",
       "       [6., 5., 0., 5., 2.],\n",
       "       [1., 3., 5., 0., 6.],\n",
       "       [5., 3., 2., 6., 0.]])"
      ]
     },
     "execution_count": 33,
     "metadata": {},
     "output_type": "execute_result"
    }
   ],
   "source": [
    "from scipy.sparse.csgraph import floyd_warshall\n",
    "\n",
    "graph = floyd_warshall(graph, directed=True)\n",
    "graph"
   ]
  },
  {
   "cell_type": "markdown",
   "metadata": {},
   "source": [
    "# Dijkstra's algorithm\n",
    "\n",
    "始点固定の最短経路\n",
    "\n",
    "https://atcoder.jp/contests/abc021/tasks/abc021_c"
   ]
  },
  {
   "cell_type": "code",
   "execution_count": 42,
   "metadata": {},
   "outputs": [],
   "source": [
    "N = 7\n",
    "edges = [[1, 2], [1, 3], [4, 2], [4, 3], [4, 5],\n",
    "         [4, 6], [7, 5], [7, 6]]"
   ]
  },
  {
   "cell_type": "markdown",
   "metadata": {},
   "source": [
    "### 隣接行列を使った方法 $O(V^2)$"
   ]
  },
  {
   "cell_type": "code",
   "execution_count": 69,
   "metadata": {},
   "outputs": [
    {
     "data": {
      "text/plain": [
       "[[0, 1, 1, inf, inf, inf, inf],\n",
       " [1, 0, inf, 1, inf, inf, inf],\n",
       " [1, inf, 0, 1, inf, inf, inf],\n",
       " [inf, 1, 1, 0, 1, 1, inf],\n",
       " [inf, inf, inf, 1, 0, inf, 1],\n",
       " [inf, inf, inf, 1, inf, 0, 1],\n",
       " [inf, inf, inf, inf, 1, 1, 0]]"
      ]
     },
     "execution_count": 69,
     "metadata": {},
     "output_type": "execute_result"
    }
   ],
   "source": [
    "graph = [[float('inf')] * N for _ in range(N)]\n",
    "for i in range(N):\n",
    "    graph[i][i] = 0\n",
    "\n",
    "for u, v in edges:\n",
    "    graph[u - 1][v - 1] = 1\n",
    "    graph[v - 1][u - 1] = 1\n",
    "\n",
    "graph"
   ]
  },
  {
   "cell_type": "markdown",
   "metadata": {},
   "source": [
    "d: distance  \n",
    "p: parent"
   ]
  },
  {
   "cell_type": "code",
   "execution_count": 70,
   "metadata": {},
   "outputs": [],
   "source": [
    "INF = float('inf')\n",
    "visited = [False] * N\n",
    "d = [INF] * N\n",
    "p = [INF] * N"
   ]
  },
  {
   "cell_type": "code",
   "execution_count": 71,
   "metadata": {},
   "outputs": [],
   "source": [
    "init = 0\n",
    "d[init] = 0\n",
    "p[init] = -1\n",
    "\n",
    "while True:\n",
    "    min_cost = INF\n",
    "    for i in range(N):\n",
    "        if not visited[i] and d[i] < min_cost:\n",
    "            min_cost = d[i]\n",
    "            u = i\n",
    "            \n",
    "    if min_cost == INF:\n",
    "        break\n",
    "\n",
    "    visited[u] = True\n",
    "    \n",
    "    for v in range(N):\n",
    "        if not visited[v] and graph[u][v] < INF:\n",
    "            if d[u] + graph[u][v] < d[v]:\n",
    "                d[v] = d[u] + graph[u][v]\n",
    "                p[v] = u"
   ]
  },
  {
   "cell_type": "markdown",
   "metadata": {},
   "source": [
    "始点からの，各ノードまでの最短経路"
   ]
  },
  {
   "cell_type": "code",
   "execution_count": 72,
   "metadata": {},
   "outputs": [
    {
     "data": {
      "text/plain": [
       "[0, 1, 1, 2, 3, 3, 4]"
      ]
     },
     "execution_count": 72,
     "metadata": {},
     "output_type": "execute_result"
    }
   ],
   "source": [
    "d"
   ]
  },
  {
   "cell_type": "markdown",
   "metadata": {},
   "source": [
    "最短経路の場合の親．"
   ]
  },
  {
   "cell_type": "code",
   "execution_count": 73,
   "metadata": {},
   "outputs": [
    {
     "data": {
      "text/plain": [
       "[-1, 0, 0, 1, 3, 3, 4]"
      ]
     },
     "execution_count": 73,
     "metadata": {},
     "output_type": "execute_result"
    }
   ],
   "source": [
    "p"
   ]
  },
  {
   "cell_type": "markdown",
   "metadata": {},
   "source": [
    "## Priority Queueを使った実装 $O(E \\log V)$\n",
    "\n",
    "https://docs.python.org/ja/3/library/heapq.html"
   ]
  },
  {
   "cell_type": "code",
   "execution_count": 1,
   "metadata": {},
   "outputs": [],
   "source": [
    "N = 7\n",
    "edges = [[1, 2], [1, 3], [4, 2], [4, 3], [4, 5],\n",
    "         [4, 6], [7, 5], [7, 6]]"
   ]
  },
  {
   "cell_type": "markdown",
   "metadata": {},
   "source": [
    "heapqを使って，コストの低い順に並べている"
   ]
  },
  {
   "cell_type": "code",
   "execution_count": 6,
   "metadata": {},
   "outputs": [
    {
     "data": {
      "text/plain": [
       "[0, 1, 1, 2, 3, 3, 4]"
      ]
     },
     "execution_count": 6,
     "metadata": {},
     "output_type": "execute_result"
    }
   ],
   "source": [
    "from heapq import heappop, heappush\n",
    "INF = float('inf')\n",
    "\n",
    "d = [INF] * N\n",
    "d[0] = 0\n",
    "\n",
    "visited = [False] * N\n",
    "visited[0] = True\n",
    "\n",
    "# Priority queue (cost, node)\n",
    "pq = []\n",
    "heappush(pq, (0, 0))\n",
    "\n",
    "while len(pq) > 0:\n",
    "    cost, u = heappop(pq)\n",
    "    visited[u] = True\n",
    "    \n",
    "    # Search nodes connected with target node 'u'\n",
    "    for v, w in edges:\n",
    "        if v - 1 != u and w - 1 != u:\n",
    "            continue\n",
    "            \n",
    "        node = w - 1 if v - 1 == u else v - 1\n",
    "        if visited[node]:\n",
    "            continue\n",
    "            \n",
    "        # Edge cost == 1\n",
    "        if d[node] > d[u] + 1:\n",
    "            d[node] = d[u] + 1\n",
    "            heappush(pq, (d[node], node))\n",
    "            \n",
    "d"
   ]
  },
  {
   "cell_type": "markdown",
   "metadata": {},
   "source": [
    "# Topological Sort\n",
    "\n",
    "DAGの並び替え"
   ]
  },
  {
   "cell_type": "code",
   "execution_count": 6,
   "metadata": {},
   "outputs": [
    {
     "name": "stdout",
     "output_type": "stream",
     "text": [
      "ans: 0 3 1 4 5 2\n"
     ]
    }
   ],
   "source": [
    "N, M = 6, 6\n",
    "edges = [[0, 1], [1, 2], [3, 1], [3, 4], [4, 5], [5, 2]]\n",
    "\n",
    "print('ans: 0 3 1 4 5 2')"
   ]
  },
  {
   "cell_type": "markdown",
   "metadata": {},
   "source": [
    "## Breath First Search"
   ]
  },
  {
   "cell_type": "code",
   "execution_count": 7,
   "metadata": {},
   "outputs": [
    {
     "name": "stdout",
     "output_type": "stream",
     "text": [
      "[0, 2, 2, 0, 1, 1]\n"
     ]
    }
   ],
   "source": [
    "visited = [False] * N\n",
    "\n",
    "indeg = [0] * N\n",
    "for _, j in edges:\n",
    "    indeg[j] += 1\n",
    "print(indeg)"
   ]
  },
  {
   "cell_type": "code",
   "execution_count": 8,
   "metadata": {},
   "outputs": [],
   "source": [
    "from collections import deque\n",
    "\n",
    "def bfs(s):\n",
    "    q = deque()\n",
    "    q.append(s)\n",
    "    visited[s] = True\n",
    "    \n",
    "    while len(q) > 0:\n",
    "        u = q.popleft()\n",
    "        ans.append(u)\n",
    "        \n",
    "        for c, v in edges:\n",
    "            if c != u:\n",
    "                continue\n",
    "            \n",
    "            indeg[v] -= 1\n",
    "            if indeg[v] == 0 and not visited[v]:\n",
    "                visited[v] = True\n",
    "                q.append(v)"
   ]
  },
  {
   "cell_type": "code",
   "execution_count": 9,
   "metadata": {},
   "outputs": [
    {
     "data": {
      "text/plain": [
       "[0, 3, 1, 4, 5, 2]"
      ]
     },
     "execution_count": 9,
     "metadata": {},
     "output_type": "execute_result"
    }
   ],
   "source": [
    "ans = []\n",
    "for i in range(N):\n",
    "    if indeg[i] == 0 and not visited[i]:\n",
    "        bfs(i)\n",
    "        \n",
    "ans"
   ]
  },
  {
   "cell_type": "markdown",
   "metadata": {},
   "source": [
    "## Depth First Search"
   ]
  },
  {
   "cell_type": "code",
   "execution_count": 14,
   "metadata": {},
   "outputs": [],
   "source": [
    "def dfs(u):\n",
    "    visited[u] = True\n",
    "    for c, v in edges:\n",
    "        if c != u:\n",
    "            continue\n",
    "\n",
    "        if not visited[v]:\n",
    "            dfs(v)\n",
    "            \n",
    "    ans.append(u)"
   ]
  },
  {
   "cell_type": "code",
   "execution_count": 15,
   "metadata": {},
   "outputs": [
    {
     "data": {
      "text/plain": [
       "[3, 4, 5, 0, 1, 2]"
      ]
     },
     "execution_count": 15,
     "metadata": {},
     "output_type": "execute_result"
    }
   ],
   "source": [
    "visited = [False] * N\n",
    "ans = []\n",
    "\n",
    "for i in range(N):\n",
    "    if not visited[i]:\n",
    "        dfs(i)\n",
    "        \n",
    "ans[::-1]"
   ]
  },
  {
   "cell_type": "markdown",
   "metadata": {},
   "source": [
    "#### 最短経路のDAGを作る"
   ]
  },
  {
   "cell_type": "code",
   "execution_count": 18,
   "metadata": {},
   "outputs": [
    {
     "data": {
      "text/plain": [
       "[[0, 1], [0, 2], [1, 3], [2, 3], [3, 4], [3, 5], [4, 6], [5, 6]]"
      ]
     },
     "execution_count": 18,
     "metadata": {},
     "output_type": "execute_result"
    }
   ],
   "source": [
    "from itertools import product\n",
    "\n",
    "N = 7\n",
    "d = [0, 1, 1, 2, 3, 3, 4]\n",
    "\n",
    "dag_edges = []\n",
    "for i, j in product(range(N), repeat=2):\n",
    "    # Cost == 1\n",
    "    if d[i] + 1 == d[j]:\n",
    "        dag_edges.append([i, j])\n",
    "        \n",
    "dag_edges"
   ]
  },
  {
   "cell_type": "markdown",
   "metadata": {},
   "source": [
    "# 二部グラフ判定\n",
    "\n",
    "隣接するノードを二色で塗り分けられるグラフを，二部グラフと呼ぶ．"
   ]
  },
  {
   "cell_type": "code",
   "execution_count": 1,
   "metadata": {},
   "outputs": [
    {
     "name": "stdout",
     "output_type": "stream",
     "text": [
      "ans: 4\n"
     ]
    }
   ],
   "source": [
    "N, M = 6, 5\n",
    "edges = [[1, 2], [2, 3], [3, 4], [4, 5], [5, 6]]\n",
    "\n",
    "print('ans: 4')"
   ]
  },
  {
   "cell_type": "code",
   "execution_count": 2,
   "metadata": {},
   "outputs": [],
   "source": [
    "graph = [[] for _ in range(N)]\n",
    "for x, y in edges:\n",
    "    graph[x - 1].append(y - 1)\n",
    "    graph[y - 1].append(x - 1)"
   ]
  },
  {
   "cell_type": "code",
   "execution_count": 3,
   "metadata": {},
   "outputs": [],
   "source": [
    "def dfs(v, c):\n",
    "    # c: color = 1 or -1\n",
    "    node[v] = c\n",
    "    for i in graph[v]:\n",
    "        if node[i] == c:\n",
    "            return False\n",
    "        \n",
    "        if node[i] == 0 and not dfs(i, -c):\n",
    "            return False\n",
    "        \n",
    "    return True"
   ]
  },
  {
   "cell_type": "markdown",
   "metadata": {},
   "source": [
    "グラフが連結でない場合は，各頂点から始める．  \n",
    "連結の場合は，0スタートだけで良い．"
   ]
  },
  {
   "cell_type": "code",
   "execution_count": 4,
   "metadata": {},
   "outputs": [
    {
     "name": "stdout",
     "output_type": "stream",
     "text": [
      "Yes\n"
     ]
    }
   ],
   "source": [
    "import sys\n",
    "sys.setrecursionlimit(100000)\n",
    "\n",
    "node = [0] * N\n",
    "for i in range(N):\n",
    "    if node[i] == 0 and not dfs(i, 1):\n",
    "        print('No')\n",
    "        break\n",
    "else:\n",
    "    print('Yes')"
   ]
  },
  {
   "cell_type": "markdown",
   "metadata": {},
   "source": [
    "#### dequeを使う"
   ]
  },
  {
   "cell_type": "code",
   "execution_count": 35,
   "metadata": {},
   "outputs": [],
   "source": [
    "from collections import deque\n",
    "\n",
    "def dfs(s, c):\n",
    "    q = deque()\n",
    "    q.append(s)\n",
    "    visited[s] = True\n",
    "    color[s] = c\n",
    "    \n",
    "    while len(q) > 0:\n",
    "        v = q.pop()\n",
    "        for i in graph[v]:\n",
    "            if visited[i] and color[i] == color[v]:\n",
    "                return False\n",
    "            \n",
    "            if not visited[i]:\n",
    "                visited[i] = True\n",
    "                color[i] = -color[v]\n",
    "                q.append(i)\n",
    "                \n",
    "    return True"
   ]
  },
  {
   "cell_type": "code",
   "execution_count": 36,
   "metadata": {},
   "outputs": [
    {
     "name": "stdout",
     "output_type": "stream",
     "text": [
      "4\n"
     ]
    }
   ],
   "source": [
    "visited = [False] * N\n",
    "color = [0] * N\n",
    "\n",
    "if dfs(0, 1):\n",
    "    x = sum(v + 1 for v in color) // 2\n",
    "    print(x * (N - x) - M)\n",
    "else:\n",
    "    print(N * (N - 1) // 2 - M)"
   ]
  },
  {
   "cell_type": "code",
   "execution_count": null,
   "metadata": {},
   "outputs": [],
   "source": []
  },
  {
   "cell_type": "code",
   "execution_count": null,
   "metadata": {},
   "outputs": [],
   "source": []
  },
  {
   "cell_type": "code",
   "execution_count": null,
   "metadata": {},
   "outputs": [],
   "source": []
  },
  {
   "cell_type": "code",
   "execution_count": null,
   "metadata": {},
   "outputs": [],
   "source": []
  },
  {
   "cell_type": "code",
   "execution_count": null,
   "metadata": {},
   "outputs": [],
   "source": []
  },
  {
   "cell_type": "code",
   "execution_count": null,
   "metadata": {},
   "outputs": [],
   "source": []
  },
  {
   "cell_type": "code",
   "execution_count": null,
   "metadata": {},
   "outputs": [],
   "source": []
  },
  {
   "cell_type": "code",
   "execution_count": null,
   "metadata": {},
   "outputs": [],
   "source": []
  },
  {
   "cell_type": "code",
   "execution_count": null,
   "metadata": {},
   "outputs": [],
   "source": []
  }
 ],
 "metadata": {
  "kernelspec": {
   "display_name": "Python 3",
   "language": "python",
   "name": "python3"
  },
  "language_info": {
   "codemirror_mode": {
    "name": "ipython",
    "version": 3
   },
   "file_extension": ".py",
   "mimetype": "text/x-python",
   "name": "python",
   "nbconvert_exporter": "python",
   "pygments_lexer": "ipython3",
   "version": "3.7.3"
  }
 },
 "nbformat": 4,
 "nbformat_minor": 2
}
