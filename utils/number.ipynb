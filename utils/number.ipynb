{
 "cells": [
  {
   "cell_type": "markdown",
   "metadata": {},
   "source": [
    "# 10進数の各桁を取り出す"
   ]
  },
  {
   "cell_type": "code",
   "execution_count": 38,
   "metadata": {},
   "outputs": [
    {
     "name": "stdout",
     "output_type": "stream",
     "text": [
      "4\n",
      "3\n",
      "2\n",
      "0\n",
      "1\n"
     ]
    }
   ],
   "source": [
    "x = 10234\n",
    "\n",
    "while x > 0:\n",
    "    print(x % 10)\n",
    "    x //= 10"
   ]
  },
  {
   "cell_type": "markdown",
   "metadata": {},
   "source": [
    "#### 数の最初と最後の桁を取り出す．\n",
    "\n",
    "https://atcoder.jp/contests/abc152/tasks/abc152_d"
   ]
  },
  {
   "cell_type": "code",
   "execution_count": 2,
   "metadata": {},
   "outputs": [],
   "source": [
    "N = 25"
   ]
  },
  {
   "cell_type": "code",
   "execution_count": 5,
   "metadata": {},
   "outputs": [],
   "source": [
    "dp = [[0] * 10 for _ in range(10)]\n",
    "for x in range(1, N + 1):\n",
    "    j = x % 10  # 最初の桁\n",
    "    while x >= 10:\n",
    "        x //= 10\n",
    "    i = x  # 最後の桁\n",
    "    dp[i][j] += 1"
   ]
  },
  {
   "cell_type": "code",
   "execution_count": 4,
   "metadata": {},
   "outputs": [
    {
     "data": {
      "text/plain": [
       "[[0, 0, 0, 0, 0, 0, 0, 0, 0, 0],\n",
       " [1, 2, 1, 1, 1, 1, 1, 1, 1, 1],\n",
       " [1, 1, 2, 1, 1, 1, 0, 0, 0, 0],\n",
       " [0, 0, 0, 1, 0, 0, 0, 0, 0, 0],\n",
       " [0, 0, 0, 0, 1, 0, 0, 0, 0, 0],\n",
       " [0, 0, 0, 0, 0, 1, 0, 0, 0, 0],\n",
       " [0, 0, 0, 0, 0, 0, 1, 0, 0, 0],\n",
       " [0, 0, 0, 0, 0, 0, 0, 1, 0, 0],\n",
       " [0, 0, 0, 0, 0, 0, 0, 0, 1, 0],\n",
       " [0, 0, 0, 0, 0, 0, 0, 0, 0, 1]]"
      ]
     },
     "execution_count": 4,
     "metadata": {},
     "output_type": "execute_result"
    }
   ],
   "source": [
    "dp"
   ]
  },
  {
   "cell_type": "markdown",
   "metadata": {},
   "source": [
    "# 進数の変更\n",
    "\n",
    "https://atcoder.jp/contests/abc171/tasks/abc171_c"
   ]
  },
  {
   "cell_type": "markdown",
   "metadata": {},
   "source": [
    "#### 10進数→アルファベット（26進数）の変換"
   ]
  },
  {
   "cell_type": "code",
   "execution_count": 34,
   "metadata": {},
   "outputs": [],
   "source": [
    "def convert_10_26(x):\n",
    "    l = list(chr(ord(\"a\") + i) for i in range(26))\n",
    "    res = []\n",
    "\n",
    "    while True:\n",
    "        res.append(l[x % 26])\n",
    "        x //= 26\n",
    "        if x == 0:\n",
    "            break\n",
    "        \n",
    "    return \"\".join(res[::-1])"
   ]
  },
  {
   "cell_type": "code",
   "execution_count": 37,
   "metadata": {},
   "outputs": [
    {
     "name": "stdout",
     "output_type": "stream",
     "text": [
      "0 a\n",
      "1 b\n",
      "2 c\n",
      "3 d\n",
      "4 e\n",
      "5 f\n",
      "6 g\n",
      "7 h\n",
      "8 i\n",
      "9 j\n",
      "10 k\n",
      "11 l\n",
      "12 m\n",
      "13 n\n",
      "14 o\n",
      "15 p\n",
      "16 q\n",
      "17 r\n",
      "18 s\n",
      "19 t\n",
      "20 u\n",
      "21 v\n",
      "22 w\n",
      "23 x\n",
      "24 y\n",
      "25 z\n",
      "26 ba\n",
      "27 bb\n",
      "28 bc\n",
      "29 bd\n"
     ]
    }
   ],
   "source": [
    "for i in range(30):\n",
    "    print(i, convert_10_26(i))"
   ]
  },
  {
   "cell_type": "markdown",
   "metadata": {},
   "source": [
    "#### 題意の変換"
   ]
  },
  {
   "cell_type": "code",
   "execution_count": 41,
   "metadata": {},
   "outputs": [],
   "source": [
    "def convert_10_26(x):\n",
    "    l = list(chr(ord(\"a\") + i) for i in range(26))\n",
    "    res = []\n",
    "\n",
    "    while x > 0:\n",
    "        x -= 1\n",
    "        res.append(l[x % 26])\n",
    "        x //= 26\n",
    "        \n",
    "    return \"\".join(res[::-1])"
   ]
  },
  {
   "cell_type": "code",
   "execution_count": 42,
   "metadata": {},
   "outputs": [
    {
     "name": "stdout",
     "output_type": "stream",
     "text": [
      "1 a\n",
      "2 b\n",
      "3 c\n",
      "4 d\n",
      "5 e\n",
      "6 f\n",
      "7 g\n",
      "8 h\n",
      "9 i\n",
      "10 j\n",
      "11 k\n",
      "12 l\n",
      "13 m\n",
      "14 n\n",
      "15 o\n",
      "16 p\n",
      "17 q\n",
      "18 r\n",
      "19 s\n",
      "20 t\n",
      "21 u\n",
      "22 v\n",
      "23 w\n",
      "24 x\n",
      "25 y\n",
      "26 z\n",
      "27 aa\n",
      "28 ab\n",
      "29 ac\n"
     ]
    }
   ],
   "source": [
    "for i in range(1, 30):\n",
    "    print(i, convert_10_26(i))"
   ]
  },
  {
   "cell_type": "markdown",
   "metadata": {},
   "source": [
    "# 約数の出現回数\n",
    "\n",
    "`N`を偶数として，`N(N-2)...2`における「5の出現回数」＝「5で割り切れる回数」を数える．\n",
    "\n",
    "* $5$で割り切れるものの個数 + $5^2$で割り切れるものの個数 + $5^3$で割り切れるものの個数, ...\n",
    "* 偶数だとわかっているので，$2 \\times 5^n$で割っていく．"
   ]
  },
  {
   "cell_type": "code",
   "execution_count": 1,
   "metadata": {},
   "outputs": [
    {
     "name": "stdout",
     "output_type": "stream",
     "text": [
      "124999999999999995\n"
     ]
    }
   ],
   "source": [
    "N = 1000000000000000000\n",
    "\n",
    "cnt = 0\n",
    "div = 10\n",
    "for _ in range(100):\n",
    "    cnt += N // div\n",
    "    div *= 5\n",
    "print(cnt)"
   ]
  },
  {
   "cell_type": "markdown",
   "metadata": {},
   "source": [
    "# 配列の最小公倍数"
   ]
  },
  {
   "cell_type": "code",
   "execution_count": 1,
   "metadata": {},
   "outputs": [],
   "source": [
    "from math import gcd\n",
    "from functools import reduce\n",
    "\n",
    "def calc_lcm(x, y):\n",
    "    return x * y // gcd(x, y)\n",
    "\n",
    "def calc_lcm_list(numbers):\n",
    "    return reduce(calc_lcm, numbers, 1)"
   ]
  },
  {
   "cell_type": "code",
   "execution_count": 2,
   "metadata": {},
   "outputs": [
    {
     "data": {
      "text/plain": [
       "30"
      ]
     },
     "execution_count": 2,
     "metadata": {},
     "output_type": "execute_result"
    }
   ],
   "source": [
    "x = [2, 3, 5]\n",
    "calc_lcm_list(x)"
   ]
  },
  {
   "cell_type": "markdown",
   "metadata": {},
   "source": [
    "# フェルマーの小定理\n",
    "\n",
    "「大きい数の割り算」→「逆元の掛け算」として，計算量を減らす．\n",
    "\n",
    "`n // x` -> `n * pow(x, mod - 2, mod) % mod`"
   ]
  },
  {
   "cell_type": "code",
   "execution_count": 9,
   "metadata": {},
   "outputs": [
    {
     "data": {
      "text/plain": [
       "(5, 5)"
      ]
     },
     "execution_count": 9,
     "metadata": {},
     "output_type": "execute_result"
    }
   ],
   "source": [
    "mod = 10 ** 9 + 7\n",
    "\n",
    "10 // 2, 10 * pow(2, mod - 2, mod) % mod"
   ]
  },
  {
   "cell_type": "markdown",
   "metadata": {},
   "source": [
    "#### 繰り返し自乗法\n",
    "\n",
    "$N^p \\pmod{M}$の値を$O(\\log p)$で求める．"
   ]
  },
  {
   "cell_type": "code",
   "execution_count": 12,
   "metadata": {},
   "outputs": [
    {
     "data": {
      "text/plain": [
       "140625001"
      ]
     },
     "execution_count": 12,
     "metadata": {},
     "output_type": "execute_result"
    }
   ],
   "source": [
    "pow(2, 1000000000, 10 ** 9 + 7)"
   ]
  },
  {
   "cell_type": "markdown",
   "metadata": {},
   "source": [
    "# MODの性質"
   ]
  },
  {
   "cell_type": "markdown",
   "metadata": {},
   "source": [
    "## 1. 足し算・引き算ではMODは変化しない\n",
    "\n",
    "例1.\n",
    "\n",
    "`6 mod 2 == (5 mod 2 + 4 mod 2) mod 2`\n",
    "\n",
    "例2. 十進数のmodは，二進数のmodの和になる．\n",
    "\n",
    "`x mod n == (i_0*2**0 mod n + i_1*2**1 mod n + ...)`"
   ]
  },
  {
   "cell_type": "markdown",
   "metadata": {},
   "source": [
    "## 2. 割り算ではMODは変化しえる\n",
    "\n",
    "例\n",
    "\n",
    "`6 mod 2 != 6 // 2 mod 2`"
   ]
  },
  {
   "cell_type": "markdown",
   "metadata": {},
   "source": [
    "ただし，互いに素だとわかっている場合には，変化しない．\n",
    "\n",
    "`mod n = 2019`とする．\n",
    "\n",
    "`20192018 mod n = (2019 * 10000) mod n + 2018 mod`"
   ]
  },
  {
   "cell_type": "code",
   "execution_count": null,
   "metadata": {},
   "outputs": [],
   "source": []
  },
  {
   "cell_type": "code",
   "execution_count": null,
   "metadata": {},
   "outputs": [],
   "source": []
  }
 ],
 "metadata": {
  "kernelspec": {
   "display_name": "Python 3",
   "language": "python",
   "name": "python3"
  },
  "language_info": {
   "codemirror_mode": {
    "name": "ipython",
    "version": 3
   },
   "file_extension": ".py",
   "mimetype": "text/x-python",
   "name": "python",
   "nbconvert_exporter": "python",
   "pygments_lexer": "ipython3",
   "version": "3.7.7"
  }
 },
 "nbformat": 4,
 "nbformat_minor": 4
}