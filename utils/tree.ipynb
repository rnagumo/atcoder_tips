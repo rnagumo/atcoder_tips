{
 "cells": [
  {
   "cell_type": "markdown",
   "metadata": {},
   "source": [
    "# Range Minimum Query\n",
    "\n",
    "セグメント木の一種\n",
    "\n",
    "DPとの応用  \n",
    "http://topcoder.g.hatena.ne.jp/skyaozora/20171212/1513084670\n",
    "\n",
    "解説記事  \n",
    "http://tsutaj.hatenablog.com/entry/2017/03/29/204841"
   ]
  },
  {
   "cell_type": "code",
   "execution_count": 1,
   "metadata": {},
   "outputs": [],
   "source": [
    "INF = 10 ** 9 + 7\n",
    "\n",
    "class RMQ:\n",
    "    def __init__(self, x):\n",
    "        # 1-index\n",
    "        self.n = 2 ** len(x).bit_length()\n",
    "        self.dat = [INF] * (2 * self.n - 1)\n",
    "        \n",
    "        for k, v in enumerate(x):\n",
    "            self.update(k, v)\n",
    "        \n",
    "    def update(self, k, v):\n",
    "        k += self.n - 1\n",
    "        self.dat[k] = v\n",
    "        while k > 0:\n",
    "            k = (k - 1) // 2\n",
    "            self.dat[k] = min(self.dat[k * 2 + 1], self.dat[k * 2 + 2])\n",
    "            \n",
    "    def query(self, a, b, k=0, l=0, r=None):\n",
    "        # Retrun min [a, b)\n",
    "        if r is None:\n",
    "            r = self.n\n",
    "        \n",
    "        if b <= l or r <= a:\n",
    "            return INF\n",
    "        \n",
    "        if a <= l and r <= b:\n",
    "            return self.dat[k]\n",
    "        \n",
    "        vl = self.query(a, b, k * 2 + 1, l, (l + r) // 2)\n",
    "        vr = self.query(a, b, k * 2 + 2, (l + r) // 2, r)\n",
    "        \n",
    "        return min(vl, vr)\n",
    "            \n",
    "    def __repr__(self):\n",
    "        return ', '.join([str(v) for v in self.dat])"
   ]
  },
  {
   "cell_type": "code",
   "execution_count": 2,
   "metadata": {},
   "outputs": [
    {
     "data": {
      "text/plain": [
       "1, 3, 1, 3, 7, 4, 1, 5, 3, 7, 9, 6, 4, 1, 1000000007"
      ]
     },
     "execution_count": 2,
     "metadata": {},
     "output_type": "execute_result"
    }
   ],
   "source": [
    "bit = [5, 3, 7, 9, 6, 4, 1]\n",
    "rmq = RMQ(bit)\n",
    "rmq"
   ]
  },
  {
   "cell_type": "code",
   "execution_count": null,
   "metadata": {},
   "outputs": [],
   "source": [
    "class SegmentTree:\n",
    "    # Range Add Query\n",
    "    def __init__(self, n):\n",
    "        # 0-indexed.\n",
    "        x = 1\n",
    "        while x < n:\n",
    "            x *= 2\n",
    "\n",
    "        self.n = x\n",
    "        self.base = 0\n",
    "        self.dat = [self.base] * (2 * x - 1)\n",
    "\n",
    "    def update(self, k, v):\n",
    "        # Update dat[k] to v.\n",
    "        k += self.n - 1\n",
    "        self.dat[k] = v\n",
    "        while k > 0:\n",
    "            k = (k - 1) // 2\n",
    "            self.dat[k] = self.dat[k * 2 + 1] + self.dat[k * 2 + 2]\n",
    "\n",
    "    def query(self, a, b, k=0, l=0, r=0):\n",
    "        # Returns value in [a, b).\n",
    "        if l >= r:\n",
    "            r = self.n\n",
    "\n",
    "        if b <= l or r <= a:\n",
    "            return self.base\n",
    "\n",
    "        if a <= l and r <= b:\n",
    "            return self.dat[k]\n",
    "\n",
    "        vl = self.query(a, b, k * 2 + 1, l, (l + r) // 2)\n",
    "        vr = self.query(a, b, k * 2 + 2, (l + r) // 2, r)\n",
    "        return vl + vr"
   ]
  },
  {
   "cell_type": "markdown",
   "metadata": {},
   "source": [
    "# Binary Index Tree\n",
    "\n",
    "i番目までの数値の和を求める．"
   ]
  },
  {
   "cell_type": "code",
   "execution_count": 12,
   "metadata": {},
   "outputs": [],
   "source": [
    "class BIT:\n",
    "    # Binary Index Tree\n",
    "    # Index start from 1.\n",
    "    \n",
    "    def __init__(self, bit):\n",
    "        self.n = len(bit)\n",
    "        self.bit = [0] * (self.n + 1)\n",
    "        \n",
    "        for i, v in enumerate(bit):\n",
    "            self.update(i + 1, v)\n",
    "        \n",
    "    def update(self, i, v):\n",
    "        while i <= self.n:\n",
    "            self.bit[i] += v\n",
    "            i += i & -i\n",
    "            \n",
    "    def sumup(self, i):\n",
    "        s = 0\n",
    "        while i > 0:\n",
    "            s += self.bit[i]\n",
    "            i -= i & -i\n",
    "            \n",
    "        return s\n",
    "            \n",
    "    def __repr__(self):\n",
    "        return ', '.join([str(v) for v in self.bit])"
   ]
  },
  {
   "cell_type": "code",
   "execution_count": 13,
   "metadata": {},
   "outputs": [
    {
     "data": {
      "text/plain": [
       "0, 5, 8, 7, 24, 6, 10, 1, 37"
      ]
     },
     "execution_count": 13,
     "metadata": {},
     "output_type": "execute_result"
    }
   ],
   "source": [
    "bit = BIT([5, 3, 7, 9, 6, 4, 1, 2])\n",
    "bit"
   ]
  },
  {
   "cell_type": "code",
   "execution_count": 14,
   "metadata": {},
   "outputs": [
    {
     "data": {
      "text/plain": [
       "15"
      ]
     },
     "execution_count": 14,
     "metadata": {},
     "output_type": "execute_result"
    }
   ],
   "source": [
    "bit.sumup(3)"
   ]
  },
  {
   "cell_type": "code",
   "execution_count": 15,
   "metadata": {},
   "outputs": [
    {
     "data": {
      "text/plain": [
       "5"
      ]
     },
     "execution_count": 15,
     "metadata": {},
     "output_type": "execute_result"
    }
   ],
   "source": [
    "bit.sumup(7) - bit.sumup(5)"
   ]
  },
  {
   "cell_type": "markdown",
   "metadata": {},
   "source": [
    "# BIT alt\n",
    "\n",
    "BITのデータ構造で，RMQと似たような操作も可能．  \n",
    "ただし，これはMaximumを求めるBIT．"
   ]
  },
  {
   "cell_type": "code",
   "execution_count": 1,
   "metadata": {},
   "outputs": [],
   "source": [
    "class BIT:\n",
    "    def __init__(self, bit=None, n=10 ** 5 + 1):\n",
    "        self.n = n if bit is None else len(bit) + 1\n",
    "        self.bit = [0] * self.n\n",
    "        \n",
    "        if bit is not None:\n",
    "            for i, v in enumerate(bit):\n",
    "                self.update(i + 1, v)\n",
    "        \n",
    "    def update(self, i, v):\n",
    "        # 1-indexed\n",
    "        while i <= self.n:\n",
    "            if self.bit[i] < v:\n",
    "                self.bit[i] = v\n",
    "            self.bit[i] = max(self.bit[i], v)\n",
    "            i += i & -i\n",
    "            \n",
    "    def query(self, i):\n",
    "        # 1-indexed\n",
    "        ret = 0\n",
    "        while i > 0:\n",
    "            if ret < self.bit[i]:\n",
    "                ret = self.bit[i]\n",
    "            i -= i & -i\n",
    "            \n",
    "        return ret\n",
    "            \n",
    "    def __repr__(self, max_len=100):\n",
    "        return ', '.join([str(v) for v in self.bit[:max_len]])"
   ]
  },
  {
   "cell_type": "code",
   "execution_count": 2,
   "metadata": {},
   "outputs": [
    {
     "data": {
      "text/plain": [
       "0, 5, 5, 7, 9, 6, 6, 1, 9"
      ]
     },
     "execution_count": 2,
     "metadata": {},
     "output_type": "execute_result"
    }
   ],
   "source": [
    "x = [5, 3, 7, 9, 6, 4, 1, 2]\n",
    "bit = BIT(bit=x)\n",
    "bit"
   ]
  },
  {
   "cell_type": "code",
   "execution_count": 2,
   "metadata": {},
   "outputs": [
    {
     "data": {
      "text/plain": [
       "0, 5, 5, 7, 9, 6, 6, 1, 9"
      ]
     },
     "execution_count": 2,
     "metadata": {},
     "output_type": "execute_result"
    }
   ],
   "source": [
    "x = [5, 3, 7, 9, 6, 4, 1, 2]\n",
    "bit = BIT(bit=x)\n",
    "bit"
   ]
  },
  {
   "cell_type": "code",
   "execution_count": 3,
   "metadata": {},
   "outputs": [
    {
     "data": {
      "text/plain": [
       "(7, 9)"
      ]
     },
     "execution_count": 3,
     "metadata": {},
     "output_type": "execute_result"
    }
   ],
   "source": [
    "bit.query(3), bit.query(5)"
   ]
  },
  {
   "cell_type": "markdown",
   "metadata": {},
   "source": [
    "ちなみに，indexの演算はこの通り"
   ]
  },
  {
   "cell_type": "code",
   "execution_count": 121,
   "metadata": {},
   "outputs": [
    {
     "name": "stdout",
     "output_type": "stream",
     "text": [
      "0 0\n",
      "1 1\n",
      "2 2\n",
      "3 1\n",
      "4 4\n",
      "5 1\n",
      "6 2\n",
      "7 1\n",
      "8 8\n",
      "9 1\n"
     ]
    }
   ],
   "source": [
    "for i in range(10):\n",
    "    print(i, i & -i)"
   ]
  },
  {
   "cell_type": "markdown",
   "metadata": {},
   "source": [
    "# BIT\n",
    "\n",
    "* 区間$[a, b)$に定数$x$を加算する．\n",
    "* 区間$[a, b)$の和を求める．\n",
    "\n",
    "http://drken1215.hatenablog.com/entry/2020/01/26/234000"
   ]
  },
  {
   "cell_type": "code",
   "execution_count": 13,
   "metadata": {},
   "outputs": [],
   "source": [
    "class BIT:\n",
    "    def __init__(self, n):\n",
    "        # 1-index\n",
    "        self.n = n\n",
    "        self.dat = [[0] * self.n for _ in range(2)]\n",
    "        \n",
    "    def _add_body(self, p, i, x):\n",
    "        while i < self.n:\n",
    "            self.dat[p][i] += x\n",
    "            i += i & -i\n",
    "\n",
    "    def add(self, a, b, x):\n",
    "        # Add x to [a, b)\n",
    "        self._add_body(0, a, x * -(a - 1))\n",
    "        self._add_body(1, a, x)\n",
    "        self._add_body(0, b, x * (b - 1))\n",
    "        self._add_body(1, b, x * -1)\n",
    "\n",
    "    def _query_body(self, p, i):\n",
    "        res = 0\n",
    "        while i > 0:\n",
    "            res += self.dat[p][i]\n",
    "            i -= i & -i\n",
    "        return res\n",
    "        \n",
    "    def query(self, a, b):\n",
    "        # Return sum of [a, b)\n",
    "        res = (self._query_body(0, b - 1)\n",
    "               + self._query_body(1, b - 1) * (b - 1)\n",
    "               - self._query_body(0, a - 1)\n",
    "               - self._query_body(1, a - 1) * (a - 1))\n",
    "        return res\n",
    "\n",
    "    def __repr__(self):\n",
    "        return \", \".join([str(self.query(i, i + 1)) for i in range(self.n)])"
   ]
  },
  {
   "cell_type": "code",
   "execution_count": 14,
   "metadata": {},
   "outputs": [
    {
     "name": "stdout",
     "output_type": "stream",
     "text": [
      "2\n"
     ]
    }
   ],
   "source": [
    "N, D, A = 3, 3, 2\n",
    "XH = [[1, 2], [5, 4], [9, 2]]\n",
    "\n",
    "print(2)"
   ]
  },
  {
   "cell_type": "code",
   "execution_count": 17,
   "metadata": {},
   "outputs": [
    {
     "name": "stdout",
     "output_type": "stream",
     "text": [
      "2\n"
     ]
    }
   ],
   "source": [
    "import bisect\n",
    "\n",
    "X, H = zip(*sorted(XH))\n",
    "bit = BIT(N + 10)\n",
    "\n",
    "# 初期化\n",
    "for i, h in enumerate(H):\n",
    "    bit.add(i + 1, i + 2, h)\n",
    "    \n",
    "# 処理\n",
    "res = 0\n",
    "for i in range(N):\n",
    "    cur = bit.query(i + 1, i + 2)\n",
    "    if cur <= 0:\n",
    "        continue\n",
    "\n",
    "    need = -(-cur // A)\n",
    "    idx = bisect.bisect_right(X, X[i] + 2 * D) + 1\n",
    "    bit.add(i + 1, idx + 1, -need * A)\n",
    "    res += need\n",
    "    \n",
    "print(res)"
   ]
  },
  {
   "cell_type": "markdown",
   "metadata": {},
   "source": [
    "## BITを使った追加・加算\n",
    "\n",
    "* `sum(i)`: `[0, i]`の範囲の和を求める．\n",
    "* `add(i, x)`: `i`に`x`を追加する．\n",
    "\n",
    "https://atcoder.jp/contests/abc157/tasks/abc157_e"
   ]
  },
  {
   "cell_type": "code",
   "execution_count": 2,
   "metadata": {},
   "outputs": [],
   "source": [
    "class BIT:\n",
    "    def __init__(self, n):\n",
    "        self.size = n\n",
    "        self.tree = [0] * (n + 1)\n",
    "        \n",
    "    def sum(self, i):\n",
    "        s = 0\n",
    "        while i > 0:\n",
    "            s += self.tree[i]\n",
    "            i -= i & -i\n",
    "        return s\n",
    "    \n",
    "    def add(self, i, x):\n",
    "        while i <= self.size:\n",
    "            self.tree[i] += x\n",
    "            i += i & -i"
   ]
  },
  {
   "cell_type": "code",
   "execution_count": 1,
   "metadata": {},
   "outputs": [
    {
     "name": "stdout",
     "output_type": "stream",
     "text": [
      "3 1 5\n"
     ]
    }
   ],
   "source": [
    "N = 7\n",
    "S = list(\"abcdbbd\")\n",
    "Q = 6\n",
    "X = [['2', '3', '6'], ['1', '5', 'z'], ['2', '1', '1'],\n",
    "     ['1', '4', 'a'], ['1', '7', 'd'], ['2', '1', '7']]\n",
    "\n",
    "print(3, 1, 5)"
   ]
  },
  {
   "cell_type": "code",
   "execution_count": 3,
   "metadata": {},
   "outputs": [],
   "source": [
    "MAX = 5 * 10 ** 5 + 2\n",
    "d = dict()\n",
    "\n",
    "for c in range(ord(\"a\"), ord(\"z\") + 1):\n",
    "    s = chr(c)\n",
    "    d[s] = BIT(MAX)\n",
    "    for i, v in enumerate(S):\n",
    "        if v == s:\n",
    "            d[s].add(i + 1, 1)"
   ]
  },
  {
   "cell_type": "code",
   "execution_count": 4,
   "metadata": {},
   "outputs": [
    {
     "name": "stdout",
     "output_type": "stream",
     "text": [
      "3\n",
      "1\n",
      "5\n"
     ]
    }
   ],
   "source": [
    "for t, i, c in X:\n",
    "    if t == \"1\":\n",
    "        i = int(i)\n",
    "        \n",
    "        if S[i - 1] != c:\n",
    "            # Delete index\n",
    "            d[S[i - 1]].add(i, -1)\n",
    "            \n",
    "            # Insert index\n",
    "            d[c].add(i, 1)\n",
    "            S[i - 1] = c\n",
    "    else:\n",
    "        l = int(i)\n",
    "        r = int(c)\n",
    "        \n",
    "        res = 0\n",
    "        for c in range(ord(\"a\"), ord(\"z\") + 1):\n",
    "            s = chr(c)\n",
    "            res += int(d[s].sum(r) - d[s].sum(l - 1) > 0)\n",
    "\n",
    "        print(res)"
   ]
  },
  {
   "cell_type": "markdown",
   "metadata": {},
   "source": [
    "# 転倒数\n",
    "\n",
    "数列$A = \\{a_1, a_2, ..., a_n\\}$に対し、$i < j$ かつ $a[i] > a[j]$となる$(i,j)$のペアの個数．  \n",
    "転倒数で無い方を求めて，残りから引く\n",
    "\n",
    "https://ikatakos.com/pot/programming_algorithm/dynamic_programming/inversion"
   ]
  },
  {
   "cell_type": "code",
   "execution_count": 3,
   "metadata": {},
   "outputs": [],
   "source": [
    "class BIT:\n",
    "    def __init__(self, n):\n",
    "        self.n = n\n",
    "        self.bit = [0] * (n + 1)\n",
    "        \n",
    "    def update(self, i, v):\n",
    "        # 1-indexed\n",
    "        while i <= self.n:\n",
    "            self.bit[i] += v\n",
    "            i += i & -i\n",
    "            \n",
    "    def query(self, i):\n",
    "        # 1-indexed, query sum(bit[:i])\n",
    "        ret = 0\n",
    "        while i > 0:\n",
    "            ret += self.bit[i]\n",
    "            i -= i & -i\n",
    "            \n",
    "        return ret"
   ]
  },
  {
   "cell_type": "code",
   "execution_count": 2,
   "metadata": {},
   "outputs": [
    {
     "name": "stdout",
     "output_type": "stream",
     "text": [
      "5\n"
     ]
    }
   ],
   "source": [
    "bit = BIT(16)\n",
    "d = [3, 10, 1, 8, 5]\n",
    "ans = 0\n",
    "\n",
    "for i, v in enumerate(d):\n",
    "    bit.update(v, 1)\n",
    "    ans += i + 1 - bit.query(v)\n",
    "    \n",
    "print(ans)"
   ]
  },
  {
   "cell_type": "markdown",
   "metadata": {},
   "source": [
    "# Union Find Tree\n",
    "\n",
    "疎集合データ構造  \n",
    "N頂点の，単純とは限らない無向グラフの結合，連結判定．\n",
    "\n",
    "計算量は，アッカーマン関数の逆関数$\\alpha$として，$O(\\alpha(n)) \\sim O(1)$．\n",
    "\n",
    "https://atcoder.jp/contests/atc001/tasks/unionfind_a"
   ]
  },
  {
   "cell_type": "code",
   "execution_count": 1,
   "metadata": {},
   "outputs": [],
   "source": [
    "N, Q = 8, 9\n",
    "X = [[0, 1, 2], [0, 3, 2], [1, 1, 3], [1, 1, 4], [0, 2, 4], \n",
    "     [1, 4, 1], [0, 4, 2], [0, 0, 0], [1, 0, 0]]"
   ]
  },
  {
   "cell_type": "code",
   "execution_count": 10,
   "metadata": {},
   "outputs": [
    {
     "data": {
      "text/plain": [
       "([0, 1, 2, 3, 4, 5, 6, 7], [0, 0, 0, 0, 0, 0, 0, 0])"
      ]
     },
     "execution_count": 10,
     "metadata": {},
     "output_type": "execute_result"
    }
   ],
   "source": [
    "# Parent\n",
    "par = list(range(N))\n",
    "\n",
    "# Rank of tree\n",
    "rank = [0] * N\n",
    "\n",
    "par, rank"
   ]
  },
  {
   "cell_type": "code",
   "execution_count": 11,
   "metadata": {},
   "outputs": [],
   "source": [
    "def find(x):\n",
    "    # Find root\n",
    "    if par[x] == x:\n",
    "        return x\n",
    "    else:\n",
    "        par[x] = find(par[x])\n",
    "        return par[x]"
   ]
  },
  {
   "cell_type": "code",
   "execution_count": 12,
   "metadata": {},
   "outputs": [],
   "source": [
    "def unite(x, y):\n",
    "    # Unite tree\n",
    "    x = find(x)\n",
    "    y = find(y)\n",
    "    \n",
    "    if x == y:\n",
    "        return\n",
    "    \n",
    "    if rank[x] < rank[y]:\n",
    "        par[x] = y\n",
    "    else:\n",
    "        par[y] = x\n",
    "        if rank[x] == rank[y]:\n",
    "            rank[x] += 1"
   ]
  },
  {
   "cell_type": "code",
   "execution_count": 13,
   "metadata": {},
   "outputs": [],
   "source": [
    "def same(x, y):\n",
    "    # Check whether x & y belong to the same tree\n",
    "    return find(x) == find(y)"
   ]
  },
  {
   "cell_type": "code",
   "execution_count": 14,
   "metadata": {},
   "outputs": [
    {
     "name": "stdout",
     "output_type": "stream",
     "text": [
      "Yes\n",
      "No\n",
      "Yes\n",
      "Yes\n"
     ]
    }
   ],
   "source": [
    "for p, a, b in X:\n",
    "    if p == 0:\n",
    "        unite(a, b)\n",
    "    else:\n",
    "        print('Yes' if same(a, b) else 'No')"
   ]
  },
  {
   "cell_type": "code",
   "execution_count": 15,
   "metadata": {},
   "outputs": [
    {
     "data": {
      "text/plain": [
       "([0, 1, 1, 1, 1, 5, 6, 7], [0, 1, 0, 0, 0, 0, 0, 0])"
      ]
     },
     "execution_count": 15,
     "metadata": {},
     "output_type": "execute_result"
    }
   ],
   "source": [
    "par, rank"
   ]
  },
  {
   "cell_type": "markdown",
   "metadata": {},
   "source": [
    "### クラス実装"
   ]
  },
  {
   "cell_type": "code",
   "execution_count": 1,
   "metadata": {},
   "outputs": [],
   "source": [
    "class UnionFind:\n",
    "    def __init__(self, n):\n",
    "        self.par = list(range(n))\n",
    "        self.rank = [0] * n\n",
    "        self.size = [1] * n\n",
    "        \n",
    "    def find(self, x):\n",
    "        if self.par[x] == x:\n",
    "            return x\n",
    "        else:\n",
    "            self.par[x] = self.find(self.par[x])\n",
    "            return self.par[x]\n",
    "        \n",
    "    def unite(self, x, y):\n",
    "        x = self.find(x)\n",
    "        y = self.find(y)\n",
    "        \n",
    "        if x == y:\n",
    "            return\n",
    "        \n",
    "        if self.rank[x] == self.rank[y]:\n",
    "            self.rank[x] += 1\n",
    "        elif self.rank[x] < self.rank[y]:\n",
    "            x, y = y, x\n",
    "        \n",
    "        self.par[y] = x\n",
    "        self.size[x] += self.size[y]\n",
    "                \n",
    "    def is_same(self, x, y):\n",
    "        return self.find(x) == self.find(y)\n",
    "    \n",
    "    def get_size(self, x):\n",
    "        return self.size[self.find(x)]\n",
    "    \n",
    "    def __repr__(self):\n",
    "        return ', '.join(str(x) for x in self.par)"
   ]
  },
  {
   "cell_type": "code",
   "execution_count": 26,
   "metadata": {},
   "outputs": [],
   "source": [
    "N, Q = 8, 9\n",
    "X = [[0, 1, 2], [0, 3, 2], [1, 1, 3], [1, 1, 4], [0, 2, 4], \n",
    "     [1, 4, 1], [0, 4, 2], [0, 0, 0], [1, 0, 0]]"
   ]
  },
  {
   "cell_type": "code",
   "execution_count": 27,
   "metadata": {},
   "outputs": [
    {
     "name": "stdout",
     "output_type": "stream",
     "text": [
      "Yes\n",
      "No\n",
      "Yes\n",
      "Yes\n"
     ]
    }
   ],
   "source": [
    "t = UnionFind(N)\n",
    "for p, a, b in X:\n",
    "    if p == 0:\n",
    "        t.unite(a, b)\n",
    "    else:\n",
    "        print('Yes' if t.is_same(a, b) else 'No')"
   ]
  },
  {
   "cell_type": "code",
   "execution_count": 28,
   "metadata": {},
   "outputs": [
    {
     "data": {
      "text/plain": [
       "0, 1, 1, 1, 1, 5, 6, 7"
      ]
     },
     "execution_count": 28,
     "metadata": {},
     "output_type": "execute_result"
    }
   ],
   "source": [
    "t"
   ]
  },
  {
   "cell_type": "code",
   "execution_count": 31,
   "metadata": {},
   "outputs": [
    {
     "data": {
      "text/plain": [
       "(1, 4, 4)"
      ]
     },
     "execution_count": 31,
     "metadata": {},
     "output_type": "execute_result"
    }
   ],
   "source": [
    "t.get_size(0), t.get_size(1), t.get_size(2)"
   ]
  },
  {
   "cell_type": "markdown",
   "metadata": {},
   "source": [
    "# 重み付き Union-Find\n",
    "\n",
    "https://atcoder.jp/contests/arc090/tasks/arc090_b"
   ]
  },
  {
   "cell_type": "code",
   "execution_count": 2,
   "metadata": {},
   "outputs": [],
   "source": [
    "class WeightedUnionFind:\n",
    "    def __init__(self, n):\n",
    "        self.par = list(range(n))\n",
    "        self.rank = [0] * n\n",
    "        self.weight = [0] * n\n",
    "        \n",
    "    def find(self, x):\n",
    "        if self.par[x] == x:\n",
    "            return x\n",
    "        else:\n",
    "            y = self.find(self.par[x])\n",
    "            self.weight[x] += self.weight[self.par[x]]\n",
    "            self.par[x] = y\n",
    "            return y\n",
    "        \n",
    "    def unite(self, x, y, w):\n",
    "        px = self.find(x)\n",
    "        py = self.find(y)\n",
    "        \n",
    "        if px == py:\n",
    "            return True\n",
    "        \n",
    "        if self.rank[px] == self.rank[py]:\n",
    "            self.rank[px] += 1\n",
    "        elif self.rank[px] < self.rank[py]:\n",
    "            px, py = py, px\n",
    "            x, y = y, x\n",
    "            w *= -1\n",
    "\n",
    "        self.par[py] = px\n",
    "        self.weight[py] = self.weight[x] - self.weight[y] - w\n",
    "                \n",
    "    def same(self, x, y):\n",
    "        return self.find(x) == self.find(y)\n",
    "    \n",
    "    def diff(self, x, y):\n",
    "        return self.weight[x] - self.weight[y]"
   ]
  },
  {
   "cell_type": "code",
   "execution_count": 1,
   "metadata": {},
   "outputs": [
    {
     "name": "stdout",
     "output_type": "stream",
     "text": [
      "ans: Yes\n"
     ]
    }
   ],
   "source": [
    "N, M = 3, 3\n",
    "X = [[1, 2, 1], [2, 3, 1], [1, 3, 2]]\n",
    "\n",
    "print('ans: Yes')"
   ]
  },
  {
   "cell_type": "code",
   "execution_count": 5,
   "metadata": {},
   "outputs": [
    {
     "name": "stdout",
     "output_type": "stream",
     "text": [
      "No\n"
     ]
    }
   ],
   "source": [
    "t = WeightedUnionFind(N + 1)\n",
    "for l, r, d in X:\n",
    "    if t.same(l, r):\n",
    "        if t.diff(l, r) != d:\n",
    "            print('No')\n",
    "            break\n",
    "    else:\n",
    "        t.unite(l, r, d)\n",
    "else:\n",
    "    print('Yes')"
   ]
  },
  {
   "cell_type": "markdown",
   "metadata": {},
   "source": [
    "# 遅延評価付きSegment Tree\n",
    "\n",
    "RSQ: Range Sum Query  \n",
    "RAQ: Range Add Query\n",
    "\n",
    "http://judge.u-aizu.ac.jp/onlinejudge/description.jsp?id=DSL_2_G&lang=jp"
   ]
  },
  {
   "cell_type": "code",
   "execution_count": 96,
   "metadata": {},
   "outputs": [
    {
     "name": "stdout",
     "output_type": "stream",
     "text": [
      "ans: 4, 8\n"
     ]
    }
   ],
   "source": [
    "n, q = 3, 5\n",
    "X = [[0, 1, 2, 1], [0, 2, 3, 2], [0, 3, 3, 3],\n",
    "     [1, 1, 2], [1, 2, 3]]\n",
    "\n",
    "print('ans: 4, 8')"
   ]
  },
  {
   "cell_type": "code",
   "execution_count": 97,
   "metadata": {},
   "outputs": [],
   "source": [
    "class LazySegmentTree:\n",
    "    # Segment Tree with Lazy Evaluation\n",
    "    def __init__(self, n):\n",
    "        self.n = 2 ** n.bit_length()\n",
    "        self.node = [0] * (2 * self.n - 1)\n",
    "        self.lazy = [0] * (2 * self.n - 1)\n",
    "        \n",
    "    def add(self, a, b, x, k=0, l=0, r=None):\n",
    "        # Add x in [a, b)\n",
    "        if r is None:\n",
    "            r = self.n\n",
    "            \n",
    "        if a <= l and r <= b:\n",
    "            self.node[k] += x\n",
    "        elif l < b and a < r:\n",
    "            self.lazy[k] += (min(b, r) - max(a, l)) * x\n",
    "            self.add(a, b, x, k * 2 + 1, l, (l + r) // 2)\n",
    "            self.add(a, b, x, k * 2 + 2, (l + r) // 2, r)\n",
    "            \n",
    "    def get_sum(self, a, b, k=0, l=0, r=None):\n",
    "        # Return sum in [a, b)\n",
    "        if r is None:\n",
    "            r = self.n\n",
    "            \n",
    "        if b <= l or r <= a:\n",
    "            return 0\n",
    "        elif a <= l and r <= b:\n",
    "            return self.node[k] * (r - l) + self.lazy[k]\n",
    "        else:\n",
    "            ret = (min(b, r) - max(a, l)) * self.node[k]\n",
    "            ret += self.get_sum(a, b, k * 2 + 1, l, (l + r) // 2)\n",
    "            ret += self.get_sum(a, b, k * 2 + 2, (l + r) // 2, r)\n",
    "            return ret"
   ]
  },
  {
   "cell_type": "code",
   "execution_count": 98,
   "metadata": {},
   "outputs": [
    {
     "name": "stdout",
     "output_type": "stream",
     "text": [
      "4\n",
      "8\n"
     ]
    }
   ],
   "source": [
    "tree = LazySegmentTree(n)\n",
    "ans = []\n",
    "for o, *x in X:\n",
    "    if o == 0:\n",
    "        tree.add(x[0], x[1] + 1, x[2])\n",
    "    else:\n",
    "        ans.append(tree.get_sum(x[0], x[1] + 1))\n",
    "print(*ans, sep='\\n')"
   ]
  },
  {
   "cell_type": "markdown",
   "metadata": {},
   "source": [
    "# Treeの深さを求める\n",
    "\n",
    "普通にbfs / dfs"
   ]
  },
  {
   "cell_type": "code",
   "execution_count": 1,
   "metadata": {},
   "outputs": [],
   "source": [
    "N, u, v = 5, 4, 1\n",
    "X = [[1, 2], [2, 3], [3, 4], [3, 5]]"
   ]
  },
  {
   "cell_type": "code",
   "execution_count": 2,
   "metadata": {},
   "outputs": [
    {
     "data": {
      "text/plain": [
       "[[1], [0, 2], [1, 3, 4], [2], [2]]"
      ]
     },
     "execution_count": 2,
     "metadata": {},
     "output_type": "execute_result"
    }
   ],
   "source": [
    "edges = [[] for _ in range(N)]\n",
    "for x, y in X:\n",
    "    edges[x - 1].append(y - 1)\n",
    "    edges[y - 1].append(x - 1)\n",
    "    \n",
    "edges"
   ]
  },
  {
   "cell_type": "code",
   "execution_count": 3,
   "metadata": {},
   "outputs": [],
   "source": [
    "from collections import deque\n",
    "INF = 10 ** 9 + 7\n",
    "\n",
    "def bfs(s):\n",
    "    d = [INF] * N\n",
    "    d[s] = 0\n",
    "\n",
    "    visited = [False] * N\n",
    "    visited[s] = True\n",
    "    \n",
    "    q = deque()\n",
    "    q.append(s)\n",
    "    \n",
    "    while q:\n",
    "        u = q.popleft()\n",
    "        for v in edges[u]:\n",
    "            if visited[v]:\n",
    "                continue\n",
    "            \n",
    "            visited[v] = True\n",
    "            d[v] = d[u] + 1\n",
    "            q.append(v)\n",
    "            \n",
    "    return d"
   ]
  },
  {
   "cell_type": "code",
   "execution_count": 4,
   "metadata": {},
   "outputs": [
    {
     "data": {
      "text/plain": [
       "([3, 2, 1, 0, 2], [0, 1, 2, 3, 3])"
      ]
     },
     "execution_count": 4,
     "metadata": {},
     "output_type": "execute_result"
    }
   ],
   "source": [
    "bfs(u - 1), bfs(v - 1)"
   ]
  },
  {
   "cell_type": "markdown",
   "metadata": {},
   "source": [
    "# 平衡二分探索木\n",
    "\n",
    "Treap = Tree + Heap\n",
    "\n",
    "https://www.slideshare.net/iwiwi/2-12188757"
   ]
  },
  {
   "cell_type": "code",
   "execution_count": 32,
   "metadata": {},
   "outputs": [],
   "source": [
    "class Node:\n",
    "    def __init__(self, v, p):\n",
    "        self.value = v  # value\n",
    "        self.lch = None  # Left child\n",
    "        self.rch = None  # Right child\n",
    "        self.priority = p\n",
    "        self.cnt = 1  # Size\n",
    "        self.sum = v  # Sum\n",
    "\n",
    "    def update(self):\n",
    "        self.cnt = t_count(self.lch) + t_count(self.rch) + 1\n",
    "        self.sum = t_sum(self.lch) + t_sum(self.rch) + self.value\n",
    "        return self\n",
    "\n",
    "\n",
    "def t_count(t):\n",
    "    if t is None:\n",
    "        return 0\n",
    "    \n",
    "    return t.cnt\n",
    "\n",
    "\n",
    "def t_sum(t):\n",
    "    if t is None:\n",
    "        return 0\n",
    "    \n",
    "    return t.sum"
   ]
  },
  {
   "cell_type": "markdown",
   "metadata": {},
   "source": [
    "## merge-splitベース"
   ]
  },
  {
   "cell_type": "markdown",
   "metadata": {},
   "source": [
    "木`l`と木`r`を結合"
   ]
  },
  {
   "cell_type": "code",
   "execution_count": 33,
   "metadata": {},
   "outputs": [],
   "source": [
    "def t_merge(l, r):\n",
    "    if l is None:\n",
    "        return r\n",
    "    elif r is None:\n",
    "        return l\n",
    "    \n",
    "    if l.priority > r.priority:\n",
    "        l.rch = t_merge(l.rch, r)\n",
    "        return l.update()\n",
    "    else:\n",
    "        r.lch = t_merge(l, r.lch)\n",
    "        return r.update()"
   ]
  },
  {
   "cell_type": "markdown",
   "metadata": {},
   "source": [
    "木`t`の場所`k`で木を分割: $[0, k)$, $[k, n)$"
   ]
  },
  {
   "cell_type": "code",
   "execution_count": 34,
   "metadata": {},
   "outputs": [],
   "source": [
    "def t_split(t, k):\n",
    "    # Split [0, k), [k, n)\n",
    "    if t is None:\n",
    "        return None, None\n",
    "    \n",
    "    if k <= t_count(t.lch):\n",
    "        lt, rt = t_split(t.lch, k)\n",
    "        t.lch = rt\n",
    "        return lt, t.update()\n",
    "    else:\n",
    "        lt, rt = t_split(t.rch, k - t_count(t.lch) - 1)\n",
    "        t.rch = lt\n",
    "        return t.update(), rt"
   ]
  },
  {
   "cell_type": "markdown",
   "metadata": {},
   "source": [
    "木`t`の場所`k`に，値`v`，優先度`p`のノードを挿入"
   ]
  },
  {
   "cell_type": "code",
   "execution_count": 35,
   "metadata": {},
   "outputs": [],
   "source": [
    "def t_insert(t, k, v, p):\n",
    "    lt, rt = t_split(t, k)\n",
    "    return t_merge(lt, t_merge(Node(v, p), rt))"
   ]
  },
  {
   "cell_type": "markdown",
   "metadata": {},
   "source": [
    "木`t`の場所`k`のノードを削除"
   ]
  },
  {
   "cell_type": "code",
   "execution_count": 36,
   "metadata": {},
   "outputs": [],
   "source": [
    "def t_erase(t, k):\n",
    "    ct, rt = t_split(t, k)\n",
    "    lt, _ = t_split(ct, k - 1)\n",
    "    return t_merge(lt, rt)"
   ]
  },
  {
   "cell_type": "code",
   "execution_count": 37,
   "metadata": {},
   "outputs": [],
   "source": [
    "import random\n",
    "X = [0.4, 0.2, 0.7, 0.1, 0.6, 0.3, 0.8]\n",
    "\n",
    "t = None\n",
    "for i, v in enumerate(X):\n",
    "    t = t_merge(t, Node(v, random.random()))"
   ]
  },
  {
   "cell_type": "code",
   "execution_count": 39,
   "metadata": {},
   "outputs": [
    {
     "data": {
      "text/plain": [
       "0.6"
      ]
     },
     "execution_count": 39,
     "metadata": {},
     "output_type": "execute_result"
    }
   ],
   "source": [
    "t.value"
   ]
  },
  {
   "cell_type": "code",
   "execution_count": null,
   "metadata": {},
   "outputs": [],
   "source": []
  },
  {
   "cell_type": "code",
   "execution_count": null,
   "metadata": {},
   "outputs": [],
   "source": []
  }
 ],
 "metadata": {
  "kernelspec": {
   "display_name": "Python 3",
   "language": "python",
   "name": "python3"
  },
  "language_info": {
   "codemirror_mode": {
    "name": "ipython",
    "version": 3
   },
   "file_extension": ".py",
   "mimetype": "text/x-python",
   "name": "python",
   "nbconvert_exporter": "python",
   "pygments_lexer": "ipython3",
   "version": "3.7.7"
  }
 },
 "nbformat": 4,
 "nbformat_minor": 4
}