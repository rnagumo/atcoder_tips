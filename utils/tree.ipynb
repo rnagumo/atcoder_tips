{
 "cells": [
  {
   "cell_type": "markdown",
   "metadata": {},
   "source": [
    "# Range Minimum Query\n",
    "\n",
    "セグメント木の一種"
   ]
  },
  {
   "cell_type": "code",
   "execution_count": 18,
   "metadata": {},
   "outputs": [],
   "source": [
    "from math import log2, ceil\n",
    "\n",
    "INF = 10 ** 6\n",
    "\n",
    "class RMQ:\n",
    "    def __init__(self, x=None):\n",
    "        self.n = len(x)\n",
    "        self.dat = [INF] * (self.n * ceil(log2(self.n)))\n",
    "        \n",
    "        for k, v in enumerate(x):\n",
    "            self.update(k, v)\n",
    "        \n",
    "    def update(self, k, v):\n",
    "        k += self.n - 1\n",
    "        self.dat[k] = v\n",
    "        while k > 0:\n",
    "            k = (k - 1) // 2\n",
    "            self.dat[k] = min(self.dat[k * 2 + 1], self.dat[k * 2 + 2])\n",
    "            \n",
    "    def query(self, a, b, k=0, l=0, r=None):\n",
    "        if r is None:\n",
    "            r = self.n\n",
    "        \n",
    "        if r <= a or b <= l:\n",
    "            return INF\n",
    "        \n",
    "        if a <= l and r <= b:\n",
    "            return self.dat[k]\n",
    "        \n",
    "        vl = self.query(a, b, k * 2 + 1, 1, (1 + r) // 2)\n",
    "        vr = self.query(a, b, k * 2 + 2, (1 + r) // 2, r)\n",
    "        \n",
    "        return min(vl, vr)\n",
    "            \n",
    "    def __repr__(self):\n",
    "        return ', '.join([str(v) for v in self.dat])"
   ]
  },
  {
   "cell_type": "code",
   "execution_count": 6,
   "metadata": {},
   "outputs": [
    {
     "data": {
      "text/plain": [
       "1, 3, 1, 3, 6, 1, 5, 3, 7, 9, 6, 4, 1, 1000000"
      ]
     },
     "execution_count": 6,
     "metadata": {},
     "output_type": "execute_result"
    }
   ],
   "source": [
    "bit = [5, 3, 7, 9, 6, 4, 1]\n",
    "rmq = RMQ(bit)\n",
    "rmq"
   ]
  },
  {
   "cell_type": "code",
   "execution_count": 7,
   "metadata": {},
   "outputs": [
    {
     "data": {
      "text/plain": [
       "6"
      ]
     },
     "execution_count": 7,
     "metadata": {},
     "output_type": "execute_result"
    }
   ],
   "source": [
    "rmq.query(2, 4)"
   ]
  },
  {
   "cell_type": "code",
   "execution_count": 8,
   "metadata": {},
   "outputs": [
    {
     "data": {
      "text/plain": [
       "3"
      ]
     },
     "execution_count": 8,
     "metadata": {},
     "output_type": "execute_result"
    }
   ],
   "source": [
    "rmq.query(1, 4)"
   ]
  },
  {
   "cell_type": "markdown",
   "metadata": {},
   "source": [
    "# Binary Index Tree\n",
    "\n",
    "i番目までの数値の和を求める．"
   ]
  },
  {
   "cell_type": "code",
   "execution_count": 12,
   "metadata": {},
   "outputs": [],
   "source": [
    "class BIT:\n",
    "    # Binary Index Tree\n",
    "    # Index start from 1.\n",
    "    \n",
    "    def __init__(self, bit):\n",
    "        self.n = len(bit)\n",
    "        self.bit = [0] * (self.n + 1)\n",
    "        \n",
    "        for i, v in enumerate(bit):\n",
    "            self.update(i + 1, v)\n",
    "        \n",
    "    def update(self, i, v):\n",
    "        while i <= self.n:\n",
    "            self.bit[i] += v\n",
    "            i += i & -i\n",
    "            \n",
    "    def sumup(self, i):\n",
    "        s = 0\n",
    "        while i > 0:\n",
    "            s += self.bit[i]\n",
    "            i -= i & -i\n",
    "            \n",
    "        return s\n",
    "            \n",
    "    def __repr__(self):\n",
    "        return ', '.join([str(v) for v in self.bit])"
   ]
  },
  {
   "cell_type": "code",
   "execution_count": 13,
   "metadata": {},
   "outputs": [
    {
     "data": {
      "text/plain": [
       "0, 5, 8, 7, 24, 6, 10, 1, 37"
      ]
     },
     "execution_count": 13,
     "metadata": {},
     "output_type": "execute_result"
    }
   ],
   "source": [
    "bit = BIT([5, 3, 7, 9, 6, 4, 1, 2])\n",
    "bit"
   ]
  },
  {
   "cell_type": "code",
   "execution_count": 14,
   "metadata": {},
   "outputs": [
    {
     "data": {
      "text/plain": [
       "35"
      ]
     },
     "execution_count": 14,
     "metadata": {},
     "output_type": "execute_result"
    }
   ],
   "source": [
    "bit.sumup(7)"
   ]
  },
  {
   "cell_type": "code",
   "execution_count": 16,
   "metadata": {},
   "outputs": [
    {
     "data": {
      "text/plain": [
       "5"
      ]
     },
     "execution_count": 16,
     "metadata": {},
     "output_type": "execute_result"
    }
   ],
   "source": [
    "bit.sumup(7) - bit.sumup(5)"
   ]
  },
  {
   "cell_type": "markdown",
   "metadata": {},
   "source": [
    "# BIT alt\n",
    "\n",
    "BITのデータ構造で，RMQと似たような操作も可能．  \n",
    "ただし，これはMaximumを求めるBIT．"
   ]
  },
  {
   "cell_type": "code",
   "execution_count": 43,
   "metadata": {},
   "outputs": [],
   "source": [
    "class BIT:\n",
    "    def __init__(self, bit=None, n=None):\n",
    "        if n is None:\n",
    "            n = 10 ** 5 + 1\n",
    "\n",
    "        self.n = n if bit is None else len(bit) + 1\n",
    "        self.bit = [0] * self.n\n",
    "        \n",
    "        if bit is not None:\n",
    "            for i, v in enumerate(bit):\n",
    "                self.update(i + 1, v)\n",
    "        \n",
    "    def update(self, i, v):\n",
    "        # 1-indexed\n",
    "        while i <= self.n:\n",
    "            if self.bit[i] < v:\n",
    "                self.bit[i] = v\n",
    "            i += i & -i\n",
    "            \n",
    "    def query(self, i):\n",
    "        # 1-indexed\n",
    "        ret = 0\n",
    "        while i > 0:\n",
    "            if ret < self.bit[i]:\n",
    "                ret = self.bit[i]\n",
    "            i -= i & -i\n",
    "            \n",
    "        return ret\n",
    "            \n",
    "    def __repr__(self, max_len=100):\n",
    "        return ', '.join([str(v) for v in self.bit[:max_len]])"
   ]
  },
  {
   "cell_type": "code",
   "execution_count": 46,
   "metadata": {},
   "outputs": [
    {
     "data": {
      "text/plain": [
       "0, 5, 5, 7, 9, 6, 6, 1, 9"
      ]
     },
     "execution_count": 46,
     "metadata": {},
     "output_type": "execute_result"
    }
   ],
   "source": [
    "x = [5, 3, 7, 9, 6, 4, 1, 2]\n",
    "bit = BIT(bit=x)\n",
    "bit"
   ]
  },
  {
   "cell_type": "code",
   "execution_count": 45,
   "metadata": {},
   "outputs": [
    {
     "data": {
      "text/plain": [
       "(7, 9)"
      ]
     },
     "execution_count": 45,
     "metadata": {},
     "output_type": "execute_result"
    }
   ],
   "source": [
    "bit.query(3), bit.query(5)"
   ]
  },
  {
   "cell_type": "markdown",
   "metadata": {},
   "source": [
    "ちなみに，indexの演算はこの通り"
   ]
  },
  {
   "cell_type": "code",
   "execution_count": 251,
   "metadata": {},
   "outputs": [
    {
     "name": "stdout",
     "output_type": "stream",
     "text": [
      "0 0\n",
      "1 1\n",
      "2 2\n",
      "3 1\n",
      "4 4\n",
      "5 1\n",
      "6 2\n",
      "7 1\n",
      "8 8\n",
      "9 1\n"
     ]
    }
   ],
   "source": [
    "for i in range(10):\n",
    "    print(i, i & -i)"
   ]
  },
  {
   "cell_type": "code",
   "execution_count": null,
   "metadata": {},
   "outputs": [],
   "source": []
  }
 ],
 "metadata": {
  "kernelspec": {
   "display_name": "Python 3",
   "language": "python",
   "name": "python3"
  },
  "language_info": {
   "codemirror_mode": {
    "name": "ipython",
    "version": 3
   },
   "file_extension": ".py",
   "mimetype": "text/x-python",
   "name": "python",
   "nbconvert_exporter": "python",
   "pygments_lexer": "ipython3",
   "version": "3.7.3"
  }
 },
 "nbformat": 4,
 "nbformat_minor": 2
}
