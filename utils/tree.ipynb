{
 "cells": [
  {
   "cell_type": "markdown",
   "metadata": {},
   "source": [
    "# Range Minimum Query\n",
    "\n",
    "セグメント木の一種\n",
    "\n",
    "DPとの応用  \n",
    "http://topcoder.g.hatena.ne.jp/skyaozora/20171212/1513084670"
   ]
  },
  {
   "cell_type": "code",
   "execution_count": 108,
   "metadata": {},
   "outputs": [],
   "source": [
    "from math import log2, ceil\n",
    "\n",
    "INF = 10 ** 6\n",
    "\n",
    "class RMQ:\n",
    "    def __init__(self, x):\n",
    "        self.n = 2 ** ceil(log2(len(x)))\n",
    "        self.dat = [INF] * (2 * self.n - 1)\n",
    "        \n",
    "        for k, v in enumerate(x):\n",
    "            self.update(k, v)\n",
    "        \n",
    "    def update(self, k, v):\n",
    "        k += self.n - 1\n",
    "        self.dat[k] = v\n",
    "        while k > 0:\n",
    "            k = (k - 1) // 2\n",
    "            self.dat[k] = min(self.dat[k * 2 + 1], self.dat[k * 2 + 2])\n",
    "            \n",
    "    def query(self, a, b, k=0, l=0, r=None):\n",
    "        # Retrun min [a, b]\n",
    "        if r is None:\n",
    "            r = self.n\n",
    "        \n",
    "        if r <= a or b <= l:\n",
    "            return INF\n",
    "        \n",
    "        if a <= l and r <= b:\n",
    "            return self.dat[k]\n",
    "        \n",
    "        vl = self.query(a, b, k * 2 + 1, l, (l + r) // 2)\n",
    "        vr = self.query(a, b, k * 2 + 2, (l + r) // 2, r)\n",
    "        \n",
    "        return min(vl, vr)\n",
    "            \n",
    "    def __repr__(self):\n",
    "        return ', '.join([str(v) for v in self.dat])"
   ]
  },
  {
   "cell_type": "code",
   "execution_count": 109,
   "metadata": {},
   "outputs": [
    {
     "data": {
      "text/plain": [
       "1, 3, 1, 3, 7, 4, 1, 5, 3, 7, 9, 6, 4, 1, 1000000"
      ]
     },
     "execution_count": 109,
     "metadata": {},
     "output_type": "execute_result"
    }
   ],
   "source": [
    "bit = [5, 3, 7, 9, 6, 4, 1]\n",
    "rmq = RMQ(bit)\n",
    "rmq"
   ]
  },
  {
   "cell_type": "code",
   "execution_count": 110,
   "metadata": {},
   "outputs": [
    {
     "data": {
      "text/plain": [
       "1"
      ]
     },
     "execution_count": 110,
     "metadata": {},
     "output_type": "execute_result"
    }
   ],
   "source": [
    "rmq.query(0, 10)"
   ]
  },
  {
   "cell_type": "code",
   "execution_count": 116,
   "metadata": {},
   "outputs": [
    {
     "data": {
      "text/plain": [
       "6"
      ]
     },
     "execution_count": 116,
     "metadata": {},
     "output_type": "execute_result"
    }
   ],
   "source": [
    "rmq.query(2, 5)"
   ]
  },
  {
   "cell_type": "markdown",
   "metadata": {},
   "source": [
    "# Binary Index Tree\n",
    "\n",
    "i番目までの数値の和を求める．"
   ]
  },
  {
   "cell_type": "code",
   "execution_count": 12,
   "metadata": {},
   "outputs": [],
   "source": [
    "class BIT:\n",
    "    # Binary Index Tree\n",
    "    # Index start from 1.\n",
    "    \n",
    "    def __init__(self, bit):\n",
    "        self.n = len(bit)\n",
    "        self.bit = [0] * (self.n + 1)\n",
    "        \n",
    "        for i, v in enumerate(bit):\n",
    "            self.update(i + 1, v)\n",
    "        \n",
    "    def update(self, i, v):\n",
    "        while i <= self.n:\n",
    "            self.bit[i] += v\n",
    "            i += i & -i\n",
    "            \n",
    "    def sumup(self, i):\n",
    "        s = 0\n",
    "        while i > 0:\n",
    "            s += self.bit[i]\n",
    "            i -= i & -i\n",
    "            \n",
    "        return s\n",
    "            \n",
    "    def __repr__(self):\n",
    "        return ', '.join([str(v) for v in self.bit])"
   ]
  },
  {
   "cell_type": "code",
   "execution_count": 13,
   "metadata": {},
   "outputs": [
    {
     "data": {
      "text/plain": [
       "0, 5, 8, 7, 24, 6, 10, 1, 37"
      ]
     },
     "execution_count": 13,
     "metadata": {},
     "output_type": "execute_result"
    }
   ],
   "source": [
    "bit = BIT([5, 3, 7, 9, 6, 4, 1, 2])\n",
    "bit"
   ]
  },
  {
   "cell_type": "code",
   "execution_count": 14,
   "metadata": {},
   "outputs": [
    {
     "data": {
      "text/plain": [
       "35"
      ]
     },
     "execution_count": 14,
     "metadata": {},
     "output_type": "execute_result"
    }
   ],
   "source": [
    "bit.sumup(7)"
   ]
  },
  {
   "cell_type": "code",
   "execution_count": 16,
   "metadata": {},
   "outputs": [
    {
     "data": {
      "text/plain": [
       "5"
      ]
     },
     "execution_count": 16,
     "metadata": {},
     "output_type": "execute_result"
    }
   ],
   "source": [
    "bit.sumup(7) - bit.sumup(5)"
   ]
  },
  {
   "cell_type": "markdown",
   "metadata": {},
   "source": [
    "# BIT alt\n",
    "\n",
    "BITのデータ構造で，RMQと似たような操作も可能．  \n",
    "ただし，これはMaximumを求めるBIT．"
   ]
  },
  {
   "cell_type": "code",
   "execution_count": 118,
   "metadata": {},
   "outputs": [],
   "source": [
    "class BIT:\n",
    "    def __init__(self, bit=None, n=None):\n",
    "        if n is None:\n",
    "            n = 10 ** 5 + 1\n",
    "\n",
    "        self.n = n if bit is None else len(bit) + 1\n",
    "        self.bit = [0] * self.n\n",
    "        \n",
    "        if bit is not None:\n",
    "            for i, v in enumerate(bit):\n",
    "                self.update(i + 1, v)\n",
    "        \n",
    "    def update(self, i, v):\n",
    "        # 1-indexed\n",
    "        while i <= self.n:\n",
    "            if self.bit[i] < v:\n",
    "                self.bit[i] = v\n",
    "            self.bit[i] = max(self.bit[i], v)\n",
    "            i += i & -i\n",
    "            \n",
    "    def query(self, i):\n",
    "        # 1-indexed\n",
    "        ret = 0\n",
    "        while i > 0:\n",
    "            if ret < self.bit[i]:\n",
    "                ret = self.bit[i]\n",
    "            i -= i & -i\n",
    "            \n",
    "        return ret\n",
    "            \n",
    "    def __repr__(self, max_len=100):\n",
    "        return ', '.join([str(v) for v in self.bit[:max_len]])"
   ]
  },
  {
   "cell_type": "code",
   "execution_count": 119,
   "metadata": {},
   "outputs": [
    {
     "data": {
      "text/plain": [
       "0, 5, 5, 7, 9, 6, 6, 1, 9"
      ]
     },
     "execution_count": 119,
     "metadata": {},
     "output_type": "execute_result"
    }
   ],
   "source": [
    "x = [5, 3, 7, 9, 6, 4, 1, 2]\n",
    "bit = BIT(bit=x)\n",
    "bit"
   ]
  },
  {
   "cell_type": "code",
   "execution_count": 120,
   "metadata": {},
   "outputs": [
    {
     "data": {
      "text/plain": [
       "(7, 9)"
      ]
     },
     "execution_count": 120,
     "metadata": {},
     "output_type": "execute_result"
    }
   ],
   "source": [
    "bit.query(3), bit.query(5)"
   ]
  },
  {
   "cell_type": "markdown",
   "metadata": {},
   "source": [
    "ちなみに，indexの演算はこの通り"
   ]
  },
  {
   "cell_type": "code",
   "execution_count": 121,
   "metadata": {},
   "outputs": [
    {
     "name": "stdout",
     "output_type": "stream",
     "text": [
      "0 0\n",
      "1 1\n",
      "2 2\n",
      "3 1\n",
      "4 4\n",
      "5 1\n",
      "6 2\n",
      "7 1\n",
      "8 8\n",
      "9 1\n"
     ]
    }
   ],
   "source": [
    "for i in range(10):\n",
    "    print(i, i & -i)"
   ]
  },
  {
   "cell_type": "markdown",
   "metadata": {},
   "source": [
    "# Union Find Tree\n",
    "\n",
    "疎集合データ構造  \n",
    "N頂点の，単純とは限らない無向グラフの結合，連結判定．\n",
    "\n",
    "https://atcoder.jp/contests/atc001/tasks/unionfind_a"
   ]
  },
  {
   "cell_type": "code",
   "execution_count": 1,
   "metadata": {},
   "outputs": [],
   "source": [
    "N, Q = 8, 9\n",
    "X = [[0, 1, 2], [0, 3, 2], [1, 1, 3], [1, 1, 4], [0, 2, 4], \n",
    "     [1, 4, 1], [0, 4, 2], [0, 0, 0], [1, 0, 0]]"
   ]
  },
  {
   "cell_type": "code",
   "execution_count": 10,
   "metadata": {},
   "outputs": [
    {
     "data": {
      "text/plain": [
       "([0, 1, 2, 3, 4, 5, 6, 7], [0, 0, 0, 0, 0, 0, 0, 0])"
      ]
     },
     "execution_count": 10,
     "metadata": {},
     "output_type": "execute_result"
    }
   ],
   "source": [
    "# Parent\n",
    "par = list(range(N))\n",
    "\n",
    "# Rank of tree\n",
    "rank = [0] * N\n",
    "\n",
    "par, rank"
   ]
  },
  {
   "cell_type": "code",
   "execution_count": 11,
   "metadata": {},
   "outputs": [],
   "source": [
    "def find(x):\n",
    "    # Find root\n",
    "    if par[x] == x:\n",
    "        return x\n",
    "    else:\n",
    "        par[x] = find(par[x])\n",
    "        return par[x]"
   ]
  },
  {
   "cell_type": "code",
   "execution_count": 12,
   "metadata": {},
   "outputs": [],
   "source": [
    "def unite(x, y):\n",
    "    # Unite tree\n",
    "    x = find(x)\n",
    "    y = find(y)\n",
    "    \n",
    "    if x == y:\n",
    "        return\n",
    "    \n",
    "    if rank[x] < rank[y]:\n",
    "        par[x] = y\n",
    "    else:\n",
    "        par[y] = x\n",
    "        if rank[x] == rank[y]:\n",
    "            rank[x] += 1"
   ]
  },
  {
   "cell_type": "code",
   "execution_count": 13,
   "metadata": {},
   "outputs": [],
   "source": [
    "def same(x, y):\n",
    "    # Check whether x & y belong to the same tree\n",
    "    return find(x) == find(y)"
   ]
  },
  {
   "cell_type": "code",
   "execution_count": 14,
   "metadata": {},
   "outputs": [
    {
     "name": "stdout",
     "output_type": "stream",
     "text": [
      "Yes\n",
      "No\n",
      "Yes\n",
      "Yes\n"
     ]
    }
   ],
   "source": [
    "for p, a, b in X:\n",
    "    if p == 0:\n",
    "        unite(a, b)\n",
    "    else:\n",
    "        print('Yes' if same(a, b) else 'No')"
   ]
  },
  {
   "cell_type": "code",
   "execution_count": 15,
   "metadata": {},
   "outputs": [
    {
     "data": {
      "text/plain": [
       "([0, 1, 1, 1, 1, 5, 6, 7], [0, 1, 0, 0, 0, 0, 0, 0])"
      ]
     },
     "execution_count": 15,
     "metadata": {},
     "output_type": "execute_result"
    }
   ],
   "source": [
    "par, rank"
   ]
  },
  {
   "cell_type": "code",
   "execution_count": 8,
   "metadata": {},
   "outputs": [],
   "source": [
    "class UnionFind:\n",
    "    def __init__(self, n):\n",
    "        self.par = list(range(n))\n",
    "        self.rank = [0] * n\n",
    "        \n",
    "    def find(self, x):\n",
    "        if self.par[x] == x:\n",
    "            return x\n",
    "        else:\n",
    "            self.par[x] = self.find(self.par[x])\n",
    "            return self.par[x]\n",
    "        \n",
    "    def unite(self, x, y):\n",
    "        x = self.find(x)\n",
    "        y = self.find(y)\n",
    "        \n",
    "        if x == y:\n",
    "            return\n",
    "        \n",
    "        if self.rank[x] == self.rank[y]:\n",
    "            self.rank[x] += 1\n",
    "        elif self.rank[x] < self.rank[y]:\n",
    "            x, y = y, x\n",
    "        \n",
    "        self.par[y] = x\n",
    "                \n",
    "    def same(self, x, y):\n",
    "        return self.find(x) == self.find(y)\n",
    "    \n",
    "    def __repr__(self):\n",
    "        return ', '.join(str(x) for x in self.par)"
   ]
  },
  {
   "cell_type": "code",
   "execution_count": 9,
   "metadata": {},
   "outputs": [],
   "source": [
    "N, Q = 8, 9\n",
    "X = [[0, 1, 2], [0, 3, 2], [1, 1, 3], [1, 1, 4], [0, 2, 4], \n",
    "     [1, 4, 1], [0, 4, 2], [0, 0, 0], [1, 0, 0]]"
   ]
  },
  {
   "cell_type": "code",
   "execution_count": 10,
   "metadata": {},
   "outputs": [
    {
     "name": "stdout",
     "output_type": "stream",
     "text": [
      "Yes\n",
      "No\n",
      "Yes\n",
      "Yes\n"
     ]
    }
   ],
   "source": [
    "t = UnionFind(N)\n",
    "for p, a, b in X:\n",
    "    if p == 0:\n",
    "        t.unite(a, b)\n",
    "    else:\n",
    "        print('Yes' if t.same(a, b) else 'No')"
   ]
  },
  {
   "cell_type": "code",
   "execution_count": 11,
   "metadata": {},
   "outputs": [
    {
     "data": {
      "text/plain": [
       "0, 1, 1, 1, 1, 5, 6, 7"
      ]
     },
     "execution_count": 11,
     "metadata": {},
     "output_type": "execute_result"
    }
   ],
   "source": [
    "t"
   ]
  },
  {
   "cell_type": "markdown",
   "metadata": {},
   "source": [
    "# 重み付き Union-Find\n",
    "\n",
    "https://atcoder.jp/contests/arc090/tasks/arc090_b"
   ]
  },
  {
   "cell_type": "code",
   "execution_count": 2,
   "metadata": {},
   "outputs": [],
   "source": [
    "class WeightedUnionFind:\n",
    "    def __init__(self, n):\n",
    "        self.par = list(range(n))\n",
    "        self.rank = [0] * n\n",
    "        self.weight = [0] * n\n",
    "        \n",
    "    def find(self, x):\n",
    "        if self.par[x] == x:\n",
    "            return x\n",
    "        else:\n",
    "            y = self.find(self.par[x])\n",
    "            self.weight[x] += self.weight[self.par[x]]\n",
    "            self.par[x] = y\n",
    "            return y\n",
    "        \n",
    "    def unite(self, x, y, w):\n",
    "        px = self.find(x)\n",
    "        py = self.find(y)\n",
    "        \n",
    "        if px == py:\n",
    "            return True\n",
    "        \n",
    "        if self.rank[px] == self.rank[py]:\n",
    "            self.rank[px] += 1\n",
    "        elif self.rank[px] < self.rank[py]:\n",
    "            px, py = py, px\n",
    "            x, y = y, x\n",
    "            w *= -1\n",
    "\n",
    "        self.par[py] = px\n",
    "        self.weight[py] = self.weight[x] - self.weight[y] - w\n",
    "                \n",
    "    def same(self, x, y):\n",
    "        return self.find(x) == self.find(y)\n",
    "    \n",
    "    def diff(self, x, y):\n",
    "        return self.weight[x] - self.weight[y]"
   ]
  },
  {
   "cell_type": "code",
   "execution_count": 1,
   "metadata": {},
   "outputs": [
    {
     "name": "stdout",
     "output_type": "stream",
     "text": [
      "ans: Yes\n"
     ]
    }
   ],
   "source": [
    "N, M = 3, 3\n",
    "X = [[1, 2, 1], [2, 3, 1], [1, 3, 2]]\n",
    "\n",
    "print('ans: Yes')"
   ]
  },
  {
   "cell_type": "code",
   "execution_count": 5,
   "metadata": {},
   "outputs": [
    {
     "name": "stdout",
     "output_type": "stream",
     "text": [
      "No\n"
     ]
    }
   ],
   "source": [
    "t = WeightedUnionFind(N + 1)\n",
    "for l, r, d in X:\n",
    "    if t.same(l, r):\n",
    "        if t.diff(l, r) != d:\n",
    "            print('No')\n",
    "            break\n",
    "    else:\n",
    "        t.unite(l, r, d)\n",
    "else:\n",
    "    print('Yes')"
   ]
  },
  {
   "cell_type": "code",
   "execution_count": null,
   "metadata": {},
   "outputs": [],
   "source": []
  }
 ],
 "metadata": {
  "kernelspec": {
   "display_name": "Python 3",
   "language": "python",
   "name": "python3"
  },
  "language_info": {
   "codemirror_mode": {
    "name": "ipython",
    "version": 3
   },
   "file_extension": ".py",
   "mimetype": "text/x-python",
   "name": "python",
   "nbconvert_exporter": "python",
   "pygments_lexer": "ipython3",
   "version": "3.7.3"
  }
 },
 "nbformat": 4,
 "nbformat_minor": 2
}
