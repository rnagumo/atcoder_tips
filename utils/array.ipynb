{
 "cells": [
  {
   "cell_type": "markdown",
   "metadata": {},
   "source": [
    "# 1. しゃくとり法\n",
    "\n",
    "https://qiita.com/drken/items/ecd1a472d3a0e7db8dce\n",
    "\n",
    "以下は，単調増加な部分列の個数を求める問題  \n",
    "https://atcoder.jp/contests/abc038/tasks/abc038_c"
   ]
  },
  {
   "cell_type": "code",
   "execution_count": 132,
   "metadata": {},
   "outputs": [
    {
     "name": "stdout",
     "output_type": "stream",
     "text": [
      "8\n"
     ]
    }
   ],
   "source": [
    "N = 5\n",
    "a = [1, 2, 3, 2, 1]\n",
    "\n",
    "l = 0\n",
    "r = 0\n",
    "ans = 0\n",
    "while l < N:\n",
    "    # Forward right\n",
    "    while (l == r) or (r < N and a[r - 1] < a[r]):\n",
    "        r += 1\n",
    "        \n",
    "    # Calculation\n",
    "    ans += r - l\n",
    "    \n",
    "    # Forward left +1 step\n",
    "    l += 1\n",
    "    \n",
    "print(ans)"
   ]
  },
  {
   "cell_type": "markdown",
   "metadata": {},
   "source": [
    "# 2. 二分探索\n",
    "\n",
    "https://atcoder.jp/contests/abc077/tasks/arc084_a"
   ]
  },
  {
   "cell_type": "code",
   "execution_count": 53,
   "metadata": {},
   "outputs": [],
   "source": [
    "from bisect import bisect_left, bisect_right, bisect"
   ]
  },
  {
   "cell_type": "code",
   "execution_count": 56,
   "metadata": {},
   "outputs": [],
   "source": [
    "x = [0, 2, 5, 5, 5, 10]"
   ]
  },
  {
   "cell_type": "code",
   "execution_count": 57,
   "metadata": {},
   "outputs": [
    {
     "name": "stdout",
     "output_type": "stream",
     "text": [
      "2\n",
      "2\n"
     ]
    }
   ],
   "source": [
    "print(bisect_left(x, 3))\n",
    "print(bisect(x, 3))"
   ]
  },
  {
   "cell_type": "code",
   "execution_count": 59,
   "metadata": {},
   "outputs": [
    {
     "name": "stdout",
     "output_type": "stream",
     "text": [
      "2\n",
      "5\n",
      "5\n"
     ]
    }
   ],
   "source": [
    "print(bisect_left(x, 5))\n",
    "print(bisect_right(x, 5))\n",
    "print(bisect(x, 5))"
   ]
  },
  {
   "cell_type": "markdown",
   "metadata": {},
   "source": [
    "### 二分探索をスクラッチ実装する場合\n",
    "\n",
    "https://atcoder.jp/contests/arc037/tasks/arc037_c"
   ]
  },
  {
   "cell_type": "code",
   "execution_count": 1,
   "metadata": {},
   "outputs": [
    {
     "name": "stdout",
     "output_type": "stream",
     "text": [
      "ans: 10\n"
     ]
    }
   ],
   "source": [
    "N, K = 2, 3\n",
    "a = [2, 3]\n",
    "b = [3, 5]\n",
    "\n",
    "print('ans: 10')"
   ]
  },
  {
   "cell_type": "code",
   "execution_count": 2,
   "metadata": {},
   "outputs": [
    {
     "name": "stdout",
     "output_type": "stream",
     "text": [
      "10\n"
     ]
    }
   ],
   "source": [
    "from bisect import bisect_right\n",
    "\n",
    "# Lower bound, upper bound\n",
    "lb = 0\n",
    "ub = max(a) * max(b)\n",
    "b.sort()\n",
    "\n",
    "while ub - lb > 1:\n",
    "    mid = (lb + ub) // 2\n",
    "    cnt = 0\n",
    "    for i in range(N):\n",
    "        cnt += bisect_right(b, mid // a[i])\n",
    "\n",
    "    if cnt < K:\n",
    "        lb = mid\n",
    "    else:\n",
    "        ub = mid\n",
    "\n",
    "print(ub)"
   ]
  },
  {
   "cell_type": "markdown",
   "metadata": {},
   "source": [
    "# 3. いもす法\n",
    "\n",
    "累積和のアルゴリズムの拡張\n",
    "https://imoz.jp/algorithms/imos_method.html  \n",
    "\n",
    "例題）  \n",
    "https://atcoder.jp/contests/abc018/tasks/abc018_3  \n",
    "https://atcoder.jp/contests/abc017/tasks/abc017_3  \n",
    "https://atcoder.jp/contests/abc014/tasks/abc014_3"
   ]
  },
  {
   "cell_type": "code",
   "execution_count": 3,
   "metadata": {},
   "outputs": [
    {
     "name": "stdout",
     "output_type": "stream",
     "text": [
      "ans: 80\n"
     ]
    }
   ],
   "source": [
    "N, M = 4, 6\n",
    "X = [[1, 3, 30], [2, 3, 40], [3, 6, 25], [6, 6, 10]]\n",
    "\n",
    "print('ans: 80')"
   ]
  },
  {
   "cell_type": "code",
   "execution_count": 2,
   "metadata": {},
   "outputs": [
    {
     "name": "stdout",
     "output_type": "stream",
     "text": [
      "[30, 70, 95, 25, 25, 35, 0] 105\n"
     ]
    }
   ],
   "source": [
    "q = [0] * (M + 1)\n",
    "total = 0\n",
    "for l, r, s in X:\n",
    "    q[l - 1] += s\n",
    "    q[r] -= s\n",
    "    total += s\n",
    "    \n",
    "for i in range(M):\n",
    "    q[i + 1] += q[i]\n",
    "    \n",
    "print(q, total)"
   ]
  },
  {
   "cell_type": "code",
   "execution_count": 97,
   "metadata": {},
   "outputs": [
    {
     "name": "stdout",
     "output_type": "stream",
     "text": [
      "80\n"
     ]
    }
   ],
   "source": [
    "print(total - min(q[:-1]))"
   ]
  },
  {
   "cell_type": "markdown",
   "metadata": {},
   "source": [
    "#### accumulateを使っても良い"
   ]
  },
  {
   "cell_type": "code",
   "execution_count": 5,
   "metadata": {},
   "outputs": [
    {
     "name": "stdout",
     "output_type": "stream",
     "text": [
      "[30, 70, 95, 25, 25, 35, 0] 105\n"
     ]
    }
   ],
   "source": [
    "from itertools import accumulate\n",
    "q = [0] * (M + 1)\n",
    "total = 0\n",
    "for l, r, s in X:\n",
    "    q[l - 1] += s\n",
    "    q[r] -= s\n",
    "    total += s\n",
    "\n",
    "print(list(accumulate(q)), total)"
   ]
  },
  {
   "cell_type": "markdown",
   "metadata": {},
   "source": [
    "# 4. 最長増加部分列\n",
    "\n",
    "Longest Increasing Subsequence\n",
    "\n",
    "https://atcoder.jp/contests/abc006/tasks/abc006_4"
   ]
  },
  {
   "cell_type": "code",
   "execution_count": 4,
   "metadata": {},
   "outputs": [
    {
     "name": "stdout",
     "output_type": "stream",
     "text": [
      "ans: 2\n"
     ]
    }
   ],
   "source": [
    "N = 6\n",
    "c = [1, 3, 5, 2, 4, 6]\n",
    "\n",
    "print('ans: 2')"
   ]
  },
  {
   "cell_type": "markdown",
   "metadata": {},
   "source": [
    "この実装であれば，O(N logN)の計算量で済む"
   ]
  },
  {
   "cell_type": "code",
   "execution_count": 6,
   "metadata": {},
   "outputs": [
    {
     "name": "stdout",
     "output_type": "stream",
     "text": [
      "2\n"
     ]
    }
   ],
   "source": [
    "from bisect import bisect\n",
    "\n",
    "INF = 10 ** 6\n",
    "dp = [INF] * (N + 1)\n",
    "\n",
    "for i in range(N):\n",
    "    dp[bisect(dp, c[i])] = c[i]\n",
    "    \n",
    "print(N - max(i for i in range(N) if dp[i] < INF) - 1)"
   ]
  },
  {
   "cell_type": "code",
   "execution_count": 7,
   "metadata": {},
   "outputs": [
    {
     "name": "stdout",
     "output_type": "stream",
     "text": [
      "[1, 2, 4, 6, 1000000, 1000000, 1000000]\n",
      "4\n"
     ]
    }
   ],
   "source": [
    "print(dp)\n",
    "print(sum(dp[i] < INF for i in range(N)))"
   ]
  },
  {
   "cell_type": "markdown",
   "metadata": {},
   "source": [
    "### 広義単調減少列の最大値"
   ]
  },
  {
   "cell_type": "code",
   "execution_count": 1,
   "metadata": {},
   "outputs": [],
   "source": [
    "N = 5\n",
    "A = [2, 1, 4, 5, 3, 6, 8, 7, 9]"
   ]
  },
  {
   "cell_type": "code",
   "execution_count": 2,
   "metadata": {},
   "outputs": [
    {
     "name": "stdout",
     "output_type": "stream",
     "text": [
      "2\n"
     ]
    }
   ],
   "source": [
    "from bisect import bisect\n",
    "\n",
    "INF = 10 ** 9 + 7\n",
    "dp = [INF] * (N + 1)\n",
    "for i in range(N):\n",
    "    dp[bisect(dp, -A[i])] = -A[i]\n",
    "\n",
    "print(sum(dp[i] < INF for i in range(N)))"
   ]
  },
  {
   "cell_type": "markdown",
   "metadata": {},
   "source": [
    "# 5. 累積和を用いた部分和の高速計算\n",
    "\n",
    "部分和は，累積和の差で表現できる．\n",
    "\n",
    "https://atcoder.jp/contests/abc146/tasks/abc146_e"
   ]
  },
  {
   "cell_type": "code",
   "execution_count": 1,
   "metadata": {},
   "outputs": [
    {
     "name": "stdout",
     "output_type": "stream",
     "text": [
      "4\n"
     ]
    }
   ],
   "source": [
    "N, K = 5, 4\n",
    "A = [1, 4, 2, 3, 5]\n",
    "\n",
    "print(4)"
   ]
  },
  {
   "cell_type": "code",
   "execution_count": 2,
   "metadata": {},
   "outputs": [
    {
     "data": {
      "text/plain": [
       "[0, 1, 5, 7, 10, 15]"
      ]
     },
     "execution_count": 2,
     "metadata": {},
     "output_type": "execute_result"
    }
   ],
   "source": [
    "S = [0] * (N + 1)\n",
    "for i in range(N):\n",
    "    S[i + 1] = S[i] + A[i]\n",
    "    \n",
    "S"
   ]
  },
  {
   "cell_type": "code",
   "execution_count": 3,
   "metadata": {},
   "outputs": [
    {
     "name": "stdout",
     "output_type": "stream",
     "text": [
      "4\n"
     ]
    }
   ],
   "source": [
    "from collections import defaultdict\n",
    "\n",
    "d = defaultdict(int)\n",
    "ans = 0\n",
    "for j in range(N + 1):\n",
    "    v = (S[j] - j) % K\n",
    "    ans += d[v]\n",
    "    d[v] += 1\n",
    "    if j >= K - 1:\n",
    "        d[(S[j - K + 1] - (j - K + 1)) % K] -= 1\n",
    "        \n",
    "print(ans)"
   ]
  },
  {
   "cell_type": "code",
   "execution_count": null,
   "metadata": {},
   "outputs": [],
   "source": []
  }
 ],
 "metadata": {
  "kernelspec": {
   "display_name": "Python 3",
   "language": "python",
   "name": "python3"
  },
  "language_info": {
   "codemirror_mode": {
    "name": "ipython",
    "version": 3
   },
   "file_extension": ".py",
   "mimetype": "text/x-python",
   "name": "python",
   "nbconvert_exporter": "python",
   "pygments_lexer": "ipython3",
   "version": "3.7.3"
  }
 },
 "nbformat": 4,
 "nbformat_minor": 4
}
