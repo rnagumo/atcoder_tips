{
 "cells": [
  {
   "cell_type": "markdown",
   "metadata": {},
   "source": [
    "# 文字列検索のライブラリ\n",
    "\n",
    "https://drken1215.hatenablog.com/entry/2019/09/16/014600"
   ]
  },
  {
   "cell_type": "markdown",
   "metadata": {},
   "source": [
    "# Suffix Array\n",
    "\n",
    "Suffix Array の LCP (Longest Common Prefix)配列\n",
    "\n",
    "https://atcoder.jp/contests/abc141/tasks/abc141_e"
   ]
  },
  {
   "cell_type": "code",
   "execution_count": 1,
   "metadata": {},
   "outputs": [],
   "source": [
    "class RMQ:\n",
    "    inf = 10 ** 9 + 7\n",
    "\n",
    "    def __init__(self, x):\n",
    "        # 1-index\n",
    "        self.n = 2 ** len(x).bit_length()\n",
    "        self.dat = [self.inf] * (2 * self.n - 1)\n",
    "        \n",
    "        for k, v in enumerate(x):\n",
    "            self.update(k, v)\n",
    "        \n",
    "    def update(self, k, v):\n",
    "        k += self.n - 1\n",
    "        self.dat[k] = v\n",
    "        while k > 0:\n",
    "            k = (k - 1) // 2\n",
    "            self.dat[k] = min(self.dat[k * 2 + 1], self.dat[k * 2 + 2])\n",
    "            \n",
    "    def query(self, a, b, k=0, l=0, r=None):\n",
    "        # Retrun min [a, b)\n",
    "        if r is None:\n",
    "            r = self.n\n",
    "        \n",
    "        if b <= l or r <= a:\n",
    "            return self.inf\n",
    "        \n",
    "        if a <= l and r <= b:\n",
    "            return self.dat[k]\n",
    "        \n",
    "        vl = self.query(a, b, k * 2 + 1, l, (l + r) // 2)\n",
    "        vr = self.query(a, b, k * 2 + 2, (l + r) // 2, r)\n",
    "        \n",
    "        return min(vl, vr)\n",
    "            \n",
    "    def __repr__(self):\n",
    "        return ', '.join([str(v) for v in self.dat])"
   ]
  },
  {
   "cell_type": "code",
   "execution_count": 2,
   "metadata": {},
   "outputs": [],
   "source": [
    "class SuffixArray:\n",
    "    \"\"\"Manber & Myers `(O(n log^2 n))`.\"\"\"\n",
    "    def __init__(self, s):\n",
    "        if not isinstance(s, str):\n",
    "            raise ValueError(\"Input must be string\")\n",
    "\n",
    "        # Input array\n",
    "        self.array = s\n",
    "        self.len = len(s) + 1\n",
    "\n",
    "        # Suffix array\n",
    "        self.sa = list(range(self.len))\n",
    "        self.rank = list(map(ord, self.array)) + [-1]\n",
    "\n",
    "        # Longest Common Prefix\n",
    "        self.lcp = [-1] * self.len\n",
    "\n",
    "        # RMQ\n",
    "        self.rmq = None\n",
    "\n",
    "        # Initialize\n",
    "        self._construct()\n",
    "        self._calc_lcp()\n",
    "        self._init_rmq()\n",
    "\n",
    "    def __getitem__(self, index):\n",
    "        return self.array[self.sa[index]:]\n",
    "\n",
    "    def __len__(self):\n",
    "        return self.len\n",
    "\n",
    "    def _construct(self):\n",
    "        \"\"\"Sorts 2k chars.\"\"\"\n",
    "        n = self.len\n",
    "        k = 1\n",
    "        while k <= n:\n",
    "            self.sa.sort(key=lambda x: self._key(x, k))\n",
    "\n",
    "            tmp = [0] * n\n",
    "            for i in range(1, n):\n",
    "                tmp[self.sa[i]] = (tmp[self.sa[i - 1]]\n",
    "                                   + int(self.compare(i - 1, i, k)))\n",
    "\n",
    "            self.rank = tmp[:]\n",
    "            k *= 2\n",
    "\n",
    "    def _key(self, i, k):\n",
    "        \"\"\"Returns key for sort.\"\"\"\n",
    "        v1 = self.rank[i]\n",
    "        v2 = self.rank[i + k] if i + k < self.len else -1\n",
    "        return (v1, v2)\n",
    "\n",
    "    def compare(self, i, j, k):\n",
    "        key1 = self._key(self.sa[i], k)\n",
    "        key2 = self._key(self.sa[j], k)\n",
    "\n",
    "        # Compare rank[i] and rank[j]\n",
    "        if key1[0] != key2[0]:\n",
    "            return key1[0] < key2[0]\n",
    "\n",
    "        # Compare rank[i + k] and rank[j + k]\n",
    "        return key1[1] < key2[1]\n",
    "\n",
    "    def _calc_lcp(self):\n",
    "        n = self.len\n",
    "        for i in range(n):\n",
    "            self.rank[self.sa[i]] = i\n",
    "\n",
    "        self.lcp[0] = 0\n",
    "        h = 0\n",
    "        for i in range(n - 1):\n",
    "            j = self.sa[self.rank[i] - 1]\n",
    "\n",
    "            if h > 0:\n",
    "                h -= 1\n",
    "            while j + h < n - 1 and i + h < n - 1:\n",
    "                if self.array[j + h] != self.array[i + h]:\n",
    "                    break\n",
    "                h += 1\n",
    "\n",
    "            self.lcp[self.rank[i] - 1] = h\n",
    "            \n",
    "    def _init_rmq(self):\n",
    "        lcp = [self.lcp[self.rank[i]] for i in range(self.len)]\n",
    "        self.rmq = RMQ(lcp)\n",
    "\n",
    "    def get_lcp(self, i, j):\n",
    "        if self.rank[i] >= self.rank[j]:\n",
    "            i, j = j, i\n",
    "\n",
    "        return self.rmq.query(self.rank[i], self.rank[j])"
   ]
  },
  {
   "cell_type": "code",
   "execution_count": 3,
   "metadata": {},
   "outputs": [
    {
     "name": "stdout",
     "output_type": "stream",
     "text": [
      "0 11 0 \n",
      "1 10 1 a\n",
      "2 7 4 abra\n",
      "3 0 1 abracadabra\n",
      "4 3 1 acadabra\n",
      "5 5 0 adabra\n",
      "6 8 3 bra\n",
      "7 1 0 bracadabra\n",
      "8 4 0 cadabra\n",
      "9 6 0 dabra\n",
      "10 9 2 ra\n",
      "11 2 -1 racadabra\n"
     ]
    }
   ],
   "source": [
    "sa = SuffixArray(\"abracadabra\")\n",
    "\n",
    "for i in range(len(sa)):\n",
    "    print(i, sa.sa[i], sa.lcp[i], sa[i])"
   ]
  },
  {
   "cell_type": "code",
   "execution_count": 4,
   "metadata": {},
   "outputs": [
    {
     "name": "stdout",
     "output_type": "stream",
     "text": [
      "abracadabra 1\n",
      "bracadabra 0\n",
      "racadabra -1\n",
      "acadabra 1\n",
      "cadabra 0\n",
      "adabra 0\n",
      "dabra 0\n",
      "abra 4\n",
      "bra 3\n",
      "ra 2\n",
      "a 1\n",
      " 0\n"
     ]
    }
   ],
   "source": [
    "for i in range(len(sa)):\n",
    "    print(sa[sa.rank[i]], sa.lcp[sa.rank[i]])"
   ]
  },
  {
   "cell_type": "markdown",
   "metadata": {},
   "source": [
    "部分文字列の一致数の最大値"
   ]
  },
  {
   "cell_type": "code",
   "execution_count": 5,
   "metadata": {},
   "outputs": [
    {
     "name": "stdout",
     "output_type": "stream",
     "text": [
      "4 (ans=4)\n"
     ]
    }
   ],
   "source": [
    "res = 0\n",
    "for i in range(1, len(sa)):\n",
    "    for j in range(i + 1, len(sa)):\n",
    "        res = max(res, sa.get_lcp(i, j))\n",
    "print(res, \"(ans=4)\")"
   ]
  },
  {
   "cell_type": "markdown",
   "metadata": {},
   "source": [
    "# Z-algorithm\n",
    "\n",
    "各`i`について`LCP(0, i)`（`S[0:]`と`S[i:]`との最長一致文字列の長さ）を$O(|S|)$で求める．\n",
    "\n",
    "解説\n",
    "\n",
    "* https://qiita.com/Pro_ktmr/items/16904c9570aa0953bf05\n",
    "* https://snuke.hatenablog.com/entry/2014/12/03/214243"
   ]
  },
  {
   "cell_type": "code",
   "execution_count": 9,
   "metadata": {},
   "outputs": [],
   "source": [
    "def z_algorithm(s):\n",
    "    n = len(s)\n",
    "    res = [0] * n\n",
    "    i = 1\n",
    "    j = 0\n",
    "    while i < n:\n",
    "        # i番目以降の一致文字数\n",
    "        while i + j < n and s[j] == s[i + j]:\n",
    "            j += 1\n",
    "        res[i] = j\n",
    "\n",
    "        # 一文字も一致しない場合，次の文字へ\n",
    "        if j == 0:\n",
    "            i += 1\n",
    "            continue\n",
    "\n",
    "        # 一致したところまでを埋める\n",
    "        k = 1\n",
    "        while i + k < n and k + res[k] < j:\n",
    "            res[i + k] = res[k]\n",
    "            k += 1\n",
    "        \n",
    "        i += k\n",
    "        j -= k\n",
    "        \n",
    "    return res"
   ]
  },
  {
   "cell_type": "code",
   "execution_count": 17,
   "metadata": {},
   "outputs": [
    {
     "data": {
      "text/plain": [
       "[0, 0, 0, 1, 0, 1, 0, 4, 0, 0, 1]"
      ]
     },
     "execution_count": 17,
     "metadata": {},
     "output_type": "execute_result"
    }
   ],
   "source": [
    "z_algorithm(\"abracadabra\")"
   ]
  },
  {
   "cell_type": "code",
   "execution_count": 19,
   "metadata": {},
   "outputs": [
    {
     "name": "stdout",
     "output_type": "stream",
     "text": [
      "4 (ans=4)\n"
     ]
    }
   ],
   "source": [
    "S = \"abracadabra\"\n",
    "N = len(S)\n",
    "\n",
    "res = 0\n",
    "for i in range(N):\n",
    "    lcp = z_algorithm(S[i:])\n",
    "    for j in range(N - i):\n",
    "        res = max(res, min(lcp[j], j))\n",
    "        \n",
    "print(res, \"(ans=4)\")"
   ]
  },
  {
   "cell_type": "markdown",
   "metadata": {},
   "source": [
    "# ローリングハッシュ＋二分探索"
   ]
  },
  {
   "cell_type": "code",
   "execution_count": 1,
   "metadata": {},
   "outputs": [],
   "source": [
    "class RollingHash:\n",
    "    base1 = 1007\n",
    "    base2 = 2009\n",
    "    mod1 = 10 ** 9 + 7\n",
    "    mod2 = 10 ** 9 + 9\n",
    "    \n",
    "    def __init__(self, s):\n",
    "        self.s = s\n",
    "        self.len = len(s) + 1\n",
    "\n",
    "        self.hash1 = [0] * self.len\n",
    "        self.hash2 = [0] * self.len\n",
    "        self.power1 = [1] * self.len\n",
    "        self.power2 = [1] * self.len\n",
    "        for i in range(self.len - 1):\n",
    "            self.hash1[i + 1] = (self.hash1[i] * self.base1 + ord(s[i])) % self.mod1\n",
    "            self.hash2[i + 1] = (self.hash2[i] * self.base2 + ord(s[i])) % self.mod2\n",
    "            self.power1[i + 1] = (self.power1[i] * self.base1) % self.mod1\n",
    "            self.power2[i + 1] = (self.power2[i] * self.base2) % self.mod2\n",
    "            \n",
    "    def get_hash(self, l, r):\n",
    "        \"\"\"Gets hash of S[left:right]\"\"\"\n",
    "        res1 = self.hash1[r] - self.hash1[l] * self.power1[r - l] % self.mod1\n",
    "        if res1 < 0:\n",
    "            res1 += self.mod1\n",
    "        res2 = self.hash2[r] - self.hash2[l] * self.power2[r - l] % self.mod2\n",
    "        if res2 < 0:\n",
    "            res2 += self.mod2\n",
    "            \n",
    "        return (res1, res2)\n",
    "    \n",
    "    def get_lcp(self, a, b):\n",
    "        \"\"\"Gets lcp of S[a:] and S[b:]\"\"\"\n",
    "        low = 0\n",
    "        high = min(len(self.hash1) - a, len(self.hash1) - b)\n",
    "        \n",
    "        while high - low > 1:\n",
    "            mid = (low + high) >> 1\n",
    "            if self.get_hash(a, a + mid) != self.get_hash(b, b + mid):\n",
    "                high = mid\n",
    "            else:\n",
    "                low = mid\n",
    "                \n",
    "        return low\n",
    "    \n",
    "    def bisect(self, d):\n",
    "        \"\"\"Checks the existence of (i, j) s.t. S[i:d] == S[j:d] and i+d <= j.\"\"\"\n",
    "        ctr = {}\n",
    "        for i in range(self.len - d):\n",
    "            p = self.get_hash(i, i + d)\n",
    "            if p in ctr:\n",
    "                if i - ctr[p] >= d:\n",
    "                    return True\n",
    "            else:\n",
    "                ctr[p] = i\n",
    "\n",
    "        return False"
   ]
  },
  {
   "cell_type": "code",
   "execution_count": 8,
   "metadata": {},
   "outputs": [
    {
     "name": "stdout",
     "output_type": "stream",
     "text": [
      "4 (ans=4)\n"
     ]
    }
   ],
   "source": [
    "S = \"abracadabra\"\n",
    "N = len(S)\n",
    "rh = RollingHash(S)\n",
    "\n",
    "res = 0\n",
    "for i in range(N):\n",
    "    for j in range(i + 1, N):\n",
    "        res = max(res, min(rh.get_lcp(i, j), j - i))\n",
    "        \n",
    "print(res, \"(ans=4)\")"
   ]
  },
  {
   "cell_type": "markdown",
   "metadata": {},
   "source": [
    "# ローリングハッシュ＋二分探索の高速化"
   ]
  },
  {
   "cell_type": "code",
   "execution_count": 2,
   "metadata": {},
   "outputs": [
    {
     "name": "stdout",
     "output_type": "stream",
     "text": [
      "4 (ans=4)\n"
     ]
    }
   ],
   "source": [
    "S = \"abracadabra\"\n",
    "N = len(S)\n",
    "rh = RollingHash(S)\n",
    "\n",
    "left = 0\n",
    "right = N // 2 + 1\n",
    "while right - left > 1:\n",
    "    mid = (left + right) >> 1\n",
    "    if rh.bisect(mid):\n",
    "        left = mid\n",
    "    else:\n",
    "        right = mid\n",
    "\n",
    "print(left, \"(ans=4)\")"
   ]
  },
  {
   "cell_type": "markdown",
   "metadata": {},
   "source": [
    "# DPで文字列検索\n",
    "\n",
    "`dp[i][j]`:= i文字目からとj文字目からとで最長の長さ"
   ]
  },
  {
   "cell_type": "code",
   "execution_count": 8,
   "metadata": {},
   "outputs": [
    {
     "name": "stdout",
     "output_type": "stream",
     "text": [
      "4 (ans=4)\n"
     ]
    }
   ],
   "source": [
    "S = \"abracadabra\"\n",
    "N = len(S)\n",
    "res = 0\n",
    "dp = [[0] * (N + 1) for _ in range(N + 1)]\n",
    "for i in reversed(range(N)):\n",
    "    for j in reversed(range(i + 1, N)):\n",
    "        if S[i] == S[j]:\n",
    "            dp[i][j] = max(dp[i][j], dp[i + 1][j + 1] + 1)\n",
    "        res = max(res, min(dp[i][j], j - i))\n",
    "        \n",
    "print(res, \"(ans=4)\")"
   ]
  },
  {
   "cell_type": "markdown",
   "metadata": {},
   "source": [
    "# KMP法\n",
    "\n",
    "Knuth-Morris-Pratt algorithm\n",
    "\n",
    "* https://snuke.hatenablog.com/entry/2014/12/01/235807\n",
    "* https://snuke.hatenablog.com/entry/2017/07/18/101026"
   ]
  },
  {
   "cell_type": "markdown",
   "metadata": {},
   "source": [
    "#### MP法\n",
    "\n",
    "各`i`について「文字列`S[0, i-1]`の接頭辞と接尾辞との一致文字数」の配列を$O(|S|)$で求める．"
   ]
  },
  {
   "cell_type": "code",
   "execution_count": 12,
   "metadata": {},
   "outputs": [],
   "source": [
    "def mp(s):\n",
    "    n = len(s)\n",
    "    a = [0] * (n + 1)\n",
    "    a[0] = -1\n",
    "    j = -1\n",
    "    for i in range(n):\n",
    "        while j >= 0 and s[i] != s[j]:\n",
    "            j = a[j]\n",
    "        j += 1\n",
    "        a[i + 1] = j\n",
    "        \n",
    "    return a"
   ]
  },
  {
   "cell_type": "code",
   "execution_count": 13,
   "metadata": {},
   "outputs": [
    {
     "data": {
      "text/plain": [
       "[-1, 0, 1, 0, 1, 2, 3, 4, 5, 2]"
      ]
     },
     "execution_count": 13,
     "metadata": {},
     "output_type": "execute_result"
    }
   ],
   "source": [
    "S = \"aabaabaaa\"\n",
    "a = mp(S)\n",
    "\n",
    "a"
   ]
  },
  {
   "cell_type": "markdown",
   "metadata": {},
   "source": [
    "#### KMP法"
   ]
  },
  {
   "cell_type": "code",
   "execution_count": 1,
   "metadata": {},
   "outputs": [],
   "source": [
    "def kmp(s):\n",
    "    n = len(s)\n",
    "    a = [0] * (n + 1)\n",
    "    a[0] = -1\n",
    "\n",
    "    j = -1\n",
    "    for i in range(n):\n",
    "        while j >= 0 and s[i] != s[j]:\n",
    "            j = a[j]\n",
    "            \n",
    "        j += 1\n",
    "        if i + 1 < n and s[i + 1] == s[j]:\n",
    "            a[i + 1] = a[j]\n",
    "        else:\n",
    "            a[i + 1] = j\n",
    "            \n",
    "    return a"
   ]
  },
  {
   "cell_type": "code",
   "execution_count": 2,
   "metadata": {},
   "outputs": [
    {
     "data": {
      "text/plain": [
       "[-1, -1, 1, -1, -1, 1, -1, -1, 5, 2]"
      ]
     },
     "execution_count": 2,
     "metadata": {},
     "output_type": "execute_result"
    }
   ],
   "source": [
    "S = \"aabaabaaa\"\n",
    "a = kmp(S)\n",
    "\n",
    "a"
   ]
  },
  {
   "cell_type": "code",
   "execution_count": null,
   "metadata": {},
   "outputs": [],
   "source": []
  },
  {
   "cell_type": "code",
   "execution_count": null,
   "metadata": {},
   "outputs": [],
   "source": []
  },
  {
   "cell_type": "code",
   "execution_count": 6,
   "metadata": {},
   "outputs": [],
   "source": [
    "S = \"abracadabra\"\n",
    "a = kmp(S)"
   ]
  },
  {
   "cell_type": "code",
   "execution_count": null,
   "metadata": {},
   "outputs": [],
   "source": []
  }
 ],
 "metadata": {
  "kernelspec": {
   "display_name": "Python 3",
   "language": "python",
   "name": "python3"
  },
  "language_info": {
   "codemirror_mode": {
    "name": "ipython",
    "version": 3
   },
   "file_extension": ".py",
   "mimetype": "text/x-python",
   "name": "python",
   "nbconvert_exporter": "python",
   "pygments_lexer": "ipython3",
   "version": "3.7.3"
  }
 },
 "nbformat": 4,
 "nbformat_minor": 4
}
