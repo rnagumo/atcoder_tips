{
 "cells": [
  {
   "cell_type": "markdown",
   "metadata": {},
   "source": [
    "# DP"
   ]
  },
  {
   "cell_type": "markdown",
   "metadata": {},
   "source": [
    "# 個数制限なしナップサック問題\n",
    "\n",
    "http://drken1215.hatenablog.com/entry/2020/01/26/225000"
   ]
  },
  {
   "cell_type": "code",
   "execution_count": 2,
   "metadata": {},
   "outputs": [
    {
     "name": "stdout",
     "output_type": "stream",
     "text": [
      "139815\n"
     ]
    }
   ],
   "source": [
    "H, N = 9999, 10\n",
    "X = [[540, 7550], [691, 9680], [700, 9790], [510, 7150], [415, 5818],\n",
    "     [551, 7712], [587, 8227], [619, 8671], [588, 8228], [176, 2461]]\n",
    "\n",
    "print(139815)"
   ]
  },
  {
   "cell_type": "code",
   "execution_count": 4,
   "metadata": {},
   "outputs": [
    {
     "name": "stdout",
     "output_type": "stream",
     "text": [
      "139815\n"
     ]
    }
   ],
   "source": [
    "dp = [[10 ** 9] * (H + 1) for _ in range(N + 1)]\n",
    "dp[0][0] = 0\n",
    "\n",
    "for i, (a, b) in enumerate(X):\n",
    "    for j in range(H + 1):\n",
    "        dp[i + 1][j] = min(dp[i + 1][j], dp[i][j])\n",
    "        dp[i + 1][min(j + a, H)] = min(dp[i + 1][min(j + a, H)], dp[i + 1][j] + b)\n",
    "\n",
    "print(dp[-1][-1])"
   ]
  },
  {
   "cell_type": "markdown",
   "metadata": {},
   "source": [
    "# 桁DP\n",
    "\n",
    "#### dp[桁数] [確定しているか] [条件を満たすか]\n",
    "\n",
    "問題：https://atcoder.jp/contests/abc154/tasks/abc154_e\n",
    "\n",
    "桁DPの解説：http://drken1215.hatenablog.com/entry/2019/02/04/013700"
   ]
  },
  {
   "cell_type": "code",
   "execution_count": 1,
   "metadata": {},
   "outputs": [
    {
     "name": "stdout",
     "output_type": "stream",
     "text": [
      "19\n"
     ]
    }
   ],
   "source": [
    "N = 100\n",
    "K = 1\n",
    "\n",
    "print(19)"
   ]
  },
  {
   "cell_type": "code",
   "execution_count": 2,
   "metadata": {},
   "outputs": [
    {
     "name": "stdout",
     "output_type": "stream",
     "text": [
      "19\n"
     ]
    }
   ],
   "source": [
    "X = str(N)\n",
    "dp = [[[0] * (K + 1) for _ in range(2)] for _ in range(len(X) + 1)]\n",
    "dp[0][0][0] = 1\n",
    "\n",
    "for i in range(len(X)):\n",
    "    D = int(X[i])\n",
    "    for j in range(2):\n",
    "        for k in range(K + 1):\n",
    "            for d in range((9 if j == 1 else D) + 1):\n",
    "                if k + int(d != 0) <= K:\n",
    "                    dp[i + 1][j | (d < D)][k + int(d != 0)] += dp[i][j][k]\n",
    "\n",
    "print(dp[-1][-1][-1] + int(X.count(\"0\") == len(X) - K))"
   ]
  },
  {
   "cell_type": "code",
   "execution_count": null,
   "metadata": {},
   "outputs": [],
   "source": []
  },
  {
   "cell_type": "code",
   "execution_count": null,
   "metadata": {},
   "outputs": [],
   "source": []
  }
 ],
 "metadata": {
  "kernelspec": {
   "display_name": "Python 3",
   "language": "python",
   "name": "python3"
  },
  "language_info": {
   "codemirror_mode": {
    "name": "ipython",
    "version": 3
   },
   "file_extension": ".py",
   "mimetype": "text/x-python",
   "name": "python",
   "nbconvert_exporter": "python",
   "pygments_lexer": "ipython3",
   "version": "3.7.3"
  }
 },
 "nbformat": 4,
 "nbformat_minor": 4
}
