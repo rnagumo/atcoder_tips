{
 "cells": [
  {
   "cell_type": "markdown",
   "metadata": {},
   "source": [
    "# DP"
   ]
  },
  {
   "cell_type": "markdown",
   "metadata": {},
   "source": [
    "# 個数制限なしナップサック問題\n",
    "\n",
    "http://drken1215.hatenablog.com/entry/2020/01/26/225000"
   ]
  },
  {
   "cell_type": "code",
   "execution_count": 2,
   "metadata": {},
   "outputs": [
    {
     "name": "stdout",
     "output_type": "stream",
     "text": [
      "139815\n"
     ]
    }
   ],
   "source": [
    "H, N = 9999, 10\n",
    "X = [[540, 7550], [691, 9680], [700, 9790], [510, 7150], [415, 5818],\n",
    "     [551, 7712], [587, 8227], [619, 8671], [588, 8228], [176, 2461]]\n",
    "\n",
    "print(139815)"
   ]
  },
  {
   "cell_type": "code",
   "execution_count": 4,
   "metadata": {},
   "outputs": [
    {
     "name": "stdout",
     "output_type": "stream",
     "text": [
      "139815\n"
     ]
    }
   ],
   "source": [
    "dp = [[10 ** 9] * (H + 1) for _ in range(N + 1)]\n",
    "dp[0][0] = 0\n",
    "\n",
    "for i, (a, b) in enumerate(X):\n",
    "    for j in range(H + 1):\n",
    "        dp[i + 1][j] = min(dp[i + 1][j], dp[i][j])\n",
    "        dp[i + 1][min(j + a, H)] = min(dp[i + 1][min(j + a, H)], dp[i + 1][j] + b)\n",
    "\n",
    "print(dp[-1][-1])"
   ]
  },
  {
   "cell_type": "code",
   "execution_count": null,
   "metadata": {},
   "outputs": [],
   "source": []
  }
 ],
 "metadata": {
  "kernelspec": {
   "display_name": "Python 3",
   "language": "python",
   "name": "python3"
  },
  "language_info": {
   "codemirror_mode": {
    "name": "ipython",
    "version": 3
   },
   "file_extension": ".py",
   "mimetype": "text/x-python",
   "name": "python",
   "nbconvert_exporter": "python",
   "pygments_lexer": "ipython3",
   "version": "3.7.3"
  }
 },
 "nbformat": 4,
 "nbformat_minor": 4
}
