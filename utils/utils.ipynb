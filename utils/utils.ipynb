{
 "cells": [
  {
   "cell_type": "markdown",
   "metadata": {},
   "source": [
    "# Utils"
   ]
  },
  {
   "cell_type": "markdown",
   "metadata": {},
   "source": [
    "# 1. 標準入力"
   ]
  },
  {
   "cell_type": "markdown",
   "metadata": {},
   "source": [
    "#### 定数と，リスト（複数行を一度に）"
   ]
  },
  {
   "cell_type": "code",
   "execution_count": null,
   "metadata": {},
   "outputs": [],
   "source": [
    "N, *X = map(int, open(0).read().split())"
   ]
  },
  {
   "cell_type": "markdown",
   "metadata": {},
   "source": [
    "#### 定数"
   ]
  },
  {
   "cell_type": "code",
   "execution_count": null,
   "metadata": {},
   "outputs": [],
   "source": [
    "N = int(input())"
   ]
  },
  {
   "cell_type": "code",
   "execution_count": null,
   "metadata": {},
   "outputs": [],
   "source": [
    "N, M = map(int, input().split())"
   ]
  },
  {
   "cell_type": "markdown",
   "metadata": {},
   "source": [
    "#### リスト"
   ]
  },
  {
   "cell_type": "code",
   "execution_count": null,
   "metadata": {},
   "outputs": [],
   "source": [
    "X = list(map(int, input().split()))"
   ]
  },
  {
   "cell_type": "markdown",
   "metadata": {},
   "source": [
    "#### 行列を読みたい時"
   ]
  },
  {
   "cell_type": "code",
   "execution_count": null,
   "metadata": {},
   "outputs": [],
   "source": [
    "X = [list(map(int, input().split())) for _ in range(M)]"
   ]
  },
  {
   "cell_type": "markdown",
   "metadata": {},
   "source": [
    "#### 複数行の文字列"
   ]
  },
  {
   "cell_type": "code",
   "execution_count": null,
   "metadata": {},
   "outputs": [],
   "source": [
    "X = [input() for _ in range(M)]"
   ]
  },
  {
   "cell_type": "markdown",
   "metadata": {},
   "source": [
    "#### 二列をそれぞれのリストにしたい時"
   ]
  },
  {
   "cell_type": "code",
   "execution_count": null,
   "metadata": {},
   "outputs": [],
   "source": [
    "P, Q = zip(*(map(int, input().split()) for _ in range(M)))\n",
    "P = [*P]\n",
    "Q = [*Q]"
   ]
  },
  {
   "cell_type": "markdown",
   "metadata": {},
   "source": [
    "#### 入力順を記憶しながら，Qの値に応じてソートされたP, Qを出力する"
   ]
  },
  {
   "cell_type": "code",
   "execution_count": 2,
   "metadata": {},
   "outputs": [
    {
     "name": "stdout",
     "output_type": "stream",
     "text": [
      "4 (5, 0)\n",
      "3 (4, 6)\n",
      "2 (3, 7)\n",
      "1 (2, 8)\n",
      "0 (1, 9)\n"
     ]
    }
   ],
   "source": [
    "P = [1, 2, 3, 4, 5]\n",
    "Q = [9, 8, 7, 6, 0]\n",
    "\n",
    "for i, t in sorted(enumerate(zip(P, Q)), key=lambda x: x[1][1]):\n",
    "    print(i, t)"
   ]
  },
  {
   "cell_type": "markdown",
   "metadata": {},
   "source": [
    "# 2. 余り"
   ]
  },
  {
   "cell_type": "markdown",
   "metadata": {},
   "source": [
    "#### x以上で，最小のfの倍数"
   ]
  },
  {
   "cell_type": "code",
   "execution_count": 127,
   "metadata": {},
   "outputs": [
    {
     "data": {
      "text/plain": [
       "24"
      ]
     },
     "execution_count": 127,
     "metadata": {},
     "output_type": "execute_result"
    }
   ],
   "source": [
    "import math\n",
    "\n",
    "x = 21\n",
    "f = 4\n",
    "math.ceil(x / f) * f"
   ]
  },
  {
   "cell_type": "markdown",
   "metadata": {},
   "source": [
    "#### 天井関数が正しく機能しない時がある．"
   ]
  },
  {
   "cell_type": "code",
   "execution_count": 129,
   "metadata": {},
   "outputs": [
    {
     "data": {
      "text/plain": [
       "24"
      ]
     },
     "execution_count": 129,
     "metadata": {},
     "output_type": "execute_result"
    }
   ],
   "source": [
    "-(-x // f) * f"
   ]
  },
  {
   "cell_type": "markdown",
   "metadata": {},
   "source": [
    "//は「その商以下の最大の整数を取ってくる」という挙動を示す．  \n",
    "つまり，-(-x // f)は天井関数に等しい．"
   ]
  },
  {
   "cell_type": "code",
   "execution_count": 130,
   "metadata": {},
   "outputs": [
    {
     "data": {
      "text/plain": [
       "(5.25, 5, -5.25, -6)"
      ]
     },
     "execution_count": 130,
     "metadata": {},
     "output_type": "execute_result"
    }
   ],
   "source": [
    "21 / 4, 21 // 4, -21 / 4, -21 // 4"
   ]
  },
  {
   "cell_type": "markdown",
   "metadata": {},
   "source": [
    "備考：x以下で最大のfの倍数"
   ]
  },
  {
   "cell_type": "code",
   "execution_count": 63,
   "metadata": {},
   "outputs": [
    {
     "data": {
      "text/plain": [
       "20"
      ]
     },
     "execution_count": 63,
     "metadata": {},
     "output_type": "execute_result"
    }
   ],
   "source": [
    "x // f * f"
   ]
  },
  {
   "cell_type": "markdown",
   "metadata": {},
   "source": [
    "整数の商の計算と，intの挙動の違い"
   ]
  },
  {
   "cell_type": "code",
   "execution_count": 135,
   "metadata": {},
   "outputs": [
    {
     "data": {
      "text/plain": [
       "(-1.0, -2.0, 0, -1)"
      ]
     },
     "execution_count": 135,
     "metadata": {},
     "output_type": "execute_result"
    }
   ],
   "source": [
    "-0.1 // 1, -1.1 // 1, int(-0.1), int(-1.1)"
   ]
  },
  {
   "cell_type": "code",
   "execution_count": 134,
   "metadata": {},
   "outputs": [
    {
     "data": {
      "text/plain": [
       "(0.0, -1.0, 0, 0)"
      ]
     },
     "execution_count": 134,
     "metadata": {},
     "output_type": "execute_result"
    }
   ],
   "source": [
    "-0.1 // 1 + 1, -1.1 // 1 + 1, int(-0.1 + 1), int(-1.1 + 1)"
   ]
  },
  {
   "cell_type": "markdown",
   "metadata": {},
   "source": [
    "#### 最小公倍数"
   ]
  },
  {
   "cell_type": "code",
   "execution_count": 66,
   "metadata": {},
   "outputs": [
    {
     "data": {
      "text/plain": [
       "20"
      ]
     },
     "execution_count": 66,
     "metadata": {},
     "output_type": "execute_result"
    }
   ],
   "source": [
    "from math import gcd\n",
    "\n",
    "def lcm(x, y):\n",
    "    return x * y // gcd(x, y)\n",
    "\n",
    "lcm(4, 5)"
   ]
  },
  {
   "cell_type": "markdown",
   "metadata": {},
   "source": [
    "# 3. 二進数"
   ]
  },
  {
   "cell_type": "code",
   "execution_count": 13,
   "metadata": {},
   "outputs": [
    {
     "name": "stdout",
     "output_type": "stream",
     "text": [
      "0b10101 0b10110\n",
      "0b10100\n",
      "20\n"
     ]
    }
   ],
   "source": [
    "x = 21\n",
    "y = 22\n",
    "print(bin(x), bin(y))\n",
    "print(bin(x & y))\n",
    "print(x & y)"
   ]
  },
  {
   "cell_type": "markdown",
   "metadata": {},
   "source": [
    "#### 二進数の中の，1の個数"
   ]
  },
  {
   "cell_type": "code",
   "execution_count": 14,
   "metadata": {},
   "outputs": [
    {
     "name": "stdout",
     "output_type": "stream",
     "text": [
      "21\n",
      "['1', '0', '1', '0', '1']\n",
      "3\n"
     ]
    }
   ],
   "source": [
    "l = list(bin(x)[2:])\n",
    "print(x)\n",
    "print(l)\n",
    "print(l.count('1'))"
   ]
  },
  {
   "cell_type": "markdown",
   "metadata": {},
   "source": [
    "#### ビット列が与えられた時の，数値への変換\n",
    "\n",
    "https://note.nkmk.me/python-bin-oct-hex-int-format/"
   ]
  },
  {
   "cell_type": "code",
   "execution_count": 24,
   "metadata": {},
   "outputs": [
    {
     "data": {
      "text/plain": [
       "['1101000101']"
      ]
     },
     "execution_count": 24,
     "metadata": {},
     "output_type": "execute_result"
    }
   ],
   "source": [
    "s = '1 1 0 1 0 0 0 1 0 1'\n",
    "x = [''.join(s.split())]\n",
    "x"
   ]
  },
  {
   "cell_type": "code",
   "execution_count": 26,
   "metadata": {},
   "outputs": [
    {
     "data": {
      "text/plain": [
       "[837]"
      ]
     },
     "execution_count": 26,
     "metadata": {},
     "output_type": "execute_result"
    }
   ],
   "source": [
    "[int(v, 2) for v in x]"
   ]
  },
  {
   "cell_type": "code",
   "execution_count": 30,
   "metadata": {},
   "outputs": [
    {
     "name": "stdout",
     "output_type": "stream",
     "text": [
      "837\n",
      "0b1101000101\n"
     ]
    }
   ],
   "source": [
    "print(int('1101000101', 2))\n",
    "print(bin(837))"
   ]
  },
  {
   "cell_type": "markdown",
   "metadata": {},
   "source": [
    "##### 例題\n",
    "\n",
    "https://atcoder.jp/contests/abc080/tasks/abc080_c"
   ]
  },
  {
   "cell_type": "code",
   "execution_count": 81,
   "metadata": {},
   "outputs": [],
   "source": [
    "N = 1\n",
    "s1 = '1 1 0 1 0 0 0 1 0 1'\n",
    "F = [''.join(s1.split())]"
   ]
  },
  {
   "cell_type": "code",
   "execution_count": 82,
   "metadata": {},
   "outputs": [
    {
     "name": "stdout",
     "output_type": "stream",
     "text": [
      "[5]\n"
     ]
    }
   ],
   "source": [
    "# Convert bin to int\n",
    "x = [int(v, 2) for v in F]\n",
    "for i in range(1, 2 ** 10):\n",
    "    # Number of 1 bins in both number\n",
    "    cnt = [list(bin(i & v)[2:]).count('1') for v in x]\n",
    "print(cnt)"
   ]
  },
  {
   "cell_type": "markdown",
   "metadata": {},
   "source": [
    "#### 空白桁の0埋め\n",
    "\n",
    "https://atcoder.jp/contests/abc045/tasks/arc061_a"
   ]
  },
  {
   "cell_type": "code",
   "execution_count": 131,
   "metadata": {},
   "outputs": [
    {
     "data": {
      "text/plain": [
       "'0000000011'"
      ]
     },
     "execution_count": 131,
     "metadata": {},
     "output_type": "execute_result"
    }
   ],
   "source": [
    "'{:0>10b}'.format(3)"
   ]
  },
  {
   "cell_type": "markdown",
   "metadata": {},
   "source": [
    "## ビット探索\n",
    "\n",
    "ビット演算をした後に，1との論理積をとる．  \n",
    "これでfor-loopを回すと，各位の0, 1を取り出せる．"
   ]
  },
  {
   "cell_type": "code",
   "execution_count": 136,
   "metadata": {},
   "outputs": [
    {
     "name": "stdout",
     "output_type": "stream",
     "text": [
      "1+2+2+2\n",
      "1-2+2+2\n",
      "1+2-2+2\n",
      "1-2-2+2\n",
      "1+2+2-2\n",
      "1-2+2-2\n",
      "1+2-2-2\n"
     ]
    }
   ],
   "source": [
    "s = '1222'\n",
    "for i in range(7):\n",
    "    y = ''.join([s[k] + '+-'[i >> k & 1] for k in range(3)] + [s[-1]])\n",
    "    print(y)"
   ]
  },
  {
   "cell_type": "markdown",
   "metadata": {},
   "source": [
    "# 4. ビット演算"
   ]
  },
  {
   "cell_type": "markdown",
   "metadata": {},
   "source": [
    "#### ビット反転"
   ]
  },
  {
   "cell_type": "code",
   "execution_count": 38,
   "metadata": {},
   "outputs": [
    {
     "name": "stdout",
     "output_type": "stream",
     "text": [
      "-10\n",
      "0b1001 -0b1010\n"
     ]
    }
   ],
   "source": [
    "x = 9\n",
    "print(~x)  # = -(x + 1)\n",
    "print(bin(x), bin(~x))"
   ]
  },
  {
   "cell_type": "markdown",
   "metadata": {},
   "source": [
    "#### ビットシフト"
   ]
  },
  {
   "cell_type": "code",
   "execution_count": 42,
   "metadata": {},
   "outputs": [
    {
     "name": "stdout",
     "output_type": "stream",
     "text": [
      "0b1001\n"
     ]
    }
   ],
   "source": [
    "x = 9\n",
    "print(bin(x))"
   ]
  },
  {
   "cell_type": "code",
   "execution_count": 43,
   "metadata": {},
   "outputs": [
    {
     "name": "stdout",
     "output_type": "stream",
     "text": [
      "18\n",
      "0b10010\n"
     ]
    }
   ],
   "source": [
    "print(x << 1)\n",
    "print(bin(x << 1))"
   ]
  },
  {
   "cell_type": "code",
   "execution_count": 44,
   "metadata": {},
   "outputs": [
    {
     "name": "stdout",
     "output_type": "stream",
     "text": [
      "4\n",
      "0b100\n"
     ]
    }
   ],
   "source": [
    "print(x >> 1)\n",
    "print(bin(x >> 1))"
   ]
  },
  {
   "cell_type": "markdown",
   "metadata": {},
   "source": [
    "#### 排他的論理和"
   ]
  },
  {
   "cell_type": "code",
   "execution_count": 65,
   "metadata": {},
   "outputs": [
    {
     "data": {
      "text/plain": [
       "{1, 5, 6}"
      ]
     },
     "execution_count": 65,
     "metadata": {},
     "output_type": "execute_result"
    }
   ],
   "source": [
    "{1, 2, 3, 5} ^ {2, 3, 6}"
   ]
  },
  {
   "cell_type": "markdown",
   "metadata": {},
   "source": [
    "# 5. 正規表現\n",
    "\n",
    "https://atcoder.jp/contests/abc076/tasks/abc076_c\n",
    "\n",
    "https://docs.python.org/ja/3/library/re.html"
   ]
  },
  {
   "cell_type": "code",
   "execution_count": 61,
   "metadata": {},
   "outputs": [
    {
     "name": "stdout",
     "output_type": "stream",
     "text": [
      "atcoder\n"
     ]
    }
   ],
   "source": [
    "import re\n",
    "\n",
    "s = '?tc????'.replace('?', '.')\n",
    "t = 'coder'\n",
    "n = len(t)\n",
    "for i in range(len(s) - n + 1):\n",
    "    if re.match(s[i:i + n], t):\n",
    "        s = s.replace('.', 'a')\n",
    "        print(s[:i] + t + s[i + n:])"
   ]
  },
  {
   "cell_type": "markdown",
   "metadata": {},
   "source": [
    "#### 文字コード"
   ]
  },
  {
   "cell_type": "code",
   "execution_count": 75,
   "metadata": {},
   "outputs": [
    {
     "data": {
      "text/plain": [
       "(65, 'A')"
      ]
     },
     "execution_count": 75,
     "metadata": {},
     "output_type": "execute_result"
    }
   ],
   "source": [
    "ord('A'), chr(65)"
   ]
  },
  {
   "cell_type": "markdown",
   "metadata": {},
   "source": [
    "#### 文字列マッチング\n",
    "\n",
    "https://atcoder.jp/contests/abc049/tasks/arc065_a  \n",
    "https://docs.python.org/ja/3/library/re.html#search-vs-match\n",
    "\n",
    "* re.match(): 先頭から\n",
    "* re.search(): どこでも"
   ]
  },
  {
   "cell_type": "code",
   "execution_count": 119,
   "metadata": {},
   "outputs": [
    {
     "name": "stdout",
     "output_type": "stream",
     "text": [
      "None\n",
      "<re.Match object; span=(3, 6), match='bar'>\n",
      "None\n"
     ]
    }
   ],
   "source": [
    "import re\n",
    "\n",
    "s = 'foobarfoo'\n",
    "print(re.match('bar', s))\n",
    "print(re.search('bar', s))\n",
    "print(re.search('bar$', s))"
   ]
  },
  {
   "cell_type": "code",
   "execution_count": 125,
   "metadata": {},
   "outputs": [
    {
     "name": "stdout",
     "output_type": "stream",
     "text": [
      "<re.Match object; span=(11, 14), match='bar'>\n",
      "None\n",
      "<re.Match object; span=(0, 3), match='bar'>\n",
      "<re.Match object; span=(0, 3), match='bar'>\n"
     ]
    }
   ],
   "source": [
    "print(re.search('(bar|foo)$', 'startbarfoobar'))\n",
    "print(re.search('^(bar|foo)$', 'startbarfoobar'))\n",
    "print(re.search('^(bar|foo)', 'barfoobarend'))\n",
    "print(re.match('(bar|foo)', 'barfoobarend'))"
   ]
  },
  {
   "cell_type": "markdown",
   "metadata": {},
   "source": [
    "# 6. リストのインデックス"
   ]
  },
  {
   "cell_type": "code",
   "execution_count": 93,
   "metadata": {},
   "outputs": [
    {
     "data": {
      "text/plain": [
       "([1, 2, 3, 4, 5, 6], [1, 3, 5], [6, 4, 2])"
      ]
     },
     "execution_count": 93,
     "metadata": {},
     "output_type": "execute_result"
    }
   ],
   "source": [
    "a = list(range(1, 7))\n",
    "a, a[::2], a[::-2]"
   ]
  },
  {
   "cell_type": "code",
   "execution_count": 94,
   "metadata": {},
   "outputs": [
    {
     "data": {
      "text/plain": [
       "([1, 2, 3, 4, 5], [2, 4], [5, 3, 1])"
      ]
     },
     "execution_count": 94,
     "metadata": {},
     "output_type": "execute_result"
    }
   ],
   "source": [
    "a = list(range(1, 6))\n",
    "a, a[1::2], a[::-2]"
   ]
  },
  {
   "cell_type": "markdown",
   "metadata": {},
   "source": [
    "# 7. Counter\n",
    "\n",
    "https://docs.python.org/ja/3/library/collections.html#collections.Counter"
   ]
  },
  {
   "cell_type": "code",
   "execution_count": 76,
   "metadata": {},
   "outputs": [],
   "source": [
    "from collections import Counter"
   ]
  },
  {
   "cell_type": "code",
   "execution_count": 79,
   "metadata": {},
   "outputs": [
    {
     "name": "stdout",
     "output_type": "stream",
     "text": [
      "Counter({'a': 6, 'b': 2, 'c': 1})\n",
      "Counter({'a': 2, 'b': 2})\n",
      "Counter({'a': 2})\n",
      "Counter({'a': 4, 'b': 2, 'c': 1})\n"
     ]
    }
   ],
   "source": [
    "a = Counter({'a': 4, 'b': 2})\n",
    "b = Counter({'a': 2, 'c': 1})\n",
    "\n",
    "print(a + b)\n",
    "print(a - b)\n",
    "print(a & b)\n",
    "print(a | b)"
   ]
  },
  {
   "cell_type": "code",
   "execution_count": 90,
   "metadata": {},
   "outputs": [
    {
     "data": {
      "text/plain": [
       "Counter({2: 2, 4: 2, 0: 1})"
      ]
     },
     "execution_count": 90,
     "metadata": {},
     "output_type": "execute_result"
    }
   ],
   "source": [
    "Counter([2, 4, 4, 0, 2])"
   ]
  },
  {
   "cell_type": "markdown",
   "metadata": {},
   "source": [
    "#### sort by value"
   ]
  },
  {
   "cell_type": "code",
   "execution_count": 91,
   "metadata": {},
   "outputs": [
    {
     "data": {
      "text/plain": [
       "[(2, 2), (4, 2), (0, 1)]"
      ]
     },
     "execution_count": 91,
     "metadata": {},
     "output_type": "execute_result"
    }
   ],
   "source": [
    "Counter([2, 4, 4, 0, 2]).most_common()"
   ]
  },
  {
   "cell_type": "markdown",
   "metadata": {},
   "source": [
    "#### sort by key"
   ]
  },
  {
   "cell_type": "code",
   "execution_count": 92,
   "metadata": {},
   "outputs": [
    {
     "data": {
      "text/plain": [
       "[(0, 1), (2, 2), (4, 2)]"
      ]
     },
     "execution_count": 92,
     "metadata": {},
     "output_type": "execute_result"
    }
   ],
   "source": [
    "sorted(Counter([2, 4, 4, 0, 2]).items())"
   ]
  },
  {
   "cell_type": "markdown",
   "metadata": {},
   "source": [
    "# 8. フェルマーの小定理\n",
    "\n",
    "https://www.slideshare.net/chokudai/abc034\n",
    "\n",
    "「1000000007 で割ったあまり」の求め方  \n",
    "https://qiita.com/drken/items/3b4fdf0a78e7a138cd9a\n",
    "\n",
    "二項係数の求め方    \n",
    "http://drken1215.hatenablog.com/entry/2018/06/08/210000"
   ]
  },
  {
   "cell_type": "code",
   "execution_count": 244,
   "metadata": {},
   "outputs": [
    {
     "name": "stdout",
     "output_type": "stream",
     "text": [
      "10\n"
     ]
    }
   ],
   "source": [
    "W, H = 4, 3\n",
    "mod = 10 ** 9 + 7\n",
    "\n",
    "ans = 1\n",
    "for i in range(1, H):\n",
    "    ans = ans * (W + H - 2 - (i - 1)) * pow(i, mod - 2, mod) % mod\n",
    "    \n",
    "print(ans)"
   ]
  },
  {
   "cell_type": "markdown",
   "metadata": {},
   "source": [
    "## combinationの計算\n",
    "\n",
    "コンビネーションの計算  \n",
    "${}_n \\mathrm{C}_k = \\prod_{i=1}^k \\frac{n - i + 1}{i} $\n",
    "\n",
    "また，割り算の計算はフェルマーの小定理から\n",
    "$a^{p - 2} \\equiv a^{-1} \\pmod p$\n",
    "\n",
    "下の解法は，kが10^6~7程度のオーダーであれば使える．"
   ]
  },
  {
   "cell_type": "code",
   "execution_count": 185,
   "metadata": {},
   "outputs": [],
   "source": [
    "MOD = 10 ** 9 + 7\n",
    "\n",
    "def comb(n, k):\n",
    "    ret = 1\n",
    "    for i in range(1, k + 1):\n",
    "        ret = ret * (n - i + 1) % MOD        \n",
    "        ret = ret * pow(i, MOD - 2, MOD) % MOD\n",
    "        \n",
    "    return ret"
   ]
  },
  {
   "cell_type": "code",
   "execution_count": 186,
   "metadata": {},
   "outputs": [
    {
     "data": {
      "text/plain": [
       "252"
      ]
     },
     "execution_count": 186,
     "metadata": {},
     "output_type": "execute_result"
    }
   ],
   "source": [
    "comb(10, 5)"
   ]
  },
  {
   "cell_type": "markdown",
   "metadata": {},
   "source": [
    "#### 別解\n",
    "\n",
    "素直に計算する．  \n",
    "${}_n \\mathrm{C}_k = \\frac{n!}{(n-k)!k!} $"
   ]
  },
  {
   "cell_type": "code",
   "execution_count": 181,
   "metadata": {},
   "outputs": [],
   "source": [
    "from math import factorial\n",
    "MOD = 10 ** 9 + 7\n",
    "\n",
    "def comb(n, k):\n",
    "    ans = factorial(n) % MOD\n",
    "    ans *= pow(factorial(n - k), MOD - 2, MOD)\n",
    "    ans %= MOD\n",
    "    ans *= pow(factorial(k), MOD - 2, MOD)\n",
    "    ans %= MOD\n",
    "    return ans"
   ]
  },
  {
   "cell_type": "code",
   "execution_count": 182,
   "metadata": {},
   "outputs": [
    {
     "data": {
      "text/plain": [
       "252"
      ]
     },
     "execution_count": 182,
     "metadata": {},
     "output_type": "execute_result"
    }
   ],
   "source": [
    "comb(10, 5)"
   ]
  },
  {
   "cell_type": "markdown",
   "metadata": {},
   "source": [
    "## 重複組み合わせ\n",
    "\n",
    "10^3程度で間に合わないかも知れない．  \n",
    "その時は，上のcombinationを使う．\n",
    "\n",
    "${}_n \\mathrm{H}_k = {}_{n+k-1} \\mathrm{C}_{n-1} = {}_{n+k-1} \\mathrm{C}_{k}$"
   ]
  },
  {
   "cell_type": "code",
   "execution_count": 183,
   "metadata": {},
   "outputs": [],
   "source": [
    "from math import factorial\n",
    "MOD = 10 ** 9 + 7\n",
    "\n",
    "def rep_perm(n, k):\n",
    "    ans = factorial(n + k - 1) % MOD\n",
    "    ans *= pow(factorial(n - 1), MOD - 2, MOD)\n",
    "    ans %= MOD\n",
    "    ans *= pow(factorial(k), MOD - 2, MOD)\n",
    "    ans %= MOD\n",
    "    return ans"
   ]
  },
  {
   "cell_type": "code",
   "execution_count": 184,
   "metadata": {},
   "outputs": [
    {
     "data": {
      "text/plain": [
       "55"
      ]
     },
     "execution_count": 184,
     "metadata": {},
     "output_type": "execute_result"
    }
   ],
   "source": [
    "rep_perm(10, 2)"
   ]
  },
  {
   "cell_type": "markdown",
   "metadata": {},
   "source": [
    "## 階乗の配列\n",
    "\n",
    "階乗の配列，逆元の配列，階乗の逆元の配列を求める．"
   ]
  },
  {
   "cell_type": "code",
   "execution_count": 175,
   "metadata": {},
   "outputs": [],
   "source": [
    "MAX = 10 ** 5\n",
    "MOD = 10 ** 9 + 7\n",
    "\n",
    "# Factorial\n",
    "fac = [0] * (MAX + 1)\n",
    "fac[0] = 1\n",
    "fac[1] = 1\n",
    "\n",
    "# Inverse\n",
    "inv = [0] * (MAX + 1)\n",
    "inv[1] = 1\n",
    "\n",
    "# Inverse factorial\n",
    "finv = [0] * (MAX + 1)\n",
    "finv[0] = 1\n",
    "finv[1] = 1\n",
    "\n",
    "for i in range(2, MAX + 1):\n",
    "    fac[i] = fac[i - 1] * i % MOD\n",
    "    inv[i] = MOD - inv[MOD % i] * (MOD // i) % MOD\n",
    "    finv[i] = finv[i - 1] * inv[i] % MOD"
   ]
  },
  {
   "cell_type": "markdown",
   "metadata": {},
   "source": [
    "#### 逆元配列が要らない場合\n",
    "\n",
    "以下の計算から，階乗の逆元は求められる．  \n",
    "$\\frac{1}{(N-1)!} = \\frac{1}{N!} * N$"
   ]
  },
  {
   "cell_type": "code",
   "execution_count": 173,
   "metadata": {},
   "outputs": [],
   "source": [
    "MAX = 10 ** 5\n",
    "MOD = 10 ** 9 + 7\n",
    "\n",
    "# Factorial\n",
    "fac = [0] * (MAX + 1)\n",
    "fac[0] = 1\n",
    "fac[1] = 1\n",
    "for i in range(2, MAX + 1):\n",
    "    fac[i] = fac[i - 1] * i % MOD\n",
    "    \n",
    "# Inverse factorial\n",
    "finv = [0] * (MAX + 1)\n",
    "finv[MAX] = pow(fac[MAX], MOD - 2, MOD)\n",
    "for i in reversed(range(1, MAX + 1)):\n",
    "    finv[i - 1] = finv[i] * i % MOD"
   ]
  },
  {
   "cell_type": "markdown",
   "metadata": {},
   "source": [
    "# 9. 素数"
   ]
  },
  {
   "cell_type": "markdown",
   "metadata": {},
   "source": [
    "#### 素数判定"
   ]
  },
  {
   "cell_type": "code",
   "execution_count": 61,
   "metadata": {},
   "outputs": [],
   "source": [
    "def is_prime(n):\n",
    "    for i in range(2, n):\n",
    "        if i * i > n:\n",
    "            break\n",
    "            \n",
    "        if n % i == 0:\n",
    "            return False\n",
    "        \n",
    "    return n != 1"
   ]
  },
  {
   "cell_type": "markdown",
   "metadata": {},
   "source": [
    "#### 素因数分解"
   ]
  },
  {
   "cell_type": "code",
   "execution_count": 104,
   "metadata": {},
   "outputs": [],
   "source": [
    "from collections import defaultdict\n",
    "\n",
    "def prime_factor(n):\n",
    "    d = defaultdict(int)\n",
    "    for i in range(2, n + 1):\n",
    "        if i * i > n:\n",
    "            break\n",
    "            \n",
    "        while n % i == 0:\n",
    "            d[i] += 1\n",
    "            n //= i\n",
    "            \n",
    "    if n != 1:\n",
    "        d[n] = 1\n",
    "            \n",
    "    return d"
   ]
  },
  {
   "cell_type": "markdown",
   "metadata": {},
   "source": [
    "#### Eratosthenes の篩\n",
    "\n",
    "整数N以下の素数，及びその個数"
   ]
  },
  {
   "cell_type": "code",
   "execution_count": 1,
   "metadata": {},
   "outputs": [],
   "source": [
    "def sieve(n):\n",
    "    prime = []\n",
    "\n",
    "    is_prime = [True] * (n + 1)\n",
    "    is_prime[0] = False\n",
    "    is_prime[1] = False\n",
    "    \n",
    "    for i in range(2, n + 1):\n",
    "        if is_prime[i]:\n",
    "            prime.append(i)\n",
    "            \n",
    "            for j in range(2 * i, n + 1, i):\n",
    "                is_prime[j] = False\n",
    "                \n",
    "    return prime, is_prime"
   ]
  },
  {
   "cell_type": "code",
   "execution_count": 3,
   "metadata": {},
   "outputs": [
    {
     "data": {
      "text/plain": [
       "([2, 3, 5, 7, 11],\n",
       " [False,\n",
       "  False,\n",
       "  True,\n",
       "  True,\n",
       "  False,\n",
       "  True,\n",
       "  False,\n",
       "  True,\n",
       "  False,\n",
       "  False,\n",
       "  False,\n",
       "  True])"
      ]
     },
     "execution_count": 3,
     "metadata": {},
     "output_type": "execute_result"
    }
   ],
   "source": [
    "prime, is_prime = sieve(11)\n",
    "\n",
    "prime, is_prime"
   ]
  },
  {
   "cell_type": "markdown",
   "metadata": {},
   "source": [
    "個数だけで良い場合．（Trueのindexを見れば，素数自体も求まる）"
   ]
  },
  {
   "cell_type": "code",
   "execution_count": 4,
   "metadata": {},
   "outputs": [],
   "source": [
    "def sieve(n):\n",
    "    if n == 0:\n",
    "        return [False]\n",
    "\n",
    "    is_prime = [True] * (n + 1)\n",
    "    is_prime[0] = False\n",
    "    is_prime[1] = False\n",
    "    \n",
    "    for i in range(2, n + 1):\n",
    "        for j in range(2 * i, n + 1, i):\n",
    "            is_prime[j] = False\n",
    "                \n",
    "    return is_prime"
   ]
  },
  {
   "cell_type": "code",
   "execution_count": 7,
   "metadata": {},
   "outputs": [
    {
     "data": {
      "text/plain": [
       "[False, False, True, True, False, True, False, True, False, False, False, True]"
      ]
     },
     "execution_count": 7,
     "metadata": {},
     "output_type": "execute_result"
    }
   ],
   "source": [
    "sieve(11)"
   ]
  },
  {
   "cell_type": "markdown",
   "metadata": {},
   "source": [
    "#### 区間Eratosthenes の篩\n",
    "\n",
    "整数a, bに対して区間[a, b)の素数の個数\n",
    "\n",
    "[2, b^0.5)の表（is_prime_small）と，[a, b)の表（is_prime）を用意する．"
   ]
  },
  {
   "cell_type": "code",
   "execution_count": 20,
   "metadata": {},
   "outputs": [],
   "source": [
    "def segment_sieve(a, b, MAX_LEN=10 ** 6 + 7):\n",
    "    is_prime_small = [True] * MAX_LEN\n",
    "    is_prime = [True] * MAX_LEN\n",
    "    \n",
    "    small_len = int((b + 1) ** 0.5) + 1\n",
    "    for i in range(2, small_len):\n",
    "        if is_prime_small[i]:\n",
    "            for j in range(i * 2, small_len, i):\n",
    "                is_prime_small[j] = False\n",
    "                \n",
    "            for j in range(max(2, (a + i - 1) // i * i), b, i):\n",
    "                is_prime[j - a] = False\n",
    "                \n",
    "    return is_prime"
   ]
  },
  {
   "cell_type": "code",
   "execution_count": 23,
   "metadata": {},
   "outputs": [
    {
     "name": "stdout",
     "output_type": "stream",
     "text": [
      "3\n"
     ]
    }
   ],
   "source": [
    "a, b = 22, 37\n",
    "print(sum(segment_sieve(a, b)[:b - a]))"
   ]
  },
  {
   "cell_type": "code",
   "execution_count": 24,
   "metadata": {},
   "outputs": [
    {
     "name": "stdout",
     "output_type": "stream",
     "text": [
      "1000\n"
     ]
    }
   ],
   "source": [
    "a, b = 22801763489, 22801787297\n",
    "print(sum(segment_sieve(a, b)[:b - a]))"
   ]
  },
  {
   "cell_type": "code",
   "execution_count": null,
   "metadata": {},
   "outputs": [],
   "source": []
  }
 ],
 "metadata": {
  "kernelspec": {
   "display_name": "Python 3",
   "language": "python",
   "name": "python3"
  },
  "language_info": {
   "codemirror_mode": {
    "name": "ipython",
    "version": 3
   },
   "file_extension": ".py",
   "mimetype": "text/x-python",
   "name": "python",
   "nbconvert_exporter": "python",
   "pygments_lexer": "ipython3",
   "version": "3.7.3"
  }
 },
 "nbformat": 4,
 "nbformat_minor": 2
}
