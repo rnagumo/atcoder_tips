{
 "cells": [
  {
   "cell_type": "markdown",
   "metadata": {},
   "source": [
    "# ALDS1_11_B\n",
    "\n",
    "http://judge.u-aizu.ac.jp/onlinejudge/description.jsp?id=ALDS1_11_B&lang=ja"
   ]
  },
  {
   "cell_type": "code",
   "execution_count": 1,
   "metadata": {},
   "outputs": [],
   "source": [
    "N = 4\n",
    "X = [(1, 1, 2), (2, 1, 4), (3, 0), (4, 1, 3)]"
   ]
  },
  {
   "cell_type": "code",
   "execution_count": 2,
   "metadata": {},
   "outputs": [],
   "source": [
    "edges = []\n",
    "for u, k, *v in X:\n",
    "    edges.append(list(v))"
   ]
  },
  {
   "cell_type": "code",
   "execution_count": 3,
   "metadata": {},
   "outputs": [],
   "source": [
    "def dfs(u, t):\n",
    "    visited[u] = True\n",
    "    ds[u] = t\n",
    "    for v in edges[u]:\n",
    "        if not visited[v - 1]:\n",
    "            t = dfs(v - 1, t + 1)\n",
    "    \n",
    "    t += 1\n",
    "    fs[u] = t\n",
    "    return t"
   ]
  },
  {
   "cell_type": "code",
   "execution_count": 4,
   "metadata": {},
   "outputs": [
    {
     "name": "stdout",
     "output_type": "stream",
     "text": [
      "1 1 8\n",
      "2 2 7\n",
      "3 4 5\n",
      "4 3 6\n"
     ]
    }
   ],
   "source": [
    "visited = [False] * N\n",
    "ds = [0] * N\n",
    "fs = [0] * N\n",
    "t = 0\n",
    "\n",
    "for i in range(N):\n",
    "    if not visited[i]:\n",
    "        t = dfs(i, t + 1)\n",
    "\n",
    "for i, (d, f) in enumerate(zip(ds, fs)):\n",
    "    print(i + 1, d, f)"
   ]
  },
  {
   "cell_type": "markdown",
   "metadata": {},
   "source": [
    "# AOJ 1160\n",
    "\n",
    "http://judge.u-aizu.ac.jp/onlinejudge/description.jsp?id=1160&lang=jp"
   ]
  },
  {
   "cell_type": "code",
   "execution_count": 23,
   "metadata": {},
   "outputs": [
    {
     "name": "stdout",
     "output_type": "stream",
     "text": [
      "3\n"
     ]
    }
   ],
   "source": [
    "W, H = 5, 4\n",
    "X = [[1, 0, 1, 0, 0], [1, 0, 0, 0, 0], [1, 0, 1, 0, 1], [1, 0, 0, 1, 0]]\n",
    "\n",
    "print(3)"
   ]
  },
  {
   "cell_type": "code",
   "execution_count": 27,
   "metadata": {},
   "outputs": [],
   "source": [
    "def dfs(u, v):\n",
    "    visited[u][v] = True\n",
    "    for i in range(-1, 2):\n",
    "        for j in range(-1, 2):\n",
    "            if not (0 <= u + i < H and 0 <= v + j < W):\n",
    "                continue\n",
    "            \n",
    "            if visited[u + i][v + j] or not X[u + i][v + j]:\n",
    "                continue\n",
    "            \n",
    "            dfs(u + i, v + j)"
   ]
  },
  {
   "cell_type": "code",
   "execution_count": 29,
   "metadata": {},
   "outputs": [
    {
     "name": "stdout",
     "output_type": "stream",
     "text": [
      "3\n"
     ]
    }
   ],
   "source": [
    "import sys\n",
    "sys.setrecursionlimit(100000)\n",
    "\n",
    "visited = [[False] * W for _ in range(H)]\n",
    "cnt = 0\n",
    "for u in range(H):\n",
    "    for v in range(W):\n",
    "        if visited[u][v] or not X[u][v]:\n",
    "            continue\n",
    "        \n",
    "        dfs(u, v)\n",
    "        cnt += 1\n",
    "            \n",
    "print(cnt)"
   ]
  },
  {
   "cell_type": "markdown",
   "metadata": {},
   "source": [
    "# ABC 138 - D\n",
    "\n",
    "https://atcoder.jp/contests/abc138/tasks/abc138_d"
   ]
  },
  {
   "cell_type": "code",
   "execution_count": 31,
   "metadata": {},
   "outputs": [
    {
     "name": "stdout",
     "output_type": "stream",
     "text": [
      "100 110 111 110\n"
     ]
    }
   ],
   "source": [
    "N, Q = 4, 3\n",
    "X = [[1, 2], [2, 3], [2, 4]]\n",
    "P = [[2, 10], [1, 100], [3, 1]]\n",
    "\n",
    "print(\"100 110 111 110\")"
   ]
  },
  {
   "cell_type": "code",
   "execution_count": 39,
   "metadata": {},
   "outputs": [],
   "source": [
    "tree = [[] for _ in range(N + 1)]\n",
    "for a, b in X:\n",
    "    tree[a].append(b)\n",
    "\n",
    "cnt = [0] * (N + 1)\n",
    "for p, x in P:\n",
    "    cnt[p] += x"
   ]
  },
  {
   "cell_type": "code",
   "execution_count": 41,
   "metadata": {},
   "outputs": [
    {
     "name": "stdout",
     "output_type": "stream",
     "text": [
      "100 110 111 110\n"
     ]
    }
   ],
   "source": [
    "ctr = [0] * (N + 1)\n",
    "queue = [(1, cnt[1])]\n",
    "while queue:\n",
    "    u, x = queue.pop()\n",
    "    ctr[u] += x\n",
    "    for v in tree[u]:\n",
    "        queue.append((v, x + cnt[v]))\n",
    "\n",
    "print(*ctr[1:])"
   ]
  },
  {
   "cell_type": "markdown",
   "metadata": {},
   "source": [
    "# JOI2009 yo - D\n",
    "\n",
    "https://atcoder.jp/contests/joi2009yo/tasks/joi2009yo_d"
   ]
  },
  {
   "cell_type": "code",
   "execution_count": 9,
   "metadata": {},
   "outputs": [
    {
     "name": "stdout",
     "output_type": "stream",
     "text": [
      "5\n"
     ]
    }
   ],
   "source": [
    "M = 3\n",
    "N = 3\n",
    "X = [[1, 1, 0], [1, 0, 1], [1, 1, 0]]\n",
    "\n",
    "print(5)"
   ]
  },
  {
   "cell_type": "code",
   "execution_count": 14,
   "metadata": {},
   "outputs": [],
   "source": [
    "def dfs(u, v, c):\n",
    "    visited[u][v] = True\n",
    "    res = c\n",
    "    for i, j in [(-1, 0), (1, 0), (0, 1), (0, -1)]:\n",
    "        if not (0 <= u + i < N and 0 <= v + j < M):\n",
    "            continue\n",
    "\n",
    "        if visited[u + i][v + j] or not X[u + i][v + j]:\n",
    "            continue\n",
    "            \n",
    "        res = max(res, dfs(u + i, v + j, c + 1))\n",
    "\n",
    "    visited[u][v] = False\n",
    "    return res"
   ]
  },
  {
   "cell_type": "code",
   "execution_count": 15,
   "metadata": {},
   "outputs": [
    {
     "name": "stdout",
     "output_type": "stream",
     "text": [
      "5\n"
     ]
    }
   ],
   "source": [
    "ans = 0\n",
    "for u in range(N):\n",
    "    for v in range(M):\n",
    "        if X[u][v]:\n",
    "            visited = [[False] * M for _ in range(N)]\n",
    "            ans = max(ans, dfs(u, v, 1))\n",
    "\n",
    "print(ans)"
   ]
  },
  {
   "cell_type": "code",
   "execution_count": null,
   "metadata": {},
   "outputs": [],
   "source": []
  }
 ],
 "metadata": {
  "kernelspec": {
   "display_name": "Python 3",
   "language": "python",
   "name": "python3"
  },
  "language_info": {
   "codemirror_mode": {
    "name": "ipython",
    "version": 3
   },
   "file_extension": ".py",
   "mimetype": "text/x-python",
   "name": "python",
   "nbconvert_exporter": "python",
   "pygments_lexer": "ipython3",
   "version": "3.7.3"
  }
 },
 "nbformat": 4,
 "nbformat_minor": 4
}
