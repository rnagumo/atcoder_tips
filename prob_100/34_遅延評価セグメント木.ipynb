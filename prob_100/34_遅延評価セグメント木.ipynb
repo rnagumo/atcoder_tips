{
 "cells": [
  {
   "cell_type": "markdown",
   "metadata": {},
   "source": [
    "# RMQ and RUQ\n",
    "\n",
    "* Range Minimum Query\n",
    "* Range Update Query\n",
    "\n",
    "http://judge.u-aizu.ac.jp/onlinejudge/description.jsp?id=DSL_2_F&lang=ja"
   ]
  },
  {
   "cell_type": "code",
   "execution_count": 1,
   "metadata": {},
   "outputs": [],
   "source": [
    "class LazySegmentTree:\n",
    "    \"\"\"Range Minimum Query and Range Update Query.\"\"\"\n",
    "    inf = 2 ** 31 - 1\n",
    "\n",
    "    def __init__(self, n):\n",
    "        \"\"\"0-indexed.\"\"\"\n",
    "        x = 1\n",
    "        while x < n:\n",
    "            x *= 2\n",
    "        \n",
    "        self.n = x\n",
    "        self.node = [self.inf] * (2 * x - 1)\n",
    "        self.lazy = [self.inf] * (2 * x - 1)\n",
    "        self.flag = [False] * (2 * x - 1)\n",
    "\n",
    "    def update(self, a, b, x, k=0, l=0, r=-1):\n",
    "        \"\"\"Update [a, b) to x\"\"\"\n",
    "        if r < 0:\n",
    "            r = self.n\n",
    "\n",
    "        self.propagate(k, l, r)\n",
    "\n",
    "        if b <= l or r <= a:\n",
    "            return\n",
    "\n",
    "        if a <= l and r <= b:\n",
    "            self.lazy[k] = x\n",
    "            self.flag[k] = True\n",
    "            self.propagate(k, l, r)\n",
    "            return\n",
    "\n",
    "        self.update(a, b, x, k * 2 + 1, l, (l + r) // 2)\n",
    "        self.update(a, b, x, k * 2 + 2, (l + r) // 2, r)\n",
    "        self.node[k] = min(self.node[k * 2 + 1], self.node[k * 2 + 2])\n",
    "            \n",
    "    def query(self, a, b, k=0, l=0, r=-1):\n",
    "        \"\"\"Query min in [a, b)\"\"\"\n",
    "        if r < 0:\n",
    "            r = self.n\n",
    "\n",
    "        self.propagate(k, l, r)\n",
    "\n",
    "        if b <= l or r <= a:\n",
    "            return self.inf\n",
    "\n",
    "        if a <= l and r <= b:\n",
    "            return self.node[k]\n",
    "\n",
    "        vl = self.query(a, b, k * 2 + 1, l, (l + r) // 2)\n",
    "        vr = self.query(a, b, k * 2 + 2, (l + r) // 2, r)\n",
    "        return min(vl, vr)\n",
    "        \n",
    "    def propagate(self, k, l, r):\n",
    "        if not self.flag[k]:\n",
    "            return\n",
    "\n",
    "        self.node[k] = self.lazy[k]\n",
    "        if r - l > 1:\n",
    "            self.lazy[k * 2 + 1] = self.lazy[k]\n",
    "            self.lazy[k * 2 + 2] = self.lazy[k]\n",
    "            self.flag[k * 2 + 1] = True\n",
    "            self.flag[k * 2 + 2] = True\n",
    "        self.flag[k] = False"
   ]
  },
  {
   "cell_type": "code",
   "execution_count": 2,
   "metadata": {},
   "outputs": [
    {
     "name": "stdout",
     "output_type": "stream",
     "text": [
      "1 2\n"
     ]
    }
   ],
   "source": [
    "N, Q = 3, 5\n",
    "X = [[0, 0, 1, 1], [0, 1, 2, 3], [0, 2, 2, 2], [1, 0, 2], [1, 1, 2]]\n",
    "\n",
    "print(1, 2)"
   ]
  },
  {
   "cell_type": "code",
   "execution_count": 3,
   "metadata": {},
   "outputs": [
    {
     "name": "stdout",
     "output_type": "stream",
     "text": [
      "1\n",
      "2\n"
     ]
    }
   ],
   "source": [
    "st = LazySegmentTree(N)\n",
    "for c, *x in X:\n",
    "    if c == 0:\n",
    "        s, t, v = x\n",
    "        st.update(s, t + 1, v)\n",
    "    else:\n",
    "        s, t = x\n",
    "        print(st.query(s, t + 1))"
   ]
  },
  {
   "cell_type": "markdown",
   "metadata": {},
   "source": [
    "# RSQ and RAQ\n",
    "\n",
    "* Range Sum Query\n",
    "* Range Add Query\n",
    "\n",
    "http://judge.u-aizu.ac.jp/onlinejudge/description.jsp?id=DSL_2_G&lang=ja"
   ]
  },
  {
   "cell_type": "code",
   "execution_count": 4,
   "metadata": {},
   "outputs": [
    {
     "name": "stdout",
     "output_type": "stream",
     "text": [
      "4 8\n"
     ]
    }
   ],
   "source": [
    "N, Q = 3, 5\n",
    "X = [[0, 1, 2, 1], [0, 2, 3, 2], [0, 3, 3, 3], [1, 1, 2], [1, 2, 3]]\n",
    "\n",
    "print(4, 8)"
   ]
  },
  {
   "cell_type": "code",
   "execution_count": null,
   "metadata": {},
   "outputs": [],
   "source": [
    "class LazySegmentTree:\n",
    "    \"\"\"Range Sum Query and Range Add Query.\"\"\"\n",
    "    def __init__(self, n):\n",
    "        x = 1\n",
    "        while x < n:\n",
    "            x *= 2\n",
    "            \n",
    "        self.n = x\n",
    "        self.node = [0] * (2 * x - 1)\n",
    "        self.lazy = [0] * (2 * x - 1)\n",
    "        \n",
    "    def add(self, a, b, x, k=0, l=0, r=-1):\n",
    "        \"\"\"Add x in [a, b).\"\"\"\n",
    "        if r < 0:\n",
    "            r = self.n\n",
    "        \n",
    "        self.propagate(k, l, r)\n",
    "\n",
    "        if b <= l or r <= a:\n",
    "            return\n",
    "        \n",
    "        if a <= l and r <= b:\n",
    "            self.lazy[k] += (r - l) * x\n",
    "            self.propagate(k, l, r)\n",
    "            return\n",
    "        \n",
    "        self.add(a, b, x, 2 * k + 1, l, (l + r) // 2)\n",
    "        self.add(a, b, x, 2 * k + 2, (l + r) // 2, r)\n",
    "        self.node[k] = self.node[2 * k + 1] + self.node[2 * k + 2]\n",
    "\n",
    "    def getsum(self, a, b, k=0, l=0, r=-1):\n",
    "        if r < 0:\n",
    "            r = self.n\n",
    "\n",
    "        self.propagate(k, l, r)\n",
    "\n",
    "        if b <= l or r <= a:\n",
    "            return 0\n",
    "        \n",
    "        if a <= l and r <= b:\n",
    "            return self.node[k]\n",
    "        \n",
    "        vl = self.getsum(a, b, 2 * k + 1, l, (l + r) // 2)\n",
    "        vr = self.getsum(a, b, 2 * k + 2, (l + r) // 2, r)\n",
    "        return vl + vr\n",
    "\n",
    "    def propagate(self, k, l, r):\n",
    "        if self.lazy[k] = 0:\n",
    "            return\n",
    "        \n",
    "        self.node[k] += self.lazy[k]\n",
    "        if r - l > 1:\n",
    "            self.lazy[2 * k + 1] += self.lazy[k] // 2\n",
    "            self.lazy[2 * k + 2] += self.lazy[k] // 2\n",
    "        self.lazy[k] = 0"
   ]
  },
  {
   "cell_type": "code",
   "execution_count": null,
   "metadata": {},
   "outputs": [],
   "source": []
  },
  {
   "cell_type": "code",
   "execution_count": null,
   "metadata": {},
   "outputs": [],
   "source": []
  },
  {
   "cell_type": "code",
   "execution_count": null,
   "metadata": {},
   "outputs": [],
   "source": []
  }
 ],
 "metadata": {
  "kernelspec": {
   "display_name": "Python 3",
   "language": "python",
   "name": "python3"
  },
  "language_info": {
   "codemirror_mode": {
    "name": "ipython",
    "version": 3
   },
   "file_extension": ".py",
   "mimetype": "text/x-python",
   "name": "python",
   "nbconvert_exporter": "python",
   "pygments_lexer": "ipython3",
   "version": "3.7.3"
  }
 },
 "nbformat": 4,
 "nbformat_minor": 4
}
