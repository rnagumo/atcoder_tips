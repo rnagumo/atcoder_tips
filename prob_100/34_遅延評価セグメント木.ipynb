{
 "cells": [
  {
   "cell_type": "markdown",
   "metadata": {},
   "source": [
    "# 遅延評価セグメント木\n",
    "\n",
    "http://tsutaj.hatenablog.com/entry/2017/03/30/224339"
   ]
  },
  {
   "cell_type": "markdown",
   "metadata": {},
   "source": [
    "# RMQ and RUQ\n",
    "\n",
    "* Range Minimum Query\n",
    "* Range Update Query\n",
    "\n",
    "http://judge.u-aizu.ac.jp/onlinejudge/description.jsp?id=DSL_2_F&lang=ja"
   ]
  },
  {
   "cell_type": "code",
   "execution_count": 27,
   "metadata": {},
   "outputs": [],
   "source": [
    "class LazySegmentTree:\n",
    "    \"\"\"Range Minimum Query and Range Update Query.\"\"\"\n",
    "    inf = 2 ** 31 - 1\n",
    "\n",
    "    def __init__(self, n):\n",
    "        \"\"\"0-indexed.\"\"\"\n",
    "        x = 1\n",
    "        while x < n:\n",
    "            x *= 2\n",
    "        \n",
    "        self.n = x\n",
    "        self.node = [self.inf] * (2 * x - 1)\n",
    "        self.lazy = [self.inf] * (2 * x - 1)\n",
    "\n",
    "    def update(self, a, b, x, k=0, l=0, r=-1):\n",
    "        \"\"\"Update [a, b) to x\"\"\"\n",
    "        if r < 0:\n",
    "            r = self.n\n",
    "\n",
    "        self.propagate(k, l, r)\n",
    "\n",
    "        if b <= l or r <= a:\n",
    "            return\n",
    "\n",
    "        if a <= l and r <= b:\n",
    "            self.lazy[k] = x\n",
    "            self.propagate(k, l, r)\n",
    "            return\n",
    "\n",
    "        self.update(a, b, x, k * 2 + 1, l, (l + r) // 2)\n",
    "        self.update(a, b, x, k * 2 + 2, (l + r) // 2, r)\n",
    "        self.node[k] = min(self.node[k * 2 + 1], self.node[k * 2 + 2])\n",
    "            \n",
    "    def query(self, a, b, k=0, l=0, r=-1):\n",
    "        \"\"\"Query min in [a, b)\"\"\"\n",
    "        if r < 0:\n",
    "            r = self.n\n",
    "\n",
    "        self.propagate(k, l, r)\n",
    "\n",
    "        if b <= l or r <= a:\n",
    "            return self.inf\n",
    "\n",
    "        if a <= l and r <= b:\n",
    "            return self.node[k]\n",
    "\n",
    "        vl = self.query(a, b, k * 2 + 1, l, (l + r) // 2)\n",
    "        vr = self.query(a, b, k * 2 + 2, (l + r) // 2, r)\n",
    "        return min(vl, vr)\n",
    "        \n",
    "    def propagate(self, k, l, r):\n",
    "        if self.lazy[k] == self.inf:\n",
    "            return\n",
    "\n",
    "        self.node[k] = self.lazy[k]\n",
    "        if r - l > 1:\n",
    "            self.lazy[k * 2 + 1] = self.lazy[k]\n",
    "            self.lazy[k * 2 + 2] = self.lazy[k]\n",
    "        self.lazy[k] = self.inf"
   ]
  },
  {
   "cell_type": "code",
   "execution_count": 28,
   "metadata": {},
   "outputs": [
    {
     "name": "stdout",
     "output_type": "stream",
     "text": [
      "1 2\n"
     ]
    }
   ],
   "source": [
    "N, Q = 3, 5\n",
    "X = [[0, 0, 1, 1], [0, 1, 2, 3], [0, 2, 2, 2], [1, 0, 2], [1, 1, 2]]\n",
    "\n",
    "print(1, 2)"
   ]
  },
  {
   "cell_type": "code",
   "execution_count": 29,
   "metadata": {},
   "outputs": [
    {
     "name": "stdout",
     "output_type": "stream",
     "text": [
      "1\n",
      "2\n"
     ]
    }
   ],
   "source": [
    "st = LazySegmentTree(N)\n",
    "for c, *x in X:\n",
    "    if c == 0:\n",
    "        s, t, v = x\n",
    "        st.update(s, t + 1, v)\n",
    "    else:\n",
    "        s, t = x\n",
    "        print(st.query(s, t + 1))"
   ]
  },
  {
   "cell_type": "markdown",
   "metadata": {},
   "source": [
    "# RSQ and RAQ\n",
    "\n",
    "* Range Sum Query\n",
    "* Range Add Query\n",
    "\n",
    "http://judge.u-aizu.ac.jp/onlinejudge/description.jsp?id=DSL_2_G&lang=ja"
   ]
  },
  {
   "cell_type": "code",
   "execution_count": 10,
   "metadata": {},
   "outputs": [],
   "source": [
    "class LazySegmentTree:\n",
    "    \"\"\"Range Sum Query and Range Add Query.\"\"\"\n",
    "    def __init__(self, n):\n",
    "        \"\"\"0-indexed.\"\"\"\n",
    "        x = 1\n",
    "        while x < n:\n",
    "            x *= 2\n",
    "            \n",
    "        self.n = x\n",
    "        self.node = [0] * (2 * x - 1)\n",
    "        self.lazy = [0] * (2 * x - 1)\n",
    "        \n",
    "    def add(self, a, b, x, k=0, l=0, r=-1):\n",
    "        \"\"\"Add x in [a, b).\"\"\"\n",
    "        if r < 0:\n",
    "            r = self.n\n",
    "        \n",
    "        self.propagate(k, l, r)\n",
    "\n",
    "        if b <= l or r <= a:\n",
    "            return\n",
    "        \n",
    "        if a <= l and r <= b:\n",
    "            self.lazy[k] += (r - l) * x\n",
    "            self.propagate(k, l, r)\n",
    "            return\n",
    "        \n",
    "        self.add(a, b, x, 2 * k + 1, l, (l + r) // 2)\n",
    "        self.add(a, b, x, 2 * k + 2, (l + r) // 2, r)\n",
    "        self.node[k] = self.node[2 * k + 1] + self.node[2 * k + 2]\n",
    "\n",
    "    def query(self, a, b, k=0, l=0, r=-1):\n",
    "        \"\"\"Query sum in [a, b)\"\"\"\n",
    "        if r < 0:\n",
    "            r = self.n\n",
    "\n",
    "        self.propagate(k, l, r)\n",
    "\n",
    "        if b <= l or r <= a:\n",
    "            return 0\n",
    "        \n",
    "        if a <= l and r <= b:\n",
    "            return self.node[k]\n",
    "        \n",
    "        vl = self.query(a, b, 2 * k + 1, l, (l + r) // 2)\n",
    "        vr = self.query(a, b, 2 * k + 2, (l + r) // 2, r)\n",
    "        return vl + vr\n",
    "\n",
    "    def propagate(self, k, l, r):\n",
    "        if self.lazy[k] == 0:\n",
    "            return\n",
    "        \n",
    "        self.node[k] += self.lazy[k]\n",
    "        if r - l > 1:\n",
    "            self.lazy[2 * k + 1] += self.lazy[k] // 2\n",
    "            self.lazy[2 * k + 2] += self.lazy[k] // 2\n",
    "        self.lazy[k] = 0"
   ]
  },
  {
   "cell_type": "code",
   "execution_count": 11,
   "metadata": {},
   "outputs": [
    {
     "name": "stdout",
     "output_type": "stream",
     "text": [
      "4 8\n"
     ]
    }
   ],
   "source": [
    "N, Q = 3, 5\n",
    "X = [[0, 1, 2, 1], [0, 2, 3, 2], [0, 3, 3, 3], [1, 1, 2], [1, 2, 3]]\n",
    "\n",
    "print(4, 8)"
   ]
  },
  {
   "cell_type": "code",
   "execution_count": 13,
   "metadata": {},
   "outputs": [
    {
     "name": "stdout",
     "output_type": "stream",
     "text": [
      "4\n",
      "8\n"
     ]
    }
   ],
   "source": [
    "st = LazySegmentTree(N)\n",
    "for c, *x in X:\n",
    "    if c == 0:\n",
    "        s, t, v = x\n",
    "        st.add(s - 1, t, v)\n",
    "    else:\n",
    "        s, t = x\n",
    "        print(st.query(s - 1, t))"
   ]
  },
  {
   "cell_type": "markdown",
   "metadata": {},
   "source": [
    "# RMQ and RAQ\n",
    "\n",
    "* Range Minimum Query\n",
    "* Range Add Query\n",
    "\n",
    "http://judge.u-aizu.ac.jp/onlinejudge/description.jsp?id=DSL_2_H&lang=ja"
   ]
  },
  {
   "cell_type": "code",
   "execution_count": 7,
   "metadata": {},
   "outputs": [],
   "source": [
    "class LazySegmentTree:\n",
    "    \"\"\"Range Minimum Query and Range Add Query.\"\"\"\n",
    "    inf = 2 ** 31 - 1\n",
    "\n",
    "    def __init__(self, n):\n",
    "        \"\"\"0-indexed.\"\"\"\n",
    "        x = 1\n",
    "        while x < n:\n",
    "            x *= 2\n",
    "\n",
    "        self.n = x\n",
    "        self.node = [0] * (2 * x - 1)\n",
    "        self.lazy = [0] * (2 * x - 1)\n",
    "\n",
    "    def add(self, a, b, x, k=0, l=0, r=-1):\n",
    "        \"\"\"Add x in [a, b).\"\"\"\n",
    "        if r < 0:\n",
    "            r = self.n\n",
    "\n",
    "        self.propagate(k, l, r)\n",
    "\n",
    "        if b <= l or r <= a:\n",
    "            return\n",
    "        \n",
    "        if a <= l and r <= b:\n",
    "            self.lazy[k] = x\n",
    "            self.propagate(k, l, r)\n",
    "            return\n",
    "        \n",
    "        self.add(a, b, x, 2 * k + 1, l, (l + r) // 2)\n",
    "        self.add(a, b, x, 2 * k + 2, (l + r) // 2, r)\n",
    "        self.node[k] = min(self.node[2 * k + 1], self.node[2 * k + 2])\n",
    "\n",
    "    def query(self, a, b, k=0, l=0, r=-1):\n",
    "        \"\"\"Query min in [a, b)\"\"\"\n",
    "        if r < 0:\n",
    "            r = self.n\n",
    "\n",
    "        self.propagate(k, l, r)\n",
    "\n",
    "        if b <= l or r <= a:\n",
    "            return self.inf\n",
    "\n",
    "        if a <= l and r <= b:\n",
    "            return self.node[k]\n",
    "\n",
    "        vl = self.query(a, b, k * 2 + 1, l, (l + r) // 2)\n",
    "        vr = self.query(a, b, k * 2 + 2, (l + r) // 2, r)\n",
    "        return min(vl, vr)\n",
    "\n",
    "    def propagate(self, k, l, r):\n",
    "        if self.lazy[k] == 0:\n",
    "            return\n",
    "\n",
    "        self.node[k] += self.lazy[k]\n",
    "        if r - l > 1:\n",
    "            self.lazy[2 * k + 1] += self.lazy[k]\n",
    "            self.lazy[2 * k + 2] += self.lazy[k]\n",
    "        self.lazy[k] = 0"
   ]
  },
  {
   "cell_type": "code",
   "execution_count": 8,
   "metadata": {},
   "outputs": [
    {
     "name": "stdout",
     "output_type": "stream",
     "text": [
      "-2 0 1 -1\n"
     ]
    }
   ],
   "source": [
    "N, Q = 6, 7\n",
    "X = [[0, 1, 3, 1], [0, 2, 4, -2], [1, 0, 5], [1, 0, 1],\n",
    "     [0, 3, 5, 3], [1, 3, 4], [1, 0, 5]]\n",
    "\n",
    "print(-2, 0, 1, -1)"
   ]
  },
  {
   "cell_type": "code",
   "execution_count": 9,
   "metadata": {},
   "outputs": [
    {
     "name": "stdout",
     "output_type": "stream",
     "text": [
      "-2\n",
      "0\n",
      "1\n",
      "-1\n"
     ]
    }
   ],
   "source": [
    "st = LazySegmentTree(N)\n",
    "for c, *x in X:\n",
    "    if c == 0:\n",
    "        s, t, v = x\n",
    "        st.add(s, t + 1, v)\n",
    "    else:\n",
    "        s, t = x\n",
    "        print(st.query(s, t + 1))"
   ]
  },
  {
   "cell_type": "markdown",
   "metadata": {},
   "source": [
    "# RSQ and RUQ\n",
    "\n",
    "* Range Sum Query\n",
    "* Range Update Query\n",
    "\n",
    "http://judge.u-aizu.ac.jp/onlinejudge/description.jsp?id=DSL_2_I&lang=ja"
   ]
  },
  {
   "cell_type": "code",
   "execution_count": 4,
   "metadata": {},
   "outputs": [],
   "source": [
    "class LazySegmentTree:\n",
    "    \"\"\"Range Sum Query and Range Update Query.\"\"\"\n",
    "    inf = 2 ** 31 - 1\n",
    "\n",
    "    def __init__(self, n):\n",
    "        \"\"\"0-indexed.\"\"\"\n",
    "        x = 1\n",
    "        while x < n:\n",
    "            x *= 2\n",
    "\n",
    "        self.n = x\n",
    "        self.node = [0] * (2 * x - 1)\n",
    "        self.lazy = [self.inf] * (2 * x - 1)\n",
    "\n",
    "    def update(self, a, b, x, k=0, l=0, r=-1):\n",
    "        \"\"\"Add [a, b) to x.\"\"\"\n",
    "        if r < 0:\n",
    "            r = self.n\n",
    "\n",
    "        self.propagate(k, l, r)\n",
    "\n",
    "        if b <= l or r <= a:\n",
    "            return\n",
    "        \n",
    "        if a <= l and r <= b:\n",
    "            self.lazy[k] = x\n",
    "            self.propagate(k, l, r)\n",
    "            return\n",
    "\n",
    "        self.update(a, b, x, 2 * k + 1, l, (l + r) // 2)\n",
    "        self.update(a, b, x, 2 * k + 2, (l + r) // 2, r)\n",
    "        self.node[k] = self.node[2 * k + 1] + self.node[2 * k + 2]\n",
    "\n",
    "    def query(self, a, b, k=0, l=0, r=-1):\n",
    "        \"\"\"Query sum in [a, b)\"\"\"\n",
    "        if r < 0:\n",
    "            r = self.n\n",
    "            \n",
    "        self.propagate(k, l, r)\n",
    "\n",
    "        if b <= l or r <= a:\n",
    "            return 0\n",
    "\n",
    "        if a <= l and r <= b:\n",
    "            return self.node[k]\n",
    "\n",
    "        vl = self.query(a, b, k * 2 + 1, l, (l + r) // 2)\n",
    "        vr = self.query(a, b, k * 2 + 2, (l + r) // 2, r)\n",
    "        return vl + vr\n",
    "\n",
    "    def propagate(self, k, l, r):\n",
    "        if self.lazy[k] == self.inf:\n",
    "            return\n",
    "\n",
    "        self.node[k] = self.lazy[k] * (r - l)\n",
    "        if r - l > 1:\n",
    "            self.lazy[2 * k + 1] = self.lazy[k]\n",
    "            self.lazy[2 * k + 2] = self.lazy[k]\n",
    "        self.lazy[k] = self.inf"
   ]
  },
  {
   "cell_type": "code",
   "execution_count": 5,
   "metadata": {},
   "outputs": [
    {
     "name": "stdout",
     "output_type": "stream",
     "text": [
      "-5 1 6 8\n"
     ]
    }
   ],
   "source": [
    "N, Q = 6, 7\n",
    "X = [[0, 1, 3, 1], [0, 2, 4, -2], [1, 0, 5], [1, 0, 1],\n",
    "     [0, 3, 5, 3], [1, 3, 4], [1, 0, 5]]\n",
    "\n",
    "print(-5, 1, 6, 8)"
   ]
  },
  {
   "cell_type": "code",
   "execution_count": 6,
   "metadata": {},
   "outputs": [
    {
     "name": "stdout",
     "output_type": "stream",
     "text": [
      "-5\n",
      "1\n",
      "6\n",
      "8\n"
     ]
    }
   ],
   "source": [
    "st = LazySegmentTree(N)\n",
    "for c, *x in X:\n",
    "    if c == 0:\n",
    "        s, t, v = x\n",
    "        st.update(s, t + 1, v)\n",
    "    else:\n",
    "        s, t = x\n",
    "        print(st.query(s, t + 1))"
   ]
  },
  {
   "cell_type": "code",
   "execution_count": null,
   "metadata": {},
   "outputs": [],
   "source": []
  },
  {
   "cell_type": "code",
   "execution_count": null,
   "metadata": {},
   "outputs": [],
   "source": []
  }
 ],
 "metadata": {
  "kernelspec": {
   "display_name": "Python 3",
   "language": "python",
   "name": "python3"
  },
  "language_info": {
   "codemirror_mode": {
    "name": "ipython",
    "version": 3
   },
   "file_extension": ".py",
   "mimetype": "text/x-python",
   "name": "python",
   "nbconvert_exporter": "python",
   "pygments_lexer": "ipython3",
   "version": "3.7.3"
  }
 },
 "nbformat": 4,
 "nbformat_minor": 4
}
