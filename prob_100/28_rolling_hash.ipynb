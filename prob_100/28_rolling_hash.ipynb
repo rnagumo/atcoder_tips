{
 "cells": [
  {
   "cell_type": "markdown",
   "metadata": {},
   "source": [
    "# String Search\n",
    "\n",
    "http://judge.u-aizu.ac.jp/onlinejudge/description.jsp?id=ALDS1_14_B&lang=ja"
   ]
  },
  {
   "cell_type": "code",
   "execution_count": 1,
   "metadata": {},
   "outputs": [
    {
     "name": "stdout",
     "output_type": "stream",
     "text": [
      "0 3 4\n"
     ]
    }
   ],
   "source": [
    "T = \"aabaaa\"\n",
    "P = \"aa\"\n",
    "\n",
    "print(0,3,4)"
   ]
  },
  {
   "cell_type": "code",
   "execution_count": 15,
   "metadata": {},
   "outputs": [],
   "source": [
    "def contain(a, b):\n",
    "    \"\"\"Checks that string a contains string b\"\"\"\n",
    "    B = 10 ** 9 + 7\n",
    "\n",
    "    # Length\n",
    "    al = len(a)\n",
    "    bl = len(b)\n",
    "    if al < bl:\n",
    "        return []\n",
    "    \n",
    "    # Calculate B^bl\n",
    "    t = B ** bl\n",
    "    \n",
    "    # First hash\n",
    "    ah = 0\n",
    "    bh = 0\n",
    "    for i in range(bl):\n",
    "        ah = ah * B + ord(a[i])\n",
    "        bh = bh * B + ord(b[i])\n",
    "    \n",
    "    # Roll\n",
    "    indices = []\n",
    "    for i in range(al - bl + 1):\n",
    "        if ah == bh:\n",
    "            indices.append(i)\n",
    "            \n",
    "        if i < al - bl:\n",
    "            ah = ah * B + ord(a[i + bl]) - ord(a[i]) * t\n",
    "        \n",
    "    return indices"
   ]
  },
  {
   "cell_type": "code",
   "execution_count": 16,
   "metadata": {},
   "outputs": [
    {
     "data": {
      "text/plain": [
       "[0, 3, 4]"
      ]
     },
     "execution_count": 16,
     "metadata": {},
     "output_type": "execute_result"
    }
   ],
   "source": [
    "contain(T, P)"
   ]
  },
  {
   "cell_type": "markdown",
   "metadata": {},
   "source": [
    "# ABC 141 - E\n",
    "\n",
    "https://atcoder.jp/contests/abc141/tasks/abc141_e"
   ]
  },
  {
   "cell_type": "code",
   "execution_count": 1,
   "metadata": {},
   "outputs": [
    {
     "name": "stdout",
     "output_type": "stream",
     "text": [
      "2\n"
     ]
    }
   ],
   "source": [
    "N = 5\n",
    "S = \"ababa\"\n",
    "\n",
    "print(2)"
   ]
  },
  {
   "cell_type": "code",
   "execution_count": 2,
   "metadata": {},
   "outputs": [],
   "source": [
    "class RollingHash:\n",
    "    base1 = 1007\n",
    "    base2 = 2009\n",
    "    mod1 = 10 ** 9 + 7\n",
    "    mod2 = 10 ** 9 + 9\n",
    "    \n",
    "    def __init__(self, s):\n",
    "        self.s = s\n",
    "        self.len = len(s) + 1\n",
    "\n",
    "        self.hash1 = [0] * self.len\n",
    "        self.hash2 = [0] * self.len\n",
    "        self.power1 = [1] * self.len\n",
    "        self.power2 = [1] * self.len\n",
    "        for i in range(self.len - 1):\n",
    "            self.hash1[i + 1] = (self.hash1[i] * self.base1 + ord(s[i])) % self.mod1\n",
    "            self.hash2[i + 1] = (self.hash2[i] * self.base2 + ord(s[i])) % self.mod2\n",
    "            self.power1[i + 1] = (self.power1[i] * self.base1) % self.mod1\n",
    "            self.power2[i + 1] = (self.power2[i] * self.base2) % self.mod2\n",
    "            \n",
    "    def get_hash(self, l, r):\n",
    "        \"\"\"Gets hash of S[left:right]\"\"\"\n",
    "        res1 = self.hash1[r] - self.hash1[l] * self.power1[r - l] % self.mod1\n",
    "        if res1 < 0:\n",
    "            res1 += self.mod1\n",
    "        res2 = self.hash2[r] - self.hash2[l] * self.power2[r - l] % self.mod2\n",
    "        if res2 < 0:\n",
    "            res2 += self.mod2\n",
    "            \n",
    "        return (res1, res2)\n",
    "    \n",
    "    def get_lcp(self, a, b):\n",
    "        \"\"\"Gets lcp of S[a:] and S[b:]\"\"\"\n",
    "        low = 0\n",
    "        high = min(len(self.hash1) - a, len(self.hash1) - b)\n",
    "        \n",
    "        while high - low > 1:\n",
    "            mid = (low + high) >> 1\n",
    "            if self.get_hash(a, a + mid) != self.get_hash(b, b + mid):\n",
    "                high = mid\n",
    "            else:\n",
    "                low = mid\n",
    "                \n",
    "        return low\n",
    "    \n",
    "    def bisect(self, d):\n",
    "        \"\"\"Checks the existence of (i, j) s.t. S[i:d] == S[j:d] and i+d <= j.\"\"\"\n",
    "        ctr = {}\n",
    "        for i in range(self.len - d):\n",
    "            p = self.get_hash(i, i + d)\n",
    "            if p in ctr:\n",
    "                if i - ctr[p] >= d:\n",
    "                    return True\n",
    "            else:\n",
    "                ctr[p] = i\n",
    "\n",
    "        return False"
   ]
  },
  {
   "cell_type": "code",
   "execution_count": 3,
   "metadata": {},
   "outputs": [
    {
     "name": "stdout",
     "output_type": "stream",
     "text": [
      "2\n"
     ]
    }
   ],
   "source": [
    "rh = RollingHash(S)\n",
    "left = 0\n",
    "right = N // 2 + 1\n",
    "while right - left > 1:\n",
    "    mid = (left + right) >> 1\n",
    "    if rh.bisect(mid):\n",
    "        left = mid\n",
    "    else:\n",
    "        right = mid\n",
    "\n",
    "print(left)"
   ]
  },
  {
   "cell_type": "markdown",
   "metadata": {},
   "source": [
    "# ABC 135 - F\n",
    "\n",
    "https://atcoder.jp/contests/abc135/tasks/abc135_f\n",
    "\n",
    "https://atcoder.jp/contests/abc135/submissions/9883341"
   ]
  },
  {
   "cell_type": "code",
   "execution_count": 13,
   "metadata": {},
   "outputs": [
    {
     "name": "stdout",
     "output_type": "stream",
     "text": [
      "3\n"
     ]
    }
   ],
   "source": [
    "s = \"abcabab\"\n",
    "t = \"ab\"\n",
    "\n",
    "print(3)"
   ]
  },
  {
   "cell_type": "code",
   "execution_count": 5,
   "metadata": {},
   "outputs": [
    {
     "name": "stdout",
     "output_type": "stream",
     "text": [
      "-1\n"
     ]
    }
   ],
   "source": [
    "s = \"aa\"\n",
    "t = \"aaaaaaa\"\n",
    "\n",
    "print(-1)"
   ]
  },
  {
   "cell_type": "code",
   "execution_count": 1,
   "metadata": {},
   "outputs": [
    {
     "name": "stdout",
     "output_type": "stream",
     "text": [
      "0\n"
     ]
    }
   ],
   "source": [
    "s = \"aba\"\n",
    "t = \"baaab\"\n",
    "\n",
    "print(0)"
   ]
  },
  {
   "cell_type": "code",
   "execution_count": 6,
   "metadata": {},
   "outputs": [],
   "source": [
    "def z_algorithm(s):\n",
    "    n = len(s)\n",
    "    res = [0] * n\n",
    "    i = 1\n",
    "    j = 0\n",
    "    while i < n:\n",
    "        # i番目以降の一致文字数\n",
    "        while i + j < n and s[j] == s[i + j]:\n",
    "            j += 1\n",
    "        res[i] = j\n",
    "\n",
    "        # 一文字も一致しない場合，次の文字へ\n",
    "        if j == 0:\n",
    "            i += 1\n",
    "            continue\n",
    "\n",
    "        # 一致したところまでを埋める\n",
    "        k = 1\n",
    "        while i + k < n and k + res[k] < j:\n",
    "            res[i + k] = res[k]\n",
    "            k += 1\n",
    "        \n",
    "        i += k\n",
    "        j -= k\n",
    "        \n",
    "    return res"
   ]
  },
  {
   "cell_type": "code",
   "execution_count": 7,
   "metadata": {},
   "outputs": [],
   "source": [
    "n = len(t)\n",
    "if n > len(s):\n",
    "    ss = s * (n // len(s) + 1)\n",
    "else:\n",
    "    ss = s * 2"
   ]
  },
  {
   "cell_type": "code",
   "execution_count": 8,
   "metadata": {},
   "outputs": [
    {
     "name": "stdout",
     "output_type": "stream",
     "text": [
      "-1\n"
     ]
    }
   ],
   "source": [
    "z = z_algorithm(t + ss * 2)\n",
    "ans = 0\n",
    "for i in range(n):\n",
    "    c = 0\n",
    "    for v in z[n + i::n]:\n",
    "        if v >= n:\n",
    "            c += 1\n",
    "        else:\n",
    "            c = 0\n",
    "        ans = max(ans, c)\n",
    "\n",
    "if ans <= len(ss) // n:\n",
    "    print(ans)\n",
    "else:\n",
    "    print(-1)"
   ]
  },
  {
   "cell_type": "code",
   "execution_count": null,
   "metadata": {},
   "outputs": [],
   "source": []
  },
  {
   "cell_type": "code",
   "execution_count": null,
   "metadata": {},
   "outputs": [],
   "source": []
  },
  {
   "cell_type": "code",
   "execution_count": null,
   "metadata": {},
   "outputs": [],
   "source": []
  },
  {
   "cell_type": "code",
   "execution_count": null,
   "metadata": {},
   "outputs": [],
   "source": []
  }
 ],
 "metadata": {
  "kernelspec": {
   "display_name": "Python 3",
   "language": "python",
   "name": "python3"
  },
  "language_info": {
   "codemirror_mode": {
    "name": "ipython",
    "version": 3
   },
   "file_extension": ".py",
   "mimetype": "text/x-python",
   "name": "python",
   "nbconvert_exporter": "python",
   "pygments_lexer": "ipython3",
   "version": "3.7.3"
  }
 },
 "nbformat": 4,
 "nbformat_minor": 4
}
