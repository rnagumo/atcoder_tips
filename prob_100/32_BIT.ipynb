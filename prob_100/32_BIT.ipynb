{
 "cells": [
  {
   "cell_type": "markdown",
   "metadata": {},
   "source": [
    "# Binary Index Tree\n",
    "\n",
    "https://www.slideshare.net/hcpc_hokudai/binary-indexed-tree"
   ]
  },
  {
   "cell_type": "markdown",
   "metadata": {},
   "source": [
    "Least Significant Bit (LSB): 初めて1になる桁の計算が`i&-i`でできることを使う．"
   ]
  },
  {
   "cell_type": "code",
   "execution_count": 16,
   "metadata": {},
   "outputs": [
    {
     "name": "stdout",
     "output_type": "stream",
     "text": [
      "1 0b1 \t 1 0b1\n",
      "2 0b10 \t 2 0b10\n",
      "3 0b11 \t 1 0b1\n",
      "4 0b100 \t 4 0b100\n",
      "5 0b101 \t 1 0b1\n",
      "6 0b110 \t 2 0b10\n",
      "7 0b111 \t 1 0b1\n",
      "8 0b1000 \t 8 0b1000\n",
      "9 0b1001 \t 1 0b1\n",
      "10 0b1010 \t 2 0b10\n",
      "11 0b1011 \t 1 0b1\n",
      "12 0b1100 \t 4 0b100\n",
      "13 0b1101 \t 1 0b1\n",
      "14 0b1110 \t 2 0b10\n",
      "15 0b1111 \t 1 0b1\n",
      "16 0b10000 \t 16 0b10000\n"
     ]
    }
   ],
   "source": [
    "for i in range(1, 17):\n",
    "    print(i, bin(i), \"\\t\", i & -i, bin(i & -i))"
   ]
  },
  {
   "cell_type": "markdown",
   "metadata": {},
   "source": [
    "# Range Sum Query (RSQ)\n",
    "\n",
    "* `add(i, x)`: `a[i]`に`x`を加算する\n",
    "* `query(i, j)`: `a[i],...,a[j]`の和を求める\n",
    "\n",
    "http://judge.u-aizu.ac.jp/onlinejudge/description.jsp?id=DSL_2_B&lang=ja"
   ]
  },
  {
   "cell_type": "code",
   "execution_count": 20,
   "metadata": {},
   "outputs": [
    {
     "name": "stdout",
     "output_type": "stream",
     "text": [
      "3 2\n"
     ]
    }
   ],
   "source": [
    "N, Q = 3, 5\n",
    "X = [[0, 1, 1], [0, 2, 2], [0, 3, 3], [1, 1, 2], [1, 2, 2]]\n",
    "\n",
    "print(3, 2)"
   ]
  },
  {
   "cell_type": "code",
   "execution_count": 24,
   "metadata": {},
   "outputs": [],
   "source": [
    "class BIT:\n",
    "    def __init__(self, n):\n",
    "        self.n = n + 1\n",
    "        self.bit = [0] * self.n\n",
    "\n",
    "    def update(self, i, v):\n",
    "        while i < self.n:\n",
    "            self.bit[i] += v\n",
    "            i += i & -i\n",
    "            \n",
    "    def sumup(self, i):\n",
    "        res = 0\n",
    "        while i > 0:\n",
    "            res += self.bit[i]\n",
    "            i -= i & -i\n",
    "        return res\n",
    "    \n",
    "    def query(self, i, j):\n",
    "        return self.sumup(j) - self.sumup(i - 1)"
   ]
  },
  {
   "cell_type": "code",
   "execution_count": 25,
   "metadata": {},
   "outputs": [
    {
     "name": "stdout",
     "output_type": "stream",
     "text": [
      "3\n",
      "2\n"
     ]
    }
   ],
   "source": [
    "bit = BIT(N)\n",
    "for c, x, y in X:\n",
    "    if c == 0:\n",
    "        bit.update(x, y)\n",
    "    else:\n",
    "        print(bit.query(x, y))"
   ]
  },
  {
   "cell_type": "markdown",
   "metadata": {},
   "source": [
    "# Range Add Query (RAQ)\n",
    "\n",
    "* `add(i, j, x)`: `a[i],...,a[j]`に`x`を加算する\n",
    "* `query(i, j)`: `a[i],...,a[j]`の和を取得する\n",
    "\n",
    "内部に二つのBITを持つことで対応する．\n",
    "\n",
    "http://judge.u-aizu.ac.jp/onlinejudge/description.jsp?id=DSL_2_E&lang=ja"
   ]
  },
  {
   "cell_type": "code",
   "execution_count": 27,
   "metadata": {},
   "outputs": [
    {
     "name": "stdout",
     "output_type": "stream",
     "text": [
      "3 5\n"
     ]
    }
   ],
   "source": [
    "N, Q = 3, 5\n",
    "X = [[0, 1, 2, 1], [0, 2, 3, 2], [0, 3, 3, 3], [1, 2], [1, 3]]\n",
    "\n",
    "print(3, 5)"
   ]
  },
  {
   "cell_type": "code",
   "execution_count": 32,
   "metadata": {},
   "outputs": [],
   "source": [
    "class BIT:\n",
    "    def __init__(self, n):\n",
    "        self.n = n + 1\n",
    "        self.dat = [[0] * self.n for _ in range(2)]\n",
    "        \n",
    "    def _add_body(self, p, i, x):\n",
    "        while i < self.n:\n",
    "            self.dat[p][i] += x\n",
    "            i += i & -i\n",
    "            \n",
    "    def add(self, l, r, x):\n",
    "        # Add x to [l, r]\n",
    "        self._add_body(0, l, -x * (l - 1))\n",
    "        self._add_body(1, l, x)\n",
    "        self._add_body(0, r + 1, x * r)\n",
    "        self._add_body(1, r + 1, -x)\n",
    "        \n",
    "    def _query_body(self, p, i):\n",
    "        res = 0\n",
    "        while i > 0:\n",
    "            res += self.dat[p][i]\n",
    "            i -= i & -i\n",
    "        return res\n",
    "    \n",
    "    def query(self, l, r):\n",
    "        # Return sum of [l, r]\n",
    "        res = 0\n",
    "        res += self._query_body(0, r)\n",
    "        res += self._query_body(1, r) * r\n",
    "        res -= self._query_body(0, l - 1)\n",
    "        res -= self._query_body(1, l - 1) * (l - 1)\n",
    "        return res"
   ]
  },
  {
   "cell_type": "code",
   "execution_count": 34,
   "metadata": {},
   "outputs": [
    {
     "name": "stdout",
     "output_type": "stream",
     "text": [
      "3\n",
      "5\n"
     ]
    }
   ],
   "source": [
    "bit = BIT(N)\n",
    "for c, *v in X:\n",
    "    if c == 0:\n",
    "        bit.add(*v)\n",
    "    else:\n",
    "        print(bit.query(v[0], v[0]))"
   ]
  },
  {
   "cell_type": "markdown",
   "metadata": {},
   "source": [
    "# 転倒数\n",
    "\n",
    "http://judge.u-aizu.ac.jp/onlinejudge/description.jsp?id=ALDS1_5_D&lang=ja"
   ]
  },
  {
   "cell_type": "code",
   "execution_count": 36,
   "metadata": {},
   "outputs": [
    {
     "name": "stdout",
     "output_type": "stream",
     "text": [
      "6\n"
     ]
    }
   ],
   "source": [
    "N = 5\n",
    "A = [3, 5, 2, 1, 4]\n",
    "\n",
    "print(6)"
   ]
  },
  {
   "cell_type": "code",
   "execution_count": 7,
   "metadata": {},
   "outputs": [
    {
     "name": "stdout",
     "output_type": "stream",
     "text": [
      "123\n"
     ]
    }
   ],
   "source": [
    "N = 23\n",
    "A = [69, 29, 30, 5, 17, 93, 19, 32, 68, 66, 33, 62,\n",
    "     43, 52, 47, 56, 0, 23, 51, 11, 72, 80, 8]\n",
    "\n",
    "print(123)"
   ]
  },
  {
   "cell_type": "code",
   "execution_count": 5,
   "metadata": {},
   "outputs": [],
   "source": [
    "class BIT:\n",
    "    def __init__(self, n):\n",
    "        self.n = n + 1\n",
    "        self.bit = [0] * self.n\n",
    "        \n",
    "    def update(self, i, v):\n",
    "        while i < self.n:\n",
    "            self.bit[i] += v\n",
    "            i += i & -i\n",
    "            \n",
    "    def query(self, i):\n",
    "        res = 0\n",
    "        while i > 0:\n",
    "            res += self.bit[i]\n",
    "            i -= i & -i\n",
    "        return res"
   ]
  },
  {
   "cell_type": "code",
   "execution_count": 8,
   "metadata": {},
   "outputs": [
    {
     "name": "stdout",
     "output_type": "stream",
     "text": [
      "123\n"
     ]
    }
   ],
   "source": [
    "bit = BIT(100)\n",
    "ans = 0\n",
    "for i, v in enumerate(A):\n",
    "    bit.update(v + 1, 1)\n",
    "    ans += i + 1 - bit.query(v + 1)\n",
    "print(ans)"
   ]
  },
  {
   "cell_type": "markdown",
   "metadata": {},
   "source": [
    "# ARC 33 - C\n",
    "\n",
    "https://atcoder.jp/contests/arc033/tasks/arc033_3"
   ]
  },
  {
   "cell_type": "code",
   "execution_count": 8,
   "metadata": {},
   "outputs": [
    {
     "name": "stdout",
     "output_type": "stream",
     "text": [
      "29 89\n"
     ]
    }
   ],
   "source": [
    "Q = 5\n",
    "X = [[1, 11], [1, 29], [1, 89], [2, 2], [2, 2]]\n",
    "\n",
    "print(29, 89)"
   ]
  },
  {
   "cell_type": "markdown",
   "metadata": {},
   "source": [
    "「ある数以下の数が幾つあるか」を求める．\n",
    "\n",
    "* `update(k, v)`: 位置kに値vを足す\n",
    "* `query(l, r)`: 区間[l, r]の和を求める"
   ]
  },
  {
   "cell_type": "code",
   "execution_count": 19,
   "metadata": {},
   "outputs": [],
   "source": [
    "class BIT:\n",
    "    def __init__(self, n):\n",
    "        \"\"\"1-indexed.\"\"\"\n",
    "        self.n = n + 1\n",
    "        self.bit = [0] * self.n\n",
    "\n",
    "    def add(self, i, v):\n",
    "        \"\"\"Add v to dat[i].\"\"\"\n",
    "        while i < self.n:\n",
    "            self.bit[i] += v\n",
    "            i += i & -i\n",
    "            \n",
    "    def query(self, i):\n",
    "        \"\"\"Returns sum in [0, i].\"\"\"\n",
    "        res = 0\n",
    "        while i > 0:\n",
    "            res += self.bit[i]\n",
    "            i -= i & -i\n",
    "        return res\n",
    "    \n",
    "    def search(self, v):\n",
    "        \"\"\"Search argindex v\"\"\"\n",
    "        ub = self.n\n",
    "        lb = 0\n",
    "        while ub - lb > 1:\n",
    "            mid = (ub + lb) // 2\n",
    "            if x <= self.query(mid):\n",
    "                ub = mid\n",
    "            else:\n",
    "                lb = mid\n",
    "        return ub"
   ]
  },
  {
   "cell_type": "code",
   "execution_count": 20,
   "metadata": {},
   "outputs": [
    {
     "name": "stdout",
     "output_type": "stream",
     "text": [
      "29\n",
      "89\n"
     ]
    }
   ],
   "source": [
    "m = 2 * 10 ** 5 + 1\n",
    "bit = BIT(m)\n",
    "for t, x in X:\n",
    "    if t == 1:\n",
    "        bit.add(x, 1)\n",
    "    else:\n",
    "        v = bit.search(x)\n",
    "        bit.add(v, -1)\n",
    "        print(v)"
   ]
  },
  {
   "cell_type": "code",
   "execution_count": null,
   "metadata": {},
   "outputs": [],
   "source": []
  }
 ],
 "metadata": {
  "kernelspec": {
   "display_name": "Python 3",
   "language": "python",
   "name": "python3"
  },
  "language_info": {
   "codemirror_mode": {
    "name": "ipython",
    "version": 3
   },
   "file_extension": ".py",
   "mimetype": "text/x-python",
   "name": "python",
   "nbconvert_exporter": "python",
   "pygments_lexer": "ipython3",
   "version": "3.7.3"
  }
 },
 "nbformat": 4,
 "nbformat_minor": 4
}
