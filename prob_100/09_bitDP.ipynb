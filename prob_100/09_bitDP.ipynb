{
 "cells": [
  {
   "cell_type": "markdown",
   "metadata": {},
   "source": [
    "# Traveling Salesman Problem\n",
    "\n",
    "http://judge.u-aizu.ac.jp/onlinejudge/description.jsp?id=DPL_2_A&lang=ja"
   ]
  },
  {
   "cell_type": "code",
   "execution_count": 1,
   "metadata": {},
   "outputs": [
    {
     "name": "stdout",
     "output_type": "stream",
     "text": [
      "16\n"
     ]
    }
   ],
   "source": [
    "V, E = 4, 6\n",
    "X = [[0, 1, 2], [1, 2, 3], [1, 3, 9], [2, 0, 1], [2, 3, 6], [3, 2, 4]]\n",
    "\n",
    "print(16)"
   ]
  },
  {
   "cell_type": "code",
   "execution_count": 2,
   "metadata": {},
   "outputs": [],
   "source": [
    "INF = 10 ** 10\n",
    "graph = [[INF] * V for _ in range(V)]\n",
    "for s, t, d in X:\n",
    "    graph[s][t] = d"
   ]
  },
  {
   "cell_type": "code",
   "execution_count": 5,
   "metadata": {},
   "outputs": [],
   "source": [
    "def rec(bit, u):\n",
    "    # Return previously calculated value\n",
    "    if (bit, u) in dp:\n",
    "        return dp[(bit, u)]\n",
    "\n",
    "    # End\n",
    "    if bit == 2 ** V - 1:\n",
    "        return graph[u][0]\n",
    "\n",
    "    mask = 1\n",
    "    res = INF\n",
    "    for v in range(V):\n",
    "        if mask & bit:\n",
    "            mask <<= 1\n",
    "            continue\n",
    "        res = min(res, rec(mask | bit, v) + graph[u][v])\n",
    "        mask <<= 1\n",
    "\n",
    "    dp[(bit, u)] = res\n",
    "    return res"
   ]
  },
  {
   "cell_type": "code",
   "execution_count": 6,
   "metadata": {},
   "outputs": [
    {
     "name": "stdout",
     "output_type": "stream",
     "text": [
      "16\n"
     ]
    }
   ],
   "source": [
    "dp = {}\n",
    "end = 2 ** V - 1\n",
    "res = rec(1, 0)\n",
    "if res >= INF:\n",
    "    print(-1)\n",
    "else:\n",
    "    print(res)"
   ]
  },
  {
   "cell_type": "code",
   "execution_count": null,
   "metadata": {},
   "outputs": [],
   "source": []
  },
  {
   "cell_type": "code",
   "execution_count": null,
   "metadata": {},
   "outputs": [],
   "source": []
  }
 ],
 "metadata": {
  "kernelspec": {
   "display_name": "Python 3",
   "language": "python",
   "name": "python3"
  },
  "language_info": {
   "codemirror_mode": {
    "name": "ipython",
    "version": 3
   },
   "file_extension": ".py",
   "mimetype": "text/x-python",
   "name": "python",
   "nbconvert_exporter": "python",
   "pygments_lexer": "ipython3",
   "version": "3.7.3"
  }
 },
 "nbformat": 4,
 "nbformat_minor": 4
}
