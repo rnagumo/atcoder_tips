{
 "cells": [
  {
   "cell_type": "markdown",
   "metadata": {},
   "source": [
    "# ダブリング\n",
    "\n",
    "http://satanic0258.hatenablog.com/entry/2017/02/23/222647"
   ]
  },
  {
   "cell_type": "markdown",
   "metadata": {},
   "source": [
    "# Lowest Common Ancestor\n",
    "\n",
    "http://judge.u-aizu.ac.jp/onlinejudge/description.jsp?id=GRL_5_C&lang=ja"
   ]
  },
  {
   "cell_type": "code",
   "execution_count": 11,
   "metadata": {},
   "outputs": [
    {
     "name": "stdout",
     "output_type": "stream",
     "text": [
      "1 1 0 0\n"
     ]
    }
   ],
   "source": [
    "N = 8\n",
    "X = [[3, 1, 2, 3], [2, 4, 5], [0], [0], [0], [2, 6, 7], [0], [0]]\n",
    "Q = 4\n",
    "Y = [[4, 6], [4, 7], [4, 3], [5, 2]]\n",
    "\n",
    "print(1,1,0,0)"
   ]
  },
  {
   "cell_type": "code",
   "execution_count": 12,
   "metadata": {},
   "outputs": [],
   "source": [
    "import math"
   ]
  },
  {
   "cell_type": "code",
   "execution_count": 13,
   "metadata": {},
   "outputs": [],
   "source": [
    "LOGN = int(math.log(N) / math.log(2)) + 1\n",
    "parent = [[-1] * N for _ in range(LOGN + 1)]\n",
    "depth = [0] * N"
   ]
  },
  {
   "cell_type": "code",
   "execution_count": 14,
   "metadata": {},
   "outputs": [],
   "source": [
    "def dfs(node, par, d):\n",
    "    parent[0][node] = par\n",
    "    depth[node] = d\n",
    "    k, *c = X[node]\n",
    "    for v in c:\n",
    "        dfs(v, node, d + 1)"
   ]
  },
  {
   "cell_type": "code",
   "execution_count": 15,
   "metadata": {},
   "outputs": [],
   "source": [
    "dfs(0, -1, 0)\n",
    "\n",
    "for k in range(LOGN):\n",
    "    for i in range(N):\n",
    "        if parent[k][i] == -1:\n",
    "            parent[k + 1][i] = -1\n",
    "        else:\n",
    "            parent[k + 1][i] = parent[k][parent[k][i]]"
   ]
  },
  {
   "cell_type": "code",
   "execution_count": 16,
   "metadata": {},
   "outputs": [],
   "source": [
    "def lca(u, v):\n",
    "    if depth[u] > depth[v]:\n",
    "        u, v = v, u\n",
    "\n",
    "    for k in reversed(range(LOGN)):\n",
    "        if depth[v] - depth[u] >= pow(2, k):\n",
    "            v = parent[k][v]\n",
    "\n",
    "    if u == v:\n",
    "        return u\n",
    "    \n",
    "    for k in reversed(range(LOGN)):\n",
    "        if parent[k][u] != parent[k][v]:\n",
    "            u = parent[k][u]\n",
    "            v = parent[k][v]\n",
    "            \n",
    "    return parent[0][u]"
   ]
  },
  {
   "cell_type": "code",
   "execution_count": 17,
   "metadata": {},
   "outputs": [
    {
     "name": "stdout",
     "output_type": "stream",
     "text": [
      "1\n",
      "1\n",
      "0\n",
      "0\n"
     ]
    }
   ],
   "source": [
    "for u, v in Y:\n",
    "    print(lca(u, v))"
   ]
  },
  {
   "cell_type": "markdown",
   "metadata": {},
   "source": [
    "# ABC 14 - D\n",
    "\n",
    "https://atcoder.jp/contests/abc014/tasks/abc014_4"
   ]
  },
  {
   "cell_type": "code",
   "execution_count": 21,
   "metadata": {},
   "outputs": [
    {
     "name": "stdout",
     "output_type": "stream",
     "text": [
      "3 4 3\n"
     ]
    }
   ],
   "source": [
    "N = 5\n",
    "X = [[1, 2], [1, 3], [1, 4], [4, 5]]\n",
    "Q = 3\n",
    "Y = [[2, 3], [2, 5], [2, 4]]\n",
    "\n",
    "print(3,4,3)"
   ]
  },
  {
   "cell_type": "code",
   "execution_count": 1,
   "metadata": {},
   "outputs": [
    {
     "name": "stdout",
     "output_type": "stream",
     "text": [
      "3 4 5 6\n"
     ]
    }
   ],
   "source": [
    "N = 6\n",
    "X = [[1, 2], [2, 3], [3, 4], [4, 5], [5, 6]]\n",
    "Q = 4\n",
    "Y = [[1, 3], [1, 4], [1, 5], [1, 6]]\n",
    "\n",
    "print(3,4,5,6)"
   ]
  },
  {
   "cell_type": "code",
   "execution_count": 8,
   "metadata": {},
   "outputs": [
    {
     "name": "stdout",
     "output_type": "stream",
     "text": [
      "3 3 5 5 4\n"
     ]
    }
   ],
   "source": [
    "N = 7\n",
    "X = [[3, 1], [2, 1], [2, 4], [2, 5], [3, 6], [3, 7]]\n",
    "Q = 5\n",
    "Y = [[4, 5], [1, 6], [5, 6], [4, 7], [5, 3]]\n",
    "\n",
    "print(3,3,5,5,4)"
   ]
  },
  {
   "cell_type": "code",
   "execution_count": 2,
   "metadata": {},
   "outputs": [],
   "source": [
    "import math"
   ]
  },
  {
   "cell_type": "code",
   "execution_count": 3,
   "metadata": {},
   "outputs": [],
   "source": [
    "graph = [[] for _ in range(N)]\n",
    "for x, y in X:\n",
    "    graph[x - 1].append(y - 1)\n",
    "    graph[y - 1].append(x - 1)"
   ]
  },
  {
   "cell_type": "code",
   "execution_count": 7,
   "metadata": {},
   "outputs": [],
   "source": [
    "LOGN = int(math.log(N) / math.log(2)) + 1\n",
    "parent = [[-1] * N for _ in range(LOGN + 1)]\n",
    "depth = [-1] * N\n",
    "\n",
    "# DFS\n",
    "stack = [0]\n",
    "depth[0] = 0\n",
    "while stack:\n",
    "    u = stack.pop()\n",
    "    for v in graph[u]:\n",
    "        if depth[v] < 0:\n",
    "            depth[v] = depth[u] + 1\n",
    "            parent[0][v] = u\n",
    "            stack.append(v)\n",
    "\n",
    "# Update for k\n",
    "for k in range(LOGN):\n",
    "    for i in range(N):\n",
    "        if parent[k][i] == -1:\n",
    "            parent[k + 1][i] = -1\n",
    "        else:\n",
    "            parent[k + 1][i] = parent[k][parent[k][i]]"
   ]
  },
  {
   "cell_type": "code",
   "execution_count": 8,
   "metadata": {},
   "outputs": [],
   "source": [
    "def lca(u, v):\n",
    "    if depth[u] > depth[v]:\n",
    "        u, v = v, u\n",
    "\n",
    "    for k in reversed(range(LOGN)):\n",
    "        if depth[v] - depth[u] >= pow(2, k):\n",
    "            v = parent[k][v]\n",
    "\n",
    "    if u == v:\n",
    "        return u\n",
    "\n",
    "    for k in reversed(range(LOGN)):\n",
    "        if parent[k][u] != parent[k][v]:\n",
    "            u = parent[k][u]\n",
    "            v = parent[k][v]\n",
    "            \n",
    "    return parent[0][u]"
   ]
  },
  {
   "cell_type": "code",
   "execution_count": 9,
   "metadata": {},
   "outputs": [
    {
     "name": "stdout",
     "output_type": "stream",
     "text": [
      "3\n",
      "4\n",
      "5\n",
      "6\n"
     ]
    }
   ],
   "source": [
    "for u, v in Y:\n",
    "    p = lca(u - 1, v - 1)\n",
    "    print(depth[u - 1] + depth[v - 1] - 2 * depth[p] + 1)"
   ]
  },
  {
   "cell_type": "markdown",
   "metadata": {},
   "source": [
    "# ARC 60 - E\n",
    "\n",
    "https://atcoder.jp/contests/arc060/tasks/arc060_c"
   ]
  },
  {
   "cell_type": "code",
   "execution_count": 1,
   "metadata": {},
   "outputs": [
    {
     "name": "stdout",
     "output_type": "stream",
     "text": [
      "4 2 1 2\n"
     ]
    }
   ],
   "source": [
    "N = 9\n",
    "X = [1, 3, 6, 13, 15, 18, 19, 29, 31]\n",
    "L = 10\n",
    "Q = 4\n",
    "Y = [[1, 8], [7, 3], [6, 7], [8, 5]]\n",
    "\n",
    "print(4,2,1,2)"
   ]
  },
  {
   "cell_type": "code",
   "execution_count": 39,
   "metadata": {},
   "outputs": [],
   "source": [
    "import math\n",
    "from bisect import bisect_right"
   ]
  },
  {
   "cell_type": "code",
   "execution_count": 41,
   "metadata": {},
   "outputs": [],
   "source": [
    "LOGN = int(math.log(N) / math.log(2)) + 1\n",
    "parent = [[-1] * N for _ in range(LOGN + 1)]\n",
    "\n",
    "# Update for k\n",
    "for k in range(LOGN + 1):\n",
    "    for i in range(N):\n",
    "        if k == 0:\n",
    "            parent[k][i] = bisect_right(X, X[i] + L) - 1\n",
    "        else:\n",
    "            parent[k][i] = parent[k - 1][parent[k - 1][i]]"
   ]
  },
  {
   "cell_type": "code",
   "execution_count": 59,
   "metadata": {},
   "outputs": [],
   "source": [
    "def find(a, b):\n",
    "    num = 0\n",
    "    u = a\n",
    "    while True:\n",
    "        k = 0\n",
    "        for i in range(LOGN + 1):\n",
    "            if parent[i][u] >= b:\n",
    "                k = i\n",
    "                break\n",
    "                \n",
    "        if k == 0:\n",
    "            num += 1\n",
    "            break\n",
    "        num += pow(2, k - 1)\n",
    "        u = parent[k - 1][u]\n",
    "        \n",
    "    return num"
   ]
  },
  {
   "cell_type": "code",
   "execution_count": 60,
   "metadata": {},
   "outputs": [
    {
     "name": "stdout",
     "output_type": "stream",
     "text": [
      "4\n",
      "2\n",
      "1\n",
      "2\n"
     ]
    }
   ],
   "source": [
    "for a, b in Y:\n",
    "    a -= 1\n",
    "    b -= 1\n",
    "    if a > b:\n",
    "        a, b = b, a\n",
    "    print(find(a, b))"
   ]
  },
  {
   "cell_type": "markdown",
   "metadata": {},
   "source": [
    "# ABC 13 - D\n",
    "\n",
    "https://atcoder.jp/contests/abc013/tasks/abc013_4"
   ]
  },
  {
   "cell_type": "code",
   "execution_count": 10,
   "metadata": {},
   "outputs": [
    {
     "name": "stdout",
     "output_type": "stream",
     "text": [
      "4 2 5 3 1\n"
     ]
    }
   ],
   "source": [
    "N, M, D = 5, 7, 1\n",
    "X = [1, 4, 3, 4, 2, 3, 1]\n",
    "\n",
    "print(4,2,5,3,1)"
   ]
  },
  {
   "cell_type": "code",
   "execution_count": 17,
   "metadata": {},
   "outputs": [],
   "source": [
    "# Destination\n",
    "dist = list(range(N + 1))\n",
    "for u in X:\n",
    "    dist[u], dist[u + 1] = dist[u + 1], dist[u]\n",
    "d = {v: k for k, v in enumerate(dist)}"
   ]
  },
  {
   "cell_type": "code",
   "execution_count": 41,
   "metadata": {},
   "outputs": [],
   "source": [
    "# Destination after D-step\n",
    "t = [[-1] * (N + 1) for _ in range(31)]\n",
    "t[0] = [d[i] for i in range(N + 1)]\n",
    "for k in range(1, 31):\n",
    "    for i in range(N + 1):\n",
    "        t[k][i] = t[k - 1][t[k - 1][i]]"
   ]
  },
  {
   "cell_type": "code",
   "execution_count": 44,
   "metadata": {},
   "outputs": [
    {
     "name": "stdout",
     "output_type": "stream",
     "text": [
      "4\n",
      "2\n",
      "5\n",
      "3\n",
      "1\n"
     ]
    }
   ],
   "source": [
    "# Simulate\n",
    "for i in range(1, N + 1):\n",
    "    u = i\n",
    "    for k in range(31):\n",
    "        if D >> k & 1:\n",
    "            u = t[k][u]\n",
    "    print(u)"
   ]
  },
  {
   "cell_type": "code",
   "execution_count": null,
   "metadata": {},
   "outputs": [],
   "source": []
  },
  {
   "cell_type": "code",
   "execution_count": null,
   "metadata": {},
   "outputs": [],
   "source": []
  }
 ],
 "metadata": {
  "kernelspec": {
   "display_name": "Python 3",
   "language": "python",
   "name": "python3"
  },
  "language_info": {
   "codemirror_mode": {
    "name": "ipython",
    "version": 3
   },
   "file_extension": ".py",
   "mimetype": "text/x-python",
   "name": "python",
   "nbconvert_exporter": "python",
   "pygments_lexer": "ipython3",
   "version": "3.7.3"
  }
 },
 "nbformat": 4,
 "nbformat_minor": 4
}
