{
 "cells": [
  {
   "cell_type": "markdown",
   "metadata": {},
   "source": [
    "# ダブリング\n",
    "\n",
    "http://satanic0258.hatenablog.com/entry/2017/02/23/222647"
   ]
  },
  {
   "cell_type": "markdown",
   "metadata": {},
   "source": [
    "# Lowest Common Ancestor\n",
    "\n",
    "http://judge.u-aizu.ac.jp/onlinejudge/description.jsp?id=GRL_5_C&lang=ja"
   ]
  },
  {
   "cell_type": "code",
   "execution_count": 17,
   "metadata": {},
   "outputs": [
    {
     "name": "stdout",
     "output_type": "stream",
     "text": [
      "1 1 0 0\n"
     ]
    }
   ],
   "source": [
    "N = 8\n",
    "X = [[3, 1, 2, 3], [2, 4, 5], [0], [0], [0], [2, 6, 7], [0], [0]]\n",
    "Q = 4\n",
    "Y = [[4, 6], [4, 7], [4, 3], [5, 2]]\n",
    "\n",
    "print(1,1,0,0)"
   ]
  },
  {
   "cell_type": "code",
   "execution_count": 18,
   "metadata": {},
   "outputs": [],
   "source": [
    "import math"
   ]
  },
  {
   "cell_type": "code",
   "execution_count": 19,
   "metadata": {},
   "outputs": [],
   "source": [
    "LOGN = int(math.log(N) / math.log(2))\n",
    "parent = [[-1] * N for _ in range(LOGN + 1)]\n",
    "depth = [0] * N"
   ]
  },
  {
   "cell_type": "code",
   "execution_count": 20,
   "metadata": {},
   "outputs": [],
   "source": [
    "def dfs(node, par, d):\n",
    "    parent[0][node] = par\n",
    "    depth[node] = d\n",
    "    k, *c = X[node]\n",
    "    for v in c:\n",
    "        dfs(v, node, d + 1)"
   ]
  },
  {
   "cell_type": "code",
   "execution_count": 21,
   "metadata": {},
   "outputs": [],
   "source": [
    "dfs(0, -1, 0)\n",
    "\n",
    "for k in range(LOGN):\n",
    "    for i in range(N):\n",
    "        if parent[k][i] == -1:\n",
    "            parent[k + 1][i] = -1\n",
    "        else:\n",
    "            parent[k + 1][i] = parent[k][parent[k][i]]"
   ]
  },
  {
   "cell_type": "code",
   "execution_count": 22,
   "metadata": {},
   "outputs": [],
   "source": [
    "def lca(u, v):\n",
    "    if depth[u] > depth[v]:\n",
    "        u, v = v, u\n",
    "\n",
    "    for k in reversed(range(LOGN)):\n",
    "        if depth[v] - depth[u] >= pow(2, k):\n",
    "            v = parent[k][v]\n",
    "\n",
    "    if u == v:\n",
    "        return u\n",
    "    \n",
    "    for k in reversed(range(LOGN)):\n",
    "        if parent[k][u] != parent[k][v]:\n",
    "            u = parent[k][u]\n",
    "            v = parent[k][v]\n",
    "            \n",
    "    return parent[0][u]"
   ]
  },
  {
   "cell_type": "code",
   "execution_count": 23,
   "metadata": {},
   "outputs": [
    {
     "name": "stdout",
     "output_type": "stream",
     "text": [
      "1\n",
      "1\n",
      "0\n",
      "0\n"
     ]
    }
   ],
   "source": [
    "for u, v in Y:\n",
    "    print(lca(u, v))"
   ]
  },
  {
   "cell_type": "markdown",
   "metadata": {},
   "source": [
    "# ABC 14 - D\n",
    "\n",
    "https://atcoder.jp/contests/abc014/tasks/abc014_4"
   ]
  },
  {
   "cell_type": "code",
   "execution_count": 1,
   "metadata": {},
   "outputs": [
    {
     "name": "stdout",
     "output_type": "stream",
     "text": [
      "3 4 3\n"
     ]
    }
   ],
   "source": [
    "N = 5\n",
    "X = [[1, 2], [1, 3], [1, 4], [4, 5]]\n",
    "Q = 3\n",
    "Y = [[2, 3], [2, 5], [2, 4]]\n",
    "\n",
    "print(3,4,3)"
   ]
  },
  {
   "cell_type": "code",
   "execution_count": 2,
   "metadata": {},
   "outputs": [],
   "source": [
    "import math"
   ]
  },
  {
   "cell_type": "code",
   "execution_count": 3,
   "metadata": {},
   "outputs": [],
   "source": [
    "graph = [[] for _ in range(N)]\n",
    "for x, y in X:\n",
    "    graph[x - 1].append(y - 1)"
   ]
  },
  {
   "cell_type": "code",
   "execution_count": 4,
   "metadata": {},
   "outputs": [],
   "source": [
    "LOGN = int(math.log(N) / math.log(2))\n",
    "parent = [[-1] * N for _ in range(LOGN + 1)]\n",
    "depth = [0] * N\n",
    "\n",
    "for u in range(N):\n",
    "    for v in graph[u]:\n",
    "        parent[0][v] = u\n",
    "        depth[v] = depth[u] + 1\n",
    "\n",
    "for k in range(LOGN):\n",
    "    for i in range(N):\n",
    "        if parent[k][i] == -1:\n",
    "            parent[k + 1][i] = -1\n",
    "        else:\n",
    "            parent[k + 1][i] = parent[k][parent[k][i]]"
   ]
  },
  {
   "cell_type": "code",
   "execution_count": 5,
   "metadata": {},
   "outputs": [
    {
     "data": {
      "text/plain": [
       "[[-1, 0, 0, 0, 3], [-1, -1, -1, -1, 0], [-1, -1, -1, -1, -1]]"
      ]
     },
     "execution_count": 5,
     "metadata": {},
     "output_type": "execute_result"
    }
   ],
   "source": [
    "parent"
   ]
  },
  {
   "cell_type": "code",
   "execution_count": 6,
   "metadata": {},
   "outputs": [
    {
     "data": {
      "text/plain": [
       "[0, 1, 1, 1, 2]"
      ]
     },
     "execution_count": 6,
     "metadata": {},
     "output_type": "execute_result"
    }
   ],
   "source": [
    "depth"
   ]
  },
  {
   "cell_type": "code",
   "execution_count": 7,
   "metadata": {},
   "outputs": [],
   "source": [
    "def lca(u, v):\n",
    "    if depth[u] > depth[v]:\n",
    "        u, v = v, u\n",
    "\n",
    "    for k in reversed(range(LOGN)):\n",
    "        if depth[v] - depth[u] >= pow(2, k):\n",
    "            v = parent[k][v]\n",
    "\n",
    "    if u == v:\n",
    "        return u\n",
    "    \n",
    "    for k in reversed(range(LOGN)):\n",
    "        if parent[k][u] != parent[k][v]:\n",
    "            u = parent[k][u]\n",
    "            v = parent[k][v]\n",
    "            \n",
    "    return parent[0][u]"
   ]
  },
  {
   "cell_type": "code",
   "execution_count": 10,
   "metadata": {},
   "outputs": [
    {
     "name": "stdout",
     "output_type": "stream",
     "text": [
      "3\n",
      "4\n",
      "3\n"
     ]
    }
   ],
   "source": [
    "for u, v in Y:\n",
    "    p = lca(u - 1, v - 1)\n",
    "    print(depth[u - 1] + depth[v - 1] - 2 * depth[p] + 1)"
   ]
  },
  {
   "cell_type": "code",
   "execution_count": null,
   "metadata": {},
   "outputs": [],
   "source": []
  },
  {
   "cell_type": "code",
   "execution_count": null,
   "metadata": {},
   "outputs": [],
   "source": []
  },
  {
   "cell_type": "code",
   "execution_count": null,
   "metadata": {},
   "outputs": [],
   "source": []
  }
 ],
 "metadata": {
  "kernelspec": {
   "display_name": "Python 3",
   "language": "python",
   "name": "python3"
  },
  "language_info": {
   "codemirror_mode": {
    "name": "ipython",
    "version": 3
   },
   "file_extension": ".py",
   "mimetype": "text/x-python",
   "name": "python",
   "nbconvert_exporter": "python",
   "pygments_lexer": "ipython3",
   "version": "3.7.3"
  }
 },
 "nbformat": 4,
 "nbformat_minor": 4
}
