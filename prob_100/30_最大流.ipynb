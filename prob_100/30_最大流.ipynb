{
 "cells": [
  {
   "cell_type": "markdown",
   "metadata": {},
   "source": [
    "# Maximum Flow\n",
    "\n",
    "http://judge.u-aizu.ac.jp/onlinejudge/description.jsp?id=GRL_6_A&lang=ja"
   ]
  },
  {
   "cell_type": "code",
   "execution_count": 9,
   "metadata": {},
   "outputs": [
    {
     "name": "stdout",
     "output_type": "stream",
     "text": [
      "3\n"
     ]
    }
   ],
   "source": [
    "V, E = 4, 5\n",
    "X = [[0, 1, 2], [0, 2, 1], [1, 2, 1], [1, 3, 1], [2, 3, 2]]\n",
    "\n",
    "print(3)"
   ]
  },
  {
   "cell_type": "code",
   "execution_count": 10,
   "metadata": {},
   "outputs": [],
   "source": [
    "def dfs(u, t, f):\n",
    "    if u == t:\n",
    "        return f\n",
    "    \n",
    "    used[u] = True\n",
    "    for i in range(len(graph[u])):\n",
    "        v, c, r = graph[u][i]\n",
    "        if not used[v] and c > 0:\n",
    "            d = dfs(v, t, min(f, c))\n",
    "            if d > 0:\n",
    "                graph[u][i][1] -= d\n",
    "                graph[v][r][1] += d\n",
    "                return d\n",
    "\n",
    "    return 0"
   ]
  },
  {
   "cell_type": "code",
   "execution_count": 11,
   "metadata": {},
   "outputs": [
    {
     "name": "stdout",
     "output_type": "stream",
     "text": [
      "3\n"
     ]
    }
   ],
   "source": [
    "graph = [[] for _ in range(V)]\n",
    "for u, v, c in X:\n",
    "    graph[u].append([v, c, len(graph[v])])\n",
    "    graph[v].append([u, 0, len(graph[u]) - 1])\n",
    "\n",
    "flow = 0\n",
    "while True:\n",
    "    used = [False] * V\n",
    "    f = dfs(0, V - 1, 10 ** 9 + 7)\n",
    "    if f == 0:\n",
    "        break\n",
    "    flow += f\n",
    "print(flow)"
   ]
  },
  {
   "cell_type": "markdown",
   "metadata": {},
   "source": [
    "#### Dinic algorithm"
   ]
  },
  {
   "cell_type": "code",
   "execution_count": 16,
   "metadata": {},
   "outputs": [],
   "source": [
    "from collections import deque\n",
    "\n",
    "def bfs(s):\n",
    "    level[s] = 0\n",
    "    q = deque([s])\n",
    "    while q:\n",
    "        u = q.popleft()\n",
    "        for v, c, _ in graph[u]:\n",
    "            if c > 0 and level[v] < 0:\n",
    "                level[v] = level[u] + 1\n",
    "                q.append(v)"
   ]
  },
  {
   "cell_type": "code",
   "execution_count": 17,
   "metadata": {},
   "outputs": [],
   "source": [
    "def dfs(u, t, f):\n",
    "    if u == t:\n",
    "        return f\n",
    "    \n",
    "    for i in range(len(graph[u])):\n",
    "        v, c, r = graph[u][i]\n",
    "        if c > 0 and level[u] < level[v]:\n",
    "            d = dfs(v, t, min(f, c))\n",
    "            if d > 0:\n",
    "                graph[u][i][1] -= d\n",
    "                graph[v][r][1] += d\n",
    "                return d\n",
    "            \n",
    "    return 0"
   ]
  },
  {
   "cell_type": "code",
   "execution_count": 21,
   "metadata": {},
   "outputs": [
    {
     "name": "stdout",
     "output_type": "stream",
     "text": [
      "[0, 1, 1, 2]\n",
      "[0, 1, 2, 3]\n",
      "[0, -1, -1, -1]\n",
      "3\n"
     ]
    }
   ],
   "source": [
    "graph = [[] for _ in range(V)]\n",
    "for u, v, c in X:\n",
    "    graph[u].append([v, c, len(graph[v])])\n",
    "    graph[v].append([u, 0, len(graph[u]) - 1])\n",
    "    \n",
    "flow = 0\n",
    "while True:\n",
    "    level = [-1] * V\n",
    "    bfs(0)\n",
    "    if level[V - 1] < 0:\n",
    "        break\n",
    "        \n",
    "    visited = [False] * V\n",
    "    while True:\n",
    "        f = dfs(0, V - 1, 10 ** 9 + 7)\n",
    "        if f > 0:\n",
    "            flow += f\n",
    "        else:\n",
    "            break\n",
    "            \n",
    "print(flow)"
   ]
  },
  {
   "cell_type": "markdown",
   "metadata": {},
   "source": [
    "# ABC 10 - D\n",
    "\n",
    "https://atcoder.jp/contests/abc010/tasks/abc010_4"
   ]
  },
  {
   "cell_type": "code",
   "execution_count": 1,
   "metadata": {},
   "outputs": [
    {
     "name": "stdout",
     "output_type": "stream",
     "text": [
      "1\n"
     ]
    }
   ],
   "source": [
    "N, G, E = 4, 2, 3\n",
    "P = [2, 3]\n",
    "X = [[0, 1], [1, 2], [1, 3]]\n",
    "\n",
    "print(1)"
   ]
  },
  {
   "cell_type": "code",
   "execution_count": 2,
   "metadata": {},
   "outputs": [],
   "source": [
    "def dfs(u, t, f):\n",
    "    if u == t:\n",
    "        return f\n",
    "    \n",
    "    used[u] = True\n",
    "    for i in range(len(graph[u])):\n",
    "        v, c, r = graph[u][i]\n",
    "        if not used[v] and c > 0:\n",
    "            d = dfs(v, t, min(f, c))\n",
    "            if d > 0:\n",
    "                graph[u][i][1] -= d\n",
    "                graph[v][r][1] += d\n",
    "                return d\n",
    "\n",
    "    return 0"
   ]
  },
  {
   "cell_type": "code",
   "execution_count": 4,
   "metadata": {},
   "outputs": [
    {
     "name": "stdout",
     "output_type": "stream",
     "text": [
      "1\n"
     ]
    }
   ],
   "source": [
    "graph = [[] for _ in range(N + 1)]\n",
    "for u, v in X:\n",
    "    graph[u].append([v, 1, len(graph[v])])\n",
    "    graph[v].append([u, 0, len(graph[u]) - 1])\n",
    "    \n",
    "    graph[v].append([u, 1, len(graph[u])])\n",
    "    graph[u].append([v, 0, len(graph[v]) - 1])\n",
    "\n",
    "for p in P:\n",
    "    graph[p].append([N, 1, len(graph[N])])\n",
    "    graph[N].append([p, 0, len(graph[p]) - 1])\n",
    "\n",
    "flow = 0\n",
    "while True:\n",
    "    used = [False] * (N + 1)\n",
    "    f = dfs(0, N, 10 ** 9 + 7)\n",
    "    if f == 0:\n",
    "        break\n",
    "    flow += f\n",
    "\n",
    "print(flow)"
   ]
  },
  {
   "cell_type": "code",
   "execution_count": null,
   "metadata": {},
   "outputs": [],
   "source": []
  },
  {
   "cell_type": "code",
   "execution_count": null,
   "metadata": {},
   "outputs": [],
   "source": []
  }
 ],
 "metadata": {
  "kernelspec": {
   "display_name": "Python 3",
   "language": "python",
   "name": "python3"
  },
  "language_info": {
   "codemirror_mode": {
    "name": "ipython",
    "version": 3
   },
   "file_extension": ".py",
   "mimetype": "text/x-python",
   "name": "python",
   "nbconvert_exporter": "python",
   "pygments_lexer": "ipython3",
   "version": "3.7.3"
  }
 },
 "nbformat": 4,
 "nbformat_minor": 4
}
