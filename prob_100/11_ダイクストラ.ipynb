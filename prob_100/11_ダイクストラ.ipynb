{
 "cells": [
  {
   "cell_type": "markdown",
   "metadata": {},
   "source": [
    "# Single Source Shortest Path\n",
    "\n",
    "http://judge.u-aizu.ac.jp/onlinejudge/description.jsp?id=GRL_1_A&lang=ja"
   ]
  },
  {
   "cell_type": "code",
   "execution_count": 1,
   "metadata": {},
   "outputs": [
    {
     "name": "stdout",
     "output_type": "stream",
     "text": [
      "0 1 3 4\n"
     ]
    }
   ],
   "source": [
    "V, E, r = 4, 5, 0\n",
    "X = [[0, 1, 1], [0, 2, 4], [1, 2, 2], [2, 3, 1], [1, 3, 5]]\n",
    "\n",
    "print(0,1,3,4)"
   ]
  },
  {
   "cell_type": "code",
   "execution_count": 3,
   "metadata": {},
   "outputs": [],
   "source": [
    "graph = [[] for _ in range(V)]\n",
    "for s, t, c in X:\n",
    "    graph[s].append((t, c))"
   ]
  },
  {
   "cell_type": "code",
   "execution_count": 7,
   "metadata": {},
   "outputs": [
    {
     "name": "stdout",
     "output_type": "stream",
     "text": [
      "0\n",
      "1\n",
      "3\n",
      "4\n"
     ]
    }
   ],
   "source": [
    "from heapq import heappop, heappush\n",
    "INF = 10 ** 10\n",
    "\n",
    "d = [INF] * V\n",
    "d[r] = 0\n",
    "\n",
    "visited = [False] * V\n",
    "pq = []\n",
    "heappush(pq, (0, r))\n",
    "while pq:\n",
    "    c, u = heappop(pq)\n",
    "    visited[u] = True\n",
    "    \n",
    "    for v, c in graph[u]:\n",
    "        if visited[v]:\n",
    "            continue\n",
    "            \n",
    "        if d[v] > d[u] + c:\n",
    "            d[v] = d[u] + c\n",
    "            heappush(pq, (d[v], v))\n",
    "\n",
    "for v in d:\n",
    "    if v < INF:\n",
    "        print(v)\n",
    "    else:\n",
    "        print(\"INF\")"
   ]
  },
  {
   "cell_type": "markdown",
   "metadata": {},
   "source": [
    "# JOI 2008 yo - F\n",
    "\n",
    "https://atcoder.jp/contests/joi2008yo/tasks/joi2008yo_f"
   ]
  },
  {
   "cell_type": "code",
   "execution_count": 1,
   "metadata": {},
   "outputs": [
    {
     "name": "stdout",
     "output_type": "stream",
     "text": [
      "-1 15 12\n"
     ]
    }
   ],
   "source": [
    "N, K = 3, 8\n",
    "X = [[1, 3, 1, 10], [0, 2, 3], [1, 2, 3, 20], [1, 1, 2, 5],\n",
    "     [0, 3, 2], [1, 1, 3, 7], [1, 2, 1, 9], [0, 2, 3]]\n",
    "\n",
    "print(-1, 15, 12)"
   ]
  },
  {
   "cell_type": "code",
   "execution_count": 2,
   "metadata": {},
   "outputs": [],
   "source": [
    "from heapq import heappop, heappush\n",
    "INF = 10 ** 10"
   ]
  },
  {
   "cell_type": "code",
   "execution_count": 5,
   "metadata": {},
   "outputs": [],
   "source": [
    "def rec(s, e):\n",
    "    d = [INF] * (N + 1)\n",
    "    d[s] = 0\n",
    "\n",
    "    visited = [False] * (N + 1)    \n",
    "    pq = []\n",
    "    heappush(pq, (0, s))\n",
    "    while pq:\n",
    "        c, u = heappop(pq)\n",
    "        visited[u] = True\n",
    "        \n",
    "        if u == e:\n",
    "            break\n",
    "        \n",
    "        for v, c in graph[u]:\n",
    "            if visited[v]:\n",
    "                continue\n",
    "                \n",
    "            if d[v] > d[u] + c:\n",
    "                d[v] = d[u] + c\n",
    "                heappush(pq, (d[v], v))\n",
    "                \n",
    "    if d[e] < INF:\n",
    "        return d[e]\n",
    "    else:\n",
    "        return -1"
   ]
  },
  {
   "cell_type": "code",
   "execution_count": 6,
   "metadata": {},
   "outputs": [
    {
     "name": "stdout",
     "output_type": "stream",
     "text": [
      "-1\n",
      "15\n",
      "12\n"
     ]
    }
   ],
   "source": [
    "graph = [[] for _ in range(N + 1)]\n",
    "\n",
    "for i, *x in X:\n",
    "    if i == 0:\n",
    "        print(rec(*x))\n",
    "    else:\n",
    "        s, t, c = x\n",
    "        graph[s].append((t, c))\n",
    "        graph[t].append((s, c))"
   ]
  },
  {
   "cell_type": "markdown",
   "metadata": {},
   "source": [
    "# JOI 2016 yo - E\n",
    "\n",
    "https://atcoder.jp/contests/joi2016yo/tasks/joi2016yo_e"
   ]
  },
  {
   "cell_type": "code",
   "execution_count": 1,
   "metadata": {},
   "outputs": [
    {
     "name": "stdout",
     "output_type": "stream",
     "text": [
      "11000\n"
     ]
    }
   ],
   "source": [
    "N, M, K, S = 13, 21, 1, 1\n",
    "P, Q = 1000, 6000\n",
    "C = [7]\n",
    "X = [[1, 2], [3, 7], [2, 4], [5, 8], [8, 9], [2, 5], [3, 4],\n",
    "     [4, 7], [9, 10], [10, 11], [5, 9], [7, 12], [3, 6], [4, 5],\n",
    "     [1, 3], [11, 12], [6, 7], [8, 11], [6, 13], [7, 8], [12, 13]]\n",
    "\n",
    "print(11000)"
   ]
  },
  {
   "cell_type": "code",
   "execution_count": 2,
   "metadata": {},
   "outputs": [],
   "source": [
    "from heapq import heappop, heappush\n",
    "INF = 10 ** 10"
   ]
  },
  {
   "cell_type": "markdown",
   "metadata": {},
   "source": [
    "#### 全てのCと繋がる頂点を考え，そこからの距離を考える"
   ]
  },
  {
   "cell_type": "code",
   "execution_count": 3,
   "metadata": {},
   "outputs": [],
   "source": [
    "graph = [[] for _ in range(N + 2)]\n",
    "for x, y in X:\n",
    "    graph[x].append(y)\n",
    "    graph[y].append(x)\n",
    "    \n",
    "for c in C:\n",
    "    graph[N + 1].append(c)"
   ]
  },
  {
   "cell_type": "code",
   "execution_count": 5,
   "metadata": {},
   "outputs": [],
   "source": [
    "from collections import deque\n",
    "    \n",
    "dist = [INF] * (N + 2)\n",
    "dist[-1] = -1\n",
    "\n",
    "visited = [False] * (N + 2)\n",
    "q = deque([N + 1])\n",
    "while q:\n",
    "    u = q.popleft()\n",
    "    visited[u] = True\n",
    "    \n",
    "    for v in graph[u]:\n",
    "        if visited[v]:\n",
    "            continue\n",
    "            \n",
    "        if dist[v] > dist[u] + 1:\n",
    "            dist[v] = dist[u] + 1\n",
    "            q.append(v)"
   ]
  },
  {
   "cell_type": "code",
   "execution_count": 7,
   "metadata": {},
   "outputs": [
    {
     "name": "stdout",
     "output_type": "stream",
     "text": [
      "11000\n"
     ]
    }
   ],
   "source": [
    "cost = [INF] * (N + 1)\n",
    "cost[1] = 0\n",
    "\n",
    "visited = [False] * (N + 1)\n",
    "pq = []\n",
    "heappush(pq, (0, 1))\n",
    "while pq:\n",
    "    c, u = heappop(pq)\n",
    "    visited[u] = True    \n",
    "    for v in graph[u]:\n",
    "        if visited[v] or dist[v] == 0:\n",
    "            continue\n",
    "        \n",
    "        if v == N:\n",
    "            d = 0\n",
    "        elif dist[v] > S:\n",
    "            d = P\n",
    "        else:\n",
    "            d = Q\n",
    "        if cost[v] > cost[u] + d:\n",
    "            cost[v] = cost[u] + d\n",
    "            heappush(pq, (cost[v], v))\n",
    "            \n",
    "print(cost[N])"
   ]
  },
  {
   "cell_type": "markdown",
   "metadata": {},
   "source": [
    "# JOI 2014 yo - E\n",
    "\n",
    "https://atcoder.jp/contests/joi2014yo/tasks/joi2014yo_e"
   ]
  },
  {
   "cell_type": "code",
   "execution_count": 1,
   "metadata": {},
   "outputs": [
    {
     "name": "stdout",
     "output_type": "stream",
     "text": [
      "700\n"
     ]
    }
   ],
   "source": [
    "N, K = 6, 6\n",
    "X = [[400, 2], [200, 1], [600, 3], [1000, 1], [300, 5], [700, 4]]\n",
    "Y = [[1, 2], [2, 3], [3, 6], [4, 6], [1, 5], [2, 4]]\n",
    "\n",
    "print(700)"
   ]
  },
  {
   "cell_type": "code",
   "execution_count": 2,
   "metadata": {},
   "outputs": [],
   "source": [
    "from collections import deque\n",
    "from heapq import heappop, heappush\n",
    "INF = 10 ** 10"
   ]
  },
  {
   "cell_type": "code",
   "execution_count": 3,
   "metadata": {},
   "outputs": [],
   "source": [
    "graph = [[] for _ in range(N)]\n",
    "for u, v in Y:\n",
    "    graph[u - 1].append(v - 1)\n",
    "    graph[v - 1].append(u - 1)"
   ]
  },
  {
   "cell_type": "code",
   "execution_count": 4,
   "metadata": {},
   "outputs": [],
   "source": [
    "dist = [[] for _ in range(N)]\n",
    "for i in range(N):\n",
    "    d = [-1] * N\n",
    "    d[i] = 0\n",
    "    q = deque([i])\n",
    "    while q:\n",
    "        u = q.popleft()\n",
    "        for v in graph[u]:\n",
    "            if d[v] >= 0:\n",
    "                continue\n",
    "            \n",
    "            d[v] = d[u] + 1\n",
    "            q.append(v)\n",
    "    dist[i] = [j for j in range(N) if 0 < d[j] <= X[i][1]]"
   ]
  },
  {
   "cell_type": "code",
   "execution_count": 7,
   "metadata": {},
   "outputs": [
    {
     "name": "stdout",
     "output_type": "stream",
     "text": [
      "700\n"
     ]
    }
   ],
   "source": [
    "cost = [INF] * N\n",
    "cost[0] = 0\n",
    "pq = []\n",
    "heappush(pq, (0, 0))\n",
    "while pq:\n",
    "    _, u = heappop(pq)\n",
    "    for v in dist[u]:    \n",
    "        if cost[v] > cost[u] + X[u][0]:\n",
    "            cost[v] = cost[u] + X[u][0]\n",
    "            heappush(pq, (cost[v], v))\n",
    "            \n",
    "print(cost[-1])"
   ]
  },
  {
   "cell_type": "code",
   "execution_count": null,
   "metadata": {},
   "outputs": [],
   "source": []
  },
  {
   "cell_type": "code",
   "execution_count": null,
   "metadata": {},
   "outputs": [],
   "source": []
  }
 ],
 "metadata": {
  "kernelspec": {
   "display_name": "Python 3",
   "language": "python",
   "name": "python3"
  },
  "language_info": {
   "codemirror_mode": {
    "name": "ipython",
    "version": 3
   },
   "file_extension": ".py",
   "mimetype": "text/x-python",
   "name": "python",
   "nbconvert_exporter": "python",
   "pygments_lexer": "ipython3",
   "version": "3.7.3"
  }
 },
 "nbformat": 4,
 "nbformat_minor": 4
}
