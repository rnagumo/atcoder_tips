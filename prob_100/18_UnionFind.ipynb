{
 "cells": [
  {
   "cell_type": "markdown",
   "metadata": {},
   "source": [
    "# Disjoint Set: Union Find Tree\n",
    "\n",
    "互いに素な集合\n",
    "\n",
    "http://judge.u-aizu.ac.jp/onlinejudge/description.jsp?id=DSL_1_A&lang=ja"
   ]
  },
  {
   "cell_type": "code",
   "execution_count": 1,
   "metadata": {},
   "outputs": [
    {
     "name": "stdout",
     "output_type": "stream",
     "text": [
      "0 0 1 1 1 0 1 1\n"
     ]
    }
   ],
   "source": [
    "N, Q = 5, 12\n",
    "X = [[0, 1, 4], [0, 2, 3], [1, 1, 2], [1, 3, 4], [1, 1, 4],\n",
    "     [1, 3, 2], [0, 1, 3], [1, 2, 4], [1, 3, 0], [0, 0, 4],\n",
    "     [1, 0, 2], [1, 3, 0]]\n",
    "\n",
    "print(0,0,1,1,1,0,1,1)"
   ]
  },
  {
   "cell_type": "code",
   "execution_count": 2,
   "metadata": {},
   "outputs": [],
   "source": [
    "par = list(range(N))\n",
    "rank = [0] * N"
   ]
  },
  {
   "cell_type": "code",
   "execution_count": 3,
   "metadata": {},
   "outputs": [],
   "source": [
    "def find(x):\n",
    "    if par[x] == x:\n",
    "        return x\n",
    "    else:\n",
    "        par[x] = find(par[x])\n",
    "        return par[x]"
   ]
  },
  {
   "cell_type": "code",
   "execution_count": 4,
   "metadata": {},
   "outputs": [],
   "source": [
    "def unite(x, y):\n",
    "    x = find(x)\n",
    "    y = find(y)\n",
    "    if x == y:\n",
    "        return\n",
    "    \n",
    "    if rank[x] < rank[y]:\n",
    "        par[x] = y\n",
    "    else:\n",
    "        par[y] = x\n",
    "        if rank[x] == rank[y]:\n",
    "            rank[x] += 1"
   ]
  },
  {
   "cell_type": "code",
   "execution_count": 5,
   "metadata": {},
   "outputs": [
    {
     "name": "stdout",
     "output_type": "stream",
     "text": [
      "0\n",
      "0\n",
      "1\n",
      "1\n",
      "1\n",
      "0\n",
      "1\n",
      "1\n"
     ]
    }
   ],
   "source": [
    "for c, x, y in X:\n",
    "    if c:\n",
    "        print(int(find(x) == find(y)))\n",
    "    else:\n",
    "        unite(x, y)"
   ]
  },
  {
   "cell_type": "markdown",
   "metadata": {},
   "source": [
    "# ABC 75 - C\n",
    "\n",
    "https://atcoder.jp/contests/abc075/tasks/abc075_c?lang=ja"
   ]
  },
  {
   "cell_type": "code",
   "execution_count": 19,
   "metadata": {},
   "outputs": [
    {
     "name": "stdout",
     "output_type": "stream",
     "text": [
      "4\n"
     ]
    }
   ],
   "source": [
    "N, M = 7, 7\n",
    "X = [[1, 3], [2, 7], [3, 4], [4, 5], [4, 6], [5, 6], [6, 7]]\n",
    "\n",
    "print(4)"
   ]
  },
  {
   "cell_type": "code",
   "execution_count": 20,
   "metadata": {},
   "outputs": [],
   "source": [
    "def find(x):\n",
    "    if par[x] == x:\n",
    "        return x\n",
    "    else:\n",
    "        par[x] = find(par[x])\n",
    "        return par[x]"
   ]
  },
  {
   "cell_type": "code",
   "execution_count": 21,
   "metadata": {},
   "outputs": [],
   "source": [
    "def unite(x, y):\n",
    "    x = find(x)\n",
    "    y = find(y)\n",
    "    if x == y:\n",
    "        return\n",
    "    \n",
    "    if rank[x] < rank[y]:\n",
    "        par[x] = y\n",
    "    else:\n",
    "        par[y] = x\n",
    "        if rank[x] == rank[y]:\n",
    "            rank[x] += 1"
   ]
  },
  {
   "cell_type": "code",
   "execution_count": 32,
   "metadata": {},
   "outputs": [
    {
     "name": "stdout",
     "output_type": "stream",
     "text": [
      "4\n"
     ]
    }
   ],
   "source": [
    "cnt = 0\n",
    "for i in range(M):\n",
    "    par = list(range(N + 1))\n",
    "    rank = [0] * (N + 1)\n",
    "    for j, (u, v) in enumerate(X):\n",
    "        if i == j:\n",
    "            continue\n",
    "        unite(u, v)\n",
    "    \n",
    "    res = True\n",
    "    for j in range(1, N + 1):\n",
    "        for k in range(1, N + 1):\n",
    "            res &= find(j) == find(k)\n",
    "\n",
    "    cnt += int(not res)\n",
    "        \n",
    "print(cnt)"
   ]
  },
  {
   "cell_type": "markdown",
   "metadata": {},
   "source": [
    "#### 別解"
   ]
  },
  {
   "cell_type": "code",
   "execution_count": 1,
   "metadata": {},
   "outputs": [
    {
     "name": "stdout",
     "output_type": "stream",
     "text": [
      "4\n"
     ]
    }
   ],
   "source": [
    "N, M = 7, 7\n",
    "X = [[1, 3], [2, 7], [3, 4], [4, 5], [4, 6], [5, 6], [6, 7]]\n",
    "\n",
    "print(4)"
   ]
  },
  {
   "cell_type": "code",
   "execution_count": 2,
   "metadata": {},
   "outputs": [],
   "source": [
    "graph = [[False] * N for _ in range(N)]\n",
    "for a, b in X:\n",
    "    graph[a - 1][b - 1] = True\n",
    "    graph[b - 1][a - 1] = True"
   ]
  },
  {
   "cell_type": "code",
   "execution_count": 3,
   "metadata": {},
   "outputs": [],
   "source": [
    "def dfs(u):\n",
    "    visited[u] = True\n",
    "    for v in range(N):\n",
    "        if visited[v] or not graph[u][v]:\n",
    "            continue\n",
    "        dfs(v)"
   ]
  },
  {
   "cell_type": "code",
   "execution_count": 4,
   "metadata": {},
   "outputs": [
    {
     "name": "stdout",
     "output_type": "stream",
     "text": [
      "4\n"
     ]
    }
   ],
   "source": [
    "res = 0\n",
    "for i in range(M):\n",
    "    a, b = X[i]\n",
    "    a -= 1\n",
    "    b -= 1\n",
    "    \n",
    "    graph[a][b] = False\n",
    "    graph[b][a] = False\n",
    "    \n",
    "    visited = [False] * N\n",
    "    dfs(0)\n",
    "    res += int(not all(visited))\n",
    "    \n",
    "    graph[a][b] = True\n",
    "    graph[b][a] = True\n",
    "    \n",
    "print(res)"
   ]
  },
  {
   "cell_type": "markdown",
   "metadata": {},
   "source": [
    "# ABC 120 - D\n",
    "\n",
    "https://atcoder.jp/contests/abc120/tasks/abc120_d"
   ]
  },
  {
   "cell_type": "code",
   "execution_count": 1,
   "metadata": {},
   "outputs": [
    {
     "name": "stdout",
     "output_type": "stream",
     "text": [
      "0 0 4 5 6\n"
     ]
    }
   ],
   "source": [
    "N, M = 4, 5\n",
    "X = [[1, 2], [3, 4], [1, 3], [2, 3], [1, 4]]\n",
    "\n",
    "print(0,0,4,5,6)"
   ]
  },
  {
   "cell_type": "code",
   "execution_count": 2,
   "metadata": {},
   "outputs": [],
   "source": [
    "def find(x):\n",
    "    if par[x] == x:\n",
    "        return x\n",
    "    else:\n",
    "        par[x] = find(par[x])\n",
    "        return par[x]"
   ]
  },
  {
   "cell_type": "code",
   "execution_count": 3,
   "metadata": {},
   "outputs": [],
   "source": [
    "def unite(x, y):\n",
    "    x = find(x)\n",
    "    y = find(y)\n",
    "    if x == y:\n",
    "        return\n",
    "    \n",
    "    if rank[x] == rank[y]:\n",
    "        rank[x] += 1\n",
    "    elif rank[x] < rank[y]:\n",
    "        x, y = y, x\n",
    "        \n",
    "    par[y] = x\n",
    "    size[x] += size[y]"
   ]
  },
  {
   "cell_type": "code",
   "execution_count": 4,
   "metadata": {},
   "outputs": [],
   "source": [
    "def same(x, y):\n",
    "    return find(x) == find(y)"
   ]
  },
  {
   "cell_type": "code",
   "execution_count": 19,
   "metadata": {},
   "outputs": [
    {
     "name": "stdout",
     "output_type": "stream",
     "text": [
      "0\n",
      "0\n",
      "4\n",
      "5\n",
      "6\n"
     ]
    }
   ],
   "source": [
    "par = list(range(N))\n",
    "rank = [0] * N\n",
    "size = [1] * N\n",
    "\n",
    "ans = [N * (N - 1) // 2] * M\n",
    "for i, (a, b) in enumerate(X[:0:-1]):\n",
    "    if same(a - 1, b - 1):\n",
    "        ans[i + 1] = ans[i]\n",
    "        continue\n",
    "\n",
    "    ans[i + 1] = ans[i] - size[find(a - 1)] * size[find(b - 1)]\n",
    "    unite(a - 1, b - 1)\n",
    "\n",
    "print(*ans[::-1], sep=\"\\n\")"
   ]
  },
  {
   "cell_type": "code",
   "execution_count": null,
   "metadata": {},
   "outputs": [],
   "source": []
  }
 ],
 "metadata": {
  "kernelspec": {
   "display_name": "Python 3",
   "language": "python",
   "name": "python3"
  },
  "language_info": {
   "codemirror_mode": {
    "name": "ipython",
    "version": 3
   },
   "file_extension": ".py",
   "mimetype": "text/x-python",
   "name": "python",
   "nbconvert_exporter": "python",
   "pygments_lexer": "ipython3",
   "version": "3.7.3"
  }
 },
 "nbformat": 4,
 "nbformat_minor": 4
}
