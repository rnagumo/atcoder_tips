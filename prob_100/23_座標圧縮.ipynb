{
 "cells": [
  {
   "cell_type": "markdown",
   "metadata": {},
   "source": [
    "# Union of Rectangles\n",
    "\n",
    "http://judge.u-aizu.ac.jp/onlinejudge/description.jsp?id=DSL_4_A&lang=ja"
   ]
  },
  {
   "cell_type": "code",
   "execution_count": 1,
   "metadata": {},
   "outputs": [
    {
     "name": "stdout",
     "output_type": "stream",
     "text": [
      "13\n"
     ]
    }
   ],
   "source": [
    "N = 2\n",
    "X = [[0, 0, 3, 4], [1, 2, 4, 3]]\n",
    "\n",
    "print(13)"
   ]
  },
  {
   "cell_type": "code",
   "execution_count": 2,
   "metadata": {},
   "outputs": [],
   "source": [
    "x1 = [x1 for x1, *_ in X]\n",
    "x2 = [x2 for *_, x2, _ in X]\n",
    "y1 = [y1 for _, y1, *_ in X]\n",
    "y2 = [y2 for *_, y2 in X]\n",
    "xs = sorted(x1 + x2)\n",
    "ys = sorted(y1 + y2)"
   ]
  },
  {
   "cell_type": "code",
   "execution_count": 3,
   "metadata": {},
   "outputs": [],
   "source": [
    "xd = []\n",
    "yd = []\n",
    "for i in range(2 * N):\n",
    "    if i == 0 or xs[i] != xs[i - 1]:\n",
    "        xd.append(xs[i])\n",
    "    if i == 0 or ys[i] != ys[i - 1]:\n",
    "        yd.append(ys[i])"
   ]
  },
  {
   "cell_type": "code",
   "execution_count": 8,
   "metadata": {},
   "outputs": [],
   "source": [
    "from bisect import bisect_left"
   ]
  },
  {
   "cell_type": "code",
   "execution_count": 9,
   "metadata": {},
   "outputs": [
    {
     "name": "stdout",
     "output_type": "stream",
     "text": [
      "[0, 1, 3, 4] 0\n",
      "[0, 1, 3, 4] 1\n",
      "13\n"
     ]
    }
   ],
   "source": [
    "field = [[0] * (4 * N) for _ in range(4 * N)]\n",
    "for i in range(N):\n",
    "    v1 = bisect_left(xd, x1[i])\n",
    "    v2 = bisect_left(xd, x2[i])\n",
    "    w1 = bisect_left(yd, y1[i])\n",
    "    w2 = bisect_left(yd, y2[i])\n",
    "\n",
    "    field[v1][w1] += 1\n",
    "    field[v1][w2] -= 1\n",
    "    field[v2][w1] -= 1\n",
    "    field[v2][w2] += 1\n",
    "    \n",
    "# Cumsum\n",
    "for i in range(4 * N):\n",
    "    for j in range(1, 4 * N):\n",
    "        field[i][j] += field[i][j - 1]\n",
    "\n",
    "for i in range(1, 4 * N):\n",
    "    for j in range(4 * N):\n",
    "        field[i][j] += field[i - 1][j]\n",
    "            \n",
    "ans = 0\n",
    "for i in range(len(xd) - 1):\n",
    "    for j in range(len(yd) - 1):\n",
    "        if field[i][j]:\n",
    "            ans += (xd[i + 1] - xd[i]) * (yd[j + 1] - yd[j])\n",
    "            \n",
    "print(ans)"
   ]
  },
  {
   "cell_type": "markdown",
   "metadata": {},
   "source": [
    "# ABC 36 - C\n",
    "\n",
    "https://atcoder.jp/contests/abc036/tasks/abc036_c"
   ]
  },
  {
   "cell_type": "code",
   "execution_count": 10,
   "metadata": {},
   "outputs": [
    {
     "name": "stdout",
     "output_type": "stream",
     "text": [
      "1 1 0 2 0\n"
     ]
    }
   ],
   "source": [
    "N = 5\n",
    "A = [3, 3, 1, 6, 1]\n",
    "\n",
    "print(1,1,0,2,0)"
   ]
  },
  {
   "cell_type": "code",
   "execution_count": 13,
   "metadata": {},
   "outputs": [],
   "source": [
    "from bisect import bisect_left"
   ]
  },
  {
   "cell_type": "code",
   "execution_count": 12,
   "metadata": {},
   "outputs": [
    {
     "name": "stdout",
     "output_type": "stream",
     "text": [
      "1\n",
      "1\n",
      "0\n",
      "2\n",
      "0\n"
     ]
    }
   ],
   "source": [
    "x = sorted(set(A))\n",
    "ans = [0] * N\n",
    "for i in range(N):\n",
    "    ans[i] = bisect_left(x, A[i])\n",
    "print(*ans, sep=\"\\n\")"
   ]
  },
  {
   "cell_type": "markdown",
   "metadata": {},
   "source": [
    "# JOI 2013 yo - E\n",
    "\n",
    "https://atcoder.jp/contests/joi2013yo/tasks/joi2013yo_e"
   ]
  },
  {
   "cell_type": "code",
   "execution_count": 1,
   "metadata": {},
   "outputs": [
    {
     "name": "stdout",
     "output_type": "stream",
     "text": [
      "49000\n"
     ]
    }
   ],
   "source": [
    "N, K = 3, 2\n",
    "X = [[30, 50, 0, 50, 70, 100],\n",
    "     [10, 20, 20, 70, 90, 60],\n",
    "     [40, 60, 20, 90, 90, 70]]\n",
    "\n",
    "print(49000)"
   ]
  },
  {
   "cell_type": "code",
   "execution_count": 2,
   "metadata": {},
   "outputs": [],
   "source": [
    "from bisect import bisect_left"
   ]
  },
  {
   "cell_type": "code",
   "execution_count": 3,
   "metadata": {},
   "outputs": [],
   "source": [
    "x1 = [v for v, *_ in X]\n",
    "y1 = [v for _, v, *_ in X]\n",
    "d1 = [v for _, _, v, *_ in X]\n",
    "x2 = [v for *_, v, _, _ in X]\n",
    "y2 = [v for *_, v, _ in X]\n",
    "d2 = [v for *_, v in X]\n",
    "\n",
    "xc = sorted(set(x1 + x2))\n",
    "yc = sorted(set(y1 + y2))\n",
    "dc = sorted(set(d1 + d2))"
   ]
  },
  {
   "cell_type": "code",
   "execution_count": 4,
   "metadata": {},
   "outputs": [],
   "source": [
    "dp = [[[0] * (2 * N) for _ in range(2 * N)] for _ in range(2 * N)]\n",
    "\n",
    "for i in range(N):\n",
    "    u1 = bisect_left(xc, x1[i])\n",
    "    v1 = bisect_left(yc, y1[i])\n",
    "    w1 = bisect_left(dc, d1[i])\n",
    "    u2 = bisect_left(xc, x2[i])\n",
    "    v2 = bisect_left(yc, y2[i])\n",
    "    w2 = bisect_left(dc, d2[i])\n",
    "\n",
    "    dp[u1][v1][w1] += 1\n",
    "    dp[u1][v1][w2] -= 1\n",
    "    dp[u1][v2][w1] -= 1\n",
    "    dp[u1][v2][w2] += 1\n",
    "\n",
    "    dp[u2][v1][w1] -= 1\n",
    "    dp[u2][v1][w2] += 1\n",
    "    dp[u2][v2][w1] += 1\n",
    "    dp[u2][v2][w2] -= 1\n",
    "    \n",
    "for i in range(2 * N):\n",
    "    for j in range(2 * N):\n",
    "        for k in range(1, 2 * N):\n",
    "            dp[i][j][k] += dp[i][j][k - 1]\n",
    "            \n",
    "for i in range(2 * N):\n",
    "    for j in range(1, 2 * N):\n",
    "        for k in range(2 * N):\n",
    "            dp[i][j][k] += dp[i][j - 1][k]\n",
    "            \n",
    "for i in range(1, 2 * N):\n",
    "    for j in range(2 * N):\n",
    "        for k in range(2 * N):\n",
    "            dp[i][j][k] += dp[i - 1][j][k]"
   ]
  },
  {
   "cell_type": "code",
   "execution_count": 5,
   "metadata": {},
   "outputs": [
    {
     "name": "stdout",
     "output_type": "stream",
     "text": [
      "49000\n"
     ]
    }
   ],
   "source": [
    "ans = 0\n",
    "for i in range(len(xc) - 1):\n",
    "    for j in range(len(yc) - 1):\n",
    "        for k in range(len(dc) - 1):\n",
    "            if dp[i][j][k] >= K:\n",
    "                ans += ((xc[i + 1] - xc[i]) * (yc[j + 1] - yc[j])\n",
    "                        * (dc[k + 1] - dc[k]))\n",
    "                \n",
    "print(ans)"
   ]
  },
  {
   "cell_type": "markdown",
   "metadata": {},
   "source": [
    "# JOI 2008 ho - E\n",
    "\n",
    "https://atcoder.jp/contests/joi2008ho/tasks/joi2008ho_e"
   ]
  },
  {
   "cell_type": "code",
   "execution_count": 1,
   "metadata": {},
   "outputs": [
    {
     "name": "stdout",
     "output_type": "stream",
     "text": [
      "5\n"
     ]
    }
   ],
   "source": [
    "W, H = 15, 6\n",
    "N = 10\n",
    "X = [[1, 4, 5, 6], [2, 1, 4, 5], [1, 0, 5, 1], [6, 1, 7, 5],\n",
    "     [7, 5, 9, 6], [7, 0, 9, 2], [9, 1, 10, 5], [11, 0, 14, 1],\n",
    "     [12, 1, 13, 5], [11, 5, 14, 6]]\n",
    "\n",
    "print(5)"
   ]
  },
  {
   "cell_type": "code",
   "execution_count": 2,
   "metadata": {},
   "outputs": [],
   "source": [
    "from bisect import bisect_left\n",
    "from collections import deque"
   ]
  },
  {
   "cell_type": "code",
   "execution_count": 3,
   "metadata": {},
   "outputs": [],
   "source": [
    "xs = sorted({x1 for x1, *_ in X} | {x2 for *_, x2, _ in X} | {0, W})\n",
    "ys = sorted({y1 for _, y1, *_ in X} | {y2 for *_, y2 in X} | {0, H})"
   ]
  },
  {
   "cell_type": "code",
   "execution_count": 6,
   "metadata": {},
   "outputs": [],
   "source": [
    "wi = len(xs)\n",
    "hi = len(ys)\n",
    "\n",
    "dp = [[0] * wi for _ in range(hi)]\n",
    "for x1, y1, x2, y2 in X:\n",
    "    u1 = bisect_left(xs, x1)\n",
    "    v1 = bisect_left(ys, y1)\n",
    "    u2 = bisect_left(xs, x2)\n",
    "    v2 = bisect_left(ys, y2)\n",
    "\n",
    "    dp[v1][u1] += 1\n",
    "    dp[v1][u2] -= 1\n",
    "    dp[v2][u1] -= 1\n",
    "    dp[v2][u2] += 1\n",
    "\n",
    "for i in range(hi):\n",
    "    for j in range(1, wi):\n",
    "        dp[i][j] += dp[i][j - 1]\n",
    "\n",
    "for i in range(1, hi):\n",
    "    for j in range(wi):\n",
    "        dp[i][j] += dp[i - 1][j]"
   ]
  },
  {
   "cell_type": "code",
   "execution_count": 8,
   "metadata": {},
   "outputs": [
    {
     "name": "stdout",
     "output_type": "stream",
     "text": [
      "5\n"
     ]
    }
   ],
   "source": [
    "ans = 0\n",
    "q = deque()\n",
    "hi -= 1\n",
    "wi -= 1\n",
    "for i in range(hi):\n",
    "    for j in range(wi):\n",
    "        if dp[i][j]:\n",
    "            continue\n",
    "\n",
    "        ans += 1\n",
    "        q.append((i, j))\n",
    "        dp[i][j] = 1\n",
    "        while q:\n",
    "            y, x = q.popleft()\n",
    "            for u, v in [(-1, 0), (1, 0), (0, -1), (0, 1)]:\n",
    "                if (not (0 <= y + u < hi and 0 <= x + v < wi)\n",
    "                        or dp[y + u][x + v]):\n",
    "                    continue\n",
    "                    \n",
    "                dp[y + u][x + v] = 1\n",
    "                q.append((y + u, x + v))\n",
    "                \n",
    "print(ans)"
   ]
  },
  {
   "cell_type": "code",
   "execution_count": null,
   "metadata": {},
   "outputs": [],
   "source": []
  },
  {
   "cell_type": "code",
   "execution_count": null,
   "metadata": {},
   "outputs": [],
   "source": []
  },
  {
   "cell_type": "code",
   "execution_count": null,
   "metadata": {},
   "outputs": [],
   "source": []
  }
 ],
 "metadata": {
  "kernelspec": {
   "display_name": "Python 3",
   "language": "python",
   "name": "python3"
  },
  "language_info": {
   "codemirror_mode": {
    "name": "ipython",
    "version": 3
   },
   "file_extension": ".py",
   "mimetype": "text/x-python",
   "name": "python",
   "nbconvert_exporter": "python",
   "pygments_lexer": "ipython3",
   "version": "3.7.3"
  }
 },
 "nbformat": 4,
 "nbformat_minor": 4
}
