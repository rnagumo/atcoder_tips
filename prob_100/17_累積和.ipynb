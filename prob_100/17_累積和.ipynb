{
 "cells": [
  {
   "cell_type": "markdown",
   "metadata": {},
   "source": [
    "# nikkei2019 final - A\n",
    "\n",
    "https://atcoder.jp/contests/nikkei2019-final/tasks/nikkei2019_final_a"
   ]
  },
  {
   "cell_type": "code",
   "execution_count": 1,
   "metadata": {},
   "outputs": [
    {
     "name": "stdout",
     "output_type": "stream",
     "text": [
      "4 6 8 11\n"
     ]
    }
   ],
   "source": [
    "N = 4\n",
    "A = [4, 1, 3, 3]\n",
    "\n",
    "print(4, 6, 8, 11)"
   ]
  },
  {
   "cell_type": "code",
   "execution_count": 6,
   "metadata": {},
   "outputs": [
    {
     "name": "stdout",
     "output_type": "stream",
     "text": [
      "4\n",
      "6\n",
      "8\n",
      "11\n"
     ]
    }
   ],
   "source": [
    "cumsum = [0] * (N + 1)\n",
    "for i in range(N):\n",
    "    cumsum[i + 1] = cumsum[i] + A[i]\n",
    "\n",
    "for k in range(1, N + 1):\n",
    "    res = 0\n",
    "    for i in range(N - k + 1):\n",
    "        res = max(res, cumsum[i + k] - cumsum[i])\n",
    "    print(res)"
   ]
  },
  {
   "cell_type": "markdown",
   "metadata": {},
   "source": [
    "# JOI 2010 ho - A\n",
    "\n",
    "https://atcoder.jp/contests/joi2010ho/tasks/joi2010ho_a"
   ]
  },
  {
   "cell_type": "code",
   "execution_count": 1,
   "metadata": {},
   "outputs": [
    {
     "name": "stdout",
     "output_type": "stream",
     "text": [
      "18\n"
     ]
    }
   ],
   "source": [
    "N, M = 7, 5\n",
    "S = [2, 1, 1, 3, 2, 1]\n",
    "A = [2, -1, 3, 2, -3]\n",
    "\n",
    "print(18)"
   ]
  },
  {
   "cell_type": "code",
   "execution_count": 2,
   "metadata": {},
   "outputs": [
    {
     "name": "stdout",
     "output_type": "stream",
     "text": [
      "18\n"
     ]
    }
   ],
   "source": [
    "cumsum = [0] * N\n",
    "for i in range(N - 1):\n",
    "    cumsum[i + 1] = cumsum[i] + S[i]\n",
    "\n",
    "res = 0\n",
    "cur = 0\n",
    "for i in range(M):\n",
    "    res += abs(cumsum[cur + A[i]] - cumsum[cur])\n",
    "    cur += A[i]\n",
    "print(res % 10 ** 5)"
   ]
  },
  {
   "cell_type": "markdown",
   "metadata": {},
   "source": [
    "# 2011 ho - A\n",
    "\n",
    "https://atcoder.jp/contests/joi2011ho/tasks/joi2011ho1"
   ]
  },
  {
   "cell_type": "code",
   "execution_count": 5,
   "metadata": {},
   "outputs": [
    {
     "name": "stdout",
     "output_type": "stream",
     "text": [
      "1 3 2, 3 5 2, 0 1 0, 10 11 7\n"
     ]
    }
   ],
   "source": [
    "M, N = 4, 7\n",
    "K = 4\n",
    "X = ['JIOJOIJ', 'IOJOIJO', 'JOIJOOI', 'OOJJIJO']\n",
    "Y = [[3, 5, 4, 7], [2, 2, 3, 6], [2, 2, 2, 2], [1, 1, 4, 7]]\n",
    "\n",
    "print(\"1 3 2, 3 5 2, 0 1 0, 10 11 7\")"
   ]
  },
  {
   "cell_type": "code",
   "execution_count": 7,
   "metadata": {},
   "outputs": [
    {
     "name": "stdout",
     "output_type": "stream",
     "text": [
      "1 3 2\n",
      "3 5 2\n",
      "0 1 0\n",
      "10 11 7\n"
     ]
    }
   ],
   "source": [
    "grid = [[[0] * 3 for _ in range(N + 1)] for _ in range(M + 1)]\n",
    "for i in range(M):\n",
    "    for j in range(N):\n",
    "        for k, s in enumerate(\"JOI\"):\n",
    "            grid[i + 1][j + 1][k] = grid[i][j + 1][k] + int(X[i][j] == s)\n",
    "            \n",
    "for j in range(N):\n",
    "    for i in range(1, M + 1):\n",
    "        for k in range(3):\n",
    "            grid[i][j + 1][k] += grid[i][j][k]\n",
    "            \n",
    "for a, b, c, d in Y:\n",
    "    res = [0] * 3\n",
    "    for k in range(3):\n",
    "        res[k] = (grid[c][d][k] - grid[c][b - 1][k] - grid[a - 1][d][k]\n",
    "                  + grid[a - 1][b - 1][k])\n",
    "    print(*res)"
   ]
  },
  {
   "cell_type": "markdown",
   "metadata": {},
   "source": [
    "# ABC 106 - D\n",
    "\n",
    "https://atcoder.jp/contests/abc106/tasks/abc106_d"
   ]
  },
  {
   "cell_type": "code",
   "execution_count": 18,
   "metadata": {},
   "outputs": [
    {
     "name": "stdout",
     "output_type": "stream",
     "text": [
      "3\n"
     ]
    }
   ],
   "source": [
    "N, M, Q = 2, 3, 1\n",
    "X = [[1, 1], [1, 2], [2, 2]]\n",
    "Y = [[1, 2]]\n",
    "\n",
    "print(3)"
   ]
  },
  {
   "cell_type": "code",
   "execution_count": 28,
   "metadata": {},
   "outputs": [
    {
     "name": "stdout",
     "output_type": "stream",
     "text": [
      "3\n"
     ]
    }
   ],
   "source": [
    "grid = [[0] * (N + 1) for _ in range(N + 1)]\n",
    "for l, r in X:\n",
    "    grid[l][r] += 1\n",
    "\n",
    "for i in range(N):\n",
    "    for j in range(N):\n",
    "        grid[i + 1][j + 1] += grid[i][j + 1]\n",
    "\n",
    "for i in range(N):\n",
    "    for j in range(N):\n",
    "        grid[i + 1][j + 1] += grid[i + 1][j]\n",
    "\n",
    "for p, q in Y:\n",
    "    print(grid[q][q] + grid[p - 1][p - 1] - grid[p - 1][q] - grid[q][p - 1])"
   ]
  },
  {
   "cell_type": "markdown",
   "metadata": {},
   "source": [
    "# GigaCode 2019 - D\n",
    "\n",
    "https://atcoder.jp/contests/gigacode-2019/tasks/gigacode_2019_d"
   ]
  },
  {
   "cell_type": "code",
   "execution_count": 54,
   "metadata": {},
   "outputs": [
    {
     "name": "stdout",
     "output_type": "stream",
     "text": [
      "1\n"
     ]
    }
   ],
   "source": [
    "H, W, K, V = 1, 1, 200, 500\n",
    "X = [[300]]\n",
    "\n",
    "print(1)"
   ]
  },
  {
   "cell_type": "code",
   "execution_count": 57,
   "metadata": {},
   "outputs": [
    {
     "name": "stdout",
     "output_type": "stream",
     "text": [
      "6\n"
     ]
    }
   ],
   "source": [
    "H, W, K, V = 1, 8, 10, 200\n",
    "X = [[30, 40, 10, 20, 30, 40, 10, 20]]\n",
    "\n",
    "print(6)"
   ]
  },
  {
   "cell_type": "code",
   "execution_count": 58,
   "metadata": {},
   "outputs": [],
   "source": [
    "grid = [[0] * (W + 1) for _ in range(H + 1)]\n",
    "for i in range(H):\n",
    "    for j in range(W):\n",
    "        grid[i + 1][j + 1] += grid[i][j + 1] + X[i][j]\n",
    "        \n",
    "for i in range(H):\n",
    "    for j in range(W):\n",
    "        grid[i + 1][j + 1] += grid[i + 1][j]"
   ]
  },
  {
   "cell_type": "code",
   "execution_count": 63,
   "metadata": {},
   "outputs": [
    {
     "name": "stdout",
     "output_type": "stream",
     "text": [
      "6\n"
     ]
    }
   ],
   "source": [
    "ans = 0\n",
    "for x1 in range(1, H + 1):\n",
    "    for y1 in range(1, W + 1):\n",
    "        for x2 in range(x1, H + 1):\n",
    "            for y2 in range(y1, W + 1):\n",
    "                tmp = (grid[x2][y2] + grid[x1 - 1][y1 - 1]\n",
    "                       - grid[x2][y1 - 1] - grid[x1 - 1][y2])\n",
    "                cnt = (x2 - x1 + 1) * (y2 - y1 + 1)\n",
    "                if tmp + cnt * K <= V:\n",
    "                    ans = max(ans, cnt)\n",
    "                    \n",
    "print(ans)"
   ]
  },
  {
   "cell_type": "markdown",
   "metadata": {},
   "source": [
    "# ABC 14 - C\n",
    "\n",
    "https://atcoder.jp/contests/abc014/tasks/abc014_3"
   ]
  },
  {
   "cell_type": "code",
   "execution_count": 64,
   "metadata": {},
   "outputs": [
    {
     "name": "stdout",
     "output_type": "stream",
     "text": [
      "3\n"
     ]
    }
   ],
   "source": [
    "N = 4\n",
    "X = [[0, 2], [2, 3], [2, 4], [5, 6]]\n",
    "\n",
    "print(3)"
   ]
  },
  {
   "cell_type": "code",
   "execution_count": 65,
   "metadata": {},
   "outputs": [
    {
     "name": "stdout",
     "output_type": "stream",
     "text": [
      "3\n"
     ]
    }
   ],
   "source": [
    "c = [0] * (10 ** 6 + 2)\n",
    "for a, b in X:\n",
    "    c[a] += 1\n",
    "    c[b + 1] -= 1\n",
    "\n",
    "for i in range(10 ** 6 + 1):\n",
    "    c[i + 1] += c[i]\n",
    "    \n",
    "print(max(c))"
   ]
  },
  {
   "cell_type": "markdown",
   "metadata": {},
   "source": [
    "# JOI 2015 ho - A\n",
    "\n",
    "https://atcoder.jp/contests/joi2015ho/tasks/joi2015ho_a"
   ]
  },
  {
   "cell_type": "code",
   "execution_count": 1,
   "metadata": {},
   "outputs": [],
   "source": [
    "N, M = 4, 4\n",
    "P = [1, 3, 2, 4]\n",
    "X = [[120, 90, 100], [110, 50, 80], [250, 70, 130]]\n",
    "\n",
    "print(550)"
   ]
  },
  {
   "cell_type": "code",
   "execution_count": 5,
   "metadata": {},
   "outputs": [
    {
     "name": "stdout",
     "output_type": "stream",
     "text": [
      "550\n"
     ]
    }
   ],
   "source": [
    "cnt = [0] * (N + 1)\n",
    "for i in range(M - 1):\n",
    "    cnt[min(P[i], P[i + 1])] += 1\n",
    "    cnt[max(P[i], P[i + 1])] -= 1\n",
    "    \n",
    "for i in range(N):\n",
    "    cnt[i + 1] += cnt[i]\n",
    "    \n",
    "res = 0\n",
    "for i, (a, b, c) in enumerate(X):\n",
    "    res += min(a * cnt[i + 1], b * cnt[i + 1] + c)\n",
    "print(res)"
   ]
  },
  {
   "cell_type": "markdown",
   "metadata": {},
   "source": [
    "# JOI 2012 ho - D\n",
    "\n",
    "https://atcoder.jp/contests/joi2012ho/tasks/joi2012ho4"
   ]
  },
  {
   "cell_type": "code",
   "execution_count": null,
   "metadata": {},
   "outputs": [],
   "source": []
  },
  {
   "cell_type": "code",
   "execution_count": null,
   "metadata": {},
   "outputs": [],
   "source": []
  },
  {
   "cell_type": "code",
   "execution_count": null,
   "metadata": {},
   "outputs": [],
   "source": []
  }
 ],
 "metadata": {
  "kernelspec": {
   "display_name": "Python 3",
   "language": "python",
   "name": "python3"
  },
  "language_info": {
   "codemirror_mode": {
    "name": "ipython",
    "version": 3
   },
   "file_extension": ".py",
   "mimetype": "text/x-python",
   "name": "python",
   "nbconvert_exporter": "python",
   "pygments_lexer": "ipython3",
   "version": "3.7.3"
  }
 },
 "nbformat": 4,
 "nbformat_minor": 4
}
