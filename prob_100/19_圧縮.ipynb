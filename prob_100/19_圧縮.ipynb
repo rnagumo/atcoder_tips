{
 "cells": [
  {
   "cell_type": "markdown",
   "metadata": {},
   "source": [
    "# JOI 2008 ho - A\n",
    "\n",
    "https://atcoder.jp/contests/joi2008ho/tasks/joi2008ho_a"
   ]
  },
  {
   "cell_type": "code",
   "execution_count": 35,
   "metadata": {},
   "outputs": [
    {
     "name": "stdout",
     "output_type": "stream",
     "text": [
      "6\n"
     ]
    }
   ],
   "source": [
    "N = 8\n",
    "X = [1, 0, 1, 1, 0, 0, 0, 0]\n",
    "\n",
    "print(6)"
   ]
  },
  {
   "cell_type": "code",
   "execution_count": 42,
   "metadata": {},
   "outputs": [
    {
     "name": "stdout",
     "output_type": "stream",
     "text": [
      "2\n"
     ]
    }
   ],
   "source": [
    "N = 8\n",
    "X = [1, 0, 1, 1, 0, 0, 0, 1]\n",
    "\n",
    "print(2)"
   ]
  },
  {
   "cell_type": "code",
   "execution_count": 43,
   "metadata": {},
   "outputs": [],
   "source": [
    "a = [0] * N\n",
    "idx = 0\n",
    "left = 0\n",
    "prev = 0\n",
    "for i, v in enumerate(X):\n",
    "    if i == 0:\n",
    "        a[idx] = 1\n",
    "        prev = v\n",
    "        left = v\n",
    "        continue\n",
    "        \n",
    "    if v == prev:\n",
    "        a[idx] += 1\n",
    "    elif (i + 1) % 2 == 0:\n",
    "        if idx == 0:\n",
    "            a[idx] += 1\n",
    "            left = v\n",
    "        else:\n",
    "            a[idx - 1] += a[idx] + 1\n",
    "            a[idx] = 0\n",
    "            idx -= 1\n",
    "    else:\n",
    "        idx += 1\n",
    "        a[idx] = 1\n",
    "        \n",
    "    prev = v"
   ]
  },
  {
   "cell_type": "code",
   "execution_count": 44,
   "metadata": {},
   "outputs": [
    {
     "name": "stdout",
     "output_type": "stream",
     "text": [
      "2\n"
     ]
    }
   ],
   "source": [
    "if left == 0:\n",
    "    print(sum(a[::2]))\n",
    "else:\n",
    "    print(sum(a[1::2]))"
   ]
  },
  {
   "cell_type": "markdown",
   "metadata": {},
   "source": [
    "# JOI 2013 ho - 1\n",
    "\n",
    "https://atcoder.jp/contests/joi2013ho/tasks/joi2013ho1"
   ]
  },
  {
   "cell_type": "code",
   "execution_count": 1,
   "metadata": {},
   "outputs": [
    {
     "name": "stdout",
     "output_type": "stream",
     "text": [
      "7\n"
     ]
    }
   ],
   "source": [
    "N = 10\n",
    "X = [1, 1, 0, 0, 1, 0, 1, 1, 1, 0]\n",
    "\n",
    "print(7)"
   ]
  },
  {
   "cell_type": "code",
   "execution_count": 13,
   "metadata": {},
   "outputs": [
    {
     "name": "stdout",
     "output_type": "stream",
     "text": [
      "7\n"
     ]
    }
   ],
   "source": [
    "ctr = [1] * N\n",
    "for i, v in enumerate(X):\n",
    "    if i > 0 and cur != v:\n",
    "        ctr[i] += ctr[i - 1]\n",
    "    cur = v\n",
    "    \n",
    "cand = [ctr[i] for i in range(N - 1) if ctr[i] >= ctr[i + 1]] + [ctr[-1]]\n",
    "ans = 0\n",
    "for i in range(len(cand)):\n",
    "    ans = max(ans, sum(cand[i:i + 3]))\n",
    "print(ans)"
   ]
  },
  {
   "cell_type": "code",
   "execution_count": null,
   "metadata": {},
   "outputs": [],
   "source": []
  }
 ],
 "metadata": {
  "kernelspec": {
   "display_name": "Python 3",
   "language": "python",
   "name": "python3"
  },
  "language_info": {
   "codemirror_mode": {
    "name": "ipython",
    "version": 3
   },
   "file_extension": ".py",
   "mimetype": "text/x-python",
   "name": "python",
   "nbconvert_exporter": "python",
   "pygments_lexer": "ipython3",
   "version": "3.7.3"
  }
 },
 "nbformat": 4,
 "nbformat_minor": 4
}
