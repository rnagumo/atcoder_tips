{
 "cells": [
  {
   "cell_type": "markdown",
   "metadata": {},
   "source": [
    "# nikkei2019 final - D\n",
    "\n",
    "https://atcoder.jp/contests/nikkei2019-final/tasks/nikkei2019_final_d"
   ]
  },
  {
   "cell_type": "code",
   "execution_count": 31,
   "metadata": {},
   "outputs": [
    {
     "name": "stdout",
     "output_type": "stream",
     "text": [
      "12\n"
     ]
    }
   ],
   "source": [
    "N, M = 4, 2\n",
    "X = [[2, 1, 2], [5, 2, 3]]\n",
    "\n",
    "print(12)"
   ]
  },
  {
   "cell_type": "code",
   "execution_count": 34,
   "metadata": {},
   "outputs": [
    {
     "name": "stdout",
     "output_type": "stream",
     "text": [
      "12\n"
     ]
    }
   ],
   "source": [
    "backet = 300\n",
    "s = [0] * (N + 1)\n",
    "d = [0] * (N + 1)\n",
    "for i in reversed(range(1, M + 1)):\n",
    "    t, l, r = X[i - 1]\n",
    "    c1 = l // backet\n",
    "    c2 = r // backet\n",
    "    if c1 == c2:\n",
    "        for j in range(l, r + 1):\n",
    "            s[j] = max(s[j], i)\n",
    "    else:\n",
    "        for j in range(c1 + 1, c2):\n",
    "            d[j] = max(d[j], i)\n",
    "        for j in range(l, (c1 + 1) * backet):\n",
    "            s[j] = max(s[j], i)\n",
    "        for j in range(c2 * backet, r + 1):\n",
    "            s[j] = max(s[j], i)\n",
    "\n",
    "ans = 0\n",
    "for i in range(1, N + 1):\n",
    "    t = max(d[i // backet], s[i])\n",
    "    if t > 0:\n",
    "        ans += X[t - 1][0]\n",
    "print(ans)"
   ]
  },
  {
   "cell_type": "markdown",
   "metadata": {},
   "source": [
    "#### 別解"
   ]
  },
  {
   "cell_type": "code",
   "execution_count": 39,
   "metadata": {},
   "outputs": [
    {
     "name": "stdout",
     "output_type": "stream",
     "text": [
      "---\n",
      "[0, 0, 0, 0] 1\n",
      "[0, 3, 0, 0] 2\n",
      "---\n",
      "[0, 3, 3, 0] 0\n",
      "[2, 3, 3, 0] 1\n",
      "12\n"
     ]
    }
   ],
   "source": [
    "a = [0] * N\n",
    "ans = 0\n",
    "for t, l, r in reversed(X):\n",
    "    print(\"---\")\n",
    "    x = l - 1\n",
    "    while x < r:\n",
    "        print(a, x)\n",
    "        if a[x] == 0:\n",
    "            a[x] = r\n",
    "            ans += t\n",
    "            x += 1\n",
    "        else:\n",
    "            x = a[x]\n",
    "\n",
    "print(ans)"
   ]
  },
  {
   "cell_type": "code",
   "execution_count": null,
   "metadata": {},
   "outputs": [],
   "source": []
  }
 ],
 "metadata": {
  "kernelspec": {
   "display_name": "Python 3",
   "language": "python",
   "name": "python3"
  },
  "language_info": {
   "codemirror_mode": {
    "name": "ipython",
    "version": 3
   },
   "file_extension": ".py",
   "mimetype": "text/x-python",
   "name": "python",
   "nbconvert_exporter": "python",
   "pygments_lexer": "ipython3",
   "version": "3.7.3"
  }
 },
 "nbformat": 4,
 "nbformat_minor": 4
}
