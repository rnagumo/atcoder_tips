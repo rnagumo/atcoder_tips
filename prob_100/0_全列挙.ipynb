{
 "cells": [
  {
   "cell_type": "markdown",
   "metadata": {},
   "source": [
    "# パ研杯2019 C\n",
    "\n",
    "https://atcoder.jp/contests/pakencamp-2019-day3/tasks/pakencamp_2019_day3_c"
   ]
  },
  {
   "cell_type": "code",
   "execution_count": 1,
   "metadata": {},
   "outputs": [
    {
     "name": "stdout",
     "output_type": "stream",
     "text": [
      "84\n"
     ]
    }
   ],
   "source": [
    "N, M = 1, 2\n",
    "A = [[80, 84]]\n",
    "\n",
    "print(84)"
   ]
  },
  {
   "cell_type": "code",
   "execution_count": 3,
   "metadata": {},
   "outputs": [
    {
     "name": "stdout",
     "output_type": "stream",
     "text": [
      "84\n"
     ]
    }
   ],
   "source": [
    "ans = 0\n",
    "for t1 in range(M):\n",
    "    for t2 in range(t1 + 1, M):\n",
    "        tmp = 0\n",
    "        for i in range(N):\n",
    "            tmp += max(A[i][t1], A[i][t2])\n",
    "        ans = max(ans, tmp)\n",
    "        \n",
    "print(ans)"
   ]
  },
  {
   "cell_type": "markdown",
   "metadata": {},
   "source": [
    "# ABC 95 C\n",
    "\n",
    "https://atcoder.jp/contests/abc095/tasks/arc096_a"
   ]
  },
  {
   "cell_type": "code",
   "execution_count": 7,
   "metadata": {},
   "outputs": [
    {
     "name": "stdout",
     "output_type": "stream",
     "text": [
      "7900\n"
     ]
    }
   ],
   "source": [
    "A, B, C, X, Y = 1500, 2000, 1600, 3, 2\n",
    "\n",
    "print(7900)"
   ]
  },
  {
   "cell_type": "code",
   "execution_count": 11,
   "metadata": {},
   "outputs": [
    {
     "name": "stdout",
     "output_type": "stream",
     "text": [
      "7900\n"
     ]
    }
   ],
   "source": [
    "ans = min(A * X + B * Y,\n",
    "          B * max(0, Y - X) + C * X * 2,\n",
    "          A * max(0, X - Y) + C * Y * 2)\n",
    "print(ans)"
   ]
  },
  {
   "cell_type": "code",
   "execution_count": 9,
   "metadata": {},
   "outputs": [
    {
     "data": {
      "text/plain": [
       "9600"
      ]
     },
     "execution_count": 9,
     "metadata": {},
     "output_type": "execute_result"
    }
   ],
   "source": [
    "B * max(0, Y - X) + C * X * 2"
   ]
  },
  {
   "cell_type": "code",
   "execution_count": 10,
   "metadata": {},
   "outputs": [
    {
     "data": {
      "text/plain": [
       "11900"
      ]
     },
     "execution_count": 10,
     "metadata": {},
     "output_type": "execute_result"
    }
   ],
   "source": [
    "A * max(0, X - Y) + B * Y + C * Y * 2"
   ]
  },
  {
   "cell_type": "markdown",
   "metadata": {},
   "source": [
    "# 三井住友信託銀行プログラミングコンテスト2019 D\n",
    "\n",
    "https://atcoder.jp/contests/sumitrust2019/tasks/sumitb2019_d"
   ]
  },
  {
   "cell_type": "code",
   "execution_count": 13,
   "metadata": {},
   "outputs": [
    {
     "name": "stdout",
     "output_type": "stream",
     "text": [
      "3\n"
     ]
    }
   ],
   "source": [
    "N = 4\n",
    "S = \"0224\"\n",
    "\n",
    "print(3)"
   ]
  },
  {
   "cell_type": "code",
   "execution_count": 20,
   "metadata": {},
   "outputs": [
    {
     "name": "stdout",
     "output_type": "stream",
     "text": [
      "3\n"
     ]
    }
   ],
   "source": [
    "ans = 0\n",
    "for n in range(1000):\n",
    "    c = [n // 100, (n // 10) % 10, n % 10]\n",
    "    f = 0\n",
    "    for i in range(N):\n",
    "        if S[i] == str(c[f]):\n",
    "            f += 1\n",
    "        if f == 3:\n",
    "            break\n",
    "    \n",
    "    if f == 3:\n",
    "        ans += 1\n",
    "        \n",
    "print(ans)"
   ]
  },
  {
   "cell_type": "markdown",
   "metadata": {},
   "source": [
    "# 第６回日本情報オリンピック 本選 C\n",
    "\n",
    "https://atcoder.jp/contests/joi2007ho/tasks/joi2007ho_c"
   ]
  },
  {
   "cell_type": "code",
   "execution_count": 36,
   "metadata": {},
   "outputs": [
    {
     "name": "stdout",
     "output_type": "stream",
     "text": [
      "10\n"
     ]
    }
   ],
   "source": [
    "N = 10\n",
    "X = [(9, 4), (4, 3), (1, 1), (4, 2), (2, 4),\n",
    "     (5, 8), (4, 0), (5, 3), (0, 5), (5, 2)]\n",
    "\n",
    "print(10)"
   ]
  },
  {
   "cell_type": "markdown",
   "metadata": {},
   "source": [
    "### `list`と`set`の計算量の違いに注意\n",
    "\n",
    "`x in s`\n",
    "\n",
    "* list -> $O(n)$\n",
    "* set -> $O(1)$ (at worst $O(n)$)"
   ]
  },
  {
   "cell_type": "code",
   "execution_count": 39,
   "metadata": {},
   "outputs": [
    {
     "name": "stdout",
     "output_type": "stream",
     "text": [
      "10\n"
     ]
    }
   ],
   "source": [
    "ans = 0\n",
    "XS = set(X)\n",
    "for i in range(N):\n",
    "    for j in range(i + 1, N):\n",
    "        x1, y1 = X[i]\n",
    "        x2, y2 = X[j]\n",
    "        flg1 = (x1 + y1 - y2, -x1 + x2 + y1) in XS\n",
    "        flg2 = (x2 + y1 - y2, -x1 + x2 + y2) in XS\n",
    "        if flg1 and flg2:\n",
    "            ans = max(ans, (x2 - x1) ** 2 + (y2 - y1) ** 2)\n",
    "\n",
    "print(ans)"
   ]
  },
  {
   "cell_type": "markdown",
   "metadata": {},
   "source": [
    "# square869120Contest 6 - B\n",
    "\n",
    "https://atcoder.jp/contests/s8pc-6/tasks/s8pc_6_b"
   ]
  },
  {
   "cell_type": "code",
   "execution_count": 41,
   "metadata": {},
   "outputs": [
    {
     "name": "stdout",
     "output_type": "stream",
     "text": [
      "18\n"
     ]
    }
   ],
   "source": [
    "N = 3\n",
    "X = [[5, 7], [2, 6], [8, 10]]\n",
    "\n",
    "print(18)"
   ]
  },
  {
   "cell_type": "code",
   "execution_count": 49,
   "metadata": {},
   "outputs": [
    {
     "name": "stdout",
     "output_type": "stream",
     "text": [
      "18\n"
     ]
    }
   ],
   "source": [
    "ans = 10 ** 9 * 50\n",
    "cand = sorted(sum(X, []))\n",
    "for i in range(2 * N):\n",
    "    for j in range(i + 1, 2 * N):\n",
    "        tmp = 0\n",
    "        for k in range(N):\n",
    "            s = cand[i]\n",
    "            t = cand[j]\n",
    "            tmp += abs(s - X[k][0]) + abs(X[k][0] - X[k][1]) + abs(X[k][1] - t)\n",
    "        ans = min(ans, tmp)\n",
    "        \n",
    "print(ans)"
   ]
  },
  {
   "cell_type": "markdown",
   "metadata": {},
   "source": [
    "# JOI2008 予選 - D\n",
    "\n",
    "https://atcoder.jp/contests/joi2008yo/tasks/joi2008yo_d"
   ]
  },
  {
   "cell_type": "code",
   "execution_count": 52,
   "metadata": {},
   "outputs": [
    {
     "name": "stdout",
     "output_type": "stream",
     "text": [
      "2 -3\n"
     ]
    }
   ],
   "source": [
    "M = 5\n",
    "X = [[8, 5], [6, 4], [4, 3], [7, 10], [0, 10]]\n",
    "N = 10\n",
    "Y = [(10, 5), (2, 7), (9, 7), (8, 10), (10, 2),\n",
    "     (1, 2), (8, 1), (6, 7), (6, 0), (0, 9)]\n",
    "\n",
    "print(2, -3)"
   ]
  },
  {
   "cell_type": "code",
   "execution_count": 55,
   "metadata": {},
   "outputs": [
    {
     "name": "stdout",
     "output_type": "stream",
     "text": [
      "2 -3\n"
     ]
    }
   ],
   "source": [
    "YS = set(Y)\n",
    "for x0, y0 in Y:\n",
    "    dx = x0 - X[0][0]\n",
    "    dy = y0 - X[0][1]\n",
    "    flg = True\n",
    "    for x1, y1 in X:\n",
    "        flg = flg and (x1 + dx, y1 + dy) in YS\n",
    "        \n",
    "    if flg:\n",
    "        print(dx, dy)\n",
    "        break"
   ]
  },
  {
   "cell_type": "code",
   "execution_count": null,
   "metadata": {},
   "outputs": [],
   "source": []
  }
 ],
 "metadata": {
  "kernelspec": {
   "display_name": "Python 3",
   "language": "python",
   "name": "python3"
  },
  "language_info": {
   "codemirror_mode": {
    "name": "ipython",
    "version": 3
   },
   "file_extension": ".py",
   "mimetype": "text/x-python",
   "name": "python",
   "nbconvert_exporter": "python",
   "pygments_lexer": "ipython3",
   "version": "3.7.3"
  }
 },
 "nbformat": 4,
 "nbformat_minor": 4
}
