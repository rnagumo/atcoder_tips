{
 "cells": [
  {
   "cell_type": "markdown",
   "metadata": {},
   "source": [
    "# square 5 - B\n",
    "\n",
    "https://atcoder.jp/contests/s8pc-5/tasks/s8pc_5_b"
   ]
  },
  {
   "cell_type": "code",
   "execution_count": 14,
   "metadata": {},
   "outputs": [
    {
     "name": "stdout",
     "output_type": "stream",
     "text": [
      "2.06155281280883\n"
     ]
    }
   ],
   "source": [
    "N, M = 0, 2\n",
    "X = [[]]\n",
    "Y = [[6, 3], [2, 4]]\n",
    "\n",
    "print(2.061552812808830)"
   ]
  },
  {
   "cell_type": "code",
   "execution_count": 38,
   "metadata": {},
   "outputs": [],
   "source": [
    "rs = [10 ** 9 + 7] * M\n",
    "for i in range(M):\n",
    "    for j in range(M):\n",
    "        if i == j:\n",
    "            continue\n",
    "        r = 0.5 * ((Y[i][0] - Y[j][0]) ** 2 + (Y[i][1] - Y[j][1]) ** 2) ** 0.5\n",
    "        rs[i] = min(rs[i], r)"
   ]
  },
  {
   "cell_type": "code",
   "execution_count": 46,
   "metadata": {},
   "outputs": [
    {
     "name": "stdout",
     "output_type": "stream",
     "text": [
      "2.0615528128088303\n"
     ]
    }
   ],
   "source": [
    "for i in range(M):\n",
    "    for j in range(N):\n",
    "        rr = ((Y[i][0] - X[j][0]) ** 2 + (Y[i][1] - X[j][1]) ** 2) ** 0.5\n",
    "        rs[i] = min(rs[i], rr - X[j][2])\n",
    "\n",
    "print(min(rs) if M > 0 else float(min(r for *_, r in X)))"
   ]
  },
  {
   "cell_type": "markdown",
   "metadata": {},
   "source": [
    "# ABC 144 - D\n",
    "\n",
    "https://atcoder.jp/contests/abc144/tasks/abc144_d"
   ]
  },
  {
   "cell_type": "code",
   "execution_count": 51,
   "metadata": {},
   "outputs": [
    {
     "name": "stdout",
     "output_type": "stream",
     "text": [
      "45.0\n"
     ]
    }
   ],
   "source": [
    "a, b, x = 2, 2, 4\n",
    "\n",
    "print(45.0)"
   ]
  },
  {
   "cell_type": "code",
   "execution_count": 57,
   "metadata": {},
   "outputs": [
    {
     "name": "stdout",
     "output_type": "stream",
     "text": [
      "45.0\n"
     ]
    }
   ],
   "source": [
    "import math\n",
    "\n",
    "if a ** 2 * b * 0.5 < x:\n",
    "    d = 2 * (a ** 2 * b - x) / a ** 3\n",
    "else:\n",
    "    d = a * b ** 2 / (2 * x)\n",
    "print(math.degrees(math.atan(d)))"
   ]
  },
  {
   "cell_type": "code",
   "execution_count": null,
   "metadata": {},
   "outputs": [],
   "source": []
  },
  {
   "cell_type": "code",
   "execution_count": null,
   "metadata": {},
   "outputs": [],
   "source": []
  }
 ],
 "metadata": {
  "kernelspec": {
   "display_name": "Python 3",
   "language": "python",
   "name": "python3"
  },
  "language_info": {
   "codemirror_mode": {
    "name": "ipython",
    "version": 3
   },
   "file_extension": ".py",
   "mimetype": "text/x-python",
   "name": "python",
   "nbconvert_exporter": "python",
   "pygments_lexer": "ipython3",
   "version": "3.7.3"
  }
 },
 "nbformat": 4,
 "nbformat_minor": 4
}
