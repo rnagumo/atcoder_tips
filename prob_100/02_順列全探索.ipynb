{
 "cells": [
  {
   "cell_type": "markdown",
   "metadata": {},
   "source": [
    "# ABC 145 - C\n",
    "\n",
    "https://atcoder.jp/contests/abc145/tasks/abc145_c"
   ]
  },
  {
   "cell_type": "code",
   "execution_count": 1,
   "metadata": {},
   "outputs": [
    {
     "name": "stdout",
     "output_type": "stream",
     "text": [
      "2.2761423749\n"
     ]
    }
   ],
   "source": [
    "N = 3\n",
    "X = [[0, 0], [1, 0], [0, 1]]\n",
    "\n",
    "print(2.2761423749)"
   ]
  },
  {
   "cell_type": "code",
   "execution_count": 4,
   "metadata": {},
   "outputs": [],
   "source": [
    "dist = [[0] * N for _ in range(N)]\n",
    "for i in range(N):\n",
    "    for j in range(N):\n",
    "        dist[i][j] = ((X[i][0] - X[j][0]) ** 2\n",
    "                      + (X[i][1] - X[j][1]) ** 2) ** 0.5"
   ]
  },
  {
   "cell_type": "code",
   "execution_count": 6,
   "metadata": {},
   "outputs": [],
   "source": [
    "from itertools import permutations"
   ]
  },
  {
   "cell_type": "code",
   "execution_count": 7,
   "metadata": {},
   "outputs": [
    {
     "name": "stdout",
     "output_type": "stream",
     "text": [
      "2.2761423749153966\n"
     ]
    }
   ],
   "source": [
    "ans = []\n",
    "for v in permutations(range(N), N):\n",
    "    tmp = 0\n",
    "    for i in range(N - 1):\n",
    "        tmp += dist[v[i]][v[i + 1]]\n",
    "    ans.append(tmp)\n",
    "\n",
    "print(sum(ans) / len(ans))"
   ]
  },
  {
   "cell_type": "markdown",
   "metadata": {},
   "source": [
    "# ABC 150 - C\n",
    "\n",
    "https://atcoder.jp/contests/abc150/tasks/abc150_c"
   ]
  },
  {
   "cell_type": "code",
   "execution_count": 12,
   "metadata": {},
   "outputs": [
    {
     "name": "stdout",
     "output_type": "stream",
     "text": [
      "3\n"
     ]
    }
   ],
   "source": [
    "N = 3\n",
    "P = (1, 3, 2)\n",
    "Q = (3, 1, 2)\n",
    "\n",
    "print(3)"
   ]
  },
  {
   "cell_type": "code",
   "execution_count": 13,
   "metadata": {},
   "outputs": [],
   "source": [
    "from itertools import permutations"
   ]
  },
  {
   "cell_type": "code",
   "execution_count": 14,
   "metadata": {},
   "outputs": [
    {
     "name": "stdout",
     "output_type": "stream",
     "text": [
      "(1, 2, 3)\n",
      "(1, 3, 2)\n",
      "(2, 1, 3)\n",
      "(2, 3, 1)\n",
      "(3, 1, 2)\n",
      "(3, 2, 1)\n",
      "3\n"
     ]
    }
   ],
   "source": [
    "a = 0\n",
    "b = 0\n",
    "for i, v in enumerate(permutations(range(1, N + 1), N)):\n",
    "    if v == P:\n",
    "        a = i\n",
    "    if v == Q:\n",
    "        b = i\n",
    "print(abs(a - b))"
   ]
  },
  {
   "cell_type": "markdown",
   "metadata": {},
   "source": [
    "# AOJ 8\n",
    "\n",
    "http://judge.u-aizu.ac.jp/onlinejudge/description.jsp?id=ALDS1_13_A&lang=ja"
   ]
  },
  {
   "cell_type": "code",
   "execution_count": null,
   "metadata": {},
   "outputs": [],
   "source": []
  },
  {
   "cell_type": "code",
   "execution_count": null,
   "metadata": {},
   "outputs": [],
   "source": []
  },
  {
   "cell_type": "code",
   "execution_count": null,
   "metadata": {},
   "outputs": [],
   "source": []
  }
 ],
 "metadata": {
  "kernelspec": {
   "display_name": "Python 3",
   "language": "python",
   "name": "python3"
  },
  "language_info": {
   "codemirror_mode": {
    "name": "ipython",
    "version": 3
   },
   "file_extension": ".py",
   "mimetype": "text/x-python",
   "name": "python",
   "nbconvert_exporter": "python",
   "pygments_lexer": "ipython3",
   "version": "3.7.3"
  }
 },
 "nbformat": 4,
 "nbformat_minor": 4
}
