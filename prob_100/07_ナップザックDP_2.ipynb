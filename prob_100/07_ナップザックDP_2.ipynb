{
 "cells": [
  {
   "cell_type": "markdown",
   "metadata": {},
   "source": [
    "# JOI2011 yo - D\n",
    "\n",
    "https://atcoder.jp/contests/joi2011yo/tasks/joi2011yo_d"
   ]
  },
  {
   "cell_type": "code",
   "execution_count": 52,
   "metadata": {},
   "outputs": [
    {
     "name": "stdout",
     "output_type": "stream",
     "text": [
      "10\n"
     ]
    }
   ],
   "source": [
    "N = 11\n",
    "X = [8, 3, 2, 4, 8, 7, 2, 4, 0, 8, 8]\n",
    "\n",
    "print(10)"
   ]
  },
  {
   "cell_type": "code",
   "execution_count": 53,
   "metadata": {},
   "outputs": [
    {
     "name": "stdout",
     "output_type": "stream",
     "text": [
      "10\n"
     ]
    }
   ],
   "source": [
    "dp = [[0] * 21 for _ in range(N - 1)]\n",
    "dp[0][X[0]] = 1\n",
    "for i in range(N - 2):\n",
    "    for j in range(21):\n",
    "        if j - X[i + 1] >= 0:\n",
    "            dp[i + 1][j] += dp[i][j - X[i + 1]]\n",
    "        if j + X[i + 1] <= 20:\n",
    "            dp[i + 1][j] += dp[i][j + X[i + 1]]\n",
    "            \n",
    "print(dp[-1][X[-1]])"
   ]
  },
  {
   "cell_type": "markdown",
   "metadata": {},
   "source": [
    "# JOI2012 yo - D\n",
    "\n",
    "https://atcoder.jp/contests/joi2012yo/tasks/joi2012yo_d"
   ]
  },
  {
   "cell_type": "code",
   "execution_count": 1,
   "metadata": {},
   "outputs": [
    {
     "name": "stdout",
     "output_type": "stream",
     "text": [
      "6\n"
     ]
    }
   ],
   "source": [
    "N, K = 5, 3\n",
    "X = [[3, 1], [1, 1], [4, 2]]\n",
    "\n",
    "print(6)"
   ]
  },
  {
   "cell_type": "code",
   "execution_count": 8,
   "metadata": {},
   "outputs": [
    {
     "name": "stdout",
     "output_type": "stream",
     "text": [
      "2640\n"
     ]
    }
   ],
   "source": [
    "det = {k: v for k, v in X}\n",
    "dp = [[[0] * 3 for _ in range(3)] for _ in range(N + 1)]\n",
    "dp[0][0][0] = 1\n",
    "for i in range(N):\n",
    "    for j in range(3):\n",
    "        for k in range(3):\n",
    "            ls = [det[i + 1] - 1] if i + 1 in det else [0, 1, 2]\n",
    "            for l in ls:\n",
    "                if i >= 2 and j == k == l:\n",
    "                    continue\n",
    "                dp[i + 1][k][l] += dp[i][j][k]\n",
    "\n",
    "print(sum(sum(dp[-1], [])) % 10 ** 4)"
   ]
  },
  {
   "cell_type": "markdown",
   "metadata": {},
   "source": [
    "# JOI 2013 yo - D\n",
    "\n",
    "https://atcoder.jp/contests/joi2013yo/tasks/joi2013yo_d"
   ]
  },
  {
   "cell_type": "code",
   "execution_count": 2,
   "metadata": {},
   "outputs": [
    {
     "name": "stdout",
     "output_type": "stream",
     "text": [
      "80\n"
     ]
    }
   ],
   "source": [
    "D, N = 3, 4\n",
    "T = [31, 27, 35]\n",
    "X = [[20, 25, 30], [23, 29, 90], [21, 35, 60], [28, 33, 40]]\n",
    "\n",
    "print(80)"
   ]
  },
  {
   "cell_type": "code",
   "execution_count": 5,
   "metadata": {},
   "outputs": [
    {
     "name": "stdout",
     "output_type": "stream",
     "text": [
      "80\n"
     ]
    }
   ],
   "source": [
    "dp = [[-1] * N for _ in range(D)]\n",
    "for j in range(N):\n",
    "    if X[j][0] <= T[0] <= X[j][1]:\n",
    "        dp[0][j] = 0\n",
    "\n",
    "for i in range(D - 1):\n",
    "    for j in range(N):\n",
    "        if dp[i][j] < 0:\n",
    "            continue\n",
    "\n",
    "        for k in range(N):\n",
    "            if not X[k][0] <= T[i + 1] <= X[k][1]:\n",
    "                continue\n",
    "            dp[i + 1][k] = max(dp[i + 1][k], dp[i][j] + abs(X[j][2] - X[k][2]))\n",
    "\n",
    "print(max(dp[-1]))"
   ]
  },
  {
   "cell_type": "markdown",
   "metadata": {},
   "source": [
    "# JOI 2015 yo - D\n",
    "\n",
    "https://atcoder.jp/contests/joi2015yo/tasks/joi2015yo_d"
   ]
  },
  {
   "cell_type": "code",
   "execution_count": 10,
   "metadata": {},
   "outputs": [
    {
     "name": "stdout",
     "output_type": "stream",
     "text": [
      "1125\n"
     ]
    }
   ],
   "source": [
    "N, M = 3, 5\n",
    "D = [10, 25, 15]\n",
    "C = [50, 30, 15, 40, 30]\n",
    "\n",
    "print(1125)"
   ]
  },
  {
   "cell_type": "code",
   "execution_count": 73,
   "metadata": {},
   "outputs": [
    {
     "name": "stdout",
     "output_type": "stream",
     "text": [
      "1125\n"
     ]
    }
   ],
   "source": [
    "dp = [[float(\"inf\")] * (N + 1) for _ in range(M + 1)]\n",
    "dp[0][0] = 0\n",
    "for i in range(M):\n",
    "    for j in range(N):\n",
    "        if j == 0:\n",
    "            dp[i + 1][j] = dp[i][j]\n",
    "        if dp[i][j] >= 0:\n",
    "            dp[i + 1][j + 1] = min(dp[i][j + 1], dp[i][j] + C[i] * D[j])\n",
    "\n",
    "print(min(x[-1] for x in dp))"
   ]
  },
  {
   "cell_type": "markdown",
   "metadata": {},
   "source": [
    "# パ研合宿2019　第3日「パ研杯2019」 - D\n",
    "\n",
    "https://atcoder.jp/contests/pakencamp-2019-day3/tasks/pakencamp_2019_day3_d"
   ]
  },
  {
   "cell_type": "code",
   "execution_count": 75,
   "metadata": {},
   "outputs": [
    {
     "name": "stdout",
     "output_type": "stream",
     "text": [
      "10\n"
     ]
    }
   ],
   "source": [
    "N = 3\n",
    "X = ['WWR', '#RW', 'BW#', '##B', 'RBR']\n",
    "\n",
    "print(10)"
   ]
  },
  {
   "cell_type": "code",
   "execution_count": 76,
   "metadata": {},
   "outputs": [],
   "source": [
    "ctr = [[0] * 3 for _ in range(N)]\n",
    "d = {\"R\": 0, \"B\": 1, \"W\": 2}\n",
    "for i in range(5):\n",
    "    for j in range(N):\n",
    "        if X[i][j] in d:\n",
    "            ctr[j][d[X[i][j]]] += 1"
   ]
  },
  {
   "cell_type": "code",
   "execution_count": 88,
   "metadata": {},
   "outputs": [
    {
     "name": "stdout",
     "output_type": "stream",
     "text": [
      "10\n"
     ]
    }
   ],
   "source": [
    "dp = [[5 * N + 1] * 3 for _ in range(N + 1)]\n",
    "dp[0] = [0] * 3\n",
    "for i in range(N):\n",
    "    for j in range(3):\n",
    "        for k in range(3):\n",
    "            if j == k:\n",
    "                continue \n",
    "            dp[i + 1][j] = min(dp[i + 1][j], dp[i][k] + 5 - ctr[i][j])\n",
    "            \n",
    "print(min(dp[-1]))"
   ]
  },
  {
   "cell_type": "markdown",
   "metadata": {},
   "source": [
    "# Pollock's conjecture\n",
    "\n",
    "http://judge.u-aizu.ac.jp/onlinejudge/description.jsp?id=1167&lang=jp"
   ]
  },
  {
   "cell_type": "code",
   "execution_count": 1,
   "metadata": {},
   "outputs": [
    {
     "name": "stdout",
     "output_type": "stream",
     "text": [
      "2 6\n"
     ]
    }
   ],
   "source": [
    "N = 40\n",
    "\n",
    "print(2, 6)"
   ]
  },
  {
   "cell_type": "code",
   "execution_count": 7,
   "metadata": {},
   "outputs": [
    {
     "name": "stdout",
     "output_type": "stream",
     "text": [
      "2 6\n"
     ]
    }
   ],
   "source": [
    "cnt = lambda x: x * (x + 1) * (x + 2) // 6\n",
    "ans = [0, 0]\n",
    "dp = [N + 1] * (N + 1)\n",
    "dp[0] = 0\n",
    "for i in range(100):\n",
    "    for j in range(N + 1):\n",
    "        if j >= cnt(i):\n",
    "            dp[j] = min(dp[j], dp[j - cnt(i)] + 1)\n",
    "ans[0] = dp[-1]\n",
    "\n",
    "dp = [N + 1] * (N + 1)\n",
    "dp[0] = 0\n",
    "for i in range(100):\n",
    "    if cnt(i) % 2 == 0:\n",
    "        continue\n",
    "    for j in range(N + 1):\n",
    "        if j >= cnt(i):\n",
    "            dp[j] = min(dp[j], dp[j - cnt(i)] + 1)\n",
    "ans[1] = dp[-1]\n",
    "\n",
    "print(*ans)"
   ]
  },
  {
   "cell_type": "markdown",
   "metadata": {},
   "source": [
    "# Differential Pulse Code Modulation\n",
    "\n",
    "http://judge.u-aizu.ac.jp/onlinejudge/description.jsp?id=2199&lang=jp"
   ]
  },
  {
   "cell_type": "code",
   "execution_count": 8,
   "metadata": {},
   "outputs": [
    {
     "name": "stdout",
     "output_type": "stream",
     "text": [
      "2\n"
     ]
    }
   ],
   "source": [
    "N, M = 2, 7\n",
    "C = [4, 2, 1, 0, -1, -2, -4]\n",
    "X = [131, 137]\n",
    "\n",
    "print(2)"
   ]
  },
  {
   "cell_type": "code",
   "execution_count": 14,
   "metadata": {},
   "outputs": [
    {
     "name": "stdout",
     "output_type": "stream",
     "text": [
      "2\n"
     ]
    }
   ],
   "source": [
    "dp = [[float(\"inf\")] * 256 for _ in range(N + 1)]\n",
    "dp[0][128] = 0\n",
    "for i in range(N):\n",
    "    for j in range(256):\n",
    "        if dp[i][j] == float(\"inf\"):\n",
    "            continue\n",
    "\n",
    "        for c in C:\n",
    "            num = min(max(j + c, 0), 255)\n",
    "            dp[i + 1][num] = min(dp[i + 1][num], dp[i][j] + (X[i] - num) ** 2)\n",
    "\n",
    "print(min(dp[-1]))"
   ]
  },
  {
   "cell_type": "code",
   "execution_count": null,
   "metadata": {},
   "outputs": [],
   "source": []
  }
 ],
 "metadata": {
  "kernelspec": {
   "display_name": "Python 3",
   "language": "python",
   "name": "python3"
  },
  "language_info": {
   "codemirror_mode": {
    "name": "ipython",
    "version": 3
   },
   "file_extension": ".py",
   "mimetype": "text/x-python",
   "name": "python",
   "nbconvert_exporter": "python",
   "pygments_lexer": "ipython3",
   "version": "3.7.3"
  }
 },
 "nbformat": 4,
 "nbformat_minor": 4
}
