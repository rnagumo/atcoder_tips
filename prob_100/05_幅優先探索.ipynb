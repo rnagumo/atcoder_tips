{
 "cells": [
  {
   "cell_type": "markdown",
   "metadata": {},
   "source": [
    "# ALDS1 11 - C\n",
    "\n",
    "重み無しグラフの最短経路問題は，幅優先探索で解ける．\n",
    "\n",
    "http://judge.u-aizu.ac.jp/onlinejudge/description.jsp?id=ALDS1_11_C&lang=ja"
   ]
  },
  {
   "cell_type": "code",
   "execution_count": 11,
   "metadata": {},
   "outputs": [],
   "source": [
    "N = 4\n",
    "edges = [[2, 4], [4], [], [3]]"
   ]
  },
  {
   "cell_type": "code",
   "execution_count": 12,
   "metadata": {},
   "outputs": [
    {
     "name": "stdout",
     "output_type": "stream",
     "text": [
      "1 0\n",
      "2 1\n",
      "3 2\n",
      "4 1\n"
     ]
    }
   ],
   "source": [
    "from collections import deque\n",
    "\n",
    "visited = [False] * N\n",
    "dist = [-1] * N\n",
    "\n",
    "visited[0] = True\n",
    "dist[0] = 0\n",
    "q = deque([0])\n",
    "while q:\n",
    "    u = q.popleft()\n",
    "    for v in edges[u]:\n",
    "        v -= 1\n",
    "        if visited[v]:\n",
    "            continue\n",
    "            \n",
    "        visited[v] = True\n",
    "        dist[v] = dist[u] + 1\n",
    "        q.append(v)\n",
    "        \n",
    "for i, v in enumerate(dist):\n",
    "    print(i + 1, v)"
   ]
  },
  {
   "cell_type": "markdown",
   "metadata": {},
   "source": [
    "# ABC 7 - C\n",
    "\n",
    "https://atcoder.jp/contests/abc007/tasks/abc007_3"
   ]
  },
  {
   "cell_type": "code",
   "execution_count": 11,
   "metadata": {},
   "outputs": [
    {
     "name": "stdout",
     "output_type": "stream",
     "text": [
      "11\n"
     ]
    }
   ],
   "source": [
    "R, C = 7, 8\n",
    "sx, sy = 2, 2\n",
    "gx, gy = 4, 5\n",
    "X = ['########', '#......#', '#.######', '#..#...#',\n",
    "     '#..##..#', '##.....#', '########']\n",
    "\n",
    "print(11)"
   ]
  },
  {
   "cell_type": "code",
   "execution_count": 24,
   "metadata": {},
   "outputs": [
    {
     "name": "stdout",
     "output_type": "stream",
     "text": [
      "11\n"
     ]
    }
   ],
   "source": [
    "from collections import deque\n",
    "\n",
    "dist = [[-1] * C for _ in range(R)]\n",
    "dist[sx - 1][sy - 1] = 0\n",
    "q = deque([(sx - 1, sy - 1, 0)])\n",
    "while q:\n",
    "    u, v, c = q.popleft()\n",
    "    for i, j in [(-1, 0), (1, 0), (0, 1), (0, -1)]:\n",
    "        if not (0 <= u + i < R and 0 <= v + j < C):\n",
    "            continue\n",
    "        \n",
    "        if dist[u + i][v + j] >= 0 or X[u + i][v + j] == \"#\":\n",
    "            continue\n",
    "            \n",
    "        dist[u + i][v + j] = c + 1\n",
    "        q.append((u + i, v + j, c + 1))\n",
    "\n",
    "print(dist[gx - 1][gy - 1])"
   ]
  },
  {
   "cell_type": "markdown",
   "metadata": {},
   "source": [
    "#### dequeの中に距離情報を入れなくても動く．"
   ]
  },
  {
   "cell_type": "code",
   "execution_count": 26,
   "metadata": {},
   "outputs": [
    {
     "name": "stdout",
     "output_type": "stream",
     "text": [
      "11\n"
     ]
    }
   ],
   "source": [
    "from collections import deque\n",
    "\n",
    "dist = [[-1] * C for _ in range(R)]\n",
    "dist[sx - 1][sy - 1] = 0\n",
    "q = deque([(sx - 1, sy - 1)])\n",
    "while q:\n",
    "    u, v = q.popleft()\n",
    "    for i, j in [(-1, 0), (1, 0), (0, 1), (0, -1)]:\n",
    "        if not (0 <= u + i < R and 0 <= v + j < C):\n",
    "            continue\n",
    "        \n",
    "        if dist[u + i][v + j] >= 0 or X[u + i][v + j] == \"#\":\n",
    "            continue\n",
    "            \n",
    "        dist[u + i][v + j] = dist[u][v] + 1\n",
    "        q.append((u + i, v + j))\n",
    "\n",
    "print(dist[gx - 1][gy - 1])"
   ]
  },
  {
   "cell_type": "markdown",
   "metadata": {},
   "source": [
    "# JOI 2011 yo - E\n",
    "\n",
    "https://atcoder.jp/contests/joi2011yo/tasks/joi2011yo_e"
   ]
  },
  {
   "cell_type": "code",
   "execution_count": 5,
   "metadata": {},
   "outputs": [
    {
     "name": "stdout",
     "output_type": "stream",
     "text": [
      "4\n"
     ]
    }
   ],
   "source": [
    "H, W, N = 3, 3, 1\n",
    "X = ['S..', '...', '..1']\n",
    "\n",
    "print(4)"
   ]
  },
  {
   "cell_type": "code",
   "execution_count": 6,
   "metadata": {},
   "outputs": [],
   "source": [
    "for i, s in enumerate(X):\n",
    "    j = s.find(\"S\")\n",
    "    if j >= 0:\n",
    "        start = (i, j)"
   ]
  },
  {
   "cell_type": "code",
   "execution_count": 9,
   "metadata": {},
   "outputs": [
    {
     "name": "stdout",
     "output_type": "stream",
     "text": [
      "4\n"
     ]
    }
   ],
   "source": [
    "from collections import deque\n",
    "\n",
    "visited = [[False] * W for _ in range(H)]\n",
    "cur = 1\n",
    "q = deque([(*start, 0)])\n",
    "while q:\n",
    "    u, v, c = q.popleft()\n",
    "\n",
    "    if X[u][v] == str(cur):\n",
    "        if cur == N:\n",
    "            res = c\n",
    "            \n",
    "        cur += 1\n",
    "        visited = [[False] * W for _ in range(H)]\n",
    "        q = deque([(u, v, c)])\n",
    "    \n",
    "    for i, j in [(-1, 0), (1, 0), (0, 1), (0, -1)]:\n",
    "        if (not (0 <= u + i < H and 0 <= v + j < W)\n",
    "                or visited[u + i][v + j]\n",
    "                or X[u + i][v + j] == \"X\"):\n",
    "            continue\n",
    "\n",
    "        visited[u + i][v + j] = True\n",
    "        q.append((u + i, v + j, c + 1))\n",
    "                \n",
    "print(res)"
   ]
  },
  {
   "cell_type": "markdown",
   "metadata": {},
   "source": [
    "# JOI 2012 yo - E\n",
    "\n",
    "https://atcoder.jp/contests/joi2012yo/tasks/joi2012yo_e"
   ]
  },
  {
   "cell_type": "code",
   "execution_count": 12,
   "metadata": {},
   "outputs": [
    {
     "name": "stdout",
     "output_type": "stream",
     "text": [
      "64\n"
     ]
    }
   ],
   "source": [
    "W, H = 8, 4\n",
    "X = [[0, 0, 0, 0, 0, 0, 0, 0, 0, 0, 0, 0],\n",
    "     [0, 0, 0, 0, 0, 0, 0, 0, 0, 0, 0, 0],\n",
    "     [0, 0, 0, 1, 0, 1, 0, 1, 1, 1, 0, 0],\n",
    "     [0, 0, 0, 1, 1, 0, 0, 1, 0, 0, 0, 0],\n",
    "     [0, 0, 1, 0, 1, 0, 1, 1, 1, 1, 0, 0],\n",
    "     [0, 0, 0, 1, 1, 0, 1, 0, 1, 0, 0, 0],\n",
    "     [0, 0, 0, 0, 0, 0, 0, 0, 0, 0, 0, 0],\n",
    "     [0, 0, 0, 0, 0, 0, 0, 0, 0, 0, 0, 0]]\n",
    "\n",
    "print(64)"
   ]
  },
  {
   "cell_type": "markdown",
   "metadata": {},
   "source": [
    "#### 建物ではない領域の幅優先探索"
   ]
  },
  {
   "cell_type": "code",
   "execution_count": 15,
   "metadata": {},
   "outputs": [
    {
     "name": "stdout",
     "output_type": "stream",
     "text": [
      "64\n"
     ]
    }
   ],
   "source": [
    "from collections import deque\n",
    "\n",
    "offset = [[(-1, 0), (-1, 1), (0, -1), (0, 1), (1, 0), (1, 1)],\n",
    "          [(-1, -1), (-1, 0), (0, -1), (0, 1), (1, -1), (1, 0)]]\n",
    "visited = [[False] * (W + 4) for _ in range(H + 4)]\n",
    "visited[0][0] = True\n",
    "q = deque([(0, 0)])\n",
    "\n",
    "ans = 0\n",
    "while q:\n",
    "    u, v = q.popleft()\n",
    "    for i, j in offset[u % 2]:\n",
    "        if not (0 <= u + i < H + 4 and 0 <= v + j < W + 4):\n",
    "            continue\n",
    "\n",
    "        if X[u + i][v + j]:\n",
    "            ans += 1\n",
    "        elif not visited[u + i][v + j]:\n",
    "            visited[u + i][v + j] = True\n",
    "            q.append((u + i, v + j))\n",
    "\n",
    "print(ans)"
   ]
  },
  {
   "cell_type": "markdown",
   "metadata": {},
   "source": [
    "# AOJ 1166\n",
    "\n",
    "http://judge.u-aizu.ac.jp/onlinejudge/description.jsp?id=1166&lang=jp"
   ]
  },
  {
   "cell_type": "code",
   "execution_count": 104,
   "metadata": {},
   "outputs": [
    {
     "name": "stdout",
     "output_type": "stream",
     "text": [
      "4\n"
     ]
    }
   ],
   "source": [
    "W, H = 2, 3\n",
    "X = [[1, 1], [1, 1, 1], [0, 1], [1, 0, 1], [1, 0], [1, 1, 1], [1, 1]]\n",
    "\n",
    "print(4)"
   ]
  },
  {
   "cell_type": "code",
   "execution_count": 99,
   "metadata": {},
   "outputs": [
    {
     "name": "stdout",
     "output_type": "stream",
     "text": [
      "20\n"
     ]
    }
   ],
   "source": [
    "W, H = 12, 5\n",
    "X = [[1, 1, 1, 1, 1, 1, 1, 1, 1, 1, 1, 1],\n",
    "     [1, 1, 0, 0, 0, 0, 0, 0, 0, 0, 0, 0, 1],\n",
    "     [0, 0, 0, 1, 1, 0, 0, 0, 0, 0, 0, 0],\n",
    "     [1, 1, 0, 1, 0, 0, 0, 0, 0, 0, 0, 0, 1],\n",
    "     [0, 0, 0, 0, 0, 0, 1, 1, 0, 0, 0, 0],\n",
    "     [1, 0, 0, 1, 0, 0, 1, 0, 1, 0, 0, 0, 1],\n",
    "     [0, 0, 0, 1, 1, 0, 1, 1, 0, 1, 1, 0],\n",
    "     [1, 0, 0, 0, 0, 0, 1, 0, 0, 1, 0, 0, 1],\n",
    "     [0, 0, 0, 0, 0, 0, 0, 0, 0, 0, 0, 0],\n",
    "     [1, 0, 0, 0, 0, 0, 0, 0, 0, 1, 0, 0, 1],\n",
    "     [1, 1, 1, 1, 1, 1, 1, 1, 1, 1, 1, 1]]\n",
    "\n",
    "print(20)"
   ]
  },
  {
   "cell_type": "code",
   "execution_count": 55,
   "metadata": {},
   "outputs": [],
   "source": [
    "from collections import deque"
   ]
  },
  {
   "cell_type": "code",
   "execution_count": 105,
   "metadata": {},
   "outputs": [
    {
     "name": "stdout",
     "output_type": "stream",
     "text": [
      "4\n"
     ]
    }
   ],
   "source": [
    "dist = [[0] * (W) for _ in range(H)]\n",
    "dist[0][0] = 1\n",
    "q = deque([(0, 0)])\n",
    "\n",
    "while q:\n",
    "    u, v = q.popleft()\n",
    "    for i, j in [(-1, 0), (1, 0), (0, -1), (0, 1)]:\n",
    "        if not (0 <= u + i < H and 0 <= v + j < W):\n",
    "            continue\n",
    "\n",
    "        if j == 0 and X[2 * u + 1 + i][v] == 0 and dist[u + i][v] == 0:\n",
    "            dist[u + i][v] = dist[u][v] + 1\n",
    "            q.append((u + i, v))\n",
    "\n",
    "        if i == 0 and X[2 * u + 1][v + int(j > 0)] == 0 and dist[u][v + int(j > 0)] == 0:\n",
    "            dist[u][v + j] = dist[u][v] + 1\n",
    "            q.append((u, v + j))\n",
    "            \n",
    "print(dist[-1][-1])"
   ]
  },
  {
   "cell_type": "markdown",
   "metadata": {},
   "source": [
    "# ABC 88 - D\n",
    "\n",
    "https://atcoder.jp/contests/abc088/tasks/abc088_d"
   ]
  },
  {
   "cell_type": "code",
   "execution_count": 110,
   "metadata": {},
   "outputs": [
    {
     "name": "stdout",
     "output_type": "stream",
     "text": [
      "2\n"
     ]
    }
   ],
   "source": [
    "H, W = 3, 3\n",
    "X = ['..#', '#..', '...']\n",
    "\n",
    "print(2)"
   ]
  },
  {
   "cell_type": "code",
   "execution_count": 107,
   "metadata": {},
   "outputs": [],
   "source": [
    "from collections import deque"
   ]
  },
  {
   "cell_type": "code",
   "execution_count": 115,
   "metadata": {},
   "outputs": [
    {
     "name": "stdout",
     "output_type": "stream",
     "text": [
      "2\n"
     ]
    }
   ],
   "source": [
    "dist = [[0] * W for _ in range(H)]\n",
    "dist[0][0] = 1\n",
    "q = deque([(0, 0)])\n",
    "\n",
    "while q:\n",
    "    u, v = q.popleft()\n",
    "    for i, j in [(-1, 0), (1, 0), (0, -1), (0, 1)]:\n",
    "        if (not (0 <= u + i < H and 0 <= v + j < W)\n",
    "                or X[u + i][v + j] == \"#\"\n",
    "                or dist[u + i][v + j] > 0):\n",
    "            continue\n",
    "            \n",
    "        dist[u + i][v + j] = dist[u][v] + 1\n",
    "        q.append((u + i, v + j))\n",
    "\n",
    "if dist[-1][-1] > 0:\n",
    "    print(W * H - dist[-1][-1] - sum(s.count(\"#\") for s in X))\n",
    "else:\n",
    "    print(-1)"
   ]
  },
  {
   "cell_type": "code",
   "execution_count": null,
   "metadata": {},
   "outputs": [],
   "source": []
  },
  {
   "cell_type": "code",
   "execution_count": null,
   "metadata": {},
   "outputs": [],
   "source": []
  }
 ],
 "metadata": {
  "kernelspec": {
   "display_name": "Python 3",
   "language": "python",
   "name": "python3"
  },
  "language_info": {
   "codemirror_mode": {
    "name": "ipython",
    "version": 3
   },
   "file_extension": ".py",
   "mimetype": "text/x-python",
   "name": "python",
   "nbconvert_exporter": "python",
   "pygments_lexer": "ipython3",
   "version": "3.7.3"
  }
 },
 "nbformat": 4,
 "nbformat_minor": 4
}
