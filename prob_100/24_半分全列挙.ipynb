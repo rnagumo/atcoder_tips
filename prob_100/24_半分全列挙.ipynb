{
 "cells": [
  {
   "cell_type": "markdown",
   "metadata": {},
   "source": [
    "# Coin Combination Problem II \n",
    "\n",
    "http://judge.u-aizu.ac.jp/onlinejudge/description.jsp?id=DPL_4_B&lang=ja"
   ]
  },
  {
   "cell_type": "code",
   "execution_count": 1,
   "metadata": {},
   "outputs": [
    {
     "name": "stdout",
     "output_type": "stream",
     "text": [
      "1\n"
     ]
    }
   ],
   "source": [
    "N, K, L, R = 2, 2, 1, 9\n",
    "A = [5, 1]\n",
    "\n",
    "print(1)"
   ]
  },
  {
   "cell_type": "code",
   "execution_count": 5,
   "metadata": {},
   "outputs": [
    {
     "name": "stdout",
     "output_type": "stream",
     "text": [
      "5\n"
     ]
    }
   ],
   "source": [
    "N, K, L, R = 5, 2, 7, 19\n",
    "A = [3, 5, 4, 2, 2]\n",
    "\n",
    "print(5)"
   ]
  },
  {
   "cell_type": "code",
   "execution_count": 6,
   "metadata": {},
   "outputs": [],
   "source": [
    "def solve(s, t):\n",
    "    x = []\n",
    "    z = t - s\n",
    "    for bit in range(1 << z):\n",
    "        p = [0, 0]\n",
    "        for j in range(z):\n",
    "            if bit >> j & 1:\n",
    "                p[0] += 1\n",
    "                p[1] += A[s + j]\n",
    "\n",
    "        x.append(p)\n",
    "    return x"
   ]
  },
  {
   "cell_type": "code",
   "execution_count": 7,
   "metadata": {},
   "outputs": [],
   "source": [
    "from bisect import bisect_left, bisect_right"
   ]
  },
  {
   "cell_type": "code",
   "execution_count": 8,
   "metadata": {},
   "outputs": [
    {
     "name": "stdout",
     "output_type": "stream",
     "text": [
      "5\n"
     ]
    }
   ],
   "source": [
    "x = solve(0, N // 2)\n",
    "y = solve(N // 2, N)\n",
    "y.sort()\n",
    "\n",
    "ans = 0\n",
    "for i in range(len(x)):\n",
    "    ub = bisect_right(y, [K - x[i][0], R - x[i][1]])\n",
    "    lb = bisect_left(y, [K - x[i][0], L - x[i][1]])\n",
    "    ans += ub - lb\n",
    "print(ans)"
   ]
  },
  {
   "cell_type": "markdown",
   "metadata": {},
   "source": [
    "# code thanks 2017 - G\n",
    "\n",
    "https://atcoder.jp/contests/code-thanks-festival-2017-open/tasks/code_thanks_festival_2017_g\n",
    "\n",
    "解答例) https://atcoder.jp/contests/code-thanks-festival-2017-open/submissions/3723240"
   ]
  },
  {
   "cell_type": "code",
   "execution_count": 28,
   "metadata": {},
   "outputs": [
    {
     "name": "stdout",
     "output_type": "stream",
     "text": [
      "3\n"
     ]
    }
   ],
   "source": [
    "N, M = 4, 1\n",
    "X = [[1, 2]]\n",
    "\n",
    "print(3)"
   ]
  },
  {
   "cell_type": "code",
   "execution_count": 8,
   "metadata": {},
   "outputs": [
    {
     "name": "stdout",
     "output_type": "stream",
     "text": [
      "1\n"
     ]
    }
   ],
   "source": [
    "N, M = 1, 0\n",
    "X = []\n",
    "\n",
    "print(1)"
   ]
  },
  {
   "cell_type": "code",
   "execution_count": 15,
   "metadata": {},
   "outputs": [
    {
     "name": "stdout",
     "output_type": "stream",
     "text": [
      "12\n"
     ]
    }
   ],
   "source": [
    "N, M = 20, 16\n",
    "X = [[1, 8], [1, 16], [2, 19], [3, 5], [3, 10],\n",
    "     [5, 7], [5, 13], [6, 9], [7, 8], [7, 11],\n",
    "     [7, 14], [7, 15], [8, 12], [9, 12], [9, 17],\n",
    "     [15, 20]]\n",
    "\n",
    "print(12)"
   ]
  },
  {
   "cell_type": "code",
   "execution_count": 29,
   "metadata": {},
   "outputs": [],
   "source": [
    "n = N // 2\n",
    "m = N - N // 2\n",
    "\n",
    "v1 = 1 << n\n",
    "v2 = 1 << m\n",
    "\n",
    "graph = [[] for _ in range(N)]\n",
    "for a, b in X:\n",
    "    graph[a - 1].append(b - 1)"
   ]
  },
  {
   "cell_type": "code",
   "execution_count": 30,
   "metadata": {},
   "outputs": [],
   "source": [
    "# S1が独立集合であるかの判定\n",
    "dp0 = [True] * v1\n",
    "for i in range(n):\n",
    "    for j in graph[i]:\n",
    "        if j < n:\n",
    "            dp0[1 << i | 1 << j] = False\n",
    "\n",
    "for bit in range(v1):\n",
    "    for i in range(n):\n",
    "        dp0[bit | 1 << i] &= dp0[bit]"
   ]
  },
  {
   "cell_type": "code",
   "execution_count": 39,
   "metadata": {},
   "outputs": [],
   "source": [
    "# S2が独立集合であるかの判定\n",
    "dp1 = [True] * v2\n",
    "for i in range(n, n + m):\n",
    "    for j in graph[i]:\n",
    "        if j >= n:\n",
    "            dp1[1 << (i - n) | 1 << (j - n)] = False\n",
    "            \n",
    "for bit in range(v2):\n",
    "    for i in range(m):\n",
    "        dp1[bit | 1 << i] &= dp1[bit]"
   ]
  },
  {
   "cell_type": "code",
   "execution_count": 40,
   "metadata": {},
   "outputs": [],
   "source": [
    "# S1の頂点と辺で結ばれていないV2の頂点集合\n",
    "dp2 = [v2 - 1] * v1\n",
    "for i in range(n):\n",
    "    for j in graph[i]:\n",
    "        if j >= n:\n",
    "            dp2[1 << i] ^= 1 << (j - n)\n",
    "\n",
    "for bit in range(v1):\n",
    "    for i in range(n):\n",
    "        dp2[bit | 1 << i] = dp2[bit] & dp2[1 << i]"
   ]
  },
  {
   "cell_type": "code",
   "execution_count": 41,
   "metadata": {},
   "outputs": [],
   "source": [
    "# V2の部分集合S2のサイズ\n",
    "dp3 = [0] * v2\n",
    "for i in range(v2):\n",
    "    if dp1[i]:\n",
    "        dp3[i] = bin(i).count(\"1\")\n",
    "\n",
    "for bit in range(v2):\n",
    "    for i in range(m):\n",
    "        dp3[bit | 1 << i] = max(dp3[bit | 1 << i], dp3[bit])"
   ]
  },
  {
   "cell_type": "code",
   "execution_count": 42,
   "metadata": {},
   "outputs": [
    {
     "name": "stdout",
     "output_type": "stream",
     "text": [
      "3\n"
     ]
    }
   ],
   "source": [
    "# 独立集合S1と結ばれた部分集合S2について，S1とS2のサイズの和\n",
    "ans = 0\n",
    "for i in range(v1):\n",
    "    if dp0[i]:\n",
    "        ans = max(ans, bin(i).count(\"1\") + dp3[dp2[i]])\n",
    "print(ans)"
   ]
  },
  {
   "cell_type": "code",
   "execution_count": null,
   "metadata": {},
   "outputs": [],
   "source": []
  }
 ],
 "metadata": {
  "kernelspec": {
   "display_name": "Python 3",
   "language": "python",
   "name": "python3"
  },
  "language_info": {
   "codemirror_mode": {
    "name": "ipython",
    "version": 3
   },
   "file_extension": ".py",
   "mimetype": "text/x-python",
   "name": "python",
   "nbconvert_exporter": "python",
   "pygments_lexer": "ipython3",
   "version": "3.7.3"
  }
 },
 "nbformat": 4,
 "nbformat_minor": 4
}
