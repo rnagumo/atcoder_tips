{
 "cells": [
  {
   "cell_type": "markdown",
   "metadata": {},
   "source": [
    "# ALDS1-10-A: Fibonacci Number\n",
    "\n",
    "http://judge.u-aizu.ac.jp/onlinejudge/description.jsp?id=ALDS1_10_A&lang=ja"
   ]
  },
  {
   "cell_type": "code",
   "execution_count": 2,
   "metadata": {},
   "outputs": [
    {
     "name": "stdout",
     "output_type": "stream",
     "text": [
      "3\n"
     ]
    }
   ],
   "source": [
    "N = 3\n",
    "\n",
    "print(3)"
   ]
  },
  {
   "cell_type": "code",
   "execution_count": 3,
   "metadata": {},
   "outputs": [
    {
     "name": "stdout",
     "output_type": "stream",
     "text": [
      "3\n"
     ]
    }
   ],
   "source": [
    "fib = [1] * (N + 1)\n",
    "for i in range(2, N + 1):\n",
    "    fib[i] = fib[i - 1] + fib[i - 2]\n",
    "    \n",
    "print(fib[-1])"
   ]
  },
  {
   "cell_type": "markdown",
   "metadata": {},
   "source": [
    "# DPL 1 B - 0-1 Knapsack Problem\n",
    "\n",
    "http://judge.u-aizu.ac.jp/onlinejudge/description.jsp?id=DPL_1_B&lang=ja"
   ]
  },
  {
   "cell_type": "code",
   "execution_count": 21,
   "metadata": {},
   "outputs": [
    {
     "name": "stdout",
     "output_type": "stream",
     "text": [
      "13\n"
     ]
    }
   ],
   "source": [
    "N, W = 4, 5\n",
    "X = [[4, 2], [5, 2], [2, 1], [8, 3]]\n",
    "\n",
    "print(13)"
   ]
  },
  {
   "cell_type": "markdown",
   "metadata": {},
   "source": [
    "#### 解法1"
   ]
  },
  {
   "cell_type": "code",
   "execution_count": 22,
   "metadata": {},
   "outputs": [
    {
     "name": "stdout",
     "output_type": "stream",
     "text": [
      "13\n"
     ]
    }
   ],
   "source": [
    "dp = [[0] * (W + 1) for _ in range(N + 1)]\n",
    "for i in range(N):\n",
    "    for j in range(W + 1):\n",
    "        dp[i + 1][j] = max(dp[i + 1][j], dp[i][j])\n",
    "        if j + X[i][1] <= W:\n",
    "            dp[i + 1][j + X[i][1]] = max(dp[i][j + X[i][1]], dp[i][j] + X[i][0])\n",
    "            \n",
    "print(dp[-1][-1])"
   ]
  },
  {
   "cell_type": "markdown",
   "metadata": {},
   "source": [
    "#### 解法2"
   ]
  },
  {
   "cell_type": "code",
   "execution_count": 23,
   "metadata": {},
   "outputs": [
    {
     "name": "stdout",
     "output_type": "stream",
     "text": [
      "13\n"
     ]
    }
   ],
   "source": [
    "dp = [[0] * (W + 1) for _ in range(N + 1)]\n",
    "for i in range(N):\n",
    "    for j in range(W + 1):\n",
    "        if j < X[i][1]:\n",
    "            dp[i + 1][j] = dp[i][j]\n",
    "        else:\n",
    "            dp[i + 1][j] = max(dp[i][j], dp[i][j - X[i][1]] + X[i][0])\n",
    "            \n",
    "print(dp[-1][-1])"
   ]
  },
  {
   "cell_type": "markdown",
   "metadata": {},
   "source": [
    "# DPL 1 C - Knapsack Problem\n",
    "\n",
    "http://judge.u-aizu.ac.jp/onlinejudge/description.jsp?id=DPL_1_C&lang=ja"
   ]
  },
  {
   "cell_type": "code",
   "execution_count": 24,
   "metadata": {},
   "outputs": [
    {
     "name": "stdout",
     "output_type": "stream",
     "text": [
      "21\n"
     ]
    }
   ],
   "source": [
    "N, W = 4, 8\n",
    "X = [[4, 2], [5, 2], [2, 1], [8, 3]]\n",
    "\n",
    "print(21)"
   ]
  },
  {
   "cell_type": "code",
   "execution_count": 31,
   "metadata": {},
   "outputs": [
    {
     "name": "stdout",
     "output_type": "stream",
     "text": [
      "21\n"
     ]
    }
   ],
   "source": [
    "dp = [[0] * (W + 1) for _ in range(N + 1)]\n",
    "\n",
    "for i in range(N):\n",
    "    for j in range(W + 1):\n",
    "        if j < X[i][1]:\n",
    "            dp[i + 1][j] = dp[i][j]\n",
    "        else:\n",
    "            dp[i + 1][j] = max(dp[i][j], dp[i + 1][j - X[i][1]] + X[i][0])\n",
    "            \n",
    "print(dp[-1][-1])"
   ]
  },
  {
   "cell_type": "markdown",
   "metadata": {},
   "source": [
    "# DPL 1 A - Coin Changing Problem\n",
    "\n",
    "http://judge.u-aizu.ac.jp/onlinejudge/description.jsp?id=DPL_1_A&lang=ja"
   ]
  },
  {
   "cell_type": "code",
   "execution_count": 33,
   "metadata": {},
   "outputs": [
    {
     "name": "stdout",
     "output_type": "stream",
     "text": [
      "2\n"
     ]
    }
   ],
   "source": [
    "N, M = 15, 6\n",
    "C = [1, 2, 7, 8, 12, 50]\n",
    "\n",
    "print(2)"
   ]
  },
  {
   "cell_type": "code",
   "execution_count": 42,
   "metadata": {},
   "outputs": [
    {
     "name": "stdout",
     "output_type": "stream",
     "text": [
      "2\n"
     ]
    }
   ],
   "source": [
    "dp = [N + 10] * (N + 1)\n",
    "dp[0] = 0\n",
    "for i in range(M):\n",
    "    for j in range(N + 1):\n",
    "        if j >= C[i]:\n",
    "            dp[j] = min(dp[j], dp[j - C[i]] + 1)\n",
    "            \n",
    "print(dp[-1])"
   ]
  },
  {
   "cell_type": "code",
   "execution_count": 43,
   "metadata": {},
   "outputs": [
    {
     "data": {
      "text/plain": [
       "[0, 1, 1, 2, 2, 3, 3, 1, 1, 2, 2, 3, 1, 2, 2, 2]"
      ]
     },
     "execution_count": 43,
     "metadata": {},
     "output_type": "execute_result"
    }
   ],
   "source": [
    "dp"
   ]
  },
  {
   "cell_type": "markdown",
   "metadata": {},
   "source": [
    "# ALDS1_10_C - Longest Common Subsequence\n",
    "\n",
    "http://judge.u-aizu.ac.jp/onlinejudge/description.jsp?id=ALDS1_10_C&lang=ja"
   ]
  },
  {
   "cell_type": "code",
   "execution_count": 44,
   "metadata": {},
   "outputs": [
    {
     "name": "stdout",
     "output_type": "stream",
     "text": [
      "4\n"
     ]
    }
   ],
   "source": [
    "X = \"abcbdab\"\n",
    "Y = \"bdcaba\"\n",
    "\n",
    "print(4)"
   ]
  },
  {
   "cell_type": "code",
   "execution_count": 48,
   "metadata": {},
   "outputs": [
    {
     "name": "stdout",
     "output_type": "stream",
     "text": [
      "4\n"
     ]
    }
   ],
   "source": [
    "N = len(X)\n",
    "M = len(Y)\n",
    "dp = [[0] * (M + 1) for _ in range(N + 1)]\n",
    "\n",
    "for i in range(N):\n",
    "    for j in range(M):\n",
    "        if X[i] == Y[j]:\n",
    "            dp[i + 1][j + 1] = dp[i][j] + 1\n",
    "        else:\n",
    "            dp[i + 1][j + 1] = max(dp[i][j + 1], dp[i + 1][j])\n",
    "\n",
    "print(dp[-1][-1])"
   ]
  },
  {
   "cell_type": "code",
   "execution_count": null,
   "metadata": {},
   "outputs": [],
   "source": []
  }
 ],
 "metadata": {
  "kernelspec": {
   "display_name": "Python 3",
   "language": "python",
   "name": "python3"
  },
  "language_info": {
   "codemirror_mode": {
    "name": "ipython",
    "version": 3
   },
   "file_extension": ".py",
   "mimetype": "text/x-python",
   "name": "python",
   "nbconvert_exporter": "python",
   "pygments_lexer": "ipython3",
   "version": "3.7.3"
  }
 },
 "nbformat": 4,
 "nbformat_minor": 4
}
