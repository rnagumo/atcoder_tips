{
 "cells": [
  {
   "cell_type": "markdown",
   "metadata": {},
   "source": [
    "# Binary Search\n",
    "\n",
    "http://judge.u-aizu.ac.jp/onlinejudge/description.jsp?id=ALDS1_4_B&lang=ja"
   ]
  },
  {
   "cell_type": "code",
   "execution_count": 1,
   "metadata": {},
   "outputs": [
    {
     "name": "stdout",
     "output_type": "stream",
     "text": [
      "3\n"
     ]
    }
   ],
   "source": [
    "n = 5\n",
    "S = [1, 2, 3, 4, 5]\n",
    "q = 3\n",
    "T = [3, 4, 1]\n",
    "\n",
    "print(3)"
   ]
  },
  {
   "cell_type": "code",
   "execution_count": 2,
   "metadata": {},
   "outputs": [],
   "source": [
    "from bisect import bisect_left"
   ]
  },
  {
   "cell_type": "code",
   "execution_count": 8,
   "metadata": {},
   "outputs": [
    {
     "name": "stdout",
     "output_type": "stream",
     "text": [
      "3\n"
     ]
    }
   ],
   "source": [
    "res = 0\n",
    "for t in T:\n",
    "    res += int(S[bisect_left(S, t)] == t)\n",
    "print(res)"
   ]
  },
  {
   "cell_type": "markdown",
   "metadata": {},
   "source": [
    "# JOI 2009 ho - B\n",
    "\n",
    "https://atcoder.jp/contests/joi2009ho/tasks/joi2009ho_b"
   ]
  },
  {
   "cell_type": "code",
   "execution_count": 9,
   "metadata": {},
   "outputs": [
    {
     "name": "stdout",
     "output_type": "stream",
     "text": [
      "3\n"
     ]
    }
   ],
   "source": [
    "D = 8\n",
    "N = 3\n",
    "M = 2\n",
    "DX = [3, 1]\n",
    "KX = [4, 6]\n",
    "\n",
    "print(3)"
   ]
  },
  {
   "cell_type": "code",
   "execution_count": 10,
   "metadata": {},
   "outputs": [],
   "source": [
    "from bisect import bisect_left"
   ]
  },
  {
   "cell_type": "code",
   "execution_count": 16,
   "metadata": {},
   "outputs": [
    {
     "name": "stdout",
     "output_type": "stream",
     "text": [
      "3\n"
     ]
    }
   ],
   "source": [
    "DXs = [0] + sorted(DX) + [D]\n",
    "res = 0\n",
    "for k in KX:\n",
    "    i = bisect_left(DXs, k)\n",
    "    res += min(abs(k - DXs[i - 1]), abs(DXs[i] - k))\n",
    "print(res)"
   ]
  },
  {
   "cell_type": "markdown",
   "metadata": {},
   "source": [
    "# ABC 77 - C\n",
    "\n",
    "https://atcoder.jp/contests/abc077/tasks/arc084_a"
   ]
  },
  {
   "cell_type": "code",
   "execution_count": 75,
   "metadata": {},
   "outputs": [
    {
     "name": "stdout",
     "output_type": "stream",
     "text": [
      "3\n"
     ]
    }
   ],
   "source": [
    "N = 2\n",
    "A = [1, 5]\n",
    "B = [2, 4]\n",
    "C = [3, 6]\n",
    "\n",
    "print(3)"
   ]
  },
  {
   "cell_type": "code",
   "execution_count": 81,
   "metadata": {},
   "outputs": [
    {
     "name": "stdout",
     "output_type": "stream",
     "text": [
      "87\n"
     ]
    }
   ],
   "source": [
    "N = 6\n",
    "A = [2, 3, 6, 14, 53, 159]\n",
    "B = [6, 9, 58, 79, 84, 323]\n",
    "C = [2, 50, 79, 288, 383, 2643]\n",
    "\n",
    "print(87)"
   ]
  },
  {
   "cell_type": "code",
   "execution_count": 61,
   "metadata": {},
   "outputs": [],
   "source": [
    "from bisect import bisect_right"
   ]
  },
  {
   "cell_type": "code",
   "execution_count": 76,
   "metadata": {},
   "outputs": [
    {
     "name": "stdout",
     "output_type": "stream",
     "text": [
      "3\n"
     ]
    }
   ],
   "source": [
    "cnt = [0] * N\n",
    "for i in range(N):\n",
    "    cnt[i] = N - bisect_right(C, B[i])\n",
    "\n",
    "cumsum = [0] * (N + 1)\n",
    "for i in range(N):\n",
    "    cumsum[i + 1] = cumsum[i] + cnt[N - i - 1]\n",
    "    \n",
    "res = 0\n",
    "for i in range(N):\n",
    "    res += cumsum[N - bisect_right(B, A[i])]\n",
    "print(res)"
   ]
  },
  {
   "cell_type": "code",
   "execution_count": 84,
   "metadata": {},
   "outputs": [
    {
     "name": "stdout",
     "output_type": "stream",
     "text": [
      "87\n"
     ]
    }
   ],
   "source": [
    "from bisect import bisect_left, bisect_right\n",
    "\n",
    "res = 0\n",
    "for b in B:\n",
    "    res += bisect_left(A, b) * (N - bisect_right(C, b))\n",
    "print(res)"
   ]
  },
  {
   "cell_type": "markdown",
   "metadata": {},
   "source": [
    "# ABC 23 - D\n",
    "\n",
    "https://atcoder.jp/contests/abc023/tasks/abc023_d"
   ]
  },
  {
   "cell_type": "code",
   "execution_count": 91,
   "metadata": {},
   "outputs": [
    {
     "name": "stdout",
     "output_type": "stream",
     "text": [
      "23\n"
     ]
    }
   ],
   "source": [
    "N = 4\n",
    "X = [[5, 6], [12, 4], [14, 7], [21, 2]]\n",
    "\n",
    "print(23)"
   ]
  },
  {
   "cell_type": "code",
   "execution_count": 99,
   "metadata": {},
   "outputs": [
    {
     "name": "stdout",
     "output_type": "stream",
     "text": [
      "23\n"
     ]
    }
   ],
   "source": [
    "lb = 0\n",
    "ub = max(h + s * N for h, s in X)\n",
    "\n",
    "while ub - lb > 1:\n",
    "    mid = (lb + ub) // 2\n",
    "    q = sorted((mid - h) // s for h, s in X)\n",
    "    flg = all(x >= t for x, t in zip(q, range(N)))\n",
    "    if flg:\n",
    "        ub = mid\n",
    "    else:\n",
    "        lb = mid\n",
    "\n",
    "print(ub)"
   ]
  },
  {
   "cell_type": "markdown",
   "metadata": {},
   "source": [
    "# ARC 54 - B\n",
    "\n",
    "https://atcoder.jp/contests/arc054/tasks/arc054_b"
   ]
  },
  {
   "cell_type": "code",
   "execution_count": 107,
   "metadata": {},
   "outputs": [
    {
     "name": "stdout",
     "output_type": "stream",
     "text": [
      "2.8708930019\n"
     ]
    }
   ],
   "source": [
    "P = 3.0\n",
    "\n",
    "print(2.8708930019)"
   ]
  },
  {
   "cell_type": "code",
   "execution_count": 112,
   "metadata": {},
   "outputs": [
    {
     "name": "stdout",
     "output_type": "stream",
     "text": [
      "2.8708930019160985\n"
     ]
    }
   ],
   "source": [
    "import math\n",
    "\n",
    "x = -1.5 * math.log2(1.5 / (P * math.log(2)))\n",
    "print(x + P * 2 ** (-x / 1.5) if x > 0 else P)"
   ]
  },
  {
   "cell_type": "code",
   "execution_count": null,
   "metadata": {},
   "outputs": [],
   "source": [
    "lb = 0\n",
    "ub = P\n",
    "\n",
    "while ub - lb > 10 ** -8:\n",
    "    mid = (ub + lb) // 2\n",
    "    "
   ]
  },
  {
   "cell_type": "markdown",
   "metadata": {},
   "source": [
    "# JOI 2008 ho - C\n",
    "\n",
    "https://atcoder.jp/contests/joi2008ho/tasks/joi2008ho_c"
   ]
  },
  {
   "cell_type": "code",
   "execution_count": 146,
   "metadata": {},
   "outputs": [
    {
     "name": "stdout",
     "output_type": "stream",
     "text": [
      "48\n"
     ]
    }
   ],
   "source": [
    "N, M = 4, 50\n",
    "P = [3, 14, 15, 9]\n",
    "\n",
    "print(48)"
   ]
  },
  {
   "cell_type": "code",
   "execution_count": 163,
   "metadata": {},
   "outputs": [
    {
     "name": "stdout",
     "output_type": "stream",
     "text": [
      "20\n"
     ]
    }
   ],
   "source": [
    "N, M = 3, 21\n",
    "P = [16, 11, 2]\n",
    "\n",
    "print(20)"
   ]
  },
  {
   "cell_type": "code",
   "execution_count": 164,
   "metadata": {},
   "outputs": [],
   "source": [
    "P = [0] + P\n",
    "Q = set()\n",
    "for i in range(N + 1):\n",
    "    for j in range(N + 1):\n",
    "        Q.add(P[i] + P[j])\n",
    "        \n",
    "Q = sorted(Q)"
   ]
  },
  {
   "cell_type": "code",
   "execution_count": 165,
   "metadata": {},
   "outputs": [],
   "source": [
    "from bisect import bisect_left"
   ]
  },
  {
   "cell_type": "code",
   "execution_count": 166,
   "metadata": {},
   "outputs": [
    {
     "name": "stdout",
     "output_type": "stream",
     "text": [
      "20\n"
     ]
    }
   ],
   "source": [
    "ans = 0\n",
    "ml = len(Q)\n",
    "for i, q in enumerate(Q):\n",
    "    idx = max(0, bisect_left(Q, M - q) - 1)\n",
    "    if q + Q[idx] <= M:\n",
    "        ans = max(ans, q + Q[idx])\n",
    "print(ans)"
   ]
  },
  {
   "cell_type": "code",
   "execution_count": null,
   "metadata": {},
   "outputs": [],
   "source": []
  }
 ],
 "metadata": {
  "kernelspec": {
   "display_name": "Python 3",
   "language": "python",
   "name": "python3"
  },
  "language_info": {
   "codemirror_mode": {
    "name": "ipython",
    "version": 3
   },
   "file_extension": ".py",
   "mimetype": "text/x-python",
   "name": "python",
   "nbconvert_exporter": "python",
   "pygments_lexer": "ipython3",
   "version": "3.7.3"
  }
 },
 "nbformat": 4,
 "nbformat_minor": 4
}
