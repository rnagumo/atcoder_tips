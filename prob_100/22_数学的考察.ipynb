{
 "cells": [
  {
   "cell_type": "markdown",
   "metadata": {},
   "source": [
    "# ABC 149 - B\n",
    "\n",
    "https://atcoder.jp/contests/abc149/tasks/abc149_b"
   ]
  },
  {
   "cell_type": "code",
   "execution_count": 1,
   "metadata": {},
   "outputs": [
    {
     "name": "stdout",
     "output_type": "stream",
     "text": [
      "0 2\n"
     ]
    }
   ],
   "source": [
    "A, B, K = 2, 3, 3\n",
    "\n",
    "print(0, 2)"
   ]
  },
  {
   "cell_type": "code",
   "execution_count": 2,
   "metadata": {},
   "outputs": [
    {
     "name": "stdout",
     "output_type": "stream",
     "text": [
      "0 2\n"
     ]
    }
   ],
   "source": [
    "x = min(A, K)\n",
    "y = min(B, K - x)\n",
    "print(A - x, B - y)"
   ]
  },
  {
   "cell_type": "markdown",
   "metadata": {},
   "source": [
    "# ABC 139 - D\n",
    "\n",
    "https://atcoder.jp/contests/abc139/tasks/abc139_d"
   ]
  },
  {
   "cell_type": "code",
   "execution_count": 3,
   "metadata": {},
   "outputs": [
    {
     "name": "stdout",
     "output_type": "stream",
     "text": [
      "1\n"
     ]
    }
   ],
   "source": [
    "N = 2\n",
    "\n",
    "print(1)"
   ]
  },
  {
   "cell_type": "code",
   "execution_count": 4,
   "metadata": {},
   "outputs": [
    {
     "name": "stdout",
     "output_type": "stream",
     "text": [
      "1\n"
     ]
    }
   ],
   "source": [
    "print(N * (N - 1) // 2)"
   ]
  },
  {
   "cell_type": "markdown",
   "metadata": {},
   "source": [
    "# ABC 150 - D\n",
    "\n",
    "https://atcoder.jp/contests/abc150/tasks/abc150_d"
   ]
  },
  {
   "cell_type": "code",
   "execution_count": 5,
   "metadata": {},
   "outputs": [
    {
     "name": "stdout",
     "output_type": "stream",
     "text": [
      "2\n"
     ]
    }
   ],
   "source": [
    "N, M = 2, 50\n",
    "A = [6, 10]\n",
    "\n",
    "print(2)"
   ]
  },
  {
   "cell_type": "code",
   "execution_count": 8,
   "metadata": {},
   "outputs": [],
   "source": [
    "from functools import reduce\n",
    "from math import gcd"
   ]
  },
  {
   "cell_type": "code",
   "execution_count": 25,
   "metadata": {},
   "outputs": [
    {
     "name": "stdout",
     "output_type": "stream",
     "text": [
      "2\n"
     ]
    }
   ],
   "source": [
    "def lcm(x, y):\n",
    "    return x * y // gcd(x, y)\n",
    "\n",
    "def sub_by_2(n):\n",
    "    cnt = 0\n",
    "    while n % 2 == 0:\n",
    "        n //= 2\n",
    "        cnt += 1\n",
    "    return cnt\n",
    "\n",
    "lcm_2 = [sub_by_2(n // 2) for n in A]\n",
    "if all(lcm_2[0] == v for v in lcm_2):\n",
    "    num = reduce(lcm, [v // 2 for v in A])\n",
    "    res = M // num\n",
    "    print(res // 2 + res % 2)\n",
    "else:\n",
    "    print(0)"
   ]
  },
  {
   "cell_type": "markdown",
   "metadata": {},
   "source": [
    "# Sumitrust 2019 - E\n",
    "\n",
    "https://atcoder.jp/contests/sumitrust2019/tasks/sumitb2019_e"
   ]
  },
  {
   "cell_type": "code",
   "execution_count": 1,
   "metadata": {},
   "outputs": [
    {
     "name": "stdout",
     "output_type": "stream",
     "text": [
      "3\n"
     ]
    }
   ],
   "source": [
    "N = 6\n",
    "A = [0, 1, 2, 3, 4, 5]\n",
    "\n",
    "print(3)"
   ]
  },
  {
   "cell_type": "code",
   "execution_count": 5,
   "metadata": {},
   "outputs": [
    {
     "name": "stdout",
     "output_type": "stream",
     "text": [
      "3\n"
     ]
    }
   ],
   "source": [
    "MOD = 10 ** 9 + 7\n",
    "ctr = [0] * 3\n",
    "ans = 1\n",
    "for a in A:\n",
    "    ans *= sum(a == v for v in ctr)\n",
    "    for j in range(3):\n",
    "        if ctr[j] == a:\n",
    "            ctr[j] += 1\n",
    "            break\n",
    "\n",
    "print(ans % MOD)"
   ]
  },
  {
   "cell_type": "markdown",
   "metadata": {},
   "source": [
    "# DISCO 2020 - D\n",
    "\n",
    "https://atcoder.jp/contests/ddcc2020-qual/tasks/ddcc2020_qual_d"
   ]
  },
  {
   "cell_type": "code",
   "execution_count": 6,
   "metadata": {},
   "outputs": [
    {
     "name": "stdout",
     "output_type": "stream",
     "text": [
      "3\n"
     ]
    }
   ],
   "source": [
    "M = 2\n",
    "X = [[2, 2], [9, 1]]\n",
    "\n",
    "print(3)"
   ]
  },
  {
   "cell_type": "code",
   "execution_count": 14,
   "metadata": {},
   "outputs": [
    {
     "name": "stdout",
     "output_type": "stream",
     "text": [
      "3\n"
     ]
    }
   ],
   "source": [
    "d = sum(c for _, c in X)\n",
    "s = sum(d * c for d, c in X)\n",
    "print(d - 1 + (s - 1) // 9)"
   ]
  },
  {
   "cell_type": "markdown",
   "metadata": {},
   "source": [
    "# Tenka1 2018 - D\n",
    "\n",
    "https://atcoder.jp/contests/tenka1-2018-beginner/tasks/tenka1_2018_d"
   ]
  },
  {
   "cell_type": "code",
   "execution_count": 30,
   "metadata": {},
   "outputs": [
    {
     "name": "stdout",
     "output_type": "stream",
     "text": [
      "Yes 3\n",
      "2, [1, 2] 2, [3, 1] 2, [2, 3]\n"
     ]
    }
   ],
   "source": [
    "N = 3\n",
    "\n",
    "print(\"Yes 3\")\n",
    "print(\"2, [1, 2]\", \"2, [3, 1]\", \"2, [2, 3]\")"
   ]
  },
  {
   "cell_type": "code",
   "execution_count": 31,
   "metadata": {},
   "outputs": [],
   "source": [
    "def gen_set(k):\n",
    "    s = [[0] * k for _ in range(k + 1)]\n",
    "\n",
    "    for i in range(k + 1):\n",
    "        if i == 0:\n",
    "            s[i][0] = 1\n",
    "            for j in range(1, k):\n",
    "                s[i][j] = s[i][j - 1] + j    \n",
    "        elif 1 <= i < k:\n",
    "            s[i][0] = s[0][i]\n",
    "            for j in range(1, k):\n",
    "                if j <= i:\n",
    "                    # Horizontal\n",
    "                    s[i][j] = s[i][j - 1] + 1\n",
    "                else:\n",
    "                    # Vertical\n",
    "                    s[i][j] = s[i][j - 1] + j\n",
    "        else:\n",
    "            # Diagonal\n",
    "            s[i][0] = s[0][0]\n",
    "            for j in range(1, k):\n",
    "                s[i][j] = s[i][j - 1] + j + 1\n",
    "\n",
    "    return s"
   ]
  },
  {
   "cell_type": "code",
   "execution_count": 32,
   "metadata": {},
   "outputs": [
    {
     "name": "stdout",
     "output_type": "stream",
     "text": [
      "Yes\n",
      "3\n",
      "2 1 2\n",
      "2 2 3\n",
      "2 1 3\n"
     ]
    }
   ],
   "source": [
    "x = 0\n",
    "k = 0\n",
    "while x < N:\n",
    "    k += 1\n",
    "    x += k\n",
    "\n",
    "if x == N:\n",
    "    s = gen_set(k)\n",
    "    print(\"Yes\")\n",
    "    print(k + 1)\n",
    "    for t in s:\n",
    "        print(k, *t)\n",
    "else:\n",
    "    print(\"No\")"
   ]
  },
  {
   "cell_type": "code",
   "execution_count": null,
   "metadata": {},
   "outputs": [],
   "source": []
  }
 ],
 "metadata": {
  "kernelspec": {
   "display_name": "Python 3",
   "language": "python",
   "name": "python3"
  },
  "language_info": {
   "codemirror_mode": {
    "name": "ipython",
    "version": 3
   },
   "file_extension": ".py",
   "mimetype": "text/x-python",
   "name": "python",
   "nbconvert_exporter": "python",
   "pygments_lexer": "ipython3",
   "version": "3.7.3"
  }
 },
 "nbformat": 4,
 "nbformat_minor": 4
}
