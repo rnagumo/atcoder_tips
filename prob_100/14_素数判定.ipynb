{
 "cells": [
  {
   "cell_type": "markdown",
   "metadata": {},
   "source": [
    "# Prime Factorize\n",
    "\n",
    "http://judge.u-aizu.ac.jp/onlinejudge/description.jsp?id=NTL_1_A&lang=ja"
   ]
  },
  {
   "cell_type": "code",
   "execution_count": 1,
   "metadata": {},
   "outputs": [],
   "source": [
    "N = 12"
   ]
  },
  {
   "cell_type": "code",
   "execution_count": 2,
   "metadata": {},
   "outputs": [],
   "source": [
    "from collections import defaultdict\n",
    "\n",
    "def prime_factor(n):\n",
    "    d = defaultdict(int)\n",
    "    for i in range(2, n + 1):\n",
    "        if i * i > n:\n",
    "            break\n",
    "            \n",
    "        while n % i == 0:\n",
    "            d[i] += 1\n",
    "            n //= i\n",
    "            \n",
    "    if n != 1:\n",
    "        d[n] += 1\n",
    "            \n",
    "    return d"
   ]
  },
  {
   "cell_type": "code",
   "execution_count": 11,
   "metadata": {},
   "outputs": [
    {
     "name": "stdout",
     "output_type": "stream",
     "text": [
      "12: 2 2 3\n"
     ]
    }
   ],
   "source": [
    "d = prime_factor(N)\n",
    "ans = f\"{N}:\"\n",
    "for key, v in sorted(d.items()):\n",
    "    ans += \" \" + \" \".join([f\"{key}\"] * v)\n",
    "print(ans)"
   ]
  },
  {
   "cell_type": "markdown",
   "metadata": {},
   "source": [
    "# ABC 84 - D\n",
    "\n",
    "https://atcoder.jp/contests/abc084/tasks/abc084_d"
   ]
  },
  {
   "cell_type": "code",
   "execution_count": 1,
   "metadata": {},
   "outputs": [
    {
     "name": "stdout",
     "output_type": "stream",
     "text": [
      "2\n"
     ]
    }
   ],
   "source": [
    "Q = 1\n",
    "X = [[3, 7]]\n",
    "\n",
    "print(2)"
   ]
  },
  {
   "cell_type": "code",
   "execution_count": 2,
   "metadata": {},
   "outputs": [],
   "source": [
    "def sieve(n):\n",
    "    is_prime = [True] * (n + 1)\n",
    "    is_prime[0] = False\n",
    "    is_prime[1] = False\n",
    "    for i in range(2, n + 1):\n",
    "        if not is_prime[i]:\n",
    "            continue\n",
    "\n",
    "        for j in range(2 * i, n + 1, i):\n",
    "            is_prime[j] = False\n",
    "    return is_prime"
   ]
  },
  {
   "cell_type": "code",
   "execution_count": 7,
   "metadata": {},
   "outputs": [],
   "source": [
    "primes = sieve(10 ** 5)\n",
    "likes = [primes[n] & primes[(n + 1) // 2] if n %  2 != 0 else False\n",
    "         for n in range(10 ** 5)]\n",
    "cumsum = [0] * (10 ** 5 + 1)\n",
    "for i in range(10 ** 5):\n",
    "    cumsum[i + 1] = cumsum[i] + int(likes[i])"
   ]
  },
  {
   "cell_type": "code",
   "execution_count": 8,
   "metadata": {},
   "outputs": [
    {
     "name": "stdout",
     "output_type": "stream",
     "text": [
      "2\n"
     ]
    }
   ],
   "source": [
    "for l, r in X:\n",
    "    print(cumsum[r + 1] - cumsum[l])"
   ]
  },
  {
   "cell_type": "code",
   "execution_count": null,
   "metadata": {},
   "outputs": [],
   "source": []
  }
 ],
 "metadata": {
  "kernelspec": {
   "display_name": "Python 3",
   "language": "python",
   "name": "python3"
  },
  "language_info": {
   "codemirror_mode": {
    "name": "ipython",
    "version": 3
   },
   "file_extension": ".py",
   "mimetype": "text/x-python",
   "name": "python",
   "nbconvert_exporter": "python",
   "pygments_lexer": "ipython3",
   "version": "3.7.3"
  }
 },
 "nbformat": 4,
 "nbformat_minor": 4
}
