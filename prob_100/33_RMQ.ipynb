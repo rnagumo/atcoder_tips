{
 "cells": [
  {
   "cell_type": "markdown",
   "metadata": {},
   "source": [
    "# Range Minimum Query\n",
    "\n",
    "区間の最小値を返すアルゴリズム．\n",
    "\n",
    "その中に，平方分割，Segment tree, Sparse tableなどが含まれる．\n",
    "\n",
    "https://www.slideshare.net/hcpc_hokudai/rmq-47663507"
   ]
  },
  {
   "cell_type": "markdown",
   "metadata": {},
   "source": [
    "# Range Minimum Query (RMQ)\n",
    "\n",
    "http://judge.u-aizu.ac.jp/onlinejudge/description.jsp?id=DSL_2_A&lang=ja"
   ]
  },
  {
   "cell_type": "code",
   "execution_count": 2,
   "metadata": {},
   "outputs": [
    {
     "name": "stdout",
     "output_type": "stream",
     "text": [
      "1 2\n"
     ]
    }
   ],
   "source": [
    "N, Q = 3, 5\n",
    "X = [[0, 0, 1], [0, 1, 2], [0, 2, 3], [1, 0, 2], [1, 1, 2]]\n",
    "\n",
    "print(1, 2)"
   ]
  },
  {
   "cell_type": "code",
   "execution_count": 5,
   "metadata": {},
   "outputs": [],
   "source": [
    "class SegmentTree:\n",
    "    \"\"\"Range Minimum Query\"\"\"\n",
    "    inf = 2 ** 31 - 1\n",
    "    \n",
    "    def __init__(self, n):\n",
    "        \"\"\"0-indexed.\"\"\"\n",
    "        x = 1\n",
    "        while x < n:\n",
    "            x *= 2\n",
    "\n",
    "        self.n = x\n",
    "        self.dat = [self.inf] * (2 * x - 1)\n",
    "        \n",
    "    def update(self, k, v):\n",
    "        \"\"\"Update dat[k] to v.\"\"\"\n",
    "        k += self.n - 1\n",
    "        self.dat[k] = v\n",
    "        while k > 0:\n",
    "            k = (k - 1) // 2\n",
    "            self.dat[k] = min(self.dat[k * 2 + 1], self.dat[k * 2 + 2])\n",
    "            \n",
    "    def query(self, a, b, k=0, l=0, r=0):\n",
    "        \"\"\"Returns min in [a, b).\"\"\"\n",
    "        if l >= r:\n",
    "            r = self.n\n",
    "            \n",
    "        if b <= l or r <= a:\n",
    "            return self.inf\n",
    "        \n",
    "        if a <= l and r <= b:\n",
    "            return self.dat[k]\n",
    "        \n",
    "        vl = self.query(a, b, k * 2 + 1, l, (l + r) // 2)\n",
    "        vr = self.query(a, b, k * 2 + 2, (l + r) // 2, r)\n",
    "        return min(vl, vr)"
   ]
  },
  {
   "cell_type": "code",
   "execution_count": 6,
   "metadata": {},
   "outputs": [
    {
     "name": "stdout",
     "output_type": "stream",
     "text": [
      "1\n",
      "2\n"
     ]
    }
   ],
   "source": [
    "st = SegmentTree(N)\n",
    "for c, x, y in X:\n",
    "    if c == 0:\n",
    "        st.update(x, y)\n",
    "    else:\n",
    "        print(st.query(x, y + 1))"
   ]
  },
  {
   "cell_type": "markdown",
   "metadata": {},
   "source": [
    "# AGC 4 - B\n",
    "\n",
    "https://atcoder.jp/contests/agc004/tasks/agc004_b"
   ]
  },
  {
   "cell_type": "code",
   "execution_count": 18,
   "metadata": {},
   "outputs": [
    {
     "name": "stdout",
     "output_type": "stream",
     "text": [
      "12\n"
     ]
    }
   ],
   "source": [
    "N, X = 2, 10\n",
    "A = [1, 100]\n",
    "\n",
    "print(12)"
   ]
  },
  {
   "cell_type": "code",
   "execution_count": 19,
   "metadata": {},
   "outputs": [],
   "source": [
    "class SegmentTree:\n",
    "    \"\"\"Range Minimum Query\"\"\"\n",
    "    inf = 2 ** 31 - 1\n",
    "    \n",
    "    def __init__(self, n):\n",
    "        \"\"\"0-indexed.\"\"\"\n",
    "        x = 1\n",
    "        while x < n:\n",
    "            x *= 2\n",
    "\n",
    "        self.n = x\n",
    "        self.dat = [self.inf] * (2 * x - 1)\n",
    "        \n",
    "    def update(self, k, v):\n",
    "        \"\"\"Update dat[k] to v.\"\"\"\n",
    "        k += self.n - 1\n",
    "        self.dat[k] = v\n",
    "        while k > 0:\n",
    "            k = (k - 1) // 2\n",
    "            self.dat[k] = min(self.dat[k * 2 + 1], self.dat[k * 2 + 2])\n",
    "            \n",
    "    def query(self, a, b, k=0, l=0, r=0):\n",
    "        \"\"\"Returns min in [a, b).\"\"\"\n",
    "        if l >= r:\n",
    "            r = self.n\n",
    "            \n",
    "        if b <= l or r <= a:\n",
    "            return self.inf\n",
    "        \n",
    "        if a <= l and r <= b:\n",
    "            return self.dat[k]\n",
    "        \n",
    "        vl = self.query(a, b, k * 2 + 1, l, (l + r) // 2)\n",
    "        vr = self.query(a, b, k * 2 + 2, (l + r) // 2, r)\n",
    "        return min(vl, vr)"
   ]
  },
  {
   "cell_type": "code",
   "execution_count": 25,
   "metadata": {},
   "outputs": [
    {
     "name": "stdout",
     "output_type": "stream",
     "text": [
      "12\n"
     ]
    }
   ],
   "source": [
    "st = SegmentTree(N)\n",
    "for i, v in enumerate(A):\n",
    "    st.update(i, v)\n",
    "\n",
    "ans = 10 ** 10\n",
    "for k in range(N):\n",
    "    b = [0] * N\n",
    "    for i in range(N):\n",
    "        if i - k < 0:\n",
    "            b[i] = min(st.query(0, i + 1), st.query(N - (k - i), N))\n",
    "        else:\n",
    "            b[i] = st.query(i - k, i + 1)\n",
    "    ans = min(ans, k * X + sum(b))\n",
    "print(ans)"
   ]
  },
  {
   "cell_type": "markdown",
   "metadata": {},
   "source": [
    "#### 別解"
   ]
  },
  {
   "cell_type": "code",
   "execution_count": 26,
   "metadata": {},
   "outputs": [
    {
     "name": "stdout",
     "output_type": "stream",
     "text": [
      "12\n"
     ]
    }
   ],
   "source": [
    "ans = sum(A)\n",
    "b = A[:]\n",
    "for k in range(1, N):\n",
    "    for i in range(N):\n",
    "        b[i] = min(b[i], A[i - k])\n",
    "    ans = min(ans, k * X + sum(b))\n",
    "print(ans)"
   ]
  },
  {
   "cell_type": "code",
   "execution_count": null,
   "metadata": {},
   "outputs": [],
   "source": []
  },
  {
   "cell_type": "code",
   "execution_count": 1,
   "metadata": {},
   "outputs": [],
   "source": [
    "class LazySegmentTree:\n",
    "    \"\"\"Range Minimum Query and Range Update Query.\"\"\"\n",
    "    inf = 2 ** 31 - 1\n",
    "\n",
    "    def __init__(self, n):\n",
    "        \"\"\"0-indexed.\"\"\"\n",
    "        x = 1\n",
    "        while x < n:\n",
    "            x *= 2\n",
    "        \n",
    "        self.n = x\n",
    "        self.node = [self.inf] * (2 * x - 1)\n",
    "        self.lazy = [self.inf] * (2 * x - 1)\n",
    "        self.flag = [False] * (2 * x - 1)\n",
    "\n",
    "    def update(self, a, b, x, k=0, l=0, r=-1):\n",
    "        \"\"\"Update [a, b) to x\"\"\"\n",
    "        if r < 0:\n",
    "            r = self.n\n",
    "\n",
    "        self.propagate(k, l, r)\n",
    "\n",
    "        if b <= l or r <= a:\n",
    "            return\n",
    "\n",
    "        if a <= l and r <= b:\n",
    "            self.lazy[k] = x\n",
    "            self.flag[k] = True\n",
    "            self.propagate(k, l, r)\n",
    "            return\n",
    "\n",
    "        self.update(a, b, x, k * 2 + 1, l, (l + r) // 2)\n",
    "        self.update(a, b, x, k * 2 + 2, (l + r) // 2, r)\n",
    "        self.node[k] = min(self.node[k * 2 + 1], self.node[k * 2 + 2])\n",
    "            \n",
    "    def query(self, a, b, k=0, l=0, r=-1):\n",
    "        \"\"\"Query min in [a, b)\"\"\"\n",
    "        if r < 0:\n",
    "            r = self.n\n",
    "\n",
    "        self.propagate(k, l, r)\n",
    "\n",
    "        if b <= l or r <= a:\n",
    "            return self.inf\n",
    "\n",
    "        if a <= l and r <= b:\n",
    "            return self.node[k]\n",
    "\n",
    "        vl = self.query(a, b, k * 2 + 1, l, (l + r) // 2)\n",
    "        vr = self.query(a, b, k * 2 + 2, (l + r) // 2, r)\n",
    "        return min(vl, vr)\n",
    "        \n",
    "    def propagate(self, k, l, r):\n",
    "        if not self.flag[k]:\n",
    "            return\n",
    "\n",
    "        self.node[k] = self.lazy[k]\n",
    "        if r - l > 1:\n",
    "            self.lazy[k * 2 + 1] = self.lazy[k]\n",
    "            self.lazy[k * 2 + 2] = self.lazy[k]\n",
    "            self.flag[k * 2 + 1] = True\n",
    "            self.flag[k * 2 + 2] = True\n",
    "        self.flag[k] = False"
   ]
  },
  {
   "cell_type": "code",
   "execution_count": 10,
   "metadata": {},
   "outputs": [],
   "source": [
    "class LazySegmentTree:\n",
    "    \"\"\"Range Sum Query and Range Add Query.\"\"\"\n",
    "    def __init__(self, n):\n",
    "        \"\"\"0-indexed.\"\"\"\n",
    "        x = 1\n",
    "        while x < n:\n",
    "            x *= 2\n",
    "            \n",
    "        self.n = x\n",
    "        self.node = [0] * (2 * x - 1)\n",
    "        self.lazy = [0] * (2 * x - 1)\n",
    "        \n",
    "    def add(self, a, b, x, k=0, l=0, r=-1):\n",
    "        \"\"\"Add x in [a, b).\"\"\"\n",
    "        if r < 0:\n",
    "            r = self.n\n",
    "        \n",
    "        self.propagate(k, l, r)\n",
    "\n",
    "        if b <= l or r <= a:\n",
    "            return\n",
    "        \n",
    "        if a <= l and r <= b:\n",
    "            self.lazy[k] += (r - l) * x\n",
    "            self.propagate(k, l, r)\n",
    "            return\n",
    "        \n",
    "        self.add(a, b, x, 2 * k + 1, l, (l + r) // 2)\n",
    "        self.add(a, b, x, 2 * k + 2, (l + r) // 2, r)\n",
    "        self.node[k] = self.node[2 * k + 1] + self.node[2 * k + 2]\n",
    "\n",
    "    def query(self, a, b, k=0, l=0, r=-1):\n",
    "        \"\"\"Query sum in [a, b)\"\"\"\n",
    "        if r < 0:\n",
    "            r = self.n\n",
    "\n",
    "        self.propagate(k, l, r)\n",
    "\n",
    "        if b <= l or r <= a:\n",
    "            return 0\n",
    "        \n",
    "        if a <= l and r <= b:\n",
    "            return self.node[k]\n",
    "        \n",
    "        vl = self.query(a, b, 2 * k + 1, l, (l + r) // 2)\n",
    "        vr = self.query(a, b, 2 * k + 2, (l + r) // 2, r)\n",
    "        return vl + vr\n",
    "\n",
    "    def propagate(self, k, l, r):\n",
    "        if self.lazy[k] == 0:\n",
    "            return\n",
    "        \n",
    "        self.node[k] += self.lazy[k]\n",
    "        if r - l > 1:\n",
    "            self.lazy[2 * k + 1] += self.lazy[k] // 2\n",
    "            self.lazy[2 * k + 2] += self.lazy[k] // 2\n",
    "        self.lazy[k] = 0"
   ]
  }
 ],
 "metadata": {
  "kernelspec": {
   "display_name": "Python 3",
   "language": "python",
   "name": "python3"
  },
  "language_info": {
   "codemirror_mode": {
    "name": "ipython",
    "version": 3
   },
   "file_extension": ".py",
   "mimetype": "text/x-python",
   "name": "python",
   "nbconvert_exporter": "python",
   "pygments_lexer": "ipython3",
   "version": "3.7.3"
  }
 },
 "nbformat": 4,
 "nbformat_minor": 4
}
