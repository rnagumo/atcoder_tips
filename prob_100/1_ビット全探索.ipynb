{
 "cells": [
  {
   "cell_type": "markdown",
   "metadata": {},
   "source": [
    "# Exhaustive Search\n",
    "\n",
    "http://judge.u-aizu.ac.jp/onlinejudge/description.jsp?id=ALDS1_5_A&lang=ja"
   ]
  },
  {
   "cell_type": "code",
   "execution_count": 1,
   "metadata": {},
   "outputs": [
    {
     "name": "stdout",
     "output_type": "stream",
     "text": [
      "no, no, yes, yes\n"
     ]
    }
   ],
   "source": [
    "N = 5\n",
    "A = [1, 5, 7, 10, 21]\n",
    "Q = 4\n",
    "X = [2, 4, 17, 8]\n",
    "\n",
    "print(\"no, no, yes, yes\")"
   ]
  },
  {
   "cell_type": "code",
   "execution_count": 8,
   "metadata": {},
   "outputs": [
    {
     "name": "stdout",
     "output_type": "stream",
     "text": [
      "no\n",
      "no\n",
      "yes\n",
      "yes\n"
     ]
    }
   ],
   "source": [
    "for x in X:\n",
    "    flg = False\n",
    "    for bit in range(2 ** N):\n",
    "        tmp = 0\n",
    "        for i in range(N):\n",
    "            if bit >> i & 1:\n",
    "                tmp += A[i]\n",
    "                \n",
    "        flg |= tmp == x\n",
    "        \n",
    "    if flg:\n",
    "        print(\"yes\")\n",
    "    else:\n",
    "        print(\"no\")"
   ]
  },
  {
   "cell_type": "markdown",
   "metadata": {},
   "source": [
    "# ABC 128 - C\n",
    "\n",
    "https://atcoder.jp/contests/abc128/tasks/abc128_c"
   ]
  },
  {
   "cell_type": "code",
   "execution_count": 9,
   "metadata": {},
   "outputs": [
    {
     "name": "stdout",
     "output_type": "stream",
     "text": [
      "1\n"
     ]
    }
   ],
   "source": [
    "N, M = 2, 2\n",
    "X = [[2, 1, 2], [1, 2]]\n",
    "P = [0, 1]\n",
    "\n",
    "print(1)"
   ]
  },
  {
   "cell_type": "code",
   "execution_count": 21,
   "metadata": {},
   "outputs": [
    {
     "name": "stdout",
     "output_type": "stream",
     "text": [
      "1\n"
     ]
    }
   ],
   "source": [
    "ans = 0\n",
    "for bit in range(2 ** N):\n",
    "    ons = set([i + 1 for i in range(N) if bit >> i & 1])\n",
    "    flg = True\n",
    "    for i in range(M):\n",
    "        k, *s = X[i]\n",
    "        p = P[i]\n",
    "        flg &= len(set(s) & ons) % 2 == p\n",
    "    ans += int(flg)\n",
    "    \n",
    "print(ans)"
   ]
  },
  {
   "cell_type": "markdown",
   "metadata": {},
   "source": [
    "# ABC 2 - D\n",
    "\n",
    "https://atcoder.jp/contests/abc002/tasks/abc002_4"
   ]
  },
  {
   "cell_type": "code",
   "execution_count": 8,
   "metadata": {},
   "outputs": [
    {
     "name": "stdout",
     "output_type": "stream",
     "text": [
      "3\n"
     ]
    }
   ],
   "source": [
    "N, M = 5, 3\n",
    "X = [[1, 2], [2, 3], [1, 3]]\n",
    "\n",
    "print(3)"
   ]
  },
  {
   "cell_type": "code",
   "execution_count": 9,
   "metadata": {},
   "outputs": [],
   "source": [
    "edges = [[False] * N for _ in range(N)]\n",
    "for u, v in X:\n",
    "    edges[u - 1][v - 1] = True\n",
    "    edges[v - 1][u - 1] = True"
   ]
  },
  {
   "cell_type": "code",
   "execution_count": 10,
   "metadata": {},
   "outputs": [
    {
     "name": "stdout",
     "output_type": "stream",
     "text": [
      "3\n"
     ]
    }
   ],
   "source": [
    "ans = 0\n",
    "for bit in range(2 ** N):\n",
    "\n",
    "    flg = True\n",
    "    for i in range(N):\n",
    "        for j in range(i + 1, N):\n",
    "            if (bit >> i & bit >> j & 1) and not edges[i][j]:\n",
    "                flg = False\n",
    "\n",
    "    if flg:\n",
    "        ans = max(ans, bin(bit).count(\"1\"))\n",
    "\n",
    "print(ans)"
   ]
  },
  {
   "cell_type": "markdown",
   "metadata": {},
   "source": [
    "# JOI2008 yo - E\n",
    "\n",
    "https://atcoder.jp/contests/joi2008yo/tasks/joi2008yo_e"
   ]
  },
  {
   "cell_type": "code",
   "execution_count": 11,
   "metadata": {},
   "outputs": [
    {
     "name": "stdout",
     "output_type": "stream",
     "text": [
      "9\n"
     ]
    }
   ],
   "source": [
    "R, C = 2, 5\n",
    "X = [[0, 1, 0, 1, 0], [1, 0, 0, 0, 1]]\n",
    "\n",
    "print(9)"
   ]
  },
  {
   "cell_type": "code",
   "execution_count": 13,
   "metadata": {},
   "outputs": [
    {
     "name": "stdout",
     "output_type": "stream",
     "text": [
      "9\n"
     ]
    }
   ],
   "source": [
    "res = 0\n",
    "for bit in range(2 ** R):\n",
    "    tmp = []\n",
    "    for i in range(R):\n",
    "        if bit >> i & 1:\n",
    "            tmp.append([1 - v for v in X[i]])\n",
    "        else:\n",
    "            tmp.append(X[i][:])\n",
    "        \n",
    "    cnt = 0\n",
    "    for j in range(C):\n",
    "        vec = [tmp[i][j] for i in range(R)]\n",
    "        cnt += max(sum(vec), R - sum(vec))\n",
    "    res = max(res, cnt)\n",
    "print(res)"
   ]
  },
  {
   "cell_type": "markdown",
   "metadata": {},
   "source": [
    "# square Contest 4 - B\n",
    "\n",
    "https://atcoder.jp/contests/s8pc-4/tasks/s8pc_4_b"
   ]
  },
  {
   "cell_type": "code",
   "execution_count": 24,
   "metadata": {},
   "outputs": [
    {
     "name": "stdout",
     "output_type": "stream",
     "text": [
      "1541\n"
     ]
    }
   ],
   "source": [
    "N, K = 5, 5\n",
    "A = [3949, 3774, 3598, 3469, 3424]\n",
    "\n",
    "print(1541)"
   ]
  },
  {
   "cell_type": "code",
   "execution_count": 30,
   "metadata": {},
   "outputs": [
    {
     "name": "stdout",
     "output_type": "stream",
     "text": [
      "1541\n"
     ]
    }
   ],
   "source": [
    "ans = 10 ** 9 * 20\n",
    "for bit in range(2 ** N):\n",
    "    if bin(bit).count(\"1\") < K:\n",
    "        continue\n",
    "\n",
    "    res = 0\n",
    "    tmp = A[0]\n",
    "    for i in range(1, N):\n",
    "        if bit >> i & 1:\n",
    "            res += max(0, tmp - A[i] + 1)\n",
    "            tmp = max(A[i], tmp + 1)\n",
    "        else:\n",
    "            tmp = max(A[i], tmp)\n",
    "    ans = min(ans, res)\n",
    "\n",
    "print(ans)"
   ]
  },
  {
   "cell_type": "code",
   "execution_count": null,
   "metadata": {},
   "outputs": [],
   "source": []
  }
 ],
 "metadata": {
  "kernelspec": {
   "display_name": "Python 3",
   "language": "python",
   "name": "python3"
  },
  "language_info": {
   "codemirror_mode": {
    "name": "ipython",
    "version": 3
   },
   "file_extension": ".py",
   "mimetype": "text/x-python",
   "name": "python",
   "nbconvert_exporter": "python",
   "pygments_lexer": "ipython3",
   "version": "3.7.3"
  }
 },
 "nbformat": 4,
 "nbformat_minor": 4
}
