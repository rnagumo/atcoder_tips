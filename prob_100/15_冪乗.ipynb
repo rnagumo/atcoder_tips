{
 "cells": [
  {
   "cell_type": "markdown",
   "metadata": {},
   "source": [
    "# $M^N \\pmod p$"
   ]
  },
  {
   "cell_type": "code",
   "execution_count": 1,
   "metadata": {},
   "outputs": [
    {
     "data": {
      "text/plain": [
       "8"
      ]
     },
     "execution_count": 1,
     "metadata": {},
     "output_type": "execute_result"
    }
   ],
   "source": [
    "M, N = 2, 3\n",
    "p = 10 ** 9 + 7\n",
    "\n",
    "pow(M, N, p)"
   ]
  },
  {
   "cell_type": "markdown",
   "metadata": {},
   "source": [
    "# Square contest E\n",
    "\n",
    "https://atcoder.jp/contests/s8pc-1/tasks/s8pc_1_e"
   ]
  },
  {
   "cell_type": "code",
   "execution_count": 43,
   "metadata": {},
   "outputs": [
    {
     "name": "stdout",
     "output_type": "stream",
     "text": [
      "264\n"
     ]
    }
   ],
   "source": [
    "N, Q = 4, 3\n",
    "A = [5, 3, 1, 2]\n",
    "C = [3, 2, 4]\n",
    "\n",
    "print(264)"
   ]
  },
  {
   "cell_type": "code",
   "execution_count": 44,
   "metadata": {},
   "outputs": [
    {
     "name": "stdout",
     "output_type": "stream",
     "text": [
      "264\n"
     ]
    }
   ],
   "source": [
    "MOD = 10 ** 9 + 7\n",
    "d = [pow(A[i], A[i + 1], MOD) for i in range(N - 1)]\n",
    "cumsum = [0] * (N)\n",
    "for i in range(N - 1):\n",
    "    cumsum[i + 1] = cumsum[i] + d[i]\n",
    "    \n",
    "C = [1] + C + [1]\n",
    "ans = 0\n",
    "for i in range(Q + 1):\n",
    "    ans += abs(cumsum[C[i + 1] - 1] - cumsum[C[i] - 1])\n",
    "print(ans % MOD)"
   ]
  },
  {
   "cell_type": "code",
   "execution_count": null,
   "metadata": {},
   "outputs": [],
   "source": []
  },
  {
   "cell_type": "code",
   "execution_count": null,
   "metadata": {},
   "outputs": [],
   "source": []
  },
  {
   "cell_type": "code",
   "execution_count": null,
   "metadata": {},
   "outputs": [],
   "source": []
  }
 ],
 "metadata": {
  "kernelspec": {
   "display_name": "Python 3",
   "language": "python",
   "name": "python3"
  },
  "language_info": {
   "codemirror_mode": {
    "name": "ipython",
    "version": 3
   },
   "file_extension": ".py",
   "mimetype": "text/x-python",
   "name": "python",
   "nbconvert_exporter": "python",
   "pygments_lexer": "ipython3",
   "version": "3.7.3"
  }
 },
 "nbformat": 4,
 "nbformat_minor": 4
}
