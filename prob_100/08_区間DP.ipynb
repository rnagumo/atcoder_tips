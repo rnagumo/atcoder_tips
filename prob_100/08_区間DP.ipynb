{
 "cells": [
  {
   "cell_type": "markdown",
   "metadata": {},
   "source": [
    "# Matrix Chain Multiplication\n",
    "\n",
    "http://judge.u-aizu.ac.jp/onlinejudge/description.jsp?id=ALDS1_10_B&lang=ja"
   ]
  },
  {
   "cell_type": "code",
   "execution_count": 14,
   "metadata": {},
   "outputs": [
    {
     "name": "stdout",
     "output_type": "stream",
     "text": [
      "15125\n"
     ]
    }
   ],
   "source": [
    "N = 6\n",
    "X = [[30, 35], [35, 15], [15, 5], [5, 10], [10, 20], [20, 25]]\n",
    "\n",
    "print(15125)"
   ]
  },
  {
   "cell_type": "code",
   "execution_count": 15,
   "metadata": {},
   "outputs": [
    {
     "name": "stdout",
     "output_type": "stream",
     "text": [
      "15125\n"
     ]
    }
   ],
   "source": [
    "dp = [[0] * N for _ in range(N)]\n",
    "for i in reversed(range(N - 1)):\n",
    "    for j in range(i + 1):\n",
    "        if i == N - 2:\n",
    "            dp[N - i -1][j] = X[j][0] * X[j][1] * X[j + 1][1]\n",
    "        else:\n",
    "            res = 10 ** 10\n",
    "            for k in range(N - i - 1):\n",
    "                tmp = (dp[k][j]+dp[N-i-k-2][j+k+1]) + (X[j][0]*X[j+k][1]*X[j+N-i-1][1])\n",
    "                res = min(res, tmp)\n",
    "            dp[N - i - 1][j] = res\n",
    "\n",
    "print(dp[-1][0])"
   ]
  },
  {
   "cell_type": "markdown",
   "metadata": {},
   "source": [
    "# JOI 2015 ho - B\n",
    "\n",
    "https://atcoder.jp/contests/joi2015ho/tasks/joi2015ho_b"
   ]
  },
  {
   "cell_type": "code",
   "execution_count": 17,
   "metadata": {},
   "outputs": [
    {
     "name": "stdout",
     "output_type": "stream",
     "text": [
      "18\n"
     ]
    }
   ],
   "source": [
    "N = 5\n",
    "A = [2, 8, 1, 10, 9]\n",
    "\n",
    "print(18)"
   ]
  },
  {
   "cell_type": "code",
   "execution_count": 21,
   "metadata": {},
   "outputs": [],
   "source": [
    "def calc(l, r, s):\n",
    "    if dp[l][r] > 0:\n",
    "        # Reuse memo\n",
    "        pass\n",
    "    elif l == r:\n",
    "        # Take one value: s=1 -> IOI turn, s=0 -> JOI turn\n",
    "        dp[l][r] = 0 if s else A[l]\n",
    "    elif s:\n",
    "        # IOI turn: take larger value, and go to next turn (s=0)\n",
    "        if A[l] > A[r]:\n",
    "            dp[l][r] = calc((l + 1) % N, r, 0)\n",
    "        else:\n",
    "            dp[l][r] = calc(l, (r + N - 1) % N, 0)\n",
    "    else:\n",
    "        # JOI turn: calculate both pattern, and take max\n",
    "        dp[l][r] = max(calc((l + 1) % N, r, 1) + A[l],\n",
    "                       calc(l, (r + N - 1) % N, 1) + A[r])        \n",
    "    return dp[l][r]"
   ]
  },
  {
   "cell_type": "code",
   "execution_count": 25,
   "metadata": {},
   "outputs": [
    {
     "name": "stdout",
     "output_type": "stream",
     "text": [
      "18\n"
     ]
    }
   ],
   "source": [
    "dp = [[-1] * N for _ in range(N)]\n",
    "ret = 0\n",
    "for i in range(N):\n",
    "    ret = max(ret, calc((i + 1) % N, (i + N - 1) % N, 1) + A[i])\n",
    "print(ret)"
   ]
  },
  {
   "cell_type": "markdown",
   "metadata": {},
   "source": [
    "# Daruma Otoshi\n",
    "\n",
    "http://judge.u-aizu.ac.jp/onlinejudge/description.jsp?id=1611&lang=jp"
   ]
  },
  {
   "cell_type": "code",
   "execution_count": 26,
   "metadata": {},
   "outputs": [
    {
     "name": "stdout",
     "output_type": "stream",
     "text": [
      "4\n"
     ]
    }
   ],
   "source": [
    "N = 4\n",
    "W = [1, 2, 3, 4]\n",
    "\n",
    "print(4)"
   ]
  },
  {
   "cell_type": "code",
   "execution_count": 38,
   "metadata": {},
   "outputs": [],
   "source": [
    "def calc(l, r):\n",
    "    if dp[l][r] >= 0:\n",
    "        return dp[l][r]\n",
    "    \n",
    "    if abs(l - r) <= 1:\n",
    "        return 0\n",
    "    \n",
    "    res = 0\n",
    "    if abs(W[l] - W[r - 1]) <= 1 and calc(l+1, r-1) == r - l - 2:\n",
    "        res = r - l\n",
    "        \n",
    "    for mid in range(l + 1, r):\n",
    "        res = max(res, calc(l, mid) + calc(mid, r))\n",
    "    dp[l][r] = res\n",
    "    return res"
   ]
  },
  {
   "cell_type": "code",
   "execution_count": 39,
   "metadata": {},
   "outputs": [
    {
     "name": "stdout",
     "output_type": "stream",
     "text": [
      "4\n"
     ]
    }
   ],
   "source": [
    "dp = [[-1] * (N + 1) for _ in range(N + 1)]\n",
    "print(calc(0, N))"
   ]
  },
  {
   "cell_type": "code",
   "execution_count": null,
   "metadata": {},
   "outputs": [],
   "source": []
  }
 ],
 "metadata": {
  "kernelspec": {
   "display_name": "Python 3",
   "language": "python",
   "name": "python3"
  },
  "language_info": {
   "codemirror_mode": {
    "name": "ipython",
    "version": 3
   },
   "file_extension": ".py",
   "mimetype": "text/x-python",
   "name": "python",
   "nbconvert_exporter": "python",
   "pygments_lexer": "ipython3",
   "version": "3.7.3"
  }
 },
 "nbformat": 4,
 "nbformat_minor": 4
}
