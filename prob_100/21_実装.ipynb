{
 "cells": [
  {
   "cell_type": "markdown",
   "metadata": {},
   "source": [
    "# Chain Disappearance Puzzle\n",
    "\n",
    "http://judge.u-aizu.ac.jp/onlinejudge/description.jsp?id=1193&lang=jp"
   ]
  },
  {
   "cell_type": "code",
   "execution_count": 22,
   "metadata": {},
   "outputs": [
    {
     "name": "stdout",
     "output_type": "stream",
     "text": [
      "38\n"
     ]
    }
   ],
   "source": [
    "H = 5\n",
    "X = [[5, 9, 5, 5, 9], [5, 5, 6, 9, 9], [4, 6, 3, 6, 9],\n",
    "     [3, 3, 2, 9, 9], [2, 2, 1, 1, 1]]\n",
    "\n",
    "print(38)"
   ]
  },
  {
   "cell_type": "code",
   "execution_count": 66,
   "metadata": {},
   "outputs": [],
   "source": [
    "def erase():\n",
    "    mask = [[True] * 5 for _ in range(H)]\n",
    "    \n",
    "    # Erase mask\n",
    "    for i in range(H):\n",
    "        for j in range(3):\n",
    "            tmp = [False] * 5\n",
    "            for k in range(j, 5):\n",
    "                if X[i][j] == X[i][k]:\n",
    "                    tmp[k] = True\n",
    "                else:\n",
    "                    break\n",
    "            if sum(tmp) >= 3:\n",
    "                mask[i] = [not v for v in tmp]\n",
    "                break\n",
    "\n",
    "    # Erase\n",
    "    new = [[0] * 5 for _ in range(H)]\n",
    "    res = 0\n",
    "    for j in range(5):\n",
    "        idx = H - 1\n",
    "        for i in reversed(range(H)):\n",
    "            if mask[i][j]:\n",
    "                new[idx][j] = X[i][j]\n",
    "                idx -= 1\n",
    "            else:\n",
    "                res += X[i][j]\n",
    "\n",
    "    return new, res"
   ]
  },
  {
   "cell_type": "code",
   "execution_count": 67,
   "metadata": {},
   "outputs": [
    {
     "name": "stdout",
     "output_type": "stream",
     "text": [
      "32\n"
     ]
    }
   ],
   "source": [
    "ans = 0\n",
    "while True:\n",
    "    X_new, res = erase()\n",
    "    if res == 0:\n",
    "        break\n",
    "        \n",
    "    X = X_new\n",
    "    ans += res\n",
    "    \n",
    "print(ans)"
   ]
  },
  {
   "cell_type": "markdown",
   "metadata": {},
   "source": [
    "# square 3 - B\n",
    "\n",
    "https://atcoder.jp/contests/s8pc-3/tasks/s8pc_3_b"
   ]
  },
  {
   "cell_type": "code",
   "execution_count": 7,
   "metadata": {},
   "outputs": [
    {
     "name": "stdout",
     "output_type": "stream",
     "text": [
      "23\n"
     ]
    }
   ],
   "source": [
    "H, W, K = 4, 4, 2\n",
    "X = [[3, 4, 1, 3], [4, 1, 2, 1], [1, 4, 2, 4], [2, 3, 1, 2]]\n",
    "\n",
    "print(23)"
   ]
  },
  {
   "cell_type": "code",
   "execution_count": 1,
   "metadata": {},
   "outputs": [
    {
     "name": "stdout",
     "output_type": "stream",
     "text": [
      "2520\n"
     ]
    }
   ],
   "source": [
    "H, W, K = 7, 7, 2\n",
    "X = [[8, 9, 8, 9, 8, 9, 8], [9, 8, 9, 8, 9, 8, 9], [8, 9, 8, 9, 8, 9, 8],\n",
    "     [9, 8, 9, 8, 9, 8, 9], [8, 9, 8, 9, 8, 9, 8], [9, 8, 9, 8, 9, 8, 9],\n",
    "     [8, 9, 8, 9, 8, 9, 8]]\n",
    "\n",
    "print(2520)"
   ]
  },
  {
   "cell_type": "code",
   "execution_count": 8,
   "metadata": {},
   "outputs": [],
   "source": [
    "def gen_mask(idx=None):\n",
    "    mask = [[True] * W for _ in range(H)]\n",
    "    if idx is not None:\n",
    "        i, j = idx\n",
    "        mask[i][j] = False\n",
    "        return mask\n",
    "    \n",
    "    # Erase mask\n",
    "    for i in range(H):\n",
    "        for j in range(W):\n",
    "            tmp = [False] * W\n",
    "            for k in range(j, W):\n",
    "                if X_tmp[i][j] == X_tmp[i][k]:\n",
    "                    tmp[k] = True\n",
    "                else:\n",
    "                    break\n",
    "            if sum(tmp) >= K:\n",
    "                mask[i] = [not v for v in tmp]\n",
    "                break\n",
    "    return mask\n",
    "\n",
    "def erase(mask):\n",
    "    new = [[0] * W for _ in range(H)]\n",
    "    res = 0\n",
    "    for j in range(W):\n",
    "        idx = H - 1\n",
    "        for i in reversed(range(H)):\n",
    "            if mask[i][j]:\n",
    "                new[idx][j] = X_tmp[i][j]\n",
    "                idx -= 1\n",
    "            else:\n",
    "                res += X_tmp[i][j]\n",
    "\n",
    "    return new, res\n",
    "\n",
    "# def compute(idx):\n",
    "#     X_tmp = deepcopy(X)\n",
    "#     mask = gen_mask(idx)\n",
    "#     res = 0\n",
    "\n",
    "#     for i in range(-1, 1000):\n",
    "#         X_tmp, tmp = erase(mask)\n",
    "#         if tmp == 0:\n",
    "#             break\n",
    "\n",
    "#         mask = gen_mask()        \n",
    "#         if i >= 0:\n",
    "#             res += 2 ** i * tmp\n",
    "\n",
    "#     return res"
   ]
  },
  {
   "cell_type": "code",
   "execution_count": 11,
   "metadata": {},
   "outputs": [],
   "source": [
    "from copy import deepcopy"
   ]
  },
  {
   "cell_type": "code",
   "execution_count": 10,
   "metadata": {},
   "outputs": [
    {
     "name": "stdout",
     "output_type": "stream",
     "text": [
      "23\n"
     ]
    }
   ],
   "source": [
    "ans = 0\n",
    "for i in range(H):\n",
    "    for j in range(W):\n",
    "        X_tmp = deepcopy(X)\n",
    "        mask = gen_mask((i, j))\n",
    "        res = 0\n",
    "\n",
    "        for k in range(-1, 1000):\n",
    "            X_tmp, tmp = erase(mask)\n",
    "            if tmp == 0:\n",
    "                break\n",
    "\n",
    "            mask = gen_mask()        \n",
    "            if k >= 0:\n",
    "                res += 2 ** k * tmp\n",
    "\n",
    "        ans = max(ans, res)\n",
    "\n",
    "print(ans)"
   ]
  },
  {
   "cell_type": "code",
   "execution_count": null,
   "metadata": {},
   "outputs": [],
   "source": []
  },
  {
   "cell_type": "code",
   "execution_count": null,
   "metadata": {},
   "outputs": [],
   "source": []
  }
 ],
 "metadata": {
  "kernelspec": {
   "display_name": "Python 3",
   "language": "python",
   "name": "python3"
  },
  "language_info": {
   "codemirror_mode": {
    "name": "ipython",
    "version": 3
   },
   "file_extension": ".py",
   "mimetype": "text/x-python",
   "name": "python",
   "nbconvert_exporter": "python",
   "pygments_lexer": "ipython3",
   "version": "3.7.3"
  }
 },
 "nbformat": 4,
 "nbformat_minor": 4
}
