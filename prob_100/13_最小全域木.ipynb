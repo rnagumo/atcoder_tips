{
 "cells": [
  {
   "cell_type": "markdown",
   "metadata": {},
   "source": [
    "# Minimum Spanning Tree\n",
    "\n",
    "http://judge.u-aizu.ac.jp/onlinejudge/description.jsp?id=GRL_2_A&lang=ja"
   ]
  },
  {
   "cell_type": "code",
   "execution_count": 1,
   "metadata": {},
   "outputs": [
    {
     "name": "stdout",
     "output_type": "stream",
     "text": [
      "5\n"
     ]
    }
   ],
   "source": [
    "V, E = 6, 9\n",
    "X = [[0, 1, 1], [0, 2, 3], [1, 2, 1], [1, 3, 7], [2, 4, 1],\n",
    "     [1, 4, 3], [3, 4, 1], [3, 5, 1], [4, 5, 6]]\n",
    "\n",
    "print(5)"
   ]
  },
  {
   "cell_type": "code",
   "execution_count": 2,
   "metadata": {},
   "outputs": [],
   "source": [
    "graph = [[] for _ in range(V)]\n",
    "for u, v, c in X:\n",
    "    graph[u].append((v, c))\n",
    "    graph[v].append((u, c))"
   ]
  },
  {
   "cell_type": "code",
   "execution_count": 5,
   "metadata": {},
   "outputs": [
    {
     "name": "stdout",
     "output_type": "stream",
     "text": [
      "5\n"
     ]
    }
   ],
   "source": [
    "from heapq import heappop, heappush\n",
    "INF = 10 ** 9 + 7\n",
    "\n",
    "min_cost = [INF] * V\n",
    "visited = [False] * V\n",
    "\n",
    "pq = []\n",
    "heappush(pq, (0, 0))\n",
    "ret = 0\n",
    "\n",
    "while pq:\n",
    "    cost, u = heappop(pq)\n",
    "    if visited[u]:\n",
    "        continue\n",
    "    visited[u] = True\n",
    "    min_cost[u] = cost\n",
    "    ret += cost\n",
    "    for v, c in graph[u]:\n",
    "        if min_cost[v] > c:\n",
    "            heappush(pq, (c, v))\n",
    "            \n",
    "print(ret)"
   ]
  },
  {
   "cell_type": "markdown",
   "metadata": {},
   "source": [
    "# Building a Space Station\n",
    "\n",
    "http://judge.u-aizu.ac.jp/onlinejudge/description.jsp?id=1127"
   ]
  },
  {
   "cell_type": "code",
   "execution_count": 1,
   "metadata": {},
   "outputs": [
    {
     "name": "stdout",
     "output_type": "stream",
     "text": [
      "20.0\n"
     ]
    }
   ],
   "source": [
    "N = 3\n",
    "X = [[10.0, 10.0, 50.0, 10.0], [40.0, 10.0, 50.0, 10.0],\n",
    "     [40.0, 40.0, 50.0, 10.0]]\n",
    "\n",
    "print(20.)"
   ]
  },
  {
   "cell_type": "code",
   "execution_count": 2,
   "metadata": {},
   "outputs": [],
   "source": [
    "from heapq import heappop, heappush\n",
    "INF = 10 ** 9 + 7"
   ]
  },
  {
   "cell_type": "code",
   "execution_count": 3,
   "metadata": {},
   "outputs": [],
   "source": [
    "graph = [[] for _ in range(N)]\n",
    "for i in range(N):\n",
    "    for j in range(N):\n",
    "        if i == j:\n",
    "            continue\n",
    "            \n",
    "        d = ((X[i][0] - X[j][0]) ** 2 + (X[i][1] - X[j][1]) ** 2\n",
    "             + (X[i][2] - X[j][2]) ** 2) ** 0.5 - X[i][3] - X[j][3]\n",
    "        graph[i].append((j, max(0, d)))"
   ]
  },
  {
   "cell_type": "code",
   "execution_count": 17,
   "metadata": {},
   "outputs": [
    {
     "name": "stdout",
     "output_type": "stream",
     "text": [
      "20.000\n"
     ]
    }
   ],
   "source": [
    "min_cost = [INF] * N\n",
    "visited = [False] * N\n",
    "\n",
    "pq = []\n",
    "heappush(pq, (0, 0))\n",
    "ret = 0\n",
    "\n",
    "while pq:\n",
    "    cost, u = heappop(pq)\n",
    "    if visited[u]:\n",
    "        continue\n",
    "    visited[u] = True\n",
    "    min_cost[u] = cost\n",
    "    ret += cost\n",
    "    for v, c in graph[u]:\n",
    "        if min_cost[v] > c:\n",
    "            heappush(pq, (c, v))\n",
    "            \n",
    "print(\"{:.3f}\".format(ret))"
   ]
  },
  {
   "cell_type": "markdown",
   "metadata": {},
   "source": [
    "# ABC 65 - D\n",
    "\n",
    "https://atcoder.jp/contests/abc065/tasks/arc076_b"
   ]
  },
  {
   "cell_type": "code",
   "execution_count": 42,
   "metadata": {},
   "outputs": [
    {
     "name": "stdout",
     "output_type": "stream",
     "text": [
      "3\n"
     ]
    }
   ],
   "source": [
    "N = 3\n",
    "X = [[1, 5], [3, 9], [7, 8]]\n",
    "\n",
    "print(3)"
   ]
  },
  {
   "cell_type": "code",
   "execution_count": 40,
   "metadata": {},
   "outputs": [],
   "source": [
    "from heapq import heappop, heappush\n",
    "INF = 10 ** 9 + 7"
   ]
  },
  {
   "cell_type": "code",
   "execution_count": 38,
   "metadata": {},
   "outputs": [],
   "source": [
    "Xx = sorted((x, i) for i, (x, _) in enumerate(X))\n",
    "Xy = sorted((y, i) for i, (_, y) in enumerate(X))\n",
    "\n",
    "graph = [[] for _ in range(N)]\n",
    "for i in range(N - 1):\n",
    "    graph[Xx[i][1]].append((Xx[i + 1][1], Xx[i + 1][0] - Xx[i][0]))\n",
    "    graph[Xx[i + 1][1]].append((Xx[i][1], Xx[i + 1][0] - Xx[i][0]))\n",
    "    \n",
    "    graph[Xy[i][1]].append((Xy[i + 1][1], Xy[i + 1][0] - Xy[i][0]))\n",
    "    graph[Xy[i + 1][1]].append((Xy[i][1], Xy[i + 1][0] - Xy[i][0]))"
   ]
  },
  {
   "cell_type": "code",
   "execution_count": 41,
   "metadata": {},
   "outputs": [
    {
     "name": "stdout",
     "output_type": "stream",
     "text": [
      "3\n"
     ]
    }
   ],
   "source": [
    "min_cost = [INF] * N\n",
    "visited = [False] * N\n",
    "\n",
    "pq = []\n",
    "heappush(pq, (0, 0))\n",
    "ret = 0\n",
    "\n",
    "while pq:\n",
    "    cost, u = heappop(pq)\n",
    "    if visited[u]:\n",
    "        continue\n",
    "    visited[u] = True\n",
    "    min_cost[u] = cost\n",
    "    ret += cost\n",
    "    for v, c in graph[u]:\n",
    "        if min_cost[v] > c:\n",
    "            heappush(pq, (c, v))\n",
    "            \n",
    "print(ret)"
   ]
  },
  {
   "cell_type": "code",
   "execution_count": null,
   "metadata": {},
   "outputs": [],
   "source": []
  }
 ],
 "metadata": {
  "kernelspec": {
   "display_name": "Python 3",
   "language": "python",
   "name": "python3"
  },
  "language_info": {
   "codemirror_mode": {
    "name": "ipython",
    "version": 3
   },
   "file_extension": ".py",
   "mimetype": "text/x-python",
   "name": "python",
   "nbconvert_exporter": "python",
   "pygments_lexer": "ipython3",
   "version": "3.7.3"
  }
 },
 "nbformat": 4,
 "nbformat_minor": 4
}
