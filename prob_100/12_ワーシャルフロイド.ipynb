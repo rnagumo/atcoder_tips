{
 "cells": [
  {
   "cell_type": "markdown",
   "metadata": {},
   "source": [
    "# All Pairs Shortest Path\n",
    "\n",
    "http://judge.u-aizu.ac.jp/onlinejudge/description.jsp?id=GRL_1_C&lang=ja"
   ]
  },
  {
   "cell_type": "code",
   "execution_count": 5,
   "metadata": {},
   "outputs": [],
   "source": [
    "V, E = 4, 6\n",
    "X = [[0, 1, 1], [0, 2, 5], [1, 2, 2], [1, 3, 4], [2, 3, 1], [3, 2, 7]]"
   ]
  },
  {
   "cell_type": "code",
   "execution_count": 17,
   "metadata": {},
   "outputs": [],
   "source": [
    "INF = 10 ** 10\n",
    "graph = [[INF] * V for _ in range(V)]\n",
    "for i in range(V):\n",
    "    graph[i][i] = 0\n",
    "\n",
    "for u, v, l in X:\n",
    "    graph[u][v] = l"
   ]
  },
  {
   "cell_type": "code",
   "execution_count": 20,
   "metadata": {},
   "outputs": [
    {
     "name": "stdout",
     "output_type": "stream",
     "text": [
      "INF 1 3 4\n",
      "INF INF 2 3\n",
      "INF INF 8 1\n",
      "INF INF 7 8\n"
     ]
    }
   ],
   "source": [
    "for k in range(V):\n",
    "    for i in range(V):\n",
    "        if graph[i][k] == INF:\n",
    "            continue\n",
    "        for j in range(V):\n",
    "            if graph[k][j] == INF:\n",
    "                continue\n",
    "            graph[i][j] = min(graph[i][j], graph[i][k] + graph[k][j])\n",
    "\n",
    "if any(graph[i][i] < 0 for i in range(V)):\n",
    "    print(\"NEGATIVE CYCLE\")\n",
    "else:\n",
    "    for i in range(V):\n",
    "        print(*[v if v < INF else \"INF\" for v in graph[i]])"
   ]
  },
  {
   "cell_type": "markdown",
   "metadata": {},
   "source": [
    "# ABC 12 - D\n",
    "\n",
    "https://atcoder.jp/contests/abc012/tasks/abc012_4"
   ]
  },
  {
   "cell_type": "code",
   "execution_count": 1,
   "metadata": {},
   "outputs": [
    {
     "name": "stdout",
     "output_type": "stream",
     "text": [
      "10\n"
     ]
    }
   ],
   "source": [
    "N, M = 3, 2\n",
    "X = [[1, 2, 10], [2, 3, 10]]\n",
    "\n",
    "print(10)"
   ]
  },
  {
   "cell_type": "code",
   "execution_count": 2,
   "metadata": {},
   "outputs": [],
   "source": [
    "INF = 10 ** 10\n",
    "graph = [[INF] * N for _ in range(N)]\n",
    "for i in range(N):\n",
    "    graph[i][i] = 0\n",
    "\n",
    "for u, v, l in X:\n",
    "    graph[u - 1][v - 1] = l\n",
    "    graph[v - 1][u - 1] = l"
   ]
  },
  {
   "cell_type": "code",
   "execution_count": 7,
   "metadata": {},
   "outputs": [
    {
     "name": "stdout",
     "output_type": "stream",
     "text": [
      "10\n"
     ]
    }
   ],
   "source": [
    "for k in range(N):\n",
    "    for i in range(N):\n",
    "        if graph[i][k] == INF:\n",
    "            continue\n",
    "        for j in range(N):\n",
    "            if graph[k][j] == INF:\n",
    "                continue\n",
    "            graph[i][j] = min(graph[i][j], graph[i][k] + graph[k][j])\n",
    "            \n",
    "print(min(max(x) for x in graph))"
   ]
  },
  {
   "cell_type": "markdown",
   "metadata": {},
   "source": [
    "# ABC 79 - D\n",
    "\n",
    "https://atcoder.jp/contests/abc079/tasks/abc079_d"
   ]
  },
  {
   "cell_type": "code",
   "execution_count": 23,
   "metadata": {},
   "outputs": [
    {
     "name": "stdout",
     "output_type": "stream",
     "text": [
      "12\n"
     ]
    }
   ],
   "source": [
    "H, W = 2, 4\n",
    "graph = [[0, 9, 9, 9, 9, 9, 9, 9, 9, 9], [9, 0, 9, 9, 9, 9, 9, 9, 9, 9],\n",
    "         [9, 9, 0, 9, 9, 9, 9, 9, 9, 9], [9, 9, 9, 0, 9, 9, 9, 9, 9, 9],\n",
    "         [9, 9, 9, 9, 0, 9, 9, 9, 9, 2], [9, 9, 9, 9, 9, 0, 9, 9, 9, 9],\n",
    "         [9, 9, 9, 9, 9, 9, 0, 9, 9, 9], [9, 9, 9, 9, 9, 9, 9, 0, 9, 9],\n",
    "         [9, 9, 9, 9, 2, 9, 9, 9, 0, 9], [9, 2, 9, 9, 9, 9, 9, 9, 9, 0]]\n",
    "A = [[-1, -1, -1, -1], [8, 1, 1, 8]]\n",
    "\n",
    "print(12)"
   ]
  },
  {
   "cell_type": "code",
   "execution_count": 28,
   "metadata": {},
   "outputs": [
    {
     "name": "stdout",
     "output_type": "stream",
     "text": [
      "12\n"
     ]
    }
   ],
   "source": [
    "for k in range(10):\n",
    "    for i in range(10):\n",
    "        for j in range(10):\n",
    "            graph[i][j] = min(graph[i][j], graph[i][k] + graph[k][j])\n",
    "\n",
    "print(sum(graph[v][1] for x in A for v in x if v != -1))"
   ]
  },
  {
   "cell_type": "markdown",
   "metadata": {},
   "source": [
    "# ABC 74 - D\n",
    "\n",
    "https://atcoder.jp/contests/abc074/tasks/arc083_b"
   ]
  },
  {
   "cell_type": "code",
   "execution_count": 11,
   "metadata": {},
   "outputs": [
    {
     "name": "stdout",
     "output_type": "stream",
     "text": [
      "3\n"
     ]
    }
   ],
   "source": [
    "N = 3\n",
    "A = [[0, 1, 3], [1, 0, 2], [3, 2, 0]]\n",
    "\n",
    "print(3)"
   ]
  },
  {
   "cell_type": "code",
   "execution_count": 12,
   "metadata": {},
   "outputs": [],
   "source": [
    "from copy import deepcopy"
   ]
  },
  {
   "cell_type": "code",
   "execution_count": 13,
   "metadata": {},
   "outputs": [],
   "source": [
    "graph = deepcopy(A)\n",
    "for k in range(N):\n",
    "    for i in range(N):\n",
    "        for j in range(N):\n",
    "            graph[i][j] = min(graph[i][j], graph[i][k] + graph[k][j])"
   ]
  },
  {
   "cell_type": "code",
   "execution_count": 21,
   "metadata": {},
   "outputs": [
    {
     "name": "stdout",
     "output_type": "stream",
     "text": [
      "3\n"
     ]
    }
   ],
   "source": [
    "ans = 0\n",
    "for u in range(N):\n",
    "    if ans < 0:\n",
    "        break\n",
    "    for v in range(N):\n",
    "        if graph[u][v] < A[u][v]:\n",
    "            ans = -1\n",
    "            break\n",
    "\n",
    "        flg = True\n",
    "        for w in range(N):\n",
    "            if w == u or w == v:\n",
    "                continue\n",
    "            flg &= graph[u][v] < graph[u][w] + graph[w][v]\n",
    "\n",
    "        if flg:\n",
    "            ans += graph[u][v]\n",
    "\n",
    "print(ans // 2)"
   ]
  },
  {
   "cell_type": "code",
   "execution_count": 16,
   "metadata": {},
   "outputs": [
    {
     "data": {
      "text/plain": [
       "[[0, 1, 3], [1, 0, 2], [3, 2, 0]]"
      ]
     },
     "execution_count": 16,
     "metadata": {},
     "output_type": "execute_result"
    }
   ],
   "source": [
    "graph"
   ]
  },
  {
   "cell_type": "code",
   "execution_count": null,
   "metadata": {},
   "outputs": [],
   "source": []
  }
 ],
 "metadata": {
  "kernelspec": {
   "display_name": "Python 3",
   "language": "python",
   "name": "python3"
  },
  "language_info": {
   "codemirror_mode": {
    "name": "ipython",
    "version": 3
   },
   "file_extension": ".py",
   "mimetype": "text/x-python",
   "name": "python",
   "nbconvert_exporter": "python",
   "pygments_lexer": "ipython3",
   "version": "3.7.3"
  }
 },
 "nbformat": 4,
 "nbformat_minor": 4
}
