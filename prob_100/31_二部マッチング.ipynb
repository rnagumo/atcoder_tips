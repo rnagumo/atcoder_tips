{
 "cells": [
  {
   "cell_type": "markdown",
   "metadata": {},
   "source": [
    "# code fes 2017 B - C\n",
    "\n",
    "通常の二部グラフの問題\n",
    "\n",
    "https://atcoder.jp/contests/code-festival-2017-qualb/tasks/code_festival_2017_qualb_c"
   ]
  },
  {
   "cell_type": "code",
   "execution_count": 1,
   "metadata": {},
   "outputs": [
    {
     "name": "stdout",
     "output_type": "stream",
     "text": [
      "4\n"
     ]
    }
   ],
   "source": [
    "N, M = 6, 5\n",
    "X = [[1, 2], [2, 3], [3, 4], [4, 5], [5, 6]]\n",
    "\n",
    "print(4)"
   ]
  },
  {
   "cell_type": "code",
   "execution_count": 5,
   "metadata": {},
   "outputs": [],
   "source": [
    "import sys\n",
    "sys.setrecursionlimit(10 ** 7)"
   ]
  },
  {
   "cell_type": "code",
   "execution_count": 2,
   "metadata": {},
   "outputs": [],
   "source": [
    "graph = [[] for _ in range(N)]\n",
    "for a, b in X:\n",
    "    graph[a - 1].append(b - 1)\n",
    "    graph[b - 1].append(a - 1)"
   ]
  },
  {
   "cell_type": "code",
   "execution_count": 3,
   "metadata": {},
   "outputs": [],
   "source": [
    "def dfs(u, c):\n",
    "    color[u] = c\n",
    "    for v in graph[u]:\n",
    "        if color[v] == c:\n",
    "            return False\n",
    "        if color[v] == 0 and not dfs(v, -c):\n",
    "            return False\n",
    "        \n",
    "    return True"
   ]
  },
  {
   "cell_type": "code",
   "execution_count": 4,
   "metadata": {},
   "outputs": [
    {
     "name": "stdout",
     "output_type": "stream",
     "text": [
      "4\n"
     ]
    }
   ],
   "source": [
    "color = [0] * N\n",
    "if dfs(0, 1):\n",
    "    c = sum(v == 1 for v in color)\n",
    "    print(c * (N - c) - M)\n",
    "else:\n",
    "    print(N * (N - 1) // 2 - M)"
   ]
  },
  {
   "cell_type": "markdown",
   "metadata": {},
   "source": [
    "# Bipartite Matching\n",
    "\n",
    "http://judge.u-aizu.ac.jp/onlinejudge/description.jsp?id=GRL_7_A&lang=ja"
   ]
  },
  {
   "cell_type": "code",
   "execution_count": 6,
   "metadata": {},
   "outputs": [
    {
     "name": "stdout",
     "output_type": "stream",
     "text": [
      "3\n"
     ]
    }
   ],
   "source": [
    "X, Y, E = 3, 4, 6\n",
    "edges = [[0, 0], [0, 2], [0, 3], [1, 1], [2, 1], [2, 3]]\n",
    "\n",
    "print(3)"
   ]
  },
  {
   "cell_type": "code",
   "execution_count": 11,
   "metadata": {},
   "outputs": [],
   "source": [
    "def dfs(u, t, f):\n",
    "    if u == t:\n",
    "        return f\n",
    "    \n",
    "    used[u] = True\n",
    "    for i in range(len(graph[u])):\n",
    "        v, c, r = graph[u][i]\n",
    "        if not used[v] and c > 0:\n",
    "            d = dfs(v, t, min(f, c))\n",
    "            if d > 0:\n",
    "                graph[u][i][1] -= d\n",
    "                graph[v][r][1] += d\n",
    "                return d\n",
    "            \n",
    "    return 0"
   ]
  },
  {
   "cell_type": "code",
   "execution_count": 12,
   "metadata": {},
   "outputs": [
    {
     "name": "stdout",
     "output_type": "stream",
     "text": [
      "3\n"
     ]
    }
   ],
   "source": [
    "s = X + Y\n",
    "t = s + 1\n",
    "\n",
    "graph = [[] for _ in range(X + Y + 2)]\n",
    "def add_edges(u, v, c):\n",
    "    graph[u].append([v, c, len(graph[v])])\n",
    "    graph[v].append([u, 0, len(graph[u]) - 1])\n",
    "\n",
    "for i in range(X):\n",
    "    add_edges(s, i, 1)\n",
    "    \n",
    "for i in range(Y):\n",
    "    add_edges(i + X, t, 1)\n",
    "    \n",
    "for u, v in edges:\n",
    "    add_edges(u, v + X, 1)\n",
    "    \n",
    "# Match\n",
    "flow = 0\n",
    "while True:\n",
    "    used = [False] * (X + Y + 2)\n",
    "    f = dfs(s, t, 10 ** 9 + 7)\n",
    "    flow += f\n",
    "    if f == 0:\n",
    "        break\n",
    "        \n",
    "print(flow)"
   ]
  },
  {
   "cell_type": "markdown",
   "metadata": {},
   "source": [
    "# ABC 91 - C\n",
    "\n",
    "https://atcoder.jp/contests/abc091/tasks/arc092_a"
   ]
  },
  {
   "cell_type": "code",
   "execution_count": 1,
   "metadata": {},
   "outputs": [
    {
     "name": "stdout",
     "output_type": "stream",
     "text": [
      "2\n"
     ]
    }
   ],
   "source": [
    "N = 3\n",
    "X = [[2, 0], [3, 1], [1, 3]]\n",
    "Y = [[4, 2], [0, 4], [5, 5]]\n",
    "\n",
    "print(2)"
   ]
  },
  {
   "cell_type": "code",
   "execution_count": 6,
   "metadata": {},
   "outputs": [],
   "source": [
    "def gen_graph(s, t, n, m):\n",
    "    graph = [[] for _ in range(n + m + 2)]\n",
    "    def add_edges(u, v, c):\n",
    "        graph[u].append([v, c, len(graph[v])])\n",
    "        graph[v].append([u, 0, len(graph[u]) - 1])\n",
    "\n",
    "    for i in range(n):\n",
    "        add_edges(s, i, 1)\n",
    "    \n",
    "    for i in range(m):\n",
    "        add_edges(i + n, t, 1)\n",
    "        \n",
    "    for i, (a, b) in enumerate(X):\n",
    "        for j, (c, d) in enumerate(Y):\n",
    "            if a < c and b < d:\n",
    "                add_edges(i, j + n, 1)\n",
    "                \n",
    "    return graph"
   ]
  },
  {
   "cell_type": "code",
   "execution_count": 7,
   "metadata": {},
   "outputs": [],
   "source": [
    "def dfs(u, t, f):\n",
    "    if u == t:\n",
    "        return f\n",
    "    \n",
    "    used[u] = True\n",
    "    for i in range(len(graph[u])):\n",
    "        v, c, r = graph[u][i]\n",
    "        if not used[v] and c > 0:\n",
    "            d = dfs(v, t, min(f, c))\n",
    "            if d > 0:\n",
    "                graph[u][i][1] -= d\n",
    "                graph[v][r][1] += d\n",
    "                return d\n",
    "\n",
    "    return 0"
   ]
  },
  {
   "cell_type": "code",
   "execution_count": 8,
   "metadata": {},
   "outputs": [
    {
     "name": "stdout",
     "output_type": "stream",
     "text": [
      "2\n"
     ]
    }
   ],
   "source": [
    "s = 2 * N\n",
    "t = s + 1\n",
    "graph = gen_graph(s, t, N, N)\n",
    "flow = 0\n",
    "while True:\n",
    "    used = [False] * (2 * N + 2)\n",
    "    f = dfs(s, t, 10 ** 9 + 7)\n",
    "    flow += f\n",
    "    if f == 0:\n",
    "        break\n",
    "        \n",
    "print(flow)"
   ]
  },
  {
   "cell_type": "code",
   "execution_count": null,
   "metadata": {},
   "outputs": [],
   "source": []
  }
 ],
 "metadata": {
  "kernelspec": {
   "display_name": "Python 3",
   "language": "python",
   "name": "python3"
  },
  "language_info": {
   "codemirror_mode": {
    "name": "ipython",
    "version": 3
   },
   "file_extension": ".py",
   "mimetype": "text/x-python",
   "name": "python",
   "nbconvert_exporter": "python",
   "pygments_lexer": "ipython3",
   "version": "3.7.3"
  }
 },
 "nbformat": 4,
 "nbformat_minor": 4
}
