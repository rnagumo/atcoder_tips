{
 "cells": [
  {
   "cell_type": "markdown",
   "metadata": {},
   "source": [
    "# A"
   ]
  },
  {
   "cell_type": "code",
   "execution_count": 211,
   "metadata": {},
   "outputs": [],
   "source": [
    "import re\n",
    "N, A, B, C, D = 7, 1, 3, 6, 7\n",
    "S = '.#..#..'.replace('.', 'x')"
   ]
  },
  {
   "cell_type": "code",
   "execution_count": 217,
   "metadata": {},
   "outputs": [],
   "source": [
    "import re\n",
    "N, A, B, C, D = 5, 1, 2, 5, 3\n",
    "S = '...#.'.replace('.', 'x')"
   ]
  },
  {
   "cell_type": "code",
   "execution_count": 223,
   "metadata": {},
   "outputs": [],
   "source": [
    "import re\n",
    "N, A, B, C, D = 5, 1, 3, 5, 4\n",
    "S = '.#...'.replace('.', 'x')"
   ]
  },
  {
   "cell_type": "code",
   "execution_count": 226,
   "metadata": {},
   "outputs": [
    {
     "name": "stdout",
     "output_type": "stream",
     "text": [
      "#xxx\n",
      "Yes\n"
     ]
    }
   ],
   "source": [
    "if C < D:\n",
    "    if len(re.findall('##', S[A:C])) != 0:\n",
    "        print('No')\n",
    "    elif len(re.findall('##', S[B:D])) != 0:\n",
    "        print('No')\n",
    "    else:\n",
    "        print('Yes')\n",
    "else:\n",
    "    if len(re.findall('##', S[A:C])) != 0:\n",
    "        print('No')\n",
    "    elif len(re.findall('xxx', S[B - 2:D + 1])) == 0:\n",
    "        print('No')\n",
    "    else:\n",
    "        print('Yes')"
   ]
  },
  {
   "cell_type": "markdown",
   "metadata": {},
   "source": [
    "# B"
   ]
  },
  {
   "cell_type": "code",
   "execution_count": 284,
   "metadata": {},
   "outputs": [
    {
     "name": "stdout",
     "output_type": "stream",
     "text": [
      "3\n"
     ]
    }
   ],
   "source": [
    "import re\n",
    "s = 'ABCABC'\n",
    "ans = 0\n",
    "for v in re.finditer('(ABC|BCA)+', s):\n",
    "    sub = s[v.start():v.end()]\n",
    "    total = len(sub) // 3\n",
    "    abc_num = sub.count('ABC')\n",
    "    ans += total * (total - 1) // 2 + abc_num\n",
    "    \n",
    "print(ans)"
   ]
  },
  {
   "cell_type": "code",
   "execution_count": 11,
   "metadata": {},
   "outputs": [
    {
     "name": "stdout",
     "output_type": "stream",
     "text": [
      "6\n"
     ]
    }
   ],
   "source": [
    "import re\n",
    "s = 'ABCACCBABCBCAABCB'  # 6\n",
    "ans = 0\n",
    "for v in re.finditer('(A?(BC)+A?)+', s):\n",
    "    sub = s[v.start():v.end()]\n",
    "    total = sub.count('BC')\n",
    "    abc_num = sub.count('ABC')\n",
    "    ans += total * (total - 1) // 2 + abc_num\n",
    "    \n",
    "print(ans)"
   ]
  },
  {
   "cell_type": "code",
   "execution_count": 12,
   "metadata": {},
   "outputs": [
    {
     "name": "stdout",
     "output_type": "stream",
     "text": [
      "7\n"
     ]
    }
   ],
   "source": [
    "s = 'ABCBCCBABCBCAABCB'  # 7\n",
    "ans = 0\n",
    "for v in re.finditer('(A?(BC)+A?)+', s):\n",
    "    sub = s[v.start():v.end()]\n",
    "    total = sub.count('BC')\n",
    "    abc_num = sub.count('ABC')\n",
    "    ans += total * (total - 1) // 2 + abc_num\n",
    "    \n",
    "print(ans)"
   ]
  },
  {
   "cell_type": "markdown",
   "metadata": {},
   "source": [
    "## 解答"
   ]
  },
  {
   "cell_type": "code",
   "execution_count": 13,
   "metadata": {},
   "outputs": [
    {
     "data": {
      "text/plain": [
       "'ADACCBADDAADB'"
      ]
     },
     "execution_count": 13,
     "metadata": {},
     "output_type": "execute_result"
    }
   ],
   "source": [
    "s = 'ABCACCBABCBCAABCB'  # 6\n",
    "\n",
    "s = s.replace('BC', 'D')\n",
    "s"
   ]
  },
  {
   "cell_type": "code",
   "execution_count": 23,
   "metadata": {},
   "outputs": [
    {
     "name": "stdout",
     "output_type": "stream",
     "text": [
      "6\n"
     ]
    }
   ],
   "source": [
    "ans = 0\n",
    "cnt = 0\n",
    "\n",
    "for c in s:\n",
    "    if c == 'A':\n",
    "        cnt += 1\n",
    "    elif c == 'D':\n",
    "        ans += cnt\n",
    "    else:\n",
    "        cnt = 0\n",
    "print(ans)"
   ]
  }
 ],
 "metadata": {
  "kernelspec": {
   "display_name": "Python 3",
   "language": "python",
   "name": "python3"
  },
  "language_info": {
   "codemirror_mode": {
    "name": "ipython",
    "version": 3
   },
   "file_extension": ".py",
   "mimetype": "text/x-python",
   "name": "python",
   "nbconvert_exporter": "python",
   "pygments_lexer": "ipython3",
   "version": "3.7.3"
  }
 },
 "nbformat": 4,
 "nbformat_minor": 2
}
