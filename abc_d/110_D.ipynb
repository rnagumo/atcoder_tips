{
 "cells": [
  {
   "cell_type": "markdown",
   "metadata": {},
   "source": [
    "# ABC 119 - D\n",
    "\n",
    "https://atcoder.jp/contests/abc119/tasks/abc119_d"
   ]
  },
  {
   "cell_type": "code",
   "execution_count": 1,
   "metadata": {},
   "outputs": [
    {
     "name": "stdout",
     "output_type": "stream",
     "text": [
      "350 1400 301 399\n"
     ]
    }
   ],
   "source": [
    "A, B, Q = 2, 3, 4\n",
    "s = [100, 600]\n",
    "t = [400, 900, 1000]\n",
    "x = [150, 2000, 899, 799]\n",
    "\n",
    "print(350, 1400, 301, 399)"
   ]
  },
  {
   "cell_type": "code",
   "execution_count": 2,
   "metadata": {},
   "outputs": [
    {
     "name": "stdout",
     "output_type": "stream",
     "text": [
      "350\n",
      "1400\n",
      "301\n",
      "399\n"
     ]
    }
   ],
   "source": [
    "from bisect import bisect_right\n",
    "\n",
    "INF = 10 ** 18\n",
    "s = [-INF] + s + [INF]\n",
    "t = [-INF] + t + [INF]\n",
    "\n",
    "for i in range(Q):\n",
    "    b = bisect_right(s, x[i])\n",
    "    d = bisect_right(t, x[i])\n",
    "    res = INF\n",
    "    for n in [s[b - 1], s[b]]:\n",
    "        for m in [t[d - 1], t[d]]:\n",
    "            d1 = abs(n - x[i]) + abs(m - n)\n",
    "            d2 = abs(m - x[i]) + abs(n - m)\n",
    "            res = min(res, d1, d2)\n",
    "    print(res)"
   ]
  },
  {
   "cell_type": "markdown",
   "metadata": {},
   "source": [
    "# ABC 118 - D\n",
    "\n",
    "https://atcoder.jp/contests/abc118/tasks/abc118_d"
   ]
  },
  {
   "cell_type": "code",
   "execution_count": 3,
   "metadata": {},
   "outputs": [
    {
     "name": "stdout",
     "output_type": "stream",
     "text": [
      "777773\n"
     ]
    }
   ],
   "source": [
    "N, M = 20, 4\n",
    "A = [3, 7, 8, 4]\n",
    "\n",
    "print(777773)"
   ]
  },
  {
   "cell_type": "code",
   "execution_count": 18,
   "metadata": {},
   "outputs": [
    {
     "name": "stdout",
     "output_type": "stream",
     "text": [
      "777773\n"
     ]
    }
   ],
   "source": [
    "match = {1: 2, 2: 5, 3: 5, 4: 4, 5: 5, 6: 6, 7: 3, 8: 7, 9: 6}\n",
    "dp = [[0] * M for _ in range(N + 1)]\n",
    "\n",
    "for i in range(N + 1):\n",
    "    for j in range(M):\n",
    "        for k in range(M):\n",
    "            if (i - match[A[k]] == 0) or \\\n",
    "                   (i - match[A[k]] > 0 and dp[i - match[A[k]]][j] != 0):\n",
    "                dp[i][k] = max(dp[i][k], \n",
    "                               dp[i - match[A[k]]][j] * 10 + A[k])\n",
    "\n",
    "print(max(dp[-1]))"
   ]
  },
  {
   "cell_type": "code",
   "execution_count": 19,
   "metadata": {},
   "outputs": [
    {
     "data": {
      "text/plain": [
       "[[0, 0, 0, 0],\n",
       " [0, 0, 0, 0],\n",
       " [0, 0, 0, 0],\n",
       " [0, 7, 0, 0],\n",
       " [0, 0, 0, 4],\n",
       " [3, 0, 0, 0],\n",
       " [0, 77, 0, 0],\n",
       " [0, 47, 8, 74],\n",
       " [73, 37, 0, 44],\n",
       " [43, 777, 0, 34],\n",
       " [33, 747, 78, 774],\n",
       " [773, 737, 48, 744],\n",
       " [743, 7777, 38, 734],\n",
       " [733, 7747, 778, 7774],\n",
       " [7773, 7737, 748, 7744],\n",
       " [7743, 77777, 738, 7734],\n",
       " [7733, 77747, 7778, 77774],\n",
       " [77773, 77737, 7748, 77744],\n",
       " [77743, 777777, 7738, 77734],\n",
       " [77733, 777747, 77778, 777774],\n",
       " [777773, 777737, 77748, 777744]]"
      ]
     },
     "execution_count": 19,
     "metadata": {},
     "output_type": "execute_result"
    }
   ],
   "source": [
    "dp"
   ]
  },
  {
   "cell_type": "markdown",
   "metadata": {},
   "source": [
    "# ABC 117 - D\n",
    "\n",
    "https://atcoder.jp/contests/abc117/tasks/abc117_d"
   ]
  },
  {
   "cell_type": "code",
   "execution_count": 28,
   "metadata": {},
   "outputs": [
    {
     "name": "stdout",
     "output_type": "stream",
     "text": [
      "14\n"
     ]
    }
   ],
   "source": [
    "N, K = 3, 7\n",
    "A = [1, 6, 3]\n",
    "\n",
    "print(14)"
   ]
  },
  {
   "cell_type": "markdown",
   "metadata": {},
   "source": [
    "配列Aの中の数字の，kビット目が1である数字の個数を数えている．  \n",
    "模範解答に置ける$c_k$のこと．"
   ]
  },
  {
   "cell_type": "code",
   "execution_count": 29,
   "metadata": {},
   "outputs": [],
   "source": [
    "b = [0] * 40\n",
    "for i in range(40):\n",
    "    for a in A:\n",
    "        b[i] += (a & (1 << i)) >> i"
   ]
  },
  {
   "cell_type": "markdown",
   "metadata": {},
   "source": [
    "各ビットがfに貢献する値を求める．  \n",
    "* $X_k = 0$: $2^k c_k$\n",
    "* $X_k = 1$: $2^k (n - c_k)$\n",
    "\n",
    "$c_k$はその累積値をメモしている．"
   ]
  },
  {
   "cell_type": "code",
   "execution_count": 30,
   "metadata": {},
   "outputs": [],
   "source": [
    "c = [0] * 40\n",
    "for i in range(39):\n",
    "    if b[i] > N - b[i]:\n",
    "        c[i + 1] = c[i] + (b[i] << i)\n",
    "    else:\n",
    "        c[i + 1] = c[i] + (N - b[i] << i)"
   ]
  },
  {
   "cell_type": "markdown",
   "metadata": {},
   "source": [
    "大きい方のビットから探索していく．  \n",
    "k桁目のビット$X_k$について，\n",
    "\n",
    "#### $X_k = 1$\n",
    "\n",
    "* c[i]はi-1桁目までの貢献度の累積和を持っている．\n",
    "* そこにb[i]から求まるi桁目の貢献度を足す．\n",
    "* 加えて，cntも足す．\n",
    "* この数字について，maxを見つける．\n",
    "* $2^k (n - c_k)$をcntに足す．  \n",
    "\n",
    "#### $X_k = 0$\n",
    "\n",
    "* $2^k c_k$をcntに足す．"
   ]
  },
  {
   "cell_type": "code",
   "execution_count": 38,
   "metadata": {},
   "outputs": [
    {
     "name": "stdout",
     "output_type": "stream",
     "text": [
      "10 8\n",
      "14 10\n",
      "14 11\n",
      "14 11\n",
      "14\n"
     ]
    }
   ],
   "source": [
    "ans = 0\n",
    "cnt = 0\n",
    "for i in reversed(range(40)):\n",
    "    if K & (1 << i):\n",
    "        ans = max(ans, cnt + (b[i] << i) + c[i])\n",
    "        cnt += N - b[i] << i\n",
    "        print(ans, cnt)\n",
    "    else:\n",
    "        cnt += b[i] << i\n",
    "\n",
    "print(max(ans, cnt))"
   ]
  },
  {
   "cell_type": "markdown",
   "metadata": {},
   "source": [
    "# ABC 116 - D\n",
    "\n",
    "https://atcoder.jp/contests/abc116/tasks/abc116_d"
   ]
  },
  {
   "cell_type": "code",
   "execution_count": 54,
   "metadata": {},
   "outputs": [
    {
     "name": "stdout",
     "output_type": "stream",
     "text": [
      "26\n"
     ]
    }
   ],
   "source": [
    "N, K = 5, 3\n",
    "X = [[1, 9], [1, 7], [2, 6], [2, 5], [3, 1]]\n",
    "\n",
    "print(26)"
   ]
  },
  {
   "cell_type": "markdown",
   "metadata": {},
   "source": [
    "Step 2について\n",
    "\n",
    "* for-loopで，$d$の大きい方から追加されることが保証される．\n",
    "* heapqで，$d$の小さい方から削除されることが保証される．"
   ]
  },
  {
   "cell_type": "code",
   "execution_count": 70,
   "metadata": {},
   "outputs": [
    {
     "name": "stdout",
     "output_type": "stream",
     "text": [
      "26\n"
     ]
    }
   ],
   "source": [
    "from heapq import heappop, heappush\n",
    "from collections import defaultdict\n",
    "\n",
    "# Step 1: Choose greedy\n",
    "X.sort(key=lambda x: -x[1])\n",
    "pq = []\n",
    "chosen = defaultdict(int)\n",
    "cnt = 0\n",
    "score = 0\n",
    "for t, d in X[:K]:\n",
    "    heappush(pq, (d, t))\n",
    "    cnt += 1 if chosen[t] == 0 else 0\n",
    "    chosen[t] += 1\n",
    "    score += d\n",
    "ans = score + cnt ** 2\n",
    "\n",
    "# Step 2: Replace chosen items\n",
    "idx = K\n",
    "while pq:\n",
    "    # Step 2.1: Remove smallest sushi from chosen\n",
    "    d_p, t_p = heappop(pq)\n",
    "    if chosen[t_p] <= 1:\n",
    "        continue\n",
    "    chosen[t_p] -= 1\n",
    "    score -= d_p\n",
    "\n",
    "    # Step 2.2: Add largest sushi from residual\n",
    "    while idx < N and chosen[X[idx][0]] != 0:\n",
    "        idx += 1\n",
    "\n",
    "    if idx == N:\n",
    "        break\n",
    "        \n",
    "    cnt += 1\n",
    "    chosen[X[idx][0]] += 1\n",
    "    score += X[idx][1]\n",
    "    ans = max(ans, score + cnt ** 2)\n",
    "    \n",
    "print(ans)"
   ]
  },
  {
   "cell_type": "markdown",
   "metadata": {},
   "source": [
    "# ABC 115 - D\n",
    "\n",
    "https://atcoder.jp/contests/abc115/tasks/abc115_d"
   ]
  },
  {
   "cell_type": "code",
   "execution_count": 71,
   "metadata": {},
   "outputs": [
    {
     "name": "stdout",
     "output_type": "stream",
     "text": [
      "4\n"
     ]
    }
   ],
   "source": [
    "N, X = 2, 7\n",
    "\n",
    "print(4)"
   ]
  },
  {
   "cell_type": "markdown",
   "metadata": {},
   "source": [
    "この計算では間に合わない．"
   ]
  },
  {
   "cell_type": "code",
   "execution_count": 80,
   "metadata": {},
   "outputs": [],
   "source": [
    "def burger(l):\n",
    "    if l == 0:\n",
    "        return 'P'\n",
    "    else:\n",
    "        n = burger(l - 1)\n",
    "        return 'B' + n + 'P' + n + 'B'"
   ]
  },
  {
   "cell_type": "code",
   "execution_count": 73,
   "metadata": {},
   "outputs": [
    {
     "name": "stdout",
     "output_type": "stream",
     "text": [
      "4\n"
     ]
    }
   ],
   "source": [
    "print((burger(N)[:X]).count('P'))"
   ]
  },
  {
   "cell_type": "markdown",
   "metadata": {},
   "source": [
    "#### 解答"
   ]
  },
  {
   "cell_type": "code",
   "execution_count": 84,
   "metadata": {},
   "outputs": [
    {
     "data": {
      "text/plain": [
       "([1, 5, 13], [1, 3, 7])"
      ]
     },
     "execution_count": 84,
     "metadata": {},
     "output_type": "execute_result"
    }
   ],
   "source": [
    "a = [1] * (N + 1)\n",
    "p = [1] * (N + 1)\n",
    "for i in range(N):\n",
    "    a[i + 1] = a[i] * 2 + 3\n",
    "    p[i + 1] = p[i] * 2 + 1\n",
    "    \n",
    "a, p"
   ]
  },
  {
   "cell_type": "code",
   "execution_count": 86,
   "metadata": {},
   "outputs": [
    {
     "name": "stdout",
     "output_type": "stream",
     "text": [
      "4\n"
     ]
    }
   ],
   "source": [
    "def f(n, x):\n",
    "    if n == 0:\n",
    "        return 0 if x <= 0 else 1\n",
    "    elif x <= 1 + a[n - 1]:\n",
    "        return f(n - 1, x - 1)\n",
    "    else:\n",
    "        return p[n - 1] + 1 + f(n - 1, x - 2 - a[n - 1])\n",
    "    \n",
    "print(f(N, X))"
   ]
  },
  {
   "cell_type": "markdown",
   "metadata": {},
   "source": [
    "# ABC 114 - D\n",
    "\n",
    "https://atcoder.jp/contests/abc114/tasks/abc114_d"
   ]
  },
  {
   "cell_type": "code",
   "execution_count": 156,
   "metadata": {},
   "outputs": [
    {
     "name": "stdout",
     "output_type": "stream",
     "text": [
      "1\n"
     ]
    }
   ],
   "source": [
    "N = 10\n",
    "\n",
    "print(1)"
   ]
  },
  {
   "cell_type": "code",
   "execution_count": 172,
   "metadata": {},
   "outputs": [],
   "source": [
    "pf = [0] * (N + 1)\n",
    "for n in range(2, N + 1):\n",
    "    cur = n\n",
    "    for i in range(2, n + 1):\n",
    "        while cur % i == 0:\n",
    "            pf[i] += 1\n",
    "            cur //= i"
   ]
  },
  {
   "cell_type": "code",
   "execution_count": 173,
   "metadata": {},
   "outputs": [],
   "source": [
    "def num(n):\n",
    "    return len(list(filter(lambda x: x >= n - 1, pf)))"
   ]
  },
  {
   "cell_type": "code",
   "execution_count": 174,
   "metadata": {},
   "outputs": [
    {
     "name": "stdout",
     "output_type": "stream",
     "text": [
      "1\n"
     ]
    }
   ],
   "source": [
    "print(num(75) + num(25) * (num(3) - 1) + num(15) * (num(5) - 1) \\\n",
    "          + num(5) * (num(5) - 1) * (num(3) - 2) // 2)"
   ]
  },
  {
   "cell_type": "code",
   "execution_count": 170,
   "metadata": {},
   "outputs": [
    {
     "data": {
      "text/plain": [
       "[0, 0, 8, 4, 0, 2, 0, 1, 0, 0, 0]"
      ]
     },
     "execution_count": 170,
     "metadata": {},
     "output_type": "execute_result"
    }
   ],
   "source": [
    "pf"
   ]
  },
  {
   "cell_type": "markdown",
   "metadata": {},
   "source": [
    "# ABC 113 - D\n",
    "\n",
    "https://atcoder.jp/contests/abc113/tasks/abc113_d"
   ]
  },
  {
   "cell_type": "code",
   "execution_count": 175,
   "metadata": {},
   "outputs": [
    {
     "name": "stdout",
     "output_type": "stream",
     "text": [
      "1\n"
     ]
    }
   ],
   "source": [
    "H, W, K = 1, 3, 2\n",
    "MOD = 10 ** 9 + 7\n",
    "\n",
    "print(1)"
   ]
  },
  {
   "cell_type": "code",
   "execution_count": 229,
   "metadata": {},
   "outputs": [
    {
     "name": "stdout",
     "output_type": "stream",
     "text": [
      "2\n"
     ]
    }
   ],
   "source": [
    "H, W, K = 1, 3, 1\n",
    "MOD = 10 ** 9 + 7\n",
    "\n",
    "print(2)"
   ]
  },
  {
   "cell_type": "code",
   "execution_count": 248,
   "metadata": {},
   "outputs": [
    {
     "name": "stdout",
     "output_type": "stream",
     "text": [
      "2\n"
     ]
    }
   ],
   "source": [
    "dp = [[0] * W for _ in range(H + 1)]\n",
    "dp[0][0] = 1\n",
    "\n",
    "for i in range(H):\n",
    "    for j in range(W):\n",
    "        x = 0\n",
    "        y = 0\n",
    "        z = 0\n",
    "        for k in range(2 ** (W - 1)):\n",
    "            if (not k >> j & 1) and (j > 0 and k >> (j - 1) & 1) \\\n",
    "                     and (j <= 1 or (j > 1 and not k >> (j - 2) & 1)):\n",
    "                x += 1\n",
    "            elif k >> j & 1 and (j == 0 or (j > 0 and not k >> (j - 1) & 1)) \\\n",
    "                   and (j < W - 1 and not k >> (j + 1) & 1):\n",
    "                z += 1\n",
    "            elif k >> j & 1 and \\\n",
    "                     ((j > 0 and k >> (j - 1) & 1) or (j < W - 1 and k >> (j + 1) & 1)):\n",
    "                pass\n",
    "            else:\n",
    "                y += 1\n",
    "\n",
    "        dp[i + 1][j] += y * dp[i][j] % MOD\n",
    "        if j - 1 >= 0:\n",
    "            dp[i + 1][j - 1] += x * dp[i][j] % MOD\n",
    "        if j + 1 <= W - 1:\n",
    "            dp[i + 1][j + 1] += z * dp[i][j] % MOD\n",
    "            \n",
    "print(dp[-1][K - 1])"
   ]
  },
  {
   "cell_type": "code",
   "execution_count": 238,
   "metadata": {},
   "outputs": [
    {
     "data": {
      "text/plain": [
       "[[1, 0, 0], [3, 1, 0]]"
      ]
     },
     "execution_count": 238,
     "metadata": {},
     "output_type": "execute_result"
    }
   ],
   "source": [
    "dp"
   ]
  },
  {
   "cell_type": "markdown",
   "metadata": {},
   "source": [
    "# ABC 112 - D\n",
    "\n",
    "https://atcoder.jp/contests/abc112/tasks/abc112_d"
   ]
  },
  {
   "cell_type": "code",
   "execution_count": null,
   "metadata": {},
   "outputs": [],
   "source": []
  },
  {
   "cell_type": "code",
   "execution_count": null,
   "metadata": {},
   "outputs": [],
   "source": []
  },
  {
   "cell_type": "code",
   "execution_count": null,
   "metadata": {},
   "outputs": [],
   "source": []
  },
  {
   "cell_type": "code",
   "execution_count": null,
   "metadata": {},
   "outputs": [],
   "source": []
  },
  {
   "cell_type": "code",
   "execution_count": null,
   "metadata": {},
   "outputs": [],
   "source": []
  }
 ],
 "metadata": {
  "kernelspec": {
   "display_name": "Python 3",
   "language": "python",
   "name": "python3"
  },
  "language_info": {
   "codemirror_mode": {
    "name": "ipython",
    "version": 3
   },
   "file_extension": ".py",
   "mimetype": "text/x-python",
   "name": "python",
   "nbconvert_exporter": "python",
   "pygments_lexer": "ipython3",
   "version": "3.7.3"
  }
 },
 "nbformat": 4,
 "nbformat_minor": 2
}
