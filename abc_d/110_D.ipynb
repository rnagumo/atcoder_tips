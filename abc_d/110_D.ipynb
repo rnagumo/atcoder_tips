{
 "cells": [
  {
   "cell_type": "markdown",
   "metadata": {},
   "source": [
    "# ABC 117 - D\n",
    "\n",
    "https://atcoder.jp/contests/abc117/tasks/abc117_d"
   ]
  },
  {
   "cell_type": "code",
   "execution_count": 28,
   "metadata": {},
   "outputs": [
    {
     "name": "stdout",
     "output_type": "stream",
     "text": [
      "14\n"
     ]
    }
   ],
   "source": [
    "N, K = 3, 7\n",
    "A = [1, 6, 3]\n",
    "\n",
    "print(14)"
   ]
  },
  {
   "cell_type": "markdown",
   "metadata": {},
   "source": [
    "配列Aの中の数字の，kビット目が1である数字の個数を数えている．  \n",
    "模範解答に置ける$c_k$のこと．"
   ]
  },
  {
   "cell_type": "code",
   "execution_count": 29,
   "metadata": {},
   "outputs": [],
   "source": [
    "b = [0] * 40\n",
    "for i in range(40):\n",
    "    for a in A:\n",
    "        b[i] += (a & (1 << i)) >> i"
   ]
  },
  {
   "cell_type": "markdown",
   "metadata": {},
   "source": [
    "各ビットがfに貢献する値を求める．  \n",
    "* $X_k = 0$: $2^k c_k$\n",
    "* $X_k = 1$: $2^k (n - c_k)$\n",
    "\n",
    "$c_k$はその累積値をメモしている．"
   ]
  },
  {
   "cell_type": "code",
   "execution_count": 30,
   "metadata": {},
   "outputs": [],
   "source": [
    "c = [0] * 40\n",
    "for i in range(39):\n",
    "    if b[i] > N - b[i]:\n",
    "        c[i + 1] = c[i] + (b[i] << i)\n",
    "    else:\n",
    "        c[i + 1] = c[i] + (N - b[i] << i)"
   ]
  },
  {
   "cell_type": "markdown",
   "metadata": {},
   "source": [
    "大きい方のビットから探索していく．  \n",
    "k桁目のビット$X_k$について，\n",
    "\n",
    "#### $X_k = 1$\n",
    "\n",
    "* c[i]はi-1桁目までの貢献度の累積和を持っている．\n",
    "* そこにb[i]から求まるi桁目の貢献度を足す．\n",
    "* 加えて，cntも足す．\n",
    "* この数字について，maxを見つける．\n",
    "* $2^k (n - c_k)$をcntに足す．  \n",
    "\n",
    "#### $X_k = 0$\n",
    "\n",
    "* $2^k c_k$をcntに足す．"
   ]
  },
  {
   "cell_type": "code",
   "execution_count": 38,
   "metadata": {},
   "outputs": [
    {
     "name": "stdout",
     "output_type": "stream",
     "text": [
      "10 8\n",
      "14 10\n",
      "14 11\n",
      "14 11\n",
      "14\n"
     ]
    }
   ],
   "source": [
    "ans = 0\n",
    "cnt = 0\n",
    "for i in reversed(range(40)):\n",
    "    if K & (1 << i):\n",
    "        ans = max(ans, cnt + (b[i] << i) + c[i])\n",
    "        cnt += N - b[i] << i\n",
    "        print(ans, cnt)\n",
    "    else:\n",
    "        cnt += b[i] << i\n",
    "\n",
    "print(max(ans, cnt))"
   ]
  },
  {
   "cell_type": "code",
   "execution_count": null,
   "metadata": {},
   "outputs": [],
   "source": []
  },
  {
   "cell_type": "code",
   "execution_count": null,
   "metadata": {},
   "outputs": [],
   "source": []
  }
 ],
 "metadata": {
  "kernelspec": {
   "display_name": "Python 3",
   "language": "python",
   "name": "python3"
  },
  "language_info": {
   "codemirror_mode": {
    "name": "ipython",
    "version": 3
   },
   "file_extension": ".py",
   "mimetype": "text/x-python",
   "name": "python",
   "nbconvert_exporter": "python",
   "pygments_lexer": "ipython3",
   "version": "3.7.3"
  }
 },
 "nbformat": 4,
 "nbformat_minor": 2
}
