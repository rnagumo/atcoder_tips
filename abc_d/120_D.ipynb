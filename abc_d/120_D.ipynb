{
 "cells": [
  {
   "cell_type": "markdown",
   "metadata": {},
   "source": [
    "# ABC 125 - D\n",
    "\n",
    "https://atcoder.jp/contests/abc125/tasks/abc125_d"
   ]
  },
  {
   "cell_type": "code",
   "execution_count": 1,
   "metadata": {},
   "outputs": [
    {
     "name": "stdout",
     "output_type": "stream",
     "text": [
      "19\n"
     ]
    }
   ],
   "source": [
    "N = 3\n",
    "A = [-10, 5, -4]\n",
    "\n",
    "print(19)"
   ]
  },
  {
   "cell_type": "code",
   "execution_count": 3,
   "metadata": {},
   "outputs": [
    {
     "name": "stdout",
     "output_type": "stream",
     "text": [
      "30\n"
     ]
    }
   ],
   "source": [
    "N = 5\n",
    "A = [10, -4, -8, -11, 3]\n",
    "\n",
    "print(30)"
   ]
  },
  {
   "cell_type": "code",
   "execution_count": 7,
   "metadata": {},
   "outputs": [
    {
     "name": "stdout",
     "output_type": "stream",
     "text": [
      "30\n"
     ]
    }
   ],
   "source": [
    "s = list(abs(x) for x in A)\n",
    "cnt = sum(x < 0 for x in A)\n",
    "if (cnt % 2 == 0) or (0 in A):\n",
    "    print(sum(s))\n",
    "else:\n",
    "    print(sum(s) - 2 * min(s))"
   ]
  },
  {
   "cell_type": "markdown",
   "metadata": {},
   "source": [
    "#### DPで殴る"
   ]
  },
  {
   "cell_type": "code",
   "execution_count": 9,
   "metadata": {},
   "outputs": [
    {
     "name": "stdout",
     "output_type": "stream",
     "text": [
      "30\n"
     ]
    }
   ],
   "source": [
    "dp = [[0] * 2 for _ in range(N + 1)]\n",
    "dp[0][1] = -float('inf')\n",
    "\n",
    "for i in range(N):\n",
    "    dp[i + 1][0] = max(dp[i][0] + A[i], dp[i][1] - A[i])\n",
    "    dp[i + 1][1] = max(dp[i][0] - A[i], dp[i][1] + A[i])\n",
    "    \n",
    "print(dp[N][0])"
   ]
  },
  {
   "cell_type": "markdown",
   "metadata": {},
   "source": [
    "# ABC 124 - D\n",
    "\n",
    "https://atcoder.jp/contests/abc124/tasks/abc124_d"
   ]
  },
  {
   "cell_type": "code",
   "execution_count": 60,
   "metadata": {},
   "outputs": [
    {
     "name": "stdout",
     "output_type": "stream",
     "text": [
      "4\n"
     ]
    }
   ],
   "source": [
    "N, K = 5, 1\n",
    "S = '00010'\n",
    "\n",
    "print(4)"
   ]
  },
  {
   "cell_type": "code",
   "execution_count": 63,
   "metadata": {},
   "outputs": [
    {
     "name": "stdout",
     "output_type": "stream",
     "text": [
      "8\n"
     ]
    }
   ],
   "source": [
    "N, K = 14, 2\n",
    "S = '11101010110011'\n",
    "\n",
    "print(8)"
   ]
  },
  {
   "cell_type": "code",
   "execution_count": 66,
   "metadata": {},
   "outputs": [
    {
     "name": "stdout",
     "output_type": "stream",
     "text": [
      "1\n"
     ]
    }
   ],
   "source": [
    "N, K = 1, 1\n",
    "S = '1'\n",
    "\n",
    "print(1)"
   ]
  },
  {
   "cell_type": "code",
   "execution_count": 67,
   "metadata": {},
   "outputs": [
    {
     "data": {
      "text/plain": [
       "[('1', 0)]"
      ]
     },
     "execution_count": 67,
     "metadata": {},
     "output_type": "execute_result"
    }
   ],
   "source": [
    "que = [(S[0], 0)]\n",
    "cur = S[0]\n",
    "for i in range(1, N):\n",
    "    if cur != S[i]:\n",
    "        que.append((S[i], i))\n",
    "        cur = S[i]\n",
    "\n",
    "que"
   ]
  },
  {
   "cell_type": "code",
   "execution_count": 68,
   "metadata": {},
   "outputs": [
    {
     "name": "stdout",
     "output_type": "stream",
     "text": [
      "1\n"
     ]
    }
   ],
   "source": [
    "ans = []\n",
    "LEN = len(que)\n",
    "for i in range(LEN):\n",
    "    if que[i][0] == '0':\n",
    "        if i + 2 * K < LEN:\n",
    "            ans.append(que[i + 2 * K][1] - que[i][1])\n",
    "        else:\n",
    "            ans.append(N - que[i][1])\n",
    "    else:\n",
    "        if i + 2 * K + 1 < LEN:\n",
    "            ans.append(que[i + 2 * K + 1][1] - que[i][1])\n",
    "        else:\n",
    "            ans.append(N - que[i][1])\n",
    "            \n",
    "print(max(ans))"
   ]
  },
  {
   "cell_type": "markdown",
   "metadata": {},
   "source": [
    "# ABC 123 - D\n",
    "\n",
    "https://atcoder.jp/contests/abc123/tasks/abc123_d"
   ]
  },
  {
   "cell_type": "code",
   "execution_count": 93,
   "metadata": {},
   "outputs": [
    {
     "name": "stdout",
     "output_type": "stream",
     "text": [
      "19 17 15 14 13 12 10 8\n"
     ]
    }
   ],
   "source": [
    "X, Y, Z, K = 2, 2, 2, 8\n",
    "A = [4, 6]\n",
    "B = [1, 5]\n",
    "C = [3, 8]\n",
    "\n",
    "print(19, 17, 15, 14, 13, 12, 10, 8)"
   ]
  },
  {
   "cell_type": "markdown",
   "metadata": {},
   "source": [
    "#### 解法1 \n",
    "\n",
    "$O(K^2 \\log K)$"
   ]
  },
  {
   "cell_type": "code",
   "execution_count": 73,
   "metadata": {},
   "outputs": [
    {
     "data": {
      "text/plain": [
       "[11, 9, 7, 5]"
      ]
     },
     "execution_count": 73,
     "metadata": {},
     "output_type": "execute_result"
    }
   ],
   "source": [
    "ans1 = []\n",
    "for i in range(X):\n",
    "    for j in range(Y):\n",
    "        ans1.append(A[i] + B[j])\n",
    "        \n",
    "ans1 = sorted(ans1, reverse=True)[:K]\n",
    "ans1"
   ]
  },
  {
   "cell_type": "code",
   "execution_count": 75,
   "metadata": {},
   "outputs": [
    {
     "name": "stdout",
     "output_type": "stream",
     "text": [
      "19\n",
      "17\n",
      "15\n",
      "14\n",
      "13\n",
      "12\n",
      "10\n",
      "8\n"
     ]
    }
   ],
   "source": [
    "ans = []\n",
    "for i in range(len(ans1)):\n",
    "    for j in range(Z):\n",
    "        ans.append(ans1[i] + C[j])\n",
    "        \n",
    "print(*sorted(ans, reverse=True)[:K], sep='\\n')"
   ]
  },
  {
   "cell_type": "markdown",
   "metadata": {},
   "source": [
    "#### 解法2\n",
    "\n",
    "$O(K \\log^3 K)$"
   ]
  },
  {
   "cell_type": "code",
   "execution_count": 79,
   "metadata": {},
   "outputs": [
    {
     "name": "stdout",
     "output_type": "stream",
     "text": [
      "19\n",
      "17\n",
      "15\n",
      "14\n",
      "13\n",
      "12\n",
      "10\n",
      "8\n"
     ]
    }
   ],
   "source": [
    "A.sort(reverse=True)\n",
    "B.sort(reverse=True)\n",
    "C.sort(reverse=True)\n",
    "\n",
    "ans = []\n",
    "for i in range(X):\n",
    "    for j in range(Y):\n",
    "        if (i + 1) * (j + 1) > K:\n",
    "            break\n",
    "\n",
    "        for k in range(Z):\n",
    "            if (i + 1) * (j + 1) * (k + 1) <= K:\n",
    "                ans.append(A[i] + B[j] + C[k])\n",
    "            else:\n",
    "                break\n",
    "\n",
    "print(*sorted(ans, reverse=True)[:K], sep='\\n')"
   ]
  },
  {
   "cell_type": "markdown",
   "metadata": {},
   "source": [
    "#### 解法3 Priority Queue\n",
    "\n",
    "$O(K \\log K)$"
   ]
  },
  {
   "cell_type": "code",
   "execution_count": 88,
   "metadata": {},
   "outputs": [
    {
     "name": "stdout",
     "output_type": "stream",
     "text": [
      "400 310 310 301 301\n"
     ]
    }
   ],
   "source": [
    "X, Y, Z, K = 3, 3, 3, 5\n",
    "A = [1, 10, 100]\n",
    "B = [2, 20, 200]\n",
    "C = [1, 10, 100]\n",
    "\n",
    "print(400, 310, 310, 301, 301)"
   ]
  },
  {
   "cell_type": "code",
   "execution_count": 96,
   "metadata": {},
   "outputs": [
    {
     "name": "stdout",
     "output_type": "stream",
     "text": [
      "19\n",
      "17\n",
      "15\n",
      "14\n",
      "13\n",
      "12\n",
      "10\n",
      "8\n"
     ]
    }
   ],
   "source": [
    "from heapq import heappop, heappush\n",
    "from collections import defaultdict\n",
    "\n",
    "A.sort(reverse=True)\n",
    "B.sort(reverse=True)\n",
    "C.sort(reverse=True)\n",
    "\n",
    "pq = []\n",
    "heappush(pq, (-(A[0] + B[0] + C[0]), 0, 0, 0))\n",
    "visited = defaultdict(bool)\n",
    "visited[(0, 0, 0)] = True\n",
    "\n",
    "ans = []\n",
    "for _ in range(K):\n",
    "    p, i, j, k = heappop(pq)\n",
    "    ans.append(-p)\n",
    "\n",
    "    if (i + 1 < X) and (not visited[(i + 1, j, k)]):\n",
    "        visited[(i + 1, j, k)] = True\n",
    "        heappush(pq, (-(A[i + 1] + B[j] + C[k]), i + 1, j, k))\n",
    "    if (j + 1 < Y) and (not visited[(i, j + 1, k)]):\n",
    "        visited[(i, j + 1, k)] = True\n",
    "        heappush(pq, (-(A[i] + B[j + 1] + C[k]), i, j + 1, k))\n",
    "    if (k + 1 < Z) and (not visited[(i, j, k + 1)]):\n",
    "        visited[(i, j, k + 1)] = True\n",
    "        heappush(pq, (-(A[i] + B[j] + C[k + 1]), i, j, k + 1))\n",
    "        \n",
    "print(*sorted(ans, reverse=True), sep='\\n')"
   ]
  },
  {
   "cell_type": "markdown",
   "metadata": {},
   "source": [
    "#### 解法4 二分探索\n",
    "\n",
    "$O(K^2 \\log max)$"
   ]
  },
  {
   "cell_type": "markdown",
   "metadata": {},
   "source": [
    "美味しさの合計が 𝑷 以上である個数が 𝑲 個以上あるかどうかを高速判定する方法  \n",
    "→　枝刈り全探索"
   ]
  },
  {
   "cell_type": "code",
   "execution_count": 97,
   "metadata": {},
   "outputs": [],
   "source": [
    "def solve(p):\n",
    "    cnt = 0\n",
    "    for i in range(X):\n",
    "        for j in range(Y):\n",
    "            for k in range(Z):\n",
    "                if A[i] + B[j] + C[k] < p:\n",
    "                    break\n",
    "\n",
    "                cnt += 1\n",
    "                if cnt >= K:\n",
    "                    return True\n",
    "                \n",
    "    return False"
   ]
  },
  {
   "cell_type": "markdown",
   "metadata": {},
   "source": [
    "# ABC 122 - D\n",
    "\n",
    "https://atcoder.jp/contests/abc122/tasks/abc122_d"
   ]
  },
  {
   "cell_type": "code",
   "execution_count": 98,
   "metadata": {},
   "outputs": [
    {
     "name": "stdout",
     "output_type": "stream",
     "text": [
      "61\n"
     ]
    }
   ],
   "source": [
    "N = 3\n",
    "\n",
    "print(61)"
   ]
  },
  {
   "cell_type": "code",
   "execution_count": 101,
   "metadata": {},
   "outputs": [
    {
     "name": "stdout",
     "output_type": "stream",
     "text": [
      "61\n"
     ]
    }
   ],
   "source": [
    "MOD = 10 ** 9 + 7\n",
    "memo = [{} for i in range(N + 1)]\n",
    "\n",
    "def ok(last4):\n",
    "    for i in range(4):\n",
    "        t = list(last4)\n",
    "        if i >= 1:\n",
    "            t[i - 1], t[i] = t[i], t[i - 1]\n",
    "        if ''.join(t).count('AGC') >= 1:\n",
    "            return False\n",
    "    return True\n",
    "\n",
    "def dfs(cur, last3):\n",
    "    if last3 in memo[cur]:\n",
    "        return memo[cur][last3]\n",
    "    \n",
    "    if cur == N:\n",
    "        return 1\n",
    "    \n",
    "    ret = 0\n",
    "    for c in 'ACGT':\n",
    "        if ok(last3 + c):\n",
    "            ret = (ret + dfs(cur + 1, last3[1:] + c)) % MOD\n",
    "    memo[cur][last3] = ret\n",
    "    return ret\n",
    "\n",
    "print(dfs(0, 'TTT'))"
   ]
  },
  {
   "cell_type": "markdown",
   "metadata": {},
   "source": [
    "# ABC 121 - D\n",
    "\n",
    "https://atcoder.jp/contests/abc121/tasks/abc121_d"
   ]
  },
  {
   "cell_type": "code",
   "execution_count": 29,
   "metadata": {},
   "outputs": [
    {
     "name": "stdout",
     "output_type": "stream",
     "text": [
      "5\n"
     ]
    }
   ],
   "source": [
    "A, B = 2, 4\n",
    "\n",
    "print(5)"
   ]
  },
  {
   "cell_type": "code",
   "execution_count": 32,
   "metadata": {},
   "outputs": [
    {
     "name": "stdout",
     "output_type": "stream",
     "text": [
      "435\n"
     ]
    }
   ],
   "source": [
    "A, B = 123, 456\n",
    "\n",
    "print(435)"
   ]
  },
  {
   "cell_type": "code",
   "execution_count": 42,
   "metadata": {},
   "outputs": [],
   "source": [
    "def func(n):\n",
    "    # return 1^2^ ... ^n\n",
    "    ret = (n + 1) // 2 % 2\n",
    "    if n % 2 == 0:\n",
    "        ret ^= n\n",
    "    return ret"
   ]
  },
  {
   "cell_type": "code",
   "execution_count": 43,
   "metadata": {},
   "outputs": [
    {
     "name": "stdout",
     "output_type": "stream",
     "text": [
      "435\n"
     ]
    }
   ],
   "source": [
    "print(func(A - 1) ^ func(B))"
   ]
  },
  {
   "cell_type": "markdown",
   "metadata": {},
   "source": [
    "# ABC 120 - D\n",
    "\n",
    "https://atcoder.jp/contests/abc120/tasks/abc120_d"
   ]
  },
  {
   "cell_type": "code",
   "execution_count": 7,
   "metadata": {},
   "outputs": [
    {
     "name": "stdout",
     "output_type": "stream",
     "text": [
      "0 0 4 5 6\n"
     ]
    }
   ],
   "source": [
    "N, M = 4, 5\n",
    "edges = [[1, 2], [3, 4], [1, 3], [2, 3], [1, 4]]\n",
    "\n",
    "print(0, 0, 4, 5, 6)"
   ]
  },
  {
   "cell_type": "code",
   "execution_count": 8,
   "metadata": {},
   "outputs": [],
   "source": [
    "class UnionFind:\n",
    "    def __init__(self, n):\n",
    "        self.par = list(range(n))\n",
    "        self.rank = [0] * n\n",
    "        self.size = [1] * n\n",
    "        \n",
    "    def find(self, x):\n",
    "        if self.par[x] == x:\n",
    "            return x\n",
    "        else:\n",
    "            self.par[x] = self.find(self.par[x])\n",
    "            return self.par[x]\n",
    "        \n",
    "    def unite(self, x, y):\n",
    "        x = self.find(x)\n",
    "        y = self.find(y)\n",
    "        \n",
    "        if x == y:\n",
    "            return\n",
    "        \n",
    "        if self.rank[x] == self.rank[y]:\n",
    "            self.rank[x] += 1\n",
    "        elif self.rank[x] < self.rank[y]:\n",
    "            x, y = y, x\n",
    "        \n",
    "        self.par[y] = x\n",
    "        self.size[x] += self.size[y]\n",
    "                \n",
    "    def is_same(self, x, y):\n",
    "        return self.find(x) == self.find(y)\n",
    "    \n",
    "    def get_size(self, x):\n",
    "        return self.size[self.find(x)]"
   ]
  },
  {
   "cell_type": "code",
   "execution_count": 14,
   "metadata": {},
   "outputs": [
    {
     "name": "stdout",
     "output_type": "stream",
     "text": [
      "0\n",
      "0\n",
      "4\n",
      "5\n",
      "6\n"
     ]
    }
   ],
   "source": [
    "t = UnionFind(N)\n",
    "ans = [0] * M\n",
    "ans[0] = N * (N - 1) // 2\n",
    "for i, (a, b) in enumerate(reversed(edges[1:])):\n",
    "    a -= 1\n",
    "    b -= 1\n",
    "    if not t.is_same(a, b):\n",
    "        ans[i + 1] = ans[i] - t.get_size(a) * t.get_size(b)\n",
    "        t.unite(a, b)\n",
    "    else:\n",
    "        ans[i + 1] = ans[i]\n",
    "    \n",
    "print(*ans[::-1], sep='\\n')"
   ]
  },
  {
   "cell_type": "code",
   "execution_count": null,
   "metadata": {},
   "outputs": [],
   "source": []
  },
  {
   "cell_type": "code",
   "execution_count": null,
   "metadata": {},
   "outputs": [],
   "source": []
  }
 ],
 "metadata": {
  "kernelspec": {
   "display_name": "Python 3",
   "language": "python",
   "name": "python3"
  },
  "language_info": {
   "codemirror_mode": {
    "name": "ipython",
    "version": 3
   },
   "file_extension": ".py",
   "mimetype": "text/x-python",
   "name": "python",
   "nbconvert_exporter": "python",
   "pygments_lexer": "ipython3",
   "version": "3.7.3"
  }
 },
 "nbformat": 4,
 "nbformat_minor": 2
}
