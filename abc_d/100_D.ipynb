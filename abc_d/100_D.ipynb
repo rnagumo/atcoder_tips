{
 "cells": [
  {
   "cell_type": "markdown",
   "metadata": {},
   "source": [
    "# ABC 109 - D\n",
    "\n",
    "https://atcoder.jp/contests/abc109/tasks/abc109_d"
   ]
  },
  {
   "cell_type": "code",
   "execution_count": 11,
   "metadata": {},
   "outputs": [
    {
     "name": "stdout",
     "output_type": "stream",
     "text": [
      "3, 2 2 2 3, 1 1 1 2, 1 3 1 2\n"
     ]
    }
   ],
   "source": [
    "H, W = 2, 3\n",
    "A = [[1, 2, 3], [0, 1, 1]]\n",
    "\n",
    "print('3, 2 2 2 3, 1 1 1 2, 1 3 1 2')"
   ]
  },
  {
   "cell_type": "code",
   "execution_count": 12,
   "metadata": {},
   "outputs": [
    {
     "name": "stdout",
     "output_type": "stream",
     "text": [
      "3\n",
      "1 1 1 2\n",
      "1 2 1 3\n",
      "2 3 2 2\n"
     ]
    }
   ],
   "source": [
    "ans = []\n",
    "idx_list = [(i, j) if i % 2 == 0 else (i, W - j - 1) \n",
    "            for i in range(H) for j in range(W)]\n",
    "        \n",
    "for i, (x, y) in enumerate(idx_list[:-1]):\n",
    "    if A[x][y] % 2 == 1:\n",
    "        A[idx_list[i + 1][0]][idx_list[i + 1][1]] += 1\n",
    "        ans.append([x, y, idx_list[i + 1][0], idx_list[i + 1][1]])\n",
    "        \n",
    "print(len(ans))\n",
    "for v in ans:\n",
    "    print(*[c + 1 for c in v])"
   ]
  },
  {
   "cell_type": "markdown",
   "metadata": {},
   "source": [
    "# ABC 108 - D\n",
    "\n",
    "https://atcoder.jp/contests/abc108/tasks/arc102_b"
   ]
  },
  {
   "cell_type": "code",
   "execution_count": 18,
   "metadata": {},
   "outputs": [],
   "source": [
    "L = 4"
   ]
  },
  {
   "cell_type": "markdown",
   "metadata": {},
   "source": [
    "#### bitの発想"
   ]
  },
  {
   "cell_type": "code",
   "execution_count": 23,
   "metadata": {},
   "outputs": [
    {
     "name": "stdout",
     "output_type": "stream",
     "text": [
      "3 5\n",
      "1 2 0\n",
      "1 2 1\n",
      "2 3 0\n",
      "2 3 2\n",
      "1 3 4\n"
     ]
    }
   ],
   "source": [
    "r = 0\n",
    "while 2 ** (r + 1) <= L:\n",
    "    r += 1\n",
    "    \n",
    "N = r + 1\n",
    "edges = []\n",
    "for i in range(1, N):\n",
    "    edges.append([i, i + 1, 0])\n",
    "    edges.append([i, i + 1, 2 ** (i - 1)])\n",
    "    \n",
    "for t in reversed(range(1, N)):\n",
    "    if L - 2 ** (t - 1) >= 2 ** r:\n",
    "        edges.append([t, N, L - 2 ** (t - 1)])\n",
    "        L -= 2 ** (t - 1)\n",
    "    \n",
    "print(N, len(edges))\n",
    "for v in edges:\n",
    "    print(*v)"
   ]
  },
  {
   "cell_type": "markdown",
   "metadata": {},
   "source": [
    "# ABC 107 - D\n",
    "\n",
    "https://atcoder.jp/contests/abc107/tasks/arc101_b"
   ]
  },
  {
   "cell_type": "code",
   "execution_count": 9,
   "metadata": {},
   "outputs": [
    {
     "name": "stdout",
     "output_type": "stream",
     "text": [
      "30\n"
     ]
    }
   ],
   "source": [
    "N = 3\n",
    "a = [10, 30, 20]\n",
    "\n",
    "print(30)"
   ]
  },
  {
   "cell_type": "code",
   "execution_count": 11,
   "metadata": {},
   "outputs": [
    {
     "name": "stdout",
     "output_type": "stream",
     "text": [
      "8\n"
     ]
    }
   ],
   "source": [
    "N = 10\n",
    "a = [5, 9, 5, 9, 8, 9, 3, 5, 4, 3]\n",
    "\n",
    "print(8)"
   ]
  },
  {
   "cell_type": "code",
   "execution_count": 2,
   "metadata": {},
   "outputs": [],
   "source": [
    "class BIT:\n",
    "    def __init__(self, n):\n",
    "        self.n = n\n",
    "        self.bit = [0] * (n + 1)\n",
    "        \n",
    "    def update(self, i, v):\n",
    "        while i <= self.n:\n",
    "            self.bit[i] += v\n",
    "            i += i & -i\n",
    "            \n",
    "    def query(self, i):\n",
    "        ret = 0\n",
    "        while i > 0:\n",
    "            ret += self.bit[i]\n",
    "            i -= i & -i\n",
    "        return ret\n",
    "    \n",
    "    def reset(self):\n",
    "        self.bit = [0] * (self.n + 1)"
   ]
  },
  {
   "cell_type": "markdown",
   "metadata": {},
   "source": [
    "二分探索＋転倒数  \n",
    "計算量は$O(N \\log N \\log A)$，ただし，$A = max(a)$\n",
    "\n",
    "参考：  \n",
    "https://atcoder.jp/contests/abc107/submissions/4541230"
   ]
  },
  {
   "cell_type": "code",
   "execution_count": 12,
   "metadata": {},
   "outputs": [
    {
     "name": "stdout",
     "output_type": "stream",
     "text": [
      "8\n"
     ]
    }
   ],
   "source": [
    "from itertools import accumulate\n",
    "from math import ceil\n",
    "\n",
    "ub = max(a) + 1\n",
    "lb = 0\n",
    "th = ceil(((N + 1) * N // 2) / 2)\n",
    "bit = BIT(N + 1)\n",
    "\n",
    "while ub - lb > 1:\n",
    "    mid = (ub + lb) // 2\n",
    "    b = [1 if v >= mid else -1 for v in a]\n",
    "    b = [0] + list(accumulate(b))\n",
    "    b_sorted = {v: i + 1 for i, v in enumerate(sorted(b))}\n",
    "    \n",
    "    # Count inversion\n",
    "    cnt = 0\n",
    "    bit.reset()\n",
    "    for v in b:\n",
    "        cnt += bit.query(b_sorted[v])\n",
    "        bit.update(b_sorted[v], 1)\n",
    "        \n",
    "    if cnt >= th:\n",
    "        lb = mid\n",
    "    else:\n",
    "        ub = mid\n",
    "    \n",
    "print(lb)"
   ]
  },
  {
   "cell_type": "markdown",
   "metadata": {},
   "source": [
    "# ABC 106 - D\n",
    "\n",
    "https://atcoder.jp/contests/abc106/tasks/abc106_d"
   ]
  },
  {
   "cell_type": "code",
   "execution_count": 68,
   "metadata": {},
   "outputs": [
    {
     "name": "stdout",
     "output_type": "stream",
     "text": [
      "3\n"
     ]
    }
   ],
   "source": [
    "N, M, Q = 2, 3, 1\n",
    "X = [[1, 1], [1, 2], [2, 2]]\n",
    "Y = [[1, 2]]\n",
    "\n",
    "print(3)"
   ]
  },
  {
   "cell_type": "code",
   "execution_count": 80,
   "metadata": {},
   "outputs": [
    {
     "name": "stdout",
     "output_type": "stream",
     "text": [
      "1 1\n"
     ]
    }
   ],
   "source": [
    "N, M, Q = 10, 3, 2\n",
    "X = [[1, 5], [2, 8], [7, 10]]\n",
    "Y = [[1, 7], [3, 10]]\n",
    "\n",
    "print(1, 1)"
   ]
  },
  {
   "cell_type": "markdown",
   "metadata": {},
   "source": [
    "#### 解答例\n",
    "\n",
    "https://atcoder.jp/contests/abc106/submissions/3024990\n",
    "\n",
    "計算量$O(QN + N^2)$"
   ]
  },
  {
   "cell_type": "code",
   "execution_count": 81,
   "metadata": {},
   "outputs": [
    {
     "name": "stdout",
     "output_type": "stream",
     "text": [
      "1\n",
      "1\n"
     ]
    }
   ],
   "source": [
    "memo = [[0] * (N + 1) for _ in range(N + 1)]\n",
    "c = [[0] * (N + 1) for _ in range(N + 1)]\n",
    "\n",
    "for l, r in X:\n",
    "    memo[l][r] += 1\n",
    "    \n",
    "for i in range(1, N + 1):\n",
    "    for j in range(1, N + 1):\n",
    "        c[i][j] = c[i][j - 1] + memo[i][j]\n",
    "        \n",
    "for l, r in Y:\n",
    "    ans = 0\n",
    "    for i in range(l, r + 1):\n",
    "        ans += c[i][r] - c[i][l - 1]\n",
    "    print(ans)"
   ]
  },
  {
   "cell_type": "markdown",
   "metadata": {},
   "source": [
    "#### 二次元累積和を用いる場合\n",
    "\n",
    "計算量$O(N^2 + Q)$\n",
    "\n",
    "https://atcoder.jp/contests/abc106/submissions/3024983"
   ]
  },
  {
   "cell_type": "code",
   "execution_count": 83,
   "metadata": {},
   "outputs": [
    {
     "name": "stdout",
     "output_type": "stream",
     "text": [
      "1\n",
      "1\n"
     ]
    }
   ],
   "source": [
    "p = [[0] * (N + 1) for _ in range(N + 1)]\n",
    "\n",
    "for l, r in X:\n",
    "    p[l][r] += 1\n",
    "    \n",
    "for i in range(1, N + 1):\n",
    "    for j in range(1, N + 1):\n",
    "        p[i][j] += p[i][j - 1]\n",
    "        \n",
    "for i in range(1, N + 1):\n",
    "    for j in range(1, N + 1):\n",
    "        p[i][j] += p[i - 1][j]\n",
    "        \n",
    "for l, r in Y:\n",
    "    ans = p[r][r] + p[l - 1][l - 1] - p[l - 1][r] - p[r][l - 1]\n",
    "    print(ans)"
   ]
  },
  {
   "cell_type": "markdown",
   "metadata": {},
   "source": [
    "# ABC 105 - D\n",
    "\n",
    "https://atcoder.jp/contests/abc105/tasks/abc105_d"
   ]
  },
  {
   "cell_type": "code",
   "execution_count": 110,
   "metadata": {},
   "outputs": [
    {
     "name": "stdout",
     "output_type": "stream",
     "text": [
      "3\n"
     ]
    }
   ],
   "source": [
    "N, M = 3, 2\n",
    "A = [4, 1, 5]\n",
    "\n",
    "print(3)"
   ]
  },
  {
   "cell_type": "code",
   "execution_count": 105,
   "metadata": {},
   "outputs": [
    {
     "name": "stdout",
     "output_type": "stream",
     "text": [
      "6\n"
     ]
    }
   ],
   "source": [
    "N, M = 13, 17\n",
    "A = [29, 7, 5, 7, 9, 51, 7, 13, 8, 55, 42, 9, 81]\n",
    "\n",
    "print(6)"
   ]
  },
  {
   "cell_type": "code",
   "execution_count": 111,
   "metadata": {},
   "outputs": [
    {
     "name": "stdout",
     "output_type": "stream",
     "text": [
      "3\n"
     ]
    }
   ],
   "source": [
    "from itertools import accumulate\n",
    "from collections import Counter\n",
    "\n",
    "B = list(accumulate(A))\n",
    "ctr = Counter([v % M for v in B])\n",
    "\n",
    "ans = 0\n",
    "for i, v in ctr.items():\n",
    "    ans += v * (v - 1) // 2\n",
    "    if i == 0:\n",
    "        ans += v\n",
    "    \n",
    "print(ans)"
   ]
  },
  {
   "cell_type": "markdown",
   "metadata": {},
   "source": [
    "# ABC 104 - D\n",
    "\n",
    "https://atcoder.jp/contests/abc104/tasks/abc104_d"
   ]
  },
  {
   "cell_type": "code",
   "execution_count": 1,
   "metadata": {},
   "outputs": [
    {
     "name": "stdout",
     "output_type": "stream",
     "text": [
      "8\n"
     ]
    }
   ],
   "source": [
    "S = 'A??C'\n",
    "\n",
    "print(8)"
   ]
  },
  {
   "cell_type": "markdown",
   "metadata": {},
   "source": [
    "無駄な計算（ex. 0をかける），無駄なメモリアクセスを無くせば，TLEにならない．"
   ]
  },
  {
   "cell_type": "code",
   "execution_count": 3,
   "metadata": {},
   "outputs": [
    {
     "name": "stdout",
     "output_type": "stream",
     "text": [
      "8\n"
     ]
    }
   ],
   "source": [
    "MOD = 10 ** 9 + 7\n",
    "N = len(S)\n",
    "dp = [[0] * 4 for _ in range(N + 1)]\n",
    "dp[-1][-1] = 1\n",
    "\n",
    "for i in reversed(range(N)):\n",
    "    m = 3 if S[i] == '?' else 1\n",
    "    for j in reversed(range(4)):\n",
    "        dp[i][j] = m * dp[i + 1][j]\n",
    "        if (j < 3) and (S[i] == '?' or S[i] == 'ABC'[j]):\n",
    "            dp[i][j] += dp[i + 1][j + 1]\n",
    "        dp[i][j] %= MOD\n",
    "\n",
    "print(dp[0][0] % MOD)"
   ]
  },
  {
   "cell_type": "markdown",
   "metadata": {},
   "source": [
    "# ABC 103 - D\n",
    "\n",
    "https://atcoder.jp/contests/abc103/tasks/abc103_d"
   ]
  },
  {
   "cell_type": "code",
   "execution_count": 4,
   "metadata": {},
   "outputs": [
    {
     "name": "stdout",
     "output_type": "stream",
     "text": [
      "1\n"
     ]
    }
   ],
   "source": [
    "N, M = 5, 2\n",
    "X = [[1, 4], [2, 5]]\n",
    "\n",
    "print(1)"
   ]
  },
  {
   "cell_type": "code",
   "execution_count": null,
   "metadata": {},
   "outputs": [],
   "source": []
  },
  {
   "cell_type": "code",
   "execution_count": null,
   "metadata": {},
   "outputs": [],
   "source": []
  },
  {
   "cell_type": "code",
   "execution_count": null,
   "metadata": {},
   "outputs": [],
   "source": []
  },
  {
   "cell_type": "code",
   "execution_count": null,
   "metadata": {},
   "outputs": [],
   "source": []
  }
 ],
 "metadata": {
  "kernelspec": {
   "display_name": "Python 3",
   "language": "python",
   "name": "python3"
  },
  "language_info": {
   "codemirror_mode": {
    "name": "ipython",
    "version": 3
   },
   "file_extension": ".py",
   "mimetype": "text/x-python",
   "name": "python",
   "nbconvert_exporter": "python",
   "pygments_lexer": "ipython3",
   "version": "3.7.3"
  }
 },
 "nbformat": 4,
 "nbformat_minor": 2
}
