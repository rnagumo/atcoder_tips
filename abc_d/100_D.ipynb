{
 "cells": [
  {
   "cell_type": "markdown",
   "metadata": {},
   "source": [
    "# ABC 109 - D\n",
    "\n",
    "https://atcoder.jp/contests/abc109/tasks/abc109_d"
   ]
  },
  {
   "cell_type": "code",
   "execution_count": 11,
   "metadata": {},
   "outputs": [
    {
     "name": "stdout",
     "output_type": "stream",
     "text": [
      "3, 2 2 2 3, 1 1 1 2, 1 3 1 2\n"
     ]
    }
   ],
   "source": [
    "H, W = 2, 3\n",
    "A = [[1, 2, 3], [0, 1, 1]]\n",
    "\n",
    "print('3, 2 2 2 3, 1 1 1 2, 1 3 1 2')"
   ]
  },
  {
   "cell_type": "code",
   "execution_count": 12,
   "metadata": {},
   "outputs": [
    {
     "name": "stdout",
     "output_type": "stream",
     "text": [
      "3\n",
      "1 1 1 2\n",
      "1 2 1 3\n",
      "2 3 2 2\n"
     ]
    }
   ],
   "source": [
    "ans = []\n",
    "idx_list = [(i, j) if i % 2 == 0 else (i, W - j - 1) \n",
    "            for i in range(H) for j in range(W)]\n",
    "        \n",
    "for i, (x, y) in enumerate(idx_list[:-1]):\n",
    "    if A[x][y] % 2 == 1:\n",
    "        A[idx_list[i + 1][0]][idx_list[i + 1][1]] += 1\n",
    "        ans.append([x, y, idx_list[i + 1][0], idx_list[i + 1][1]])\n",
    "        \n",
    "print(len(ans))\n",
    "for v in ans:\n",
    "    print(*[c + 1 for c in v])"
   ]
  },
  {
   "cell_type": "markdown",
   "metadata": {},
   "source": [
    "# ABC 108 - D\n",
    "\n",
    "https://atcoder.jp/contests/abc108/tasks/arc102_b"
   ]
  },
  {
   "cell_type": "code",
   "execution_count": null,
   "metadata": {},
   "outputs": [],
   "source": []
  },
  {
   "cell_type": "code",
   "execution_count": null,
   "metadata": {},
   "outputs": [],
   "source": []
  },
  {
   "cell_type": "code",
   "execution_count": null,
   "metadata": {},
   "outputs": [],
   "source": []
  },
  {
   "cell_type": "code",
   "execution_count": null,
   "metadata": {},
   "outputs": [],
   "source": []
  },
  {
   "cell_type": "code",
   "execution_count": null,
   "metadata": {},
   "outputs": [],
   "source": []
  },
  {
   "cell_type": "code",
   "execution_count": null,
   "metadata": {},
   "outputs": [],
   "source": []
  },
  {
   "cell_type": "code",
   "execution_count": null,
   "metadata": {},
   "outputs": [],
   "source": []
  },
  {
   "cell_type": "code",
   "execution_count": null,
   "metadata": {},
   "outputs": [],
   "source": []
  }
 ],
 "metadata": {
  "kernelspec": {
   "display_name": "Python 3",
   "language": "python",
   "name": "python3"
  },
  "language_info": {
   "codemirror_mode": {
    "name": "ipython",
    "version": 3
   },
   "file_extension": ".py",
   "mimetype": "text/x-python",
   "name": "python",
   "nbconvert_exporter": "python",
   "pygments_lexer": "ipython3",
   "version": "3.7.3"
  }
 },
 "nbformat": 4,
 "nbformat_minor": 2
}
