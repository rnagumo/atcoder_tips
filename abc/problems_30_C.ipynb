{
 "cells": [
  {
   "cell_type": "markdown",
   "metadata": {},
   "source": [
    "# 39 - C\n",
    "\n",
    "https://atcoder.jp/contests/abc039/tasks/abc039_c"
   ]
  },
  {
   "cell_type": "code",
   "execution_count": 66,
   "metadata": {},
   "outputs": [
    {
     "name": "stdout",
     "output_type": "stream",
     "text": [
      "ans: Do\n"
     ]
    }
   ],
   "source": [
    "s = 'WBWBWWBWBWBWWBWBWWBW'\n",
    "\n",
    "print('ans: Do')"
   ]
  },
  {
   "cell_type": "code",
   "execution_count": 67,
   "metadata": {},
   "outputs": [
    {
     "name": "stdout",
     "output_type": "stream",
     "text": [
      "Do\n"
     ]
    }
   ],
   "source": [
    "import re\n",
    "\n",
    "pos = re.search('WBWBWBW', s).start()\n",
    "ans = ['', 'So', '', 'La', '', 'Si', 'Do', '', 'Re', '', 'Mi', 'Fa'][::-1]\n",
    "print(ans[pos])"
   ]
  },
  {
   "cell_type": "code",
   "execution_count": 68,
   "metadata": {},
   "outputs": [
    {
     "name": "stdout",
     "output_type": "stream",
     "text": [
      "Do\n"
     ]
    }
   ],
   "source": [
    "s = 'WBWBWWBWBWBWWBWBWWBW'\n",
    "d = {5: 'Do', 3: 'Re', 1: 'Mi', 0: 'Fa', 10: 'So', 8: 'La', 7: 'Si'}\n",
    "print(d[s.find('WBWBWBW')])"
   ]
  },
  {
   "cell_type": "code",
   "execution_count": null,
   "metadata": {},
   "outputs": [],
   "source": []
  },
  {
   "cell_type": "code",
   "execution_count": null,
   "metadata": {},
   "outputs": [],
   "source": []
  },
  {
   "cell_type": "code",
   "execution_count": null,
   "metadata": {},
   "outputs": [],
   "source": []
  },
  {
   "cell_type": "code",
   "execution_count": null,
   "metadata": {},
   "outputs": [],
   "source": []
  }
 ],
 "metadata": {
  "kernelspec": {
   "display_name": "Python 3",
   "language": "python",
   "name": "python3"
  },
  "language_info": {
   "codemirror_mode": {
    "name": "ipython",
    "version": 3
   },
   "file_extension": ".py",
   "mimetype": "text/x-python",
   "name": "python",
   "nbconvert_exporter": "python",
   "pygments_lexer": "ipython3",
   "version": "3.7.3"
  }
 },
 "nbformat": 4,
 "nbformat_minor": 2
}
