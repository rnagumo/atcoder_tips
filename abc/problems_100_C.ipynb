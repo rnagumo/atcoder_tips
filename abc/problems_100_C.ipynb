{
 "cells": [
  {
   "cell_type": "markdown",
   "metadata": {},
   "source": [
    "# 109 - C\n",
    "\n",
    "https://atcoder.jp/contests/abc109/tasks/abc109_c\n",
    "\n",
    "N, *X = map(int, open(0).read().split())"
   ]
  },
  {
   "cell_type": "code",
   "execution_count": 20,
   "metadata": {},
   "outputs": [],
   "source": [
    "from math import gcd\n",
    "from functools import reduce\n",
    "\n",
    "def solve():\n",
    "    y = [abs(x[i] - X) for i in range(N)]\n",
    "    print(reduce(gcd, y))"
   ]
  },
  {
   "cell_type": "code",
   "execution_count": 21,
   "metadata": {},
   "outputs": [
    {
     "name": "stdout",
     "output_type": "stream",
     "text": [
      "2\n"
     ]
    }
   ],
   "source": [
    "N = 3\n",
    "X = 3\n",
    "x = [1, 7, 11]\n",
    "solve()"
   ]
  },
  {
   "cell_type": "code",
   "execution_count": 22,
   "metadata": {},
   "outputs": [
    {
     "name": "stdout",
     "output_type": "stream",
     "text": [
      "24\n"
     ]
    }
   ],
   "source": [
    "N = 3\n",
    "X = 81\n",
    "x = [33, 105, 57]\n",
    "solve()"
   ]
  },
  {
   "cell_type": "code",
   "execution_count": 19,
   "metadata": {},
   "outputs": [
    {
     "data": {
      "text/plain": [
       "24"
      ]
     },
     "execution_count": 19,
     "metadata": {},
     "output_type": "execute_result"
    }
   ],
   "source": [
    "X.sort()\n",
    "y = [X[i + 1] - X[i] for i in range(N)]\n",
    "reduce(gcd, y)"
   ]
  },
  {
   "cell_type": "markdown",
   "metadata": {},
   "source": [
    "# 108 - C\n",
    "\n",
    "https://atcoder.jp/contests/abc108/tasks/arc102_a\n",
    "\n",
    "N, K = map(int, input().split())"
   ]
  },
  {
   "cell_type": "code",
   "execution_count": 41,
   "metadata": {},
   "outputs": [],
   "source": [
    "N, K = 3, 2"
   ]
  },
  {
   "cell_type": "markdown",
   "metadata": {},
   "source": [
    "この計算量は O(N * 3)"
   ]
  },
  {
   "cell_type": "code",
   "execution_count": 45,
   "metadata": {},
   "outputs": [
    {
     "name": "stdout",
     "output_type": "stream",
     "text": [
      "27\n"
     ]
    }
   ],
   "source": [
    "from itertools import product\n",
    "x = list(product(range(1, N + 1), repeat=3))\n",
    "\n",
    "ans = 0\n",
    "for q in x:\n",
    "    q.append(q[0])\n",
    "    if sum(q) * 2 % K == 0:\n",
    "        ans += 1\n",
    "    \n",
    "print(ans)"
   ]
  },
  {
   "cell_type": "markdown",
   "metadata": {},
   "source": [
    "#### 式変形から，数えるべきものが分かる"
   ]
  },
  {
   "cell_type": "code",
   "execution_count": 58,
   "metadata": {},
   "outputs": [
    {
     "name": "stdout",
     "output_type": "stream",
     "text": [
      "ans: 27\n",
      "27\n"
     ]
    }
   ],
   "source": [
    "N, K = 31415, 9265\n",
    "print('ans: 27')\n",
    "\n",
    "if K % 2 == 1:\n",
    "    print(sum(1 for n in range(1, N + 1) if n % K == 0) ** 3)\n",
    "else:\n",
    "    print(sum(1 for n in range(1, N + 1) if (n % K == 0) or (n % K == K // 2)) ** 3)"
   ]
  },
  {
   "cell_type": "code",
   "execution_count": 71,
   "metadata": {},
   "outputs": [
    {
     "name": "stdout",
     "output_type": "stream",
     "text": [
      "ans: 114191\n",
      "114191\n"
     ]
    }
   ],
   "source": [
    "N, K = 35897, 932\n",
    "print('ans: 114191')\n",
    "\n",
    "if K % 2 == 1:\n",
    "    print(sum(1 for n in range(1, N + 1) if n % K == 0) ** 3)\n",
    "else:\n",
    "    print(sum(1 for n in range(1, N + 1) if n % K == 0) ** 3 \\\n",
    "              + sum(1 for n in range(1, N + 1) if n % K == K // 2) ** 3)"
   ]
  },
  {
   "cell_type": "markdown",
   "metadata": {},
   "source": [
    "#### Kで割ったあまりが0ということは，Kの倍数ということ"
   ]
  },
  {
   "cell_type": "code",
   "execution_count": 73,
   "metadata": {},
   "outputs": [
    {
     "name": "stdout",
     "output_type": "stream",
     "text": [
      "ans: 27\n",
      "27\n"
     ]
    }
   ],
   "source": [
    "N, K = 31415, 9265\n",
    "print('ans: 27')\n",
    "\n",
    "ans = (N // K) ** 3\n",
    "ans += ((N + K // 2) // K) ** 3 if K % 2 == 0 else 0\n",
    "print(ans)"
   ]
  },
  {
   "cell_type": "code",
   "execution_count": 76,
   "metadata": {},
   "outputs": [
    {
     "name": "stdout",
     "output_type": "stream",
     "text": [
      "ans: 114191\n",
      "114191\n"
     ]
    }
   ],
   "source": [
    "N, K = 35897, 932\n",
    "print('ans: 114191')\n",
    "\n",
    "ans = (N // K) ** 3\n",
    "ans += ((N + K // 2) // K) ** 3 if K % 2 == 0 else 0\n",
    "print(ans)"
   ]
  },
  {
   "cell_type": "markdown",
   "metadata": {},
   "source": [
    "# 107 - C\n",
    "\n",
    "https://atcoder.jp/contests/abc107/tasks/arc101_a"
   ]
  },
  {
   "cell_type": "code",
   "execution_count": 139,
   "metadata": {},
   "outputs": [],
   "source": [
    "N, K = 5, 3\n",
    "x = [-30, -10, 10, 20, 50]"
   ]
  },
  {
   "cell_type": "code",
   "execution_count": 147,
   "metadata": {},
   "outputs": [
    {
     "name": "stdout",
     "output_type": "stream",
     "text": [
      "40\n"
     ]
    }
   ],
   "source": [
    "ans = 1e9\n",
    "for i in range(N - K + 1):\n",
    "    l = x[i]\n",
    "    r = x[i + K - 1]\n",
    "    ans = min(ans, abs(l) + (r - l), abs(r) + (r - l))\n",
    "    \n",
    "print(ans)"
   ]
  },
  {
   "cell_type": "markdown",
   "metadata": {},
   "source": [
    "# 106 - C\n",
    "\n",
    "https://atcoder.jp/contests/abc106/tasks/abc106_c"
   ]
  },
  {
   "cell_type": "code",
   "execution_count": 133,
   "metadata": {},
   "outputs": [],
   "source": [
    "S = '1214'\n",
    "K = 4"
   ]
  },
  {
   "cell_type": "code",
   "execution_count": 120,
   "metadata": {},
   "outputs": [
    {
     "name": "stdout",
     "output_type": "stream",
     "text": [
      "2\n"
     ]
    }
   ],
   "source": [
    "while S[0] == '1' and len(S) > 1:\n",
    "    S = S[1:]\n",
    "print(S[0])"
   ]
  },
  {
   "cell_type": "code",
   "execution_count": 113,
   "metadata": {},
   "outputs": [
    {
     "name": "stdout",
     "output_type": "stream",
     "text": [
      "ans: 2\n"
     ]
    }
   ],
   "source": [
    "S = '112'\n",
    "K = 10\n",
    "\n",
    "print('ans: 2')"
   ]
  },
  {
   "cell_type": "code",
   "execution_count": 121,
   "metadata": {},
   "outputs": [
    {
     "name": "stdout",
     "output_type": "stream",
     "text": [
      "2\n"
     ]
    }
   ],
   "source": [
    "while S[0] == '1' and len(S) > 1:\n",
    "    S = S[1:]\n",
    "print(S[0])"
   ]
  },
  {
   "cell_type": "code",
   "execution_count": 131,
   "metadata": {},
   "outputs": [
    {
     "name": "stdout",
     "output_type": "stream",
     "text": [
      "ans: 1\n"
     ]
    }
   ],
   "source": [
    "S = '112'\n",
    "K = 2\n",
    "\n",
    "print('ans: 1')"
   ]
  },
  {
   "cell_type": "code",
   "execution_count": 130,
   "metadata": {},
   "outputs": [
    {
     "name": "stdout",
     "output_type": "stream",
     "text": [
      "1\n"
     ]
    }
   ],
   "source": [
    "while S[0] == '1' and len(S) > 1 and K > 1:\n",
    "    S = S[1:]\n",
    "    K -= 1\n",
    "print(S[0])"
   ]
  },
  {
   "cell_type": "code",
   "execution_count": 139,
   "metadata": {},
   "outputs": [
    {
     "name": "stdout",
     "output_type": "stream",
     "text": [
      "1\n"
     ]
    }
   ],
   "source": [
    "S = '11112'\n",
    "print(S[:K].replace('1', '')[:1] or '1')"
   ]
  },
  {
   "cell_type": "markdown",
   "metadata": {},
   "source": [
    "# 105 - C\n",
    "\n",
    "https://atcoder.jp/contests/abc105/tasks/abc105_c"
   ]
  },
  {
   "cell_type": "code",
   "execution_count": 196,
   "metadata": {},
   "outputs": [
    {
     "name": "stdout",
     "output_type": "stream",
     "text": [
      "1 0\n",
      "-2 -1\n",
      "4 3\n",
      "-8 -1\n",
      "0-13-116\n"
     ]
    }
   ],
   "source": [
    "N = -9\n",
    "x = 1\n",
    "ans = []\n",
    "while abs(x) < abs(N):\n",
    "    print(x, N % x)\n",
    "    ans.append(N % x)\n",
    "    x *= -2\n",
    "print(''.join([str(i) for i in ans + [abs(x)]]))"
   ]
  },
  {
   "cell_type": "code",
   "execution_count": 202,
   "metadata": {},
   "outputs": [
    {
     "name": "stdout",
     "output_type": "stream",
     "text": [
      "1011\n"
     ]
    }
   ],
   "source": [
    "N = -9\n",
    "ans = ''\n",
    "while abs(N) > 0:\n",
    "    ans = str(N % 2) + ans\n",
    "    N = -(N // 2)\n",
    "print(ans or 0)"
   ]
  },
  {
   "cell_type": "code",
   "execution_count": 198,
   "metadata": {},
   "outputs": [
    {
     "name": "stdout",
     "output_type": "stream",
     "text": [
      "ans: 11000101011001101110100010101\n"
     ]
    }
   ],
   "source": [
    "N = 123456789\n",
    "print('ans: 11000101011001101110100010101')"
   ]
  },
  {
   "cell_type": "code",
   "execution_count": 203,
   "metadata": {},
   "outputs": [
    {
     "name": "stdout",
     "output_type": "stream",
     "text": [
      "11000101011001101110100010101\n"
     ]
    }
   ],
   "source": [
    "N = 123456789\n",
    "ans = ''\n",
    "while abs(N) > 0:\n",
    "    ans = str(N % 2) + ans\n",
    "    N = -(N // 2)\n",
    "print(ans or 0)"
   ]
  },
  {
   "cell_type": "markdown",
   "metadata": {},
   "source": [
    "# 104 - C\n",
    "\n",
    "https://atcoder.jp/contests/abc104/tasks/abc104_c\n",
    "\n",
    "D, G = map(int, input().split())  \n",
    "X = [0] + [list(map(int, input().split())) for _ in range(D)]"
   ]
  },
  {
   "cell_type": "code",
   "execution_count": 206,
   "metadata": {},
   "outputs": [],
   "source": [
    "D, G = 2, 700\n",
    "X = [[0], [3, 500], [5, 800]]"
   ]
  },
  {
   "cell_type": "code",
   "execution_count": 212,
   "metadata": {},
   "outputs": [
    {
     "name": "stdout",
     "output_type": "stream",
     "text": [
      "3\n"
     ]
    }
   ],
   "source": [
    "def func(i, t):\n",
    "    # Cannot reach objective\n",
    "    if i == 0:\n",
    "        return 10 ** 9\n",
    "    \n",
    "    # Solve all problems, or part of them\n",
    "    k = min(t // (100 * i), X[i][0])\n",
    "    s = 100 * i * k\n",
    "    \n",
    "    # If all problems are solved, add bonus\n",
    "    if k == X[i][0]:\n",
    "        s += X[i][1]\n",
    "        \n",
    "    # If score < objective, go next step\n",
    "    if s < t:\n",
    "        k += func(i - 1, t - s)\n",
    "        \n",
    "    # Select minimum number of solved problems\n",
    "    # k: solve i-th line\n",
    "    # func(i-1,t): pass i-th line\n",
    "    return min(k, func(i - 1, t))\n",
    "\n",
    "# Solve backward\n",
    "print(func(D, G))"
   ]
  },
  {
   "cell_type": "markdown",
   "metadata": {},
   "source": [
    "# 103 - C\n",
    "\n",
    "https://atcoder.jp/contests/abc103/tasks/abc103_c"
   ]
  },
  {
   "cell_type": "code",
   "execution_count": 13,
   "metadata": {},
   "outputs": [],
   "source": [
    "N = 3\n",
    "a = [3, 4, 5]"
   ]
  },
  {
   "cell_type": "code",
   "execution_count": 14,
   "metadata": {},
   "outputs": [],
   "source": [
    "def func(m):\n",
    "    return sum(m % x for x in a)"
   ]
  },
  {
   "cell_type": "code",
   "execution_count": 18,
   "metadata": {},
   "outputs": [
    {
     "name": "stdout",
     "output_type": "stream",
     "text": [
      "9\n"
     ]
    }
   ],
   "source": [
    "print(sum(a) - N)"
   ]
  },
  {
   "cell_type": "code",
   "execution_count": 20,
   "metadata": {},
   "outputs": [
    {
     "name": "stdout",
     "output_type": "stream",
     "text": [
      "90\n"
     ]
    }
   ],
   "source": [
    "N = 5\n",
    "a = [7, 46, 11, 20, 11]\n",
    "print(sum(a) - N)"
   ]
  },
  {
   "cell_type": "markdown",
   "metadata": {},
   "source": [
    "# 102 - C\n",
    "\n",
    "https://atcoder.jp/contests/abc102/tasks/arc100_a"
   ]
  },
  {
   "cell_type": "code",
   "execution_count": 21,
   "metadata": {},
   "outputs": [],
   "source": [
    "N = 5\n",
    "a = [2, 2, 3, 5, 5]"
   ]
  },
  {
   "cell_type": "code",
   "execution_count": 26,
   "metadata": {},
   "outputs": [
    {
     "name": "stdout",
     "output_type": "stream",
     "text": [
      "2\n"
     ]
    }
   ],
   "source": [
    "from collections import Counter\n",
    "\n",
    "x = [a[i] - i - 1 for i in range(N)]\n",
    "b = x[N // 2]\n",
    "print(sum([abs(v - b) for v in x]))"
   ]
  },
  {
   "cell_type": "code",
   "execution_count": 29,
   "metadata": {},
   "outputs": [],
   "source": [
    "N = 6\n",
    "a = [6, 5, 4, 3, 2, 1]"
   ]
  },
  {
   "cell_type": "code",
   "execution_count": 34,
   "metadata": {},
   "outputs": [
    {
     "name": "stdout",
     "output_type": "stream",
     "text": [
      "18\n"
     ]
    }
   ],
   "source": [
    "x = [a[i] - i - 1 for i in range(N)]\n",
    "print(sum([abs(v - x[N // 2]) for v in x]))"
   ]
  },
  {
   "cell_type": "code",
   "execution_count": 35,
   "metadata": {},
   "outputs": [],
   "source": [
    "N = 7\n",
    "a = [1, 1, 1, 1, 2, 3, 4]"
   ]
  },
  {
   "cell_type": "code",
   "execution_count": 37,
   "metadata": {},
   "outputs": [
    {
     "name": "stdout",
     "output_type": "stream",
     "text": [
      "6\n"
     ]
    }
   ],
   "source": [
    "x = [a[i] - i - 1 for i in range(N)]\n",
    "x.sort()\n",
    "print(sum([abs(v - x[N // 2]) for v in x]))"
   ]
  },
  {
   "cell_type": "markdown",
   "metadata": {},
   "source": [
    "# 101 - C\n",
    "\n",
    "https://atcoder.jp/contests/abc101/tasks/arc099_a"
   ]
  },
  {
   "cell_type": "code",
   "execution_count": 66,
   "metadata": {},
   "outputs": [],
   "source": [
    "N, K = 8, 3\n",
    "A = [7, 3, 1, 8, 4, 6, 2, 5]"
   ]
  },
  {
   "cell_type": "code",
   "execution_count": 67,
   "metadata": {},
   "outputs": [
    {
     "name": "stdout",
     "output_type": "stream",
     "text": [
      "4\n"
     ]
    }
   ],
   "source": [
    "print((N - 2) // (K - 1) + 1)"
   ]
  },
  {
   "cell_type": "code",
   "execution_count": 68,
   "metadata": {},
   "outputs": [],
   "source": [
    "N, K = 3, 3\n",
    "A = [1, 2, 3]"
   ]
  },
  {
   "cell_type": "code",
   "execution_count": 69,
   "metadata": {},
   "outputs": [
    {
     "name": "stdout",
     "output_type": "stream",
     "text": [
      "1\n"
     ]
    }
   ],
   "source": [
    "print((N - 2) // (K - 1) + 1)"
   ]
  },
  {
   "cell_type": "markdown",
   "metadata": {},
   "source": [
    "# 100 - C\n",
    "\n",
    "https://atcoder.jp/contests/abc100/tasks/abc100_c"
   ]
  },
  {
   "cell_type": "code",
   "execution_count": 41,
   "metadata": {},
   "outputs": [],
   "source": [
    "N = 3\n",
    "a = [5, 2, 4]"
   ]
  },
  {
   "cell_type": "code",
   "execution_count": 42,
   "metadata": {},
   "outputs": [
    {
     "name": "stdout",
     "output_type": "stream",
     "text": [
      "3\n"
     ]
    }
   ],
   "source": [
    "cnt = 0\n",
    "while a:\n",
    "    a = [x // 2 for x in a if x % 2 == 0]\n",
    "    cnt += len(a)\n",
    "print(cnt)"
   ]
  },
  {
   "cell_type": "code",
   "execution_count": 43,
   "metadata": {},
   "outputs": [
    {
     "name": "stdout",
     "output_type": "stream",
     "text": [
      "3\n"
     ]
    }
   ],
   "source": [
    "a = [5, 2, 4]\n",
    "print(sum(str(bin(x))[::-1].index('1') for x in a))"
   ]
  },
  {
   "cell_type": "code",
   "execution_count": null,
   "metadata": {},
   "outputs": [],
   "source": []
  },
  {
   "cell_type": "code",
   "execution_count": null,
   "metadata": {},
   "outputs": [],
   "source": []
  },
  {
   "cell_type": "code",
   "execution_count": null,
   "metadata": {},
   "outputs": [],
   "source": []
  },
  {
   "cell_type": "code",
   "execution_count": null,
   "metadata": {},
   "outputs": [],
   "source": []
  },
  {
   "cell_type": "code",
   "execution_count": null,
   "metadata": {},
   "outputs": [],
   "source": []
  },
  {
   "cell_type": "code",
   "execution_count": null,
   "metadata": {},
   "outputs": [],
   "source": []
  }
 ],
 "metadata": {
  "kernelspec": {
   "display_name": "Python 3",
   "language": "python",
   "name": "python3"
  },
  "language_info": {
   "codemirror_mode": {
    "name": "ipython",
    "version": 3
   },
   "file_extension": ".py",
   "mimetype": "text/x-python",
   "name": "python",
   "nbconvert_exporter": "python",
   "pygments_lexer": "ipython3",
   "version": "3.7.3"
  }
 },
 "nbformat": 4,
 "nbformat_minor": 2
}
