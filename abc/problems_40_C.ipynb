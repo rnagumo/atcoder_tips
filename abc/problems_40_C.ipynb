{
 "cells": [
  {
   "cell_type": "markdown",
   "metadata": {},
   "source": [
    "# 49 - C\n",
    "\n",
    "https://atcoder.jp/contests/abc049/tasks/arc065_a"
   ]
  },
  {
   "cell_type": "code",
   "execution_count": 90,
   "metadata": {},
   "outputs": [],
   "source": [
    "s = 'erasedream'"
   ]
  },
  {
   "cell_type": "code",
   "execution_count": 92,
   "metadata": {},
   "outputs": [],
   "source": [
    "s = 'dreameraser'"
   ]
  },
  {
   "cell_type": "code",
   "execution_count": 94,
   "metadata": {},
   "outputs": [],
   "source": [
    "s = 'dreamereraser'"
   ]
  },
  {
   "cell_type": "code",
   "execution_count": 96,
   "metadata": {},
   "outputs": [],
   "source": [
    "s = 'r'"
   ]
  },
  {
   "cell_type": "code",
   "execution_count": 97,
   "metadata": {},
   "outputs": [
    {
     "name": "stdout",
     "output_type": "stream",
     "text": [
      "No\n"
     ]
    }
   ],
   "source": [
    "import re\n",
    "\n",
    "s = s[::-1]\n",
    "\n",
    "while len(s) > 0:\n",
    "    for ptn in ['dream', 'dreamer', 'erase', 'eraser']:\n",
    "        if re.match(ptn[::-1], s) is not None:\n",
    "            s = s[len(ptn):]\n",
    "            break\n",
    "    else:\n",
    "        break\n",
    "print('YES' if len(s) == 0 else 'NO')"
   ]
  },
  {
   "cell_type": "code",
   "execution_count": 101,
   "metadata": {},
   "outputs": [
    {
     "data": {
      "text/plain": [
       "<re.Match object; span=(0, 10), match='erasedream'>"
      ]
     },
     "execution_count": 101,
     "metadata": {},
     "output_type": "execute_result"
    }
   ],
   "source": [
    "import re\n",
    "s = 'erasedream'\n",
    "re.match('(dream|dreamer|erase|eraser)+$', s)"
   ]
  },
  {
   "cell_type": "code",
   "execution_count": 100,
   "metadata": {},
   "outputs": [
    {
     "name": "stdout",
     "output_type": "stream",
     "text": [
      "YES\n"
     ]
    }
   ],
   "source": [
    "import re\n",
    "s = 'erasedream'\n",
    "print('YES' if re.match('(dream|dreamer|erase|eraser)+$', s) else 'NO')"
   ]
  },
  {
   "cell_type": "markdown",
   "metadata": {},
   "source": [
    "# 48 - C\n",
    "\n",
    "https://atcoder.jp/contests/abc048/tasks/arc064_a"
   ]
  },
  {
   "cell_type": "code",
   "execution_count": 130,
   "metadata": {},
   "outputs": [
    {
     "name": "stdout",
     "output_type": "stream",
     "text": [
      "ans: 1\n"
     ]
    }
   ],
   "source": [
    "N, x = 3, 3\n",
    "a = [2, 2, 2]\n",
    "\n",
    "print('ans: 1')"
   ]
  },
  {
   "cell_type": "code",
   "execution_count": 131,
   "metadata": {},
   "outputs": [
    {
     "name": "stdout",
     "output_type": "stream",
     "text": [
      "1\n"
     ]
    }
   ],
   "source": [
    "ans = 0\n",
    "\n",
    "if a[0] > x:\n",
    "    ans += a[0] - x\n",
    "    a[0] = x\n",
    "\n",
    "for i in range(N - 1):\n",
    "    d = sum(a[i:i + 2]) - x\n",
    "    if d > 0:\n",
    "        ans += d\n",
    "        a[i + 1] -= d\n",
    "    \n",
    "print(ans)"
   ]
  },
  {
   "cell_type": "code",
   "execution_count": 134,
   "metadata": {},
   "outputs": [
    {
     "name": "stdout",
     "output_type": "stream",
     "text": [
      "[2, 1, 2, 0]\n",
      "1\n"
     ]
    }
   ],
   "source": [
    "a = [2, 2, 2]\n",
    "a.append(0)\n",
    "\n",
    "ans = 0\n",
    "for i in range(N):\n",
    "    d = max(0, a[i] + a[i - 1] - x)\n",
    "    ans += d\n",
    "    a[i] -= d\n",
    "\n",
    "print(a)\n",
    "print(ans)"
   ]
  },
  {
   "cell_type": "markdown",
   "metadata": {},
   "source": [
    "# 47 - C\n",
    "\n",
    "https://atcoder.jp/contests/abc047/tasks/arc063_a"
   ]
  },
  {
   "cell_type": "code",
   "execution_count": 135,
   "metadata": {},
   "outputs": [],
   "source": [
    "s = 'BBBWW'"
   ]
  },
  {
   "cell_type": "code",
   "execution_count": 137,
   "metadata": {},
   "outputs": [
    {
     "name": "stdout",
     "output_type": "stream",
     "text": [
      "1\n"
     ]
    }
   ],
   "source": [
    "ans = 0\n",
    "for i in range(len(s) - 1):\n",
    "    if s[i] == 'B' and s[i + 1] == 'W':\n",
    "        ans += 1\n",
    "    elif s[i] == 'W' and s[i + 1] == 'B':\n",
    "        ans += 1\n",
    "        \n",
    "print(ans)"
   ]
  },
  {
   "cell_type": "code",
   "execution_count": 138,
   "metadata": {},
   "outputs": [
    {
     "name": "stdout",
     "output_type": "stream",
     "text": [
      "1\n"
     ]
    }
   ],
   "source": [
    "print(s.count('BW') + s.count('WB'))"
   ]
  },
  {
   "cell_type": "markdown",
   "metadata": {},
   "source": [
    "# 46 - C\n",
    "\n",
    "https://atcoder.jp/contests/abc046/tasks/arc062_a"
   ]
  },
  {
   "cell_type": "code",
   "execution_count": 179,
   "metadata": {},
   "outputs": [
    {
     "name": "stdout",
     "output_type": "stream",
     "text": [
      "ans: 10\n"
     ]
    }
   ],
   "source": [
    "N = 3\n",
    "TA = [[2, 3], [1, 1], [3, 2]]\n",
    "\n",
    "print('ans: 10')"
   ]
  },
  {
   "cell_type": "markdown",
   "metadata": {},
   "source": [
    "#### これは通った"
   ]
  },
  {
   "cell_type": "code",
   "execution_count": 177,
   "metadata": {},
   "outputs": [
    {
     "name": "stdout",
     "output_type": "stream",
     "text": [
      "5\n"
     ]
    }
   ],
   "source": [
    "def ceil(a, b):\n",
    "    return a // b + int(a % b != 0)\n",
    "\n",
    "a = 1\n",
    "b = 1\n",
    "for x, y in TA:\n",
    "    n = max(ceil(a, x), ceil(b, y))\n",
    "    a = n * x\n",
    "    b = n * y\n",
    "print(a + b)"
   ]
  },
  {
   "cell_type": "markdown",
   "metadata": {},
   "source": [
    "#### これは通った"
   ]
  },
  {
   "cell_type": "code",
   "execution_count": 181,
   "metadata": {},
   "outputs": [
    {
     "name": "stdout",
     "output_type": "stream",
     "text": [
      "10\n"
     ]
    }
   ],
   "source": [
    "from math import ceil\n",
    "from decimal import Decimal\n",
    "\n",
    "a = 1\n",
    "b = 1\n",
    "for x, y in TA:\n",
    "    n = max(ceil(Decimal(a) / Decimal(x)), ceil(Decimal(b) / Decimal(y)))\n",
    "    a = n * x\n",
    "    b = n * y\n",
    "print(a + b)"
   ]
  },
  {
   "cell_type": "markdown",
   "metadata": {},
   "source": [
    "#### これは通らない"
   ]
  },
  {
   "cell_type": "code",
   "execution_count": 185,
   "metadata": {},
   "outputs": [
    {
     "name": "stdout",
     "output_type": "stream",
     "text": [
      "10\n"
     ]
    }
   ],
   "source": [
    "from math import ceil\n",
    "from decimal import Decimal\n",
    "\n",
    "a = 1\n",
    "b = 1\n",
    "for x, y in TA:\n",
    "    n = max(ceil(float(a) / float(x)), ceil(float(b) / float(y)))\n",
    "    a = n * x\n",
    "    b = n * y\n",
    "print(a + b)"
   ]
  },
  {
   "cell_type": "markdown",
   "metadata": {},
   "source": [
    "# 45 - C\n",
    "\n",
    "https://atcoder.jp/contests/abc045/tasks/arc061_a"
   ]
  },
  {
   "cell_type": "code",
   "execution_count": 231,
   "metadata": {},
   "outputs": [
    {
     "name": "stdout",
     "output_type": "stream",
     "text": [
      "ans: 176\n"
     ]
    }
   ],
   "source": [
    "s = '125'\n",
    "\n",
    "print('ans: 176')"
   ]
  },
  {
   "cell_type": "code",
   "execution_count": 237,
   "metadata": {},
   "outputs": [
    {
     "name": "stdout",
     "output_type": "stream",
     "text": [
      "ans: 12656242944\n"
     ]
    }
   ],
   "source": [
    "s = '9999999999'\n",
    "\n",
    "print('ans: 12656242944')"
   ]
  },
  {
   "cell_type": "code",
   "execution_count": 238,
   "metadata": {},
   "outputs": [
    {
     "name": "stdout",
     "output_type": "stream",
     "text": [
      "12656242944\n"
     ]
    }
   ],
   "source": [
    "ans = 0\n",
    "for i in range(2 ** (len(s) - 1)):\n",
    "    q = '{:0>10b}'.format(i)[::-1]\n",
    "    formula = s[0]\n",
    "    for j in range(1, len(s)):\n",
    "        if q[j - 1] == '1':\n",
    "            formula += '+'\n",
    "        formula += s[j]\n",
    "    ans += eval(formula)\n",
    "    \n",
    "print(ans)"
   ]
  },
  {
   "cell_type": "markdown",
   "metadata": {},
   "source": [
    "#### ビットシフトを使う"
   ]
  },
  {
   "cell_type": "code",
   "execution_count": 240,
   "metadata": {},
   "outputs": [
    {
     "name": "stdout",
     "output_type": "stream",
     "text": [
      "12656242944\n"
     ]
    }
   ],
   "source": [
    "ans = 0\n",
    "for i in range(2 ** (len(s) - 1)):\n",
    "    formula = s[0]\n",
    "    for j in range(len(s) - 1):\n",
    "        formula += '+' * ((i >> j) & 1) + s[j + 1]\n",
    "    ans += eval(formula)\n",
    "    \n",
    "print(ans)"
   ]
  },
  {
   "cell_type": "markdown",
   "metadata": {},
   "source": [
    "# 44 - C\n",
    "\n",
    "https://atcoder.jp/contests/abc044/tasks/arc060_a"
   ]
  },
  {
   "cell_type": "code",
   "execution_count": 1,
   "metadata": {},
   "outputs": [],
   "source": [
    "N, A = 3, 2\n",
    "x = [3, 2, 2]"
   ]
  },
  {
   "cell_type": "markdown",
   "metadata": {},
   "source": [
    "下の実装では， O(N 2^N) ~ O(2 ^ 50) ~ O(10^15)オーダーなので，間に合わない"
   ]
  },
  {
   "cell_type": "code",
   "execution_count": 2,
   "metadata": {},
   "outputs": [
    {
     "name": "stdout",
     "output_type": "stream",
     "text": [
      "3\n"
     ]
    }
   ],
   "source": [
    "ans = 0\n",
    "for i in range(1, 2 ** N):\n",
    "    l = list(map(int, '{0:0>{1:}b}'.format(i, N)))\n",
    "    c = l.count(1)\n",
    "    s = sum(i * j for i, j in zip(x, l))\n",
    "    ans += int(s == A * c)\n",
    "    \n",
    "print(ans)"
   ]
  },
  {
   "cell_type": "markdown",
   "metadata": {},
   "source": [
    "満点解法\n",
    "\n",
    "三次元DPでとく．O(N^3 X)"
   ]
  },
  {
   "cell_type": "code",
   "execution_count": 3,
   "metadata": {},
   "outputs": [],
   "source": [
    "N, A = 3, 2\n",
    "x = [3, 2, 2]"
   ]
  },
  {
   "cell_type": "code",
   "execution_count": 4,
   "metadata": {},
   "outputs": [],
   "source": [
    "c_nx = N * max(x + [A])\n",
    "dp = [[[0] * (c_nx + 1) for _ in range(N + 1)] \n",
    "      for _ in range(N + 1)]\n",
    "x = [0] + x"
   ]
  },
  {
   "cell_type": "code",
   "execution_count": 5,
   "metadata": {},
   "outputs": [],
   "source": [
    "dp[0][0][0] = 1\n",
    "for j in range(1, N + 1):\n",
    "    for k in range(N + 1):\n",
    "        for s in range(c_nx + 1):\n",
    "            if s < x[j]:\n",
    "                dp[j][k][s] = dp[j - 1][k][s]\n",
    "            elif s >= x[j]:\n",
    "                dp[j][k][s] = dp[j - 1][k][s] + dp[j - 1][k - 1][s - x[j]]"
   ]
  },
  {
   "cell_type": "code",
   "execution_count": 6,
   "metadata": {},
   "outputs": [
    {
     "data": {
      "text/plain": [
       "3"
      ]
     },
     "execution_count": 6,
     "metadata": {},
     "output_type": "execute_result"
    }
   ],
   "source": [
    "sum(dp[N][k][k * A] for k in range(1, N + 1))"
   ]
  },
  {
   "cell_type": "code",
   "execution_count": 7,
   "metadata": {},
   "outputs": [
    {
     "data": {
      "text/plain": [
       "[[[1, 0, 0, 0, 0, 0, 0, 0, 0, 0],\n",
       "  [0, 0, 0, 0, 0, 0, 0, 0, 0, 0],\n",
       "  [0, 0, 0, 0, 0, 0, 0, 0, 0, 0],\n",
       "  [0, 0, 0, 0, 0, 0, 0, 0, 0, 0]],\n",
       " [[1, 0, 0, 0, 0, 0, 0, 0, 0, 0],\n",
       "  [0, 0, 0, 1, 0, 0, 0, 0, 0, 0],\n",
       "  [0, 0, 0, 0, 0, 0, 0, 0, 0, 0],\n",
       "  [0, 0, 0, 0, 0, 0, 0, 0, 0, 0]],\n",
       " [[1, 0, 0, 0, 0, 0, 0, 0, 0, 0],\n",
       "  [0, 0, 1, 1, 0, 0, 0, 0, 0, 0],\n",
       "  [0, 0, 0, 0, 0, 1, 0, 0, 0, 0],\n",
       "  [0, 0, 0, 0, 0, 0, 0, 0, 0, 0]],\n",
       " [[1, 0, 0, 0, 0, 0, 0, 0, 0, 0],\n",
       "  [0, 0, 2, 1, 0, 0, 0, 0, 0, 0],\n",
       "  [0, 0, 0, 0, 1, 2, 0, 0, 0, 0],\n",
       "  [0, 0, 0, 0, 0, 0, 0, 1, 0, 0]]]"
      ]
     },
     "execution_count": 7,
     "metadata": {},
     "output_type": "execute_result"
    }
   ],
   "source": [
    "dp"
   ]
  },
  {
   "cell_type": "markdown",
   "metadata": {},
   "source": [
    "二次元のdp O(N^2 X)"
   ]
  },
  {
   "cell_type": "code",
   "execution_count": 16,
   "metadata": {},
   "outputs": [
    {
     "data": {
      "text/plain": [
       "[0, 1, 0, 0]"
      ]
     },
     "execution_count": 16,
     "metadata": {},
     "output_type": "execute_result"
    }
   ],
   "source": [
    "N, A = 3, 2\n",
    "x = [3, 2, 2]\n",
    "\n",
    "NX = N * max(x + [A])\n",
    "y = [0] + [v - A for v in x]\n",
    "dp = [[0] * (2 * NX + 1) for _ in range(N + 1)]\n",
    "y"
   ]
  },
  {
   "cell_type": "code",
   "execution_count": 15,
   "metadata": {},
   "outputs": [
    {
     "name": "stdout",
     "output_type": "stream",
     "text": [
      "[0, 0, 0, 0, 0, 0, 0, 0, 0, 1, 0, 0, 0, 0, 0, 0, 0, 0, 0]\n",
      "[0, 0, 0, 0, 0, 0, 0, 0, 0, 1, 1, 0, 0, 0, 0, 0, 0, 0, 0]\n",
      "[0, 0, 0, 0, 0, 0, 0, 0, 0, 0, 0, 0, 0, 0, 0, 0, 0, 0, 0]\n",
      "[0, 0, 0, 0, 0, 0, 0, 0, 0, 0, 0, 0, 0, 0, 0, 0, 0, 0, 0]\n",
      "\n",
      "[0, 0, 0, 0, 0, 0, 0, 0, 0, 1, 0, 0, 0, 0, 0, 0, 0, 0, 0]\n",
      "[0, 0, 0, 0, 0, 0, 0, 0, 0, 1, 1, 0, 0, 0, 0, 0, 0, 0, 0]\n",
      "[0, 0, 0, 0, 0, 0, 0, 0, 0, 2, 2, 0, 0, 0, 0, 0, 0, 0, 0]\n",
      "[0, 0, 0, 0, 0, 0, 0, 0, 0, 0, 0, 0, 0, 0, 0, 0, 0, 0, 0]\n",
      "\n",
      "[0, 0, 0, 0, 0, 0, 0, 0, 0, 1, 0, 0, 0, 0, 0, 0, 0, 0, 0]\n",
      "[0, 0, 0, 0, 0, 0, 0, 0, 0, 1, 1, 0, 0, 0, 0, 0, 0, 0, 0]\n",
      "[0, 0, 0, 0, 0, 0, 0, 0, 0, 2, 2, 0, 0, 0, 0, 0, 0, 0, 0]\n",
      "[0, 0, 0, 0, 0, 0, 0, 0, 0, 4, 4, 0, 0, 0, 0, 0, 0, 0, 0]\n",
      "\n",
      "3\n"
     ]
    }
   ],
   "source": [
    "dp[0][NX] = 1  \n",
    "for j in range(1, N + 1):\n",
    "    for t in range(2 * NX + 1):\n",
    "        if t - y[j] < 0 or t - y[j] > 2 * NX:\n",
    "            dp[j][t] = dp[j - 1][t]\n",
    "        elif 0 <= t - y[j] <= 2 * NX:\n",
    "            dp[j][t] = dp[j - 1][t] + dp[j - 1][t - y[j]]\n",
    "                \n",
    "    for p in dp:\n",
    "        print(p)\n",
    "    print()\n",
    "                \n",
    "print(dp[N][NX] - 1)"
   ]
  },
  {
   "cell_type": "markdown",
   "metadata": {},
   "source": [
    "# 43 - C\n",
    "\n",
    "https://atcoder.jp/contests/abc043/tasks/arc059_a"
   ]
  },
  {
   "cell_type": "code",
   "execution_count": 40,
   "metadata": {},
   "outputs": [
    {
     "name": "stdout",
     "output_type": "stream",
     "text": [
      "ans: 8\n"
     ]
    }
   ],
   "source": [
    "N = 2\n",
    "a = [4, 8]\n",
    "\n",
    "print('ans: 8')"
   ]
  },
  {
   "cell_type": "markdown",
   "metadata": {},
   "source": [
    "極小点に近い方へ寄せる"
   ]
  },
  {
   "cell_type": "code",
   "execution_count": 42,
   "metadata": {},
   "outputs": [
    {
     "name": "stdout",
     "output_type": "stream",
     "text": [
      "8\n"
     ]
    }
   ],
   "source": [
    "tgt = round(sum(a) / N)\n",
    "print(sum((v - tgt) ** 2 for v in a))"
   ]
  },
  {
   "cell_type": "markdown",
   "metadata": {},
   "source": [
    "# 42 - C\n",
    "\n",
    "https://atcoder.jp/contests/abc042/tasks/arc058_a"
   ]
  },
  {
   "cell_type": "code",
   "execution_count": 78,
   "metadata": {},
   "outputs": [
    {
     "name": "stdout",
     "output_type": "stream",
     "text": [
      "ans: 2000\n"
     ]
    }
   ],
   "source": [
    "N, K = 1000, 8\n",
    "d = set('1 3 4 5 6 7 8 9'.split())\n",
    "\n",
    "print('ans: 2000')"
   ]
  },
  {
   "cell_type": "code",
   "execution_count": 80,
   "metadata": {},
   "outputs": [
    {
     "name": "stdout",
     "output_type": "stream",
     "text": [
      "2000\n"
     ]
    }
   ],
   "source": [
    "for v in range(N, 10 * N):\n",
    "    if not set(str(v)) & d:\n",
    "        print(v)\n",
    "        break"
   ]
  },
  {
   "cell_type": "markdown",
   "metadata": {},
   "source": [
    "# 41 - C\n",
    "\n",
    "https://atcoder.jp/contests/abc041/tasks/abc041_c"
   ]
  },
  {
   "cell_type": "code",
   "execution_count": 81,
   "metadata": {},
   "outputs": [],
   "source": [
    "N = 3\n",
    "a = [140, 180, 160]"
   ]
  },
  {
   "cell_type": "code",
   "execution_count": 83,
   "metadata": {},
   "outputs": [
    {
     "name": "stdout",
     "output_type": "stream",
     "text": [
      "2\n",
      "3\n",
      "1\n"
     ]
    }
   ],
   "source": [
    "for i, t in sorted(enumerate(a), key=lambda x: -x[1]):\n",
    "    print(i + 1)"
   ]
  },
  {
   "cell_type": "markdown",
   "metadata": {},
   "source": [
    "# 40 - C\n",
    "\n",
    "https://atcoder.jp/contests/abc040/tasks/abc040_c"
   ]
  },
  {
   "cell_type": "code",
   "execution_count": 117,
   "metadata": {},
   "outputs": [
    {
     "name": "stdout",
     "output_type": "stream",
     "text": [
      "ans: 40\n"
     ]
    }
   ],
   "source": [
    "N = 4\n",
    "a = [100, 150, 130, 120]\n",
    "\n",
    "print('ans: 40')"
   ]
  },
  {
   "cell_type": "code",
   "execution_count": 118,
   "metadata": {},
   "outputs": [
    {
     "name": "stdout",
     "output_type": "stream",
     "text": [
      "ans: 40\n"
     ]
    }
   ],
   "source": [
    "N = 4\n",
    "a = [100, 125, 80, 110]\n",
    "\n",
    "print('ans: 40')"
   ]
  },
  {
   "cell_type": "code",
   "execution_count": 119,
   "metadata": {},
   "outputs": [
    {
     "name": "stdout",
     "output_type": "stream",
     "text": [
      "40\n"
     ]
    }
   ],
   "source": [
    "dp = [0] * (N + 2)\n",
    "\n",
    "for i in range(1, N):\n",
    "    if i == 1:\n",
    "        dp[i] = dp[i - 1] + abs(a[i] - a[i - 1])\n",
    "    else:\n",
    "        dp[i] = min(dp[i - 1] + abs(a[i] - a[i - 1]),\n",
    "                    dp[i - 2] + abs(a[i] - a[i - 2]))\n",
    "print(dp[N - 1])"
   ]
  },
  {
   "cell_type": "code",
   "execution_count": null,
   "metadata": {},
   "outputs": [],
   "source": []
  },
  {
   "cell_type": "code",
   "execution_count": null,
   "metadata": {},
   "outputs": [],
   "source": []
  },
  {
   "cell_type": "code",
   "execution_count": null,
   "metadata": {},
   "outputs": [],
   "source": []
  }
 ],
 "metadata": {
  "kernelspec": {
   "display_name": "Python 3",
   "language": "python",
   "name": "python3"
  },
  "language_info": {
   "codemirror_mode": {
    "name": "ipython",
    "version": 3
   },
   "file_extension": ".py",
   "mimetype": "text/x-python",
   "name": "python",
   "nbconvert_exporter": "python",
   "pygments_lexer": "ipython3",
   "version": "3.7.3"
  }
 },
 "nbformat": 4,
 "nbformat_minor": 2
}
