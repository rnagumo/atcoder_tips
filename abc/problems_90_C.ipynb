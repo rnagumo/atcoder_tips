{
 "cells": [
  {
   "cell_type": "markdown",
   "metadata": {},
   "source": [
    "# 99 - C\n",
    "\n",
    "https://atcoder.jp/contests/abc099/tasks/abc099_c"
   ]
  },
  {
   "cell_type": "code",
   "execution_count": 11,
   "metadata": {},
   "outputs": [
    {
     "name": "stdout",
     "output_type": "stream",
     "text": [
      "4\n"
     ]
    }
   ],
   "source": [
    "N = 127\n",
    "ans = N\n",
    "\n",
    "for i in range(N):\n",
    "    cnt = 0\n",
    "    t = i\n",
    "    while t > 0:\n",
    "        cnt += int(t % 6)\n",
    "        t /= 6\n",
    "    \n",
    "    t = N - i\n",
    "    while t > 0:\n",
    "        cnt += int(t % 9)\n",
    "        t /= 9\n",
    "        \n",
    "    if ans > cnt:\n",
    "        ans = cnt\n",
    "\n",
    "print(ans)"
   ]
  },
  {
   "cell_type": "code",
   "execution_count": 14,
   "metadata": {},
   "outputs": [
    {
     "name": "stdout",
     "output_type": "stream",
     "text": [
      "16\n"
     ]
    }
   ],
   "source": [
    "N = 44852\n",
    "ans = N\n",
    "\n",
    "for i in range(N + 1):\n",
    "    cnt = 0\n",
    "    t1 = i\n",
    "    t2 = N - i\n",
    "    while t1 > 0:\n",
    "        cnt += t1 % 6\n",
    "        t1 //= 6\n",
    "\n",
    "    while t2 > 0:\n",
    "        cnt += t2 % 9\n",
    "        t2 //= 9\n",
    "        \n",
    "    ans = min(ans, cnt)\n",
    "\n",
    "print(ans)"
   ]
  },
  {
   "cell_type": "markdown",
   "metadata": {},
   "source": [
    "# 98 - C\n",
    "\n",
    "https://atcoder.jp/contests/abc098/tasks/arc098_a"
   ]
  },
  {
   "cell_type": "code",
   "execution_count": 127,
   "metadata": {},
   "outputs": [],
   "source": [
    "def solve():\n",
    "    cnt = S.count('E')\n",
    "    ans = cnt\n",
    "\n",
    "    for v in S:\n",
    "        if v == 'E':\n",
    "            cnt -= 1\n",
    "        else:\n",
    "            cnt += 1\n",
    "        ans = min(ans, cnt)\n",
    "    print(ans)"
   ]
  },
  {
   "cell_type": "code",
   "execution_count": 128,
   "metadata": {},
   "outputs": [
    {
     "name": "stdout",
     "output_type": "stream",
     "text": [
      "ans: 1\n",
      "1\n"
     ]
    }
   ],
   "source": [
    "N = 5\n",
    "S = 'WEEWW'\n",
    "print('ans: 1')\n",
    "solve()"
   ]
  },
  {
   "cell_type": "code",
   "execution_count": 122,
   "metadata": {},
   "outputs": [
    {
     "name": "stdout",
     "output_type": "stream",
     "text": [
      "ans: 2\n",
      "2\n"
     ]
    }
   ],
   "source": [
    "N = 5\n",
    "S = 'WWEEE'\n",
    "print('ans: 2')\n",
    "solve()"
   ]
  },
  {
   "cell_type": "code",
   "execution_count": 120,
   "metadata": {},
   "outputs": [
    {
     "name": "stdout",
     "output_type": "stream",
     "text": [
      "ans: 3\n",
      "3\n"
     ]
    }
   ],
   "source": [
    "N = 6\n",
    "S = 'WWWEEE'\n",
    "print('ans: 3')\n",
    "solve()"
   ]
  },
  {
   "cell_type": "code",
   "execution_count": 121,
   "metadata": {},
   "outputs": [
    {
     "name": "stdout",
     "output_type": "stream",
     "text": [
      "ans: 3\n",
      "3\n"
     ]
    }
   ],
   "source": [
    "N = 7\n",
    "S = 'WEWEWEW'\n",
    "print('ans: 3')\n",
    "solve()"
   ]
  },
  {
   "cell_type": "markdown",
   "metadata": {},
   "source": [
    "# 97 - C\n",
    "\n",
    "https://atcoder.jp/contests/abc097/tasks/arc097_a"
   ]
  },
  {
   "cell_type": "code",
   "execution_count": 177,
   "metadata": {},
   "outputs": [],
   "source": [
    "s = 'aba'\n",
    "K = 4"
   ]
  },
  {
   "cell_type": "markdown",
   "metadata": {},
   "source": [
    "#### 部分点解法"
   ]
  },
  {
   "cell_type": "code",
   "execution_count": 146,
   "metadata": {},
   "outputs": [
    {
     "name": "stdout",
     "output_type": "stream",
     "text": [
      "b\n"
     ]
    }
   ],
   "source": [
    "ans = []\n",
    "for l in range(len(s)):\n",
    "    for r in range(l + 1, len(s) + 1):\n",
    "        ans.append(s[l:r])\n",
    "        \n",
    "ans = list(set(ans))\n",
    "ans.sort()\n",
    "print(ans[K - 1])"
   ]
  },
  {
   "cell_type": "markdown",
   "metadata": {},
   "source": [
    "#### 満点を目指す"
   ]
  },
  {
   "cell_type": "code",
   "execution_count": 178,
   "metadata": {},
   "outputs": [
    {
     "name": "stdout",
     "output_type": "stream",
     "text": [
      "b\n"
     ]
    }
   ],
   "source": [
    "ans = [s[l:l + r + 1] for l in range(len(s)) for r in range(K)]\n",
    "print(sorted(set(ans))[K - 1])"
   ]
  },
  {
   "cell_type": "code",
   "execution_count": 176,
   "metadata": {},
   "outputs": [],
   "source": [
    "s = '123456789'\n",
    "for l in range(4):\n",
    "    for r in range(i + 1, 2 + 1):\n",
    "        print(s[l:r])"
   ]
  },
  {
   "cell_type": "markdown",
   "metadata": {},
   "source": [
    "# 96 - C\n",
    "\n",
    "https://atcoder.jp/contests/abc096/tasks/abc096_c"
   ]
  },
  {
   "cell_type": "code",
   "execution_count": 199,
   "metadata": {},
   "outputs": [],
   "source": [
    "H, W = 3, 3\n",
    "s = \"\"\".#.\n",
    "###\n",
    ".#.\"\"\"\n",
    "s = s.split('\\n')\n",
    "s = ['.']"
   ]
  },
  {
   "cell_type": "code",
   "execution_count": 202,
   "metadata": {},
   "outputs": [
    {
     "name": "stdout",
     "output_type": "stream",
     "text": [
      "Yes\n"
     ]
    }
   ],
   "source": [
    "flag = True\n",
    "for h in range(H):\n",
    "    for w in range(W):\n",
    "        c0 = s[h][w] == '#'\n",
    "        c1 = h > 1 and s[h - 1][w] == '#'\n",
    "        c2 = h < H - 1 and s[h + 1][w] == '#'\n",
    "        c4 = w > 1 and s[h][w - 1] == '#'\n",
    "        c3 = w < W - 1 and s[h][w + 1] == '#'\n",
    "        if c0 and not (c1 or c2 or c3 or c4):\n",
    "            flag = False\n",
    "                \n",
    "print('Yes' if flag else 'No')"
   ]
  },
  {
   "cell_type": "markdown",
   "metadata": {},
   "source": [
    "# 95 - C\n",
    "\n",
    "https://atcoder.jp/contests/abc095/tasks/arc096_a"
   ]
  },
  {
   "cell_type": "code",
   "execution_count": 215,
   "metadata": {},
   "outputs": [],
   "source": [
    "A, B, C, X, Y = 1500, 2000, 1900, 3, 2"
   ]
  },
  {
   "cell_type": "code",
   "execution_count": 216,
   "metadata": {},
   "outputs": [
    {
     "name": "stdout",
     "output_type": "stream",
     "text": [
      "8500\n"
     ]
    }
   ],
   "source": [
    "ans = 0\n",
    "res = 0\n",
    "if A + B > C * 2:\n",
    "    ans += C * min(X, Y) * 2\n",
    "    res = X - Y\n",
    "else:\n",
    "    ans += A * X + B * Y\n",
    "    \n",
    "if res > 0:\n",
    "    ans += min(A * res, C * res * 2)\n",
    "elif res < 0:\n",
    "    ans += min(B * abs(res), C * abs(res) * 2)\n",
    "    \n",
    "print(ans)\n"
   ]
  },
  {
   "cell_type": "code",
   "execution_count": 218,
   "metadata": {},
   "outputs": [
    {
     "name": "stdout",
     "output_type": "stream",
     "text": [
      "8500\n"
     ]
    }
   ],
   "source": [
    "print(min(\n",
    "    A * X + B * Y,\n",
    "    C * X * 2 + B * max(0, Y - X),\n",
    "    C * Y * 2 + A * max(0, X - Y)\n",
    "))"
   ]
  },
  {
   "cell_type": "markdown",
   "metadata": {},
   "source": [
    "# 95 - C\n",
    "\n",
    "https://atcoder.jp/contests/abc094/tasks/arc095_a"
   ]
  },
  {
   "cell_type": "code",
   "execution_count": 227,
   "metadata": {},
   "outputs": [],
   "source": [
    "N = 4\n",
    "X = [2, 4, 4, 3]"
   ]
  },
  {
   "cell_type": "markdown",
   "metadata": {},
   "source": [
    "#### 計算量が O(N^2 logN)"
   ]
  },
  {
   "cell_type": "code",
   "execution_count": 234,
   "metadata": {},
   "outputs": [
    {
     "name": "stdout",
     "output_type": "stream",
     "text": [
      "[4, 3, 3, 4]\n"
     ]
    }
   ],
   "source": [
    "mid = (N + 1) // 2 - 1\n",
    "print([sorted(X[:i] + X[i + 1:])[mid] for i in range(N)])"
   ]
  },
  {
   "cell_type": "markdown",
   "metadata": {},
   "source": [
    "#### より効率的な実装"
   ]
  },
  {
   "cell_type": "code",
   "execution_count": 238,
   "metadata": {},
   "outputs": [
    {
     "name": "stdout",
     "output_type": "stream",
     "text": [
      "[4, 3, 3, 4]\n"
     ]
    }
   ],
   "source": [
    "mid_l = sorted(X)[(N + 1) // 2 - 1]\n",
    "mid_r = sorted(X)[(N + 1) // 2]\n",
    "print([mid_l if v > mid_l else mid_r for v in X])"
   ]
  },
  {
   "cell_type": "markdown",
   "metadata": {},
   "source": [
    "# 93 - C\n",
    "\n",
    "https://atcoder.jp/contests/abc093/tasks/arc094_a"
   ]
  },
  {
   "cell_type": "code",
   "execution_count": 246,
   "metadata": {},
   "outputs": [
    {
     "name": "stdout",
     "output_type": "stream",
     "text": [
      "23\n"
     ]
    }
   ],
   "source": [
    "x = sorted([31, 41, 5])\n",
    "ans = 0\n",
    "ans += (x[1] - x[0]) // 2\n",
    "if (x[1] - x[0]) % 2 != 0:\n",
    "    ans += 1\n",
    "    x[2] += 1\n",
    "ans += x[2] - x[1]\n",
    "print(ans)"
   ]
  },
  {
   "cell_type": "code",
   "execution_count": 247,
   "metadata": {},
   "outputs": [
    {
     "name": "stdout",
     "output_type": "stream",
     "text": [
      "23\n"
     ]
    }
   ],
   "source": [
    "ans = (x[1] - x[0]) // 2 + (x[2] - x[1])\n",
    "ans += 2 if (x[1] - x[0]) % 2 != 0 else 0\n",
    "print(ans)"
   ]
  },
  {
   "cell_type": "code",
   "execution_count": 249,
   "metadata": {},
   "outputs": [
    {
     "name": "stdout",
     "output_type": "stream",
     "text": [
      "23\n"
     ]
    }
   ],
   "source": [
    "ans = max(x) * 3 - sum(x)\n",
    "print(ans // 2 if ans % 2 == 0 else ans // 2 + 2)"
   ]
  },
  {
   "cell_type": "markdown",
   "metadata": {},
   "source": [
    "# 92 - C\n",
    "\n",
    "https://atcoder.jp/contests/abc092/tasks/arc093_a"
   ]
  },
  {
   "cell_type": "code",
   "execution_count": 273,
   "metadata": {},
   "outputs": [
    {
     "name": "stdout",
     "output_type": "stream",
     "text": [
      "ans: 12, 8, 10\n"
     ]
    }
   ],
   "source": [
    "N = 4\n",
    "A = [0, 3, 5, 1]\n",
    "print('ans: 12, 8, 10')"
   ]
  },
  {
   "cell_type": "code",
   "execution_count": 272,
   "metadata": {},
   "outputs": [
    {
     "name": "stdout",
     "output_type": "stream",
     "text": [
      "12\n",
      "8\n",
      "10\n"
     ]
    }
   ],
   "source": [
    "X = sorted(A[:])\n",
    "diff_all = abs(max(0, X[-1]) - min(0, X[0]))\n",
    "diff = [A[i + 1] -]\n",
    "\n",
    "for v in A:\n",
    "    ans = dif_a * 2\n",
    "    if v == l:\n",
    "        ans -= dif_l * 2\n",
    "    if v == r:\n",
    "        ans -= dif_r * 2\n",
    "    print(ans)"
   ]
  },
  {
   "cell_type": "code",
   "execution_count": 270,
   "metadata": {},
   "outputs": [
    {
     "data": {
      "text/plain": [
       "(6, -1, 2)"
      ]
     },
     "execution_count": 270,
     "metadata": {},
     "output_type": "execute_result"
    }
   ],
   "source": [
    "dif_a, dif_l, dif_r"
   ]
  },
  {
   "cell_type": "markdown",
   "metadata": {},
   "source": [
    "# 91 - C\n",
    "\n",
    "https://atcoder.jp/contests/abc091/tasks/arc092_a"
   ]
  },
  {
   "cell_type": "code",
   "execution_count": 298,
   "metadata": {},
   "outputs": [],
   "source": [
    "N = 3\n",
    "x = [[2, 0], [3, 1], [1, 3]]\n",
    "y = [[4, 2], [0, 4], [5, 5]]"
   ]
  },
  {
   "cell_type": "code",
   "execution_count": 299,
   "metadata": {},
   "outputs": [
    {
     "name": "stdout",
     "output_type": "stream",
     "text": [
      "2\n"
     ]
    }
   ],
   "source": [
    "x = sorted(x, key=lambda x: -x[1])\n",
    "y = sorted(y)\n",
    "cnt = 0\n",
    "for c, d in y:\n",
    "    for a, b in x:\n",
    "        if a < c and b < d:\n",
    "            x.remove([a, b])\n",
    "            cnt += 1\n",
    "            break\n",
    "\n",
    "print(cnt)"
   ]
  },
  {
   "cell_type": "markdown",
   "metadata": {},
   "source": [
    "#### 以下，どちらのソートが正しいのか検証する"
   ]
  },
  {
   "cell_type": "code",
   "execution_count": 302,
   "metadata": {},
   "outputs": [
    {
     "name": "stdout",
     "output_type": "stream",
     "text": [
      "[[4, 8], [1, 6], [7, 3], [2, 2], [0, 0]]\n",
      "[[3, 7], [5, 4], [6, 9], [8, 5], [9, 1]]\n",
      "0 [1, 6] [3, 7]\n",
      "1 [2, 2] [5, 4]\n",
      "2 [4, 8] [6, 9]\n",
      "3 [7, 3] [8, 5]\n",
      "4 [0, 0] [9, 1]\n",
      "5\n"
     ]
    }
   ],
   "source": [
    "N = 5\n",
    "x = [[0, 0], [7, 3], [2, 2], [4, 8], [1, 6]]\n",
    "y = [[8, 5], [6, 9], [5, 4], [9, 1], [3, 7]]\n",
    "x = sorted(x, key=lambda x: -x[1])\n",
    "y = sorted(y)\n",
    "print(x)\n",
    "print(y)\n",
    "\n",
    "cnt = 0\n",
    "for c, d in y:\n",
    "    for a, b in x:\n",
    "        if a < c and b < d:\n",
    "            print(cnt, [a, b], [c, d])\n",
    "            x.remove([a, b])\n",
    "            cnt += 1\n",
    "            break\n",
    "\n",
    "print(cnt)"
   ]
  },
  {
   "cell_type": "markdown",
   "metadata": {},
   "source": [
    "#### y（青点）がX軸に沿ってソートされているので，\n",
    "#### x（赤点）はy軸に沿ってソートされないと，\n",
    "#### 2次元の頂点がわからソート出来ていない"
   ]
  },
  {
   "cell_type": "code",
   "execution_count": 303,
   "metadata": {},
   "outputs": [
    {
     "name": "stdout",
     "output_type": "stream",
     "text": [
      "[[7, 3], [4, 8], [2, 2], [1, 6], [0, 0]]\n",
      "[[3, 7], [5, 4], [6, 9], [8, 5], [9, 1]]\n",
      "0 [2, 2] [3, 7]\n",
      "1 [0, 0] [5, 4]\n",
      "2 [4, 8] [6, 9]\n",
      "3 [7, 3] [8, 5]\n",
      "4\n"
     ]
    }
   ],
   "source": [
    "N = 5\n",
    "x = [[0, 0], [7, 3], [2, 2], [4, 8], [1, 6]]\n",
    "y = [[8, 5], [6, 9], [5, 4], [9, 1], [3, 7]]\n",
    "x = sorted(x, reverse=True)\n",
    "y = sorted(y)\n",
    "print(x)\n",
    "print(y)\n",
    "\n",
    "cnt = 0\n",
    "for c, d in y:\n",
    "    for a, b in x:\n",
    "        if a < c and b < d:\n",
    "            print(cnt, [a, b], [c, d])\n",
    "            x.remove([a, b])\n",
    "            cnt += 1\n",
    "            break\n",
    "\n",
    "print(cnt)"
   ]
  },
  {
   "cell_type": "markdown",
   "metadata": {},
   "source": [
    "# 90 - C\n",
    "\n",
    "https://atcoder.jp/contests/abc090/tasks/arc091_a"
   ]
  },
  {
   "cell_type": "code",
   "execution_count": 324,
   "metadata": {},
   "outputs": [],
   "source": [
    "N, M = 1, 7"
   ]
  },
  {
   "cell_type": "code",
   "execution_count": 325,
   "metadata": {},
   "outputs": [
    {
     "name": "stdout",
     "output_type": "stream",
     "text": [
      "5\n"
     ]
    }
   ],
   "source": [
    "print(abs((N - 2) * (M - 2)))"
   ]
  },
  {
   "cell_type": "code",
   "execution_count": 326,
   "metadata": {},
   "outputs": [],
   "source": [
    "N, M = 314, 1592"
   ]
  },
  {
   "cell_type": "code",
   "execution_count": 327,
   "metadata": {},
   "outputs": [
    {
     "name": "stdout",
     "output_type": "stream",
     "text": [
      "496080\n"
     ]
    }
   ],
   "source": [
    "print(abs((N - 2) * (M - 2)))"
   ]
  },
  {
   "cell_type": "code",
   "execution_count": null,
   "metadata": {},
   "outputs": [],
   "source": []
  },
  {
   "cell_type": "code",
   "execution_count": null,
   "metadata": {},
   "outputs": [],
   "source": []
  },
  {
   "cell_type": "code",
   "execution_count": null,
   "metadata": {},
   "outputs": [],
   "source": []
  },
  {
   "cell_type": "code",
   "execution_count": null,
   "metadata": {},
   "outputs": [],
   "source": []
  },
  {
   "cell_type": "code",
   "execution_count": null,
   "metadata": {},
   "outputs": [],
   "source": []
  },
  {
   "cell_type": "code",
   "execution_count": null,
   "metadata": {},
   "outputs": [],
   "source": []
  }
 ],
 "metadata": {
  "kernelspec": {
   "display_name": "Python 3",
   "language": "python",
   "name": "python3"
  },
  "language_info": {
   "codemirror_mode": {
    "name": "ipython",
    "version": 3
   },
   "file_extension": ".py",
   "mimetype": "text/x-python",
   "name": "python",
   "nbconvert_exporter": "python",
   "pygments_lexer": "ipython3",
   "version": "3.7.3"
  }
 },
 "nbformat": 4,
 "nbformat_minor": 2
}
