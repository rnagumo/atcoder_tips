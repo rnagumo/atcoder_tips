{
 "cells": [
  {
   "cell_type": "markdown",
   "metadata": {},
   "source": [
    "# 89 - C\n",
    "\n",
    "https://atcoder.jp/contests/abc089/tasks/abc089_c\n",
    "\n",
    "MARCHから始まる名前，3人，重複無し"
   ]
  },
  {
   "cell_type": "code",
   "execution_count": 29,
   "metadata": {},
   "outputs": [],
   "source": [
    "N = 5\n",
    "s = \"\"\"MASHIKE\n",
    "RUMOI\n",
    "OBIRA\n",
    "HABORO\n",
    "HOROKANAI\"\"\"\n",
    "s = s.split('\\n')"
   ]
  },
  {
   "cell_type": "code",
   "execution_count": 36,
   "metadata": {},
   "outputs": [
    {
     "name": "stdout",
     "output_type": "stream",
     "text": [
      "0 1 2\n",
      "0 1 3\n",
      "0 1 4\n",
      "0 2 3\n",
      "0 2 4\n",
      "0 3 4\n",
      "1 2 3\n",
      "1 2 4\n",
      "1 3 4\n",
      "2 3 4\n"
     ]
    }
   ],
   "source": [
    "from itertools import combinations\n",
    "\n",
    "ans = 0\n",
    "for x, y, z in combinations(range(5), 3):\n",
    "    print(x, y, z)"
   ]
  },
  {
   "cell_type": "code",
   "execution_count": null,
   "metadata": {},
   "outputs": [],
   "source": [
    "from itertools import combinations\n",
    "\n",
    "N = int(input())\n",
    "s = [input() for _ in range(N)]\n",
    "\n",
    "cnt = [sum(v[0] == c for v in s) for c in 'MARCH']\n",
    "ans = sum(cnt[i] * cnt[j] * cnt[k] for i, j, k in combinations(range(5), 3))\n",
    "print(ans)\n"
   ]
  },
  {
   "cell_type": "code",
   "execution_count": 43,
   "metadata": {},
   "outputs": [
    {
     "name": "stdout",
     "output_type": "stream",
     "text": [
      "2\n"
     ]
    }
   ],
   "source": [
    "from itertools import combinations\n",
    "from collections import Counter\n",
    "\n",
    "c = Counter([v[0] for v in s])\n",
    "ans = sum(c[i] * c[j] * c[k] for i, j, k in combinations('MARCH', 3))\n",
    "print(ans)"
   ]
  },
  {
   "cell_type": "markdown",
   "metadata": {},
   "source": [
    "# 88 - C\n",
    "\n",
    "https://atcoder.jp/contests/abc088/tasks/abc088_c"
   ]
  },
  {
   "cell_type": "code",
   "execution_count": 46,
   "metadata": {},
   "outputs": [
    {
     "data": {
      "text/plain": [
       "True"
      ]
     },
     "execution_count": 46,
     "metadata": {},
     "output_type": "execute_result"
    }
   ],
   "source": [
    "c = [[1, 0, 1], [2, 1, 2], [1, 0, 1]]\n",
    "d = [list(v[i + 1] - v[i] for i in range(2)) for v in c]\n",
    "d[0] == d[1] == d[2]"
   ]
  },
  {
   "cell_type": "markdown",
   "metadata": {},
   "source": [
    "# 87 - C\n",
    "\n",
    "https://atcoder.jp/contests/abc087/tasks/arc090_a"
   ]
  },
  {
   "cell_type": "code",
   "execution_count": 84,
   "metadata": {},
   "outputs": [],
   "source": [
    "N = 5\n",
    "x = [3, 2, 2, 4, 1]\n",
    "y = [1, 2, 2, 2, 1]"
   ]
  },
  {
   "cell_type": "code",
   "execution_count": 87,
   "metadata": {},
   "outputs": [
    {
     "name": "stdout",
     "output_type": "stream",
     "text": [
      "[3, 1, 2, 2, 2, 1]\n",
      "[3, 2, 2, 2, 2, 1]\n",
      "[3, 2, 2, 2, 2, 1]\n",
      "[3, 2, 2, 4, 2, 1]\n",
      "[3, 2, 2, 4, 1, 1]\n"
     ]
    }
   ],
   "source": [
    "for i in range(N):\n",
    "    print(x[:i + 1] + y[i:])"
   ]
  },
  {
   "cell_type": "code",
   "execution_count": 82,
   "metadata": {},
   "outputs": [
    {
     "name": "stdout",
     "output_type": "stream",
     "text": [
      "20\n"
     ]
    }
   ],
   "source": [
    "print(max([v + w for v, w in zip(x, y)]))"
   ]
  },
  {
   "cell_type": "markdown",
   "metadata": {},
   "source": [
    "# 86 - C\n",
    "\n",
    "https://atcoder.jp/contests/abc086/tasks/arc089_a"
   ]
  },
  {
   "cell_type": "code",
   "execution_count": null,
   "metadata": {},
   "outputs": [],
   "source": [
    "N = int(input())\n",
    "X = [[0, 0, 0]] + [list(map(int, input().split())) for _ in range(N)]\n",
    "ans = []\n",
    "for i in range(N):\n",
    "    tme = X[i + 1][0] - X[i][0]\n",
    "    cor = abs(X[i + 1][1] - X[i][1]) + abs(X[i + 1][2] - X[i][2])\n",
    "    ans.append(max(tme - cor, -1) % 2 == 0)\n",
    "print('Yes' if all(ans) else 'No')"
   ]
  },
  {
   "cell_type": "markdown",
   "metadata": {},
   "source": [
    "#### こちらの方が，可読性が良い"
   ]
  },
  {
   "cell_type": "code",
   "execution_count": null,
   "metadata": {},
   "outputs": [],
   "source": [
    "ans = []\n",
    "for i in range(N):\n",
    "    tme = X[i + 1][0] - X[i][0]\n",
    "    cor = abs(X[i + 1][1] - X[i][1]) + abs(X[i + 1][2] - X[i][2])\n",
    "    ans.append(tme >= cor and tme % 2 == cor % 2)\n",
    "print('Yes' if all(ans) else 'No')"
   ]
  },
  {
   "cell_type": "markdown",
   "metadata": {},
   "source": [
    "# 85 - C\n",
    "\n",
    "https://atcoder.jp/contests/abc085/tasks/abc085_c"
   ]
  },
  {
   "cell_type": "code",
   "execution_count": 91,
   "metadata": {},
   "outputs": [],
   "source": [
    "N, Y = 2, 2000"
   ]
  },
  {
   "cell_type": "markdown",
   "metadata": {},
   "source": [
    "#### 純粋な深さ優先探索だと，O(N^3)で間に合わない"
   ]
  },
  {
   "cell_type": "code",
   "execution_count": 104,
   "metadata": {},
   "outputs": [
    {
     "name": "stdout",
     "output_type": "stream",
     "text": [
      "(0, 0, 2)\n"
     ]
    }
   ],
   "source": [
    "def dfs(x, y, z):\n",
    "    if x + y + z == N:\n",
    "        if Y == 10000 * x + 5000 * y + 1000 * z:\n",
    "            return x, y, z\n",
    "        else:\n",
    "            return -1, -1, -1\n",
    "\n",
    "    c1 = dfs(x + 1, y, z)\n",
    "    if sum(c1) == N:\n",
    "        return c1\n",
    "    \n",
    "    c2 = dfs(x, y + 1, z)\n",
    "    if sum(c2) == N:\n",
    "        return c2\n",
    "    \n",
    "    c3 = dfs(x, y, z + 1)\n",
    "    if sum(c3) == N:\n",
    "        return c3\n",
    "    \n",
    "    return x, y, z\n",
    "    \n",
    "print(dfs(0, 0, 0))"
   ]
  },
  {
   "cell_type": "markdown",
   "metadata": {},
   "source": [
    "#### z = N - x - yであることを使えば，二重ループに出来てO(N^2)で解ける"
   ]
  },
  {
   "cell_type": "code",
   "execution_count": 107,
   "metadata": {},
   "outputs": [
    {
     "name": "stdout",
     "output_type": "stream",
     "text": [
      "0 0 2\n"
     ]
    }
   ],
   "source": [
    "ans = [-1, -1, -1]\n",
    "for x in range(N + 1):\n",
    "    for y in range(N - x + 1):\n",
    "        if x + y <= N and 10000 * x + 5000 * y + 1000 * (N - x - y) == Y:\n",
    "            ans = [x, y, N - x - y]\n",
    "            \n",
    "print(*ans)"
   ]
  },
  {
   "cell_type": "markdown",
   "metadata": {},
   "source": [
    "# 84 - C\n",
    "\n",
    "https://atcoder.jp/contests/abc084/tasks/abc084_c"
   ]
  },
  {
   "cell_type": "code",
   "execution_count": 111,
   "metadata": {},
   "outputs": [],
   "source": [
    "N = 4\n",
    "X = [[12, 24, 6], [52, 16, 4], [99, 2, 2]]"
   ]
  },
  {
   "cell_type": "code",
   "execution_count": 131,
   "metadata": {},
   "outputs": [
    {
     "name": "stdout",
     "output_type": "stream",
     "text": [
      "187\n",
      "167\n",
      "101\n",
      "0\n"
     ]
    }
   ],
   "source": [
    "ans = []\n",
    "for i in range(N - 1):\n",
    "    cnt = 0\n",
    "    for j in range(i, N - 1):\n",
    "        if cnt < X[j][1]:\n",
    "            st = X[j][1]\n",
    "        elif cnt % X[j][2] == 0:\n",
    "            st = cnt\n",
    "        else:\n",
    "            st = cnt + X[j][2] - (cnt % X[j][2])\n",
    "        cnt = st + X[j][0]\n",
    "    ans.append(cnt)\n",
    "        \n",
    "print(*ans, 0, sep='\\n')"
   ]
  },
  {
   "cell_type": "code",
   "execution_count": 133,
   "metadata": {},
   "outputs": [
    {
     "name": "stdout",
     "output_type": "stream",
     "text": [
      "187\n",
      "167\n",
      "101\n",
      "0\n"
     ]
    }
   ],
   "source": [
    "import math\n",
    "for i in range(N):\n",
    "    t = 0\n",
    "    for c, s, f in X[i:]:\n",
    "        t = math.ceil(max(t, s) /f) * f + c\n",
    "    print(t)"
   ]
  },
  {
   "cell_type": "markdown",
   "metadata": {},
   "source": [
    "# 83 - C\n",
    "\n",
    "https://atcoder.jp/contests/abc083/tasks/arc088_a"
   ]
  },
  {
   "cell_type": "code",
   "execution_count": 134,
   "metadata": {},
   "outputs": [
    {
     "name": "stdout",
     "output_type": "stream",
     "text": [
      "3\n"
     ]
    }
   ],
   "source": [
    "X, Y = 25, 100\n",
    "\n",
    "ans = 1\n",
    "while X * 2 ** ans <= Y:\n",
    "    ans += 1\n",
    "print(ans)"
   ]
  },
  {
   "cell_type": "markdown",
   "metadata": {},
   "source": [
    "# 82 - C\n",
    "\n",
    "https://atcoder.jp/contests/abc082/tasks/arc087_a"
   ]
  },
  {
   "cell_type": "code",
   "execution_count": 135,
   "metadata": {},
   "outputs": [],
   "source": [
    "from collections import Counter\n",
    "\n",
    "N = 4\n",
    "a = [3, 3, 3, 3]"
   ]
  },
  {
   "cell_type": "code",
   "execution_count": 149,
   "metadata": {},
   "outputs": [
    {
     "name": "stdout",
     "output_type": "stream",
     "text": [
      "1\n"
     ]
    }
   ],
   "source": [
    "c = Counter(a)\n",
    "ans = 0\n",
    "for v in c:\n",
    "    if v > c[v]:\n",
    "        ans += c[v]\n",
    "    else:\n",
    "        ans += c[v] - v\n",
    "print(ans)"
   ]
  },
  {
   "cell_type": "code",
   "execution_count": 151,
   "metadata": {},
   "outputs": [
    {
     "name": "stdout",
     "output_type": "stream",
     "text": [
      "1\n"
     ]
    }
   ],
   "source": [
    "c = Counter(a)\n",
    "print(sum(c[v] if v > c[v] else c[v] - v for v in c))"
   ]
  },
  {
   "cell_type": "markdown",
   "metadata": {},
   "source": [
    "# 81 - C\n",
    "\n",
    "https://atcoder.jp/contests/abc081/tasks/arc086_a"
   ]
  },
  {
   "cell_type": "code",
   "execution_count": 164,
   "metadata": {},
   "outputs": [],
   "source": [
    "from collections import Counter\n",
    "N, K = 5, 2\n",
    "A = [1, 1, 2, 2, 5]\n",
    "\n",
    "c = Counter(A).most_common()\n",
    "c.sort(key=lambda x: x[1])"
   ]
  },
  {
   "cell_type": "code",
   "execution_count": 163,
   "metadata": {},
   "outputs": [
    {
     "name": "stdout",
     "output_type": "stream",
     "text": [
      "1\n"
     ]
    }
   ],
   "source": [
    "ans = 0\n",
    "while len(c) > K:\n",
    "    ans += c.pop(0)[1]\n",
    "print(ans)"
   ]
  },
  {
   "cell_type": "markdown",
   "metadata": {},
   "source": [
    "#### 上はあまり綺麗ではない"
   ]
  },
  {
   "cell_type": "code",
   "execution_count": 179,
   "metadata": {},
   "outputs": [
    {
     "data": {
      "text/plain": [
       "[1, 2, 2, 2, 3]"
      ]
     },
     "execution_count": 179,
     "metadata": {},
     "output_type": "execute_result"
    }
   ],
   "source": [
    "from collections import Counter\n",
    "N, K = 10, 3\n",
    "A = [5, 1, 3, 2, 4, 1, 1, 2, 3, 4]\n",
    "\n",
    "sorted(Counter(A).values())"
   ]
  },
  {
   "cell_type": "code",
   "execution_count": 178,
   "metadata": {},
   "outputs": [
    {
     "data": {
      "text/plain": [
       "[1, 2]"
      ]
     },
     "execution_count": 178,
     "metadata": {},
     "output_type": "execute_result"
    }
   ],
   "source": [
    "sorted(Counter(A).values())[:-K]"
   ]
  },
  {
   "cell_type": "markdown",
   "metadata": {},
   "source": [
    "# 80 - C\n",
    "\n",
    "https://atcoder.jp/contests/abc080/tasks/abc080_c"
   ]
  },
  {
   "cell_type": "code",
   "execution_count": 226,
   "metadata": {},
   "outputs": [],
   "source": [
    "N = 1\n",
    "s1 = '1 1 0 1 0 0 0 1 0 1'\n",
    "s2 = '3 4 5 6 7 8 9 -2 -3 4 -2'\n",
    "F = [int(s1.replace(' ', ''), 2)]\n",
    "P = [list(map(int, s2.split()))]"
   ]
  },
  {
   "cell_type": "code",
   "execution_count": 227,
   "metadata": {},
   "outputs": [
    {
     "name": "stdout",
     "output_type": "stream",
     "text": [
      "8\n"
     ]
    }
   ],
   "source": [
    "rev = []\n",
    "for i in range(1, 2 ** 10):\n",
    "    cnt = [list(bin(i & v)[2:]).count('1') for v in F]\n",
    "    rev.append(sum([P[j][cnt[j]] for j in range(N)]))\n",
    "print(max(rev))"
   ]
  },
  {
   "cell_type": "code",
   "execution_count": 230,
   "metadata": {},
   "outputs": [
    {
     "name": "stdout",
     "output_type": "stream",
     "text": [
      "8\n"
     ]
    }
   ],
   "source": [
    "rev = []\n",
    "for i in range(1, 2 ** 10):\n",
    "    cnt = 0\n",
    "    for f, p in zip(F, P):\n",
    "        cnt += p[list(bin(i & f)[2:]).count('1')]\n",
    "    rev.append(cnt)\n",
    "print(max(rev))"
   ]
  },
  {
   "cell_type": "code",
   "execution_count": null,
   "metadata": {},
   "outputs": [],
   "source": []
  }
 ],
 "metadata": {
  "kernelspec": {
   "display_name": "Python 3",
   "language": "python",
   "name": "python3"
  },
  "language_info": {
   "codemirror_mode": {
    "name": "ipython",
    "version": 3
   },
   "file_extension": ".py",
   "mimetype": "text/x-python",
   "name": "python",
   "nbconvert_exporter": "python",
   "pygments_lexer": "ipython3",
   "version": "3.7.3"
  }
 },
 "nbformat": 4,
 "nbformat_minor": 2
}
