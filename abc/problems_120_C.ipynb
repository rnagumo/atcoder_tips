{
 "cells": [
  {
   "cell_type": "markdown",
   "metadata": {},
   "source": [
    "# 126 - C\n",
    "\n",
    "https://atcoder.jp/contests/abc126/tasks/abc126_c"
   ]
  },
  {
   "cell_type": "code",
   "execution_count": null,
   "metadata": {},
   "outputs": [],
   "source": [
    "N, K = map(int, input().split())"
   ]
  },
  {
   "cell_type": "code",
   "execution_count": 1,
   "metadata": {},
   "outputs": [],
   "source": [
    "N = 3\n",
    "K = 10"
   ]
  },
  {
   "cell_type": "code",
   "execution_count": 24,
   "metadata": {},
   "outputs": [
    {
     "data": {
      "text/plain": [
       "0.14583333333333334"
      ]
     },
     "execution_count": 24,
     "metadata": {},
     "output_type": "execute_result"
    }
   ],
   "source": [
    "from math import log2, ceil\n",
    "\n",
    "ans = 0\n",
    "max_pow = ceil(log2(K))\n",
    "for n in range(1, N + 1):\n",
    "    ans += 2 ** (max_pow - ceil(log2(K / n)))\n",
    "    \n",
    "ans / (N * 2 ** max_pow)"
   ]
  },
  {
   "cell_type": "code",
   "execution_count": 25,
   "metadata": {},
   "outputs": [],
   "source": [
    "N = 100000\n",
    "K = 5"
   ]
  },
  {
   "cell_type": "code",
   "execution_count": 36,
   "metadata": {},
   "outputs": [
    {
     "data": {
      "text/plain": [
       "0.99997375"
      ]
     },
     "execution_count": 36,
     "metadata": {},
     "output_type": "execute_result"
    }
   ],
   "source": [
    "from math import log2, ceil\n",
    "\n",
    "ans = 0\n",
    "max_pow = ceil(log2(K))\n",
    "for n in range(1, N + 1):\n",
    "    ans += 2 ** (max_pow - max(0, ceil(log2(K / n))))\n",
    "    \n",
    "print(ans / (N * 2 ** max_pow))"
   ]
  },
  {
   "cell_type": "code",
   "execution_count": 38,
   "metadata": {},
   "outputs": [
    {
     "name": "stdout",
     "output_type": "stream",
     "text": [
      "0.9999737499980839\n"
     ]
    }
   ],
   "source": [
    "ans = 0\n",
    "for n in range(1, N + 1):\n",
    "    x = 1 / N\n",
    "    while n < K:\n",
    "        n *= 2\n",
    "        x /= 2\n",
    "    ans += x\n",
    "print(ans)"
   ]
  },
  {
   "cell_type": "code",
   "execution_count": 39,
   "metadata": {},
   "outputs": [
    {
     "data": {
      "text/plain": [
       "0.99997375"
      ]
     },
     "execution_count": 39,
     "metadata": {},
     "output_type": "execute_result"
    }
   ],
   "source": [
    "from math import log2, ceil\n",
    "sum(2 ** (max_pow - max(0, ceil(log2(K / n)))) for n in range(1, N + 1)) / N / 2 ** ceil(log2(K))"
   ]
  },
  {
   "cell_type": "markdown",
   "metadata": {},
   "source": [
    "# 125 - C\n",
    "\n",
    "https://atcoder.jp/contests/abc125/tasks/abc125_c"
   ]
  },
  {
   "cell_type": "code",
   "execution_count": null,
   "metadata": {},
   "outputs": [],
   "source": [
    "N = int(input())\n",
    "a = list(map(int, input().split()))"
   ]
  },
  {
   "cell_type": "markdown",
   "metadata": {},
   "source": [
    "#### 計算量がO(n)"
   ]
  },
  {
   "cell_type": "code",
   "execution_count": 68,
   "metadata": {},
   "outputs": [
    {
     "name": "stdout",
     "output_type": "stream",
     "text": [
      "6\n"
     ]
    }
   ],
   "source": [
    "from math import gcd\n",
    "# from fractions import gcd\n",
    "from itertools import combinations, accumulate\n",
    "\n",
    "N = 3\n",
    "a = [12, 15, 18]\n",
    "\n",
    "l = set(gcd(x, y) for x, y in list(combinations(a, 2)))\n",
    "if 1 in l:\n",
    "    remove(1)\n",
    "print(max(l))"
   ]
  },
  {
   "cell_type": "markdown",
   "metadata": {},
   "source": [
    "#### 計算量が0(N * logA_1 + N * logA_N)"
   ]
  },
  {
   "cell_type": "code",
   "execution_count": 92,
   "metadata": {},
   "outputs": [
    {
     "name": "stdout",
     "output_type": "stream",
     "text": [
      "6\n"
     ]
    }
   ],
   "source": [
    "from math import gcd\n",
    "# from fractions import gcd\n",
    "from itertools import accumulate\n",
    "\n",
    "N = 3\n",
    "a = [12, 15, 18, 24, 36]\n",
    "\n",
    "b = list(accumulate([0] + a, gcd))\n",
    "c = list(accumulate([0] + a[::-1], gcd))\n",
    "l = list(gcd(s, t) for s, t in zip(b[:-1], c[::-1][1:]))\n",
    "print(max(l))"
   ]
  },
  {
   "cell_type": "markdown",
   "metadata": {},
   "source": [
    "前から"
   ]
  },
  {
   "cell_type": "code",
   "execution_count": 93,
   "metadata": {},
   "outputs": [
    {
     "data": {
      "text/plain": [
       "[0, 12, 3, 3, 3, 3]"
      ]
     },
     "execution_count": 93,
     "metadata": {},
     "output_type": "execute_result"
    }
   ],
   "source": [
    "list(accumulate([0] + a, gcd))"
   ]
  },
  {
   "cell_type": "code",
   "execution_count": 95,
   "metadata": {},
   "outputs": [
    {
     "data": {
      "text/plain": [
       "[0, 12, 3, 3, 3]"
      ]
     },
     "execution_count": 95,
     "metadata": {},
     "output_type": "execute_result"
    }
   ],
   "source": [
    "list(accumulate([0] + a, gcd))[:-1]"
   ]
  },
  {
   "cell_type": "markdown",
   "metadata": {},
   "source": [
    "後ろから"
   ]
  },
  {
   "cell_type": "code",
   "execution_count": 94,
   "metadata": {},
   "outputs": [
    {
     "data": {
      "text/plain": [
       "[0, 36, 12, 6, 3, 3]"
      ]
     },
     "execution_count": 94,
     "metadata": {},
     "output_type": "execute_result"
    }
   ],
   "source": [
    "list(accumulate([0] + a[::-1], gcd))"
   ]
  },
  {
   "cell_type": "code",
   "execution_count": 96,
   "metadata": {},
   "outputs": [
    {
     "data": {
      "text/plain": [
       "[3, 6, 12, 36, 0]"
      ]
     },
     "execution_count": 96,
     "metadata": {},
     "output_type": "execute_result"
    }
   ],
   "source": [
    "list(accumulate([0] + a[::-1], gcd))[::-1][1:]"
   ]
  },
  {
   "cell_type": "markdown",
   "metadata": {},
   "source": [
    "#### accumulate"
   ]
  },
  {
   "cell_type": "code",
   "execution_count": 78,
   "metadata": {},
   "outputs": [
    {
     "data": {
      "text/plain": [
       "[3, 4, 6, 6, 6, 9, 9, 9, 9, 9]"
      ]
     },
     "execution_count": 78,
     "metadata": {},
     "output_type": "execute_result"
    }
   ],
   "source": [
    "data = [3, 4, 6, 2, 1, 9, 0, 7, 5, 8]\n",
    "list(accumulate(data, max))"
   ]
  },
  {
   "cell_type": "code",
   "execution_count": 79,
   "metadata": {},
   "outputs": [
    {
     "data": {
      "text/plain": [
       "[3, 7, 13, 15, 16, 25, 25, 32, 37, 45]"
      ]
     },
     "execution_count": 79,
     "metadata": {},
     "output_type": "execute_result"
    }
   ],
   "source": [
    "from operator import add\n",
    "list(accumulate(data, add))"
   ]
  },
  {
   "cell_type": "markdown",
   "metadata": {},
   "source": [
    "# 124 - C\n",
    "\n",
    "https://atcoder.jp/contests/abc124/tasks/abc124_c"
   ]
  },
  {
   "cell_type": "code",
   "execution_count": 117,
   "metadata": {},
   "outputs": [
    {
     "name": "stdout",
     "output_type": "stream",
     "text": [
      "3\n"
     ]
    }
   ],
   "source": [
    "s = list(map(int, '10010010'))\n",
    "\n",
    "odd = s[0]\n",
    "even = abs(s[0] - 1)\n",
    "\n",
    "ans = 0\n",
    "for v in s[::2]:\n",
    "    if v != odd:\n",
    "        ans += 1\n",
    "        \n",
    "for v in s[1::2]:\n",
    "    if v != even:\n",
    "        ans += 1\n",
    "    \n",
    "print(ans)"
   ]
  },
  {
   "cell_type": "markdown",
   "metadata": {},
   "source": [
    "### 以下，他の解答例"
   ]
  },
  {
   "cell_type": "code",
   "execution_count": 120,
   "metadata": {},
   "outputs": [
    {
     "name": "stdout",
     "output_type": "stream",
     "text": [
      "3\n"
     ]
    }
   ],
   "source": [
    "s = '10010010'\n",
    "n = s[::2].count('1') + s[1::2].count('0')\n",
    "print(min(n, len(s) - n))"
   ]
  },
  {
   "cell_type": "code",
   "execution_count": 131,
   "metadata": {},
   "outputs": [
    {
     "name": "stdout",
     "output_type": "stream",
     "text": [
      "3\n"
     ]
    }
   ],
   "source": [
    "s = '10010010'\n",
    "n = len(s)\n",
    "a = sum((i % 2) ^ int(s[i]) for i in range(n))\n",
    "print(min(a, n - a))"
   ]
  },
  {
   "cell_type": "markdown",
   "metadata": {},
   "source": [
    "# 123 - C\n",
    "\n",
    "https://atcoder.jp/contests/abc123/tasks/abc123_c"
   ]
  },
  {
   "cell_type": "code",
   "execution_count": 221,
   "metadata": {},
   "outputs": [],
   "source": [
    "N, *x = [7, 3, 2, 4, 3, 5]"
   ]
  },
  {
   "cell_type": "code",
   "execution_count": 227,
   "metadata": {},
   "outputs": [],
   "source": [
    "N, *x = [10, 123, 123, 123, 123, 123]"
   ]
  },
  {
   "cell_type": "code",
   "execution_count": 206,
   "metadata": {},
   "outputs": [],
   "source": [
    "N, *x = [10000000007, 2, 3, 5, 7, 11]"
   ]
  },
  {
   "cell_type": "code",
   "execution_count": 212,
   "metadata": {},
   "outputs": [
    {
     "name": "stdout",
     "output_type": "stream",
     "text": [
      "ans:  975529666566238\n"
     ]
    }
   ],
   "source": [
    "N, *x = [975529666566234, 9, 1, 4, 6, 3]\n",
    "print('ans: ', 975529666566238)"
   ]
  },
  {
   "cell_type": "markdown",
   "metadata": {},
   "source": [
    "これでは，一部の問題で間違える  \n",
    "割り切れる時の対処を考えていない"
   ]
  },
  {
   "cell_type": "code",
   "execution_count": 228,
   "metadata": {},
   "outputs": [
    {
     "name": "stdout",
     "output_type": "stream",
     "text": [
      "5\n"
     ]
    }
   ],
   "source": [
    "print(5 + (N // min(x)))"
   ]
  },
  {
   "cell_type": "markdown",
   "metadata": {},
   "source": [
    "こちらが正解"
   ]
  },
  {
   "cell_type": "code",
   "execution_count": 229,
   "metadata": {},
   "outputs": [
    {
     "name": "stdout",
     "output_type": "stream",
     "text": [
      "5\n"
     ]
    }
   ],
   "source": [
    "print(5 + ((N - 1) // min(x)))"
   ]
  },
  {
   "cell_type": "markdown",
   "metadata": {},
   "source": [
    "以下，割り切れる時とそうでない時の挙動の違い"
   ]
  },
  {
   "cell_type": "markdown",
   "metadata": {},
   "source": [
    "6 / 2 = 3グループに分かれる"
   ]
  },
  {
   "cell_type": "code",
   "execution_count": 236,
   "metadata": {},
   "outputs": [
    {
     "name": "stdout",
     "output_type": "stream",
     "text": [
      "3\n",
      "2\n"
     ]
    }
   ],
   "source": [
    "N, *x = [6, 3, 2, 4, 3, 5]\n",
    "print((N) // min(x))\n",
    "print((N - 1) // min(x))"
   ]
  },
  {
   "cell_type": "markdown",
   "metadata": {},
   "source": [
    "5 / 2 ~ 2 + 1 → 3グループに分かれる"
   ]
  },
  {
   "cell_type": "code",
   "execution_count": 237,
   "metadata": {},
   "outputs": [
    {
     "name": "stdout",
     "output_type": "stream",
     "text": [
      "2\n",
      "2\n"
     ]
    }
   ],
   "source": [
    "N, *x = [5, 3, 2, 4, 3, 5]\n",
    "print((N) // min(x))\n",
    "print((N - 1) // min(x))"
   ]
  },
  {
   "cell_type": "markdown",
   "metadata": {},
   "source": [
    "# 122 - C\n",
    "\n",
    "https://atcoder.jp/contests/abc122/tasks/abc122_c"
   ]
  },
  {
   "cell_type": "code",
   "execution_count": 275,
   "metadata": {},
   "outputs": [],
   "source": [
    "N = 8\n",
    "Q = 3\n",
    "S = 'ACACTACG'\n",
    "L = [3, 2, 1]\n",
    "R = [7, 3, 8]"
   ]
  },
  {
   "cell_type": "markdown",
   "metadata": {},
   "source": [
    "#### この方法はナイーブな実装だが，計算量がQ^2になる．"
   ]
  },
  {
   "cell_type": "code",
   "execution_count": 246,
   "metadata": {},
   "outputs": [
    {
     "name": "stdout",
     "output_type": "stream",
     "text": [
      "2\n",
      "0\n",
      "3\n"
     ]
    }
   ],
   "source": [
    "for l, r in zip(L, R):\n",
    "    print(S[l - 1:r].count('AC'))"
   ]
  },
  {
   "cell_type": "code",
   "execution_count": 251,
   "metadata": {},
   "outputs": [
    {
     "name": "stdout",
     "output_type": "stream",
     "text": [
      "2\n",
      "0\n",
      "3\n"
     ]
    }
   ],
   "source": [
    "import re\n",
    "for l, r in zip(L, R):\n",
    "    print(len(re.findall('AC', S[l - 1:r])))"
   ]
  },
  {
   "cell_type": "markdown",
   "metadata": {},
   "source": [
    "#### 改良したい\n",
    "\n",
    "* \"AC\"の探索がO(N) ~ 10^5オーダーでかかる．\n",
    "* printループがO(Q) ~ 10^5オーダーでかかる．\n",
    "* listのスライスが，O(k) ~ O(N) in worst caseでかかる（kは要素数）．\n",
    "\n",
    "一方で，indexへのアクセスはO(1)である．これを用いる．"
   ]
  },
  {
   "cell_type": "code",
   "execution_count": 271,
   "metadata": {},
   "outputs": [
    {
     "data": {
      "text/plain": [
       "[1, 0, 1, 0, 0, 1, 0]"
      ]
     },
     "execution_count": 271,
     "metadata": {},
     "output_type": "execute_result"
    }
   ],
   "source": [
    "idx_list = [1 if S[i:i + 2] == 'AC' else 0 for i in range(len(S) - 1)]\n",
    "idx_list"
   ]
  },
  {
   "cell_type": "code",
   "execution_count": 276,
   "metadata": {},
   "outputs": [
    {
     "data": {
      "text/plain": [
       "[0, 1, 1, 2, 2, 2, 3, 3]"
      ]
     },
     "execution_count": 276,
     "metadata": {},
     "output_type": "execute_result"
    }
   ],
   "source": [
    "from itertools import accumulate\n",
    "from operator import add\n",
    "\n",
    "idx_list_cumsum = [0] + list(accumulate(idx_list, add))\n",
    "idx_list_cumsum"
   ]
  },
  {
   "cell_type": "code",
   "execution_count": 277,
   "metadata": {},
   "outputs": [
    {
     "name": "stdout",
     "output_type": "stream",
     "text": [
      "2\n",
      "0\n",
      "3\n"
     ]
    }
   ],
   "source": [
    "for l, r in zip(L, R):\n",
    "    print(idx_list_cumsum[r - 1] - idx_list_cumsum[l - 1])"
   ]
  },
  {
   "cell_type": "markdown",
   "metadata": {},
   "source": [
    "#### 中間生成物は要らない"
   ]
  },
  {
   "cell_type": "code",
   "execution_count": 280,
   "metadata": {},
   "outputs": [
    {
     "name": "stdout",
     "output_type": "stream",
     "text": [
      "2\n",
      "0\n",
      "3\n"
     ]
    }
   ],
   "source": [
    "list_ = [0]\n",
    "t = 0\n",
    "for i in range(N):\n",
    "    t += S.count('AC', i, i + 2)\n",
    "    list_.append(t)\n",
    "for l, r in zip(L, R):\n",
    "    print(list_[r - 1] - list_[l - 1])"
   ]
  },
  {
   "cell_type": "markdown",
   "metadata": {},
   "source": [
    "# 121 - C\n",
    "\n",
    "https://atcoder.jp/contests/abc121/tasks/abc121_c"
   ]
  },
  {
   "cell_type": "code",
   "execution_count": 306,
   "metadata": {},
   "outputs": [],
   "source": [
    "N = 2\n",
    "M = 5\n",
    "X = [[4, 9], [2, 4]]"
   ]
  },
  {
   "cell_type": "code",
   "execution_count": 293,
   "metadata": {},
   "outputs": [
    {
     "data": {
      "text/plain": [
       "[[0, 1000000.0, 1000000.0, 1000000.0, 1000000.0, 1000000.0],\n",
       " [0, 4, 8, 12, 16, 20],\n",
       " [0, 2, 4, 6, 8, 12]]"
      ]
     },
     "execution_count": 293,
     "metadata": {},
     "output_type": "execute_result"
    }
   ],
   "source": [
    "dp = [[1e6] * (M + 1) for _ in range(N + 1)]\n",
    "dp[0][0] = 0\n",
    "\n",
    "for i in range(N):\n",
    "    for j in range(M + 1):\n",
    "        if j <= B[i]:\n",
    "            dp[i + 1][j] = min(dp[i][j], dp[i + 1][j - 1] + A[i])\n",
    "        elif i > 0:\n",
    "            dp[i + 1][j] = min(dp[i][j], dp[i + 1][j - 1] + A[i - 1])\n",
    "dp"
   ]
  },
  {
   "cell_type": "markdown",
   "metadata": {},
   "source": [
    "#### これ，DPではありませんね．\n",
    "\n",
    "ソートの計算量がボトルネックになるので，O(N * logN)です"
   ]
  },
  {
   "cell_type": "code",
   "execution_count": 308,
   "metadata": {},
   "outputs": [],
   "source": [
    "N = 4\n",
    "M = 30\n",
    "X = [[6, 18], [2, 5], [3, 10], [7, 9]]\n",
    "X.sort()"
   ]
  },
  {
   "cell_type": "code",
   "execution_count": 313,
   "metadata": {},
   "outputs": [
    {
     "name": "stdout",
     "output_type": "stream",
     "text": [
      "10 25\n",
      "40 15\n"
     ]
    },
    {
     "data": {
      "text/plain": [
       "130"
      ]
     },
     "execution_count": 313,
     "metadata": {},
     "output_type": "execute_result"
    }
   ],
   "source": [
    "ans = 0\n",
    "res = M\n",
    "for v in X:\n",
    "    ans += v[0] * min(v[1], res)\n",
    "    res -= v[1]\n",
    "    if res <= 0:\n",
    "        break\n",
    "    print(ans, res)\n",
    "    \n",
    "ans"
   ]
  },
  {
   "cell_type": "markdown",
   "metadata": {},
   "source": [
    "以下を使うと，より簡潔になる\n",
    "\n",
    "N, M, *X = map(int, open(0).read().split())"
   ]
  },
  {
   "cell_type": "code",
   "execution_count": 316,
   "metadata": {},
   "outputs": [
    {
     "name": "stdout",
     "output_type": "stream",
     "text": [
      "130\n"
     ]
    }
   ],
   "source": [
    "N = 4\n",
    "M = 30\n",
    "X = [6, 18, 2, 5, 3, 10, 7, 9]\n",
    "\n",
    "ans = 0\n",
    "for i, j in sorted(zip(X[::2], X[1::2])):\n",
    "    ans += i * min(j, M)\n",
    "    M -= j\n",
    "    if M <= 0:\n",
    "        print(ans)\n",
    "        break"
   ]
  },
  {
   "cell_type": "markdown",
   "metadata": {},
   "source": [
    "# 120 - C\n",
    "\n",
    "https://atcoder.jp/contests/abc120/tasks/abc120_c"
   ]
  },
  {
   "cell_type": "code",
   "execution_count": 317,
   "metadata": {},
   "outputs": [
    {
     "name": "stdout",
     "output_type": "stream",
     "text": [
      "4\n"
     ]
    }
   ],
   "source": [
    "S = '0011'\n",
    "print(min(S.count('0'), S.count('1')) * 2)"
   ]
  },
  {
   "cell_type": "code",
   "execution_count": 318,
   "metadata": {},
   "outputs": [
    {
     "name": "stdout",
     "output_type": "stream",
     "text": [
      "12\n"
     ]
    }
   ],
   "source": [
    "S = '11011010001011'\n",
    "print(min(S.count('0'), S.count('1')) * 2)"
   ]
  },
  {
   "cell_type": "code",
   "execution_count": null,
   "metadata": {},
   "outputs": [],
   "source": []
  }
 ],
 "metadata": {
  "kernelspec": {
   "display_name": "Python 3",
   "language": "python",
   "name": "python3"
  },
  "language_info": {
   "codemirror_mode": {
    "name": "ipython",
    "version": 3
   },
   "file_extension": ".py",
   "mimetype": "text/x-python",
   "name": "python",
   "nbconvert_exporter": "python",
   "pygments_lexer": "ipython3",
   "version": "3.7.3"
  }
 },
 "nbformat": 4,
 "nbformat_minor": 2
}
