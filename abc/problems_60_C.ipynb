{
 "cells": [
  {
   "cell_type": "markdown",
   "metadata": {},
   "source": [
    "# 69 - C\n",
    "\n",
    "https://atcoder.jp/contests/abc069/tasks/arc080_a"
   ]
  },
  {
   "cell_type": "code",
   "execution_count": 12,
   "metadata": {},
   "outputs": [
    {
     "name": "stdout",
     "output_type": "stream",
     "text": [
      "ans: Yes\n"
     ]
    }
   ],
   "source": [
    "N = 3\n",
    "a = [1, 10, 100]\n",
    "\n",
    "print('ans: Yes')"
   ]
  },
  {
   "cell_type": "code",
   "execution_count": 15,
   "metadata": {},
   "outputs": [
    {
     "name": "stdout",
     "output_type": "stream",
     "text": [
      "Yes\n"
     ]
    }
   ],
   "source": [
    "ans = [0] * 4\n",
    "for v in a:\n",
    "    ans[v % 4] += 1\n",
    "\n",
    "if (ans[0] >= ans[1] + ans[3]) or (ans[0] == ans[1] + ans[3] - 1 and ans[2] == 0):\n",
    "    print('Yes')\n",
    "else:\n",
    "    print('No')"
   ]
  },
  {
   "cell_type": "markdown",
   "metadata": {},
   "source": [
    "#### 4になれる数が半分以上あれば良い"
   ]
  },
  {
   "cell_type": "code",
   "execution_count": 17,
   "metadata": {},
   "outputs": [
    {
     "name": "stdout",
     "output_type": "stream",
     "text": [
      "Yes\n"
     ]
    }
   ],
   "source": [
    "x, y = 0, 0\n",
    "for v in a:\n",
    "    if v % 4 == 0:\n",
    "        x += 1\n",
    "    elif v % 2 == 0:\n",
    "        y += 1\n",
    "        \n",
    "print('Yes' if (x + y // 2) >= N // 2 else 'No')"
   ]
  },
  {
   "cell_type": "markdown",
   "metadata": {},
   "source": [
    "# 68 - C\n",
    "\n",
    "https://atcoder.jp/contests/abc068/tasks/arc079_a"
   ]
  },
  {
   "cell_type": "code",
   "execution_count": 20,
   "metadata": {},
   "outputs": [],
   "source": [
    "N, M = 3, 2\n",
    "X = [[1, 2], [2, 3]]"
   ]
  },
  {
   "cell_type": "code",
   "execution_count": 30,
   "metadata": {},
   "outputs": [
    {
     "name": "stdout",
     "output_type": "stream",
     "text": [
      "POSSIBLE\n"
     ]
    }
   ],
   "source": [
    "l = set()\n",
    "r = set()\n",
    "for x, y in X:\n",
    "    if x == 1:\n",
    "        l.add(y)\n",
    "    if y == N:\n",
    "        r.add(x)\n",
    "        \n",
    "print('POSSIBLE' if len(l & r) > 0 else 'IMPOSSIBLE')"
   ]
  },
  {
   "cell_type": "markdown",
   "metadata": {},
   "source": [
    "# 67 - C\n",
    "\n",
    "https://atcoder.jp/contests/abc067/tasks/arc078_a"
   ]
  },
  {
   "cell_type": "code",
   "execution_count": 35,
   "metadata": {},
   "outputs": [
    {
     "data": {
      "text/plain": [
       "[1, 2, 3, 4, 5, 6]"
      ]
     },
     "execution_count": 35,
     "metadata": {},
     "output_type": "execute_result"
    }
   ],
   "source": [
    "N = 6\n",
    "a = list(range(1, 7))\n",
    "a"
   ]
  },
  {
   "cell_type": "markdown",
   "metadata": {},
   "source": [
    "#### 下の解法は O(N^2) なのでよろしくない"
   ]
  },
  {
   "cell_type": "code",
   "execution_count": 42,
   "metadata": {},
   "outputs": [
    {
     "name": "stdout",
     "output_type": "stream",
     "text": [
      "1\n"
     ]
    }
   ],
   "source": [
    "print(min(abs(sum(a[:i]) - sum(a[i:])) for i in range(1, N)))"
   ]
  },
  {
   "cell_type": "markdown",
   "metadata": {},
   "source": [
    "#### こちらだと間に合う"
   ]
  },
  {
   "cell_type": "code",
   "execution_count": 53,
   "metadata": {},
   "outputs": [
    {
     "name": "stdout",
     "output_type": "stream",
     "text": [
      "1\n"
     ]
    }
   ],
   "source": [
    "from itertools import accumulate\n",
    "\n",
    "x = list(accumulate(a[:-1]))\n",
    "y = list(accumulate(a[:0:-1]))[::-1]\n",
    "print(min(abs(i - j) for i, j in zip(x, y)))"
   ]
  },
  {
   "cell_type": "markdown",
   "metadata": {},
   "source": [
    "# 66 - C\n",
    "\n",
    "https://atcoder.jp/contests/abc066/tasks/arc077_a"
   ]
  },
  {
   "cell_type": "code",
   "execution_count": 54,
   "metadata": {},
   "outputs": [],
   "source": [
    "N = 4\n",
    "a = [1, 2, 3, 4]"
   ]
  },
  {
   "cell_type": "code",
   "execution_count": 79,
   "metadata": {},
   "outputs": [
    {
     "name": "stdout",
     "output_type": "stream",
     "text": [
      "4 2 1 3\n"
     ]
    }
   ],
   "source": [
    "b = a[1::2][::-1] + a[::2]\n",
    "if N % 2 == 0:\n",
    "    print(*b)\n",
    "else:\n",
    "    print(*b[::-1])"
   ]
  },
  {
   "cell_type": "code",
   "execution_count": 66,
   "metadata": {},
   "outputs": [],
   "source": [
    "N = 3\n",
    "a = [1, 2, 3]"
   ]
  },
  {
   "cell_type": "code",
   "execution_count": 73,
   "metadata": {},
   "outputs": [
    {
     "name": "stdout",
     "output_type": "stream",
     "text": [
      "3 1 2\n"
     ]
    }
   ],
   "source": [
    "b = a[1::2][::-1] + a[::2]\n",
    "if N % 2 == 0:\n",
    "    print(*b)\n",
    "else:\n",
    "    print(*b[::-1])"
   ]
  },
  {
   "cell_type": "markdown",
   "metadata": {},
   "source": [
    "#### もっと簡潔に"
   ]
  },
  {
   "cell_type": "code",
   "execution_count": 80,
   "metadata": {},
   "outputs": [
    {
     "data": {
      "text/plain": [
       "([4, 2], [1, 3])"
      ]
     },
     "execution_count": 80,
     "metadata": {},
     "output_type": "execute_result"
    }
   ],
   "source": [
    "N = 4\n",
    "a = [1, 2, 3, 4]\n",
    "a[::-2], a[N % 2::2]"
   ]
  },
  {
   "cell_type": "code",
   "execution_count": 85,
   "metadata": {},
   "outputs": [
    {
     "data": {
      "text/plain": [
       "([3, 1], [2])"
      ]
     },
     "execution_count": 85,
     "metadata": {},
     "output_type": "execute_result"
    }
   ],
   "source": [
    "N = 3\n",
    "a = [1, 2, 3]\n",
    "a[::-2], a[N % 2::2]"
   ]
  },
  {
   "cell_type": "markdown",
   "metadata": {},
   "source": [
    "# 65 - C\n",
    "\n",
    "https://atcoder.jp/contests/abc065/tasks/arc076_a"
   ]
  },
  {
   "cell_type": "code",
   "execution_count": 86,
   "metadata": {},
   "outputs": [
    {
     "name": "stdout",
     "output_type": "stream",
     "text": [
      "ans: 8\n"
     ]
    }
   ],
   "source": [
    "N, M = 2, 2\n",
    "print('ans: 8')"
   ]
  },
  {
   "cell_type": "code",
   "execution_count": 93,
   "metadata": {},
   "outputs": [
    {
     "name": "stdout",
     "output_type": "stream",
     "text": [
      "8\n"
     ]
    }
   ],
   "source": [
    "from math import factorial\n",
    "\n",
    "if N == M:\n",
    "    print(2 * factorial(N) * factorial(M) % (10 ** 9 + 7))\n",
    "elif abs(N - M) == 1:\n",
    "    print(factorial(N) * factorial(M) % (10 ** 9 + 7))\n",
    "else:\n",
    "    print(0)"
   ]
  },
  {
   "cell_type": "code",
   "execution_count": 94,
   "metadata": {},
   "outputs": [
    {
     "name": "stdout",
     "output_type": "stream",
     "text": [
      "8\n"
     ]
    }
   ],
   "source": [
    "from math import factorial\n",
    "\n",
    "print(max(2 - abs(N - M), 0) * factorial(N) * factorial(M) % (10 ** 9 + 7))"
   ]
  },
  {
   "cell_type": "markdown",
   "metadata": {},
   "source": [
    "# 64 - C\n",
    "\n",
    "https://atcoder.jp/contests/abc064/tasks/abc064_c"
   ]
  },
  {
   "cell_type": "code",
   "execution_count": 95,
   "metadata": {},
   "outputs": [],
   "source": [
    "N = 4\n",
    "a = list(map(int, '2100 2500 2700 2700'.split()))"
   ]
  },
  {
   "cell_type": "code",
   "execution_count": 100,
   "metadata": {},
   "outputs": [],
   "source": [
    "N = 5\n",
    "a = list(map(int, '1100 1900 2800 3200 3200'.split()))"
   ]
  },
  {
   "cell_type": "code",
   "execution_count": 102,
   "metadata": {},
   "outputs": [
    {
     "name": "stdout",
     "output_type": "stream",
     "text": [
      "ans: 1 1\n"
     ]
    }
   ],
   "source": [
    "N = 1\n",
    "a = list(map(int, '5000'.split()))\n",
    "\n",
    "print('ans: 1 1')"
   ]
  },
  {
   "cell_type": "code",
   "execution_count": 104,
   "metadata": {},
   "outputs": [
    {
     "name": "stdout",
     "output_type": "stream",
     "text": [
      "1 1\n"
     ]
    }
   ],
   "source": [
    "ans = set()\n",
    "over = 0\n",
    "for v in a:\n",
    "    v //= 400\n",
    "    if v < 8:\n",
    "        ans.add(v)\n",
    "    else:\n",
    "        over += 1\n",
    "print(max(len(ans), 1), len(ans) + over)"
   ]
  },
  {
   "cell_type": "code",
   "execution_count": null,
   "metadata": {},
   "outputs": [],
   "source": []
  },
  {
   "cell_type": "code",
   "execution_count": null,
   "metadata": {},
   "outputs": [],
   "source": []
  },
  {
   "cell_type": "code",
   "execution_count": null,
   "metadata": {},
   "outputs": [],
   "source": []
  },
  {
   "cell_type": "code",
   "execution_count": null,
   "metadata": {},
   "outputs": [],
   "source": []
  },
  {
   "cell_type": "code",
   "execution_count": null,
   "metadata": {},
   "outputs": [],
   "source": []
  }
 ],
 "metadata": {
  "kernelspec": {
   "display_name": "Python 3",
   "language": "python",
   "name": "python3"
  },
  "language_info": {
   "codemirror_mode": {
    "name": "ipython",
    "version": 3
   },
   "file_extension": ".py",
   "mimetype": "text/x-python",
   "name": "python",
   "nbconvert_exporter": "python",
   "pygments_lexer": "ipython3",
   "version": "3.7.3"
  }
 },
 "nbformat": 4,
 "nbformat_minor": 2
}
