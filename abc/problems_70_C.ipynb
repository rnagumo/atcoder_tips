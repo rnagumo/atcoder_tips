{
 "cells": [
  {
   "cell_type": "markdown",
   "metadata": {},
   "source": [
    "# 79 - C\n",
    "\n",
    "https://atcoder.jp/contests/abc079/tasks/abc079_c"
   ]
  },
  {
   "cell_type": "code",
   "execution_count": 3,
   "metadata": {},
   "outputs": [],
   "source": [
    "s = '1222'\n",
    "a, b, c, d = map(int, s)"
   ]
  },
  {
   "cell_type": "code",
   "execution_count": 6,
   "metadata": {},
   "outputs": [
    {
     "name": "stdout",
     "output_type": "stream",
     "text": [
      "1+2+2+2=7\n"
     ]
    }
   ],
   "source": [
    "ans = ''\n",
    "if a + b + c + d == 7:\n",
    "    ans = '{}+{}+{}+{}=7'\n",
    "elif a - b + c + d == 7:\n",
    "    ans = '{}-{}+{}+{}=7'\n",
    "elif a + b - c + d == 7:\n",
    "    ans = '{}+{}-{}+{}=7'\n",
    "elif a + b + c - d == 7:\n",
    "    ans = '{}+{}+{}-{}=7'\n",
    "elif a - b - c + d == 7:\n",
    "    ans = '{}-{}-{}+{}=7'\n",
    "elif a + b - c - d == 7:\n",
    "    ans = '{}+{}-{}-{}=7'\n",
    "elif a - b + c - d == 7:\n",
    "    ans = '{}-{}+{}-{}=7'\n",
    "elif a - b - c - d == 7:\n",
    "    ans = '{}-{}-{}-{}=7'\n",
    "    \n",
    "print(ans.format(a, b, c, d))"
   ]
  },
  {
   "cell_type": "markdown",
   "metadata": {},
   "source": [
    "数字1のk桁目のビットを取り出し，それと1との&を取ることで，+か-かを決めている"
   ]
  },
  {
   "cell_type": "code",
   "execution_count": 16,
   "metadata": {},
   "outputs": [
    {
     "name": "stdout",
     "output_type": "stream",
     "text": [
      "1+2+2+2=7\n"
     ]
    }
   ],
   "source": [
    "s = '1222'\n",
    "for i in range(8):\n",
    "    y = ''.join([s[k] + '+-'[i >> k & 1] for k in range(3)] + [s[-1]])\n",
    "    if eval(y) == 7:\n",
    "        print(y+'=7')\n",
    "        break"
   ]
  },
  {
   "cell_type": "markdown",
   "metadata": {},
   "source": [
    "# 78 - C\n",
    "\n",
    "https://atcoder.jp/contests/abc078/tasks/arc085_a"
   ]
  },
  {
   "cell_type": "code",
   "execution_count": 18,
   "metadata": {},
   "outputs": [
    {
     "data": {
      "text/plain": [
       "5866.666666666667"
      ]
     },
     "execution_count": 18,
     "metadata": {},
     "output_type": "execute_result"
    }
   ],
   "source": [
    "3800 * 4 / 3 + 800"
   ]
  },
  {
   "cell_type": "code",
   "execution_count": 20,
   "metadata": {},
   "outputs": [
    {
     "data": {
      "text/plain": [
       "18400"
      ]
     },
     "execution_count": 20,
     "metadata": {},
     "output_type": "execute_result"
    }
   ],
   "source": [
    "N, M = 10, 2\n",
    "(100 * (N - M) + 1900 * M) * 2 ** M"
   ]
  },
  {
   "cell_type": "markdown",
   "metadata": {},
   "source": [
    "# 77 - C\n",
    "\n",
    "https://atcoder.jp/contests/abc077/tasks/arc084_a"
   ]
  },
  {
   "cell_type": "code",
   "execution_count": 31,
   "metadata": {},
   "outputs": [],
   "source": [
    "from bisect import bisect_left, bisect_right\n",
    "\n",
    "N = 2\n",
    "A = [1, 5]\n",
    "B = [2, 4]\n",
    "C = [3, 6]\n",
    "\n",
    "A.sort()\n",
    "B.sort()"
   ]
  },
  {
   "cell_type": "code",
   "execution_count": 29,
   "metadata": {},
   "outputs": [
    {
     "name": "stdout",
     "output_type": "stream",
     "text": [
      "1 1 1\n",
      "1 1 1\n",
      "3\n"
     ]
    }
   ],
   "source": [
    "ans = 0\n",
    "for i in B:\n",
    "    ans += bisect_right(A, i) * (N - bisect_left(C, i))\n",
    "print(ans)"
   ]
  },
  {
   "cell_type": "code",
   "execution_count": 30,
   "metadata": {},
   "outputs": [
    {
     "name": "stdout",
     "output_type": "stream",
     "text": [
      "3\n"
     ]
    }
   ],
   "source": [
    "print(sum(bisect_right(A, i) * (N - bisect_left(C, i)) for i in B))"
   ]
  },
  {
   "cell_type": "markdown",
   "metadata": {},
   "source": [
    "# 76 - C\n",
    "\n",
    "https://atcoder.jp/contests/abc076/tasks/abc076_c"
   ]
  },
  {
   "cell_type": "code",
   "execution_count": 43,
   "metadata": {},
   "outputs": [],
   "source": [
    "s = '?tc????'\n",
    "t = 'coder'"
   ]
  },
  {
   "cell_type": "code",
   "execution_count": 45,
   "metadata": {},
   "outputs": [
    {
     "data": {
      "text/plain": [
       "[2]"
      ]
     },
     "execution_count": 45,
     "metadata": {},
     "output_type": "execute_result"
    }
   ],
   "source": [
    "cnd = []\n",
    "for i in range(len(s) - len(t) + 1):\n",
    "    if all(s[i + j] == t[j] or s[i + j] == '?' for j in range(len(t))):\n",
    "        cnd.append(i)\n",
    "cnd"
   ]
  },
  {
   "cell_type": "code",
   "execution_count": 55,
   "metadata": {},
   "outputs": [
    {
     "data": {
      "text/plain": [
       "['?tcoder']"
      ]
     },
     "execution_count": 55,
     "metadata": {},
     "output_type": "execute_result"
    }
   ],
   "source": [
    "x = [s[:k] + t + s[k + len(t):] for k in cnd]\n",
    "x"
   ]
  },
  {
   "cell_type": "code",
   "execution_count": 52,
   "metadata": {},
   "outputs": [
    {
     "data": {
      "text/plain": [
       "['atcoder']"
      ]
     },
     "execution_count": 52,
     "metadata": {},
     "output_type": "execute_result"
    }
   ],
   "source": [
    "x = [v.replace('?', 'a') for v in x]\n",
    "x"
   ]
  },
  {
   "cell_type": "markdown",
   "metadata": {},
   "source": [
    "#### 正規表現を使う"
   ]
  },
  {
   "cell_type": "code",
   "execution_count": 59,
   "metadata": {},
   "outputs": [
    {
     "name": "stdout",
     "output_type": "stream",
     "text": [
      "atcoder\n"
     ]
    }
   ],
   "source": [
    "import re\n",
    "\n",
    "s = '?tc????'.replace('?', '.')\n",
    "t = 'coder'\n",
    "n = len(t)\n",
    "for i in range(len(s) - n + 1):\n",
    "    if re.match(s[i:i + n], t):\n",
    "        s = s.replace('.', 'a')\n",
    "        print(s[:i] + t + s[i + n:])"
   ]
  },
  {
   "cell_type": "markdown",
   "metadata": {},
   "source": [
    "# 75 - C\n",
    "\n",
    "https://atcoder.jp/contests/abc075/tasks/abc075_c"
   ]
  },
  {
   "cell_type": "code",
   "execution_count": 1,
   "metadata": {},
   "outputs": [
    {
     "name": "stdout",
     "output_type": "stream",
     "text": [
      "ans: 4\n"
     ]
    }
   ],
   "source": [
    "N, M = 7, 7\n",
    "edges = [[1, 3], [2, 7], [3, 4], [4, 5], [4, 6], [5, 6], [6, 7]]\n",
    "\n",
    "print('ans: 4')"
   ]
  },
  {
   "cell_type": "markdown",
   "metadata": {},
   "source": [
    "以下の解答を参考にしたのだが，何をしているのか不明\n",
    "\n",
    "https://atcoder.jp/contests/abc075/submissions/2619139"
   ]
  },
  {
   "cell_type": "code",
   "execution_count": 67,
   "metadata": {},
   "outputs": [
    {
     "data": {
      "text/plain": [
       "4"
      ]
     },
     "execution_count": 67,
     "metadata": {},
     "output_type": "execute_result"
    }
   ],
   "source": [
    "cnt = 0\n",
    "for x in edges:\n",
    "    l = list(range(N))\n",
    "    for y in edges:\n",
    "        # Guarantee x & y as different edge\n",
    "        if x != y:\n",
    "            l = [l[y[0] - 1] if l[i] == l[y[1] - 1] else l[i] for i in range(N)]\n",
    "    if len(set(l)) != 1:\n",
    "        cnt += 1\n",
    "cnt"
   ]
  },
  {
   "cell_type": "markdown",
   "metadata": {},
   "source": [
    "#### 模範解答をPythonに書き換える"
   ]
  },
  {
   "cell_type": "markdown",
   "metadata": {},
   "source": [
    "#### 1. 隣接行列を用意する．"
   ]
  },
  {
   "cell_type": "code",
   "execution_count": 2,
   "metadata": {},
   "outputs": [
    {
     "data": {
      "text/plain": [
       "[[False, False, False, False, False, False, False],\n",
       " [False, False, False, False, False, False, False],\n",
       " [False, False, False, False, False, False, False],\n",
       " [False, False, False, False, False, False, False],\n",
       " [False, False, False, False, False, False, False],\n",
       " [False, False, False, False, False, False, False],\n",
       " [False, False, False, False, False, False, False]]"
      ]
     },
     "execution_count": 2,
     "metadata": {},
     "output_type": "execute_result"
    }
   ],
   "source": [
    "graph = [[False] * N for _ in range(N)]\n",
    "graph"
   ]
  },
  {
   "cell_type": "markdown",
   "metadata": {},
   "source": [
    "#### 2. 隣接行列でグラフを管理する"
   ]
  },
  {
   "cell_type": "code",
   "execution_count": 3,
   "metadata": {},
   "outputs": [
    {
     "data": {
      "text/plain": [
       "[[False, False, True, False, False, False, False],\n",
       " [False, False, False, False, False, False, True],\n",
       " [True, False, False, True, False, False, False],\n",
       " [False, False, True, False, True, True, False],\n",
       " [False, False, False, True, False, True, False],\n",
       " [False, False, False, True, True, False, True],\n",
       " [False, True, False, False, False, True, False]]"
      ]
     },
     "execution_count": 3,
     "metadata": {},
     "output_type": "execute_result"
    }
   ],
   "source": [
    "for a, b in edges:\n",
    "    graph[a - 1][b - 1] = True\n",
    "    graph[b - 1][a - 1] = True\n",
    "graph"
   ]
  },
  {
   "cell_type": "markdown",
   "metadata": {},
   "source": [
    "#### 3. 深さ優先探索\n",
    "\n",
    "連結の判定をする"
   ]
  },
  {
   "cell_type": "code",
   "execution_count": 20,
   "metadata": {},
   "outputs": [],
   "source": [
    "def dfs(v):\n",
    "    visited[v] = True\n",
    "    for v2 in range(N):\n",
    "        if not graph[v][v2]:\n",
    "            continue\n",
    "        if visited[v2]:\n",
    "            continue\n",
    "        dfs(v2)"
   ]
  },
  {
   "cell_type": "markdown",
   "metadata": {},
   "source": [
    "あるエッジ[a, b]を取り除いた時に，非連結グラフとなるかを総当りで確認する．  \n",
    "つまり，全てのノードをvisitedに出来るかを確認している．"
   ]
  },
  {
   "cell_type": "code",
   "execution_count": 21,
   "metadata": {},
   "outputs": [
    {
     "name": "stdout",
     "output_type": "stream",
     "text": [
      "4\n"
     ]
    }
   ],
   "source": [
    "ans = 0\n",
    "for a, b in edges:\n",
    "    graph[a - 1][b - 1] = False\n",
    "    graph[b - 1][a - 1] = False\n",
    "    visited = [False] * N\n",
    "    \n",
    "    dfs(0)\n",
    "    # print(visited)\n",
    "    \n",
    "    bridge = False\n",
    "    for i in range(N):\n",
    "        if not visited[i]:\n",
    "            bridge = True\n",
    "    if bridge:\n",
    "        ans += 1\n",
    "        \n",
    "    graph[a - 1][b - 1] = True\n",
    "    graph[b - 1][a - 1] = True\n",
    "    \n",
    "print(ans)"
   ]
  },
  {
   "cell_type": "markdown",
   "metadata": {},
   "source": [
    "# 74 - C\n",
    "\n",
    "https://atcoder.jp/contests/abc074/tasks/arc083_a"
   ]
  },
  {
   "cell_type": "code",
   "execution_count": 76,
   "metadata": {},
   "outputs": [],
   "source": [
    "s = '1 2 1 2 100 1000'\n",
    "A, B, C, D, E, F = map(int, s.split())"
   ]
  },
  {
   "cell_type": "markdown",
   "metadata": {},
   "source": [
    "最大の砂糖水"
   ]
  },
  {
   "cell_type": "code",
   "execution_count": 77,
   "metadata": {},
   "outputs": [],
   "source": [
    "water = [(A * i + B * j) * 100 for i in range(11) for j in range(11)][1:]\n",
    "sugar = [C * i + D * j for i in range(101) for j in range(101)]"
   ]
  },
  {
   "cell_type": "code",
   "execution_count": 79,
   "metadata": {},
   "outputs": [
    {
     "name": "stdout",
     "output_type": "stream",
     "text": [
      "400 200\n"
     ]
    }
   ],
   "source": [
    "ans = [100, 0]\n",
    "for w in water:\n",
    "    for s in sugar:\n",
    "        if w + s <= F and s / w * 100 <= E:\n",
    "            if s / (w + s) > ans[1] / ans[0]:\n",
    "                ans = [w + s, s]\n",
    "            \n",
    "print(*ans)"
   ]
  },
  {
   "cell_type": "code",
   "execution_count": null,
   "metadata": {},
   "outputs": [],
   "source": [
    "A, B, C, D, E, F = map(int, input().split())\n",
    "water = [(A * i + B * j) * 100 for i in range(11) for j in range(11)][1:]\n",
    "sugar = [C * i + D * j for i in range(101) for j in range(101)]\n",
    "\n",
    "ans = [100, 0]\n",
    "for w in water:\n",
    "    for s in sugar:\n",
    "        y = 100 * s / (w + s)\n",
    "        if w + s <= F and s / w * 100 <= E\n",
    "        and y > ans[1] / ans[0] * 100:\n",
    "            ans = [w + s, s]\n",
    "            \n",
    "print(*ans)"
   ]
  },
  {
   "cell_type": "markdown",
   "metadata": {},
   "source": [
    "# 73 - C\n",
    "\n",
    "https://atcoder.jp/contests/abc073/tasks/abc073_c"
   ]
  },
  {
   "cell_type": "code",
   "execution_count": 80,
   "metadata": {},
   "outputs": [
    {
     "name": "stdout",
     "output_type": "stream",
     "text": [
      "ans: 1\n"
     ]
    }
   ],
   "source": [
    "N = 3\n",
    "A = [6, 2, 6]\n",
    "\n",
    "print('ans: 1')"
   ]
  },
  {
   "cell_type": "code",
   "execution_count": 99,
   "metadata": {},
   "outputs": [
    {
     "name": "stdout",
     "output_type": "stream",
     "text": [
      "1\n"
     ]
    }
   ],
   "source": [
    "from collections import Counter\n",
    "\n",
    "print(sum([1 for v, c in Counter(A).most_common() if c % 2 == 1]))"
   ]
  },
  {
   "cell_type": "code",
   "execution_count": 102,
   "metadata": {},
   "outputs": [
    {
     "name": "stdout",
     "output_type": "stream",
     "text": [
      "{2}\n"
     ]
    }
   ],
   "source": [
    "s = set()\n",
    "for v in A:\n",
    "    s ^= {v}\n",
    "print(s)"
   ]
  },
  {
   "cell_type": "markdown",
   "metadata": {},
   "source": [
    "# 72 - C\n",
    "\n",
    "https://atcoder.jp/contests/abc072/tasks/arc082_a"
   ]
  },
  {
   "cell_type": "code",
   "execution_count": 157,
   "metadata": {},
   "outputs": [
    {
     "name": "stdout",
     "output_type": "stream",
     "text": [
      "ans: 4\n"
     ]
    }
   ],
   "source": [
    "N = 7\n",
    "a = list(map(int, '3 1 4 1 5 9 2'.split()))\n",
    "\n",
    "print('ans: 4')"
   ]
  },
  {
   "cell_type": "code",
   "execution_count": 159,
   "metadata": {},
   "outputs": [
    {
     "name": "stdout",
     "output_type": "stream",
     "text": [
      "4\n"
     ]
    }
   ],
   "source": [
    "cnt = [0] * (10 ** 5 + 2)\n",
    "\n",
    "for v in a:\n",
    "    cnt[v] += 1\n",
    "    cnt[v + 1] += 1\n",
    "    cnt[v + 2] += 1\n",
    "    \n",
    "print(max(cnt))"
   ]
  },
  {
   "cell_type": "code",
   "execution_count": 150,
   "metadata": {},
   "outputs": [
    {
     "name": "stdout",
     "output_type": "stream",
     "text": [
      "ans: 2\n"
     ]
    }
   ],
   "source": [
    "N = 1\n",
    "a = list(map(int, '1 2'.split()))\n",
    "\n",
    "print('ans: 2')"
   ]
  },
  {
   "cell_type": "markdown",
   "metadata": {},
   "source": [
    "# 72 - C\n",
    "\n",
    "https://atcoder.jp/contests/abc071/tasks/arc081_a"
   ]
  },
  {
   "cell_type": "code",
   "execution_count": 181,
   "metadata": {},
   "outputs": [],
   "source": [
    "N = 6\n",
    "A = map(int, '3 1 2 4 2 1'.split())"
   ]
  },
  {
   "cell_type": "code",
   "execution_count": 182,
   "metadata": {},
   "outputs": [
    {
     "data": {
      "text/plain": [
       "[[4, 0], [3, 0], [2, 1], [1, 1]]"
      ]
     },
     "execution_count": 182,
     "metadata": {},
     "output_type": "execute_result"
    }
   ],
   "source": [
    "from collections import Counter\n",
    "\n",
    "c = Counter(A).most_common()\n",
    "c = sorted([[i, j // 2] for i, j in c], reverse=True)\n",
    "c"
   ]
  },
  {
   "cell_type": "code",
   "execution_count": 184,
   "metadata": {},
   "outputs": [
    {
     "name": "stdout",
     "output_type": "stream",
     "text": [
      "2\n"
     ]
    }
   ],
   "source": [
    "ans = 1\n",
    "cnt = 0\n",
    "for i in range(len(c)):\n",
    "    a, v = c[i]\n",
    "    while v > 0:\n",
    "        ans *= a\n",
    "        cnt += 1\n",
    "        v -= 1\n",
    "        if cnt == 2:\n",
    "            break\n",
    "    if cnt == 2:\n",
    "        break\n",
    "            \n",
    "print(ans if cnt == 2 else 0)"
   ]
  },
  {
   "cell_type": "markdown",
   "metadata": {},
   "source": [
    "#### 下の方が，まだ綺麗"
   ]
  },
  {
   "cell_type": "code",
   "execution_count": 185,
   "metadata": {},
   "outputs": [],
   "source": [
    "N = 6\n",
    "A = map(int, '3 1 2 4 2 1'.split())"
   ]
  },
  {
   "cell_type": "code",
   "execution_count": 186,
   "metadata": {},
   "outputs": [
    {
     "name": "stdout",
     "output_type": "stream",
     "text": [
      "2\n"
     ]
    }
   ],
   "source": [
    "a = sorted(A, reverse=True)\n",
    "\n",
    "i = N - 1\n",
    "ans = 1\n",
    "cnt = 0\n",
    "while i > 0:\n",
    "    if a[i] == a[i - 1]:\n",
    "        i -= 1\n",
    "        ans *= a[i]\n",
    "        cnt += 1\n",
    "    if cnt == 2:\n",
    "        break\n",
    "    i -= 1\n",
    "    \n",
    "print(ans)"
   ]
  },
  {
   "cell_type": "markdown",
   "metadata": {},
   "source": [
    "# 70 - C\n",
    "\n",
    "https://atcoder.jp/contests/abc070/tasks/abc070_c"
   ]
  },
  {
   "cell_type": "code",
   "execution_count": 188,
   "metadata": {},
   "outputs": [
    {
     "name": "stdout",
     "output_type": "stream",
     "text": [
      "ans: 6\n"
     ]
    }
   ],
   "source": [
    "N = 2\n",
    "t = [2, 3]\n",
    "\n",
    "print('ans: 6')"
   ]
  },
  {
   "cell_type": "code",
   "execution_count": 192,
   "metadata": {},
   "outputs": [
    {
     "data": {
      "text/plain": [
       "6"
      ]
     },
     "execution_count": 192,
     "metadata": {},
     "output_type": "execute_result"
    }
   ],
   "source": [
    "from math import gcd\n",
    "from functools import reduce\n",
    "\n",
    "# Least Common Multiple\n",
    "def lcm(x, y):\n",
    "    return x * y // gcd(x, y)\n",
    "\n",
    "reduce(lcm, t)"
   ]
  },
  {
   "cell_type": "code",
   "execution_count": null,
   "metadata": {},
   "outputs": [],
   "source": []
  },
  {
   "cell_type": "code",
   "execution_count": null,
   "metadata": {},
   "outputs": [],
   "source": []
  },
  {
   "cell_type": "code",
   "execution_count": null,
   "metadata": {},
   "outputs": [],
   "source": []
  },
  {
   "cell_type": "code",
   "execution_count": null,
   "metadata": {},
   "outputs": [],
   "source": []
  }
 ],
 "metadata": {
  "kernelspec": {
   "display_name": "Python 3",
   "language": "python",
   "name": "python3"
  },
  "language_info": {
   "codemirror_mode": {
    "name": "ipython",
    "version": 3
   },
   "file_extension": ".py",
   "mimetype": "text/x-python",
   "name": "python",
   "nbconvert_exporter": "python",
   "pygments_lexer": "ipython3",
   "version": "3.7.3"
  }
 },
 "nbformat": 4,
 "nbformat_minor": 2
}
