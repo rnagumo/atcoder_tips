{
 "cells": [
  {
   "cell_type": "markdown",
   "metadata": {},
   "source": [
    "# 59 - C\n",
    "\n",
    "https://atcoder.jp/contests/abc059/tasks/arc072_a\n",
    "\n",
    "解けなかった．難しく考えすぎ"
   ]
  },
  {
   "cell_type": "code",
   "execution_count": 68,
   "metadata": {},
   "outputs": [
    {
     "name": "stdout",
     "output_type": "stream",
     "text": [
      "ans: 4\n"
     ]
    }
   ],
   "source": [
    "n = 4\n",
    "a = [1, -3, 1, 0]\n",
    "\n",
    "print('ans: 4')"
   ]
  },
  {
   "cell_type": "code",
   "execution_count": 69,
   "metadata": {},
   "outputs": [
    {
     "name": "stdout",
     "output_type": "stream",
     "text": [
      "4\n"
     ]
    }
   ],
   "source": [
    "results = []\n",
    "for sign in [1, -1]:\n",
    "    ans = 0\n",
    "    sum_ = 0\n",
    "    for v in a:\n",
    "        sum_ += v\n",
    "        if sum_ * sign <= 0:\n",
    "            ans += abs(sum_ - sign)\n",
    "            sum_ = sign\n",
    "        sign *= -1\n",
    "    results.append(ans)\n",
    "\n",
    "print(min(results))"
   ]
  },
  {
   "cell_type": "code",
   "execution_count": 72,
   "metadata": {},
   "outputs": [
    {
     "name": "stdout",
     "output_type": "stream",
     "text": [
      "ans: 0\n"
     ]
    }
   ],
   "source": [
    "n = 5\n",
    "a = [3, -6, 4, -5, 7]\n",
    "\n",
    "print('ans: 0')"
   ]
  },
  {
   "cell_type": "code",
   "execution_count": 80,
   "metadata": {},
   "outputs": [
    {
     "name": "stdout",
     "output_type": "stream",
     "text": [
      "[-1, 3, 6, 8, 3, 7]\n",
      "ans: 8\n"
     ]
    }
   ],
   "source": [
    "n = 6\n",
    "a = [-1, 4, 3, 2, -5, 4]\n",
    "\n",
    "print(list(accumulate(a)))\n",
    "print('ans: 8')"
   ]
  },
  {
   "cell_type": "code",
   "execution_count": 81,
   "metadata": {},
   "outputs": [
    {
     "name": "stdout",
     "output_type": "stream",
     "text": [
      "8\n"
     ]
    }
   ],
   "source": [
    "results = []\n",
    "for sign in [1, -1]:\n",
    "    ans = 0\n",
    "    acc = 0\n",
    "    for v in a:\n",
    "        acc += v\n",
    "        if acc * sign <= 0:\n",
    "            ans += abs(acc - sign)\n",
    "            acc = sign\n",
    "        sign *= -1\n",
    "    results.append(ans)\n",
    "\n",
    "print(min(results))"
   ]
  },
  {
   "cell_type": "markdown",
   "metadata": {},
   "source": [
    "# 58 - C\n",
    "\n",
    "https://atcoder.jp/contests/abc058/tasks/arc071_a"
   ]
  },
  {
   "cell_type": "code",
   "execution_count": 82,
   "metadata": {},
   "outputs": [],
   "source": [
    "n = 3\n",
    "s = ['cbaa', 'daacc', 'acacac']"
   ]
  },
  {
   "cell_type": "code",
   "execution_count": 89,
   "metadata": {},
   "outputs": [],
   "source": [
    "cnt = []\n",
    "for i in range(ord('a'), ord('z') + 1):\n",
    "     cnt.append(min(v.count(chr(i)) for v in s))"
   ]
  },
  {
   "cell_type": "code",
   "execution_count": 93,
   "metadata": {},
   "outputs": [
    {
     "name": "stdout",
     "output_type": "stream",
     "text": [
      "aac\n"
     ]
    }
   ],
   "source": [
    "ans = ''\n",
    "for i, v in enumerate(cnt):\n",
    "    ans += chr(97 + i) * v\n",
    "    \n",
    "print(ans)"
   ]
  },
  {
   "cell_type": "markdown",
   "metadata": {},
   "source": [
    "#### Counterを使った解答"
   ]
  },
  {
   "cell_type": "code",
   "execution_count": 94,
   "metadata": {},
   "outputs": [
    {
     "name": "stdout",
     "output_type": "stream",
     "text": [
      "aac\n"
     ]
    }
   ],
   "source": [
    "from collections import Counter\n",
    "\n",
    "c = Counter(s[0])\n",
    "for v in s[1:]:\n",
    "    c &= Counter(v)\n",
    "print(''.join(sorted(c.elements())))"
   ]
  },
  {
   "cell_type": "markdown",
   "metadata": {},
   "source": [
    "# 57 - C\n",
    "\n",
    "https://atcoder.jp/contests/abc057/tasks/abc057_c"
   ]
  },
  {
   "cell_type": "code",
   "execution_count": 140,
   "metadata": {},
   "outputs": [
    {
     "name": "stdout",
     "output_type": "stream",
     "text": [
      "ans: 6\n"
     ]
    }
   ],
   "source": [
    "N = 9876543210\n",
    "print('ans: 6')"
   ]
  },
  {
   "cell_type": "code",
   "execution_count": 119,
   "metadata": {},
   "outputs": [
    {
     "name": "stdout",
     "output_type": "stream",
     "text": [
      "ans: 2\n"
     ]
    }
   ],
   "source": [
    "N = 121\n",
    "print('ans: 2')"
   ]
  },
  {
   "cell_type": "code",
   "execution_count": 128,
   "metadata": {},
   "outputs": [
    {
     "name": "stdout",
     "output_type": "stream",
     "text": [
      "ans: 1\n"
     ]
    }
   ],
   "source": [
    "N = 1\n",
    "print('ans: 1')"
   ]
  },
  {
   "cell_type": "code",
   "execution_count": 133,
   "metadata": {},
   "outputs": [
    {
     "name": "stdout",
     "output_type": "stream",
     "text": [
      "1\n"
     ]
    }
   ],
   "source": [
    "ans = []\n",
    "for i in range(1, int(N ** 0.5) + 1):\n",
    "    if i * (N // i) == N:\n",
    "        ans.append(max(len(str(i)), len(str(N // i))))\n",
    "print(min(ans))"
   ]
  },
  {
   "cell_type": "markdown",
   "metadata": {},
   "source": [
    "掛け算の両者の桁数が小さくなれば良い．  \n",
    "最も桁数の小さいものは，sqrt同士の掛け算である．  \n",
    "従って，sqrtの値に近いもの同士の掛け算を求めれば良い．"
   ]
  },
  {
   "cell_type": "code",
   "execution_count": 142,
   "metadata": {},
   "outputs": [
    {
     "name": "stdout",
     "output_type": "stream",
     "text": [
      "6\n"
     ]
    }
   ],
   "source": [
    "v = round(N ** 0.5)\n",
    "while N % v != 0:\n",
    "    v -= 1\n",
    "print(len(str(N // v)))"
   ]
  },
  {
   "cell_type": "markdown",
   "metadata": {},
   "source": [
    "足していく方式でも同様の結果は得られるが，計算量が O(N) ~ 10^10 に近づくので間に合わない．"
   ]
  },
  {
   "cell_type": "code",
   "execution_count": 143,
   "metadata": {},
   "outputs": [
    {
     "name": "stdout",
     "output_type": "stream",
     "text": [
      "6\n"
     ]
    }
   ],
   "source": [
    "v = round(N ** 0.5)\n",
    "while N % v != 0:\n",
    "    v += 1\n",
    "print(len(str(v)))"
   ]
  },
  {
   "cell_type": "code",
   "execution_count": null,
   "metadata": {},
   "outputs": [],
   "source": []
  },
  {
   "cell_type": "code",
   "execution_count": null,
   "metadata": {},
   "outputs": [],
   "source": []
  },
  {
   "cell_type": "code",
   "execution_count": null,
   "metadata": {},
   "outputs": [],
   "source": []
  }
 ],
 "metadata": {
  "kernelspec": {
   "display_name": "Python 3",
   "language": "python",
   "name": "python3"
  },
  "language_info": {
   "codemirror_mode": {
    "name": "ipython",
    "version": 3
   },
   "file_extension": ".py",
   "mimetype": "text/x-python",
   "name": "python",
   "nbconvert_exporter": "python",
   "pygments_lexer": "ipython3",
   "version": "3.7.3"
  }
 },
 "nbformat": 4,
 "nbformat_minor": 2
}
